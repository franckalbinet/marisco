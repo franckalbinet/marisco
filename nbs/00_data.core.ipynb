{
 "cells": [
  {
   "cell_type": "code",
   "execution_count": null,
   "id": "8d52c71f",
   "metadata": {},
   "outputs": [],
   "source": [
    "#| default_exp data.core"
   ]
  },
  {
   "cell_type": "markdown",
   "id": "3de3406e",
   "metadata": {},
   "source": [
    "# Data core\n",
    "\n",
    "> Core functionality to transform and gather data"
   ]
  },
  {
   "cell_type": "code",
   "execution_count": null,
   "id": "7d857145",
   "metadata": {},
   "outputs": [],
   "source": [
    "#|export\n",
    "from __future__ import annotations\n",
    "from fastcore.basics import store_attr\n",
    "import pandas as pd\n",
    "import re\n",
    "from pathlib import Path\n",
    "from tqdm import tqdm"
   ]
  }
 ],
 "metadata": {
  "kernelspec": {
   "display_name": "Python 3 (ipykernel)",
   "language": "python",
   "name": "python3"
  }
 },
 "nbformat": 4,
 "nbformat_minor": 5
}

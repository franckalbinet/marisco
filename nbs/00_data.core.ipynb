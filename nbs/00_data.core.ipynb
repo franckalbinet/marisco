{
 "cells": [
  {
   "cell_type": "code",
   "execution_count": null,
   "id": "b7236bfb",
   "metadata": {},
   "outputs": [],
   "source": [
    "#| default_exp data.core"
   ]
  },
  {
   "cell_type": "markdown",
   "id": "d47c34e1",
   "metadata": {},
   "source": [
    "# Data core\n",
    "\n",
    "> Core functionality to transform and gather data"
   ]
  },
  {
   "cell_type": "code",
   "execution_count": null,
   "id": "817dfefa",
   "metadata": {},
   "outputs": [],
   "source": [
    "#|export\n",
    "from __future__ import annotations\n",
    "from fastcore.basics import store_attr\n",
    "import pandas as pd\n",
    "import re\n",
    "from pathlib import Path\n",
    "from tqdm import tqdm"
   ]
  },
  {
   "cell_type": "markdown",
   "id": "8e0d2fdf",
   "metadata": {},
   "source": [
    "## DumpExploder"
   ]
  },
  {
   "cell_type": "code",
   "execution_count": null,
   "id": "5ab04f77",
   "metadata": {},
   "outputs": [],
   "source": [
    "#|export\n",
    "class DumpExploder():\n",
    "    \"\"\"Exploding MARIS global .csv dump into distinct dataset-specific ones...\"\"\"\n",
    "    def __init__(self, \n",
    "                 fname:str, # File name path and name\n",
    "                 dst:str, # Path of folder that will receive created .csv\n",
    "                 col_id:str='ref_id', # Name of the unique id column in loaded .csv\n",
    "                 #cols_name:List[str]=['displaytext'] # Columns name as part of file name generated\n",
    "                cols_name=['displaytext'] # Columns name as part of file name generated\n",
    "                ):\n",
    "        store_attr()\n",
    "        self.df = self.load_data()\n",
    "        self.dst = Path(dst)\n",
    "        self.cols = [col_id] + cols_name\n",
    "        \n",
    "    def load_data(self):\n",
    "        self.df = pd.read_csv(Path(self.fname))   \n",
    "        return self.df\n",
    "    \n",
    "    def num_ds(self, verbose:Bool=False):\n",
    "        if self.df is None:\n",
    "            raise Exception('Run `.loadData() first: no data loaded yet')\n",
    "        print(f'Number of distinct datasets: {len(self.df[self.col_id].unique())}')\n",
    "        if verbose:\n",
    "            print(self.df.drop_duplicates(subset=[self.col_id])[self.cols])     \n",
    "    \n",
    "    def explode(self):\n",
    "        if self.df is None:\n",
    "            self.loadData()\n",
    "        grouped = self.df.groupby(self.col_id)\n",
    "        print('Exploding MARIS global csv dump into distinct dataset-specific ones...')\n",
    "        for _, group in tqdm(grouped):\n",
    "            name = self._namer(group)\n",
    "            group.to_csv(self.dst/name, index=False)\n",
    "\n",
    "    def _namer(self, group):\n",
    "        cols_name = group[self.cols].drop_duplicates().values[0]\n",
    "        cols_name = [str(s) for s in cols_name]\n",
    "        name = '-'.join(cols_name)\n",
    "        return re.sub(r'\\W+', '-', name).lower() + '.csv'"
   ]
  },
  {
   "cell_type": "code",
   "execution_count": null,
   "id": "88cd8189",
   "metadata": {},
   "outputs": [],
   "source": []
  }
 ],
 "metadata": {
  "kernelspec": {
   "display_name": "Python 3 (ipykernel)",
   "language": "python",
   "name": "python3"
  }
 },
 "nbformat": 4,
 "nbformat_minor": 5
}

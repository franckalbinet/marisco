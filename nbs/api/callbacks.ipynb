{
 "cells": [
  {
   "cell_type": "code",
   "execution_count": null,
   "id": "95ddae9f",
   "metadata": {},
   "outputs": [],
   "source": [
    "#| default_exp callbacks"
   ]
  },
  {
   "attachments": {},
   "cell_type": "markdown",
   "id": "34f38641",
   "metadata": {},
   "source": [
    "# Callbacks\n",
    "\n",
    "> Callback used in handlers"
   ]
  },
  {
   "cell_type": "code",
   "execution_count": null,
   "id": "b4934cd2",
   "metadata": {},
   "outputs": [],
   "source": [
    "#| exports\n",
    "import copy\n",
    "import fastcore.all as fc\n",
    "from operator import attrgetter\n",
    "from cftime import date2num\n",
    "import numpy as np\n",
    "import pandas as pd\n",
    "from marisco.configs import cfg, cdl_cfg\n",
    "from functools import partial \n",
    "from typing import List, Dict, Callable, Tuple\n",
    "from pathlib import Path \n",
    "\n",
    "from marisco.configs import get_lut, nuc_lut_path"
   ]
  },
  {
   "cell_type": "code",
   "execution_count": null,
   "id": "91324c91",
   "metadata": {},
   "outputs": [
    {
     "name": "stdout",
     "output_type": "stream",
     "text": [
      "The autoreload extension is already loaded. To reload it, use:\n",
      "  %reload_ext autoreload\n"
     ]
    }
   ],
   "source": [
    "#| hide\n",
    "from marisco.configs import cdl_cfg, CONFIGS_CDL\n",
    "from marisco.utils import test_dfs\n",
    "\n",
    "%load_ext autoreload\n",
    "%autoreload 2"
   ]
  },
  {
   "cell_type": "markdown",
   "id": "8d2d7034",
   "metadata": {},
   "source": [
    "## Core"
   ]
  },
  {
   "cell_type": "markdown",
   "id": "962281da",
   "metadata": {},
   "source": [
    "The `Transformer` class is designed to facilitate the application of a series of callbacks to a set of dataframes. It provides a structured way to apply transformations (i.e `Callback`) to the data, with a focus on flexibility and ease of use."
   ]
  },
  {
   "cell_type": "code",
   "execution_count": null,
   "id": "4e58c73c",
   "metadata": {},
   "outputs": [],
   "source": [
    "#| exports\n",
    "class Callback(): \n",
    "    \"Base class for callbacks.\"\n",
    "    order = 0"
   ]
  },
  {
   "cell_type": "code",
   "execution_count": null,
   "id": "61702d17",
   "metadata": {},
   "outputs": [],
   "source": [
    "#| exports\n",
    "def run_cbs(cbs, obj=None):\n",
    "    \"Run the callbacks in the order they are specified.\"\n",
    "    for cb in sorted(cbs, key=attrgetter('order')):\n",
    "        if cb.__doc__: obj.logs.append(cb.__doc__)\n",
    "        cb(obj)"
   ]
  },
  {
   "cell_type": "code",
   "execution_count": null,
   "id": "82a6611d",
   "metadata": {},
   "outputs": [],
   "source": [
    "#| exports\n",
    "class Transformer():\n",
    "    def __init__(self, \n",
    "                 dfs:pd.DataFrame, # Dictionary of DataFrames to transform\n",
    "                 cbs:list=None, # List of callbacks to run\n",
    "                 inplace:bool=False # Whether to modify the dataframes in place\n",
    "                 ): \n",
    "        \"Transform the dataframes according to the specified callbacks.\"\n",
    "        fc.store_attr()\n",
    "        self.dfs = dfs if inplace else {k: v.copy() for k, v in dfs.items()}\n",
    "        self.logs = []\n",
    "            \n",
    "    def unique(self, col_name):\n",
    "        \"Distinct values of a specific column present in all groups.\"\n",
    "        columns = [df.get(col_name) for df in self.dfs.values() if df.get(col_name) is not None]\n",
    "        values = np.concatenate(columns) if columns else []\n",
    "        return np.unique(values)\n",
    "        \n",
    "    def __call__(self):\n",
    "        \"Transform the dataframes according to the specified callbacks.\"\n",
    "        if self.cbs: run_cbs(self.cbs, self)\n",
    "        return self.dfs"
   ]
  },
  {
   "cell_type": "markdown",
   "id": "eab87dd9",
   "metadata": {},
   "source": [
    "Below, a few examples of how to use the `Transformer` class.\n",
    "Let's define first a test callback that adds `1` to the `depth`:"
   ]
  },
  {
   "cell_type": "code",
   "execution_count": null,
   "id": "f913c2dc",
   "metadata": {},
   "outputs": [],
   "source": [
    "class TestCB(Callback):\n",
    "    \"A test callback to add 1 to the depth.\"\n",
    "    def __call__(self, tfm):\n",
    "        for grp, df in tfm.dfs.items(): \n",
    "            df['depth'] = df['depth'].apply(lambda x: x+1)"
   ]
  },
  {
   "cell_type": "markdown",
   "id": "7a24bcbc",
   "metadata": {},
   "source": [
    "And apply it to the following dataframes:"
   ]
  },
  {
   "cell_type": "code",
   "execution_count": null,
   "id": "106ee79f",
   "metadata": {},
   "outputs": [],
   "source": [
    "dfs = {'biota': pd.DataFrame({'id': [0, 1, 2], 'species': [0, 2, 0], 'depth': [2, 3, 4]}),\n",
    "       'seawater': pd.DataFrame({'id': [0, 1, 2], 'depth': [3, 4, 5]})}\n",
    "\n",
    "tfm = Transformer(dfs, cbs=[TestCB()])\n",
    "df_test = tfm()\n",
    "\n",
    "fc.test_eq(df_test['biota']['depth'].to_list(), [3, 4, 5])\n",
    "fc.test_eq(df_test['seawater']['depth'].to_list(), [4, 5, 6])"
   ]
  },
  {
   "cell_type": "markdown",
   "id": "ca917c61",
   "metadata": {},
   "source": [
    "## Geographical"
   ]
  },
  {
   "cell_type": "markdown",
   "id": "7db90009",
   "metadata": {},
   "source": [
    "This section gathers callbacks that are used to transform the geographical coordinates."
   ]
  },
  {
   "cell_type": "code",
   "execution_count": null,
   "id": "097d66b6",
   "metadata": {},
   "outputs": [],
   "source": [
    "#| exports\n",
    "class SanitizeLonLatCB(Callback):\n",
    "    \"Drop row when both longitude & latitude equal 0. Drop unrealistic longitude & latitude values. Convert longitude & latitude `,` separator to `.` separator.\"\n",
    "    def __init__(self, verbose=False): fc.store_attr()\n",
    "    def __call__(self, tfm):\n",
    "        for grp, df in tfm.dfs.items():\n",
    "            \" Convert `,` separator to `.` separator\"\n",
    "            df['lon'] = [float(str(x).replace(',', '.')) for x in df['lon']]\n",
    "            df['lat'] = [float(str(x).replace(',', '.')) for x in df['lat']]\n",
    "            \n",
    "            # mask zero values\n",
    "            mask_zeroes = (df.lon == 0) & (df.lat == 0) \n",
    "            nZeroes = mask_zeroes.sum()\n",
    "            if nZeroes and self.verbose: \n",
    "                print(f'The \"{grp}\" group contains {nZeroes} data points whose (lon, lat) = (0, 0)')\n",
    "            \n",
    "            # mask gps out of bounds, goob. \n",
    "            mask_goob = (df.lon < -180) | (df.lon > 180) | (df.lat < -90) | (df.lat > 90)\n",
    "            nGoob = mask_goob.sum()\n",
    "            if nGoob and self.verbose: \n",
    "                print(f'The \"{grp}\" group contains {nGoob} data points whose lon or lat are unrealistic. Outside -90 to 90 for latitude and -180 to 180 for longitude.')\n",
    "                \n",
    "            tfm.dfs[grp] = df.loc[~(mask_zeroes | mask_goob)]"
   ]
  },
  {
   "cell_type": "code",
   "execution_count": null,
   "id": "efd3a0b6",
   "metadata": {},
   "outputs": [],
   "source": [
    "# Check that measurements located at (0,0) get removed\n",
    "dfs = {'biota': pd.DataFrame({'lon': [0, 1, 0], 'lat': [0, 2, 0]})}\n",
    "tfm = Transformer(dfs, cbs=[SanitizeLonLatCB()])\n",
    "tfm()['biota']\n",
    "\n",
    "expected = [1., 2.]\n",
    "fc.test_eq(tfm()['biota'].iloc[0].to_list(), expected)"
   ]
  },
  {
   "cell_type": "code",
   "execution_count": null,
   "id": "378851b1",
   "metadata": {},
   "outputs": [],
   "source": [
    "# Check that comma decimal separator get replaced by point instead\n",
    "dfs = {'biota': pd.DataFrame({'lon': ['45,2'], 'lat': ['43,1']})}\n",
    "tfm = Transformer(dfs, cbs=[SanitizeLonLatCB()])\n",
    "tfm()['biota']\n",
    "\n",
    "expected = [45.2, 43.1]\n",
    "fc.test_eq(tfm()['biota'].iloc[0].to_list(), expected)"
   ]
  },
  {
   "cell_type": "code",
   "execution_count": null,
   "id": "d3dd0096",
   "metadata": {},
   "outputs": [],
   "source": [
    "# Check that out of bounds lon or lat get removed\n",
    "dfs = {'biota': pd.DataFrame({'lon': [-190, 190, 1, 2, 1.1], 'lat': [1, 2, 91, -91, 2.2]})}\n",
    "tfm = Transformer(dfs, cbs=[SanitizeLonLatCB()])\n",
    "tfm()['biota']\n",
    "\n",
    "expected = [1.1, 2.2]\n",
    "fc.test_eq(tfm()['biota'].iloc[0].to_list(), expected)"
   ]
  },
  {
   "cell_type": "markdown",
   "id": "971d96a0",
   "metadata": {},
   "source": [
    "## Add columns\n",
    "This section gathers callbacks that are used to add required columns to the dataframes."
   ]
  },
  {
   "cell_type": "code",
   "execution_count": null,
   "id": "08ceffc4",
   "metadata": {},
   "outputs": [],
   "source": [
    "#| exports\n",
    "class AddSampleTypeIdColumnCB(Callback):\n",
    "    def __init__(self, \n",
    "                 cdl_cfg:Callable=cdl_cfg, # Callable to get the CDL config dictionary\n",
    "                 col_name:str='samptype_id'\n",
    "                 ): \n",
    "        \"Add a column with the sample type id as defined in the CDL.\"\n",
    "        fc.store_attr()\n",
    "        self.lut = {v['name']: v['id'] for v in cdl_cfg()['grps'].values()}\n",
    "        \n",
    "    def __call__(self, tfm):\n",
    "        for grp, df in tfm.dfs.items(): df[self.col_name] = self.lut[grp]"
   ]
  },
  {
   "cell_type": "markdown",
   "id": "635aaaf6",
   "metadata": {},
   "source": [
    "Let's test the callback:"
   ]
  },
  {
   "cell_type": "code",
   "execution_count": null,
   "id": "5c2cb3e7",
   "metadata": {},
   "outputs": [],
   "source": [
    "dfs = {v['name']: pd.DataFrame({'col_test': [0, 1, 2]}) for v in CONFIGS_CDL['grps'].values()}\n",
    "\n",
    "tfm = Transformer(dfs, cbs=[AddSampleTypeIdColumnCB(cdl_cfg=lambda: CONFIGS_CDL)])\n",
    "dfs_test = tfm()\n",
    "\n",
    "for v in CONFIGS_CDL['grps'].values():\n",
    "    fc.test_eq(dfs_test[v['name']]['samptype_id'].unique().item(), v['id']) "
   ]
  },
  {
   "cell_type": "code",
   "execution_count": null,
   "id": "d2dbfc75",
   "metadata": {},
   "outputs": [],
   "source": [
    "#| exports\n",
    "class AddNuclideIdColumnCB(Callback):\n",
    "    def __init__(self, \n",
    "                 col_value:str, # Column name containing the nuclide name\n",
    "                 lut_fname_fn:callable=nuc_lut_path, # Function returning the lut path\n",
    "                 col_name:str='nuclide_id' # Column name to store the nuclide id\n",
    "                 ): \n",
    "        \"Add a column with the nuclide id.\"\n",
    "        fc.store_attr()\n",
    "        self.lut = get_lut(lut_fname_fn().parent, lut_fname_fn().name, \n",
    "                           key='nc_name', value='nuclide_id', reverse=False)\n",
    "        \n",
    "    def __call__(self, tfm):\n",
    "        for grp, df in tfm.dfs.items(): \n",
    "            df[self.col_name] = df[self.col_value].map(self.lut)"
   ]
  },
  {
   "cell_type": "code",
   "execution_count": null,
   "id": "2b5b6f4c",
   "metadata": {},
   "outputs": [],
   "source": [
    "dfs = {v['name']: pd.DataFrame({'Nuclide': ['cs137', 'pu239_240_tot']}) for v in CONFIGS_CDL['grps'].values()}\n",
    "\n",
    "lut_fname_fn = lambda: Path('./files/lut/dbo_nuclide.xlsx')\n",
    "\n",
    "tfm = Transformer(dfs, cbs=[AddNuclideIdColumnCB(col_value='Nuclide', lut_fname_fn=lut_fname_fn)])\n",
    "tfm()['seawater']\n",
    "\n",
    "expected = [33, 77]\n",
    "for grp in tfm.dfs.keys():\n",
    "    fc.test_eq(tfm.dfs[grp]['nuclide_id'].to_list(), expected)"
   ]
  },
  {
   "cell_type": "markdown",
   "id": "b98192b7",
   "metadata": {},
   "source": [
    "## Map & Standardize"
   ]
  },
  {
   "cell_type": "code",
   "execution_count": null,
   "id": "bd1917a0",
   "metadata": {},
   "outputs": [],
   "source": [
    "#| exports\n",
    "class LowerStripNameCB(Callback):\n",
    "    def __init__(self, \n",
    "                 col_src:str, # Source column name e.g. 'Nuclide'\n",
    "                 col_dst:str=None, # Destination column name\n",
    "                 fn_transform:Callable=lambda x: x.lower().strip() # Transformation function\n",
    "                 ):\n",
    "        \"Convert values to lowercase and strip any trailing spaces.\"\n",
    "        fc.store_attr()\n",
    "        self.__doc__ = f\"Convert values from '{col_src}' to lowercase, strip spaces, and store in '{col_dst}'.\"\n",
    "        if not col_dst: self.col_dst = col_src\n",
    "        \n",
    "    def _safe_transform(self, value):\n",
    "        \"Ensure value is not NA and apply transformation function.\"\n",
    "        return value if pd.isna(value) else self.fn_transform(str(value))\n",
    "            \n",
    "    def __call__(self, tfm):\n",
    "        for key in tfm.dfs.keys():\n",
    "            tfm.dfs[key][self.col_dst] = tfm.dfs[key][self.col_src].apply(self._safe_transform)"
   ]
  },
  {
   "cell_type": "markdown",
   "id": "b06003b9",
   "metadata": {},
   "source": [
    "Let's test the callback:"
   ]
  },
  {
   "cell_type": "code",
   "execution_count": null,
   "id": "11da226d",
   "metadata": {},
   "outputs": [],
   "source": [
    "dfs = {'seawater': pd.DataFrame({'Nuclide': ['CS137', '226RA']})}\n",
    "\n",
    "tfm = Transformer(dfs, cbs=[LowerStripNameCB(col_src='Nuclide', col_dst='NUCLIDE')])\n",
    "fc.test_eq(tfm()['seawater']['NUCLIDE'].to_list(), ['cs137', '226ra'])\n",
    "\n",
    "\n",
    "tfm = Transformer(dfs, cbs=[LowerStripNameCB(col_src='Nuclide')])\n",
    "fc.test_eq(tfm()['seawater']['Nuclide'].to_list(), ['cs137', '226ra'])"
   ]
  },
  {
   "cell_type": "markdown",
   "id": "e5b9b06a",
   "metadata": {},
   "source": [
    "The point is when (semi-automatic) remapping names generally:\n",
    "\n",
    "1. we need first to guess (fuzzy matching or other) the right nuclide name.\n",
    "2. Then manually check the result and eventually update the lookup table.\n",
    "3.  Finally we can apply the lookup table to the dataframe.\n"
   ]
  },
  {
   "cell_type": "markdown",
   "id": "304ae6fa",
   "metadata": {},
   "source": [
    "## Change structure"
   ]
  },
  {
   "cell_type": "markdown",
   "id": "3a32c3bc",
   "metadata": {},
   "source": [
    "Many data providers use a long format (e.g `lat, lon, radionuclide, value, unc, ...`) to store their data. When encoding as `netCDF`, it is often required to use a wide format (e.g `lat, lon, nuclide1_value, nuclide1_unc, nuclide2_value, nuclide2_unc, ...`). The class `ReshapeLongToWide` is designed to perform this transformation."
   ]
  },
  {
   "cell_type": "code",
   "execution_count": null,
   "id": "4b409a61",
   "metadata": {},
   "outputs": [],
   "source": [
    "#| exports\n",
    "class ReshapeLongToWide(Callback):\n",
    "    def __init__(self, columns=['nuclide'], values=['value'], \n",
    "                 num_fill_value=-999, str_fill_value='STR FILL VALUE'):\n",
    "        \"Convert data from long to wide with renamed columns.\"\n",
    "        fc.store_attr()\n",
    "        self.derived_cols = self._get_derived_cols()\n",
    "    \n",
    "    def _get_derived_cols(self):\n",
    "        \"Retrieve all possible derived vars (e.g 'unc', 'dl', ...) from configs.\"\n",
    "        return [value['name'] for value in cdl_cfg()['vars']['suffixes'].values()]\n",
    "\n",
    "    def renamed_cols(self, cols):\n",
    "        \"Flatten columns name.\"\n",
    "        return [inner if outer == \"value\" else f'{inner}{outer}' if inner else outer\n",
    "                for outer, inner in cols]\n",
    "\n",
    "    def _get_unique_fill_value(self, df, idx):\n",
    "        \"Get a unique fill value for NaN replacement.\"\n",
    "        fill_value = self.num_fill_value\n",
    "        while (df[idx] == fill_value).any().any():\n",
    "            fill_value -= 1\n",
    "        return fill_value\n",
    "\n",
    "    def _fill_nan_values(self, df, idx):\n",
    "        \"Fill NaN values in index columns.\"\n",
    "        num_fill_value = self._get_unique_fill_value(df, idx)\n",
    "        for col in idx:\n",
    "            fill_value = num_fill_value if pd.api.types.is_numeric_dtype(df[col]) else self.str_fill_value\n",
    "            df[col] = df[col].fillna(fill_value)\n",
    "        return df, num_fill_value\n",
    "\n",
    "    def pivot(self, df):\n",
    "        derived_coi = [col for col in self.derived_cols if col in df.columns]\n",
    "        df.index.name = 'org_index'\n",
    "        df = df.reset_index()\n",
    "        idx = list(set(df.columns) - set(self.columns + derived_coi + self.values))\n",
    "        \n",
    "        df, num_fill_value = self._fill_nan_values(df, idx)\n",
    "\n",
    "        pivot_df = df.pivot_table(index=idx,\n",
    "                                  columns=self.columns,\n",
    "                                  values=self.values + derived_coi,\n",
    "                                  fill_value=np.nan,\n",
    "                                  aggfunc=lambda x: x).reset_index()\n",
    "\n",
    "        pivot_df[idx] = pivot_df[idx].replace({self.str_fill_value: np.nan, num_fill_value: np.nan})\n",
    "        return pivot_df.set_index('org_index')\n",
    "\n",
    "    def __call__(self, tfm):\n",
    "        for grp in tfm.dfs.keys():\n",
    "            tfm.dfs[grp] = self.pivot(tfm.dfs[grp])\n",
    "            tfm.dfs[grp].columns = self.renamed_cols(tfm.dfs[grp].columns)"
   ]
  },
  {
   "cell_type": "code",
   "execution_count": null,
   "id": "e59c95e9",
   "metadata": {},
   "outputs": [],
   "source": [
    "#| eval: false\n",
    "dfs_test = fc.load_pickle('./files/pkl/dfs_reshape_test_in.pkl')\n",
    "dfs_expected = fc.load_pickle('./files/pkl/dfs_reshape_test_expected.pkl')\n",
    "\n",
    "tfm = Transformer(dfs_test, cbs=[ReshapeLongToWide()])\n",
    "dfs_output = tfm()\n",
    "test_dfs(dfs_output, dfs_expected)    "
   ]
  },
  {
   "cell_type": "code",
   "execution_count": null,
   "id": "8cf07327",
   "metadata": {},
   "outputs": [],
   "source": [
    "#| exports\n",
    "class CompareDfsAndTfmCB(Callback):\n",
    "    def __init__(self, dfs: Dict[str, pd.DataFrame]): \n",
    "        \"Create a dataframe of dropped data. Data included in the `dfs` not in the `tfm`.\"\n",
    "        fc.store_attr()\n",
    "        \n",
    "    def __call__(self, tfm: Transformer) -> None:\n",
    "        self._initialize_tfm_attributes(tfm)\n",
    "        for grp in tfm.dfs.keys():\n",
    "            dropped_df = self._get_dropped_data(grp, tfm)\n",
    "            tfm.dfs_dropped[grp] = dropped_df\n",
    "            tfm.compare_stats[grp] = self._compute_stats(grp, tfm)\n",
    "\n",
    "    def _initialize_tfm_attributes(self, tfm: Transformer) -> None:\n",
    "        tfm.dfs_dropped = {}\n",
    "        tfm.compare_stats = {}\n",
    "\n",
    "    def _get_dropped_data(self, \n",
    "                          grp: str, # The group key\n",
    "                          tfm: Transformer # The transformation object containing `dfs`\n",
    "                         ) -> pd.DataFrame: # Dataframe with dropped rows\n",
    "        \"Get the data that is present in `dfs` but not in `tfm.dfs`.\"\n",
    "        index_diff = self.dfs[grp].index.difference(tfm.dfs[grp].index)\n",
    "        return self.dfs[grp].loc[index_diff]\n",
    "    \n",
    "    def _compute_stats(self, \n",
    "                       grp: str, # The group key\n",
    "                       tfm: Transformer # The transformation object containing `dfs`\n",
    "                      ) -> Dict[str, int]: # Dictionary with comparison statistics\n",
    "        \"Compute comparison statistics between `dfs` and `tfm.dfs`.\"\n",
    "        return {\n",
    "            'Number of rows in dfs': len(self.dfs[grp].index),\n",
    "            'Number of rows in tfm.dfs': len(tfm.dfs[grp].index),\n",
    "            'Number of dropped rows': len(tfm.dfs_dropped[grp].index),\n",
    "            'Number of rows in tfm.dfs + Number of dropped rows': len(tfm.dfs[grp].index) + len(tfm.dfs_dropped[grp].index)\n",
    "        }"
   ]
  },
  {
   "cell_type": "markdown",
   "id": "73a31ca8",
   "metadata": {},
   "source": [
    "`CompareDfsAndTfmCB` compares the original dataframes to the transformed dataframe. A dictionary of dataframes, `tfm.dfs_dropped`, is created to include the data present in the original dataset but absent from the transformed data. `tfm.compare_stats` provides a quick overview of the number of rows in both the original dataframes and the transformed dataframe. \n",
    "\n",
    "For instance:"
   ]
  },
  {
   "cell_type": "code",
   "execution_count": null,
   "id": "d7d96f5a",
   "metadata": {},
   "outputs": [
    {
     "name": "stdout",
     "output_type": "stream",
     "text": [
      "{'seawater':    a  b\n",
      "2  3  6, 'sediment':    a  b\n",
      "1  2  5\n",
      "2  3  6}\n"
     ]
    }
   ],
   "source": [
    "dfs_test = {\n",
    "    'seawater': pd.DataFrame({'a': [1, 2, 3], 'b': [4, 5, 6]}),\n",
    "    'sediment': pd.DataFrame({'a': [1, 2, 3], 'b': [4, 5, 6]}),\n",
    "}\n",
    "\n",
    "class TestTfmCB(Callback):\n",
    "    def __call__(self, tfm):\n",
    "        for key in tfm.dfs.keys():\n",
    "            df = tfm.dfs[key]\n",
    "            drop_idxs = [0, 1] if key == 'seawater' else [0]\n",
    "            df.drop(drop_idxs, inplace=True)\n",
    "            \n",
    "tfm = Transformer(dfs_test, cbs=[\n",
    "    TestTfmCB(), \n",
    "    CompareDfsAndTfmCB(dfs_test)], inplace=False)\n",
    "\n",
    "print(tfm())\n",
    "\n",
    "fc.test_eq(tfm.compare_stats['seawater']['Number of dropped rows'], 2)\n",
    "fc.test_eq(tfm.compare_stats['sediment']['Number of dropped rows'], 1)"
   ]
  },
  {
   "cell_type": "markdown",
   "id": "e14a7408",
   "metadata": {},
   "source": [
    "## Time"
   ]
  },
  {
   "cell_type": "markdown",
   "id": "e5d9de40",
   "metadata": {},
   "source": [
    "These callbacks are used to transform the time variable according to netCDF CF standards. For instance, the `EncodeTimeCB` callback is used to encode the time variable as an integer representing seconds since a reference date as specified in `configs.ipynb` `CONFIGS_CDL` dictionary."
   ]
  },
  {
   "cell_type": "code",
   "execution_count": null,
   "id": "90a817ef",
   "metadata": {},
   "outputs": [],
   "source": [
    "#| exports\n",
    "class EncodeTimeCB(Callback):\n",
    "    \"Encode time as `int` representing seconds since xxx\"    \n",
    "    def __init__(self, cfg , verbose=False): fc.store_attr()\n",
    "    def __call__(self, tfm): \n",
    "        def format_time(x): \n",
    "            return date2num(x, units=self.cfg['units']['time'])\n",
    "        \n",
    "        for k in tfm.dfs.keys():\n",
    "            # If invalid time entries.\n",
    "            if tfm.dfs[k]['time'].isna().any():\n",
    "                if self.verbose:\n",
    "                    invalid_time_df=tfm.dfs[k][tfm.dfs[k]['time'].isna()]\n",
    "                    print (f'{len(invalid_time_df.index)} of {len(tfm.dfs[k].index)} entries for `time` are invalid for {k}.')\n",
    "                # Filter nan values\n",
    "                tfm.dfs[k] = tfm.dfs[k][tfm.dfs[k]['time'].notna()]\n",
    "            \n",
    "            tfm.dfs[k]['time'] = tfm.dfs[k]['time'].apply(format_time)"
   ]
  }
 ],
 "metadata": {
  "kernelspec": {
   "display_name": "python3",
   "language": "python",
   "name": "python3"
  }
 },
 "nbformat": 4,
 "nbformat_minor": 5
}

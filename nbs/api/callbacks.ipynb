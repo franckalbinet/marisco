{
 "cells": [
  {
   "cell_type": "code",
   "execution_count": null,
   "id": "95ddae9f",
   "metadata": {},
   "outputs": [],
   "source": [
    "#| default_exp callbacks"
   ]
  },
  {
   "attachments": {},
   "cell_type": "markdown",
   "id": "34f38641",
   "metadata": {},
   "source": [
    "# Callbacks\n",
    "> Callback used in handlers"
   ]
  },
  {
   "cell_type": "code",
   "execution_count": null,
   "id": "b4934cd2",
   "metadata": {},
   "outputs": [],
   "source": [
    "#| export\n",
    "import copy\n",
    "import fastcore.all as fc\n",
    "from operator import attrgetter\n",
    "from cftime import date2num\n",
    "import numpy as np\n",
    "\n",
    "from marisco.configs import cfg"
   ]
  },
  {
   "cell_type": "code",
   "execution_count": null,
   "id": "9623e854",
   "metadata": {},
   "outputs": [],
   "source": [
    "import pandas as pd"
   ]
  },
  {
   "cell_type": "code",
   "execution_count": null,
   "id": "4e58c73c",
   "metadata": {},
   "outputs": [],
   "source": [
    "#| export\n",
    "class Callback(): order = 0"
   ]
  },
  {
   "cell_type": "code",
   "execution_count": null,
   "id": "61702d17",
   "metadata": {},
   "outputs": [],
   "source": [
    "#| export\n",
    "def run_cbs(cbs, obj=None):\n",
    "    for cb in sorted(cbs, key=attrgetter('order')):\n",
    "        if cb.__doc__: obj.logs.append(cb.__doc__)\n",
    "        cb(obj)"
   ]
  },
  {
   "cell_type": "code",
   "execution_count": null,
   "id": "82a6611d",
   "metadata": {},
   "outputs": [],
   "source": [
    "#| export\n",
    "class Transformer():\n",
    "    def __init__(self, dfs, cbs=None): \n",
    "        self.cbs = cbs\n",
    "        self.dfs = {k: v.copy() for k, v in dfs.items()}\n",
    "        self.logs = []\n",
    "        \n",
    "    def callback(self):\n",
    "        run_cbs(self.cbs, self)\n",
    "        \n",
    "    def unique(self, col_name):\n",
    "        \"Distinct values of a specific column present in all groups\"\n",
    "        columns = [df.get(col_name) for df in self.dfs.values() if df.get(col_name) is not None]\n",
    "        values = np.concatenate(columns) if columns else []\n",
    "        return np.unique(values)\n",
    "        \n",
    "    def __call__(self):\n",
    "        if self.cbs: self.callback()\n",
    "        return self.dfs"
   ]
  },
  {
   "cell_type": "markdown",
   "id": "eab87dd9",
   "metadata": {},
   "source": [
    "Example:"
   ]
  },
  {
   "cell_type": "code",
   "execution_count": null,
   "id": "106ee79f",
   "metadata": {},
   "outputs": [
    {
     "data": {
      "text/plain": [
       "array([0, 2])"
      ]
     },
     "execution_count": null,
     "metadata": {},
     "output_type": "execute_result"
    }
   ],
   "source": [
    "dfs = {'biota': pd.DataFrame({'id': [0, 1, 2], 'species': [0, 2, 0], 'depth': [2, 3, 4]}),\n",
    "       'seawater': pd.DataFrame({'id': [0, 1, 2], 'depth': [3, 4, 5]})}\n",
    "tfm = Transformer(dfs); tfm()\n",
    "tfm.unique('species')"
   ]
  },
  {
   "cell_type": "code",
   "execution_count": null,
   "id": "09b00a18",
   "metadata": {},
   "outputs": [
    {
     "data": {
      "text/plain": [
       "array([], dtype=float64)"
      ]
     },
     "execution_count": null,
     "metadata": {},
     "output_type": "execute_result"
    }
   ],
   "source": [
    "tfm.unique('non_existing_var')"
   ]
  },
  {
   "cell_type": "markdown",
   "id": "e14a7408",
   "metadata": {},
   "source": [
    "## Generic"
   ]
  },
  {
   "cell_type": "code",
   "execution_count": null,
   "id": "90a817ef",
   "metadata": {},
   "outputs": [],
   "source": [
    "#| export\n",
    "class EncodeTimeCB(Callback):\n",
    "    \"Encode time as `int` representing seconds since xxx\"    \n",
    "    def __init__(self, cfg): fc.store_attr()\n",
    "    def __call__(self, tfm): \n",
    "        def format_time(x): return date2num(x, units=self.cfg['units']['time'])\n",
    "        \n",
    "        for k in tfm.dfs.keys():\n",
    "            tfm.dfs[k]['time'] = tfm.dfs[k]['time'].apply(format_time)"
   ]
  },
  {
   "cell_type": "code",
   "execution_count": null,
   "id": "097d66b6",
   "metadata": {},
   "outputs": [],
   "source": [
    "#| export\n",
    "class SanitizeLonLatCB(Callback):\n",
    "    \"Drop row when both longitude & latitude equal 0.\"\n",
    "    def __init__(self, verbose=False): fc.store_attr()\n",
    "    def __call__(self, tfm):\n",
    "        for grp, df in tfm.dfs.items():\n",
    "            mask = (df.lon == 0) & (df.lat == 0)\n",
    "            nZeroes = mask.sum()\n",
    "            if nZeroes and self.verbose: \n",
    "                print(f'The \"{grp}\" group contains {nZeroes} data points whose (lon, lat) = (0, 0)')\n",
    "            tfm.dfs[grp] = df.loc[~mask]"
   ]
  },
  {
   "cell_type": "code",
   "execution_count": null,
   "id": "efd3a0b6",
   "metadata": {},
   "outputs": [
    {
     "name": "stdout",
     "output_type": "stream",
     "text": [
      "The \"biota\" group contains 2 data points whose (lon, lat) = (0, 0)\n"
     ]
    },
    {
     "data": {
      "text/html": [
       "<div>\n",
       "<style scoped>\n",
       "    .dataframe tbody tr th:only-of-type {\n",
       "        vertical-align: middle;\n",
       "    }\n",
       "\n",
       "    .dataframe tbody tr th {\n",
       "        vertical-align: top;\n",
       "    }\n",
       "\n",
       "    .dataframe thead th {\n",
       "        text-align: right;\n",
       "    }\n",
       "</style>\n",
       "<table border=\"1\" class=\"dataframe\">\n",
       "  <thead>\n",
       "    <tr style=\"text-align: right;\">\n",
       "      <th></th>\n",
       "      <th>lon</th>\n",
       "      <th>lat</th>\n",
       "    </tr>\n",
       "  </thead>\n",
       "  <tbody>\n",
       "    <tr>\n",
       "      <th>1</th>\n",
       "      <td>1</td>\n",
       "      <td>2</td>\n",
       "    </tr>\n",
       "  </tbody>\n",
       "</table>\n",
       "</div>"
      ],
      "text/plain": [
       "   lon  lat\n",
       "1    1    2"
      ]
     },
     "execution_count": null,
     "metadata": {},
     "output_type": "execute_result"
    }
   ],
   "source": [
    "dfs = {'biota': pd.DataFrame({'lon': [0, 1, 0], 'lat': [0, 2, 0]})}\n",
    "tfm = Transformer(dfs, cbs=[SanitizeLonLatCB(verbose=True)])\n",
    "tfm()['biota']"
   ]
  }
 ],
 "metadata": {
  "kernelspec": {
   "display_name": "Python 3 (ipykernel)",
   "language": "python",
   "name": "python3"
  }
 },
 "nbformat": 4,
 "nbformat_minor": 5
}

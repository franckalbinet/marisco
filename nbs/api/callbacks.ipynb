{
 "cells": [
  {
   "cell_type": "code",
   "execution_count": 1,
   "id": "95ddae9f",
   "metadata": {},
   "outputs": [],
   "source": [
    "#| default_exp callbacks"
   ]
  },
  {
   "attachments": {},
   "cell_type": "markdown",
   "id": "34f38641",
   "metadata": {},
   "source": [
    "# Callbacks\n",
    "> Callback used in handlers"
   ]
  },
  {
   "cell_type": "code",
   "execution_count": 2,
   "id": "b4934cd2",
   "metadata": {},
   "outputs": [],
   "source": [
    "#| export\n",
    "import copy\n",
    "import fastcore.all as fc\n",
    "from operator import attrgetter\n",
    "from cftime import date2num\n",
    "import numpy as np\n",
    "\n",
    "from marisco.configs import cfg"
   ]
  },
  {
   "cell_type": "code",
   "execution_count": 3,
   "id": "9623e854",
   "metadata": {},
   "outputs": [],
   "source": [
    "import pandas as pd"
   ]
  },
  {
   "cell_type": "code",
   "execution_count": 4,
   "id": "4e58c73c",
   "metadata": {},
   "outputs": [],
   "source": [
    "#| export\n",
    "class Callback(): order = 0"
   ]
  },
  {
   "cell_type": "code",
   "execution_count": 5,
   "id": "61702d17",
   "metadata": {},
   "outputs": [],
   "source": [
    "#| export\n",
    "def run_cbs(cbs, obj=None):\n",
    "    for cb in sorted(cbs, key=attrgetter('order')):\n",
    "        if cb.__doc__: obj.logs.append(cb.__doc__)\n",
    "        cb(obj)"
   ]
  },
  {
   "cell_type": "code",
   "execution_count": 6,
   "id": "82a6611d",
   "metadata": {},
   "outputs": [],
   "source": [
    "#| export\n",
    "class Transformer():\n",
    "    def __init__(self, dfs, cbs=None): \n",
    "        self.cbs = cbs\n",
    "        self.dfs = {k: v.copy() for k, v in dfs.items()}\n",
    "        self.logs = []\n",
    "        \n",
    "    def callback(self):\n",
    "        run_cbs(self.cbs, self)\n",
    "        \n",
    "    def unique(self, col_name):\n",
    "        \"Distinct values of a specific column present in all groups\"\n",
    "        columns = [df.get(col_name) for df in self.dfs.values() if df.get(col_name) is not None]\n",
    "        values = np.concatenate(columns) if columns else []\n",
    "        return np.unique(values)\n",
    "        \n",
    "    def __call__(self):\n",
    "        if self.cbs: self.callback()\n",
    "        return self.dfs"
   ]
  },
  {
   "cell_type": "markdown",
   "id": "eab87dd9",
   "metadata": {},
   "source": [
    "Example:"
   ]
  },
  {
   "cell_type": "code",
   "execution_count": 7,
   "id": "106ee79f",
   "metadata": {},
   "outputs": [
    {
     "data": {
      "text/plain": [
       "array([0, 2])"
      ]
     },
     "execution_count": 7,
     "metadata": {},
     "output_type": "execute_result"
    }
   ],
   "source": [
    "dfs = {'biota': pd.DataFrame({'id': [0, 1, 2], 'species': [0, 2, 0], 'depth': [2, 3, 4]}),\n",
    "       'seawater': pd.DataFrame({'id': [0, 1, 2], 'depth': [3, 4, 5]})}\n",
    "tfm = Transformer(dfs); tfm()\n",
    "tfm.unique('species')"
   ]
  },
  {
   "cell_type": "code",
   "execution_count": 8,
   "id": "09b00a18",
   "metadata": {},
   "outputs": [
    {
     "data": {
      "text/plain": [
       "array([], dtype=float64)"
      ]
     },
     "execution_count": 8,
     "metadata": {},
     "output_type": "execute_result"
    }
   ],
   "source": [
    "tfm.unique('non_existing_var')"
   ]
  },
  {
   "cell_type": "markdown",
   "id": "e14a7408",
   "metadata": {},
   "source": [
    "## Generic"
   ]
  },
  {
   "cell_type": "code",
   "execution_count": 9,
   "id": "90a817ef",
   "metadata": {},
   "outputs": [],
   "source": [
    "#| export\n",
    "class EncodeTimeCB(Callback):\n",
    "    \"Encode time as `int` representing seconds since xxx\"    \n",
    "    def __init__(self, cfg): fc.store_attr()\n",
    "    def __call__(self, tfm): \n",
    "        def format_time(x): return date2num(x, units=self.cfg['units']['time'])\n",
    "        \n",
    "        for k in tfm.dfs.keys():\n",
    "            tfm.dfs[k]['time'] = tfm.dfs[k]['time'].apply(format_time)"
   ]
  },
  {
   "cell_type": "code",
   "execution_count": 10,
   "id": "097d66b6",
   "metadata": {},
   "outputs": [],
   "source": [
    "#| export\n",
    "class SanitizeLonLatCB(Callback):\n",
    "    \"Drop row when both longitude & latitude equal 0. Drop unrealistic longitude & latitude values. Convert longitude & latitude `,` separator to `.` separator.\"\n",
    "    def __init__(self, verbose=False): fc.store_attr()\n",
    "    def __call__(self, tfm):\n",
    "        for grp, df in tfm.dfs.items():\n",
    "            \" Convert `,` separator to `.` separator\"\n",
    "            df['lon'] = [float(str(x).replace(',', '.')) for x in df['lon']]\n",
    "            df['lat'] = [float(str(x).replace(',', '.')) for x in df['lat']]\n",
    "            \n",
    "            # mask zero values\n",
    "            mask_zeroes = (df.lon == 0) & (df.lat == 0) \n",
    "            nZeroes = mask_zeroes.sum()\n",
    "            if nZeroes and self.verbose: \n",
    "                print(f'The \"{grp}\" group contains {nZeroes} data points whose (lon, lat) = (0, 0)')\n",
    "            \n",
    "            # mask gps out of bounds, goob. \n",
    "            mask_goob = (df.lon < -180) | (df.lon > 180) | (df.lat < -90) | (df.lat > 90)\n",
    "            nGoob = mask_goob.sum()\n",
    "            if nGoob and self.verbose: \n",
    "                print(f'The \"{grp}\" group contains {nGoob} data points whose lon or lat are unrealistic. Outside -90 to 90 for latitude and -180 to 180 for longitude.')\n",
    "                \n",
    "            tfm.dfs[grp] = df.loc[~(mask_zeroes | mask_goob)]"
   ]
  },
  {
   "cell_type": "code",
   "execution_count": 11,
   "id": "efd3a0b6",
   "metadata": {},
   "outputs": [
    {
     "name": "stdout",
     "output_type": "stream",
     "text": [
      "The \"biota\" group contains 2 data points whose (lon, lat) = (0, 0)\n"
     ]
    },
    {
     "data": {
      "text/html": [
       "<div>\n",
       "<style scoped>\n",
       "    .dataframe tbody tr th:only-of-type {\n",
       "        vertical-align: middle;\n",
       "    }\n",
       "\n",
       "    .dataframe tbody tr th {\n",
       "        vertical-align: top;\n",
       "    }\n",
       "\n",
       "    .dataframe thead th {\n",
       "        text-align: right;\n",
       "    }\n",
       "</style>\n",
       "<table border=\"1\" class=\"dataframe\">\n",
       "  <thead>\n",
       "    <tr style=\"text-align: right;\">\n",
       "      <th></th>\n",
       "      <th>lon</th>\n",
       "      <th>lat</th>\n",
       "    </tr>\n",
       "  </thead>\n",
       "  <tbody>\n",
       "    <tr>\n",
       "      <th>1</th>\n",
       "      <td>1.0</td>\n",
       "      <td>2.0</td>\n",
       "    </tr>\n",
       "  </tbody>\n",
       "</table>\n",
       "</div>"
      ],
      "text/plain": [
       "   lon  lat\n",
       "1  1.0  2.0"
      ]
     },
     "execution_count": 11,
     "metadata": {},
     "output_type": "execute_result"
    }
   ],
   "source": [
    "dfs = {'biota': pd.DataFrame({'lon': [0, 1, 0], 'lat': [0, 2, 0]})}\n",
    "tfm = Transformer(dfs, cbs=[SanitizeLonLatCB(verbose=True)])\n",
    "tfm()['biota']"
   ]
  }
 ],
 "metadata": {
  "kernelspec": {
   "display_name": "Python 3 (ipykernel)",
   "language": "python",
   "name": "python3"
  },
  "language_info": {
   "codemirror_mode": {
    "name": "ipython",
    "version": 3
   },
   "file_extension": ".py",
   "mimetype": "text/x-python",
   "name": "python",
   "nbconvert_exporter": "python",
   "pygments_lexer": "ipython3",
   "version": "3.9.18"
  }
 },
 "nbformat": 4,
 "nbformat_minor": 5
}

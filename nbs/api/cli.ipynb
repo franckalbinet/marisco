{
 "cells": [
  {
   "cell_type": "code",
   "execution_count": null,
   "id": "b2942856",
   "metadata": {},
   "outputs": [],
   "source": [
    "#| default_exp cli"
   ]
  },
  {
   "cell_type": "markdown",
   "id": "cd5102db",
   "metadata": {},
   "source": [
    "# CLI\n",
    "> Command Line Interface Utilities"
   ]
  },
  {
   "cell_type": "code",
   "execution_count": null,
   "id": "d63613ba",
   "metadata": {},
   "outputs": [],
   "source": [
    "#|export\n",
    "from fastcore.script import *"
   ]
  },
  {
   "cell_type": "markdown",
   "id": "93370be5",
   "metadata": {},
   "source": [
    "## CDL (Common Data Language) templates"
   ]
  },
  {
   "cell_type": "code",
   "execution_count": null,
   "id": "eefc3332",
   "metadata": {},
   "outputs": [],
   "source": [
    "#|export\n",
    "@call_parse\n",
    "def cdl(msg:str,     # The message\n",
    "        upper:bool): # Convert to uppercase?\n",
    "    \"Generate MARIS CDL templates\"\n",
    "    print(msg.upper() if upper else msg)"
   ]
  },
  {
   "cell_type": "code",
   "execution_count": null,
   "id": "ec8a8b16",
   "metadata": {},
   "outputs": [],
   "source": []
  }
 ],
 "metadata": {
  "kernelspec": {
   "display_name": "Python 3 (ipykernel)",
   "language": "python",
   "name": "python3"
  }
 },
 "nbformat": 4,
 "nbformat_minor": 5
}

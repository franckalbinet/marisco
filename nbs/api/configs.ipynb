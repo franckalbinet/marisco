{
 "cells": [
  {
   "cell_type": "code",
   "execution_count": null,
   "id": "3faae62d",
   "metadata": {},
   "outputs": [],
   "source": [
    "#| default_exp configs"
   ]
  },
  {
   "cell_type": "code",
   "execution_count": null,
   "id": "3f92bc7b",
   "metadata": {},
   "outputs": [],
   "source": [
    "#| export\n",
    "from pathlib import Path\n",
    "from marisco.utils import read_toml, write_toml"
   ]
  },
  {
   "cell_type": "code",
   "execution_count": null,
   "id": "769c8330",
   "metadata": {},
   "outputs": [],
   "source": [
    "#| export\n",
    "BASE_PATH = Path.home() / '.marisco'\n",
    "GITHUB_REPO = 'franckalbinet/marisco'"
   ]
  },
  {
   "cell_type": "code",
   "execution_count": null,
   "id": "253231ba",
   "metadata": {},
   "outputs": [],
   "source": [
    "#| export\n",
    "def get_luts(names=['nuclide', 'biogroup', 'bodypar', 'sedtype', 'species']):\n",
    "    tpl_url = 'https://github.com/{repo}/blob/main/nbs/files/lut/dbo_{name}.xlsx?raw=true'\n",
    "    return {f'dbo_{name}.xlsx': tpl_url.format(repo=GITHUB_REPO, name=name) for name in names}        "
   ]
  },
  {
   "cell_type": "code",
   "execution_count": null,
   "id": "8ad36775",
   "metadata": {},
   "outputs": [
    {
     "data": {
      "text/plain": [
       "{'dbo_nuclide.xlsx': 'https://github.com/franckalbinet/marisco/blob/main/nbs/files/lut/dbo_nuclide.xlsx?raw=true',\n",
       " 'dbo_biogroup.xlsx': 'https://github.com/franckalbinet/marisco/blob/main/nbs/files/lut/dbo_biogroup.xlsx?raw=true',\n",
       " 'dbo_bodypar.xlsx': 'https://github.com/franckalbinet/marisco/blob/main/nbs/files/lut/dbo_bodypar.xlsx?raw=true',\n",
       " 'dbo_sedtype.xlsx': 'https://github.com/franckalbinet/marisco/blob/main/nbs/files/lut/dbo_sedtype.xlsx?raw=true',\n",
       " 'dbo_species.xlsx': 'https://github.com/franckalbinet/marisco/blob/main/nbs/files/lut/dbo_species.xlsx?raw=true'}"
      ]
     },
     "execution_count": null,
     "metadata": {},
     "output_type": "execute_result"
    }
   ],
   "source": [
    "get_luts()"
   ]
  },
  {
   "cell_type": "code",
   "execution_count": null,
   "id": "d6c6ee67",
   "metadata": {},
   "outputs": [],
   "source": [
    "#| export\n",
    "CONFIGS = {\n",
    "    'names': {\n",
    "        'nc_template': 'maris-template.nc'\n",
    "    },\n",
    "    'dirs': {\n",
    "        'lut': str(BASE_PATH / 'lut'), # Look-up tables\n",
    "        'tmp': str(BASE_PATH / 'tmp'), # Look-up tables\n",
    "    },\n",
    "    'paths': {\n",
    "        'luts': get_luts(['nuclide', 'biogroup', 'bodypar', \n",
    "                          'sedtype', 'species'])\n",
    "    },\n",
    "    'units': {\n",
    "        'time': 'seconds since 1970-01-01 00:00:00.0'\n",
    "    },\n",
    "    'zotero': {\n",
    "        'api_key': 'your-zotero-api-key',\n",
    "        'lib_id': '2432820'\n",
    "    }\n",
    "}"
   ]
  },
  {
   "cell_type": "code",
   "execution_count": null,
   "id": "eb19075a",
   "metadata": {},
   "outputs": [],
   "source": [
    "#| export\n",
    "CONFIGS_CDL = { \n",
    "    'placeholder': '_to_be_filled_in_',\n",
    "    'grps': {\n",
    "        'sea': {\n",
    "            'name': 'seawater'\n",
    "        },\n",
    "        'bio': {\n",
    "            'name': 'biota'\n",
    "        },\n",
    "        'sed': {\n",
    "            'name': 'sediment'\n",
    "        },\n",
    "        'sus': {\n",
    "            'name': 'suspended-matter'\n",
    "        }\n",
    "    },\n",
    "    'global_attrs': {\n",
    "        'id': '', # zotero?\n",
    "        'title': '',\n",
    "        'summary': '',\n",
    "        'keywords': '',\n",
    "        'keywords_vocabulary': 'GCMD Science Keywords',\n",
    "        'keywords_vocabulary_url': 'https://gcmd.earthdata.nasa.gov/static/kms/',\n",
    "        'record': '',\n",
    "        'featureType': '',\n",
    "        'cdm_data_type': '',\n",
    "\n",
    "        # Conventions\n",
    "        'Conventions': 'CF-1.10 ACDD-1.3',\n",
    "\n",
    "        # Publisher [ACDD1.3]\n",
    "        'publisher_name': 'Paul MCGINNITY, Iolanda OSVATH, Florence DESCROIX-COMANDUCCI',\n",
    "        'publisher_email': 'p.mc-ginnity@iaea.org, i.osvath@iaea.org, F.Descroix-Comanducci@iaea.org', \n",
    "        'publisher_url': 'https://maris.iaea.org',\n",
    "        'publisher_institution': 'International Atomic Energy Agency - IAEA', \n",
    "\n",
    "        # Creator info [ACDD1.3]\n",
    "        'creator_name': '',\n",
    "        'institution': '',\n",
    "        'metadata_link': '',\n",
    "        'creator_email': '',\n",
    "        'creator_url': '',\n",
    "        'references': '',\n",
    "        'license': ' '.join(['Without prejudice to the applicable Terms and Conditions', \n",
    "                             '(https://nucleus.iaea.org/Pages/Others/Disclaimer.aspx),',\n",
    "                             'I hereby agree that any use of the data will contain appropriate',\n",
    "                             'acknowledgement of the data source(s) and the IAEA Marine',\n",
    "                             'Radioactivity Information System (MARIS).']),\n",
    "        'comment': '',\n",
    "        # Dataset info & coordinates [ACDD1.3]\n",
    "        #'project': '', # Network long name\n",
    "        #'platform': '', # Should be a long / full name\n",
    "        'geospatial_lat_min': '', \n",
    "        'geospatial_lon_min': '',\n",
    "        'geospatial_lat_max': '',\n",
    "        'geospatial_lon_max': '',\n",
    "        'geospatial_vertical_min': '',\n",
    "        'geospatial_vertical_max': '',\n",
    "        'geospatial_bounds': '', # wkt representation\n",
    "        'geospatial_bounds_crs': 'EPSG:4326',\n",
    "\n",
    "        # Time information\n",
    "        'time_coverage_start': '',\n",
    "        'time_coverage_end': '',\n",
    "        #'time_coverage_resolution': '',\n",
    "        'local_time_zone': '',\n",
    "        'date_created': '',\n",
    "        'date_modified': '',\n",
    "        #\n",
    "        # -- Additional metadata (custom to MARIS)\n",
    "        #\n",
    "        'publisher_postprocess_logs': ''\n",
    "        },\n",
    "    'dim': {\n",
    "        'name': 'sample',\n",
    "        'attrs': {\n",
    "            'long_name': 'Sample ID of measurement'\n",
    "        },\n",
    "        'dtype': 'i4'\n",
    "    },\n",
    "    'vars': {    \n",
    "        'defaults': {\n",
    "            'lon': {\n",
    "                'name': 'lon',\n",
    "                'attrs': {\n",
    "                    'long_name': 'Measurement longitude',\n",
    "                    'standard_name': 'longitude',\n",
    "                    'units': 'degrees_north',\n",
    "                    'axis': 'Y',\n",
    "                    '_CoordinateAxisType': 'Lon'\n",
    "                },\n",
    "                'dtype': 'f4'\n",
    "            },\n",
    "            'lat': {\n",
    "                'name': 'lat',\n",
    "                'attrs': {\n",
    "                    'long_name': 'Measurement latitude',\n",
    "                    'standard_name': 'latitude',\n",
    "                    'units': 'degrees_east',\n",
    "                    'axis': 'X',\n",
    "                    '_CoordinateAxisType': 'Lat'\n",
    "                },\n",
    "                'dtype': 'f4'\n",
    "            },\n",
    "            'depth': {\n",
    "                'name': 'depth',\n",
    "                'attrs': {\n",
    "                    'long_name': 'Depth below seal level',\n",
    "                    'standard_name': 'depth_below_sea_floor',\n",
    "                    'units': 'm',\n",
    "                    'axis': 'Z'\n",
    "                },\n",
    "                'dtype': 'f4'\n",
    "            },\n",
    "            'time': {\n",
    "                'name': 'time',\n",
    "                'attrs': {\n",
    "                    'long_name': 'Time of measurement',\n",
    "                    'standard_name': 'time',\n",
    "                    'units': 'seconds since 1970-01-01 00:00:00.0',\n",
    "                    'time_origin': '1970-01-01 00:00:00',\n",
    "                    'time_zone': 'UTC',\n",
    "                    'abbreviation': 'Date/Time',\n",
    "                    'axis': 'T',\n",
    "                    'calendar': 'gregorian'\n",
    "                },\n",
    "                'dtype': 'u8',\n",
    "            },\n",
    "        },\n",
    "        'bio': {\n",
    "            'bio_group': {\n",
    "                'name': 'bio_group',\n",
    "                'attrs': {\n",
    "                    'long_name': 'Biota group',\n",
    "                    'standard_name': 'biota_group_tbd'\n",
    "                },\n",
    "                #'dtype': BIO_GROUP_TYPE\n",
    "                #'dtype': 'bio_group_t'\n",
    "                'dtype': 'f4'\n",
    "            },\n",
    "            'species_id': {\n",
    "                'name': 'species_id',\n",
    "                'attrs': {  \n",
    "                    'long_name': 'Species ID',\n",
    "                    'standard_name': 'AphiaID'\n",
    "                },\n",
    "                'dtype': 'u8'\n",
    "            },\n",
    "            'body_part': {\n",
    "                'name': 'body_part',\n",
    "                'attrs': {\n",
    "                    'long_name': 'Body part',\n",
    "                    'standard_name': 'body_part_tbd'\n",
    "                },\n",
    "                #'dtype': BODY_PART_TYPE\n",
    "                'dtype': 'f4'\n",
    "                \n",
    "            }\n",
    "        },\n",
    "        'sed': {\n",
    "            'sed_type': {\n",
    "                'name': 'sed_type',\n",
    "                'attrs': {\n",
    "                    'long_name': 'Sediment type',\n",
    "                    'standard_name': 'sediment_type_tbd'\n",
    "                },\n",
    "                #'dtype': SED_TYPE\n",
    "                'dtype': 'f4'\n",
    "            }\n",
    "        },\n",
    "        'suffixes':  {\n",
    "            'uncertainty': {\n",
    "                'name': '_unc',\n",
    "                'attrs': {\n",
    "                    'long_name': ' uncertainty',\n",
    "                    'standard_name': '_uncertainty'\n",
    "                }\n",
    "            },\n",
    "            'detection_limit': {\n",
    "                'name': '_dl',\n",
    "                'attrs': {\n",
    "                    'long_name': ' detection limit',\n",
    "                    'standard_name': '_detection_limit'\n",
    "                }\n",
    "            }\n",
    "        }\n",
    "    }\n",
    "}"
   ]
  },
  {
   "cell_type": "code",
   "execution_count": null,
   "id": "e2f4fb7c",
   "metadata": {},
   "outputs": [],
   "source": [
    "#| export\n",
    "name2grp = lambda x: {v['name']:k  for k, v in CONFIGS_CDL['grps'].items()}[x]"
   ]
  },
  {
   "cell_type": "code",
   "execution_count": null,
   "id": "e3232cc8",
   "metadata": {},
   "outputs": [],
   "source": [
    "#| export\n",
    "def get_nc_tpl_path():\n",
    "    return BASE_PATH / read_toml(BASE_PATH / 'configs.toml')['names']['nc_template']"
   ]
  },
  {
   "cell_type": "code",
   "execution_count": null,
   "id": "ffc5ff6f",
   "metadata": {},
   "outputs": [
    {
     "data": {
      "text/plain": [
       "{'names': {'nc_template': 'maris-template.nc'},\n",
       " 'dirs': {'lut': '/Users/franckalbinet/.marisco/lut',\n",
       "  'tmp': '/Users/franckalbinet/.marisco/tmp'},\n",
       " 'paths': {'luts': {'dbo_nuclide.xlsx': 'https://github.com/franckalbinet/marisco/blob/main/nbs/files/lut/dbo_nuclide.xlsx?raw=true',\n",
       "   'dbo_biogroup.xlsx': 'https://github.com/franckalbinet/marisco/blob/main/nbs/files/lut/dbo_biogroup.xlsx?raw=true',\n",
       "   'dbo_bodypar.xlsx': 'https://github.com/franckalbinet/marisco/blob/main/nbs/files/lut/dbo_bodypar.xlsx?raw=true',\n",
       "   'dbo_sedtype.xlsx': 'https://github.com/franckalbinet/marisco/blob/main/nbs/files/lut/dbo_sedtype.xlsx?raw=true',\n",
       "   'dbo_species.xlsx': 'https://github.com/franckalbinet/marisco/blob/main/nbs/files/lut/dbo_species.xlsx?raw=true'}},\n",
       " 'units': {'time': 'seconds since 1970-01-01 00:00:00.0'},\n",
       " 'zotero': {'api_key': 'your-zotero-api-key', 'lib_id': '2432820'}}"
      ]
     },
     "execution_count": null,
     "metadata": {},
     "output_type": "execute_result"
    }
   ],
   "source": [
    "read_toml(BASE_PATH / 'configs.toml')"
   ]
  },
  {
   "cell_type": "code",
   "execution_count": null,
   "id": "d5791530",
   "metadata": {},
   "outputs": [],
   "source": [
    "#| export\n",
    "def get_cfgs(key=None):\n",
    "    cfgs = read_toml(BASE_PATH / 'configs.toml')\n",
    "    return cfgs if key is None else cfgs[key]"
   ]
  },
  {
   "cell_type": "code",
   "execution_count": null,
   "id": "de532f71",
   "metadata": {},
   "outputs": [
    {
     "name": "stdout",
     "output_type": "stream",
     "text": [
      "Creating files/cdl.toml\n"
     ]
    }
   ],
   "source": [
    "cdl_fname = 'cdl.toml'\n",
    "write_toml(Path('./files') / cdl_fname, CONFIGS_CDL)"
   ]
  },
  {
   "cell_type": "code",
   "execution_count": null,
   "id": "878214ea",
   "metadata": {},
   "outputs": [],
   "source": []
  }
 ],
 "metadata": {
  "kernelspec": {
   "display_name": "Python 3 (ipykernel)",
   "language": "python",
   "name": "python3"
  }
 },
 "nbformat": 4,
 "nbformat_minor": 5
}

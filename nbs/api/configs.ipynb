{
 "cells": [
  {
   "cell_type": "code",
   "execution_count": null,
   "id": "3faae62d",
   "metadata": {},
   "outputs": [],
   "source": [
    "#| default_exp configs"
   ]
  },
  {
   "cell_type": "markdown",
   "id": "39625b55",
   "metadata": {},
   "source": [
    "# Configs\n",
    "> Several dictionaries used to generate `.toml` configuration files copied under `/home/.marisco` folder and associated utilities function. These `.toml` files can be then adapted to your specific needs if required.\n",
    "\n"
   ]
  },
  {
   "cell_type": "code",
   "execution_count": null,
   "id": "3f92bc7b",
   "metadata": {},
   "outputs": [],
   "source": [
    "#| export\n",
    "from pathlib import Path\n",
    "import re\n",
    "from functools import partial\n",
    "\n",
    "from marisco.utils import read_toml, write_toml\n",
    "import pandas as pd\n",
    "\n",
    "import fastcore.all as fc"
   ]
  },
  {
   "cell_type": "markdown",
   "id": "8b0ebe6c",
   "metadata": {},
   "source": [
    "## Configuration files"
   ]
  },
  {
   "cell_type": "code",
   "execution_count": null,
   "id": "ce2ce274",
   "metadata": {},
   "outputs": [],
   "source": [
    "#| export\n",
    "CFG_FNAME = 'configs.toml'\n",
    "CDL_FNAME = 'cdl.toml'"
   ]
  },
  {
   "cell_type": "code",
   "execution_count": null,
   "id": "769c8330",
   "metadata": {},
   "outputs": [],
   "source": [
    "#| export\n",
    "BASE_PATH = Path.home() / '.marisco'"
   ]
  },
  {
   "cell_type": "markdown",
   "id": "da0f1175",
   "metadata": {},
   "source": [
    "By default, we create a folder named `.marisco` under your home directory that will receive all configuration files as defined in `BASE_PATH`:"
   ]
  },
  {
   "cell_type": "code",
   "execution_count": null,
   "id": "fe650289",
   "metadata": {},
   "outputs": [
    {
     "data": {
      "text/plain": [
       "Path('/Users/franckalbinet/.marisco')"
      ]
     },
     "execution_count": null,
     "metadata": {},
     "output_type": "execute_result"
    }
   ],
   "source": [
    "BASE_PATH"
   ]
  },
  {
   "cell_type": "code",
   "execution_count": null,
   "id": "d6c6ee67",
   "metadata": {},
   "outputs": [],
   "source": [
    "#| export\n",
    "CONFIGS = {\n",
    "    'gh': {\n",
    "        'owner': 'franckalbinet',\n",
    "        'repo': 'marisco'\n",
    "    },\n",
    "    'names': {\n",
    "        'nc_template': 'maris-template.nc'\n",
    "    },\n",
    "    'dirs': {\n",
    "        'lut': str(BASE_PATH / 'lut'), # Look-up tables\n",
    "        'tmp': str(BASE_PATH / 'tmp')\n",
    "    },\n",
    "    'paths': {\n",
    "        'luts': 'nbs/files/lut'\n",
    "    },\n",
    "    'units': {\n",
    "        'time': 'seconds since 1970-01-01 00:00:00.0'\n",
    "    },\n",
    "    'zotero': {\n",
    "        'api_key': 'your-zotero-api-key',\n",
    "        'lib_id': '2432820'\n",
    "    }\n",
    "}"
   ]
  },
  {
   "cell_type": "markdown",
   "id": "f1bceb3e",
   "metadata": {},
   "source": [
    "The `CONFIGS` dictionary defines general settings:"
   ]
  },
  {
   "cell_type": "markdown",
   "id": "bbf9c5fe",
   "metadata": {},
   "source": [
    "| key     | Value  | Description                                   |\n",
    "|---------|-------------|--------------------------------------------|\n",
    "| `dirs/lut`   | `/Users/franckalbinet/.marisco/lut`         | Location & name of the directory receiving lookup tables.          |\n",
    "| `dirs/tmp`    |  `/Users/franckalbinet/.marisco/tmp`         | Location & name of temporary files.       |\n",
    "| `gh/owner`     |  `franckalbinet`       | GitHub account owner.                             |\n",
    "| `gh/repo`      |  `marisco`       |   GitHub user used to download specific files (e.g lookup tables) during installation.                                  |\n",
    "| `names/nc_template`   | `maris-template.nc` |  Name of the MARIS NetCDF4 template.                         |\n",
    "| `paths_luts`   |  `nbs/files/lut`        |  GitHub repository directory name containing lookup tables.                             |\n",
    "| `units_time`   |    `seconds since 1970-01-01 00:00:00.0`     | Reference date and time used for [NetCDF time encoding](https://unidata.github.io/cftime/).        |\n",
    "| `zotero/api_key`  | `your-zotero-api-key`      |   Zotero API key.                     |\n",
    "| `zotero/lib_id`  |  `2432820`       | Zotero library ID.                                  |\n"
   ]
  },
  {
   "cell_type": "markdown",
   "id": "f77301ff",
   "metadata": {},
   "source": [
    "The main `CONFIGS_CDL` dictionary, used to generate a [NetCDF CDL (Common Data Language)](https://www.unidata.ucar.edu/software/netcdf/workshops/2012/nc3model/Cdl.html) `.toml` file. This file is then used to generate a template MARIS netcdf file. For further details refers to the [`configs.ipynb`](https://github.com/franckalbinet/marisco/blob/main/nbs/api/configs.ipynb) file.\n",
    "\n",
    "Below, the vars/defaults section printed:"
   ]
  },
  {
   "cell_type": "code",
   "execution_count": null,
   "id": "eb19075a",
   "metadata": {},
   "outputs": [],
   "source": [
    "#| export\n",
    "CONFIGS_CDL = { \n",
    "    'placeholder': '_to_be_filled_in_',\n",
    "    'grps': {\n",
    "        'sea': {\n",
    "            'name': 'seawater'\n",
    "        },\n",
    "        'bio': {\n",
    "            'name': 'biota'\n",
    "        },\n",
    "        'sed': {\n",
    "            'name': 'sediment'\n",
    "        },\n",
    "        'sus': {\n",
    "            'name': 'suspended-matter'\n",
    "        }\n",
    "    },\n",
    "    'global_attrs': {\n",
    "        'id': '', # zotero?\n",
    "        'title': '',\n",
    "        'summary': '',\n",
    "        'keywords': '',\n",
    "        'keywords_vocabulary': 'GCMD Science Keywords',\n",
    "        'keywords_vocabulary_url': 'https://gcmd.earthdata.nasa.gov/static/kms/',\n",
    "        'record': '',\n",
    "        'featureType': '',\n",
    "        'cdm_data_type': '',\n",
    "\n",
    "        # Conventions\n",
    "        'Conventions': 'CF-1.10 ACDD-1.3',\n",
    "\n",
    "        # Publisher [ACDD1.3]\n",
    "        'publisher_name': 'Paul MCGINNITY, Iolanda OSVATH, Florence DESCROIX-COMANDUCCI',\n",
    "        'publisher_email': 'p.mc-ginnity@iaea.org, i.osvath@iaea.org, F.Descroix-Comanducci@iaea.org', \n",
    "        'publisher_url': 'https://maris.iaea.org',\n",
    "        'publisher_institution': 'International Atomic Energy Agency - IAEA', \n",
    "\n",
    "        # Creator info [ACDD1.3]\n",
    "        'creator_name': '',\n",
    "        'institution': '',\n",
    "        'metadata_link': '',\n",
    "        'creator_email': '',\n",
    "        'creator_url': '',\n",
    "        'references': '',\n",
    "        'license': ' '.join(['Without prejudice to the applicable Terms and Conditions', \n",
    "                             '(https://nucleus.iaea.org/Pages/Others/Disclaimer.aspx),',\n",
    "                             'I hereby agree that any use of the data will contain appropriate',\n",
    "                             'acknowledgement of the data source(s) and the IAEA Marine',\n",
    "                             'Radioactivity Information System (MARIS).']),\n",
    "        'comment': '',\n",
    "        # Dataset info & coordinates [ACDD1.3]\n",
    "        #'project': '', # Network long name\n",
    "        #'platform': '', # Should be a long / full name\n",
    "        'geospatial_lat_min': '', \n",
    "        'geospatial_lon_min': '',\n",
    "        'geospatial_lat_max': '',\n",
    "        'geospatial_lon_max': '',\n",
    "        'geospatial_vertical_min': '',\n",
    "        'geospatial_vertical_max': '',\n",
    "        'geospatial_bounds': '', # wkt representation\n",
    "        'geospatial_bounds_crs': 'EPSG:4326',\n",
    "\n",
    "        # Time information\n",
    "        'time_coverage_start': '',\n",
    "        'time_coverage_end': '',\n",
    "        #'time_coverage_resolution': '',\n",
    "        'local_time_zone': '',\n",
    "        'date_created': '',\n",
    "        'date_modified': '',\n",
    "        #\n",
    "        # -- Additional metadata (custom to MARIS)\n",
    "        #\n",
    "        'publisher_postprocess_logs': ''\n",
    "        },\n",
    "    'dim': {\n",
    "        'name': 'sample',\n",
    "        'attrs': {\n",
    "            'long_name': 'Sample ID of measurement'\n",
    "        },\n",
    "        'dtype': 'u8'\n",
    "    },\n",
    "    'vars': {    \n",
    "        'defaults': {\n",
    "            'lon': {\n",
    "                'name': 'lon',\n",
    "                'attrs': {\n",
    "                    'long_name': 'Measurement longitude',\n",
    "                    'standard_name': 'longitude',\n",
    "                    'units': 'degrees_north',\n",
    "                    'axis': 'Y',\n",
    "                    '_CoordinateAxisType': 'Lon'\n",
    "                },\n",
    "                'dtype': 'f4'\n",
    "            },\n",
    "            'lat': {\n",
    "                'name': 'lat',\n",
    "                'attrs': {\n",
    "                    'long_name': 'Measurement latitude',\n",
    "                    'standard_name': 'latitude',\n",
    "                    'units': 'degrees_east',\n",
    "                    'axis': 'X',\n",
    "                    '_CoordinateAxisType': 'Lat'\n",
    "                },\n",
    "                'dtype': 'f4'\n",
    "            },\n",
    "            'depth': {\n",
    "                'name': 'depth',\n",
    "                'attrs': {\n",
    "                    'long_name': 'Depth below seal level',\n",
    "                    'standard_name': 'depth_below_sea_floor',\n",
    "                    'units': 'm',\n",
    "                    'axis': 'Z'\n",
    "                },\n",
    "                'dtype': 'f4'\n",
    "            },\n",
    "            'time': {\n",
    "                'name': 'time',\n",
    "                'attrs': {\n",
    "                    'long_name': 'Time of measurement',\n",
    "                    'standard_name': 'time',\n",
    "                    'units': 'seconds since 1970-01-01 00:00:00.0',\n",
    "                    'time_origin': '1970-01-01 00:00:00',\n",
    "                    'time_zone': 'UTC',\n",
    "                    'abbreviation': 'Date/Time',\n",
    "                    'axis': 'T',\n",
    "                    'calendar': 'gregorian'\n",
    "                },\n",
    "                'dtype': 'u8',\n",
    "            },\n",
    "        },\n",
    "        'bio': {\n",
    "            'bio_group': {\n",
    "                'name': 'bio_group',\n",
    "                'attrs': {\n",
    "                    'long_name': 'Biota group',\n",
    "                    'standard_name': 'biota_group_tbd'\n",
    "                },\n",
    "                'dtype': 'bio_group_t'\n",
    "                # 'dtype': 'f4'\n",
    "            },\n",
    "            'species_id': {\n",
    "                'name': 'species_id',\n",
    "                'attrs': {  \n",
    "                    'long_name': 'Species ID',\n",
    "                    'standard_name': 'AphiaID'\n",
    "                },\n",
    "                'dtype': 'species_t'\n",
    "            },\n",
    "            'body_part': {\n",
    "                'name': 'body_part',\n",
    "                'attrs': {\n",
    "                    'long_name': 'Body part',\n",
    "                    'standard_name': 'body_part_tbd'\n",
    "                },\n",
    "                'dtype': 'body_part_t' \n",
    "            }\n",
    "        },\n",
    "        'sed': {\n",
    "            'sed_type': {\n",
    "                'name': 'sed_type',\n",
    "                'attrs': {\n",
    "                    'long_name': 'Sediment type',\n",
    "                    'standard_name': 'sediment_type_tbd'\n",
    "                },\n",
    "                'dtype': 'sed_type_t'\n",
    "            }\n",
    "        },\n",
    "        'suffixes':  {\n",
    "            'uncertainty': {\n",
    "                'name': '_unc',\n",
    "                'attrs': {\n",
    "                    'long_name': ' uncertainty',\n",
    "                    'standard_name': '_uncertainty'\n",
    "                },\n",
    "                'dtype': 'f4'\n",
    "            },\n",
    "            'detection_limit': {\n",
    "                'name': '_dl',\n",
    "                'attrs': {\n",
    "                    'long_name': ' detection limit',\n",
    "                    'standard_name': '_detection_limit'\n",
    "                },\n",
    "                'dtype': 'dl_type_t'\n",
    "            },\n",
    "            'volume': {\n",
    "                'name': '_vol',\n",
    "                'attrs': {\n",
    "                    'long_name': ' volume',\n",
    "                    'standard_name': '_volume'\n",
    "                },\n",
    "                'dtype': 'f4'\n",
    "            },\n",
    "            'filtered': {\n",
    "                'name': '_filt',\n",
    "                'attrs': {\n",
    "                    'long_name': ' filtered',\n",
    "                    'standard_name': '_filtered'\n",
    "                }\n",
    "            },\n",
    "            'counting_method': {\n",
    "                'name': '_counmet',\n",
    "                'attrs': {\n",
    "                    'long_name': ' counting method',\n",
    "                    'standard_name': '_counting_method'\n",
    "                }\n",
    "            },\n",
    "            'unit': {\n",
    "                'name': '_unit',\n",
    "                'attrs': {\n",
    "                    'long_name': ' unit',\n",
    "                    'standard_name': '_unit'\n",
    "                }\n",
    "            }\n",
    "        }\n",
    "    },\n",
    "    'enums': [\n",
    "        {\n",
    "            'name': 'bio_group_t', \n",
    "            'fname': 'dbo_biogroup.xlsx', \n",
    "            'key': 'biogroup', \n",
    "            'value':'biogroup_id'\n",
    "        },\n",
    "        {\n",
    "            'name': 'body_part_t', \n",
    "            'fname': 'dbo_bodypar.xlsx', \n",
    "            'key': 'bodypar', \n",
    "            'value':'bodypar_id'\n",
    "        },\n",
    "        {\n",
    "            'name': 'species_t', \n",
    "            'fname': 'dbo_species.xlsx', \n",
    "            'key': 'species', \n",
    "            'value':'species_id'\n",
    "        },\n",
    "        {\n",
    "            'name': 'sed_type_t', \n",
    "            'fname': 'dbo_sedtype.xlsx', \n",
    "            'key': 'sedtype', \n",
    "            'value':'sedtype_id'\n",
    "        },\n",
    "        {\n",
    "            'name': 'dl_type_t', \n",
    "            'fname': 'dbo_detection.xlsx', \n",
    "            'key': 'detection_name', \n",
    "            'value':'detection_id'\n",
    "        }\n",
    "        ]\n",
    "}"
   ]
  },
  {
   "cell_type": "code",
   "execution_count": null,
   "id": "1c91f897",
   "metadata": {},
   "outputs": [
    {
     "data": {
      "text/markdown": [
       "```json\n",
       "{ 'depth': { 'attrs': { 'axis': 'Z',\n",
       "                        'long_name': 'Depth below seal level',\n",
       "                        'standard_name': 'depth_below_sea_floor',\n",
       "                        'units': 'm'},\n",
       "             'dtype': 'f4',\n",
       "             'name': 'depth'},\n",
       "  'lat': { 'attrs': { '_CoordinateAxisType': 'Lat',\n",
       "                      'axis': 'X',\n",
       "                      'long_name': 'Measurement latitude',\n",
       "                      'standard_name': 'latitude',\n",
       "                      'units': 'degrees_east'},\n",
       "           'dtype': 'f4',\n",
       "           'name': 'lat'},\n",
       "  'lon': { 'attrs': { '_CoordinateAxisType': 'Lon',\n",
       "                      'axis': 'Y',\n",
       "                      'long_name': 'Measurement longitude',\n",
       "                      'standard_name': 'longitude',\n",
       "                      'units': 'degrees_north'},\n",
       "           'dtype': 'f4',\n",
       "           'name': 'lon'},\n",
       "  'time': { 'attrs': { 'abbreviation': 'Date/Time',\n",
       "                       'axis': 'T',\n",
       "                       'calendar': 'gregorian',\n",
       "                       'long_name': 'Time of measurement',\n",
       "                       'standard_name': 'time',\n",
       "                       'time_origin': '1970-01-01 00:00:00',\n",
       "                       'time_zone': 'UTC',\n",
       "                       'units': 'seconds since 1970-01-01 00:00:00.0'},\n",
       "            'dtype': 'u8',\n",
       "            'name': 'time'}}\n",
       "```"
      ],
      "text/plain": [
       "{'lon': {'name': 'lon',\n",
       "  'attrs': {'long_name': 'Measurement longitude',\n",
       "   'standard_name': 'longitude',\n",
       "   'units': 'degrees_north',\n",
       "   'axis': 'Y',\n",
       "   '_CoordinateAxisType': 'Lon'},\n",
       "  'dtype': 'f4'},\n",
       " 'lat': {'name': 'lat',\n",
       "  'attrs': {'long_name': 'Measurement latitude',\n",
       "   'standard_name': 'latitude',\n",
       "   'units': 'degrees_east',\n",
       "   'axis': 'X',\n",
       "   '_CoordinateAxisType': 'Lat'},\n",
       "  'dtype': 'f4'},\n",
       " 'depth': {'name': 'depth',\n",
       "  'attrs': {'long_name': 'Depth below seal level',\n",
       "   'standard_name': 'depth_below_sea_floor',\n",
       "   'units': 'm',\n",
       "   'axis': 'Z'},\n",
       "  'dtype': 'f4'},\n",
       " 'time': {'name': 'time',\n",
       "  'attrs': {'long_name': 'Time of measurement',\n",
       "   'standard_name': 'time',\n",
       "   'units': 'seconds since 1970-01-01 00:00:00.0',\n",
       "   'time_origin': '1970-01-01 00:00:00',\n",
       "   'time_zone': 'UTC',\n",
       "   'abbreviation': 'Date/Time',\n",
       "   'axis': 'T',\n",
       "   'calendar': 'gregorian'},\n",
       "  'dtype': 'u8'}}"
      ]
     },
     "execution_count": null,
     "metadata": {},
     "output_type": "execute_result"
    }
   ],
   "source": [
    "fc.AttrDict(CONFIGS_CDL['vars']['defaults'])"
   ]
  },
  {
   "cell_type": "code",
   "execution_count": null,
   "id": "de532f71",
   "metadata": {},
   "outputs": [
    {
     "name": "stdout",
     "output_type": "stream",
     "text": [
      "Creating files/cdl.toml\n"
     ]
    }
   ],
   "source": [
    "#| hide\n",
    "write_toml(Path('./files') / CDL_FNAME, CONFIGS_CDL)"
   ]
  },
  {
   "cell_type": "markdown",
   "id": "6ae6efe2",
   "metadata": {},
   "source": [
    "## Utilities function"
   ]
  },
  {
   "cell_type": "code",
   "execution_count": null,
   "id": "f63b3971",
   "metadata": {},
   "outputs": [],
   "source": [
    "#| export\n",
    "NETCDF_TO_PYTHON_TYPE = {\n",
    "    'u8': int,\n",
    "    'f4': float\n",
    "    }"
   ]
  },
  {
   "cell_type": "code",
   "execution_count": null,
   "id": "e2f4fb7c",
   "metadata": {},
   "outputs": [],
   "source": [
    "#| export\n",
    "name2grp = lambda x: {v['name']:k  for k, v in CONFIGS_CDL['grps'].items()}[x]"
   ]
  },
  {
   "cell_type": "code",
   "execution_count": null,
   "id": "e3232cc8",
   "metadata": {},
   "outputs": [],
   "source": [
    "#| export\n",
    "def get_nc_tpl_path():\n",
    "    \"Return the name of the MARIS NetCDF template as defined in `configs.toml`\"\n",
    "    return BASE_PATH / read_toml(BASE_PATH / 'configs.toml')['names']['nc_template']"
   ]
  },
  {
   "cell_type": "code",
   "execution_count": null,
   "id": "91bfa3b8",
   "metadata": {},
   "outputs": [
    {
     "data": {
      "text/plain": [
       "Path('/Users/franckalbinet/.marisco/maris-template.nc')"
      ]
     },
     "execution_count": null,
     "metadata": {},
     "output_type": "execute_result"
    }
   ],
   "source": [
    "get_nc_tpl_path()"
   ]
  },
  {
   "cell_type": "code",
   "execution_count": null,
   "id": "d5791530",
   "metadata": {},
   "outputs": [],
   "source": [
    "#| export\n",
    "def get_cfgs(\n",
    "    key:str=None # `configs.toml` key of interest\n",
    "    ) -> dict: # `configs.toml` file as dictionary\n",
    "    \"Lookup specific or all `configs.toml` properties.\"\n",
    "    cfgs = read_toml(BASE_PATH / 'configs.toml')\n",
    "    return cfgs if key is None else cfgs[key]"
   ]
  },
  {
   "cell_type": "code",
   "execution_count": null,
   "id": "9e32c6a7",
   "metadata": {},
   "outputs": [
    {
     "data": {
      "text/markdown": [
       "```json\n",
       "{ 'dirs': { 'lut': '/Users/franckalbinet/.marisco/lut',\n",
       "            'tmp': '/Users/franckalbinet/.marisco/tmp'},\n",
       "  'gh': {'owner': 'franckalbinet', 'repo': 'marisco'},\n",
       "  'names': {'nc_template': 'maris-template.nc'},\n",
       "  'paths': {'luts': 'nbs/files/lut'},\n",
       "  'units': {'time': 'seconds since 1970-01-01 00:00:00.0'},\n",
       "  'zotero': {'api_key': 'your-zotero-api-key', 'lib_id': '2432820'}}\n",
       "```"
      ],
      "text/plain": [
       "{'gh': {'owner': 'franckalbinet', 'repo': 'marisco'},\n",
       " 'names': {'nc_template': 'maris-template.nc'},\n",
       " 'dirs': {'lut': '/Users/franckalbinet/.marisco/lut',\n",
       "  'tmp': '/Users/franckalbinet/.marisco/tmp'},\n",
       " 'paths': {'luts': 'nbs/files/lut'},\n",
       " 'units': {'time': 'seconds since 1970-01-01 00:00:00.0'},\n",
       " 'zotero': {'api_key': 'your-zotero-api-key', 'lib_id': '2432820'}}"
      ]
     },
     "execution_count": null,
     "metadata": {},
     "output_type": "execute_result"
    }
   ],
   "source": [
    "fc.AttrDict(get_cfgs())"
   ]
  },
  {
   "cell_type": "markdown",
   "id": "8bf0c692",
   "metadata": {},
   "source": [
    "## Enumeration types\n",
    "\n",
    "Enumeration types are used to avoid using strings as NetCDF4 variable values. Instead, enumeration types (lookup tables) such as `{'Crustaceans': 2, 'Echinoderms': 3, ...}` are prepended to the NetCDF file template and associated ids (integers) are used as values."
   ]
  },
  {
   "cell_type": "code",
   "execution_count": null,
   "id": "7e994e93",
   "metadata": {},
   "outputs": [],
   "source": [
    "#| export\n",
    "def sanitize(s:str # String to sanitize\n",
    "             ) -> str:\n",
    "    \"\"\"\n",
    "    Sanitize dictionary key to comply with NetCDF enumeration type: \n",
    "    \n",
    "        - remove `(`, `)`, `.`, `/`, `-`  \n",
    "        - strip the string\n",
    "    \"\"\"\n",
    "    s = re.sub(r'[().]', '', s)\n",
    "    return re.sub(r'[/-]', ' ', s).strip() "
   ]
  },
  {
   "cell_type": "markdown",
   "id": "166d13eb",
   "metadata": {},
   "source": [
    "For example:"
   ]
  },
  {
   "cell_type": "code",
   "execution_count": null,
   "id": "c4159f54",
   "metadata": {},
   "outputs": [],
   "source": [
    "fc.test_eq(sanitize('key (sanitized)'), 'key sanitized')\n",
    "fc.test_eq(sanitize('key san.itized'), 'key sanitized')\n",
    "fc.test_eq(sanitize('key-sanitized'), 'key sanitized')\n",
    "fc.test_eq(sanitize('key/sanitized'), 'key sanitized')"
   ]
  },
  {
   "cell_type": "markdown",
   "id": "fb741360",
   "metadata": {},
   "source": [
    "NetCDF4 enumeration type seems to not accept keys containing non alphanumeric characters like parentheses, dots, slash, ... As a result, MARIS lookup table needs to be sanitized."
   ]
  },
  {
   "cell_type": "code",
   "execution_count": null,
   "id": "5b35a979",
   "metadata": {},
   "outputs": [],
   "source": [
    "\n",
    "# def get_lut(src_dir:str, # Directory containing lookup tables\n",
    "#             fname:str, # Excel file lookup table name\n",
    "#             name:str, # Excel file column name to be used as dict keys \n",
    "#             idx:str, # Excel file column name to be used as dict values \n",
    "#             do_sanitize:bool=True # Sanitization required?\n",
    "#             ) -> dict: # MARIS lookup table\n",
    "#     \"Convert MARIS db lookup table excel file to dictionary `{'name': id, ...}`.\"\n",
    "    \n",
    "#     # fname = Path(get_cfgs(key='dirs')['lut']) / fname\n",
    "#     fname = Path(src_dir) / fname\n",
    "#     lut = pd.read_excel(fname, index_col=name, usecols=[name, idx])[idx].to_dict()\n",
    "#     if do_sanitize:\n",
    "#         lut = {sanitize(key): value for key, value in lut.items()}\n",
    "#     return lut"
   ]
  },
  {
   "cell_type": "code",
   "execution_count": null,
   "id": "0d172382",
   "metadata": {},
   "outputs": [],
   "source": [
    "#| export\n",
    "def get_lut(src_dir:str, # Directory containing lookup tables\n",
    "            fname:str, # Excel file lookup table name\n",
    "            key:str, # Excel file column name to be used as dict keys \n",
    "            value:str, # Excel file column name to be used as dict values \n",
    "            do_sanitize:bool=True # Sanitization required?\n",
    "            ) -> dict: # MARIS lookup table\n",
    "    \"Convert MARIS db lookup table excel file to dictionary `{'name': id, ...}`.\"\n",
    "    fname = Path(src_dir) / fname\n",
    "    lut = pd.read_excel(fname, index_col=key, usecols=[key, value])[value].to_dict()\n",
    "    if do_sanitize:\n",
    "        lut = {sanitize(k): v for k, v in lut.items()}\n",
    "    return lut"
   ]
  },
  {
   "cell_type": "markdown",
   "id": "3614a7f4",
   "metadata": {},
   "source": [
    "For example:"
   ]
  },
  {
   "cell_type": "code",
   "execution_count": null,
   "id": "d8719ef0",
   "metadata": {},
   "outputs": [
    {
     "data": {
      "text/plain": [
       "{'Not available': 0,\n",
       " 'Birds': 1,\n",
       " 'Crustaceans': 2,\n",
       " 'Echinoderms': 3,\n",
       " 'Fish': 4,\n",
       " 'Mammals': 5,\n",
       " 'Molluscs': 6,\n",
       " 'Others': 7,\n",
       " 'Plankton': 8,\n",
       " 'Polychaete worms': 9,\n",
       " 'Reptile': 10,\n",
       " 'Seaweeds and plants': 11,\n",
       " 'Cephalopods': 12,\n",
       " 'Gastropods': 13,\n",
       " 'Bivalves': 14}"
      ]
     },
     "execution_count": null,
     "metadata": {},
     "output_type": "execute_result"
    }
   ],
   "source": [
    "lut_src_dir = './files/lut'\n",
    "get_lut(lut_src_dir, 'dbo_biogroup.xlsx', key='biogroup', value='biogroup_id')"
   ]
  },
  {
   "cell_type": "code",
   "execution_count": null,
   "id": "307ddf57",
   "metadata": {},
   "outputs": [],
   "source": [
    "#| export\n",
    "def enum_types(\n",
    "    luts:list\n",
    "    ):\n",
    "    \"Return a dictionary of \"\n",
    "    return {\n",
    "        lut['name']: partial(get_lut, \n",
    "                             fname=lut['fname'],\n",
    "                             key=lut['key'], value=lut['value']) for lut in luts\n",
    "        }"
   ]
  },
  {
   "cell_type": "code",
   "execution_count": null,
   "id": "444ede61",
   "metadata": {},
   "outputs": [],
   "source": [
    "# 1. retrieve the list of dict in cdl.toml\n",
    "# 2. "
   ]
  },
  {
   "cell_type": "code",
   "execution_count": null,
   "id": "ce76e8d8",
   "metadata": {},
   "outputs": [
    {
     "data": {
      "text/plain": [
       "Path('/Users/franckalbinet/.marisco/configs.toml')"
      ]
     },
     "execution_count": null,
     "metadata": {},
     "output_type": "execute_result"
    }
   ],
   "source": [
    "# retrieve the enum_dicts\n",
    "BASE_PATH / CFG_FNAME"
   ]
  },
  {
   "cell_type": "code",
   "execution_count": null,
   "id": "3f394635",
   "metadata": {},
   "outputs": [
    {
     "ename": "KeyError",
     "evalue": "'enums'",
     "output_type": "error",
     "traceback": [
      "\u001b[0;31m---------------------------------------------------------------------------\u001b[0m",
      "\u001b[0;31mKeyError\u001b[0m                                  Traceback (most recent call last)",
      "\u001b[1;32m/Users/franckalbinet/pro/IAEA/MARIS/marisco/nbs/api/configs.ipynb Cell 35\u001b[0m line \u001b[0;36m1\n\u001b[0;32m----> <a href='vscode-notebook-cell:/Users/franckalbinet/pro/IAEA/MARIS/marisco/nbs/api/configs.ipynb#X43sZmlsZQ%3D%3D?line=0'>1</a>\u001b[0m luts \u001b[39m=\u001b[39m read_toml(\u001b[39m'\u001b[39;49m\u001b[39m./files/cdl.toml\u001b[39;49m\u001b[39m'\u001b[39;49m)[\u001b[39m'\u001b[39;49m\u001b[39menums\u001b[39;49m\u001b[39m'\u001b[39;49m]; luts\n",
      "\u001b[0;31mKeyError\u001b[0m: 'enums'"
     ]
    }
   ],
   "source": [
    "luts = read_toml('./files/cdl.toml')['enums']; luts"
   ]
  },
  {
   "cell_type": "code",
   "execution_count": null,
   "id": "c53d0b90",
   "metadata": {},
   "outputs": [],
   "source": [
    "# What's the point?\n",
    "# To get the enums, you need to get access to the downloaded lut table\n",
    "# Idem for the toml it is under .marisco and should be read after init\n",
    "# So it's only accessible after init\n",
    "# Then you need to pass as argument the path of the luts"
   ]
  },
  {
   "cell_type": "code",
   "execution_count": null,
   "id": "aad564d2",
   "metadata": {},
   "outputs": [
    {
     "data": {
      "text/plain": [
       "{'bio_group_t': functools.partial(<function get_lut at 0x1365dd000>, fname='dbo_biogroup.xlsx', key='biogroup', value='biogroup_id'),\n",
       " 'body_part_t': functools.partial(<function get_lut at 0x1365dd000>, fname='dbo_bodypar.xlsx', key='bodypar', value='bodypar_id'),\n",
       " 'species_t': functools.partial(<function get_lut at 0x1365dd000>, fname='dbo_species.xlsx', key='species', value='species_id'),\n",
       " 'sed_type_t': functools.partial(<function get_lut at 0x1365dd000>, fname='dbo_sedtype.xlsx', key='sedtype', value='sedtype_id'),\n",
       " 'dl_type_t': functools.partial(<function get_lut at 0x1365dd000>, fname='dbo_detection.xlsx', key='detection_name', value='detection_id')}"
      ]
     },
     "execution_count": null,
     "metadata": {},
     "output_type": "execute_result"
    }
   ],
   "source": [
    "enum_types(luts)"
   ]
  },
  {
   "cell_type": "code",
   "execution_count": null,
   "id": "637dbc7d",
   "metadata": {},
   "outputs": [],
   "source": [
    "# enum_type()\n",
    "# you know where to look. In .marisco/lut and .marisco/netcdf.tom"
   ]
  },
  {
   "cell_type": "code",
   "execution_count": null,
   "id": "118d7b85",
   "metadata": {},
   "outputs": [],
   "source": []
  },
  {
   "cell_type": "code",
   "execution_count": null,
   "id": "27101105",
   "metadata": {},
   "outputs": [
    {
     "data": {
      "text/plain": [
       "{'gh': {'owner': 'franckalbinet', 'repo': 'marisco'},\n",
       " 'names': {'nc_template': 'maris-template.nc'},\n",
       " 'dirs': {'lut': '/Users/franckalbinet/.marisco/lut',\n",
       "  'tmp': '/Users/franckalbinet/.marisco/tmp'},\n",
       " 'paths': {'luts': 'nbs/files/lut'},\n",
       " 'units': {'time': 'seconds since 1970-01-01 00:00:00.0'},\n",
       " 'zotero': {'api_key': 'your-zotero-api-key', 'lib_id': '2432820'}}"
      ]
     },
     "execution_count": null,
     "metadata": {},
     "output_type": "execute_result"
    }
   ],
   "source": [
    "get_cfgs()['dirs']"
   ]
  },
  {
   "cell_type": "code",
   "execution_count": null,
   "id": "f54970b4",
   "metadata": {},
   "outputs": [
    {
     "data": {
      "text/plain": [
       "'/Users/franckalbinet/.marisco/lut'"
      ]
     },
     "execution_count": null,
     "metadata": {},
     "output_type": "execute_result"
    }
   ],
   "source": [
    "lut_src_dir"
   ]
  },
  {
   "cell_type": "code",
   "execution_count": null,
   "id": "7902a841",
   "metadata": {},
   "outputs": [
    {
     "data": {
      "text/plain": [
       "{'Not available': 0,\n",
       " 'Birds': 1,\n",
       " 'Crustaceans': 2,\n",
       " 'Echinoderms': 3,\n",
       " 'Fish': 4,\n",
       " 'Mammals': 5,\n",
       " 'Molluscs': 6,\n",
       " 'Others': 7,\n",
       " 'Plankton': 8,\n",
       " 'Polychaete worms': 9,\n",
       " 'Reptile': 10,\n",
       " 'Seaweeds and plants': 11,\n",
       " 'Cephalopods': 12,\n",
       " 'Gastropods': 13,\n",
       " 'Bivalves': 14}"
      ]
     },
     "execution_count": null,
     "metadata": {},
     "output_type": "execute_result"
    }
   ],
   "source": [
    "lut_src_dir = get_cfgs(key='dirs')['lut']\n",
    "enum_types(luts)['bio_group_t'](lut_src_dir)"
   ]
  },
  {
   "cell_type": "code",
   "execution_count": null,
   "id": "9f24ec5b",
   "metadata": {},
   "outputs": [],
   "source": [
    "\n",
    "# enum_bio_group = partial(get_lut, fname='dbo_biogroup.xlsx', name='biogroup', idx='biogroup_id')\n",
    "# enum_body_par = get_lut('dbo_bodypar.xlsx', name='bodypar', idx='bodypar_id')\n",
    "# enum_species = get_lut('dbo_species.xlsx', name='species', idx='species_id')\n",
    "# enum_sed_type = get_lut('dbo_sedtype.xlsx', name='sedtype', idx='sedtype_id')\n",
    "# enum_dl_type = get_lut('dbo_detection.xlsx', name='detection_name', idx='detection_id')\n",
    "\n",
    "# enum_type_fn = {'bio_group_t': enum_bio_group,\n",
    "#                  'body_part_t': enum_body_par,\n",
    "#                  'species_t': enum_species,\n",
    "#                  'sed_type_t': enum_sed_type,\n",
    "#                  'dl_type_t': enum_dl_type}"
   ]
  },
  {
   "cell_type": "markdown",
   "id": "62e01dc4",
   "metadata": {},
   "source": [
    "The `ENUM_TYPE_LUT` contains the different enumeration type to be used:"
   ]
  },
  {
   "cell_type": "code",
   "execution_count": null,
   "id": "945bd94d",
   "metadata": {},
   "outputs": [],
   "source": [
    "# ENUM_TYPE_LUT.keys()"
   ]
  },
  {
   "cell_type": "code",
   "execution_count": null,
   "id": "00b8c711",
   "metadata": {},
   "outputs": [],
   "source": [
    "# fc.AttrDict(ENUM_TYPE_LUT['bio_group_t'])"
   ]
  },
  {
   "cell_type": "code",
   "execution_count": null,
   "id": "19ff8604",
   "metadata": {},
   "outputs": [],
   "source": [
    "# NUCLIDES_LUT = get_lut('dbo_nuclide.xlsx', name='nusymbol', idx='nc_name', sanitize=False)"
   ]
  },
  {
   "cell_type": "code",
   "execution_count": null,
   "id": "ed05185a",
   "metadata": {},
   "outputs": [],
   "source": []
  }
 ],
 "metadata": {
  "kernelspec": {
   "display_name": "Python 3 (ipykernel)",
   "language": "python",
   "name": "python3"
  }
 },
 "nbformat": 4,
 "nbformat_minor": 5
}

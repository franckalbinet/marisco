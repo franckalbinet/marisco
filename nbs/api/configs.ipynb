{
 "cells": [
  {
   "cell_type": "code",
   "execution_count": null,
   "id": "3faae62d",
   "metadata": {},
   "outputs": [],
   "source": [
    "#| default_exp configs"
   ]
  },
  {
   "cell_type": "markdown",
   "id": "39625b55",
   "metadata": {},
   "source": [
    "# Configs\n",
    "> Several dictionaries used to generate `.toml` configuration files copied under `/home/.marisco` folder and associated utilities function. These `.toml` files can be then adapted to your specific needs if required.\n",
    "\n"
   ]
  },
  {
   "cell_type": "code",
   "execution_count": null,
   "id": "3f92bc7b",
   "metadata": {},
   "outputs": [],
   "source": [
    "#| export\n",
    "from pathlib import Path\n",
    "import re\n",
    "from functools import partial\n",
    "\n",
    "from marisco.inout import read_toml, write_toml\n",
    "import pandas as pd\n",
    "\n",
    "import fastcore.all as fc"
   ]
  },
  {
   "cell_type": "markdown",
   "id": "8b0ebe6c",
   "metadata": {},
   "source": [
    "## Configuration files"
   ]
  },
  {
   "cell_type": "code",
   "execution_count": null,
   "id": "ce2ce274",
   "metadata": {},
   "outputs": [],
   "source": [
    "#| export\n",
    "CFG_FNAME = 'configs.toml'\n",
    "CDL_FNAME = 'cdl.toml'\n",
    "NUCLIDE_LOOKUP_FNAME = 'dbo_nuclide.xlsx'\n",
    "MARISCO_CFG_DIRNAME = '.marisco'"
   ]
  },
  {
   "cell_type": "code",
   "execution_count": null,
   "id": "a86f5b61",
   "metadata": {},
   "outputs": [],
   "source": [
    "#| export\n",
    "def base_path(): return Path.home() / MARISCO_CFG_DIRNAME"
   ]
  },
  {
   "cell_type": "markdown",
   "id": "da0f1175",
   "metadata": {},
   "source": [
    "By default, we create a folder named `.marisco` under your home directory that will receive all configuration files as defined in `BASE_PATH`:"
   ]
  },
  {
   "cell_type": "code",
   "execution_count": null,
   "id": "c39e2178",
   "metadata": {},
   "outputs": [
    {
     "data": {
      "text/plain": [
       "Path('/Users/franckalbinet/.marisco')"
      ]
     },
     "execution_count": null,
     "metadata": {},
     "output_type": "execute_result"
    }
   ],
   "source": [
    "base_path()"
   ]
  },
  {
   "cell_type": "code",
   "execution_count": null,
   "id": "d6c6ee67",
   "metadata": {},
   "outputs": [],
   "source": [
    "#| export\n",
    "CONFIGS = {\n",
    "    'gh': {\n",
    "        'owner': 'franckalbinet',\n",
    "        'repo': 'marisco'\n",
    "    },\n",
    "    'names': {\n",
    "        'nc_template': 'maris-template.nc'\n",
    "    },\n",
    "    'dirs': {\n",
    "        'lut': str(base_path() / 'lut'), # Look-up tables\n",
    "        'cache': str(base_path() / 'cache'), # Cache (e.f WoRMS species)\n",
    "        'tmp': str(base_path() / 'tmp')\n",
    "    },\n",
    "    'paths': {\n",
    "        'luts': 'nbs/files/lut'\n",
    "    },\n",
    "    'units': {\n",
    "        'time': 'seconds since 1970-01-01 00:00:00.0'\n",
    "    },\n",
    "    'zotero': {\n",
    "        'api_key': '7nuMByrm19RP7reiQtYJwgPk',\n",
    "        'lib_id': '2432820'\n",
    "    }\n",
    "}"
   ]
  },
  {
   "cell_type": "markdown",
   "id": "f1bceb3e",
   "metadata": {},
   "source": [
    "The `CONFIGS` dictionary defines general settings:"
   ]
  },
  {
   "cell_type": "markdown",
   "id": "bbf9c5fe",
   "metadata": {},
   "source": [
    "| key     | Value  | Description                                   |\n",
    "|---------|-------------|--------------------------------------------|\n",
    "| `dirs/lut`   | `/Users/franckalbinet/.marisco/lut`         | Location & name of the directory receiving lookup tables.          |\n",
    "| `dirs/cache`   | `/Users/franckalbinet/.marisco/cache`         | Location & name of the directory receiving cache files such as WoRMS species retrieved.          |\n",
    "| `dirs/tmp`    |  `/Users/franckalbinet/.marisco/tmp`         | Location & name of temporary files.       |\n",
    "| `gh/owner`     |  `franckalbinet`       | GitHub account owner.                             |\n",
    "| `gh/repo`      |  `marisco`       |   GitHub user used to download specific files (e.g lookup tables) during installation.                                  |\n",
    "| `names/nc_template`   | `maris-template.nc` |  Name of the MARIS NetCDF4 template.                         |\n",
    "| `paths_luts`   |  `nbs/files/lut`        |  GitHub repository directory name containing lookup tables.                             |\n",
    "| `units_time`   |    `seconds since 1970-01-01 00:00:00.0`     | Reference date and time used for [NetCDF time encoding](https://unidata.github.io/cftime/).        |\n",
    "| `zotero/api_key`  | `your-zotero-api-key`      |   Zotero API key.                     |\n",
    "| `zotero/lib_id`  |  `2432820`       | Zotero library ID.                                  |\n"
   ]
  },
  {
   "cell_type": "markdown",
   "id": "f77301ff",
   "metadata": {},
   "source": [
    "The main `CONFIGS_CDL` dictionary, used to generate a [NetCDF CDL (Common Data Language)](https://www.unidata.ucar.edu/software/netcdf/workshops/2012/nc3model/Cdl.html) `.toml` file. This file is then used to generate a template MARIS netcdf file. For further details refers to the [`configs.ipynb`](https://github.com/franckalbinet/marisco/blob/main/nbs/api/configs.ipynb) file.\n",
    "\n",
    "Below, the vars/defaults section printed:"
   ]
  },
  {
   "cell_type": "code",
   "execution_count": null,
   "id": "fe650289",
   "metadata": {},
   "outputs": [],
   "source": [
    "#| export\n",
    "def cfg(): return read_toml(base_path() / CFG_FNAME)"
   ]
  },
  {
   "cell_type": "code",
   "execution_count": null,
   "id": "74dde0aa",
   "metadata": {},
   "outputs": [],
   "source": [
    "#| export\n",
    "def nuc_lut_path(): return Path(cfg()['dirs']['lut']) / NUCLIDE_LOOKUP_FNAME"
   ]
  },
  {
   "cell_type": "code",
   "execution_count": null,
   "id": "5f233a42",
   "metadata": {},
   "outputs": [],
   "source": [
    "#| export\n",
    "def lut_path(): return Path(cfg()['dirs']['lut'])"
   ]
  },
  {
   "cell_type": "code",
   "execution_count": null,
   "id": "c977a13c",
   "metadata": {},
   "outputs": [],
   "source": [
    "#| export\n",
    "def cache_path(): return Path(cfg()['dirs']['cache'])"
   ]
  },
  {
   "cell_type": "code",
   "execution_count": null,
   "id": "eb19075a",
   "metadata": {},
   "outputs": [],
   "source": [
    "#| export\n",
    "CONFIGS_CDL = { \n",
    "    'placeholder': '_to_be_filled_in_',\n",
    "    'grps': {\n",
    "        'sea': {\n",
    "            'name': 'seawater'\n",
    "        },\n",
    "        'bio': {\n",
    "            'name': 'biota'\n",
    "        },\n",
    "        'sed': {\n",
    "            'name': 'sediment'\n",
    "        },\n",
    "        'sus': {\n",
    "            'name': 'suspended-matter'\n",
    "        }\n",
    "    },\n",
    "    'global_attrs': {\n",
    "        # Do not update keys. Only values if required\n",
    "        'id': '', # zotero?\n",
    "        'title': '',\n",
    "        'summary': '',\n",
    "        'keywords': '',\n",
    "        'keywords_vocabulary': 'GCMD Science Keywords',\n",
    "        'keywords_vocabulary_url': 'https://gcmd.earthdata.nasa.gov/static/kms/',\n",
    "        'record': '',\n",
    "        'featureType': '',\n",
    "        'cdm_data_type': '',\n",
    "\n",
    "        # Conventions\n",
    "        'Conventions': 'CF-1.10 ACDD-1.3',\n",
    "\n",
    "        # Publisher [ACDD1.3]\n",
    "        'publisher_name': 'Paul MCGINNITY, Iolanda OSVATH, Florence DESCROIX-COMANDUCCI',\n",
    "        'publisher_email': 'p.mc-ginnity@iaea.org, i.osvath@iaea.org, F.Descroix-Comanducci@iaea.org', \n",
    "        'publisher_url': 'https://maris.iaea.org',\n",
    "        'publisher_institution': 'International Atomic Energy Agency - IAEA', \n",
    "\n",
    "        # Creator info [ACDD1.3]\n",
    "        'creator_name': '',\n",
    "        'institution': '',\n",
    "        'metadata_link': '',\n",
    "        'creator_email': '',\n",
    "        'creator_url': '',\n",
    "        'references': '',\n",
    "        'license': ' '.join(['Without prejudice to the applicable Terms and Conditions', \n",
    "                             '(https://nucleus.iaea.org/Pages/Others/Disclaimer.aspx),',\n",
    "                             'I hereby agree that any use of the data will contain appropriate',\n",
    "                             'acknowledgement of the data source(s) and the IAEA Marine',\n",
    "                             'Radioactivity Information System (MARIS).']),\n",
    "        'comment': '',\n",
    "        # Dataset info & coordinates [ACDD1.3]\n",
    "        #'project': '', # Network long name\n",
    "        #'platform': '', # Should be a long / full name\n",
    "        'geospatial_lat_min': '', \n",
    "        'geospatial_lon_min': '',\n",
    "        'geospatial_lat_max': '',\n",
    "        'geospatial_lon_max': '',\n",
    "        'geospatial_vertical_min': '',\n",
    "        'geospatial_vertical_max': '',\n",
    "        'geospatial_bounds': '', # wkt representation\n",
    "        'geospatial_bounds_crs': 'EPSG:4326',\n",
    "\n",
    "        # Time information\n",
    "        'time_coverage_start': '',\n",
    "        'time_coverage_end': '',\n",
    "        #'time_coverage_resolution': '',\n",
    "        'local_time_zone': '',\n",
    "        'date_created': '',\n",
    "        'date_modified': '',\n",
    "        #\n",
    "        # -- Additional metadata (custom to MARIS)\n",
    "        #\n",
    "        'publisher_postprocess_logs': ''\n",
    "        },\n",
    "    'dim': {\n",
    "        'name': 'sample',\n",
    "        'attrs': {\n",
    "            'long_name': 'Sample ID of measurement'\n",
    "        },\n",
    "        'dtype': 'u8'\n",
    "    },\n",
    "    'vars': {    \n",
    "        'defaults': {\n",
    "            'lon': {\n",
    "                'name': 'lon',\n",
    "                'attrs': {\n",
    "                    'long_name': 'Measurement longitude',\n",
    "                    'standard_name': 'longitude',\n",
    "                    'units': 'degrees_north',\n",
    "                    'axis': 'Y',\n",
    "                    '_CoordinateAxisType': 'Lon'\n",
    "                },\n",
    "                'dtype': 'f4'\n",
    "            },\n",
    "            'lat': {\n",
    "                'name': 'lat',\n",
    "                'attrs': {\n",
    "                    'long_name': 'Measurement latitude',\n",
    "                    'standard_name': 'latitude',\n",
    "                    'units': 'degrees_east',\n",
    "                    'axis': 'X',\n",
    "                    '_CoordinateAxisType': 'Lat'\n",
    "                },\n",
    "                'dtype': 'f4'\n",
    "            },\n",
    "            'smp_depth': {\n",
    "                'name': 'smp_depth',\n",
    "                'attrs': {\n",
    "                    'long_name': 'Sample depth below seal level',\n",
    "                    'standard_name': 'sample_depth_below_sea_floor',\n",
    "                    'units': 'm',\n",
    "                    'axis': 'Z'\n",
    "                },\n",
    "                'dtype': 'f4'\n",
    "            },\n",
    "            'tot_depth': {\n",
    "                'name': 'tot_depth',\n",
    "                'attrs': {\n",
    "                    'long_name': 'Total depth below seal level',\n",
    "                    'standard_name': 'total_depth_below_sea_floor',\n",
    "                    'units': 'm',\n",
    "                    'axis': 'Z'\n",
    "                },\n",
    "                'dtype': 'f4'\n",
    "            },\n",
    "            'time': {\n",
    "                'name': 'time',\n",
    "                'attrs': {\n",
    "                    'long_name': 'Time of measurement',\n",
    "                    'standard_name': 'time',\n",
    "                    'units': 'seconds since 1970-01-01 00:00:00.0',\n",
    "                    'time_origin': '1970-01-01 00:00:00',\n",
    "                    'time_zone': 'UTC',\n",
    "                    'abbreviation': 'Date/Time',\n",
    "                    'axis': 'T',\n",
    "                    'calendar': 'gregorian'\n",
    "                },\n",
    "                'dtype': 'u8',\n",
    "            },\n",
    "            'area': {\n",
    "                'name': 'area',\n",
    "                'attrs': {\n",
    "                    'long_name': 'Marine area/region id',\n",
    "                    'standard_name': 'area_id'\n",
    "                },\n",
    "                'dtype': 'area_t'\n",
    "            },\n",
    "        },\n",
    "        'bio': {\n",
    "            'bio_group': {\n",
    "                'name': 'bio_group',\n",
    "                'attrs': {\n",
    "                    'long_name': 'Biota group',\n",
    "                    'standard_name': 'biota_group_tbd'\n",
    "                },\n",
    "                'dtype': 'bio_group_t'\n",
    "            },\n",
    "            'species': {\n",
    "                'name': 'species',\n",
    "                'attrs': {  \n",
    "                    'long_name': 'Species',\n",
    "                    'standard_name': 'species'\n",
    "                },\n",
    "                'dtype': 'species_t'\n",
    "            },\n",
    "            'body_part': {\n",
    "                'name': 'body_part',\n",
    "                'attrs': {\n",
    "                    'long_name': 'Body part',\n",
    "                    'standard_name': 'body_part_tbd'\n",
    "                },\n",
    "                'dtype': 'body_part_t' \n",
    "            }\n",
    "        },\n",
    "        'sed': {\n",
    "            'sed_type': {\n",
    "                'name': 'sed_type',\n",
    "                'attrs': {\n",
    "                    'long_name': 'Sediment type',\n",
    "                    'standard_name': 'sediment_type_tbd'\n",
    "                },\n",
    "                'dtype': 'sed_type_t'\n",
    "            }\n",
    "        },\n",
    "        'suffixes':  {\n",
    "            'uncertainty': {\n",
    "                'name': '_unc',\n",
    "                'attrs': {\n",
    "                    'long_name': ' uncertainty',\n",
    "                    'standard_name': '_uncertainty'\n",
    "                },\n",
    "                'dtype': 'f4'\n",
    "            },\n",
    "            'detection_limit': {\n",
    "                'name': '_dl',\n",
    "                'attrs': {\n",
    "                    'long_name': ' detection limit',\n",
    "                    'standard_name': '_detection_limit'\n",
    "                },\n",
    "                'dtype': 'dl_t'\n",
    "            },\n",
    "            'volume': {\n",
    "                'name': '_vol',\n",
    "                'attrs': {\n",
    "                    'long_name': ' volume',\n",
    "                    'standard_name': '_volume'\n",
    "                },\n",
    "                'dtype': 'f4'\n",
    "            },\n",
    "            'salinity': {\n",
    "                'name': '_sal',\n",
    "                'attrs': {\n",
    "                    'long_name': ' salinity',\n",
    "                    'standard_name': '_sal'\n",
    "                },\n",
    "                'dtype': 'f4'\n",
    "            },\n",
    "            'temperature': {\n",
    "                'name': '_temp',\n",
    "                'attrs': {\n",
    "                    'long_name': ' temperature',\n",
    "                    'standard_name': '_temp'\n",
    "                },\n",
    "                'dtype': 'f4'\n",
    "            },\n",
    "            'filtered': {\n",
    "                'name': '_filt',\n",
    "                'attrs': {\n",
    "                    'long_name': ' filtered',\n",
    "                    'standard_name': '_filtered'\n",
    "                },\n",
    "                'dtype': 'filt_t'\n",
    "            },\n",
    "            'counting_method': {\n",
    "                'name': '_counmet',\n",
    "                'attrs': {\n",
    "                    'long_name': ' counting method',\n",
    "                    'standard_name': '_counting_method'\n",
    "                },\n",
    "                'dtype': 'counmet_t'\n",
    "            },\n",
    "            'sampling_method': {\n",
    "                'name': '_sampmet',\n",
    "                'attrs': {\n",
    "                    'long_name': ' sampling method',\n",
    "                    'standard_name': '_sampling_method'\n",
    "                },\n",
    "                'dtype': 'sampmet_t'\n",
    "            },\n",
    "            'preparation_method': {\n",
    "                'name': '_prepmet',\n",
    "                'attrs': {\n",
    "                    'long_name': ' preparation method',\n",
    "                    'standard_name': '_preparation_method'\n",
    "                },\n",
    "                'dtype': 'prepmet_t'\n",
    "            },\n",
    "            'unit': {\n",
    "                'name': '_unit',\n",
    "                'attrs': {\n",
    "                    'long_name': ' unit',\n",
    "                    'standard_name': '_unit'\n",
    "                },\n",
    "                'dtype': 'unit_t'\n",
    "            }\n",
    "        }\n",
    "    },\n",
    "    'enums': [\n",
    "        {\n",
    "            'name': 'area_t', \n",
    "            'fname': 'dbo_area.xlsx', \n",
    "            'key': 'displayName', \n",
    "            'value':'areaId'\n",
    "        },\n",
    "        {\n",
    "            'name': 'bio_group_t', \n",
    "            'fname': 'dbo_biogroup.xlsx', \n",
    "            'key': 'biogroup', \n",
    "            'value':'biogroup_id'\n",
    "        },\n",
    "        {\n",
    "            'name': 'body_part_t', \n",
    "            'fname': 'dbo_bodypar.xlsx', \n",
    "            'key': 'bodypar', \n",
    "            'value':'bodypar_id'\n",
    "        },\n",
    "        {\n",
    "            'name': 'species_t', \n",
    "            'fname': 'dbo_species_cleaned.xlsx', \n",
    "            'key': 'species', \n",
    "            'value':'species_id'\n",
    "        },\n",
    "        {\n",
    "            'name': 'sed_type_t', \n",
    "            'fname': 'dbo_sedtype.xlsx', \n",
    "            'key': 'sedtype', \n",
    "            'value':'sedtype_id'\n",
    "        },\n",
    "        {\n",
    "            'name': 'unit_t', \n",
    "            'fname': 'dbo_unit.xlsx', \n",
    "            'key': 'unit_sanitized', \n",
    "            'value':'unit_id'\n",
    "        },\n",
    "        {\n",
    "            'name': 'dl_t', \n",
    "            'fname': 'dbo_detectlimit.xlsx', \n",
    "            'key': 'name_sanitized', \n",
    "            'value':'id'\n",
    "        },\n",
    "        {\n",
    "            'name': 'filt_t', \n",
    "            'fname': 'dbo_filtered.xlsx', \n",
    "            'key': 'name',\n",
    "            'value':'id'\n",
    "        },\n",
    "        {\n",
    "            'name': 'counmet_t', \n",
    "            'fname': 'dbo_counmet.xlsx', \n",
    "            'key': 'counmet',\n",
    "            'value':'counmet_id'\n",
    "        },\n",
    "        {\n",
    "            'name': 'sampmet_t', \n",
    "            'fname': 'dbo_sampmet.xlsx', \n",
    "            'key': 'sampmet',\n",
    "            'value':'sampmet_id'\n",
    "        },\n",
    "        {\n",
    "            'name': 'prepmet_t', \n",
    "            'fname': 'dbo_prepmet.xlsx', \n",
    "            'key': 'prepmet',\n",
    "            'value':'prepmet_id'\n",
    "        }\n",
    "        ]\n",
    "}"
   ]
  },
  {
   "cell_type": "code",
   "execution_count": null,
   "id": "1c91f897",
   "metadata": {},
   "outputs": [
    {
     "data": {
      "text/markdown": [
       "```json\n",
       "{ 'area': { 'attrs': { 'long_name': 'Marine area/region id',\n",
       "                       'standard_name': 'area_id'},\n",
       "            'dtype': 'area_t',\n",
       "            'name': 'area'},\n",
       "  'lat': { 'attrs': { '_CoordinateAxisType': 'Lat',\n",
       "                      'axis': 'X',\n",
       "                      'long_name': 'Measurement latitude',\n",
       "                      'standard_name': 'latitude',\n",
       "                      'units': 'degrees_east'},\n",
       "           'dtype': 'f4',\n",
       "           'name': 'lat'},\n",
       "  'lon': { 'attrs': { '_CoordinateAxisType': 'Lon',\n",
       "                      'axis': 'Y',\n",
       "                      'long_name': 'Measurement longitude',\n",
       "                      'standard_name': 'longitude',\n",
       "                      'units': 'degrees_north'},\n",
       "           'dtype': 'f4',\n",
       "           'name': 'lon'},\n",
       "  'smp_depth': { 'attrs': { 'axis': 'Z',\n",
       "                            'long_name': 'Sample depth below seal level',\n",
       "                            'standard_name': 'sample_depth_below_sea_floor',\n",
       "                            'units': 'm'},\n",
       "                 'dtype': 'f4',\n",
       "                 'name': 'smp_depth'},\n",
       "  'time': { 'attrs': { 'abbreviation': 'Date/Time',\n",
       "                       'axis': 'T',\n",
       "                       'calendar': 'gregorian',\n",
       "                       'long_name': 'Time of measurement',\n",
       "                       'standard_name': 'time',\n",
       "                       'time_origin': '1970-01-01 00:00:00',\n",
       "                       'time_zone': 'UTC',\n",
       "                       'units': 'seconds since 1970-01-01 00:00:00.0'},\n",
       "            'dtype': 'u8',\n",
       "            'name': 'time'},\n",
       "  'tot_depth': { 'attrs': { 'axis': 'Z',\n",
       "                            'long_name': 'Total depth below seal level',\n",
       "                            'standard_name': 'total_depth_below_sea_floor',\n",
       "                            'units': 'm'},\n",
       "                 'dtype': 'f4',\n",
       "                 'name': 'tot_depth'}}\n",
       "```"
      ],
      "text/plain": [
       "{'lon': {'name': 'lon',\n",
       "  'attrs': {'long_name': 'Measurement longitude',\n",
       "   'standard_name': 'longitude',\n",
       "   'units': 'degrees_north',\n",
       "   'axis': 'Y',\n",
       "   '_CoordinateAxisType': 'Lon'},\n",
       "  'dtype': 'f4'},\n",
       " 'lat': {'name': 'lat',\n",
       "  'attrs': {'long_name': 'Measurement latitude',\n",
       "   'standard_name': 'latitude',\n",
       "   'units': 'degrees_east',\n",
       "   'axis': 'X',\n",
       "   '_CoordinateAxisType': 'Lat'},\n",
       "  'dtype': 'f4'},\n",
       " 'smp_depth': {'name': 'smp_depth',\n",
       "  'attrs': {'long_name': 'Sample depth below seal level',\n",
       "   'standard_name': 'sample_depth_below_sea_floor',\n",
       "   'units': 'm',\n",
       "   'axis': 'Z'},\n",
       "  'dtype': 'f4'},\n",
       " 'tot_depth': {'name': 'tot_depth',\n",
       "  'attrs': {'long_name': 'Total depth below seal level',\n",
       "   'standard_name': 'total_depth_below_sea_floor',\n",
       "   'units': 'm',\n",
       "   'axis': 'Z'},\n",
       "  'dtype': 'f4'},\n",
       " 'time': {'name': 'time',\n",
       "  'attrs': {'long_name': 'Time of measurement',\n",
       "   'standard_name': 'time',\n",
       "   'units': 'seconds since 1970-01-01 00:00:00.0',\n",
       "   'time_origin': '1970-01-01 00:00:00',\n",
       "   'time_zone': 'UTC',\n",
       "   'abbreviation': 'Date/Time',\n",
       "   'axis': 'T',\n",
       "   'calendar': 'gregorian'},\n",
       "  'dtype': 'u8'},\n",
       " 'area': {'name': 'area',\n",
       "  'attrs': {'long_name': 'Marine area/region id', 'standard_name': 'area_id'},\n",
       "  'dtype': 'area_t'}}"
      ]
     },
     "execution_count": null,
     "metadata": {},
     "output_type": "execute_result"
    }
   ],
   "source": [
    "fc.AttrDict(CONFIGS_CDL['vars']['defaults'])"
   ]
  },
  {
   "cell_type": "code",
   "execution_count": null,
   "id": "de532f71",
   "metadata": {},
   "outputs": [
    {
     "name": "stdout",
     "output_type": "stream",
     "text": [
      "Creating files/cdl.toml\n"
     ]
    }
   ],
   "source": [
    "#|eval: false\n",
    "write_toml(Path('./files') / CDL_FNAME, CONFIGS_CDL)"
   ]
  },
  {
   "cell_type": "code",
   "execution_count": null,
   "id": "3601c64e",
   "metadata": {},
   "outputs": [],
   "source": [
    "#| export\n",
    "def cdl_cfg(): return read_toml(base_path() / CDL_FNAME)"
   ]
  },
  {
   "cell_type": "code",
   "execution_count": null,
   "id": "9c1aed93",
   "metadata": {},
   "outputs": [],
   "source": [
    "#| export\n",
    "def species_lut_path():\n",
    "    src_dir = lut_path()\n",
    "    fname = [enum for enum in cdl_cfg()['enums'] if enum['name'] == 'species_t'][0]['fname']\n",
    "    return src_dir / fname"
   ]
  },
  {
   "cell_type": "code",
   "execution_count": null,
   "id": "14106e27-996d-49a2-8aac-84dbd4e3d986",
   "metadata": {},
   "outputs": [],
   "source": [
    "#| export\n",
    "def bodyparts_lut_path():\n",
    "    src_dir = lut_path()\n",
    "    fname = [enum for enum in cdl_cfg()['enums'] if enum['name'] == 'body_part_t'][0]['fname']\n",
    "    return src_dir / fname"
   ]
  },
  {
   "cell_type": "code",
   "execution_count": null,
   "id": "bd25f0e4",
   "metadata": {},
   "outputs": [],
   "source": [
    "#| export\n",
    "def sediments_lut_path():\n",
    "    src_dir = lut_path()\n",
    "    fname = [enum for enum in cdl_cfg()['enums'] if enum['name'] == 'sed_type_t'][0]['fname']\n",
    "    return src_dir / fname"
   ]
  },
  {
   "cell_type": "markdown",
   "id": "6ae6efe2",
   "metadata": {},
   "source": [
    "## Utilities function"
   ]
  },
  {
   "cell_type": "code",
   "execution_count": null,
   "id": "f63b3971",
   "metadata": {},
   "outputs": [],
   "source": [
    "#| export\n",
    "NETCDF_TO_PYTHON_TYPE = {\n",
    "    'u8': int,\n",
    "    'f4': float\n",
    "    }"
   ]
  },
  {
   "cell_type": "code",
   "execution_count": null,
   "id": "39abc698",
   "metadata": {},
   "outputs": [],
   "source": [
    "#| export\n",
    "def name2grp(\n",
    "    name:str, # Name of the group\n",
    "    cdl:dict, # CDL configuration\n",
    "    ):\n",
    "    # Reverse `cdl.toml` config group dict so that group config key can be retrieve based on its name\n",
    "    return {v['name']:k  for k, v in cdl['grps'].items()}[name]"
   ]
  },
  {
   "cell_type": "markdown",
   "id": "9c442e8b",
   "metadata": {},
   "source": [
    "Example:"
   ]
  },
  {
   "cell_type": "code",
   "execution_count": null,
   "id": "1f94801f",
   "metadata": {},
   "outputs": [
    {
     "data": {
      "text/plain": [
       "'sea'"
      ]
     },
     "execution_count": null,
     "metadata": {},
     "output_type": "execute_result"
    }
   ],
   "source": [
    "#|eval: false\n",
    "name2grp('seawater', cdl=CONFIGS_CDL)"
   ]
  },
  {
   "cell_type": "code",
   "execution_count": null,
   "id": "6da9b0c7",
   "metadata": {},
   "outputs": [],
   "source": [
    "#| export\n",
    "def nc_tpl_name():\n",
    "    p = base_path()\n",
    "    return read_toml(p / 'configs.toml')['names']['nc_template']"
   ]
  },
  {
   "cell_type": "code",
   "execution_count": null,
   "id": "e3232cc8",
   "metadata": {},
   "outputs": [],
   "source": [
    "#| export\n",
    "def nc_tpl_path():\n",
    "    \"Return the name of the MARIS NetCDF template as defined in `configs.toml`\"\n",
    "    p = base_path()\n",
    "    return p / read_toml(p / 'configs.toml')['names']['nc_template']"
   ]
  },
  {
   "cell_type": "markdown",
   "id": "8bf0c692",
   "metadata": {},
   "source": [
    "## Enumeration types\n",
    "\n",
    "Enumeration types are used to avoid using strings as NetCDF4 variable values. Instead, enumeration types (lookup tables) such as `{'Crustaceans': 2, 'Echinoderms': 3, ...}` are prepended to the NetCDF file template and associated ids (integers) are used as values."
   ]
  },
  {
   "cell_type": "code",
   "execution_count": null,
   "id": "7e994e93",
   "metadata": {},
   "outputs": [],
   "source": [
    "#| export\n",
    "def sanitize(s:str # String to sanitize\n",
    "             ) -> str:\n",
    "    \"\"\"\n",
    "    Sanitize dictionary key to comply with NetCDF enumeration type: \n",
    "    \n",
    "        - remove `(`, `)`, `.`, `/`, `-`  \n",
    "        - strip the string\n",
    "    \"\"\"\n",
    "    s = re.sub(r'[().]', '', s)\n",
    "    return re.sub(r'[/-]', ' ', s).strip() "
   ]
  },
  {
   "cell_type": "markdown",
   "id": "166d13eb",
   "metadata": {},
   "source": [
    "For example:"
   ]
  },
  {
   "cell_type": "code",
   "execution_count": null,
   "id": "c4159f54",
   "metadata": {},
   "outputs": [],
   "source": [
    "fc.test_eq(sanitize('key (sanitized)'), 'key sanitized')\n",
    "fc.test_eq(sanitize('key san.itized'), 'key sanitized')\n",
    "fc.test_eq(sanitize('key-sanitized'), 'key sanitized')\n",
    "fc.test_eq(sanitize('key/sanitized'), 'key sanitized')"
   ]
  },
  {
   "cell_type": "markdown",
   "id": "fb741360",
   "metadata": {},
   "source": [
    "NetCDF4 enumeration type seems to not accept keys containing non alphanumeric characters like parentheses, dots, slash, ... As a result, MARIS lookup table needs to be sanitized."
   ]
  },
  {
   "cell_type": "code",
   "execution_count": null,
   "id": "0d172382",
   "metadata": {},
   "outputs": [],
   "source": [
    "#| export\n",
    "def get_lut(src_dir:str, # Directory containing lookup tables\n",
    "            fname:str, # Excel file lookup table name\n",
    "            key:str, # Excel file column name to be used as dict keys \n",
    "            value:str, # Excel file column name to be used as dict values \n",
    "            do_sanitize:bool=True # Sanitization required?\n",
    "            ) -> dict: # MARIS lookup table\n",
    "    \"Convert MARIS db lookup table excel file to dictionary `{'name': id, ...}`.\"\n",
    "    fname = Path(src_dir) / fname\n",
    "    df = pd.read_excel(fname, usecols=[key, value]).dropna(subset=value)\n",
    "    df[value] = df[value].astype('int')\n",
    "    df = df.set_index(key)\n",
    "    lut = df[value].to_dict()\n",
    "    if do_sanitize: lut = {sanitize(k): v for k, v in lut.items()}\n",
    "    return lut"
   ]
  },
  {
   "cell_type": "markdown",
   "id": "3614a7f4",
   "metadata": {},
   "source": [
    "For example:"
   ]
  },
  {
   "cell_type": "code",
   "execution_count": null,
   "id": "d8719ef0",
   "metadata": {},
   "outputs": [
    {
     "data": {
      "text/plain": [
       "{'Not applicable': -1,\n",
       " 'Not available': 0,\n",
       " 'Birds': 1,\n",
       " 'Crustaceans': 2,\n",
       " 'Echinoderms': 3,\n",
       " 'Fish': 4,\n",
       " 'Mammals': 5,\n",
       " 'Molluscs': 6,\n",
       " 'Others': 7,\n",
       " 'Plankton': 8,\n",
       " 'Polychaete worms': 9,\n",
       " 'Reptile': 10,\n",
       " 'Seaweeds and plants': 11,\n",
       " 'Cephalopods': 12,\n",
       " 'Gastropods': 13,\n",
       " 'Bivalves': 14}"
      ]
     },
     "execution_count": null,
     "metadata": {},
     "output_type": "execute_result"
    }
   ],
   "source": [
    "#|eval: false\n",
    "lut_src_dir = './files/lut'\n",
    "get_lut(lut_src_dir, 'dbo_biogroup.xlsx', key='biogroup', value='biogroup_id')"
   ]
  },
  {
   "cell_type": "code",
   "execution_count": null,
   "id": "5c4b1056",
   "metadata": {},
   "outputs": [],
   "source": [
    "#| export\n",
    "class Enums():\n",
    "    \"Return dictionaries of MARIS NetCDF's enumeration types\"\n",
    "    def __init__(self, \n",
    "               lut_src_dir:str,\n",
    "               cdl_enums:dict\n",
    "               ):\n",
    "        fc.store_attr()\n",
    "        self.types = self.lookup()\n",
    "        \n",
    "    def filter(self, name, values):\n",
    "        return {name: id for name, id in self.types[name].items() if id in values}\n",
    "    \n",
    "    def lookup(self):\n",
    "        types = {}\n",
    "        for enum in self.cdl_enums:\n",
    "            name, fname, key, value = enum.values()\n",
    "            lut = get_lut(self.lut_src_dir, fname, key=key, value=value)\n",
    "            types[name] = lut\n",
    "        return types"
   ]
  },
  {
   "cell_type": "code",
   "execution_count": null,
   "id": "5a7aa0a0",
   "metadata": {},
   "outputs": [],
   "source": [
    "#|eval: false\n",
    "lut_src_dir_test = './files/lut'\n",
    "cdl_enums_test = read_toml('./files/cdl.toml')['enums']\n",
    "\n",
    "enums = Enums(lut_src_dir=lut_src_dir_test, \n",
    "              cdl_enums=cdl_enums_test)"
   ]
  },
  {
   "cell_type": "code",
   "execution_count": null,
   "id": "f600166d",
   "metadata": {},
   "outputs": [
    {
     "data": {
      "text/plain": [
       "{'Not applicable': -1,\n",
       " 'Not available': 0,\n",
       " 'Detected value': 1,\n",
       " 'Detection limit': 2,\n",
       " 'Not detected': 3,\n",
       " 'Derived': 4}"
      ]
     },
     "execution_count": null,
     "metadata": {},
     "output_type": "execute_result"
    }
   ],
   "source": [
    "#|eval: false\n",
    "enums.types['dl_t']"
   ]
  },
  {
   "cell_type": "code",
   "execution_count": null,
   "id": "238143e5",
   "metadata": {},
   "outputs": [
    {
     "data": {
      "text/plain": [
       "{'Not applicable': -1,\n",
       " 'NOT AVAILABLE': 0,\n",
       " 'Bq per m3': 1,\n",
       " 'Bq per m2': 2,\n",
       " 'Bq per kg': 3,\n",
       " 'Bq per kgd': 4,\n",
       " 'Bq per kgw': 5,\n",
       " 'kg per kg': 6,\n",
       " 'TU': 7,\n",
       " 'DELTA per mill': 8,\n",
       " 'atom per kg': 9,\n",
       " 'atom per kgd': 10,\n",
       " 'atom per kgw': 11,\n",
       " 'atom per l': 12,\n",
       " 'Bq per kgC': 13}"
      ]
     },
     "execution_count": null,
     "metadata": {},
     "output_type": "execute_result"
    }
   ],
   "source": [
    "#|eval: false\n",
    "enums.types['unit_t']"
   ]
  },
  {
   "cell_type": "code",
   "execution_count": null,
   "id": "e44b161a",
   "metadata": {},
   "outputs": [],
   "source": [
    "# {f'{var}_t': enums.subset('species_t', tfm.unique(var) for var in ['species']}"
   ]
  },
  {
   "cell_type": "code",
   "execution_count": null,
   "id": "d419495a",
   "metadata": {},
   "outputs": [],
   "source": [
    "# subset = {}\n",
    "# for var, values in [('species', [21,   50,   59,   84]),\n",
    "#                     ('area', [2, 3])]:\n",
    "#     # values = tfm.unique(var)\n",
    "#     type_name = f'{var}_t'\n",
    "#     subset[type_name] = enums.filter(type_name, [21,   50,   59,   84])"
   ]
  },
  {
   "cell_type": "code",
   "execution_count": null,
   "id": "8c90d8f7",
   "metadata": {},
   "outputs": [],
   "source": [
    "#| export\n",
    "def get_enum_dicts(\n",
    "    lut_src_dir:str,\n",
    "    cdl_enums:dict,\n",
    "    **kwargs\n",
    "    ):\n",
    "    \"Return a dict of NetCDF enumeration types\"\n",
    "    enum_types = {}\n",
    "    for enum in cdl_enums:\n",
    "        name, fname, key, value = enum.values()\n",
    "        lut = get_lut(lut_src_dir, fname, key=key, value=value, **kwargs)\n",
    "        enum_types[name] = lut\n",
    "        \n",
    "    return enum_types"
   ]
  },
  {
   "cell_type": "markdown",
   "id": "2c4a51b5",
   "metadata": {},
   "source": [
    "For example:"
   ]
  },
  {
   "cell_type": "code",
   "execution_count": null,
   "id": "4b41fb18",
   "metadata": {},
   "outputs": [
    {
     "data": {
      "text/plain": [
       "dict_keys(['area_t', 'bio_group_t', 'body_part_t', 'species_t', 'sed_type_t', 'unit_t', 'dl_t', 'filt_t', 'counmet_t', 'sampmet_t', 'prepmet_t'])"
      ]
     },
     "execution_count": null,
     "metadata": {},
     "output_type": "execute_result"
    }
   ],
   "source": [
    "#|eval: false\n",
    "lut_src_dir_test = './files/lut'\n",
    "cdl_enums_test = read_toml('./files/cdl.toml')['enums']\n",
    "\n",
    "enums = get_enum_dicts(lut_src_dir=lut_src_dir_test, \n",
    "                       cdl_enums=cdl_enums_test)\n",
    "enums.keys()"
   ]
  },
  {
   "cell_type": "code",
   "execution_count": null,
   "id": "5389d800-0b21-483e-9166-3dd52ce23ad0",
   "metadata": {},
   "outputs": [],
   "source": []
  }
 ],
 "metadata": {
  "kernelspec": {
   "display_name": "Python 3 (ipykernel)",
   "language": "python",
   "name": "python3"
  },
  "language_info": {
   "name": "python",
   "version": "3.9.18"
  }
 },
 "nbformat": 4,
 "nbformat_minor": 5
}

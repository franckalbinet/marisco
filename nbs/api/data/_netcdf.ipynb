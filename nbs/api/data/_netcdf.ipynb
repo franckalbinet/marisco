{
 "cells": [
  {
   "cell_type": "code",
   "execution_count": null,
   "id": "61e611e2",
   "metadata": {},
   "outputs": [],
   "source": [
    "#| default_exp data.netcdf"
   ]
  },
  {
   "cell_type": "markdown",
   "id": "a417b9af",
   "metadata": {},
   "source": [
    "# NetCDF\n",
    "\n",
    "> Convertion of MARIS data encoded as `.csv` to `.netCDF`."
   ]
  },
  {
   "cell_type": "code",
   "execution_count": null,
   "id": "a250e74d",
   "metadata": {},
   "outputs": [],
   "source": [
    "import pandas as pd\n",
    "from netCDF4 import Dataset\n",
    "#import xarray as xr\n",
    "\n",
    "from pathlib import Path\n",
    "import glob\n",
    "import time\n",
    "\n",
    "#from marisco.data.core import DumpExploder\n",
    "#from marisco.data.serializer import flatten_cols\n",
    "\n",
    "pd.set_option('display.max_rows', 500)\n",
    "#%load_ext autoreload\n",
    "#%autoreload 2\n",
    "\n",
    "import warnings\n",
    "warnings.filterwarnings('ignore')"
   ]
  },
  {
   "cell_type": "markdown",
   "id": "f5060eb6",
   "metadata": {},
   "source": [
    "## Converting a single file from `csv` to `netCDF`"
   ]
  },
  {
   "cell_type": "code",
   "execution_count": null,
   "id": "da33ba83",
   "metadata": {},
   "outputs": [],
   "source": [
    "fname = Path('../_data/exploded/31-aarkrog-et-al-1992.csv')\n",
    "df = pd.read_csv(fname)"
   ]
  },
  {
   "cell_type": "code",
   "execution_count": null,
   "id": "b69ae57e",
   "metadata": {},
   "outputs": [],
   "source": [
    "df.head()"
   ]
  },
  {
   "cell_type": "code",
   "execution_count": null,
   "id": "8da49f51",
   "metadata": {},
   "outputs": [],
   "source": [
    "df.shape"
   ]
  },
  {
   "cell_type": "code",
   "execution_count": null,
   "id": "d0133d3b",
   "metadata": {},
   "outputs": [],
   "source": [
    "#df = df.set_index('sample_id')\n",
    "#df.index.name = 'sample'"
   ]
  },
  {
   "cell_type": "code",
   "execution_count": null,
   "id": "30b6074f",
   "metadata": {},
   "outputs": [],
   "source": [
    "#df.head()"
   ]
  },
  {
   "cell_type": "code",
   "execution_count": null,
   "id": "34ba2bec",
   "metadata": {},
   "outputs": [],
   "source": [
    "cols = ['sample_id', 'areaname', 'latitude', 'longitude',\n",
    "        'begperiod', 'totdepth', 'sampdepth', 'nusymbol', \n",
    "        'salinity', 'temperatur', 'counmet', 'detection',\n",
    "        'activity', 'uncertaint', 'unit', 'profile']"
   ]
  },
  {
   "cell_type": "code",
   "execution_count": null,
   "id": "591aee51",
   "metadata": {},
   "outputs": [],
   "source": [
    "#df_sub = df[cols].sort_index()"
   ]
  },
  {
   "cell_type": "code",
   "execution_count": null,
   "id": "895930f9",
   "metadata": {},
   "outputs": [],
   "source": [
    "# This is a so-called `long` format\n",
    "df_sub = df[cols]\n",
    "df_sub"
   ]
  },
  {
   "cell_type": "code",
   "execution_count": null,
   "id": "0fbc8ce6",
   "metadata": {},
   "outputs": [],
   "source": [
    "#df_sub.pivot(index='sample_id', columns='nusymbol', values=['activity', 'uncertaint', 'unit'])\n",
    "df_nu = df[['sample_id', 'nusymbol', 'activity']].pivot(index='sample_id', columns='nusymbol', values=['activity'])\n",
    "df_nu"
   ]
  },
  {
   "cell_type": "code",
   "execution_count": null,
   "id": "21c87bce",
   "metadata": {},
   "outputs": [],
   "source": [
    "df_sub.pivot(index='sample_id', columns='nusymbol', values=['activity', 'uncertaint', 'unit'])"
   ]
  },
  {
   "cell_type": "code",
   "execution_count": null,
   "id": "8b2d649f",
   "metadata": {},
   "outputs": [],
   "source": [
    "df_nu.index.name"
   ]
  },
  {
   "cell_type": "code",
   "execution_count": null,
   "id": "a0eabbd1",
   "metadata": {},
   "outputs": [],
   "source": [
    "df_nu.columns"
   ]
  },
  {
   "cell_type": "code",
   "execution_count": null,
   "id": "9849fa40",
   "metadata": {},
   "outputs": [],
   "source": [
    "df_nu.columns = [nu for _, nu in df_nu.columns]"
   ]
  },
  {
   "cell_type": "code",
   "execution_count": null,
   "id": "04312739",
   "metadata": {},
   "outputs": [],
   "source": [
    "df_nu"
   ]
  },
  {
   "cell_type": "code",
   "execution_count": null,
   "id": "a0060c6a",
   "metadata": {},
   "outputs": [],
   "source": [
    "df[['activity', 'temperatur', 'nusymbol', 'nuclide_id', 'salinity',\n",
    "    'areaname', 'latitude', 'longitude', 'sampdepth', 'totdepth']]"
   ]
  },
  {
   "cell_type": "code",
   "execution_count": null,
   "id": "9efd4cd3",
   "metadata": {},
   "outputs": [],
   "source": [
    "df.ref_fulltext[0]"
   ]
  },
  {
   "cell_type": "code",
   "execution_count": null,
   "id": "95f6c5f0",
   "metadata": {},
   "outputs": [],
   "source": [
    "attr_global = ['samptype', 'displaytext', 'zoterourl', 'lab', 'ref_fulltext', 'ref_yearpub']"
   ]
  },
  {
   "cell_type": "code",
   "execution_count": null,
   "id": "7bf949c7",
   "metadata": {},
   "outputs": [],
   "source": [
    "df[attr_global]"
   ]
  },
  {
   "cell_type": "code",
   "execution_count": null,
   "id": "e6eff61f",
   "metadata": {},
   "outputs": [],
   "source": [
    "df.columns"
   ]
  },
  {
   "cell_type": "code",
   "execution_count": null,
   "id": "f7b897ed",
   "metadata": {},
   "outputs": [],
   "source": [
    "df.apply(lambda x: x.unique())"
   ]
  },
  {
   "cell_type": "code",
   "execution_count": null,
   "id": "fdfb4ffb",
   "metadata": {},
   "outputs": [],
   "source": [
    "# Which cols are global attributes candidate?\n",
    "df.apply(lambda x: len(x.unique())).sort_values(ascending=False)"
   ]
  },
  {
   "cell_type": "code",
   "execution_count": null,
   "id": "6d94eaff",
   "metadata": {},
   "outputs": [],
   "source": [
    "rootgrp = Dataset(\"test.nc\", \"a\")"
   ]
  },
  {
   "cell_type": "code",
   "execution_count": null,
   "id": "8c34057e",
   "metadata": {},
   "outputs": [],
   "source": [
    "# Global attribute\n",
    "rootgrp.description = \"bogus example script\"\n",
    "rootgrp.history = \"Created \" + time.ctime(time.time())\n",
    "rootgrp.source = \"netCDF4 python module tutorial\""
   ]
  },
  {
   "cell_type": "code",
   "execution_count": null,
   "id": "65506add",
   "metadata": {},
   "outputs": [],
   "source": [
    "# The `sample` unlimited dimension\n",
    "sample_dim = rootgrp.createDimension(\"sample\", None)"
   ]
  },
  {
   "cell_type": "code",
   "execution_count": null,
   "id": "3aeb4172",
   "metadata": {},
   "outputs": [],
   "source": [
    "rootgrp"
   ]
  },
  {
   "cell_type": "code",
   "execution_count": null,
   "id": "1de02b7d",
   "metadata": {},
   "outputs": [],
   "source": [
    "df.columns"
   ]
  },
  {
   "cell_type": "code",
   "execution_count": null,
   "id": "d410f389",
   "metadata": {},
   "outputs": [],
   "source": []
  },
  {
   "cell_type": "code",
   "execution_count": null,
   "id": "9d18b880",
   "metadata": {},
   "outputs": [],
   "source": [
    "df['station']"
   ]
  },
  {
   "cell_type": "code",
   "execution_count": null,
   "id": "86d1f1d7",
   "metadata": {},
   "outputs": [],
   "source": [
    "df.columns"
   ]
  },
  {
   "cell_type": "code",
   "execution_count": null,
   "id": "e1fedf5e",
   "metadata": {},
   "outputs": [],
   "source": [
    "df.describe()"
   ]
  },
  {
   "cell_type": "code",
   "execution_count": null,
   "id": "d46f3e80",
   "metadata": {},
   "outputs": [],
   "source": [
    "df['nusymbol'].unique()"
   ]
  },
  {
   "cell_type": "code",
   "execution_count": null,
   "id": "3b2077f4",
   "metadata": {},
   "outputs": [],
   "source": [
    "for col, n in df.apply(lambda col: len(col.unique())).iteritems():\n",
    "    if n < 3:\n",
    "        print(f'{col}: {df[col].unique()}')"
   ]
  },
  {
   "cell_type": "code",
   "execution_count": null,
   "id": "426af848",
   "metadata": {},
   "outputs": [],
   "source": [
    "df['id']"
   ]
  },
  {
   "cell_type": "code",
   "execution_count": null,
   "id": "29eabb35",
   "metadata": {},
   "outputs": [],
   "source": [
    "df['nusymbol'].unique()"
   ]
  },
  {
   "cell_type": "code",
   "execution_count": null,
   "id": "579b16f1",
   "metadata": {},
   "outputs": [],
   "source": [
    "df['profile_id'].unique()"
   ]
  },
  {
   "cell_type": "code",
   "execution_count": null,
   "id": "851d5a77",
   "metadata": {},
   "outputs": [],
   "source": [
    "df_sub = df[['longitude', 'latitude', 'begperiod', \n",
    "             'sampdepth', 'totdepth', 'station', \n",
    "             'nusymbol', 'activity', 'uncertaint', 'profile_id']]\n",
    "\n",
    "\n",
    "df_sub = df[['latitude', 'longitude', 'begperiod',\n",
    "             'sampdepth',\n",
    "             'nusymbol', 'activity', 'uncertaint']]\n",
    "df_sub['begperiod'] = pd.to_datetime(df_sub['begperiod'])\n",
    "df_sub"
   ]
  },
  {
   "cell_type": "code",
   "execution_count": null,
   "id": "3f95ebbd",
   "metadata": {},
   "outputs": [],
   "source": [
    "df_pivoted = pd.pivot_table(df_sub, values=['activity', 'uncertaint'], \n",
    "                            index=['latitude', 'longitude', 'sampdepth', 'begperiod'],\n",
    "                            columns=['nusymbol'])\n",
    "\n",
    "df_pivoted.sort_values(by=['begperiod', 'sampdepth'], inplace=True)\n",
    "df_pivoted.reset_index(inplace=True)\n",
    "#df_pivoted.columns = flatten_cols(df_pivoted.columns)\n",
    "df_pivoted"
   ]
  },
  {
   "cell_type": "code",
   "execution_count": null,
   "id": "5c1c9ea7",
   "metadata": {},
   "outputs": [],
   "source": [
    "df_pivoted.columns"
   ]
  },
  {
   "cell_type": "code",
   "execution_count": null,
   "id": "73690859",
   "metadata": {},
   "outputs": [],
   "source": []
  },
  {
   "cell_type": "code",
   "execution_count": null,
   "id": "c118f6a6",
   "metadata": {},
   "outputs": [],
   "source": [
    "#pd.pivot_table(df_sub, values=['activity'], \n",
    "#               index=['longitude', 'latitude', 'begperiod', \n",
    "#                      'sampdepth', 'totdepth', 'station', 'profile_id'],\n",
    "#               columns=['nusymbol']).reset_index()"
   ]
  },
  {
   "cell_type": "markdown",
   "id": "5e27180d",
   "metadata": {},
   "source": [
    "## Questions\n",
    "\n",
    "- Is the attribute a function of the measure or dataset?\n",
    "- variable names?\n",
    "- variable attributes such as long_name, ... (unit we have)"
   ]
  },
  {
   "cell_type": "markdown",
   "id": "db60b61a",
   "metadata": {},
   "source": [
    "## Ideal API"
   ]
  },
  {
   "cell_type": "code",
   "execution_count": null,
   "id": "e9f5da43",
   "metadata": {},
   "outputs": [],
   "source": [
    "options: {\n",
    "   ...\n",
    "}\n",
    "    \n",
    "netcdf = NetCDFier(path)\n",
    "\n",
    "marisco.read_netcdf()\n",
    "marisco.csv_to_netcdf()\n",
    "\n",
    "netcdf.from_csv(path, configs)\n",
    "netcdf.to_csv()\n"
   ]
  },
  {
   "cell_type": "code",
   "execution_count": null,
   "id": "10400d30",
   "metadata": {},
   "outputs": [],
   "source": [
    "class NetCDF:\n",
    "    def __init__(self):\n",
    "        pass\n",
    "    def __call__(self, ...):\n",
    "        pass"
   ]
  },
  {
   "cell_type": "code",
   "execution_count": null,
   "id": "bb77312d",
   "metadata": {},
   "outputs": [],
   "source": [
    "from marisco import csv_to_netcdf\n",
    "\n",
    "dest_dir = ''\n",
    "for file in paths:\n",
    "    netcdf = csv_to_netcdf(file, cfg)\n",
    "\n",
    "netcdf.plot()\n",
    "netcdf.summary()\n"
   ]
  },
  {
   "cell_type": "code",
   "execution_count": null,
   "id": "ca0959f9",
   "metadata": {},
   "outputs": [],
   "source": [
    "CONFIGS = {\n",
    "    'vars': {\n",
    "        '131I': {\n",
    "            'colname': '131I',\n",
    "            'long_name': 'Iodine 131',\n",
    "            'unit': 'Bq/kg'\n",
    "        },\n",
    "        '134Cs': {\n",
    "            'colname': '134Cs',\n",
    "            'long_name': 'Cesium 134',\n",
    "            'unit': 'Bq/kg'\n",
    "        }}\n",
    "}; CONFIG"
   ]
  },
  {
   "cell_type": "code",
   "execution_count": null,
   "id": "eb7ea1a2",
   "metadata": {},
   "outputs": [],
   "source": [
    "CONFIGS['vars']['131I']"
   ]
  },
  {
   "cell_type": "code",
   "execution_count": null,
   "id": "c89be05e",
   "metadata": {},
   "outputs": [],
   "source": [
    "ds_attrs = {\n",
    "    'name': \"IFREMER\""
   ]
  }
 ],
 "metadata": {
  "kernelspec": {
   "display_name": "python3",
   "language": "python",
   "name": "python3"
  }
 },
 "nbformat": 4,
 "nbformat_minor": 5
}

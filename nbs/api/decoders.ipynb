{
 "cells": [
  {
   "cell_type": "code",
   "execution_count": null,
   "id": "9a34957e",
   "metadata": {},
   "outputs": [],
   "source": [
    "#| default_exp decoders"
   ]
  },
  {
   "attachments": {},
   "cell_type": "markdown",
   "id": "34f38641",
   "metadata": {},
   "source": [
    "# Decoders\n",
    "> Various utilities to decode MARIS dataset from `NetCDF`."
   ]
  },
  {
   "cell_type": "code",
   "execution_count": null,
   "id": "27051f31",
   "metadata": {},
   "outputs": [],
   "source": [
    "#| hide\n",
    "%load_ext autoreload\n",
    "%autoreload 2"
   ]
  },
  {
   "cell_type": "code",
   "execution_count": null,
   "id": "04f9c88f",
   "metadata": {},
   "outputs": [],
   "source": [
    "#| export\n",
    "from pathlib import Path\n",
    "from netCDF4 import Dataset\n",
    "import pandas as pd\n",
    "import numpy as np\n",
    "from fastcore.basics import patch, store_attr\n",
    "import fastcore.all as fc\n",
    "\n",
    "from marisco.configs import (\n",
    "    NC_DTYPES, \n",
    "    NC_VARS, \n",
    "    NC_DIM,\n",
    "    NC_GROUPS,\n",
    "    lut_path, \n",
    "    Enums,\n",
    "    nc_tpl_path,\n",
    "    get_time_units\n",
    ")"
   ]
  },
  {
   "cell_type": "code",
   "execution_count": null,
   "id": "762673eb",
   "metadata": {},
   "outputs": [],
   "source": [
    "#| exports\n",
    "def nc_to_dfs(\n",
    "    fname: str # Path to NetCDF file\n",
    "    ) -> dict: # Dictionary with group names as keys and pandas DataFrames as values\n",
    "    \"Convert a NetCDF (with groups) file to a dictionary of dataframes.\"\n",
    "    dfs = {}\n",
    "    \n",
    "    with Dataset(fname, 'r') as nc:\n",
    "        # Process each group in the NetCDF file\n",
    "        for group_name in nc.groups:\n",
    "            group = nc.groups[group_name]\n",
    "            \n",
    "            # Get all variables in the group\n",
    "            data = {}\n",
    "            for var_name in group.variables:\n",
    "                # Skip dimension variables (like 'id')\n",
    "                if var_name not in group.dimensions:\n",
    "                    data[var_name] = group.variables[var_name][:]\n",
    "            \n",
    "            # Convert to DataFrame\n",
    "            df = pd.DataFrame(data)\n",
    "            \n",
    "            # Convert time from seconds since epoch if present\n",
    "            if 'time' in df.columns:\n",
    "                df['time'] = pd.to_datetime(df['time'], unit='s')\n",
    "                \n",
    "            dfs[group_name.upper()] = df\n",
    "    \n",
    "    return dfs"
   ]
  },
  {
   "cell_type": "markdown",
   "id": "efeef801",
   "metadata": {},
   "source": [
    "Example usage:"
   ]
  },
  {
   "cell_type": "code",
   "execution_count": null,
   "id": "7f05c670",
   "metadata": {},
   "outputs": [
    {
     "name": "stdout",
     "output_type": "stream",
     "text": [
      "group: SEAWATER\n",
      "shape: (19139, 11)\n",
      "          lon        lat   smp_depth  tot_depth                time  smp_id  \\\n",
      "0  170.337921  38.327099   17.799999     2827.0 2010-10-17 00:13:29  842525   \n",
      "1  170.337921  38.327099   34.700001     2827.0 2010-10-17 00:13:29  842528   \n",
      "2  170.337921  38.327099   67.500000     2827.0 2010-10-17 00:13:29  842531   \n",
      "3  170.337921  38.327099   91.900002     2827.0 2010-10-17 00:13:29  842534   \n",
      "4  170.337921  38.327099  136.600006     2827.0 2010-10-17 00:13:29  842540   \n",
      "\n",
      "   nuclide  value  unit  filt  samp_met  \n",
      "0        1  0.733     7     1         1  \n",
      "1        1  0.696     7     1         1  \n",
      "2        1  0.718     7     1         1  \n",
      "3        1  0.709     7     1         1  \n",
      "4        1  0.692     7     1         1   \n",
      "\n",
      "group: SUSPENDED_MATTER\n",
      "shape: (7606, 11)\n",
      "          lon        lat   smp_depth  tot_depth                time  smp_id  \\\n",
      "0 -171.006165 -42.341301   24.799999     4569.0 2008-02-13 21:05:05  740882   \n",
      "1 -171.006165 -42.341301  100.199997     4569.0 2008-02-13 21:05:05  740849   \n",
      "2 -171.006165 -42.341301  200.300003     4569.0 2008-02-13 21:05:05  740834   \n",
      "3 -171.006165 -42.341301  500.100006     4569.0 2008-02-13 21:05:05  741053   \n",
      "4 -171.006165 -42.341301  741.400024     4569.0 2008-02-13 21:05:05  741041   \n",
      "\n",
      "   nuclide     value  unit  filt  samp_met  \n",
      "0       47  0.000091     3     1         1  \n",
      "1       47  0.000029     3     1         1  \n",
      "2       47  0.000017     3     1         1  \n",
      "3       47  0.000040     3     1         1  \n",
      "4       47  0.000047     3     1         1   \n",
      "\n"
     ]
    }
   ],
   "source": [
    "#| eval: false\n",
    "# fname = Path('../files/nc/encoding-test.nc')\n",
    "# fname = Path('../../_data/output/dump/100-HELCOM-MORS-2018.nc')\n",
    "fname = Path('../../_data/output/190-geotraces-2021.nc')\n",
    "\n",
    "dfs = nc_to_dfs(fname)\n",
    "\n",
    "for grp, df in dfs.items():\n",
    "    print('group:', grp)\n",
    "    print(f'shape: {df.shape}')\n",
    "    print(df.head(), '\\n')"
   ]
  }
 ],
 "metadata": {
  "kernelspec": {
   "display_name": "python3",
   "language": "python",
   "name": "python3"
  }
 },
 "nbformat": 4,
 "nbformat_minor": 5
}

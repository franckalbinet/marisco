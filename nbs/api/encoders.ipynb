{
 "cells": [
  {
   "cell_type": "code",
   "execution_count": null,
   "id": "9a34957e",
   "metadata": {},
   "outputs": [],
   "source": [
    "#| default_exp encoders"
   ]
  },
  {
   "attachments": {},
   "cell_type": "markdown",
   "id": "34f38641",
   "metadata": {},
   "source": [
    "# Encoders\n",
    "> Various utilities to encode MARIS dataset as `NetCDF`, `csv`, ... formats."
   ]
  },
  {
   "cell_type": "code",
   "execution_count": null,
   "id": "27051f31",
   "metadata": {},
   "outputs": [
    {
     "name": "stdout",
     "output_type": "stream",
     "text": [
      "The autoreload extension is already loaded. To reload it, use:\n",
      "  %reload_ext autoreload\n"
     ]
    }
   ],
   "source": [
    "#| hide\n",
    "%load_ext autoreload\n",
    "%autoreload 2"
   ]
  },
  {
   "cell_type": "code",
   "execution_count": null,
   "id": "b4934cd2",
   "metadata": {},
   "outputs": [],
   "source": [
    "#| export\n",
    "import netCDF4\n",
    "from netCDF4 import Dataset\n",
    "import pandas as pd\n",
    "from typing import Dict, Callable\n",
    "import numpy as np\n",
    "from fastcore.basics import patch, store_attr\n",
    "import fastcore.all as fc\n",
    "import os\n",
    "\n",
    "from marisco.configs import (\n",
    "    NC_DTYPES, \n",
    "    NC_VARS, \n",
    "    NC_DIM,\n",
    "    NC_GROUPS,\n",
    "    lut_path, \n",
    "    Enums,\n",
    "    nc_tpl_path\n",
    ")"
   ]
  },
  {
   "cell_type": "markdown",
   "id": "9f3c33bc",
   "metadata": {},
   "source": [
    "## NetCDF"
   ]
  },
  {
   "cell_type": "code",
   "execution_count": null,
   "id": "2e31b9dd",
   "metadata": {},
   "outputs": [],
   "source": [
    "#| exports\n",
    "class NetCDFEncoder:\n",
    "    \"MARIS NetCDF encoder.\"\n",
    "    def __init__(self, \n",
    "                 dfs: Dict[str, pd.DataFrame], # dict of Dataframes to encode with group name as key {'sediment': df_sed, ...}\n",
    "                 dest_fname: str, # Name of output file to produce\n",
    "                 global_attrs: Dict[str, str], # Global attributes\n",
    "                 fn_src_fname: Callable=nc_tpl_path, # Function returning file name and path to the MARIS CDL template\n",
    "                 verbose: bool=False, # Print currently written NetCDF group and variable names\n",
    "                 ):\n",
    "        store_attr()\n",
    "        self.src_fname = fn_src_fname()\n",
    "        self.enum_dtypes = {}\n",
    "        self.nc_to_cols = {v:k for k,v in NC_VARS.items()}\n"
   ]
  },
  {
   "cell_type": "code",
   "execution_count": null,
   "id": "584f9d26",
   "metadata": {},
   "outputs": [],
   "source": [
    "df_seawater = pd.DataFrame({\n",
    "    'ID': [0, 1, 2], \n",
    "    'LON': [141, 142, 143], \n",
    "    'LAT': [37.3, 38.3, 39.3], \n",
    "    'TIME': [1234, 1235, 1236], \n",
    "    'NUCLIDE': [1, 2, 3],\n",
    "    'VALUE': [0.1, 1.1, 2.1], \n",
    "    'AREA': [2374, 2379, 2401],\n",
    "    })\n",
    "\n",
    "df_biota = pd.DataFrame({\n",
    "    'ID': [0, 1, 2, 3], \n",
    "    'LON': [141, 142, 143, 144], \n",
    "    'LAT': [37.3, 38.3, 39.3, 40.3], \n",
    "    'TIME': [1234, 1235, 1236, 1237], \n",
    "    'NUCLIDE': [1, 2, 3, 3],\n",
    "    'VALUE': [0.1, 1.1, 2.1, 3.1], \n",
    "    'SPECIES': [1, 2, 3, 3]\n",
    "    })\n",
    "\n",
    "dfs = {'SEAWATER': df_seawater, 'BIOTA': df_biota}\n",
    "attrs = {'id': '123', 'title': 'Test title', 'summary': 'Summary test'}\n",
    "src = './files/nc/maris-template.nc'\n",
    "dest = './files/nc/encoding-test.nc'"
   ]
  },
  {
   "cell_type": "code",
   "execution_count": null,
   "id": "7beed6e5",
   "metadata": {},
   "outputs": [],
   "source": [
    "#| exports\n",
    "@patch \n",
    "def copy_global_attributes(self:NetCDFEncoder):\n",
    "    \"Update NetCDF template global attributes as specified by `global_attrs` argument.\"\n",
    "    self.dest.setncatts(self.src.__dict__)\n",
    "    for k, v in self.global_attrs.items(): self.dest.setncattr(k, v)"
   ]
  },
  {
   "cell_type": "code",
   "execution_count": null,
   "id": "a6909975",
   "metadata": {},
   "outputs": [],
   "source": [
    "#| exports\n",
    "@patch\n",
    "def copy_dimensions(self:NetCDFEncoder, grp_dest):\n",
    "    \"Copy dimensions to root and all groups from template.\"\n",
    "    src_dim = self.src.groups[grp_dest.name].dimensions\n",
    "    for name, dim in src_dim.items():\n",
    "        grp_dest.createDimension(name, (len(dim) if not dim.isunlimited() else None))"
   ]
  },
  {
   "cell_type": "code",
   "execution_count": null,
   "id": "6e24da73",
   "metadata": {},
   "outputs": [],
   "source": [
    "#| exports\n",
    "@patch\n",
    "def process_groups(self:NetCDFEncoder):\n",
    "    for grp_name, df in self.dfs.items():\n",
    "        self.process_group(NC_GROUPS[grp_name], df)"
   ]
  },
  {
   "cell_type": "code",
   "execution_count": null,
   "id": "4e308b46",
   "metadata": {},
   "outputs": [],
   "source": [
    "#| exports\n",
    "@patch\n",
    "def process_group(self:NetCDFEncoder, grp_name, df):\n",
    "    grp_dest = self.dest.createGroup(grp_name)\n",
    "    self.copy_dimensions(grp_dest)\n",
    "    self.copy_variables(grp_name, df, grp_dest)"
   ]
  },
  {
   "cell_type": "code",
   "execution_count": null,
   "id": "c49969ab",
   "metadata": {},
   "outputs": [],
   "source": [
    "#| exports\n",
    "@patch\n",
    "def copy_variables(self:NetCDFEncoder, grp_name, df, grp_dest):\n",
    "    cols = [NC_VARS[col] for col in df.columns if col in NC_VARS]\n",
    "    for var_name, var_src in self.src.groups[grp_name].variables.items():\n",
    "        if var_name in cols: \n",
    "            self.copy_variable(var_name, var_src, df, grp_dest)"
   ]
  },
  {
   "cell_type": "code",
   "execution_count": null,
   "id": "40561907",
   "metadata": {},
   "outputs": [],
   "source": [
    "#| exports\n",
    "@patch\n",
    "def copy_variable(self:NetCDFEncoder, var_name, var_src, df, grp_dest):\n",
    "    dtype_name = var_src.datatype.name\n",
    "    enums_src = self.src.enumtypes\n",
    "    if self.verbose: \n",
    "        print(80*'-')\n",
    "        print(f'Group: {grp_dest.name}, Variable: {var_name}')\n",
    "    self._create_and_copy_variable(var_name, var_src, df, grp_dest, dtype_name)\n",
    "    self.copy_variable_attributes(var_name, var_src, grp_dest)"
   ]
  },
  {
   "cell_type": "code",
   "execution_count": null,
   "id": "93792604",
   "metadata": {},
   "outputs": [],
   "source": [
    "#| exports\n",
    "@patch\n",
    "def _create_and_copy_variable(self:NetCDFEncoder, var_name, var_src, df, grp_dest, dtype_name):\n",
    "    variable_type = self.enum_dtypes.get(dtype_name, var_src.datatype)    \n",
    "    grp_dest.createVariable(var_name, variable_type, NC_DIM, compression='zlib', complevel=9)            \n",
    "    isNotEnum = type(variable_type) != netCDF4._netCDF4.EnumType\n",
    "    values = df[self.nc_to_cols[var_name]].values\n",
    "    grp_dest[var_name][:] = values if isNotEnum else self.sanitize_if_enum_and_nan(values)"
   ]
  },
  {
   "cell_type": "code",
   "execution_count": null,
   "id": "c3042eed",
   "metadata": {},
   "outputs": [],
   "source": [
    "#| exports\n",
    "@patch\n",
    "def sanitize_if_enum_and_nan(self:NetCDFEncoder, values, fill_value=-1):\n",
    "    values[np.isnan(values)] = int(fill_value)\n",
    "    values = values.astype(int)\n",
    "    return values"
   ]
  },
  {
   "cell_type": "code",
   "execution_count": null,
   "id": "efd48f5a",
   "metadata": {},
   "outputs": [],
   "source": [
    "#| exports\n",
    "@patch\n",
    "def copy_enum_type(self:NetCDFEncoder, dtype_name):\n",
    "    # if enum type not already created\n",
    "    if dtype_name not in self.enum_types:\n",
    "        enum_info = self.src.enumtypes[dtype_name]\n",
    "        # If a subset of an enum is defined in enums_xtra (typically for the lengthy species_t)\n",
    "        if enum_info.name in self.enums_xtra:\n",
    "            # add \"not applicable\"\n",
    "            enum_info.enum_dict = self.enums_xtra[enum_info.name]\n",
    "            enum_info.enum_dict['Not applicable'] = -1 # TBD\n",
    "        self.enum_types[dtype_name] = self.dest.createEnumType(enum_info.dtype, \n",
    "                                                               enum_info.name, \n",
    "                                                               enum_info.enum_dict)"
   ]
  },
  {
   "cell_type": "code",
   "execution_count": null,
   "id": "6068704d",
   "metadata": {},
   "outputs": [],
   "source": [
    "#| exports\n",
    "@patch\n",
    "def copy_variable_attributes(self:NetCDFEncoder, var_name, var_src, grp_dest):\n",
    "    grp_dest[var_name].setncatts(var_src.__dict__)"
   ]
  },
  {
   "cell_type": "code",
   "execution_count": null,
   "id": "6b7c5992",
   "metadata": {},
   "outputs": [],
   "source": [
    "#| exports\n",
    "@patch\n",
    "def retrieve_all_cols(self:NetCDFEncoder, \n",
    "                      dtypes=NC_DTYPES\n",
    "                      ):\n",
    "    \"Retrieve all unique columns from the dict of dataframes.\" \n",
    "    return list(set(col for df in self.dfs.values() for col in df.columns if col in dtypes.keys()))"
   ]
  },
  {
   "cell_type": "code",
   "execution_count": null,
   "id": "724453b7",
   "metadata": {},
   "outputs": [],
   "source": [
    "#| exports\n",
    "@patch\n",
    "def create_enums(self:NetCDFEncoder):\n",
    "    cols = self.retrieve_all_cols()\n",
    "    enums = Enums(lut_src_dir=lut_path())\n",
    "    \n",
    "    if self.verbose: \n",
    "        print(80*'-')\n",
    "        print('Creating enums for the following columns:')\n",
    "        print(cols)\n",
    "        \n",
    "    for col in cols:\n",
    "        name = NC_DTYPES[col]['name']\n",
    "        if self.verbose: print(f'Creating enum for {name} with values {enums.types[col]}.')\n",
    "        dtype = self.dest.createEnumType(np.int64, name, enums.types[col])\n",
    "        self.enum_dtypes[name] = dtype"
   ]
  },
  {
   "cell_type": "code",
   "execution_count": null,
   "id": "20edc912",
   "metadata": {},
   "outputs": [],
   "source": [
    "#| exports\n",
    "@patch\n",
    "def encode(self:NetCDFEncoder):\n",
    "    \"Encode MARIS NetCDF based on template and dataframes.\"\n",
    "    with Dataset(self.src_fname, format='NETCDF4') as self.src, Dataset(self.dest_fname, 'w', format='NETCDF4') as self.dest:\n",
    "        self.copy_global_attributes()\n",
    "        self.create_enums()\n",
    "        self.process_groups()"
   ]
  },
  {
   "cell_type": "code",
   "execution_count": null,
   "id": "6759d7bd",
   "metadata": {},
   "outputs": [
    {
     "name": "stdout",
     "output_type": "stream",
     "text": [
      "variable_type: \n",
      "uint64\n",
      "<class 'numpy.dtypes.UInt64DType'>\n",
      "variable_type: \n",
      "float32\n",
      "<class 'numpy.dtypes.Float32DType'>\n",
      "variable_type: \n",
      "float32\n",
      "<class 'numpy.dtypes.Float32DType'>\n",
      "variable_type: \n",
      "uint64\n",
      "<class 'numpy.dtypes.UInt64DType'>\n",
      "variable_type: \n",
      "<class 'netCDF4._netCDF4.EnumType'>: name = 'area_t', numpy dtype = int64, fields/values ={'Not applicable': -1, 'Not available': 0, 'North Atlantic Ocean': 1912, 'Baltic Sea': 2, 'Mediterranean Region': 3, 'South Atlantic Ocean': 1914, 'Indian Ocean': 1904, 'South China & Eastern Archipelagic Seas': 6, 'North Pacific Ocean': 1908, 'South Pacific Ocean': 1910, 'Arctic Ocean': 1906, 'Southern Ocean': 1907, 'Arctic Sea': 18, 'Atlantic, Northwest': 21, 'Atlantic, Northeast': 27, 'Atlantic, Western Central': 31, 'Atlantic, Eastern Central': 34, 'Mediterranean and Black Sea': 37, 'Atlantic, Southwest': 41, 'Atlantic, Southeast': 47, 'Atlantic, Antarctic': 48, 'Indian Ocean, Western': 51, 'Indian Ocean, Eastern': 57, 'Indian Ocean, Antarctic': 58, 'Pacific, Northwest': 61, 'Pacific, Northeast': 67, 'Pacific, Western Central': 71, 'Pacific, Eastern Central': 77, 'Pacific, Southwest': 81, 'Pacific, Southeast': 87, 'Pacific, Antarctic': 88, 'North Sea': 2350, 'Celtic Sea': 2351, 'Norwegian Sea': 2353, 'Greenland Sea': 2356, 'Irish Sea': 2357, 'Bay of Biscay': 2359, 'Kattegat': 2374, 'Skagerrak': 2379, 'English Channel': 2389, 'Central Baltic Sea': 2401, 'Gulf of Bothnia': 2402, 'Gulf of Finland': 2407, 'Gulf of Riga': 2409, 'Bristol Channel': 3141, 'Adriatic Sea': 3314, 'Aegean Sea': 3315, 'Black Sea': 3319, 'Sea of Azov': 3320, 'Balearic Sea': 3322, 'Alboran Sea': 3324, 'Strait of Gibraltar': 3346, 'Ionian Sea': 3351, 'Ligurian Sea': 3363, 'Sea of Marmara': 3369, 'Tyrrhenian Sea': 3386, 'East Siberian Sea': 4244, 'Laptev Sea': 4245, 'Kara Sea': 4246, 'Barentsz Sea': 4247, 'White Sea': 4248, 'Davis Strait': 4250, 'Hudson Strait': 4251, 'Hudson Bay': 4252, 'Baffin Bay': 4253, 'Lincoln Sea': 4254, 'Beaufort Sea': 4256, 'Chukchi Sea': 4257, 'Mozambique Channel': 4261, 'Gulf of Suez': 4262, 'Gulf of Aqaba': 4263, 'Red Sea': 4264, 'Gulf of Aden': 4265, 'Persian Gulf': 4266, 'Gulf of Oman': 4267, 'Arabian Sea': 4268, 'Laccadive Sea': 4269, 'Bay of Bengal': 4273, 'Andaman Sea': 4274, 'Malacca Strait': 4275, 'Great Australian Bight': 4276, 'Mediterranean Sea   Western Basin_x000D_': 4279, 'Mediterranean Sea   Eastern Basin': 4280, 'Inner Seas off the West Coast of Scotland': 4283, 'Gulf of Guinea': 4286, 'Caribbean Sea': 4287, 'Gulf of Mexico': 4288, 'Bay of Fundy': 4289, 'Gulf of St Lawrence': 4290, 'Labrador Sea': 4291, 'Philippine Sea': 4300, 'East China Sea': 4302, 'Yellow Sea': 4303, 'Seto Naikai': 4306, 'Japan Sea': 4307, 'Sea of Okhotsk': 4309, 'Bering Sea': 4310, 'Gulf of Alaska': 4312, 'Coastal Waters of Southeast Alaska and British Columbia': 4313, 'Gulf of California': 4314, 'Rio de La Plata': 4325, 'South China Sea': 4332, 'Gulf of Thailand': 4334, 'Singapore Strait': 4336, 'Jawa Sea': 4338, 'Selat Makasar': 4339, 'Bali Sea': 4340, 'Flores Sea': 4341, 'Sawu Sea': 4343, 'Timor Sea': 4344, 'Arafura Sea': 4347, 'Banda Sea': 4349, 'Teluk Bone': 4350, 'Ceram Sea': 4351, 'Halmahera Sea': 4353, 'Molucca Sea': 4354, 'Teluk Tomini': 4355, 'Sulu Sea': 4358, 'Celebes Sea': 4359, 'Bismarck Sea': 4360, 'Solomon Sea': 4361, 'Coral Sea': 4364, 'Tasman Sea': 4365, 'Bass Strait': 4366, 'Northwestern Passages': 5698, 'Unassigned': 9999}\n",
      "<class 'netCDF4._netCDF4.EnumType'>\n",
      "variable_type: \n",
      "<class 'netCDF4._netCDF4.EnumType'>: name = 'nuclide_t', numpy dtype = int64, fields/values ={'NOT APPLICABLE': -1, 'NOT AVAILABLE': 0, 'h3': 1, 'be7': 2, 'c14': 3, 'k40': 4, 'cr51': 5, 'mn54': 6, 'co57': 7, 'co58': 8, 'co60': 9, 'zn65': 10, 'sr89': 11, 'sr90': 12, 'zr95': 13, 'nb95': 14, 'tc99': 15, 'ru103': 16, 'ru106': 17, 'rh106': 18, 'ag106m': 19, 'ag108': 20, 'ag108m': 21, 'ag110m': 22, 'sb124': 23, 'sb125': 24, 'te129m': 25, 'i129': 28, 'i131': 29, 'cs127': 30, 'cs134': 31, 'cs137': 33, 'ba140': 34, 'la140': 35, 'ce141': 36, 'ce144': 37, 'pm147': 38, 'eu154': 39, 'eu155': 40, 'pb210': 41, 'pb212': 42, 'pb214': 43, 'bi207': 44, 'bi211': 45, 'bi214': 46, 'po210': 47, 'rn220': 48, 'rn222': 49, 'ra223': 50, 'ra224': 51, 'ra225': 52, 'ra226': 53, 'ra228': 54, 'ac228': 55, 'th227': 56, 'th228': 57, 'th232': 59, 'th234': 60, 'pa234': 61, 'u234': 62, 'u235': 63, 'u238': 64, 'np237': 65, 'np239': 66, 'pu238': 67, 'pu239': 68, 'pu240': 69, 'pu241': 70, 'am240': 71, 'am241': 72, 'cm242': 73, 'cm243': 74, 'cm244': 75, 'cs134_137_tot': 76, 'pu239_240_tot': 77, 'pu239_240_iii_iv_tot': 78, 'pu239_240_v_vi_tot': 79, 'cm243_244_tot': 80, 'pu238_pu239_240_tot_ratio': 81, 'am241_pu239_240_tot_ratio': 82, 'cs137_134_ratio': 83, 'cd109': 84, 'eu152': 85, 'fe59': 86, 'gd153': 87, 'ir192': 88, 'pu238_240_tot': 89, 'rb86': 90, 'sc46': 91, 'sn113': 92, 'sn117m': 93, 'tl208': 94, 'mo99': 95, 'tc99m': 96, 'ru105': 97, 'te129': 98, 'te132': 99, 'i132': 100, 'i135': 101, 'cs136': 102, 'tbeta': 103, 'talpha': 104, 'i133': 105, 'th230': 106, 'pa231': 107, 'u236': 108, 'ag111': 109, 'in116m': 110, 'te123m': 111, 'sb127': 112, 'ba133': 113, 'ce139': 114, 'tl201': 116, 'hg203': 117, 'na22': 122, 'pa234m': 123, 'am243': 124, 'se75': 126, 'sr85': 127, 'y88': 128, 'ce140': 129, 'bi212': 130, 'u236_238_ratio': 131, 'i125': 132, 'ba137m': 133, 'u232': 134, 'pa233': 135, 'ru106_rh106_tot': 136, 'tu': 137, 'tbeta40k': 138, 'fe55': 139, 'ce144_pr144_tot': 140, 'pu240_pu239_ratio': 141, 'u233': 142, 'pu239_242_tot': 143, 'ac227': 144}\n",
      "<class 'netCDF4._netCDF4.EnumType'>\n",
      "variable_type: \n",
      "float32\n",
      "<class 'numpy.dtypes.Float32DType'>\n",
      "variable_type: \n",
      "uint64\n",
      "<class 'numpy.dtypes.UInt64DType'>\n",
      "variable_type: \n",
      "float32\n",
      "<class 'numpy.dtypes.Float32DType'>\n",
      "variable_type: \n",
      "float32\n",
      "<class 'numpy.dtypes.Float32DType'>\n",
      "variable_type: \n",
      "uint64\n",
      "<class 'numpy.dtypes.UInt64DType'>\n",
      "variable_type: \n",
      "<class 'netCDF4._netCDF4.EnumType'>: name = 'nuclide_t', numpy dtype = int64, fields/values ={'NOT APPLICABLE': -1, 'NOT AVAILABLE': 0, 'h3': 1, 'be7': 2, 'c14': 3, 'k40': 4, 'cr51': 5, 'mn54': 6, 'co57': 7, 'co58': 8, 'co60': 9, 'zn65': 10, 'sr89': 11, 'sr90': 12, 'zr95': 13, 'nb95': 14, 'tc99': 15, 'ru103': 16, 'ru106': 17, 'rh106': 18, 'ag106m': 19, 'ag108': 20, 'ag108m': 21, 'ag110m': 22, 'sb124': 23, 'sb125': 24, 'te129m': 25, 'i129': 28, 'i131': 29, 'cs127': 30, 'cs134': 31, 'cs137': 33, 'ba140': 34, 'la140': 35, 'ce141': 36, 'ce144': 37, 'pm147': 38, 'eu154': 39, 'eu155': 40, 'pb210': 41, 'pb212': 42, 'pb214': 43, 'bi207': 44, 'bi211': 45, 'bi214': 46, 'po210': 47, 'rn220': 48, 'rn222': 49, 'ra223': 50, 'ra224': 51, 'ra225': 52, 'ra226': 53, 'ra228': 54, 'ac228': 55, 'th227': 56, 'th228': 57, 'th232': 59, 'th234': 60, 'pa234': 61, 'u234': 62, 'u235': 63, 'u238': 64, 'np237': 65, 'np239': 66, 'pu238': 67, 'pu239': 68, 'pu240': 69, 'pu241': 70, 'am240': 71, 'am241': 72, 'cm242': 73, 'cm243': 74, 'cm244': 75, 'cs134_137_tot': 76, 'pu239_240_tot': 77, 'pu239_240_iii_iv_tot': 78, 'pu239_240_v_vi_tot': 79, 'cm243_244_tot': 80, 'pu238_pu239_240_tot_ratio': 81, 'am241_pu239_240_tot_ratio': 82, 'cs137_134_ratio': 83, 'cd109': 84, 'eu152': 85, 'fe59': 86, 'gd153': 87, 'ir192': 88, 'pu238_240_tot': 89, 'rb86': 90, 'sc46': 91, 'sn113': 92, 'sn117m': 93, 'tl208': 94, 'mo99': 95, 'tc99m': 96, 'ru105': 97, 'te129': 98, 'te132': 99, 'i132': 100, 'i135': 101, 'cs136': 102, 'tbeta': 103, 'talpha': 104, 'i133': 105, 'th230': 106, 'pa231': 107, 'u236': 108, 'ag111': 109, 'in116m': 110, 'te123m': 111, 'sb127': 112, 'ba133': 113, 'ce139': 114, 'tl201': 116, 'hg203': 117, 'na22': 122, 'pa234m': 123, 'am243': 124, 'se75': 126, 'sr85': 127, 'y88': 128, 'ce140': 129, 'bi212': 130, 'u236_238_ratio': 131, 'i125': 132, 'ba137m': 133, 'u232': 134, 'pa233': 135, 'ru106_rh106_tot': 136, 'tu': 137, 'tbeta40k': 138, 'fe55': 139, 'ce144_pr144_tot': 140, 'pu240_pu239_ratio': 141, 'u233': 142, 'pu239_242_tot': 143, 'ac227': 144}\n",
      "<class 'netCDF4._netCDF4.EnumType'>\n",
      "variable_type: \n",
      "float32\n",
      "<class 'numpy.dtypes.Float32DType'>\n",
      "variable_type: \n",
      "<class 'netCDF4._netCDF4.EnumType'>: name = 'species_t', numpy dtype = int64, fields/values ={'NOT AVAILABLE': 0, 'Aristeus antennatus': 1, 'Apostichopus': 2, 'Saccharina japonica var religiosa': 3, 'Siganus fuscescens': 4, 'Alpheus dentipes': 5, 'Hexagrammos agrammus': 6, 'Ditrema temminckii': 7, 'Parapristipoma trilineatum': 8, 'Scombrops boops': 9, 'Pseudopleuronectes schrenki': 10, 'Desmarestia ligulata': 11, 'Saccharina japonica': 12, 'Neodilsea yendoana': 13, 'Costaria costata': 14, 'Sargassum yezoense': 15, 'Acanthephyra pelagica': 16, 'Sargassum ringgoldianum': 17, 'Acanthephyra quadrispinosa': 18, 'Sargassum thunbergii': 19, 'Sargassum patens': 20, 'Asterias rubens': 21, 'Sargassum miyabei': 22, 'Homarus gammarus': 23, 'Acanthephyra stylorostratis': 24, 'Acanthocybium solandri': 25, 'Acanthopagrus bifasciatus': 26, 'Acanthophora muscoides': 27, 'Acanthophora spicifera': 28, 'Acanthurus triostegus': 29, 'Actinopterygii': 30, 'Adamussium colbecki': 31, 'Ahnfeltiopsis densa': 32, 'Alepes melanoptera': 33, 'Ampharetidae': 34, 'Anchoviella lepidentostole': 35, 'Anguillidae': 36, 'Aphroditidae': 37, 'Arnoglossus': 38, 'Aurigequula fasciata': 39, 'Balaenoptera musculus': 40, 'Balaenoptera physalus': 41, 'Balistes': 42, 'Beryciformes': 43, 'Bryopsis maxima': 44, 'Callinectes sp': 45, 'Callorhinus ursinus': 46, 'Carassius auratus auratus': 47, 'Carcharhinus sorrah': 48, 'Caridae': 49, 'Clupea harengus': 50, 'Cathorops spixii': 51, 'Caulerpa racemosa': 52, 'Caulerpa scalpelliformis': 53, 'Caulerpa sertularioides': 54, 'Cellana radiata': 55, 'Coscinasterias tenuispina': 56, 'Centroceras clavulatum': 57, 'Centropomus parallelus': 58, 'Crangon crangon': 59, 'Ceramium diaphanum': 60, 'Ceramium rubrum': 61, 'Chaenocephalus aceratus': 62, 'Chaetodipterus faber': 63, 'Chaetomorpha antennina': 64, 'Chaetomorpha linoides': 65, 'Chelidonichthys kumu': 66, 'Chelon ramada': 67, 'Chiloscyllium': 68, 'Chionodraco hamatus': 69, 'Chlamys islandica': 70, 'Chlorophyta': 71, 'Chondrichthyes': 72, 'Chrysaora': 73, 'Cladophora nitellopsis': 74, 'Cladophora vagabunda': 75, 'Cladophoropsis membranacea': 76, 'Clupea': 77, 'Coccotylus truncatus': 78, 'Codium fragile': 79, 'Crassostrea': 80, 'Cynoscion acoupa': 81, 'Cynoscion jamaicensis': 82, 'Cynoscion leiarchus': 83, 'Engraulis encrasicolus': 84, 'Cypselurus agoo agoo': 85, 'Cystophora cristata': 86, 'Cystoseira barbata': 87, 'Cystoseira crinita': 88, 'Decapodiformes': 89, 'Decapterus russelli': 90, 'Decapterus scombrinus': 91, 'Delphinapterus leucas': 92, 'Delphinus capensis': 93, 'Diapterus rhombeus': 94, 'Dicentrarchus punctatus': 95, 'Fucus vesiculosus': 96, 'Funchalia woodwardi': 97, 'Ecklonia bicyclis': 98, 'Gadus morhua': 99, 'Ecklonia kurome': 100, 'Gennadas elegans': 101, 'Eisenia arborea': 102, 'Encrasicholina devisi': 103, 'Enteromorpha': 104, 'Enteromorpha flexuosa': 105, 'Enteromorpha intestinalis': 106, 'Epinephelinae': 107, 'Epinephelus diacanthus': 108, 'Exocoetidae': 109, 'Saccharina latissima': 110, 'Gracilaria corticata': 111, 'Ligur ensiferus': 112, 'Gracilaria debilis': 113, 'Gracilaria edulis': 114, 'Gracilariales': 115, 'Grateloupia elliptica': 116, 'Grateloupia filicina': 117, 'Lysmata seticaudata': 118, 'Gymnogongrus griffithsiae': 119, 'Mya arenaria': 120, 'Halichoerus grypus': 121, 'Macoma balthica': 122, 'Marthasterias glacialis': 123, 'Halimeda macroloba': 124, 'Harengula clupeola': 125, 'Harpagifer antarcticus': 126, 'Hemifusus ternatanus': 127, 'Hemiramphus brasiliensis': 128, 'Mytilus edulis': 129, 'Metapenaeus affinis': 130, 'Heteroscleromorpha': 131, 'Heterosigma akashiwo': 132, 'Hilsa ilisha': 133, 'Metapenaeus monoceros': 134, 'Metapenaeus stebbingi': 135, 'Holothuria': 136, 'Hoplobrotula armata': 137, 'Hypnea musciformis': 138, 'Merlangius merlangus': 139, 'Iridaea cordata': 140, 'Jania rubens': 141, 'Meganyctiphanes norvegica': 142, 'Johnius glaucus': 143, 'Kappaphycus': 144, 'Kappaphycus alvarezii': 145, 'Laevistrombus canarium': 146, 'Lagenodelphis hosei': 147, 'Lambia': 148, 'Laminaria japonica': 149, 'Laminaria longissima': 150, 'Larimus breviceps': 151, 'Laurencia papillosa': 152, 'Leiognathidae': 153, 'Leiognathus dussumieri': 154, 'Lepidochelys olivacea': 155, 'Leptonychotes weddellii': 156, 'Limanda yokohamae': 157, 'Nephrops norvegicus': 158, 'Neuston': 159, 'Littoraria undulata': 160, 'Loligo vulgaris': 161, 'Lumbrineridae': 162, 'Lutjanus fulviflamma': 163, 'Marginisporum aberrans': 164, 'Megalaspis cordyla': 165, 'Octopus vulgaris': 166, 'Menticirrhus americanus': 167, 'Mesoplodon densirostris': 168, 'Palaemon longirostris': 169, 'Metapenaeus brevicornis': 170, 'Pasiphaea multidentata': 171, 'Pasiphaea sivado': 172, 'Parapenaeopsis stylifera': 173, 'Miichthys miiuy': 174, 'Mirounga leonina': 175, 'Brachidontes striatulus': 176, 'Monodon monoceros': 177, 'Mugil platanus': 178, 'Penaeus semisulcatus': 179, 'Mullus barbatus': 180, 'Mycteroperca rubra': 181, 'Philocheras echinulatus': 182, 'Myelophycus simplex': 183, 'Mytilus coruscus': 184, 'Penaeus indicus': 185, 'Natator depressus': 186, 'Pandalus jordani': 187, 'Melicertus kerathurus': 188, 'Parapenaeus longirostris': 189, 'Plesionika': 190, 'Platichthys flesus': 191, 'Pleuronectes platessa': 192, 'Nematopalaemon tenuipes': 193, 'Nematoscelis difficilis': 194, 'Nemipterus': 195, 'Aegaeon lacazei': 196, 'Nephtyidae': 197, 'Nereididae': 198, 'Netuma bilineata': 199, 'Nibea maculata': 200, 'Oceana serrulata': 201, 'Palaemon serratus': 202, 'Ocypode': 203, 'Odobenus rosmarus': 204, 'Ogcocephalus vespertilio': 205, 'Oligoplites saurus': 206, 'Onuphidae': 207, 'Opheliidae': 208, 'Opisthonema oglinum': 209, 'Opisthopterus tardoore': 210, 'Orientomysis mitsukurii': 211, 'Otolithes cuvieri': 212, 'Padina pavonica': 213, 'Padina tetrastromatica': 214, 'Padina vickersiae': 215, 'Pagellus affinis': 216, 'Pagophilus groenlandicus': 217, 'Paguroidea': 218, 'Pagurus': 219, 'Systellaspis debilis': 220, 'Sergestes': 221, 'Sergestes arcticus': 222, 'Pampus argenteus': 223, 'Sergestes arachnipodus': 224, 'Sergestes henseni': 225, 'Sergestes prehensilis': 226, 'Sergestes robustus': 227, 'Pangasius pangasius': 228, 'Panulirus homarus': 229, 'Paracentrotus lividus': 230, 'Pasiphaea sp': 231, 'Pectinariidae': 232, 'Penaeus': 233, 'Phoca vitulina': 234, 'Photopectoralis bindus': 235, 'Phyllospadix iwatensis': 236, 'Plectorhinchus mediterraneus': 237, 'Pleuronectes mochigarei': 238, 'Pleuronectes obscurus': 239, 'Plocamium brasiliense': 240, 'Polynemus paradiseus': 241, 'Polysiphonia': 242, 'Sprattus sprattus': 243, 'Scomber scombrus': 244, 'Polysiphonia fucoides': 245, 'Gonostomatidae': 246, 'Perca fluviatilis': 247, 'Pomadasys crocro': 248, 'Porphyra tenera': 249, 'Potamogeton pectinatus': 250, 'Priacanthus hamrur': 251, 'Pseudorhombus malayanus': 252, 'Pterocladiella capillacea': 253, 'Pusa caspica': 254, 'Pusa sibirica': 255, 'Pylaiella littoralis': 256, 'Sabellidae': 257, 'Salangichthys ishikawae': 258, 'Sarconema filiforme': 259, 'Sardinella albella': 260, 'Sardinella brasiliensis': 261, 'Sardinops melanostictus': 262, 'Sargassum cymosum': 263, 'Sargassum linearifolium': 264, 'Sargassum micracanthum': 265, 'Xiphias gladius': 266, 'Sargassum novae hollandiae': 267, 'Sargassum oligocystum': 268, 'Esox lucius': 269, 'Limanda limanda': 270, 'Abramis brama': 271, 'Anguilla anguilla': 272, 'Arctica islandica': 273, 'Cerastoderma edule': 274, 'Cyprinus carpio': 275, 'Echinodermata': 276, 'Fish larvae': 277, 'Myoxocephalus scorpius': 278, 'Osmerus eperlanus': 279, 'Plankton': 280, 'Scophthalmus maximus': 281, 'Rhodophyta': 282, 'Rutilus rutilus': 283, 'Saduria entomon': 284, 'Sander lucioperca': 285, 'Gasterosteus aculeatus': 286, 'Zoarces viviparus': 287, 'Gymnocephalus cernua': 288, 'Furcellaria lumbricalis': 289, 'Cladophora glomerata': 290, 'Lateolabrax japonicus': 291, 'Okamejei kenojei': 292, 'Sebastes pachycephalus': 293, 'Squalus acanthias': 294, 'Gadus macrocephalus': 295, 'Paralichthys olivaceus': 296, 'Ovalipes punctatus': 297, 'Pseudopleuronectes yokohamae': 298, 'Hemitripterus villosus': 299, 'Clidoderma asperrimum': 300, 'Microstomus achne': 301, 'Lepidotrigla microptera': 302, 'Hexagrammos otakii': 303, 'Kareius bicoloratus': 304, 'Pleuronichthys cornutus': 305, 'Enteroctopus dofleini': 306, 'Ammodytes personatus': 307, 'Lophius litulon': 308, 'Eopsetta grigorjewi': 309, 'Takifugu porphyreus': 310, 'Loliolus japonica': 311, 'Sepia andreana': 312, 'Sebastes cheni': 313, 'Portunus trituberculatus': 314, 'Sebastes schlegelii': 315, 'Pennahia argentata': 316, 'Platichthys stellatus': 317, 'Gadus chalcogrammus': 318, 'Chelidonichthys spinosus': 319, 'Conger myriaster': 320, 'Heterololigo bleekeri': 321, 'Stichaeus grigorjewi': 322, 'Pseudopleuronectes herzensteini': 323, 'Octopus conispadiceus': 324, 'Hippoglossoides dubius': 325, 'Cleisthenes pinetorum': 326, 'Glyptocephalus stelleri': 327, 'Tanakius kitaharae': 328, 'Nibea mitsukurii': 329, 'Dasyatis matsubarai': 330, 'Verasper moseri': 331, 'Hemitrygon akajei': 332, 'Triakis scyllium': 333, 'Trachurus japonicus': 334, 'Zeus faber': 335, 'Pagrus major': 336, 'Acanthopagrus schlegelii': 337, 'Dentex tumifrons': 338, 'Mustelus manazo': 339, 'Seriola quinqueradiata': 340, 'Hyperoglyphe japonica': 341, 'Carcharhinus': 342, 'Platycephalus': 343, 'Scomber japonicus': 344, 'Squatina japonica': 345, 'Alopias pelagicus': 346, 'Zenopsis nebulosa': 347, 'Cynoglossus joyneri': 348, 'Verasper variegatus': 349, 'Oncorhynchus keta': 350, 'Physiculus japonicus': 351, 'Oplegnathus punctatus': 352, 'Arothron hispidus': 353, 'Stereolepis doederleini': 354, 'Takifugu snyderi': 355, 'Scomber australasicus': 356, 'Liparis tanakae': 357, 'Thamnaconus modestus': 358, 'Gnathophis nystromi': 359, 'Sebastes oblongus': 360, 'Sebastiscus marmoratus': 361, 'Takifugu pardalis': 362, 'Mugil cephalus': 363, 'Ditrema temminckii temminckii': 364, 'Konosirus punctatus': 365, 'Tribolodon brandtii': 366, 'Oncorhynchus masou': 367, 'Aluterus monoceros': 368, 'Todarodes pacificus': 369, 'Myoxocephalus stelleri': 370, 'Myliobatis tobijei': 371, 'Scyliorhinus torazame': 372, 'Lophiomus setigerus': 373, 'Heterodontus japonicus': 374, 'Sebastes vulpes': 375, 'Paraplagusia japonica': 376, 'Ostrea edulis': 377, 'Melanogrammus aeglefinus': 378, 'Pollachius virens': 379, 'Pollachius pollachius': 380, 'Sebastes marinus': 381, 'Anarhichas minor': 382, 'Anarhichas denticulatus': 383, 'Reinhardtius hippoglossoides': 384, 'Trisopterus esmarkii': 385, 'Micromesistius poutassou': 386, 'Coryphaenoides rupestris': 387, 'Argentina silus': 388, 'Salmo salar': 389, 'Sebastes viviparus': 390, 'Buccinum undatum': 391, 'Fucus serratus': 392, 'Merluccius merluccius': 393, 'Littorina littorea': 394, 'Fucus': 395, 'Rhodymenia': 396, 'Solea solea': 397, 'Trachurus trachurus': 398, 'Eutrigla gurnardus': 399, 'Pelvetia canaliculata': 400, 'Ascophyllum nodosum': 401, 'Mallotus villosus': 402, 'Pecten maximus': 403, 'Hippoglossoides platessoides': 404, 'Sebastes mentella': 405, 'Modiolus modiolus': 406, 'Boreogadus saida': 407, 'Sepia': 408, 'Gadus': 409, 'Sardina pilchardus': 410, 'Pleuronectiformes': 411, 'Molva molva': 412, 'Patella': 413, 'Crassostrea gigas': 414, 'Dasyatis pastinaca': 415, 'Lophius piscatorius': 416, 'Porphyra umbilicalis': 417, 'Patella vulgata': 418, 'Brosme brosme': 419, 'Glyptocephalus cynoglossus': 420, 'Galeus melastomus': 421, 'Chimaera monstrosa': 422, 'Etmopterus spinax': 423, 'Dicentrarchus labrax': 424, 'Osilinus lineatus': 425, 'Hippoglossus hippoglossus': 426, 'Cyclopterus lumpus': 427, 'Molva dypterygia': 428, 'Microstomus kitt': 429, 'Fucus distichus': 430, 'Tapes': 431, 'Sebastes norvegicus': 432, 'Phycis blennoides': 433, 'Fucus spiralis': 434, 'Laminaria digitata': 435, 'Dipturus batis': 436, 'Anarhichas lupus': 437, 'Lumpenus lampretaeformis': 438, 'Lycodes vahlii': 439, 'Argentina sphyraena': 440, 'Trisopterus minutus': 441, 'Thunnus': 442, 'Hyperoplus lanceolatus': 443, 'Gaidropsarus argentatus': 444, 'Engraulis japonicus': 445, 'Mytilus galloprovincialis': 446, 'Undaria pinnatifida': 447, 'Chlorophthalmus albatrossis': 448, 'Sargassum fusiforme': 449, 'Eisenia bicyclis': 450, 'Spisula sachalinensis': 451, 'Strongylocentrotus nudus': 452, 'Haliotis discus hannai': 453, 'Dexistes rikuzenius': 454, 'Ruditapes philippinarum': 455, 'Apostichopus japonicus': 456, 'Pterothrissus gissu': 457, 'Helicolenus hilgendorfii': 458, 'Buccinum isaotakii': 459, 'Neptunea intersculpta': 460, 'Apostichopus nigripunctatus': 461, 'Sebastes thompsoni': 462, 'Oratosquilla oratoria': 463, 'Oncorhynchus kisutch': 464, 'Erimacrus isenbeckii': 465, 'Sillago japonica': 466, 'Trachysalambria curvirostris': 467, 'Mytilus unguiculatus': 468, 'Crassostrea nippona': 469, 'Laminariales': 470, 'Uroteuthis edulis': 471, 'Takifugu poecilonotus': 472, 'Neptunea arthritica': 473, 'Katsuwonus pelamis': 474, 'Doederleinia berycoides': 475, 'Metapenaeopsis dalei': 476, 'Seriola dumerili': 477, 'Pseudorhombus pentophthalmus': 478, 'Stephanolepis cirrhifer': 479, 'Cookeolus japonicus': 480, 'Panulirus japonicus': 481, 'Thunnus orientalis': 482, 'Halocynthia roretzi': 483, 'Etrumeus sadina': 484, 'Cololabis saira': 485, 'Coryphaena hippurus': 486, 'Sarda orientalis': 487, 'Octopus ocellatus': 488, 'Sardinops sagax': 489, 'Sphyraena pinguis': 490, 'Sebastes ventricosus': 491, 'Occella iburia': 492, 'Glossanodon semifasciatus': 493, 'Mizuhopecten yessoensis': 494, 'Neosalangichthys ishikawae': 495, 'Bothrocara tanakae': 496, 'Malacocottus zonurus': 497, 'Coelorinchus macrochir': 498, 'Neptunea constricta': 499, 'Beringius polynematicus': 500, 'Sebastes nivosus': 501, 'Pandalus eous': 502, 'Synaphobranchus kaupii': 503, 'Sebastolobus macrochir': 504, 'Marsupenaeus japonicus': 505, 'Japelion hirasei': 506, 'Pleurogrammus azonus': 507, 'Monostroma nitidum': 508, 'Atheresthes evermanni': 509, 'Takifugu rubripes': 510, 'Chionoecetes opilio': 511, 'Pandalopsis coccinata': 512, 'Chionoecetes japonicus': 513, 'Sebastes matsubarae': 514, 'Scombrops gilberti': 515, 'Hyporhamphus sajori': 516, 'Trichiurus lepturus': 517, 'Alcichthys elongatus': 518, 'Volutharpa perryi': 519, 'Mercenaria stimpsoni': 520, 'Berryteuthis magister': 521, 'Aptocyclus ventricosus': 522, 'Euphausia pacifica': 523, 'Salangichthys microdon': 524, 'Telmessus acutidens': 525, 'Ceratophyllum demersum': 526, 'Pandalus nipponensis': 527, 'Sebastes owstoni': 528, 'Cociella crocodilus': 529, 'Conger japonicus': 530, 'Sardinella zunasi': 531, 'Cheilopogon pinnatibarbatus japonicus': 532, 'Oplegnathus fasciatus': 533, 'Macridiscus aequilatera': 534, 'Repomucenus ornatipinnis': 535, 'Clupea pallasii': 536, 'Scorpaena neglecta': 537, 'Scomberomorus niphonius': 538, 'Leucopsarion petersii': 539, 'Sebastes scythropus': 540, 'Strongylura anastomella': 541, 'Laemonema longipes': 542, 'Fusitriton oregonensis': 543, 'Japelion pericochlion': 544, 'Sebastes steindachneri': 545, 'Auxis rochei': 546, 'Lobotes surinamensis': 547, 'Auxis thazard': 548, 'Chlorophthalmus borealis': 549, 'Etelis coruscans': 550, 'Sebastes inermis': 551, 'Cynoglossus interruptus': 552, 'Erilepis zonifer': 553, 'Tridentiger obscurus': 554, 'Caranx sexfasciatus': 555, 'Thunnus thynnus': 556, 'Takifugu stictonotus': 557, 'Euthynnus affinis': 558, 'Synagrops japonicus': 559, 'Okamejei schmidti': 560, 'Suggrundus meerdervoortii': 561, 'Sebastes baramenuke': 562, 'Pleurogrammus monopterygius': 563, 'Decapterus maruadsi': 564, 'Girella punctata': 565, 'Sphyraena japonica': 566, 'Ommastrephes bartramii': 567, 'Sepiella japonica': 568, 'Sepioteuthis lessoniana': 569, 'Eucleoteuthis luminosa': 570, 'Gloiopeltis furcata': 571, 'Macrobrachium nipponense': 572, 'Sepia kobiensis': 573, 'Eriocheir japonica': 574, 'Magallana nippona': 575, 'Meretrix lusoria': 576, 'Chondrus ocellatus': 577, 'Chondrus elatus': 578, 'Gloiopeltis': 579, 'Holothuroidea': 580, 'Corbicula japonica': 581, 'Sunetta menstrualis': 582, 'Pseudorhombus cinnamoneus': 583, 'Takifugu niphobles': 584, 'Lagocephalus gloveri': 585, 'Beryx splendens': 586, 'Parastichopus nigripunctatus': 587, 'Venerupis philippinarum': 588, 'Haliotis': 589, 'Liparis agassizii': 590, 'Seriola lalandi': 591, 'Niphon spinosus': 592, 'Pleuronichthys japonicus': 593, 'Sergia lucens': 594, 'Sphoeroides pachygaster': 595, 'Coryphaenoides acrolepis': 596, 'Pseudopleuronectes obscurus': 597, 'Pyropia yezoensis': 598, 'Isurus oxyrinchus': 599, 'Sargassum fulvellum': 600, 'Prionace glauca': 601, 'Kajikia audax': 602, 'Thunnus albacares': 603, 'Thunnus alalunga': 604, 'Thunnus obesus': 605, 'Lamna ditropis': 606, 'Glyptocidaris crenularis': 607, 'Asterias amurensis': 608, 'Sepiida': 609, 'Congridae': 610, 'Takifugu': 611, 'Sargassum horneri': 612, 'Haliotis discus': 613, 'Pleuronectidae': 614, 'Acanthogobius flavimanus': 615, 'Acanthogobius lactipes': 616, 'Pholis nebulosa': 617, 'Hemigrapsus penicillatus': 618, 'Palaemon paucidens': 619, 'Mysidae': 620, 'Zostera marina': 621, 'Ulva pertusa': 622, 'Gobiidae': 623, 'Atherinidae': 624, 'Tribolodon': 625, 'Alpheus': 626, 'Polychaeta': 627, 'Sebastes': 628, 'Charybdis japonica': 629, 'Hemigrapsus': 630, 'Favonigobius gymnauchen': 631, 'Palaemon': 632, 'Planiliza haematocheila': 633, 'Palaemonidae': 634, 'Pholis crassispina': 635, 'Laminaria': 636, 'Distolasterias nipon': 637, 'Lophiiformes': 638, 'Alpheus brevicristatus': 639, 'Undaria undariodes': 640, 'Neomysis awatschensis': 641, 'Alpheidae': 642, 'Macrobrachium': 643, 'Hediste': 644, 'Gymnogobius breunigii': 645, 'Luidia quinaria': 646, 'Rhizoprionodon acutus': 647, 'Carangoides equula': 648, 'Carcinoplax longimana': 649, 'Anomura': 650, 'Spatangoida': 651, 'Plesiobatis daviesi': 652, 'Eusphyra blochii': 653, 'Ruditapes variegata': 654, 'Sinonovacula constricta': 655, 'Penaeus monodon': 656, 'Litopenaeus vannamei': 657, 'Solenocera crassicornis': 658, 'Stomatopoda': 659, 'Teuthida': 660, 'Octopus': 661, 'Larimichthys polyactis': 662, 'Scomberomorini': 663, 'Channa argus': 664, 'Ranina ranina': 665, 'Lates calcarifer': 666, 'Scomberomorus commerson': 667, 'Lutjanus malabaricus': 668, 'Thenus parindicus': 669, 'Amusium pleuronectes': 670, 'Loligo': 671, 'Plectropomus leopardus': 672, 'Sillago ciliata': 673, 'Scylla serrata': 674, 'Pinctada maxima': 675, 'Lutjanus argentimaculatus': 676, 'Protonibea diacanthus': 677, 'Polydactylus macrochir': 678, 'Rachycentron canadum': 679, 'Ibacus peronii': 680, 'Arripis trutta': 681, 'Sarda australis': 682, 'Seriola hippos': 683, 'Choerodon schoenleinii': 684, 'Panulirus ornatus': 685, 'Neotrygon kuhlii': 686, 'Lethrinus nebulosus': 687, 'Parupeneus multifasciatus': 688, 'Saccostrea cucullata': 689, 'Lutjanus sebae': 690, 'Thunnus maccoyii': 691, 'Acanthopagrus butcheri': 692, 'Lambis lambis': 693, 'Gerres subfasciatus': 694, 'Zooplankton': 695, 'Phytoplankton': 696, 'Rapana venosa': 697, 'Scapharca inaequivalvis': 698, 'Ulva intestinalis': 699, 'Ulva linza': 700, 'Ceramium virgatum': 701, 'Gayralia oxysperma': 702, 'Vertebrata fucoides': 703, 'Stuckenia pectinata': 704, 'Rochia nilotica': 705, 'Ctenochaetus striatus': 706, 'Serranidae': 707, 'Turbo setosus': 708, 'Pandalidae': 709, 'Gymnosarda unicolor': 710, 'Epinephelini': 711, 'Pisces': 712, 'Liza klunzingeri': 713, 'Acanthopagrus latus': 714, 'Liza subviridis': 715, 'Sparidentex hasta': 716, 'Otolithes ruber': 717, 'Crenidens crenidens': 718, 'Ensis': 719, 'Gastropoda': 720, 'Euheterodonta': 721, 'Scomber': 722, 'Theragra chalcogramma': 723, 'Engraulidae': 724, 'Ostreidae': 725, 'Phaeophyceae': 726, 'Porphyra': 727, 'Ulva reticulata': 728, 'Perna viridis': 729, 'Fenneropenaeus indicus': 730, 'Merluccius': 731, 'Soleidae': 732, 'Mugilidae': 733, 'Marine algae': 734, 'Scarus rivulatus': 735, 'Scarus coeruleus': 736, 'Sardinella fimbriata': 737, 'Dussumieria acuta': 738, 'Lutjanus kasmira': 739, 'Lutjanus rivulatus': 740, 'Lutjanus bohar': 741, 'Priacanthus blochii': 742, 'Pelates quadrilineatus': 743, 'Epinephelus fasciatus': 744, 'Upeneus vittatus': 745, 'Lethrinus laticaudis': 746, 'Lethrinus lentjan': 747, 'Lethrinus microdon': 748, 'Sphyraena barracuda': 749, 'Alectis indica': 750, 'Epinephelus latifasciatus': 751, 'Nemipterus japonicus': 752, 'Raconda russeliana': 753, 'Lactarius lactarius': 754, 'Aetomylaeus bovinus': 755, 'Pennahia anea': 756, 'Leiognathus fasciatus': 757, 'Sardinella longiceps': 758, 'Tenualosa ilisha': 759, 'Pellona ditchela': 760, 'Stolephorus indicus': 761, 'Setipinna breviceps': 762, 'Rastrelliger kanagurta': 763, 'Chanos chanos': 764, 'Lepturacanthus savala': 765, 'Epinephelus niveatus': 766, 'Lutjanus johnii': 767, 'Carangoides malabaricus': 768, 'Ablennes hians': 769, 'Chirocentrus dorab': 770, 'Scomberomorus cavalla': 771, 'Scomberomorus semifasciatus': 772, 'Scomberomorus guttatus': 773, 'Etrumeus teres': 774, 'Spondyliosoma cantharus': 775, 'Brama brama': 776, 'Dasyatis zugei': 777, 'Harpadon nehereus': 778, 'Carcharhinus melanopterus': 779, 'Penaeus plebejus': 780, 'Sepia officinalis': 781, 'Johnius dussumieri': 782, 'Lutjanus campechanus': 783, 'Ruditapes decussatus': 784, 'Carcinus aestuarii': 785, 'Squilla mantis': 786, 'Epinephelus polyphekadion': 787, 'Lutjanus gibbus': 788, 'Lethrinus mahsena': 789, 'Epinephelus chlorostigma': 790, 'Carangoides bajad': 791, 'Aethaloperca rogaa': 792, 'Atule mate': 793, 'Macolor niger': 794, 'Carangoides fulvoguttatus': 795, 'Plectropomus areolatus': 796, 'Cephalopholis argus': 797, 'Cephalopholis': 798, 'Scarus sordidus': 799, 'Scomberomorus tritor': 800, 'Triaenodon obesus': 801, 'Pomadasys commersonnii': 802, 'Monotaxis grandoculis': 803, 'Plectropomus maculatus': 804, 'Trachinotus blochii': 805, 'Pristipomoides filamentosus': 806, 'Acanthurus gahhm': 807, 'Acanthurus sohal': 808, 'Siganus argenteus': 809, 'Naso unicornis': 810, 'Chanos': 811, 'Oedalechilus labiosus': 812, 'Plectorhinchus gaterinus': 813, 'Mercenaria mercenaria': 814, 'Mytilus': 815, 'Turbo cornutus': 816, 'Decapoda': 817, 'Sphyraena': 818, 'Arius maculatus': 819, 'Penaeus merguiensis': 820, 'Tegillarca granosa': 821, 'Mullus barbatus barbatus': 822, 'Chamelea gallina': 823, 'Metanephrops thomsoni': 824, 'Magallana gigas': 825, 'Branchiostegus japonicus': 826, 'Cephalopoda': 827, 'Lutjanidae': 828, 'Lethrinidae': 829, 'Sphyraena argentea': 830, 'Chirocentrus nudus': 831, 'Trachinotus': 832, 'Mugil auratus': 833, 'Euthynnus alletteratus': 834, 'Sparus aurata': 835, 'Pagrus caeruleostictus': 836, 'Scorpaena scrofa': 837, 'Pagellus erythrinus': 838, 'Epinephelus aeneus': 839, 'Dentex maroccanus': 840, 'Caranx rhonchus': 841, 'Sardinella': 842, 'Siganus': 843, 'Solea': 844, 'Diplodus sargus': 845, 'Lithognathus mormyrus': 846, 'Oblada melanura': 847, 'Siganus rivulatus': 848, 'Chelon labrosus': 849, 'Cynoscion microlepidotus': 850, 'Genypterus brasiliensis': 851, 'Myoxocephalus polyacanthocephalus': 852, 'Hexagrammos lagocephalus': 853, 'Hexagrammos decagrammus': 854, 'Sebastes ciliatus': 855, 'Lepidopsetta polyxystra': 856, 'Clupeiformes': 857, 'Gadidae': 858, 'Brachyura': 859, 'Dasyatis': 860, 'Carcharias': 861, 'Saurida': 862, 'Upeneus': 863, 'Cynoglossus': 864, 'Scomberomorus': 865, 'Terapon': 866, 'Leiognathus': 867, 'Terapontidae': 868, 'Caranx': 869, 'Diplodus': 870, 'Plectorhinchus flavomaculatus': 871, 'Salmonidae': 872, 'Mollusca': 873, 'Boops boops': 874, 'Sarpa salpa': 875, 'Pagellus acarne': 876, 'Spicara smaris': 877, 'Diplodus vulgaris': 878, 'Chelidonichthys lucerna': 879, 'Sarda sarda': 880, 'Serranus cabrilla': 881, 'Diplodus annularis': 882, 'Pagrus pagrus': 883, 'Alosa fallax': 884, 'Belone belone': 885, 'Dentex dentex': 886, 'Sphyraena viridensis': 887, 'Trisopterus capelanus': 888, 'Arnoglossus laterna': 889, 'Procambarus clarkii': 890, 'Nemadactylus macropterus': 891, 'Pagrus auratus': 892, 'Jasus edwardsii': 893, 'Perna canaliculus': 894, 'Pseudophycis bachus': 895, 'Haliotis iris': 896, 'Hoplostethus atlanticus': 897, 'Rhombosolea leporina': 898, 'Zygochlamys delicatula': 899, 'Galeorhinus galeus': 900, 'Parapercis colias': 901, 'Tiostrea chilensis': 902, 'Genypterus blacodes': 903, 'Evechinus chloroticus': 904, 'Austrovenus stutchburyi': 905, 'Micromesistius australis': 906, 'Macruronus novaezelandiae': 907, 'Nototodarus': 908, 'Perna perna': 909, 'Sepia pharaonis': 910, 'Turbo bruneus': 911, 'Portunus sanguinolentus': 912, 'Charybdis natator': 913, 'Charybdis lucifera': 914, 'Panulirus argus': 915, 'Ethmalosa fimbriata': 916, 'Sardinella brachysoma': 917, 'Thryssa mystax': 918, 'Plicofollis dussumieri': 919, 'Nibea soldado': 920, 'Epinephelus melanostigma': 921, 'Megalops cyprinoides': 922, 'Decapterus macarellus': 923, 'Drepane punctata': 924, 'Sillago sihama': 925, 'Tylosurus crocodilus crocodilus': 926, 'Saurida tumbil': 927, 'Cynoglossus macrostomus': 928, 'Parupeneus indicus': 929, 'Synechogobius hasta': 930, 'Busycotypus canaliculatus': 931, 'Pampus cinereus': 932, 'Pomadasys kaakan': 933, 'Epinephelus coioides': 934, 'Sepiella inermis': 935, 'Uroteuthis duvauceli': 936, 'Stomatella auricula': 937, 'Cerithium scabridum': 938, 'Marcia recens': 939, 'Circe intermedia': 940, 'Marcia opima': 941, 'Fulvia fragile': 942, 'Charybdis feriatus': 943, 'Charybdis annulata': 944, 'Atergatis integerrimus': 945, 'Matuta lunaris': 946, 'Calappa lophos': 947, 'Uca annulipes': 948, 'Chlamys varia': 949, 'Cololabis adocetus': 950, 'Seriola lalandi dorsalis': 951, 'Brunneifusus ternatanus': 952, 'Metapenaeus joyneri': 953, 'Epinephelus tauvina': 954, 'Coilia dussumieri': 955, 'Carcharhinus dussumieri': 956, 'Upeneus tragula': 957, 'Sartoriana spinigera': 958, 'Lamellidens marginalis': 959, 'Polydactylus sextarius': 960, 'Johnius macrorhynus': 961, 'Hexanematichthys sagor': 962, 'Sargassum swartzii': 963, 'Argyrops spinifer': 964, 'Synodus intermedius': 965, 'Muraenesox cinereus': 966, 'Carangoides armatus': 967, 'Eleutheronema tetradactylum': 968, 'Mustelus mosis': 969, 'Nemipterus bipunctatus': 970, 'Lutjanus quinquelineatus': 971, 'Platycephalus indicus': 972, 'Rhabdosargus haffara': 973, 'Argyrops filamentosus': 974, 'Brachirus orientalis': 975, 'Mene maculata': 976, 'Hemiramphus marginatus': 977, 'Encrasicholina heteroloba': 978, 'Trachinotus africanus': 979, 'Bramidae': 980, 'Escualosa thoracata': 981, 'Sepia arabica': 982, 'Scatophagus argus': 983, 'Parastromateus niger': 984, 'Planiliza subviridis': 985, 'Labeo rohita': 986, 'Oreochromis niloticus': 987, 'Cardiidae': 988, 'Sargassum angustifolium': 989, 'Pomacea bridgesii': 990, 'Sebastes fasciatus': 991, 'Batoidea': 992, 'Urophycis chuss': 993, 'Dalatias licha': 994, 'Trisopterus luscus': 995, 'Scyliorhinus canicula': 996, 'Ruvettus pretiosus': 997, 'Aphanopus carbo': 998, 'Alepocephalus bairdii': 999, 'Centroscymnus coelolepis': 1000, 'Loligo forbesii': 1001, 'Lutjanus cyanopterus': 1002, 'Mugil liza': 1003, 'Micropogonias furnieri': 1004, 'Balistes capriscus': 1005, 'Haemulidae': 1006, 'Stenotomus caprinus': 1007, 'Hemanthias leptus': 1008, 'Micropogonias undulatus': 1009, 'Cynoscion nebulosus': 1010, 'Rhomboplites aurorubens': 1011, 'Bothidae': 1012, 'Pogonias cromis': 1013, 'Lutjanus synagris': 1014, 'Netuma thalassina': 1015, 'Sillaginopsis panijus': 1016, 'Leptomelanosoma indicum': 1017, 'Therapon': 1018, 'Pterotolithus maculatus': 1019, 'Ilisha filigera': 1020, 'Hilsa kelee': 1021, 'Pampus chinensis': 1022, 'Palaemon styliferus': 1023, 'Argyrosomus regius': 1024, 'Lutjanus': 1025, 'Sciades': 1026, 'Mullus': 1027, 'Albula vulpes': 1028, 'Selar crumenophthalmus': 1029, 'Centropomus': 1030, 'Sardinella aurita': 1031, 'Harengula humeralis': 1032, 'Diapterus auratus': 1033, 'Gerres cinereus': 1034, 'Haemulon parra': 1035, 'Ocyurus chrysurus': 1036, 'Sphyraena guachancho': 1037, 'Anoplopoma fimbria': 1038, 'Nerita versicolor': 1039, 'Bulla striata': 1040, 'Melongena melongena': 1041, 'Trachycardium muricatum': 1042, 'Isognomon alatus': 1043, 'Brachidontes exustus': 1044, 'Crassostrea virginica': 1045, 'Protothaca granulata': 1046, 'Cittarium pica': 1047, 'Penaeus schmitti': 1048, 'Penaeus notialis': 1049, 'Callinectes sapidus': 1050, 'Callinectes danae': 1051, 'Dasyatidae': 1052, 'Caridea': 1053, 'Nephropidae': 1054, 'Sparus': 1055, 'Sargassum boveanum': 1056, 'Haliotis tuberculata': 1057, 'Littorinidae': 1058, 'Seaweed': 1059, 'Echinoidea': 1060, 'Ostreida': 1061, 'Donax trunculus': 1062, 'Scrobicularia plana': 1063, 'Venus verrucosa': 1064, 'Solen marginatus': 1065, 'Testudines': 1066, 'Mullidae': 1067, 'Amphipoda': 1068, 'Cystosphaera jacquinotii': 1069, 'Daption capense': 1070, 'Desmarestia anceps': 1071, 'Himantothallus grandifolius': 1072, 'Mirounga': 1073, 'Nacella concinna': 1074, 'Notothenia coriiceps': 1075, 'Pygoscelis antarcticus': 1076, 'Pygoscelis papua': 1077, 'Oncorhynchus gorbuscha': 1078, 'Oncorhynchus mykiss': 1079, 'Oncorhynchus nerka': 1080, 'Oncorhynchus tshawytscha': 1081, 'Erignathus barbatus': 1082, 'Pusa hispida': 1083, 'Hippoglossus stenolepis': 1084, 'Squalus suckleyi': 1085, 'Sargassum': 1086, 'Codium': 1087, 'Membranoptera alata': 1088, 'Dictyota dichotoma': 1089, 'Plocamium cartilagineum': 1090, 'Galatea paradoxa': 1091, 'Crassostrea tulipa': 1092, 'Macrobrachium sp': 1093, 'Portunus': 1094, 'Tympanotonos fuscatus': 1095, 'Thais': 1096, 'Bivalvia': 1097, 'Cynoglossus senegalensis': 1098, 'Carlarius heudelotii': 1099, 'Fontitrygon margarita': 1100, 'Chrysichthys nigrodigitatus': 1101, 'Acanthephyra purpurea': 1102, 'Actinauge abyssorum': 1103, 'Alaria marginata': 1104, 'Anadara transversa': 1105, 'Anthomedusae': 1106, 'Archosargus probatocephalus': 1107, 'Argyropelecus aculeatus': 1108, 'Ariopsis felis': 1109, 'Astrometis sertulifera': 1110, 'Astropecten': 1111, 'Atherina breviceps': 1112, 'Atolla': 1113, 'Aulacomya atra': 1114, 'Auxis rochei rochei': 1115, 'Auxis thazard thazard': 1116, 'Avicennia marina': 1117, 'Balaena mysticetus': 1118, 'Balaenoptera acutorostrata': 1119, 'Balanus': 1120, 'Berardius bairdii': 1121, 'Beroe': 1122, 'Boopsoidea inornata': 1123, 'Calanoida': 1124, 'Calanus finmarchicus finmarchicus': 1125, 'Callorhinchus milii': 1126, 'Cepphus columba': 1127, 'Cladonia rangiferina': 1128, 'Clinus superciliosus': 1129, 'Codium tomentosum': 1130, 'Copepoda': 1131, 'Coregonus autumnalis': 1132, 'Coregonus nasus': 1133, 'Coregonus sardinella': 1134, 'Coryphaenoides armatus': 1135, 'Coryphoblennius galerita': 1136, 'Creseis sp': 1137, 'Crinoidea': 1138, 'Crossota': 1139, 'Cryptochiton stelleri': 1140, 'Delphinus delphis': 1141, 'Diacria': 1142, 'Dichistius capensis': 1143, 'Dosinia alta': 1144, 'Dugong dugon': 1145, 'Electrona risso': 1146, 'Engraulis capensis': 1147, 'Ensis siliqua': 1148, 'Eryonidae': 1149, 'Eualaria fistulosa': 1150, 'Eupasiphae gilesii': 1151, 'Euphausiacea': 1152, 'Euphausiidae': 1153, 'Eurypharynx pelecanoides': 1154, 'Eurythenes gryllus': 1155, 'Euthynnus lineatus': 1156, 'Fratercula cirrhata': 1157, 'Galeichthys feliceps': 1158, 'Gelidium corneum': 1159, 'Gibbula umbilicalis': 1160, 'Gnathophausia ingens': 1161, 'Gonatus fabricii': 1162, 'Haliaeetus leucocephalus': 1163, 'Haliclona': 1164, 'Halodule uninervis': 1165, 'Hemilepidotus': 1166, 'Hemilepidotus jordani': 1167, 'Heterocarpus ensifer': 1168, 'Heterodontus portusjacksoni': 1169, 'Hippasteria phrygiana': 1170, 'Homola barbata': 1171, 'Hyperoodon planifrons': 1172, 'Hypleurochilus geminatus': 1173, 'Invertebrata': 1174, 'Isognomon bicolor': 1175, 'Isopoda': 1176, 'Kogia breviceps': 1177, 'Labrus bergylta': 1178, 'Lagenorhynchus obliquidens': 1179, 'Lampris guttatus': 1180, 'Larus glaucescens': 1181, 'Leander serratus': 1182, 'Libinia emarginata': 1183, 'Lichia amia': 1184, 'Lipophrys pholis': 1185, 'Lipophrys trigloides': 1186, 'Lithognathus lithognathus': 1187, 'Lithophaga aristata': 1188, 'Lobianchia gemellarii': 1189, 'Loliginidae': 1190, 'Loligo reynaudii': 1191, 'Lophius budegassa': 1192, 'Magallana angulata': 1193, 'Majoidea': 1194, 'Megachasma pelagios': 1195, 'Megaptera novaeangliae': 1196, 'Menippe mercenaria': 1197, 'Mesoplodon carlhubbsi': 1198, 'Mesoplodon stejnegeri': 1199, 'Microstomus pacificus': 1200, 'Morone saxatilis': 1201, 'Mullus surmuletus': 1202, 'Mycteroperca xenarcha': 1203, 'Myliobatis australis': 1204, 'Mysida': 1205, 'Mytilus californianus': 1206, 'Mytilus trossulus': 1207, 'Nephasoma Nephasoma flagriferum': 1208, 'Nudibranchia': 1209, 'Odobenus rosmarus divergens': 1210, 'Ommastrephidae': 1211, 'Ophiomusa lymani': 1212, 'Ophiothrix lineata': 1213, 'Orcinus orca': 1214, 'Ostracoda': 1215, 'Pagellus bogaraveo': 1216, 'Pandalus borealis': 1217, 'Paphies subtriangulata': 1218, 'Parabrotula': 1219, 'Paracalanus': 1220, 'Patella aspera': 1221, 'Periphylla': 1222, 'Phocoena phocoena': 1223, 'Phocoenoides dalli': 1224, 'Phronima': 1225, 'Physeter macrocephalus': 1226, 'Pinctada radiata': 1227, 'Plesionika edwardsii': 1228, 'Pododesmus macrochisma': 1229, 'Pomatomus saltatrix': 1230, 'Portunus pelagicus': 1231, 'Praunus': 1232, 'Pyrosoma': 1233, 'Rangifer tarandus': 1234, 'Rhabdosargus globiceps': 1235, 'Saccorhiza polyschides': 1236, 'Sagitta': 1237, 'Salpa': 1238, 'Salvelinus alpinus': 1239, 'Salvelinus malma': 1240, 'Sarda chiliensis': 1241, 'Sargassum aquifolium': 1242, 'Scalibregmatidae': 1243, 'Sebastes alutus': 1244, 'Sebastes melanops': 1245, 'Seriola dorsalis': 1246, 'Serranus scriba': 1247, 'Sigmops bathyphilus': 1248, 'Silicula fragilis': 1249, 'Sipunculidae': 1250, 'Somateria mollissima': 1251, 'Somateria spectabilis': 1252, 'Sparodon durbanensis': 1253, 'Spicara maena': 1254, 'Squatina australis': 1255, 'Striostrea margaritacea': 1256, 'Stromateus fiatola': 1257, 'Strongylocentrotus polyacanthus': 1258, 'Taractichthys steindachneri': 1259, 'Tectura scutum': 1260, 'Tegula viridula': 1261, 'Thais haemastoma': 1262, 'Thegrefg': 1263, 'Themisto': 1264, 'Thunnus tonggol': 1265, 'Trachurus picturatus': 1266, 'Trachurus symmetricus': 1267, 'Trygonorrhina fasciata': 1268, 'Ulva lactuca': 1269, 'Ursus maritimus': 1270, 'Vampyroteuthis infernalis': 1271, 'Ziphius cavirostris': 1272, 'Alepes kleinii': 1273, 'Alepes vari': 1274, 'Decapterus macrosoma': 1275, 'Lutjanus madras': 1276, 'Lutjanus russellii': 1277, 'Rastrelliger brachysoma': 1278, 'Rastrelliger faughni': 1279, 'Selar boops': 1280, 'Selaroides leptolepis': 1281, 'Sphyraena obtusata': 1282, 'Geloina expansa': 1283, 'Caesio erythrogaster': 1284, 'Euristhmus microceps': 1285, 'Pomacanthus annularis': 1286, 'Scylla': 1287, 'Plotosus lineatus': 1288, 'Prionotus stephanophrys': 1289, 'Trachurus murphyi': 1290, 'Dosidicus gigas': 1291, 'Sarda chiliensis chiliensis': 1292, 'Cynoscion analis': 1293, 'Merluccius gayi peruanus': 1294, 'Brotula ordwayi': 1295, 'Loligo gahi': 1296, 'Merluccius gayi': 1297, 'Ophichthus remiger': 1298, 'Penaeus sp': 1299, 'Trachinotus paitensis': 1300, 'Cheilopogon heterurus': 1301, 'Engraulis ringens': 1302, 'Sciaena deliciosa': 1303, 'Isacia conceptionis': 1304, 'Odontesthes regia': 1305, 'Bodianus diplotaenia': 1306, 'Concholepas concholepas': 1307, 'Diplectrum conceptione': 1308, 'Genypterus maculatus': 1309, 'Labrisomus philippii': 1310, 'Paralabrax humeralis': 1311, 'Prionotus horrens': 1312, 'Dasyatis akajei': 1313, 'Arctoscopus japonicus': 1314, 'Sepia esculenta': 1315, 'Bothrocara hollandi': 1316, 'Cynoglossidae': 1317, 'Lepidotrigla': 1318, 'Lepidotrigla alata': 1319, 'Octopus sinensis': 1320, 'Rhabdosargus sarba': 1321, 'Lophiidae': 1322, 'Muraenesox': 1323, 'Physiculus maximowiczi': 1324, 'Pleuronectoidei': 1325, 'Sciaenidae': 1326, 'Triglidae': 1327, 'Atherina presbyter': 1328, 'Bentheogennema intermedia': 1329, 'Benthesicymidae': 1330, 'Benthesicymus': 1331, 'Buccinum striatissimum': 1332, 'Callinectes': 1333, 'Cancer pagurus': 1334, 'Chaetognatha': 1335, 'Chama macerophylla': 1336, 'Cirripedia': 1337, 'Cyclosalpa': 1338, 'Cymopolia barbata': 1339, 'Cynoscion': 1340, 'Cystoseira amentacea': 1341, 'Ectocarpus siliculosus': 1342, 'Ellisolandia elongata': 1343, 'Enteromorpha linza': 1344, 'Euphausia superba': 1345, 'Gaidropsarus mediterraneus': 1346, 'Gennadas valens': 1347, 'Globicephala': 1348, 'Haliptilon virgatum': 1349, 'Halocynthia aurantium': 1350, 'Heliocidaris crassispina': 1351, 'Hymenodora gracilis': 1352, 'Lagodon rhomboides': 1353, 'Lepas Anatifa anatifera': 1354, 'Lobophora variegata': 1355, 'Macrocystis pyrifera': 1356, 'Maculabatis gerrardi': 1357, 'Nemacystus decipiens': 1358, 'Neptunea polycostata': 1359, 'Padina pavonia': 1360, 'Penaeidae': 1361, 'Petricolinae': 1362, 'Polynemidae': 1363, 'Pristipomoides aquilonaris': 1364, 'Pyropia fallax': 1365, 'Radiolaria': 1366, 'Salpidae': 1367, 'Sardinops melanosticta': 1368, 'Sargassum vulgare': 1369, 'Sciaena umbra': 1370, 'Scorpaena porcus': 1371, 'Sergestidae': 1372, 'Sicyonia brevirostris': 1373, 'Sphaerococcus coronopifolius': 1374, 'Stenella coeruleoalba': 1375, 'Stichopus japonicus': 1376, 'Thalia democratica': 1377, 'Themisto gaudichaudii': 1378, 'Undaria': 1379, 'Analipus japonicus': 1380, 'Sargassum yamadae': 1381, 'Ahnfeltiopsis paradoxa': 1382, 'Scytosiphon lomentaria': 1383, 'Chondria crassicaulis': 1384, 'Grateloupia lanceolata': 1385, 'Colpomenia sinuosa': 1386, 'Chondrus giganteus': 1387, 'Sargassum muticum': 1388, 'Ulva prolifera': 1389, 'Petalonia fascia': 1390, 'Balanus roseus': 1391, 'Chaetomorpha moniligera': 1392, 'Lomentaria hakodatensis': 1393, 'Neodilsea longissima': 1394, 'Polyopes affinis': 1395, 'Schizymenia dubyi': 1396, 'Dictyopteris pacifica': 1397, 'Ahnfeltiopsis flabelliformis': 1398, 'Bangia fuscopurpurea': 1399, 'Calliarthron': 1400, 'Cladophora': 1401, 'Cladophora albida': 1402, 'Dasya sessilis': 1403, 'Delesseria serrulata': 1404, 'Ecklonia cava': 1405, 'Gelidium elegans': 1406, 'Grateloupia turuturu': 1407, 'Hypnea asiatica': 1408, 'Mazzaella japonica': 1409, 'Pachydictyon coriaceum': 1410, 'Padina arborescens': 1411, 'Pterosiphonia pinnulata': 1412, 'Alatocladia yessoensis': 1413, 'Bryopsis plumosa': 1414, 'Ceramium kondoi': 1415, 'Chondracanthus intermedius': 1416, 'Codium contractum': 1417, 'Codium lucasii': 1418, 'Corallina pilulifera': 1419, 'Dictyopteris undulata': 1420, 'Gastroclonium pacificum': 1421, 'Gelidium amansii': 1422, 'Grateloupia sparsa': 1423, 'Laurencia okamurae': 1424, 'Leathesia marina': 1425, 'Lomentaria catenata': 1426, 'Meristotheca papulosa': 1427, 'Sargassum confusum': 1428, 'Sargassum siliquastrum': 1429, 'Tinocladia crassa': 1430, 'Saccharina yendoana': 1431, 'Thalassiophyllum clathrus': 1432, 'Mytilida': 1433, 'Pteriomorphia': 1434, 'Conger': 1435, 'Scyliorhinidae': 1436, 'Labrus': 1437, 'Algae': 1438, 'Necora puber': 1439, 'Anguilla': 1440, 'Rajidae': 1441, 'Buccinidae': 1442, 'Crustacea': 1443, 'Green algae': 1444, 'Ammodytes japonicus': 1445, 'Evynnis tumifrons': 1446, 'Gnathophis nystromi nystromi': 1447, 'Loligo bleekeri': 1448, 'Platichthys bicoloratus': 1449, 'Limanda punctatissima': 1450, 'Loliolus Nipponololigo japonica': 1451, 'Acanthopagrus schlegelii schlegelii': 1452, 'Sepiolina': 1453, 'Gelidium': 1454, 'Atrina pectinata': 1455, 'Echinocardium cordatum': 1456, 'Lamnidae': 1457, 'Meretrix lamarckii': 1458, 'Noctiluca scintillans': 1459, 'Philine argentata': 1460, 'Sergestes lucens': 1461, 'Corbicula sandai': 1462, 'Ulva': 1463, 'Actiniaria': 1464, 'Ctenopharyngodon idella': 1465, 'Ophiuroidea': 1466, 'Scomberoides lysan': 1467, 'Scomberoides tol': 1468, 'Sebastolobus': 1469, 'Selachimorpha': 1470, 'Selene setapinnis': 1471, 'Selene vomer': 1472, 'Sepia elliptica': 1473, 'Sergestes sp': 1474, 'Setipinna taty': 1475, 'Siganus canaliculatus': 1476, 'Sigmops gracile': 1477, 'Solenocera sp': 1478, 'Sparidae': 1479, 'Spermatophytina': 1480, 'Sphoeroides testudineus': 1481, 'Sphyraena jello': 1482, 'Spyridia hypnoides': 1483, 'Squaliformes': 1484, 'Squillidae': 1485, 'Stegophiura sladeni': 1486, 'Stenella longirostris': 1487, 'Stenobrachius leucopsarus': 1488, 'Sternaspidae': 1489, 'Stoechospermum polypodioides': 1490, 'Stolephorus commersonnii': 1491, 'Stromateus cinereus': 1492, 'Stromateus niger': 1493, 'Stromateus sinensis': 1494, 'Synidotea': 1495, 'Takifugu vermicularis': 1496, 'Telatrygon zugei': 1497, 'Terapon jarbua': 1498, 'Terebellidae': 1499, 'Thryssa dussumieri': 1500, 'Thunnini': 1501, 'Tibia curta': 1502, 'Tonna dolium': 1503, 'Trachinus draco': 1504, 'Trematomus bernacchii': 1505, 'Tridacna': 1506, 'Trinectes paulistanus': 1507, 'Trochus radiatus': 1508, 'Turbinaria': 1509, 'Tursiops truncatus': 1510, 'Ucides': 1511, 'Ulva compressa': 1512, 'Ulva fasciata': 1513, 'Ulva flexuosa': 1514, 'Ulva rigida': 1515, 'Upeneus taeniopterus': 1516, 'Upogebiidae': 1517, 'Uroteuthis Photololigo edulis': 1518, 'Valoniopsis pachynema': 1519, 'Veneridae': 1520, 'Venus foveolata': 1521, 'Vertebrata': 1522, 'Volutharpa ampullacea perryi': 1523, 'Zannichellia palustris': 1524, 'Zeus japonicus': 1525, 'Favites': 1526, 'Gadiformes': 1527, 'Gafrarium dispar': 1528, 'Galaxaura frutescens': 1529, 'Gelidium crinale': 1530, 'Genidens genidens': 1531, 'Girella elevata': 1532, 'Girella tricuspidata': 1533, 'Dentex hypselosomus': 1534, 'Saurida elongata': 1535, 'Pseudolabrus eoethinus': 1536, 'Atrobucca nibe': 1537, 'Diagramma pictum': 1538, 'Sepia lycidas': 1539, 'Plectorhinchus cinctus': 1540, 'Metapenaeopsis acclivis': 1541, 'Metapenaeopsis barbata': 1542, 'Nibea albiflora': 1543, 'Girella leonina': 1544, 'Sphyraenidae': 1545, 'Parapercis pulchella': 1546, 'Parapercis sexfasciata': 1547, 'Thysanoteuthis rhombus': 1548, 'Lepidotrigla kishinouyi': 1549, 'Cystoseira': 1550, 'Padina': 1551, 'Halimeda': 1552, 'Pacifastacus leniusculus': 1553, 'Salmo trutta': 1554, 'Chondrus crispus': 1555, 'Ictalurus punctatus': 1556, 'Acanthurus': 1557, 'Scombridae': 1558, 'Leukoma staminea': 1559, 'Trochidae': 1560, 'Protonibea': 1562, 'Anchoa compressa': 1563, 'Ensis magnus': 1564, 'Bolinus brandaris': 1565, 'Lutjanus notatus': 1566, 'Lethrinus olivaceus': 1567, 'Carassius auratus': 1569, 'Mugil': 1570, 'Gobius': 1571, 'Lajonkairia lajonkairii': 1572, 'Chrysophrys auratus': 1573, 'Galeorhinus australis': 1574, 'Nototodarus sloanii gouldi': 1575, 'Tylosurus crocodilus': 1576, 'Acanthogobius hasta': 1577, 'Penaeus chinensis': 1578, 'Ruditapes variegatus': 1579, 'Marcia marmorata': 1580, 'Rachycentron': 1581, 'Scomber kanagurta': 1582, 'Arius': 1583, 'Panulirus versicolor': 1584, 'Tilapia zillii': 1585, 'Schizoporella errata': 1586, 'Phallusia nigra': 1587, 'Physeter catodon': 1588, 'Salmo trutta trutta': 1589, 'Tachysurus thalassinus': 1590, 'Sillago domina': 1591, 'Otolithus argenteus': 1592, 'Trichiurus haumela': 1593, 'Otolithes maculata': 1594, 'Hilsa kanagurta': 1595, 'Oreochromis mossambicus': 1596, 'Siluriformes': 1597, 'Theodoxus euxinus': 1598, 'Formio niger': 1599, 'Rastrelliger': 1600, 'Nephasoma flagriferum': 1601, 'Ophiomusium lymani': 1602, 'Nematonurus armatus': 1603, 'Thalamitoides spinigera': 1604, 'Capros aper': 1605, 'Gadiculus argenteus thori': 1606, 'Phorcus lineatus': 1607, 'Penaeus vannamei': 1608, 'Raja montagui': 1609, 'Scophthalmus rhombus': 1610, 'Crambe maritima': 1611, 'Fucus ceranoides': 1612, 'Maja squinado': 1613, 'Salicornia europaea': 1614, 'Aequipecten opercularis': 1615, 'Galathea squamifera': 1616, 'Cynoglossus semilaevis': 1617, 'Loliolus beka': 1619, 'Octopus variabilis': 1620, 'Abudefduf sexfasciatus': 1621, 'Acanthurus blochii': 1622, 'Achillea millefolium': 1623, 'Alaria crassifolia': 1624, 'Albulidae': 1625, 'Ammodytes': 1626, 'Anadara satowi': 1627, 'Argyrosomus japonicus': 1628, 'Ascidiacea': 1629, 'Aulopiformes': 1630, 'Babylonia japonica': 1631, 'Babylonia kirana': 1632, 'Bathylagidae': 1633, 'Beryx decadactylus': 1634, 'Branchiostegus': 1635, 'Buccinum': 1636, 'Caesio lunaris': 1637, 'Callionymus curvicornis': 1638, 'Campylaephora hypnaeoides': 1639, 'Cetoscarus ocellatus': 1640, 'Charonia tritonis': 1641, 'Chelon haematocheilus': 1642, 'Chlorurus sordidus': 1643, 'Choerodon azurio': 1644, 'Chromis notata': 1645, 'Cladosiphon okamuranus': 1646, 'Cociella punctata': 1647, 'Coryphaena': 1648, 'Cyclina sinensis': 1649, 'Cymbacephalus beauforti': 1650, 'Dendrobranchiata': 1651, 'Digenea simplex': 1652, 'Ditrema viride': 1653, 'Enteromorpha prolifera': 1654, 'Epinephelus': 1655, 'Epinephelus akaara': 1656, 'Epinephelus awoara': 1657, 'Etelis carbunculus': 1658, 'Fistularia commersonii': 1659, 'Fulvia mutica': 1660, 'Fusinus colus': 1661, 'Gafrarium tumidum': 1662, 'Gelidiaceae': 1663, 'Girella cyanea': 1664, 'Girella mezina': 1665, 'Goniistius zonatus': 1666, 'Gracilaria': 1667, 'Gymnocranius euanus': 1668, 'Heikeopsis japonica': 1669, 'Hemitrygon': 1670, 'Hippoglossoides pinetorum': 1671, 'Holothuria atra': 1672, 'Holothuria leucospilota': 1673, 'Idiosepiidae': 1674, 'Inegocia japonica': 1675, 'Inimicus didactylus': 1676, 'Ishige': 1677, 'Lagocephalus spadiceus': 1678, 'Lambis truncata': 1679, 'Leiognathus equula': 1680, 'Lethrinus xanthochilus': 1681, 'Lutjanus erythropterus': 1682, 'Lutjanus semicinctus': 1683, 'Monodonta labio': 1684, 'Monostroma kuroshiense': 1685, 'Mulloidichthys flavolineatus': 1686, 'Mulloidichthys vanicolensis': 1687, 'Muraenesocidae': 1688, 'Myagropsis myagroides': 1689, 'Mytilisepta virgata': 1690, 'Naso brevirostris': 1691, 'Nematalosa japonica': 1692, 'Nemipterus virgatus': 1693, 'Nipponacmea': 1694, 'Nuchequula nuchalis': 1695, 'Octopus cyanea': 1696, 'Panopea generosa': 1697, 'Paralichthys': 1698, 'Paralithodes camtschaticus': 1699, 'Parascolopsis inermis': 1700, 'Pectinidae': 1701, 'Pentapodus aureofasciatus': 1702, 'Pinctada fucata': 1703, 'Pitar citrinus': 1704, 'Platycephalidae': 1705, 'Plecoglossus altivelis': 1706, 'Pleuronectes herzensteini': 1707, 'Priacanthus macracanthus': 1708, 'Pristipomoides': 1709, 'Psenopsis anomala': 1710, 'Pseudobalistes fuscus': 1711, 'Pseudocaranx dentex': 1712, 'Pseudolabrus sieboldi': 1713, 'Pseudorhombus arsius': 1714, 'Pterocaesio chrysozona': 1715, 'Rhynchopelates oxyrhynchus': 1716, 'Ryukyupercis gushikeni': 1717, 'Saccostrea echinata': 1718, 'Sargassum hemiphyllum': 1719, 'Sargassum piluliferum': 1720, 'Saurida micropectoralis': 1721, 'Saurida undosquamis': 1722, 'Saurida wanieso': 1723, 'Scarus forsteni': 1724, 'Scarus ghobban': 1725, 'Scarus ovifrons': 1726, 'Scarus rubroviolaceus': 1727, 'Scyphozoa': 1728, 'Sebastes iracundus': 1729, 'Semicossyphus reticulatus': 1730, 'Sepia latimanus': 1731, 'Siganus guttatus': 1732, 'Siganus luridus': 1733, 'Sphaerotrichia divaricata': 1734, 'Sphyrnidae': 1735, 'Spondylus regius': 1736, 'Spratelloides gracilis': 1737, 'Sthenoteuthis oualaniensis': 1738, 'Tetraodontidae': 1739, 'Trichiurus lepturus japonicus': 1740, 'Tridacna crocea': 1741, 'Turbo argyrostomus': 1742, 'Tylosurus pacificus': 1743, 'Ulvophyceae': 1744, 'Upeneus japonicus': 1745, 'Upeneus moluccensis': 1746, 'Uranoscopus japonicus': 1747, 'Anguilliformes': 1748, 'Crithmum maritimum': 1749, 'Littorina': 1750, 'Nucella lapillus': 1752, 'Scyliorhinus stellaris': 1753, 'Annelida': 1754, 'Aphrodita aculeata': 1755, 'Callionymus lyra': 1756, 'Urticina felina': 1757, 'Gebiidea': 1758, 'Bonellia viridis': 1759, 'Alcyonium glomeratum': 1760}\n",
      "<class 'netCDF4._netCDF4.EnumType'>\n"
     ]
    }
   ],
   "source": [
    "#|eval: false\n",
    "encoder = NetCDFEncoder(dfs, \n",
    "                        dest_fname=dest, \n",
    "                        global_attrs=attrs,\n",
    "                        verbose=False\n",
    "                        )\n",
    "encoder.encode()"
   ]
  },
  {
   "cell_type": "code",
   "execution_count": null,
   "id": "1b830407",
   "metadata": {},
   "outputs": [],
   "source": [
    "# Test that global attributes are copied\n",
    "# with Dataset(dest, 'r', format='NETCDF4') as nc:\n",
    "#     for k, v in {'id': '123', 'title': 'Test title', 'summary': 'Summary test'}.items():\n",
    "#         fc.test_eq(getattr(nc, k), v)"
   ]
  },
  {
   "cell_type": "code",
   "execution_count": null,
   "id": "e2342f05",
   "metadata": {},
   "outputs": [],
   "source": [
    "# Test that dimension is `sample` and unlimited\n",
    "# with Dataset(dest, 'r', format='NETCDF4') as nc:\n",
    "#     fc.test_eq('sample' in nc.dimensions, True)\n",
    "#     fc.test_eq(nc.dimensions['sample'].isunlimited(), True)"
   ]
  },
  {
   "cell_type": "code",
   "execution_count": null,
   "id": "9a9a3713",
   "metadata": {},
   "outputs": [],
   "source": [
    "# Test that groups are created\n",
    "# with Dataset(dest, 'r', format='NETCDF4') as nc:\n",
    "#     fc.test_eq(nc.groups.keys(), ['seawater', 'biota'])"
   ]
  },
  {
   "cell_type": "code",
   "execution_count": null,
   "id": "b716257c",
   "metadata": {},
   "outputs": [],
   "source": [
    "# Test that groups are created\n",
    "# with Dataset(dest, 'r', format='NETCDF4') as nc:\n",
    "#     fc.test_eq(nc.groups.keys(), ['seawater', 'biota'])"
   ]
  },
  {
   "cell_type": "code",
   "execution_count": null,
   "id": "a015554d",
   "metadata": {},
   "outputs": [],
   "source": [
    "# Test that correct variables are created in groups\n",
    "# with Dataset(dest, 'r', format='NETCDF4') as nc:\n",
    "#     fc.test_eq(nc['biota'].variables.keys(), \n",
    "#                ['sample', 'lon', 'lat', 'time', 'species', 'i131', 'i131_dl', 'i131_unit'])\n",
    "    \n",
    "#     fc.test_eq(nc['seawater'].variables.keys(), \n",
    "#                ['sample', 'lon', 'lat', 'time', 'i131', 'i131_dl', 'i131_unit'])"
   ]
  },
  {
   "cell_type": "code",
   "execution_count": null,
   "id": "3a3e6698",
   "metadata": {},
   "outputs": [],
   "source": [
    "# Test that correct variables are created in groups\n",
    "# with Dataset(dest, 'r', format='NETCDF4') as nc:\n",
    "#     print(nc.dimensions.items())\n",
    "#     print(nc['biota'].dimensions.items())\n",
    "#     print(nc['seawater'].dimensions.items())"
   ]
  },
  {
   "cell_type": "markdown",
   "id": "68835f6b-89be-4878-b623-8b44ea74e66e",
   "metadata": {},
   "source": [
    "## OpenRefine"
   ]
  },
  {
   "cell_type": "code",
   "execution_count": null,
   "id": "52aefb99-c34b-487f-905b-b94b57adff0a",
   "metadata": {},
   "outputs": [],
   "source": [
    "#| exports\n",
    "class OpenRefineCsvEncoder:\n",
    "    \"OpenRefine CSV from NetCDF.\"\n",
    "    def __init__(self, \n",
    "                 dfs: Dict[str, pd.DataFrame], # dict of Dataframes to encode with group name as key {'sediment': df_sed, ...}\n",
    "                 dest_fname: str, # Name of output file to produce\n",
    "                 ref_id: int=-1, # ref_id to include \n",
    "                 verbose: bool=False, # Print \n",
    "                 ):\n",
    "        store_attr()"
   ]
  },
  {
   "cell_type": "code",
   "execution_count": null,
   "id": "b9915154-0bd7-4699-97f2-1a15fab07a31",
   "metadata": {},
   "outputs": [],
   "source": [
    "#| exports\n",
    "@patch\n",
    "def process_groups_to_csv(self:OpenRefineCsvEncoder):\n",
    "    for grp_name, df in self.dfs.items():\n",
    "        # include ref_id\n",
    "        if self.ref_id != -1:\n",
    "            df['ref_id'] = self.ref_id\n",
    "        self.process_group_to_csv(grp_name, df)"
   ]
  },
  {
   "cell_type": "code",
   "execution_count": null,
   "id": "6605b3cb-1915-4c4a-b7cd-5fbcb6e6ce08",
   "metadata": {},
   "outputs": [],
   "source": [
    "#| exports\n",
    "@patch\n",
    "def process_group_to_csv(self:OpenRefineCsvEncoder, group_name, df):\n",
    "    filename, file_extension=os.path.splitext(self.dest_fname)\n",
    "    path = filename + '_' + group_name + file_extension\n",
    "    df.to_csv( path_or_buf= path, sep=',', index=False)"
   ]
  },
  {
   "cell_type": "code",
   "execution_count": null,
   "id": "e091683e-d4aa-47b6-acd3-296a3be8c4b6",
   "metadata": {},
   "outputs": [],
   "source": [
    "#| exports\n",
    "@patch\n",
    "def encode(self:OpenRefineCsvEncoder):\n",
    "    \"Encode OpenRefine CSV based on dataframes from NetCDF.\"\n",
    "    # Include ref_id\n",
    "    \n",
    "    # Process to csv\n",
    "    self.process_groups_to_csv()"
   ]
  },
  {
   "cell_type": "code",
   "execution_count": null,
   "id": "5b1c2653-bc84-4b0a-87bb-a187d3ac807c",
   "metadata": {},
   "outputs": [],
   "source": [
    "#|eval: false\n",
    "dest = '../files/csv/encoding-test.csv'\n",
    "\n",
    "encoder = OpenRefineCsvEncoder(dfs,  dest_fname=dest)\n",
    "encoder.encode()"
   ]
  }
 ],
 "metadata": {
  "kernelspec": {
   "display_name": "python3",
   "language": "python",
   "name": "python3"
  }
 },
 "nbformat": 4,
 "nbformat_minor": 5
}

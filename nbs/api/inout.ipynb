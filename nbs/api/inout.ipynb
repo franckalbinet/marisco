{
 "cells": [
  {
   "cell_type": "code",
   "execution_count": null,
   "id": "95ddae9f",
   "metadata": {},
   "outputs": [],
   "source": [
    "#| default_exp inout"
   ]
  },
  {
   "attachments": {},
   "cell_type": "markdown",
   "id": "34f38641",
   "metadata": {},
   "source": [
    "# Input/Output\n",
    "> Files reader and writer"
   ]
  },
  {
   "cell_type": "code",
   "execution_count": null,
   "id": "b4934cd2",
   "metadata": {},
   "outputs": [],
   "source": [
    "#| export\n",
    "import tomli_w\n",
    "import tomli"
   ]
  },
  {
   "cell_type": "code",
   "execution_count": null,
   "id": "588c7321",
   "metadata": {},
   "outputs": [],
   "source": [
    "#| export\n",
    "def write_toml(fname, cfg):\n",
    "    print(f'Creating {fname}')\n",
    "    with open(fname, \"wb\") as f:\n",
    "        tomli_w.dump(cfg, f)"
   ]
  },
  {
   "cell_type": "code",
   "execution_count": null,
   "id": "b0a75525",
   "metadata": {},
   "outputs": [],
   "source": [
    "#| export\n",
    "def read_toml(fname):\n",
    "    with open(fname, \"rb\") as f:\n",
    "        config = tomli.load(f)\n",
    "    return config"
   ]
  }
 ],
 "metadata": {
  "kernelspec": {
   "display_name": "python3",
   "language": "python",
   "name": "python3"
  }
 },
 "nbformat": 4,
 "nbformat_minor": 5
}

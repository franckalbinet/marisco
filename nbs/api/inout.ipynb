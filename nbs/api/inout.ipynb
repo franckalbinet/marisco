{
 "cells": [
  {
   "cell_type": "code",
   "execution_count": null,
   "id": "95ddae9f",
   "metadata": {},
   "outputs": [],
   "source": [
    "#| default_exp inout"
   ]
  },
  {
   "attachments": {},
   "cell_type": "markdown",
   "id": "34f38641",
   "metadata": {},
   "source": [
    "# Input/Output\n",
    "> Files reader and writer."
   ]
  },
  {
   "cell_type": "code",
   "execution_count": null,
   "id": "b4934cd2",
   "metadata": {},
   "outputs": [],
   "source": [
    "#| export\n",
    "import tomli_w\n",
    "import tomli\n",
    "from typing import Dict, Any"
   ]
  },
  {
   "cell_type": "code",
   "execution_count": null,
   "id": "588c7321",
   "metadata": {},
   "outputs": [],
   "source": [
    "#| exports\n",
    "def write_toml(fname: str, cfg: Dict[str, Any]):\n",
    "    \"Write a TOML file from a dictionary.\"\n",
    "    none_keys = [k for k, v in flatten_dict(cfg).items() if v is None]\n",
    "    if none_keys:\n",
    "        print(f\"Warning: The following config keys have None values: {', '.join(none_keys)}\")\n",
    "        \n",
    "    print(f'Creating {fname}')\n",
    "    with open(fname, \"wb\") as f:\n",
    "        tomli_w.dump(cfg, f)"
   ]
  },
  {
   "cell_type": "code",
   "execution_count": null,
   "id": "72ceebef",
   "metadata": {},
   "outputs": [],
   "source": [
    "#| exports\n",
    "def flatten_dict(d: Dict[str, Any], parent_key: str = '', sep: str = '.') -> Dict[str, Any]:\n",
    "    \"\"\"Flatten a nested dictionary.\"\"\"\n",
    "    items = []\n",
    "    for k, v in d.items():\n",
    "        new_key = f\"{parent_key}{sep}{k}\" if parent_key else k\n",
    "        if isinstance(v, dict):\n",
    "            items.extend(flatten_dict(v, new_key, sep=sep).items())\n",
    "        else:\n",
    "            items.append((new_key, v))\n",
    "    return dict(items)"
   ]
  },
  {
   "cell_type": "code",
   "execution_count": null,
   "id": "b0a75525",
   "metadata": {},
   "outputs": [],
   "source": [
    "#| exports\n",
    "def read_toml(fname):\n",
    "    \"Read a TOML file into a dictionary.\"\n",
    "    with open(fname, \"rb\") as f:\n",
    "        config = tomli.load(f)\n",
    "    return config"
   ]
  }
 ],
 "metadata": {
  "kernelspec": {
   "display_name": "python3",
   "language": "python",
   "name": "python3"
  }
 },
 "nbformat": 4,
 "nbformat_minor": 5
}

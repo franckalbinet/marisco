{
 "cells": [
  {
   "cell_type": "code",
   "execution_count": null,
   "id": "95ddae9f",
   "metadata": {},
   "outputs": [],
   "source": [
    "#| default_exp metadata"
   ]
  },
  {
   "cell_type": "markdown",
   "id": "34f38641",
   "metadata": {},
   "source": [
    "# Metadata\n",
    "> Various utilities to populate NetCDF global attributes as well as ISO13195 metadata"
   ]
  },
  {
   "cell_type": "code",
   "execution_count": null,
   "id": "b4934cd2",
   "metadata": {},
   "outputs": [],
   "source": [
    "#| export\n",
    "import pandas as pd\n",
    "from fastcore.xtras import load_pickle\n",
    "\n",
    "from marisco.utils import read_toml, get_bbox\n",
    "from marisco.configs import BASE_PATH, get_cfgs\n",
    "\n",
    "from cftime import num2date\n",
    "from pyzotero import zotero\n",
    "import json"
   ]
  },
  {
   "cell_type": "code",
   "execution_count": null,
   "id": "f7f3a7a1",
   "metadata": {},
   "outputs": [],
   "source": [
    "#| export\n",
    "class Metadata:\n",
    "    def __init__(self, dfs):\n",
    "        self.dfs = dfs\n",
    "        self.attrs = read_toml(BASE_PATH / 'cdl.toml')['global_attrs']\n",
    "\n",
    "    def __repr__(self):\n",
    "        return json.dumps(self.attrs, indent=4) \n",
    "\n",
    "    def fill_geo(self):\n",
    "        bbox = get_bbox(pd.concat(self.dfs))\n",
    "        lon_min, lon_max, lat_min, lat_max = [str(bound) for bound in bbox.bounds]\n",
    "        self.attrs['geospatial_lat_min'] = lat_min\n",
    "        self.attrs['geospatial_lat_max'] = lat_max\n",
    "        self.attrs['geospatial_lon_min'] = lon_min\n",
    "        self.attrs['geospatial_lon_max'] = lon_max\n",
    "        self.attrs['geospatial_bounds'] = bbox.wkt\n",
    "        return self.attrs\n",
    "    \n",
    "    def fill_z(self):\n",
    "        max_depth = pd.concat(self.dfs).depth.max()\n",
    "        min_depth = pd.concat(self.dfs).depth.min()\n",
    "        self.attrs['geospatial_vertical_max'] =  '0' if min_depth == 0 else str(-min_depth)\n",
    "        self.attrs['geospatial_vertical_min'] = str(-max_depth)\n",
    "        return self.attrs\n",
    "    \n",
    "    def fill_time(self):\n",
    "        time = pd.concat(self.dfs)['time']\n",
    "        start, end = [num2date(t,units=get_cfgs('units')['time']).isoformat() for t in (time.min(), time.max())]\n",
    "        self.attrs['time_coverage_start'] = start\n",
    "        self.attrs['time_coverage_end'] = end\n",
    "        return self.attrs\n",
    "    \n",
    "    def fill_zotero(self, zoteroItem):\n",
    "        for attr in ['title', 'summary', 'creator_name']:\n",
    "            self.attrs[attr] = getattr(zoteroItem, attr)()\n",
    "        return self.attrs\n",
    "    \n",
    "    def fill(self, zoteroItem):\n",
    "        self.fill_geo()\n",
    "        self.fill_z()\n",
    "        self.fill_time()\n",
    "        self.fill_zotero(zoteroItem)\n",
    "        return self.attrs"
   ]
  },
  {
   "cell_type": "code",
   "execution_count": null,
   "id": "761032af",
   "metadata": {},
   "outputs": [],
   "source": [
    "#| export\n",
    "class ZoteroItem:\n",
    "    def __init__(self, item_id, cfgs):\n",
    "        self.cfgs = cfgs\n",
    "        self.item = self.getItem(item_id)\n",
    "        \n",
    "    def getItem(self, item_id):\n",
    "        zot = zotero.Zotero(self.cfgs['lib_id'], 'group', self.cfgs['api_key'])\n",
    "        return zot.item(item_id)\n",
    "    \n",
    "    def title(self):\n",
    "        return self.item['data']['title']\n",
    "    \n",
    "    def summary(self):\n",
    "        return self.item['data']['abstractNote']\n",
    "    \n",
    "    def creator_name(self):\n",
    "        creators = [f'{c[\"creatorType\"]}: {c[\"name\"]}' for c in self.item['data']['creators']]\n",
    "        return '; '.join(creators)\n",
    "            \n",
    "    def __repr__(self):\n",
    "        return json.dumps(self.item, indent=4) "
   ]
  },
  {
   "cell_type": "markdown",
   "id": "a6580f84",
   "metadata": {},
   "source": [
    "## How to use"
   ]
  },
  {
   "cell_type": "code",
   "execution_count": null,
   "id": "7265aaaf",
   "metadata": {},
   "outputs": [],
   "source": [
    "dfs = load_pickle('../files/pkl/dfs_test.pkl')"
   ]
  },
  {
   "cell_type": "code",
   "execution_count": null,
   "id": "72ae818e",
   "metadata": {},
   "outputs": [
    {
     "data": {
      "text/plain": [
       "{'id': '',\n",
       " 'title': 'Environmental database - Helsinki Commission Monitoring of Radioactive Substances',\n",
       " 'summary': 'MORS Environment database has been used to collate data resulting from monitoring of environmental radioactivity in the Baltic Sea based on HELCOM Recommendation 26/3.\\n\\nThe database is structured according to HELCOM Guidelines on Monitoring of Radioactive Substances (https://www.helcom.fi/wp-content/uploads/2019/08/Guidelines-for-Monitoring-of-Radioactive-Substances.pdf), which specifies reporting format, database structure, data types and obligatory parameters used for reporting data under Recommendation 26/3.\\n\\nThe database is updated and quality assured annually by HELCOM MORS EG.',\n",
       " 'keywords': '',\n",
       " 'keywords_vocabulary': 'GCMD Science Keywords',\n",
       " 'keywords_vocabulary_url': 'https://gcmd.earthdata.nasa.gov/static/kms/',\n",
       " 'record': '',\n",
       " 'featureType': '',\n",
       " 'cdm_data_type': '',\n",
       " 'Conventions': 'CF-1.10 ACDD-1.3',\n",
       " 'publisher_name': 'Paul McGinnity',\n",
       " 'publisher_email': 'P.Mc-Ginnity@iaea.org',\n",
       " 'publisher_url': 'https://maris.iaea.org',\n",
       " 'publisher_institution': 'IAEA Marine Radioactivity Information System (MARIS)',\n",
       " 'creator_name': 'author: HELCOM MORS',\n",
       " 'institution': '',\n",
       " 'metadata_link': '',\n",
       " 'creator_email': '',\n",
       " 'creator_url': '',\n",
       " 'references': '',\n",
       " 'license': '',\n",
       " 'comment': '',\n",
       " 'geospatial_lat_min': '29.05',\n",
       " 'geospatial_lon_min': '9.6333',\n",
       " 'geospatial_lat_max': '65.35',\n",
       " 'geospatial_lon_max': '54.0',\n",
       " 'geospatial_vertical_min': '-248.0',\n",
       " 'geospatial_vertical_max': '0',\n",
       " 'geospatial_bounds': 'POLYGON ((9.6333 54, 29.05 54, 29.05 65.35, 9.6333 65.35, 9.6333 54))',\n",
       " 'geospatial_bounds_crs': 'EPSG:4326',\n",
       " 'time_coverage_start': '1984-01-10T00:00:00',\n",
       " 'time_coverage_end': '1987-06-28T00:00:00',\n",
       " 'local_time_zone': '',\n",
       " 'date_created': '',\n",
       " 'date_modified': ''}"
      ]
     },
     "execution_count": null,
     "metadata": {},
     "output_type": "execute_result"
    }
   ],
   "source": [
    "global_attrs = Metadata(dfs)\n",
    "item_id = '26VMZZ2Q'\n",
    "global_attrs.fill(ZoteroItem(item_id, get_cfgs('zotero')))"
   ]
  }
 ],
 "metadata": {
  "kernelspec": {
   "display_name": "Python 3 (ipykernel)",
   "language": "python",
   "name": "python3"
  }
 },
 "nbformat": 4,
 "nbformat_minor": 5
}

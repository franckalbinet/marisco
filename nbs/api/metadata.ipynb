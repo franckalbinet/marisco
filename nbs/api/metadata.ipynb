{
 "cells": [
  {
   "cell_type": "code",
   "execution_count": null,
   "id": "95ddae9f",
   "metadata": {},
   "outputs": [],
   "source": [
    "#| default_exp metadata"
   ]
  },
  {
   "attachments": {},
   "cell_type": "markdown",
   "id": "34f38641",
   "metadata": {},
   "source": [
    "# Metadata\n",
    "> Various utilities to populate NetCDF global attributes as well as ISO13195 metadata."
   ]
  },
  {
   "cell_type": "code",
   "execution_count": null,
   "id": "b4934cd2",
   "metadata": {},
   "outputs": [
    {
     "name": "stderr",
     "output_type": "stream",
     "text": [
      "/tmp/ipykernel_20324/2498388892.py:2: DeprecationWarning: \n",
      "Pyarrow will become a required dependency of pandas in the next major release of pandas (pandas 3.0),\n",
      "(to allow more performant data types, such as the Arrow string type, and better interoperability with other libraries)\n",
      "but was not found to be installed on your system.\n",
      "If this would cause problems for you,\n",
      "please provide us feedback at https://github.com/pandas-dev/pandas/issues/54466\n",
      "        \n",
      "  import pandas as pd\n"
     ]
    }
   ],
   "source": [
    "#| export\n",
    "import pandas as pd\n",
    "import fastcore.all as fc\n",
    "from cftime import num2date\n",
    "from pyzotero import zotero, zotero_errors\n",
    "import json\n",
    "from typing import Dict, List, Callable\n",
    "\n",
    "from marisco.utils import get_bbox \n",
    "from marisco.configs import get_time_units, cfg\n",
    "from marisco.callbacks import (\n",
    "    run_cbs, \n",
    "    Callback\n",
    "    )"
   ]
  },
  {
   "cell_type": "code",
   "execution_count": null,
   "id": "6db2b6ee",
   "metadata": {},
   "outputs": [],
   "source": [
    "#| exports\n",
    "class GlobAttrsFeeder:\n",
    "    \"Produce NetCDF global attributes as specified by the callbacks.\"\n",
    "    def __init__(self, \n",
    "                 dfs: Dict[str, pd.DataFrame], # Dictionary of NetCDF group DataFrames\n",
    "                 cbs: List[Callback]=[], # Callbacks\n",
    "                 logs: List[str]=[] # List of preprocessing steps taken\n",
    "                 ): \n",
    "        fc.store_attr()\n",
    "        self.attrs = {}\n",
    "        \n",
    "    def callback(self):\n",
    "        run_cbs(self.cbs, self)\n",
    "        \n",
    "    def __call__(self):\n",
    "        self.callback()\n",
    "        return self.attrs"
   ]
  },
  {
   "cell_type": "code",
   "execution_count": null,
   "id": "e29022dc",
   "metadata": {},
   "outputs": [],
   "source": [
    "#| exports\n",
    "class BboxCB(Callback):\n",
    "    \"Compute dataset geographical bounding box\"\n",
    "    def __call__(self, obj):\n",
    "        bbox = get_bbox(pd.concat(obj.dfs))     \n",
    "        lon_min, lon_max, lat_min, lat_max = [str(bound) for bound in bbox.bounds]\n",
    "        obj.attrs.update({\n",
    "            'geospatial_lat_min': lat_min, \n",
    "            'geospatial_lat_max': lat_max,\n",
    "            'geospatial_lon_min': lon_min,\n",
    "            'geospatial_lon_max': lon_max,\n",
    "            'geospatial_bounds': bbox.wkt})"
   ]
  },
  {
   "cell_type": "code",
   "execution_count": null,
   "id": "813cbfe2",
   "metadata": {},
   "outputs": [],
   "source": [
    "#| exports\n",
    "class DepthRangeCB(Callback):\n",
    "    \"Compute depth values range\"\n",
    "    def __init__(self, \n",
    "                 depth_col: str='SMP_DEPTH'): \n",
    "        fc.store_attr()\n",
    "    def __call__(self, obj):\n",
    "        depths = pd.concat(obj.dfs).get(self.depth_col, default=pd.Series([]))\n",
    "        if not depths.empty:\n",
    "            obj.attrs.update({\n",
    "                'geospatial_vertical_max': str(depths.max()),\n",
    "                'geospatial_vertical_min': str(depths.min())})"
   ]
  },
  {
   "cell_type": "code",
   "execution_count": null,
   "id": "d12b933c",
   "metadata": {},
   "outputs": [],
   "source": [
    "#| exports\n",
    "class TimeRangeCB(Callback):\n",
    "    \"Compute time values range\"\n",
    "    def __init__(self, \n",
    "                 time_col: str='TIME',\n",
    "                 fn_time_unit: Callable=get_time_units): \n",
    "        fc.store_attr()\n",
    "        self.time_unit = fn_time_unit()\n",
    "    \n",
    "    def __call__(self, obj):\n",
    "        time = pd.concat(obj.dfs)[self.time_col]\n",
    "        start, end = [num2date(t, units=self.time_unit).isoformat() \n",
    "                      for t in (time.min(), time.max())]\n",
    "        obj.attrs.update({\n",
    "            'time_coverage_start': start,\n",
    "            'time_coverage_end': end})"
   ]
  },
  {
   "cell_type": "code",
   "execution_count": null,
   "id": "761032af",
   "metadata": {},
   "outputs": [],
   "source": [
    "#| exports\n",
    "class ZoteroItem:\n",
    "    \"Retrieve Zotero metadata.\"\n",
    "    def __init__(self, \n",
    "                 item_id: str, \n",
    "                 cfg: Dict[str, str]):\n",
    "        fc.store_attr()\n",
    "        self.item = self.getItem(item_id)\n",
    "    \n",
    "    def exist(self): return self.item != None\n",
    "    \n",
    "    def getItem(self, item_id):\n",
    "        zot = zotero.Zotero(self.cfg['lib_id'], 'group', self.cfg['api_key'])\n",
    "        try:\n",
    "            return zot.item(item_id)\n",
    "        except zotero_errors.ResourceNotFound:\n",
    "            print(f'Item {item_id} does not exist in Zotero library')\n",
    "            return None\n",
    "            \n",
    "    def title(self):\n",
    "        return self.item['data']['title']\n",
    "    \n",
    "    def summary(self):\n",
    "        return self.item['data']['abstractNote']\n",
    "    \n",
    "    def creator_name(self):\n",
    "        # creators = [f'{c[\"creatorType\"]}: {c[\"name\"]}' for c in self.item['data']['creators']]\n",
    "        # return '; '.join(creators)\n",
    "        return json.dumps(self.item['data']['creators'])\n",
    "            \n",
    "    def __repr__(self):\n",
    "        return json.dumps(self.item, indent=4) "
   ]
  },
  {
   "cell_type": "code",
   "execution_count": null,
   "id": "c9061923",
   "metadata": {},
   "outputs": [
    {
     "data": {
      "text/plain": [
       "{\n",
       "    \"key\": \"26VMZZ2Q\",\n",
       "    \"version\": 826,\n",
       "    \"library\": {\n",
       "        \"type\": \"group\",\n",
       "        \"id\": 2432820,\n",
       "        \"name\": \"MARIS\",\n",
       "        \"links\": {\n",
       "            \"alternate\": {\n",
       "                \"href\": \"https://www.zotero.org/groups/maris\",\n",
       "                \"type\": \"text/html\"\n",
       "            }\n",
       "        }\n",
       "    },\n",
       "    \"links\": {\n",
       "        \"self\": {\n",
       "            \"href\": \"https://api.zotero.org/groups/2432820/items/26VMZZ2Q\",\n",
       "            \"type\": \"application/json\"\n",
       "        },\n",
       "        \"alternate\": {\n",
       "            \"href\": \"https://www.zotero.org/groups/maris/items/26VMZZ2Q\",\n",
       "            \"type\": \"text/html\"\n",
       "        }\n",
       "    },\n",
       "    \"meta\": {\n",
       "        \"createdByUser\": {\n",
       "            \"id\": 5826529,\n",
       "            \"username\": \"MarisAdmin\",\n",
       "            \"name\": \"\",\n",
       "            \"links\": {\n",
       "                \"alternate\": {\n",
       "                    \"href\": \"https://www.zotero.org/marisadmin\",\n",
       "                    \"type\": \"text/html\"\n",
       "                }\n",
       "            }\n",
       "        },\n",
       "        \"creatorSummary\": \"HELCOM MORS\",\n",
       "        \"parsedDate\": \"2018\",\n",
       "        \"numChildren\": 0\n",
       "    },\n",
       "    \"data\": {\n",
       "        \"key\": \"26VMZZ2Q\",\n",
       "        \"version\": 826,\n",
       "        \"itemType\": \"document\",\n",
       "        \"title\": \"Environmental database - Helsinki Commission Monitoring of Radioactive Substances\",\n",
       "        \"creators\": [\n",
       "            {\n",
       "                \"creatorType\": \"author\",\n",
       "                \"name\": \"HELCOM MORS\"\n",
       "            }\n",
       "        ],\n",
       "        \"abstractNote\": \"MORS Environment database has been used to collate data resulting from monitoring of environmental radioactivity in the Baltic Sea based on HELCOM Recommendation 26/3.\\n\\nThe database is structured according to HELCOM Guidelines on Monitoring of Radioactive Substances (https://www.helcom.fi/wp-content/uploads/2019/08/Guidelines-for-Monitoring-of-Radioactive-Substances.pdf), which specifies reporting format, database structure, data types and obligatory parameters used for reporting data under Recommendation 26/3.\\n\\nThe database is updated and quality assured annually by HELCOM MORS EG.\",\n",
       "        \"publisher\": \"\",\n",
       "        \"date\": \"2018\",\n",
       "        \"language\": \"\",\n",
       "        \"shortTitle\": \"\",\n",
       "        \"url\": \"http://metadata.helcom.fi/geonetwork/srv/eng/catalog.search#/metadata/7ee4916b-6d84-4c80-9bea-e8f8572c368a\",\n",
       "        \"accessDate\": \"\",\n",
       "        \"archive\": \"\",\n",
       "        \"archiveLocation\": \"100\",\n",
       "        \"libraryCatalog\": \"\",\n",
       "        \"callNumber\": \"\",\n",
       "        \"rights\": \"\",\n",
       "        \"extra\": \"\",\n",
       "        \"tags\": [],\n",
       "        \"collections\": [],\n",
       "        \"relations\": {},\n",
       "        \"dateAdded\": \"2020-08-10T10:52:41Z\",\n",
       "        \"dateModified\": \"2022-07-07T10:12:32Z\"\n",
       "    }\n",
       "}"
      ]
     },
     "execution_count": null,
     "metadata": {},
     "output_type": "execute_result"
    }
   ],
   "source": [
    "#|eval: false\n",
    "item = ZoteroItem(item_id='26VMZZ2Q', cfg=cfg()['zotero'])\n",
    "item\n"
   ]
  },
  {
   "cell_type": "code",
   "execution_count": null,
   "id": "1328e775",
   "metadata": {},
   "outputs": [],
   "source": [
    "#| exports\n",
    "# TBD: put it in callback module\n",
    "class ZoteroCB(Callback):\n",
    "    \"Retrieve Zotero metadata.\"\n",
    "    def __init__(self, itemId, cfg): fc.store_attr()\n",
    "    def __call__(self, obj):\n",
    "        item = ZoteroItem(self.itemId, self.cfg['zotero'])\n",
    "        if item.exist(): \n",
    "            obj.attrs['id'] = item.item['key']\n",
    "            for attr in ['title','summary', 'creator_name']:\n",
    "                obj.attrs[attr] = getattr(item, attr)()"
   ]
  },
  {
   "cell_type": "code",
   "execution_count": null,
   "id": "c36e0175",
   "metadata": {},
   "outputs": [
    {
     "data": {
      "text/plain": [
       "{'id': '26VMZZ2Q',\n",
       " 'title': 'Environmental database - Helsinki Commission Monitoring of Radioactive Substances',\n",
       " 'summary': 'MORS Environment database has been used to collate data resulting from monitoring of environmental radioactivity in the Baltic Sea based on HELCOM Recommendation 26/3.\\n\\nThe database is structured according to HELCOM Guidelines on Monitoring of Radioactive Substances (https://www.helcom.fi/wp-content/uploads/2019/08/Guidelines-for-Monitoring-of-Radioactive-Substances.pdf), which specifies reporting format, database structure, data types and obligatory parameters used for reporting data under Recommendation 26/3.\\n\\nThe database is updated and quality assured annually by HELCOM MORS EG.',\n",
       " 'creator_name': '[{\"creatorType\": \"author\", \"name\": \"HELCOM MORS\"}]'}"
      ]
     },
     "execution_count": null,
     "metadata": {},
     "output_type": "execute_result"
    }
   ],
   "source": [
    "#|eval: false\n",
    "GlobAttrsFeeder(None, cbs=[\n",
    "    ZoteroCB('26VMZZ2Q', cfg=cfg())\n",
    "    ])()"
   ]
  },
  {
   "cell_type": "code",
   "execution_count": null,
   "id": "53dd46c6",
   "metadata": {},
   "outputs": [
    {
     "data": {
      "text/plain": [
       "{'title': 'Radioactivity Monitoring of the Irish Marine Environment 1991 and 1992',\n",
       " 'summary': '',\n",
       " 'creator_name': '[{\"creatorType\": \"author\", \"firstName\": \"A.\", \"lastName\": \"McGarry\"}, {\"creatorType\": \"author\", \"firstName\": \"S.\", \"lastName\": \"Lyons\"}, {\"creatorType\": \"author\", \"firstName\": \"C.\", \"lastName\": \"McEnri\"}, {\"creatorType\": \"author\", \"firstName\": \"T.\", \"lastName\": \"Ryan\"}, {\"creatorType\": \"author\", \"firstName\": \"M.\", \"lastName\": \"O\\'Colmain\"}, {\"creatorType\": \"author\", \"firstName\": \"J.D.\", \"lastName\": \"Cunningham\"}]'}"
      ]
     },
     "execution_count": null,
     "metadata": {},
     "output_type": "execute_result"
    }
   ],
   "source": [
    "#|eval: false\n",
    "GlobAttrsFeeder(None, cbs=[\n",
    "    ZoteroCB('3W354SQG', cfg=cfg())\n",
    "    ])()"
   ]
  },
  {
   "cell_type": "code",
   "execution_count": null,
   "id": "feaeb2e9",
   "metadata": {},
   "outputs": [
    {
     "name": "stdout",
     "output_type": "stream",
     "text": [
      "Item x does not exist in Zotero library\n"
     ]
    },
    {
     "data": {
      "text/plain": [
       "{}"
      ]
     },
     "execution_count": null,
     "metadata": {},
     "output_type": "execute_result"
    }
   ],
   "source": [
    "#|eval: false\n",
    "GlobAttrsFeeder(None, cbs=[\n",
    "    ZoteroCB('x', cfg=cfg())\n",
    "    ])()"
   ]
  },
  {
   "cell_type": "code",
   "execution_count": null,
   "id": "daff6f7e",
   "metadata": {},
   "outputs": [],
   "source": [
    "#| exports\n",
    "class KeyValuePairCB(Callback):\n",
    "    def __init__(self, k, v): fc.store_attr()\n",
    "    def __call__(self, obj): obj.attrs[self.k] = self.v"
   ]
  },
  {
   "attachments": {},
   "cell_type": "markdown",
   "id": "a6580f84",
   "metadata": {},
   "source": [
    "## How to use"
   ]
  },
  {
   "cell_type": "code",
   "execution_count": null,
   "id": "f9570327",
   "metadata": {},
   "outputs": [],
   "source": [
    "#|eval: false\n",
    "dfs = pd.read_pickle('../files/pkl/dfs_test.pkl')"
   ]
  },
  {
   "cell_type": "code",
   "execution_count": null,
   "id": "513c7d22",
   "metadata": {},
   "outputs": [],
   "source": [
    "#|eval: false\n",
    "kw = ['oceanography', 'Earth Science > Oceans > Ocean Chemistry> Radionuclides',\n",
    "      'Earth Science > Human Dimensions > Environmental Impacts > Nuclear Radiation Exposure',\n",
    "      'Earth Science > Oceans > Ocean Chemistry > Ocean Tracers, Earth Science > Oceans > Marine Sediments',\n",
    "      'Earth Science > Oceans > Ocean Chemistry, Earth Science > Oceans > Sea Ice > Isotopes',\n",
    "      'Earth Science > Oceans > Water Quality > Ocean Contaminants',\n",
    "      'Earth Science > Biological Classification > Animals/Vertebrates > Fish',\n",
    "      'Earth Science > Biosphere > Ecosystems > Marine Ecosystems',\n",
    "      'Earth Science > Biological Classification > Animals/Invertebrates > Mollusks',\n",
    "      'Earth Science > Biological Classification > Animals/Invertebrates > Arthropods > Crustaceans',\n",
    "      'Earth Science > Biological Classification > Plants > Macroalgae (Seaweeds)']"
   ]
  },
  {
   "cell_type": "code",
   "execution_count": null,
   "id": "3da38899",
   "metadata": {},
   "outputs": [
    {
     "data": {
      "text/plain": [
       "{'geospatial_lat_min': '179.9986',\n",
       " 'geospatial_lat_max': '89.9905',\n",
       " 'geospatial_lon_min': '-180.0',\n",
       " 'geospatial_lon_max': '-70.5744',\n",
       " 'geospatial_bounds': 'POLYGON ((-180 -70.5744, 179.9986 -70.5744, 179.9986 89.9905, -180 89.9905, -180 -70.5744))',\n",
       " 'geospatial_vertical_max': '5815.3',\n",
       " 'geospatial_vertical_min': '0.5',\n",
       " 'time_coverage_start': '2007-07-30T10:37:19',\n",
       " 'time_coverage_end': '2018-11-22T07:33:10',\n",
       " 'title': 'Environmental database - Helsinki Commission Monitoring of Radioactive Substances',\n",
       " 'summary': 'MORS Environment database has been used to collate data resulting from monitoring of environmental radioactivity in the Baltic Sea based on HELCOM Recommendation 26/3.\\n\\nThe database is structured according to HELCOM Guidelines on Monitoring of Radioactive Substances (https://www.helcom.fi/wp-content/uploads/2019/08/Guidelines-for-Monitoring-of-Radioactive-Substances.pdf), which specifies reporting format, database structure, data types and obligatory parameters used for reporting data under Recommendation 26/3.\\n\\nThe database is updated and quality assured annually by HELCOM MORS EG.',\n",
       " 'creator_name': '[{\"creatorType\": \"author\", \"name\": \"HELCOM MORS\"}]',\n",
       " 'keywords': 'oceanography, Earth Science > Oceans > Ocean Chemistry> Radionuclides, Earth Science > Human Dimensions > Environmental Impacts > Nuclear Radiation Exposure, Earth Science > Oceans > Ocean Chemistry > Ocean Tracers, Earth Science > Oceans > Marine Sediments, Earth Science > Oceans > Ocean Chemistry, Earth Science > Oceans > Sea Ice > Isotopes, Earth Science > Oceans > Water Quality > Ocean Contaminants, Earth Science > Biological Classification > Animals/Vertebrates > Fish, Earth Science > Biosphere > Ecosystems > Marine Ecosystems, Earth Science > Biological Classification > Animals/Invertebrates > Mollusks, Earth Science > Biological Classification > Animals/Invertebrates > Arthropods > Crustaceans, Earth Science > Biological Classification > Plants > Macroalgae (Seaweeds)'}"
      ]
     },
     "execution_count": null,
     "metadata": {},
     "output_type": "execute_result"
    }
   ],
   "source": [
    "#|eval: false\n",
    "feed = GlobAttrsFeeder(dfs, cbs=[\n",
    "    BboxCB(),\n",
    "    DepthRangeCB(),\n",
    "    TimeRangeCB(),\n",
    "    ZoteroCB('26VMZZ2Q', cfg()),\n",
    "    KeyValuePairCB('keywords', ', '.join(kw))\n",
    "    ])\n",
    "\n",
    "attrs = feed(); attrs"
   ]
  }
 ],
 "metadata": {
  "kernelspec": {
   "display_name": "python3",
   "language": "python",
   "name": "python3"
  }
 },
 "nbformat": 4,
 "nbformat_minor": 5
}

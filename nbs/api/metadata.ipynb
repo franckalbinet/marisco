{
 "cells": [
  {
   "cell_type": "code",
   "execution_count": null,
   "id": "95ddae9f",
   "metadata": {},
   "outputs": [],
   "source": [
    "#| default_exp metadata"
   ]
  },
  {
   "attachments": {},
   "cell_type": "markdown",
   "id": "34f38641",
   "metadata": {},
   "source": [
    "# Metadata\n",
    "> Various utilities to populate NetCDF global attributes as well as ISO13195 metadata."
   ]
  },
  {
   "cell_type": "code",
   "execution_count": null,
   "id": "b4934cd2",
   "metadata": {},
   "outputs": [],
   "source": [
    "#| export\n",
    "import pandas as pd\n",
    "import fastcore.all as fc\n",
    "from cftime import num2date\n",
    "from pyzotero import zotero, zotero_errors\n",
    "import json\n",
    "\n",
    "from marisco.utils import get_bbox, Callback, run_cbs\n",
    "from marisco.configs import CONFIGS"
   ]
  },
  {
   "cell_type": "code",
   "execution_count": null,
   "id": "6db2b6ee",
   "metadata": {},
   "outputs": [],
   "source": [
    "#| export\n",
    "class GlobAttrsFeeder:\n",
    "    \"Produce NetCDF global attributes as specified by the callbacks.\"\n",
    "    def __init__(self, \n",
    "                 dfs:dict, # Dictionary of NetCDF group DataFrames\n",
    "                 cbs:list=[], # Callbacks\n",
    "                 logs:list=[] # List of preprocessing steps taken\n",
    "                 ): \n",
    "        fc.store_attr()\n",
    "        self.attrs = {}\n",
    "        \n",
    "    def callback(self):\n",
    "        run_cbs(self.cbs, self)\n",
    "        \n",
    "    def __call__(self):\n",
    "        self.callback()\n",
    "        return self.attrs"
   ]
  },
  {
   "cell_type": "code",
   "execution_count": null,
   "id": "e29022dc",
   "metadata": {},
   "outputs": [],
   "source": [
    "#| export\n",
    "class BboxCB(Callback):\n",
    "    \"Compute dataset geographical bounding box\"\n",
    "    def __call__(self, obj):\n",
    "        bbox = get_bbox(pd.concat(obj.dfs)) \n",
    "        lon_min, lon_max, lat_min, lat_max = [str(bound) for bound in bbox.bounds]\n",
    "        obj.attrs.update({\n",
    "            'geospatial_lat_min': lat_min, \n",
    "            'geospatial_lat_max': lat_max,\n",
    "            'geospatial_lon_min': lon_min,\n",
    "            'geospatial_lon_max': lon_max,\n",
    "            'geospatial_bounds': bbox.wkt})"
   ]
  },
  {
   "cell_type": "code",
   "execution_count": null,
   "id": "813cbfe2",
   "metadata": {},
   "outputs": [],
   "source": [
    "#| export\n",
    "class DepthRangeCB(Callback):\n",
    "    \"Compute depth values range\"\n",
    "    def __init__(self, depth_col='depth'): fc.store_attr()\n",
    "    def __call__(self, obj):\n",
    "        depths = pd.concat(obj.dfs).get(self.depth_col, default=pd.Series([]))\n",
    "        if not depths.empty:\n",
    "            max_depth, min_depth = depths.max(), depths.min()\n",
    "            obj.attrs.update({\n",
    "                'geospatial_vertical_max': '0' if min_depth == 0 else str(-min_depth),\n",
    "                'geospatial_vertical_min': str(-max_depth)})"
   ]
  },
  {
   "cell_type": "code",
   "execution_count": null,
   "id": "d12b933c",
   "metadata": {},
   "outputs": [],
   "source": [
    "#| export\n",
    "class TimeRangeCB(Callback):\n",
    "    \"Compute time values range\"\n",
    "    def __init__(self, cfg): fc.store_attr()\n",
    "    def __call__(self, obj):\n",
    "        time = pd.concat(obj.dfs)['time']\n",
    "        start, end = [num2date(t, units=self.cfg['units']['time']).isoformat() \n",
    "                      for t in (time.min(), time.max())]\n",
    "        obj.attrs.update({\n",
    "            'time_coverage_start': start,\n",
    "            'time_coverage_end': end})"
   ]
  },
  {
   "cell_type": "code",
   "execution_count": null,
   "id": "761032af",
   "metadata": {},
   "outputs": [],
   "source": [
    "#| export\n",
    "class ZoteroItem:\n",
    "    def __init__(self, item_id, cfg):\n",
    "        self.cfg = cfg\n",
    "        self.item = self.getItem(item_id)\n",
    "    \n",
    "    def exist(self): return self.item != None\n",
    "    \n",
    "    def getItem(self, item_id):\n",
    "        zot = zotero.Zotero(self.cfg['lib_id'], 'group', self.cfg['api_key'])\n",
    "        try:\n",
    "            return zot.item(item_id)\n",
    "        except zotero_errors.ResourceNotFound:\n",
    "            print(f'Item {item_id} does not exist in Zotero library')\n",
    "            return None\n",
    "            \n",
    "    def title(self):\n",
    "        return self.item['data']['title']\n",
    "    \n",
    "    def summary(self):\n",
    "        return self.item['data']['abstractNote']\n",
    "    \n",
    "    def creator_name(self):\n",
    "        # creators = [f'{c[\"creatorType\"]}: {c[\"name\"]}' for c in self.item['data']['creators']]\n",
    "        # return '; '.join(creators)\n",
    "        return json.dumps(self.item['data']['creators'])\n",
    "            \n",
    "    def __repr__(self):\n",
    "        return json.dumps(self.item, indent=4) "
   ]
  },
  {
   "cell_type": "code",
   "execution_count": null,
   "id": "1328e775",
   "metadata": {},
   "outputs": [],
   "source": [
    "#| export\n",
    "class ZoteroCB(Callback):\n",
    "    \"Retrieve Zotero metadata\"\n",
    "    def __init__(self, itemId, cfg): fc.store_attr()\n",
    "    def __call__(self, obj):\n",
    "        item = ZoteroItem(self.itemId, self.cfg['zotero'])\n",
    "        if item.exist(): \n",
    "            for attr in ['title', 'summary', 'creator_name']:\n",
    "                obj.attrs[attr] = getattr(item, attr)()"
   ]
  },
  {
   "cell_type": "code",
   "execution_count": null,
   "id": "c36e0175",
   "metadata": {},
   "outputs": [],
   "source": [
    "#|eval: false\n",
    "from marisco.configs import cfg\n",
    "\n",
    "GlobAttrsFeeder(None, cbs=[\n",
    "    ZoteroCB('26VMZZ2Q', cfg=cfg())\n",
    "    ])()"
   ]
  },
  {
   "cell_type": "code",
   "execution_count": null,
   "id": "53dd46c6",
   "metadata": {},
   "outputs": [],
   "source": [
    "#|eval: false\n",
    "GlobAttrsFeeder(None, cbs=[\n",
    "    ZoteroCB('3W354SQG', cfg=cfg())\n",
    "    ])()"
   ]
  },
  {
   "cell_type": "code",
   "execution_count": null,
   "id": "feaeb2e9",
   "metadata": {},
   "outputs": [],
   "source": [
    "#|eval: false\n",
    "GlobAttrsFeeder(None, cbs=[\n",
    "    ZoteroCB('x', cfg=cfg())\n",
    "    ])()"
   ]
  },
  {
   "cell_type": "code",
   "execution_count": null,
   "id": "daff6f7e",
   "metadata": {},
   "outputs": [],
   "source": [
    "#| export\n",
    "class KeyValuePairCB(Callback):\n",
    "    def __init__(self, k, v): fc.store_attr()\n",
    "    def __call__(self, obj): obj.attrs[self.k] = self.v"
   ]
  },
  {
   "attachments": {},
   "cell_type": "markdown",
   "id": "a6580f84",
   "metadata": {},
   "source": [
    "## How to use"
   ]
  },
  {
   "cell_type": "code",
   "execution_count": null,
   "id": "f9570327",
   "metadata": {},
   "outputs": [],
   "source": [
    "#|eval: false\n",
    "dfs = pd.read_pickle('../files/pkl/dfs_test.pkl')"
   ]
  },
  {
   "cell_type": "code",
   "execution_count": null,
   "id": "513c7d22",
   "metadata": {},
   "outputs": [],
   "source": [
    "#|eval: false\n",
    "kw = ['oceanography', 'Earth Science > Oceans > Ocean Chemistry> Radionuclides',\n",
    "      'Earth Science > Human Dimensions > Environmental Impacts > Nuclear Radiation Exposure',\n",
    "      'Earth Science > Oceans > Ocean Chemistry > Ocean Tracers, Earth Science > Oceans > Marine Sediments',\n",
    "      'Earth Science > Oceans > Ocean Chemistry, Earth Science > Oceans > Sea Ice > Isotopes',\n",
    "      'Earth Science > Oceans > Water Quality > Ocean Contaminants',\n",
    "      'Earth Science > Biological Classification > Animals/Vertebrates > Fish',\n",
    "      'Earth Science > Biosphere > Ecosystems > Marine Ecosystems',\n",
    "      'Earth Science > Biological Classification > Animals/Invertebrates > Mollusks',\n",
    "      'Earth Science > Biological Classification > Animals/Invertebrates > Arthropods > Crustaceans',\n",
    "      'Earth Science > Biological Classification > Plants > Macroalgae (Seaweeds)']"
   ]
  },
  {
   "cell_type": "code",
   "execution_count": null,
   "id": "6620b162",
   "metadata": {},
   "outputs": [],
   "source": [
    "#|eval: false\n",
    "feed = GlobAttrsFeeder(dfs, cbs=[\n",
    "    BboxCB(),\n",
    "    DepthRangeCB(),\n",
    "    TimeRangeCB(cfg=CONFIGS),\n",
    "    ZoteroCB('26VMZZ2Q', cfg=CONFIGS),\n",
    "    KeyValuePairCB('keywords', ', '.join(kw))\n",
    "    ])\n",
    "\n",
    "attrs = feed(); attrs"
   ]
  }
 ],
 "metadata": {
  "kernelspec": {
   "display_name": "python3",
   "language": "python",
   "name": "python3"
  }
 },
 "nbformat": 4,
 "nbformat_minor": 5
}

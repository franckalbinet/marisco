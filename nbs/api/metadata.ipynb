{
 "cells": [
  {
   "cell_type": "code",
   "execution_count": null,
   "id": "95ddae9f",
   "metadata": {},
   "outputs": [],
   "source": [
    "#| default_exp metadata"
   ]
  },
  {
   "attachments": {},
   "cell_type": "markdown",
   "id": "34f38641",
   "metadata": {},
   "source": [
    "# Metadata\n",
    "> Various utilities to populate NetCDF global attributes as well as ISO13195 metadata."
   ]
  },
  {
   "cell_type": "code",
   "execution_count": null,
   "id": "b4934cd2",
   "metadata": {},
   "outputs": [],
   "source": [
    "#| export\n",
    "import pandas as pd\n",
    "import fastcore.all as fc\n",
    "from cftime import num2date\n",
    "from pyzotero import zotero\n",
    "import json\n",
    "\n",
    "from marisco.utils import get_bbox, Callback, run_cbs\n",
    "from marisco.configs import CONFIGS"
   ]
  },
  {
   "cell_type": "code",
   "execution_count": null,
   "id": "6db2b6ee",
   "metadata": {},
   "outputs": [],
   "source": [
    "#| export\n",
    "class GlobAttrsFeeder:\n",
    "    \"Produce NetCDF global attributes as specified by the callbacks.\"\n",
    "    def __init__(self, \n",
    "                 dfs:dict, # Dictionary of NetCDF group DataFrames\n",
    "                 cbs:list=[], # Callbacks\n",
    "                 logs:list=[] # List of preprocessing steps taken\n",
    "                 ): \n",
    "        fc.store_attr()\n",
    "        self.attrs = {}\n",
    "        \n",
    "    def callback(self):\n",
    "        run_cbs(self.cbs, self)\n",
    "        \n",
    "    def __call__(self):\n",
    "        self.callback()\n",
    "        return self.attrs"
   ]
  },
  {
   "cell_type": "code",
   "execution_count": null,
   "id": "e29022dc",
   "metadata": {},
   "outputs": [],
   "source": [
    "#| export\n",
    "class BboxCB(Callback):\n",
    "    \"Compute dataset geographical bounding box\"\n",
    "    def __call__(self, obj):\n",
    "        bbox = get_bbox(pd.concat(obj.dfs)) \n",
    "        lon_min, lon_max, lat_min, lat_max = [str(bound) for bound in bbox.bounds]\n",
    "        obj.attrs.update({\n",
    "            'geospatial_lat_min': lat_min, \n",
    "            'geospatial_lat_max': lat_max,\n",
    "            'geospatial_lon_min': lon_min,\n",
    "            'geospatial_lon_max': lon_max,\n",
    "            'geospatial_bounds': bbox.wkt})"
   ]
  },
  {
   "cell_type": "code",
   "execution_count": null,
   "id": "813cbfe2",
   "metadata": {},
   "outputs": [],
   "source": [
    "#| export\n",
    "class DepthRangeCB(Callback):\n",
    "    \"Compute depth values range\"\n",
    "    def __call__(self, obj):\n",
    "        max_depth = pd.concat(obj.dfs).depth.max()\n",
    "        min_depth = pd.concat(obj.dfs).depth.min()\n",
    "        obj.attrs.update({\n",
    "            'geospatial_vertical_max': '0' if min_depth == 0 else str(-min_depth),\n",
    "            'geospatial_vertical_min': str(-max_depth)})"
   ]
  },
  {
   "cell_type": "code",
   "execution_count": null,
   "id": "d12b933c",
   "metadata": {},
   "outputs": [],
   "source": [
    "#| export\n",
    "class TimeRangeCB(Callback):\n",
    "    \"Compute time values range\"\n",
    "    def __init__(self, cfg): fc.store_attr()\n",
    "        \n",
    "    def __call__(self, obj):\n",
    "        time = pd.concat(obj.dfs)['time']\n",
    "        start, end = [num2date(t, units=self.cfg['units']['time']).isoformat() \n",
    "                      for t in (time.min(), time.max())]\n",
    "        obj.attrs.update({\n",
    "            'time_coverage_start': start,\n",
    "            'time_coverage_end': end})"
   ]
  },
  {
   "cell_type": "code",
   "execution_count": null,
   "id": "761032af",
   "metadata": {},
   "outputs": [],
   "source": [
    "#| export\n",
    "class ZoteroItem:\n",
    "    def __init__(self, item_id, cfg):\n",
    "        self.cfg = cfg\n",
    "        self.item = self.getItem(item_id)\n",
    "        \n",
    "    def getItem(self, item_id):\n",
    "        zot = zotero.Zotero(self.cfg['lib_id'], 'group', self.cfg['api_key'])\n",
    "        return zot.item(item_id)\n",
    "    \n",
    "    def title(self):\n",
    "        return self.item['data']['title']\n",
    "    \n",
    "    def summary(self):\n",
    "        return self.item['data']['abstractNote']\n",
    "    \n",
    "    def creator_name(self):\n",
    "        creators = [f'{c[\"creatorType\"]}: {c[\"name\"]}' for c in self.item['data']['creators']]\n",
    "        return '; '.join(creators)\n",
    "            \n",
    "    def __repr__(self):\n",
    "        return json.dumps(self.item, indent=4) "
   ]
  },
  {
   "cell_type": "code",
   "execution_count": null,
   "id": "1328e775",
   "metadata": {},
   "outputs": [],
   "source": [
    "#| export\n",
    "class ZoteroCB(Callback):\n",
    "    \"Retrieve Zotero metadata\"\n",
    "    def __init__(self, itemId, cfg): fc.store_attr()\n",
    "        \n",
    "    def __call__(self, obj):\n",
    "        # item = ZoteroItem(self.itemId, cfg()('zotero'))\n",
    "        item = ZoteroItem(self.itemId, self.cfg['zotero'])\n",
    "        for attr in ['title', 'summary', 'creator_name']:\n",
    "            obj.attrs[attr] = getattr(item, attr)()"
   ]
  },
  {
   "cell_type": "code",
   "execution_count": null,
   "id": "daff6f7e",
   "metadata": {},
   "outputs": [],
   "source": [
    "#| export\n",
    "class KeyValuePairCB(Callback):\n",
    "    def __init__(self, k, v): fc.store_attr()\n",
    "    def __call__(self, obj): obj.attrs[self.k] = self.v"
   ]
  },
  {
   "attachments": {},
   "cell_type": "markdown",
   "id": "a6580f84",
   "metadata": {},
   "source": [
    "## How to use"
   ]
  },
  {
   "cell_type": "code",
   "execution_count": null,
   "id": "f9570327",
   "metadata": {},
   "outputs": [],
   "source": [
    "dfs = pd.read_pickle('../files/pkl/dfs_test.pkl')"
   ]
  },
  {
   "cell_type": "code",
   "execution_count": null,
   "id": "513c7d22",
   "metadata": {},
   "outputs": [],
   "source": [
    "kw = ['oceanography', 'Earth Science > Oceans > Ocean Chemistry> Radionuclides',\n",
    "      'Earth Science > Human Dimensions > Environmental Impacts > Nuclear Radiation Exposure',\n",
    "      'Earth Science > Oceans > Ocean Chemistry > Ocean Tracers, Earth Science > Oceans > Marine Sediments',\n",
    "      'Earth Science > Oceans > Ocean Chemistry, Earth Science > Oceans > Sea Ice > Isotopes',\n",
    "      'Earth Science > Oceans > Water Quality > Ocean Contaminants',\n",
    "      'Earth Science > Biological Classification > Animals/Vertebrates > Fish',\n",
    "      'Earth Science > Biosphere > Ecosystems > Marine Ecosystems',\n",
    "      'Earth Science > Biological Classification > Animals/Invertebrates > Mollusks',\n",
    "      'Earth Science > Biological Classification > Animals/Invertebrates > Arthropods > Crustaceans',\n",
    "      'Earth Science > Biological Classification > Plants > Macroalgae (Seaweeds)']"
   ]
  },
  {
   "cell_type": "code",
   "execution_count": null,
   "id": "6620b162",
   "metadata": {},
   "outputs": [
    {
     "name": "stdout",
     "output_type": "stream",
     "text": [
      "{'key': '26VMZZ2Q', 'version': 826, 'library': {'type': 'group', 'id': 2432820, 'name': 'MARIS', 'links': {'alternate': {'href': 'https://www.zotero.org/groups/maris', 'type': 'text/html'}}}, 'links': {'self': {'href': 'https://api.zotero.org/groups/2432820/items/26VMZZ2Q', 'type': 'application/json'}, 'alternate': {'href': 'https://www.zotero.org/groups/maris/items/26VMZZ2Q', 'type': 'text/html'}}, 'meta': {'createdByUser': {'id': 5826529, 'username': 'MarisAdmin', 'name': '', 'links': {'alternate': {'href': 'https://www.zotero.org/marisadmin', 'type': 'text/html'}}}, 'creatorSummary': 'HELCOM MORS', 'parsedDate': '2018', 'numChildren': 0}, 'data': {'key': '26VMZZ2Q', 'version': 826, 'itemType': 'document', 'title': 'Environmental database - Helsinki Commission Monitoring of Radioactive Substances', 'creators': [{'creatorType': 'author', 'name': 'HELCOM MORS'}], 'abstractNote': 'MORS Environment database has been used to collate data resulting from monitoring of environmental radioactivity in the Baltic Sea based on HELCOM Recommendation 26/3.\\n\\nThe database is structured according to HELCOM Guidelines on Monitoring of Radioactive Substances (https://www.helcom.fi/wp-content/uploads/2019/08/Guidelines-for-Monitoring-of-Radioactive-Substances.pdf), which specifies reporting format, database structure, data types and obligatory parameters used for reporting data under Recommendation 26/3.\\n\\nThe database is updated and quality assured annually by HELCOM MORS EG.', 'publisher': '', 'date': '2018', 'language': '', 'shortTitle': '', 'url': 'http://metadata.helcom.fi/geonetwork/srv/eng/catalog.search#/metadata/7ee4916b-6d84-4c80-9bea-e8f8572c368a', 'accessDate': '', 'archive': '', 'archiveLocation': '100', 'libraryCatalog': '', 'callNumber': '', 'rights': '', 'extra': '', 'tags': [], 'collections': [], 'relations': {}, 'dateAdded': '2020-08-10T10:52:41Z', 'dateModified': '2022-07-07T10:12:32Z'}}\n"
     ]
    },
    {
     "data": {
      "text/plain": [
       "{'id': '',\n",
       " 'title': 'Environmental database - Helsinki Commission Monitoring of Radioactive Substances',\n",
       " 'summary': 'MORS Environment database has been used to collate data resulting from monitoring of environmental radioactivity in the Baltic Sea based on HELCOM Recommendation 26/3.\\n\\nThe database is structured according to HELCOM Guidelines on Monitoring of Radioactive Substances (https://www.helcom.fi/wp-content/uploads/2019/08/Guidelines-for-Monitoring-of-Radioactive-Substances.pdf), which specifies reporting format, database structure, data types and obligatory parameters used for reporting data under Recommendation 26/3.\\n\\nThe database is updated and quality assured annually by HELCOM MORS EG.',\n",
       " 'keywords': 'oceanography, Earth Science > Oceans > Ocean Chemistry> Radionuclides, Earth Science > Human Dimensions > Environmental Impacts > Nuclear Radiation Exposure, Earth Science > Oceans > Ocean Chemistry > Ocean Tracers, Earth Science > Oceans > Marine Sediments, Earth Science > Oceans > Ocean Chemistry, Earth Science > Oceans > Sea Ice > Isotopes, Earth Science > Oceans > Water Quality > Ocean Contaminants, Earth Science > Biological Classification > Animals/Vertebrates > Fish, Earth Science > Biosphere > Ecosystems > Marine Ecosystems, Earth Science > Biological Classification > Animals/Invertebrates > Mollusks, Earth Science > Biological Classification > Animals/Invertebrates > Arthropods > Crustaceans, Earth Science > Biological Classification > Plants > Macroalgae (Seaweeds)',\n",
       " 'keywords_vocabulary': 'GCMD Science Keywords',\n",
       " 'keywords_vocabulary_url': 'https://gcmd.earthdata.nasa.gov/static/kms/',\n",
       " 'record': '',\n",
       " 'featureType': '',\n",
       " 'cdm_data_type': '',\n",
       " 'Conventions': 'CF-1.10 ACDD-1.3',\n",
       " 'publisher_name': 'Paul MCGINNITY, Iolanda OSVATH, Florence DESCROIX-COMANDUCCI',\n",
       " 'publisher_email': 'p.mc-ginnity@iaea.org, i.osvath@iaea.org, F.Descroix-Comanducci@iaea.org',\n",
       " 'publisher_url': 'https://maris.iaea.org',\n",
       " 'publisher_institution': 'International Atomic Energy Agency - IAEA',\n",
       " 'creator_name': 'author: HELCOM MORS',\n",
       " 'institution': '',\n",
       " 'metadata_link': '',\n",
       " 'creator_email': '',\n",
       " 'creator_url': '',\n",
       " 'references': '',\n",
       " 'license': 'Without prejudice to the applicable Terms and Conditions (https://nucleus.iaea.org/Pages/Others/Disclaimer.aspx), I hereby agree that any use of the data will contain appropriate acknowledgement of the data source(s) and the IAEA Marine Radioactivity Information System (MARIS).',\n",
       " 'comment': '',\n",
       " 'geospatial_lat_min': '29.05',\n",
       " 'geospatial_lon_min': '9.6333',\n",
       " 'geospatial_lat_max': '65.35',\n",
       " 'geospatial_lon_max': '54.0',\n",
       " 'geospatial_vertical_min': '-248.0',\n",
       " 'geospatial_vertical_max': '0',\n",
       " 'geospatial_bounds': 'POLYGON ((9.6333 54, 29.05 54, 29.05 65.35, 9.6333 65.35, 9.6333 54))',\n",
       " 'geospatial_bounds_crs': 'EPSG:4326',\n",
       " 'time_coverage_start': '1984-01-10T00:00:00',\n",
       " 'time_coverage_end': '1987-06-28T00:00:00',\n",
       " 'local_time_zone': '',\n",
       " 'date_created': '',\n",
       " 'date_modified': '',\n",
       " 'publisher_postprocess_logs': ''}"
      ]
     },
     "execution_count": null,
     "metadata": {},
     "output_type": "execute_result"
    }
   ],
   "source": [
    "feed = GlobAttrsFeeder(dfs, cbs=[\n",
    "    BboxCB(),\n",
    "    DepthRangeCB(),\n",
    "    TimeRangeCB(cfg=CONFIGS),\n",
    "    ZoteroCB('26VMZZ2Q', cfg=CONFIGS),\n",
    "    KeyValuePairCB('keywords', ', '.join(kw))\n",
    "    ])\n",
    "\n",
    "attrs = feed(); attrs"
   ]
  }
 ],
 "metadata": {
  "kernelspec": {
   "display_name": "Python 3 (ipykernel)",
   "language": "python",
   "name": "python3"
  }
 },
 "nbformat": 4,
 "nbformat_minor": 5
}

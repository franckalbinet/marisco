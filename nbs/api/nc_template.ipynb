{
 "cells": [
  {
   "cell_type": "code",
   "execution_count": null,
   "id": "102459f8",
   "metadata": {},
   "outputs": [],
   "source": [
    "#| default_exp nc_template"
   ]
  },
  {
   "cell_type": "markdown",
   "id": "34f38641",
   "metadata": {},
   "source": [
    "# MARIS NetCDF Template\n",
    "> Creation of MARIS NetCDF template based on \"pseudo\" Common Data Language `.toml` config file"
   ]
  },
  {
   "cell_type": "code",
   "execution_count": null,
   "id": "b4934cd2",
   "metadata": {},
   "outputs": [],
   "source": [
    "#| export\n",
    "from netCDF4 import Dataset\n",
    "import pandas as pd\n",
    "from pathlib import Path\n",
    "from fastcore.basics import patch, store_attr\n",
    "from typing import Dict"
   ]
  },
  {
   "cell_type": "code",
   "execution_count": null,
   "id": "d6fa2bca",
   "metadata": {},
   "outputs": [],
   "source": [
    "#| export\n",
    "CDL = {\n",
    "    'global_attr': {\n",
    "        'description': 'Template description',\n",
    "        'summary': 'Template summary',\n",
    "        'keyword': 'MARIS other-key-words',\n",
    "        'license': 'Common ...'\n",
    "    },\n",
    "    'grps': ['seawater', 'biota', 'sediment', 'suspended-matter'],\n",
    "    'var_attrs': {\n",
    "        'sample': {\n",
    "            'long_name': 'Sample ID of measurement'\n",
    "        },\n",
    "        'depth': {\n",
    "            'long_name': 'Depth below seal level',\n",
    "            'standard_name': 'depth_below_sea_floor',\n",
    "            'units': 'm',\n",
    "            'axis': 'Z'},\n",
    "        'lon': {\n",
    "            'long_name': 'Measurement longitude',\n",
    "            'standard_name': 'longitude',\n",
    "            'units': 'degrees_north',\n",
    "            'axis': 'Y',\n",
    "            '_CoordinateAxisType': 'Lon'\n",
    "        },\n",
    "        'lat': {\n",
    "            'long_name': 'Measurement latitude',\n",
    "            'standard_name': 'latitude',\n",
    "            'units': 'degrees_east',\n",
    "            'axis': 'X',\n",
    "            '_CoordinateAxisType': 'Lat'\n",
    "        },\n",
    "        'time': {\n",
    "            'long_name': 'Time of measurement',\n",
    "            'standard_name': 'time',\n",
    "            'units': 'seconds since 1970-01-01 00:00:00.0',\n",
    "            'time_origin': '1970-01-01 00:00:00',\n",
    "            'time_zone': 'UTC',\n",
    "            'abbreviation': 'Date/Time',\n",
    "            'axis': 'T',\n",
    "            'calendar': 'gregorian'\n",
    "        }\n",
    "    },\n",
    "    'placeholder': '_to_be_filled_in_',\n",
    "    'uncertainty': {\n",
    "        'long_name': ' uncertainty',\n",
    "        'standard_name': '_uncertainty',\n",
    "        'var_suffix': '_unc'\n",
    "    },\n",
    "    'detection_limit': {\n",
    "        'long_name': ' detection limit',\n",
    "        'standard_name': '_detection_limit',\n",
    "        'var_suffix': '_dl'\n",
    "    }\n",
    "}"
   ]
  },
  {
   "cell_type": "code",
   "execution_count": null,
   "id": "4307e614",
   "metadata": {},
   "outputs": [],
   "source": [
    "tpl_fname = 'maris-template.nc'"
   ]
  },
  {
   "cell_type": "code",
   "execution_count": null,
   "id": "9269520f",
   "metadata": {},
   "outputs": [],
   "source": [
    "#| export\n",
    "class NCTemplate:\n",
    "    def __init__(self, \n",
    "                 tpl_fname:str, # CDL file name\n",
    "                 vars_fname:str, # File name and path of MARIS nuclide look up table\n",
    "                 dest_dir:str, # Destination directory for generated NetCDF template files\n",
    "                 cfgs:Dict, # Pseudo CDL (`.toml`)\n",
    "                ):\n",
    "        store_attr()"
   ]
  },
  {
   "cell_type": "code",
   "execution_count": null,
   "id": "a4edd168",
   "metadata": {},
   "outputs": [],
   "source": [
    "#| export\n",
    "@patch\n",
    "def get_analytes(self:NCTemplate,\n",
    "                 col_varnames:str='nc_name', # Column name containing the NetCDF variable names\n",
    "                 col_stdnames:str='nusymbol', # Column name containing the NetCDF standard names\n",
    "                ):\n",
    "    \"Return the name of the variables analysed\"\n",
    "    df = pd.read_excel(self.vars_fname, index_col=0)\n",
    "    df = df[df.nuclide != 'NOT AVAILABLE']\n",
    "    var_names = df[col_varnames].tolist()\n",
    "    std_names = df[col_stdnames].tolist()\n",
    "    long_names = df[['nuclide', 'massnb']].apply(lambda row: ' '.join(row.values.astype(str)), \n",
    "                                                 axis=1).tolist()\n",
    "    long_names = [name.capitalize() for name in long_names]\n",
    "\n",
    "    return [{'name': n, \n",
    "             'attrs': {\n",
    "                 'long_name': ln,\n",
    "                 'standard_name': sn}} \n",
    "            for n, ln, sn in zip(*(var_names, long_names, std_names))]"
   ]
  },
  {
   "cell_type": "code",
   "execution_count": null,
   "id": "7225bb65",
   "metadata": {},
   "outputs": [],
   "source": [
    "#| export\n",
    "@patch\n",
    "def create_variable(self:NCTemplate, \n",
    "               nc, # NetCDF file\n",
    "               name:str, # Name of the variable\n",
    "               attrs:dict, # Variable attributes\n",
    "               dtype:str='f4', # Type of the variable\n",
    "               dim:tuple=('sample',) # Dimension\n",
    "\n",
    "           ):\n",
    "    nc_var = nc.createVariable(name, dtype, dim)\n",
    "    nc_var.setncatts(attrs)    \n",
    "    return nc"
   ]
  },
  {
   "cell_type": "code",
   "execution_count": null,
   "id": "6beee8f5",
   "metadata": {},
   "outputs": [],
   "source": [
    "#| export\n",
    "@patch\n",
    "def generate(self:NCTemplate,\n",
    "            common_vars:list=['lon', 'lat', 'depth', 'time'], # Common variables\n",
    "            ):\n",
    "    \"Generate CDL\"\n",
    "    fname = Path(self.dest_dir)/self.tpl_fname\n",
    "    with Dataset(fname, 'w', format='NETCDF4') as nc:\n",
    "        # Create dataset attributes\n",
    "        nc.setncatts(self.cfgs['global_attr']) \n",
    "        \n",
    "        # Create shared `sample` dimension\n",
    "        nc.createDimension('sample', None)\n",
    "\n",
    "        # Create grps\n",
    "        for grp_name in self.cfgs['grps']:\n",
    "            grp = nc.createGroup(grp_name)\n",
    "            # Create common variables\n",
    "            self.create_variable(grp, 'sample', self.cfgs['var_attrs']['sample'], 'i4')\n",
    "            for name in common_vars: self.create_variable(grp, name, self.cfgs['var_attrs'][name])\n",
    "\n",
    "            # Create analyte variables\n",
    "            for analyte in self.get_analytes():\n",
    "                attrs = analyte['attrs']\n",
    "                attrs['units'] = self.cfgs['placeholder']\n",
    "\n",
    "                self.create_variable(grp, analyte['name'], attrs)\n",
    "\n",
    "                # Related uncertainty and detection limit\n",
    "                for related_var in ['uncertainty', 'detection_limit']:\n",
    "                    cfg = self.cfgs[related_var]\n",
    "                    attrs['long_name'] += cfg['long_name']\n",
    "                    attrs['standard_name'] += cfg['standard_name']\n",
    "                    self.create_variable(grp, analyte['name'] + cfg['var_suffix'], attrs)"
   ]
  },
  {
   "cell_type": "code",
   "execution_count": null,
   "id": "870329ec",
   "metadata": {},
   "outputs": [],
   "source": [
    "#|eval: false\n",
    "nc_tpl = NCTemplate(tpl_fname,\n",
    "               vars_fname='./files/lut/dbo_nuclide.xlsx', \n",
    "               dest_dir='./files/nc',\n",
    "               cfgs=CDL)\n",
    "\n",
    "nc_tpl.generate()"
   ]
  }
 ],
 "metadata": {
  "kernelspec": {
   "display_name": "Python 3 (ipykernel)",
   "language": "python",
   "name": "python3"
  }
 },
 "nbformat": 4,
 "nbformat_minor": 5
}

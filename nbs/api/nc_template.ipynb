{
 "cells": [
  {
   "cell_type": "code",
   "execution_count": null,
   "id": "102459f8",
   "metadata": {},
   "outputs": [],
   "source": [
    "#| default_exp nc_template"
   ]
  },
  {
   "attachments": {},
   "cell_type": "markdown",
   "id": "34f38641",
   "metadata": {},
   "source": [
    "# MARIS NetCDF Template\n",
    "> Creation of MARIS NetCDF template based on \"pseudo\" Common Data Language `.toml` config file."
   ]
  },
  {
   "cell_type": "code",
   "execution_count": null,
   "id": "0a9c953b",
   "metadata": {},
   "outputs": [
    {
     "name": "stdout",
     "output_type": "stream",
     "text": [
      "The autoreload extension is already loaded. To reload it, use:\n",
      "  %reload_ext autoreload\n"
     ]
    }
   ],
   "source": [
    "#| hide\n",
    "%load_ext autoreload\n",
    "%autoreload 2"
   ]
  },
  {
   "cell_type": "code",
   "execution_count": null,
   "id": "b4934cd2",
   "metadata": {},
   "outputs": [],
   "source": [
    "#| export\n",
    "from typing import Dict, Union\n",
    "from copy import deepcopy\n",
    "import re\n",
    "\n",
    "from netCDF4 import Dataset\n",
    "import numpy as np\n",
    "import pandas as pd\n",
    "from pathlib import Path\n",
    "# from fastcore.basics import patch, store_attr\n",
    "import fastcore.all as fc\n",
    "from fastcore.basics import patch\n",
    "\n",
    "from marisco.utils import read_toml\n",
    "from marisco.configs import name2grp, get_cfgs"
   ]
  },
  {
   "cell_type": "markdown",
   "id": "880703af",
   "metadata": {},
   "source": [
    "## NetCDF template generator\n",
    "\n",
    "Generate a NetCDF4 template from the configurable [`CDL.toml`](https://github.com/franckalbinet/marisco/blob/main/nbs/files/cdl.toml) file, itself generated in [`/api/configs.ipynb`](https://github.com/franckalbinet/marisco/blob/main/nbs/api/configs.ipynb)."
   ]
  },
  {
   "cell_type": "code",
   "execution_count": null,
   "id": "881fa260",
   "metadata": {},
   "outputs": [],
   "source": [
    "#| export\n",
    "class NCTemplater:\n",
    "    \"MARIS NetCDF template generator.\"\n",
    "    def __init__(self, \n",
    "                 cdl_fname:Dict, # File name and path of the \"Pseudo CDL\" (`.toml`)\n",
    "                 nuclide_vars_fname:str, # File name and path of MARIS nuclide lookup table containing variable names\n",
    "                 tpl_fname:str, # File name and path of NetCDF4 file to be generated\n",
    "                ):\n",
    "        fc.store_attr()\n",
    "        self.cdl = read_toml(cdl_fname)\n",
    "        # self.dim = self.cdl['dim']\n",
    "        self.dim = self.cdl['dim']\n",
    "        self.enum_types = {}"
   ]
  },
  {
   "cell_type": "markdown",
   "id": "94a91be6",
   "metadata": {},
   "source": [
    "For example, provided the configuration `cdl.toml` below, the templater gets access, among others, to its `dim` definiton section:"
   ]
  },
  {
   "cell_type": "code",
   "execution_count": null,
   "id": "7cc12972",
   "metadata": {},
   "outputs": [],
   "source": [
    "templater = NCTemplater(cdl_fname='./files/cdl.toml',\n",
    "                        nuclide_vars_fname='./files/lut/dbo_nuclide.xlsx', \n",
    "                        tpl_fname='./files/nc/test.nc')\n",
    "\n",
    "expected = {'name': 'sample', \n",
    "            'dtype': 'u8', \n",
    "            'attrs': {'long_name': 'Sample ID of measurement'}\n",
    "            }\n",
    "\n",
    "fc.test_eq(templater.dim, expected)"
   ]
  },
  {
   "cell_type": "code",
   "execution_count": null,
   "id": "ae5c32f1",
   "metadata": {},
   "outputs": [],
   "source": [
    "#| export\n",
    "@patch\n",
    "def nuclide_vars(\n",
    "    self:NCTemplater,\n",
    "    col_varnames:str='nc_name', # Column name in the Excel lookup file containing the NetCDF variable names\n",
    "    col_stdnames:str='nusymbol', # Column name Excel lookup file containing the NetCDF standard names\n",
    "    dtype:str='f4', # Default data type\n",
    "    ) -> list[dict]: # List of nuclide variables (including their names and attributes)\n",
    "    \"Return the name of the radionuclide variables analysed.\"\n",
    "    df = pd.read_excel(self.nuclide_vars_fname, index_col=0)\n",
    "    df = df[df.nuclide != 'NOT AVAILABLE']\n",
    "    var_names = df[col_varnames].tolist()\n",
    "    std_names = df[col_stdnames].tolist()\n",
    "    long_names = df[['nuclide', 'massnb']].apply(lambda row: ' '.join(row.values.astype(str)), \n",
    "                                                 axis=1).tolist()\n",
    "    long_names = [name.capitalize() for name in long_names]\n",
    "\n",
    "    return [{'name': n,\n",
    "             'attrs': {\n",
    "                 'long_name': ln,\n",
    "                 'standard_name': sn\n",
    "             },\n",
    "             'dtype': dtype\n",
    "            } for n, ln, sn in zip(*(var_names, long_names, std_names))]"
   ]
  },
  {
   "cell_type": "markdown",
   "id": "78e15f07",
   "metadata": {},
   "source": [
    "For example, to retrieve the NetCDF nuclide names and associated attributes:"
   ]
  },
  {
   "cell_type": "code",
   "execution_count": null,
   "id": "8ce95f56",
   "metadata": {},
   "outputs": [],
   "source": [
    "templater = NCTemplater(cdl_fname='./files/cdl.toml',\n",
    "                        nuclide_vars_fname='./files/lut/dbo_nuclide.xlsx', \n",
    "                        tpl_fname='./files/nc/test.nc')\n",
    "\n",
    "\n",
    "expected = [\n",
    "  {'name': 'h3', 'attrs': {'long_name': 'Tritium 3', 'standard_name': '3H'}, 'dtype': 'f4'},\n",
    "  {'name': 'be7', 'attrs': {'long_name': 'Beryllium 7', 'standard_name': '7Be'}, 'dtype': 'f4'}\n",
    "  ]\n",
    "\n",
    "fc.test_eq(templater.nuclide_vars()[:2], expected)"
   ]
  },
  {
   "cell_type": "code",
   "execution_count": null,
   "id": "a4edd168",
   "metadata": {},
   "outputs": [],
   "source": [
    "#| export\n",
    "# @fc.patch\n",
    "# def get_analytes(self:NCTemplater,\n",
    "#                  col_varnames:str='nc_name', # Column name in the Excel lookup file containing the NetCDF variable names\n",
    "#                  col_stdnames:str='nusymbol', # Column name Excel lookup file containing the NetCDF standard names\n",
    "#                  dtype:str='f4', # Default type\n",
    "#                 ):\n",
    "#     \"Return the name of the variables analysed\"\n",
    "#     df = pd.read_excel(self.vars_fname, index_col=0)\n",
    "#     df = df[df.nuclide != 'NOT AVAILABLE']\n",
    "#     var_names = df[col_varnames].tolist()\n",
    "#     std_names = df[col_stdnames].tolist()\n",
    "#     long_names = df[['nuclide', 'massnb']].apply(lambda row: ' '.join(row.values.astype(str)), \n",
    "#                                                  axis=1).tolist()\n",
    "#     long_names = [name.capitalize() for name in long_names]\n",
    "\n",
    "#     return [{'name': n,\n",
    "#              'attrs': {\n",
    "#                  'long_name': ln,\n",
    "#                  'standard_name': sn\n",
    "#              },\n",
    "#              'dtype': dtype\n",
    "#             } for n, ln, sn in zip(*(var_names, long_names, std_names))]"
   ]
  },
  {
   "cell_type": "code",
   "execution_count": null,
   "id": "b8893b97",
   "metadata": {},
   "outputs": [],
   "source": [
    "#| export\n",
    "@patch\n",
    "def derive(\n",
    "    self:NCTemplater,\n",
    "    nuclide:dict, # Nuclide variable name and associated netcdf attributes\n",
    "    suffix:dict,  # Naming rules as described in CDL (e.g `_unc`)\n",
    ") -> dict: # Derived variable name and associated attributes\n",
    "    \"Derive NetCDF nuclide-dependent variable names & attributes as defined in CDL.\" \n",
    "    return {\n",
    "        'name': nuclide['name'] + suffix['name'],\n",
    "        'attrs': {key: nuclide['attrs'][key] + suffix['attrs'][key] for key in nuclide['attrs']},\n",
    "        'dtype': suffix['dtype']  # Using dtype from suffix\n",
    "        }"
   ]
  },
  {
   "cell_type": "markdown",
   "id": "cbad922e",
   "metadata": {},
   "source": [
    "For example, among others, the `cdl.toml` file defines the naming convention on variable names deriving from nuclides (e.g `h3_unc` for measurement uncertainty on the `h3` nuclide variable)."
   ]
  },
  {
   "cell_type": "code",
   "execution_count": null,
   "id": "34990b54",
   "metadata": {},
   "outputs": [],
   "source": [
    "templater = NCTemplater(cdl_fname='./files/cdl.toml',\n",
    "                        nuclide_vars_fname='./files/lut/dbo_nuclide.xlsx', \n",
    "                        tpl_fname='./files/nc/test.nc')"
   ]
  },
  {
   "cell_type": "markdown",
   "id": "35442905",
   "metadata": {},
   "source": [
    "Here is below the defined Tritium NetCDF variable as specified in the `.cdl` file:"
   ]
  },
  {
   "cell_type": "code",
   "execution_count": null,
   "id": "0814cde0",
   "metadata": {},
   "outputs": [
    {
     "data": {
      "text/plain": [
       "{'name': 'h3',\n",
       " 'attrs': {'long_name': 'Tritium 3', 'standard_name': '3H'},\n",
       " 'dtype': 'f4'}"
      ]
     },
     "execution_count": null,
     "metadata": {},
     "output_type": "execute_result"
    }
   ],
   "source": [
    "templater.nuclide_vars()[0]"
   ]
  },
  {
   "cell_type": "code",
   "execution_count": null,
   "id": "86e38709",
   "metadata": {},
   "outputs": [],
   "source": [
    "# Example of suffix defined in the .cdl file\n",
    "suffix = {\n",
    "    'name': '_unc',\n",
    "    'attrs': {\n",
    "        'long_name': ' uncertainty',\n",
    "        'standard_name': '_uncertainty'\n",
    "        },\n",
    "    'dtype': 'f4'\n",
    "    }\n",
    "\n",
    "# And what we expect\n",
    "expected = {\n",
    "    'name': 'h3_unc',\n",
    "    'attrs': {\n",
    "        'long_name': 'Tritium 3 uncertainty',\n",
    "        'standard_name': '3H_uncertainty'\n",
    "        },\n",
    "    'dtype': 'f4'\n",
    "    }\n",
    "\n",
    "fc.test_eq(templater.derive(templater.nuclide_vars()[0], suffix=suffix), expected)"
   ]
  },
  {
   "cell_type": "code",
   "execution_count": null,
   "id": "2298ccff",
   "metadata": {},
   "outputs": [
    {
     "data": {
      "text/plain": [
       "'_to_be_filled_in_'"
      ]
     },
     "execution_count": null,
     "metadata": {},
     "output_type": "execute_result"
    }
   ],
   "source": [
    "# templater.cdl['placeholder']"
   ]
  },
  {
   "cell_type": "code",
   "execution_count": null,
   "id": "8e952588",
   "metadata": {},
   "outputs": [],
   "source": [
    "# analyte = templater.nuclide_vars()[0]; analyte"
   ]
  },
  {
   "cell_type": "code",
   "execution_count": null,
   "id": "77441436",
   "metadata": {},
   "outputs": [],
   "source": [
    "# analyte['attrs']['units'] = cdl['placeholder']; analyte"
   ]
  },
  {
   "cell_type": "code",
   "execution_count": null,
   "id": "5816a9be",
   "metadata": {},
   "outputs": [],
   "source": [
    "# suffix = cdl['vars']['suffixes']['uncertainty']; suffix"
   ]
  },
  {
   "cell_type": "code",
   "execution_count": null,
   "id": "c2f6371c",
   "metadata": {},
   "outputs": [],
   "source": [
    "# expected = {\n",
    "#     'name': 'h3_unc',\n",
    "#     'attrs': {\n",
    "#         'long_name': 'Tritium 3 uncertainty',\n",
    "#         'standard_name': '3H_uncertainty',\n",
    "#         'units': '_to_be_filled_in_'},\n",
    "#     'dtype': 'f4'\n",
    "# }\n",
    "\n",
    "# test_eq(derive(analyte, suffix), expected)"
   ]
  },
  {
   "cell_type": "code",
   "execution_count": null,
   "id": "041907e1",
   "metadata": {},
   "outputs": [],
   "source": [
    "#| export\n",
    "# @fc.patch\n",
    "# def create_variable(self:NCTemplater, \n",
    "#                nc, # NetCDF file\n",
    "#                var:Dict, # Variable\n",
    "#                dtype:Union[str, None]=None, # Type of the variable\n",
    "#            ):\n",
    "#     \"\"\"Create NetCDF variable with proper types (standard and enums)\"\"\"\n",
    "#     name = var['name']\n",
    "#     attrs = var['attrs'].copy()\n",
    "#     nc_var = nc.createVariable(name, \n",
    "#                                self.enum_types.get(dtype) or dtype, \n",
    "#                                self.dim['name'])\n",
    "#     nc_var.setncatts(attrs)    \n",
    "#     return nc"
   ]
  },
  {
   "cell_type": "code",
   "execution_count": null,
   "id": "cdcf31df",
   "metadata": {},
   "outputs": [],
   "source": [
    "# Example of use\n",
    "# with Dataset('files/nc/test.nc', 'w', format='NETCDF4') as nc:\n",
    "#     nc.createDimension(templater.dim['name'], None)\n",
    "#     templater.create_variable(nc, cdl['vars']['defaults']['lon'])\n",
    "#     print(nc.variables['lon'])"
   ]
  },
  {
   "cell_type": "code",
   "execution_count": null,
   "id": "6beee8f5",
   "metadata": {},
   "outputs": [],
   "source": [
    "#| export\n",
    "# @fc.patch\n",
    "# def generate(self:NCTemplater,\n",
    "#              common_vars:list=['lon', 'lat', 'depth', 'time'], # Common variables\n",
    "#             ):\n",
    "#     \"Generate CDL\"\n",
    "#     fname = Path(self.dest_dir)/self.tpl_fname\n",
    "    \n",
    "#     common_vars = self.cdl['vars']['defaults'].keys()\n",
    "    \n",
    "#     with Dataset(fname, 'w', format='NETCDF4') as nc:\n",
    "#         # Create dataset attributes\n",
    "#         nc.setncatts(self.cdl['global_attrs']) \n",
    "        \n",
    "#         # Create Enum type    \n",
    "#         for name, enum in enum_type_lut.items(): \n",
    "#             self.enum_types[name] = nc.createEnumType(np.uint16, name, enum)\n",
    "        \n",
    "#         # Create shared `sample` dimension\n",
    "#         nc.createDimension(self.dim['name'], None)\n",
    "        \n",
    "#         # Create grps\n",
    "#         grp_names = [v['name'] for k, v in self.cdl['grps'].items()]\n",
    "#         for grp_name in grp_names:\n",
    "#             grp = nc.createGroup(grp_name)\n",
    "\n",
    "#             # Create 'dim' variable\n",
    "#             #self.create_variable(grp, self.dim, 'i4')\n",
    "#             self.create_variable(grp, self.dim)\n",
    "            \n",
    "#             # Create default variables\n",
    "#             for var in self.cdl['vars']['defaults'].values(): \n",
    "#                 self.create_variable(grp, var)\n",
    "\n",
    "#             # Create group-specific variables\n",
    "#             if name2grp(grp_name) in self.cdl['vars']:\n",
    "#                 for var in self.cdl['vars'][name2grp(grp_name)].values(): \n",
    "#                     self.create_variable(grp, var)\n",
    "            \n",
    "#             # Create analyte variables\n",
    "#             for analyte in self.get_analytes():\n",
    "#                 analyte['units'] = self.cdl['placeholder']\n",
    "#                 self.create_variable(grp, analyte)\n",
    "            \n",
    "#                 # Derived uncertainty and detection limit variables\n",
    "#                 for k, v in self.cdl['vars']['suffixes'].items():\n",
    "#                     self.create_variable(grp, derive(analyte, v))"
   ]
  },
  {
   "cell_type": "code",
   "execution_count": null,
   "id": "870329ec",
   "metadata": {},
   "outputs": [],
   "source": [
    "# So in summary, to produce a template MARIS NetCDF\n",
    "# templater = NCTemplater('test.nc',\n",
    "#                     vars_fname='./files/lut/dbo_nuclide.xlsx', \n",
    "#                     dest_dir='./files/nc',\n",
    "#                     cdl=cdl)\n",
    "\n",
    "# templater.generate()"
   ]
  },
  {
   "cell_type": "code",
   "execution_count": null,
   "id": "9e747820",
   "metadata": {},
   "outputs": [],
   "source": []
  }
 ],
 "metadata": {
  "kernelspec": {
   "display_name": "Python 3 (ipykernel)",
   "language": "python",
   "name": "python3"
  }
 },
 "nbformat": 4,
 "nbformat_minor": 5
}

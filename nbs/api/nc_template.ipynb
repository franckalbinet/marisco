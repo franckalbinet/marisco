{
 "cells": [
  {
   "cell_type": "code",
   "execution_count": null,
   "id": "102459f8",
   "metadata": {},
   "outputs": [],
   "source": [
    "#| default_exp nc_template"
   ]
  },
  {
   "attachments": {},
   "cell_type": "markdown",
   "id": "34f38641",
   "metadata": {},
   "source": [
    "# MARIS NetCDF Template\n",
    "> Creation of MARIS NetCDF template based on \"pseudo\" Common Data Language `.toml` config file."
   ]
  },
  {
   "cell_type": "code",
   "execution_count": null,
   "id": "0a9c953b",
   "metadata": {},
   "outputs": [
    {
     "name": "stdout",
     "output_type": "stream",
     "text": [
      "The autoreload extension is already loaded. To reload it, use:\n",
      "  %reload_ext autoreload\n"
     ]
    }
   ],
   "source": [
    "#| hide\n",
    "%load_ext autoreload\n",
    "%autoreload 2"
   ]
  },
  {
   "cell_type": "code",
   "execution_count": null,
   "id": "b4934cd2",
   "metadata": {},
   "outputs": [],
   "source": [
    "#| export\n",
    "from typing import Dict, Union, Callable\n",
    "from copy import deepcopy\n",
    "import re\n",
    "\n",
    "import netCDF4\n",
    "from netCDF4 import Dataset\n",
    "import numpy as np\n",
    "import pandas as pd\n",
    "from pathlib import Path\n",
    "# from fastcore.basics import patch, store_attr\n",
    "import fastcore.all as fc\n",
    "from fastcore.basics import patch\n",
    "\n",
    "from marisco.utils import read_toml\n",
    "from marisco.configs import name2grp, get_cfgs, get_enum_dicts"
   ]
  },
  {
   "cell_type": "markdown",
   "id": "880703af",
   "metadata": {},
   "source": [
    "## NetCDF template generator\n",
    "\n",
    "Generate a NetCDF4 template from the configurable [`CDL.toml`](https://github.com/franckalbinet/marisco/blob/main/nbs/files/cdl.toml) file, itself generated in [`/api/configs.ipynb`](https://github.com/franckalbinet/marisco/blob/main/nbs/api/configs.ipynb)."
   ]
  },
  {
   "cell_type": "code",
   "execution_count": null,
   "id": "881fa260",
   "metadata": {},
   "outputs": [],
   "source": [
    "#| export\n",
    "class NCTemplater:\n",
    "    \"MARIS NetCDF template generator.\"\n",
    "    def __init__(self, \n",
    "                 cdl_fname:Dict, # File name and path of the \"Pseudo CDL\" (`.toml`)\n",
    "                 nuclide_vars_fname:str, # File name and path of MARIS nuclide lookup table containing variable names\n",
    "                 tpl_fname:str, # File name and path of NetCDF4 file to be generated\n",
    "                 enum_dicts:Dict # MARIS NetCDF enumeration types\n",
    "                ):\n",
    "        fc.store_attr()\n",
    "        self.cdl = read_toml(cdl_fname)\n",
    "        self.dim = self.cdl['dim']\n",
    "        self.enum_types = {}"
   ]
  },
  {
   "cell_type": "markdown",
   "id": "94a91be6",
   "metadata": {},
   "source": [
    "For example, provided the configuration `cdl.toml` below, the templater gets access, among others, to its `dim` definiton section:"
   ]
  },
  {
   "cell_type": "code",
   "execution_count": null,
   "id": "7cc12972",
   "metadata": {},
   "outputs": [],
   "source": [
    "templater = NCTemplater(cdl_fname='./files/cdl.toml',\n",
    "                        nuclide_vars_fname='./files/lut/dbo_nuclide.xlsx', \n",
    "                        tpl_fname='./files/nc/test.nc',\n",
    "                        enum_dicts=get_enum_dicts())\n",
    "\n",
    "expected = {'name': 'sample', \n",
    "            'dtype': 'u8', \n",
    "            'attrs': {'long_name': 'Sample ID of measurement'}\n",
    "            }\n",
    "\n",
    "fc.test_eq(templater.dim, expected)"
   ]
  },
  {
   "cell_type": "code",
   "execution_count": null,
   "id": "ae5c32f1",
   "metadata": {},
   "outputs": [],
   "source": [
    "#| export\n",
    "@patch\n",
    "def nuclide_vars(\n",
    "    self:NCTemplater,\n",
    "    col_varnames:str='nc_name', # Column name in the Excel lookup file containing the NetCDF variable names\n",
    "    col_stdnames:str='nusymbol', # Column name Excel lookup file containing the NetCDF standard names\n",
    "    dtype:str='f4', # Default data type\n",
    "    ) -> list[dict]: # List of nuclide variables (including their names and attributes)\n",
    "    \"Return the name of the radionuclide variables analysed.\"\n",
    "    df = pd.read_excel(self.nuclide_vars_fname, index_col=0)\n",
    "    df = df[df.nuclide != 'NOT AVAILABLE']\n",
    "    return [\n",
    "        {\n",
    "            'name': n,\n",
    "            'dtype': dtype,\n",
    "            'attrs': {\n",
    "                'long_name': f\"{nuclide.capitalize()} {massnb}\",\n",
    "                'standard_name': sn,\n",
    "            }\n",
    "        }\n",
    "        for n, nuclide, massnb, sn in zip(\n",
    "            df[col_varnames],\n",
    "            df['nuclide'].str.capitalize(),\n",
    "            df['massnb'].astype(str),\n",
    "            df[col_stdnames],\n",
    "        )\n",
    "    ]"
   ]
  },
  {
   "cell_type": "markdown",
   "id": "78e15f07",
   "metadata": {},
   "source": [
    "For example, to retrieve the NetCDF nuclide names and associated attributes:"
   ]
  },
  {
   "cell_type": "code",
   "execution_count": null,
   "id": "8ce95f56",
   "metadata": {},
   "outputs": [],
   "source": [
    "templater = NCTemplater(cdl_fname='./files/cdl.toml',\n",
    "                        nuclide_vars_fname='./files/lut/dbo_nuclide.xlsx', \n",
    "                        tpl_fname='./files/nc/test.nc',\n",
    "                        enum_dicts=get_enum_dicts())\n",
    "expected = [\n",
    "  {'name': 'h3', 'attrs': {'long_name': 'Tritium 3', 'standard_name': '3H'}, 'dtype': 'f4'},\n",
    "  {'name': 'be7', 'attrs': {'long_name': 'Beryllium 7', 'standard_name': '7Be'}, 'dtype': 'f4'}\n",
    "  ]\n",
    "\n",
    "fc.test_eq(templater.nuclide_vars()[:2], expected)"
   ]
  },
  {
   "cell_type": "code",
   "execution_count": null,
   "id": "b8893b97",
   "metadata": {},
   "outputs": [],
   "source": [
    "#| export\n",
    "@patch\n",
    "def derive(\n",
    "    self:NCTemplater,\n",
    "    nuclide:dict, # Nuclide variable name and associated netcdf attributes\n",
    "    suffix:dict,  # Naming rules as described in CDL (e.g `_unc`)\n",
    ") -> dict: # Derived variable name and associated attributes\n",
    "    \"Derive NetCDF nuclide-dependent variable names & attributes as defined in CDL.\" \n",
    "    return {\n",
    "        'name': nuclide['name'] + suffix['name'],\n",
    "        'dtype': suffix['dtype'],  # Using dtype from suffix\n",
    "        'attrs': {key: nuclide['attrs'][key] + suffix['attrs'][key] for key in nuclide['attrs']}\n",
    "        }"
   ]
  },
  {
   "cell_type": "markdown",
   "id": "cbad922e",
   "metadata": {},
   "source": [
    "For example, among others, the `cdl.toml` file defines the naming convention on variable names deriving from nuclides (e.g `h3_unc` for measurement uncertainty on the `h3` nuclide variable)."
   ]
  },
  {
   "cell_type": "code",
   "execution_count": null,
   "id": "34990b54",
   "metadata": {},
   "outputs": [],
   "source": [
    "templater = NCTemplater(cdl_fname='./files/cdl.toml',\n",
    "                        nuclide_vars_fname='./files/lut/dbo_nuclide.xlsx', \n",
    "                        tpl_fname='./files/nc/test.nc',\n",
    "                        enum_dicts=get_enum_dicts())"
   ]
  },
  {
   "cell_type": "markdown",
   "id": "35442905",
   "metadata": {},
   "source": [
    "Here is below the defined Tritium NetCDF variable as specified in the `.cdl` file:"
   ]
  },
  {
   "cell_type": "code",
   "execution_count": null,
   "id": "0814cde0",
   "metadata": {},
   "outputs": [
    {
     "data": {
      "text/plain": [
       "{'name': 'h3',\n",
       " 'dtype': 'f4',\n",
       " 'attrs': {'long_name': 'Tritium 3', 'standard_name': '3H'}}"
      ]
     },
     "execution_count": null,
     "metadata": {},
     "output_type": "execute_result"
    }
   ],
   "source": [
    "templater.nuclide_vars()[0]"
   ]
  },
  {
   "cell_type": "code",
   "execution_count": null,
   "id": "86e38709",
   "metadata": {},
   "outputs": [],
   "source": [
    "# Example of suffix defined in the .cdl file\n",
    "suffix = {\n",
    "    'name': '_unc',\n",
    "    'attrs': {\n",
    "        'long_name': ' uncertainty',\n",
    "        'standard_name': '_uncertainty'\n",
    "        },\n",
    "    'dtype': 'f4'\n",
    "    }\n",
    "\n",
    "# And what we expect\n",
    "expected = {\n",
    "    'name': 'h3_unc',\n",
    "    'attrs': {\n",
    "        'long_name': 'Tritium 3 uncertainty',\n",
    "        'standard_name': '3H_uncertainty'\n",
    "        },\n",
    "    'dtype': 'f4'\n",
    "    }\n",
    "\n",
    "fc.test_eq(templater.derive(templater.nuclide_vars()[0], suffix=suffix), expected)"
   ]
  },
  {
   "cell_type": "code",
   "execution_count": null,
   "id": "1d3f2b03",
   "metadata": {},
   "outputs": [],
   "source": [
    "#| export\n",
    "@fc.patch\n",
    "def create_enum_types(self:NCTemplater):\n",
    "    \"Create enumeration types\"\n",
    "    for name, enum in self.enum_dicts.items(): \n",
    "        self.enum_types[name] = self.nc.createEnumType(np.uint16, name, enum)"
   ]
  },
  {
   "cell_type": "code",
   "execution_count": null,
   "id": "685705d3",
   "metadata": {},
   "outputs": [],
   "source": [
    "#| export\n",
    "@fc.patch\n",
    "def create_groups(self:NCTemplater):\n",
    "    \"Create NetCDF groups\"\n",
    "    grp_names = [v['name'] for k, v in self.cdl['grps'].items()]\n",
    "    for grp_name in grp_names:\n",
    "        grp = self.nc.createGroup(grp_name)\n",
    "        self.create_variables(grp)"
   ]
  },
  {
   "cell_type": "code",
   "execution_count": null,
   "id": "5aaa4065",
   "metadata": {},
   "outputs": [],
   "source": [
    "#| export\n",
    "@fc.patch\n",
    "def create_variables(self:NCTemplater, \n",
    "                     grp:netCDF4.Group, # NetCDF group\n",
    "                     ):\n",
    "        \"Create variables\"\n",
    "        self.create_variable(grp, self.dim) # Dimension variable\n",
    "        self.create_default_variables(grp)\n",
    "        self.create_group_specific_variables(grp)\n",
    "        self.create_analyte_variables(grp)"
   ]
  },
  {
   "cell_type": "code",
   "execution_count": null,
   "id": "ea64ba8c",
   "metadata": {},
   "outputs": [],
   "source": [
    "#| export\n",
    "@fc.patch\n",
    "def create_default_variables(self:NCTemplater, \n",
    "                             grp:netCDF4.Group, # NetCDF group\n",
    "                             ):\n",
    "        \"Create Default variables\"\n",
    "        vars = self.cdl['vars']['defaults'].values()\n",
    "        for var in vars: self.create_variable(grp, var)"
   ]
  },
  {
   "cell_type": "code",
   "execution_count": null,
   "id": "31d558b5",
   "metadata": {},
   "outputs": [],
   "source": [
    "#| export\n",
    "@fc.patch\n",
    "def create_group_specific_variables(self:NCTemplater, \n",
    "                             grp:netCDF4.Group, # NetCDF group\n",
    "                             ):\n",
    "        \"Create group specific variables\"\n",
    "        cfg = self.cdl['vars']\n",
    "        for var in cfg.get(name2grp(grp.name), {}).values(): \n",
    "            self.create_variable(grp, var)"
   ]
  },
  {
   "cell_type": "code",
   "execution_count": null,
   "id": "efbe40bc",
   "metadata": {},
   "outputs": [],
   "source": [
    " #| export\n",
    "@fc.patch\n",
    "def create_analyte_variables(self:NCTemplater, \n",
    "                             grp:netCDF4.Group, # NetCDF group\n",
    "                             ):\n",
    "    \"Create analyte variables and dependent one as uncertainty, detection limit, ...\"    \n",
    "    for var in self.nuclide_vars():\n",
    "        self.create_variable(grp, var)\n",
    "        for v in self.cdl['vars']['suffixes'].values(): \n",
    "            self.create_variable(grp, self.derive(var, v))"
   ]
  },
  {
   "cell_type": "code",
   "execution_count": null,
   "id": "041907e1",
   "metadata": {},
   "outputs": [],
   "source": [
    "#| export\n",
    "@fc.patch\n",
    "def create_variable(self:NCTemplater, \n",
    "            grp:netCDF4.Group, # NetCDF group\n",
    "            var:Dict, # Variable specificiation dict with `name`, `dtype` and `attrs` keys\n",
    "           ):\n",
    "    \"Create NetCDF variable with proper types (standard and enums)\"\n",
    "    name, dtype, attrs = var.values()\n",
    "    nc_var = grp.createVariable(name, \n",
    "                                self.enum_types.get(dtype) or dtype, \n",
    "                                self.dim['name'])\n",
    "    nc_var.setncatts(attrs) "
   ]
  },
  {
   "cell_type": "code",
   "execution_count": null,
   "id": "6beee8f5",
   "metadata": {},
   "outputs": [],
   "source": [
    "#| export\n",
    "@fc.patch\n",
    "def generate(self:NCTemplater):\n",
    "    \"Generate CDL\"\n",
    "    with Dataset(self.tpl_fname, 'w', format='NETCDF4') as self.nc:\n",
    "        self.nc.setncatts(self.cdl['global_attrs']) \n",
    "        self.create_enum_types()\n",
    "        self.nc.createDimension(self.dim['name'], None) \n",
    "        self.create_groups()"
   ]
  },
  {
   "cell_type": "markdown",
   "id": "04480284",
   "metadata": {},
   "source": [
    "So in summary, to produce a template MARIS NetCDF:"
   ]
  },
  {
   "cell_type": "code",
   "execution_count": null,
   "id": "f40684e0",
   "metadata": {},
   "outputs": [],
   "source": [
    "cdl_fname_test = './files/cdl.toml'\n",
    "nuclide_vars_fname_test = './files/lut/dbo_nuclide.xlsx'\n",
    "tpl_fname_test = './files/nc/test.nc'\n",
    "\n",
    "templater = NCTemplater(cdl_fname=cdl_fname_test,\n",
    "                        nuclide_vars_fname=nuclide_vars_fname_test, \n",
    "                        tpl_fname=tpl_fname_test,\n",
    "                        enum_dicts=get_enum_dicts(lut_src_dir='./files/lut', cdl_name=cdl_fname_test))\n",
    "\n",
    "templater.generate()"
   ]
  }
 ],
 "metadata": {
  "kernelspec": {
   "display_name": "Python 3 (ipykernel)",
   "language": "python",
   "name": "python3"
  }
 },
 "nbformat": 4,
 "nbformat_minor": 5
}

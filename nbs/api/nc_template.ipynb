{
 "cells": [
  {
   "cell_type": "code",
   "execution_count": null,
   "id": "102459f8",
   "metadata": {},
   "outputs": [],
   "source": [
    "#| default_exp nc_template"
   ]
  },
  {
   "attachments": {},
   "cell_type": "markdown",
   "id": "34f38641",
   "metadata": {},
   "source": [
    "# MARIS NetCDF Template\n",
    "> Creation of MARIS NetCDF template based on \"pseudo\" Common Data Language `.toml` config file"
   ]
  },
  {
   "cell_type": "code",
   "execution_count": null,
   "id": "0a9c953b",
   "metadata": {},
   "outputs": [
    {
     "name": "stdout",
     "output_type": "stream",
     "text": [
      "The autoreload extension is already loaded. To reload it, use:\n",
      "  %reload_ext autoreload\n"
     ]
    }
   ],
   "source": [
    "#| hide\n",
    "%load_ext autoreload\n",
    "%autoreload 2"
   ]
  },
  {
   "cell_type": "code",
   "execution_count": null,
   "id": "b4934cd2",
   "metadata": {},
   "outputs": [],
   "source": [
    "#| export\n",
    "from netCDF4 import Dataset\n",
    "import numpy as np\n",
    "import pandas as pd\n",
    "from pathlib import Path\n",
    "from fastcore.basics import patch, store_attr\n",
    "from fastcore.test import *\n",
    "from typing import Dict\n",
    "from copy import deepcopy\n",
    "\n",
    "from marisco.utils import read_toml\n",
    "from marisco.configs import BASE_PATH, name2grp"
   ]
  },
  {
   "cell_type": "code",
   "execution_count": null,
   "id": "6f192ce4",
   "metadata": {},
   "outputs": [],
   "source": [
    "#| export\n",
    "# from each lut provided, create netcdf enumtype\n",
    "#enum_dict = {'Altocumulus': 7, 'Missing': 255,\n",
    "#             'Stratus': 2, 'Clear': 0,\n",
    "#             'Nimbostratus': 6, 'Cumulus': 4, 'Altostratus': 5, \n",
    "#             'Cumulonimbus': 1, 'Stratocumulus': 3}\n",
    "#df = pd.read_excel(self.vars_fname, index_col=0)"
   ]
  },
  {
   "cell_type": "code",
   "execution_count": null,
   "id": "72f655c3",
   "metadata": {},
   "outputs": [
    {
     "data": {
      "text/html": [
       "<div>\n",
       "<style scoped>\n",
       "    .dataframe tbody tr th:only-of-type {\n",
       "        vertical-align: middle;\n",
       "    }\n",
       "\n",
       "    .dataframe tbody tr th {\n",
       "        vertical-align: top;\n",
       "    }\n",
       "\n",
       "    .dataframe thead th {\n",
       "        text-align: right;\n",
       "    }\n",
       "</style>\n",
       "<table border=\"1\" class=\"dataframe\">\n",
       "  <thead>\n",
       "    <tr style=\"text-align: right;\">\n",
       "      <th></th>\n",
       "      <th>biogroup</th>\n",
       "      <th>helcom_id</th>\n",
       "      <th>helcom_grp</th>\n",
       "    </tr>\n",
       "    <tr>\n",
       "      <th>biogroup_id</th>\n",
       "      <th></th>\n",
       "      <th></th>\n",
       "      <th></th>\n",
       "    </tr>\n",
       "  </thead>\n",
       "  <tbody>\n",
       "    <tr>\n",
       "      <th>0</th>\n",
       "      <td>(Not available)</td>\n",
       "      <td>NaN</td>\n",
       "      <td>NaN</td>\n",
       "    </tr>\n",
       "    <tr>\n",
       "      <th>1</th>\n",
       "      <td>Birds</td>\n",
       "      <td>NaN</td>\n",
       "      <td>NaN</td>\n",
       "    </tr>\n",
       "    <tr>\n",
       "      <th>2</th>\n",
       "      <td>Crustaceans</td>\n",
       "      <td>B</td>\n",
       "      <td>BENTHIC ANIMAL</td>\n",
       "    </tr>\n",
       "    <tr>\n",
       "      <th>3</th>\n",
       "      <td>Echinoderms</td>\n",
       "      <td>B</td>\n",
       "      <td>BENTHIC ANIMAL</td>\n",
       "    </tr>\n",
       "    <tr>\n",
       "      <th>4</th>\n",
       "      <td>Fish</td>\n",
       "      <td>F</td>\n",
       "      <td>FISH</td>\n",
       "    </tr>\n",
       "  </tbody>\n",
       "</table>\n",
       "</div>"
      ],
      "text/plain": [
       "                    biogroup helcom_id      helcom_grp\n",
       "biogroup_id                                           \n",
       "0            (Not available)       NaN             NaN\n",
       "1                      Birds       NaN             NaN\n",
       "2                Crustaceans         B  BENTHIC ANIMAL\n",
       "3                Echinoderms         B  BENTHIC ANIMAL\n",
       "4                       Fish         F            FISH"
      ]
     },
     "execution_count": null,
     "metadata": {},
     "output_type": "execute_result"
    }
   ],
   "source": [
    "df = pd.read_excel('./files/lut/dbo_biogroup.xlsx', index_col=0); df.head()"
   ]
  },
  {
   "cell_type": "code",
   "execution_count": null,
   "id": "20cf7a08",
   "metadata": {},
   "outputs": [],
   "source": [
    "#enum_dict = {'Altocumulus': 7, 'Missing': 255,\n",
    "#             'Stratus': 2, 'Clear': 0,\n",
    "#             'Nimbostratus': 6, 'Cumulus': 4, 'Altostratus': 5,\n",
    "#             'Cumulonimbus': 1, 'Stratocumulus': 3}"
   ]
  },
  {
   "cell_type": "code",
   "execution_count": null,
   "id": "77cf38f5",
   "metadata": {},
   "outputs": [
    {
     "data": {
      "text/plain": [
       "{'(Not available)': 0,\n",
       " 'Birds': 1,\n",
       " 'Crustaceans': 2,\n",
       " 'Echinoderms': 3,\n",
       " 'Fish': 4,\n",
       " 'Mammals': 5,\n",
       " 'Molluscs': 6,\n",
       " 'Others': 7,\n",
       " 'Plankton': 8,\n",
       " 'Polychaete worms': 9,\n",
       " 'Reptile': 10,\n",
       " 'Seaweeds and plants': 11,\n",
       " 'Cephalopods': 12,\n",
       " 'Gastropods': 13,\n",
       " 'Bivalves': 14}"
      ]
     },
     "execution_count": null,
     "metadata": {},
     "output_type": "execute_result"
    }
   ],
   "source": [
    "#enum_bio_group = {b: int(idx) for idx, b in df['biogroup'].items()}; enum_bio_group"
   ]
  },
  {
   "cell_type": "code",
   "execution_count": null,
   "id": "900083a0",
   "metadata": {},
   "outputs": [],
   "source": [
    "#enum_bio_group = {'Altocumulus': 7, 'Missing': 255,\n",
    "#                  'Stratus': 2, 'Clear': 0,\n",
    "#                  'Nimbostratus': 6, 'Cumulus': 4, 'Altostratus': 5,\n",
    "#                  'Cumulonimbus': 1, 'Stratocumulus': 3}"
   ]
  },
  {
   "cell_type": "code",
   "execution_count": null,
   "id": "9269520f",
   "metadata": {},
   "outputs": [],
   "source": [
    "#| export\n",
    "class NCTemplate:\n",
    "    \"MARIS NetCDF templater\"\n",
    "    def __init__(self, \n",
    "                 tpl_fname:str, # CDL file name\n",
    "                 vars_fname:str, # File name and path of MARIS nuclide look up table\n",
    "                 dest_dir:str, # Destination directory for generated NetCDF template files\n",
    "                 cdl:Dict, # Pseudo CDL (`.toml`)\n",
    "                ):\n",
    "        store_attr()\n",
    "        self.dim = self.cdl['dim']"
   ]
  },
  {
   "cell_type": "code",
   "execution_count": null,
   "id": "7cc12972",
   "metadata": {},
   "outputs": [],
   "source": [
    "cdl = read_toml(Path('./files') / 'cdl.toml')\n",
    "nc_tpl = NCTemplate('test.nc',\n",
    "                     vars_fname='./files/lut/dbo_nuclide.xlsx', \n",
    "                     dest_dir='./files/nc',\n",
    "                     cdl=cdl)"
   ]
  },
  {
   "cell_type": "code",
   "execution_count": null,
   "id": "cf146594",
   "metadata": {},
   "outputs": [],
   "source": [
    "expected = {'name': 'sample', \n",
    "            'dtype': 'i4', \n",
    "            'attrs': {'long_name': 'Sample ID of measurement'}\n",
    "           }\n",
    "test_eq(nc_tpl.dim, expected)"
   ]
  },
  {
   "cell_type": "code",
   "execution_count": null,
   "id": "a4edd168",
   "metadata": {},
   "outputs": [],
   "source": [
    "#| export\n",
    "@patch\n",
    "def get_analytes(self:NCTemplate,\n",
    "                 col_varnames:str='nc_name', # Column name containing the NetCDF variable names\n",
    "                 col_stdnames:str='nusymbol', # Column name containing the NetCDF standard names\n",
    "                 dtype:str='f4', # Default type\n",
    "                ):\n",
    "    \"Return the name of the variables analysed\"\n",
    "    df = pd.read_excel(self.vars_fname, index_col=0)\n",
    "    df = df[df.nuclide != 'NOT AVAILABLE']\n",
    "    var_names = df[col_varnames].tolist()\n",
    "    std_names = df[col_stdnames].tolist()\n",
    "    long_names = df[['nuclide', 'massnb']].apply(lambda row: ' '.join(row.values.astype(str)), \n",
    "                                                 axis=1).tolist()\n",
    "    long_names = [name.capitalize() for name in long_names]\n",
    "\n",
    "    return [{'name': n,\n",
    "             'attrs': {\n",
    "                 'long_name': ln,\n",
    "                 'standard_name': sn\n",
    "             },\n",
    "             'dtype': dtype\n",
    "            } for n, ln, sn in zip(*(var_names, long_names, std_names))]"
   ]
  },
  {
   "cell_type": "code",
   "execution_count": null,
   "id": "a38df0a7",
   "metadata": {},
   "outputs": [
    {
     "data": {
      "text/plain": [
       "[{'name': 'h3',\n",
       "  'attrs': {'long_name': 'Tritium 3', 'standard_name': '3H'},\n",
       "  'dtype': 'f4'},\n",
       " {'name': 'be7',\n",
       "  'attrs': {'long_name': 'Beryllium 7', 'standard_name': '7Be'},\n",
       "  'dtype': 'f4'}]"
      ]
     },
     "execution_count": null,
     "metadata": {},
     "output_type": "execute_result"
    }
   ],
   "source": [
    "nc_tpl.get_analytes()[:2]"
   ]
  },
  {
   "cell_type": "code",
   "execution_count": null,
   "id": "ca9adccb",
   "metadata": {},
   "outputs": [],
   "source": [
    "from copy import deepcopy"
   ]
  },
  {
   "cell_type": "code",
   "execution_count": null,
   "id": "b8893b97",
   "metadata": {},
   "outputs": [],
   "source": [
    "#| export\n",
    "def derive(\n",
    "    analyte:dict, # Analyte/nuclide/var name and associated netcdf attributes\n",
    "    suffix:dict,  # Naming rules as described in CDL\n",
    "):\n",
    "    \"Derive NetCDf var name & attributes as defined in CDL\" \n",
    "    # TBD: refactor using recursion?\n",
    "    derived = deepcopy(analyte)\n",
    "    for k1, v1 in suffix.items():\n",
    "        if k1 == 'attrs':\n",
    "            for k2, v2 in suffix['attrs'].items():\n",
    "                derived['attrs'][k2] += v2\n",
    "        else:\n",
    "            derived[k1] += v1\n",
    "    return derived"
   ]
  },
  {
   "attachments": {},
   "cell_type": "markdown",
   "id": "f5d208f3",
   "metadata": {},
   "source": [
    "Example:"
   ]
  },
  {
   "cell_type": "code",
   "execution_count": null,
   "id": "8e952588",
   "metadata": {},
   "outputs": [
    {
     "data": {
      "text/plain": [
       "{'name': 'h3',\n",
       " 'attrs': {'long_name': 'Tritium 3', 'standard_name': '3H'},\n",
       " 'dtype': 'f4'}"
      ]
     },
     "execution_count": null,
     "metadata": {},
     "output_type": "execute_result"
    }
   ],
   "source": [
    "analyte = nc_tpl.get_analytes()[0]; analyte"
   ]
  },
  {
   "cell_type": "code",
   "execution_count": null,
   "id": "77441436",
   "metadata": {},
   "outputs": [
    {
     "data": {
      "text/plain": [
       "{'name': 'h3',\n",
       " 'attrs': {'long_name': 'Tritium 3',\n",
       "  'standard_name': '3H',\n",
       "  'units': '_to_be_filled_in_'},\n",
       " 'dtype': 'f4'}"
      ]
     },
     "execution_count": null,
     "metadata": {},
     "output_type": "execute_result"
    }
   ],
   "source": [
    "analyte['attrs']['units'] = cdl['placeholder']; analyte"
   ]
  },
  {
   "cell_type": "code",
   "execution_count": null,
   "id": "5816a9be",
   "metadata": {},
   "outputs": [
    {
     "data": {
      "text/plain": [
       "{'name': '_unc',\n",
       " 'attrs': {'long_name': ' uncertainty', 'standard_name': '_uncertainty'}}"
      ]
     },
     "execution_count": null,
     "metadata": {},
     "output_type": "execute_result"
    }
   ],
   "source": [
    "suffix = cdl['vars']['suffixes']['uncertainty']; suffix"
   ]
  },
  {
   "cell_type": "code",
   "execution_count": null,
   "id": "c2f6371c",
   "metadata": {},
   "outputs": [],
   "source": [
    "expected = {\n",
    "    'name': 'h3_unc',\n",
    "    'attrs': {\n",
    "        'long_name': 'Tritium 3 uncertainty',\n",
    "        'standard_name': '3H_uncertainty',\n",
    "        'units': '_to_be_filled_in_'},\n",
    "    'dtype': 'f4'\n",
    "}\n",
    "\n",
    "test_eq(derive(analyte, suffix), expected)"
   ]
  },
  {
   "cell_type": "code",
   "execution_count": null,
   "id": "041907e1",
   "metadata": {},
   "outputs": [],
   "source": [
    "#| export\n",
    "@patch\n",
    "def create_variable(self:NCTemplate, \n",
    "               nc, # NetCDF file\n",
    "               var:Dict, # Variable\n",
    "               dtype:str|None=None, # Type of the variable\n",
    "           ):\n",
    "    name = var['name']\n",
    "    dtype = None or var['dtype']\n",
    "    attrs = var['attrs'].copy()\n",
    "    nc_var = nc.createVariable(name, dtype, self.dim['name'])\n",
    "    nc_var.setncatts(attrs)    \n",
    "    return nc"
   ]
  },
  {
   "cell_type": "code",
   "execution_count": null,
   "id": "cdcf31df",
   "metadata": {},
   "outputs": [
    {
     "name": "stdout",
     "output_type": "stream",
     "text": [
      "<class 'netCDF4._netCDF4.Variable'>\n",
      "float32 lon(sample)\n",
      "    long_name: Measurement longitude\n",
      "    standard_name: longitude\n",
      "    units: degrees_north\n",
      "    axis: Y\n",
      "    _CoordinateAxisType: Lon\n",
      "unlimited dimensions: sample\n",
      "current shape = (0,)\n",
      "filling on, default _FillValue of 9.969209968386869e+36 used\n"
     ]
    }
   ],
   "source": [
    "# Example of use\n",
    "with Dataset('files/nc/test.nc', 'w', format='NETCDF4') as nc:\n",
    "    nc.createDimension(nc_tpl.dim['name'], None)\n",
    "    nc_tpl.create_variable(nc, cdl['vars']['defaults']['lon'])\n",
    "    print(nc.variables['lon'])"
   ]
  },
  {
   "cell_type": "code",
   "execution_count": null,
   "id": "6beee8f5",
   "metadata": {},
   "outputs": [],
   "source": [
    "#| export\n",
    "@patch\n",
    "def generate(self:NCTemplate,\n",
    "             common_vars:list=['lon', 'lat', 'depth', 'time'], # Common variables\n",
    "            ):\n",
    "    \"Generate CDL\"\n",
    "    fname = Path(self.dest_dir)/self.tpl_fname\n",
    "    \n",
    "    common_vars = self.cdl['vars']['defaults'].keys()\n",
    "    \n",
    "    with Dataset(fname, 'w', format='NETCDF4') as nc:\n",
    "        # Create dataset attributes\n",
    "        nc.setncatts(self.cdl['global_attrs']) \n",
    "        \n",
    "        # Create Enum type\n",
    "        #biogroup_type = nc.createEnumType(np.uint8, 'biogroup_t', enum_bio_group)\n",
    "        \n",
    "        # Create shared `sample` dimension\n",
    "        nc.createDimension(self.dim['name'], None)\n",
    "        \n",
    "        # Create grps\n",
    "        grp_names = [v['name'] for k, v in self.cdl['grps'].items()]\n",
    "        for grp_name in grp_names:\n",
    "            grp = nc.createGroup(grp_name)\n",
    "\n",
    "            # Create 'dim' variable\n",
    "            #self.create_variable(grp, self.dim, 'i4')\n",
    "            self.create_variable(grp, self.dim)\n",
    "            \n",
    "            # Create default variables\n",
    "            for var in self.cdl['vars']['defaults'].values(): \n",
    "                self.create_variable(grp, var)\n",
    "\n",
    "            # Create group-specific variables\n",
    "            if name2grp(grp_name) in self.cdl['vars']:\n",
    "                for var in self.cdl['vars'][name2grp(grp_name)].values(): \n",
    "                    self.create_variable(grp, var)\n",
    "            \n",
    "            # Create analyte variables\n",
    "            for analyte in self.get_analytes():\n",
    "                analyte['units'] = self.cdl['placeholder']\n",
    "                self.create_variable(grp, analyte)\n",
    "            \n",
    "                # Derived uncertainty and detection limit variables\n",
    "                for k, v in self.cdl['vars']['suffixes'].items():\n",
    "                    self.create_variable(grp, derive(analyte, v))"
   ]
  },
  {
   "cell_type": "code",
   "execution_count": null,
   "id": "870329ec",
   "metadata": {},
   "outputs": [],
   "source": [
    "# So in summary, to produce a template MARIS NetCDF\n",
    "nc_tpl = NCTemplate('test.nc',\n",
    "               vars_fname='./files/lut/dbo_nuclide.xlsx', \n",
    "               dest_dir='./files/nc',\n",
    "               cdl=cdl)\n",
    "\n",
    "nc_tpl.generate()"
   ]
  }
 ],
 "metadata": {
  "kernelspec": {
   "display_name": "Python 3 (ipykernel)",
   "language": "python",
   "name": "python3"
  }
 },
 "nbformat": 4,
 "nbformat_minor": 5
}

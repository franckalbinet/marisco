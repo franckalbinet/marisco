{
 "cells": [
  {
   "cell_type": "code",
   "execution_count": null,
   "id": "102459f8",
   "metadata": {},
   "outputs": [],
   "source": [
    "#| default_exp nc_template"
   ]
  },
  {
   "cell_type": "markdown",
   "id": "34f38641",
   "metadata": {},
   "source": [
    "# MARIS NetCDF Template\n",
    "> Creation of MARIS NetCDF template based on \"pseudo\" Common Data Language `.toml` config file"
   ]
  },
  {
   "cell_type": "code",
   "execution_count": null,
   "id": "b4934cd2",
   "metadata": {},
   "outputs": [],
   "source": [
    "#| export\n",
    "from netCDF4 import Dataset\n",
    "import pandas as pd\n",
    "from pathlib import Path\n",
    "from fastcore.basics import patch, store_attr\n",
    "from fastcore.test import *\n",
    "from typing import Dict\n",
    "\n",
    "from marisco.utils import read_toml\n",
    "from marisco.configs import BASE_PATH"
   ]
  },
  {
   "cell_type": "code",
   "execution_count": null,
   "id": "9269520f",
   "metadata": {},
   "outputs": [],
   "source": [
    "#| export\n",
    "class NCTemplate:\n",
    "    \"MARIS NetCDF templater\"\n",
    "    def __init__(self, \n",
    "                 tpl_fname:str, # CDL file name\n",
    "                 vars_fname:str, # File name and path of MARIS nuclide look up table\n",
    "                 dest_dir:str, # Destination directory for generated NetCDF template files\n",
    "                 cdl:Dict, # Pseudo CDL (`.toml`)\n",
    "                ):\n",
    "        store_attr()\n",
    "        self.dim = self.cdl['dim']"
   ]
  },
  {
   "cell_type": "code",
   "execution_count": null,
   "id": "7cc12972",
   "metadata": {},
   "outputs": [],
   "source": [
    "cdl = read_toml(Path('./files') / 'cdl.toml')\n",
    "nc_tpl = NCTemplate('test.nc',\n",
    "                     vars_fname='./files/lut/dbo_nuclide.xlsx', \n",
    "                     dest_dir='./files/nc',\n",
    "                     cdl=cdl)"
   ]
  },
  {
   "cell_type": "code",
   "execution_count": null,
   "id": "cf146594",
   "metadata": {},
   "outputs": [],
   "source": [
    "expected = {'name': 'sample', 'long_name': 'Sample ID of measurement'}\n",
    "test_eq(nc_tpl.dim, expected)"
   ]
  },
  {
   "cell_type": "code",
   "execution_count": null,
   "id": "a4edd168",
   "metadata": {},
   "outputs": [],
   "source": [
    "#| export\n",
    "@patch\n",
    "def get_analytes(self:NCTemplate,\n",
    "                 col_varnames:str='nc_name', # Column name containing the NetCDF variable names\n",
    "                 col_stdnames:str='nusymbol', # Column name containing the NetCDF standard names\n",
    "                ):\n",
    "    \"Return the name of the variables analysed\"\n",
    "    df = pd.read_excel(self.vars_fname, index_col=0)\n",
    "    df = df[df.nuclide != 'NOT AVAILABLE']\n",
    "    var_names = df[col_varnames].tolist()\n",
    "    std_names = df[col_stdnames].tolist()\n",
    "    long_names = df[['nuclide', 'massnb']].apply(lambda row: ' '.join(row.values.astype(str)), \n",
    "                                                 axis=1).tolist()\n",
    "    long_names = [name.capitalize() for name in long_names]\n",
    "\n",
    "    return [{'name': n, \n",
    "             'long_name': ln,\n",
    "             'standard_name': sn\n",
    "            } for n, ln, sn in zip(*(var_names, long_names, std_names))]"
   ]
  },
  {
   "cell_type": "code",
   "execution_count": null,
   "id": "a38df0a7",
   "metadata": {},
   "outputs": [
    {
     "data": {
      "text/plain": [
       "[{'name': 'h3', 'long_name': 'Tritium 3', 'standard_name': '3H'},\n",
       " {'name': 'be7', 'long_name': 'Beryllium 7', 'standard_name': '7Be'},\n",
       " {'name': 'c14', 'long_name': 'Carbon 14', 'standard_name': '14C'},\n",
       " {'name': 'k40', 'long_name': 'Potassium 40', 'standard_name': '40K'},\n",
       " {'name': 'cr51', 'long_name': 'Chromium 51', 'standard_name': '51Cr'}]"
      ]
     },
     "execution_count": null,
     "metadata": {},
     "output_type": "execute_result"
    }
   ],
   "source": [
    "nc_tpl.get_analytes()[:5]"
   ]
  },
  {
   "cell_type": "code",
   "execution_count": null,
   "id": "b8893b97",
   "metadata": {},
   "outputs": [],
   "source": [
    "#| export\n",
    "def derive(\n",
    "    analyte:dict, # Analyte/nuclide/var name and associated netcdf attributes\n",
    "    suffix:dict,  # Naming rules as described in CDL\n",
    "):\n",
    "    \"Derive NetCDf var name & attributes as defined in CDL\" \n",
    "    derived = analyte.copy()\n",
    "    for k, v in suffix.items():\n",
    "        derived[k] += v\n",
    "    return derived"
   ]
  },
  {
   "cell_type": "markdown",
   "id": "f5d208f3",
   "metadata": {},
   "source": [
    "Example:"
   ]
  },
  {
   "cell_type": "code",
   "execution_count": null,
   "id": "8e952588",
   "metadata": {},
   "outputs": [
    {
     "data": {
      "text/plain": [
       "{'name': 'h3', 'long_name': 'Tritium 3', 'standard_name': '3H'}"
      ]
     },
     "execution_count": null,
     "metadata": {},
     "output_type": "execute_result"
    }
   ],
   "source": [
    "analyte = nc_tpl.get_analytes()[0]; analyte"
   ]
  },
  {
   "cell_type": "code",
   "execution_count": null,
   "id": "77441436",
   "metadata": {},
   "outputs": [
    {
     "data": {
      "text/plain": [
       "{'name': 'h3',\n",
       " 'long_name': 'Tritium 3',\n",
       " 'standard_name': '3H',\n",
       " 'units': '_to_be_filled_in_'}"
      ]
     },
     "execution_count": null,
     "metadata": {},
     "output_type": "execute_result"
    }
   ],
   "source": [
    "analyte['units'] = cdl['placeholder']; analyte"
   ]
  },
  {
   "cell_type": "code",
   "execution_count": null,
   "id": "5816a9be",
   "metadata": {},
   "outputs": [
    {
     "data": {
      "text/plain": [
       "{'name': '_unc', 'long_name': ' uncertainty', 'standard_name': '_uncertainty'}"
      ]
     },
     "execution_count": null,
     "metadata": {},
     "output_type": "execute_result"
    }
   ],
   "source": [
    "suffix = cdl['vars']['suffixes']['uncertainty']; suffix"
   ]
  },
  {
   "cell_type": "code",
   "execution_count": null,
   "id": "c2f6371c",
   "metadata": {},
   "outputs": [],
   "source": [
    "expected = {'name': 'h3_unc', 'long_name': 'Tritium 3 uncertainty', \n",
    "            'standard_name': '3H_uncertainty', 'units': '_to_be_filled_in_'}\n",
    "\n",
    "test_eq(derive(analyte, suffix), expected)"
   ]
  },
  {
   "cell_type": "code",
   "execution_count": null,
   "id": "041907e1",
   "metadata": {},
   "outputs": [],
   "source": [
    "#| export\n",
    "@patch\n",
    "def create_variable(self:NCTemplate, \n",
    "               nc, # NetCDF file\n",
    "               var:Dict, # Variable\n",
    "               dtype:str='f4', # Type of the variable\n",
    "           ):\n",
    "    name = var['name']\n",
    "    attrs = {k:v for k, v in var.items() if k != name}\n",
    "    nc_var = nc.createVariable(name, dtype, self.dim['name'])\n",
    "    nc_var.setncatts(attrs)    \n",
    "    return nc"
   ]
  },
  {
   "cell_type": "code",
   "execution_count": null,
   "id": "cdcf31df",
   "metadata": {},
   "outputs": [
    {
     "name": "stdout",
     "output_type": "stream",
     "text": [
      "<class 'netCDF4._netCDF4.Variable'>\n",
      "float32 lon(sample)\n",
      "    name: lon\n",
      "    long_name: Measurement longitude\n",
      "    standard_name: longitude\n",
      "    units: degrees_north\n",
      "    axis: Y\n",
      "    _CoordinateAxisType: Lon\n",
      "unlimited dimensions: sample\n",
      "current shape = (0,)\n",
      "filling on, default _FillValue of 9.969209968386869e+36 used\n"
     ]
    }
   ],
   "source": [
    "# Example of use\n",
    "with Dataset('files/nc/test.nc', 'w', format='NETCDF4') as nc:\n",
    "    nc.createDimension(nc_tpl.dim['name'], None)\n",
    "    nc_tpl.create_variable(nc, cdl['vars']['defaults']['lon'])\n",
    "    print(nc.variables['lon'])"
   ]
  },
  {
   "cell_type": "code",
   "execution_count": null,
   "id": "6beee8f5",
   "metadata": {},
   "outputs": [],
   "source": [
    "#| export\n",
    "@patch\n",
    "def generate(self:NCTemplate,\n",
    "             common_vars:list=['lon', 'lat', 'depth', 'time'], # Common variables\n",
    "            ):\n",
    "    \"Generate CDL\"\n",
    "    fname = Path(self.dest_dir)/self.tpl_fname\n",
    "    \n",
    "    common_vars = self.cdl['vars']['defaults'].keys()\n",
    "    \n",
    "    with Dataset(fname, 'w', format='NETCDF4') as nc:\n",
    "        # Create dataset attributes\n",
    "        nc.setncatts(self.cdl['global_attrs']) \n",
    "        \n",
    "        # Create shared `sample` dimension\n",
    "        nc.createDimension(self.dim['name'], None)\n",
    "        \n",
    "        # Create grps\n",
    "        grp_names = [v['name'] for k, v in self.cdl['grps'].items()]\n",
    "        for grp_name in grp_names:\n",
    "            grp = nc.createGroup(grp_name)\n",
    "\n",
    "            # Create 'dim' variable\n",
    "            self.create_variable(grp, self.dim, 'i4')\n",
    "            \n",
    "            # Create default variables\n",
    "            for var in self.cdl['vars']['defaults'].values(): \n",
    "                self.create_variable(grp, var)\n",
    "\n",
    "            # Create analyte variables\n",
    "            for analyte in self.get_analytes():\n",
    "                analyte['units'] = self.cdl['placeholder']\n",
    "                self.create_variable(grp, analyte)\n",
    "            \n",
    "                # Derived uncertainty and detection limit variables\n",
    "                for k, v in self.cdl['vars']['suffixes'].items():\n",
    "                    self.create_variable(grp, derive(analyte, v))\n",
    "                #for related_var in ['uncertainty', 'detection_limit']:\n",
    "                #    cfg = self.cfgs[related_var]\n",
    "                #    attrs['long_name'] += cfg['long_name']\n",
    "                #    attrs['standard_name'] += cfg['standard_name']\n",
    "                #    self.create_variable(grp, analyte['name'] + cfg['var_suffix'], attrs)"
   ]
  },
  {
   "cell_type": "code",
   "execution_count": null,
   "id": "870329ec",
   "metadata": {},
   "outputs": [],
   "source": [
    "# So in summary, to produce a template MARIS NetCDF\n",
    "nc_tpl = NCTemplate('test.nc',\n",
    "               vars_fname='./files/lut/dbo_nuclide.xlsx', \n",
    "               dest_dir='./files/nc',\n",
    "               cdl=cdl)\n",
    "\n",
    "nc_tpl.generate()"
   ]
  }
 ],
 "metadata": {
  "kernelspec": {
   "display_name": "Python 3 (ipykernel)",
   "language": "python",
   "name": "python3"
  }
 },
 "nbformat": 4,
 "nbformat_minor": 5
}

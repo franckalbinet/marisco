{
 "cells": [
  {
   "cell_type": "code",
   "execution_count": null,
   "id": "9a34957e",
   "metadata": {},
   "outputs": [],
   "source": [
    "#| default_exp serializers"
   ]
  },
  {
   "cell_type": "markdown",
   "id": "34f38641",
   "metadata": {},
   "source": [
    "# Serializers\n",
    "> Various utilities to encode MARIS dataset as `NetCDF`, `csv`, ... formats."
   ]
  },
  {
   "cell_type": "code",
   "execution_count": null,
   "id": "b4934cd2",
   "metadata": {},
   "outputs": [],
   "source": [
    "#| export\n",
    "from netCDF4 import Dataset\n",
    "import pandas as pd\n",
    "from typing import Dict"
   ]
  },
  {
   "cell_type": "code",
   "execution_count": null,
   "id": "06209eb9",
   "metadata": {},
   "outputs": [],
   "source": [
    "#| export\n",
    "def to_netcdf(\n",
    "    df:pd.DataFrame, # Dataframe to encode\n",
    "    fname_cdl:str, # File name and path to the MARIS CDL template\n",
    "    fname_output:str, # Name of output file to produce\n",
    "    cfgs:Dict, # Config file containing global attributes\n",
    "):\n",
    "    \"Encode MARIS dataset (provided as Pandas DataFrame) to NetCDF file\"\n",
    "    with Dataset(fname_cdl) as src, Dataset(fname_output, 'w', format='NETCDF3_CLASSIC') as dst:\n",
    "        # copy global attributes all at once via dictionary\n",
    "        dst.setncatts(src.__dict__)\n",
    "\n",
    "        dst.setncatts(cfgs['global_attr']) \n",
    "        # copy dimensions\n",
    "        for name, dimension in src.dimensions.items():\n",
    "            dst.createDimension(\n",
    "                name, (len(dimension) if not dimension.isunlimited() else None))\n",
    "\n",
    "        n_before = 0\n",
    "        n_after = 0\n",
    "        # copy all variables of interest and fill them\n",
    "        for name_var_src, var_src in src.variables.items():\n",
    "            if name_var_src in df.reset_index().columns:\n",
    "                x = dst.createVariable(name_var_src, var_src.datatype, var_src.dimensions,\n",
    "                                       compression='zlib', complevel=9)\n",
    "                # fill variables\n",
    "                # Sanitize\n",
    "                n_before += sum(df.reset_index()[name_var_src].notna())\n",
    "                df_sanitized = pd.to_numeric(df.reset_index()[name_var_src], \n",
    "                                             errors='coerce', downcast=None)\n",
    "                n_after += sum(df_sanitized.notna())\n",
    "                dst[name_var_src][:] = df_sanitized .values\n",
    "                # copy variable attributes all at once via dictionary\n",
    "                dst[name_var_src].setncatts(src[name_var_src].__dict__)\n",
    "                dst[name_var_src].unit = cfgs['global_attr']['unit']\n",
    "        print(f'% of discarded data: {100*(n_before - n_after)/n_before}')"
   ]
  }
 ],
 "metadata": {
  "kernelspec": {
   "display_name": "Python 3 (ipykernel)",
   "language": "python",
   "name": "python3"
  }
 },
 "nbformat": 4,
 "nbformat_minor": 5
}

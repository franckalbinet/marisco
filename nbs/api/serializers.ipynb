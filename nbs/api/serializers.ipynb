{
 "cells": [
  {
   "cell_type": "code",
   "execution_count": null,
   "id": "9a34957e",
   "metadata": {},
   "outputs": [],
   "source": [
    "#| default_exp serializers"
   ]
  },
  {
   "attachments": {},
   "cell_type": "markdown",
   "id": "34f38641",
   "metadata": {},
   "source": [
    "# Serializers\n",
    "> Various utilities to encode MARIS dataset as `NetCDF`, `csv`, ... formats."
   ]
  },
  {
   "cell_type": "code",
   "execution_count": null,
   "id": "27051f31",
   "metadata": {},
   "outputs": [
    {
     "name": "stdout",
     "output_type": "stream",
     "text": [
      "The autoreload extension is already loaded. To reload it, use:\n",
      "  %reload_ext autoreload\n"
     ]
    }
   ],
   "source": [
    "%load_ext autoreload\n",
    "%autoreload 2"
   ]
  },
  {
   "cell_type": "code",
   "execution_count": null,
   "id": "b4934cd2",
   "metadata": {},
   "outputs": [],
   "source": [
    "#| export\n",
    "from netCDF4 import Dataset\n",
    "import pandas as pd\n",
    "from typing import Dict, Callable\n",
    "import pandas as pd\n",
    "from fastcore.basics import patch, store_attr"
   ]
  },
  {
   "cell_type": "code",
   "execution_count": null,
   "id": "2e31b9dd",
   "metadata": {},
   "outputs": [],
   "source": [
    "#| export\n",
    "class NetCDFEncoder:\n",
    "    \"MARIS NetCDF encoder.\"\n",
    "    def __init__(self, \n",
    "                 dfs:dict[pd.DataFrame], # dict of Dataframes to encode with group name as key {'sediment': df_sed, ...}\n",
    "                 src_fname:str, # File name and path to the MARIS CDL template\n",
    "                 dest_fname:str, # Name of output file to produce\n",
    "                 global_attrs:Dict, # Global attributes\n",
    "                 enums_xtra:Dict={}, # Enumeration types to overwrite\n",
    "                 verbose:bool=False, # Print currently written NetCDF group and variable names\n",
    "                 ):\n",
    "        store_attr()\n",
    "        self.enum_types = {}"
   ]
  },
  {
   "cell_type": "code",
   "execution_count": null,
   "id": "584f9d26",
   "metadata": {},
   "outputs": [],
   "source": [
    "df = pd.DataFrame({\n",
    "    'sample': [0, 1], \n",
    "    'lon': [141, 142], \n",
    "    'lat': [37.3, 38.3], \n",
    "    'time': [1234, 1235], \n",
    "    'i131': [1, 1.5],\n",
    "    'i131_dl': [0, 1], \n",
    "    'i131_unit': [1, 1],\n",
    "    'species_id': [107083, 241373]\n",
    "    })\n",
    "\n",
    "dfs = {'seawater': df, 'biota': df}\n",
    "attrs = {'id': '123', 'title': 'Test title', 'summary': 'Summary test'}\n",
    "src = './files/nc/template-test.nc'\n",
    "dest = './files/nc/encoding-test.nc'\n",
    "enums_xtra = {\n",
    "    'species_t': {'Aristeus antennatus': 107083, 'Apostichopus': 241373}\n",
    "    }"
   ]
  },
  {
   "cell_type": "code",
   "execution_count": null,
   "id": "fd3f1ee2",
   "metadata": {},
   "outputs": [],
   "source": [
    "encoder = NetCDFEncoder(dfs, src_fname=src, dest_fname=dest, global_attrs=attrs)"
   ]
  },
  {
   "cell_type": "code",
   "execution_count": null,
   "id": "7beed6e5",
   "metadata": {},
   "outputs": [],
   "source": [
    "#| export\n",
    "@patch \n",
    "def copy_global_attributes(self:NetCDFEncoder):\n",
    "    \"Update NetCDF template global attributes as specified by `global_attrs` argument.\"\n",
    "    self.dest.setncatts(self.src.__dict__)\n",
    "    for k, v in self.global_attrs.items(): self.dest.setncattr(k, v)"
   ]
  },
  {
   "cell_type": "code",
   "execution_count": null,
   "id": "30e7f700",
   "metadata": {},
   "outputs": [],
   "source": [
    "#| export\n",
    "@patch\n",
    "def copy_dimensions(self:NetCDFEncoder):\n",
    "    for name, dimension in self.src.dimensions.items():\n",
    "        self.dest.createDimension(name, (len(dimension) if not dimension.isunlimited() else None))"
   ]
  },
  {
   "cell_type": "code",
   "execution_count": null,
   "id": "6e24da73",
   "metadata": {},
   "outputs": [],
   "source": [
    "#| export\n",
    "@patch\n",
    "def process_groups(self:NetCDFEncoder):\n",
    "    for grp_name, df in self.dfs.items():\n",
    "        self.process_group(grp_name, df)"
   ]
  },
  {
   "cell_type": "code",
   "execution_count": null,
   "id": "4e308b46",
   "metadata": {},
   "outputs": [],
   "source": [
    "#| export\n",
    "@patch\n",
    "def process_group(self:NetCDFEncoder, group_name, df):\n",
    "    group_dest = self.dest.createGroup(group_name)\n",
    "    self.copy_variables(group_name, df, group_dest)"
   ]
  },
  {
   "cell_type": "code",
   "execution_count": null,
   "id": "61ef40f8",
   "metadata": {},
   "outputs": [],
   "source": [
    "#| export\n",
    "@patch\n",
    "def copy_variables(self:NetCDFEncoder, group_name, df, group_dest):\n",
    "    for var_name, var_src in self.src.groups[group_name].variables.items():\n",
    "        if var_name in df.reset_index().columns: \n",
    "            self.copy_variable(var_name, var_src, df, group_dest)"
   ]
  },
  {
   "cell_type": "code",
   "execution_count": null,
   "id": "40561907",
   "metadata": {},
   "outputs": [],
   "source": [
    "#| export\n",
    "@patch\n",
    "def copy_variable(self:NetCDFEncoder, var_name, var_src, df, group_dest):\n",
    "    dtype_name = var_src.datatype.name\n",
    "    enums_src = self.src.enumtypes\n",
    "    if self.verbose: print(f'Group: {group_dest.name}, Variable: {var_name}')\n",
    "    if dtype_name in enums_src: self.copy_enum_type(dtype_name)   \n",
    "    self._create_and_copy_variable(var_name, var_src, df, group_dest, dtype_name)\n",
    "    self.copy_variable_attributes(var_name, var_src, group_dest)"
   ]
  },
  {
   "cell_type": "code",
   "execution_count": null,
   "id": "93792604",
   "metadata": {},
   "outputs": [],
   "source": [
    "#| export\n",
    "@patch\n",
    "def _create_and_copy_variable(self:NetCDFEncoder, var_name, var_src, df, group_dest, dtype_name):\n",
    "    variable_type = self.enum_types.get(dtype_name, var_src.datatype)\n",
    "    group_dest.createVariable(var_name, variable_type, var_src.dimensions, compression='zlib', complevel=9)\n",
    "    \n",
    "    df_sanitized = self.cast_verbose_rf(df, var_name)\n",
    "    group_dest[var_name][:] = df_sanitized.values"
   ]
  },
  {
   "cell_type": "code",
   "execution_count": null,
   "id": "efd48f5a",
   "metadata": {},
   "outputs": [],
   "source": [
    "#| export\n",
    "@patch\n",
    "def copy_enum_type(self:NetCDFEncoder, dtype_name):\n",
    "    if dtype_name not in self.enum_types:\n",
    "        enum_info = self.src.enumtypes[dtype_name]\n",
    "        if enum_info.name in self.enums_xtra:\n",
    "            enum_info.enum_dict = self.enums_xtra[enum_info.name]\n",
    "        self.enum_types[dtype_name] = self.dest.createEnumType(enum_info.dtype, \n",
    "                                                               enum_info.name, \n",
    "                                                               enum_info.enum_dict)"
   ]
  },
  {
   "cell_type": "code",
   "execution_count": null,
   "id": "6068704d",
   "metadata": {},
   "outputs": [],
   "source": [
    "#| export\n",
    "@patch\n",
    "def copy_variable_attributes(self:NetCDFEncoder, var_name, var_src, group_dest):\n",
    "    group_dest[var_name].setncatts(var_src.__dict__)"
   ]
  },
  {
   "cell_type": "code",
   "execution_count": null,
   "id": "bf24f958",
   "metadata": {},
   "outputs": [],
   "source": [
    "#| export\n",
    "@patch\n",
    "def cast_verbose_rf(self:NetCDFEncoder, \n",
    "                    df, \n",
    "                    col):\n",
    "    \"\"\"\n",
    "    Try to cast df column to numeric type:\n",
    "        - Silently coerce to nan if not possible\n",
    "        - But log when it failed\n",
    "    \"\"\"\n",
    "    n_before = sum(df.reset_index()[col].notna())\n",
    "    df_after = pd.to_numeric(df.reset_index()[col],\n",
    "                                    errors='coerce', downcast=None)\n",
    "    n_after = sum(df_after.notna())\n",
    "    if n_before != n_after: \n",
    "        print(f'Failed to convert type of {col} in {n_before - n_after} occurences')\n",
    "    \n",
    "    return df_after"
   ]
  },
  {
   "cell_type": "code",
   "execution_count": null,
   "id": "20edc912",
   "metadata": {},
   "outputs": [],
   "source": [
    "#| export\n",
    "@patch\n",
    "def encode(self:NetCDFEncoder):\n",
    "    \"Encode MARIS NetCDF based on template and dataframes.\"\n",
    "    with Dataset(self.src_fname, format='NETCDF4') as self.src, Dataset(self.dest_fname, 'w', format='NETCDF4') as self.dest:\n",
    "        self.copy_global_attributes()\n",
    "        self.copy_dimensions()\n",
    "        self.process_groups()"
   ]
  },
  {
   "cell_type": "code",
   "execution_count": null,
   "id": "6759d7bd",
   "metadata": {},
   "outputs": [],
   "source": [
    "encoder = NetCDFEncoder(dfs, src_fname=src, dest_fname=dest, global_attrs=attrs, verbose=False)\n",
    "encoder.encode()"
   ]
  },
  {
   "cell_type": "code",
   "execution_count": null,
   "id": "76caaab1",
   "metadata": {},
   "outputs": [],
   "source": [
    "#### Legacy code to remove"
   ]
  },
  {
   "cell_type": "code",
   "execution_count": null,
   "id": "90b05a32",
   "metadata": {},
   "outputs": [],
   "source": [
    "# def cast_verbose(df, col):\n",
    "#     \"\"\"\n",
    "#     Try to cast df column to numeric type:\n",
    "#         - Silently coerce to nan if not possible\n",
    "#         - But log when it failed\n",
    "#     \"\"\"\n",
    "#     n_before = sum(df.reset_index()[col].notna())\n",
    "#     df_after = pd.to_numeric(df.reset_index()[col],\n",
    "#                                     errors='coerce', downcast=None)\n",
    "#     n_after = sum(df_after.notna())\n",
    "#     if n_before != n_after: \n",
    "#         print(f'Failed to convert type of {col} in {n_before - n_after} occurences')\n",
    "    \n",
    "#     return df_after\n",
    "\n",
    "# def to_netcdf(\n",
    "#     dfs:dict[pd.DataFrame], # dict of Dataframes to encode with group name as key {'sediment': df_sed, ...}\n",
    "#     src_fname:str, # Input MARIS template NetCDF path and name\n",
    "#     # fname_output:str, # Name of output file to produce\n",
    "#     dest_fname:str, # Output NetCDF path and name to produce\n",
    "#     global_attrs:Dict, # Global attributes\n",
    "#     units_fn:Callable, # (group, variable) -> unit look up function\n",
    "# ):\n",
    "#     \"Encode MARIS dataset (provided as Pandas DataFrame) to NetCDF file\"\n",
    "#     with Dataset(src_fname, format='NETCDF4') as src, Dataset(dest_fname, 'w', format='NETCDF4') as dst:\n",
    "#         # copy global attributes all at once via dictionary\n",
    "#         dst.setncatts(src.__dict__)\n",
    "#         dst.setncatts(global_attrs) \n",
    "        \n",
    "#         # copy dimensions\n",
    "#         for name, dimension in src.dimensions.items():\n",
    "#             dst.createDimension(\n",
    "#                 name, (len(dimension) if not dimension.isunlimited() else None))\n",
    "\n",
    "#         # copy groups\n",
    "#         for grp_name, df in dfs.items():\n",
    "#             # TBD: asserting group name\n",
    "#             grp_dest = dst.createGroup(grp_name)\n",
    "        \n",
    "#             n_before = 0\n",
    "#             n_after = 0\n",
    "            \n",
    "#             # copy all variables of interest and fill them\n",
    "#             for name_var_src, var_src in src.groups[grp_name].variables.items():\n",
    "#                 # Only if source variable is in destination\n",
    "#                 if name_var_src in df.reset_index().columns:\n",
    "#                     # x = grp_dest.createVariable(name_var_src, var_src.datatype, var_src.dimensions,\n",
    "#                     grp_dest.createVariable(name_var_src, var_src.datatype, var_src.dimensions,\n",
    "#                                             compression='zlib', complevel=9)\n",
    "                        \n",
    "#                     df_sanitized = cast_verbose(df, name_var_src)\n",
    "#                     grp_dest[name_var_src][:] = df_sanitized.values\n",
    "                    \n",
    "#                     # copy variable attributes all at once via dictionary\n",
    "#                     grp_dest[name_var_src].setncatts(src.groups[grp_name][name_var_src].__dict__)\n",
    "#                     if (hasattr(src.groups[grp_name][name_var_src], 'units') and\n",
    "#                         src.groups[grp_name][name_var_src].units == '_to_be_filled_in_'):\n",
    "#                         grp_dest[name_var_src].units = units_fn(grp_name, name_var_src)"
   ]
  }
 ],
 "metadata": {
  "kernelspec": {
   "display_name": "Python 3 (ipykernel)",
   "language": "python",
   "name": "python3"
  }
 },
 "nbformat": 4,
 "nbformat_minor": 5
}

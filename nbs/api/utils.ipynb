{
 "cells": [
  {
   "cell_type": "code",
   "execution_count": null,
   "id": "95ddae9f",
   "metadata": {},
   "outputs": [],
   "source": [
    "#| default_exp utils"
   ]
  },
  {
   "attachments": {},
   "cell_type": "markdown",
   "id": "34f38641",
   "metadata": {},
   "source": [
    "# Utilities\n",
    "> Various utilities"
   ]
  },
  {
   "cell_type": "code",
   "execution_count": null,
   "id": "b4934cd2",
   "metadata": {},
   "outputs": [],
   "source": [
    "#| export\n",
    "from pathlib import Path\n",
    "from netCDF4 import Dataset\n",
    "from fastcore.test import test_eq\n",
    "import fastcore.all as fc\n",
    "import pandas as pd\n",
    "import numpy as np\n",
    "import requests\n",
    "from shapely import MultiPoint\n",
    "from operator import attrgetter\n",
    "\n",
    "from marisco.configs import species_lut_path, sediments_lut_path\n",
    "\n",
    "import jellyfish as jf\n",
    "from collections.abc import Callable"
   ]
  },
  {
   "attachments": {},
   "cell_type": "markdown",
   "id": "d474d2bd",
   "metadata": {},
   "source": [
    "## Callbacks"
   ]
  },
  {
   "cell_type": "code",
   "execution_count": null,
   "id": "4e58c73c",
   "metadata": {},
   "outputs": [],
   "source": [
    "#| export\n",
    "class Callback(): order = 0"
   ]
  },
  {
   "cell_type": "code",
   "execution_count": null,
   "id": "61702d17",
   "metadata": {},
   "outputs": [],
   "source": [
    "#| export\n",
    "def run_cbs(cbs, obj=None):\n",
    "    for cb in sorted(cbs, key=attrgetter('order')):\n",
    "        if cb.__doc__: obj.logs.append(cb.__doc__)\n",
    "        cb(obj)"
   ]
  },
  {
   "cell_type": "code",
   "execution_count": null,
   "id": "82a6611d",
   "metadata": {},
   "outputs": [],
   "source": [
    "#| export\n",
    "class Transformer():\n",
    "    def __init__(self, dfs, cbs=None): \n",
    "        fc.store_attr()\n",
    "        self.logs = []\n",
    "        \n",
    "    def callback(self):\n",
    "        run_cbs(self.cbs, self)\n",
    "        \n",
    "    def __call__(self):\n",
    "        self.callback()\n",
    "        return self.dfs"
   ]
  },
  {
   "attachments": {},
   "cell_type": "markdown",
   "id": "b2b0c493",
   "metadata": {},
   "source": [
    "## Validation"
   ]
  },
  {
   "cell_type": "code",
   "execution_count": null,
   "id": "7c76ac90",
   "metadata": {},
   "outputs": [],
   "source": [
    "#| export\n",
    "def has_valid_varname(\n",
    "    var_names:list, # variable (nuclide) names\n",
    "    cdl_path:str, # Path to MARIS CDL file (point of truth)\n",
    "):\n",
    "    \"Check that proposed variable names are in MARIS CDL\"\n",
    "    has_valid = True\n",
    "    with Dataset(cdl_path) as nc:\n",
    "        grp = nc.groups[list(nc.groups.keys())[0]] # get any group\n",
    "        for name in var_names:\n",
    "            if name not in grp.variables.keys():\n",
    "                has_valid = False\n",
    "                print(f'\"{name}\" variable name not found in MARIS CDL')\n",
    "    \n",
    "    return has_valid"
   ]
  },
  {
   "cell_type": "code",
   "execution_count": null,
   "id": "e76c2f44",
   "metadata": {},
   "outputs": [],
   "source": [
    "VARNAMES = ['lat', 'lon']\n",
    "test_eq(has_valid_varname(VARNAMES, './files/nc/maris-cdl.nc'), True)"
   ]
  },
  {
   "cell_type": "code",
   "execution_count": null,
   "id": "af15330e",
   "metadata": {},
   "outputs": [
    {
     "name": "stdout",
     "output_type": "stream",
     "text": [
      "\"ba140_invalid\" variable name not found in MARIS CDL\n"
     ]
    }
   ],
   "source": [
    "VARNAMES = ['ba140_invalid', 'ba140_dl']\n",
    "test_eq(has_valid_varname(VARNAMES, './files/nc/maris-cdl.nc'), False)"
   ]
  },
  {
   "attachments": {},
   "cell_type": "markdown",
   "id": "b63daa4b",
   "metadata": {},
   "source": [
    "## Geoprocessing"
   ]
  },
  {
   "cell_type": "code",
   "execution_count": null,
   "id": "c74b80da",
   "metadata": {},
   "outputs": [],
   "source": [
    "#| export\n",
    "def get_bbox(df,\n",
    "             coord_cols=('lon', 'lat')\n",
    "            ):\n",
    "    x, y = coord_cols        \n",
    "    arr = [(row[x], row[y]) for _, row in df.iterrows()]\n",
    "    return MultiPoint(arr).envelope"
   ]
  },
  {
   "cell_type": "code",
   "execution_count": null,
   "id": "cb650442",
   "metadata": {},
   "outputs": [],
   "source": [
    "df = pd.DataFrame({'lon': np.linspace(-10, 5, 20), 'lat':  np.linspace(40, 50, 20)})\n",
    "bbox = get_bbox(df);"
   ]
  },
  {
   "cell_type": "code",
   "execution_count": null,
   "id": "2244032e",
   "metadata": {},
   "outputs": [
    {
     "data": {
      "text/plain": [
       "(-10.0, 40.0, 5.0, 50.0)"
      ]
     },
     "execution_count": null,
     "metadata": {},
     "output_type": "execute_result"
    }
   ],
   "source": [
    "# To get `lon_min`, `lon_max`, `lat_min`, `lat_max`\n",
    "bbox.bounds"
   ]
  },
  {
   "cell_type": "code",
   "execution_count": null,
   "id": "7c4efbb8",
   "metadata": {},
   "outputs": [
    {
     "data": {
      "text/plain": [
       "'POLYGON ((-10 40, 5 40, 5 50, -10 50, -10 40))'"
      ]
     },
     "execution_count": null,
     "metadata": {},
     "output_type": "execute_result"
    }
   ],
   "source": [
    "# And its Well-Know Text representation\n",
    "bbox.wkt"
   ]
  },
  {
   "cell_type": "code",
   "execution_count": null,
   "id": "e6609bd2",
   "metadata": {},
   "outputs": [],
   "source": [
    "# If unique (lon, lat)\n",
    "df = pd.DataFrame({'lon': [0, 0], 'lat':  [1, 1]})\n",
    "bbox = get_bbox(df);"
   ]
  },
  {
   "cell_type": "code",
   "execution_count": null,
   "id": "42f97883",
   "metadata": {},
   "outputs": [
    {
     "data": {
      "text/plain": [
       "(0.0, 1.0, 0.0, 1.0)"
      ]
     },
     "execution_count": null,
     "metadata": {},
     "output_type": "execute_result"
    }
   ],
   "source": [
    "bbox.bounds"
   ]
  },
  {
   "attachments": {},
   "cell_type": "markdown",
   "id": "d2ef1cc9",
   "metadata": {},
   "source": [
    "## Downloaders"
   ]
  },
  {
   "cell_type": "code",
   "execution_count": null,
   "id": "96c2bf33",
   "metadata": {},
   "outputs": [],
   "source": [
    "#| export\n",
    "def download_files_in_folder(owner:str, \n",
    "                             repo:str, \n",
    "                             src_dir:str, \n",
    "                             dest_dir:str\n",
    "                             ):\n",
    "    \"Make a GET request to the GitHub API to get the contents of the folder\"\n",
    "    url = f\"https://api.github.com/repos/{owner}/{repo}/contents/{src_dir}\"\n",
    "    response = requests.get(url)\n",
    "\n",
    "    if response.status_code == 200:\n",
    "        contents = response.json()\n",
    "\n",
    "        # Iterate over the files and download them\n",
    "        for item in contents:\n",
    "            if item[\"type\"] == \"file\":\n",
    "                fname = item[\"name\"]\n",
    "                download_file(owner, repo, src_dir, dest_dir, fname)\n",
    "    else:\n",
    "        print(f\"Error: {response.status_code}\")\n",
    "\n",
    "def download_file(owner, repo, src_dir, dest_dir, fname):\n",
    "    # Make a GET request to the GitHub API to get the raw file contents\n",
    "    url = f\"https://raw.githubusercontent.com/{owner}/{repo}/master/{src_dir}/{fname}\"\n",
    "    response = requests.get(url)\n",
    "\n",
    "    if response.status_code == 200:\n",
    "        # Save the file locally\n",
    "        with open(Path(dest_dir) / fname, \"wb\") as file:\n",
    "            file.write(response.content)\n",
    "        print(f\"{fname} downloaded successfully.\")\n",
    "    else:\n",
    "        print(f\"Error: {response.status_code}\")"
   ]
  },
  {
   "attachments": {},
   "cell_type": "markdown",
   "id": "d7a2c018",
   "metadata": {},
   "source": [
    "## WorRMS\n",
    "The [World Register of Marine Species (WorMS)](https://www.marinespecies.org) is an authoritative classification and catalogue of marine names. It provides a REST API (among others) allowing to \"fuzzy\" match any species name you might encounter in marine data sources names againt their own database. There are several types of matches as described [here](https://www.marinespecies.org/tutorial_taxonmatch.php)."
   ]
  },
  {
   "cell_type": "code",
   "execution_count": null,
   "id": "3f11f094",
   "metadata": {},
   "outputs": [],
   "source": [
    "#| export\n",
    "def match_worms(\n",
    "    name:str # Name of species to look up in WoRMS\n",
    "    ):\n",
    "    \"Lookup `name` in WoRMS (fuzzy match)\"\n",
    "    url = 'https://www.marinespecies.org/rest/AphiaRecordsByMatchNames'\n",
    "    params = {\n",
    "        'scientificnames[]': [name],\n",
    "        'marine_only': 'true'\n",
    "    }\n",
    "    headers = {\n",
    "        'accept': 'application/json'\n",
    "    }\n",
    "    \n",
    "    response = requests.get(url, params=params, headers=headers)\n",
    "    \n",
    "    # Check if the request was successful (status code 200)\n",
    "    if response.status_code == 200:\n",
    "        data = response.json()\n",
    "        return data\n",
    "    else:\n",
    "        return -1"
   ]
  },
  {
   "attachments": {},
   "cell_type": "markdown",
   "id": "33ce01e2",
   "metadata": {},
   "source": [
    "For instance:"
   ]
  },
  {
   "cell_type": "code",
   "execution_count": null,
   "id": "e4d1fcf6",
   "metadata": {},
   "outputs": [
    {
     "data": {
      "text/plain": [
       "[[{'AphiaID': 107083,\n",
       "   'url': 'https://www.marinespecies.org/aphia.php?p=taxdetails&id=107083',\n",
       "   'scientificname': 'Aristeus antennatus',\n",
       "   'authority': '(Risso, 1816)',\n",
       "   'status': 'accepted',\n",
       "   'unacceptreason': None,\n",
       "   'taxonRankID': 220,\n",
       "   'rank': 'Species',\n",
       "   'valid_AphiaID': 107083,\n",
       "   'valid_name': 'Aristeus antennatus',\n",
       "   'valid_authority': '(Risso, 1816)',\n",
       "   'parentNameUsageID': 106807,\n",
       "   'kingdom': 'Animalia',\n",
       "   'phylum': 'Arthropoda',\n",
       "   'class': 'Malacostraca',\n",
       "   'order': 'Decapoda',\n",
       "   'family': 'Aristeidae',\n",
       "   'genus': 'Aristeus',\n",
       "   'citation': 'DecaNet eds. (2024). DecaNet. Aristeus antennatus (Risso, 1816). Accessed through: World Register of Marine Species at: https://www.marinespecies.org/aphia.php?p=taxdetails&id=107083 on 2024-06-05',\n",
       "   'lsid': 'urn:lsid:marinespecies.org:taxname:107083',\n",
       "   'isMarine': 1,\n",
       "   'isBrackish': 0,\n",
       "   'isFreshwater': 0,\n",
       "   'isTerrestrial': 0,\n",
       "   'isExtinct': 0,\n",
       "   'match_type': 'exact',\n",
       "   'modified': '2022-08-24T09:48:14.813Z'}]]"
      ]
     },
     "execution_count": null,
     "metadata": {},
     "output_type": "execute_result"
    }
   ],
   "source": [
    "#|eval: false\n",
    "match_worms('Aristeus antennatus')"
   ]
  },
  {
   "cell_type": "code",
   "execution_count": null,
   "id": "39c6a715",
   "metadata": {},
   "outputs": [
    {
     "data": {
      "text/plain": [
       "[[{'AphiaID': 747442,\n",
       "   'url': 'https://www.marinespecies.org/aphia.php?p=taxdetails&id=747442',\n",
       "   'scientificname': 'Plankayon',\n",
       "   'authority': 'Wagner, 1880',\n",
       "   'status': 'unaccepted',\n",
       "   'unacceptreason': 'invalid as based on nomen nudum',\n",
       "   'taxonRankID': 180,\n",
       "   'rank': 'Genus',\n",
       "   'valid_AphiaID': 117064,\n",
       "   'valid_name': 'Plotocnide',\n",
       "   'valid_authority': 'Wagner, 1885',\n",
       "   'parentNameUsageID': 22766,\n",
       "   'kingdom': 'Animalia',\n",
       "   'phylum': 'Cnidaria',\n",
       "   'class': 'Hydrozoa',\n",
       "   'order': 'Anthoathecata',\n",
       "   'family': None,\n",
       "   'genus': 'Plankayon',\n",
       "   'citation': 'Schuchert, P. (2024). World Hydrozoa Database. Plankayon Wagner, 1880. Accessed through: World Register of Marine Species at: https://www.marinespecies.org/aphia.php?p=taxdetails&id=747442 on 2024-06-05',\n",
       "   'lsid': 'urn:lsid:marinespecies.org:taxname:747442',\n",
       "   'isMarine': 1,\n",
       "   'isBrackish': 0,\n",
       "   'isFreshwater': 0,\n",
       "   'isTerrestrial': 0,\n",
       "   'isExtinct': 0,\n",
       "   'match_type': 'near_2',\n",
       "   'modified': '2014-01-29T19:34:31.997Z'}]]"
      ]
     },
     "execution_count": null,
     "metadata": {},
     "output_type": "execute_result"
    }
   ],
   "source": [
    "match_worms('Plankton')"
   ]
  },
  {
   "cell_type": "markdown",
   "id": "0f05781f",
   "metadata": {},
   "source": [
    "## Marisco look-up table fuzzy matching\n",
    "Using https://jamesturk.github.io/jellyfish fuzzy matching distance metrics.\n"
   ]
  },
  {
   "cell_type": "markdown",
   "id": "34b8413b",
   "metadata": {},
   "source": [
    "### Biota species"
   ]
  },
  {
   "cell_type": "code",
   "execution_count": null,
   "id": "2cd9e88f",
   "metadata": {},
   "outputs": [],
   "source": [
    "#| export\n",
    "def match_maris_species(\n",
    "    lut_path:str, # Path to MARIS species authoritative species look-up table\n",
    "    name:str, # Name of species to look up \n",
    "    col_lookup:str='species', # Name of the column where the character strings match\n",
    "    dist_fn:Callable=jf.levenshtein_distance, # Jellyfish distance to use\n",
    "    coi:list=['species_id', 'species', 'Taxonname', 'TaxonDBID'], # Columns of interest to display\n",
    "    nresults:int=10 # Maximum number of results to return\n",
    "    ):\n",
    "    \"Lookup `name` in MARIS master species lookup table\"\n",
    "    df = pd.read_excel(lut_path)\n",
    "    df = df.dropna(subset=col_lookup)\n",
    "    df = df.astype({'species_id':'int'})\n",
    "    results = []\n",
    "    for _, row in df.iterrows():\n",
    "        score = dist_fn(name.lower(), row[col_lookup].lower())\n",
    "        result = row[coi].to_dict()\n",
    "        result['score'] = score\n",
    "        results.append(result)\n",
    "    return pd.DataFrame(results).sort_values(by='score', ascending=True)[:nresults]"
   ]
  },
  {
   "cell_type": "code",
   "execution_count": null,
   "id": "0042ae81",
   "metadata": {},
   "outputs": [
    {
     "data": {
      "text/html": [
       "<div>\n",
       "<style scoped>\n",
       "    .dataframe tbody tr th:only-of-type {\n",
       "        vertical-align: middle;\n",
       "    }\n",
       "\n",
       "    .dataframe tbody tr th {\n",
       "        vertical-align: top;\n",
       "    }\n",
       "\n",
       "    .dataframe thead th {\n",
       "        text-align: right;\n",
       "    }\n",
       "</style>\n",
       "<table border=\"1\" class=\"dataframe\">\n",
       "  <thead>\n",
       "    <tr style=\"text-align: right;\">\n",
       "      <th></th>\n",
       "      <th>species_id</th>\n",
       "      <th>species</th>\n",
       "      <th>Taxonname</th>\n",
       "      <th>TaxonDBID</th>\n",
       "      <th>score</th>\n",
       "    </tr>\n",
       "  </thead>\n",
       "  <tbody>\n",
       "    <tr>\n",
       "      <th>281</th>\n",
       "      <td>280</td>\n",
       "      <td>Plankton</td>\n",
       "      <td>Plankton</td>\n",
       "      <td>Q25367</td>\n",
       "      <td>0</td>\n",
       "    </tr>\n",
       "    <tr>\n",
       "      <th>696</th>\n",
       "      <td>695</td>\n",
       "      <td>Zooplankton</td>\n",
       "      <td>Zooplankton</td>\n",
       "      <td>Q842627</td>\n",
       "      <td>3</td>\n",
       "    </tr>\n",
       "    <tr>\n",
       "      <th>633</th>\n",
       "      <td>632</td>\n",
       "      <td>Palaemon</td>\n",
       "      <td>Palaemon</td>\n",
       "      <td>Q1269791</td>\n",
       "      <td>4</td>\n",
       "    </tr>\n",
       "    <tr>\n",
       "      <th>160</th>\n",
       "      <td>159</td>\n",
       "      <td>Neuston</td>\n",
       "      <td>Neuston</td>\n",
       "      <td>Q1552545</td>\n",
       "      <td>5</td>\n",
       "    </tr>\n",
       "    <tr>\n",
       "      <th>697</th>\n",
       "      <td>696</td>\n",
       "      <td>Phytoplankton</td>\n",
       "      <td>Phytoplankton</td>\n",
       "      <td>Q184755</td>\n",
       "      <td>5</td>\n",
       "    </tr>\n",
       "    <tr>\n",
       "      <th>812</th>\n",
       "      <td>811</td>\n",
       "      <td>Chanos</td>\n",
       "      <td>Chanos</td>\n",
       "      <td>Q15114233</td>\n",
       "      <td>5</td>\n",
       "    </tr>\n",
       "    <tr>\n",
       "      <th>220</th>\n",
       "      <td>219</td>\n",
       "      <td>Pagurus</td>\n",
       "      <td>Pagurus</td>\n",
       "      <td>Q2480027</td>\n",
       "      <td>6</td>\n",
       "    </tr>\n",
       "    <tr>\n",
       "      <th>867</th>\n",
       "      <td>866</td>\n",
       "      <td>Terapon</td>\n",
       "      <td>Terapon</td>\n",
       "      <td>Q1978136</td>\n",
       "      <td>6</td>\n",
       "    </tr>\n",
       "    <tr>\n",
       "      <th>1233</th>\n",
       "      <td>1232</td>\n",
       "      <td>Praunus</td>\n",
       "      <td>Praunus</td>\n",
       "      <td>Q3860707</td>\n",
       "      <td>6</td>\n",
       "    </tr>\n",
       "    <tr>\n",
       "      <th>1019</th>\n",
       "      <td>1018</td>\n",
       "      <td>Therapon</td>\n",
       "      <td>Therapon</td>\n",
       "      <td>Q27988534</td>\n",
       "      <td>6</td>\n",
       "    </tr>\n",
       "  </tbody>\n",
       "</table>\n",
       "</div>"
      ],
      "text/plain": [
       "      species_id        species      Taxonname  TaxonDBID  score\n",
       "281          280       Plankton       Plankton     Q25367      0\n",
       "696          695    Zooplankton    Zooplankton    Q842627      3\n",
       "633          632       Palaemon       Palaemon   Q1269791      4\n",
       "160          159        Neuston        Neuston   Q1552545      5\n",
       "697          696  Phytoplankton  Phytoplankton    Q184755      5\n",
       "812          811         Chanos         Chanos  Q15114233      5\n",
       "220          219        Pagurus        Pagurus   Q2480027      6\n",
       "867          866        Terapon        Terapon   Q1978136      6\n",
       "1233        1232        Praunus        Praunus   Q3860707      6\n",
       "1019        1018       Therapon       Therapon  Q27988534      6"
      ]
     },
     "execution_count": null,
     "metadata": {},
     "output_type": "execute_result"
    }
   ],
   "source": [
    "# species_lut_path()\n",
    "lut_fname = '../files/lut/dbo_species_cleaned.xlsx'\n",
    "match_maris_species(lut_fname, 'PLANKTON')"
   ]
  },
  {
   "cell_type": "markdown",
   "id": "4df4a639",
   "metadata": {},
   "source": [
    "### Sediment types"
   ]
  },
  {
   "cell_type": "code",
   "execution_count": null,
   "id": "046c4eb7",
   "metadata": {},
   "outputs": [],
   "source": [
    "#| export\n",
    "def match_maris_sediment(\n",
    "    name:str, # Name of sediment to look up \n",
    "    col_lookup:str='sedtype', # Name of the column where the character strings match\n",
    "    dist_fn:Callable=jf.levenshtein_distance, # Jellyfish distance to use\n",
    "    coi:list=['sedtype_id', 'sedtype'], # Columns of interest to display\n",
    "    nresults:int=10 # Maxiumn number of results to return\n",
    "    ):\n",
    "    \"Lookup `sedtype` in MARIS master sediment lookup table\"\n",
    "    df = pd.read_excel(sediments_lut_path())\n",
    "    df = df.dropna(subset=col_lookup)\n",
    "    df = df.astype({'sedtype_id':'int'})\n",
    "    results = []\n",
    "    for _, row in df.iterrows():\n",
    "        score = dist_fn(name.lower(), row[col_lookup].lower())\n",
    "        result = row[coi].to_dict()\n",
    "        result['score'] = score\n",
    "        results.append(result)\n",
    "    return pd.DataFrame(results).sort_values(by='score', ascending=True)[:nresults]"
   ]
  },
  {
   "cell_type": "code",
   "execution_count": null,
   "id": "feba2088",
   "metadata": {},
   "outputs": [
    {
     "data": {
      "text/html": [
       "<div>\n",
       "<style scoped>\n",
       "    .dataframe tbody tr th:only-of-type {\n",
       "        vertical-align: middle;\n",
       "    }\n",
       "\n",
       "    .dataframe tbody tr th {\n",
       "        vertical-align: top;\n",
       "    }\n",
       "\n",
       "    .dataframe thead th {\n",
       "        text-align: right;\n",
       "    }\n",
       "</style>\n",
       "<table border=\"1\" class=\"dataframe\">\n",
       "  <thead>\n",
       "    <tr style=\"text-align: right;\">\n",
       "      <th></th>\n",
       "      <th>sedtype_id</th>\n",
       "      <th>sedtype</th>\n",
       "      <th>score</th>\n",
       "    </tr>\n",
       "  </thead>\n",
       "  <tbody>\n",
       "    <tr>\n",
       "      <th>25</th>\n",
       "      <td>25</td>\n",
       "      <td>Glacial</td>\n",
       "      <td>0</td>\n",
       "    </tr>\n",
       "    <tr>\n",
       "      <th>2</th>\n",
       "      <td>2</td>\n",
       "      <td>Gravel</td>\n",
       "      <td>4</td>\n",
       "    </tr>\n",
       "    <tr>\n",
       "      <th>1</th>\n",
       "      <td>1</td>\n",
       "      <td>Clay</td>\n",
       "      <td>5</td>\n",
       "    </tr>\n",
       "    <tr>\n",
       "      <th>50</th>\n",
       "      <td>50</td>\n",
       "      <td>Glacial clay</td>\n",
       "      <td>5</td>\n",
       "    </tr>\n",
       "    <tr>\n",
       "      <th>3</th>\n",
       "      <td>3</td>\n",
       "      <td>Marsh</td>\n",
       "      <td>6</td>\n",
       "    </tr>\n",
       "    <tr>\n",
       "      <th>14</th>\n",
       "      <td>14</td>\n",
       "      <td>Sludge</td>\n",
       "      <td>6</td>\n",
       "    </tr>\n",
       "    <tr>\n",
       "      <th>6</th>\n",
       "      <td>6</td>\n",
       "      <td>Sand</td>\n",
       "      <td>6</td>\n",
       "    </tr>\n",
       "    <tr>\n",
       "      <th>12</th>\n",
       "      <td>12</td>\n",
       "      <td>Silt</td>\n",
       "      <td>6</td>\n",
       "    </tr>\n",
       "    <tr>\n",
       "      <th>51</th>\n",
       "      <td>51</td>\n",
       "      <td>Soft clay</td>\n",
       "      <td>7</td>\n",
       "    </tr>\n",
       "    <tr>\n",
       "      <th>15</th>\n",
       "      <td>15</td>\n",
       "      <td>Turf</td>\n",
       "      <td>7</td>\n",
       "    </tr>\n",
       "  </tbody>\n",
       "</table>\n",
       "</div>"
      ],
      "text/plain": [
       "    sedtype_id       sedtype  score\n",
       "25          25       Glacial      0\n",
       "2            2        Gravel      4\n",
       "1            1          Clay      5\n",
       "50          50  Glacial clay      5\n",
       "3            3         Marsh      6\n",
       "14          14        Sludge      6\n",
       "6            6          Sand      6\n",
       "12          12          Silt      6\n",
       "51          51     Soft clay      7\n",
       "15          15          Turf      7"
      ]
     },
     "execution_count": null,
     "metadata": {},
     "output_type": "execute_result"
    }
   ],
   "source": [
    "match_maris_sediment('GLACIAL')"
   ]
  },
  {
   "cell_type": "code",
   "execution_count": null,
   "id": "f027bbc8",
   "metadata": {},
   "outputs": [],
   "source": []
  }
 ],
 "metadata": {
  "kernelspec": {
   "display_name": "Python 3 (ipykernel)",
   "language": "python",
   "name": "python3"
  }
 },
 "nbformat": 4,
 "nbformat_minor": 5
}

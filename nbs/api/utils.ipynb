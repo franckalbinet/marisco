{
 "cells": [
  {
   "cell_type": "code",
   "execution_count": null,
   "id": "95ddae9f",
   "metadata": {},
   "outputs": [],
   "source": [
    "#| default_exp utils"
   ]
  },
  {
   "attachments": {},
   "cell_type": "markdown",
   "id": "34f38641",
   "metadata": {},
   "source": [
    "# Utilities\n",
    "> Various utilities"
   ]
  },
  {
   "cell_type": "code",
   "execution_count": null,
   "id": "b4934cd2",
   "metadata": {},
   "outputs": [],
   "source": [
    "#| export\n",
    "from pathlib import Path\n",
    "from netCDF4 import Dataset\n",
    "from fastcore.test import test_eq\n",
    "import fastcore.all as fc\n",
    "import pandas as pd\n",
    "import numpy as np\n",
    "from tqdm import tqdm \n",
    "import requests\n",
    "from shapely import MultiPoint\n",
    "from operator import attrgetter\n",
    "from dataclasses import dataclass\n",
    "from typing import List, Dict, Callable, Tuple\n",
    "\n",
    "from marisco.configs import species_lut_path, sediments_lut_path, cache_path\n",
    "\n",
    "import jellyfish as jf\n",
    "from collections.abc import Callable"
   ]
  },
  {
   "cell_type": "code",
   "execution_count": null,
   "id": "e511f159",
   "metadata": {},
   "outputs": [],
   "source": [
    "import pandas as pd"
   ]
  },
  {
   "cell_type": "markdown",
   "id": "7ddde356",
   "metadata": {},
   "source": [
    "## Core"
   ]
  },
  {
   "cell_type": "markdown",
   "id": "206d7a4c",
   "metadata": {},
   "source": [
    "Abstracting some common operations."
   ]
  },
  {
   "cell_type": "code",
   "execution_count": null,
   "id": "31569370",
   "metadata": {},
   "outputs": [],
   "source": [
    "#| exports\n",
    "def get_unique_across_dfs(dfs:dict,  # Dictionary of dataframes\n",
    "                          col_name:str='NUCLIDE', # Column name to extract unique values from\n",
    "                          as_df:bool=False, # Return a DataFrame of unique values\n",
    "                          include_nchars:bool=False # Add a column with the number of characters in the value\n",
    "                          ) -> list: # Returns a list of unique column values across dataframes\n",
    "    \"Get a list of unique column values across dataframes.\"\n",
    "    unique_values = list(set().union(*(df[col_name].unique() for df in dfs.values() if col_name in df.columns)))\n",
    "    if not as_df:\n",
    "        return unique_values\n",
    "    else:\n",
    "        df_uniques = pd.DataFrame(unique_values, columns=['value']).reset_index()\n",
    "        if include_nchars: df_uniques['n_chars'] = df_uniques['value'].str.len()\n",
    "        return df_uniques"
   ]
  },
  {
   "cell_type": "markdown",
   "id": "db4c8487",
   "metadata": {},
   "source": [
    "Example of use:"
   ]
  },
  {
   "cell_type": "code",
   "execution_count": null,
   "id": "609599ed",
   "metadata": {},
   "outputs": [],
   "source": [
    "dfs_test = {'seawater': pd.DataFrame({'NUCLIDE': ['cs137', 'cs134_137_tot', 'cs134_137_tot']}),\n",
    "            'biota': pd.DataFrame({'NUCLIDE': ['cs137', 'cs134', 'cs134_137_tot']}),\n",
    "            'sediment': pd.DataFrame({'NUCLIDE': ['cs134_137_tot', 'cs134_137_tot', 'cs134_137_tot']})}\n",
    "\n",
    "fc.test_eq(set(get_unique_across_dfs(dfs_test, col_name='NUCLIDE')), \n",
    "           set(['cs134', 'cs137', 'cs134_137_tot']))"
   ]
  },
  {
   "cell_type": "markdown",
   "id": "198c8edd",
   "metadata": {},
   "source": [
    "What if the column name is not in one of the dataframe?"
   ]
  },
  {
   "cell_type": "code",
   "execution_count": null,
   "id": "24161871",
   "metadata": {},
   "outputs": [],
   "source": [
    "dfs_test = {'seawater': pd.DataFrame({'NUCLIDE': ['cs137', 'cs134_137_tot', 'cs134_137_tot']}),\n",
    "            'biota': pd.DataFrame({'NUCLIDE': ['cs137', 'cs134', 'cs134_137_tot']}),\n",
    "            'sediment': pd.DataFrame({'NONUCLIDE': ['cs134_137_tot', 'cs134_137_tot', 'cs134_137_tot']})}\n",
    "\n",
    "fc.test_eq(set(get_unique_across_dfs(dfs_test, col_name='NUCLIDE')), \n",
    "           set(['cs134', 'cs137', 'cs134_137_tot']))"
   ]
  },
  {
   "cell_type": "code",
   "execution_count": null,
   "id": "08e26bb1",
   "metadata": {},
   "outputs": [
    {
     "data": {
      "text/html": [
       "<div>\n",
       "<style scoped>\n",
       "    .dataframe tbody tr th:only-of-type {\n",
       "        vertical-align: middle;\n",
       "    }\n",
       "\n",
       "    .dataframe tbody tr th {\n",
       "        vertical-align: top;\n",
       "    }\n",
       "\n",
       "    .dataframe thead th {\n",
       "        text-align: right;\n",
       "    }\n",
       "</style>\n",
       "<table border=\"1\" class=\"dataframe\">\n",
       "  <thead>\n",
       "    <tr style=\"text-align: right;\">\n",
       "      <th></th>\n",
       "      <th>index</th>\n",
       "      <th>value</th>\n",
       "      <th>n_chars</th>\n",
       "    </tr>\n",
       "  </thead>\n",
       "  <tbody>\n",
       "    <tr>\n",
       "      <th>0</th>\n",
       "      <td>0</td>\n",
       "      <td>cs137</td>\n",
       "      <td>5</td>\n",
       "    </tr>\n",
       "    <tr>\n",
       "      <th>1</th>\n",
       "      <td>1</td>\n",
       "      <td>cs134_137_tot</td>\n",
       "      <td>13</td>\n",
       "    </tr>\n",
       "    <tr>\n",
       "      <th>2</th>\n",
       "      <td>2</td>\n",
       "      <td>cs134</td>\n",
       "      <td>5</td>\n",
       "    </tr>\n",
       "  </tbody>\n",
       "</table>\n",
       "</div>"
      ],
      "text/plain": [
       "   index          value  n_chars\n",
       "0      0          cs137        5\n",
       "1      1  cs134_137_tot       13\n",
       "2      2          cs134        5"
      ]
     },
     "execution_count": null,
     "metadata": {},
     "output_type": "execute_result"
    }
   ],
   "source": [
    "get_unique_across_dfs(dfs_test, col_name='NUCLIDE', as_df=True, include_nchars=True)"
   ]
  },
  {
   "cell_type": "code",
   "execution_count": null,
   "id": "cf58241b",
   "metadata": {},
   "outputs": [],
   "source": [
    "#| exports\n",
    "class Remapper():\n",
    "    def __init__(self,\n",
    "                 provider_lut_df:pd.DataFrame, # Data provider lookup table to be remapped\n",
    "                 maris_lut_fn:callable, # Function that returns the MARIS lookup table path\n",
    "                 maris_col_id:str, # MARIS lookup table column name for the id\n",
    "                 maris_col_name:str, # MARIS lookup table column name for the name\n",
    "                 provider_col_to_match:str, # Data provider lookup table column name for the name to match\n",
    "                 provider_col_key, # Data provider lookup table column name for the key\n",
    "                 fname_cache  # Cache file name\n",
    "                 ):\n",
    "        \"Remap a data provider lookup table to a MARIS lookup table using fuzzy matching.\"\n",
    "        fc.store_attr()\n",
    "        self.cache_file = cache_path() / fname_cache\n",
    "        self.maris_lut = maris_lut_fn()\n",
    "        self.lut = {}\n",
    "\n",
    "    def generate_lookup_table(self, \n",
    "                              fixes={}, # Lookup table fixes\n",
    "                              as_df=True, # Whether to return a DataFrame\n",
    "                              overwrite=True):\n",
    "        \"Generate a lookup table from a data provider lookup table to a MARIS lookup table using fuzzy matching.\"\n",
    "        self.fixes = fixes\n",
    "        self.as_df = as_df\n",
    "        if overwrite or not self.cache_file.exists():\n",
    "            self._create_lookup_table()\n",
    "            fc.save_pickle(self.cache_file, self.lut)\n",
    "        else:\n",
    "            self.lut = fc.load_pickle(self.cache_file)\n",
    "\n",
    "        return self._format_output()\n",
    "\n",
    "    def _create_lookup_table(self):\n",
    "        df = self.provider_lut_df\n",
    "        for _, row in tqdm(df.iterrows(), total=len(df), desc=\"Processing\"): \n",
    "            # print(row[self.provider_col_to_match])\n",
    "            self._process_row(row)\n",
    "\n",
    "    def _process_row(self, row):\n",
    "        value_to_match = row[self.provider_col_to_match]\n",
    "        if isinstance(value_to_match, str):  # Only process if value is a string\n",
    "            name_to_match = self.fixes.get(value_to_match, value_to_match)\n",
    "            \n",
    "            result = match_maris_lut(self.maris_lut, name_to_match, self.maris_col_id, self.maris_col_name).iloc[0]\n",
    "            match = Match(result[self.maris_col_id], result[self.maris_col_name], \n",
    "                          value_to_match, result['score'])\n",
    "            self.lut[row[self.provider_col_key]] = match\n",
    "        else:\n",
    "            # Handle non-string values (e.g., NaN)\n",
    "            self.lut[row[self.provider_col_key]] = Match(-1, \"Unknown\", value_to_match, 0)\n",
    "            \n",
    "    def select_match(self, match_score_threshold:int=1):\n",
    "        self.lut = {k: v for k, v in self.lut.items() if v.match_score >= match_score_threshold}\n",
    "        return self._format_output()\n",
    "\n",
    "    def _format_output(self):\n",
    "        if not self.as_df: return self.lut\n",
    "        df_lut = pd.DataFrame.from_dict(self.lut, orient='index', \n",
    "                                        columns=['matched_maris_name', 'source_name', 'match_score'])\n",
    "        df_lut.index.name = 'source_key'\n",
    "        return df_lut.sort_values(by='match_score', ascending=False)\n"
   ]
  },
  {
   "attachments": {},
   "cell_type": "markdown",
   "id": "b2b0c493",
   "metadata": {},
   "source": [
    "## Validation"
   ]
  },
  {
   "cell_type": "code",
   "execution_count": null,
   "id": "d571a8c9",
   "metadata": {},
   "outputs": [],
   "source": [
    "#| exports\n",
    "def has_valid_varname(\n",
    "    var_names:list, # variable names\n",
    "    cdl_path:str, # Path to MARIS CDL file (point of truth)\n",
    "    group = None, # Check if the variable names is contained in the group\n",
    "):\n",
    "    \"Check that proposed variable names are in MARIS CDL\"\n",
    "    has_valid = True\n",
    "    with Dataset(cdl_path) as nc:\n",
    "        cdl_vars={}\n",
    "        all_vars=[]\n",
    "        # get variable names in CDL \n",
    "        for grp in nc.groups.values():\n",
    "            # Create a list of var for each group\n",
    "            vars = list(grp.variables.keys())\n",
    "            cdl_vars[grp.name] = vars\n",
    "            all_vars.extend(vars)\n",
    "        \n",
    "    if group != None:\n",
    "        allowed_vars= cdl_vars[group]\n",
    "    else: \n",
    "        # get unique \n",
    "        allowed_vars = list(set(all_vars))\n",
    "        \n",
    "    for name in var_names:\n",
    "        if name not in allowed_vars:\n",
    "            has_valid = False\n",
    "            if group != None:\n",
    "                print(f'\"{name}\" variable name not found in group \"{group}\" of MARIS CDL')\n",
    "            else:\n",
    "                print(f'\"{name}\" variable name not found in MARIS CDL')\n",
    "    return has_valid  "
   ]
  },
  {
   "cell_type": "code",
   "execution_count": null,
   "id": "169dddf3",
   "metadata": {},
   "outputs": [],
   "source": [
    "VARNAMES = ['lat', 'lon']\n",
    "test_eq(has_valid_varname(VARNAMES, './files/nc/maris-cdl.nc'), True)"
   ]
  },
  {
   "cell_type": "code",
   "execution_count": null,
   "id": "8dff3d6f",
   "metadata": {},
   "outputs": [
    {
     "name": "stdout",
     "output_type": "stream",
     "text": [
      "\"ba140_invalid\" variable name not found in MARIS CDL\n"
     ]
    }
   ],
   "source": [
    "VARNAMES = ['ba140_invalid', 'ba140_dl']\n",
    "test_eq(has_valid_varname(VARNAMES, './files/nc/maris-cdl.nc'), False)"
   ]
  },
  {
   "cell_type": "markdown",
   "id": "edf1777c",
   "metadata": {},
   "source": [
    "## Geoprocessing"
   ]
  },
  {
   "cell_type": "code",
   "execution_count": null,
   "id": "0430678d",
   "metadata": {},
   "outputs": [],
   "source": [
    "#| exports\n",
    "def get_bbox(df,\n",
    "             coord_cols=('lon', 'lat')\n",
    "            ):\n",
    "    x, y = coord_cols        \n",
    "    arr = [(row[x], row[y]) for _, row in df.iterrows()]\n",
    "    return MultiPoint(arr).envelope"
   ]
  },
  {
   "cell_type": "code",
   "execution_count": null,
   "id": "634c1197",
   "metadata": {},
   "outputs": [],
   "source": [
    "df = pd.DataFrame({'lon': np.linspace(-10, 5, 20), 'lat':  np.linspace(40, 50, 20)})\n",
    "bbox = get_bbox(df);"
   ]
  },
  {
   "cell_type": "code",
   "execution_count": null,
   "id": "0e607512",
   "metadata": {},
   "outputs": [
    {
     "data": {
      "text/plain": [
       "(-10.0, 40.0, 5.0, 50.0)"
      ]
     },
     "metadata": {},
     "output_type": "display_data"
    }
   ],
   "source": [
    "# To get `lon_min`, `lon_max`, `lat_min`, `lat_max`\n",
    "bbox.bounds"
   ]
  },
  {
   "cell_type": "code",
   "execution_count": null,
   "id": "c761fbd8",
   "metadata": {},
   "outputs": [
    {
     "data": {
      "text/plain": [
       "'POLYGON ((-10 40, 5 40, 5 50, -10 50, -10 40))'"
      ]
     },
     "metadata": {},
     "output_type": "display_data"
    }
   ],
   "source": [
    "# And its Well-Know Text representation\n",
    "bbox.wkt"
   ]
  },
  {
   "cell_type": "code",
   "execution_count": null,
   "id": "ec103c78",
   "metadata": {},
   "outputs": [],
   "source": [
    "# If unique (lon, lat)\n",
    "df = pd.DataFrame({'lon': [0, 0], 'lat':  [1, 1]})\n",
    "bbox = get_bbox(df);"
   ]
  },
  {
   "cell_type": "code",
   "execution_count": null,
   "id": "52704a39",
   "metadata": {},
   "outputs": [
    {
     "data": {
      "text/plain": [
       "(0.0, 1.0, 0.0, 1.0)"
      ]
     },
     "metadata": {},
     "output_type": "display_data"
    }
   ],
   "source": [
    "bbox.bounds"
   ]
  },
  {
   "cell_type": "markdown",
   "id": "1fe93f8e",
   "metadata": {},
   "source": [
    "## Downloaders"
   ]
  },
  {
   "cell_type": "code",
   "execution_count": null,
   "id": "2a8da64c",
   "metadata": {},
   "outputs": [],
   "source": [
    "#| exports\n",
    "def download_files_in_folder(owner:str, \n",
    "                             repo:str, \n",
    "                             src_dir:str, \n",
    "                             dest_dir:str\n",
    "                             ):\n",
    "    \"Make a GET request to the GitHub API to get the contents of the folder\"\n",
    "    url = f\"https://api.github.com/repos/{owner}/{repo}/contents/{src_dir}\"\n",
    "    response = requests.get(url)\n",
    "\n",
    "    if response.status_code == 200:\n",
    "        contents = response.json()\n",
    "\n",
    "        # Iterate over the files and download them\n",
    "        for item in contents:\n",
    "            if item[\"type\"] == \"file\":\n",
    "                fname = item[\"name\"]\n",
    "                download_file(owner, repo, src_dir, dest_dir, fname)\n",
    "    else:\n",
    "        print(f\"Error: {response.status_code}\")\n",
    "\n",
    "def download_file(owner, repo, src_dir, dest_dir, fname):\n",
    "    # Make a GET request to the GitHub API to get the raw file contents\n",
    "    url = f\"https://raw.githubusercontent.com/{owner}/{repo}/master/{src_dir}/{fname}\"\n",
    "    response = requests.get(url)\n",
    "\n",
    "    if response.status_code == 200:\n",
    "        # Save the file locally\n",
    "        with open(Path(dest_dir) / fname, \"wb\") as file:\n",
    "            file.write(response.content)\n",
    "        print(f\"{fname} downloaded successfully.\")\n",
    "    else:\n",
    "        print(f\"Error: {response.status_code}\")"
   ]
  },
  {
   "cell_type": "markdown",
   "id": "32414dcf",
   "metadata": {},
   "source": [
    "## WorRMS\n",
    "The [World Register of Marine Species (WorMS)](https://www.marinespecies.org) is an authoritative classification and catalogue of marine names. It provides a REST API (among others) allowing to \"fuzzy\" match any species name you might encounter in marine data sources names againt their own database. There are several types of matches as described [here](https://www.marinespecies.org/tutorial_taxonmatch.php)."
   ]
  },
  {
   "cell_type": "code",
   "execution_count": null,
   "id": "05afdcf0",
   "metadata": {},
   "outputs": [],
   "source": [
    "#| exports\n",
    "def match_worms(\n",
    "    name:str # Name of species to look up in WoRMS\n",
    "    ):\n",
    "    \"Lookup `name` in WoRMS (fuzzy match)\"\n",
    "    url = 'https://www.marinespecies.org/rest/AphiaRecordsByMatchNames'\n",
    "    params = {\n",
    "        'scientificnames[]': [name],\n",
    "        'marine_only': 'true'\n",
    "    }\n",
    "    headers = {\n",
    "        'accept': 'application/json'\n",
    "    }\n",
    "    \n",
    "    response = requests.get(url, params=params, headers=headers)\n",
    "    \n",
    "    # Check if the request was successful (status code 200)\n",
    "    if response.status_code == 200:\n",
    "        data = response.json()\n",
    "        return data\n",
    "    else:\n",
    "        return -1"
   ]
  },
  {
   "cell_type": "markdown",
   "id": "5ad2ed2b",
   "metadata": {},
   "source": [
    "For instance:"
   ]
  },
  {
   "cell_type": "code",
   "execution_count": null,
   "id": "b096a3e8",
   "metadata": {},
   "outputs": [
    {
     "data": {
      "text/plain": [
       "[[{'AphiaID': 107083,\n",
       "   'url': 'https://www.marinespecies.org/aphia.php?p=taxdetails&id=107083',\n",
       "   'scientificname': 'Aristeus antennatus',\n",
       "   'authority': '(Risso, 1816)',\n",
       "   'status': 'accepted',\n",
       "   'unacceptreason': None,\n",
       "   'taxonRankID': 220,\n",
       "   'rank': 'Species',\n",
       "   'valid_AphiaID': 107083,\n",
       "   'valid_name': 'Aristeus antennatus',\n",
       "   'valid_authority': '(Risso, 1816)',\n",
       "   'parentNameUsageID': 106807,\n",
       "   'kingdom': 'Animalia',\n",
       "   'phylum': 'Arthropoda',\n",
       "   'class': 'Malacostraca',\n",
       "   'order': 'Decapoda',\n",
       "   'family': 'Aristeidae',\n",
       "   'genus': 'Aristeus',\n",
       "   'citation': 'DecaNet eds. (2024). DecaNet. Aristeus antennatus (Risso, 1816). Accessed through: World Register of Marine Species at: https://www.marinespecies.org/aphia.php?p=taxdetails&id=107083 on 2024-06-10',\n",
       "   'lsid': 'urn:lsid:marinespecies.org:taxname:107083',\n",
       "   'isMarine': 1,\n",
       "   'isBrackish': 0,\n",
       "   'isFreshwater': 0,\n",
       "   'isTerrestrial': 0,\n",
       "   'isExtinct': 0,\n",
       "   'match_type': 'exact',\n",
       "   'modified': '2022-08-24T09:48:14.813Z'}]]"
      ]
     },
     "metadata": {},
     "output_type": "display_data"
    }
   ],
   "source": [
    "#|eval: false\n",
    "match_worms('Aristeus antennatus')"
   ]
  },
  {
   "cell_type": "code",
   "execution_count": null,
   "id": "941575e6",
   "metadata": {},
   "outputs": [],
   "source": [
    "# open dbo_species\n",
    "#from tqdm import tqdm\n",
    "#results = []\n",
    "#species = pd.read_excel(species_lut_path()).species\n",
    "#for i, name in tqdm(enumerate(species), total=len(species)):\n",
    "#    if i > 1:\n",
    "#        worms_match = match_worms(name)\n",
    "#        if worms_match != -1:\n",
    "#            results.append(worms_match[0][0])"
   ]
  },
  {
   "cell_type": "code",
   "execution_count": null,
   "id": "f3330730",
   "metadata": {},
   "outputs": [],
   "source": [
    "# np.unique(np.array([result['phylum'] for result in results]))"
   ]
  },
  {
   "cell_type": "code",
   "execution_count": null,
   "id": "fbd1f898",
   "metadata": {},
   "outputs": [],
   "source": [
    "#len(maris_worms_matches)"
   ]
  },
  {
   "cell_type": "code",
   "execution_count": null,
   "id": "c048752c",
   "metadata": {},
   "outputs": [],
   "source": [
    "#maris_worms_matches = fc.load_pickle('./files/pkl/maris-worms-matches.pkl')"
   ]
  },
  {
   "cell_type": "code",
   "execution_count": null,
   "id": "a5bf8683",
   "metadata": {},
   "outputs": [],
   "source": [
    "#np.unique(np.array([result['phylum'] for result in maris_worms_matches]))"
   ]
  },
  {
   "cell_type": "code",
   "execution_count": null,
   "id": "7972dd3a",
   "metadata": {},
   "outputs": [],
   "source": [
    "#len([result for result in maris_worms_matches if result['status'] == 'accepted'])"
   ]
  },
  {
   "cell_type": "markdown",
   "id": "4c70ed97",
   "metadata": {},
   "source": [
    "## Fuzzy matching for MARIS Lookup Tables\n",
    "Using https://jamesturk.github.io/jellyfish fuzzy matching distance metrics.\n"
   ]
  },
  {
   "cell_type": "code",
   "execution_count": null,
   "id": "a523f5b5",
   "metadata": {},
   "outputs": [],
   "source": [
    "#| exports\n",
    "@dataclass\n",
    "class Match:\n",
    "    matched_id: int\n",
    "    matched_maris_name: str\n",
    "    source_name: str\n",
    "    match_score: int"
   ]
  },
  {
   "cell_type": "code",
   "execution_count": null,
   "id": "6a40fd78",
   "metadata": {},
   "outputs": [],
   "source": [
    "#| exports\n",
    "def match_maris_lut(\n",
    "    lut_path: str, # Path to MARIS species authoritative species look-up table\n",
    "    data_provider_name: str, # Name of data provider nomenclature item to look up \n",
    "    maris_id: str, # Id of MARIS lookup table nomenclature item to match\n",
    "    maris_name: str, # Name of MARIS lookup table nomenclature item to match\n",
    "    dist_fn: Callable = jf.levenshtein_distance, # Distance function\n",
    "    nresults: int = 10 # Maximum number of results to return\n",
    ") -> pd.DataFrame:\n",
    "    \"Fuzzy matching data provider and MARIS lookup tables (e.g biota species, sediments, ...).\"\n",
    "    df = pd.read_excel(lut_path)\n",
    "    df = df.dropna(subset=[maris_name])\n",
    "    df = df.astype({maris_id: 'int'})\n",
    "    df['score'] = df[maris_name].str.lower().apply(lambda x: dist_fn(data_provider_name.lower(), x))\n",
    "    df = df.sort_values(by='score', ascending=True)[:nresults]\n",
    "    return df[[maris_id, maris_name, 'score']]"
   ]
  },
  {
   "cell_type": "markdown",
   "id": "0617587e",
   "metadata": {},
   "source": [
    "Below an example trying to match the name \"PLANKTON\" with `dbo_species_cleaned.xlsx` MARIS biota species lookup table:"
   ]
  },
  {
   "cell_type": "code",
   "execution_count": null,
   "id": "282aa570",
   "metadata": {},
   "outputs": [
    {
     "data": {
      "text/html": [
       "<div>\n",
       "<style scoped>\n",
       "    .dataframe tbody tr th:only-of-type {\n",
       "        vertical-align: middle;\n",
       "    }\n",
       "\n",
       "    .dataframe tbody tr th {\n",
       "        vertical-align: top;\n",
       "    }\n",
       "\n",
       "    .dataframe thead th {\n",
       "        text-align: right;\n",
       "    }\n",
       "</style>\n",
       "<table border=\"1\" class=\"dataframe\">\n",
       "  <thead>\n",
       "    <tr style=\"text-align: right;\">\n",
       "      <th></th>\n",
       "      <th>species_id</th>\n",
       "      <th>species</th>\n",
       "      <th>score</th>\n",
       "    </tr>\n",
       "  </thead>\n",
       "  <tbody>\n",
       "    <tr>\n",
       "      <th>281</th>\n",
       "      <td>280</td>\n",
       "      <td>Plankton</td>\n",
       "      <td>0</td>\n",
       "    </tr>\n",
       "    <tr>\n",
       "      <th>696</th>\n",
       "      <td>695</td>\n",
       "      <td>Zooplankton</td>\n",
       "      <td>3</td>\n",
       "    </tr>\n",
       "    <tr>\n",
       "      <th>633</th>\n",
       "      <td>632</td>\n",
       "      <td>Palaemon</td>\n",
       "      <td>4</td>\n",
       "    </tr>\n",
       "    <tr>\n",
       "      <th>697</th>\n",
       "      <td>696</td>\n",
       "      <td>Phytoplankton</td>\n",
       "      <td>5</td>\n",
       "    </tr>\n",
       "    <tr>\n",
       "      <th>812</th>\n",
       "      <td>811</td>\n",
       "      <td>Chanos</td>\n",
       "      <td>5</td>\n",
       "    </tr>\n",
       "    <tr>\n",
       "      <th>160</th>\n",
       "      <td>159</td>\n",
       "      <td>Neuston</td>\n",
       "      <td>5</td>\n",
       "    </tr>\n",
       "    <tr>\n",
       "      <th>234</th>\n",
       "      <td>233</td>\n",
       "      <td>Penaeus</td>\n",
       "      <td>6</td>\n",
       "    </tr>\n",
       "    <tr>\n",
       "      <th>1458</th>\n",
       "      <td>1457</td>\n",
       "      <td>Lamnidae</td>\n",
       "      <td>6</td>\n",
       "    </tr>\n",
       "    <tr>\n",
       "      <th>1438</th>\n",
       "      <td>1437</td>\n",
       "      <td>Labrus</td>\n",
       "      <td>6</td>\n",
       "    </tr>\n",
       "    <tr>\n",
       "      <th>1527</th>\n",
       "      <td>1526</td>\n",
       "      <td>Favites</td>\n",
       "      <td>6</td>\n",
       "    </tr>\n",
       "  </tbody>\n",
       "</table>\n",
       "</div>"
      ],
      "text/plain": [
       "      species_id        species  score\n",
       "281          280       Plankton      0\n",
       "696          695    Zooplankton      3\n",
       "633          632       Palaemon      4\n",
       "697          696  Phytoplankton      5\n",
       "812          811         Chanos      5\n",
       "160          159        Neuston      5\n",
       "234          233        Penaeus      6\n",
       "1458        1457       Lamnidae      6\n",
       "1438        1437         Labrus      6\n",
       "1527        1526        Favites      6"
      ]
     },
     "execution_count": null,
     "metadata": {},
     "output_type": "execute_result"
    }
   ],
   "source": [
    "lut_fname = '../files/lut/dbo_species_cleaned.xlsx'\n",
    "match_maris_lut(lut_fname, data_provider_name='PLANKTON', \n",
    "                maris_id='species_id', maris_name='species')"
   ]
  },
  {
   "cell_type": "markdown",
   "id": "753034ae",
   "metadata": {},
   "source": [
    "Below an example trying to match the name \"GLACIAL\" with dbo_sedtype.xlsx MARIS sediment lookup table:"
   ]
  },
  {
   "cell_type": "code",
   "execution_count": null,
   "id": "8ab4bc84",
   "metadata": {},
   "outputs": [
    {
     "data": {
      "text/html": [
       "<div>\n",
       "<style scoped>\n",
       "    .dataframe tbody tr th:only-of-type {\n",
       "        vertical-align: middle;\n",
       "    }\n",
       "\n",
       "    .dataframe tbody tr th {\n",
       "        vertical-align: top;\n",
       "    }\n",
       "\n",
       "    .dataframe thead th {\n",
       "        text-align: right;\n",
       "    }\n",
       "</style>\n",
       "<table border=\"1\" class=\"dataframe\">\n",
       "  <thead>\n",
       "    <tr style=\"text-align: right;\">\n",
       "      <th></th>\n",
       "      <th>sedtype_id</th>\n",
       "      <th>sedtype</th>\n",
       "      <th>score</th>\n",
       "    </tr>\n",
       "  </thead>\n",
       "  <tbody>\n",
       "    <tr>\n",
       "      <th>26</th>\n",
       "      <td>25</td>\n",
       "      <td>Glacial</td>\n",
       "      <td>0</td>\n",
       "    </tr>\n",
       "    <tr>\n",
       "      <th>3</th>\n",
       "      <td>2</td>\n",
       "      <td>Gravel</td>\n",
       "      <td>4</td>\n",
       "    </tr>\n",
       "    <tr>\n",
       "      <th>2</th>\n",
       "      <td>1</td>\n",
       "      <td>Clay</td>\n",
       "      <td>5</td>\n",
       "    </tr>\n",
       "    <tr>\n",
       "      <th>51</th>\n",
       "      <td>50</td>\n",
       "      <td>Glacial clay</td>\n",
       "      <td>5</td>\n",
       "    </tr>\n",
       "    <tr>\n",
       "      <th>4</th>\n",
       "      <td>3</td>\n",
       "      <td>Marsh</td>\n",
       "      <td>6</td>\n",
       "    </tr>\n",
       "    <tr>\n",
       "      <th>7</th>\n",
       "      <td>6</td>\n",
       "      <td>Sand</td>\n",
       "      <td>6</td>\n",
       "    </tr>\n",
       "    <tr>\n",
       "      <th>13</th>\n",
       "      <td>12</td>\n",
       "      <td>Silt</td>\n",
       "      <td>6</td>\n",
       "    </tr>\n",
       "    <tr>\n",
       "      <th>15</th>\n",
       "      <td>14</td>\n",
       "      <td>Sludge</td>\n",
       "      <td>6</td>\n",
       "    </tr>\n",
       "    <tr>\n",
       "      <th>27</th>\n",
       "      <td>26</td>\n",
       "      <td>Soft</td>\n",
       "      <td>7</td>\n",
       "    </tr>\n",
       "    <tr>\n",
       "      <th>52</th>\n",
       "      <td>51</td>\n",
       "      <td>Soft clay</td>\n",
       "      <td>7</td>\n",
       "    </tr>\n",
       "  </tbody>\n",
       "</table>\n",
       "</div>"
      ],
      "text/plain": [
       "    sedtype_id       sedtype  score\n",
       "26          25       Glacial      0\n",
       "3            2        Gravel      4\n",
       "2            1          Clay      5\n",
       "51          50  Glacial clay      5\n",
       "4            3         Marsh      6\n",
       "7            6          Sand      6\n",
       "13          12          Silt      6\n",
       "15          14        Sludge      6\n",
       "27          26          Soft      7\n",
       "52          51     Soft clay      7"
      ]
     },
     "metadata": {},
     "output_type": "display_data"
    }
   ],
   "source": [
    "# sediments_lut_path()\n",
    "lut_fname = '../files/lut/dbo_sedtype.xlsx'\n",
    "match_maris_lut(lut_fname, data_provider_name='GLACIAL', \n",
    "                maris_id='sedtype_id', maris_name='sedtype')"
   ]
  },
  {
   "cell_type": "code",
   "execution_count": null,
   "id": "0fa12ef7",
   "metadata": {},
   "outputs": [
    {
     "data": {
      "text/html": [
       "<div>\n",
       "<style scoped>\n",
       "    .dataframe tbody tr th:only-of-type {\n",
       "        vertical-align: middle;\n",
       "    }\n",
       "\n",
       "    .dataframe tbody tr th {\n",
       "        vertical-align: top;\n",
       "    }\n",
       "\n",
       "    .dataframe thead th {\n",
       "        text-align: right;\n",
       "    }\n",
       "</style>\n",
       "<table border=\"1\" class=\"dataframe\">\n",
       "  <thead>\n",
       "    <tr style=\"text-align: right;\">\n",
       "      <th></th>\n",
       "      <th>nuclide_id</th>\n",
       "      <th>nc_name</th>\n",
       "      <th>score</th>\n",
       "    </tr>\n",
       "  </thead>\n",
       "  <tbody>\n",
       "    <tr>\n",
       "      <th>31</th>\n",
       "      <td>33</td>\n",
       "      <td>cs137</td>\n",
       "      <td>1</td>\n",
       "    </tr>\n",
       "    <tr>\n",
       "      <th>30</th>\n",
       "      <td>31</td>\n",
       "      <td>cs134</td>\n",
       "      <td>2</td>\n",
       "    </tr>\n",
       "    <tr>\n",
       "      <th>99</th>\n",
       "      <td>102</td>\n",
       "      <td>cs136</td>\n",
       "      <td>2</td>\n",
       "    </tr>\n",
       "    <tr>\n",
       "      <th>29</th>\n",
       "      <td>30</td>\n",
       "      <td>cs127</td>\n",
       "      <td>2</td>\n",
       "    </tr>\n",
       "    <tr>\n",
       "      <th>111</th>\n",
       "      <td>114</td>\n",
       "      <td>ce139</td>\n",
       "      <td>3</td>\n",
       "    </tr>\n",
       "    <tr>\n",
       "      <th>109</th>\n",
       "      <td>112</td>\n",
       "      <td>sb127</td>\n",
       "      <td>3</td>\n",
       "    </tr>\n",
       "    <tr>\n",
       "      <th>8</th>\n",
       "      <td>7</td>\n",
       "      <td>co57</td>\n",
       "      <td>4</td>\n",
       "    </tr>\n",
       "    <tr>\n",
       "      <th>28</th>\n",
       "      <td>29</td>\n",
       "      <td>i131</td>\n",
       "      <td>4</td>\n",
       "    </tr>\n",
       "    <tr>\n",
       "      <th>71</th>\n",
       "      <td>74</td>\n",
       "      <td>cm243</td>\n",
       "      <td>4</td>\n",
       "    </tr>\n",
       "    <tr>\n",
       "      <th>90</th>\n",
       "      <td>93</td>\n",
       "      <td>sn117m</td>\n",
       "      <td>4</td>\n",
       "    </tr>\n",
       "  </tbody>\n",
       "</table>\n",
       "</div>"
      ],
      "text/plain": [
       "     nuclide_id nc_name  score\n",
       "31           33   cs137      1\n",
       "30           31   cs134      2\n",
       "99          102   cs136      2\n",
       "29           30   cs127      2\n",
       "111         114   ce139      3\n",
       "109         112   sb127      3\n",
       "8             7    co57      4\n",
       "28           29    i131      4\n",
       "71           74   cm243      4\n",
       "90           93  sn117m      4"
      ]
     },
     "execution_count": null,
     "metadata": {},
     "output_type": "execute_result"
    }
   ],
   "source": [
    "lut_fname = '../files/lut/dbo_nuclide.xlsx'\n",
    "match_maris_lut(lut_fname, data_provider_name='CS-137', \n",
    "                maris_id='nuclide_id', maris_name='nc_name')"
   ]
  },
  {
   "attachments": {},
   "cell_type": "markdown",
   "id": "b63daa4b",
   "metadata": {},
   "source": [
    "## Geoprocessing"
   ]
  },
  {
   "cell_type": "code",
   "execution_count": null,
   "id": "c74b80da",
   "metadata": {},
   "outputs": [],
   "source": [
    "#| export\n",
    "def get_bbox(df,\n",
    "             coord_cols=('lon', 'lat')\n",
    "            ):\n",
    "    x, y = coord_cols        \n",
    "    arr = [(row[x], row[y]) for _, row in df.iterrows()]\n",
    "    return MultiPoint(arr).envelope"
   ]
  },
  {
   "cell_type": "code",
   "execution_count": null,
   "id": "cb650442",
   "metadata": {},
   "outputs": [],
   "source": [
    "df = pd.DataFrame({'lon': np.linspace(-10, 5, 20), 'lat':  np.linspace(40, 50, 20)})\n",
    "bbox = get_bbox(df);"
   ]
  },
  {
   "cell_type": "code",
   "execution_count": null,
   "id": "2244032e",
   "metadata": {},
   "outputs": [
    {
     "data": {
      "text/plain": [
       "(-10.0, 40.0, 5.0, 50.0)"
      ]
     },
     "execution_count": null,
     "metadata": {},
     "output_type": "execute_result"
    }
   ],
   "source": [
    "# To get `lon_min`, `lon_max`, `lat_min`, `lat_max`\n",
    "bbox.bounds"
   ]
  },
  {
   "cell_type": "code",
   "execution_count": null,
   "id": "7c4efbb8",
   "metadata": {},
   "outputs": [
    {
     "data": {
      "text/plain": [
       "'POLYGON ((-10 40, 5 40, 5 50, -10 50, -10 40))'"
      ]
     },
     "execution_count": null,
     "metadata": {},
     "output_type": "execute_result"
    }
   ],
   "source": [
    "# And its Well-Know Text representation\n",
    "bbox.wkt"
   ]
  },
  {
   "cell_type": "code",
   "execution_count": null,
   "id": "e6609bd2",
   "metadata": {},
   "outputs": [],
   "source": [
    "# If unique (lon, lat)\n",
    "df = pd.DataFrame({'lon': [0, 0], 'lat':  [1, 1]})\n",
    "bbox = get_bbox(df);"
   ]
  },
  {
   "cell_type": "code",
   "execution_count": null,
   "id": "42f97883",
   "metadata": {},
   "outputs": [
    {
     "data": {
      "text/plain": [
       "(0.0, 1.0, 0.0, 1.0)"
      ]
     },
     "execution_count": null,
     "metadata": {},
     "output_type": "execute_result"
    }
   ],
   "source": [
    "bbox.bounds"
   ]
  },
  {
   "attachments": {},
   "cell_type": "markdown",
   "id": "d2ef1cc9",
   "metadata": {},
   "source": [
    "## Downloaders"
   ]
  },
  {
   "cell_type": "code",
   "execution_count": null,
   "id": "96c2bf33",
   "metadata": {},
   "outputs": [],
   "source": [
    "#| export\n",
    "def download_files_in_folder(owner:str, \n",
    "                             repo:str, \n",
    "                             src_dir:str, \n",
    "                             dest_dir:str\n",
    "                             ):\n",
    "    \"Make a GET request to the GitHub API to get the contents of the folder\"\n",
    "    url = f\"https://api.github.com/repos/{owner}/{repo}/contents/{src_dir}\"\n",
    "    response = requests.get(url)\n",
    "\n",
    "    if response.status_code == 200:\n",
    "        contents = response.json()\n",
    "\n",
    "        # Iterate over the files and download them\n",
    "        for item in contents:\n",
    "            if item[\"type\"] == \"file\":\n",
    "                fname = item[\"name\"]\n",
    "                download_file(owner, repo, src_dir, dest_dir, fname)\n",
    "    else:\n",
    "        print(f\"Error: {response.status_code}\")\n",
    "\n",
    "def download_file(owner, repo, src_dir, dest_dir, fname):\n",
    "    # Make a GET request to the GitHub API to get the raw file contents\n",
    "    url = f\"https://raw.githubusercontent.com/{owner}/{repo}/master/{src_dir}/{fname}\"\n",
    "    response = requests.get(url)\n",
    "\n",
    "    if response.status_code == 200:\n",
    "        # Save the file locally\n",
    "        with open(Path(dest_dir) / fname, \"wb\") as file:\n",
    "            file.write(response.content)\n",
    "        print(f\"{fname} downloaded successfully.\")\n",
    "    else:\n",
    "        print(f\"Error: {response.status_code}\")"
   ]
  },
  {
   "attachments": {},
   "cell_type": "markdown",
   "id": "d7a2c018",
   "metadata": {},
   "source": [
    "## WorRMS\n",
    "The [World Register of Marine Species (WorMS)](https://www.marinespecies.org) is an authoritative classification and catalogue of marine names. It provides a REST API (among others) allowing to \"fuzzy\" match any species name you might encounter in marine data sources names againt their own database. There are several types of matches as described [here](https://www.marinespecies.org/tutorial_taxonmatch.php)."
   ]
  },
  {
   "cell_type": "code",
   "execution_count": null,
   "id": "3f11f094",
   "metadata": {},
   "outputs": [],
   "source": [
    "#| export\n",
    "def match_worms(\n",
    "    name:str # Name of species to look up in WoRMS\n",
    "    ):\n",
    "    \"Lookup `name` in WoRMS (fuzzy match)\"\n",
    "    url = 'https://www.marinespecies.org/rest/AphiaRecordsByMatchNames'\n",
    "    params = {\n",
    "        'scientificnames[]': [name],\n",
    "        'marine_only': 'true'\n",
    "    }\n",
    "    headers = {\n",
    "        'accept': 'application/json'\n",
    "    }\n",
    "    \n",
    "    response = requests.get(url, params=params, headers=headers)\n",
    "    \n",
    "    # Check if the request was successful (status code 200)\n",
    "    if response.status_code == 200:\n",
    "        data = response.json()\n",
    "        return data\n",
    "    else:\n",
    "        return -1"
   ]
  },
  {
   "attachments": {},
   "cell_type": "markdown",
   "id": "33ce01e2",
   "metadata": {},
   "source": [
    "For instance:"
   ]
  },
  {
   "cell_type": "code",
   "execution_count": null,
   "id": "e4d1fcf6",
   "metadata": {},
   "outputs": [
    {
     "data": {
      "text/plain": [
       "[[{'AphiaID': 107083,\n",
       "   'url': 'https://www.marinespecies.org/aphia.php?p=taxdetails&id=107083',\n",
       "   'scientificname': 'Aristeus antennatus',\n",
       "   'authority': '(Risso, 1816)',\n",
       "   'status': 'accepted',\n",
       "   'unacceptreason': None,\n",
       "   'taxonRankID': 220,\n",
       "   'rank': 'Species',\n",
       "   'valid_AphiaID': 107083,\n",
       "   'valid_name': 'Aristeus antennatus',\n",
       "   'valid_authority': '(Risso, 1816)',\n",
       "   'parentNameUsageID': 106807,\n",
       "   'kingdom': 'Animalia',\n",
       "   'phylum': 'Arthropoda',\n",
       "   'class': 'Malacostraca',\n",
       "   'order': 'Decapoda',\n",
       "   'family': 'Aristeidae',\n",
       "   'genus': 'Aristeus',\n",
       "   'citation': 'DecaNet eds. (2024). DecaNet. Aristeus antennatus (Risso, 1816). Accessed through: World Register of Marine Species at: https://www.marinespecies.org/aphia.php?p=taxdetails&id=107083 on 2024-06-10',\n",
       "   'lsid': 'urn:lsid:marinespecies.org:taxname:107083',\n",
       "   'isMarine': 1,\n",
       "   'isBrackish': 0,\n",
       "   'isFreshwater': 0,\n",
       "   'isTerrestrial': 0,\n",
       "   'isExtinct': 0,\n",
       "   'match_type': 'exact',\n",
       "   'modified': '2022-08-24T09:48:14.813Z'}]]"
      ]
     },
     "execution_count": null,
     "metadata": {},
     "output_type": "execute_result"
    }
   ],
   "source": [
    "#|eval: false\n",
    "match_worms('Aristeus antennatus')"
   ]
  },
  {
   "cell_type": "code",
   "execution_count": null,
   "id": "dd72151c-b8fa-43cf-9cfb-70237da16709",
   "metadata": {},
   "outputs": [],
   "source": [
    "# open dbo_species\n",
    "#from tqdm import tqdm\n",
    "#results = []\n",
    "#species = pd.read_excel(species_lut_path()).species\n",
    "#for i, name in tqdm(enumerate(species), total=len(species)):\n",
    "#    if i > 1:\n",
    "#        worms_match = match_worms(name)\n",
    "#        if worms_match != -1:\n",
    "#            results.append(worms_match[0][0])"
   ]
  },
  {
   "cell_type": "code",
   "execution_count": null,
   "id": "5a2ca24f-cff8-49fa-8854-12787ea9c66c",
   "metadata": {},
   "outputs": [
    {
     "data": {
      "text/plain": [
       "array(['Annelida', 'Arthropoda', 'Bryozoa', 'Chaetognatha', 'Charophyta',\n",
       "       'Chlorophyta', 'Chordata', 'Cnidaria', 'Ctenophora',\n",
       "       'Echinodermata', 'Mollusca', 'Myzozoa', 'Ochrophyta', 'Porifera',\n",
       "       'Rhodophyta', 'Tracheophyta'], dtype='<U13')"
      ]
     },
     "execution_count": null,
     "metadata": {},
     "output_type": "execute_result"
    }
   ],
   "source": [
    "# np.unique(np.array([result['phylum'] for result in results]))"
   ]
  },
  {
   "cell_type": "code",
   "execution_count": null,
   "id": "9ec9055a-5d83-45e7-8536-4c774b2f59ac",
   "metadata": {},
   "outputs": [],
   "source": [
    "#len(maris_worms_matches)"
   ]
  },
  {
   "cell_type": "code",
   "execution_count": null,
   "id": "c648b859-bf3f-421b-ac5a-8ba2b1c5566b",
   "metadata": {},
   "outputs": [],
   "source": [
    "#maris_worms_matches = fc.load_pickle('./files/pkl/maris-worms-matches.pkl')"
   ]
  },
  {
   "cell_type": "code",
   "execution_count": null,
   "id": "4439af59-cfe1-4449-951e-546d90d5a376",
   "metadata": {},
   "outputs": [],
   "source": [
    "#np.unique(np.array([result['phylum'] for result in maris_worms_matches]))"
   ]
  },
  {
   "cell_type": "code",
   "execution_count": null,
   "id": "819edbcb-ede4-41ff-bc6f-e883e18a1593",
   "metadata": {},
   "outputs": [],
   "source": [
    "#len([result for result in maris_worms_matches if result['status'] == 'accepted'])"
   ]
  },
  {
   "cell_type": "code",
   "execution_count": null,
   "id": "feba2088",
   "metadata": {},
   "outputs": [],
   "source": [
    "#match_maris_sediment('GLACIAL')"
   ]
  },
  {
   "cell_type": "markdown",
   "id": "4d865892",
   "metadata": {},
   "source": [
    "## Test"
   ]
  },
  {
   "cell_type": "code",
   "execution_count": null,
   "id": "16144ea7",
   "metadata": {},
   "outputs": [],
   "source": [
    "#| exports\n",
    "def test_dfs(\n",
    "    dfs1:dict, # First dictionary of DataFrames to compare \n",
    "    dfs2:dict # Second dictionary of DataFrames to compare\n",
    "    ) -> None: # It raises an `AssertionError` if the DataFrames are not equal\n",
    "    \"Compare two dictionaries of DataFrames for equality (also ensuring that columns are in the same order).\"\n",
    "    for grp in dfs1.keys():\n",
    "        df1, df2 = (df.sort_index() for df in (dfs1[grp], dfs2[grp]))\n",
    "        fc.test_eq(df1, df2.reindex(columns=df1.columns))"
   ]
  }
 ],
 "metadata": {
  "kernelspec": {
   "display_name": "python3",
   "language": "python",
   "name": "python3"
  }
 },
 "nbformat": 4,
 "nbformat_minor": 5
}

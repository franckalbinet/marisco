{
 "cells": [
  {
   "cell_type": "code",
   "execution_count": null,
   "id": "95ddae9f",
   "metadata": {},
   "outputs": [],
   "source": [
    "#| default_exp utils"
   ]
  },
  {
   "cell_type": "markdown",
   "id": "34f38641",
   "metadata": {},
   "source": [
    "# Utilities\n",
    "> Various utilities"
   ]
  },
  {
   "cell_type": "code",
   "execution_count": null,
   "id": "b4934cd2",
   "metadata": {},
   "outputs": [],
   "source": [
    "#| export\n",
    "from netCDF4 import Dataset\n",
    "from fastcore.test import test_eq\n",
    "import pandas as pd\n",
    "import numpy as np\n",
    "from typing import Dict\n",
    "import tomli_w\n",
    "import tomli\n",
    "from shapely import MultiPoint, Polygon\n",
    "import nbformat"
   ]
  },
  {
   "cell_type": "markdown",
   "id": "b2b0c493",
   "metadata": {},
   "source": [
    "## Validation"
   ]
  },
  {
   "cell_type": "code",
   "execution_count": null,
   "id": "7c76ac90",
   "metadata": {},
   "outputs": [],
   "source": [
    "#| export\n",
    "def has_valid_varname(\n",
    "    var_names:list, # variable (nuclide) names\n",
    "    cdl_path:str, # Path to MARIS CDL file (point of truth)\n",
    "):\n",
    "    \"Check that proposed variable names are in MARIS CDL\"\n",
    "    has_valid = True\n",
    "    with Dataset(cdl_path) as nc:\n",
    "        grp = nc.groups[list(nc.groups.keys())[0]] # get any group\n",
    "        for name in var_names:\n",
    "            if name not in grp.variables.keys():\n",
    "                has_valid = False\n",
    "                print(f'\"{name}\" variable name not found in MARIS CDL')\n",
    "    \n",
    "    return has_valid"
   ]
  },
  {
   "cell_type": "code",
   "execution_count": null,
   "id": "e76c2f44",
   "metadata": {},
   "outputs": [],
   "source": [
    "VARNAMES = ['lat', 'lon']\n",
    "test_eq(has_valid_varname(VARNAMES, './files/nc/maris-cdl.nc'), True)"
   ]
  },
  {
   "cell_type": "code",
   "execution_count": null,
   "id": "af15330e",
   "metadata": {},
   "outputs": [
    {
     "name": "stdout",
     "output_type": "stream",
     "text": [
      "\"ba140_invalid\" variable name not found in MARIS CDL\n"
     ]
    }
   ],
   "source": [
    "VARNAMES = ['ba140_invalid', 'ba140_dl']\n",
    "test_eq(has_valid_varname(VARNAMES, './files/nc/maris-cdl.nc'), False)"
   ]
  },
  {
   "cell_type": "markdown",
   "id": "0642e935",
   "metadata": {},
   "source": [
    "## Readers & writers"
   ]
  },
  {
   "cell_type": "code",
   "execution_count": null,
   "id": "588c7321",
   "metadata": {},
   "outputs": [],
   "source": [
    "#| export\n",
    "def write_toml(fname, cfg):\n",
    "    print(f'Creating {fname}')\n",
    "    with open(fname, \"wb\") as f:\n",
    "        tomli_w.dump(cfg, f)"
   ]
  },
  {
   "cell_type": "code",
   "execution_count": null,
   "id": "b0a75525",
   "metadata": {},
   "outputs": [],
   "source": [
    "#| export\n",
    "def read_toml(fname):\n",
    "    with open(fname, \"rb\") as f:\n",
    "        config = tomli.load(f)\n",
    "    return config"
   ]
  },
  {
   "cell_type": "markdown",
   "id": "b63daa4b",
   "metadata": {},
   "source": [
    "## Geoprocessing"
   ]
  },
  {
   "cell_type": "code",
   "execution_count": null,
   "id": "c74b80da",
   "metadata": {},
   "outputs": [],
   "source": [
    "#| export\n",
    "def get_bbox(df,\n",
    "             coord_cols=('lon', 'lat')\n",
    "            ):\n",
    "    arr = []\n",
    "    x, y = coord_cols\n",
    "    for index, row in df.iterrows():\n",
    "        arr.append((row[x], row[y]))\n",
    "    return MultiPoint(arr).envelope"
   ]
  },
  {
   "cell_type": "code",
   "execution_count": null,
   "id": "cb650442",
   "metadata": {},
   "outputs": [],
   "source": [
    "df = pd.DataFrame({'lon': np.linspace(-10, 5, 20), 'lat':  np.linspace(40, 50, 20)})\n",
    "bbox = get_bbox(df);"
   ]
  },
  {
   "cell_type": "code",
   "execution_count": null,
   "id": "2244032e",
   "metadata": {},
   "outputs": [
    {
     "data": {
      "text/plain": [
       "(-10.0, 40.0, 5.0, 50.0)"
      ]
     },
     "execution_count": null,
     "metadata": {},
     "output_type": "execute_result"
    }
   ],
   "source": [
    "# To get `lon_min`, `lon_max`, `lat_min`, `lat_max`\n",
    "bbox.bounds"
   ]
  },
  {
   "cell_type": "code",
   "execution_count": null,
   "id": "7c4efbb8",
   "metadata": {},
   "outputs": [
    {
     "data": {
      "text/plain": [
       "'POLYGON ((-10 40, 5 40, 5 50, -10 50, -10 40))'"
      ]
     },
     "execution_count": null,
     "metadata": {},
     "output_type": "execute_result"
    }
   ],
   "source": [
    "# And its Well-Know Text representation\n",
    "bbox.wkt"
   ]
  },
  {
   "cell_type": "markdown",
   "id": "7c2eef73",
   "metadata": {},
   "source": [
    "## Notebooks"
   ]
  },
  {
   "cell_type": "code",
   "execution_count": null,
   "id": "b0a463a1",
   "metadata": {},
   "outputs": [],
   "source": [
    "#| export\n",
    "def parametrize(notebook:str, # Notebook path\n",
    "               ):\n",
    "    \"Add `parameters` notebook cell tag when seeing `#| params` special character\"\n",
    "    nb = nbformat.read(notebook, as_version=4)\n",
    "    cell = [c for c in nb.cells if '#|params' in c.source.replace(' ', '')][0]\n",
    "    cell.metadata = {'tags': ['parameters']}\n",
    "    nbformat.write(nb, notebook)"
   ]
  }
 ],
 "metadata": {
  "kernelspec": {
   "display_name": "Python 3 (ipykernel)",
   "language": "python",
   "name": "python3"
  }
 },
 "nbformat": 4,
 "nbformat_minor": 5
}

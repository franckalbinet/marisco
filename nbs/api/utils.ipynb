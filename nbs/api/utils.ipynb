{
 "cells": [
  {
   "cell_type": "code",
   "execution_count": null,
   "id": "95ddae9f",
   "metadata": {},
   "outputs": [],
   "source": [
    "#| default_exp utils"
   ]
  },
  {
   "cell_type": "markdown",
   "id": "34f38641",
   "metadata": {},
   "source": [
    "# Utilities\n",
    "> Various utilities"
   ]
  },
  {
   "cell_type": "code",
   "execution_count": null,
   "id": "b4934cd2",
   "metadata": {},
   "outputs": [],
   "source": [
    "#| export\n",
    "from netCDF4 import Dataset\n",
    "from fastcore.test import test_eq\n",
    "from typing import Dict\n",
    "import tomli_w\n",
    "import tomli"
   ]
  },
  {
   "cell_type": "markdown",
   "id": "b2b0c493",
   "metadata": {},
   "source": [
    "## Validation"
   ]
  },
  {
   "cell_type": "code",
   "execution_count": null,
   "id": "393c2516",
   "metadata": {},
   "outputs": [],
   "source": [
    "#| export\n",
    "def has_valid_varname(\n",
    "    var_names:Dict, # Look up table associating dataset variable names to standardized ones  \n",
    "    cdl_path:str, # Path to MARIS CDL file (point of truth)\n",
    "):\n",
    "    \"Check that proposed variable names are in MARIS CDL\"\n",
    "    has_valid = True\n",
    "    with Dataset(cdl_path) as nc:\n",
    "        grp = nc.groups[list(nc.groups.keys())[0]] # get any group\n",
    "        for name in var_names.values():\n",
    "            if name not in grp.variables.keys():\n",
    "                has_valid = False\n",
    "                print(f'\"{name}\" variable name not found in MARIS CDL')\n",
    "    \n",
    "    return has_valid"
   ]
  },
  {
   "cell_type": "code",
   "execution_count": null,
   "id": "e76c2f44",
   "metadata": {},
   "outputs": [],
   "source": [
    "VARNAMES = {\n",
    "    'Sampling coordinate North latitude (Decimal)': 'lat',\n",
    "    'Sampling coordinate East longitude (Decimal)': 'lon'\n",
    "}\n",
    "\n",
    "test_eq(has_valid_varname(VARNAMES, './files/nc/maris-cdl.nc'), True)"
   ]
  },
  {
   "cell_type": "code",
   "execution_count": null,
   "id": "af15330e",
   "metadata": {},
   "outputs": [
    {
     "name": "stdout",
     "output_type": "stream",
     "text": [
      "\"ba140_invalid\" variable name not found in MARIS CDL\n"
     ]
    }
   ],
   "source": [
    "VARNAMES = {\n",
    "    '140Ba radioactivity concentration (Bq/L)': 'ba140_invalid',\n",
    "    '140Ba detection limit (Bq/L)': 'ba140_dl'}\n",
    "\n",
    "test_eq(has_valid_varname(VARNAMES, './files/nc/maris-cdl.nc'), False)"
   ]
  },
  {
   "cell_type": "markdown",
   "id": "0642e935",
   "metadata": {},
   "source": [
    "## Readers & writers"
   ]
  },
  {
   "cell_type": "code",
   "execution_count": null,
   "id": "588c7321",
   "metadata": {},
   "outputs": [],
   "source": [
    "#| export\n",
    "def write_toml(fname, cfg):\n",
    "    print(f'Creating {fname}')\n",
    "    with open(fname, \"wb\") as f:\n",
    "        tomli_w.dump(cfg, f)"
   ]
  },
  {
   "cell_type": "code",
   "execution_count": null,
   "id": "b0a75525",
   "metadata": {},
   "outputs": [],
   "source": [
    "#| export\n",
    "def read_toml(fname):\n",
    "    with open(fname, \"rb\") as f:\n",
    "        config = tomli.load(f)\n",
    "    return config"
   ]
  }
 ],
 "metadata": {
  "kernelspec": {
   "display_name": "Python 3 (ipykernel)",
   "language": "python",
   "name": "python3"
  }
 },
 "nbformat": 4,
 "nbformat_minor": 5
}

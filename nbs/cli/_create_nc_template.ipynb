{
 "cells": [
  {
   "cell_type": "code",
   "execution_count": null,
   "id": "3faae62d",
   "metadata": {},
   "outputs": [],
   "source": [
    "#| default_exp cli.create_nc_template"
   ]
  },
  {
   "cell_type": "code",
   "execution_count": null,
   "id": "3f92bc7b",
   "metadata": {},
   "outputs": [
    {
     "ename": "ModuleNotFoundError",
     "evalue": "No module named 'marisco.nc_template'",
     "output_type": "error",
     "traceback": [
      "\u001b[0;31m---------------------------------------------------------------------------\u001b[0m",
      "\u001b[0;31mModuleNotFoundError\u001b[0m                       Traceback (most recent call last)",
      "Cell \u001b[0;32mIn[4], line 4\u001b[0m\n\u001b[1;32m      1\u001b[0m \u001b[38;5;66;03m#| export\u001b[39;00m\n\u001b[1;32m      2\u001b[0m \u001b[38;5;28;01mfrom\u001b[39;00m \u001b[38;5;21;01mfastcore\u001b[39;00m\u001b[38;5;21;01m.\u001b[39;00m\u001b[38;5;21;01mscript\u001b[39;00m \u001b[38;5;28;01mimport\u001b[39;00m \u001b[38;5;241m*\u001b[39m\n\u001b[0;32m----> 4\u001b[0m \u001b[38;5;28;01mfrom\u001b[39;00m \u001b[38;5;21;01mmarisco\u001b[39;00m\u001b[38;5;21;01m.\u001b[39;00m\u001b[38;5;21;01mnc_template\u001b[39;00m \u001b[38;5;28;01mimport\u001b[39;00m NCTemplater\n\u001b[1;32m      5\u001b[0m \u001b[38;5;28;01mfrom\u001b[39;00m \u001b[38;5;21;01mmarisco\u001b[39;00m\u001b[38;5;21;01m.\u001b[39;00m\u001b[38;5;21;01mconfigs\u001b[39;00m \u001b[38;5;28;01mimport\u001b[39;00m (base_path,\n\u001b[1;32m      6\u001b[0m                              cdl_cfg,\n\u001b[1;32m      7\u001b[0m                              lut_path, \n\u001b[1;32m      8\u001b[0m                              nuc_lut_path,\n\u001b[1;32m      9\u001b[0m                              nc_tpl_name,\n\u001b[1;32m     10\u001b[0m                              get_enum_dicts)\n",
      "\u001b[0;31mModuleNotFoundError\u001b[0m: No module named 'marisco.nc_template'"
     ]
    }
   ],
   "source": [
    "#| export\n",
    "from fastcore.script import *\n",
    "\n",
    "from marisco.nc_template import NCTemplater\n",
    "from marisco.configs import (base_path,\n",
    "                             cdl_cfg,\n",
    "                             lut_path, \n",
    "                             nuc_lut_path,\n",
    "                             nc_tpl_name,\n",
    "                             get_enum_dicts)"
   ]
  },
  {
   "cell_type": "code",
   "execution_count": null,
   "id": "d618aa0d",
   "metadata": {},
   "outputs": [],
   "source": [
    "#| export\n",
    "@call_parse\n",
    "def main(verbose:bool=False # Verbose\n",
    "         ):\n",
    "    \"Create MARIS NetCDF template, optionally in verbose mode\"\n",
    "    print('Creating MARIS NetCDF template ...')\n",
    "    cdl = cdl_cfg()\n",
    "    templater = NCTemplater(cdl=cdl,\n",
    "                            nuclide_vars_fname=nuc_lut_path(), \n",
    "                            tpl_fname=base_path() / nc_tpl_name(),\n",
    "                            enum_dicts=get_enum_dicts(lut_src_dir=lut_path(), \n",
    "                                                      cdl_enums=cdl['enums']),\n",
    "                            verbose=verbose\n",
    "                            )\n",
    "\n",
    "    templater.generate()"
   ]
  },
  {
   "cell_type": "code",
   "execution_count": null,
   "id": "45d29bea",
   "metadata": {},
   "outputs": [],
   "source": []
  }
 ],
 "metadata": {
  "kernelspec": {
   "display_name": "python3",
   "language": "python",
   "name": "python3"
  }
 },
 "nbformat": 4,
 "nbformat_minor": 5
}

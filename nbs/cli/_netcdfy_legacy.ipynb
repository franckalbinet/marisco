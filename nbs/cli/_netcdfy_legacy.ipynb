{
 "cells": [
  {
   "cell_type": "code",
   "execution_count": null,
   "id": "3faae62d",
   "metadata": {},
   "outputs": [],
   "source": [
    "#| default_exp cli.netcdfy"
   ]
  },
  {
   "cell_type": "code",
   "execution_count": null,
   "id": "d865263e",
   "metadata": {},
   "outputs": [],
   "source": [
    "%load_ext autoreload\n",
    "%autoreload 2"
   ]
  },
  {
   "cell_type": "code",
   "execution_count": null,
   "id": "3f92bc7b",
   "metadata": {},
   "outputs": [],
   "source": [
    "#| export\n",
    "from pathlib import Path\n",
    "from fastcore.script import *\n",
    "from marisco.configs import BASE_PATH\n",
    "import importlib\n",
    "# import papermill as pm\n",
    "# from marisco.utils import parametrize\n",
    "\n",
    "from marisco.handlers.helcom import encode\n"
   ]
  },
  {
   "cell_type": "code",
   "execution_count": null,
   "id": "8164c759",
   "metadata": {},
   "outputs": [],
   "source": [
    "#| export\n",
    "def import_handler(handler_name, fn_name='encode'):\n",
    "    try:\n",
    "        handler = importlib.import_module(handler_name)\n",
    "        return getattr(handler, fn_name)\n",
    "\n",
    "    except (ImportError, AttributeError):\n",
    "        print(f\"Failed to import function: {fn_name}\")"
   ]
  },
  {
   "cell_type": "code",
   "execution_count": null,
   "id": "d618aa0d",
   "metadata": {},
   "outputs": [],
   "source": [
    "#| export\n",
    "@call_parse\n",
    "def main(handler_name: str,  # Handler's name (e.g helcom, ...)\n",
    "         src: str,           # Path to dataset to encode\n",
    "         dest: str,          # Path to converted NetCDF4\n",
    "         ):\n",
    "    \"Encode MARIS dataset as NetCDF\"\n",
    "    print(f'Encoding: {handler_name} ...')\n",
    "    encode = import_handler(f'marisco.handlers.{handler_name}')\n",
    "    encode(src, dest)\n",
    "    # print(f'Handler: {nb_in}')\n",
    "    # print(f'Output: {nc_out}')\n",
    "    # # parametrize(nb_in)\n",
    "    # inter_nb = BASE_PATH / 'tmp' / '_output.ipynb'\n",
    "\n",
    "    # pm.execute_notebook(\n",
    "    #     nb_in,\n",
    "    #     inter_nb,\n",
    "    #     parameters=dict(fname_in=data, fname_out=nc_out, test_mode=False))"
   ]
  }
 ],
 "metadata": {
  "kernelspec": {
   "display_name": "Python 3 (ipykernel)",
   "language": "python",
   "name": "python3"
  }
 },
 "nbformat": 4,
 "nbformat_minor": 5
}

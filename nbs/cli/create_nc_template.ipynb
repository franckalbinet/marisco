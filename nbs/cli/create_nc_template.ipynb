{
 "cells": [
  {
   "cell_type": "code",
   "execution_count": null,
   "id": "3faae62d",
   "metadata": {},
   "outputs": [],
   "source": [
    "#| default_exp cli.create_nc_template"
   ]
  },
  {
   "cell_type": "code",
   "execution_count": null,
   "id": "3f92bc7b",
   "metadata": {},
   "outputs": [],
   "source": [
    "#| export\n",
    "from pathlib import Path\n",
    "\n",
    "from fastcore.script import *\n",
    "\n",
    "from marisco.configs import BASE_PATH, CONFIGS, CONFIGS_CDL\n",
    "from marisco.nc_template import NCTemplate\n",
    "from marisco.utils import read_toml"
   ]
  },
  {
   "cell_type": "code",
   "execution_count": null,
   "id": "e56a40c4",
   "metadata": {},
   "outputs": [
    {
     "data": {
      "text/plain": [
       "'/Users/franckalbinet/.marisco/lut'"
      ]
     },
     "execution_count": null,
     "metadata": {},
     "output_type": "execute_result"
    }
   ],
   "source": [
    "Path(CONFIGS['dirs']['lut']) / 'dbo_nuclide.xlsx'"
   ]
  },
  {
   "cell_type": "code",
   "execution_count": null,
   "id": "204a7958",
   "metadata": {},
   "outputs": [
    {
     "data": {
      "text/plain": [
       "'species_helcom.pkl'"
      ]
     },
     "execution_count": null,
     "metadata": {},
     "output_type": "execute_result"
    }
   ],
   "source": [
    "Path(CONFIGS['dirs']['lut']).ls()[0].name"
   ]
  },
  {
   "cell_type": "code",
   "execution_count": null,
   "id": "4d4eae26",
   "metadata": {},
   "outputs": [
    {
     "data": {
      "text/plain": [
       "Path('/Users/franckalbinet/.marisco/lut/dbo_nuclide.xlsx')"
      ]
     },
     "execution_count": null,
     "metadata": {},
     "output_type": "execute_result"
    }
   ],
   "source": [
    "[p for p in Path(CONFIGS['dirs']['lut']).ls() if '_nuclide' in p.name][0]"
   ]
  },
  {
   "cell_type": "code",
   "execution_count": null,
   "id": "d618aa0d",
   "metadata": {},
   "outputs": [],
   "source": [
    "#| export\n",
    "@call_parse\n",
    "def main():\n",
    "    \"Create MARIS NetCDF template\"\n",
    "    print('Creating MARIS NetCDF template ...')\n",
    "    cfgs = read_toml(BASE_PATH / 'configs.toml')\n",
    "    tpl_fname = BASE_PATH / cfgs['names']['nc_template']\n",
    "    \n",
    "    # dbo_nuclide.xlsx in ./marisco/luts\n",
    "    # dbo_nuc = [n for n in list(cfgs['paths']['luts']) if '_nuclide' in n][0]\n",
    "    dbo_nuc_path  = [p for p in Path(CONFIGS['dirs']['lut']).ls() if '_nuclide' in p.name][0]\n",
    "    cdl = read_toml(BASE_PATH / 'cdl.toml')\n",
    "    \n",
    "    nc_tpl = NCTemplate(tpl_fname,\n",
    "                        # vars_fname=Path(cfgs['dirs']['lut']) / dbo_nuc, \n",
    "                        vars_fname=dbo_nuc_path, \n",
    "                        dest_dir=BASE_PATH,\n",
    "                        cdl=cdl)\n",
    "    nc_tpl.generate()"
   ]
  },
  {
   "cell_type": "code",
   "execution_count": null,
   "id": "cd30efcd",
   "metadata": {},
   "outputs": [],
   "source": [
    "dd"
   ]
  }
 ],
 "metadata": {
  "kernelspec": {
   "display_name": "Python 3 (ipykernel)",
   "language": "python",
   "name": "python3"
  }
 },
 "nbformat": 4,
 "nbformat_minor": 5
}

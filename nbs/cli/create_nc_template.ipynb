{
 "cells": [
  {
   "cell_type": "code",
   "execution_count": null,
   "id": "3faae62d",
   "metadata": {},
   "outputs": [],
   "source": [
    "#| default_exp cli.create_nc_template"
   ]
  },
  {
   "cell_type": "code",
   "execution_count": null,
   "id": "3f92bc7b",
   "metadata": {},
   "outputs": [],
   "source": [
    "#| export\n",
    "from fastcore.script import *\n",
    "\n",
    "from marisco.nc_template import NCTemplater\n",
    "from marisco.configs import (base_path, cdl_cfg, lut_path, \n",
    "                             nuc_lut_path, nc_tpl_name, get_enum_dicts)"
   ]
  },
  {
   "cell_type": "code",
   "execution_count": null,
   "id": "d618aa0d",
   "metadata": {},
   "outputs": [],
   "source": [
    "#| export\n",
    "@call_parse\n",
    "def main(verbose:bool=False # Verbose\n",
    "         ):\n",
    "    \"Create MARIS NetCDF template, optionally in verbose mode\"\n",
    "    print('Creating MARIS NetCDF template ...')\n",
    "    cdl = cdl_cfg()\n",
    "    templater = NCTemplater(cdl=cdl,\n",
    "                            nuclide_vars_fname=nuc_lut_path(), \n",
    "                            tpl_fname=base_path() / nc_tpl_name(),\n",
    "                            enum_dicts=get_enum_dicts(lut_src_dir=lut_path(), \n",
    "                                                      cdl_enums=cdl['enums']),\n",
    "                            verbose=verbose\n",
    "                            )\n",
    "\n",
    "    templater.generate()"
   ]
  }
 ],
 "metadata": {
  "kernelspec": {
   "display_name": "Python 3 (ipykernel)",
   "language": "python",
   "name": "python3"
  }
 },
 "nbformat": 4,
 "nbformat_minor": 5
}

{
 "cells": [
  {
   "cell_type": "code",
   "execution_count": null,
   "id": "3faae62d",
   "metadata": {},
   "outputs": [],
   "source": [
    "#| default_exp cli.create_nc_template"
   ]
  },
  {
   "cell_type": "code",
   "execution_count": null,
   "id": "3f92bc7b",
   "metadata": {},
   "outputs": [],
   "source": [
    "#| export\n",
    "from pathlib import Path\n",
    "\n",
    "from fastcore.script import *\n",
    "\n",
    "from marisco.configs import BASE_PATH, CONFIGS, CONFIGS_CDL\n",
    "from marisco.nc_template import NCTemplate, CDL\n",
    "from marisco.utils import read_toml"
   ]
  },
  {
   "cell_type": "code",
   "execution_count": null,
   "id": "d618aa0d",
   "metadata": {},
   "outputs": [],
   "source": [
    "#| export\n",
    "def main():\n",
    "    \"Create MARIS NetCDF template\"\n",
    "    cfgs = read_toml(BASE_PATH / 'configs.toml')\n",
    "    tpl_fname = BASE_PATH / 'maris-template.nc'\n",
    "    dbo_nuc = [n for n in list(cfgs['paths']['luts']) if '_nuclide' in n][0]\n",
    "    cdl_v2 = read_toml(BASE_PATH / 'cdl.toml') # TBD\n",
    "    cdl_v1 = CDL\n",
    "    nc_tpl = NCTemplate(tpl_fname,\n",
    "               vars_fname=Path(cfgs['dirs']['lut']) / dbo_nuc, \n",
    "               dest_dir=BASE_PATH,\n",
    "               cfgs=CDL)\n",
    "\n",
    "    nc_tpl.generate()"
   ]
  }
 ],
 "metadata": {
  "kernelspec": {
   "display_name": "Python 3 (ipykernel)",
   "language": "python",
   "name": "python3"
  }
 },
 "nbformat": 4,
 "nbformat_minor": 5
}

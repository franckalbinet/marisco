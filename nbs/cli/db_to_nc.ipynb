{
 "cells": [
  {
   "cell_type": "code",
   "execution_count": null,
   "id": "3faae62d",
   "metadata": {},
   "outputs": [],
   "source": [
    "#| default_exp cli.db_to_nc"
   ]
  },
  {
   "cell_type": "code",
   "execution_count": null,
   "id": "d865263e",
   "metadata": {},
   "outputs": [
    {
     "name": "stdout",
     "output_type": "stream",
     "text": [
      "The autoreload extension is already loaded. To reload it, use:\n",
      "  %reload_ext autoreload\n"
     ]
    }
   ],
   "source": [
    "%load_ext autoreload\n",
    "%autoreload 2"
   ]
  },
  {
   "cell_type": "code",
   "execution_count": null,
   "id": "3f92bc7b",
   "metadata": {},
   "outputs": [],
   "source": [
    "#| export\n",
    "from fastcore.script import *\n",
    "from typing import Optional\n",
    "from fastcore.style import S\n",
    "import sys\n",
    "import importlib"
   ]
  },
  {
   "cell_type": "code",
   "execution_count": null,
   "id": "8164c759",
   "metadata": {},
   "outputs": [],
   "source": [
    "#| export\n",
    "def import_handler(handler_name, fn_name='encode'):\n",
    "    try:\n",
    "        handler = importlib.import_module(handler_name)\n",
    "        return getattr(handler, fn_name)\n",
    "\n",
    "    except (ImportError, AttributeError):\n",
    "        print(f\"Failed to import function: {fn_name}\")"
   ]
  },
  {
   "cell_type": "code",
   "execution_count": null,
   "id": "c27f4a13",
   "metadata": {},
   "outputs": [],
   "source": [
    "#| export\n",
    "@call_parse\n",
    "def main(\n",
    "    src: str,  # Path to MARIS database dump as `.txt` file\n",
    "    dest: str, # Output path for NetCDF file(s)\n",
    "    ref_ids: str = '',  # Optional comma-separated reference IDs (e.g., \"123,456,789\")\n",
    ") -> None:\n",
    "    \"\"\"Convert MARIS legacy database to NetCDF4 format.\n",
    "    \n",
    "    If ref_ids is provided as comma-separated values, only encodes those subsets.\n",
    "    \"\"\"\n",
    "    print('Encoding MARIS legacy database...')\n",
    "    \n",
    "    ids = [int(id.strip()) for id in ref_ids.split(',')] if ref_ids else None\n",
    "    if ids: print(f\"Processing reference IDs: {', '.join(map(str, ids))}\")\n",
    "    encode = import_handler('marisco.handlers.maris_legacy')\n",
    "    encode(fname_in=src, dir_dest=dest, ref_ids=ids)"
   ]
  }
 ],
 "metadata": {
  "kernelspec": {
   "display_name": "python3",
   "language": "python",
   "name": "python3"
  }
 },
 "nbformat": 4,
 "nbformat_minor": 5
}

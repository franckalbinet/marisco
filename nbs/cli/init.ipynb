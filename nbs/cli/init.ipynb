{
 "cells": [
  {
   "cell_type": "code",
   "execution_count": null,
   "id": "3faae62d",
   "metadata": {},
   "outputs": [],
   "source": [
    "#| default_exp cli.init"
   ]
  },
  {
   "cell_type": "code",
   "execution_count": null,
   "id": "5786c2bb",
   "metadata": {},
   "outputs": [
    {
     "name": "stdout",
     "output_type": "stream",
     "text": [
      "The autoreload extension is already loaded. To reload it, use:\n",
      "  %reload_ext autoreload\n"
     ]
    }
   ],
   "source": [
    "%load_ext autoreload\n",
    "%autoreload 2"
   ]
  },
  {
   "cell_type": "code",
   "execution_count": null,
   "id": "3f92bc7b",
   "metadata": {},
   "outputs": [],
   "source": [
    "#| export\n",
    "from pathlib import Path\n",
    "import sys\n",
    "# from urllib import request\n",
    "import requests\n",
    "\n",
    "from fastcore.script import *\n",
    "from fastcore.xtras import mkdir\n",
    "from fastcore.style import S\n",
    "\n",
    "from marisco.configs import BASE_PATH, CONFIGS, CONFIGS_CDL\n",
    "from marisco.utils import write_toml, download_files_in_folder\n",
    "from marisco.cli import create_nc_template"
   ]
  },
  {
   "cell_type": "code",
   "execution_count": null,
   "id": "aa7fa12a",
   "metadata": {},
   "outputs": [],
   "source": [
    "#| export\n",
    "cfg_fname = 'configs.toml'\n",
    "cdl_fname = 'cdl.toml'"
   ]
  },
  {
   "cell_type": "code",
   "execution_count": null,
   "id": "d618aa0d",
   "metadata": {},
   "outputs": [],
   "source": [
    "#| export\n",
    "@call_parse\n",
    "def main():\n",
    "    \"Create configuration files & download lookup tables\"\n",
    "    if BASE_PATH.exists():\n",
    "        msg = S.red('Configuration files already exist. Do you want to overwrite them? (y/[n]): ')\n",
    "        if not input(msg).lower().startswith('y'): \n",
    "            sys.exit(1)\n",
    "\n",
    "    mkdir(BASE_PATH, overwrite=True)\n",
    "    for k, v in CONFIGS['dirs'].items():\n",
    "        mkdir(v, parents=True, overwrite=True)\n",
    "            \n",
    "    write_toml(BASE_PATH / cfg_fname, CONFIGS)\n",
    "    write_toml(BASE_PATH / cdl_fname, CONFIGS_CDL) \n",
    "    \n",
    "    # download luts`\n",
    "    print('Downloading look-up tables ...')\n",
    "    owner, repo = CONFIGS['gh'].values()\n",
    "    download_files_in_folder(owner, repo, \n",
    "                             src_dir=CONFIGS['paths']['luts'], dest_dir=BASE_PATH / 'lut')\n",
    "    \n",
    "    create_nc_template.main()"
   ]
  }
 ],
 "metadata": {
  "kernelspec": {
   "display_name": "Python 3 (ipykernel)",
   "language": "python",
   "name": "python3"
  }
 },
 "nbformat": 4,
 "nbformat_minor": 5
}

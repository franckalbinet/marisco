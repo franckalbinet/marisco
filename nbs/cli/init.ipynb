{
 "cells": [
  {
   "cell_type": "code",
   "execution_count": null,
   "id": "3faae62d",
   "metadata": {},
   "outputs": [],
   "source": [
    "#| default_exp cli.init"
   ]
  },
  {
   "cell_type": "code",
   "execution_count": null,
   "id": "5786c2bb",
   "metadata": {},
   "outputs": [
    {
     "name": "stdout",
     "output_type": "stream",
     "text": [
      "The autoreload extension is already loaded. To reload it, use:\n",
      "  %reload_ext autoreload\n"
     ]
    }
   ],
   "source": [
    "%load_ext autoreload\n",
    "%autoreload 2"
   ]
  },
  {
   "cell_type": "code",
   "execution_count": null,
   "id": "3f92bc7b",
   "metadata": {},
   "outputs": [],
   "source": [
    "#| export\n",
    "from pathlib import Path\n",
    "import sys\n",
    "\n",
    "from fastcore.script import *\n",
    "from fastcore.xtras import mkdir\n",
    "from fastcore.style import S\n",
    "\n",
    "from marisco.configs import base_path, CONFIGS, CONFIGS_CDL, CFG_FNAME, CDL_FNAME\n",
    "from marisco.utils import write_toml, download_files_in_folder\n",
    "from marisco.cli import create_nc_template"
   ]
  },
  {
   "cell_type": "code",
   "execution_count": null,
   "id": "d618aa0d",
   "metadata": {},
   "outputs": [],
   "source": [
    "#| export\n",
    "@call_parse\n",
    "def main():\n",
    "    \"Create configuration files & download lookup tables\"\n",
    "    path = base_path()\n",
    "    if path.exists():\n",
    "        msg = S.red('Configuration files already exist. Do you want to overwrite them? (y/[n]): ')\n",
    "        if not input(msg).lower().startswith('y'): \n",
    "            sys.exit(1)\n",
    "\n",
    "    mkdir(path, overwrite=True)\n",
    "    for k, v in CONFIGS['dirs'].items():\n",
    "        mkdir(v, parents=True, overwrite=True)\n",
    "            \n",
    "    # Write configs dictionary as `.toml` in base path\n",
    "    # using config dictionary literals during initialization\n",
    "    write_toml(path / CFG_FNAME, CONFIGS)\n",
    "    write_toml(path / CDL_FNAME, CONFIGS_CDL) \n",
    "    \n",
    "    # Download luts (look-up table) to base path\n",
    "    print('Downloading look-up tables ...')\n",
    "    owner, repo = CONFIGS['gh'].values()\n",
    "    \n",
    "    download_files_in_folder(owner, repo,\n",
    "                             src_dir=CONFIGS['paths']['luts'], \n",
    "                             dest_dir=CONFIGS['dirs']['lut'])\n",
    "    \n",
    "    create_nc_template.main()"
   ]
  }
 ],
 "metadata": {
  "kernelspec": {
   "display_name": "Python 3 (ipykernel)",
   "language": "python",
   "name": "python3"
  }
 },
 "nbformat": 4,
 "nbformat_minor": 5
}

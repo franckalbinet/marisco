{
 "cells": [
  {
   "cell_type": "code",
   "execution_count": null,
   "id": "3faae62d",
   "metadata": {},
   "outputs": [],
   "source": [
    "#| default_exp cli.nc_to_csv"
   ]
  },
  {
   "cell_type": "code",
   "execution_count": null,
   "id": "d865263e",
   "metadata": {},
   "outputs": [],
   "source": [
    "%load_ext autoreload\n",
    "%autoreload 2"
   ]
  },
  {
   "cell_type": "code",
   "execution_count": null,
   "id": "3f92bc7b",
   "metadata": {},
   "outputs": [],
   "source": [
    "#| export\n",
    "from fastcore.script import *\n",
    "from typing import Optional, Literal\n",
    "from fastcore.style import S\n",
    "import sys\n",
    "import importlib"
   ]
  },
  {
   "cell_type": "code",
   "execution_count": null,
   "id": "8164c759",
   "metadata": {},
   "outputs": [],
   "source": [
    "#| export\n",
    "def import_handler(handler_name, fn_name='encode'):\n",
    "    try:\n",
    "        handler = importlib.import_module(handler_name)\n",
    "        return getattr(handler, fn_name)\n",
    "\n",
    "    except (ImportError, AttributeError):\n",
    "        print(f\"Failed to import function: {fn_name}\")"
   ]
  },
  {
   "cell_type": "code",
   "execution_count": null,
   "id": "cdea8374",
   "metadata": {},
   "outputs": [],
   "source": [
    "#| export\n",
    "available_handlers = ['helcom', 'geotraces', 'tepco', 'ospar']"
   ]
  },
  {
   "cell_type": "code",
   "execution_count": null,
   "id": "d618aa0d",
   "metadata": {},
   "outputs": [],
   "source": [
    "#| export\n",
    "@call_parse\n",
    "def main(\n",
    "    ds: str,  # Name of the dataset to encode as NetCDF4\n",
    "    dest: str, # Output path and filename for NetCDF file\n",
    "    src: Optional[str] = None,  # Optional input data path only required for the 'GEOTRACES' dataset\n",
    ") -> None:\n",
    "    \"Convert 'helcom', 'geotraces', 'tepco' or 'ospar' marine radioactivity datasets to MARIS NetCDF4 format.\"\n",
    "    # Validate input\n",
    "    if ds not in available_handlers:\n",
    "        print(S.red(f\"Invalid handler name: {ds}. Available handlers: {available_handlers}\"))\n",
    "        sys.exit(1)\n",
    "    \n",
    "    print(f'Encoding: {ds} ...')\n",
    "    \n",
    "    encode = import_handler(f'marisco.handlers.{ds}')\n",
    "    if src is None:\n",
    "        encode(fname_out=dest)\n",
    "    else:\n",
    "        encode(fname_in=src, fname_out=dest)"
   ]
  },
  {
   "cell_type": "code",
   "execution_count": null,
   "id": "10a92a2d",
   "metadata": {},
   "outputs": [],
   "source": []
  }
 ],
 "metadata": {
  "kernelspec": {
   "display_name": "python3",
   "language": "python",
   "name": "python3"
  }
 },
 "nbformat": 4,
 "nbformat_minor": 5
}

{
 "cells": [
  {
   "cell_type": "code",
   "execution_count": null,
   "id": "3faae62d",
   "metadata": {},
   "outputs": [],
   "source": [
    "#| default_exp cli.nc_to_csv"
   ]
  },
  {
   "cell_type": "code",
   "execution_count": null,
   "id": "d865263e",
   "metadata": {},
   "outputs": [],
   "source": [
    "%load_ext autoreload\n",
    "%autoreload 2"
   ]
  },
  {
   "cell_type": "code",
   "execution_count": null,
   "id": "3f92bc7b",
   "metadata": {},
   "outputs": [],
   "source": [
    "#| export\n",
    "from fastcore.script import *\n",
    "from pathlib import Path\n",
    "from marisco.netcdf2csv import decode"
   ]
  },
  {
   "cell_type": "code",
   "execution_count": null,
   "id": "d618aa0d",
   "metadata": {},
   "outputs": [],
   "source": [
    "#| export\n",
    "@call_parse\n",
    "def main(\n",
    "    src: str,  # Input path and filename for NetCDF file\n",
    "    dest: str, # Output path and filename (without extension) for CSV file\n",
    ") -> None:\n",
    "    \"Converts NetCDF files into CSV files that follow the MARIS Standard format.\"\n",
    "    print(f'Decoding: {Path(src).name} ...')\n",
    "    decode(fname_in=src, dest_out=dest, verbose=True)"
   ]
  }
 ],
 "metadata": {
  "kernelspec": {
   "display_name": "python3",
   "language": "python",
   "name": "python3"
  }
 },
 "nbformat": 4,
 "nbformat_minor": 5
}

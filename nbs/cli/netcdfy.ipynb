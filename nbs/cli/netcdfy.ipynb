{
 "cells": [
  {
   "cell_type": "code",
   "execution_count": null,
   "id": "3faae62d",
   "metadata": {},
   "outputs": [],
   "source": [
    "#| default_exp cli.netcdfy"
   ]
  },
  {
   "cell_type": "code",
   "execution_count": null,
   "id": "3f92bc7b",
   "metadata": {},
   "outputs": [],
   "source": [
    "#| export\n",
    "from pathlib import Path\n",
    "from fastcore.script import *\n",
    "from marisco.configs import BASE_PATH\n",
    "import papermill as pm\n",
    "from marisco.utils import parametrize"
   ]
  },
  {
   "cell_type": "code",
   "execution_count": null,
   "id": "d618aa0d",
   "metadata": {},
   "outputs": [],
   "source": [
    "#| export\n",
    "@call_parse\n",
    "def main(data:str,  # Path to dataset to encode\n",
    "         nb_in:str, # Path to Jupyter noteboook (NetCDF handler) to execute\n",
    "         nc_out:str,# Path to generated NetCDF4\n",
    "        ):\n",
    "    \"Encode MARIS dataset as NetCDF using Jupyter Notebook handlers\"\n",
    "    print(f'Handler: {nb_in}')\n",
    "    print(f'Output: {nc_out}')\n",
    "    parametrize(nb_in)\n",
    "    inter_nb = BASE_PATH / 'tmp' / '_output.ipynb'\n",
    "    \n",
    "    pm.execute_notebook(\n",
    "        nb_in,\n",
    "        inter_nb,\n",
    "        parameters=dict(fname_in=data, fname_out=nc_out))"
   ]
  }
 ],
 "metadata": {
  "kernelspec": {
   "display_name": "Python 3 (ipykernel)",
   "language": "python",
   "name": "python3"
  }
 },
 "nbformat": 4,
 "nbformat_minor": 5
}

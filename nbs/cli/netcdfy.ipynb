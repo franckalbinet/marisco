{
 "cells": [
  {
   "cell_type": "code",
   "execution_count": null,
   "id": "3faae62d",
   "metadata": {},
   "outputs": [],
   "source": [
    "#| default_exp cli.netcdfy"
   ]
  },
  {
   "cell_type": "code",
   "execution_count": null,
   "id": "d865263e",
   "metadata": {},
   "outputs": [
    {
     "name": "stdout",
     "output_type": "stream",
     "text": [
      "The autoreload extension is already loaded. To reload it, use:\n",
      "  %reload_ext autoreload\n"
     ]
    }
   ],
   "source": [
    "%load_ext autoreload\n",
    "%autoreload 2"
   ]
  },
  {
   "cell_type": "code",
   "execution_count": null,
   "id": "3f92bc7b",
   "metadata": {},
   "outputs": [],
   "source": [
    "#| export\n",
    "from fastcore.script import *\n",
    "import importlib\n",
    "\n",
    "from marisco.configs import nc_tpl_path"
   ]
  },
  {
   "cell_type": "code",
   "execution_count": null,
   "id": "8164c759",
   "metadata": {},
   "outputs": [],
   "source": [
    "#| export\n",
    "def import_handler(handler_name, fn_name='encode'):\n",
    "    try:\n",
    "        handler = importlib.import_module(handler_name)\n",
    "        return getattr(handler, fn_name)\n",
    "\n",
    "    except (ImportError, AttributeError):\n",
    "        print(f\"Failed to import function: {fn_name}\")"
   ]
  },
  {
   "cell_type": "code",
   "execution_count": null,
   "id": "d618aa0d",
   "metadata": {},
   "outputs": [],
   "source": [
    "#| export\n",
    "@call_parse\n",
    "def main(handler_name: str,  # Handler's name (e.g helcom, ...)\n",
    "         src: str,           # Path to dataset to encode\n",
    "         dest: str,          # Path to converted NetCDF4\n",
    "         ):\n",
    "    \"Encode MARIS dataset as NetCDF\"\n",
    "    print(f'Encoding: {handler_name} ...')\n",
    "    encode = import_handler(f'marisco.handlers.{handler_name}')\n",
    "    encode(src, dest, get_nc_tpl_path())"
   ]
  },
  {
   "cell_type": "code",
   "execution_count": null,
   "id": "2f203098",
   "metadata": {},
   "outputs": [],
   "source": []
  }
 ],
 "metadata": {
  "kernelspec": {
   "display_name": "python3",
   "language": "python",
   "name": "python3"
  },
  "language_info": {
   "name": "python",
   "version": "3.9.18"
  }
 },
 "nbformat": 4,
 "nbformat_minor": 5
}

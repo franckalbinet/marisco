{
 "cells": [
  {
   "cell_type": "markdown",
   "id": "f263111a",
   "metadata": {},
   "source": [
    "# Bailly du Bois et al., IRSN, 2012\n",
    "\n",
    "\n",
    "> NetCDF handler for [\"Bailly du Bois, Pascal; Dumas, F; Solier, L; Voiseux, C (2011): DISPRO datasets for validation of coastal hydrodynamic models. PANGAEA\"](https://doi.org/10.1594/PANGAEA.762253)."
   ]
  },
  {
   "cell_type": "markdown",
   "id": "b92a5c33",
   "metadata": {},
   "source": [
    "## Packages import"
   ]
  },
  {
   "cell_type": "code",
   "execution_count": null,
   "id": "0db45fee",
   "metadata": {},
   "outputs": [],
   "source": [
    "%load_ext autoreload\n",
    "%autoreload 2"
   ]
  },
  {
   "cell_type": "code",
   "execution_count": null,
   "id": "3a8d979f",
   "metadata": {},
   "outputs": [],
   "source": [
    "import pandas as pd\n",
    "import numpy as np\n",
    "\n",
    "from netCDF4 import Dataset\n",
    "from datetime import datetime, timedelta\n",
    "from cftime import num2date, date2num\n",
    "\n",
    "#from marisco.utils import has_valid_varname\n",
    "from marisco.serializers import to_netcdf\n",
    "from datetime import datetime\n",
    "#import re"
   ]
  },
  {
   "cell_type": "markdown",
   "id": "5e534545",
   "metadata": {},
   "source": [
    "## Load `tab` file"
   ]
  },
  {
   "cell_type": "markdown",
   "id": "7c0ffcd0",
   "metadata": {},
   "source": [
    "The data is provided as a tabulation separated file"
   ]
  },
  {
   "cell_type": "code",
   "execution_count": null,
   "id": "cab5c1ff",
   "metadata": {},
   "outputs": [],
   "source": [
    "path = '../../_data/Bailly-du-Bois_2011-dispro/datasets/dispro-tritium.tab'"
   ]
  },
  {
   "cell_type": "code",
   "execution_count": null,
   "id": "61024ca0",
   "metadata": {},
   "outputs": [],
   "source": [
    "df = pd.read_csv(path, skiprows=23, delimiter='\\t'); df.head()"
   ]
  },
  {
   "cell_type": "markdown",
   "id": "0d68abc3",
   "metadata": {},
   "source": [
    "## Data preparation"
   ]
  },
  {
   "cell_type": "code",
   "execution_count": null,
   "id": "675ca3c4",
   "metadata": {},
   "outputs": [],
   "source": [
    "cols_of_interest = ['Depth water [m]', 'Date/Time', 'Longitude', 'Latitude', '3H [Bq/l]', '3H std dev [±]']\n",
    "df = df[cols_of_interest]"
   ]
  },
  {
   "cell_type": "code",
   "execution_count": null,
   "id": "fd13134b",
   "metadata": {},
   "outputs": [],
   "source": [
    "# Rename columns\n",
    "df.columns = ['depth', 'time', 'lon', 'lat', 'h3', 'h3_unc']"
   ]
  },
  {
   "cell_type": "code",
   "execution_count": null,
   "id": "5819d93d",
   "metadata": {},
   "outputs": [],
   "source": [
    "# Convert time to datetime type \n",
    "df.time = pd.to_datetime(df['time'], infer_datetime_format=True)"
   ]
  },
  {
   "cell_type": "code",
   "execution_count": null,
   "id": "8d88d9b8",
   "metadata": {},
   "outputs": [],
   "source": [
    "# Encoding time as seconds since ...\n",
    "format_time = lambda x: date2num(x, units=\"seconds since 1970-01-01 00:00:00.0\")\n",
    "df['time'] = df['time'].apply(format_time)"
   ]
  },
  {
   "cell_type": "code",
   "execution_count": null,
   "id": "ceef302d",
   "metadata": {},
   "outputs": [],
   "source": [
    "df.head()"
   ]
  },
  {
   "cell_type": "markdown",
   "id": "a41cac24",
   "metadata": {},
   "source": [
    "## Encode as NetCDF"
   ]
  },
  {
   "cell_type": "code",
   "execution_count": null,
   "id": "97678fb2",
   "metadata": {},
   "outputs": [],
   "source": [
    "CONFIGS = {\n",
    "    'global_attr': {\n",
    "        'description': 'Bailly du Bois, IRSN dataset ...',\n",
    "        'keyword': '3H seawater radionuclides ...',\n",
    "        'license': 'tbd',\n",
    "    }\n",
    "}"
   ]
  },
  {
   "cell_type": "code",
   "execution_count": null,
   "id": "fbc8b37e",
   "metadata": {},
   "outputs": [],
   "source": [
    "def units_fn(grp_name,\n",
    "             rdn_name):\n",
    "    if grp_name == 'seawater':\n",
    "        if '_unc' in rdn_name:\n",
    "            return '%' # to be confirmed\n",
    "        else:\n",
    "            return 'Bq/l'"
   ]
  },
  {
   "cell_type": "code",
   "execution_count": null,
   "id": "2e9f4452",
   "metadata": {},
   "outputs": [],
   "source": [
    "fname_cdl = '../../_data/output/maris-cdl.nc'\n",
    "fname_output = f\"../../_data/output/bailly-du-bois-2012.nc\"\n",
    "dfs = {'seawater': df}\n",
    "\n",
    "to_netcdf(dfs, fname_cdl, fname_output, CONFIGS, units_fn)"
   ]
  }
 ],
 "metadata": {
  "kernelspec": {
   "display_name": "python3",
   "language": "python",
   "name": "python3"
  }
 },
 "nbformat": 4,
 "nbformat_minor": 5
}

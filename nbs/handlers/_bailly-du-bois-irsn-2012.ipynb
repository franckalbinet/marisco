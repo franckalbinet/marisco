{
 "cells": [
  {
   "cell_type": "markdown",
   "id": "f263111a",
   "metadata": {},
   "source": [
    "# Bailly du Bois et al., IRSN, 2012\n",
    "\n",
    "\n",
    "> NetCDF handler for [\"Bailly du Bois, Pascal; Dumas, F; Solier, L; Voiseux, C (2011): DISPRO datasets for validation of coastal hydrodynamic models. PANGAEA\"](https://doi.org/10.1594/PANGAEA.762253)."
   ]
  },
  {
   "cell_type": "markdown",
   "id": "b92a5c33",
   "metadata": {},
   "source": [
    "## Packages import"
   ]
  },
  {
   "cell_type": "code",
   "execution_count": null,
   "id": "0db45fee",
   "metadata": {},
   "outputs": [],
   "source": [
    "%load_ext autoreload\n",
    "%autoreload 2"
   ]
  },
  {
   "cell_type": "code",
   "execution_count": null,
   "id": "3a8d979f",
   "metadata": {},
   "outputs": [],
   "source": [
    "import pandas as pd\n",
    "import numpy as np\n",
    "\n",
    "from netCDF4 import Dataset\n",
    "from datetime import datetime, timedelta\n",
    "from cftime import num2date, date2num\n",
    "\n",
    "#from marisco.utils import has_valid_varname\n",
    "from marisco.serializers import to_netcdf\n",
    "from datetime import datetime\n",
    "#import re"
   ]
  },
  {
   "cell_type": "markdown",
   "id": "5e534545",
   "metadata": {},
   "source": [
    "## Load `tab` file"
   ]
  },
  {
   "cell_type": "markdown",
   "id": "7c0ffcd0",
   "metadata": {},
   "source": [
    "The data is provided as a tabulation separated file"
   ]
  },
  {
   "cell_type": "code",
   "execution_count": null,
   "id": "cab5c1ff",
   "metadata": {},
   "outputs": [],
   "source": [
    "path = '../../_data/Bailly-du-Bois_2011-dispro/datasets/dispro-tritium.tab'"
   ]
  },
  {
   "cell_type": "code",
   "execution_count": null,
   "id": "61024ca0",
   "metadata": {},
   "outputs": [
    {
     "data": {
      "text/html": [
       "<div>\n",
       "<style scoped>\n",
       "    .dataframe tbody tr th:only-of-type {\n",
       "        vertical-align: middle;\n",
       "    }\n",
       "\n",
       "    .dataframe tbody tr th {\n",
       "        vertical-align: top;\n",
       "    }\n",
       "\n",
       "    .dataframe thead th {\n",
       "        text-align: right;\n",
       "    }\n",
       "</style>\n",
       "<table border=\"1\" class=\"dataframe\">\n",
       "  <thead>\n",
       "    <tr style=\"text-align: right;\">\n",
       "      <th></th>\n",
       "      <th>Depth water [m]</th>\n",
       "      <th>Sample ID</th>\n",
       "      <th>Date/Time</th>\n",
       "      <th>Longitude</th>\n",
       "      <th>Latitude</th>\n",
       "      <th>3H [Bq/l]</th>\n",
       "      <th>3H std dev [±]</th>\n",
       "      <th>Expedition</th>\n",
       "      <th>ID (Release ID)</th>\n",
       "      <th>ID (Transect number)</th>\n",
       "      <th>ID (Crossing plume (1/0))</th>\n",
       "    </tr>\n",
       "  </thead>\n",
       "  <tbody>\n",
       "    <tr>\n",
       "      <th>0</th>\n",
       "      <td>2.0</td>\n",
       "      <td>1</td>\n",
       "      <td>2002-08-27T10:24:00</td>\n",
       "      <td>-1.949000</td>\n",
       "      <td>49.750917</td>\n",
       "      <td>3.17</td>\n",
       "      <td>4.31</td>\n",
       "      <td>Dsp08_0001</td>\n",
       "      <td>0</td>\n",
       "      <td>0</td>\n",
       "      <td>0</td>\n",
       "    </tr>\n",
       "    <tr>\n",
       "      <th>1</th>\n",
       "      <td>2.0</td>\n",
       "      <td>2</td>\n",
       "      <td>2002-08-27T10:30:00</td>\n",
       "      <td>-1.949400</td>\n",
       "      <td>49.751333</td>\n",
       "      <td>2.54</td>\n",
       "      <td>4.26</td>\n",
       "      <td>Dsp08_0002</td>\n",
       "      <td>0</td>\n",
       "      <td>0</td>\n",
       "      <td>0</td>\n",
       "    </tr>\n",
       "    <tr>\n",
       "      <th>2</th>\n",
       "      <td>2.0</td>\n",
       "      <td>3</td>\n",
       "      <td>2002-08-27T10:40:00</td>\n",
       "      <td>-1.949267</td>\n",
       "      <td>49.751267</td>\n",
       "      <td>0.85</td>\n",
       "      <td>4.16</td>\n",
       "      <td>Dsp08_0003</td>\n",
       "      <td>0</td>\n",
       "      <td>0</td>\n",
       "      <td>0</td>\n",
       "    </tr>\n",
       "    <tr>\n",
       "      <th>3</th>\n",
       "      <td>2.0</td>\n",
       "      <td>4</td>\n",
       "      <td>2002-08-27T10:50:00</td>\n",
       "      <td>-1.950550</td>\n",
       "      <td>49.751417</td>\n",
       "      <td>1.06</td>\n",
       "      <td>4.16</td>\n",
       "      <td>Dsp08_0004</td>\n",
       "      <td>0</td>\n",
       "      <td>0</td>\n",
       "      <td>0</td>\n",
       "    </tr>\n",
       "    <tr>\n",
       "      <th>4</th>\n",
       "      <td>2.0</td>\n",
       "      <td>5</td>\n",
       "      <td>2002-08-27T11:01:00</td>\n",
       "      <td>-1.960950</td>\n",
       "      <td>49.748967</td>\n",
       "      <td>0.00</td>\n",
       "      <td>2.84</td>\n",
       "      <td>Dsp08_0005</td>\n",
       "      <td>0</td>\n",
       "      <td>0</td>\n",
       "      <td>0</td>\n",
       "    </tr>\n",
       "  </tbody>\n",
       "</table>\n",
       "</div>"
      ],
      "text/plain": [
       "   Depth water [m]  Sample ID            Date/Time  Longitude   Latitude  \\\n",
       "0              2.0          1  2002-08-27T10:24:00  -1.949000  49.750917   \n",
       "1              2.0          2  2002-08-27T10:30:00  -1.949400  49.751333   \n",
       "2              2.0          3  2002-08-27T10:40:00  -1.949267  49.751267   \n",
       "3              2.0          4  2002-08-27T10:50:00  -1.950550  49.751417   \n",
       "4              2.0          5  2002-08-27T11:01:00  -1.960950  49.748967   \n",
       "\n",
       "   3H [Bq/l]  3H std dev [±]  Expedition ID (Release ID)  \\\n",
       "0       3.17            4.31  Dsp08_0001               0   \n",
       "1       2.54            4.26  Dsp08_0002               0   \n",
       "2       0.85            4.16  Dsp08_0003               0   \n",
       "3       1.06            4.16  Dsp08_0004               0   \n",
       "4       0.00            2.84  Dsp08_0005               0   \n",
       "\n",
       "   ID (Transect number)  ID (Crossing plume (1/0))  \n",
       "0                     0                          0  \n",
       "1                     0                          0  \n",
       "2                     0                          0  \n",
       "3                     0                          0  \n",
       "4                     0                          0  "
      ]
     },
     "execution_count": null,
     "metadata": {},
     "output_type": "execute_result"
    }
   ],
   "source": [
    "df = pd.read_csv(path, skiprows=23, delimiter='\\t'); df.head()"
   ]
  },
  {
   "cell_type": "markdown",
   "id": "0d68abc3",
   "metadata": {},
   "source": [
    "## Data preparation"
   ]
  },
  {
   "cell_type": "code",
   "execution_count": null,
   "id": "675ca3c4",
   "metadata": {},
   "outputs": [],
   "source": [
    "cols_of_interest = ['Depth water [m]', 'Date/Time', 'Longitude', 'Latitude', '3H [Bq/l]', '3H std dev [±]']\n",
    "df = df[cols_of_interest]"
   ]
  },
  {
   "cell_type": "code",
   "execution_count": null,
   "id": "fd13134b",
   "metadata": {},
   "outputs": [],
   "source": [
    "# Rename columns\n",
    "df.columns = ['depth', 'time', 'lon', 'lat', 'h3', 'h3_unc']"
   ]
  },
  {
   "cell_type": "code",
   "execution_count": null,
   "id": "5819d93d",
   "metadata": {},
   "outputs": [],
   "source": [
    "# Convert time to datetime type \n",
    "df.time = pd.to_datetime(df['time'], infer_datetime_format=True)"
   ]
  },
  {
   "cell_type": "code",
   "execution_count": null,
   "id": "8d88d9b8",
   "metadata": {},
   "outputs": [],
   "source": [
    "# Encoding time as seconds since ...\n",
    "format_time = lambda x: date2num(x, units=\"seconds since 1970-01-01 00:00:00.0\")\n",
    "df['time'] = df['time'].apply(format_time)"
   ]
  },
  {
   "cell_type": "code",
   "execution_count": null,
   "id": "ceef302d",
   "metadata": {},
   "outputs": [
    {
     "data": {
      "text/html": [
       "<div>\n",
       "<style scoped>\n",
       "    .dataframe tbody tr th:only-of-type {\n",
       "        vertical-align: middle;\n",
       "    }\n",
       "\n",
       "    .dataframe tbody tr th {\n",
       "        vertical-align: top;\n",
       "    }\n",
       "\n",
       "    .dataframe thead th {\n",
       "        text-align: right;\n",
       "    }\n",
       "</style>\n",
       "<table border=\"1\" class=\"dataframe\">\n",
       "  <thead>\n",
       "    <tr style=\"text-align: right;\">\n",
       "      <th></th>\n",
       "      <th>depth</th>\n",
       "      <th>time</th>\n",
       "      <th>lon</th>\n",
       "      <th>lat</th>\n",
       "      <th>h3</th>\n",
       "      <th>h3_unc</th>\n",
       "    </tr>\n",
       "  </thead>\n",
       "  <tbody>\n",
       "    <tr>\n",
       "      <th>0</th>\n",
       "      <td>2.0</td>\n",
       "      <td>1030443840</td>\n",
       "      <td>-1.949000</td>\n",
       "      <td>49.750917</td>\n",
       "      <td>3.17</td>\n",
       "      <td>4.31</td>\n",
       "    </tr>\n",
       "    <tr>\n",
       "      <th>1</th>\n",
       "      <td>2.0</td>\n",
       "      <td>1030444200</td>\n",
       "      <td>-1.949400</td>\n",
       "      <td>49.751333</td>\n",
       "      <td>2.54</td>\n",
       "      <td>4.26</td>\n",
       "    </tr>\n",
       "    <tr>\n",
       "      <th>2</th>\n",
       "      <td>2.0</td>\n",
       "      <td>1030444800</td>\n",
       "      <td>-1.949267</td>\n",
       "      <td>49.751267</td>\n",
       "      <td>0.85</td>\n",
       "      <td>4.16</td>\n",
       "    </tr>\n",
       "    <tr>\n",
       "      <th>3</th>\n",
       "      <td>2.0</td>\n",
       "      <td>1030445400</td>\n",
       "      <td>-1.950550</td>\n",
       "      <td>49.751417</td>\n",
       "      <td>1.06</td>\n",
       "      <td>4.16</td>\n",
       "    </tr>\n",
       "    <tr>\n",
       "      <th>4</th>\n",
       "      <td>2.0</td>\n",
       "      <td>1030446060</td>\n",
       "      <td>-1.960950</td>\n",
       "      <td>49.748967</td>\n",
       "      <td>0.00</td>\n",
       "      <td>2.84</td>\n",
       "    </tr>\n",
       "  </tbody>\n",
       "</table>\n",
       "</div>"
      ],
      "text/plain": [
       "   depth        time       lon        lat    h3  h3_unc\n",
       "0    2.0  1030443840 -1.949000  49.750917  3.17    4.31\n",
       "1    2.0  1030444200 -1.949400  49.751333  2.54    4.26\n",
       "2    2.0  1030444800 -1.949267  49.751267  0.85    4.16\n",
       "3    2.0  1030445400 -1.950550  49.751417  1.06    4.16\n",
       "4    2.0  1030446060 -1.960950  49.748967  0.00    2.84"
      ]
     },
     "execution_count": null,
     "metadata": {},
     "output_type": "execute_result"
    }
   ],
   "source": [
    "df.head()"
   ]
  },
  {
   "cell_type": "markdown",
   "id": "a41cac24",
   "metadata": {},
   "source": [
    "## Encode as NetCDF"
   ]
  },
  {
   "cell_type": "code",
   "execution_count": null,
   "id": "97678fb2",
   "metadata": {},
   "outputs": [],
   "source": [
    "CONFIGS = {\n",
    "    'global_attr': {\n",
    "        'description': 'Bailly du Bois, IRSN dataset ...',\n",
    "        'keyword': '3H seawater radionuclides ...',\n",
    "        'license': 'tbd',\n",
    "    }\n",
    "}"
   ]
  },
  {
   "cell_type": "code",
   "execution_count": null,
   "id": "fbc8b37e",
   "metadata": {},
   "outputs": [],
   "source": [
    "def units_fn(grp_name,\n",
    "             rdn_name):\n",
    "    if grp_name == 'seawater':\n",
    "        if '_unc' in rdn_name:\n",
    "            return '%' # to be confirmed\n",
    "        else:\n",
    "            return 'Bq/l'"
   ]
  },
  {
   "cell_type": "code",
   "execution_count": null,
   "id": "2e9f4452",
   "metadata": {},
   "outputs": [
    {
     "name": "stdout",
     "output_type": "stream",
     "text": [
      "% of discarded data for grp seawater: 0.0\n"
     ]
    }
   ],
   "source": [
    "fname_cdl = '../../_data/output/maris-cdl.nc'\n",
    "fname_output = f\"../../_data/output/bailly-du-bois-2012.nc\"\n",
    "dfs = {'seawater': df}\n",
    "\n",
    "to_netcdf(dfs, fname_cdl, fname_output, CONFIGS, units_fn)"
   ]
  }
 ],
 "metadata": {
  "kernelspec": {
   "display_name": "python3",
   "language": "python",
   "name": "python3"
  }
 },
 "nbformat": 4,
 "nbformat_minor": 5
}

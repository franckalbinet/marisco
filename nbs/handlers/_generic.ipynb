{
 "cells": [
  {
   "cell_type": "code",
   "execution_count": null,
   "id": "bb60862d",
   "metadata": {},
   "outputs": [],
   "source": [
    "#| default_exp handlers.generic"
   ]
  },
  {
   "attachments": {},
   "cell_type": "markdown",
   "id": "f263111a",
   "metadata": {},
   "source": [
    "# Generic\n",
    "> Generic data pipeline (handler) to convert datasets to `NetCDF` format\n",
    "\n",
    "The input data is a dump from already imported MARIS datasets.\n",
    "\n",
    "\n",
    "**Questions**:\n",
    "1. do we put areaname?\n",
    "2. when converted to tall to wide a sample might have several nuclide type, but their measurement methods might be different? Maybe put them in metadata or variable attribute?\n",
    "3. is `decayedto` used and in what context? (question to be answered for all columns actually)\n",
    "4. what are units of uncertainty?\n",
    "5. do we keep detection?\n",
    "6. which columns for which sample type?\n",
    "7. f(nuclide) or f(nuclide, measurement) ? E.g volume, counmet, unit?\n",
    "8. need areea_id -> area_name lut to be used as enumtype\n",
    "9. ref_id vs. zoterourl vs. displaytext\n",
    "   1.  e.g ref_id=129 and 130 points to the same dataset?\n",
    "\n",
    "**Dev. board**: https://trello.com/b/IszgV1bj/marisco"
   ]
  },
  {
   "attachments": {},
   "cell_type": "markdown",
   "id": "b92a5c33",
   "metadata": {},
   "source": [
    "## Packages import"
   ]
  },
  {
   "cell_type": "code",
   "execution_count": null,
   "id": "0db45fee",
   "metadata": {},
   "outputs": [],
   "source": [
    "%load_ext autoreload\n",
    "%autoreload 2"
   ]
  },
  {
   "cell_type": "code",
   "execution_count": null,
   "id": "3a8d979f",
   "metadata": {},
   "outputs": [],
   "source": [
    "#| export\n",
    "import pandas as pd\n",
    "from tqdm import tqdm\n",
    "from functools import partial\n",
    "import fastcore.all as fc\n",
    "\n",
    "from pathlib import Path\n",
    "\n",
    "from marisco.utils import (has_valid_varname, match_worms)\n",
    "from marisco.callbacks import (Callback, Transformer,\n",
    "                               EncodeTimeCB, SanitizeLonLatCB)\n",
    "\n",
    "from marisco.metadata import (GlobAttrsFeeder, BboxCB,\n",
    "                              DepthRangeCB, TimeRangeCB,\n",
    "                              ZoteroCB, KeyValuePairCB)\n",
    "\n",
    "from marisco.serializers import to_netcdf\n",
    "# from marisco.configs import get_nc_tpl_path, BASE_PATH, NUCLIDES_LUT\n",
    "from marisco.configs import get_nc_tpl_path, BASE_PATH"
   ]
  },
  {
   "cell_type": "code",
   "execution_count": null,
   "id": "51f2351f",
   "metadata": {},
   "outputs": [],
   "source": [
    "pd.set_option('display.max_rows', 500)"
   ]
  },
  {
   "cell_type": "code",
   "execution_count": null,
   "id": "3bdc920d",
   "metadata": {},
   "outputs": [],
   "source": [
    "NC_TPL_PATH = get_nc_tpl_path()"
   ]
  },
  {
   "cell_type": "code",
   "execution_count": null,
   "id": "715e849d",
   "metadata": {},
   "outputs": [],
   "source": [
    "fname_in = '../../_data/exploded/3-top-and-clarke-1983.csv' # has salinity and temperature\n",
    "# fname_in = '../../_data/exploded/6-kautsky-and-eicke-1982.csv' # has volume\n",
    "# fname_out = '../../_data/output/3-top-and-clarke-1983.nc'"
   ]
  },
  {
   "cell_type": "code",
   "execution_count": null,
   "id": "0694203f",
   "metadata": {},
   "outputs": [],
   "source": [
    "fname_in = Path().home() / 'pro/data/maris/all-maris.txt'"
   ]
  },
  {
   "cell_type": "code",
   "execution_count": null,
   "id": "bf1a71c0",
   "metadata": {},
   "outputs": [
    {
     "name": "stderr",
     "output_type": "stream",
     "text": [
      "/var/folders/9w/q9wj71814bd5m3n9gpmxn1rm0000gn/T/ipykernel_2780/2692426613.py:1: DtypeWarning: Columns (8,9,15,20,23,26,27,28,29,36,42,43,56,62,68,71,74) have mixed types. Specify dtype option on import or set low_memory=False.\n",
      "  df = pd.read_csv(fname_in, sep='\\t', encoding='ISO-8859-1')\n"
     ]
    }
   ],
   "source": [
    "df = pd.read_csv(fname_in, sep='\\t', encoding='ISO-8859-1')   "
   ]
  },
  {
   "cell_type": "code",
   "execution_count": null,
   "metadata": {},
   "outputs": [
    {
     "data": {
      "text/html": [
       "<div>\n",
       "<style scoped>\n",
       "    .dataframe tbody tr th:only-of-type {\n",
       "        vertical-align: middle;\n",
       "    }\n",
       "\n",
       "    .dataframe tbody tr th {\n",
       "        vertical-align: top;\n",
       "    }\n",
       "\n",
       "    .dataframe thead th {\n",
       "        text-align: right;\n",
       "    }\n",
       "</style>\n",
       "<table border=\"1\" class=\"dataframe\">\n",
       "  <thead>\n",
       "    <tr style=\"text-align: right;\">\n",
       "      <th></th>\n",
       "      <th>sample_id</th>\n",
       "      <th>area_id</th>\n",
       "      <th>areaname</th>\n",
       "      <th>samptype_id</th>\n",
       "      <th>samptype</th>\n",
       "      <th>ref_id</th>\n",
       "      <th>displaytext</th>\n",
       "      <th>zoterourl</th>\n",
       "      <th>ref_note</th>\n",
       "      <th>datbase</th>\n",
       "      <th>...</th>\n",
       "      <th>profile_id</th>\n",
       "      <th>sampnote</th>\n",
       "      <th>ref_fulltext</th>\n",
       "      <th>ref_yearpub</th>\n",
       "      <th>ref_sampleTypes</th>\n",
       "      <th>LongLat</th>\n",
       "      <th>shiftedcoordinates</th>\n",
       "      <th>shiftedlong</th>\n",
       "      <th>shiftedlat</th>\n",
       "      <th>id</th>\n",
       "    </tr>\n",
       "  </thead>\n",
       "  <tbody>\n",
       "    <tr>\n",
       "      <th>0</th>\n",
       "      <td>594163</td>\n",
       "      <td>1904</td>\n",
       "      <td>Indian Ocean</td>\n",
       "      <td>1</td>\n",
       "      <td>Seawater</td>\n",
       "      <td>402</td>\n",
       "      <td>CCHDO, 2018</td>\n",
       "      <td>https://www.zotero.org/groups/2432820/maris/it...</td>\n",
       "      <td>Data downloaded from: Oms (2018), Tritium in o...</td>\n",
       "      <td>NaN</td>\n",
       "      <td>...</td>\n",
       "      <td>402.1304</td>\n",
       "      <td>SOURCE FILE NAME: 316N145_7_00398_00001_hy1.nc.</td>\n",
       "      <td>CCHDO, 2018. CCHDO (CLIVAR and Carbon Hydrogra...</td>\n",
       "      <td>1984</td>\n",
       "      <td>1</td>\n",
       "      <td>89.373,-31.597</td>\n",
       "      <td>0xE6100000010CF085C954C1983FC0A4703D0AD7575640</td>\n",
       "      <td>89.372500</td>\n",
       "      <td>-31.596667</td>\n",
       "      <td>1</td>\n",
       "    </tr>\n",
       "    <tr>\n",
       "      <th>1</th>\n",
       "      <td>594135</td>\n",
       "      <td>1904</td>\n",
       "      <td>Indian Ocean</td>\n",
       "      <td>1</td>\n",
       "      <td>Seawater</td>\n",
       "      <td>402</td>\n",
       "      <td>CCHDO, 2018</td>\n",
       "      <td>https://www.zotero.org/groups/2432820/maris/it...</td>\n",
       "      <td>Data downloaded from: Oms (2018), Tritium in o...</td>\n",
       "      <td>NaN</td>\n",
       "      <td>...</td>\n",
       "      <td>402.1303</td>\n",
       "      <td>SOURCE FILE NAME: 33RR20090320_00181_00002_hy1...</td>\n",
       "      <td>CCHDO, 2018. CCHDO (CLIVAR and Carbon Hydrogra...</td>\n",
       "      <td>1984</td>\n",
       "      <td>1</td>\n",
       "      <td>109.551,-31.595</td>\n",
       "      <td>0xE6100000010C63EE5A423E983FC02506819543635B40</td>\n",
       "      <td>109.551389</td>\n",
       "      <td>-31.594722</td>\n",
       "      <td>2</td>\n",
       "    </tr>\n",
       "    <tr>\n",
       "      <th>2</th>\n",
       "      <td>594143</td>\n",
       "      <td>1904</td>\n",
       "      <td>Indian Ocean</td>\n",
       "      <td>1</td>\n",
       "      <td>Seawater</td>\n",
       "      <td>402</td>\n",
       "      <td>CCHDO, 2018</td>\n",
       "      <td>https://www.zotero.org/groups/2432820/maris/it...</td>\n",
       "      <td>Data downloaded from: Oms (2018), Tritium in o...</td>\n",
       "      <td>NaN</td>\n",
       "      <td>...</td>\n",
       "      <td>402.1303</td>\n",
       "      <td>SOURCE FILE NAME: 33RR20090320_00181_00002_hy1...</td>\n",
       "      <td>CCHDO, 2018. CCHDO (CLIVAR and Carbon Hydrogra...</td>\n",
       "      <td>1984</td>\n",
       "      <td>1</td>\n",
       "      <td>109.551,-31.595</td>\n",
       "      <td>0xE6100000010C63EE5A423E983FC02506819543635B40</td>\n",
       "      <td>109.551389</td>\n",
       "      <td>-31.594722</td>\n",
       "      <td>3</td>\n",
       "    </tr>\n",
       "    <tr>\n",
       "      <th>3</th>\n",
       "      <td>594160</td>\n",
       "      <td>1904</td>\n",
       "      <td>Indian Ocean</td>\n",
       "      <td>1</td>\n",
       "      <td>Seawater</td>\n",
       "      <td>402</td>\n",
       "      <td>CCHDO, 2018</td>\n",
       "      <td>https://www.zotero.org/groups/2432820/maris/it...</td>\n",
       "      <td>Data downloaded from: Oms (2018), Tritium in o...</td>\n",
       "      <td>NaN</td>\n",
       "      <td>...</td>\n",
       "      <td>402.1304</td>\n",
       "      <td>SOURCE FILE NAME: 316N145_7_00398_00001_hy1.nc.</td>\n",
       "      <td>CCHDO, 2018. CCHDO (CLIVAR and Carbon Hydrogra...</td>\n",
       "      <td>1984</td>\n",
       "      <td>1</td>\n",
       "      <td>89.373,-31.597</td>\n",
       "      <td>0xE6100000010CF085C954C1983FC0A4703D0AD7575640</td>\n",
       "      <td>89.372500</td>\n",
       "      <td>-31.596667</td>\n",
       "      <td>4</td>\n",
       "    </tr>\n",
       "    <tr>\n",
       "      <th>4</th>\n",
       "      <td>594152</td>\n",
       "      <td>1904</td>\n",
       "      <td>Indian Ocean</td>\n",
       "      <td>1</td>\n",
       "      <td>Seawater</td>\n",
       "      <td>402</td>\n",
       "      <td>CCHDO, 2018</td>\n",
       "      <td>https://www.zotero.org/groups/2432820/maris/it...</td>\n",
       "      <td>Data downloaded from: Oms (2018), Tritium in o...</td>\n",
       "      <td>NaN</td>\n",
       "      <td>...</td>\n",
       "      <td>402.1303</td>\n",
       "      <td>SOURCE FILE NAME: 33RR20090320_00181_00002_hy1...</td>\n",
       "      <td>CCHDO, 2018. CCHDO (CLIVAR and Carbon Hydrogra...</td>\n",
       "      <td>1984</td>\n",
       "      <td>1</td>\n",
       "      <td>109.551,-31.595</td>\n",
       "      <td>0xE6100000010C63EE5A423E983FC02506819543635B40</td>\n",
       "      <td>109.551389</td>\n",
       "      <td>-31.594722</td>\n",
       "      <td>5</td>\n",
       "    </tr>\n",
       "  </tbody>\n",
       "</table>\n",
       "<p>5 rows × 80 columns</p>\n",
       "</div>"
      ],
      "text/plain": [
       "   sample_id  area_id      areaname  samptype_id  samptype  ref_id  \\\n",
       "0     594163     1904  Indian Ocean            1  Seawater     402   \n",
       "1     594135     1904  Indian Ocean            1  Seawater     402   \n",
       "2     594143     1904  Indian Ocean            1  Seawater     402   \n",
       "3     594160     1904  Indian Ocean            1  Seawater     402   \n",
       "4     594152     1904  Indian Ocean            1  Seawater     402   \n",
       "\n",
       "   displaytext                                          zoterourl  \\\n",
       "0  CCHDO, 2018  https://www.zotero.org/groups/2432820/maris/it...   \n",
       "1  CCHDO, 2018  https://www.zotero.org/groups/2432820/maris/it...   \n",
       "2  CCHDO, 2018  https://www.zotero.org/groups/2432820/maris/it...   \n",
       "3  CCHDO, 2018  https://www.zotero.org/groups/2432820/maris/it...   \n",
       "4  CCHDO, 2018  https://www.zotero.org/groups/2432820/maris/it...   \n",
       "\n",
       "                                            ref_note datbase  ...  profile_id  \\\n",
       "0  Data downloaded from: Oms (2018), Tritium in o...     NaN  ...    402.1304   \n",
       "1  Data downloaded from: Oms (2018), Tritium in o...     NaN  ...    402.1303   \n",
       "2  Data downloaded from: Oms (2018), Tritium in o...     NaN  ...    402.1303   \n",
       "3  Data downloaded from: Oms (2018), Tritium in o...     NaN  ...    402.1304   \n",
       "4  Data downloaded from: Oms (2018), Tritium in o...     NaN  ...    402.1303   \n",
       "\n",
       "                                            sampnote  \\\n",
       "0    SOURCE FILE NAME: 316N145_7_00398_00001_hy1.nc.   \n",
       "1  SOURCE FILE NAME: 33RR20090320_00181_00002_hy1...   \n",
       "2  SOURCE FILE NAME: 33RR20090320_00181_00002_hy1...   \n",
       "3    SOURCE FILE NAME: 316N145_7_00398_00001_hy1.nc.   \n",
       "4  SOURCE FILE NAME: 33RR20090320_00181_00002_hy1...   \n",
       "\n",
       "                                        ref_fulltext  ref_yearpub  \\\n",
       "0  CCHDO, 2018. CCHDO (CLIVAR and Carbon Hydrogra...         1984   \n",
       "1  CCHDO, 2018. CCHDO (CLIVAR and Carbon Hydrogra...         1984   \n",
       "2  CCHDO, 2018. CCHDO (CLIVAR and Carbon Hydrogra...         1984   \n",
       "3  CCHDO, 2018. CCHDO (CLIVAR and Carbon Hydrogra...         1984   \n",
       "4  CCHDO, 2018. CCHDO (CLIVAR and Carbon Hydrogra...         1984   \n",
       "\n",
       "  ref_sampleTypes          LongLat  \\\n",
       "0               1   89.373,-31.597   \n",
       "1               1  109.551,-31.595   \n",
       "2               1  109.551,-31.595   \n",
       "3               1   89.373,-31.597   \n",
       "4               1  109.551,-31.595   \n",
       "\n",
       "                               shiftedcoordinates  shiftedlong  shiftedlat id  \n",
       "0  0xE6100000010CF085C954C1983FC0A4703D0AD7575640    89.372500  -31.596667  1  \n",
       "1  0xE6100000010C63EE5A423E983FC02506819543635B40   109.551389  -31.594722  2  \n",
       "2  0xE6100000010C63EE5A423E983FC02506819543635B40   109.551389  -31.594722  3  \n",
       "3  0xE6100000010CF085C954C1983FC0A4703D0AD7575640    89.372500  -31.596667  4  \n",
       "4  0xE6100000010C63EE5A423E983FC02506819543635B40   109.551389  -31.594722  5  \n",
       "\n",
       "[5 rows x 80 columns]"
      ]
     },
     "execution_count": null,
     "metadata": {},
     "output_type": "execute_result"
    }
   ],
   "source": [
    "df.head()"
   ]
  },
  {
   "cell_type": "code",
   "execution_count": null,
   "metadata": {},
   "outputs": [
    {
     "data": {
      "text/plain": [
       "0         1995\n",
       "1         2009\n",
       "2         2009\n",
       "3         1995\n",
       "4         2009\n",
       "          ... \n",
       "818982    2014\n",
       "818983    2014\n",
       "818984    2014\n",
       "818985    2014\n",
       "818986    2014\n",
       "Name: samplingyear, Length: 818987, dtype: int64"
      ]
     },
     "execution_count": null,
     "metadata": {},
     "output_type": "execute_result"
    }
   ],
   "source": [
    "df['samplingyear']"
   ]
  },
  {
   "cell_type": "code",
   "execution_count": null,
   "metadata": {},
   "outputs": [
    {
     "data": {
      "text/plain": [
       "Index(['sample_id', 'area_id', 'areaname', 'samptype_id', 'samptype', 'ref_id',\n",
       "       'displaytext', 'zoterourl', 'ref_note', 'datbase', 'lab_id', 'lab',\n",
       "       'latitude', 'longitude', 'begperiod', 'endperiod', 'samplingyear',\n",
       "       'totdepth', 'sampdepth', 'station', 'samplabcode', 'species_id',\n",
       "       'taxonname', 'taxonrank', 'biogroup', 'biogroup_id', 'taxondb',\n",
       "       'taxondbid', 'taxondburl', 'taxonrepname', 'bodypar_id', 'bodypar',\n",
       "       'sliceup', 'slicedown', 'sedtype_id', 'sedtype', 'sedrepname',\n",
       "       'nuclide_id', 'nusymbol', 'volume', 'salinity', 'temperatur',\n",
       "       'filtered', 'filtpore', 'samparea', 'drywt', 'wetwt', 'percentwt',\n",
       "       'sampmet_id', 'sampmet', 'prepmet_id', 'prepmet', 'drymet_id', 'drymet',\n",
       "       'counmet_id', 'counmet', 'decayedto', 'detection', 'activity',\n",
       "       'uncertaint', 'unit_id', 'unit', 'vartype', 'freq', 'rangelow',\n",
       "       'rangeupp', 'profile', 'transect_id', 'measure_note', 'shapetype_id',\n",
       "       'profile_id', 'sampnote', 'ref_fulltext', 'ref_yearpub',\n",
       "       'ref_sampleTypes', 'LongLat', 'shiftedcoordinates', 'shiftedlong',\n",
       "       'shiftedlat', 'id'],\n",
       "      dtype='object')"
      ]
     },
     "execution_count": null,
     "metadata": {},
     "output_type": "execute_result"
    }
   ],
   "source": [
    "df.columns"
   ]
  },
  {
   "cell_type": "code",
   "execution_count": null,
   "id": "a220b005",
   "metadata": {},
   "outputs": [
    {
     "data": {
      "text/plain": [
       "array([nan, 'Y', 'N'], dtype=object)"
      ]
     },
     "execution_count": null,
     "metadata": {},
     "output_type": "execute_result"
    }
   ],
   "source": [
    "df['filtered'].unique()"
   ]
  },
  {
   "cell_type": "code",
   "execution_count": null,
   "metadata": {},
   "outputs": [
    {
     "data": {
      "text/plain": [
       "0         True\n",
       "1         True\n",
       "2         True\n",
       "3         True\n",
       "4         True\n",
       "          ... \n",
       "818982    True\n",
       "818983    True\n",
       "818984    True\n",
       "818985    True\n",
       "818986    True\n",
       "Name: detection, Length: 818987, dtype: bool"
      ]
     },
     "execution_count": null,
     "metadata": {},
     "output_type": "execute_result"
    }
   ],
   "source": [
    "df['detection'] == '='"
   ]
  },
  {
   "cell_type": "code",
   "execution_count": null,
   "metadata": {},
   "outputs": [
    {
     "name": "stdout",
     "output_type": "stream",
     "text": [
      "(414051, 80)\n",
      "(295107, 80)\n"
     ]
    }
   ],
   "source": [
    "df_sw = df[df['samptype'] == 'Seawater']\n",
    "print(df_sw.shape)\n",
    "df_sw = df_sw[df_sw['detection'] == '=']\n",
    "print(df_sw.shape)\n",
    "df_sw = df_sw[['areaname', 'latitude', 'longitude', 'nusymbol', 'samplingyear', 'activity', 'unit', 'sampdepth']]\n"
   ]
  },
  {
   "cell_type": "code",
   "execution_count": null,
   "metadata": {},
   "outputs": [
    {
     "data": {
      "text/html": [
       "<div>\n",
       "<style scoped>\n",
       "    .dataframe tbody tr th:only-of-type {\n",
       "        vertical-align: middle;\n",
       "    }\n",
       "\n",
       "    .dataframe tbody tr th {\n",
       "        vertical-align: top;\n",
       "    }\n",
       "\n",
       "    .dataframe thead th {\n",
       "        text-align: right;\n",
       "    }\n",
       "</style>\n",
       "<table border=\"1\" class=\"dataframe\">\n",
       "  <thead>\n",
       "    <tr style=\"text-align: right;\">\n",
       "      <th></th>\n",
       "      <th>areaname</th>\n",
       "      <th>latitude</th>\n",
       "      <th>longitude</th>\n",
       "      <th>nusymbol</th>\n",
       "      <th>samplingyear</th>\n",
       "      <th>activity</th>\n",
       "      <th>unit</th>\n",
       "      <th>sampdepth</th>\n",
       "    </tr>\n",
       "  </thead>\n",
       "  <tbody>\n",
       "    <tr>\n",
       "      <th>0</th>\n",
       "      <td>Indian Ocean</td>\n",
       "      <td>-31.596667</td>\n",
       "      <td>89.372500</td>\n",
       "      <td>3H</td>\n",
       "      <td>1995</td>\n",
       "      <td>0.4352</td>\n",
       "      <td>TU</td>\n",
       "      <td>608.4</td>\n",
       "    </tr>\n",
       "    <tr>\n",
       "      <th>1</th>\n",
       "      <td>Indian Ocean</td>\n",
       "      <td>-31.594722</td>\n",
       "      <td>109.551389</td>\n",
       "      <td>3H</td>\n",
       "      <td>2009</td>\n",
       "      <td>0.0010</td>\n",
       "      <td>TU</td>\n",
       "      <td>1363.3</td>\n",
       "    </tr>\n",
       "    <tr>\n",
       "      <th>2</th>\n",
       "      <td>Indian Ocean</td>\n",
       "      <td>-31.594722</td>\n",
       "      <td>109.551389</td>\n",
       "      <td>3H</td>\n",
       "      <td>2009</td>\n",
       "      <td>0.0010</td>\n",
       "      <td>TU</td>\n",
       "      <td>3199.5</td>\n",
       "    </tr>\n",
       "    <tr>\n",
       "      <th>3</th>\n",
       "      <td>Indian Ocean</td>\n",
       "      <td>-31.596667</td>\n",
       "      <td>89.372500</td>\n",
       "      <td>3H</td>\n",
       "      <td>1995</td>\n",
       "      <td>0.7237</td>\n",
       "      <td>TU</td>\n",
       "      <td>287.7</td>\n",
       "    </tr>\n",
       "    <tr>\n",
       "      <th>4</th>\n",
       "      <td>Indian Ocean</td>\n",
       "      <td>-31.594722</td>\n",
       "      <td>109.551389</td>\n",
       "      <td>3H</td>\n",
       "      <td>2009</td>\n",
       "      <td>0.4760</td>\n",
       "      <td>TU</td>\n",
       "      <td>92.9</td>\n",
       "    </tr>\n",
       "  </tbody>\n",
       "</table>\n",
       "</div>"
      ],
      "text/plain": [
       "       areaname   latitude   longitude nusymbol  samplingyear  activity unit  \\\n",
       "0  Indian Ocean -31.596667   89.372500       3H          1995    0.4352   TU   \n",
       "1  Indian Ocean -31.594722  109.551389       3H          2009    0.0010   TU   \n",
       "2  Indian Ocean -31.594722  109.551389       3H          2009    0.0010   TU   \n",
       "3  Indian Ocean -31.596667   89.372500       3H          1995    0.7237   TU   \n",
       "4  Indian Ocean -31.594722  109.551389       3H          2009    0.4760   TU   \n",
       "\n",
       "   sampdepth  \n",
       "0      608.4  \n",
       "1     1363.3  \n",
       "2     3199.5  \n",
       "3      287.7  \n",
       "4       92.9  "
      ]
     },
     "execution_count": null,
     "metadata": {},
     "output_type": "execute_result"
    }
   ],
   "source": [
    "df_sw.head()"
   ]
  },
  {
   "cell_type": "code",
   "execution_count": null,
   "metadata": {},
   "outputs": [],
   "source": [
    "# depth = -1 reallocated to 0\n",
    "# df_sw['sampdepth'][df_sw['sampdepth'] == -1] = 0"
   ]
  },
  {
   "cell_type": "code",
   "execution_count": null,
   "metadata": {},
   "outputs": [],
   "source": [
    "nuclide_of_interest = ['137Cs', '90Sr', '3H', '239,240Pu']\n",
    "df_sw = df_sw[df_sw['nusymbol'].isin(nuclide_of_interest)]"
   ]
  },
  {
   "cell_type": "code",
   "execution_count": null,
   "metadata": {},
   "outputs": [
    {
     "data": {
      "text/html": [
       "<div>\n",
       "<style scoped>\n",
       "    .dataframe tbody tr th:only-of-type {\n",
       "        vertical-align: middle;\n",
       "    }\n",
       "\n",
       "    .dataframe tbody tr th {\n",
       "        vertical-align: top;\n",
       "    }\n",
       "\n",
       "    .dataframe thead th {\n",
       "        text-align: right;\n",
       "    }\n",
       "</style>\n",
       "<table border=\"1\" class=\"dataframe\">\n",
       "  <thead>\n",
       "    <tr style=\"text-align: right;\">\n",
       "      <th></th>\n",
       "      <th>areaname</th>\n",
       "      <th>latitude</th>\n",
       "      <th>longitude</th>\n",
       "      <th>nusymbol</th>\n",
       "      <th>samplingyear</th>\n",
       "      <th>activity</th>\n",
       "      <th>unit</th>\n",
       "      <th>sampdepth</th>\n",
       "    </tr>\n",
       "  </thead>\n",
       "  <tbody>\n",
       "    <tr>\n",
       "      <th>0</th>\n",
       "      <td>Indian Ocean</td>\n",
       "      <td>-31.596667</td>\n",
       "      <td>89.372500</td>\n",
       "      <td>3H</td>\n",
       "      <td>1995</td>\n",
       "      <td>0.4352</td>\n",
       "      <td>TU</td>\n",
       "      <td>608.4</td>\n",
       "    </tr>\n",
       "    <tr>\n",
       "      <th>1</th>\n",
       "      <td>Indian Ocean</td>\n",
       "      <td>-31.594722</td>\n",
       "      <td>109.551389</td>\n",
       "      <td>3H</td>\n",
       "      <td>2009</td>\n",
       "      <td>0.0010</td>\n",
       "      <td>TU</td>\n",
       "      <td>1363.3</td>\n",
       "    </tr>\n",
       "    <tr>\n",
       "      <th>2</th>\n",
       "      <td>Indian Ocean</td>\n",
       "      <td>-31.594722</td>\n",
       "      <td>109.551389</td>\n",
       "      <td>3H</td>\n",
       "      <td>2009</td>\n",
       "      <td>0.0010</td>\n",
       "      <td>TU</td>\n",
       "      <td>3199.5</td>\n",
       "    </tr>\n",
       "    <tr>\n",
       "      <th>3</th>\n",
       "      <td>Indian Ocean</td>\n",
       "      <td>-31.596667</td>\n",
       "      <td>89.372500</td>\n",
       "      <td>3H</td>\n",
       "      <td>1995</td>\n",
       "      <td>0.7237</td>\n",
       "      <td>TU</td>\n",
       "      <td>287.7</td>\n",
       "    </tr>\n",
       "    <tr>\n",
       "      <th>4</th>\n",
       "      <td>Indian Ocean</td>\n",
       "      <td>-31.594722</td>\n",
       "      <td>109.551389</td>\n",
       "      <td>3H</td>\n",
       "      <td>2009</td>\n",
       "      <td>0.4760</td>\n",
       "      <td>TU</td>\n",
       "      <td>92.9</td>\n",
       "    </tr>\n",
       "  </tbody>\n",
       "</table>\n",
       "</div>"
      ],
      "text/plain": [
       "       areaname   latitude   longitude nusymbol  samplingyear  activity unit  \\\n",
       "0  Indian Ocean -31.596667   89.372500       3H          1995    0.4352   TU   \n",
       "1  Indian Ocean -31.594722  109.551389       3H          2009    0.0010   TU   \n",
       "2  Indian Ocean -31.594722  109.551389       3H          2009    0.0010   TU   \n",
       "3  Indian Ocean -31.596667   89.372500       3H          1995    0.7237   TU   \n",
       "4  Indian Ocean -31.594722  109.551389       3H          2009    0.4760   TU   \n",
       "\n",
       "   sampdepth  \n",
       "0      608.4  \n",
       "1     1363.3  \n",
       "2     3199.5  \n",
       "3      287.7  \n",
       "4       92.9  "
      ]
     },
     "execution_count": null,
     "metadata": {},
     "output_type": "execute_result"
    }
   ],
   "source": [
    "df_sw.head()"
   ]
  },
  {
   "cell_type": "code",
   "execution_count": null,
   "metadata": {},
   "outputs": [
    {
     "data": {
      "text/plain": [
       "array(['TU', 'DELTA/mill', 'Bq/m3', 'Bq/kgd', 'Bq/kgw', 'atom/kg',\n",
       "       'kg/kg', 'NOT AVAILABLE', 'atom/l', 'Bq/kg', 'Bq/m2', 'atom/kgd'],\n",
       "      dtype=object)"
      ]
     },
     "execution_count": null,
     "metadata": {},
     "output_type": "execute_result"
    }
   ],
   "source": [
    "df['unit'].unique()"
   ]
  },
  {
   "cell_type": "code",
   "execution_count": null,
   "metadata": {},
   "outputs": [
    {
     "data": {
      "text/plain": [
       "nusymbol   unit \n",
       "137Cs      Bq/m3    94504\n",
       "239,240Pu  Bq/m3     7331\n",
       "3H         Bq/m3    86194\n",
       "90Sr       Bq/m3    16651\n",
       "dtype: int64"
      ]
     },
     "execution_count": null,
     "metadata": {},
     "output_type": "execute_result"
    }
   ],
   "source": [
    "df_sw.groupby(['nusymbol', 'unit']).size()"
   ]
  },
  {
   "cell_type": "code",
   "execution_count": null,
   "metadata": {},
   "outputs": [],
   "source": [
    "# Conversion TU -> Bq/m3\n",
    "is_TU = df_sw['unit'] == 'TU'\n",
    "df_sw.loc[is_TU, 'activity'] = df_sw[is_TU]['activity'] * 119\n",
    "df_sw.loc[is_TU, 'unit'] = \"Bq/m3\""
   ]
  },
  {
   "cell_type": "code",
   "execution_count": null,
   "metadata": {},
   "outputs": [],
   "source": [
    "# Conversion Bq/kg -> Bq/m3\n",
    "is_kg = df_sw['unit'] == 'Bq/kg'\n",
    "df_sw.loc[is_kg, 'activity'] = df_sw[is_kg]['activity'] / 1025\n",
    "df_sw.loc[is_kg, 'unit'] = \"Bq/m3\""
   ]
  },
  {
   "cell_type": "code",
   "execution_count": null,
   "metadata": {},
   "outputs": [
    {
     "data": {
      "text/html": [
       "<div>\n",
       "<style scoped>\n",
       "    .dataframe tbody tr th:only-of-type {\n",
       "        vertical-align: middle;\n",
       "    }\n",
       "\n",
       "    .dataframe tbody tr th {\n",
       "        vertical-align: top;\n",
       "    }\n",
       "\n",
       "    .dataframe thead th {\n",
       "        text-align: right;\n",
       "    }\n",
       "</style>\n",
       "<table border=\"1\" class=\"dataframe\">\n",
       "  <thead>\n",
       "    <tr style=\"text-align: right;\">\n",
       "      <th></th>\n",
       "      <th>areaname</th>\n",
       "      <th>latitude</th>\n",
       "      <th>longitude</th>\n",
       "      <th>nusymbol</th>\n",
       "      <th>samplingyear</th>\n",
       "      <th>activity</th>\n",
       "      <th>unit</th>\n",
       "      <th>sampdepth</th>\n",
       "    </tr>\n",
       "  </thead>\n",
       "  <tbody>\n",
       "    <tr>\n",
       "      <th>0</th>\n",
       "      <td>Indian Ocean</td>\n",
       "      <td>-31.596667</td>\n",
       "      <td>89.372500</td>\n",
       "      <td>3H</td>\n",
       "      <td>1995</td>\n",
       "      <td>51.7888</td>\n",
       "      <td>Bq/m3</td>\n",
       "      <td>608.4</td>\n",
       "    </tr>\n",
       "    <tr>\n",
       "      <th>1</th>\n",
       "      <td>Indian Ocean</td>\n",
       "      <td>-31.594722</td>\n",
       "      <td>109.551389</td>\n",
       "      <td>3H</td>\n",
       "      <td>2009</td>\n",
       "      <td>0.1190</td>\n",
       "      <td>Bq/m3</td>\n",
       "      <td>1363.3</td>\n",
       "    </tr>\n",
       "    <tr>\n",
       "      <th>2</th>\n",
       "      <td>Indian Ocean</td>\n",
       "      <td>-31.594722</td>\n",
       "      <td>109.551389</td>\n",
       "      <td>3H</td>\n",
       "      <td>2009</td>\n",
       "      <td>0.1190</td>\n",
       "      <td>Bq/m3</td>\n",
       "      <td>3199.5</td>\n",
       "    </tr>\n",
       "    <tr>\n",
       "      <th>3</th>\n",
       "      <td>Indian Ocean</td>\n",
       "      <td>-31.596667</td>\n",
       "      <td>89.372500</td>\n",
       "      <td>3H</td>\n",
       "      <td>1995</td>\n",
       "      <td>86.1203</td>\n",
       "      <td>Bq/m3</td>\n",
       "      <td>287.7</td>\n",
       "    </tr>\n",
       "    <tr>\n",
       "      <th>4</th>\n",
       "      <td>Indian Ocean</td>\n",
       "      <td>-31.594722</td>\n",
       "      <td>109.551389</td>\n",
       "      <td>3H</td>\n",
       "      <td>2009</td>\n",
       "      <td>56.6440</td>\n",
       "      <td>Bq/m3</td>\n",
       "      <td>92.9</td>\n",
       "    </tr>\n",
       "  </tbody>\n",
       "</table>\n",
       "</div>"
      ],
      "text/plain": [
       "       areaname   latitude   longitude nusymbol  samplingyear  activity  \\\n",
       "0  Indian Ocean -31.596667   89.372500       3H          1995   51.7888   \n",
       "1  Indian Ocean -31.594722  109.551389       3H          2009    0.1190   \n",
       "2  Indian Ocean -31.594722  109.551389       3H          2009    0.1190   \n",
       "3  Indian Ocean -31.596667   89.372500       3H          1995   86.1203   \n",
       "4  Indian Ocean -31.594722  109.551389       3H          2009   56.6440   \n",
       "\n",
       "    unit  sampdepth  \n",
       "0  Bq/m3      608.4  \n",
       "1  Bq/m3     1363.3  \n",
       "2  Bq/m3     3199.5  \n",
       "3  Bq/m3      287.7  \n",
       "4  Bq/m3       92.9  "
      ]
     },
     "execution_count": null,
     "metadata": {},
     "output_type": "execute_result"
    }
   ],
   "source": [
    "df_sw.head()"
   ]
  },
  {
   "cell_type": "code",
   "execution_count": null,
   "metadata": {},
   "outputs": [],
   "source": [
    "df_sw.to_csv(Path.home() / 'pro/data/maris/all_maris_seawater_202312_lamer_pres.csv', index=None)"
   ]
  },
  {
   "cell_type": "code",
   "execution_count": null,
   "metadata": {},
   "outputs": [
    {
     "data": {
      "text/plain": [
       "9738.0"
      ]
     },
     "execution_count": null,
     "metadata": {},
     "output_type": "execute_result"
    }
   ],
   "source": [
    "df_sw.sampdepth.max()"
   ]
  },
  {
   "cell_type": "code",
   "execution_count": null,
   "id": "8ac1d735",
   "metadata": {},
   "outputs": [],
   "source": [
    "# df.shape"
   ]
  },
  {
   "cell_type": "code",
   "execution_count": null,
   "id": "396ea7d9",
   "metadata": {},
   "outputs": [],
   "source": [
    "# df.groupby('samptype').size()"
   ]
  },
  {
   "cell_type": "code",
   "execution_count": null,
   "id": "d3fe4888",
   "metadata": {},
   "outputs": [],
   "source": [
    "# df.groupby('ref_id').size().sort_values(ascending=False)"
   ]
  },
  {
   "cell_type": "code",
   "execution_count": null,
   "id": "59d84ca3",
   "metadata": {},
   "outputs": [],
   "source": [
    "# df.columns"
   ]
  },
  {
   "cell_type": "code",
   "execution_count": null,
   "id": "0f8b7b80",
   "metadata": {},
   "outputs": [
    {
     "data": {
      "text/plain": [
       "4"
      ]
     },
     "execution_count": null,
     "metadata": {},
     "output_type": "execute_result"
    }
   ],
   "source": [
    "col = 'detection'\n",
    "len(df[col].unique())"
   ]
  },
  {
   "cell_type": "code",
   "execution_count": null,
   "id": "af3d2938",
   "metadata": {},
   "outputs": [
    {
     "data": {
      "text/plain": [
       "array(['=', '<', 'ND', 'DE'], dtype=object)"
      ]
     },
     "execution_count": null,
     "metadata": {},
     "output_type": "execute_result"
    }
   ],
   "source": [
    "df[col].unique()"
   ]
  },
  {
   "cell_type": "code",
   "execution_count": null,
   "id": "9ab06fb8",
   "metadata": {},
   "outputs": [],
   "source": [
    "# df.samptype.unique()"
   ]
  },
  {
   "cell_type": "code",
   "execution_count": null,
   "id": "ddb0f696",
   "metadata": {},
   "outputs": [],
   "source": [
    "# df.head()"
   ]
  },
  {
   "cell_type": "code",
   "execution_count": null,
   "id": "6ca58134",
   "metadata": {},
   "outputs": [],
   "source": [
    "# len(df.ref_id.unique())"
   ]
  },
  {
   "cell_type": "code",
   "execution_count": null,
   "id": "e501139f",
   "metadata": {},
   "outputs": [],
   "source": [
    "# len(df.displaytext.unique())"
   ]
  },
  {
   "cell_type": "code",
   "execution_count": null,
   "id": "ccf189b3",
   "metadata": {},
   "outputs": [],
   "source": [
    "# len(df.ref_fulltext.unique())"
   ]
  },
  {
   "cell_type": "code",
   "execution_count": null,
   "id": "b793dda9",
   "metadata": {},
   "outputs": [],
   "source": [
    "# len(df.zoterourl.unique())"
   ]
  },
  {
   "cell_type": "code",
   "execution_count": null,
   "id": "39c32e8e",
   "metadata": {},
   "outputs": [],
   "source": [
    "# df.groupby('ref_id').size().sort_values(ascending=False)"
   ]
  },
  {
   "cell_type": "code",
   "execution_count": null,
   "id": "a84023c5",
   "metadata": {},
   "outputs": [],
   "source": [
    "# df[df['ref_id'] == 129].zoterourl.iloc[0]"
   ]
  },
  {
   "cell_type": "code",
   "execution_count": null,
   "id": "99060280",
   "metadata": {},
   "outputs": [],
   "source": [
    "# df[df['ref_id'] == 129].samptype.unique()"
   ]
  },
  {
   "cell_type": "code",
   "execution_count": null,
   "id": "4f4a2ae0",
   "metadata": {},
   "outputs": [],
   "source": [
    "# df[df['ref_id'] == 129].ref_fulltext.iloc[0]"
   ]
  },
  {
   "cell_type": "code",
   "execution_count": null,
   "id": "7d0b1012",
   "metadata": {},
   "outputs": [],
   "source": [
    "# df[df['ref_id'] == 129].displaytext.iloc[0]"
   ]
  },
  {
   "cell_type": "code",
   "execution_count": null,
   "id": "47fc511c",
   "metadata": {},
   "outputs": [],
   "source": [
    "# df[df['ref_id'] == 130].zoterourl.iloc[0]"
   ]
  },
  {
   "cell_type": "code",
   "execution_count": null,
   "id": "89fedf9d",
   "metadata": {},
   "outputs": [],
   "source": [
    "# df[df['ref_id'] == 130].ref_fulltext.iloc[0]"
   ]
  },
  {
   "cell_type": "code",
   "execution_count": null,
   "id": "aeab4665",
   "metadata": {},
   "outputs": [],
   "source": [
    "# df[df['ref_id'] == 130].samptype.unique()"
   ]
  },
  {
   "cell_type": "code",
   "execution_count": null,
   "id": "fad37d07",
   "metadata": {},
   "outputs": [],
   "source": [
    "# df.columns"
   ]
  },
  {
   "cell_type": "code",
   "execution_count": null,
   "id": "dc97a213",
   "metadata": {},
   "outputs": [],
   "source": [
    "# fname_in = '../../_data/exploded/6-kautsky-and-eicke-1982.csv'"
   ]
  },
  {
   "attachments": {},
   "cell_type": "markdown",
   "id": "dd04abcd",
   "metadata": {},
   "source": [
    "## Utils"
   ]
  },
  {
   "cell_type": "code",
   "execution_count": null,
   "id": "ee920907",
   "metadata": {},
   "outputs": [],
   "source": [
    "#| export\n",
    "def load_data(fname):\n",
    "    \"Load generic MARIS data and return them as individual dataframe by sample type\"\n",
    "    dfs = {}\n",
    "    df = pd.read_csv(fname)\n",
    "    for name, group in df.groupby('samptype'):\n",
    "        key = name.lower().replace(' ', '_')\n",
    "        dfs[key] = group\n",
    "    return dfs\n",
    "\n",
    "def rename_cols(cols):\n",
    "    \"Flatten multiindex columns\"\n",
    "    new_cols = []\n",
    "    for outer, inner in cols:\n",
    "        if not inner:\n",
    "            new_cols.append(outer)\n",
    "        else:\n",
    "            if outer == 'unc':\n",
    "                new_cols.append(inner + '_' + outer)\n",
    "            if outer == 'value':\n",
    "                new_cols.append(inner)\n",
    "    return new_cols"
   ]
  },
  {
   "attachments": {},
   "cell_type": "markdown",
   "id": "5e534545",
   "metadata": {},
   "source": [
    "## Load tables"
   ]
  },
  {
   "cell_type": "code",
   "execution_count": null,
   "id": "bb4bf289",
   "metadata": {},
   "outputs": [],
   "source": [
    "dfs = load_data(fname_in)\n",
    "\n",
    "# [['samptype_id', 'samptype', 'latitude',\n",
    "#     'longitude', 'begperiod', 'sampdepth',\n",
    "#     'nuclide_id', 'nusymbol', 'activity', 'uncertaint', \n",
    "#     'detection']]"
   ]
  },
  {
   "cell_type": "code",
   "execution_count": null,
   "id": "5cc0b32b",
   "metadata": {},
   "outputs": [
    {
     "data": {
      "text/html": [
       "<div>\n",
       "<style scoped>\n",
       "    .dataframe tbody tr th:only-of-type {\n",
       "        vertical-align: middle;\n",
       "    }\n",
       "\n",
       "    .dataframe tbody tr th {\n",
       "        vertical-align: top;\n",
       "    }\n",
       "\n",
       "    .dataframe thead th {\n",
       "        text-align: right;\n",
       "    }\n",
       "</style>\n",
       "<table border=\"1\" class=\"dataframe\">\n",
       "  <thead>\n",
       "    <tr style=\"text-align: right;\">\n",
       "      <th></th>\n",
       "      <th>sample_id</th>\n",
       "      <th>area_id</th>\n",
       "      <th>areaname</th>\n",
       "      <th>samptype_id</th>\n",
       "      <th>samptype</th>\n",
       "      <th>ref_id</th>\n",
       "      <th>displaytext</th>\n",
       "      <th>zoterourl</th>\n",
       "      <th>ref_note</th>\n",
       "      <th>datbase</th>\n",
       "      <th>...</th>\n",
       "      <th>profile_id</th>\n",
       "      <th>sampnote</th>\n",
       "      <th>ref_fulltext</th>\n",
       "      <th>ref_yearpub</th>\n",
       "      <th>ref_sampleTypes</th>\n",
       "      <th>LongLat</th>\n",
       "      <th>displaycoordinates</th>\n",
       "      <th>DisplayLong</th>\n",
       "      <th>DisplayLat</th>\n",
       "      <th>id</th>\n",
       "    </tr>\n",
       "  </thead>\n",
       "  <tbody>\n",
       "    <tr>\n",
       "      <th>0</th>\n",
       "      <td>18090</td>\n",
       "      <td>3319</td>\n",
       "      <td>Black Sea</td>\n",
       "      <td>1</td>\n",
       "      <td>Seawater</td>\n",
       "      <td>3</td>\n",
       "      <td>Top and Clarke, 1983</td>\n",
       "      <td>https://www.zotero.org/groups/2432820/maris/it...</td>\n",
       "      <td>NaN</td>\n",
       "      <td>NaN</td>\n",
       "      <td>...</td>\n",
       "      <td>NaN</td>\n",
       "      <td>NaN</td>\n",
       "      <td>Top, Z., Clarke, W.B., 1983. Helium, neon, and...</td>\n",
       "      <td>1983</td>\n",
       "      <td>1</td>\n",
       "      <td>33,42.833</td>\n",
       "      <td>0xE6100000010CDFE00B93A96A45400000000000804040</td>\n",
       "      <td>33.0</td>\n",
       "      <td>42.833333</td>\n",
       "      <td>713335</td>\n",
       "    </tr>\n",
       "    <tr>\n",
       "      <th>1</th>\n",
       "      <td>18082</td>\n",
       "      <td>3319</td>\n",
       "      <td>Black Sea</td>\n",
       "      <td>1</td>\n",
       "      <td>Seawater</td>\n",
       "      <td>3</td>\n",
       "      <td>Top and Clarke, 1983</td>\n",
       "      <td>https://www.zotero.org/groups/2432820/maris/it...</td>\n",
       "      <td>NaN</td>\n",
       "      <td>NaN</td>\n",
       "      <td>...</td>\n",
       "      <td>NaN</td>\n",
       "      <td>NaN</td>\n",
       "      <td>Top, Z., Clarke, W.B., 1983. Helium, neon, and...</td>\n",
       "      <td>1983</td>\n",
       "      <td>1</td>\n",
       "      <td>33,42.833</td>\n",
       "      <td>0xE6100000010CDFE00B93A96A45400000000000804040</td>\n",
       "      <td>33.0</td>\n",
       "      <td>42.833333</td>\n",
       "      <td>713336</td>\n",
       "    </tr>\n",
       "    <tr>\n",
       "      <th>2</th>\n",
       "      <td>18079</td>\n",
       "      <td>3319</td>\n",
       "      <td>Black Sea</td>\n",
       "      <td>1</td>\n",
       "      <td>Seawater</td>\n",
       "      <td>3</td>\n",
       "      <td>Top and Clarke, 1983</td>\n",
       "      <td>https://www.zotero.org/groups/2432820/maris/it...</td>\n",
       "      <td>NaN</td>\n",
       "      <td>NaN</td>\n",
       "      <td>...</td>\n",
       "      <td>NaN</td>\n",
       "      <td>NaN</td>\n",
       "      <td>Top, Z., Clarke, W.B., 1983. Helium, neon, and...</td>\n",
       "      <td>1983</td>\n",
       "      <td>1</td>\n",
       "      <td>33,42.833</td>\n",
       "      <td>0xE6100000010CDFE00B93A96A45400000000000804040</td>\n",
       "      <td>33.0</td>\n",
       "      <td>42.833333</td>\n",
       "      <td>713337</td>\n",
       "    </tr>\n",
       "    <tr>\n",
       "      <th>3</th>\n",
       "      <td>18076</td>\n",
       "      <td>3319</td>\n",
       "      <td>Black Sea</td>\n",
       "      <td>1</td>\n",
       "      <td>Seawater</td>\n",
       "      <td>3</td>\n",
       "      <td>Top and Clarke, 1983</td>\n",
       "      <td>https://www.zotero.org/groups/2432820/maris/it...</td>\n",
       "      <td>NaN</td>\n",
       "      <td>NaN</td>\n",
       "      <td>...</td>\n",
       "      <td>NaN</td>\n",
       "      <td>NaN</td>\n",
       "      <td>Top, Z., Clarke, W.B., 1983. Helium, neon, and...</td>\n",
       "      <td>1983</td>\n",
       "      <td>1</td>\n",
       "      <td>33,42.833</td>\n",
       "      <td>0xE6100000010CDFE00B93A96A45400000000000804040</td>\n",
       "      <td>33.0</td>\n",
       "      <td>42.833333</td>\n",
       "      <td>713338</td>\n",
       "    </tr>\n",
       "    <tr>\n",
       "      <th>4</th>\n",
       "      <td>18084</td>\n",
       "      <td>3319</td>\n",
       "      <td>Black Sea</td>\n",
       "      <td>1</td>\n",
       "      <td>Seawater</td>\n",
       "      <td>3</td>\n",
       "      <td>Top and Clarke, 1983</td>\n",
       "      <td>https://www.zotero.org/groups/2432820/maris/it...</td>\n",
       "      <td>NaN</td>\n",
       "      <td>NaN</td>\n",
       "      <td>...</td>\n",
       "      <td>NaN</td>\n",
       "      <td>NaN</td>\n",
       "      <td>Top, Z., Clarke, W.B., 1983. Helium, neon, and...</td>\n",
       "      <td>1983</td>\n",
       "      <td>1</td>\n",
       "      <td>33,42.833</td>\n",
       "      <td>0xE6100000010CDFE00B93A96A45400000000000804040</td>\n",
       "      <td>33.0</td>\n",
       "      <td>42.833333</td>\n",
       "      <td>713339</td>\n",
       "    </tr>\n",
       "  </tbody>\n",
       "</table>\n",
       "<p>5 rows × 79 columns</p>\n",
       "</div>"
      ],
      "text/plain": [
       "   sample_id  area_id   areaname  samptype_id  samptype  ref_id  \\\n",
       "0      18090     3319  Black Sea            1  Seawater       3   \n",
       "1      18082     3319  Black Sea            1  Seawater       3   \n",
       "2      18079     3319  Black Sea            1  Seawater       3   \n",
       "3      18076     3319  Black Sea            1  Seawater       3   \n",
       "4      18084     3319  Black Sea            1  Seawater       3   \n",
       "\n",
       "            displaytext                                          zoterourl  \\\n",
       "0  Top and Clarke, 1983  https://www.zotero.org/groups/2432820/maris/it...   \n",
       "1  Top and Clarke, 1983  https://www.zotero.org/groups/2432820/maris/it...   \n",
       "2  Top and Clarke, 1983  https://www.zotero.org/groups/2432820/maris/it...   \n",
       "3  Top and Clarke, 1983  https://www.zotero.org/groups/2432820/maris/it...   \n",
       "4  Top and Clarke, 1983  https://www.zotero.org/groups/2432820/maris/it...   \n",
       "\n",
       "   ref_note  datbase  ...  profile_id sampnote  \\\n",
       "0       NaN      NaN  ...         NaN      NaN   \n",
       "1       NaN      NaN  ...         NaN      NaN   \n",
       "2       NaN      NaN  ...         NaN      NaN   \n",
       "3       NaN      NaN  ...         NaN      NaN   \n",
       "4       NaN      NaN  ...         NaN      NaN   \n",
       "\n",
       "                                        ref_fulltext  ref_yearpub  \\\n",
       "0  Top, Z., Clarke, W.B., 1983. Helium, neon, and...         1983   \n",
       "1  Top, Z., Clarke, W.B., 1983. Helium, neon, and...         1983   \n",
       "2  Top, Z., Clarke, W.B., 1983. Helium, neon, and...         1983   \n",
       "3  Top, Z., Clarke, W.B., 1983. Helium, neon, and...         1983   \n",
       "4  Top, Z., Clarke, W.B., 1983. Helium, neon, and...         1983   \n",
       "\n",
       "  ref_sampleTypes    LongLat                              displaycoordinates  \\\n",
       "0               1  33,42.833  0xE6100000010CDFE00B93A96A45400000000000804040   \n",
       "1               1  33,42.833  0xE6100000010CDFE00B93A96A45400000000000804040   \n",
       "2               1  33,42.833  0xE6100000010CDFE00B93A96A45400000000000804040   \n",
       "3               1  33,42.833  0xE6100000010CDFE00B93A96A45400000000000804040   \n",
       "4               1  33,42.833  0xE6100000010CDFE00B93A96A45400000000000804040   \n",
       "\n",
       "   DisplayLong  DisplayLat      id  \n",
       "0         33.0   42.833333  713335  \n",
       "1         33.0   42.833333  713336  \n",
       "2         33.0   42.833333  713337  \n",
       "3         33.0   42.833333  713338  \n",
       "4         33.0   42.833333  713339  \n",
       "\n",
       "[5 rows x 79 columns]"
      ]
     },
     "execution_count": null,
     "metadata": {},
     "output_type": "execute_result"
    }
   ],
   "source": [
    "dfs['seawater'].head()"
   ]
  },
  {
   "cell_type": "code",
   "execution_count": null,
   "id": "07e3c856",
   "metadata": {},
   "outputs": [
    {
     "data": {
      "text/plain": [
       "Index(['sample_id', 'area_id', 'areaname', 'samptype_id', 'samptype', 'ref_id',\n",
       "       'displaytext', 'zoterourl', 'ref_note', 'datbase', 'lab_id', 'lab',\n",
       "       'latitude', 'longitude', 'begperiod', 'endperiod', 'samplingyear',\n",
       "       'totdepth', 'sampdepth', 'station', 'samplabcode', 'species_id',\n",
       "       'taxonname', 'taxonrank', 'biogroup', 'taxondb', 'taxondbid',\n",
       "       'taxondburl', 'taxonrepname', 'bodypar_id', 'bodypar', 'sliceup',\n",
       "       'slicedown', 'sedtype_id', 'sedtype', 'sedrepname', 'nuclide_id',\n",
       "       'nusymbol', 'volume', 'salinity', 'temperatur', 'filtered', 'filtpore',\n",
       "       'samparea', 'drywt', 'wetwt', 'percentwt', 'sampmet_id', 'sampmet',\n",
       "       'prepmet_id', 'prepmet', 'drymet_id', 'drymet', 'counmet_id', 'counmet',\n",
       "       'decayedto', 'detection', 'activity', 'uncertaint', 'unit_id', 'unit',\n",
       "       'vartype', 'freq', 'rangelow', 'rangeupp', 'profile', 'transect_id',\n",
       "       'measure_note', 'shapetype_id', 'profile_id', 'sampnote',\n",
       "       'ref_fulltext', 'ref_yearpub', 'ref_sampleTypes', 'LongLat',\n",
       "       'displaycoordinates', 'DisplayLong', 'DisplayLat', 'id'],\n",
       "      dtype='object')"
      ]
     },
     "execution_count": null,
     "metadata": {},
     "output_type": "execute_result"
    }
   ],
   "source": [
    "dfs['seawater'].columns"
   ]
  },
  {
   "cell_type": "code",
   "execution_count": null,
   "id": "03745391",
   "metadata": {},
   "outputs": [
    {
     "data": {
      "text/plain": [
       "0     44\n",
       "1     44\n",
       "2     44\n",
       "3     44\n",
       "4     44\n",
       "5     44\n",
       "6     44\n",
       "7     44\n",
       "8     44\n",
       "9     44\n",
       "10    44\n",
       "11    44\n",
       "12    44\n",
       "13    44\n",
       "14    44\n",
       "15    44\n",
       "16    44\n",
       "17    44\n",
       "Name: lab_id, dtype: int64"
      ]
     },
     "execution_count": null,
     "metadata": {},
     "output_type": "execute_result"
    }
   ],
   "source": [
    "dfs['seawater'].lab_id"
   ]
  },
  {
   "attachments": {},
   "cell_type": "markdown",
   "id": "0d68abc3",
   "metadata": {},
   "source": [
    "## Data transformation pipeline"
   ]
  },
  {
   "attachments": {},
   "cell_type": "markdown",
   "id": "142ddab3",
   "metadata": {},
   "source": [
    "### Normalize nuclide names"
   ]
  },
  {
   "cell_type": "code",
   "execution_count": null,
   "id": "6f6b7d0a",
   "metadata": {},
   "outputs": [],
   "source": [
    "# | export\n",
    "class RemapRdnNameCB(Callback):\n",
    "    \"Remap to MARIS radionuclide names\"\n",
    "    def __call__(self, tfm):\n",
    "        # lut = get_nuclides_lut()\n",
    "        lut = NUCLIDES_LUT\n",
    "        for k in tfm.dfs.keys():\n",
    "            tfm.dfs[k]['nusymbol'].replace(lut, inplace=True)"
   ]
  },
  {
   "cell_type": "code",
   "execution_count": null,
   "id": "1c075d97",
   "metadata": {},
   "outputs": [
    {
     "name": "stdout",
     "output_type": "stream",
     "text": [
      "['h3']\n"
     ]
    }
   ],
   "source": [
    "dfs = load_data(fname_in)\n",
    "tfm = Transformer(dfs, cbs=[RemapRdnNameCB()])\n",
    "\n",
    "print(tfm()['seawater']['nusymbol'].unique())"
   ]
  },
  {
   "attachments": {},
   "cell_type": "markdown",
   "id": "4aaaf96a",
   "metadata": {},
   "source": [
    "### Parse time"
   ]
  },
  {
   "cell_type": "code",
   "execution_count": null,
   "id": "ed0aab29",
   "metadata": {},
   "outputs": [],
   "source": [
    "#| export\n",
    "class ParseTimeCB(Callback):\n",
    "    def __call__(self, tfm):\n",
    "        for k in tfm.dfs.keys():\n",
    "            tfm.dfs[k]['time'] = pd.to_datetime(tfm.dfs[k].begperiod, \n",
    "                                                format='%Y-%m-%d %H:%M:%S.%f')"
   ]
  },
  {
   "cell_type": "code",
   "execution_count": null,
   "id": "f2b90d07",
   "metadata": {},
   "outputs": [
    {
     "name": "stdout",
     "output_type": "stream",
     "text": [
      "0   1975-04-01\n",
      "1   1975-04-01\n",
      "2   1975-04-01\n",
      "3   1975-04-01\n",
      "4   1975-04-01\n",
      "Name: time, dtype: datetime64[ns]\n"
     ]
    }
   ],
   "source": [
    "dfs = load_data(fname_in)\n",
    "tfm = Transformer(dfs, cbs=[RemapRdnNameCB(),\n",
    "                            ParseTimeCB()])\n",
    "\n",
    "print(tfm()['seawater']['time'][:5])"
   ]
  },
  {
   "attachments": {},
   "cell_type": "markdown",
   "id": "be199c49",
   "metadata": {},
   "source": [
    "### Normalize uncertainty units"
   ]
  },
  {
   "cell_type": "code",
   "execution_count": null,
   "id": "6be0265b",
   "metadata": {},
   "outputs": [
    {
     "data": {
      "text/plain": [
       "0     0.4\n",
       "1     0.2\n",
       "2     0.3\n",
       "3     0.4\n",
       "4     0.3\n",
       "5     0.4\n",
       "6     0.2\n",
       "7     0.2\n",
       "8     0.2\n",
       "9     0.2\n",
       "10    0.2\n",
       "11    0.3\n",
       "12    0.2\n",
       "13    0.3\n",
       "14    0.4\n",
       "15    0.3\n",
       "16    0.3\n",
       "17    0.5\n",
       "Name: uncertaint, dtype: float64"
      ]
     },
     "execution_count": null,
     "metadata": {},
     "output_type": "execute_result"
    }
   ],
   "source": [
    "dfs['seawater']['uncertaint']"
   ]
  },
  {
   "cell_type": "code",
   "execution_count": null,
   "id": "76077d40",
   "metadata": {},
   "outputs": [],
   "source": [
    "# Make measurement and uncertainty units consistent\n",
    "# def fix_units(df, meas_col, unc_col):\n",
    "#     return df.apply(lambda row: row[unc_col] * row[meas_col]/100, axis=1)"
   ]
  },
  {
   "cell_type": "code",
   "execution_count": null,
   "id": "b231b09b",
   "metadata": {},
   "outputs": [],
   "source": [
    "# Columns of interest\n",
    "# coi_units_unc = [('seawater', 'VALUE_Bq/m³', 'ERROR%_m³'),\n",
    "#                  ('biota', 'VALUE_Bq/kg', 'ERROR%'),\n",
    "#                  ('sediment', 'VALUE_Bq/kg', 'ERROR%_kg')]"
   ]
  },
  {
   "cell_type": "code",
   "execution_count": null,
   "id": "5cf262ed",
   "metadata": {},
   "outputs": [],
   "source": [
    "# class NormalizeUncUnitCB(Callback):\n",
    "#     \"Convert uncertainty from % to activity unit\"\n",
    "\n",
    "#     def __init__(self, coi=coi_units_unc): fc.store_attr()\n",
    "\n",
    "#     def __call__(self, tfm):\n",
    "#         for grp, val, unc in self.coi:\n",
    "#             tfm.dfs[grp][unc] = self.fix_units(tfm.dfs[grp], val, unc)\n",
    "\n",
    "#     def fix_units(self, df, meas_col, unc_col):\n",
    "#         return df.apply(lambda row: row[unc_col] * row[meas_col]/100, axis=1)"
   ]
  },
  {
   "cell_type": "code",
   "execution_count": null,
   "id": "fd9e14e2",
   "metadata": {},
   "outputs": [],
   "source": [
    "# dfs = load_data(fname_in)\n",
    "# tfm = Transformer(dfs, cbs=[LowerStripRdnNameCB(),\n",
    "#                             RemapRdnNameCB(),\n",
    "#                             ParseTimeCB(),\n",
    "#                             NormalizeUncUnitCB()])\n",
    "\n",
    "# print(tfm()['seawater'][['VALUE_Bq/m³', 'ERROR%_m³']][:5])"
   ]
  },
  {
   "attachments": {},
   "cell_type": "markdown",
   "id": "5868c16b",
   "metadata": {},
   "source": [
    "### Lookup biota species"
   ]
  },
  {
   "cell_type": "code",
   "execution_count": null,
   "id": "bdd0d17e",
   "metadata": {},
   "outputs": [],
   "source": [
    "# df_rubin = pd.read_csv(Path(fname_in) / 'RUBIN_NAME.csv')\n",
    "# df_rubin.head(5)"
   ]
  },
  {
   "cell_type": "code",
   "execution_count": null,
   "id": "d976535c",
   "metadata": {},
   "outputs": [],
   "source": [
    "# def get_species_lut(fname_in, overwrite=False):\n",
    "#     fname_lut = 'species_helcom.pkl'\n",
    "#     config_path = BASE_PATH / 'lut' / fname_lut\n",
    "#     repo_path = Path('../files/lut') / fname_lut\n",
    "\n",
    "#     if overwrite or (not config_path.exists()):\n",
    "#         df = pd.read_csv(Path(fname_in) / 'RUBIN_NAME.csv')\n",
    "#         lut = {}\n",
    "        \n",
    "#         for _, row in tqdm(df[['RUBIN', 'SCIENTIFIC NAME']].iterrows(), total=df.shape[0]):\n",
    "#             res = match_worms(row['SCIENTIFIC NAME'])\n",
    "#             if (res == -1):\n",
    "#                 print(f\"No match for {row['RUBIN']} ({row['SCIENTIFIC NAME']})\")\n",
    "#                 aphia_id = -1\n",
    "#             else:\n",
    "#                 if len(res[0]) > 1:\n",
    "#                     print(\n",
    "#                         f\"Several matches for {row['RUBIN']} ({row['SCIENTIFIC NAME']})\")\n",
    "#                     print(res)\n",
    "#                 aphia_id = res[0][0]['AphiaID']\n",
    "\n",
    "#             lut[row['RUBIN']] = aphia_id\n",
    "#         fc.save_pickle(config_path, lut)\n",
    "#         fc.save_pickle(repo_path, lut)\n",
    "#     else:\n",
    "#         lut = fc.load_pickle(config_path)\n",
    "        \n",
    "#     return lut"
   ]
  },
  {
   "cell_type": "code",
   "execution_count": null,
   "id": "3262dc82",
   "metadata": {},
   "outputs": [],
   "source": [
    "# species_lut = get_species_lut(fname_in, overwrite=False)"
   ]
  },
  {
   "cell_type": "code",
   "execution_count": null,
   "id": "c2798566",
   "metadata": {},
   "outputs": [],
   "source": [
    "# class LookupBiotaSpeciesCB(Callback):\n",
    "#     'Match \"RUBIN\" species with WorMS db taxon name (AphiaID)'\n",
    "#     def __init__(self, fn_lut): fc.store_attr()\n",
    "#     def __call__(self, tfm):\n",
    "#         lut = self.fn_lut()\n",
    "#         tfm.dfs['biota']['species_id'] = tfm.dfs['biota']['RUBIN'].apply(\n",
    "#             lambda x: lut[x.strip()])"
   ]
  },
  {
   "cell_type": "code",
   "execution_count": null,
   "id": "b83ffe12",
   "metadata": {},
   "outputs": [],
   "source": [
    "# dfs = load_data(fname_in)\n",
    "# tfm = Transformer(dfs, cbs=[LowerStripRdnNameCB(),\n",
    "#                             RemapRdnNameCB(),\n",
    "#                             ParseTimeCB(),\n",
    "#                             LookupBiotaSpeciesCB(partial(get_species_lut, fname_in))])\n",
    "\n",
    "# print(tfm()['biota'][['RUBIN', 'species_id']][:5])"
   ]
  },
  {
   "attachments": {},
   "cell_type": "markdown",
   "id": "2c74e492",
   "metadata": {},
   "source": [
    "### Lookup biota tissues"
   ]
  },
  {
   "cell_type": "code",
   "execution_count": null,
   "id": "e8730ecb",
   "metadata": {},
   "outputs": [],
   "source": [
    "# dfs['biota']['TISSUE'].unique()"
   ]
  },
  {
   "attachments": {},
   "cell_type": "markdown",
   "id": "e17f6685",
   "metadata": {},
   "source": [
    "### Rename columns"
   ]
  },
  {
   "cell_type": "code",
   "execution_count": null,
   "id": "36de5995",
   "metadata": {},
   "outputs": [
    {
     "name": "stdout",
     "output_type": "stream",
     "text": [
      "sample_id\n",
      "area_id\n",
      "areaname\n",
      "samptype_id\n",
      "samptype\n",
      "ref_id\n",
      "displaytext\n",
      "zoterourl\n",
      "ref_note\n",
      "datbase\n",
      "lab_id\n",
      "lab\n",
      "latitude\n",
      "longitude\n",
      "begperiod\n",
      "endperiod\n",
      "samplingyear\n",
      "totdepth\n",
      "sampdepth\n",
      "station\n",
      "samplabcode\n",
      "species_id\n",
      "taxonname\n",
      "taxonrank\n",
      "biogroup\n",
      "taxondb\n",
      "taxondbid\n",
      "taxondburl\n",
      "taxonrepname\n",
      "bodypar_id\n",
      "bodypar\n",
      "sliceup\n",
      "slicedown\n",
      "sedtype_id\n",
      "sedtype\n",
      "sedrepname\n",
      "nuclide_id\n",
      "nusymbol\n",
      "volume\n",
      "salinity\n",
      "temperatur\n",
      "filtered\n",
      "filtpore\n",
      "samparea\n",
      "drywt\n",
      "wetwt\n",
      "percentwt\n",
      "sampmet_id\n",
      "sampmet\n",
      "prepmet_id\n",
      "prepmet\n",
      "drymet_id\n",
      "drymet\n",
      "counmet_id\n",
      "counmet\n",
      "decayedto\n",
      "detection\n",
      "activity\n",
      "uncertaint\n",
      "unit_id\n",
      "unit\n",
      "vartype\n",
      "freq\n",
      "rangelow\n",
      "rangeupp\n",
      "profile\n",
      "transect_id\n",
      "measure_note\n",
      "shapetype_id\n",
      "profile_id\n",
      "sampnote\n",
      "ref_fulltext\n",
      "ref_yearpub\n",
      "ref_sampleTypes\n",
      "LongLat\n",
      "displaycoordinates\n",
      "DisplayLong\n",
      "DisplayLat\n",
      "id\n",
      "time\n"
     ]
    }
   ],
   "source": [
    "for c in dfs['seawater'].columns:\n",
    "    print(c)"
   ]
  },
  {
   "cell_type": "code",
   "execution_count": null,
   "id": "ee1762df",
   "metadata": {},
   "outputs": [],
   "source": [
    "#| export\n",
    "\n",
    "# Define columns of interest by sample type\n",
    "# coi_grp = {'seawater': ['NUCLIDE', 'VALUE_Bq/m³', 'ERROR%_m³', 'time',\n",
    "#                         'TDEPTH', 'LATITUDE (dddddd)', 'LONGITUDE (dddddd)'],\n",
    "#            'sediment': ['NUCLIDE', 'VALUE_Bq/kg', 'ERROR%_kg', 'time',\n",
    "#                         'TDEPTH', 'LATITUDE (dddddd)', 'LONGITUDE (dddddd)',\n",
    "#                         'SEDI'],\n",
    "#            'biota': ['NUCLIDE', 'VALUE_Bq/kg', 'ERROR%', 'time',\n",
    "#                      'SDEPTH', 'LATITUDE ddmmmm', 'LONGITUDE ddmmmm',\n",
    "#                      'species_id', 'TISSUE']}\n",
    "\n",
    "common_cols = ['area_id', 'lab_id', 'latitude', 'longitude', 'time',\n",
    "               'totdepth', 'sampdepth', 'volume', 'salinity',\n",
    "               'temperatur', 'nusymbol', 'activity', 'uncertaint', 'transect_id']\n",
    "\n",
    "coi_grp = {'seawater': common_cols,\n",
    "           'biota': common_cols + ['biogroup', 'taxondbid', 'bodypar_id',\n",
    "                                   'species_id'],\n",
    "           'sediment': common_cols + ['sedtype_id']\n",
    "           }"
   ]
  },
  {
   "cell_type": "code",
   "execution_count": null,
   "id": "bb1091d7",
   "metadata": {},
   "outputs": [],
   "source": [
    "#| export\n",
    "# Define column names renaming rules\n",
    "renaming_rules = {\n",
    "    'latitude': 'lat',\n",
    "    'longitude': 'lon',\n",
    "    'totdepth': 'tot_depth',\n",
    "    'sampdepth': 'depth',\n",
    "    'temperatur': 'temperature',\n",
    "    'activity': 'value',\n",
    "    'uncertaint': 'unc',\n",
    "    \n",
    "    # 'VALUE_Bq/m³': 'value',\n",
    "    # 'VALUE_Bq/kg': 'value',\n",
    "    # 'ERROR%_m³': 'unc',\n",
    "    # 'ERROR%_kg': 'unc',\n",
    "    # 'ERROR%': 'unc',\n",
    "    # 'TDEPTH': 'depth',\n",
    "    # 'SDEPTH': 'depth',\n",
    "    # 'LATITUDE (dddddd)': 'lat',\n",
    "    # 'LATITUDE ddmmmm': 'lat',\n",
    "    # 'LONGITUDE (dddddd)': 'lon',\n",
    "    # 'LONGITUDE ddmmmm': 'lon',\n",
    "    # # group specific\n",
    "    # 'TISSUE': 'body_part',\n",
    "    # 'SEDI': 'sed_type'\n",
    "}\n"
   ]
  },
  {
   "cell_type": "code",
   "execution_count": null,
   "id": "e41f13ae",
   "metadata": {},
   "outputs": [],
   "source": [
    "#| export\n",
    "class RenameColumnCB(Callback):\n",
    "    def __init__(self,\n",
    "                 coi=coi_grp,\n",
    "                 renaming_rules=renaming_rules):\n",
    "        fc.store_attr()\n",
    "\n",
    "    def __call__(self, tfm):\n",
    "        for k in tfm.dfs.keys():\n",
    "            # Select cols of interest\n",
    "            tfm.dfs[k] = tfm.dfs[k].loc[:, self.coi[k]]\n",
    "\n",
    "            # Rename cols\n",
    "            tfm.dfs[k].rename(columns=self.renaming_rules, inplace=True)"
   ]
  },
  {
   "cell_type": "code",
   "execution_count": null,
   "id": "a4b1cde4",
   "metadata": {},
   "outputs": [
    {
     "name": "stdout",
     "output_type": "stream",
     "text": [
      "   area_id  lab_id        lat   lon       time  tot_depth   depth  volume  \\\n",
      "0     3319      44  42.833333  33.0 1975-04-01        NaN  1358.0     NaN   \n",
      "1     3319      44  42.833333  33.0 1975-04-01        NaN   134.0     NaN   \n",
      "2     3319      44  42.833333  33.0 1975-04-01        NaN   105.0     NaN   \n",
      "3     3319      44  42.833333  33.0 1975-04-01        NaN    69.0     NaN   \n",
      "4     3319      44  42.833333  33.0 1975-04-01        NaN   283.0     NaN   \n",
      "\n",
      "   salinity  temperature nusymbol  value  unc  transect_id  \n",
      "0     22.34          8.8       h3   -0.1  0.4          NaN  \n",
      "1     21.09          8.5       h3   12.1  0.2          NaN  \n",
      "2     20.73          8.4       h3   18.6  0.3          NaN  \n",
      "3     19.65          7.9       h3   42.5  0.4          NaN  \n",
      "4     21.74          8.8       h3    3.4  0.3          NaN  \n"
     ]
    }
   ],
   "source": [
    "dfs = load_data(fname_in)\n",
    "tfm = Transformer(dfs, cbs=[RemapRdnNameCB(),\n",
    "                            ParseTimeCB(),\n",
    "                            RenameColumnCB()])\n",
    "print(tfm()['seawater'].head(5))"
   ]
  },
  {
   "attachments": {},
   "cell_type": "markdown",
   "id": "8b7efe2d",
   "metadata": {},
   "source": [
    "### Reshape: long to wide"
   ]
  },
  {
   "cell_type": "code",
   "execution_count": null,
   "id": "64ae402e",
   "metadata": {},
   "outputs": [
    {
     "data": {
      "text/html": [
       "<div>\n",
       "<style scoped>\n",
       "    .dataframe tbody tr th:only-of-type {\n",
       "        vertical-align: middle;\n",
       "    }\n",
       "\n",
       "    .dataframe tbody tr th {\n",
       "        vertical-align: top;\n",
       "    }\n",
       "\n",
       "    .dataframe thead th {\n",
       "        text-align: right;\n",
       "    }\n",
       "</style>\n",
       "<table border=\"1\" class=\"dataframe\">\n",
       "  <thead>\n",
       "    <tr style=\"text-align: right;\">\n",
       "      <th></th>\n",
       "      <th>area_id</th>\n",
       "      <th>lab_id</th>\n",
       "      <th>lat</th>\n",
       "      <th>lon</th>\n",
       "      <th>time</th>\n",
       "      <th>depth</th>\n",
       "      <th>salinity</th>\n",
       "      <th>temperature</th>\n",
       "      <th>nusymbol</th>\n",
       "      <th>value</th>\n",
       "      <th>unc</th>\n",
       "    </tr>\n",
       "  </thead>\n",
       "  <tbody>\n",
       "    <tr>\n",
       "      <th>0</th>\n",
       "      <td>3319</td>\n",
       "      <td>44</td>\n",
       "      <td>42.833333</td>\n",
       "      <td>33.0</td>\n",
       "      <td>1975-04-01</td>\n",
       "      <td>1358.0</td>\n",
       "      <td>22.34</td>\n",
       "      <td>8.8</td>\n",
       "      <td>h3</td>\n",
       "      <td>-0.1</td>\n",
       "      <td>0.4</td>\n",
       "    </tr>\n",
       "    <tr>\n",
       "      <th>1</th>\n",
       "      <td>3319</td>\n",
       "      <td>44</td>\n",
       "      <td>42.833333</td>\n",
       "      <td>33.0</td>\n",
       "      <td>1975-04-01</td>\n",
       "      <td>134.0</td>\n",
       "      <td>21.09</td>\n",
       "      <td>8.5</td>\n",
       "      <td>h3</td>\n",
       "      <td>12.1</td>\n",
       "      <td>0.2</td>\n",
       "    </tr>\n",
       "    <tr>\n",
       "      <th>2</th>\n",
       "      <td>3319</td>\n",
       "      <td>44</td>\n",
       "      <td>42.833333</td>\n",
       "      <td>33.0</td>\n",
       "      <td>1975-04-01</td>\n",
       "      <td>105.0</td>\n",
       "      <td>20.73</td>\n",
       "      <td>8.4</td>\n",
       "      <td>h3</td>\n",
       "      <td>18.6</td>\n",
       "      <td>0.3</td>\n",
       "    </tr>\n",
       "    <tr>\n",
       "      <th>3</th>\n",
       "      <td>3319</td>\n",
       "      <td>44</td>\n",
       "      <td>42.833333</td>\n",
       "      <td>33.0</td>\n",
       "      <td>1975-04-01</td>\n",
       "      <td>69.0</td>\n",
       "      <td>19.65</td>\n",
       "      <td>7.9</td>\n",
       "      <td>h3</td>\n",
       "      <td>42.5</td>\n",
       "      <td>0.4</td>\n",
       "    </tr>\n",
       "    <tr>\n",
       "      <th>4</th>\n",
       "      <td>3319</td>\n",
       "      <td>44</td>\n",
       "      <td>42.833333</td>\n",
       "      <td>33.0</td>\n",
       "      <td>1975-04-01</td>\n",
       "      <td>283.0</td>\n",
       "      <td>21.74</td>\n",
       "      <td>8.8</td>\n",
       "      <td>h3</td>\n",
       "      <td>3.4</td>\n",
       "      <td>0.3</td>\n",
       "    </tr>\n",
       "  </tbody>\n",
       "</table>\n",
       "</div>"
      ],
      "text/plain": [
       "   area_id  lab_id        lat   lon       time   depth  salinity  temperature  \\\n",
       "0     3319      44  42.833333  33.0 1975-04-01  1358.0     22.34          8.8   \n",
       "1     3319      44  42.833333  33.0 1975-04-01   134.0     21.09          8.5   \n",
       "2     3319      44  42.833333  33.0 1975-04-01   105.0     20.73          8.4   \n",
       "3     3319      44  42.833333  33.0 1975-04-01    69.0     19.65          7.9   \n",
       "4     3319      44  42.833333  33.0 1975-04-01   283.0     21.74          8.8   \n",
       "\n",
       "  nusymbol  value  unc  \n",
       "0       h3   -0.1  0.4  \n",
       "1       h3   12.1  0.2  \n",
       "2       h3   18.6  0.3  \n",
       "3       h3   42.5  0.4  \n",
       "4       h3    3.4  0.3  "
      ]
     },
     "execution_count": null,
     "metadata": {},
     "output_type": "execute_result"
    }
   ],
   "source": [
    "dfs = load_data(fname_in)\n",
    "tfm = Transformer(dfs, cbs=[RemapRdnNameCB(),\n",
    "                            ParseTimeCB(),\n",
    "                            RenameColumnCB()])\n",
    "df_debug = tfm()['seawater']\n",
    "df_debug.dropna(axis=1, how='all', inplace=True)\n",
    "df_debug.head()"
   ]
  },
  {
   "cell_type": "code",
   "execution_count": null,
   "id": "bb0ef42a",
   "metadata": {},
   "outputs": [
    {
     "data": {
      "text/plain": [
       "1358.0"
      ]
     },
     "execution_count": null,
     "metadata": {},
     "output_type": "execute_result"
    }
   ],
   "source": [
    "df_debug.depth.iloc[0]"
   ]
  },
  {
   "cell_type": "markdown",
   "id": "69009f4f",
   "metadata": {},
   "source": [
    "### UUID composite key"
   ]
  },
  {
   "cell_type": "code",
   "execution_count": null,
   "id": "0bcad3fd",
   "metadata": {},
   "outputs": [
    {
     "name": "stdout",
     "output_type": "stream",
     "text": [
      "composite key: 3-165842400-1-42.833333-33.0-165542400-1358.0 \n",
      "md5: 62d2f8a6db90c22611885d80bae4f4b0 \n",
      "sha256: d8ce70968125f9fb98b97a47002c0f9b5ecd758061938d54beec3cd8a9e95018\n",
      "MD5: 8.869986 MB\n",
      "sha256: 12.374178 MB\n"
     ]
    }
   ],
   "source": [
    "import hashlib\n",
    "from marisco.configs import get_cfgs\n",
    "from cftime import date2num\n",
    "import sys\n",
    "\n",
    "def format_time(x): return date2num(x, units=get_cfgs('units')['time'])\n",
    "\n",
    "ref_id = 3\n",
    "samptype_id = 1\n",
    "lat = 42.833333\n",
    "lon = 33.0\n",
    "time = format_time(df_debug.time.iloc[0]); time\n",
    "depth = 1358.0\n",
    "time_ds = 165842400 # time dataset/version\n",
    "\n",
    "composite_key = '-'.join([str(i) for i in [ref_id, time_ds, samptype_id, lat, lon, time, depth]])\n",
    "key_enc_md5 = hashlib.md5(composite_key.encode()).hexdigest()\n",
    "key_enc_sha256 = hashlib.sha256(composite_key.encode()).hexdigest()\n",
    "print(f'composite key: {composite_key} \\nmd5: {key_enc_md5} \\nsha256: {key_enc_sha256}')\n",
    "\n",
    "max_n_rows = 109506\n",
    "print('MD5:',   max_n_rows * sys.getsizeof(key_enc_md5) / 10**6, 'MB')\n",
    "print('sha256:', max_n_rows * sys.getsizeof(key_enc_sha256) / 10**6, 'MB')\n",
    "\n",
    "# comments:\n",
    "#   - need to be documented (time format, date2num start date, ...)\n",
    "#   - irreversible"
   ]
  },
  {
   "cell_type": "code",
   "execution_count": null,
   "id": "16d4ef68",
   "metadata": {},
   "outputs": [],
   "source": []
  },
  {
   "cell_type": "code",
   "execution_count": null,
   "id": "81748386",
   "metadata": {},
   "outputs": [],
   "source": [
    "# cols = ['nusymbol']\n",
    "# vals = ['value', 'unc']\n",
    "# idx = list(set(df_debug.columns) - set(cols + vals))  # All others\n",
    "# # idx = ['time', 'depth', 'lat', 'lon']"
   ]
  },
  {
   "cell_type": "code",
   "execution_count": null,
   "id": "bc8391cc",
   "metadata": {},
   "outputs": [],
   "source": [
    "# df_debug.pivot_table(index=idx, columns=cols, values=vals).reset_index()\n"
   ]
  },
  {
   "cell_type": "code",
   "execution_count": null,
   "id": "453380c1",
   "metadata": {},
   "outputs": [],
   "source": [
    "#| export\n",
    "class ReshapeLongToWide(Callback):\n",
    "    def __init__(self): fc.store_attr()\n",
    "\n",
    "    def __call__(self, tfm):\n",
    "        for k in tfm.dfs.keys():\n",
    "            cols = ['nusymbol']\n",
    "            vals = ['value', 'unc']\n",
    "            idx = list(set(tfm.dfs[k].columns) -\n",
    "                       set(cols + vals))  # All others\n",
    "\n",
    "            tfm.dfs[k] = tfm.dfs[k].pivot_table(index=idx,\n",
    "                                                columns=cols,\n",
    "                                                values=vals).reset_index()\n",
    "\n",
    "            # Flatten cols name\n",
    "            tfm.dfs[k].columns = rename_cols(tfm.dfs[k].columns)\n",
    "\n",
    "            # Set index\n",
    "            tfm.dfs[k].index.name = 'sample'"
   ]
  },
  {
   "cell_type": "code",
   "execution_count": null,
   "id": "0a330905",
   "metadata": {},
   "outputs": [
    {
     "name": "stdout",
     "output_type": "stream",
     "text": [
      "Empty DataFrame\n",
      "Columns: [area_id, lat, transect_id, tot_depth, lab_id, time, lon, salinity, volume, depth, temp]\n",
      "Index: []\n"
     ]
    }
   ],
   "source": [
    "dfs = load_data(fname_in)\n",
    "tfm = Transformer(dfs, cbs=[RemapRdnNameCB(),\n",
    "                            ParseTimeCB(),\n",
    "                            RenameColumnCB(),\n",
    "                            ReshapeLongToWide()])\n",
    "\n",
    "print(tfm()['seawater'].head(5))"
   ]
  },
  {
   "cell_type": "code",
   "execution_count": null,
   "id": "23cb6db2",
   "metadata": {},
   "outputs": [
    {
     "data": {
      "text/html": [
       "<div>\n",
       "<style scoped>\n",
       "    .dataframe tbody tr th:only-of-type {\n",
       "        vertical-align: middle;\n",
       "    }\n",
       "\n",
       "    .dataframe tbody tr th {\n",
       "        vertical-align: top;\n",
       "    }\n",
       "\n",
       "    .dataframe thead th {\n",
       "        text-align: right;\n",
       "    }\n",
       "</style>\n",
       "<table border=\"1\" class=\"dataframe\">\n",
       "  <thead>\n",
       "    <tr style=\"text-align: right;\">\n",
       "      <th></th>\n",
       "      <th>area_id</th>\n",
       "      <th>lab_id</th>\n",
       "      <th>lat</th>\n",
       "      <th>lon</th>\n",
       "      <th>time</th>\n",
       "      <th>depth</th>\n",
       "      <th>salinity</th>\n",
       "      <th>temp</th>\n",
       "      <th>nusymbol</th>\n",
       "      <th>value</th>\n",
       "      <th>unc</th>\n",
       "    </tr>\n",
       "  </thead>\n",
       "  <tbody>\n",
       "    <tr>\n",
       "      <th>0</th>\n",
       "      <td>3319</td>\n",
       "      <td>44</td>\n",
       "      <td>42.833333</td>\n",
       "      <td>33.0</td>\n",
       "      <td>1975-04-01</td>\n",
       "      <td>1358.0</td>\n",
       "      <td>22.34</td>\n",
       "      <td>8.8</td>\n",
       "      <td>h3</td>\n",
       "      <td>-0.1</td>\n",
       "      <td>0.4</td>\n",
       "    </tr>\n",
       "    <tr>\n",
       "      <th>1</th>\n",
       "      <td>3319</td>\n",
       "      <td>44</td>\n",
       "      <td>42.833333</td>\n",
       "      <td>33.0</td>\n",
       "      <td>1975-04-01</td>\n",
       "      <td>134.0</td>\n",
       "      <td>21.09</td>\n",
       "      <td>8.5</td>\n",
       "      <td>h3</td>\n",
       "      <td>12.1</td>\n",
       "      <td>0.2</td>\n",
       "    </tr>\n",
       "    <tr>\n",
       "      <th>2</th>\n",
       "      <td>3319</td>\n",
       "      <td>44</td>\n",
       "      <td>42.833333</td>\n",
       "      <td>33.0</td>\n",
       "      <td>1975-04-01</td>\n",
       "      <td>105.0</td>\n",
       "      <td>20.73</td>\n",
       "      <td>8.4</td>\n",
       "      <td>h3</td>\n",
       "      <td>18.6</td>\n",
       "      <td>0.3</td>\n",
       "    </tr>\n",
       "    <tr>\n",
       "      <th>3</th>\n",
       "      <td>3319</td>\n",
       "      <td>44</td>\n",
       "      <td>42.833333</td>\n",
       "      <td>33.0</td>\n",
       "      <td>1975-04-01</td>\n",
       "      <td>69.0</td>\n",
       "      <td>19.65</td>\n",
       "      <td>7.9</td>\n",
       "      <td>h3</td>\n",
       "      <td>42.5</td>\n",
       "      <td>0.4</td>\n",
       "    </tr>\n",
       "    <tr>\n",
       "      <th>4</th>\n",
       "      <td>3319</td>\n",
       "      <td>44</td>\n",
       "      <td>42.833333</td>\n",
       "      <td>33.0</td>\n",
       "      <td>1975-04-01</td>\n",
       "      <td>283.0</td>\n",
       "      <td>21.74</td>\n",
       "      <td>8.8</td>\n",
       "      <td>h3</td>\n",
       "      <td>3.4</td>\n",
       "      <td>0.3</td>\n",
       "    </tr>\n",
       "  </tbody>\n",
       "</table>\n",
       "</div>"
      ],
      "text/plain": [
       "   area_id  lab_id        lat   lon       time   depth  salinity  temp  \\\n",
       "0     3319      44  42.833333  33.0 1975-04-01  1358.0     22.34   8.8   \n",
       "1     3319      44  42.833333  33.0 1975-04-01   134.0     21.09   8.5   \n",
       "2     3319      44  42.833333  33.0 1975-04-01   105.0     20.73   8.4   \n",
       "3     3319      44  42.833333  33.0 1975-04-01    69.0     19.65   7.9   \n",
       "4     3319      44  42.833333  33.0 1975-04-01   283.0     21.74   8.8   \n",
       "\n",
       "  nusymbol  value  unc  \n",
       "0       h3   -0.1  0.4  \n",
       "1       h3   12.1  0.2  \n",
       "2       h3   18.6  0.3  \n",
       "3       h3   42.5  0.4  \n",
       "4       h3    3.4  0.3  "
      ]
     },
     "execution_count": null,
     "metadata": {},
     "output_type": "execute_result"
    }
   ],
   "source": [
    "df_debug.head()"
   ]
  },
  {
   "cell_type": "code",
   "execution_count": null,
   "id": "176aec63",
   "metadata": {},
   "outputs": [],
   "source": [
    "import pandas as pd\n",
    "\n",
    "# Example DataFrame\n",
    "# data = {\n",
    "#     'lon': [1.2, 2.2],\n",
    "#     'lat': [2.3, 3.3],\n",
    "#     'time': [1975, 1977],\n",
    "#     'depth': [2, 3],\n",
    "#     'salinity': [0.1, 1.1],\n",
    "#     'nusymbol': ['pu283', 'pu285'],\n",
    "#     'value': [0.12, 0.14],\n",
    "#     'unc': [0.01, 0.02]\n",
    "# }\n",
    "# df = pd.DataFrame(data)\n",
    "\n",
    "# Pivot for both 'value' and 'unc'\n",
    "pivot_combined = df_debug.pivot_table(index=['lon', 'lat', 'time', 'depth'], columns='nusymbol', values=['value', 'unc'], aggfunc='first')\n",
    "\n",
    "# Flatten the multi-level columns\n",
    "pivot_combined.columns = ['_'.join(col).strip() for col in pivot_combined.columns.values]"
   ]
  },
  {
   "cell_type": "code",
   "execution_count": null,
   "id": "7696b718",
   "metadata": {},
   "outputs": [
    {
     "data": {
      "text/plain": [
       "array(['unc_h3', 'value_h3'], dtype=object)"
      ]
     },
     "execution_count": null,
     "metadata": {},
     "output_type": "execute_result"
    }
   ],
   "source": [
    "pivot_combined.columns.values"
   ]
  },
  {
   "cell_type": "code",
   "execution_count": null,
   "id": "5fd9bb21",
   "metadata": {},
   "outputs": [
    {
     "data": {
      "text/html": [
       "<div>\n",
       "<style scoped>\n",
       "    .dataframe tbody tr th:only-of-type {\n",
       "        vertical-align: middle;\n",
       "    }\n",
       "\n",
       "    .dataframe tbody tr th {\n",
       "        vertical-align: top;\n",
       "    }\n",
       "\n",
       "    .dataframe thead th {\n",
       "        text-align: right;\n",
       "    }\n",
       "</style>\n",
       "<table border=\"1\" class=\"dataframe\">\n",
       "  <thead>\n",
       "    <tr style=\"text-align: right;\">\n",
       "      <th></th>\n",
       "      <th></th>\n",
       "      <th></th>\n",
       "      <th></th>\n",
       "      <th>unc_h3</th>\n",
       "      <th>value_h3</th>\n",
       "    </tr>\n",
       "    <tr>\n",
       "      <th>lon</th>\n",
       "      <th>lat</th>\n",
       "      <th>time</th>\n",
       "      <th>depth</th>\n",
       "      <th></th>\n",
       "      <th></th>\n",
       "    </tr>\n",
       "  </thead>\n",
       "  <tbody>\n",
       "    <tr>\n",
       "      <th rowspan=\"5\" valign=\"top\">33.0</th>\n",
       "      <th rowspan=\"5\" valign=\"top\">42.833333</th>\n",
       "      <th rowspan=\"5\" valign=\"top\">1975-04-01</th>\n",
       "      <th>10.0</th>\n",
       "      <td>0.4</td>\n",
       "      <td>67.2</td>\n",
       "    </tr>\n",
       "    <tr>\n",
       "      <th>69.0</th>\n",
       "      <td>0.4</td>\n",
       "      <td>42.5</td>\n",
       "    </tr>\n",
       "    <tr>\n",
       "      <th>89.0</th>\n",
       "      <td>0.3</td>\n",
       "      <td>27.6</td>\n",
       "    </tr>\n",
       "    <tr>\n",
       "      <th>95.0</th>\n",
       "      <td>0.2</td>\n",
       "      <td>25.1</td>\n",
       "    </tr>\n",
       "    <tr>\n",
       "      <th>105.0</th>\n",
       "      <td>0.3</td>\n",
       "      <td>18.6</td>\n",
       "    </tr>\n",
       "  </tbody>\n",
       "</table>\n",
       "</div>"
      ],
      "text/plain": [
       "                                 unc_h3  value_h3\n",
       "lon  lat       time       depth                  \n",
       "33.0 42.833333 1975-04-01 10.0      0.4      67.2\n",
       "                          69.0      0.4      42.5\n",
       "                          89.0      0.3      27.6\n",
       "                          95.0      0.2      25.1\n",
       "                          105.0     0.3      18.6"
      ]
     },
     "execution_count": null,
     "metadata": {},
     "output_type": "execute_result"
    }
   ],
   "source": [
    "pivot_combined.head()"
   ]
  },
  {
   "cell_type": "code",
   "execution_count": null,
   "id": "9e27d5fa",
   "metadata": {},
   "outputs": [
    {
     "data": {
      "text/html": [
       "<div>\n",
       "<style scoped>\n",
       "    .dataframe tbody tr th:only-of-type {\n",
       "        vertical-align: middle;\n",
       "    }\n",
       "\n",
       "    .dataframe tbody tr th {\n",
       "        vertical-align: top;\n",
       "    }\n",
       "\n",
       "    .dataframe thead th {\n",
       "        text-align: right;\n",
       "    }\n",
       "</style>\n",
       "<table border=\"1\" class=\"dataframe\">\n",
       "  <thead>\n",
       "    <tr style=\"text-align: right;\">\n",
       "      <th></th>\n",
       "      <th>lon</th>\n",
       "      <th>lat</th>\n",
       "      <th>time</th>\n",
       "      <th>depth</th>\n",
       "      <th>salinity</th>\n",
       "    </tr>\n",
       "  </thead>\n",
       "  <tbody>\n",
       "    <tr>\n",
       "      <th>0</th>\n",
       "      <td>33.0</td>\n",
       "      <td>42.833333</td>\n",
       "      <td>1975-04-01</td>\n",
       "      <td>1358.0</td>\n",
       "      <td>22.34</td>\n",
       "    </tr>\n",
       "    <tr>\n",
       "      <th>1</th>\n",
       "      <td>33.0</td>\n",
       "      <td>42.833333</td>\n",
       "      <td>1975-04-01</td>\n",
       "      <td>134.0</td>\n",
       "      <td>21.09</td>\n",
       "    </tr>\n",
       "    <tr>\n",
       "      <th>2</th>\n",
       "      <td>33.0</td>\n",
       "      <td>42.833333</td>\n",
       "      <td>1975-04-01</td>\n",
       "      <td>105.0</td>\n",
       "      <td>20.73</td>\n",
       "    </tr>\n",
       "    <tr>\n",
       "      <th>3</th>\n",
       "      <td>33.0</td>\n",
       "      <td>42.833333</td>\n",
       "      <td>1975-04-01</td>\n",
       "      <td>69.0</td>\n",
       "      <td>19.65</td>\n",
       "    </tr>\n",
       "    <tr>\n",
       "      <th>4</th>\n",
       "      <td>33.0</td>\n",
       "      <td>42.833333</td>\n",
       "      <td>1975-04-01</td>\n",
       "      <td>283.0</td>\n",
       "      <td>21.74</td>\n",
       "    </tr>\n",
       "    <tr>\n",
       "      <th>5</th>\n",
       "      <td>33.0</td>\n",
       "      <td>42.833333</td>\n",
       "      <td>1975-04-01</td>\n",
       "      <td>10.0</td>\n",
       "      <td>18.30</td>\n",
       "    </tr>\n",
       "    <tr>\n",
       "      <th>6</th>\n",
       "      <td>33.0</td>\n",
       "      <td>42.833333</td>\n",
       "      <td>1975-04-01</td>\n",
       "      <td>482.0</td>\n",
       "      <td>22.05</td>\n",
       "    </tr>\n",
       "    <tr>\n",
       "      <th>7</th>\n",
       "      <td>33.0</td>\n",
       "      <td>42.833333</td>\n",
       "      <td>1975-04-01</td>\n",
       "      <td>95.0</td>\n",
       "      <td>20.60</td>\n",
       "    </tr>\n",
       "    <tr>\n",
       "      <th>8</th>\n",
       "      <td>33.0</td>\n",
       "      <td>42.833333</td>\n",
       "      <td>1975-04-01</td>\n",
       "      <td>119.0</td>\n",
       "      <td>20.91</td>\n",
       "    </tr>\n",
       "    <tr>\n",
       "      <th>9</th>\n",
       "      <td>33.0</td>\n",
       "      <td>42.833333</td>\n",
       "      <td>1975-04-01</td>\n",
       "      <td>387.0</td>\n",
       "      <td>21.95</td>\n",
       "    </tr>\n",
       "    <tr>\n",
       "      <th>10</th>\n",
       "      <td>33.0</td>\n",
       "      <td>42.833333</td>\n",
       "      <td>1975-04-01</td>\n",
       "      <td>1939.0</td>\n",
       "      <td>22.34</td>\n",
       "    </tr>\n",
       "    <tr>\n",
       "      <th>11</th>\n",
       "      <td>33.0</td>\n",
       "      <td>42.833333</td>\n",
       "      <td>1975-04-01</td>\n",
       "      <td>968.0</td>\n",
       "      <td>22.23</td>\n",
       "    </tr>\n",
       "    <tr>\n",
       "      <th>12</th>\n",
       "      <td>33.0</td>\n",
       "      <td>42.833333</td>\n",
       "      <td>1985-04-01</td>\n",
       "      <td>114.0</td>\n",
       "      <td>20.85</td>\n",
       "    </tr>\n",
       "    <tr>\n",
       "      <th>13</th>\n",
       "      <td>33.0</td>\n",
       "      <td>42.833333</td>\n",
       "      <td>1975-04-01</td>\n",
       "      <td>214.0</td>\n",
       "      <td>21.51</td>\n",
       "    </tr>\n",
       "    <tr>\n",
       "      <th>14</th>\n",
       "      <td>33.0</td>\n",
       "      <td>42.833333</td>\n",
       "      <td>1975-04-01</td>\n",
       "      <td>726.0</td>\n",
       "      <td>22.22</td>\n",
       "    </tr>\n",
       "    <tr>\n",
       "      <th>15</th>\n",
       "      <td>33.0</td>\n",
       "      <td>42.833333</td>\n",
       "      <td>1975-04-01</td>\n",
       "      <td>89.0</td>\n",
       "      <td>20.24</td>\n",
       "    </tr>\n",
       "    <tr>\n",
       "      <th>16</th>\n",
       "      <td>33.0</td>\n",
       "      <td>42.833333</td>\n",
       "      <td>1975-04-01</td>\n",
       "      <td>1745.0</td>\n",
       "      <td>22.34</td>\n",
       "    </tr>\n",
       "    <tr>\n",
       "      <th>17</th>\n",
       "      <td>33.0</td>\n",
       "      <td>42.833333</td>\n",
       "      <td>1975-04-01</td>\n",
       "      <td>322.0</td>\n",
       "      <td>21.84</td>\n",
       "    </tr>\n",
       "  </tbody>\n",
       "</table>\n",
       "</div>"
      ],
      "text/plain": [
       "     lon        lat       time   depth  salinity\n",
       "0   33.0  42.833333 1975-04-01  1358.0     22.34\n",
       "1   33.0  42.833333 1975-04-01   134.0     21.09\n",
       "2   33.0  42.833333 1975-04-01   105.0     20.73\n",
       "3   33.0  42.833333 1975-04-01    69.0     19.65\n",
       "4   33.0  42.833333 1975-04-01   283.0     21.74\n",
       "5   33.0  42.833333 1975-04-01    10.0     18.30\n",
       "6   33.0  42.833333 1975-04-01   482.0     22.05\n",
       "7   33.0  42.833333 1975-04-01    95.0     20.60\n",
       "8   33.0  42.833333 1975-04-01   119.0     20.91\n",
       "9   33.0  42.833333 1975-04-01   387.0     21.95\n",
       "10  33.0  42.833333 1975-04-01  1939.0     22.34\n",
       "11  33.0  42.833333 1975-04-01   968.0     22.23\n",
       "12  33.0  42.833333 1985-04-01   114.0     20.85\n",
       "13  33.0  42.833333 1975-04-01   214.0     21.51\n",
       "14  33.0  42.833333 1975-04-01   726.0     22.22\n",
       "15  33.0  42.833333 1975-04-01    89.0     20.24\n",
       "16  33.0  42.833333 1975-04-01  1745.0     22.34\n",
       "17  33.0  42.833333 1975-04-01   322.0     21.84"
      ]
     },
     "execution_count": null,
     "metadata": {},
     "output_type": "execute_result"
    }
   ],
   "source": [
    "df_debug[['lon', 'lat', 'time', 'depth', 'salinity']]\n",
    "# df_debug[['lon', 'lat', 'time', 'depth']]"
   ]
  },
  {
   "cell_type": "code",
   "execution_count": null,
   "id": "5857cbe8",
   "metadata": {},
   "outputs": [],
   "source": [
    "\n",
    "# Merge with original DataFrame to include 'salinity'\n",
    "df_final = df_debug[['lon', 'lat', 'time', 'depth', 'salinity']].drop_duplicates().merge(pivot_combined, on=['lon', 'lat', 'time', 'depth'])\n",
    "\n",
    "# Reset index to create 'sample' column\n",
    "df_final.reset_index(drop=True, inplace=True)\n",
    "df_final['sample'] = df_final.index"
   ]
  },
  {
   "cell_type": "code",
   "execution_count": null,
   "id": "bad177d6",
   "metadata": {},
   "outputs": [
    {
     "data": {
      "text/html": [
       "<div>\n",
       "<style scoped>\n",
       "    .dataframe tbody tr th:only-of-type {\n",
       "        vertical-align: middle;\n",
       "    }\n",
       "\n",
       "    .dataframe tbody tr th {\n",
       "        vertical-align: top;\n",
       "    }\n",
       "\n",
       "    .dataframe thead th {\n",
       "        text-align: right;\n",
       "    }\n",
       "</style>\n",
       "<table border=\"1\" class=\"dataframe\">\n",
       "  <thead>\n",
       "    <tr style=\"text-align: right;\">\n",
       "      <th></th>\n",
       "      <th>lon</th>\n",
       "      <th>lat</th>\n",
       "      <th>time</th>\n",
       "      <th>depth</th>\n",
       "      <th>salinity</th>\n",
       "      <th>unc_h3</th>\n",
       "      <th>value_h3</th>\n",
       "      <th>sample</th>\n",
       "    </tr>\n",
       "  </thead>\n",
       "  <tbody>\n",
       "    <tr>\n",
       "      <th>0</th>\n",
       "      <td>33.0</td>\n",
       "      <td>42.833333</td>\n",
       "      <td>1975-04-01</td>\n",
       "      <td>1358.0</td>\n",
       "      <td>22.34</td>\n",
       "      <td>0.4</td>\n",
       "      <td>-0.1</td>\n",
       "      <td>0</td>\n",
       "    </tr>\n",
       "    <tr>\n",
       "      <th>1</th>\n",
       "      <td>33.0</td>\n",
       "      <td>42.833333</td>\n",
       "      <td>1975-04-01</td>\n",
       "      <td>134.0</td>\n",
       "      <td>21.09</td>\n",
       "      <td>0.2</td>\n",
       "      <td>12.1</td>\n",
       "      <td>1</td>\n",
       "    </tr>\n",
       "    <tr>\n",
       "      <th>2</th>\n",
       "      <td>33.0</td>\n",
       "      <td>42.833333</td>\n",
       "      <td>1975-04-01</td>\n",
       "      <td>105.0</td>\n",
       "      <td>20.73</td>\n",
       "      <td>0.3</td>\n",
       "      <td>18.6</td>\n",
       "      <td>2</td>\n",
       "    </tr>\n",
       "    <tr>\n",
       "      <th>3</th>\n",
       "      <td>33.0</td>\n",
       "      <td>42.833333</td>\n",
       "      <td>1975-04-01</td>\n",
       "      <td>69.0</td>\n",
       "      <td>19.65</td>\n",
       "      <td>0.4</td>\n",
       "      <td>42.5</td>\n",
       "      <td>3</td>\n",
       "    </tr>\n",
       "    <tr>\n",
       "      <th>4</th>\n",
       "      <td>33.0</td>\n",
       "      <td>42.833333</td>\n",
       "      <td>1975-04-01</td>\n",
       "      <td>283.0</td>\n",
       "      <td>21.74</td>\n",
       "      <td>0.3</td>\n",
       "      <td>3.4</td>\n",
       "      <td>4</td>\n",
       "    </tr>\n",
       "  </tbody>\n",
       "</table>\n",
       "</div>"
      ],
      "text/plain": [
       "    lon        lat       time   depth  salinity  unc_h3  value_h3  sample\n",
       "0  33.0  42.833333 1975-04-01  1358.0     22.34     0.4      -0.1       0\n",
       "1  33.0  42.833333 1975-04-01   134.0     21.09     0.2      12.1       1\n",
       "2  33.0  42.833333 1975-04-01   105.0     20.73     0.3      18.6       2\n",
       "3  33.0  42.833333 1975-04-01    69.0     19.65     0.4      42.5       3\n",
       "4  33.0  42.833333 1975-04-01   283.0     21.74     0.3       3.4       4"
      ]
     },
     "execution_count": null,
     "metadata": {},
     "output_type": "execute_result"
    }
   ],
   "source": [
    "df_final.head()"
   ]
  },
  {
   "cell_type": "code",
   "execution_count": null,
   "id": "2c833d46",
   "metadata": {},
   "outputs": [],
   "source": [
    "\n",
    "# Reordering columns\n",
    "columns_order = ['sample', 'lon', 'lat', 'time', 'depth', 'salinity'] + [col for col in df_final.columns if col.startswith('pu')]\n",
    "df_final = df_final[columns_order]\n",
    "\n",
    "# Display the final DataFrame\n",
    "print(df_final)\n"
   ]
  },
  {
   "cell_type": "code",
   "execution_count": null,
   "id": "2ff76b8c",
   "metadata": {},
   "outputs": [],
   "source": [
    "# import pandas as pd\n",
    "\n",
    "# # Example DataFrame\n",
    "# # data = {\n",
    "# #     'lon': [1.2, 2.2],\n",
    "# #     'lat': [2.3, 3.3],\n",
    "# #     'time': [1975, 1977],\n",
    "# #     'depth': [2, 3],\n",
    "# #     'salinity': [0.1, 1.1],\n",
    "# #     'nusymbol': ['pu283', 'pu285'],\n",
    "# #     'value': [0.12, 0.14],\n",
    "# #     'unc': [0.01, 0.02]\n",
    "# # }\n",
    "# # df = pd.DataFrame(data)\n",
    "\n",
    "# # Pivot for 'value'\n",
    "# pivot_value = df_debug.pivot_table(index=['lon', 'lat', 'time', 'depth'], columns='nusymbol', values='value', aggfunc='first')\n",
    "# pivot_value.columns = [f'{col}_value' for col in pivot_value.columns]\n",
    "\n",
    "# # Pivot for 'unc'\n",
    "# pivot_unc = df.pivot_table(index=['lon', 'lat', 'time', 'depth'], columns='nusymbol', values='unc', aggfunc='first')\n",
    "# pivot_unc.columns = [f'{col}_unc' for col in pivot_unc.columns]\n",
    "\n",
    "# # Merge the pivot tables\n",
    "# pivot_merged = pivot_value.merge(pivot_unc, left_index=True, right_index=True)\n",
    "\n",
    "# # Merge with original DataFrame to include 'salinity'\n",
    "# df_final = df.drop(['nusymbol', 'value', 'unc'], axis=1).drop_duplicates().merge(pivot_merged, on=['lon', 'lat', 'time', 'depth'])\n",
    "\n",
    "# # Reset index to create 'sample' column\n",
    "# df_final.reset_index(drop=True, inplace=True)\n",
    "# df_final['sample'] = df_final.index\n",
    "\n",
    "# # Reordering columns\n",
    "# columns_order = ['sample', 'lon', 'lat', 'time', 'depth', 'salinity'] + [col for col in df_final.columns if col.startswith('pu')]\n",
    "# df_final = df_final[columns_order]\n",
    "\n",
    "# # Display the final DataFrame\n",
    "# print(df_final)\n"
   ]
  },
  {
   "attachments": {},
   "cell_type": "markdown",
   "id": "22814b7a",
   "metadata": {},
   "source": [
    "### Encode time (seconds since ...)"
   ]
  },
  {
   "cell_type": "code",
   "execution_count": null,
   "id": "0c92dd07",
   "metadata": {},
   "outputs": [
    {
     "name": "stdout",
     "output_type": "stream",
     "text": [
      "        depth      lon        time      lat  ag110m_unc  am241_unc  ba140_unc  \\\n",
      "sample                                                                          \n",
      "0         0.0  10.3167   516153600  54.5000         NaN        NaN        NaN   \n",
      "1         0.0  11.0783   515980800  54.3500         NaN        NaN        NaN   \n",
      "2         0.0  11.9354  1252540800  57.2346         NaN        NaN        NaN   \n",
      "3         0.0  11.9354  1307664000  57.2346         NaN        NaN        NaN   \n",
      "4         0.0  11.9354  1316131200  57.2346         NaN        NaN        NaN   \n",
      "\n",
      "        ce144_unc  cm242_unc  cm243_244_tot_unc  ...  pu240  ru103  ru106  \\\n",
      "sample                                           ...                        \n",
      "0             NaN        NaN                NaN  ...    NaN    NaN    NaN   \n",
      "1             NaN        NaN                NaN  ...    NaN    NaN    NaN   \n",
      "2             NaN        NaN                NaN  ...    NaN    NaN    NaN   \n",
      "3             NaN        NaN                NaN  ...    NaN    NaN    NaN   \n",
      "4             NaN        NaN                NaN  ...    NaN    NaN    NaN   \n",
      "\n",
      "        sb125  sr89  sr90  tc99  u234  u238  zr95  \n",
      "sample                                             \n",
      "0         NaN   NaN   NaN   NaN   NaN   NaN   NaN  \n",
      "1         NaN   NaN   NaN   NaN   NaN   NaN   NaN  \n",
      "2         NaN   NaN   NaN   NaN   NaN   NaN   NaN  \n",
      "3         NaN   NaN   NaN   NaN   NaN   NaN   NaN  \n",
      "4         NaN   NaN   NaN   NaN   NaN   NaN   NaN  \n",
      "\n",
      "[5 rows x 60 columns]\n"
     ]
    }
   ],
   "source": [
    "dfs = load_data(fname_in)\n",
    "tfm = Transformer(dfs, cbs=[LowerStripRdnNameCB(),\n",
    "                            RemapRdnNameCB(),\n",
    "                            ParseTimeCB(),\n",
    "                            NormalizeUncUnitCB(),\n",
    "                            LookupBiotaSpeciesCB(partial(get_species_lut, fname_in)),\n",
    "                            RenameColumnCB(),\n",
    "                            ReshapeLongToWide(),\n",
    "                            EncodeTimeCB()])\n",
    "\n",
    "print(tfm()['seawater'].head(5))\n"
   ]
  },
  {
   "attachments": {},
   "cell_type": "markdown",
   "id": "ff32c2a8",
   "metadata": {},
   "source": [
    "### Sanitize coordinates"
   ]
  },
  {
   "cell_type": "code",
   "execution_count": null,
   "id": "3dee4406",
   "metadata": {},
   "outputs": [
    {
     "name": "stdout",
     "output_type": "stream",
     "text": [
      "        depth      lon        time      lat  ag110m_unc  am241_unc  ba140_unc  \\\n",
      "sample                                                                          \n",
      "0         0.0  10.3167   516153600  54.5000         NaN        NaN        NaN   \n",
      "1         0.0  11.0783   515980800  54.3500         NaN        NaN        NaN   \n",
      "2         0.0  11.9354  1252540800  57.2346         NaN        NaN        NaN   \n",
      "3         0.0  11.9354  1307664000  57.2346         NaN        NaN        NaN   \n",
      "4         0.0  11.9354  1316131200  57.2346         NaN        NaN        NaN   \n",
      "\n",
      "        ce144_unc  cm242_unc  cm243_244_tot_unc  ...  pu240  ru103  ru106  \\\n",
      "sample                                           ...                        \n",
      "0             NaN        NaN                NaN  ...    NaN    NaN    NaN   \n",
      "1             NaN        NaN                NaN  ...    NaN    NaN    NaN   \n",
      "2             NaN        NaN                NaN  ...    NaN    NaN    NaN   \n",
      "3             NaN        NaN                NaN  ...    NaN    NaN    NaN   \n",
      "4             NaN        NaN                NaN  ...    NaN    NaN    NaN   \n",
      "\n",
      "        sb125  sr89  sr90  tc99  u234  u238  zr95  \n",
      "sample                                             \n",
      "0         NaN   NaN   NaN   NaN   NaN   NaN   NaN  \n",
      "1         NaN   NaN   NaN   NaN   NaN   NaN   NaN  \n",
      "2         NaN   NaN   NaN   NaN   NaN   NaN   NaN  \n",
      "3         NaN   NaN   NaN   NaN   NaN   NaN   NaN  \n",
      "4         NaN   NaN   NaN   NaN   NaN   NaN   NaN  \n",
      "\n",
      "[5 rows x 60 columns]\n"
     ]
    }
   ],
   "source": [
    "dfs = load_data(fname_in)\n",
    "tfm = Transformer(dfs, cbs=[LowerStripRdnNameCB(),\n",
    "                            RemapRdnNameCB(),\n",
    "                            ParseTimeCB(),\n",
    "                            NormalizeUncUnitCB(),\n",
    "                            LookupBiotaSpeciesCB(partial(get_species_lut, fname_in)),\n",
    "                            RenameColumnCB(),\n",
    "                            ReshapeLongToWide(),\n",
    "                            EncodeTimeCB(),\n",
    "                            SanitizeLonLatCB()])\n",
    "\n",
    "print(tfm()['seawater'].head(5))\n"
   ]
  },
  {
   "attachments": {},
   "cell_type": "markdown",
   "id": "8ba0e40a",
   "metadata": {},
   "source": [
    "## Encode to NetCDF"
   ]
  },
  {
   "cell_type": "code",
   "execution_count": null,
   "id": "75d1968d",
   "metadata": {},
   "outputs": [],
   "source": [
    "dfs = load_data(fname_in)\n",
    "tfm = Transformer(dfs, cbs=[LowerStripRdnNameCB(),\n",
    "                            RemapRdnNameCB(),\n",
    "                            ParseTimeCB(),\n",
    "                            NormalizeUncUnitCB(),\n",
    "                            LookupBiotaSpeciesCB(partial(get_species_lut, fname_in)),\n",
    "                            RenameColumnCB(),\n",
    "                            ReshapeLongToWide(),\n",
    "                            EncodeTimeCB(),\n",
    "                            SanitizeLonLatCB()])\n",
    "\n",
    "dfs_tfm = tfm()\n"
   ]
  },
  {
   "cell_type": "code",
   "execution_count": null,
   "id": "c06de420",
   "metadata": {},
   "outputs": [
    {
     "data": {
      "text/plain": [
       "{'seawater':         depth      lon        time      lat  ag110m_unc  am241_unc  ba140_unc  \\\n",
       " sample                                                                          \n",
       " 0         0.0  10.3167   516153600  54.5000         NaN        NaN        NaN   \n",
       " 1         0.0  11.0783   515980800  54.3500         NaN        NaN        NaN   \n",
       " 2         0.0  11.9354  1252540800  57.2346         NaN        NaN        NaN   \n",
       " 3         0.0  11.9354  1307664000  57.2346         NaN        NaN        NaN   \n",
       " 4         0.0  11.9354  1316131200  57.2346         NaN        NaN        NaN   \n",
       " ...       ...      ...         ...      ...         ...        ...        ...   \n",
       " 4581    459.0  18.2333   613440000  58.5833         NaN        NaN        NaN   \n",
       " 4582    460.0  18.2333   743472000  58.5833         NaN        NaN        NaN   \n",
       " 4583    460.0  18.2333   769478400  58.5800         NaN   0.000252        NaN   \n",
       " 4584    460.0  18.2317   965260800  58.5833         NaN        NaN        NaN   \n",
       " 4585    460.0  18.2350   838252800  58.5833         NaN   0.000148        NaN   \n",
       " \n",
       "         ce144_unc  cm242_unc  cm243_244_tot_unc  ...  pu240  ru103  ru106  \\\n",
       " sample                                           ...                        \n",
       " 0             NaN        NaN                NaN  ...    NaN    NaN    NaN   \n",
       " 1             NaN        NaN                NaN  ...    NaN    NaN    NaN   \n",
       " 2             NaN        NaN                NaN  ...    NaN    NaN    NaN   \n",
       " 3             NaN        NaN                NaN  ...    NaN    NaN    NaN   \n",
       " 4             NaN        NaN                NaN  ...    NaN    NaN    NaN   \n",
       " ...           ...        ...                ...  ...    ...    ...    ...   \n",
       " 4581          NaN        NaN                NaN  ...    NaN    NaN    NaN   \n",
       " 4582          NaN        NaN                NaN  ...    NaN    NaN    NaN   \n",
       " 4583          NaN        NaN                NaN  ...    NaN    NaN    NaN   \n",
       " 4584          NaN        NaN                NaN  ...    NaN    NaN    NaN   \n",
       " 4585          NaN        NaN                NaN  ...    NaN    NaN    NaN   \n",
       " \n",
       "         sb125  sr89    sr90  tc99  u234  u238  zr95  \n",
       " sample                                               \n",
       " 0         NaN   NaN     NaN   NaN   NaN   NaN   NaN  \n",
       " 1         NaN   NaN     NaN   NaN   NaN   NaN   NaN  \n",
       " 2         NaN   NaN     NaN   NaN   NaN   NaN   NaN  \n",
       " 3         NaN   NaN     NaN   NaN   NaN   NaN   NaN  \n",
       " 4         NaN   NaN     NaN   NaN   NaN   NaN   NaN  \n",
       " ...       ...   ...     ...   ...   ...   ...   ...  \n",
       " 4581      NaN   NaN  17.025   NaN   NaN   NaN   NaN  \n",
       " 4582      NaN   NaN  16.800   NaN   NaN   NaN   NaN  \n",
       " 4583      NaN   NaN  16.300   NaN   NaN   NaN   NaN  \n",
       " 4584      NaN   NaN     NaN   NaN   NaN   NaN   NaN  \n",
       " 4585      NaN   NaN  14.800   NaN   NaN   NaN   NaN  \n",
       " \n",
       " [4576 rows x 60 columns],\n",
       " 'sediment':         sed_type        lat  depth        lon        time  ac228_unc  \\\n",
       " sample                                                                 \n",
       " 0          -99.0  54.325000    9.0  14.418300   487987200        NaN   \n",
       " 1          -99.0  54.333300   63.0  14.418300   455068800        NaN   \n",
       " 2          -99.0  54.500000   64.0  19.113300   934243200        NaN   \n",
       " 3          -99.0  54.500000   68.0  19.113300   773107200        NaN   \n",
       " 4          -99.0  54.500000   68.0  19.113300   773971200        NaN   \n",
       " ...          ...        ...    ...        ...         ...        ...   \n",
       " 2134        58.0  60.249800   62.0  27.245500   710553600        NaN   \n",
       " 2135        58.0  60.250300   63.0  27.247000   990144000        NaN   \n",
       " 2136        58.0  60.264333   62.0  27.234333  1060041600        NaN   \n",
       " 2137        59.0  64.566700  106.0  22.100000   555897600        NaN   \n",
       " 2138        73.0  55.881667   47.0  20.341667  1441238400        NaN   \n",
       " \n",
       "         ag110m_unc  am241_unc  ba140_unc  be7_unc  ...  sb124  sb125  sr90  \\\n",
       " sample                                             ...                       \n",
       " 0              NaN        NaN        NaN      NaN  ...    NaN    NaN   NaN   \n",
       " 1              NaN        NaN        NaN      NaN  ...    NaN    NaN   NaN   \n",
       " 2              NaN        NaN        NaN      NaN  ...    NaN    NaN   NaN   \n",
       " 3              NaN        NaN        NaN      NaN  ...    NaN    NaN   NaN   \n",
       " 4              NaN        NaN        NaN      NaN  ...    NaN    NaN   NaN   \n",
       " ...            ...        ...        ...      ...  ...    ...    ...   ...   \n",
       " 2134           NaN        NaN        NaN      NaN  ...    NaN   26.0   NaN   \n",
       " 2135           NaN    0.24732        NaN      NaN  ...    NaN    NaN   NaN   \n",
       " 2136           NaN        NaN        NaN      NaN  ...    NaN    NaN   NaN   \n",
       " 2137           NaN        NaN        NaN      NaN  ...    NaN    9.7   NaN   \n",
       " 2138           NaN        NaN        NaN      NaN  ...    NaN    NaN  5.12   \n",
       " \n",
       "         th228  th232  th234  tl208  u235  zn65  zr95  \n",
       " sample                                                \n",
       " 0         NaN    NaN    NaN    NaN   NaN   NaN   NaN  \n",
       " 1         NaN    NaN    NaN    NaN   NaN   NaN   NaN  \n",
       " 2         NaN    NaN    NaN    NaN   NaN   NaN   NaN  \n",
       " 3         NaN    NaN    NaN    NaN   NaN   NaN   NaN  \n",
       " 4         NaN    NaN    NaN    NaN   NaN   NaN   NaN  \n",
       " ...       ...    ...    ...    ...   ...   ...   ...  \n",
       " 2134      NaN    NaN    NaN    NaN   NaN   NaN   NaN  \n",
       " 2135      NaN    NaN    NaN    NaN   NaN   NaN   NaN  \n",
       " 2136      NaN    NaN    NaN    NaN   NaN   NaN   NaN  \n",
       " 2137      NaN    NaN    NaN    NaN   NaN   NaN   NaN  \n",
       " 2138      NaN    NaN    NaN    NaN   NaN   NaN   NaN  \n",
       " \n",
       " [2139 rows x 91 columns],\n",
       " 'biota':               lat  depth  body_part      lon        time  species_id  \\\n",
       " sample                                                                 \n",
       " 0       53.458000    0.0         41  14.2410   904867200      747442   \n",
       " 1       53.534800    0.0          5  10.4846  1302393600      126417   \n",
       " 2       53.536999    0.0          5  10.4910  1271548800      126417   \n",
       " 3       53.560001    0.0          5  11.2200  1286150400      126436   \n",
       " 4       53.755000    0.0          5  11.2200  1316304000      126436   \n",
       " ...           ...    ...        ...      ...         ...         ...   \n",
       " 3762    65.430000    0.0          5  23.0000  1159747200      126417   \n",
       " 3763    65.430000    0.0          5  23.0000  1127606400      126417   \n",
       " 3764    65.430000    0.0          5  23.0000  1221955200      126417   \n",
       " 3765    65.430000    0.0          5  23.0300  1064016000      126417   \n",
       " 3766    65.450000    0.0          5  23.0000  1284940800      126417   \n",
       " \n",
       "         ac228_unc  ag108m_unc  ag110m_unc  am241_unc  ...  sr89      sr90  \\\n",
       " sample                                                ...                   \n",
       " 0             NaN         NaN         NaN        NaN  ...   NaN       NaN   \n",
       " 1             NaN         NaN         NaN        NaN  ...   NaN  0.001157   \n",
       " 2             NaN         NaN         NaN        NaN  ...   NaN       NaN   \n",
       " 3             NaN         NaN         NaN        NaN  ...   NaN       NaN   \n",
       " 4             NaN         NaN         NaN        NaN  ...   NaN       NaN   \n",
       " ...           ...         ...         ...        ...  ...   ...       ...   \n",
       " 3762          NaN         NaN         NaN        NaN  ...   NaN       NaN   \n",
       " 3763          NaN         NaN         NaN        NaN  ...   NaN       NaN   \n",
       " 3764          NaN         NaN         NaN        NaN  ...   NaN       NaN   \n",
       " 3765          NaN         NaN         NaN        NaN  ...   NaN       NaN   \n",
       " 3766          NaN         NaN         NaN        NaN  ...   NaN       NaN   \n",
       " \n",
       "         tc99  te129m  th228  th232  tl208  u235  zn65  zr95  \n",
       " sample                                                       \n",
       " 0        NaN     NaN    NaN    NaN    NaN   NaN   NaN   NaN  \n",
       " 1        NaN     NaN    NaN    NaN    NaN   NaN   NaN   NaN  \n",
       " 2        NaN     NaN    NaN    NaN    NaN   NaN   NaN   NaN  \n",
       " 3        NaN     NaN    NaN    NaN    NaN   NaN   NaN   NaN  \n",
       " 4        NaN     NaN    NaN    NaN    NaN   NaN   NaN   NaN  \n",
       " ...      ...     ...    ...    ...    ...   ...   ...   ...  \n",
       " 3762     NaN     NaN    NaN    NaN    NaN   NaN   NaN   NaN  \n",
       " 3763     NaN     NaN    NaN    NaN    NaN   NaN   NaN   NaN  \n",
       " 3764     NaN     NaN    NaN    NaN    NaN   NaN   NaN   NaN  \n",
       " 3765     NaN     NaN    NaN    NaN    NaN   NaN   NaN   NaN  \n",
       " 3766     NaN     NaN    NaN    NaN    NaN   NaN   NaN   NaN  \n",
       " \n",
       " [3767 rows x 106 columns]}"
      ]
     },
     "execution_count": null,
     "metadata": {},
     "output_type": "execute_result"
    }
   ],
   "source": [
    "dfs_tfm"
   ]
  },
  {
   "cell_type": "code",
   "execution_count": null,
   "id": "4e998369",
   "metadata": {},
   "outputs": [
    {
     "data": {
      "text/plain": [
       "['Convert nuclide names to lowercase & strip any trailing space(s)',\n",
       " 'Remap to MARIS radionuclide names',\n",
       " 'Convert uncertainty from % to activity unit',\n",
       " 'Match \"RUBIN\" species with WorMS db taxon name (AphiaID)',\n",
       " 'Encode time as `int` representing seconds since xxx',\n",
       " 'Drop row when both longitude & latitude equal 0']"
      ]
     },
     "execution_count": null,
     "metadata": {},
     "output_type": "execute_result"
    }
   ],
   "source": [
    "tfm.logs"
   ]
  },
  {
   "attachments": {},
   "cell_type": "markdown",
   "id": "b82526cc",
   "metadata": {},
   "source": [
    "### Feed global attributes"
   ]
  },
  {
   "cell_type": "code",
   "execution_count": null,
   "id": "ac6ba4f8",
   "metadata": {},
   "outputs": [],
   "source": [
    "#| export\n",
    "kw = ['oceanography', 'Earth Science > Oceans > Ocean Chemistry> Radionuclides',\n",
    "      'Earth Science > Human Dimensions > Environmental Impacts > Nuclear Radiation Exposure',\n",
    "      'Earth Science > Oceans > Ocean Chemistry > Ocean Tracers, Earth Science > Oceans > Marine Sediments',\n",
    "      'Earth Science > Oceans > Ocean Chemistry, Earth Science > Oceans > Sea Ice > Isotopes',\n",
    "      'Earth Science > Oceans > Water Quality > Ocean Contaminants',\n",
    "      'Earth Science > Biological Classification > Animals/Vertebrates > Fish',\n",
    "      'Earth Science > Biosphere > Ecosystems > Marine Ecosystems',\n",
    "      'Earth Science > Biological Classification > Animals/Invertebrates > Mollusks',\n",
    "      'Earth Science > Biological Classification > Animals/Invertebrates > Arthropods > Crustaceans',\n",
    "      'Earth Science > Biological Classification > Plants > Macroalgae (Seaweeds)']\n"
   ]
  },
  {
   "cell_type": "code",
   "execution_count": null,
   "id": "f6aa393b",
   "metadata": {},
   "outputs": [],
   "source": [
    "#| export\n",
    "def get_attrs(tfm, zotero_key='26VMZZ2Q', kw=kw):\n",
    "    return GlobAttrsFeeder(tfm.dfs, cbs=[BboxCB(),\n",
    "                                    DepthRangeCB(),\n",
    "                                    TimeRangeCB(),\n",
    "                                    ZoteroCB(zotero_key),\n",
    "                                    KeyValuePairCB('keywords', ', '.join(kw)),\n",
    "                                    KeyValuePairCB('publisher_postprocess_logs', ', '.join(tfm.logs))])()"
   ]
  },
  {
   "cell_type": "code",
   "execution_count": null,
   "id": "c2e8aad3",
   "metadata": {},
   "outputs": [
    {
     "data": {
      "text/plain": [
       "{'id': '',\n",
       " 'title': 'Environmental database - Helsinki Commission Monitoring of Radioactive Substances',\n",
       " 'summary': 'MORS Environment database has been used to collate data resulting from monitoring of environmental radioactivity in the Baltic Sea based on HELCOM Recommendation 26/3.\\n\\nThe database is structured according to HELCOM Guidelines on Monitoring of Radioactive Substances (https://www.helcom.fi/wp-content/uploads/2019/08/Guidelines-for-Monitoring-of-Radioactive-Substances.pdf), which specifies reporting format, database structure, data types and obligatory parameters used for reporting data under Recommendation 26/3.\\n\\nThe database is updated and quality assured annually by HELCOM MORS EG.',\n",
       " 'keywords': 'oceanography, Earth Science > Oceans > Ocean Chemistry> Radionuclides, Earth Science > Human Dimensions > Environmental Impacts > Nuclear Radiation Exposure, Earth Science > Oceans > Ocean Chemistry > Ocean Tracers, Earth Science > Oceans > Marine Sediments, Earth Science > Oceans > Ocean Chemistry, Earth Science > Oceans > Sea Ice > Isotopes, Earth Science > Oceans > Water Quality > Ocean Contaminants, Earth Science > Biological Classification > Animals/Vertebrates > Fish, Earth Science > Biosphere > Ecosystems > Marine Ecosystems, Earth Science > Biological Classification > Animals/Invertebrates > Mollusks, Earth Science > Biological Classification > Animals/Invertebrates > Arthropods > Crustaceans, Earth Science > Biological Classification > Plants > Macroalgae (Seaweeds)',\n",
       " 'keywords_vocabulary': 'GCMD Science Keywords',\n",
       " 'keywords_vocabulary_url': 'https://gcmd.earthdata.nasa.gov/static/kms/',\n",
       " 'record': '',\n",
       " 'featureType': '',\n",
       " 'cdm_data_type': '',\n",
       " 'Conventions': 'CF-1.10 ACDD-1.3',\n",
       " 'publisher_name': 'Paul MCGINNITY, Iolanda OSVATH, Florence DESCROIX-COMANDUCCI',\n",
       " 'publisher_email': 'p.mc-ginnity@iaea.org, i.osvath@iaea.org, F.Descroix-Comanducci@iaea.org',\n",
       " 'publisher_url': 'https://maris.iaea.org',\n",
       " 'publisher_institution': 'International Atomic Energy Agency - IAEA',\n",
       " 'creator_name': 'author: HELCOM MORS',\n",
       " 'institution': '',\n",
       " 'metadata_link': '',\n",
       " 'creator_email': '',\n",
       " 'creator_url': '',\n",
       " 'references': '',\n",
       " 'license': 'Without prejudice to the applicable Terms and Conditions (https://nucleus.iaea.org/Pages/Others/Disclaimer.aspx), I hereby agree that any use of the data will contain appropriate acknowledgement of the data source(s) and the IAEA Marine Radioactivity Information System (MARIS).',\n",
       " 'comment': '',\n",
       " 'geospatial_lat_min': '31.1667',\n",
       " 'geospatial_lon_min': '9.41',\n",
       " 'geospatial_lat_max': '65.6347',\n",
       " 'geospatial_lon_max': '53.458',\n",
       " 'geospatial_vertical_min': '-460.0',\n",
       " 'geospatial_vertical_max': '0',\n",
       " 'geospatial_bounds': 'POLYGON ((9.41 53.458, 31.1667 53.458, 31.1667 65.6347, 9.41 65.6347, 9.41 53.458))',\n",
       " 'geospatial_bounds_crs': 'EPSG:4326',\n",
       " 'time_coverage_start': '1984-01-10T00:00:00',\n",
       " 'time_coverage_end': '2018-12-12T00:00:00',\n",
       " 'local_time_zone': '',\n",
       " 'date_created': '',\n",
       " 'date_modified': '',\n",
       " 'publisher_postprocess_logs': 'Convert nuclide names to lowercase & strip any trailing space(s), Remap to MARIS radionuclide names, Convert uncertainty from % to activity unit, Match \"RUBIN\" species with WorMS db taxon name (AphiaID), Encode time as `int` representing seconds since xxx, Drop row when both longitude & latitude equal 0'}"
      ]
     },
     "execution_count": null,
     "metadata": {},
     "output_type": "execute_result"
    }
   ],
   "source": [
    "get_attrs(tfm, zotero_key='26VMZZ2Q', kw=kw)\n"
   ]
  },
  {
   "attachments": {},
   "cell_type": "markdown",
   "id": "95a4a7b1",
   "metadata": {},
   "source": [
    "### Encoding"
   ]
  },
  {
   "cell_type": "code",
   "execution_count": null,
   "id": "ba4c37ba",
   "metadata": {},
   "outputs": [],
   "source": [
    "#| export\n",
    "def units_fn(grp_name):\n",
    "    lut = {'seawater': 'Bq/m³',\n",
    "           'sediment': 'Bq/kg',\n",
    "           'biota': 'Bq/kg'}\n",
    "    return lut[grp_name]\n"
   ]
  },
  {
   "cell_type": "code",
   "execution_count": null,
   "id": "c4abc246",
   "metadata": {},
   "outputs": [
    {
     "name": "stdout",
     "output_type": "stream",
     "text": [
      "% of discarded data for grp seawater: 0.0\n",
      "% of discarded data for grp sediment: 0.0\n",
      "% of discarded data for grp biota: 0.0\n"
     ]
    }
   ],
   "source": [
    "to_netcdf(dfs_tfm, NC_TPL_PATH, fname_out,\n",
    "          get_attrs(tfm, zotero_key='26VMZZ2Q', kw=kw),\n",
    "          units_fn)\n"
   ]
  },
  {
   "cell_type": "code",
   "execution_count": null,
   "id": "216f10b3",
   "metadata": {},
   "outputs": [],
   "source": [
    "#| export\n",
    "def encode(fname_in, fname_out, nc_tpl_path):\n",
    "    dfs = load_data(fname_in)\n",
    "    tfm = Transformer(dfs, cbs=[LowerStripRdnNameCB(),\n",
    "                                RemapRdnNameCB(),\n",
    "                                ParseTimeCB(),\n",
    "                                NormalizeUncUnitCB(),\n",
    "                                LookupBiotaSpeciesCB(partial(get_species_lut, fname_in)),\n",
    "                                RenameColumnCB(),\n",
    "                                ReshapeLongToWide(),\n",
    "                                EncodeTimeCB(),\n",
    "                                SanitizeLonLatCB()])\n",
    "    \n",
    "    dfs_tfm = tfm()\n",
    "    attrs = get_attrs(tfm, zotero_key='26VMZZ2Q', kw=kw)\n",
    "    to_netcdf(dfs_tfm, nc_tpl_path, fname_out, attrs, units_fn)"
   ]
  },
  {
   "cell_type": "code",
   "execution_count": null,
   "id": "5fd973e4",
   "metadata": {},
   "outputs": [
    {
     "name": "stdout",
     "output_type": "stream",
     "text": [
      "% of discarded data for grp seawater: 0.0\n",
      "% of discarded data for grp sediment: 0.0\n",
      "% of discarded data for grp biota: 0.0\n"
     ]
    }
   ],
   "source": [
    "encode(fname_in, fname_out, NC_TPL_PATH)"
   ]
  },
  {
   "cell_type": "markdown",
   "id": "4f970b39",
   "metadata": {},
   "source": [
    "## Testing enum type"
   ]
  },
  {
   "cell_type": "markdown",
   "id": "8542f047",
   "metadata": {},
   "source": [
    "- how to copy enum type from src: https://chat.openai.com/share/5853317b-e102-427f-ba72-3fc6445f4368"
   ]
  },
  {
   "cell_type": "code",
   "execution_count": null,
   "id": "b89c1fc9",
   "metadata": {},
   "outputs": [],
   "source": [
    "from netCDF4 import Dataset\n",
    "import numpy as np\n",
    "\n",
    "fname = Path('../../_data/nc') / 'clouds.nc'\n",
    "nc = Dataset(fname,'w')\n",
    "# python dict with allowed values and their names.\n",
    "enum_dict = {'Altocumulus': 7, 'Missing': 255, \n",
    "             'Stratus': 2, 'Clear': 0, 'Nimbostratus': 6, 'Cumulus': 4, 'Altostratus': 5,\n",
    "             'Cumulonimbus': 1, 'Stratocumulus': 3}\n",
    "# create the Enum type called 'cloud_t'.\n",
    "cloud_type = nc.createEnumType(np.uint8,'cloud_t',enum_dict)\n",
    "# print(cloud_type)\n",
    "# nc.close()\n",
    "\n",
    "time = nc.createDimension('time', None)\n",
    "\n",
    "# create a 1d variable of type 'cloud_type'.\n",
    "# The fill_value is set to the 'Missing' named value.\n",
    "cloud_var = nc.createVariable('primary_cloud', cloud_type, 'time',\n",
    "                              fill_value=enum_dict['Missing'])\n",
    "\n",
    "# write some data to the variable.\n",
    "cloud_var[:] = [enum_dict[k] for k in ['Clear', 'Stratus', 'Cumulus',\n",
    "                                       'Missing', 'Cumulonimbus']]\n",
    "nc.close()"
   ]
  },
  {
   "cell_type": "code",
   "execution_count": null,
   "id": "51aa4d75",
   "metadata": {},
   "outputs": [],
   "source": [
    "\n",
    "# reopen the file, read the data.\n",
    "nc = Dataset(fname)\n",
    "cloud_var = nc.variables['primary_cloud']\n",
    "print(cloud_var)\n",
    "# <class 'netCDF4._netCDF4.Variable'>\n",
    "# enum primary_cloud(time)\n",
    "#     _FillValue: 255\n",
    "# enum data type: uint8\n",
    "# unlimited dimensions: time\n",
    "# current shape = (5,)\n",
    "\n",
    "print(cloud_var.datatype.enum_dict)\n",
    "# {'Altocumulus': 7, 'Missing': 255, 'Stratus': 2, 'Clear': 0, 'Nimbostratus': 6, 'Cumulus': 4, 'Altostratus': 5, 'Cumulonimbus': 1, 'Stratocumulus': 3}\n",
    "\n",
    "print(cloud_var[:])\n",
    "# [0 2 4 -- 1]\n",
    "\n",
    "nc.close()\n"
   ]
  },
  {
   "cell_type": "code",
   "execution_count": null,
   "id": "a3d6cace",
   "metadata": {},
   "outputs": [
    {
     "ename": "RuntimeError",
     "evalue": "NetCDF: Not a valid ID",
     "output_type": "error",
     "traceback": [
      "\u001b[0;31m---------------------------------------------------------------------------\u001b[0m",
      "\u001b[0;31mRuntimeError\u001b[0m                              Traceback (most recent call last)",
      "\u001b[1;32m/Users/franckalbinet/pro/IAEA/MARIS/marisco/nbs/handlers/generic.ipynb Cell 71\u001b[0m line \u001b[0;36m1\n\u001b[0;32m----> <a href='vscode-notebook-cell:/Users/franckalbinet/pro/IAEA/MARIS/marisco/nbs/handlers/generic.ipynb#Y243sZmlsZQ%3D%3D?line=0'>1</a>\u001b[0m time \u001b[39m=\u001b[39m nc\u001b[39m.\u001b[39;49mcreateDimension(\u001b[39m'\u001b[39;49m\u001b[39mtime\u001b[39;49m\u001b[39m'\u001b[39;49m, \u001b[39mNone\u001b[39;49;00m)\n\u001b[1;32m      <a href='vscode-notebook-cell:/Users/franckalbinet/pro/IAEA/MARIS/marisco/nbs/handlers/generic.ipynb#Y243sZmlsZQ%3D%3D?line=2'>3</a>\u001b[0m \u001b[39m# create a 1d variable of type 'cloud_type'.\u001b[39;00m\n\u001b[1;32m      <a href='vscode-notebook-cell:/Users/franckalbinet/pro/IAEA/MARIS/marisco/nbs/handlers/generic.ipynb#Y243sZmlsZQ%3D%3D?line=3'>4</a>\u001b[0m \u001b[39m# The fill_value is set to the 'Missing' named value.\u001b[39;00m\n\u001b[1;32m      <a href='vscode-notebook-cell:/Users/franckalbinet/pro/IAEA/MARIS/marisco/nbs/handlers/generic.ipynb#Y243sZmlsZQ%3D%3D?line=4'>5</a>\u001b[0m cloud_var \u001b[39m=\u001b[39m nc\u001b[39m.\u001b[39mcreateVariable(\u001b[39m'\u001b[39m\u001b[39mprimary_cloud\u001b[39m\u001b[39m'\u001b[39m, cloud_type, \u001b[39m'\u001b[39m\u001b[39mtime\u001b[39m\u001b[39m'\u001b[39m,\n\u001b[1;32m      <a href='vscode-notebook-cell:/Users/franckalbinet/pro/IAEA/MARIS/marisco/nbs/handlers/generic.ipynb#Y243sZmlsZQ%3D%3D?line=5'>6</a>\u001b[0m                               fill_value\u001b[39m=\u001b[39menum_dict[\u001b[39m'\u001b[39m\u001b[39mMissing\u001b[39m\u001b[39m'\u001b[39m])\n",
      "File \u001b[0;32msrc/netCDF4/_netCDF4.pyx:2588\u001b[0m, in \u001b[0;36mnetCDF4._netCDF4.Dataset.createDimension\u001b[0;34m()\u001b[0m\n",
      "File \u001b[0;32msrc/netCDF4/_netCDF4.pyx:3509\u001b[0m, in \u001b[0;36mnetCDF4._netCDF4.Dimension.__init__\u001b[0;34m()\u001b[0m\n",
      "File \u001b[0;32msrc/netCDF4/_netCDF4.pyx:1965\u001b[0m, in \u001b[0;36mnetCDF4._netCDF4._ensure_nc_success\u001b[0;34m()\u001b[0m\n",
      "\u001b[0;31mRuntimeError\u001b[0m: NetCDF: Not a valid ID"
     ]
    }
   ],
   "source": [
    "time = nc.createDimension('time', None)\n",
    "\n",
    "# create a 1d variable of type 'cloud_type'.\n",
    "# The fill_value is set to the 'Missing' named value.\n",
    "cloud_var = nc.createVariable('primary_cloud', cloud_type, 'time',\n",
    "                              fill_value=enum_dict['Missing'])\n",
    "\n",
    "# write some data to the variable.\n",
    "cloud_var[:] = [enum_dict[k] for k in ['Clear', 'Stratus', 'Cumulus',\n",
    "                                       'Missing', 'Cumulonimbus']]\n",
    "nc.close()\n",
    "\n",
    "# reopen the file, read the data.\n",
    "nc = Dataset(fname)\n",
    "cloud_var = nc.variables['primary_cloud']\n",
    "print(cloud_var)\n",
    "# <class 'netCDF4._netCDF4.Variable'>\n",
    "# enum primary_cloud(time)\n",
    "#     _FillValue: 255\n",
    "# enum data type: uint8\n",
    "# unlimited dimensions: time\n",
    "# current shape = (5,)\n",
    "\n",
    "print(cloud_var.datatype.enum_dict)\n",
    "# {'Altocumulus': 7, 'Missing': 255, 'Stratus': 2, 'Clear': 0, 'Nimbostratus': 6, 'Cumulus': 4, 'Altostratus': 5, 'Cumulonimbus': 1, 'Stratocumulus': 3}\n",
    "\n",
    "print(cloud_var[:])\n",
    "# [0 2 4 -- 1]\n",
    "\n",
    "nc.close()\n"
   ]
  }
 ],
 "metadata": {
  "kernelspec": {
   "display_name": "Python 3 (ipykernel)",
   "language": "python",
   "name": "python3"
  }
 },
 "nbformat": 4,
 "nbformat_minor": 5
}

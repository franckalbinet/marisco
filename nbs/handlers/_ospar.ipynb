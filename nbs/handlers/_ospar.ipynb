{
 "cells": [
  {
   "cell_type": "code",
   "execution_count": null,
   "id": "bac5a1d6",
   "metadata": {},
   "outputs": [],
   "source": [
    "#| default_exp handlers.ospar"
   ]
  },
  {
   "cell_type": "markdown",
   "id": "706b71b9",
   "metadata": {},
   "source": [
    "# OSPAR \n",
    "\n",
    "> This data pipeline, known as a \"handler\" in Marisco terminology, is designed to clean, standardize, and encode [OSPAR data](https://odims.ospar.org/en/) into `NetCDF` format. The handler processes raw OSPAR data, applying various transformations and lookups to align it with `MARIS` data standards.\n",
    "\n",
    "Key functions of this handler:\n",
    "\n",
    "- **Cleans** and **normalizes** raw OSPAR data\n",
    "- **Applies standardized nomenclature** and units\n",
    "- **Encodes the processed data** into `NetCDF` format compatible with MARIS requirements\n",
    "\n",
    "This handler is a crucial component in the Marisco data processing workflow, ensuring OSPAR data is properly integrated into the MARIS database.\n",
    "\n",
    "\n",
    "\n",
    "Note: *Additionally, an optional encoder (pipeline) is provided below to process data into a `.csv` format compatible with the MARIS master database. This feature is maintained for legacy purposes, as data ingestion was previously performed using OpenRefine.*"
   ]
  },
  {
   "cell_type": "markdown",
   "id": "7b6e3e9c",
   "metadata": {},
   "source": [
    ":::{.callout-tip}\n",
    "\n",
    "For new MARIS users, please refer to [Understanding MARIS Data Formats (NetCDF and Open Refine)](https://github.com/franckalbinet/marisco/tree/main/install_configure_guide) for detailed information.\n",
    "\n",
    ":::"
   ]
  },
  {
   "cell_type": "markdown",
   "id": "382d4c1f",
   "metadata": {},
   "source": [
    "The present notebook pretends to be an instance of [Literate Programming](https://www.wikiwand.com/en/articles/Literate_programming) in the sense that it is a narrative that includes code snippets that are interspersed with explanations. When a function or a class needs to be exported in a dedicated python module (in our case `marisco/handlers/ospar.py`) the code snippet is added to the module using `#| exports` as provided by the wonderful [nbdev](https://nbdev.readthedocs.io/en/latest/) library."
   ]
  },
  {
   "cell_type": "code",
   "execution_count": null,
   "id": "f69f5756",
   "metadata": {},
   "outputs": [
    {
     "name": "stdout",
     "output_type": "stream",
     "text": [
      "The autoreload extension is already loaded. To reload it, use:\n",
      "  %reload_ext autoreload\n"
     ]
    }
   ],
   "source": [
    "#| hide\n",
    "%load_ext autoreload\n",
    "%autoreload 2"
   ]
  },
  {
   "cell_type": "code",
   "execution_count": null,
   "id": "3a8d979f",
   "metadata": {},
   "outputs": [],
   "source": [
    "#| export\n",
    "import pandas as pd \n",
    "import numpy as np\n",
    "#from functools import partial \n",
    "import fastcore.all as fc \n",
    "from pathlib import Path \n",
    "#from dataclasses import asdict\n",
    "from typing import List, Dict, Callable, Tuple, Any \n",
    "#from collections import OrderedDict, defaultdict\n",
    "import re\n",
    "#from functools import partial\n",
    "\n",
    "from marisco.utils import (\n",
    "    Remapper, \n",
    "    ddmm_to_dd,\n",
    "    Match, \n",
    "    get_unique_across_dfs,\n",
    "    NA\n",
    ")\n",
    "\n",
    "from marisco.callbacks import (\n",
    "    Callback, \n",
    "    Transformer, \n",
    "    EncodeTimeCB, \n",
    "    AddSampleTypeIdColumnCB,\n",
    "    AddNuclideIdColumnCB, \n",
    "    LowerStripNameCB, \n",
    "    SanitizeLonLatCB, \n",
    "    CompareDfsAndTfmCB, \n",
    "    RemapCB\n",
    ")\n",
    "\n",
    "from marisco.metadata import (\n",
    "    GlobAttrsFeeder, \n",
    "    BboxCB, \n",
    "    DepthRangeCB, \n",
    "    TimeRangeCB, \n",
    "    ZoteroCB, \n",
    "    KeyValuePairCB\n",
    ")\n",
    "\n",
    "from marisco.configs import (\n",
    "    nuc_lut_path, \n",
    "    nc_tpl_path, \n",
    "    cfg, \n",
    "    species_lut_path, \n",
    "    sediments_lut_path, \n",
    "    bodyparts_lut_path, \n",
    "    detection_limit_lut_path, \n",
    "    filtered_lut_path, \n",
    "    get_lut, \n",
    "    unit_lut_path,\n",
    "    prepmet_lut_path,\n",
    "    sampmet_lut_path,\n",
    "    counmet_lut_path, \n",
    "    lab_lut_path,\n",
    "    NC_VARS\n",
    ")\n",
    "\n",
    "from marisco.encoders import (\n",
    "    NetCDFEncoder, \n",
    ")\n",
    "\n",
    "from marisco.decoders import (\n",
    "    nc_to_dfs,\n",
    "    get_netcdf_properties, \n",
    "    get_netcdf_group_properties,\n",
    "    get_netcdf_variable_properties\n",
    ")\n",
    "import warnings\n",
    "warnings.filterwarnings('ignore')"
   ]
  },
  {
   "cell_type": "code",
   "execution_count": null,
   "id": "63e5a892",
   "metadata": {},
   "outputs": [],
   "source": [
    "#| hide\n",
    "pd.set_option('display.max_rows', 100)\n",
    "pd.set_option('display.max_colwidth', None)  # Show full column width"
   ]
  },
  {
   "cell_type": "markdown",
   "id": "a9347cd3",
   "metadata": {},
   "source": [
    "## Configuration and file paths"
   ]
  },
  {
   "cell_type": "markdown",
   "id": "84d915b5",
   "metadata": {},
   "source": [
    "1. **fname_in** - is the path to the folder containing the OSPAR data in CSV format. The path can be defined as a relative path. \n",
    "\n",
    "2. **fname_out_nc** - is the path and filename for the NetCDF output.The path can be defined as a relative path. \n",
    "\n",
    "3. **Zotero key** - is used to retrieve attributes related to the dataset from [Zotero](https://www.zotero.org/). The MARIS datasets include a [library](https://maris.iaea.org/datasets) available on [Zotero](https://www.zotero.org/groups/2432820/maris/library). \n",
    "\n",
    "4. **ref_id** - refers to the location in archive of the Zotero library.\n"
   ]
  },
  {
   "cell_type": "code",
   "execution_count": null,
   "id": "715e849d",
   "metadata": {},
   "outputs": [],
   "source": [
    "# | exports\n",
    "fname_in = '../../_data/accdb/ospar/20241021/csv'\n",
    "fname_out_nc = '../../_data/output/191-OSPAR-2024.nc'\n",
    "zotero_key ='LQRA4MMK' # OSPAR MORS zotero key\n",
    "ref_id = 191 # OSPAR reference id as defined by MARIS"
   ]
  },
  {
   "cell_type": "markdown",
   "id": "d1facbd6",
   "metadata": {},
   "source": [
    "## Load data"
   ]
  },
  {
   "attachments": {},
   "cell_type": "markdown",
   "id": "f263111a",
   "metadata": {},
   "source": [
    "[OSPAR Environmental Monitoring Data](https://odims.ospar.org/en/) is provided as a Microsoft Access database. [`Mdbtools`](https://github.com/mdbtools/mdbtools) can be used to convert the tables of the Microsoft Access database to `.csv` files on Unix-like OS.\n",
    "\n",
    "**Example steps**:\n",
    "\n",
    "1. [Download data](https://odims.ospar.org/en/)\n",
    "2. Install `mdbtools` via `VScode` Terminal (for instance):\n",
    "\n",
    "    ```\n",
    "    sudo apt-get -y install mdbtools\n",
    "    ````\n",
    "\n",
    "3. Install unzip via VScode Terminal \n",
    "\n",
    "    ```\n",
    "    sudo apt-get -y install unzip\n",
    "    ````\n",
    "\n",
    "4. In `VS code` terminal (for instance), navigate to the marisco data folder\n",
    "\n",
    "    ```\n",
    "    cd /home/marisco/downloads/marisco/_data/accdb/ospar\n",
    "    ```\n",
    "\n",
    "5. Unzip `OSPAR_Env_Concentrations_20241021.zip`\n",
    "\n",
    "    ```\n",
    "    unzip OSPAR_Env_Concentrations_20241021.zip\n",
    "    ```\n",
    "\n",
    "6. Run `preprocess.sh` to generate the required data files\n",
    "\n",
    "    ```\n",
    "    ./preprocess.sh OSPAR_Env_Concentrations_20241021.zip\n",
    "    ````\n",
    "\n",
    "7. Content of `preprocess.sh` script:\n",
    "    ```\n",
    "    #!/bin/bash\n",
    "\n",
    "    # Example of use: ./preprocess.sh OSPAR_Env_Concentrations_20241021.zip\n",
    "    unzip $1\n",
    "    dbname=$(ls *.accdb *.mdb)\n",
    "    mkdir csv\n",
    "    for table in $(mdb-tables -1 \"$dbname\"); do\n",
    "        echo \"Export table $table\"\n",
    "        mdb-export \"$dbname\" \"$table\" > \"csv/$table.csv\"\n",
    "    done\n",
    "    ```\n",
    "\n",
    "Once converted to `.csv` files, the data is ready to be loaded into a dictionary of dataframes.\n",
    "    "
   ]
  },
  {
   "cell_type": "markdown",
   "id": "2e237b01",
   "metadata": {},
   "source": [
    "Load OSPAR data and return the data in a Python dictionary of dataframes with the dictionary key as the sample type."
   ]
  },
  {
   "cell_type": "code",
   "execution_count": null,
   "id": "ab009087",
   "metadata": {},
   "outputs": [],
   "source": [
    "#| exports\n",
    "default_smp_types = {'Seawater data': 'SEAWATER', 'Biota data': 'BIOTA'}"
   ]
  },
  {
   "cell_type": "code",
   "execution_count": null,
   "id": "c906677b",
   "metadata": {},
   "outputs": [],
   "source": [
    "#| exports\n",
    "def load_data(src_dir:str, # Directory where the source CSV files are located\n",
    "              lut:dict=default_smp_types # A dictionary with the file name as key and the sample type as value\n",
    "              ) -> dict: # A dictionary with sample types as keys and their corresponding dataframes as values\n",
    "    \"Load `OSPAR` data and return the data in a dictionary of dataframes with the dictionary key as the sample type.\"\n",
    "    return {\n",
    "        sample_type: pd.read_csv(Path(src_dir) / f'{file_name}.csv', encoding='unicode_escape')\n",
    "        for file_name, sample_type in lut.items()\n",
    "    }"
   ]
  },
  {
   "cell_type": "markdown",
   "id": "0a47e4d4",
   "metadata": {},
   "source": [
    "`dfs` includes a dictionary of dataframes that is created from the OSPAR dataset defined by `fname_in`. The data to be included in each dataframe is sorted by sample type. Each dictionary is defined with a key equal to the sample type. "
   ]
  },
  {
   "cell_type": "code",
   "execution_count": null,
   "id": "bb4bf289",
   "metadata": {},
   "outputs": [
    {
     "name": "stdout",
     "output_type": "stream",
     "text": [
      "keys/sample types:  dict_keys(['SEAWATER', 'BIOTA'])\n",
      "SEAWATER columns:  Index(['ID', 'Contracting Party', 'RSC Sub-division', 'Station ID',\n",
      "       'Sample ID', 'LatD', 'LatM', 'LatS', 'LatDir', 'LongD', 'LongM',\n",
      "       'LongS', 'LongDir', 'Sample type', 'Sampling depth', 'Sampling date',\n",
      "       'Nuclide', 'Value type', 'Activity or MDA', 'Uncertainty', 'Unit',\n",
      "       'Data provider', 'Measurement Comment', 'Sample Comment',\n",
      "       'Reference Comment'],\n",
      "      dtype='object')\n",
      "BIOTA columns:  Index(['ID', 'Contracting Party', 'RSC Sub-division', 'Station ID',\n",
      "       'Sample ID', 'LatD', 'LatM', 'LatS', 'LatDir', 'LongD', 'LongM',\n",
      "       'LongS', 'LongDir', 'Sample type', 'Biological group', 'Species',\n",
      "       'Body Part', 'Sampling date', 'Nuclide', 'Value type',\n",
      "       'Activity or MDA', 'Uncertainty', 'Unit', 'Data provider',\n",
      "       'Measurement Comment', 'Sample Comment', 'Reference Comment'],\n",
      "      dtype='object')\n"
     ]
    }
   ],
   "source": [
    "#|eval: false\n",
    "dfs = load_data(fname_in)\n",
    "print('keys/sample types: ', dfs.keys())\n",
    "\n",
    "for key in dfs.keys():\n",
    "    print(f'{key} columns: ', dfs[key].columns)"
   ]
  },
  {
   "cell_type": "markdown",
   "id": "26fae395",
   "metadata": {},
   "source": [
    "## Normalize nuclide names"
   ]
  },
  {
   "cell_type": "markdown",
   "id": "e5ab670d",
   "metadata": {},
   "source": [
    "### Lower & strip nuclide names"
   ]
  },
  {
   "cell_type": "markdown",
   "id": "419d5766",
   "metadata": {},
   "source": [
    ":::{.callout-tip}\n",
    "\n",
    "**FEEDBACK TO DATA PROVIDER**: Some nuclide names contain one or multiple trailing spaces.\n",
    "\n",
    ":::"
   ]
  },
  {
   "cell_type": "code",
   "execution_count": null,
   "id": "76f7444b",
   "metadata": {},
   "outputs": [
    {
     "name": "stdout",
     "output_type": "stream",
     "text": [
      "    index        value  n_chars  stripped_chars\n",
      "0       0  239, 240 Pu     11.0             9.0\n",
      "2       2       99Tc        6.0             4.0\n",
      "5       5          NaN      NaN             NaN\n",
      "7       7      137Cs        7.0             5.0\n",
      "11     11      210Po        7.0             5.0\n",
      "12     12      99Tc         7.0             4.0\n"
     ]
    }
   ],
   "source": [
    "#| eval: false\n",
    "df = get_unique_across_dfs(load_data(fname_in), 'Nuclide', as_df=True, include_nchars=True)\n",
    "df['stripped_chars'] = df['value'].str.strip().str.replace(' ', '').str.len()\n",
    "print(df[df['n_chars'] != df['stripped_chars']])"
   ]
  },
  {
   "cell_type": "markdown",
   "id": "9e6d471e",
   "metadata": {},
   "source": [
    "To fix this issue, we use the `LowerStripNameCB` callback. For each dataframe in the dictionary of dataframes, it corrects the nuclide name by converting it lowercase, striping any leading or trailing whitespace(s)."
   ]
  },
  {
   "cell_type": "code",
   "execution_count": null,
   "id": "efa61ba1",
   "metadata": {},
   "outputs": [
    {
     "name": "stdout",
     "output_type": "stream",
     "text": [
      "SEAWATER Nuclides: \n",
      "['137cs' '239,240pu' '226ra' '228ra' '99tc' '3h' '210po' '210pb' nan]\n",
      "BIOTA Nuclides: \n",
      "['137cs' '226ra' '228ra' '239,240pu' '99tc' '210po' '210pb' '3h' 'cs-137'\n",
      " '238pu' '239, 240 pu' '241am']\n",
      "[\"Convert 'Nuclide' column values to lowercase, strip spaces, and store in 'Nuclide' column.\"]\n"
     ]
    }
   ],
   "source": [
    "#| eval: false\n",
    "dfs = load_data(fname_in)\n",
    "tfm = Transformer(dfs, cbs=[LowerStripNameCB(col_src='Nuclide', col_dst='Nuclide')])\n",
    "dfs_output=tfm()\n",
    "for key, df in dfs_output.items():\n",
    "    print(f'{key} Nuclides: ')\n",
    "    print(df['Nuclide'].unique())\n",
    "    \n",
    "print(tfm.logs)"
   ]
  },
  {
   "attachments": {},
   "cell_type": "markdown",
   "id": "52c9d0fe",
   "metadata": {},
   "source": [
    "### Remap nuclide names to MARIS data formats"
   ]
  },
  {
   "cell_type": "markdown",
   "id": "d9ff7a3f",
   "metadata": {},
   "source": [
    "Below, we map nuclide names used by HELCOM to the MARIS standard nuclide names. \n",
    "\n",
    "Remapping data provider nomenclatures to MARIS standards is a recurrent operation and is done in a semi-automated manner according to the following pattern:\n",
    "\n",
    "1. **Inspect** data provider nomenclature:\n",
    "2. **Match** automatically against MARIS nomenclature (using a fuzzy matching algorithm); \n",
    "3. **Fix** potential mismatches; \n",
    "4. **Apply** the lookup table to the dataframe.\n",
    "\n",
    "We will refer to this process as **IMFA** (**I**nspect, **M**atch, **F**ix, **A**pply)."
   ]
  },
  {
   "cell_type": "markdown",
   "id": "abd510d4",
   "metadata": {},
   "source": [
    ":::{.callout-tip}\n",
    "\n",
    "**FEEDBACK TO DATA PROVIDER**: The `Nuclide` column has inconsistent naming. E.g:\n",
    "\n",
    "- `Cs-137`,  `137Cs` or `CS-137`\n",
    "- `239, 240 pu` or `239,240 pu`\n",
    "- `ra-226` and `226ra` \n",
    "\n",
    "See below:\n",
    "\n",
    ":::"
   ]
  },
  {
   "cell_type": "code",
   "execution_count": null,
   "id": "9691ccab",
   "metadata": {},
   "outputs": [
    {
     "data": {
      "text/html": [
       "<div>\n",
       "<style scoped>\n",
       "    .dataframe tbody tr th:only-of-type {\n",
       "        vertical-align: middle;\n",
       "    }\n",
       "\n",
       "    .dataframe tbody tr th {\n",
       "        vertical-align: top;\n",
       "    }\n",
       "\n",
       "    .dataframe thead th {\n",
       "        text-align: right;\n",
       "    }\n",
       "</style>\n",
       "<table border=\"1\" class=\"dataframe\">\n",
       "  <thead>\n",
       "    <tr style=\"text-align: right;\">\n",
       "      <th></th>\n",
       "      <th>index</th>\n",
       "      <th>value</th>\n",
       "    </tr>\n",
       "  </thead>\n",
       "  <tbody>\n",
       "    <tr>\n",
       "      <th>0</th>\n",
       "      <td>0</td>\n",
       "      <td>239, 240 Pu</td>\n",
       "    </tr>\n",
       "    <tr>\n",
       "      <th>1</th>\n",
       "      <td>1</td>\n",
       "      <td>210Pb</td>\n",
       "    </tr>\n",
       "    <tr>\n",
       "      <th>2</th>\n",
       "      <td>2</td>\n",
       "      <td>99Tc</td>\n",
       "    </tr>\n",
       "    <tr>\n",
       "      <th>3</th>\n",
       "      <td>3</td>\n",
       "      <td>210Po</td>\n",
       "    </tr>\n",
       "    <tr>\n",
       "      <th>4</th>\n",
       "      <td>4</td>\n",
       "      <td>99Tc</td>\n",
       "    </tr>\n",
       "    <tr>\n",
       "      <th>5</th>\n",
       "      <td>5</td>\n",
       "      <td>NaN</td>\n",
       "    </tr>\n",
       "    <tr>\n",
       "      <th>6</th>\n",
       "      <td>6</td>\n",
       "      <td>228Ra</td>\n",
       "    </tr>\n",
       "    <tr>\n",
       "      <th>7</th>\n",
       "      <td>7</td>\n",
       "      <td>137Cs</td>\n",
       "    </tr>\n",
       "    <tr>\n",
       "      <th>8</th>\n",
       "      <td>8</td>\n",
       "      <td>3H</td>\n",
       "    </tr>\n",
       "    <tr>\n",
       "      <th>9</th>\n",
       "      <td>9</td>\n",
       "      <td>226Ra</td>\n",
       "    </tr>\n",
       "    <tr>\n",
       "      <th>10</th>\n",
       "      <td>10</td>\n",
       "      <td>239,240Pu</td>\n",
       "    </tr>\n",
       "    <tr>\n",
       "      <th>11</th>\n",
       "      <td>11</td>\n",
       "      <td>210Po</td>\n",
       "    </tr>\n",
       "    <tr>\n",
       "      <th>12</th>\n",
       "      <td>12</td>\n",
       "      <td>99Tc</td>\n",
       "    </tr>\n",
       "    <tr>\n",
       "      <th>13</th>\n",
       "      <td>13</td>\n",
       "      <td>241Am</td>\n",
       "    </tr>\n",
       "    <tr>\n",
       "      <th>14</th>\n",
       "      <td>14</td>\n",
       "      <td>137Cs</td>\n",
       "    </tr>\n",
       "    <tr>\n",
       "      <th>15</th>\n",
       "      <td>15</td>\n",
       "      <td>238Pu</td>\n",
       "    </tr>\n",
       "    <tr>\n",
       "      <th>16</th>\n",
       "      <td>16</td>\n",
       "      <td>Cs-137</td>\n",
       "    </tr>\n",
       "    <tr>\n",
       "      <th>17</th>\n",
       "      <td>17</td>\n",
       "      <td>CS-137</td>\n",
       "    </tr>\n",
       "  </tbody>\n",
       "</table>\n",
       "</div>"
      ],
      "text/plain": [
       "    index        value\n",
       "0       0  239, 240 Pu\n",
       "1       1        210Pb\n",
       "2       2       99Tc  \n",
       "3       3        210Po\n",
       "4       4         99Tc\n",
       "5       5          NaN\n",
       "6       6        228Ra\n",
       "7       7      137Cs  \n",
       "8       8           3H\n",
       "9       9        226Ra\n",
       "10     10    239,240Pu\n",
       "11     11      210Po  \n",
       "12     12      99Tc   \n",
       "13     13        241Am\n",
       "14     14        137Cs\n",
       "15     15        238Pu\n",
       "16     16       Cs-137\n",
       "17     17       CS-137"
      ]
     },
     "execution_count": null,
     "metadata": {},
     "output_type": "execute_result"
    }
   ],
   "source": [
    "#| eval: false\n",
    "dfs = load_data(fname_in)\n",
    "get_unique_across_dfs(dfs, col_name='Nuclide', as_df=True)"
   ]
  },
  {
   "cell_type": "markdown",
   "id": "f6879cf4",
   "metadata": {},
   "source": [
    "Let's now create an instance of a [fuzzy matching algorithm](https://www.wikiwand.com/en/articles/Approximate_string_matching) `Remapper`. This instance will match the nuclide names of the OSPAR dataset to the MARIS standard nuclide names."
   ]
  },
  {
   "cell_type": "code",
   "execution_count": null,
   "id": "582e03a6",
   "metadata": {},
   "outputs": [],
   "source": [
    "#| eval: false\n",
    "remapper = Remapper(provider_lut_df=get_unique_across_dfs(dfs_output, col_name='Nuclide', as_df=True),\n",
    "                    maris_lut_fn=nuc_lut_path,\n",
    "                    maris_col_id='nuclide_id',\n",
    "                    maris_col_name='nc_name',\n",
    "                    provider_col_to_match='value',\n",
    "                    provider_col_key='value',\n",
    "                    fname_cache='nuclides_ospar.pkl')"
   ]
  },
  {
   "cell_type": "markdown",
   "id": "857f4cb6",
   "metadata": {},
   "source": [
    "Lets try to match OSPAR nuclide names to MARIS standard nuclide names as automatically as possible. The `match_score` column allows to assess the results:"
   ]
  },
  {
   "cell_type": "code",
   "execution_count": null,
   "id": "34f3a398",
   "metadata": {},
   "outputs": [
    {
     "name": "stderr",
     "output_type": "stream",
     "text": [
      "Processing:  31%|███       | 4/13 [00:00<00:00, 38.24it/s]"
     ]
    },
    {
     "name": "stderr",
     "output_type": "stream",
     "text": [
      "Processing: 100%|██████████| 13/13 [00:00<00:00, 33.37it/s]"
     ]
    },
    {
     "name": "stdout",
     "output_type": "stream",
     "text": [
      "1 entries matched the criteria, while 12 entries had a match score of 1 or higher.\n"
     ]
    },
    {
     "name": "stderr",
     "output_type": "stream",
     "text": [
      "\n"
     ]
    },
    {
     "data": {
      "text/html": [
       "<div>\n",
       "<style scoped>\n",
       "    .dataframe tbody tr th:only-of-type {\n",
       "        vertical-align: middle;\n",
       "    }\n",
       "\n",
       "    .dataframe tbody tr th {\n",
       "        vertical-align: top;\n",
       "    }\n",
       "\n",
       "    .dataframe thead th {\n",
       "        text-align: right;\n",
       "    }\n",
       "</style>\n",
       "<table border=\"1\" class=\"dataframe\">\n",
       "  <thead>\n",
       "    <tr style=\"text-align: right;\">\n",
       "      <th></th>\n",
       "      <th>matched_maris_name</th>\n",
       "      <th>source_name</th>\n",
       "      <th>match_score</th>\n",
       "    </tr>\n",
       "    <tr>\n",
       "      <th>source_key</th>\n",
       "      <th></th>\n",
       "      <th></th>\n",
       "      <th></th>\n",
       "    </tr>\n",
       "  </thead>\n",
       "  <tbody>\n",
       "    <tr>\n",
       "      <th>239, 240 pu</th>\n",
       "      <td>pu240</td>\n",
       "      <td>239, 240 pu</td>\n",
       "      <td>8</td>\n",
       "    </tr>\n",
       "    <tr>\n",
       "      <th>239,240pu</th>\n",
       "      <td>pu240</td>\n",
       "      <td>239,240pu</td>\n",
       "      <td>6</td>\n",
       "    </tr>\n",
       "    <tr>\n",
       "      <th>228ra</th>\n",
       "      <td>u235</td>\n",
       "      <td>228ra</td>\n",
       "      <td>4</td>\n",
       "    </tr>\n",
       "    <tr>\n",
       "      <th>226ra</th>\n",
       "      <td>u234</td>\n",
       "      <td>226ra</td>\n",
       "      <td>4</td>\n",
       "    </tr>\n",
       "    <tr>\n",
       "      <th>137cs</th>\n",
       "      <td>i133</td>\n",
       "      <td>137cs</td>\n",
       "      <td>4</td>\n",
       "    </tr>\n",
       "    <tr>\n",
       "      <th>210po</th>\n",
       "      <td>ru106</td>\n",
       "      <td>210po</td>\n",
       "      <td>4</td>\n",
       "    </tr>\n",
       "    <tr>\n",
       "      <th>210pb</th>\n",
       "      <td>ru106</td>\n",
       "      <td>210pb</td>\n",
       "      <td>4</td>\n",
       "    </tr>\n",
       "    <tr>\n",
       "      <th>241am</th>\n",
       "      <td>pu241</td>\n",
       "      <td>241am</td>\n",
       "      <td>4</td>\n",
       "    </tr>\n",
       "    <tr>\n",
       "      <th>238pu</th>\n",
       "      <td>u238</td>\n",
       "      <td>238pu</td>\n",
       "      <td>3</td>\n",
       "    </tr>\n",
       "    <tr>\n",
       "      <th>99tc</th>\n",
       "      <td>tu</td>\n",
       "      <td>99tc</td>\n",
       "      <td>3</td>\n",
       "    </tr>\n",
       "    <tr>\n",
       "      <th>3h</th>\n",
       "      <td>tu</td>\n",
       "      <td>3h</td>\n",
       "      <td>2</td>\n",
       "    </tr>\n",
       "    <tr>\n",
       "      <th>cs-137</th>\n",
       "      <td>cs137</td>\n",
       "      <td>cs-137</td>\n",
       "      <td>1</td>\n",
       "    </tr>\n",
       "  </tbody>\n",
       "</table>\n",
       "</div>"
      ],
      "text/plain": [
       "            matched_maris_name  source_name  match_score\n",
       "source_key                                              \n",
       "239, 240 pu              pu240  239, 240 pu            8\n",
       "239,240pu                pu240    239,240pu            6\n",
       "228ra                     u235        228ra            4\n",
       "226ra                     u234        226ra            4\n",
       "137cs                     i133        137cs            4\n",
       "210po                    ru106        210po            4\n",
       "210pb                    ru106        210pb            4\n",
       "241am                    pu241        241am            4\n",
       "238pu                     u238        238pu            3\n",
       "99tc                        tu         99tc            3\n",
       "3h                          tu           3h            2\n",
       "cs-137                   cs137       cs-137            1"
      ]
     },
     "execution_count": null,
     "metadata": {},
     "output_type": "execute_result"
    }
   ],
   "source": [
    "#| eval: false\n",
    "remapper.generate_lookup_table(as_df=True)\n",
    "remapper.select_match(match_score_threshold=1, verbose=True)"
   ]
  },
  {
   "cell_type": "markdown",
   "id": "a8a6beb5",
   "metadata": {},
   "source": [
    "We can now manually inspect the unmatched nuclide names and create a table to correct them to the MARIS standard:"
   ]
  },
  {
   "cell_type": "code",
   "execution_count": null,
   "id": "35dbbfa1",
   "metadata": {},
   "outputs": [],
   "source": [
    "#| exports\n",
    "fixes_nuclide_names = {\n",
    "    '99tc': 'tc99',\n",
    "    '238pu': 'pu238',\n",
    "    '226ra': 'ra226',\n",
    "    '210pb': 'pb210',\n",
    "    '241am': 'am241',\n",
    "    '228ra': 'ra228',\n",
    "    '137cs': 'cs137',\n",
    "    '210po': 'po210',\n",
    "    '239,240pu': 'pu239_240_tot',\n",
    "    '239, 240 pu': 'pu239_240_tot',\n",
    "    'cs-137': 'cs137',\n",
    "    '3h': 'h3'\n",
    "    }"
   ]
  },
  {
   "cell_type": "markdown",
   "id": "3e42861a",
   "metadata": {},
   "source": [
    "We now include the table `fixes_nuclide_names`, which applies manual corrections to the nuclide names before the remapping process. \n",
    "The `generate_lookup_table` function has an `overwrite` parameter (default is `True`), which, when set to `True`, creates a pickle file cache of the lookup table. We can now test the remapping process:"
   ]
  },
  {
   "cell_type": "code",
   "execution_count": null,
   "id": "cd8dd48f",
   "metadata": {},
   "outputs": [
    {
     "name": "stderr",
     "output_type": "stream",
     "text": [
      "Processing:   0%|          | 0/13 [00:00<?, ?it/s]"
     ]
    },
    {
     "name": "stderr",
     "output_type": "stream",
     "text": [
      "Processing: 100%|██████████| 13/13 [00:00<00:00, 35.36it/s]\n"
     ]
    }
   ],
   "source": [
    "#| eval: false\n",
    "remapper.generate_lookup_table(as_df=True, fixes=fixes_nuclide_names)\n",
    "fc.test_eq(len(remapper.select_match(match_score_threshold=1)), 0)"
   ]
  },
  {
   "cell_type": "markdown",
   "id": "dc80d93a",
   "metadata": {},
   "source": [
    "If we want to view all the remapped nuclides we can set the match score threshold to 0; "
   ]
  },
  {
   "cell_type": "code",
   "execution_count": null,
   "id": "b6618904",
   "metadata": {},
   "outputs": [
    {
     "name": "stderr",
     "output_type": "stream",
     "text": [
      "Processing:  38%|███▊      | 5/13 [00:00<00:00, 41.43it/s]"
     ]
    },
    {
     "name": "stderr",
     "output_type": "stream",
     "text": [
      "Processing: 100%|██████████| 13/13 [00:00<00:00, 34.08it/s]"
     ]
    },
    {
     "name": "stdout",
     "output_type": "stream",
     "text": [
      "0 entries matched the criteria, while 13 entries had a match score of 0 or higher.\n"
     ]
    },
    {
     "name": "stderr",
     "output_type": "stream",
     "text": [
      "\n"
     ]
    },
    {
     "data": {
      "text/html": [
       "<div>\n",
       "<style scoped>\n",
       "    .dataframe tbody tr th:only-of-type {\n",
       "        vertical-align: middle;\n",
       "    }\n",
       "\n",
       "    .dataframe tbody tr th {\n",
       "        vertical-align: top;\n",
       "    }\n",
       "\n",
       "    .dataframe thead th {\n",
       "        text-align: right;\n",
       "    }\n",
       "</style>\n",
       "<table border=\"1\" class=\"dataframe\">\n",
       "  <thead>\n",
       "    <tr style=\"text-align: right;\">\n",
       "      <th></th>\n",
       "      <th>matched_maris_name</th>\n",
       "      <th>source_name</th>\n",
       "      <th>match_score</th>\n",
       "    </tr>\n",
       "    <tr>\n",
       "      <th>source_key</th>\n",
       "      <th></th>\n",
       "      <th></th>\n",
       "      <th></th>\n",
       "    </tr>\n",
       "  </thead>\n",
       "  <tbody>\n",
       "    <tr>\n",
       "      <th>228ra</th>\n",
       "      <td>ra228</td>\n",
       "      <td>228ra</td>\n",
       "      <td>0</td>\n",
       "    </tr>\n",
       "    <tr>\n",
       "      <th>NaN</th>\n",
       "      <td>Unknown</td>\n",
       "      <td>NaN</td>\n",
       "      <td>0</td>\n",
       "    </tr>\n",
       "    <tr>\n",
       "      <th>239, 240 pu</th>\n",
       "      <td>pu239_240_tot</td>\n",
       "      <td>239, 240 pu</td>\n",
       "      <td>0</td>\n",
       "    </tr>\n",
       "    <tr>\n",
       "      <th>3h</th>\n",
       "      <td>h3</td>\n",
       "      <td>3h</td>\n",
       "      <td>0</td>\n",
       "    </tr>\n",
       "    <tr>\n",
       "      <th>238pu</th>\n",
       "      <td>pu238</td>\n",
       "      <td>238pu</td>\n",
       "      <td>0</td>\n",
       "    </tr>\n",
       "    <tr>\n",
       "      <th>239,240pu</th>\n",
       "      <td>pu239_240_tot</td>\n",
       "      <td>239,240pu</td>\n",
       "      <td>0</td>\n",
       "    </tr>\n",
       "    <tr>\n",
       "      <th>99tc</th>\n",
       "      <td>tc99</td>\n",
       "      <td>99tc</td>\n",
       "      <td>0</td>\n",
       "    </tr>\n",
       "    <tr>\n",
       "      <th>226ra</th>\n",
       "      <td>ra226</td>\n",
       "      <td>226ra</td>\n",
       "      <td>0</td>\n",
       "    </tr>\n",
       "    <tr>\n",
       "      <th>137cs</th>\n",
       "      <td>cs137</td>\n",
       "      <td>137cs</td>\n",
       "      <td>0</td>\n",
       "    </tr>\n",
       "    <tr>\n",
       "      <th>cs-137</th>\n",
       "      <td>cs137</td>\n",
       "      <td>cs-137</td>\n",
       "      <td>0</td>\n",
       "    </tr>\n",
       "    <tr>\n",
       "      <th>210po</th>\n",
       "      <td>po210</td>\n",
       "      <td>210po</td>\n",
       "      <td>0</td>\n",
       "    </tr>\n",
       "    <tr>\n",
       "      <th>210pb</th>\n",
       "      <td>pb210</td>\n",
       "      <td>210pb</td>\n",
       "      <td>0</td>\n",
       "    </tr>\n",
       "    <tr>\n",
       "      <th>241am</th>\n",
       "      <td>am241</td>\n",
       "      <td>241am</td>\n",
       "      <td>0</td>\n",
       "    </tr>\n",
       "  </tbody>\n",
       "</table>\n",
       "</div>"
      ],
      "text/plain": [
       "            matched_maris_name  source_name  match_score\n",
       "source_key                                              \n",
       "228ra                    ra228        228ra            0\n",
       "NaN                    Unknown          NaN            0\n",
       "239, 240 pu      pu239_240_tot  239, 240 pu            0\n",
       "3h                          h3           3h            0\n",
       "238pu                    pu238        238pu            0\n",
       "239,240pu        pu239_240_tot    239,240pu            0\n",
       "99tc                      tc99         99tc            0\n",
       "226ra                    ra226        226ra            0\n",
       "137cs                    cs137        137cs            0\n",
       "cs-137                   cs137       cs-137            0\n",
       "210po                    po210        210po            0\n",
       "210pb                    pb210        210pb            0\n",
       "241am                    am241        241am            0"
      ]
     },
     "execution_count": null,
     "metadata": {},
     "output_type": "execute_result"
    }
   ],
   "source": [
    "#| eval: false\n",
    "remapper.generate_lookup_table(as_df=True, fixes=fixes_nuclide_names)\n",
    "remapper.select_match(match_score_threshold=0, verbose=True)"
   ]
  },
  {
   "cell_type": "markdown",
   "id": "39915d33",
   "metadata": {},
   "source": [
    "Values are remapped correctly! We can now create a callback `RemapNuclideNameCB` to remap the nuclide names. Note that we pass `overwrite=False` to the `Remapper` constructor to now use the cached version."
   ]
  },
  {
   "cell_type": "code",
   "execution_count": null,
   "id": "600bce0c",
   "metadata": {},
   "outputs": [],
   "source": [
    "#| exports\n",
    "# Create a lookup table for nuclide names\n",
    "lut_nuclides = lambda df: Remapper(provider_lut_df=df,\n",
    "                                   maris_lut_fn=nuc_lut_path,\n",
    "                                   maris_col_id='nuclide_id',\n",
    "                                   maris_col_name='nc_name',\n",
    "                                   provider_col_to_match='value',\n",
    "                                   provider_col_key='value',\n",
    "                                   fname_cache='nuclides_ospar.pkl').generate_lookup_table(fixes=fixes_nuclide_names, \n",
    "                                                                                            as_df=False, overwrite=False)"
   ]
  },
  {
   "cell_type": "code",
   "execution_count": null,
   "id": "66944861",
   "metadata": {},
   "outputs": [],
   "source": [
    "#| exports\n",
    "class RemapNuclideNameCB(Callback):\n",
    "    \"Remap data provider nuclide names to standardized MARIS nuclide names.\"\n",
    "    def __init__(self, \n",
    "                 fn_lut: Callable, # Function that returns the lookup table dictionary\n",
    "                 col_name: str # Column name to remap\n",
    "                ):\n",
    "        fc.store_attr()\n",
    "\n",
    "    def __call__(self, tfm: Transformer):\n",
    "        df_uniques = get_unique_across_dfs(tfm.dfs, col_name=self.col_name, as_df=True)\n",
    "        #lut = {k: v.matched_maris_name for k, v in self.fn_lut(df_uniques).items()}    \n",
    "        lut = {k: v.matched_id for k, v in self.fn_lut(df_uniques).items()}    \n",
    "        for k in tfm.dfs.keys():\n",
    "            tfm.dfs[k]['NUCLIDE'] = tfm.dfs[k][self.col_name].replace(lut)"
   ]
  },
  {
   "cell_type": "markdown",
   "id": "4f2d0075",
   "metadata": {},
   "source": [
    "Let's see it in action, along with the `LowerStripNameCB` callback:"
   ]
  },
  {
   "cell_type": "code",
   "execution_count": null,
   "id": "23b7d869",
   "metadata": {},
   "outputs": [
    {
     "name": "stdout",
     "output_type": "stream",
     "text": [
      "SEAWATER NUCLIDE unique:  [33 77 53 54 15  1 47 41 -1]\n",
      "BIOTA NUCLIDE unique:  [33 53 54 77 15 47 41  1 67 72]\n"
     ]
    }
   ],
   "source": [
    "#| eval: false\n",
    "dfs = load_data(fname_in)\n",
    "tfm = Transformer(dfs, cbs=[\n",
    "                            LowerStripNameCB(col_src='Nuclide', col_dst='Nuclide'),\n",
    "                            RemapNuclideNameCB(lut_nuclides, col_name='Nuclide')\n",
    "                            ])\n",
    "dfs_out = tfm()\n",
    "\n",
    "# For instance\n",
    "for key in dfs_out.keys():\n",
    "    print(f'{key} NUCLIDE unique: ', dfs_out[key]['NUCLIDE'].unique())"
   ]
  },
  {
   "cell_type": "markdown",
   "id": "f8108e48",
   "metadata": {},
   "source": [
    "## Standardize Time"
   ]
  },
  {
   "cell_type": "markdown",
   "id": "17be6f36",
   "metadata": {},
   "source": [
    ":::{.callout-tip}\n",
    "\n",
    "**FEEDBACK TO DATA PROVIDER**: `SEAWATER` dataset contains 1O rows with `NaN` values in the `Sampling date` column as shown below.\n",
    "\n",
    ":::"
   ]
  },
  {
   "cell_type": "code",
   "execution_count": null,
   "id": "0ead62f8",
   "metadata": {},
   "outputs": [
    {
     "name": "stdout",
     "output_type": "stream",
     "text": [
      "Number of NaN values in Sampling date:  10\n"
     ]
    }
   ],
   "source": [
    "#| eval: false\n",
    "dfs = load_data(fname_in)\n",
    "print('Number of NaN values in Sampling date: ', dfs['SEAWATER']['Sampling date'].isnull().sum())\n"
   ]
  },
  {
   "cell_type": "markdown",
   "id": "c807cd86",
   "metadata": {},
   "source": [
    "Create a callback that remaps the time format in the dictionary of dataframes (i.e. `%m/%d/%y %H:%M:%S`) and handle missing dates:"
   ]
  },
  {
   "cell_type": "code",
   "execution_count": null,
   "id": "bcd2893e",
   "metadata": {},
   "outputs": [],
   "source": [
    "#| exports\n",
    "class ParseTimeCB(Callback):\n",
    "    \"Parse the time format in the dataframe.\"\n",
    "    def __call__(self, tfm):\n",
    "        for df in tfm.dfs.values():\n",
    "            df['TIME'] = pd.to_datetime(df['Sampling date'], format='%m/%d/%y %H:%M:%S', errors='coerce')\n",
    "            df.dropna(subset=['TIME'], inplace=True)"
   ]
  },
  {
   "cell_type": "markdown",
   "id": "00d44e5d",
   "metadata": {},
   "source": [
    "Apply the transformer for callbacks `ParseTimeCB`. Then, print the ``begperiod`` and `time` data for `seawater`."
   ]
  },
  {
   "cell_type": "code",
   "execution_count": null,
   "id": "bc05ba8e",
   "metadata": {},
   "outputs": [
    {
     "name": "stdout",
     "output_type": "stream",
     "text": [
      "                           SEAWATER  BIOTA\n",
      "Number of rows in dfs         19193  15951\n",
      "Number of rows in tfm.dfs     19183  15951\n",
      "Number of rows removed           10      0 \n",
      "\n",
      "0       2010-01-27 00:00:00\n",
      "1       2010-01-27 00:00:00\n",
      "2       2010-01-27 00:00:00\n",
      "3       2010-01-27 00:00:00\n",
      "4       2010-01-26 00:00:00\n",
      "                ...        \n",
      "19183   2019-11-13 12:54:00\n",
      "19184   2019-12-10 11:37:00\n",
      "19185   2019-12-10 11:37:00\n",
      "19186   2019-12-10 11:37:00\n",
      "19187   2019-12-18 14:43:00\n",
      "Name: TIME, Length: 19183, dtype: datetime64[ns]\n"
     ]
    }
   ],
   "source": [
    "#|eval: false\n",
    "dfs = load_data(fname_in)\n",
    "tfm = Transformer(dfs, cbs=[\n",
    "    ParseTimeCB(),\n",
    "    CompareDfsAndTfmCB(dfs)])\n",
    "\n",
    "tfm()\n",
    "\n",
    "print(pd.DataFrame.from_dict(tfm.compare_stats) , '\\n')\n",
    "print(tfm.dfs['SEAWATER']['TIME'])"
   ]
  },
  {
   "cell_type": "markdown",
   "id": "88c54c09",
   "metadata": {},
   "source": [
    "The NetCDF time format requires the time to be encoded as number of milliseconds since a time of origin. In our case the time of origin is `1970-01-01` as indicated in `configs.ipynb` `CONFIFS['units']['time']` dictionary."
   ]
  },
  {
   "cell_type": "markdown",
   "id": "57b38397",
   "metadata": {},
   "source": [
    "`EncodeTimeCB` converts the HELCOM `time` format to the MARIS NetCDF `time` format."
   ]
  },
  {
   "cell_type": "code",
   "execution_count": null,
   "id": "c30bd204",
   "metadata": {},
   "outputs": [
    {
     "name": "stdout",
     "output_type": "stream",
     "text": [
      "                           SEAWATER  BIOTA\n",
      "Number of rows in dfs         19193  15951\n",
      "Number of rows in tfm.dfs     19183  15951\n",
      "Number of rows removed           10      0 \n",
      "\n",
      "['Parse the time format in the dataframe.', 'Encode time as seconds since epoch.', 'Create a dataframe of dropped data. Data included in the `dfs` not in the `tfm`.']\n"
     ]
    }
   ],
   "source": [
    "#| eval: false\n",
    "dfs = load_data(fname_in)\n",
    "tfm = Transformer(dfs, cbs=[ParseTimeCB(),\n",
    "                            EncodeTimeCB(),\n",
    "                            CompareDfsAndTfmCB(dfs)\n",
    "                            ])\n",
    "tfm()\n",
    "print(pd.DataFrame.from_dict(tfm.compare_stats) , '\\n')\n",
    "print(tfm.logs)\n",
    "                            "
   ]
  },
  {
   "cell_type": "markdown",
   "id": "17063a80",
   "metadata": {},
   "source": [
    "## Sanitize value"
   ]
  },
  {
   "cell_type": "markdown",
   "id": "0fe8ab6e",
   "metadata": {},
   "source": [
    "We allocate each column containing measurement values into a single column `VALUE` and remove `NA` where needed."
   ]
  },
  {
   "cell_type": "code",
   "execution_count": null,
   "id": "38538f9f",
   "metadata": {},
   "outputs": [],
   "source": [
    "# | exports\n",
    "class SanitizeValueCB(Callback):\n",
    "    \"Sanitize value by removing blank entries and populating `value` column.\"\n",
    "    def __init__(self, \n",
    "                 value_col: str='Activity or MDA' # Column name to sanitize\n",
    "                 ):\n",
    "        fc.store_attr()\n",
    "\n",
    "    def __call__(self, tfm):\n",
    "        for df in tfm.dfs.values():\n",
    "            df.dropna(subset=[self.value_col], inplace=True)\n",
    "            df['VALUE'] = df[self.value_col]"
   ]
  },
  {
   "cell_type": "code",
   "execution_count": null,
   "id": "a68ecd5b",
   "metadata": {},
   "outputs": [
    {
     "name": "stdout",
     "output_type": "stream",
     "text": [
      "Example of VALUE column:\n",
      "   VALUE\n",
      "0   0.20\n",
      "1   0.27\n",
      "2   0.26\n",
      "3   0.25\n",
      "4   0.20\n",
      "\n",
      "Comparison stats:\n",
      "                           SEAWATER  BIOTA\n",
      "Number of rows in dfs         19193  15951\n",
      "Number of rows in tfm.dfs     19183  15951\n",
      "Number of rows removed           10      0 \n",
      "\n"
     ]
    }
   ],
   "source": [
    "#|eval: false\n",
    "dfs = load_data(fname_in)\n",
    "tfm = Transformer(dfs, cbs=[SanitizeValueCB(),\n",
    "                            CompareDfsAndTfmCB(dfs)])\n",
    "\n",
    "tfm()\n",
    "\n",
    "print('Example of VALUE column:')\n",
    "print(tfm.dfs['SEAWATER'][['VALUE']].head())\n",
    "print('\\nComparison stats:')\n",
    "print(pd.DataFrame.from_dict(tfm.compare_stats) , '\\n')"
   ]
  },
  {
   "cell_type": "markdown",
   "id": "7c83412b",
   "metadata": {},
   "source": [
    "## Normalize uncertainty"
   ]
  },
  {
   "cell_type": "markdown",
   "id": "13a44f1a",
   "metadata": {},
   "source": [
    "For each sample type in the OSPAR dataset, the reported uncertainty is given as an expanded uncertainty with a coverage factor `𝑘=2`. For further details, refer to the [OSPAR reporting guidelines](https://mcc.jrc.ec.europa.eu/documents/OSPAR/Guidelines_forestimationof_a_%20measurefor_uncertainty_in_OSPARmonitoring.pdf).\n",
    "\n",
    "**Note**: For MARIS the OSPAR uncertainty values are normalized to standard uncertainty with a coverage factor \n",
    "𝑘=1."
   ]
  },
  {
   "cell_type": "markdown",
   "id": "97a933ab",
   "metadata": {},
   "source": [
    "`NormalizeUncCB` callback normalizes the uncertainty using the following `lambda` function:"
   ]
  },
  {
   "cell_type": "code",
   "execution_count": null,
   "id": "d6c84351",
   "metadata": {},
   "outputs": [],
   "source": [
    "#| exports\n",
    "unc_exp2stan = lambda df, unc_col: df[unc_col] / 2"
   ]
  },
  {
   "cell_type": "code",
   "execution_count": null,
   "id": "ecb2866d",
   "metadata": {},
   "outputs": [],
   "source": [
    "#| exports\n",
    "class NormalizeUncCB(Callback):\n",
    "    \"\"\"Normalize uncertainty values in DataFrames.\"\"\"\n",
    "    def __init__(self, \n",
    "                 col_unc: str='Uncertainty', # Column name to normalize\n",
    "                 fn_convert_unc: Callable=unc_exp2stan, # Function correcting coverage factor\n",
    "                 ): \n",
    "        fc.store_attr()\n",
    "\n",
    "    def __call__(self, tfm):\n",
    "        for df in tfm.dfs.values():\n",
    "            df['UNCERTAINTY'] = self.fn_convert_unc(df, self.col_unc)"
   ]
  },
  {
   "cell_type": "code",
   "execution_count": null,
   "id": "76a18010",
   "metadata": {},
   "outputs": [
    {
     "name": "stdout",
     "output_type": "stream",
     "text": [
      "\n",
      "SEAWATER:\n",
      "   VALUE  UNCERTAINTY\n",
      "0   0.20          NaN\n",
      "1   0.27          NaN\n",
      "2   0.26          NaN\n",
      "3   0.25          NaN\n",
      "4   0.20          NaN\n",
      "\n",
      "BIOTA:\n",
      "      VALUE  UNCERTAINTY\n",
      "0  0.326416          NaN\n",
      "1  0.442704          NaN\n",
      "2  0.412989          NaN\n",
      "3  0.202768          NaN\n",
      "4  0.652833          NaN\n"
     ]
    }
   ],
   "source": [
    "#|eval: false\n",
    "dfs = load_data(fname_in)\n",
    "tfm = Transformer(dfs, cbs=[\n",
    "        SanitizeValueCB(),               \n",
    "        NormalizeUncCB()\n",
    "    ])\n",
    "tfm()\n",
    "\n",
    "for grp in ['SEAWATER', 'BIOTA']:\n",
    "    print(f'\\n{grp}:')\n",
    "    print(tfm.dfs[grp][['VALUE', 'UNCERTAINTY']].head())"
   ]
  },
  {
   "cell_type": "markdown",
   "id": "48276f91",
   "metadata": {},
   "source": [
    ":::{.callout-tip}\n",
    "\n",
    "**FEEDBACK TO DATA PROVIDER**: `SEAWATER` dataset contains rows where the uncertainty is much greater than the value. Altough this is not impossible, I think it is worth highlighting these entries.\n",
    "\n",
    ":::"
   ]
  },
  {
   "cell_type": "markdown",
   "id": "6cc55ceb",
   "metadata": {},
   "source": [
    "To show situations where the uncertainty is much greater than the value we will calcualte the relative uncertainty for the seawater dataset. "
   ]
  },
  {
   "cell_type": "code",
   "execution_count": null,
   "id": "84000c3b",
   "metadata": {},
   "outputs": [],
   "source": [
    "grp='SEAWATER'\n",
    "tfm.dfs[grp]['relative_uncertainty'] = (\n",
    "    # Divide 'uncertainty' by 'value'\n",
    "    (tfm.dfs[grp]['UNCERTAINTY'] / tfm.dfs[grp]['VALUE'])\n",
    "    # Multiply by 100 to convert to percentage\n",
    "    * 100\n",
    ")"
   ]
  },
  {
   "cell_type": "markdown",
   "id": "12b77bf5",
   "metadata": {},
   "source": [
    "Now we will return all rows where the relative uncertainty is greater than 100% for the seawater dataset."
   ]
  },
  {
   "cell_type": "code",
   "execution_count": null,
   "id": "5f5144aa",
   "metadata": {},
   "outputs": [
    {
     "data": {
      "text/html": [
       "<div>\n",
       "<style scoped>\n",
       "    .dataframe tbody tr th:only-of-type {\n",
       "        vertical-align: middle;\n",
       "    }\n",
       "\n",
       "    .dataframe tbody tr th {\n",
       "        vertical-align: top;\n",
       "    }\n",
       "\n",
       "    .dataframe thead th {\n",
       "        text-align: right;\n",
       "    }\n",
       "</style>\n",
       "<table border=\"1\" class=\"dataframe\">\n",
       "  <thead>\n",
       "    <tr style=\"text-align: right;\">\n",
       "      <th></th>\n",
       "      <th>ID</th>\n",
       "      <th>Contracting Party</th>\n",
       "      <th>Nuclide</th>\n",
       "      <th>Value type</th>\n",
       "      <th>Activity or MDA</th>\n",
       "      <th>Uncertainty</th>\n",
       "      <th>Unit</th>\n",
       "      <th>relative_uncertainty</th>\n",
       "    </tr>\n",
       "  </thead>\n",
       "  <tbody>\n",
       "    <tr>\n",
       "      <th>969</th>\n",
       "      <td>11075</td>\n",
       "      <td>United Kingdom</td>\n",
       "      <td>137Cs</td>\n",
       "      <td>=</td>\n",
       "      <td>0.0028</td>\n",
       "      <td>0.3276</td>\n",
       "      <td>Bq/l</td>\n",
       "      <td>5850.0</td>\n",
       "    </tr>\n",
       "    <tr>\n",
       "      <th>971</th>\n",
       "      <td>11077</td>\n",
       "      <td>United Kingdom</td>\n",
       "      <td>137Cs</td>\n",
       "      <td>=</td>\n",
       "      <td>0.0029</td>\n",
       "      <td>0.3364</td>\n",
       "      <td>Bq/l</td>\n",
       "      <td>5800.0</td>\n",
       "    </tr>\n",
       "    <tr>\n",
       "      <th>973</th>\n",
       "      <td>11079</td>\n",
       "      <td>United Kingdom</td>\n",
       "      <td>137Cs</td>\n",
       "      <td>=</td>\n",
       "      <td>0.0025</td>\n",
       "      <td>0.3325</td>\n",
       "      <td>Bq/l</td>\n",
       "      <td>6650.0</td>\n",
       "    </tr>\n",
       "    <tr>\n",
       "      <th>975</th>\n",
       "      <td>11081</td>\n",
       "      <td>United Kingdom</td>\n",
       "      <td>137Cs</td>\n",
       "      <td>=</td>\n",
       "      <td>0.0025</td>\n",
       "      <td>0.3450</td>\n",
       "      <td>Bq/l</td>\n",
       "      <td>6900.0</td>\n",
       "    </tr>\n",
       "    <tr>\n",
       "      <th>977</th>\n",
       "      <td>11083</td>\n",
       "      <td>United Kingdom</td>\n",
       "      <td>137Cs</td>\n",
       "      <td>=</td>\n",
       "      <td>0.0038</td>\n",
       "      <td>0.3344</td>\n",
       "      <td>Bq/l</td>\n",
       "      <td>4400.0</td>\n",
       "    </tr>\n",
       "  </tbody>\n",
       "</table>\n",
       "</div>"
      ],
      "text/plain": [
       "        ID Contracting Party Nuclide Value type  Activity or MDA  Uncertainty  \\\n",
       "969  11075    United Kingdom   137Cs          =           0.0028       0.3276   \n",
       "971  11077    United Kingdom   137Cs          =           0.0029       0.3364   \n",
       "973  11079    United Kingdom   137Cs          =           0.0025       0.3325   \n",
       "975  11081    United Kingdom   137Cs          =           0.0025       0.3450   \n",
       "977  11083    United Kingdom   137Cs          =           0.0038       0.3344   \n",
       "\n",
       "     Unit  relative_uncertainty  \n",
       "969  Bq/l                5850.0  \n",
       "971  Bq/l                5800.0  \n",
       "973  Bq/l                6650.0  \n",
       "975  Bq/l                6900.0  \n",
       "977  Bq/l                4400.0  "
      ]
     },
     "execution_count": null,
     "metadata": {},
     "output_type": "execute_result"
    }
   ],
   "source": [
    "threshold = 100\n",
    "cols_to_show=['ID','Contracting Party','Nuclide', 'Value type','Activity or MDA', 'Uncertainty', 'Unit', 'relative_uncertainty' ]\n",
    "tfm.dfs[grp][cols_to_show][tfm.dfs[grp]['relative_uncertainty'] > threshold].head()\n"
   ]
  },
  {
   "cell_type": "markdown",
   "id": "1bf1eea9",
   "metadata": {},
   "source": [
    ":::{.callout-tip}\n",
    "\n",
    "**FEEDBACK TO DATA PROVIDER**: `BIOTA` dataset contains rows where the uncertainty is much greater than the value. Altough this is not impossible, I think it is worth highlighting these entries.\n",
    "\n",
    ":::"
   ]
  },
  {
   "cell_type": "markdown",
   "id": "2294a34c",
   "metadata": {},
   "source": [
    "Include the relative uncertainty for the biota dataset. "
   ]
  },
  {
   "cell_type": "code",
   "execution_count": null,
   "id": "010c88eb",
   "metadata": {},
   "outputs": [],
   "source": [
    "grp='BIOTA'\n",
    "tfm.dfs[grp]['relative_uncertainty'] = (\n",
    "    # Divide 'uncertainty' by 'value'\n",
    "    (tfm.dfs[grp]['UNCERTAINTY'] / tfm.dfs[grp]['VALUE'])\n",
    "    # Multiply by 100 to convert to percentage\n",
    "    * 100\n",
    ")"
   ]
  },
  {
   "cell_type": "markdown",
   "id": "a43c0d71",
   "metadata": {},
   "source": [
    "Return all rows where the relative uncertainty is greater than 100% for the biota dataset.."
   ]
  },
  {
   "cell_type": "code",
   "execution_count": null,
   "id": "5d211075",
   "metadata": {},
   "outputs": [
    {
     "data": {
      "text/html": [
       "<div>\n",
       "<style scoped>\n",
       "    .dataframe tbody tr th:only-of-type {\n",
       "        vertical-align: middle;\n",
       "    }\n",
       "\n",
       "    .dataframe tbody tr th {\n",
       "        vertical-align: top;\n",
       "    }\n",
       "\n",
       "    .dataframe thead th {\n",
       "        text-align: right;\n",
       "    }\n",
       "</style>\n",
       "<table border=\"1\" class=\"dataframe\">\n",
       "  <thead>\n",
       "    <tr style=\"text-align: right;\">\n",
       "      <th></th>\n",
       "      <th>ID</th>\n",
       "      <th>Contracting Party</th>\n",
       "      <th>Nuclide</th>\n",
       "      <th>Value type</th>\n",
       "      <th>Activity or MDA</th>\n",
       "      <th>Uncertainty</th>\n",
       "      <th>Unit</th>\n",
       "      <th>relative_uncertainty</th>\n",
       "    </tr>\n",
       "  </thead>\n",
       "  <tbody>\n",
       "    <tr>\n",
       "      <th>2338</th>\n",
       "      <td>23895</td>\n",
       "      <td>Belgium</td>\n",
       "      <td>226Ra</td>\n",
       "      <td>=</td>\n",
       "      <td>1.4000</td>\n",
       "      <td>118.000</td>\n",
       "      <td>Bq/kg f.w.</td>\n",
       "      <td>4214.285714</td>\n",
       "    </tr>\n",
       "    <tr>\n",
       "      <th>2693</th>\n",
       "      <td>29984</td>\n",
       "      <td>Belgium</td>\n",
       "      <td>137Cs</td>\n",
       "      <td>=</td>\n",
       "      <td>0.1690</td>\n",
       "      <td>27.000</td>\n",
       "      <td>Bq/kg f.w.</td>\n",
       "      <td>7988.165680</td>\n",
       "    </tr>\n",
       "    <tr>\n",
       "      <th>3027</th>\n",
       "      <td>35011</td>\n",
       "      <td>Belgium</td>\n",
       "      <td>137Cs</td>\n",
       "      <td>=</td>\n",
       "      <td>0.1619</td>\n",
       "      <td>66.000</td>\n",
       "      <td>Bq/kg f.w.</td>\n",
       "      <td>20382.952440</td>\n",
       "    </tr>\n",
       "    <tr>\n",
       "      <th>4442</th>\n",
       "      <td>49221</td>\n",
       "      <td>Sweden</td>\n",
       "      <td>137Cs</td>\n",
       "      <td>=</td>\n",
       "      <td>0.2950</td>\n",
       "      <td>2.740</td>\n",
       "      <td>Bq/kg f.w.</td>\n",
       "      <td>464.406780</td>\n",
       "    </tr>\n",
       "    <tr>\n",
       "      <th>4447</th>\n",
       "      <td>49226</td>\n",
       "      <td>Sweden</td>\n",
       "      <td>137Cs</td>\n",
       "      <td>=</td>\n",
       "      <td>0.3270</td>\n",
       "      <td>1.468</td>\n",
       "      <td>Bq/kg f.w.</td>\n",
       "      <td>224.464832</td>\n",
       "    </tr>\n",
       "  </tbody>\n",
       "</table>\n",
       "</div>"
      ],
      "text/plain": [
       "         ID Contracting Party Nuclide Value type  Activity or MDA  \\\n",
       "2338  23895           Belgium   226Ra          =           1.4000   \n",
       "2693  29984           Belgium   137Cs          =           0.1690   \n",
       "3027  35011           Belgium   137Cs          =           0.1619   \n",
       "4442  49221            Sweden   137Cs          =           0.2950   \n",
       "4447  49226            Sweden   137Cs          =           0.3270   \n",
       "\n",
       "      Uncertainty        Unit  relative_uncertainty  \n",
       "2338      118.000  Bq/kg f.w.           4214.285714  \n",
       "2693       27.000  Bq/kg f.w.           7988.165680  \n",
       "3027       66.000  Bq/kg f.w.          20382.952440  \n",
       "4442        2.740  Bq/kg f.w.            464.406780  \n",
       "4447        1.468  Bq/kg f.w.            224.464832  "
      ]
     },
     "execution_count": null,
     "metadata": {},
     "output_type": "execute_result"
    }
   ],
   "source": [
    "threshold = 100\n",
    "cols_to_show=['ID','Contracting Party','Nuclide', 'Value type','Activity or MDA', 'Uncertainty', 'Unit', 'relative_uncertainty' ]\n",
    "tfm.dfs[grp][cols_to_show][tfm.dfs[grp]['relative_uncertainty'] > threshold].head()"
   ]
  },
  {
   "cell_type": "markdown",
   "id": "0bea762d",
   "metadata": {},
   "source": [
    "## Remap units"
   ]
  },
  {
   "cell_type": "markdown",
   "id": "993c4b57",
   "metadata": {},
   "source": [
    ":::{.callout-tip}\n",
    "\n",
    "**FEEDBACK TO DATA PROVIDER**: It would be easier to work with the units if they were standardized. The units are not consistent across the dataset, for instance `BQ/L`, `Bq/l` and `Bq/L` are used interchangeably.\n",
    "\n",
    ":::\n"
   ]
  },
  {
   "cell_type": "markdown",
   "id": "9768bedf",
   "metadata": {},
   "source": [
    ":::{.callout-tip}\n",
    "\n",
    "**FEEDBACK TO DATA PROVIDER**: The `Unit` column contains `NaN` values for the `SEAWATER` dataset, as shown below.\n",
    ":::\n"
   ]
  },
  {
   "cell_type": "code",
   "execution_count": null,
   "id": "6f4efa8e",
   "metadata": {},
   "outputs": [
    {
     "data": {
      "text/html": [
       "<div>\n",
       "<style scoped>\n",
       "    .dataframe tbody tr th:only-of-type {\n",
       "        vertical-align: middle;\n",
       "    }\n",
       "\n",
       "    .dataframe tbody tr th {\n",
       "        vertical-align: top;\n",
       "    }\n",
       "\n",
       "    .dataframe thead th {\n",
       "        text-align: right;\n",
       "    }\n",
       "</style>\n",
       "<table border=\"1\" class=\"dataframe\">\n",
       "  <thead>\n",
       "    <tr style=\"text-align: right;\">\n",
       "      <th></th>\n",
       "      <th>ID</th>\n",
       "      <th>Contracting Party</th>\n",
       "      <th>RSC Sub-division</th>\n",
       "      <th>Station ID</th>\n",
       "      <th>Sample ID</th>\n",
       "      <th>LatD</th>\n",
       "      <th>LatM</th>\n",
       "      <th>LatS</th>\n",
       "      <th>LatDir</th>\n",
       "      <th>LongD</th>\n",
       "      <th>...</th>\n",
       "      <th>LongDir</th>\n",
       "      <th>Sample type</th>\n",
       "      <th>Sampling depth</th>\n",
       "      <th>Sampling date</th>\n",
       "      <th>Nuclide</th>\n",
       "      <th>Value type</th>\n",
       "      <th>Activity or MDA</th>\n",
       "      <th>Uncertainty</th>\n",
       "      <th>Unit</th>\n",
       "      <th>Data provider</th>\n",
       "    </tr>\n",
       "  </thead>\n",
       "  <tbody>\n",
       "    <tr>\n",
       "      <th>16161</th>\n",
       "      <td>120369</td>\n",
       "      <td>Ireland</td>\n",
       "      <td>1.0</td>\n",
       "      <td>Salthill</td>\n",
       "      <td>NaN</td>\n",
       "      <td>53</td>\n",
       "      <td>15.0</td>\n",
       "      <td>40.0</td>\n",
       "      <td>N</td>\n",
       "      <td>9</td>\n",
       "      <td>...</td>\n",
       "      <td>W</td>\n",
       "      <td>NaN</td>\n",
       "      <td>NaN</td>\n",
       "      <td>NaN</td>\n",
       "      <td>NaN</td>\n",
       "      <td>NaN</td>\n",
       "      <td>NaN</td>\n",
       "      <td>NaN</td>\n",
       "      <td>NaN</td>\n",
       "      <td>NaN</td>\n",
       "    </tr>\n",
       "    <tr>\n",
       "      <th>16162</th>\n",
       "      <td>120370</td>\n",
       "      <td>Ireland</td>\n",
       "      <td>1.0</td>\n",
       "      <td>Woodstown</td>\n",
       "      <td>NaN</td>\n",
       "      <td>52</td>\n",
       "      <td>11.0</td>\n",
       "      <td>55.0</td>\n",
       "      <td>N</td>\n",
       "      <td>6</td>\n",
       "      <td>...</td>\n",
       "      <td>W</td>\n",
       "      <td>NaN</td>\n",
       "      <td>NaN</td>\n",
       "      <td>NaN</td>\n",
       "      <td>NaN</td>\n",
       "      <td>NaN</td>\n",
       "      <td>NaN</td>\n",
       "      <td>NaN</td>\n",
       "      <td>NaN</td>\n",
       "      <td>NaN</td>\n",
       "    </tr>\n",
       "    <tr>\n",
       "      <th>16586</th>\n",
       "      <td>120363</td>\n",
       "      <td>Ireland</td>\n",
       "      <td>4.0</td>\n",
       "      <td>N1</td>\n",
       "      <td>NaN</td>\n",
       "      <td>53</td>\n",
       "      <td>25.0</td>\n",
       "      <td>0.0</td>\n",
       "      <td>N</td>\n",
       "      <td>6</td>\n",
       "      <td>...</td>\n",
       "      <td>W</td>\n",
       "      <td>NaN</td>\n",
       "      <td>NaN</td>\n",
       "      <td>NaN</td>\n",
       "      <td>NaN</td>\n",
       "      <td>NaN</td>\n",
       "      <td>NaN</td>\n",
       "      <td>NaN</td>\n",
       "      <td>NaN</td>\n",
       "      <td>NaN</td>\n",
       "    </tr>\n",
       "    <tr>\n",
       "      <th>19188</th>\n",
       "      <td>120364</td>\n",
       "      <td>Ireland</td>\n",
       "      <td>4.0</td>\n",
       "      <td>N2</td>\n",
       "      <td>NaN</td>\n",
       "      <td>53</td>\n",
       "      <td>36.0</td>\n",
       "      <td>0.0</td>\n",
       "      <td>N</td>\n",
       "      <td>5</td>\n",
       "      <td>...</td>\n",
       "      <td>W</td>\n",
       "      <td>NaN</td>\n",
       "      <td>NaN</td>\n",
       "      <td>NaN</td>\n",
       "      <td>NaN</td>\n",
       "      <td>NaN</td>\n",
       "      <td>NaN</td>\n",
       "      <td>NaN</td>\n",
       "      <td>NaN</td>\n",
       "      <td>NaN</td>\n",
       "    </tr>\n",
       "    <tr>\n",
       "      <th>19189</th>\n",
       "      <td>120365</td>\n",
       "      <td>Ireland</td>\n",
       "      <td>4.0</td>\n",
       "      <td>N3</td>\n",
       "      <td>NaN</td>\n",
       "      <td>53</td>\n",
       "      <td>44.0</td>\n",
       "      <td>0.0</td>\n",
       "      <td>N</td>\n",
       "      <td>5</td>\n",
       "      <td>...</td>\n",
       "      <td>W</td>\n",
       "      <td>NaN</td>\n",
       "      <td>NaN</td>\n",
       "      <td>NaN</td>\n",
       "      <td>NaN</td>\n",
       "      <td>NaN</td>\n",
       "      <td>NaN</td>\n",
       "      <td>NaN</td>\n",
       "      <td>NaN</td>\n",
       "      <td>NaN</td>\n",
       "    </tr>\n",
       "  </tbody>\n",
       "</table>\n",
       "<p>5 rows × 22 columns</p>\n",
       "</div>"
      ],
      "text/plain": [
       "           ID Contracting Party  RSC Sub-division Station ID Sample ID  LatD  \\\n",
       "16161  120369           Ireland               1.0   Salthill       NaN    53   \n",
       "16162  120370           Ireland               1.0  Woodstown       NaN    52   \n",
       "16586  120363           Ireland               4.0         N1       NaN    53   \n",
       "19188  120364           Ireland               4.0         N2       NaN    53   \n",
       "19189  120365           Ireland               4.0         N3       NaN    53   \n",
       "\n",
       "       LatM  LatS LatDir  LongD  ...  LongDir  Sample type Sampling depth  \\\n",
       "16161  15.0  40.0      N      9  ...        W          NaN            NaN   \n",
       "16162  11.0  55.0      N      6  ...        W          NaN            NaN   \n",
       "16586  25.0   0.0      N      6  ...        W          NaN            NaN   \n",
       "19188  36.0   0.0      N      5  ...        W          NaN            NaN   \n",
       "19189  44.0   0.0      N      5  ...        W          NaN            NaN   \n",
       "\n",
       "      Sampling date  Nuclide Value type Activity or MDA Uncertainty  Unit  \\\n",
       "16161           NaN      NaN        NaN             NaN         NaN   NaN   \n",
       "16162           NaN      NaN        NaN             NaN         NaN   NaN   \n",
       "16586           NaN      NaN        NaN             NaN         NaN   NaN   \n",
       "19188           NaN      NaN        NaN             NaN         NaN   NaN   \n",
       "19189           NaN      NaN        NaN             NaN         NaN   NaN   \n",
       "\n",
       "       Data provider  \n",
       "16161            NaN  \n",
       "16162            NaN  \n",
       "16586            NaN  \n",
       "19188            NaN  \n",
       "19189            NaN  \n",
       "\n",
       "[5 rows x 22 columns]"
      ]
     },
     "execution_count": null,
     "metadata": {},
     "output_type": "execute_result"
    }
   ],
   "source": [
    "dfs['SEAWATER'][dfs['SEAWATER']['Unit'].isnull()].drop(columns=['Measurement Comment','Sample Comment','Reference Comment']).head()"
   ]
  },
  {
   "cell_type": "markdown",
   "id": "097b8326",
   "metadata": {},
   "source": [
    "Let's inspect the unique units used by OSPAR:"
   ]
  },
  {
   "cell_type": "code",
   "execution_count": null,
   "id": "d436ba0a",
   "metadata": {},
   "outputs": [
    {
     "data": {
      "text/html": [
       "<div>\n",
       "<style scoped>\n",
       "    .dataframe tbody tr th:only-of-type {\n",
       "        vertical-align: middle;\n",
       "    }\n",
       "\n",
       "    .dataframe tbody tr th {\n",
       "        vertical-align: top;\n",
       "    }\n",
       "\n",
       "    .dataframe thead th {\n",
       "        text-align: right;\n",
       "    }\n",
       "</style>\n",
       "<table border=\"1\" class=\"dataframe\">\n",
       "  <thead>\n",
       "    <tr style=\"text-align: right;\">\n",
       "      <th></th>\n",
       "      <th>index</th>\n",
       "      <th>value</th>\n",
       "    </tr>\n",
       "  </thead>\n",
       "  <tbody>\n",
       "    <tr>\n",
       "      <th>0</th>\n",
       "      <td>0</td>\n",
       "      <td>NaN</td>\n",
       "    </tr>\n",
       "    <tr>\n",
       "      <th>1</th>\n",
       "      <td>1</td>\n",
       "      <td>Bq/l</td>\n",
       "    </tr>\n",
       "    <tr>\n",
       "      <th>2</th>\n",
       "      <td>2</td>\n",
       "      <td>Bq/L</td>\n",
       "    </tr>\n",
       "    <tr>\n",
       "      <th>3</th>\n",
       "      <td>3</td>\n",
       "      <td>Bq/kg f.w.</td>\n",
       "    </tr>\n",
       "    <tr>\n",
       "      <th>4</th>\n",
       "      <td>4</td>\n",
       "      <td>BQ/L</td>\n",
       "    </tr>\n",
       "  </tbody>\n",
       "</table>\n",
       "</div>"
      ],
      "text/plain": [
       "   index       value\n",
       "0      0         NaN\n",
       "1      1        Bq/l\n",
       "2      2        Bq/L\n",
       "3      3  Bq/kg f.w.\n",
       "4      4        BQ/L"
      ]
     },
     "execution_count": null,
     "metadata": {},
     "output_type": "execute_result"
    }
   ],
   "source": [
    "get_unique_across_dfs(dfs, col_name='Unit', as_df=True)"
   ]
  },
  {
   "cell_type": "markdown",
   "id": "58457700",
   "metadata": {},
   "source": [
    "We define unit renaming rules for OSPAR dataset:"
   ]
  },
  {
   "cell_type": "code",
   "execution_count": null,
   "id": "8dc50af9",
   "metadata": {},
   "outputs": [],
   "source": [
    "#| export\n",
    "# Define unit names renaming rules\n",
    "renaming_unit_rules = {'Bq/l': 1, #'Bq/m3'\n",
    "                       'Bq/L': 1,\n",
    "                       'BQ/L': 1,\n",
    "                       'Bq/kg f.w.': 5, # Bq/kgw\n",
    "                       } "
   ]
  },
  {
   "cell_type": "code",
   "execution_count": null,
   "id": "a4e4e652",
   "metadata": {},
   "outputs": [],
   "source": [
    "#| exports\n",
    "class RemapUnitCB(Callback):\n",
    "    \"\"\"Callback to update DataFrame 'UNIT' columns based on a lookup table.\"\"\"\n",
    "\n",
    "    def __init__(self, lut: Dict[str, str]):\n",
    "        fc.store_attr('lut')  # Store the lookup table as an attribute\n",
    "\n",
    "    def __call__(self, tfm: 'Transformer'):\n",
    "        for grp, df in tfm.dfs.items():\n",
    "            #if grp == 'seawater':\n",
    "            #    self._apply_default_units(df)\n",
    "            self._print_na_units(df)\n",
    "            self._update_units(df)\n",
    "\n",
    "    def _apply_default_units(self, df: pd.DataFrame):\n",
    "        df.loc[df['Unit'].isnull(), 'Unit'] = 'Bq/l'\n",
    "\n",
    "    def _print_na_units(self, df: pd.DataFrame):\n",
    "        na_count = df['Unit'].isnull().sum()\n",
    "        if na_count > 0:\n",
    "            print(f\"Number of rows with NaN in 'Unit' column: {na_count}\")\n",
    "\n",
    "    def _update_units(self, df: pd.DataFrame):\n",
    "        df['UNIT'] = df['Unit'].apply(lambda x: self.lut.get(x, 'Unknown'))"
   ]
  },
  {
   "cell_type": "code",
   "execution_count": null,
   "id": "8d80886f",
   "metadata": {},
   "outputs": [
    {
     "name": "stdout",
     "output_type": "stream",
     "text": [
      "                           SEAWATER  BIOTA\n",
      "Number of rows in dfs         19193  15951\n",
      "Number of rows in tfm.dfs     19183  15951\n",
      "Number of rows removed           10      0 \n",
      "\n",
      "Unit unique values:\n",
      "BIOTA: [5]\n",
      "SEAWATER: [1]\n"
     ]
    }
   ],
   "source": [
    "#|eval: false\n",
    "dfs = load_data(fname_in)\n",
    "tfm = Transformer(dfs, cbs=[SanitizeValueCB(), # Remove blank value entries (also removes NaN values in Unit column) \n",
    "                            RemapUnitCB(renaming_unit_rules),\n",
    "                            CompareDfsAndTfmCB(dfs)\n",
    "                            ])\n",
    "tfm()\n",
    "\n",
    "print(pd.DataFrame.from_dict(tfm.compare_stats) , '\\n')\n",
    "print('Unit unique values:')\n",
    "for grp in ['BIOTA', 'SEAWATER']:\n",
    "    print(f\"{grp}: {tfm.dfs[grp]['UNIT'].unique()}\")"
   ]
  },
  {
   "cell_type": "markdown",
   "id": "d4e48cad",
   "metadata": {},
   "source": [
    "## Remap detection limit"
   ]
  },
  {
   "cell_type": "markdown",
   "id": "424cc918",
   "metadata": {},
   "source": [
    ":::{.callout-tip}\n",
    "\n",
    "**FEEDBACK TO DATA PROVIDER**: The `Value type` column contains many `nan` values, see below.\n",
    ":::"
   ]
  },
  {
   "cell_type": "code",
   "execution_count": null,
   "id": "1be2cb84",
   "metadata": {},
   "outputs": [
    {
     "name": "stdout",
     "output_type": "stream",
     "text": [
      "Number of NaN 'Value type' entries in 'SEAWATER': 64\n",
      "Number of NaN 'Value type' entries in 'BIOTA': 23\n"
     ]
    }
   ],
   "source": [
    "# Count the number of NaN entries in the 'Value type' column for 'SEAWATER'\n",
    "na_count_seawater = dfs['SEAWATER']['Value type'].isnull().sum()\n",
    "print(f\"Number of NaN 'Value type' entries in 'SEAWATER': {na_count_seawater}\")\n",
    "\n",
    "# Count the number of NaN entries in the 'Value type' column for 'BIOTA'\n",
    "na_count_biota = dfs['BIOTA']['Value type'].isnull().sum()\n",
    "print(f\"Number of NaN 'Value type' entries in 'BIOTA': {na_count_biota}\")"
   ]
  },
  {
   "cell_type": "markdown",
   "id": "59676c46",
   "metadata": {},
   "source": [
    "In the OSPAR dataset the detection limit is encoded as `<`  in the `Value type` column. If a value is `<` then the `Activity or MDA` column contains the detection limit value. If the `Value type` is `=` then the `Activity or MDA` column contains the measurement value.\n",
    "\n",
    "\n",
    "Lets review the `Value type` column values for the OSPAR dataset:"
   ]
  },
  {
   "cell_type": "code",
   "execution_count": null,
   "id": "bd15b4fe",
   "metadata": {},
   "outputs": [
    {
     "name": "stdout",
     "output_type": "stream",
     "text": [
      "SEAWATER:\n",
      "['<' '=' nan]\n",
      "BIOTA:\n",
      "['<' '=' nan]\n"
     ]
    }
   ],
   "source": [
    "for grp in dfs.keys():\n",
    "    print(f'{grp}:')\n",
    "    print(tfm.dfs[grp]['Value type'].unique())\n"
   ]
  },
  {
   "cell_type": "markdown",
   "id": "878a9ed5",
   "metadata": {},
   "source": [
    "Detection limits are encoded as follows in MARIS:"
   ]
  },
  {
   "cell_type": "code",
   "execution_count": null,
   "id": "b0b1ce6f",
   "metadata": {},
   "outputs": [
    {
     "data": {
      "text/html": [
       "<div>\n",
       "<style scoped>\n",
       "    .dataframe tbody tr th:only-of-type {\n",
       "        vertical-align: middle;\n",
       "    }\n",
       "\n",
       "    .dataframe tbody tr th {\n",
       "        vertical-align: top;\n",
       "    }\n",
       "\n",
       "    .dataframe thead th {\n",
       "        text-align: right;\n",
       "    }\n",
       "</style>\n",
       "<table border=\"1\" class=\"dataframe\">\n",
       "  <thead>\n",
       "    <tr style=\"text-align: right;\">\n",
       "      <th></th>\n",
       "      <th>id</th>\n",
       "      <th>name</th>\n",
       "      <th>name_sanitized</th>\n",
       "    </tr>\n",
       "  </thead>\n",
       "  <tbody>\n",
       "    <tr>\n",
       "      <th>0</th>\n",
       "      <td>-1</td>\n",
       "      <td>Not applicable</td>\n",
       "      <td>Not applicable</td>\n",
       "    </tr>\n",
       "    <tr>\n",
       "      <th>1</th>\n",
       "      <td>0</td>\n",
       "      <td>Not Available</td>\n",
       "      <td>Not available</td>\n",
       "    </tr>\n",
       "    <tr>\n",
       "      <th>2</th>\n",
       "      <td>1</td>\n",
       "      <td>=</td>\n",
       "      <td>Detected value</td>\n",
       "    </tr>\n",
       "    <tr>\n",
       "      <th>3</th>\n",
       "      <td>2</td>\n",
       "      <td>&lt;</td>\n",
       "      <td>Detection limit</td>\n",
       "    </tr>\n",
       "    <tr>\n",
       "      <th>4</th>\n",
       "      <td>3</td>\n",
       "      <td>ND</td>\n",
       "      <td>Not detected</td>\n",
       "    </tr>\n",
       "    <tr>\n",
       "      <th>5</th>\n",
       "      <td>4</td>\n",
       "      <td>DE</td>\n",
       "      <td>Derived</td>\n",
       "    </tr>\n",
       "  </tbody>\n",
       "</table>\n",
       "</div>"
      ],
      "text/plain": [
       "   id            name   name_sanitized\n",
       "0  -1  Not applicable   Not applicable\n",
       "1   0   Not Available    Not available\n",
       "2   1               =   Detected value\n",
       "3   2               <  Detection limit\n",
       "4   3              ND     Not detected\n",
       "5   4              DE          Derived"
      ]
     },
     "execution_count": null,
     "metadata": {},
     "output_type": "execute_result"
    }
   ],
   "source": [
    "#| eval: false\n",
    "pd.read_excel(detection_limit_lut_path())"
   ]
  },
  {
   "cell_type": "code",
   "execution_count": null,
   "id": "b099b147",
   "metadata": {},
   "outputs": [],
   "source": [
    "#| exports\n",
    "lut_dl = lambda: pd.read_excel(detection_limit_lut_path(), usecols=['name','id']).set_index('name').to_dict()['id']"
   ]
  },
  {
   "cell_type": "code",
   "execution_count": null,
   "id": "e448bf2b",
   "metadata": {},
   "outputs": [],
   "source": [
    "#| exports\n",
    "coi_dl = {'SEAWATER' : {'DL' : 'Value type'},\n",
    "          'BIOTA':  {'DL' : 'Value type'}\n",
    "          }"
   ]
  },
  {
   "cell_type": "code",
   "execution_count": null,
   "id": "80d93d13",
   "metadata": {},
   "outputs": [],
   "source": [
    "# | exports\n",
    "class RemapDetectionLimitCB(Callback):\n",
    "    \"Remap value type to MARIS format.\"\n",
    "    \n",
    "    def __init__(self, \n",
    "                 coi: dict,  # Column configuration dictionary\n",
    "                 fn_lut: Callable  # Lookup table dictionary\n",
    "                ):\n",
    "        fc.store_attr()\n",
    "\n",
    "    def __call__(self, tfm: Transformer):\n",
    "        \n",
    "        lut = self.fn_lut()\n",
    "        \n",
    "        \"Remap detection limits in the DataFrames using the lookup table.\"\n",
    "        for grp in tfm.dfs:\n",
    "            df = tfm.dfs[grp]\n",
    "            self._update_detection_limit(df, grp, lut)\n",
    "\n",
    "    def _update_detection_limit(self, \n",
    "                                df: pd.DataFrame,  # The DataFrame to modify\n",
    "                                grp: str,  # The group name to get the column configuration\n",
    "                                lut: dict  # The lookup table dictionary\n",
    "                               ) -> None:\n",
    "        \"Update detection limit column in the DataFrame based on lookup table and rules.\"\n",
    "        \n",
    "        # Access column names from coi_dl\n",
    "        detection_col = self.coi[grp]['DL']   \n",
    "                \n",
    "        # Initialize detection limit column\n",
    "        df['DL'] = df[detection_col]\n",
    "        \n",
    "        # Set detection limits based on conditions\n",
    "        self._set_detection_limits(df, lut)\n",
    "\n",
    "    def _set_detection_limits(self, df: pd.DataFrame, lut: dict) -> None:\n",
    "        \"Set detection limits based on value and uncertainty columns.\"\n",
    "        \n",
    "        # Condition for setting '='\n",
    "        condition_eq = (df['VALUE'].notna() & \n",
    "                        df['UNCERTAINTY'].notna() & \n",
    "                        ~df['DL'].isin(lut.keys()))\n",
    "        \n",
    "        df.loc[condition_eq, 'DL'] = '='\n",
    "\n",
    "        # Set 'Not Available' for unmatched detection limits\n",
    "        df.loc[~df['DL'].isin(lut.keys()), 'DL'] = 'Not Available'\n",
    "        \n",
    "        # Perform lookup to map detection limits\n",
    "        df['DL'] = df['DL'].map(lut)"
   ]
  },
  {
   "cell_type": "code",
   "execution_count": null,
   "id": "e957e15a",
   "metadata": {},
   "outputs": [
    {
     "name": "stdout",
     "output_type": "stream",
     "text": [
      "BIOTA: [2 1]\n",
      "SEAWATER: [2 1]\n"
     ]
    }
   ],
   "source": [
    "#| eval: false\n",
    "dfs = load_data(fname_in)\n",
    "tfm = Transformer(dfs, cbs=[SanitizeValueCB(),\n",
    "                            NormalizeUncCB(),                  \n",
    "                            RemapUnitCB(renaming_unit_rules),\n",
    "                            RemapDetectionLimitCB(coi_dl, lut_dl)])\n",
    "tfm()\n",
    "for grp in ['BIOTA', 'SEAWATER']:\n",
    "    print(f\"{grp}: {tfm.dfs[grp]['DL'].unique()}\")"
   ]
  },
  {
   "cell_type": "markdown",
   "id": "96d25e19",
   "metadata": {},
   "source": [
    "## Remap Biota species"
   ]
  },
  {
   "cell_type": "markdown",
   "id": "6386763d",
   "metadata": {},
   "source": [
    "The OSPAR dataset contains biota species information in the `Species` column of the biota dataframe. To ensure consistency with MARIS standards, we need to remap these species names. We'll use a same approach to the one we employed for standardizing nuclide names:\n"
   ]
  },
  {
   "cell_type": "markdown",
   "id": "20d7aae3",
   "metadata": {},
   "source": [
    "We first inspect unique `Species` values used by OSPAR:"
   ]
  },
  {
   "cell_type": "code",
   "execution_count": null,
   "id": "e9dcc466",
   "metadata": {},
   "outputs": [
    {
     "data": {
      "text/html": [
       "<div>\n",
       "<style scoped>\n",
       "    .dataframe tbody tr th:only-of-type {\n",
       "        vertical-align: middle;\n",
       "    }\n",
       "\n",
       "    .dataframe tbody tr th {\n",
       "        vertical-align: top;\n",
       "    }\n",
       "\n",
       "    .dataframe thead th {\n",
       "        text-align: right;\n",
       "    }\n",
       "</style>\n",
       "<table border=\"1\" class=\"dataframe\">\n",
       "  <thead>\n",
       "    <tr style=\"text-align: right;\">\n",
       "      <th></th>\n",
       "      <th>index</th>\n",
       "      <th>value</th>\n",
       "    </tr>\n",
       "  </thead>\n",
       "  <tbody>\n",
       "    <tr>\n",
       "      <th>0</th>\n",
       "      <td>0</td>\n",
       "      <td>FUCUS SPP.</td>\n",
       "    </tr>\n",
       "    <tr>\n",
       "      <th>1</th>\n",
       "      <td>1</td>\n",
       "      <td>NaN</td>\n",
       "    </tr>\n",
       "    <tr>\n",
       "      <th>2</th>\n",
       "      <td>2</td>\n",
       "      <td>LITTORINA LITTOREA</td>\n",
       "    </tr>\n",
       "    <tr>\n",
       "      <th>3</th>\n",
       "      <td>3</td>\n",
       "      <td>Melanogrammus aeglefinus</td>\n",
       "    </tr>\n",
       "    <tr>\n",
       "      <th>4</th>\n",
       "      <td>4</td>\n",
       "      <td>MELANOGRAMMUS AEGLEFINUS</td>\n",
       "    </tr>\n",
       "    <tr>\n",
       "      <th>...</th>\n",
       "      <td>...</td>\n",
       "      <td>...</td>\n",
       "    </tr>\n",
       "    <tr>\n",
       "      <th>162</th>\n",
       "      <td>162</td>\n",
       "      <td>Gadus sp.</td>\n",
       "    </tr>\n",
       "    <tr>\n",
       "      <th>163</th>\n",
       "      <td>163</td>\n",
       "      <td>Pleuronectes platessa</td>\n",
       "    </tr>\n",
       "    <tr>\n",
       "      <th>164</th>\n",
       "      <td>164</td>\n",
       "      <td>Gadiculus argenteus</td>\n",
       "    </tr>\n",
       "    <tr>\n",
       "      <th>165</th>\n",
       "      <td>165</td>\n",
       "      <td>Cyclopterus lumpus</td>\n",
       "    </tr>\n",
       "    <tr>\n",
       "      <th>166</th>\n",
       "      <td>166</td>\n",
       "      <td>Tapes sp.</td>\n",
       "    </tr>\n",
       "  </tbody>\n",
       "</table>\n",
       "<p>167 rows × 2 columns</p>\n",
       "</div>"
      ],
      "text/plain": [
       "     index                     value\n",
       "0        0                FUCUS SPP.\n",
       "1        1                       NaN\n",
       "2        2        LITTORINA LITTOREA\n",
       "3        3  Melanogrammus aeglefinus\n",
       "4        4  MELANOGRAMMUS AEGLEFINUS\n",
       "..     ...                       ...\n",
       "162    162                 Gadus sp.\n",
       "163    163    Pleuronectes platessa \n",
       "164    164       Gadiculus argenteus\n",
       "165    165        Cyclopterus lumpus\n",
       "166    166                 Tapes sp.\n",
       "\n",
       "[167 rows x 2 columns]"
      ]
     },
     "execution_count": null,
     "metadata": {},
     "output_type": "execute_result"
    }
   ],
   "source": [
    "dfs = load_data(fname_in)\n",
    "get_unique_across_dfs(dfs, col_name='Species', as_df=True)"
   ]
  },
  {
   "cell_type": "markdown",
   "id": "ba47017e",
   "metadata": {},
   "source": [
    "We try to remap the `Species` column to the `species` column of the MARIS nomenclature, again using a `Remapper` object:"
   ]
  },
  {
   "cell_type": "code",
   "execution_count": null,
   "id": "4f6e4a3d",
   "metadata": {},
   "outputs": [],
   "source": [
    "#| eval: false\n",
    "remapper = Remapper(provider_lut_df=get_unique_across_dfs(dfs, col_name='Species', as_df=True),\n",
    "                    maris_lut_fn=species_lut_path,\n",
    "                    maris_col_id='species_id',\n",
    "                    maris_col_name='species',\n",
    "                    provider_col_to_match='value',\n",
    "                    provider_col_key='value',\n",
    "                    fname_cache='species_ospar.pkl')"
   ]
  },
  {
   "cell_type": "markdown",
   "id": "34f1fef7",
   "metadata": {},
   "source": [
    "In this step, we generate a lookup table using the `remapper` object. The lookup table maps data provider entries to MARIS entries using fuzzy matching. After generating the table, we select matches that meet a specified threshold (i.e., greater than 1), which means that matches requiring more than one character change are shown.\n",
    "\n",
    "- **`generate_lookup_table(as_df=True)`**: This method generates the lookup table and returns it as a DataFrame. It uses fuzzy matching to align entries from the data provider with those in the MARIS lookup table.\n",
    "- **`select_match(match_score_threshold=1)`**: This method filters the generated lookup table to include only those matches with a score greater than or equal to the specified threshold. A threshold of 1 ensures that only perfect matches are selected."
   ]
  },
  {
   "cell_type": "code",
   "execution_count": null,
   "id": "1cb98f5b",
   "metadata": {},
   "outputs": [
    {
     "name": "stderr",
     "output_type": "stream",
     "text": [
      "Processing:   4%|▍         | 7/167 [00:01<00:35,  4.55it/s]"
     ]
    },
    {
     "name": "stderr",
     "output_type": "stream",
     "text": [
      "Processing: 100%|██████████| 167/167 [00:35<00:00,  4.65it/s]"
     ]
    },
    {
     "name": "stdout",
     "output_type": "stream",
     "text": [
      "129 entries matched the criteria, while 38 entries had a match score of 1 or higher.\n"
     ]
    },
    {
     "name": "stderr",
     "output_type": "stream",
     "text": [
      "\n"
     ]
    },
    {
     "data": {
      "text/html": [
       "<div>\n",
       "<style scoped>\n",
       "    .dataframe tbody tr th:only-of-type {\n",
       "        vertical-align: middle;\n",
       "    }\n",
       "\n",
       "    .dataframe tbody tr th {\n",
       "        vertical-align: top;\n",
       "    }\n",
       "\n",
       "    .dataframe thead th {\n",
       "        text-align: right;\n",
       "    }\n",
       "</style>\n",
       "<table border=\"1\" class=\"dataframe\">\n",
       "  <thead>\n",
       "    <tr style=\"text-align: right;\">\n",
       "      <th></th>\n",
       "      <th>matched_maris_name</th>\n",
       "      <th>source_name</th>\n",
       "      <th>match_score</th>\n",
       "    </tr>\n",
       "    <tr>\n",
       "      <th>source_key</th>\n",
       "      <th></th>\n",
       "      <th></th>\n",
       "      <th></th>\n",
       "    </tr>\n",
       "  </thead>\n",
       "  <tbody>\n",
       "    <tr>\n",
       "      <th>RHODYMENIA PSEUDOPALAMATA &amp; PALMARIA PALMATA</th>\n",
       "      <td>Lomentaria catenata</td>\n",
       "      <td>RHODYMENIA PSEUDOPALAMATA &amp; PALMARIA PALMATA</td>\n",
       "      <td>31</td>\n",
       "    </tr>\n",
       "    <tr>\n",
       "      <th>Mixture of green, red and brown algae</th>\n",
       "      <td>Mercenaria mercenaria</td>\n",
       "      <td>Mixture of green, red and brown algae</td>\n",
       "      <td>26</td>\n",
       "    </tr>\n",
       "    <tr>\n",
       "      <th>Solea solea (S.vulgaris)</th>\n",
       "      <td>Loligo vulgaris</td>\n",
       "      <td>Solea solea (S.vulgaris)</td>\n",
       "      <td>12</td>\n",
       "    </tr>\n",
       "    <tr>\n",
       "      <th>SOLEA SOLEA (S.VULGARIS)</th>\n",
       "      <td>Loligo vulgaris</td>\n",
       "      <td>SOLEA SOLEA (S.VULGARIS)</td>\n",
       "      <td>12</td>\n",
       "    </tr>\n",
       "    <tr>\n",
       "      <th>CERASTODERMA (CARDIUM) EDULE</th>\n",
       "      <td>Cerastoderma edule</td>\n",
       "      <td>CERASTODERMA (CARDIUM) EDULE</td>\n",
       "      <td>10</td>\n",
       "    </tr>\n",
       "  </tbody>\n",
       "</table>\n",
       "</div>"
      ],
      "text/plain": [
       "                                                 matched_maris_name  \\\n",
       "source_key                                                            \n",
       "RHODYMENIA PSEUDOPALAMATA & PALMARIA PALMATA    Lomentaria catenata   \n",
       "Mixture of green, red and brown algae         Mercenaria mercenaria   \n",
       "Solea solea (S.vulgaris)                            Loligo vulgaris   \n",
       "SOLEA SOLEA (S.VULGARIS)                            Loligo vulgaris   \n",
       "CERASTODERMA (CARDIUM) EDULE                     Cerastoderma edule   \n",
       "\n",
       "                                                                               source_name  \\\n",
       "source_key                                                                                   \n",
       "RHODYMENIA PSEUDOPALAMATA & PALMARIA PALMATA  RHODYMENIA PSEUDOPALAMATA & PALMARIA PALMATA   \n",
       "Mixture of green, red and brown algae                Mixture of green, red and brown algae   \n",
       "Solea solea (S.vulgaris)                                          Solea solea (S.vulgaris)   \n",
       "SOLEA SOLEA (S.VULGARIS)                                          SOLEA SOLEA (S.VULGARIS)   \n",
       "CERASTODERMA (CARDIUM) EDULE                                  CERASTODERMA (CARDIUM) EDULE   \n",
       "\n",
       "                                              match_score  \n",
       "source_key                                                 \n",
       "RHODYMENIA PSEUDOPALAMATA & PALMARIA PALMATA           31  \n",
       "Mixture of green, red and brown algae                  26  \n",
       "Solea solea (S.vulgaris)                               12  \n",
       "SOLEA SOLEA (S.VULGARIS)                               12  \n",
       "CERASTODERMA (CARDIUM) EDULE                           10  "
      ]
     },
     "execution_count": null,
     "metadata": {},
     "output_type": "execute_result"
    }
   ],
   "source": [
    "remapper.generate_lookup_table(as_df=True)\n",
    "remapper.select_match(match_score_threshold=1, verbose=True).head()"
   ]
  },
  {
   "cell_type": "markdown",
   "id": "b9a388bf",
   "metadata": {},
   "source": [
    "Below, we fixthe entries that are not properly matched by the `Remapper` object:"
   ]
  },
  {
   "cell_type": "code",
   "execution_count": null,
   "id": "f073cc1b",
   "metadata": {},
   "outputs": [],
   "source": [
    "#|exports\n",
    "fixes_biota_species = {\n",
    "    'PECTINIDAE': NA, # Dropped. In Worms as PECTINIDAE is a family.\n",
    "    'Unknown': NA,\n",
    "    'unknown': NA,\n",
    "    'PALMARIA PALMATA': NA, # Dropped. In Worms 'Palmaria palmata (Linnaeus) F.Weber & D.Mohr, 1805',\n",
    "    'RAJIDAE/BATOIDEA': NA, # Mix \n",
    "    'MONODONTA LINEATA': 'Phorcus lineatus',\n",
    "    'NUCELLA LAPILLUS': NA, # Dropped. In Worms 'Nucella lapillus (Linnaeus, 1758)', \n",
    "    'SOLEA SOLEA (S.VULGARIS)': 'Solea solea',\n",
    "    'Solea solea (S.vulgaris)': 'Solea solea',\n",
    "    'Mixture of green, red and brown algae': NA, # Mix \n",
    "    'RHODYMENIA PSEUDOPALAMATA & PALMARIA PALMATA': NA, # Mix\n",
    "    'Gadiculus argenteus': 'Gadiculus argenteus thori',\n",
    "    'Gadus sp.': 'Gadus morhua',\n",
    "    }"
   ]
  },
  {
   "cell_type": "markdown",
   "id": "aacedba9",
   "metadata": {},
   "source": [
    "We now attempt remapping again, incorporating the `fixes_biota_species` dictionary:"
   ]
  },
  {
   "cell_type": "code",
   "execution_count": null,
   "id": "fdc3e95a",
   "metadata": {},
   "outputs": [
    {
     "name": "stderr",
     "output_type": "stream",
     "text": [
      "Processing:   0%|          | 0/167 [00:00<?, ?it/s]"
     ]
    },
    {
     "name": "stderr",
     "output_type": "stream",
     "text": [
      "Processing: 100%|██████████| 167/167 [00:35<00:00,  4.68it/s]"
     ]
    },
    {
     "name": "stdout",
     "output_type": "stream",
     "text": [
      "140 entries matched the criteria, while 27 entries had a match score of 1 or higher.\n"
     ]
    },
    {
     "name": "stderr",
     "output_type": "stream",
     "text": [
      "\n"
     ]
    },
    {
     "data": {
      "text/html": [
       "<div>\n",
       "<style scoped>\n",
       "    .dataframe tbody tr th:only-of-type {\n",
       "        vertical-align: middle;\n",
       "    }\n",
       "\n",
       "    .dataframe tbody tr th {\n",
       "        vertical-align: top;\n",
       "    }\n",
       "\n",
       "    .dataframe thead th {\n",
       "        text-align: right;\n",
       "    }\n",
       "</style>\n",
       "<table border=\"1\" class=\"dataframe\">\n",
       "  <thead>\n",
       "    <tr style=\"text-align: right;\">\n",
       "      <th></th>\n",
       "      <th>matched_maris_name</th>\n",
       "      <th>source_name</th>\n",
       "      <th>match_score</th>\n",
       "    </tr>\n",
       "    <tr>\n",
       "      <th>source_key</th>\n",
       "      <th></th>\n",
       "      <th></th>\n",
       "      <th></th>\n",
       "    </tr>\n",
       "  </thead>\n",
       "  <tbody>\n",
       "    <tr>\n",
       "      <th>CERASTODERMA (CARDIUM) EDULE</th>\n",
       "      <td>Cerastoderma edule</td>\n",
       "      <td>CERASTODERMA (CARDIUM) EDULE</td>\n",
       "      <td>10</td>\n",
       "    </tr>\n",
       "    <tr>\n",
       "      <th>Cerastoderma (Cardium) Edule</th>\n",
       "      <td>Cerastoderma edule</td>\n",
       "      <td>Cerastoderma (Cardium) Edule</td>\n",
       "      <td>10</td>\n",
       "    </tr>\n",
       "    <tr>\n",
       "      <th>DICENTRARCHUS (MORONE) LABRAX</th>\n",
       "      <td>Dicentrarchus labrax</td>\n",
       "      <td>DICENTRARCHUS (MORONE) LABRAX</td>\n",
       "      <td>9</td>\n",
       "    </tr>\n",
       "    <tr>\n",
       "      <th>Pleuronectiformes [order]</th>\n",
       "      <td>Pleuronectiformes</td>\n",
       "      <td>Pleuronectiformes [order]</td>\n",
       "      <td>8</td>\n",
       "    </tr>\n",
       "    <tr>\n",
       "      <th>FUCUS SPP.</th>\n",
       "      <td>Fucus</td>\n",
       "      <td>FUCUS SPP.</td>\n",
       "      <td>5</td>\n",
       "    </tr>\n",
       "    <tr>\n",
       "      <th>RAJA DIPTURUS BATIS</th>\n",
       "      <td>Dipturus batis</td>\n",
       "      <td>RAJA DIPTURUS BATIS</td>\n",
       "      <td>5</td>\n",
       "    </tr>\n",
       "    <tr>\n",
       "      <th>Rhodymenia spp.</th>\n",
       "      <td>Rhodymenia</td>\n",
       "      <td>Rhodymenia spp.</td>\n",
       "      <td>5</td>\n",
       "    </tr>\n",
       "    <tr>\n",
       "      <th>Sepia spp.</th>\n",
       "      <td>Sepia</td>\n",
       "      <td>Sepia spp.</td>\n",
       "      <td>5</td>\n",
       "    </tr>\n",
       "    <tr>\n",
       "      <th>Flatfish</th>\n",
       "      <td>Lambia</td>\n",
       "      <td>Flatfish</td>\n",
       "      <td>5</td>\n",
       "    </tr>\n",
       "    <tr>\n",
       "      <th>Patella sp.</th>\n",
       "      <td>Patella</td>\n",
       "      <td>Patella sp.</td>\n",
       "      <td>4</td>\n",
       "    </tr>\n",
       "    <tr>\n",
       "      <th>RHODYMENIA spp</th>\n",
       "      <td>Rhodymenia</td>\n",
       "      <td>RHODYMENIA spp</td>\n",
       "      <td>4</td>\n",
       "    </tr>\n",
       "    <tr>\n",
       "      <th>Tapes sp.</th>\n",
       "      <td>Tapes</td>\n",
       "      <td>Tapes sp.</td>\n",
       "      <td>4</td>\n",
       "    </tr>\n",
       "    <tr>\n",
       "      <th>Thunnus sp.</th>\n",
       "      <td>Thunnus</td>\n",
       "      <td>Thunnus sp.</td>\n",
       "      <td>4</td>\n",
       "    </tr>\n",
       "    <tr>\n",
       "      <th>FUCUS spp</th>\n",
       "      <td>Fucus</td>\n",
       "      <td>FUCUS spp</td>\n",
       "      <td>4</td>\n",
       "    </tr>\n",
       "    <tr>\n",
       "      <th>Fucus sp.</th>\n",
       "      <td>Fucus</td>\n",
       "      <td>Fucus sp.</td>\n",
       "      <td>4</td>\n",
       "    </tr>\n",
       "    <tr>\n",
       "      <th>MERLANGUIS MERLANGUIS</th>\n",
       "      <td>Merlangius merlangus</td>\n",
       "      <td>MERLANGUIS MERLANGUIS</td>\n",
       "      <td>3</td>\n",
       "    </tr>\n",
       "    <tr>\n",
       "      <th>Gaidropsarus argenteus</th>\n",
       "      <td>Gaidropsarus argentatus</td>\n",
       "      <td>Gaidropsarus argenteus</td>\n",
       "      <td>2</td>\n",
       "    </tr>\n",
       "    <tr>\n",
       "      <th>PLUERONECTES PLATESSA</th>\n",
       "      <td>Pleuronectes platessa</td>\n",
       "      <td>PLUERONECTES PLATESSA</td>\n",
       "      <td>2</td>\n",
       "    </tr>\n",
       "    <tr>\n",
       "      <th>Trisopterus esmarki</th>\n",
       "      <td>Trisopterus esmarkii</td>\n",
       "      <td>Trisopterus esmarki</td>\n",
       "      <td>1</td>\n",
       "    </tr>\n",
       "    <tr>\n",
       "      <th>Gadus morhua</th>\n",
       "      <td>Gadus morhua</td>\n",
       "      <td>Gadus morhua</td>\n",
       "      <td>1</td>\n",
       "    </tr>\n",
       "    <tr>\n",
       "      <th>Melanogrammus aeglefinus</th>\n",
       "      <td>Melanogrammus aeglefinus</td>\n",
       "      <td>Melanogrammus aeglefinus</td>\n",
       "      <td>1</td>\n",
       "    </tr>\n",
       "    <tr>\n",
       "      <th>Clupea harengus</th>\n",
       "      <td>Clupea harengus</td>\n",
       "      <td>Clupea harengus</td>\n",
       "      <td>1</td>\n",
       "    </tr>\n",
       "    <tr>\n",
       "      <th>Sebastes vivipares</th>\n",
       "      <td>Sebastes viviparus</td>\n",
       "      <td>Sebastes vivipares</td>\n",
       "      <td>1</td>\n",
       "    </tr>\n",
       "    <tr>\n",
       "      <th>Hippoglossus hippoglossus</th>\n",
       "      <td>Hippoglossus hippoglossus</td>\n",
       "      <td>Hippoglossus hippoglossus</td>\n",
       "      <td>1</td>\n",
       "    </tr>\n",
       "    <tr>\n",
       "      <th>ASCOPHYLLUN NODOSUM</th>\n",
       "      <td>Ascophyllum nodosum</td>\n",
       "      <td>ASCOPHYLLUN NODOSUM</td>\n",
       "      <td>1</td>\n",
       "    </tr>\n",
       "    <tr>\n",
       "      <th>Pleuronectes platessa</th>\n",
       "      <td>Pleuronectes platessa</td>\n",
       "      <td>Pleuronectes platessa</td>\n",
       "      <td>1</td>\n",
       "    </tr>\n",
       "    <tr>\n",
       "      <th>MERLUCCIUS MERLUCCIUS</th>\n",
       "      <td>Merluccius merluccius</td>\n",
       "      <td>MERLUCCIUS MERLUCCIUS</td>\n",
       "      <td>1</td>\n",
       "    </tr>\n",
       "  </tbody>\n",
       "</table>\n",
       "</div>"
      ],
      "text/plain": [
       "                                      matched_maris_name  \\\n",
       "source_key                                                 \n",
       "CERASTODERMA (CARDIUM) EDULE          Cerastoderma edule   \n",
       "Cerastoderma (Cardium) Edule          Cerastoderma edule   \n",
       "DICENTRARCHUS (MORONE) LABRAX       Dicentrarchus labrax   \n",
       "Pleuronectiformes [order]              Pleuronectiformes   \n",
       "FUCUS SPP.                                         Fucus   \n",
       "RAJA DIPTURUS BATIS                       Dipturus batis   \n",
       "Rhodymenia spp.                               Rhodymenia   \n",
       "Sepia spp.                                         Sepia   \n",
       "Flatfish                                          Lambia   \n",
       "Patella sp.                                      Patella   \n",
       "RHODYMENIA spp                                Rhodymenia   \n",
       "Tapes sp.                                          Tapes   \n",
       "Thunnus sp.                                      Thunnus   \n",
       "FUCUS spp                                          Fucus   \n",
       "Fucus sp.                                          Fucus   \n",
       "MERLANGUIS MERLANGUIS               Merlangius merlangus   \n",
       "Gaidropsarus argenteus           Gaidropsarus argentatus   \n",
       "PLUERONECTES PLATESSA              Pleuronectes platessa   \n",
       "Trisopterus esmarki                 Trisopterus esmarkii   \n",
       "Gadus morhua                                Gadus morhua   \n",
       "Melanogrammus aeglefinus        Melanogrammus aeglefinus   \n",
       "Clupea harengus                          Clupea harengus   \n",
       "Sebastes vivipares                    Sebastes viviparus   \n",
       "Hippoglossus hippoglossus      Hippoglossus hippoglossus   \n",
       "ASCOPHYLLUN NODOSUM                  Ascophyllum nodosum   \n",
       "Pleuronectes platessa              Pleuronectes platessa   \n",
       "MERLUCCIUS MERLUCCIUS              Merluccius merluccius   \n",
       "\n",
       "                                                 source_name  match_score  \n",
       "source_key                                                                 \n",
       "CERASTODERMA (CARDIUM) EDULE    CERASTODERMA (CARDIUM) EDULE           10  \n",
       "Cerastoderma (Cardium) Edule    Cerastoderma (Cardium) Edule           10  \n",
       "DICENTRARCHUS (MORONE) LABRAX  DICENTRARCHUS (MORONE) LABRAX            9  \n",
       "Pleuronectiformes [order]          Pleuronectiformes [order]            8  \n",
       "FUCUS SPP.                                        FUCUS SPP.            5  \n",
       "RAJA DIPTURUS BATIS                      RAJA DIPTURUS BATIS            5  \n",
       "Rhodymenia spp.                              Rhodymenia spp.            5  \n",
       "Sepia spp.                                        Sepia spp.            5  \n",
       "Flatfish                                            Flatfish            5  \n",
       "Patella sp.                                      Patella sp.            4  \n",
       "RHODYMENIA spp                                RHODYMENIA spp            4  \n",
       "Tapes sp.                                          Tapes sp.            4  \n",
       "Thunnus sp.                                      Thunnus sp.            4  \n",
       "FUCUS spp                                          FUCUS spp            4  \n",
       "Fucus sp.                                          Fucus sp.            4  \n",
       "MERLANGUIS MERLANGUIS                  MERLANGUIS MERLANGUIS            3  \n",
       "Gaidropsarus argenteus                Gaidropsarus argenteus            2  \n",
       "PLUERONECTES PLATESSA                  PLUERONECTES PLATESSA            2  \n",
       "Trisopterus esmarki                      Trisopterus esmarki            1  \n",
       "Gadus morhua                                   Gadus morhua             1  \n",
       "Melanogrammus aeglefinus           Melanogrammus aeglefinus             1  \n",
       "Clupea harengus                             Clupea harengus             1  \n",
       "Sebastes vivipares                        Sebastes vivipares            1  \n",
       "Hippoglossus hippoglossus         Hippoglossus hippoglossus             1  \n",
       "ASCOPHYLLUN NODOSUM                      ASCOPHYLLUN NODOSUM            1  \n",
       "Pleuronectes platessa                 Pleuronectes platessa             1  \n",
       "MERLUCCIUS MERLUCCIUS                 MERLUCCIUS MERLUCCIUS             1  "
      ]
     },
     "execution_count": null,
     "metadata": {},
     "output_type": "execute_result"
    }
   ],
   "source": [
    "#| eval: false\n",
    "remapper.generate_lookup_table(fixes=fixes_biota_species)\n",
    "remapper.select_match(match_score_threshold=1, verbose=True)"
   ]
  },
  {
   "cell_type": "markdown",
   "id": "24b4e864",
   "metadata": {},
   "source": [
    "Visual inspection of the remaining imperfectly matched entries appears acceptable. We can now proceed with the final remapping process:\n",
    "\n",
    "1. Create Remapper Lambda Function:\n",
    "\n",
    "   We'll define a lambda function that instantiates a Remapper object and returns its corrected lookup table.\n",
    "\n",
    "2. Apply RemapCB: \n",
    "\n",
    "   Using the generic `RemapCB` callback, we'll perform the actual remapping.\n"
   ]
  },
  {
   "cell_type": "code",
   "execution_count": null,
   "id": "3764bf4c",
   "metadata": {},
   "outputs": [],
   "source": [
    "#| exports\n",
    "lut_biota = lambda: Remapper(provider_lut_df=get_unique_across_dfs(dfs, col_name='Species', as_df=True),\n",
    "                             maris_lut_fn=species_lut_path,\n",
    "                             maris_col_id='species_id',\n",
    "                             maris_col_name='species',\n",
    "                             provider_col_to_match='value',\n",
    "                             provider_col_key='value',\n",
    "                             fname_cache='species_ospar.pkl').generate_lookup_table(fixes=fixes_biota_species, as_df=False, overwrite=False)"
   ]
  },
  {
   "cell_type": "markdown",
   "id": "c9ccf10e",
   "metadata": {},
   "source": [
    "Putting it all together, we now apply the `RemapCB` to our data. This process results in the addition of a `species` column to our `biota` dataframe, containing standardized species IDs.\n"
   ]
  },
  {
   "cell_type": "code",
   "execution_count": null,
   "id": "f88311de",
   "metadata": {},
   "outputs": [
    {
     "data": {
      "text/plain": [
       "array([ 377,  129,   96,   -1,  192,   99,   50,  378,  270,  379,  380,\n",
       "        381,  382,  383,  384,  385,  244,  386,  387,  388,  389,  390,\n",
       "        391,  392,  393,  394,  395,  396,  274,  397,  398,  243,  399,\n",
       "        400,  401,  402,  403,  404,  405,  406,  407,    0,  191,  139,\n",
       "        408,  410,  148,  412,  413,  272,  414,  415,  416,  417,  418,\n",
       "        419,  420,  421,  422,  423,  424,  425,  426,  427,  428,  411,\n",
       "        429,  430,  431,  432,  433,  434,  435,  436,  437,  438,  439,\n",
       "        440,  441,  442,  443,  444,  294, 1607, 1610, 1609, 1605, 1608,\n",
       "         23, 1606,  234,  556,  158])"
      ]
     },
     "execution_count": null,
     "metadata": {},
     "output_type": "execute_result"
    }
   ],
   "source": [
    "#| eval: false\n",
    "dfs = load_data(fname_in)\n",
    "tfm = Transformer(dfs, cbs=[\n",
    "    RemapCB(fn_lut=lut_biota, col_remap='SPECIES', col_src='Species', dest_grps='BIOTA')    \n",
    "    ])\n",
    "\n",
    "tfm()['BIOTA']['SPECIES'].unique()"
   ]
  },
  {
   "cell_type": "markdown",
   "id": "3deccec7",
   "metadata": {},
   "source": [
    "## Enhance Species Data Using Biological group column\n",
    "The `Biological group` column in the OSPAR dataset provides valuable insights related to species. We will leverage this information to enrich the `species` column. To achieve this, we will employ the generic `RemapCB` callback to create an `enhanced_species` column. Subsequently, this `enhanced_species` column will be used to further enrich the `species` column."
   ]
  },
  {
   "cell_type": "markdown",
   "id": "c91a79bd",
   "metadata": {},
   "source": [
    "First we inspect the unique values in the `Biological group` column."
   ]
  },
  {
   "cell_type": "code",
   "execution_count": null,
   "id": "af6d12c8",
   "metadata": {},
   "outputs": [
    {
     "data": {
      "text/html": [
       "<div>\n",
       "<style scoped>\n",
       "    .dataframe tbody tr th:only-of-type {\n",
       "        vertical-align: middle;\n",
       "    }\n",
       "\n",
       "    .dataframe tbody tr th {\n",
       "        vertical-align: top;\n",
       "    }\n",
       "\n",
       "    .dataframe thead th {\n",
       "        text-align: right;\n",
       "    }\n",
       "</style>\n",
       "<table border=\"1\" class=\"dataframe\">\n",
       "  <thead>\n",
       "    <tr style=\"text-align: right;\">\n",
       "      <th></th>\n",
       "      <th>index</th>\n",
       "      <th>value</th>\n",
       "    </tr>\n",
       "  </thead>\n",
       "  <tbody>\n",
       "    <tr>\n",
       "      <th>0</th>\n",
       "      <td>0</td>\n",
       "      <td>Seaweeds</td>\n",
       "    </tr>\n",
       "    <tr>\n",
       "      <th>1</th>\n",
       "      <td>1</td>\n",
       "      <td>Molluscs</td>\n",
       "    </tr>\n",
       "    <tr>\n",
       "      <th>2</th>\n",
       "      <td>2</td>\n",
       "      <td>molluscs</td>\n",
       "    </tr>\n",
       "    <tr>\n",
       "      <th>3</th>\n",
       "      <td>3</td>\n",
       "      <td>fish</td>\n",
       "    </tr>\n",
       "    <tr>\n",
       "      <th>4</th>\n",
       "      <td>4</td>\n",
       "      <td>Fish</td>\n",
       "    </tr>\n",
       "    <tr>\n",
       "      <th>5</th>\n",
       "      <td>5</td>\n",
       "      <td>Seaweed</td>\n",
       "    </tr>\n",
       "    <tr>\n",
       "      <th>6</th>\n",
       "      <td>6</td>\n",
       "      <td>SEAWEED</td>\n",
       "    </tr>\n",
       "    <tr>\n",
       "      <th>7</th>\n",
       "      <td>7</td>\n",
       "      <td>FISH</td>\n",
       "    </tr>\n",
       "    <tr>\n",
       "      <th>8</th>\n",
       "      <td>8</td>\n",
       "      <td>seaweed</td>\n",
       "    </tr>\n",
       "    <tr>\n",
       "      <th>9</th>\n",
       "      <td>9</td>\n",
       "      <td>MOLLUSCS</td>\n",
       "    </tr>\n",
       "  </tbody>\n",
       "</table>\n",
       "</div>"
      ],
      "text/plain": [
       "   index     value\n",
       "0      0  Seaweeds\n",
       "1      1  Molluscs\n",
       "2      2  molluscs\n",
       "3      3      fish\n",
       "4      4      Fish\n",
       "5      5   Seaweed\n",
       "6      6   SEAWEED\n",
       "7      7      FISH\n",
       "8      8   seaweed\n",
       "9      9  MOLLUSCS"
      ]
     },
     "execution_count": null,
     "metadata": {},
     "output_type": "execute_result"
    }
   ],
   "source": [
    "get_unique_across_dfs(dfs, col_name='Biological group', as_df=True)"
   ]
  },
  {
   "cell_type": "markdown",
   "id": "d21f39bb",
   "metadata": {},
   "source": [
    "We will remap the `Biological group` columns data to the `species` column of the MARIS nomenclature, again using a `Remapper` object:"
   ]
  },
  {
   "cell_type": "code",
   "execution_count": null,
   "id": "b4f0d0b6",
   "metadata": {},
   "outputs": [],
   "source": [
    "#| eval: false\n",
    "remapper = Remapper(provider_lut_df=get_unique_across_dfs(dfs, col_name='Biological group', as_df=True),\n",
    "                    maris_lut_fn=species_lut_path,\n",
    "                    maris_col_id='species_id',\n",
    "                    maris_col_name='species',\n",
    "                    provider_col_to_match='value',\n",
    "                    provider_col_key='value',\n",
    "                    fname_cache='enhance_species_ospar.pkl')"
   ]
  },
  {
   "cell_type": "markdown",
   "id": "afa66440",
   "metadata": {},
   "source": [
    "Like before we will generate the lookup table and select matches that meet a specified threshold (i.e., greater than 1), which means that matches requiring more than one character change are shown."
   ]
  },
  {
   "cell_type": "code",
   "execution_count": null,
   "id": "5b3ffe41",
   "metadata": {},
   "outputs": [
    {
     "name": "stderr",
     "output_type": "stream",
     "text": [
      "Processing:   0%|          | 0/10 [00:00<?, ?it/s]"
     ]
    },
    {
     "name": "stderr",
     "output_type": "stream",
     "text": [
      "Processing: 100%|██████████| 10/10 [00:02<00:00,  4.81it/s]\n"
     ]
    },
    {
     "data": {
      "text/html": [
       "<div>\n",
       "<style scoped>\n",
       "    .dataframe tbody tr th:only-of-type {\n",
       "        vertical-align: middle;\n",
       "    }\n",
       "\n",
       "    .dataframe tbody tr th {\n",
       "        vertical-align: top;\n",
       "    }\n",
       "\n",
       "    .dataframe thead th {\n",
       "        text-align: right;\n",
       "    }\n",
       "</style>\n",
       "<table border=\"1\" class=\"dataframe\">\n",
       "  <thead>\n",
       "    <tr style=\"text-align: right;\">\n",
       "      <th></th>\n",
       "      <th>matched_maris_name</th>\n",
       "      <th>source_name</th>\n",
       "      <th>match_score</th>\n",
       "    </tr>\n",
       "    <tr>\n",
       "      <th>source_key</th>\n",
       "      <th></th>\n",
       "      <th></th>\n",
       "      <th></th>\n",
       "    </tr>\n",
       "  </thead>\n",
       "  <tbody>\n",
       "    <tr>\n",
       "      <th>fish</th>\n",
       "      <td>Fucus</td>\n",
       "      <td>fish</td>\n",
       "      <td>4</td>\n",
       "    </tr>\n",
       "    <tr>\n",
       "      <th>Fish</th>\n",
       "      <td>Fucus</td>\n",
       "      <td>Fish</td>\n",
       "      <td>4</td>\n",
       "    </tr>\n",
       "    <tr>\n",
       "      <th>FISH</th>\n",
       "      <td>Fucus</td>\n",
       "      <td>FISH</td>\n",
       "      <td>4</td>\n",
       "    </tr>\n",
       "    <tr>\n",
       "      <th>Seaweeds</th>\n",
       "      <td>Seaweed</td>\n",
       "      <td>Seaweeds</td>\n",
       "      <td>1</td>\n",
       "    </tr>\n",
       "    <tr>\n",
       "      <th>Molluscs</th>\n",
       "      <td>Mollusca</td>\n",
       "      <td>Molluscs</td>\n",
       "      <td>1</td>\n",
       "    </tr>\n",
       "    <tr>\n",
       "      <th>molluscs</th>\n",
       "      <td>Mollusca</td>\n",
       "      <td>molluscs</td>\n",
       "      <td>1</td>\n",
       "    </tr>\n",
       "    <tr>\n",
       "      <th>MOLLUSCS</th>\n",
       "      <td>Mollusca</td>\n",
       "      <td>MOLLUSCS</td>\n",
       "      <td>1</td>\n",
       "    </tr>\n",
       "  </tbody>\n",
       "</table>\n",
       "</div>"
      ],
      "text/plain": [
       "           matched_maris_name source_name  match_score\n",
       "source_key                                            \n",
       "fish                    Fucus        fish            4\n",
       "Fish                    Fucus        Fish            4\n",
       "FISH                    Fucus        FISH            4\n",
       "Seaweeds              Seaweed    Seaweeds            1\n",
       "Molluscs             Mollusca    Molluscs            1\n",
       "molluscs             Mollusca    molluscs            1\n",
       "MOLLUSCS             Mollusca    MOLLUSCS            1"
      ]
     },
     "execution_count": null,
     "metadata": {},
     "output_type": "execute_result"
    }
   ],
   "source": [
    "remapper.generate_lookup_table(as_df=True)\n",
    "remapper.select_match(match_score_threshold=1)"
   ]
  },
  {
   "cell_type": "markdown",
   "id": "63bf70c0",
   "metadata": {},
   "source": [
    "We can see that some of the entries require manual corrections."
   ]
  },
  {
   "cell_type": "code",
   "execution_count": null,
   "id": "4a721e88",
   "metadata": {},
   "outputs": [],
   "source": [
    "fixes_enhanced_biota_species = {\n",
    "    'fish': 'Pisces',\n",
    "    'FISH': 'Pisces',\n",
    "    'Fish': 'Pisces'    \n",
    "}\n"
   ]
  },
  {
   "cell_type": "markdown",
   "id": "9db0e72f",
   "metadata": {},
   "source": [
    "Now we will apply the manual corrections to the lookup table and generate the lookup table again."
   ]
  },
  {
   "cell_type": "code",
   "execution_count": null,
   "id": "ef98d33b",
   "metadata": {},
   "outputs": [
    {
     "name": "stderr",
     "output_type": "stream",
     "text": [
      "Processing:   0%|          | 0/10 [00:00<?, ?it/s]"
     ]
    },
    {
     "name": "stderr",
     "output_type": "stream",
     "text": [
      "Processing: 100%|██████████| 10/10 [00:01<00:00,  5.19it/s]\n"
     ]
    },
    {
     "data": {
      "text/html": [
       "<div>\n",
       "<style scoped>\n",
       "    .dataframe tbody tr th:only-of-type {\n",
       "        vertical-align: middle;\n",
       "    }\n",
       "\n",
       "    .dataframe tbody tr th {\n",
       "        vertical-align: top;\n",
       "    }\n",
       "\n",
       "    .dataframe thead th {\n",
       "        text-align: right;\n",
       "    }\n",
       "</style>\n",
       "<table border=\"1\" class=\"dataframe\">\n",
       "  <thead>\n",
       "    <tr style=\"text-align: right;\">\n",
       "      <th></th>\n",
       "      <th>matched_maris_name</th>\n",
       "      <th>source_name</th>\n",
       "      <th>match_score</th>\n",
       "    </tr>\n",
       "    <tr>\n",
       "      <th>source_key</th>\n",
       "      <th></th>\n",
       "      <th></th>\n",
       "      <th></th>\n",
       "    </tr>\n",
       "  </thead>\n",
       "  <tbody>\n",
       "    <tr>\n",
       "      <th>Seaweeds</th>\n",
       "      <td>Seaweed</td>\n",
       "      <td>Seaweeds</td>\n",
       "      <td>1</td>\n",
       "    </tr>\n",
       "    <tr>\n",
       "      <th>Molluscs</th>\n",
       "      <td>Mollusca</td>\n",
       "      <td>Molluscs</td>\n",
       "      <td>1</td>\n",
       "    </tr>\n",
       "    <tr>\n",
       "      <th>molluscs</th>\n",
       "      <td>Mollusca</td>\n",
       "      <td>molluscs</td>\n",
       "      <td>1</td>\n",
       "    </tr>\n",
       "    <tr>\n",
       "      <th>MOLLUSCS</th>\n",
       "      <td>Mollusca</td>\n",
       "      <td>MOLLUSCS</td>\n",
       "      <td>1</td>\n",
       "    </tr>\n",
       "  </tbody>\n",
       "</table>\n",
       "</div>"
      ],
      "text/plain": [
       "           matched_maris_name source_name  match_score\n",
       "source_key                                            \n",
       "Seaweeds              Seaweed    Seaweeds            1\n",
       "Molluscs             Mollusca    Molluscs            1\n",
       "molluscs             Mollusca    molluscs            1\n",
       "MOLLUSCS             Mollusca    MOLLUSCS            1"
      ]
     },
     "execution_count": null,
     "metadata": {},
     "output_type": "execute_result"
    }
   ],
   "source": [
    "remapper.generate_lookup_table(fixes=fixes_enhanced_biota_species)\n",
    "remapper.select_match(match_score_threshold=1)"
   ]
  },
  {
   "cell_type": "markdown",
   "id": "9d220766",
   "metadata": {},
   "source": [
    "Visual inspection of the remaining imperfectly matched entries appears acceptable. We can now proceed with the final remapping process:\n",
    "\n",
    "1. Create Remapper Lambda Function:\n",
    "\n",
    "   We'll define a lambda function that instantiates a Remapper object and returns its corrected lookup table.\n",
    "\n",
    "2. Apply RemapCB: \n",
    "\n",
    "   Using the generic `RemapCB` callback, we'll perform the actual remapping.\n"
   ]
  },
  {
   "cell_type": "code",
   "execution_count": null,
   "id": "d430aca5",
   "metadata": {},
   "outputs": [],
   "source": [
    "#| exports\n",
    "lut_biota_enhanced = lambda: Remapper(provider_lut_df=get_unique_across_dfs(dfs, col_name='Biological group', as_df=True),\n",
    "                             maris_lut_fn=species_lut_path,\n",
    "                             maris_col_id='species_id',\n",
    "                             maris_col_name='species',\n",
    "                             provider_col_to_match='value',\n",
    "                             provider_col_key='value',\n",
    "                             fname_cache='enhance_species_ospar.pkl').generate_lookup_table(fixes=fixes_enhanced_biota_species, as_df=False, overwrite=False)"
   ]
  },
  {
   "cell_type": "markdown",
   "id": "ebf4476a",
   "metadata": {},
   "source": [
    "Now lets see the species that are not matched by the `LookupBiogroupCB` callback. "
   ]
  },
  {
   "cell_type": "markdown",
   "id": "361d62c7",
   "metadata": {},
   "source": [
    "Putting it all together, we now apply the `RemapCB` to our data. This process results in the addition of an `enhanced_species` column to our `BIOTA` dataframe, containing standardized species IDs."
   ]
  },
  {
   "cell_type": "code",
   "execution_count": null,
   "id": "1dd3de4a",
   "metadata": {},
   "outputs": [
    {
     "data": {
      "text/plain": [
       "array([ 873, 1059,  712])"
      ]
     },
     "execution_count": null,
     "metadata": {},
     "output_type": "execute_result"
    }
   ],
   "source": [
    "#| eval: false\n",
    "dfs = load_data(fname_in)\n",
    "tfm = Transformer(dfs, cbs=[\n",
    "    RemapCB(fn_lut=lut_biota_enhanced, col_remap='enhanced_species', col_src='Biological group', dest_grps='BIOTA')    \n",
    "    ])\n",
    "\n",
    "tfm()['BIOTA']['enhanced_species'].unique()"
   ]
  },
  {
   "cell_type": "markdown",
   "id": "cbc5fb3f",
   "metadata": {},
   "source": [
    "Now that we have the `enhanced_species` column, we can use it to enrich the `species` column. We will use the enhanced species column in the absence of a species match if the enhanced species column is valid. "
   ]
  },
  {
   "cell_type": "code",
   "execution_count": null,
   "id": "358de0aa",
   "metadata": {},
   "outputs": [],
   "source": [
    "# | export\n",
    "class EnhanceSpeciesCB(Callback):\n",
    "    \"\"\"Enhance the 'SPECIES' column using the 'enhanced_species' column if conditions are met.\"\"\"\n",
    "\n",
    "    def __init__(self):\n",
    "        fc.store_attr()\n",
    "\n",
    "    def __call__(self, tfm: 'Transformer'):\n",
    "        self._enhance_species(tfm.dfs['BIOTA'])\n",
    "\n",
    "    def _enhance_species(self, df: pd.DataFrame):\n",
    "        df['SPECIES'] = df.apply(\n",
    "            lambda row: row['enhanced_species'] if row['SPECIES'] in [-1, 0] and pd.notnull(row['enhanced_species']) else row['SPECIES'],\n",
    "            axis=1\n",
    "        )"
   ]
  },
  {
   "cell_type": "code",
   "execution_count": null,
   "id": "a3ae46a0",
   "metadata": {},
   "outputs": [
    {
     "data": {
      "text/plain": [
       "array([ 377,  129,   96,  712,  192,   99,   50,  378,  270,  379,  380,\n",
       "        381,  382,  383,  384,  385,  244,  386,  387,  388,  389,  390,\n",
       "        391,  392,  393,  394,  395,  396,  274,  397,  398,  243,  399,\n",
       "        400,  401,  402,  403,  404,  405,  406,  407, 1059,  191,  139,\n",
       "        408,  410,  148,  412,  413,  272,  414,  415,  416,  417,  418,\n",
       "        419,  420,  421,  422,  423,  424,  425,  426,  427,  428,  411,\n",
       "        429,  430,  431,  432,  433,  434,  435,  436,  437,  438,  439,\n",
       "        440,  441,  442,  443,  444,  294, 1607, 1610, 1609, 1605, 1608,\n",
       "         23, 1606,  234,  556,  873,  158])"
      ]
     },
     "execution_count": null,
     "metadata": {},
     "output_type": "execute_result"
    }
   ],
   "source": [
    "#| eval: false\n",
    "dfs = load_data(fname_in)\n",
    "tfm = Transformer(dfs, cbs=[\n",
    "    RemapCB(fn_lut=lut_biota, col_remap='SPECIES', col_src='Species', dest_grps='BIOTA'),\n",
    "    RemapCB(fn_lut=lut_biota_enhanced, col_remap='enhanced_species', col_src='Biological group', dest_grps='BIOTA'),\n",
    "    EnhanceSpeciesCB()\n",
    "    ])\n",
    "\n",
    "tfm()['BIOTA']['SPECIES'].unique()"
   ]
  },
  {
   "cell_type": "markdown",
   "id": "0f958f23",
   "metadata": {},
   "source": [
    "All entries are matched for the `SPECIES` column."
   ]
  },
  {
   "cell_type": "markdown",
   "id": "aaf49f45",
   "metadata": {},
   "source": [
    "## Remap Biota tissues"
   ]
  },
  {
   "cell_type": "markdown",
   "id": "ec6d4172",
   "metadata": {},
   "source": [
    "The OSPAR dataset includes entries where the `Body Part` is labeled as `whole`. However, the MARIS data standard requires a more specific distinction in the `body_part` field, differentiating between `Whole animal` and `Whole plant`. Fortunately, the OSPAR data provides a `Biological group` field that allows us to make this distinction.\n",
    "\n",
    "To address this discrepancy and ensure compatibility with MARIS standards, we will:\n",
    "\n",
    "1. Create a temporary column `body_part_temp` that combines information from both `Body Part` and `Biological group`.\n",
    "2. Use this temporary column to perform the lookup using our `Remapper` object."
   ]
  },
  {
   "cell_type": "markdown",
   "id": "d825bf87",
   "metadata": {},
   "source": [
    "Lets create the temporary column, `body_part_temp`, that combines `Body Part` and `Biological group`."
   ]
  },
  {
   "cell_type": "code",
   "execution_count": null,
   "id": "268eb1e3",
   "metadata": {},
   "outputs": [],
   "source": [
    "#| exports\n",
    "class AddBodypartTempCB(Callback):\n",
    "    \"Add a temporary column with the body part and biological group combined.\"    \n",
    "    def __call__(self, tfm):\n",
    "        tfm.dfs['BIOTA']['body_part_temp'] = (\n",
    "            tfm.dfs['BIOTA']['Body Part'] + ' ' + \n",
    "            tfm.dfs['BIOTA']['Biological group']\n",
    "            ).str.strip().str.lower()                                 "
   ]
  },
  {
   "cell_type": "code",
   "execution_count": null,
   "id": "220d4ead",
   "metadata": {},
   "outputs": [
    {
     "data": {
      "text/plain": [
       "array(['whole animal molluscs', 'whole plant seaweed', 'whole fish fish',\n",
       "       'flesh without bones fish', 'whole animal fish', 'muscle fish',\n",
       "       'head fish', 'soft parts molluscs', 'growing tips seaweed',\n",
       "       'soft parts fish', 'unknown fish', 'flesh without bone fish',\n",
       "       'flesh fish', 'flesh with scales fish', 'liver fish',\n",
       "       'flesh without bones seaweed', 'whole  fish',\n",
       "       'flesh without bones molluscs', 'whole  seaweed',\n",
       "       'whole plant seaweeds', 'whole fish', 'whole without head fish',\n",
       "       'mix of muscle and whole fish without liver fish',\n",
       "       'whole fisk fish', 'muscle  fish', 'cod medallion fish',\n",
       "       'tail and claws fish'], dtype=object)"
      ]
     },
     "execution_count": null,
     "metadata": {},
     "output_type": "execute_result"
    }
   ],
   "source": [
    "#|eval: false\n",
    "dfs = load_data(fname_in)\n",
    "tfm = Transformer(dfs, cbs=[  \n",
    "                            AddBodypartTempCB(),\n",
    "                            ])\n",
    "dfs_test = tfm()\n",
    "dfs_test['BIOTA']['body_part_temp'].unique()\n"
   ]
  },
  {
   "cell_type": "markdown",
   "id": "7b6feee1",
   "metadata": {},
   "source": [
    "To align the ``body_part_temp`` column with the ``bodypar`` column in the MARIS nomenclature, we utilize a Remapper object. Since the OSPAR dataset does not include a predefined lookup table for the ``body_part`` column, we first create a lookup table by extracting unique values from the ``body_part_temp`` column."
   ]
  },
  {
   "cell_type": "code",
   "execution_count": null,
   "id": "7dd02af8",
   "metadata": {},
   "outputs": [
    {
     "data": {
      "text/html": [
       "<div>\n",
       "<style scoped>\n",
       "    .dataframe tbody tr th:only-of-type {\n",
       "        vertical-align: middle;\n",
       "    }\n",
       "\n",
       "    .dataframe tbody tr th {\n",
       "        vertical-align: top;\n",
       "    }\n",
       "\n",
       "    .dataframe thead th {\n",
       "        text-align: right;\n",
       "    }\n",
       "</style>\n",
       "<table border=\"1\" class=\"dataframe\">\n",
       "  <thead>\n",
       "    <tr style=\"text-align: right;\">\n",
       "      <th></th>\n",
       "      <th>index</th>\n",
       "      <th>value</th>\n",
       "    </tr>\n",
       "  </thead>\n",
       "  <tbody>\n",
       "    <tr>\n",
       "      <th>0</th>\n",
       "      <td>0</td>\n",
       "      <td>head fish</td>\n",
       "    </tr>\n",
       "    <tr>\n",
       "      <th>1</th>\n",
       "      <td>1</td>\n",
       "      <td>whole animal molluscs</td>\n",
       "    </tr>\n",
       "    <tr>\n",
       "      <th>2</th>\n",
       "      <td>2</td>\n",
       "      <td>growing tips seaweed</td>\n",
       "    </tr>\n",
       "    <tr>\n",
       "      <th>3</th>\n",
       "      <td>3</td>\n",
       "      <td>muscle  fish</td>\n",
       "    </tr>\n",
       "    <tr>\n",
       "      <th>4</th>\n",
       "      <td>4</td>\n",
       "      <td>whole without head fish</td>\n",
       "    </tr>\n",
       "  </tbody>\n",
       "</table>\n",
       "</div>"
      ],
      "text/plain": [
       "   index                    value\n",
       "0      0                head fish\n",
       "1      1    whole animal molluscs\n",
       "2      2     growing tips seaweed\n",
       "3      3             muscle  fish\n",
       "4      4  whole without head fish"
      ]
     },
     "execution_count": null,
     "metadata": {},
     "output_type": "execute_result"
    }
   ],
   "source": [
    "get_unique_across_dfs(dfs_test, col_name='body_part_temp', as_df=True).head()"
   ]
  },
  {
   "cell_type": "markdown",
   "id": "5cc930ae",
   "metadata": {},
   "source": [
    "We try to remap the `body_part_temp` column to the `bodypar` column of the MARIS nomenclature, again using a `Remapper` object:"
   ]
  },
  {
   "cell_type": "code",
   "execution_count": null,
   "id": "6a76c31c",
   "metadata": {},
   "outputs": [
    {
     "name": "stderr",
     "output_type": "stream",
     "text": [
      "Processing:   0%|          | 0/27 [00:00<?, ?it/s]"
     ]
    },
    {
     "name": "stderr",
     "output_type": "stream",
     "text": [
      "Processing: 100%|██████████| 27/27 [00:00<00:00, 82.47it/s]"
     ]
    },
    {
     "name": "stdout",
     "output_type": "stream",
     "text": [
      "0 entries matched the criteria, while 27 entries had a match score of 0 or higher.\n"
     ]
    },
    {
     "name": "stderr",
     "output_type": "stream",
     "text": [
      "\n"
     ]
    },
    {
     "data": {
      "text/html": [
       "<div>\n",
       "<style scoped>\n",
       "    .dataframe tbody tr th:only-of-type {\n",
       "        vertical-align: middle;\n",
       "    }\n",
       "\n",
       "    .dataframe tbody tr th {\n",
       "        vertical-align: top;\n",
       "    }\n",
       "\n",
       "    .dataframe thead th {\n",
       "        text-align: right;\n",
       "    }\n",
       "</style>\n",
       "<table border=\"1\" class=\"dataframe\">\n",
       "  <thead>\n",
       "    <tr style=\"text-align: right;\">\n",
       "      <th></th>\n",
       "      <th>matched_maris_name</th>\n",
       "      <th>source_name</th>\n",
       "      <th>match_score</th>\n",
       "    </tr>\n",
       "    <tr>\n",
       "      <th>source_key</th>\n",
       "      <th></th>\n",
       "      <th></th>\n",
       "      <th></th>\n",
       "    </tr>\n",
       "  </thead>\n",
       "  <tbody>\n",
       "    <tr>\n",
       "      <th>mix of muscle and whole fish without liver fish</th>\n",
       "      <td>Flesh without bones</td>\n",
       "      <td>mix of muscle and whole fish without liver fish</td>\n",
       "      <td>31</td>\n",
       "    </tr>\n",
       "    <tr>\n",
       "      <th>cod medallion fish</th>\n",
       "      <td>Old leaf</td>\n",
       "      <td>cod medallion fish</td>\n",
       "      <td>13</td>\n",
       "    </tr>\n",
       "    <tr>\n",
       "      <th>whole without head fish</th>\n",
       "      <td>Flesh without bones</td>\n",
       "      <td>whole without head fish</td>\n",
       "      <td>13</td>\n",
       "    </tr>\n",
       "    <tr>\n",
       "      <th>tail and claws fish</th>\n",
       "      <td>Stomach and intestine</td>\n",
       "      <td>tail and claws fish</td>\n",
       "      <td>13</td>\n",
       "    </tr>\n",
       "    <tr>\n",
       "      <th>whole plant seaweeds</th>\n",
       "      <td>Whole plant</td>\n",
       "      <td>whole plant seaweeds</td>\n",
       "      <td>9</td>\n",
       "    </tr>\n",
       "  </tbody>\n",
       "</table>\n",
       "</div>"
      ],
      "text/plain": [
       "                                                    matched_maris_name  \\\n",
       "source_key                                                               \n",
       "mix of muscle and whole fish without liver fish    Flesh without bones   \n",
       "cod medallion fish                                            Old leaf   \n",
       "whole without head fish                            Flesh without bones   \n",
       "tail and claws fish                              Stomach and intestine   \n",
       "whole plant seaweeds                                       Whole plant   \n",
       "\n",
       "                                                                                     source_name  \\\n",
       "source_key                                                                                         \n",
       "mix of muscle and whole fish without liver fish  mix of muscle and whole fish without liver fish   \n",
       "cod medallion fish                                                            cod medallion fish   \n",
       "whole without head fish                                                  whole without head fish   \n",
       "tail and claws fish                                                          tail and claws fish   \n",
       "whole plant seaweeds                                                        whole plant seaweeds   \n",
       "\n",
       "                                                 match_score  \n",
       "source_key                                                    \n",
       "mix of muscle and whole fish without liver fish           31  \n",
       "cod medallion fish                                        13  \n",
       "whole without head fish                                   13  \n",
       "tail and claws fish                                       13  \n",
       "whole plant seaweeds                                       9  "
      ]
     },
     "execution_count": null,
     "metadata": {},
     "output_type": "execute_result"
    }
   ],
   "source": [
    "#| eval: false\n",
    "remapper = Remapper(provider_lut_df=get_unique_across_dfs(dfs_test, col_name='body_part_temp', as_df=True),\n",
    "                    maris_lut_fn=bodyparts_lut_path,\n",
    "                    maris_col_id='bodypar_id',\n",
    "                    maris_col_name='bodypar',\n",
    "                    provider_col_to_match='value',\n",
    "                    provider_col_key='value',\n",
    "                    fname_cache='tissues_ospar.pkl'\n",
    "                    )\n",
    "\n",
    "remapper.generate_lookup_table(as_df=True)\n",
    "remapper.select_match(match_score_threshold=0, verbose=True).head()"
   ]
  },
  {
   "cell_type": "markdown",
   "id": "f8a9ee36",
   "metadata": {},
   "source": [
    "Many of the lookup entries are sufficient for our needs. However, for values that don't find a match, we can use the `fixes_biota_bodyparts` dictionary to apply manual corrections. First we will create the dictionary."
   ]
  },
  {
   "cell_type": "code",
   "execution_count": null,
   "id": "952b57d7",
   "metadata": {},
   "outputs": [],
   "source": [
    "#|exports\n",
    "fixes_biota_tissues = {\n",
    "    'whole seaweed' : 'Whole plant',\n",
    "    'flesh fish': 'Flesh with bones', # We assume it as the category 'Flesh with bones' also exists\n",
    "    'flesh fish' : 'Flesh with bones',\n",
    "    'unknown fish' : NA,\n",
    "    'unknown fish' : NA,\n",
    "    'cod medallion fish' : NA, # TO BE DETERMINED\n",
    "    'mix of muscle and whole fish without liver fish' : NA, # TO BE DETERMINED\n",
    "    'whole without head fish' : NA, # TO BE DETERMINED\n",
    "    'flesh without bones seaweed' : NA, # TO BE DETERMINED\n",
    "    'tail and claws fish' : NA # TO BE DETERMINED\n",
    "}"
   ]
  },
  {
   "cell_type": "markdown",
   "id": "ab461b2e",
   "metadata": {},
   "source": [
    "Now we will generate the lookup table and apply the manual corrections of the ``fixes_biota_bodyparts`` dictionary.\n"
   ]
  },
  {
   "cell_type": "code",
   "execution_count": null,
   "id": "82605749",
   "metadata": {},
   "outputs": [
    {
     "name": "stderr",
     "output_type": "stream",
     "text": [
      "Processing:   0%|          | 0/27 [00:00<?, ?it/s]"
     ]
    },
    {
     "name": "stderr",
     "output_type": "stream",
     "text": [
      "Processing: 100%|██████████| 27/27 [00:00<00:00, 77.90it/s]\n"
     ]
    },
    {
     "data": {
      "text/html": [
       "<div>\n",
       "<style scoped>\n",
       "    .dataframe tbody tr th:only-of-type {\n",
       "        vertical-align: middle;\n",
       "    }\n",
       "\n",
       "    .dataframe tbody tr th {\n",
       "        vertical-align: top;\n",
       "    }\n",
       "\n",
       "    .dataframe thead th {\n",
       "        text-align: right;\n",
       "    }\n",
       "</style>\n",
       "<table border=\"1\" class=\"dataframe\">\n",
       "  <thead>\n",
       "    <tr style=\"text-align: right;\">\n",
       "      <th></th>\n",
       "      <th>matched_maris_name</th>\n",
       "      <th>source_name</th>\n",
       "      <th>match_score</th>\n",
       "    </tr>\n",
       "    <tr>\n",
       "      <th>source_key</th>\n",
       "      <th></th>\n",
       "      <th></th>\n",
       "      <th></th>\n",
       "    </tr>\n",
       "  </thead>\n",
       "  <tbody>\n",
       "    <tr>\n",
       "      <th>whole fish fish</th>\n",
       "      <td>Whole animal</td>\n",
       "      <td>whole fish fish</td>\n",
       "      <td>9</td>\n",
       "    </tr>\n",
       "    <tr>\n",
       "      <th>flesh without bones molluscs</th>\n",
       "      <td>Flesh without bones</td>\n",
       "      <td>flesh without bones molluscs</td>\n",
       "      <td>9</td>\n",
       "    </tr>\n",
       "    <tr>\n",
       "      <th>whole fisk fish</th>\n",
       "      <td>Whole animal</td>\n",
       "      <td>whole fisk fish</td>\n",
       "      <td>9</td>\n",
       "    </tr>\n",
       "    <tr>\n",
       "      <th>whole plant seaweeds</th>\n",
       "      <td>Whole plant</td>\n",
       "      <td>whole plant seaweeds</td>\n",
       "      <td>9</td>\n",
       "    </tr>\n",
       "    <tr>\n",
       "      <th>soft parts molluscs</th>\n",
       "      <td>Soft parts</td>\n",
       "      <td>soft parts molluscs</td>\n",
       "      <td>9</td>\n",
       "    </tr>\n",
       "    <tr>\n",
       "      <th>whole animal molluscs</th>\n",
       "      <td>Whole animal</td>\n",
       "      <td>whole animal molluscs</td>\n",
       "      <td>9</td>\n",
       "    </tr>\n",
       "    <tr>\n",
       "      <th>growing tips seaweed</th>\n",
       "      <td>Growing tips</td>\n",
       "      <td>growing tips seaweed</td>\n",
       "      <td>8</td>\n",
       "    </tr>\n",
       "    <tr>\n",
       "      <th>whole plant seaweed</th>\n",
       "      <td>Whole plant</td>\n",
       "      <td>whole plant seaweed</td>\n",
       "      <td>8</td>\n",
       "    </tr>\n",
       "    <tr>\n",
       "      <th>whole  seaweed</th>\n",
       "      <td>Whole plant</td>\n",
       "      <td>whole  seaweed</td>\n",
       "      <td>7</td>\n",
       "    </tr>\n",
       "    <tr>\n",
       "      <th>muscle  fish</th>\n",
       "      <td>Muscle</td>\n",
       "      <td>muscle  fish</td>\n",
       "      <td>6</td>\n",
       "    </tr>\n",
       "    <tr>\n",
       "      <th>head fish</th>\n",
       "      <td>Head</td>\n",
       "      <td>head fish</td>\n",
       "      <td>5</td>\n",
       "    </tr>\n",
       "    <tr>\n",
       "      <th>whole animal fish</th>\n",
       "      <td>Whole animal</td>\n",
       "      <td>whole animal fish</td>\n",
       "      <td>5</td>\n",
       "    </tr>\n",
       "    <tr>\n",
       "      <th>muscle fish</th>\n",
       "      <td>Muscle</td>\n",
       "      <td>muscle fish</td>\n",
       "      <td>5</td>\n",
       "    </tr>\n",
       "    <tr>\n",
       "      <th>whole  fish</th>\n",
       "      <td>Whole animal</td>\n",
       "      <td>whole  fish</td>\n",
       "      <td>5</td>\n",
       "    </tr>\n",
       "    <tr>\n",
       "      <th>liver fish</th>\n",
       "      <td>Liver</td>\n",
       "      <td>liver fish</td>\n",
       "      <td>5</td>\n",
       "    </tr>\n",
       "    <tr>\n",
       "      <th>flesh without bones fish</th>\n",
       "      <td>Flesh without bones</td>\n",
       "      <td>flesh without bones fish</td>\n",
       "      <td>5</td>\n",
       "    </tr>\n",
       "    <tr>\n",
       "      <th>flesh with scales fish</th>\n",
       "      <td>Flesh with scales</td>\n",
       "      <td>flesh with scales fish</td>\n",
       "      <td>5</td>\n",
       "    </tr>\n",
       "    <tr>\n",
       "      <th>soft parts fish</th>\n",
       "      <td>Soft parts</td>\n",
       "      <td>soft parts fish</td>\n",
       "      <td>5</td>\n",
       "    </tr>\n",
       "    <tr>\n",
       "      <th>whole fish</th>\n",
       "      <td>Whole animal</td>\n",
       "      <td>whole fish</td>\n",
       "      <td>5</td>\n",
       "    </tr>\n",
       "    <tr>\n",
       "      <th>flesh without bone fish</th>\n",
       "      <td>Flesh without bones</td>\n",
       "      <td>flesh without bone fish</td>\n",
       "      <td>4</td>\n",
       "    </tr>\n",
       "    <tr>\n",
       "      <th>tail and claws fish</th>\n",
       "      <td>(Not available)</td>\n",
       "      <td>tail and claws fish</td>\n",
       "      <td>2</td>\n",
       "    </tr>\n",
       "    <tr>\n",
       "      <th>flesh without bones seaweed</th>\n",
       "      <td>(Not available)</td>\n",
       "      <td>flesh without bones seaweed</td>\n",
       "      <td>2</td>\n",
       "    </tr>\n",
       "    <tr>\n",
       "      <th>cod medallion fish</th>\n",
       "      <td>(Not available)</td>\n",
       "      <td>cod medallion fish</td>\n",
       "      <td>2</td>\n",
       "    </tr>\n",
       "    <tr>\n",
       "      <th>unknown fish</th>\n",
       "      <td>(Not available)</td>\n",
       "      <td>unknown fish</td>\n",
       "      <td>2</td>\n",
       "    </tr>\n",
       "    <tr>\n",
       "      <th>whole without head fish</th>\n",
       "      <td>(Not available)</td>\n",
       "      <td>whole without head fish</td>\n",
       "      <td>2</td>\n",
       "    </tr>\n",
       "    <tr>\n",
       "      <th>mix of muscle and whole fish without liver fish</th>\n",
       "      <td>(Not available)</td>\n",
       "      <td>mix of muscle and whole fish without liver fish</td>\n",
       "      <td>2</td>\n",
       "    </tr>\n",
       "  </tbody>\n",
       "</table>\n",
       "</div>"
      ],
      "text/plain": [
       "                                                  matched_maris_name  \\\n",
       "source_key                                                             \n",
       "whole fish fish                                         Whole animal   \n",
       "flesh without bones molluscs                     Flesh without bones   \n",
       "whole fisk fish                                         Whole animal   \n",
       "whole plant seaweeds                                     Whole plant   \n",
       "soft parts molluscs                                       Soft parts   \n",
       "whole animal molluscs                                   Whole animal   \n",
       "growing tips seaweed                                    Growing tips   \n",
       "whole plant seaweed                                      Whole plant   \n",
       "whole  seaweed                                           Whole plant   \n",
       "muscle  fish                                                  Muscle   \n",
       "head fish                                                       Head   \n",
       "whole animal fish                                       Whole animal   \n",
       "muscle fish                                                   Muscle   \n",
       "whole  fish                                             Whole animal   \n",
       "liver fish                                                     Liver   \n",
       "flesh without bones fish                         Flesh without bones   \n",
       "flesh with scales fish                             Flesh with scales   \n",
       "soft parts fish                                           Soft parts   \n",
       "whole fish                                              Whole animal   \n",
       "flesh without bone fish                          Flesh without bones   \n",
       "tail and claws fish                                  (Not available)   \n",
       "flesh without bones seaweed                          (Not available)   \n",
       "cod medallion fish                                   (Not available)   \n",
       "unknown fish                                         (Not available)   \n",
       "whole without head fish                              (Not available)   \n",
       "mix of muscle and whole fish without liver fish      (Not available)   \n",
       "\n",
       "                                                                                     source_name  \\\n",
       "source_key                                                                                         \n",
       "whole fish fish                                                                  whole fish fish   \n",
       "flesh without bones molluscs                                        flesh without bones molluscs   \n",
       "whole fisk fish                                                                  whole fisk fish   \n",
       "whole plant seaweeds                                                        whole plant seaweeds   \n",
       "soft parts molluscs                                                          soft parts molluscs   \n",
       "whole animal molluscs                                                      whole animal molluscs   \n",
       "growing tips seaweed                                                        growing tips seaweed   \n",
       "whole plant seaweed                                                          whole plant seaweed   \n",
       "whole  seaweed                                                                    whole  seaweed   \n",
       "muscle  fish                                                                        muscle  fish   \n",
       "head fish                                                                              head fish   \n",
       "whole animal fish                                                              whole animal fish   \n",
       "muscle fish                                                                          muscle fish   \n",
       "whole  fish                                                                          whole  fish   \n",
       "liver fish                                                                            liver fish   \n",
       "flesh without bones fish                                                flesh without bones fish   \n",
       "flesh with scales fish                                                    flesh with scales fish   \n",
       "soft parts fish                                                                  soft parts fish   \n",
       "whole fish                                                                            whole fish   \n",
       "flesh without bone fish                                                  flesh without bone fish   \n",
       "tail and claws fish                                                          tail and claws fish   \n",
       "flesh without bones seaweed                                          flesh without bones seaweed   \n",
       "cod medallion fish                                                            cod medallion fish   \n",
       "unknown fish                                                                        unknown fish   \n",
       "whole without head fish                                                  whole without head fish   \n",
       "mix of muscle and whole fish without liver fish  mix of muscle and whole fish without liver fish   \n",
       "\n",
       "                                                 match_score  \n",
       "source_key                                                    \n",
       "whole fish fish                                            9  \n",
       "flesh without bones molluscs                               9  \n",
       "whole fisk fish                                            9  \n",
       "whole plant seaweeds                                       9  \n",
       "soft parts molluscs                                        9  \n",
       "whole animal molluscs                                      9  \n",
       "growing tips seaweed                                       8  \n",
       "whole plant seaweed                                        8  \n",
       "whole  seaweed                                             7  \n",
       "muscle  fish                                               6  \n",
       "head fish                                                  5  \n",
       "whole animal fish                                          5  \n",
       "muscle fish                                                5  \n",
       "whole  fish                                                5  \n",
       "liver fish                                                 5  \n",
       "flesh without bones fish                                   5  \n",
       "flesh with scales fish                                     5  \n",
       "soft parts fish                                            5  \n",
       "whole fish                                                 5  \n",
       "flesh without bone fish                                    4  \n",
       "tail and claws fish                                        2  \n",
       "flesh without bones seaweed                                2  \n",
       "cod medallion fish                                         2  \n",
       "unknown fish                                               2  \n",
       "whole without head fish                                    2  \n",
       "mix of muscle and whole fish without liver fish            2  "
      ]
     },
     "execution_count": null,
     "metadata": {},
     "output_type": "execute_result"
    }
   ],
   "source": [
    "#| eval: false\n",
    "remapper.generate_lookup_table(fixes=fixes_biota_tissues)\n",
    "remapper.select_match(match_score_threshold=1)"
   ]
  },
  {
   "cell_type": "markdown",
   "id": "4782433d",
   "metadata": {},
   "source": [
    "At this stage, the majority of entries have been successfully matched to MARIS nomenclature. For those entries that remain unmatched, they are appropriately marked as not available. We can now proceed with the final remapping process:\n",
    "\n",
    "1. Create Remapper Lambda Function:\n",
    "\n",
    "   We'll define a lambda function that instantiates a Remapper object and returns its corrected lookup table.\n",
    "\n",
    "2. Apply RemapCB: \n",
    "\n",
    "   Using the generic `RemapCB` callback, we'll perform the actual remapping."
   ]
  },
  {
   "cell_type": "code",
   "execution_count": null,
   "id": "38e2a17f",
   "metadata": {},
   "outputs": [],
   "source": [
    "#| exports\n",
    "lut_bodyparts = lambda: Remapper(provider_lut_df=get_unique_across_dfs(tfm.dfs, col_name='body_part_temp', as_df=True),\n",
    "                               maris_lut_fn=bodyparts_lut_path,\n",
    "                               maris_col_id='bodypar_id',\n",
    "                               maris_col_name='bodypar',\n",
    "                               provider_col_to_match='value',\n",
    "                               provider_col_key='value',\n",
    "                               fname_cache='tissues_ospar.pkl'\n",
    "                               ).generate_lookup_table(fixes=fixes_biota_tissues, as_df=False, overwrite=False)"
   ]
  },
  {
   "cell_type": "markdown",
   "id": "55f699d2",
   "metadata": {},
   "source": [
    "Putting it all together, we now apply the `RemapCB` to our data. This process results in the addition of a `body_part` column to our `biota` dataframe, containing standardized species IDs."
   ]
  },
  {
   "cell_type": "code",
   "execution_count": null,
   "id": "ac6ee355",
   "metadata": {},
   "outputs": [
    {
     "data": {
      "text/plain": [
       "array([ 1, 40, 52, 34, 13, 19, 56,  0,  4, 60, 25])"
      ]
     },
     "execution_count": null,
     "metadata": {},
     "output_type": "execute_result"
    }
   ],
   "source": [
    "#|eval: false\n",
    "dfs = load_data(fname_in)\n",
    "tfm = Transformer(dfs, cbs=[  \n",
    "                            AddBodypartTempCB(),\n",
    "                            RemapCB(fn_lut=lut_bodyparts, col_remap='BODY_PART', col_src='body_part_temp' , dest_grps='BIOTA')\n",
    "                            ])\n",
    "tfm()\n",
    "tfm.dfs['BIOTA']['BODY_PART'].unique()"
   ]
  },
  {
   "cell_type": "markdown",
   "id": "904f7feb",
   "metadata": {},
   "source": [
    "## Remap biogroup"
   ]
  },
  {
   "cell_type": "markdown",
   "id": "90477ed4",
   "metadata": {},
   "source": [
    "The MARIS species lookup table includes a ``biogroup_id`` column that associates each species with its corresponding ``biogroup``. We will leverage this relationship to populate a ``bio_group`` column in the biota DataFrame."
   ]
  },
  {
   "cell_type": "code",
   "execution_count": null,
   "id": "6c2ccab7",
   "metadata": {},
   "outputs": [],
   "source": [
    "#| exports\n",
    "lut_biogroup_from_biota = lambda: get_lut(src_dir=species_lut_path().parent, fname=species_lut_path().name, \n",
    "                               key='species_id', value='biogroup_id')"
   ]
  },
  {
   "cell_type": "code",
   "execution_count": null,
   "id": "bf25b271",
   "metadata": {},
   "outputs": [
    {
     "name": "stdout",
     "output_type": "stream",
     "text": [
      "[14 11  4 13 12  2  5  6]\n"
     ]
    }
   ],
   "source": [
    "#| eval: false\n",
    "dfs = load_data(fname_in)\n",
    "tfm = Transformer(dfs, cbs=[ \n",
    "    RemapCB(fn_lut=lut_biota, col_remap='SPECIES', col_src='Species', dest_grps='BIOTA'),\n",
    "    RemapCB(fn_lut=lut_biota_enhanced, col_remap='enhanced_species', col_src='Biological group', dest_grps='BIOTA'),\n",
    "    EnhanceSpeciesCB(),\n",
    "    RemapCB(fn_lut=lut_biogroup_from_biota, col_remap='BIO_GROUP', col_src='SPECIES', dest_grps='BIOTA')\n",
    "    ])\n",
    "\n",
    "print(tfm()['BIOTA']['BIO_GROUP'].unique())\n"
   ]
  },
  {
   "cell_type": "markdown",
   "id": "e0aad2e3",
   "metadata": {},
   "source": [
    "## Add Laboratory ID (REVIEW)"
   ]
  },
  {
   "cell_type": "markdown",
   "id": "a05d1123",
   "metadata": {},
   "source": [
    "See helcom.ipynb for details refarding the review of the laboratory ID column."
   ]
  },
  {
   "cell_type": "markdown",
   "id": "6724bfc6",
   "metadata": {},
   "source": [
    "Lets use the utility `get_unique_across_dfs` function to review the unique laboratory IDs in the OSPAR dataset:"
   ]
  },
  {
   "cell_type": "code",
   "execution_count": null,
   "id": "50524ff0",
   "metadata": {},
   "outputs": [
    {
     "data": {
      "text/plain": [
       "Index(['ID', 'Contracting Party', 'RSC Sub-division', 'Station ID',\n",
       "       'Sample ID', 'LatD', 'LatM', 'LatS', 'LatDir', 'LongD', 'LongM',\n",
       "       'LongS', 'LongDir', 'Sample type', 'Biological group', 'Species',\n",
       "       'Body Part', 'Sampling date', 'Nuclide', 'Value type',\n",
       "       'Activity or MDA', 'Uncertainty', 'Unit', 'Data provider',\n",
       "       'Measurement Comment', 'Sample Comment', 'Reference Comment', 'SPECIES',\n",
       "       'enhanced_species', 'BIO_GROUP'],\n",
       "      dtype='object')"
      ]
     },
     "execution_count": null,
     "metadata": {},
     "output_type": "execute_result"
    }
   ],
   "source": [
    "tfm.dfs['BIOTA'].columns"
   ]
  },
  {
   "cell_type": "code",
   "execution_count": null,
   "id": "45bd0185",
   "metadata": {},
   "outputs": [
    {
     "data": {
      "text/html": [
       "<div>\n",
       "<style scoped>\n",
       "    .dataframe tbody tr th:only-of-type {\n",
       "        vertical-align: middle;\n",
       "    }\n",
       "\n",
       "    .dataframe tbody tr th {\n",
       "        vertical-align: top;\n",
       "    }\n",
       "\n",
       "    .dataframe thead th {\n",
       "        text-align: right;\n",
       "    }\n",
       "</style>\n",
       "<table border=\"1\" class=\"dataframe\">\n",
       "  <thead>\n",
       "    <tr style=\"text-align: right;\">\n",
       "      <th></th>\n",
       "      <th>Data provider</th>\n",
       "      <th>Contracting Party</th>\n",
       "    </tr>\n",
       "  </thead>\n",
       "  <tbody>\n",
       "    <tr>\n",
       "      <th>0</th>\n",
       "      <td>SCKâ¢CEN</td>\n",
       "      <td>Belgium</td>\n",
       "    </tr>\n",
       "    <tr>\n",
       "      <th>172</th>\n",
       "      <td>RisÃ¸-DTU</td>\n",
       "      <td>Denmark</td>\n",
       "    </tr>\n",
       "    <tr>\n",
       "      <th>205</th>\n",
       "      <td>Johann Heinrich von ThÃ¼nen Institute (vTI)</td>\n",
       "      <td>Germany</td>\n",
       "    </tr>\n",
       "    <tr>\n",
       "      <th>236</th>\n",
       "      <td>Institute for Energy Technology, Kjeller, Norway</td>\n",
       "      <td>Norway</td>\n",
       "    </tr>\n",
       "    <tr>\n",
       "      <th>249</th>\n",
       "      <td>Institute of Marine Research/Norwegian Radiation Protection Authority</td>\n",
       "      <td>Norway</td>\n",
       "    </tr>\n",
       "    <tr>\n",
       "      <th>262</th>\n",
       "      <td>Norwegian Radiation Protection Authority</td>\n",
       "      <td>Norway</td>\n",
       "    </tr>\n",
       "    <tr>\n",
       "      <th>346</th>\n",
       "      <td>FSA-Food Standards Agency</td>\n",
       "      <td>United Kingdom</td>\n",
       "    </tr>\n",
       "    <tr>\n",
       "      <th>347</th>\n",
       "      <td>EA-Environment Agency</td>\n",
       "      <td>United Kingdom</td>\n",
       "    </tr>\n",
       "  </tbody>\n",
       "</table>\n",
       "</div>"
      ],
      "text/plain": [
       "                                                             Data provider  \\\n",
       "0                                                                SCKâ¢CEN   \n",
       "172                                                              RisÃ¸-DTU   \n",
       "205                            Johann Heinrich von ThÃ¼nen Institute (vTI)   \n",
       "236                       Institute for Energy Technology, Kjeller, Norway   \n",
       "249  Institute of Marine Research/Norwegian Radiation Protection Authority   \n",
       "262                               Norwegian Radiation Protection Authority   \n",
       "346                                              FSA-Food Standards Agency   \n",
       "347                                                  EA-Environment Agency   \n",
       "\n",
       "    Contracting Party  \n",
       "0             Belgium  \n",
       "172           Denmark  \n",
       "205           Germany  \n",
       "236            Norway  \n",
       "249            Norway  \n",
       "262            Norway  \n",
       "346    United Kingdom  \n",
       "347    United Kingdom  "
      ]
     },
     "execution_count": null,
     "metadata": {},
     "output_type": "execute_result"
    }
   ],
   "source": [
    "tfm.dfs['BIOTA'][['Data provider','Contracting Party']].drop_duplicates().head(8)"
   ]
  },
  {
   "cell_type": "markdown",
   "id": "bccaabdf",
   "metadata": {},
   "source": [
    "The `LAB` information could be included with a little work. "
   ]
  },
  {
   "cell_type": "markdown",
   "id": "b0ec3893",
   "metadata": {},
   "source": [
    "## Add Sample ID (REVIEW)"
   ]
  },
  {
   "cell_type": "markdown",
   "id": "d1c1a91a",
   "metadata": {},
   "source": [
    "See helcom.ipynb for details refarding the review of the sample ID (i.e. ``SMP_ID``\t) column.\n"
   ]
  },
  {
   "cell_type": "markdown",
   "id": "75a2ac07",
   "metadata": {},
   "source": [
    "The OSPAR dataset includes an `ID` column, which we will use to create the `SMP_ID` column."
   ]
  },
  {
   "cell_type": "code",
   "execution_count": null,
   "id": "a065b30a",
   "metadata": {},
   "outputs": [],
   "source": [
    "#| exports\n",
    "class AddSampleIdCB(Callback):\n",
    "    \"Create a SMP_ID column from the ID column\"\n",
    "    def __call__(self, tfm):\n",
    "        for df in tfm.dfs.values():\n",
    "            if 'ID' in df.columns:\n",
    "                df['SMP_ID'] = df['ID']"
   ]
  },
  {
   "cell_type": "code",
   "execution_count": null,
   "id": "4ade901d",
   "metadata": {},
   "outputs": [
    {
     "name": "stdout",
     "output_type": "stream",
     "text": [
      "BIOTA: [    1     2     3 ... 98060 98061 98062]\n",
      "SEAWATER: [     1      2      3 ... 120366 120367 120368]\n",
      "                           SEAWATER  BIOTA\n",
      "Number of rows in dfs         19193  15951\n",
      "Number of rows in tfm.dfs     19193  15951\n",
      "Number of rows removed            0      0 \n",
      "\n"
     ]
    }
   ],
   "source": [
    "#| eval: false\n",
    "dfs = load_data(fname_in)\n",
    "tfm = Transformer(dfs, cbs=[\n",
    "                            AddSampleIdCB(),\n",
    "                            CompareDfsAndTfmCB(dfs)\n",
    "\n",
    "                            ])\n",
    "tfm()\n",
    "for grp in ['BIOTA', 'SEAWATER']:\n",
    "    print(f\"{grp}: {tfm.dfs[grp]['SMP_ID'].unique()}\")\n",
    "\n",
    "print(pd.DataFrame.from_dict(tfm.compare_stats) , '\\n')\n",
    "    "
   ]
  },
  {
   "cell_type": "markdown",
   "id": "f2b73db7",
   "metadata": {},
   "source": [
    "## Add depth"
   ]
  },
  {
   "cell_type": "markdown",
   "id": "fdc5d07f",
   "metadata": {},
   "source": [
    "The OSPAR dataset includes a column for the sampling depth (`Sampling depth`) for the `SEAWATER` dataset. In this section, we will create a callback to incorporate the sampling depth (`smp_depth`) into the MARIS dataset."
   ]
  },
  {
   "cell_type": "code",
   "execution_count": null,
   "id": "1c1a7db8",
   "metadata": {},
   "outputs": [],
   "source": [
    "class AddDepthCB(Callback):\n",
    "    \"Ensure depth values are floats and add 'SMP_DEPTH' columns.\"\n",
    "    def __call__(self, tfm: Transformer):\n",
    "        for df in tfm.dfs.values():\n",
    "            if 'Sampling depth' in df.columns:\n",
    "                df['SMP_DEPTH'] = df['Sampling depth'].astype(float)"
   ]
  },
  {
   "cell_type": "code",
   "execution_count": null,
   "id": "af5764c3",
   "metadata": {},
   "outputs": [
    {
     "name": "stdout",
     "output_type": "stream",
     "text": [
      "SEAWATER:        SMP_DEPTH\n",
      "0            3.0\n",
      "80           2.0\n",
      "81          21.0\n",
      "85          31.0\n",
      "87          32.0\n",
      "...          ...\n",
      "16022       71.0\n",
      "16023       66.0\n",
      "16025       81.0\n",
      "16385     1660.0\n",
      "16389     1500.0\n",
      "\n",
      "[134 rows x 1 columns]\n"
     ]
    }
   ],
   "source": [
    "#| eval: false\n",
    "dfs = load_data(fname_in)\n",
    "tfm = Transformer(dfs, cbs=[\n",
    "    AddDepthCB()\n",
    "    ])\n",
    "tfm()\n",
    "for grp in tfm.dfs.keys():  \n",
    "    if 'SMP_DEPTH' in tfm.dfs[grp].columns:\n",
    "        print(f'{grp}:', tfm.dfs[grp][['SMP_DEPTH']].drop_duplicates())"
   ]
  },
  {
   "cell_type": "markdown",
   "id": "3433bc90",
   "metadata": {},
   "source": [
    "## Standardize Coordinates"
   ]
  },
  {
   "cell_type": "markdown",
   "id": "cd95422e",
   "metadata": {},
   "source": [
    "The OSPAR dataset offers coordinates in degrees, minutes, and seconds (DMS). The following callback is designed to convert DMS to decimal degrees. "
   ]
  },
  {
   "cell_type": "code",
   "execution_count": null,
   "id": "94730c0b",
   "metadata": {},
   "outputs": [],
   "source": [
    "# | export\n",
    "class ConvertLonLatCB(Callback):\n",
    "    \"\"\"Convert Longitude and Latitude values to decimal degrees (DDD.DDDDD°). This class processes DataFrames to convert latitude and longitude from degrees, minutes, and seconds \n",
    "    (DMS) format with direction indicators to decimal degrees format.\"\"\"\n",
    "    def __init__(self):\n",
    "        fc.store_attr()\n",
    "\n",
    "    def __call__(self, tfm: 'Transformer'):\n",
    "        for grp, df in tfm.dfs.items():\n",
    "            df['LAT'] = self._convert_latitude(df)\n",
    "            df['LON'] = self._convert_longitude(df)\n",
    "\n",
    "    def _convert_latitude(self, df: pd.DataFrame) -> pd.Series:\n",
    "        return np.where(\n",
    "            df['LatDir'].isin(['S']),\n",
    "            self._dms_to_decimal(df['LatD'], df['LatM'], df['LatS']) * -1,\n",
    "            self._dms_to_decimal(df['LatD'], df['LatM'], df['LatS'])\n",
    "        )\n",
    "\n",
    "    def _convert_longitude(self, df: pd.DataFrame) -> pd.Series:\n",
    "        return np.where(\n",
    "            df['LongDir'].isin(['W']),\n",
    "            self._dms_to_decimal(df['LongD'], df['LongM'], df['LongS']) * -1,\n",
    "            self._dms_to_decimal(df['LongD'], df['LongM'], df['LongS'])\n",
    "        )\n",
    "\n",
    "    def _dms_to_decimal(self, degrees: pd.Series, minutes: pd.Series, seconds: pd.Series) -> pd.Series:\n",
    "        return degrees + minutes / 60 + seconds / 3600\n"
   ]
  },
  {
   "cell_type": "code",
   "execution_count": null,
   "id": "fb7900d6",
   "metadata": {},
   "outputs": [
    {
     "data": {
      "text/html": [
       "<div>\n",
       "<style scoped>\n",
       "    .dataframe tbody tr th:only-of-type {\n",
       "        vertical-align: middle;\n",
       "    }\n",
       "\n",
       "    .dataframe tbody tr th {\n",
       "        vertical-align: top;\n",
       "    }\n",
       "\n",
       "    .dataframe thead th {\n",
       "        text-align: right;\n",
       "    }\n",
       "</style>\n",
       "<table border=\"1\" class=\"dataframe\">\n",
       "  <thead>\n",
       "    <tr style=\"text-align: right;\">\n",
       "      <th></th>\n",
       "      <th>LAT</th>\n",
       "      <th>LatD</th>\n",
       "      <th>LatM</th>\n",
       "      <th>LatS</th>\n",
       "      <th>LON</th>\n",
       "      <th>LatDir</th>\n",
       "      <th>LongD</th>\n",
       "      <th>LongM</th>\n",
       "      <th>LongS</th>\n",
       "      <th>LongDir</th>\n",
       "    </tr>\n",
       "  </thead>\n",
       "  <tbody>\n",
       "    <tr>\n",
       "      <th>0</th>\n",
       "      <td>51.375278</td>\n",
       "      <td>51</td>\n",
       "      <td>22.0</td>\n",
       "      <td>31.0</td>\n",
       "      <td>3.188056</td>\n",
       "      <td>N</td>\n",
       "      <td>3</td>\n",
       "      <td>11.0</td>\n",
       "      <td>17.0</td>\n",
       "      <td>E</td>\n",
       "    </tr>\n",
       "    <tr>\n",
       "      <th>1</th>\n",
       "      <td>51.223611</td>\n",
       "      <td>51</td>\n",
       "      <td>13.0</td>\n",
       "      <td>25.0</td>\n",
       "      <td>2.859444</td>\n",
       "      <td>N</td>\n",
       "      <td>2</td>\n",
       "      <td>51.0</td>\n",
       "      <td>34.0</td>\n",
       "      <td>E</td>\n",
       "    </tr>\n",
       "    <tr>\n",
       "      <th>2</th>\n",
       "      <td>51.184444</td>\n",
       "      <td>51</td>\n",
       "      <td>11.0</td>\n",
       "      <td>4.0</td>\n",
       "      <td>2.713611</td>\n",
       "      <td>N</td>\n",
       "      <td>2</td>\n",
       "      <td>42.0</td>\n",
       "      <td>49.0</td>\n",
       "      <td>E</td>\n",
       "    </tr>\n",
       "    <tr>\n",
       "      <th>3</th>\n",
       "      <td>51.420278</td>\n",
       "      <td>51</td>\n",
       "      <td>25.0</td>\n",
       "      <td>13.0</td>\n",
       "      <td>3.262222</td>\n",
       "      <td>N</td>\n",
       "      <td>3</td>\n",
       "      <td>15.0</td>\n",
       "      <td>44.0</td>\n",
       "      <td>E</td>\n",
       "    </tr>\n",
       "    <tr>\n",
       "      <th>4</th>\n",
       "      <td>51.416111</td>\n",
       "      <td>51</td>\n",
       "      <td>24.0</td>\n",
       "      <td>58.0</td>\n",
       "      <td>2.809722</td>\n",
       "      <td>N</td>\n",
       "      <td>2</td>\n",
       "      <td>48.0</td>\n",
       "      <td>35.0</td>\n",
       "      <td>E</td>\n",
       "    </tr>\n",
       "    <tr>\n",
       "      <th>...</th>\n",
       "      <td>...</td>\n",
       "      <td>...</td>\n",
       "      <td>...</td>\n",
       "      <td>...</td>\n",
       "      <td>...</td>\n",
       "      <td>...</td>\n",
       "      <td>...</td>\n",
       "      <td>...</td>\n",
       "      <td>...</td>\n",
       "      <td>...</td>\n",
       "    </tr>\n",
       "    <tr>\n",
       "      <th>19188</th>\n",
       "      <td>53.600000</td>\n",
       "      <td>53</td>\n",
       "      <td>36.0</td>\n",
       "      <td>0.0</td>\n",
       "      <td>-5.933333</td>\n",
       "      <td>N</td>\n",
       "      <td>5</td>\n",
       "      <td>56.0</td>\n",
       "      <td>0.0</td>\n",
       "      <td>W</td>\n",
       "    </tr>\n",
       "    <tr>\n",
       "      <th>19189</th>\n",
       "      <td>53.733333</td>\n",
       "      <td>53</td>\n",
       "      <td>44.0</td>\n",
       "      <td>0.0</td>\n",
       "      <td>-5.416667</td>\n",
       "      <td>N</td>\n",
       "      <td>5</td>\n",
       "      <td>25.0</td>\n",
       "      <td>0.0</td>\n",
       "      <td>W</td>\n",
       "    </tr>\n",
       "    <tr>\n",
       "      <th>19190</th>\n",
       "      <td>53.650000</td>\n",
       "      <td>53</td>\n",
       "      <td>39.0</td>\n",
       "      <td>0.0</td>\n",
       "      <td>-5.233333</td>\n",
       "      <td>N</td>\n",
       "      <td>5</td>\n",
       "      <td>14.0</td>\n",
       "      <td>0.0</td>\n",
       "      <td>W</td>\n",
       "    </tr>\n",
       "    <tr>\n",
       "      <th>19191</th>\n",
       "      <td>53.883333</td>\n",
       "      <td>53</td>\n",
       "      <td>53.0</td>\n",
       "      <td>0.0</td>\n",
       "      <td>-5.550000</td>\n",
       "      <td>N</td>\n",
       "      <td>5</td>\n",
       "      <td>33.0</td>\n",
       "      <td>0.0</td>\n",
       "      <td>W</td>\n",
       "    </tr>\n",
       "    <tr>\n",
       "      <th>19192</th>\n",
       "      <td>53.866667</td>\n",
       "      <td>53</td>\n",
       "      <td>52.0</td>\n",
       "      <td>0.0</td>\n",
       "      <td>-5.883333</td>\n",
       "      <td>N</td>\n",
       "      <td>5</td>\n",
       "      <td>53.0</td>\n",
       "      <td>0.0</td>\n",
       "      <td>W</td>\n",
       "    </tr>\n",
       "  </tbody>\n",
       "</table>\n",
       "<p>19193 rows × 10 columns</p>\n",
       "</div>"
      ],
      "text/plain": [
       "             LAT  LatD  LatM  LatS       LON LatDir  LongD  LongM  LongS  \\\n",
       "0      51.375278    51  22.0  31.0  3.188056      N      3   11.0   17.0   \n",
       "1      51.223611    51  13.0  25.0  2.859444      N      2   51.0   34.0   \n",
       "2      51.184444    51  11.0   4.0  2.713611      N      2   42.0   49.0   \n",
       "3      51.420278    51  25.0  13.0  3.262222      N      3   15.0   44.0   \n",
       "4      51.416111    51  24.0  58.0  2.809722      N      2   48.0   35.0   \n",
       "...          ...   ...   ...   ...       ...    ...    ...    ...    ...   \n",
       "19188  53.600000    53  36.0   0.0 -5.933333      N      5   56.0    0.0   \n",
       "19189  53.733333    53  44.0   0.0 -5.416667      N      5   25.0    0.0   \n",
       "19190  53.650000    53  39.0   0.0 -5.233333      N      5   14.0    0.0   \n",
       "19191  53.883333    53  53.0   0.0 -5.550000      N      5   33.0    0.0   \n",
       "19192  53.866667    53  52.0   0.0 -5.883333      N      5   53.0    0.0   \n",
       "\n",
       "      LongDir  \n",
       "0           E  \n",
       "1           E  \n",
       "2           E  \n",
       "3           E  \n",
       "4           E  \n",
       "...       ...  \n",
       "19188       W  \n",
       "19189       W  \n",
       "19190       W  \n",
       "19191       W  \n",
       "19192       W  \n",
       "\n",
       "[19193 rows x 10 columns]"
      ]
     },
     "execution_count": null,
     "metadata": {},
     "output_type": "execute_result"
    }
   ],
   "source": [
    "#|eval: false\n",
    "dfs = load_data(fname_in)\n",
    "tfm = Transformer(dfs, cbs=[\n",
    "                            ConvertLonLatCB()\n",
    "                            ])\n",
    "tfm()\n",
    "tfm.dfs['SEAWATER'][['LAT','LatD', 'LatM', 'LatS', 'LON', 'LatDir', 'LongD', 'LongM','LongS', 'LongDir']]"
   ]
  },
  {
   "cell_type": "markdown",
   "id": "f01454c1",
   "metadata": {},
   "source": [
    "Sanitize coordinates drops a row when both longitude & latitude equal 0 or data contains unrealistic longitude & latitude values. Converts longitude & latitude `,` separator to `.` separator.\""
   ]
  },
  {
   "cell_type": "code",
   "execution_count": null,
   "id": "7b834378",
   "metadata": {},
   "outputs": [
    {
     "name": "stdout",
     "output_type": "stream",
     "text": [
      "                           SEAWATER  BIOTA\n",
      "Number of rows in dfs         19193  15951\n",
      "Number of rows in tfm.dfs     19193  15951\n",
      "Number of rows removed            0      0 \n",
      "\n",
      "             LAT        LON\n",
      "0      51.393333   4.031111\n",
      "1      51.393333   4.031111\n",
      "2      51.393333   4.031111\n",
      "3      51.393333   4.031111\n",
      "4      51.393333   4.031111\n",
      "...          ...        ...\n",
      "15946  57.252500  12.087778\n",
      "15947  57.306389  12.107500\n",
      "15948  58.603333  11.245000\n",
      "15949  57.302500  11.905278\n",
      "15950  57.335278  12.076667\n",
      "\n",
      "[15951 rows x 2 columns]\n"
     ]
    }
   ],
   "source": [
    "#|eval: false\n",
    "dfs = load_data(fname_in)\n",
    "tfm = Transformer(dfs, cbs=[\n",
    "                            ConvertLonLatCB(),\n",
    "                            SanitizeLonLatCB(),\n",
    "                            CompareDfsAndTfmCB(dfs)\n",
    "                            ])\n",
    "\n",
    "tfm()\n",
    "print(pd.DataFrame.from_dict(tfm.compare_stats) , '\\n')\n",
    "\n",
    "print(tfm.dfs['BIOTA'][['LAT','LON']])\n"
   ]
  },
  {
   "cell_type": "markdown",
   "id": "ea68e395",
   "metadata": {},
   "source": [
    "## Review all callbacks"
   ]
  },
  {
   "cell_type": "code",
   "execution_count": null,
   "id": "054b183b",
   "metadata": {},
   "outputs": [
    {
     "name": "stdout",
     "output_type": "stream",
     "text": [
      "                           SEAWATER  BIOTA\n",
      "Number of rows in dfs         19193  15951\n",
      "Number of rows in tfm.dfs     19183  15951\n",
      "Number of rows removed           10      0 \n",
      "\n"
     ]
    }
   ],
   "source": [
    "#|eval: false\n",
    "dfs = load_data(fname_in)\n",
    "tfm = Transformer(dfs, cbs=[\n",
    "                            LowerStripNameCB(col_src='Nuclide', col_dst='Nuclide'),\n",
    "                            RemapNuclideNameCB(lut_nuclides, col_name='Nuclide'),\n",
    "                            ParseTimeCB(),\n",
    "                            EncodeTimeCB(),\n",
    "                            SanitizeValueCB(),\n",
    "                            NormalizeUncCB(),\n",
    "                            RemapUnitCB(renaming_unit_rules),\n",
    "                            RemapDetectionLimitCB(coi_dl, lut_dl),\n",
    "                            RemapCB(fn_lut=lut_biota, col_remap='SPECIES', col_src='Species', dest_grps='BIOTA'),    \n",
    "                            RemapCB(fn_lut=lut_biota_enhanced, col_remap='enhanced_species', col_src='Biological group', dest_grps='BIOTA'),    \n",
    "                            EnhanceSpeciesCB(),\n",
    "                            AddBodypartTempCB(),\n",
    "                            RemapCB(fn_lut=lut_bodyparts, col_remap='BODY_PART', col_src='body_part_temp' , dest_grps='BIOTA'),\n",
    "                            AddSampleIdCB(),\n",
    "                            AddDepthCB(),    \n",
    "                            ConvertLonLatCB(),\n",
    "                            SanitizeLonLatCB(),\n",
    "                            CompareDfsAndTfmCB(dfs)\n",
    "                            ])\n",
    "\n",
    "tfm()\n",
    "print(pd.DataFrame.from_dict(tfm.compare_stats) , '\\n')"
   ]
  },
  {
   "cell_type": "markdown",
   "id": "d0d87c3a",
   "metadata": {},
   "source": [
    "### Example change logs"
   ]
  },
  {
   "cell_type": "markdown",
   "id": "e2bdbf6c",
   "metadata": {},
   "source": [
    "Review the change logs for the netcdf encoding."
   ]
  },
  {
   "cell_type": "code",
   "execution_count": null,
   "id": "5c5a311c",
   "metadata": {},
   "outputs": [
    {
     "data": {
      "text/plain": [
       "[\"Convert 'Nuclide' column values to lowercase, strip spaces, and store in 'Nuclide' column.\",\n",
       " 'Remap data provider nuclide names to standardized MARIS nuclide names.',\n",
       " 'Parse the time format in the dataframe.',\n",
       " 'Encode time as seconds since epoch.',\n",
       " 'Sanitize value by removing blank entries and populating `value` column.',\n",
       " 'Normalize uncertainty values in DataFrames.',\n",
       " \"Callback to update DataFrame 'UNIT' columns based on a lookup table.\",\n",
       " 'Remap value type to MARIS format.',\n",
       " \"Remap values from 'Species' to 'SPECIES' for groups: BIOTA.\",\n",
       " \"Remap values from 'Biological group' to 'enhanced_species' for groups: BIOTA.\",\n",
       " \"Enhance the 'SPECIES' column using the 'enhanced_species' column if conditions are met.\",\n",
       " 'Add a temporary column with the body part and biological group combined.',\n",
       " \"Remap values from 'body_part_temp' to 'BODY_PART' for groups: BIOTA.\",\n",
       " 'Create a SMP_ID column from the ID column',\n",
       " \"Ensure depth values are floats and add 'SMP_DEPTH' columns.\",\n",
       " 'Convert Longitude and Latitude values to decimal degrees (DDD.DDDDD°). This class processes DataFrames to convert latitude and longitude from degrees, minutes, and seconds \\n    (DMS) format with direction indicators to decimal degrees format.',\n",
       " 'Drop rows with invalid longitude & latitude values. Convert `,` separator to `.` separator.',\n",
       " 'Create a dataframe of dropped data. Data included in the `dfs` not in the `tfm`.']"
      ]
     },
     "execution_count": null,
     "metadata": {},
     "output_type": "execute_result"
    }
   ],
   "source": [
    "#|eval: false\n",
    "dfs = load_data(fname_in)\n",
    "tfm = Transformer(dfs, cbs=[\n",
    "                            LowerStripNameCB(col_src='Nuclide', col_dst='Nuclide'),\n",
    "                            RemapNuclideNameCB(lut_nuclides, col_name='Nuclide'),\n",
    "                            ParseTimeCB(),\n",
    "                            EncodeTimeCB(),\n",
    "                            SanitizeValueCB(),\n",
    "                            NormalizeUncCB(),\n",
    "                            RemapUnitCB(renaming_unit_rules),\n",
    "                            RemapDetectionLimitCB(coi_dl, lut_dl),\n",
    "                            RemapCB(fn_lut=lut_biota, col_remap='SPECIES', col_src='Species', dest_grps='BIOTA'),    \n",
    "                            RemapCB(fn_lut=lut_biota_enhanced, col_remap='enhanced_species', col_src='Biological group', dest_grps='BIOTA'),    \n",
    "                            EnhanceSpeciesCB(),\n",
    "                            AddBodypartTempCB(),\n",
    "                            RemapCB(fn_lut=lut_bodyparts, col_remap='BODY_PART', col_src='body_part_temp' , dest_grps='BIOTA'),\n",
    "                            AddSampleIdCB(),\n",
    "                            AddDepthCB(),    \n",
    "                            ConvertLonLatCB(),\n",
    "                            SanitizeLonLatCB(),\n",
    "                            CompareDfsAndTfmCB(dfs)\n",
    "                            ])\n",
    "\n",
    "# Transform\n",
    "tfm()\n",
    "# Check transformation logs\n",
    "tfm.logs"
   ]
  },
  {
   "cell_type": "markdown",
   "id": "66b5ef65",
   "metadata": {},
   "source": [
    "## Feed global attributes"
   ]
  },
  {
   "cell_type": "code",
   "execution_count": null,
   "id": "c42cfdf0",
   "metadata": {},
   "outputs": [],
   "source": [
    "#| export\n",
    "kw = ['oceanography', 'Earth Science > Oceans > Ocean Chemistry> Radionuclides',\n",
    "      'Earth Science > Human Dimensions > Environmental Impacts > Nuclear Radiation Exposure',\n",
    "      'Earth Science > Oceans > Ocean Chemistry > Ocean Tracers, Earth Science > Oceans > Marine Sediments',\n",
    "      'Earth Science > Oceans > Ocean Chemistry, Earth Science > Oceans > Sea Ice > Isotopes',\n",
    "      'Earth Science > Oceans > Water Quality > Ocean Contaminants',\n",
    "      'Earth Science > Biological Classification > Animals/Vertebrates > Fish',\n",
    "      'Earth Science > Biosphere > Ecosystems > Marine Ecosystems',\n",
    "      'Earth Science > Biological Classification > Animals/Invertebrates > Mollusks',\n",
    "      'Earth Science > Biological Classification > Animals/Invertebrates > Arthropods > Crustaceans',\n",
    "      'Earth Science > Biological Classification > Plants > Macroalgae (Seaweeds)']\n"
   ]
  },
  {
   "cell_type": "code",
   "execution_count": null,
   "id": "d7519752",
   "metadata": {},
   "outputs": [],
   "source": [
    "#| exports\n",
    "def get_attrs(\n",
    "    tfm: Transformer, # Transformer object\n",
    "    zotero_key: str, # Zotero dataset record key\n",
    "    kw: list = kw # List of keywords\n",
    "    ) -> dict: # Global attributes\n",
    "    \"Retrieve all global attributes.\"\n",
    "    return GlobAttrsFeeder(tfm.dfs, cbs=[\n",
    "        BboxCB(),\n",
    "        DepthRangeCB(),\n",
    "        TimeRangeCB(),\n",
    "        ZoteroCB(zotero_key, cfg=cfg()),\n",
    "        KeyValuePairCB('keywords', ', '.join(kw)),\n",
    "        KeyValuePairCB('publisher_postprocess_logs', ', '.join(tfm.logs))\n",
    "        ])()"
   ]
  },
  {
   "cell_type": "code",
   "execution_count": null,
   "id": "2ed59598",
   "metadata": {},
   "outputs": [
    {
     "data": {
      "text/plain": [
       "{'geospatial_lat_min': '49.43222222222222',\n",
       " 'geospatial_lat_max': '81.26805555555555',\n",
       " 'geospatial_lon_min': '-58.23166666666667',\n",
       " 'geospatial_lon_max': '36.181666666666665',\n",
       " 'geospatial_bounds': 'POLYGON ((-58.23166666666667 36.181666666666665, 49.43222222222222 36.181666666666665, 49.43222222222222 81.26805555555555, -58.23166666666667 81.26805555555555, -58.23166666666667 36.181666666666665))',\n",
       " 'geospatial_vertical_max': '1850.0',\n",
       " 'geospatial_vertical_min': '0.0',\n",
       " 'time_coverage_start': '1995-01-01T00:00:00',\n",
       " 'time_coverage_end': '2022-12-31T00:00:00',\n",
       " 'title': 'OSPAR Environmental Monitoring of Radioactive Substances',\n",
       " 'summary': '',\n",
       " 'creator_name': '[{\"creatorType\": \"author\", \"firstName\": \"\", \"lastName\": \"OSPAR Comission\\'s Radioactive Substances Committee (RSC)\"}]',\n",
       " 'keywords': 'oceanography, Earth Science > Oceans > Ocean Chemistry> Radionuclides, Earth Science > Human Dimensions > Environmental Impacts > Nuclear Radiation Exposure, Earth Science > Oceans > Ocean Chemistry > Ocean Tracers, Earth Science > Oceans > Marine Sediments, Earth Science > Oceans > Ocean Chemistry, Earth Science > Oceans > Sea Ice > Isotopes, Earth Science > Oceans > Water Quality > Ocean Contaminants, Earth Science > Biological Classification > Animals/Vertebrates > Fish, Earth Science > Biosphere > Ecosystems > Marine Ecosystems, Earth Science > Biological Classification > Animals/Invertebrates > Mollusks, Earth Science > Biological Classification > Animals/Invertebrates > Arthropods > Crustaceans, Earth Science > Biological Classification > Plants > Macroalgae (Seaweeds)',\n",
       " 'publisher_postprocess_logs': \"Convert 'Nuclide' column values to lowercase, strip spaces, and store in 'Nuclide' column., Remap data provider nuclide names to standardized MARIS nuclide names., Parse the time format in the dataframe., Encode time as seconds since epoch., Sanitize value by removing blank entries and populating `value` column., Normalize uncertainty values in DataFrames., Callback to update DataFrame 'UNIT' columns based on a lookup table., Remap value type to MARIS format., Remap values from 'Species' to 'SPECIES' for groups: BIOTA., Remap values from 'Biological group' to 'enhanced_species' for groups: BIOTA., Enhance the 'SPECIES' column using the 'enhanced_species' column if conditions are met., Add a temporary column with the body part and biological group combined., Remap values from 'body_part_temp' to 'BODY_PART' for groups: BIOTA., Create a SMP_ID column from the ID column, Ensure depth values are floats and add 'SMP_DEPTH' columns., Convert Longitude and Latitude values to decimal degrees (DDD.DDDDD°). This class processes DataFrames to convert latitude and longitude from degrees, minutes, and seconds \\n    (DMS) format with direction indicators to decimal degrees format., Drop rows with invalid longitude & latitude values. Convert `,` separator to `.` separator., Create a dataframe of dropped data. Data included in the `dfs` not in the `tfm`.\"}"
      ]
     },
     "execution_count": null,
     "metadata": {},
     "output_type": "execute_result"
    }
   ],
   "source": [
    "#|eval: false\n",
    "get_attrs(tfm, zotero_key=zotero_key, kw=kw)"
   ]
  },
  {
   "cell_type": "markdown",
   "id": "c0c6ad69",
   "metadata": {},
   "source": [
    "### Encoding NETCDF"
   ]
  },
  {
   "cell_type": "code",
   "execution_count": null,
   "id": "612c763a",
   "metadata": {},
   "outputs": [],
   "source": [
    "#| export\n",
    "def encode(\n",
    "    fname_in: str, # Input file name\n",
    "    fname_out_nc: str, # Output file name\n",
    "    **kwargs # Additional arguments\n",
    "    ) -> None:\n",
    "    \"Encode data to NetCDF.\"\n",
    "    dfs = load_data(fname_in)\n",
    "    tfm = Transformer(dfs, cbs=[\n",
    "                            LowerStripNameCB(col_src='Nuclide', col_dst='Nuclide'),\n",
    "                            RemapNuclideNameCB(lut_nuclides, col_name='Nuclide'),\n",
    "                            ParseTimeCB(),\n",
    "                            EncodeTimeCB(),\n",
    "                            SanitizeValueCB(),\n",
    "                            NormalizeUncCB(),\n",
    "                            RemapUnitCB(renaming_unit_rules),\n",
    "                            RemapDetectionLimitCB(coi_dl, lut_dl),\n",
    "                            RemapCB(fn_lut=lut_biota, col_remap='SPECIES', col_src='Species', dest_grps='BIOTA'),    \n",
    "                            RemapCB(fn_lut=lut_biota_enhanced, col_remap='enhanced_species', col_src='Biological group', dest_grps='BIOTA'),    \n",
    "                            EnhanceSpeciesCB(),\n",
    "                            AddBodypartTempCB(),\n",
    "                            RemapCB(fn_lut=lut_bodyparts, col_remap='BODY_PART', col_src='body_part_temp' , dest_grps='BIOTA'),\n",
    "                            AddSampleIdCB(),\n",
    "                            AddDepthCB(),    \n",
    "                            ConvertLonLatCB(),\n",
    "                            SanitizeLonLatCB()\n",
    "                                ])\n",
    "    tfm()\n",
    "    encoder = NetCDFEncoder(tfm.dfs, \n",
    "                            dest_fname=fname_out_nc, \n",
    "                            global_attrs=get_attrs(tfm, zotero_key=zotero_key, kw=kw),\n",
    "                            verbose=kwargs.get('verbose', False),\n",
    "                           )\n",
    "    encoder.encode()"
   ]
  },
  {
   "cell_type": "code",
   "execution_count": null,
   "id": "183e358b",
   "metadata": {},
   "outputs": [
    {
     "name": "stdout",
     "output_type": "stream",
     "text": [
      "--------------------------------------------------------------------------------\n",
      "Creating enums for the following columns:\n",
      "['BODY_PART', 'SPECIES', 'DL', 'UNIT', 'NUCLIDE']\n",
      "Creating enum for body_part_t with values {'Not applicable': -1, 'Not available': 0, 'Whole animal': 1, 'Whole animal eviscerated': 2, 'Whole animal eviscerated without head': 3, 'Flesh with bones': 4, 'Blood': 5, 'Skeleton': 6, 'Bones': 7, 'Exoskeleton': 8, 'Endoskeleton': 9, 'Shells': 10, 'Molt': 11, 'Skin': 12, 'Head': 13, 'Tooth': 14, 'Otolith': 15, 'Fins': 16, 'Faecal pellet': 17, 'Byssus': 18, 'Soft parts': 19, 'Viscera': 20, 'Stomach': 21, 'Hepatopancreas': 22, 'Digestive gland': 23, 'Pyloric caeca': 24, 'Liver': 25, 'Intestine': 26, 'Kidney': 27, 'Spleen': 28, 'Brain': 29, 'Eye': 30, 'Fat': 31, 'Heart': 32, 'Branchial heart': 33, 'Muscle': 34, 'Mantle': 35, 'Gills': 36, 'Gonad': 37, 'Ovary': 38, 'Testes': 39, 'Whole plant': 40, 'Flower': 41, 'Leaf': 42, 'Old leaf': 43, 'Young leaf': 44, 'Leaf upper part': 45, 'Leaf lower part': 46, 'Scales': 47, 'Root rhizome': 48, 'Whole macro alga': 49, 'Phytoplankton': 50, 'Thallus': 51, 'Flesh without bones': 52, 'Stomach and intestine': 53, 'Whole haptophytic plants': 54, 'Loose drifting plants': 55, 'Growing tips': 56, 'Upper parts of plants': 57, 'Lower parts of plants': 58, 'Shells carapace': 59, 'Flesh with scales': 60}.\n",
      "Creating enum for species_t with values {'NOT AVAILABLE': 0, 'Aristeus antennatus': 1, 'Apostichopus': 2, 'Saccharina japonica var religiosa': 3, 'Siganus fuscescens': 4, 'Alpheus dentipes': 5, 'Hexagrammos agrammus': 6, 'Ditrema temminckii': 7, 'Parapristipoma trilineatum': 8, 'Scombrops boops': 9, 'Pseudopleuronectes schrenki': 10, 'Desmarestia ligulata': 11, 'Saccharina japonica': 12, 'Neodilsea yendoana': 13, 'Costaria costata': 14, 'Sargassum yezoense': 15, 'Acanthephyra pelagica': 16, 'Sargassum ringgoldianum': 17, 'Acanthephyra quadrispinosa': 18, 'Sargassum thunbergii': 19, 'Sargassum patens': 20, 'Asterias rubens': 21, 'Sargassum miyabei': 22, 'Homarus gammarus': 23, 'Acanthephyra stylorostratis': 24, 'Acanthocybium solandri': 25, 'Acanthopagrus bifasciatus': 26, 'Acanthophora muscoides': 27, 'Acanthophora spicifera': 28, 'Acanthurus triostegus': 29, 'Actinopterygii': 30, 'Adamussium colbecki': 31, 'Ahnfeltiopsis densa': 32, 'Alepes melanoptera': 33, 'Ampharetidae': 34, 'Anchoviella lepidentostole': 35, 'Anguillidae': 36, 'Aphroditidae': 37, 'Arnoglossus': 38, 'Aurigequula fasciata': 39, 'Balaenoptera musculus': 40, 'Balaenoptera physalus': 41, 'Balistes': 42, 'Beryciformes': 43, 'Bryopsis maxima': 44, 'Callinectes sp': 45, 'Callorhinus ursinus': 46, 'Carassius auratus auratus': 47, 'Carcharhinus sorrah': 48, 'Caridae': 49, 'Clupea harengus': 50, 'Cathorops spixii': 51, 'Caulerpa racemosa': 52, 'Caulerpa scalpelliformis': 53, 'Caulerpa sertularioides': 54, 'Cellana radiata': 55, 'Coscinasterias tenuispina': 56, 'Centroceras clavulatum': 57, 'Centropomus parallelus': 58, 'Crangon crangon': 59, 'Ceramium diaphanum': 60, 'Ceramium rubrum': 61, 'Chaenocephalus aceratus': 62, 'Chaetodipterus faber': 63, 'Chaetomorpha antennina': 64, 'Chaetomorpha linoides': 65, 'Chelidonichthys kumu': 66, 'Chelon ramada': 67, 'Chiloscyllium': 68, 'Chionodraco hamatus': 69, 'Chlamys islandica': 70, 'Chlorophyta': 71, 'Chondrichthyes': 72, 'Chrysaora': 73, 'Cladophora nitellopsis': 74, 'Cladophora vagabunda': 75, 'Cladophoropsis membranacea': 76, 'Clupea': 77, 'Coccotylus truncatus': 78, 'Codium fragile': 79, 'Crassostrea': 80, 'Cynoscion acoupa': 81, 'Cynoscion jamaicensis': 82, 'Cynoscion leiarchus': 83, 'Engraulis encrasicolus': 84, 'Cypselurus agoo agoo': 85, 'Cystophora cristata': 86, 'Cystoseira barbata': 87, 'Cystoseira crinita': 88, 'Decapodiformes': 89, 'Decapterus russelli': 90, 'Decapterus scombrinus': 91, 'Delphinapterus leucas': 92, 'Delphinus capensis': 93, 'Diapterus rhombeus': 94, 'Dicentrarchus punctatus': 95, 'Fucus vesiculosus': 96, 'Funchalia woodwardi': 97, 'Ecklonia bicyclis': 98, 'Gadus morhua': 99, 'Ecklonia kurome': 100, 'Gennadas elegans': 101, 'Eisenia arborea': 102, 'Encrasicholina devisi': 103, 'Enteromorpha': 104, 'Enteromorpha flexuosa': 105, 'Enteromorpha intestinalis': 106, 'Epinephelinae': 107, 'Epinephelus diacanthus': 108, 'Exocoetidae': 109, 'Saccharina latissima': 110, 'Gracilaria corticata': 111, 'Ligur ensiferus': 112, 'Gracilaria debilis': 113, 'Gracilaria edulis': 114, 'Gracilariales': 115, 'Grateloupia elliptica': 116, 'Grateloupia filicina': 117, 'Lysmata seticaudata': 118, 'Gymnogongrus griffithsiae': 119, 'Mya arenaria': 120, 'Halichoerus grypus': 121, 'Macoma balthica': 122, 'Marthasterias glacialis': 123, 'Halimeda macroloba': 124, 'Harengula clupeola': 125, 'Harpagifer antarcticus': 126, 'Hemifusus ternatanus': 127, 'Hemiramphus brasiliensis': 128, 'Mytilus edulis': 129, 'Metapenaeus affinis': 130, 'Heteroscleromorpha': 131, 'Heterosigma akashiwo': 132, 'Hilsa ilisha': 133, 'Metapenaeus monoceros': 134, 'Metapenaeus stebbingi': 135, 'Holothuria': 136, 'Hoplobrotula armata': 137, 'Hypnea musciformis': 138, 'Merlangius merlangus': 139, 'Iridaea cordata': 140, 'Jania rubens': 141, 'Meganyctiphanes norvegica': 142, 'Johnius glaucus': 143, 'Kappaphycus': 144, 'Kappaphycus alvarezii': 145, 'Laevistrombus canarium': 146, 'Lagenodelphis hosei': 147, 'Lambia': 148, 'Laminaria japonica': 149, 'Laminaria longissima': 150, 'Larimus breviceps': 151, 'Laurencia papillosa': 152, 'Leiognathidae': 153, 'Leiognathus dussumieri': 154, 'Lepidochelys olivacea': 155, 'Leptonychotes weddellii': 156, 'Limanda yokohamae': 157, 'Nephrops norvegicus': 158, 'Neuston': 159, 'Littoraria undulata': 160, 'Loligo vulgaris': 161, 'Lumbrineridae': 162, 'Lutjanus fulviflamma': 163, 'Marginisporum aberrans': 164, 'Megalaspis cordyla': 165, 'Octopus vulgaris': 166, 'Menticirrhus americanus': 167, 'Mesoplodon densirostris': 168, 'Palaemon longirostris': 169, 'Metapenaeus brevicornis': 170, 'Pasiphaea multidentata': 171, 'Pasiphaea sivado': 172, 'Parapenaeopsis stylifera': 173, 'Miichthys miiuy': 174, 'Mirounga leonina': 175, 'Brachidontes striatulus': 176, 'Monodon monoceros': 177, 'Mugil platanus': 178, 'Penaeus semisulcatus': 179, 'Mullus barbatus': 180, 'Mycteroperca rubra': 181, 'Philocheras echinulatus': 182, 'Myelophycus simplex': 183, 'Mytilus coruscus': 184, 'Penaeus indicus': 185, 'Natator depressus': 186, 'Pandalus jordani': 187, 'Melicertus kerathurus': 188, 'Parapenaeus longirostris': 189, 'Plesionika': 190, 'Platichthys flesus': 191, 'Pleuronectes platessa': 192, 'Nematopalaemon tenuipes': 193, 'Nematoscelis difficilis': 194, 'Nemipterus': 195, 'Aegaeon lacazei': 196, 'Nephtyidae': 197, 'Nereididae': 198, 'Netuma bilineata': 199, 'Nibea maculata': 200, 'Oceana serrulata': 201, 'Palaemon serratus': 202, 'Ocypode': 203, 'Odobenus rosmarus': 204, 'Ogcocephalus vespertilio': 205, 'Oligoplites saurus': 206, 'Onuphidae': 207, 'Opheliidae': 208, 'Opisthonema oglinum': 209, 'Opisthopterus tardoore': 210, 'Orientomysis mitsukurii': 211, 'Otolithes cuvieri': 212, 'Padina pavonica': 213, 'Padina tetrastromatica': 214, 'Padina vickersiae': 215, 'Pagellus affinis': 216, 'Pagophilus groenlandicus': 217, 'Paguroidea': 218, 'Pagurus': 219, 'Systellaspis debilis': 220, 'Sergestes': 221, 'Sergestes arcticus': 222, 'Pampus argenteus': 223, 'Sergestes arachnipodus': 224, 'Sergestes henseni': 225, 'Sergestes prehensilis': 226, 'Sergestes robustus': 227, 'Pangasius pangasius': 228, 'Panulirus homarus': 229, 'Paracentrotus lividus': 230, 'Pasiphaea sp': 231, 'Pectinariidae': 232, 'Penaeus': 233, 'Phoca vitulina': 234, 'Photopectoralis bindus': 235, 'Phyllospadix iwatensis': 236, 'Plectorhinchus mediterraneus': 237, 'Pleuronectes mochigarei': 238, 'Pleuronectes obscurus': 239, 'Plocamium brasiliense': 240, 'Polynemus paradiseus': 241, 'Polysiphonia': 242, 'Sprattus sprattus': 243, 'Scomber scombrus': 244, 'Polysiphonia fucoides': 245, 'Gonostomatidae': 246, 'Perca fluviatilis': 247, 'Pomadasys crocro': 248, 'Porphyra tenera': 249, 'Potamogeton pectinatus': 250, 'Priacanthus hamrur': 251, 'Pseudorhombus malayanus': 252, 'Pterocladiella capillacea': 253, 'Pusa caspica': 254, 'Pusa sibirica': 255, 'Pylaiella littoralis': 256, 'Sabellidae': 257, 'Salangichthys ishikawae': 258, 'Sarconema filiforme': 259, 'Sardinella albella': 260, 'Sardinella brasiliensis': 261, 'Sardinops melanostictus': 262, 'Sargassum cymosum': 263, 'Sargassum linearifolium': 264, 'Sargassum micracanthum': 265, 'Xiphias gladius': 266, 'Sargassum novae hollandiae': 267, 'Sargassum oligocystum': 268, 'Esox lucius': 269, 'Limanda limanda': 270, 'Abramis brama': 271, 'Anguilla anguilla': 272, 'Arctica islandica': 273, 'Cerastoderma edule': 274, 'Cyprinus carpio': 275, 'Echinodermata': 276, 'Fish larvae': 277, 'Myoxocephalus scorpius': 278, 'Osmerus eperlanus': 279, 'Plankton': 280, 'Scophthalmus maximus': 281, 'Rhodophyta': 282, 'Rutilus rutilus': 283, 'Saduria entomon': 284, 'Sander lucioperca': 285, 'Gasterosteus aculeatus': 286, 'Zoarces viviparus': 287, 'Gymnocephalus cernua': 288, 'Furcellaria lumbricalis': 289, 'Cladophora glomerata': 290, 'Lateolabrax japonicus': 291, 'Okamejei kenojei': 292, 'Sebastes pachycephalus': 293, 'Squalus acanthias': 294, 'Gadus macrocephalus': 295, 'Paralichthys olivaceus': 296, 'Ovalipes punctatus': 297, 'Pseudopleuronectes yokohamae': 298, 'Hemitripterus villosus': 299, 'Clidoderma asperrimum': 300, 'Microstomus achne': 301, 'Lepidotrigla microptera': 302, 'Hexagrammos otakii': 303, 'Kareius bicoloratus': 304, 'Pleuronichthys cornutus': 305, 'Enteroctopus dofleini': 306, 'Ammodytes personatus': 307, 'Lophius litulon': 308, 'Eopsetta grigorjewi': 309, 'Takifugu porphyreus': 310, 'Loliolus japonica': 311, 'Sepia andreana': 312, 'Sebastes cheni': 313, 'Portunus trituberculatus': 314, 'Sebastes schlegelii': 315, 'Pennahia argentata': 316, 'Platichthys stellatus': 317, 'Gadus chalcogrammus': 318, 'Chelidonichthys spinosus': 319, 'Conger myriaster': 320, 'Heterololigo bleekeri': 321, 'Stichaeus grigorjewi': 322, 'Pseudopleuronectes herzensteini': 323, 'Octopus conispadiceus': 324, 'Hippoglossoides dubius': 325, 'Cleisthenes pinetorum': 326, 'Glyptocephalus stelleri': 327, 'Tanakius kitaharae': 328, 'Nibea mitsukurii': 329, 'Dasyatis matsubarai': 330, 'Verasper moseri': 331, 'Hemitrygon akajei': 332, 'Triakis scyllium': 333, 'Trachurus japonicus': 334, 'Zeus faber': 335, 'Pagrus major': 336, 'Acanthopagrus schlegelii': 337, 'Dentex tumifrons': 338, 'Mustelus manazo': 339, 'Seriola quinqueradiata': 340, 'Hyperoglyphe japonica': 341, 'Carcharhinus': 342, 'Platycephalus': 343, 'Scomber japonicus': 344, 'Squatina japonica': 345, 'Alopias pelagicus': 346, 'Zenopsis nebulosa': 347, 'Cynoglossus joyneri': 348, 'Verasper variegatus': 349, 'Oncorhynchus keta': 350, 'Physiculus japonicus': 351, 'Oplegnathus punctatus': 352, 'Arothron hispidus': 353, 'Stereolepis doederleini': 354, 'Takifugu snyderi': 355, 'Scomber australasicus': 356, 'Liparis tanakae': 357, 'Thamnaconus modestus': 358, 'Gnathophis nystromi': 359, 'Sebastes oblongus': 360, 'Sebastiscus marmoratus': 361, 'Takifugu pardalis': 362, 'Mugil cephalus': 363, 'Ditrema temminckii temminckii': 364, 'Konosirus punctatus': 365, 'Tribolodon brandtii': 366, 'Oncorhynchus masou': 367, 'Aluterus monoceros': 368, 'Todarodes pacificus': 369, 'Myoxocephalus stelleri': 370, 'Myliobatis tobijei': 371, 'Scyliorhinus torazame': 372, 'Lophiomus setigerus': 373, 'Heterodontus japonicus': 374, 'Sebastes vulpes': 375, 'Paraplagusia japonica': 376, 'Ostrea edulis': 377, 'Melanogrammus aeglefinus': 378, 'Pollachius virens': 379, 'Pollachius pollachius': 380, 'Sebastes marinus': 381, 'Anarhichas minor': 382, 'Anarhichas denticulatus': 383, 'Reinhardtius hippoglossoides': 384, 'Trisopterus esmarkii': 385, 'Micromesistius poutassou': 386, 'Coryphaenoides rupestris': 387, 'Argentina silus': 388, 'Salmo salar': 389, 'Sebastes viviparus': 390, 'Buccinum undatum': 391, 'Fucus serratus': 392, 'Merluccius merluccius': 393, 'Littorina littorea': 394, 'Fucus': 395, 'Rhodymenia': 396, 'Solea solea': 397, 'Trachurus trachurus': 398, 'Eutrigla gurnardus': 399, 'Pelvetia canaliculata': 400, 'Ascophyllum nodosum': 401, 'Mallotus villosus': 402, 'Pecten maximus': 403, 'Hippoglossoides platessoides': 404, 'Sebastes mentella': 405, 'Modiolus modiolus': 406, 'Boreogadus saida': 407, 'Sepia': 408, 'Gadus': 409, 'Sardina pilchardus': 410, 'Pleuronectiformes': 411, 'Molva molva': 412, 'Patella': 413, 'Crassostrea gigas': 414, 'Dasyatis pastinaca': 415, 'Lophius piscatorius': 416, 'Porphyra umbilicalis': 417, 'Patella vulgata': 418, 'Brosme brosme': 419, 'Glyptocephalus cynoglossus': 420, 'Galeus melastomus': 421, 'Chimaera monstrosa': 422, 'Etmopterus spinax': 423, 'Dicentrarchus labrax': 424, 'Osilinus lineatus': 425, 'Hippoglossus hippoglossus': 426, 'Cyclopterus lumpus': 427, 'Molva dypterygia': 428, 'Microstomus kitt': 429, 'Fucus distichus': 430, 'Tapes': 431, 'Sebastes norvegicus': 432, 'Phycis blennoides': 433, 'Fucus spiralis': 434, 'Laminaria digitata': 435, 'Dipturus batis': 436, 'Anarhichas lupus': 437, 'Lumpenus lampretaeformis': 438, 'Lycodes vahlii': 439, 'Argentina sphyraena': 440, 'Trisopterus minutus': 441, 'Thunnus': 442, 'Hyperoplus lanceolatus': 443, 'Gaidropsarus argentatus': 444, 'Engraulis japonicus': 445, 'Mytilus galloprovincialis': 446, 'Undaria pinnatifida': 447, 'Chlorophthalmus albatrossis': 448, 'Sargassum fusiforme': 449, 'Eisenia bicyclis': 450, 'Spisula sachalinensis': 451, 'Strongylocentrotus nudus': 452, 'Haliotis discus hannai': 453, 'Dexistes rikuzenius': 454, 'Ruditapes philippinarum': 455, 'Apostichopus japonicus': 456, 'Pterothrissus gissu': 457, 'Helicolenus hilgendorfii': 458, 'Buccinum isaotakii': 459, 'Neptunea intersculpta': 460, 'Apostichopus nigripunctatus': 461, 'Sebastes thompsoni': 462, 'Oratosquilla oratoria': 463, 'Oncorhynchus kisutch': 464, 'Erimacrus isenbeckii': 465, 'Sillago japonica': 466, 'Trachysalambria curvirostris': 467, 'Mytilus unguiculatus': 468, 'Crassostrea nippona': 469, 'Laminariales': 470, 'Uroteuthis edulis': 471, 'Takifugu poecilonotus': 472, 'Neptunea arthritica': 473, 'Katsuwonus pelamis': 474, 'Doederleinia berycoides': 475, 'Metapenaeopsis dalei': 476, 'Seriola dumerili': 477, 'Pseudorhombus pentophthalmus': 478, 'Stephanolepis cirrhifer': 479, 'Cookeolus japonicus': 480, 'Panulirus japonicus': 481, 'Thunnus orientalis': 482, 'Halocynthia roretzi': 483, 'Etrumeus sadina': 484, 'Cololabis saira': 485, 'Coryphaena hippurus': 486, 'Sarda orientalis': 487, 'Octopus ocellatus': 488, 'Sardinops sagax': 489, 'Sphyraena pinguis': 490, 'Sebastes ventricosus': 491, 'Occella iburia': 492, 'Glossanodon semifasciatus': 493, 'Mizuhopecten yessoensis': 494, 'Neosalangichthys ishikawae': 495, 'Bothrocara tanakae': 496, 'Malacocottus zonurus': 497, 'Coelorinchus macrochir': 498, 'Neptunea constricta': 499, 'Beringius polynematicus': 500, 'Sebastes nivosus': 501, 'Pandalus eous': 502, 'Synaphobranchus kaupii': 503, 'Sebastolobus macrochir': 504, 'Marsupenaeus japonicus': 505, 'Japelion hirasei': 506, 'Pleurogrammus azonus': 507, 'Monostroma nitidum': 508, 'Atheresthes evermanni': 509, 'Takifugu rubripes': 510, 'Chionoecetes opilio': 511, 'Pandalopsis coccinata': 512, 'Chionoecetes japonicus': 513, 'Sebastes matsubarae': 514, 'Scombrops gilberti': 515, 'Hyporhamphus sajori': 516, 'Trichiurus lepturus': 517, 'Alcichthys elongatus': 518, 'Volutharpa perryi': 519, 'Mercenaria stimpsoni': 520, 'Berryteuthis magister': 521, 'Aptocyclus ventricosus': 522, 'Euphausia pacifica': 523, 'Salangichthys microdon': 524, 'Telmessus acutidens': 525, 'Ceratophyllum demersum': 526, 'Pandalus nipponensis': 527, 'Sebastes owstoni': 528, 'Cociella crocodilus': 529, 'Conger japonicus': 530, 'Sardinella zunasi': 531, 'Cheilopogon pinnatibarbatus japonicus': 532, 'Oplegnathus fasciatus': 533, 'Macridiscus aequilatera': 534, 'Repomucenus ornatipinnis': 535, 'Clupea pallasii': 536, 'Scorpaena neglecta': 537, 'Scomberomorus niphonius': 538, 'Leucopsarion petersii': 539, 'Sebastes scythropus': 540, 'Strongylura anastomella': 541, 'Laemonema longipes': 542, 'Fusitriton oregonensis': 543, 'Japelion pericochlion': 544, 'Sebastes steindachneri': 545, 'Auxis rochei': 546, 'Lobotes surinamensis': 547, 'Auxis thazard': 548, 'Chlorophthalmus borealis': 549, 'Etelis coruscans': 550, 'Sebastes inermis': 551, 'Cynoglossus interruptus': 552, 'Erilepis zonifer': 553, 'Tridentiger obscurus': 554, 'Caranx sexfasciatus': 555, 'Thunnus thynnus': 556, 'Takifugu stictonotus': 557, 'Euthynnus affinis': 558, 'Synagrops japonicus': 559, 'Okamejei schmidti': 560, 'Suggrundus meerdervoortii': 561, 'Sebastes baramenuke': 562, 'Pleurogrammus monopterygius': 563, 'Decapterus maruadsi': 564, 'Girella punctata': 565, 'Sphyraena japonica': 566, 'Ommastrephes bartramii': 567, 'Sepiella japonica': 568, 'Sepioteuthis lessoniana': 569, 'Eucleoteuthis luminosa': 570, 'Gloiopeltis furcata': 571, 'Macrobrachium nipponense': 572, 'Sepia kobiensis': 573, 'Eriocheir japonica': 574, 'Magallana nippona': 575, 'Meretrix lusoria': 576, 'Chondrus ocellatus': 577, 'Chondrus elatus': 578, 'Gloiopeltis': 579, 'Holothuroidea': 580, 'Corbicula japonica': 581, 'Sunetta menstrualis': 582, 'Pseudorhombus cinnamoneus': 583, 'Takifugu niphobles': 584, 'Lagocephalus gloveri': 585, 'Beryx splendens': 586, 'Parastichopus nigripunctatus': 587, 'Venerupis philippinarum': 588, 'Haliotis': 589, 'Liparis agassizii': 590, 'Seriola lalandi': 591, 'Niphon spinosus': 592, 'Pleuronichthys japonicus': 593, 'Sergia lucens': 594, 'Sphoeroides pachygaster': 595, 'Coryphaenoides acrolepis': 596, 'Pseudopleuronectes obscurus': 597, 'Pyropia yezoensis': 598, 'Isurus oxyrinchus': 599, 'Sargassum fulvellum': 600, 'Prionace glauca': 601, 'Kajikia audax': 602, 'Thunnus albacares': 603, 'Thunnus alalunga': 604, 'Thunnus obesus': 605, 'Lamna ditropis': 606, 'Glyptocidaris crenularis': 607, 'Asterias amurensis': 608, 'Sepiida': 609, 'Congridae': 610, 'Takifugu': 611, 'Sargassum horneri': 612, 'Haliotis discus': 613, 'Pleuronectidae': 614, 'Acanthogobius flavimanus': 615, 'Acanthogobius lactipes': 616, 'Pholis nebulosa': 617, 'Hemigrapsus penicillatus': 618, 'Palaemon paucidens': 619, 'Mysidae': 620, 'Zostera marina': 621, 'Ulva pertusa': 622, 'Gobiidae': 623, 'Atherinidae': 624, 'Tribolodon': 625, 'Alpheus': 626, 'Polychaeta': 627, 'Sebastes': 628, 'Charybdis japonica': 629, 'Hemigrapsus': 630, 'Favonigobius gymnauchen': 631, 'Palaemon': 632, 'Planiliza haematocheila': 633, 'Palaemonidae': 634, 'Pholis crassispina': 635, 'Laminaria': 636, 'Distolasterias nipon': 637, 'Lophiiformes': 638, 'Alpheus brevicristatus': 639, 'Undaria undariodes': 640, 'Neomysis awatschensis': 641, 'Alpheidae': 642, 'Macrobrachium': 643, 'Hediste': 644, 'Gymnogobius breunigii': 645, 'Luidia quinaria': 646, 'Rhizoprionodon acutus': 647, 'Carangoides equula': 648, 'Carcinoplax longimana': 649, 'Anomura': 650, 'Spatangoida': 651, 'Plesiobatis daviesi': 652, 'Eusphyra blochii': 653, 'Ruditapes variegata': 654, 'Sinonovacula constricta': 655, 'Penaeus monodon': 656, 'Litopenaeus vannamei': 657, 'Solenocera crassicornis': 658, 'Stomatopoda': 659, 'Teuthida': 660, 'Octopus': 661, 'Larimichthys polyactis': 662, 'Scomberomorini': 663, 'Channa argus': 664, 'Ranina ranina': 665, 'Lates calcarifer': 666, 'Scomberomorus commerson': 667, 'Lutjanus malabaricus': 668, 'Thenus parindicus': 669, 'Amusium pleuronectes': 670, 'Loligo': 671, 'Plectropomus leopardus': 672, 'Sillago ciliata': 673, 'Scylla serrata': 674, 'Pinctada maxima': 675, 'Lutjanus argentimaculatus': 676, 'Protonibea diacanthus': 677, 'Polydactylus macrochir': 678, 'Rachycentron canadum': 679, 'Ibacus peronii': 680, 'Arripis trutta': 681, 'Sarda australis': 682, 'Seriola hippos': 683, 'Choerodon schoenleinii': 684, 'Panulirus ornatus': 685, 'Neotrygon kuhlii': 686, 'Lethrinus nebulosus': 687, 'Parupeneus multifasciatus': 688, 'Saccostrea cucullata': 689, 'Lutjanus sebae': 690, 'Thunnus maccoyii': 691, 'Acanthopagrus butcheri': 692, 'Lambis lambis': 693, 'Gerres subfasciatus': 694, 'Zooplankton': 695, 'Phytoplankton': 696, 'Rapana venosa': 697, 'Scapharca inaequivalvis': 698, 'Ulva intestinalis': 699, 'Ulva linza': 700, 'Ceramium virgatum': 701, 'Gayralia oxysperma': 702, 'Vertebrata fucoides': 703, 'Stuckenia pectinata': 704, 'Rochia nilotica': 705, 'Ctenochaetus striatus': 706, 'Serranidae': 707, 'Turbo setosus': 708, 'Pandalidae': 709, 'Gymnosarda unicolor': 710, 'Epinephelini': 711, 'Pisces': 712, 'Liza klunzingeri': 713, 'Acanthopagrus latus': 714, 'Liza subviridis': 715, 'Sparidentex hasta': 716, 'Otolithes ruber': 717, 'Crenidens crenidens': 718, 'Ensis': 719, 'Gastropoda': 720, 'Euheterodonta': 721, 'Scomber': 722, 'Theragra chalcogramma': 723, 'Engraulidae': 724, 'Ostreidae': 725, 'Phaeophyceae': 726, 'Porphyra': 727, 'Ulva reticulata': 728, 'Perna viridis': 729, 'Fenneropenaeus indicus': 730, 'Merluccius': 731, 'Soleidae': 732, 'Mugilidae': 733, 'Marine algae': 734, 'Scarus rivulatus': 735, 'Scarus coeruleus': 736, 'Sardinella fimbriata': 737, 'Dussumieria acuta': 738, 'Lutjanus kasmira': 739, 'Lutjanus rivulatus': 740, 'Lutjanus bohar': 741, 'Priacanthus blochii': 742, 'Pelates quadrilineatus': 743, 'Epinephelus fasciatus': 744, 'Upeneus vittatus': 745, 'Lethrinus laticaudis': 746, 'Lethrinus lentjan': 747, 'Lethrinus microdon': 748, 'Sphyraena barracuda': 749, 'Alectis indica': 750, 'Epinephelus latifasciatus': 751, 'Nemipterus japonicus': 752, 'Raconda russeliana': 753, 'Lactarius lactarius': 754, 'Aetomylaeus bovinus': 755, 'Pennahia anea': 756, 'Leiognathus fasciatus': 757, 'Sardinella longiceps': 758, 'Tenualosa ilisha': 759, 'Pellona ditchela': 760, 'Stolephorus indicus': 761, 'Setipinna breviceps': 762, 'Rastrelliger kanagurta': 763, 'Chanos chanos': 764, 'Lepturacanthus savala': 765, 'Epinephelus niveatus': 766, 'Lutjanus johnii': 767, 'Carangoides malabaricus': 768, 'Ablennes hians': 769, 'Chirocentrus dorab': 770, 'Scomberomorus cavalla': 771, 'Scomberomorus semifasciatus': 772, 'Scomberomorus guttatus': 773, 'Etrumeus teres': 774, 'Spondyliosoma cantharus': 775, 'Brama brama': 776, 'Dasyatis zugei': 777, 'Harpadon nehereus': 778, 'Carcharhinus melanopterus': 779, 'Penaeus plebejus': 780, 'Sepia officinalis': 781, 'Johnius dussumieri': 782, 'Lutjanus campechanus': 783, 'Ruditapes decussatus': 784, 'Carcinus aestuarii': 785, 'Squilla mantis': 786, 'Epinephelus polyphekadion': 787, 'Lutjanus gibbus': 788, 'Lethrinus mahsena': 789, 'Epinephelus chlorostigma': 790, 'Carangoides bajad': 791, 'Aethaloperca rogaa': 792, 'Atule mate': 793, 'Macolor niger': 794, 'Carangoides fulvoguttatus': 795, 'Plectropomus areolatus': 796, 'Cephalopholis argus': 797, 'Cephalopholis': 798, 'Scarus sordidus': 799, 'Scomberomorus tritor': 800, 'Triaenodon obesus': 801, 'Pomadasys commersonnii': 802, 'Monotaxis grandoculis': 803, 'Plectropomus maculatus': 804, 'Trachinotus blochii': 805, 'Pristipomoides filamentosus': 806, 'Acanthurus gahhm': 807, 'Acanthurus sohal': 808, 'Siganus argenteus': 809, 'Naso unicornis': 810, 'Chanos': 811, 'Oedalechilus labiosus': 812, 'Plectorhinchus gaterinus': 813, 'Mercenaria mercenaria': 814, 'Mytilus': 815, 'Turbo cornutus': 816, 'Decapoda': 817, 'Sphyraena': 818, 'Arius maculatus': 819, 'Penaeus merguiensis': 820, 'Tegillarca granosa': 821, 'Mullus barbatus barbatus': 822, 'Chamelea gallina': 823, 'Metanephrops thomsoni': 824, 'Magallana gigas': 825, 'Branchiostegus japonicus': 826, 'Cephalopoda': 827, 'Lutjanidae': 828, 'Lethrinidae': 829, 'Sphyraena argentea': 830, 'Chirocentrus nudus': 831, 'Trachinotus': 832, 'Mugil auratus': 833, 'Euthynnus alletteratus': 834, 'Sparus aurata': 835, 'Pagrus caeruleostictus': 836, 'Scorpaena scrofa': 837, 'Pagellus erythrinus': 838, 'Epinephelus aeneus': 839, 'Dentex maroccanus': 840, 'Caranx rhonchus': 841, 'Sardinella': 842, 'Siganus': 843, 'Solea': 844, 'Diplodus sargus': 845, 'Lithognathus mormyrus': 846, 'Oblada melanura': 847, 'Siganus rivulatus': 848, 'Chelon labrosus': 849, 'Cynoscion microlepidotus': 850, 'Genypterus brasiliensis': 851, 'Myoxocephalus polyacanthocephalus': 852, 'Hexagrammos lagocephalus': 853, 'Hexagrammos decagrammus': 854, 'Sebastes ciliatus': 855, 'Lepidopsetta polyxystra': 856, 'Clupeiformes': 857, 'Gadidae': 858, 'Brachyura': 859, 'Dasyatis': 860, 'Carcharias': 861, 'Saurida': 862, 'Upeneus': 863, 'Cynoglossus': 864, 'Scomberomorus': 865, 'Terapon': 866, 'Leiognathus': 867, 'Terapontidae': 868, 'Caranx': 869, 'Diplodus': 870, 'Plectorhinchus flavomaculatus': 871, 'Salmonidae': 872, 'Mollusca': 873, 'Boops boops': 874, 'Sarpa salpa': 875, 'Pagellus acarne': 876, 'Spicara smaris': 877, 'Diplodus vulgaris': 878, 'Chelidonichthys lucerna': 879, 'Sarda sarda': 880, 'Serranus cabrilla': 881, 'Diplodus annularis': 882, 'Pagrus pagrus': 883, 'Alosa fallax': 884, 'Belone belone': 885, 'Dentex dentex': 886, 'Sphyraena viridensis': 887, 'Trisopterus capelanus': 888, 'Arnoglossus laterna': 889, 'Procambarus clarkii': 890, 'Nemadactylus macropterus': 891, 'Pagrus auratus': 892, 'Jasus edwardsii': 893, 'Perna canaliculus': 894, 'Pseudophycis bachus': 895, 'Haliotis iris': 896, 'Hoplostethus atlanticus': 897, 'Rhombosolea leporina': 898, 'Zygochlamys delicatula': 899, 'Galeorhinus galeus': 900, 'Parapercis colias': 901, 'Tiostrea chilensis': 902, 'Genypterus blacodes': 903, 'Evechinus chloroticus': 904, 'Austrovenus stutchburyi': 905, 'Micromesistius australis': 906, 'Macruronus novaezelandiae': 907, 'Nototodarus': 908, 'Perna perna': 909, 'Sepia pharaonis': 910, 'Turbo bruneus': 911, 'Portunus sanguinolentus': 912, 'Charybdis natator': 913, 'Charybdis lucifera': 914, 'Panulirus argus': 915, 'Ethmalosa fimbriata': 916, 'Sardinella brachysoma': 917, 'Thryssa mystax': 918, 'Plicofollis dussumieri': 919, 'Nibea soldado': 920, 'Epinephelus melanostigma': 921, 'Megalops cyprinoides': 922, 'Decapterus macarellus': 923, 'Drepane punctata': 924, 'Sillago sihama': 925, 'Tylosurus crocodilus crocodilus': 926, 'Saurida tumbil': 927, 'Cynoglossus macrostomus': 928, 'Parupeneus indicus': 929, 'Synechogobius hasta': 930, 'Busycotypus canaliculatus': 931, 'Pampus cinereus': 932, 'Pomadasys kaakan': 933, 'Epinephelus coioides': 934, 'Sepiella inermis': 935, 'Uroteuthis duvauceli': 936, 'Stomatella auricula': 937, 'Cerithium scabridum': 938, 'Marcia recens': 939, 'Circe intermedia': 940, 'Marcia opima': 941, 'Fulvia fragile': 942, 'Charybdis feriatus': 943, 'Charybdis annulata': 944, 'Atergatis integerrimus': 945, 'Matuta lunaris': 946, 'Calappa lophos': 947, 'Uca annulipes': 948, 'Chlamys varia': 949, 'Cololabis adocetus': 950, 'Seriola lalandi dorsalis': 951, 'Brunneifusus ternatanus': 952, 'Metapenaeus joyneri': 953, 'Epinephelus tauvina': 954, 'Coilia dussumieri': 955, 'Carcharhinus dussumieri': 956, 'Upeneus tragula': 957, 'Sartoriana spinigera': 958, 'Lamellidens marginalis': 959, 'Polydactylus sextarius': 960, 'Johnius macrorhynus': 961, 'Hexanematichthys sagor': 962, 'Sargassum swartzii': 963, 'Argyrops spinifer': 964, 'Synodus intermedius': 965, 'Muraenesox cinereus': 966, 'Carangoides armatus': 967, 'Eleutheronema tetradactylum': 968, 'Mustelus mosis': 969, 'Nemipterus bipunctatus': 970, 'Lutjanus quinquelineatus': 971, 'Platycephalus indicus': 972, 'Rhabdosargus haffara': 973, 'Argyrops filamentosus': 974, 'Brachirus orientalis': 975, 'Mene maculata': 976, 'Hemiramphus marginatus': 977, 'Encrasicholina heteroloba': 978, 'Trachinotus africanus': 979, 'Bramidae': 980, 'Escualosa thoracata': 981, 'Sepia arabica': 982, 'Scatophagus argus': 983, 'Parastromateus niger': 984, 'Planiliza subviridis': 985, 'Labeo rohita': 986, 'Oreochromis niloticus': 987, 'Cardiidae': 988, 'Sargassum angustifolium': 989, 'Pomacea bridgesii': 990, 'Sebastes fasciatus': 991, 'Batoidea': 992, 'Urophycis chuss': 993, 'Dalatias licha': 994, 'Trisopterus luscus': 995, 'Scyliorhinus canicula': 996, 'Ruvettus pretiosus': 997, 'Aphanopus carbo': 998, 'Alepocephalus bairdii': 999, 'Centroscymnus coelolepis': 1000, 'Loligo forbesii': 1001, 'Lutjanus cyanopterus': 1002, 'Mugil liza': 1003, 'Micropogonias furnieri': 1004, 'Balistes capriscus': 1005, 'Haemulidae': 1006, 'Stenotomus caprinus': 1007, 'Hemanthias leptus': 1008, 'Micropogonias undulatus': 1009, 'Cynoscion nebulosus': 1010, 'Rhomboplites aurorubens': 1011, 'Bothidae': 1012, 'Pogonias cromis': 1013, 'Lutjanus synagris': 1014, 'Netuma thalassina': 1015, 'Sillaginopsis panijus': 1016, 'Leptomelanosoma indicum': 1017, 'Therapon': 1018, 'Pterotolithus maculatus': 1019, 'Ilisha filigera': 1020, 'Hilsa kelee': 1021, 'Pampus chinensis': 1022, 'Palaemon styliferus': 1023, 'Argyrosomus regius': 1024, 'Lutjanus': 1025, 'Sciades': 1026, 'Mullus': 1027, 'Albula vulpes': 1028, 'Selar crumenophthalmus': 1029, 'Centropomus': 1030, 'Sardinella aurita': 1031, 'Harengula humeralis': 1032, 'Diapterus auratus': 1033, 'Gerres cinereus': 1034, 'Haemulon parra': 1035, 'Ocyurus chrysurus': 1036, 'Sphyraena guachancho': 1037, 'Anoplopoma fimbria': 1038, 'Nerita versicolor': 1039, 'Bulla striata': 1040, 'Melongena melongena': 1041, 'Trachycardium muricatum': 1042, 'Isognomon alatus': 1043, 'Brachidontes exustus': 1044, 'Crassostrea virginica': 1045, 'Protothaca granulata': 1046, 'Cittarium pica': 1047, 'Penaeus schmitti': 1048, 'Penaeus notialis': 1049, 'Callinectes sapidus': 1050, 'Callinectes danae': 1051, 'Dasyatidae': 1052, 'Caridea': 1053, 'Nephropidae': 1054, 'Sparus': 1055, 'Sargassum boveanum': 1056, 'Haliotis tuberculata': 1057, 'Littorinidae': 1058, 'Seaweed': 1059, 'Echinoidea': 1060, 'Ostreida': 1061, 'Donax trunculus': 1062, 'Scrobicularia plana': 1063, 'Venus verrucosa': 1064, 'Solen marginatus': 1065, 'Testudines': 1066, 'Mullidae': 1067, 'Amphipoda': 1068, 'Cystosphaera jacquinotii': 1069, 'Daption capense': 1070, 'Desmarestia anceps': 1071, 'Himantothallus grandifolius': 1072, 'Mirounga': 1073, 'Nacella concinna': 1074, 'Notothenia coriiceps': 1075, 'Pygoscelis antarcticus': 1076, 'Pygoscelis papua': 1077, 'Oncorhynchus gorbuscha': 1078, 'Oncorhynchus mykiss': 1079, 'Oncorhynchus nerka': 1080, 'Oncorhynchus tshawytscha': 1081, 'Erignathus barbatus': 1082, 'Pusa hispida': 1083, 'Hippoglossus stenolepis': 1084, 'Squalus suckleyi': 1085, 'Sargassum': 1086, 'Codium': 1087, 'Membranoptera alata': 1088, 'Dictyota dichotoma': 1089, 'Plocamium cartilagineum': 1090, 'Galatea paradoxa': 1091, 'Crassostrea tulipa': 1092, 'Macrobrachium sp': 1093, 'Portunus': 1094, 'Tympanotonos fuscatus': 1095, 'Thais': 1096, 'Bivalvia': 1097, 'Cynoglossus senegalensis': 1098, 'Carlarius heudelotii': 1099, 'Fontitrygon margarita': 1100, 'Chrysichthys nigrodigitatus': 1101, 'Acanthephyra purpurea': 1102, 'Actinauge abyssorum': 1103, 'Alaria marginata': 1104, 'Anadara transversa': 1105, 'Anthomedusae': 1106, 'Archosargus probatocephalus': 1107, 'Argyropelecus aculeatus': 1108, 'Ariopsis felis': 1109, 'Astrometis sertulifera': 1110, 'Astropecten': 1111, 'Atherina breviceps': 1112, 'Atolla': 1113, 'Aulacomya atra': 1114, 'Auxis rochei rochei': 1115, 'Auxis thazard thazard': 1116, 'Avicennia marina': 1117, 'Balaena mysticetus': 1118, 'Balaenoptera acutorostrata': 1119, 'Balanus': 1120, 'Berardius bairdii': 1121, 'Beroe': 1122, 'Boopsoidea inornata': 1123, 'Calanoida': 1124, 'Calanus finmarchicus finmarchicus': 1125, 'Callorhinchus milii': 1126, 'Cepphus columba': 1127, 'Cladonia rangiferina': 1128, 'Clinus superciliosus': 1129, 'Codium tomentosum': 1130, 'Copepoda': 1131, 'Coregonus autumnalis': 1132, 'Coregonus nasus': 1133, 'Coregonus sardinella': 1134, 'Coryphaenoides armatus': 1135, 'Coryphoblennius galerita': 1136, 'Creseis sp': 1137, 'Crinoidea': 1138, 'Crossota': 1139, 'Cryptochiton stelleri': 1140, 'Delphinus delphis': 1141, 'Diacria': 1142, 'Dichistius capensis': 1143, 'Dosinia alta': 1144, 'Dugong dugon': 1145, 'Electrona risso': 1146, 'Engraulis capensis': 1147, 'Ensis siliqua': 1148, 'Eryonidae': 1149, 'Eualaria fistulosa': 1150, 'Eupasiphae gilesii': 1151, 'Euphausiacea': 1152, 'Euphausiidae': 1153, 'Eurypharynx pelecanoides': 1154, 'Eurythenes gryllus': 1155, 'Euthynnus lineatus': 1156, 'Fratercula cirrhata': 1157, 'Galeichthys feliceps': 1158, 'Gelidium corneum': 1159, 'Gibbula umbilicalis': 1160, 'Gnathophausia ingens': 1161, 'Gonatus fabricii': 1162, 'Haliaeetus leucocephalus': 1163, 'Haliclona': 1164, 'Halodule uninervis': 1165, 'Hemilepidotus': 1166, 'Hemilepidotus jordani': 1167, 'Heterocarpus ensifer': 1168, 'Heterodontus portusjacksoni': 1169, 'Hippasteria phrygiana': 1170, 'Homola barbata': 1171, 'Hyperoodon planifrons': 1172, 'Hypleurochilus geminatus': 1173, 'Invertebrata': 1174, 'Isognomon bicolor': 1175, 'Isopoda': 1176, 'Kogia breviceps': 1177, 'Labrus bergylta': 1178, 'Lagenorhynchus obliquidens': 1179, 'Lampris guttatus': 1180, 'Larus glaucescens': 1181, 'Leander serratus': 1182, 'Libinia emarginata': 1183, 'Lichia amia': 1184, 'Lipophrys pholis': 1185, 'Lipophrys trigloides': 1186, 'Lithognathus lithognathus': 1187, 'Lithophaga aristata': 1188, 'Lobianchia gemellarii': 1189, 'Loliginidae': 1190, 'Loligo reynaudii': 1191, 'Lophius budegassa': 1192, 'Magallana angulata': 1193, 'Majoidea': 1194, 'Megachasma pelagios': 1195, 'Megaptera novaeangliae': 1196, 'Menippe mercenaria': 1197, 'Mesoplodon carlhubbsi': 1198, 'Mesoplodon stejnegeri': 1199, 'Microstomus pacificus': 1200, 'Morone saxatilis': 1201, 'Mullus surmuletus': 1202, 'Mycteroperca xenarcha': 1203, 'Myliobatis australis': 1204, 'Mysida': 1205, 'Mytilus californianus': 1206, 'Mytilus trossulus': 1207, 'Nephasoma Nephasoma flagriferum': 1208, 'Nudibranchia': 1209, 'Odobenus rosmarus divergens': 1210, 'Ommastrephidae': 1211, 'Ophiomusa lymani': 1212, 'Ophiothrix lineata': 1213, 'Orcinus orca': 1214, 'Ostracoda': 1215, 'Pagellus bogaraveo': 1216, 'Pandalus borealis': 1217, 'Paphies subtriangulata': 1218, 'Parabrotula': 1219, 'Paracalanus': 1220, 'Patella aspera': 1221, 'Periphylla': 1222, 'Phocoena phocoena': 1223, 'Phocoenoides dalli': 1224, 'Phronima': 1225, 'Physeter macrocephalus': 1226, 'Pinctada radiata': 1227, 'Plesionika edwardsii': 1228, 'Pododesmus macrochisma': 1229, 'Pomatomus saltatrix': 1230, 'Portunus pelagicus': 1231, 'Praunus': 1232, 'Pyrosoma': 1233, 'Rangifer tarandus': 1234, 'Rhabdosargus globiceps': 1235, 'Saccorhiza polyschides': 1236, 'Sagitta': 1237, 'Salpa': 1238, 'Salvelinus alpinus': 1239, 'Salvelinus malma': 1240, 'Sarda chiliensis': 1241, 'Sargassum aquifolium': 1242, 'Scalibregmatidae': 1243, 'Sebastes alutus': 1244, 'Sebastes melanops': 1245, 'Seriola dorsalis': 1246, 'Serranus scriba': 1247, 'Sigmops bathyphilus': 1248, 'Silicula fragilis': 1249, 'Sipunculidae': 1250, 'Somateria mollissima': 1251, 'Somateria spectabilis': 1252, 'Sparodon durbanensis': 1253, 'Spicara maena': 1254, 'Squatina australis': 1255, 'Striostrea margaritacea': 1256, 'Stromateus fiatola': 1257, 'Strongylocentrotus polyacanthus': 1258, 'Taractichthys steindachneri': 1259, 'Tectura scutum': 1260, 'Tegula viridula': 1261, 'Thais haemastoma': 1262, 'Thegrefg': 1263, 'Themisto': 1264, 'Thunnus tonggol': 1265, 'Trachurus picturatus': 1266, 'Trachurus symmetricus': 1267, 'Trygonorrhina fasciata': 1268, 'Ulva lactuca': 1269, 'Ursus maritimus': 1270, 'Vampyroteuthis infernalis': 1271, 'Ziphius cavirostris': 1272, 'Alepes kleinii': 1273, 'Alepes vari': 1274, 'Decapterus macrosoma': 1275, 'Lutjanus madras': 1276, 'Lutjanus russellii': 1277, 'Rastrelliger brachysoma': 1278, 'Rastrelliger faughni': 1279, 'Selar boops': 1280, 'Selaroides leptolepis': 1281, 'Sphyraena obtusata': 1282, 'Geloina expansa': 1283, 'Caesio erythrogaster': 1284, 'Euristhmus microceps': 1285, 'Pomacanthus annularis': 1286, 'Scylla': 1287, 'Plotosus lineatus': 1288, 'Prionotus stephanophrys': 1289, 'Trachurus murphyi': 1290, 'Dosidicus gigas': 1291, 'Sarda chiliensis chiliensis': 1292, 'Cynoscion analis': 1293, 'Merluccius gayi peruanus': 1294, 'Brotula ordwayi': 1295, 'Loligo gahi': 1296, 'Merluccius gayi': 1297, 'Ophichthus remiger': 1298, 'Penaeus sp': 1299, 'Trachinotus paitensis': 1300, 'Cheilopogon heterurus': 1301, 'Engraulis ringens': 1302, 'Sciaena deliciosa': 1303, 'Isacia conceptionis': 1304, 'Odontesthes regia': 1305, 'Bodianus diplotaenia': 1306, 'Concholepas concholepas': 1307, 'Diplectrum conceptione': 1308, 'Genypterus maculatus': 1309, 'Labrisomus philippii': 1310, 'Paralabrax humeralis': 1311, 'Prionotus horrens': 1312, 'Dasyatis akajei': 1313, 'Arctoscopus japonicus': 1314, 'Sepia esculenta': 1315, 'Bothrocara hollandi': 1316, 'Cynoglossidae': 1317, 'Lepidotrigla': 1318, 'Lepidotrigla alata': 1319, 'Octopus sinensis': 1320, 'Rhabdosargus sarba': 1321, 'Lophiidae': 1322, 'Muraenesox': 1323, 'Physiculus maximowiczi': 1324, 'Pleuronectoidei': 1325, 'Sciaenidae': 1326, 'Triglidae': 1327, 'Atherina presbyter': 1328, 'Bentheogennema intermedia': 1329, 'Benthesicymidae': 1330, 'Benthesicymus': 1331, 'Buccinum striatissimum': 1332, 'Callinectes': 1333, 'Cancer pagurus': 1334, 'Chaetognatha': 1335, 'Chama macerophylla': 1336, 'Cirripedia': 1337, 'Cyclosalpa': 1338, 'Cymopolia barbata': 1339, 'Cynoscion': 1340, 'Cystoseira amentacea': 1341, 'Ectocarpus siliculosus': 1342, 'Ellisolandia elongata': 1343, 'Enteromorpha linza': 1344, 'Euphausia superba': 1345, 'Gaidropsarus mediterraneus': 1346, 'Gennadas valens': 1347, 'Globicephala': 1348, 'Haliptilon virgatum': 1349, 'Halocynthia aurantium': 1350, 'Heliocidaris crassispina': 1351, 'Hymenodora gracilis': 1352, 'Lagodon rhomboides': 1353, 'Lepas Anatifa anatifera': 1354, 'Lobophora variegata': 1355, 'Macrocystis pyrifera': 1356, 'Maculabatis gerrardi': 1357, 'Nemacystus decipiens': 1358, 'Neptunea polycostata': 1359, 'Padina pavonia': 1360, 'Penaeidae': 1361, 'Petricolinae': 1362, 'Polynemidae': 1363, 'Pristipomoides aquilonaris': 1364, 'Pyropia fallax': 1365, 'Radiolaria': 1366, 'Salpidae': 1367, 'Sardinops melanosticta': 1368, 'Sargassum vulgare': 1369, 'Sciaena umbra': 1370, 'Scorpaena porcus': 1371, 'Sergestidae': 1372, 'Sicyonia brevirostris': 1373, 'Sphaerococcus coronopifolius': 1374, 'Stenella coeruleoalba': 1375, 'Stichopus japonicus': 1376, 'Thalia democratica': 1377, 'Themisto gaudichaudii': 1378, 'Undaria': 1379, 'Analipus japonicus': 1380, 'Sargassum yamadae': 1381, 'Ahnfeltiopsis paradoxa': 1382, 'Scytosiphon lomentaria': 1383, 'Chondria crassicaulis': 1384, 'Grateloupia lanceolata': 1385, 'Colpomenia sinuosa': 1386, 'Chondrus giganteus': 1387, 'Sargassum muticum': 1388, 'Ulva prolifera': 1389, 'Petalonia fascia': 1390, 'Balanus roseus': 1391, 'Chaetomorpha moniligera': 1392, 'Lomentaria hakodatensis': 1393, 'Neodilsea longissima': 1394, 'Polyopes affinis': 1395, 'Schizymenia dubyi': 1396, 'Dictyopteris pacifica': 1397, 'Ahnfeltiopsis flabelliformis': 1398, 'Bangia fuscopurpurea': 1399, 'Calliarthron': 1400, 'Cladophora': 1401, 'Cladophora albida': 1402, 'Dasya sessilis': 1403, 'Delesseria serrulata': 1404, 'Ecklonia cava': 1405, 'Gelidium elegans': 1406, 'Grateloupia turuturu': 1407, 'Hypnea asiatica': 1408, 'Mazzaella japonica': 1409, 'Pachydictyon coriaceum': 1410, 'Padina arborescens': 1411, 'Pterosiphonia pinnulata': 1412, 'Alatocladia yessoensis': 1413, 'Bryopsis plumosa': 1414, 'Ceramium kondoi': 1415, 'Chondracanthus intermedius': 1416, 'Codium contractum': 1417, 'Codium lucasii': 1418, 'Corallina pilulifera': 1419, 'Dictyopteris undulata': 1420, 'Gastroclonium pacificum': 1421, 'Gelidium amansii': 1422, 'Grateloupia sparsa': 1423, 'Laurencia okamurae': 1424, 'Leathesia marina': 1425, 'Lomentaria catenata': 1426, 'Meristotheca papulosa': 1427, 'Sargassum confusum': 1428, 'Sargassum siliquastrum': 1429, 'Tinocladia crassa': 1430, 'Saccharina yendoana': 1431, 'Thalassiophyllum clathrus': 1432, 'Mytilida': 1433, 'Pteriomorphia': 1434, 'Conger': 1435, 'Scyliorhinidae': 1436, 'Labrus': 1437, 'Algae': 1438, 'Necora puber': 1439, 'Anguilla': 1440, 'Rajidae': 1441, 'Buccinidae': 1442, 'Crustacea': 1443, 'Green algae': 1444, 'Ammodytes japonicus': 1445, 'Evynnis tumifrons': 1446, 'Gnathophis nystromi nystromi': 1447, 'Loligo bleekeri': 1448, 'Platichthys bicoloratus': 1449, 'Limanda punctatissima': 1450, 'Loliolus Nipponololigo japonica': 1451, 'Acanthopagrus schlegelii schlegelii': 1452, 'Sepiolina': 1453, 'Gelidium': 1454, 'Atrina pectinata': 1455, 'Echinocardium cordatum': 1456, 'Lamnidae': 1457, 'Meretrix lamarckii': 1458, 'Noctiluca scintillans': 1459, 'Philine argentata': 1460, 'Sergestes lucens': 1461, 'Corbicula sandai': 1462, 'Ulva': 1463, 'Actiniaria': 1464, 'Ctenopharyngodon idella': 1465, 'Ophiuroidea': 1466, 'Scomberoides lysan': 1467, 'Scomberoides tol': 1468, 'Sebastolobus': 1469, 'Selachimorpha': 1470, 'Selene setapinnis': 1471, 'Selene vomer': 1472, 'Sepia elliptica': 1473, 'Sergestes sp': 1474, 'Setipinna taty': 1475, 'Siganus canaliculatus': 1476, 'Sigmops gracile': 1477, 'Solenocera sp': 1478, 'Sparidae': 1479, 'Spermatophytina': 1480, 'Sphoeroides testudineus': 1481, 'Sphyraena jello': 1482, 'Spyridia hypnoides': 1483, 'Squaliformes': 1484, 'Squillidae': 1485, 'Stegophiura sladeni': 1486, 'Stenella longirostris': 1487, 'Stenobrachius leucopsarus': 1488, 'Sternaspidae': 1489, 'Stoechospermum polypodioides': 1490, 'Stolephorus commersonnii': 1491, 'Stromateus cinereus': 1492, 'Stromateus niger': 1493, 'Stromateus sinensis': 1494, 'Synidotea': 1495, 'Takifugu vermicularis': 1496, 'Telatrygon zugei': 1497, 'Terapon jarbua': 1498, 'Terebellidae': 1499, 'Thryssa dussumieri': 1500, 'Thunnini': 1501, 'Tibia curta': 1502, 'Tonna dolium': 1503, 'Trachinus draco': 1504, 'Trematomus bernacchii': 1505, 'Tridacna': 1506, 'Trinectes paulistanus': 1507, 'Trochus radiatus': 1508, 'Turbinaria': 1509, 'Tursiops truncatus': 1510, 'Ucides': 1511, 'Ulva compressa': 1512, 'Ulva fasciata': 1513, 'Ulva flexuosa': 1514, 'Ulva rigida': 1515, 'Upeneus taeniopterus': 1516, 'Upogebiidae': 1517, 'Uroteuthis Photololigo edulis': 1518, 'Valoniopsis pachynema': 1519, 'Veneridae': 1520, 'Venus foveolata': 1521, 'Vertebrata': 1522, 'Volutharpa ampullacea perryi': 1523, 'Zannichellia palustris': 1524, 'Zeus japonicus': 1525, 'Favites': 1526, 'Gadiformes': 1527, 'Gafrarium dispar': 1528, 'Galaxaura frutescens': 1529, 'Gelidium crinale': 1530, 'Genidens genidens': 1531, 'Girella elevata': 1532, 'Girella tricuspidata': 1533, 'Dentex hypselosomus': 1534, 'Saurida elongata': 1535, 'Pseudolabrus eoethinus': 1536, 'Atrobucca nibe': 1537, 'Diagramma pictum': 1538, 'Sepia lycidas': 1539, 'Plectorhinchus cinctus': 1540, 'Metapenaeopsis acclivis': 1541, 'Metapenaeopsis barbata': 1542, 'Nibea albiflora': 1543, 'Girella leonina': 1544, 'Sphyraenidae': 1545, 'Parapercis pulchella': 1546, 'Parapercis sexfasciata': 1547, 'Thysanoteuthis rhombus': 1548, 'Lepidotrigla kishinouyi': 1549, 'Cystoseira': 1550, 'Padina': 1551, 'Halimeda': 1552, 'Pacifastacus leniusculus': 1553, 'Salmo trutta': 1554, 'Chondrus crispus': 1555, 'Ictalurus punctatus': 1556, 'Acanthurus': 1557, 'Scombridae': 1558, 'Leukoma staminea': 1559, 'Trochidae': 1560, 'Protonibea': 1562, 'Anchoa compressa': 1563, 'Ensis magnus': 1564, 'Bolinus brandaris': 1565, 'Lutjanus notatus': 1566, 'Lethrinus olivaceus': 1567, 'Carassius auratus': 1569, 'Mugil': 1570, 'Gobius': 1571, 'Lajonkairia lajonkairii': 1572, 'Chrysophrys auratus': 1573, 'Galeorhinus australis': 1574, 'Nototodarus sloanii gouldi': 1575, 'Tylosurus crocodilus': 1576, 'Acanthogobius hasta': 1577, 'Penaeus chinensis': 1578, 'Ruditapes variegatus': 1579, 'Marcia marmorata': 1580, 'Rachycentron': 1581, 'Scomber kanagurta': 1582, 'Arius': 1583, 'Panulirus versicolor': 1584, 'Tilapia zillii': 1585, 'Schizoporella errata': 1586, 'Phallusia nigra': 1587, 'Physeter catodon': 1588, 'Salmo trutta trutta': 1589, 'Tachysurus thalassinus': 1590, 'Sillago domina': 1591, 'Otolithus argenteus': 1592, 'Trichiurus haumela': 1593, 'Otolithes maculata': 1594, 'Hilsa kanagurta': 1595, 'Oreochromis mossambicus': 1596, 'Siluriformes': 1597, 'Theodoxus euxinus': 1598, 'Formio niger': 1599, 'Rastrelliger': 1600, 'Nephasoma flagriferum': 1601, 'Ophiomusium lymani': 1602, 'Nematonurus armatus': 1603, 'Thalamitoides spinigera': 1604, 'Capros aper': 1605, 'Gadiculus argenteus thori': 1606, 'Phorcus lineatus': 1607, 'Penaeus vannamei': 1608, 'Raja montagui': 1609, 'Scophthalmus rhombus': 1610, 'Crambe maritima': 1611, 'Fucus ceranoides': 1612, 'Maja squinado': 1613, 'Salicornia europaea': 1614, 'Aequipecten opercularis': 1615, 'Galathea squamifera': 1616, 'Cynoglossus semilaevis': 1617, 'Loliolus beka': 1619, 'Octopus variabilis': 1620, 'Abudefduf sexfasciatus': 1621, 'Acanthurus blochii': 1622, 'Achillea millefolium': 1623, 'Alaria crassifolia': 1624, 'Albulidae': 1625, 'Ammodytes': 1626, 'Anadara satowi': 1627, 'Argyrosomus japonicus': 1628, 'Ascidiacea': 1629, 'Aulopiformes': 1630, 'Babylonia japonica': 1631, 'Babylonia kirana': 1632, 'Bathylagidae': 1633, 'Beryx decadactylus': 1634, 'Branchiostegus': 1635, 'Buccinum': 1636, 'Caesio lunaris': 1637, 'Callionymus curvicornis': 1638, 'Campylaephora hypnaeoides': 1639, 'Cetoscarus ocellatus': 1640, 'Charonia tritonis': 1641, 'Chelon haematocheilus': 1642, 'Chlorurus sordidus': 1643, 'Choerodon azurio': 1644, 'Chromis notata': 1645, 'Cladosiphon okamuranus': 1646, 'Cociella punctata': 1647, 'Coryphaena': 1648, 'Cyclina sinensis': 1649, 'Cymbacephalus beauforti': 1650, 'Dendrobranchiata': 1651, 'Digenea simplex': 1652, 'Ditrema viride': 1653, 'Enteromorpha prolifera': 1654, 'Epinephelus': 1655, 'Epinephelus akaara': 1656, 'Epinephelus awoara': 1657, 'Etelis carbunculus': 1658, 'Fistularia commersonii': 1659, 'Fulvia mutica': 1660, 'Fusinus colus': 1661, 'Gafrarium tumidum': 1662, 'Gelidiaceae': 1663, 'Girella cyanea': 1664, 'Girella mezina': 1665, 'Goniistius zonatus': 1666, 'Gracilaria': 1667, 'Gymnocranius euanus': 1668, 'Heikeopsis japonica': 1669, 'Hemitrygon': 1670, 'Hippoglossoides pinetorum': 1671, 'Holothuria atra': 1672, 'Holothuria leucospilota': 1673, 'Idiosepiidae': 1674, 'Inegocia japonica': 1675, 'Inimicus didactylus': 1676, 'Ishige': 1677, 'Lagocephalus spadiceus': 1678, 'Lambis truncata': 1679, 'Leiognathus equula': 1680, 'Lethrinus xanthochilus': 1681, 'Lutjanus erythropterus': 1682, 'Lutjanus semicinctus': 1683, 'Monodonta labio': 1684, 'Monostroma kuroshiense': 1685, 'Mulloidichthys flavolineatus': 1686, 'Mulloidichthys vanicolensis': 1687, 'Muraenesocidae': 1688, 'Myagropsis myagroides': 1689, 'Mytilisepta virgata': 1690, 'Naso brevirostris': 1691, 'Nematalosa japonica': 1692, 'Nemipterus virgatus': 1693, 'Nipponacmea': 1694, 'Nuchequula nuchalis': 1695, 'Octopus cyanea': 1696, 'Panopea generosa': 1697, 'Paralichthys': 1698, 'Paralithodes camtschaticus': 1699, 'Parascolopsis inermis': 1700, 'Pectinidae': 1701, 'Pentapodus aureofasciatus': 1702, 'Pinctada fucata': 1703, 'Pitar citrinus': 1704, 'Platycephalidae': 1705, 'Plecoglossus altivelis': 1706, 'Pleuronectes herzensteini': 1707, 'Priacanthus macracanthus': 1708, 'Pristipomoides': 1709, 'Psenopsis anomala': 1710, 'Pseudobalistes fuscus': 1711, 'Pseudocaranx dentex': 1712, 'Pseudolabrus sieboldi': 1713, 'Pseudorhombus arsius': 1714, 'Pterocaesio chrysozona': 1715, 'Rhynchopelates oxyrhynchus': 1716, 'Ryukyupercis gushikeni': 1717, 'Saccostrea echinata': 1718, 'Sargassum hemiphyllum': 1719, 'Sargassum piluliferum': 1720, 'Saurida micropectoralis': 1721, 'Saurida undosquamis': 1722, 'Saurida wanieso': 1723, 'Scarus forsteni': 1724, 'Scarus ghobban': 1725, 'Scarus ovifrons': 1726, 'Scarus rubroviolaceus': 1727, 'Scyphozoa': 1728, 'Sebastes iracundus': 1729, 'Semicossyphus reticulatus': 1730, 'Sepia latimanus': 1731, 'Siganus guttatus': 1732, 'Siganus luridus': 1733, 'Sphaerotrichia divaricata': 1734, 'Sphyrnidae': 1735, 'Spondylus regius': 1736, 'Spratelloides gracilis': 1737, 'Sthenoteuthis oualaniensis': 1738, 'Tetraodontidae': 1739, 'Trichiurus lepturus japonicus': 1740, 'Tridacna crocea': 1741, 'Turbo argyrostomus': 1742, 'Tylosurus pacificus': 1743, 'Ulvophyceae': 1744, 'Upeneus japonicus': 1745, 'Upeneus moluccensis': 1746, 'Uranoscopus japonicus': 1747, 'Anguilliformes': 1748, 'Crithmum maritimum': 1749, 'Littorina': 1750, 'Nucella lapillus': 1752, 'Scyliorhinus stellaris': 1753, 'Annelida': 1754, 'Aphrodita aculeata': 1755, 'Callionymus lyra': 1756, 'Urticina felina': 1757, 'Gebiidea': 1758, 'Bonellia viridis': 1759, 'Alcyonium glomeratum': 1760}.\n",
      "Creating enum for dl_t with values {'Not applicable': -1, 'Not available': 0, 'Detected value': 1, 'Detection limit': 2, 'Not detected': 3, 'Derived': 4}.\n",
      "Creating enum for unit_t with values {'Not applicable': -1, 'NOT AVAILABLE': 0, 'Bq per m3': 1, 'Bq per m2': 2, 'Bq per kg': 3, 'Bq per kgd': 4, 'Bq per kgw': 5, 'kg per kg': 6, 'TU': 7, 'DELTA per mill': 8, 'atom per kg': 9, 'atom per kgd': 10, 'atom per kgw': 11, 'atom per l': 12, 'Bq per kgC': 13}.\n",
      "Creating enum for nuclide_t with values {'NOT APPLICABLE': -1, 'NOT AVAILABLE': 0, 'h3': 1, 'be7': 2, 'c14': 3, 'k40': 4, 'cr51': 5, 'mn54': 6, 'co57': 7, 'co58': 8, 'co60': 9, 'zn65': 10, 'sr89': 11, 'sr90': 12, 'zr95': 13, 'nb95': 14, 'tc99': 15, 'ru103': 16, 'ru106': 17, 'rh106': 18, 'ag106m': 19, 'ag108': 20, 'ag108m': 21, 'ag110m': 22, 'sb124': 23, 'sb125': 24, 'te129m': 25, 'i129': 28, 'i131': 29, 'cs127': 30, 'cs134': 31, 'cs137': 33, 'ba140': 34, 'la140': 35, 'ce141': 36, 'ce144': 37, 'pm147': 38, 'eu154': 39, 'eu155': 40, 'pb210': 41, 'pb212': 42, 'pb214': 43, 'bi207': 44, 'bi211': 45, 'bi214': 46, 'po210': 47, 'rn220': 48, 'rn222': 49, 'ra223': 50, 'ra224': 51, 'ra225': 52, 'ra226': 53, 'ra228': 54, 'ac228': 55, 'th227': 56, 'th228': 57, 'th232': 59, 'th234': 60, 'pa234': 61, 'u234': 62, 'u235': 63, 'u238': 64, 'np237': 65, 'np239': 66, 'pu238': 67, 'pu239': 68, 'pu240': 69, 'pu241': 70, 'am240': 71, 'am241': 72, 'cm242': 73, 'cm243': 74, 'cm244': 75, 'cs134_137_tot': 76, 'pu239_240_tot': 77, 'pu239_240_iii_iv_tot': 78, 'pu239_240_v_vi_tot': 79, 'cm243_244_tot': 80, 'pu238_pu239_240_tot_ratio': 81, 'am241_pu239_240_tot_ratio': 82, 'cs137_134_ratio': 83, 'cd109': 84, 'eu152': 85, 'fe59': 86, 'gd153': 87, 'ir192': 88, 'pu238_240_tot': 89, 'rb86': 90, 'sc46': 91, 'sn113': 92, 'sn117m': 93, 'tl208': 94, 'mo99': 95, 'tc99m': 96, 'ru105': 97, 'te129': 98, 'te132': 99, 'i132': 100, 'i135': 101, 'cs136': 102, 'tbeta': 103, 'talpha': 104, 'i133': 105, 'th230': 106, 'pa231': 107, 'u236': 108, 'ag111': 109, 'in116m': 110, 'te123m': 111, 'sb127': 112, 'ba133': 113, 'ce139': 114, 'tl201': 116, 'hg203': 117, 'na22': 122, 'pa234m': 123, 'am243': 124, 'se75': 126, 'sr85': 127, 'y88': 128, 'ce140': 129, 'bi212': 130, 'u236_238_ratio': 131, 'i125': 132, 'ba137m': 133, 'u232': 134, 'pa233': 135, 'ru106_rh106_tot': 136, 'tu': 137, 'tbeta40k': 138, 'fe55': 139, 'ce144_pr144_tot': 140, 'pu240_pu239_ratio': 141, 'u233': 142, 'pu239_242_tot': 143, 'ac227': 144}.\n",
      "--------------------------------------------------------------------------------\n",
      "Group: seawater, Variable: id\n",
      "--------------------------------------------------------------------------------\n",
      "Group: seawater, Variable: lon\n",
      "--------------------------------------------------------------------------------\n",
      "Group: seawater, Variable: lat\n",
      "--------------------------------------------------------------------------------\n",
      "Group: seawater, Variable: smp_depth\n",
      "--------------------------------------------------------------------------------\n",
      "Group: seawater, Variable: time\n",
      "--------------------------------------------------------------------------------\n",
      "Group: seawater, Variable: smp_id\n",
      "--------------------------------------------------------------------------------\n",
      "Group: seawater, Variable: nuclide\n",
      "--------------------------------------------------------------------------------\n",
      "Group: seawater, Variable: value\n",
      "--------------------------------------------------------------------------------\n",
      "Group: seawater, Variable: unit\n",
      "--------------------------------------------------------------------------------\n",
      "Group: seawater, Variable: dl\n",
      "--------------------------------------------------------------------------------\n",
      "Group: biota, Variable: id\n",
      "--------------------------------------------------------------------------------\n",
      "Group: biota, Variable: lon\n",
      "--------------------------------------------------------------------------------\n",
      "Group: biota, Variable: lat\n",
      "--------------------------------------------------------------------------------\n",
      "Group: biota, Variable: time\n",
      "--------------------------------------------------------------------------------\n",
      "Group: biota, Variable: smp_id\n",
      "--------------------------------------------------------------------------------\n",
      "Group: biota, Variable: nuclide\n",
      "--------------------------------------------------------------------------------\n",
      "Group: biota, Variable: value\n",
      "--------------------------------------------------------------------------------\n",
      "Group: biota, Variable: unit\n",
      "--------------------------------------------------------------------------------\n",
      "Group: biota, Variable: dl\n",
      "--------------------------------------------------------------------------------\n",
      "Group: biota, Variable: species\n",
      "--------------------------------------------------------------------------------\n",
      "Group: biota, Variable: body_part\n"
     ]
    }
   ],
   "source": [
    "#|eval: false\n",
    "encode(fname_in, fname_out_nc, verbose=True)"
   ]
  },
  {
   "cell_type": "markdown",
   "id": "45c2240e",
   "metadata": {},
   "source": [
    "## NetCDF QA"
   ]
  }
 ],
 "metadata": {
  "kernelspec": {
   "display_name": "python3",
   "language": "python",
   "name": "python3"
  }
 },
 "nbformat": 4,
 "nbformat_minor": 5
}

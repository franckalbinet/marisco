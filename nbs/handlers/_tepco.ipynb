{
 "cells": [
  {
   "cell_type": "code",
   "execution_count": null,
   "id": "4f9aa4c2",
   "metadata": {},
   "outputs": [],
   "source": [
    "#| default_exp handlers.tepco"
   ]
  },
  {
   "cell_type": "markdown",
   "id": "f263111a",
   "metadata": {},
   "source": [
    "# TEPCO \n",
    "> Data pipeline (handler) to convert TEPCO dataset ([Source](https://radioactivity.nsr.go.jp/ja/list/349/list-1.html)) to `NetCDF` format"
   ]
  },
  {
   "cell_type": "markdown",
   "id": "b92a5c33",
   "metadata": {},
   "source": [
    "## Packages import"
   ]
  },
  {
   "cell_type": "code",
   "execution_count": null,
   "id": "0db45fee",
   "metadata": {},
   "outputs": [],
   "source": [
    "%load_ext autoreload\n",
    "%autoreload 2"
   ]
  },
  {
   "cell_type": "code",
   "execution_count": null,
   "id": "3a8d979f",
   "metadata": {},
   "outputs": [],
   "source": [
    "import pandas as pd\n",
    "import re\n",
    "import numpy as np\n",
    "from datetime import datetime\n",
    "import fastcore.all as fc\n",
    "\n",
    "from marisco.callbacks import (Callback, Transformer,\n",
    "                               EncodeTimeCB, SanitizeLonLatCB)\n",
    "\n",
    "from marisco.utils import has_valid_varname\n",
    "from marisco.configs import nc_tpl_path, cfg\n",
    "\n",
    "from marisco.metadata import (GlobAttrsFeeder, BboxCB,\n",
    "                              DepthRangeCB, TimeRangeCB,\n",
    "                              ZoteroCB, KeyValuePairCB)"
   ]
  },
  {
   "cell_type": "code",
   "execution_count": null,
   "id": "7969707f-98cb-4d7c-9d0a-47f7408d5098",
   "metadata": {},
   "outputs": [],
   "source": [
    "fname_in = '../../_data/xls/tepco/coastal_water.xlsx'\n",
    "fname_out = '../../_data/output/tepco.nc'"
   ]
  },
  {
   "cell_type": "markdown",
   "id": "a7a71b86",
   "metadata": {},
   "source": [
    "## Utils"
   ]
  },
  {
   "cell_type": "code",
   "execution_count": null,
   "id": "8f2eb1d9",
   "metadata": {},
   "outputs": [],
   "source": [
    "#| export\n",
    "def load_data(fname_in):\n",
    "    \"Load TEPCO seawater data\"\n",
    "    \n",
    "    # get measurements\n",
    "    df_meas = pd.read_excel(fname_in, \n",
    "                            skiprows=1, nrows=23643,\n",
    "                            converters={'Sampling time': lambda x: x if x != '' else '00:00:00'})\n",
    "    # get locations\n",
    "    df_loc = pd.read_excel(fname_in, skiprows=23647, nrows=48, usecols=[0,1,2])\n",
    "    # join\n",
    "    df = pd.merge(df_meas, df_loc, how=\"inner\", on='Sampling point number')\n",
    "    # df.drop(columns=['Sampling point number'], inplace=True)\n",
    "    df.index.name = 'sample'\n",
    "    return {'seawater': df}"
   ]
  },
  {
   "cell_type": "markdown",
   "id": "5e534545",
   "metadata": {},
   "source": [
    "## Load tables\n",
    "The data is provided as a single `.xls` file. A preview of this file, e.g using [Open Office](http://www.openoffice.org/), indicates the presence of two datasets in a single sheet: the measurements and their locations that can be joined using the `Sampling point number` column."
   ]
  },
  {
   "cell_type": "code",
   "execution_count": null,
   "id": "3c8c242c",
   "metadata": {},
   "outputs": [],
   "source": [
    "dfs = load_data(fname_in)"
   ]
  },
  {
   "cell_type": "code",
   "execution_count": null,
   "id": "f68389c5",
   "metadata": {},
   "outputs": [],
   "source": [
    "print(f\"# of cols, rows: {dfs['seawater'].shape}\")\n",
    "dfs['seawater'].head()"
   ]
  },
  {
   "cell_type": "code",
   "execution_count": null,
   "id": "84b36a8b",
   "metadata": {},
   "outputs": [],
   "source": [
    "dfs['seawater'].sample(50)"
   ]
  },
  {
   "cell_type": "code",
   "execution_count": null,
   "id": "993a33d8",
   "metadata": {},
   "outputs": [],
   "source": [
    "dfs['seawater']['Sampling point number'].unique()"
   ]
  },
  {
   "cell_type": "markdown",
   "id": "cbc97b7f",
   "metadata": {},
   "source": [
    "## Data transformation pipeline"
   ]
  },
  {
   "cell_type": "markdown",
   "id": "cafc569b",
   "metadata": {},
   "source": [
    "### Fix missing values\n",
    "\n",
    "`ND` is assigned `NaN`. This needs to be confirmed."
   ]
  },
  {
   "cell_type": "code",
   "execution_count": null,
   "id": "dda25a3b",
   "metadata": {},
   "outputs": [],
   "source": [
    "#| export\n",
    "class FixMissingValuesCB(Callback):\n",
    "    \"Assign `NaN` to values equal to `ND` (not detected) - to be confirmed \"\n",
    "    def __call__(self, tfm): \n",
    "        for k in tfm.dfs.keys():\n",
    "            predicate = tfm.dfs[k] == 'ND'\n",
    "            tfm.dfs[k][predicate] = np.nan"
   ]
  },
  {
   "cell_type": "code",
   "execution_count": null,
   "id": "bcb6cf70",
   "metadata": {},
   "outputs": [],
   "source": [
    "dfs = load_data(fname_in)\n",
    "tfm = Transformer(dfs, cbs=[FixMissingValuesCB()])\n",
    "\n",
    "tfm()['seawater'].head()"
   ]
  },
  {
   "cell_type": "markdown",
   "id": "de42c3cc",
   "metadata": {},
   "source": [
    "### Remove Japanese character\n",
    "    "
   ]
  },
  {
   "cell_type": "code",
   "execution_count": null,
   "id": "ec010817",
   "metadata": {},
   "outputs": [],
   "source": [
    "#| export\n",
    "class RemoveJapanaseCharCB(Callback):\n",
    "    \"Remove 約 (about) char\"\n",
    "    def _transform_if_about(self, value, about_char='約'):\n",
    "        if pd.isna(value): return value\n",
    "        return (value.replace(about_char, '') if str(value).count(about_char) != 0 \n",
    "                else value)\n",
    "    \n",
    "    def __call__(self, tfm): \n",
    "        for k in tfm.dfs.keys():\n",
    "            cols_rdn = [c for c in tfm.dfs[k].columns if ('(Bq/L)' in c) and (tfm.dfs[k][c].dtype == 'object')]\n",
    "            tfm.dfs[k][cols_rdn] = tfm.dfs[k][cols_rdn].map(self._transform_if_about)"
   ]
  },
  {
   "cell_type": "code",
   "execution_count": null,
   "id": "29af29b5",
   "metadata": {},
   "outputs": [],
   "source": [
    "dfs = load_data(fname_in)\n",
    "tfm = Transformer(dfs, cbs=[\n",
    "    FixMissingValuesCB(),\n",
    "    RemoveJapanaseCharCB()])\n",
    "\n",
    "tfm()['seawater'].sample(100)"
   ]
  },
  {
   "cell_type": "markdown",
   "id": "7adaa86a",
   "metadata": {},
   "source": [
    "### Fix values range string"
   ]
  },
  {
   "cell_type": "code",
   "execution_count": null,
   "id": "15e639de",
   "metadata": {},
   "outputs": [],
   "source": [
    "#| export\n",
    "class FixRangeValueStringCB(Callback):\n",
    "    \"Replace e.g `4.0E+00<&<8.0E+00` by its mean (here 6)\"\n",
    "    \n",
    "    def _extract_and_calculate_mean(self, s):\n",
    "        float_strings = re.findall(r\"[+-]?\\d+\\.\\d+E[+-]\\d+\", s)\n",
    "        float_numbers = np.array(float_strings, dtype=float)\n",
    "        return float_numbers.mean()\n",
    "\n",
    "    def _transform_if_range(self, value, range_pattern=r'<&<'):\n",
    "        if pd.isna(value): return value\n",
    "        pattern = re.compile(range_pattern)\n",
    "        return (self._extract_and_calculate_mean(value) if pattern.search(str(value)) \n",
    "                else value)\n",
    "\n",
    "    def __call__(self, tfm): \n",
    "        for k in tfm.dfs.keys():\n",
    "            cols_rdn = [c for c in tfm.dfs[k].columns if ('(Bq/L)' in c) and (tfm.dfs[k][c].dtype == 'object')]\n",
    "            tfm.dfs[k][cols_rdn] = tfm.dfs[k][cols_rdn].map(self._transform_if_range)"
   ]
  },
  {
   "cell_type": "code",
   "execution_count": null,
   "id": "ea5c7404",
   "metadata": {},
   "outputs": [],
   "source": [
    "dfs = load_data(fname_in)\n",
    "tfm = Transformer(dfs, cbs=[\n",
    "    FixMissingValuesCB(),\n",
    "    RemoveJapanaseCharCB(),\n",
    "    FixRangeValueStringCB()])\n",
    "\n",
    "tfm()['seawater'].sample(100)"
   ]
  },
  {
   "cell_type": "markdown",
   "id": "84fe85a4",
   "metadata": {},
   "source": [
    "### Normalize nuclide name"
   ]
  },
  {
   "cell_type": "code",
   "execution_count": null,
   "id": "84b8c689",
   "metadata": {},
   "outputs": [],
   "source": [
    "# | export\n",
    "# Define nuclides-related columns renaming rules\n",
    "renaming_rules_rdn = {\n",
    "    '131I radioactivity concentration (Bq/L)': 'i131',\n",
    "    '131I detection limit (Bq/L)': 'i131_dl',\n",
    "    '134Cs radioactivity concentration (Bq/L)': 'cs134',\n",
    "    '134Cs detection limit (Bq/L)': 'cs134_dl',\n",
    "    '137Cs radioactivity concentration (Bq/L)': 'cs137',\n",
    "    '137Cs detection limit (Bq/L)': 'cs137_dl',\n",
    "    '132I radioactivity concentration (Bq/L)': 'i132',\n",
    "    '132I detection limit (Bq/L)': 'i132_dl',\n",
    "    '132Te radioactivity concentration (Bq/L)': 'te132',\n",
    "    '132Te detection limit (Bq/L)': 'te132_dl',\n",
    "    '136Cs radioactivity concentration (Bq/L)': 'cs136',\n",
    "    '136Cs detection limit (Bq/L)': 'cs136_dl',\n",
    "    '140La radioactivity concentration (Bq/L)': 'la140',\n",
    "    '140La detection limit (Bq/L)': 'la140_dl',\n",
    "    '89Sr radioactivity concentration (Bq/L)': 'sr89',\n",
    "    '89Sr detection limit (Bq/L)': 'sr89_dl',\n",
    "    '90Sr radioactivity concentration (Bq/L)': 'sr90',\n",
    "    '90Sr detection limit (Bq/L)': 'sr90_dl',\n",
    "    '238Pu radioactivity concentration (Bq/L)': 'pu238',\n",
    "    '238Pu detection limit (Bq/L)': 'pu238_dl',\n",
    "    '239Pu+240Pu radioactivity concentration (Bq/L)': 'pu239_240_tot',\n",
    "    '239Pu+240Pu statistical error (Bq/L)': 'pu239_240_tot_unc',\n",
    "    '239Pu+240Pu detection limit (Bq/L)': 'pu239_240_tot_dl',\n",
    "    'Total alpha radioactivity concentration (Bq/L)': 'talpha',\n",
    "    'Total alpha detection limit (Bq/L)': 'talpha_dl',\n",
    "    'Total beta radioactivity concentration (Bq/L)': 'tbeta',\n",
    "    'Total beta detection limit (Bq/L)': 'tbeta_dl',\n",
    "    '140Ba radioactivity concentration (Bq/L)': 'ba140',\n",
    "    '140Ba detection limit (Bq/L)': 'ba140_dl',\n",
    "    '106Ru radioactivity concentration (Bq/L)': 'ru106',\n",
    "    '106Ru detection limit (Bq/L)': 'ru106_dl',\n",
    "    '58Co radioactivity concentration (Bq/L)': 'co58',\n",
    "    '58Co detection limit (Bq/L)': 'co58_dl',\n",
    "    '60Co radioactivity concentration (Bq/L)': 'co60',\n",
    "    '60Co detection limit (Bq/L)': 'co60_dl',\n",
    "    '144Ce radioactivity concentration (Bq/L)': 'ce144',\n",
    "    '144Ce detection limit (Bq/L)': 'ce144_dl',\n",
    "    '54Mn radioactivity concentration (Bq/L)': 'mn54',\n",
    "    '54Mn detection limit (Bq/L)': 'mn54_dl',\n",
    "    '3H radioactivity concentration (Bq/L)': 'h3',\n",
    "    '3H detection limit (Bq/L)': 'h3_dl',\n",
    "    '125Sb radioactivity concentration (Bq/L)': 'sb125',\n",
    "    '125Sb detection limit (Bq/L)': 'sb125_dl',\n",
    "    '105Ru radioactivity concentration (Bq/L)': 'ru105',\n",
    "    '105Ru detection limit (Bq/L)': 'ru105_dl'}\n"
   ]
  },
  {
   "cell_type": "code",
   "execution_count": null,
   "id": "8ea62385",
   "metadata": {},
   "outputs": [],
   "source": [
    "# Check if these variable names consistent with MARIS CDL\n",
    "has_valid_varname(renaming_rules_rdn.values(), nc_tpl_path())"
   ]
  },
  {
   "cell_type": "code",
   "execution_count": null,
   "id": "6ca8cbdd",
   "metadata": {},
   "outputs": [],
   "source": [
    "#| export\n",
    "class RemapRdnNameCB(Callback):\n",
    "    \"Remap to MARIS radionuclide names\"\n",
    "    def __init__(self,\n",
    "                 renaming_rules=renaming_rules_rdn):\n",
    "        fc.store_attr()\n",
    "\n",
    "    def __call__(self, tfm):\n",
    "        for k in tfm.dfs.keys():\n",
    "            tfm.dfs[k].rename(columns=self.renaming_rules, inplace=True)\n"
   ]
  },
  {
   "cell_type": "code",
   "execution_count": null,
   "id": "f18e4b50",
   "metadata": {},
   "outputs": [],
   "source": [
    "dfs = load_data(fname_in)\n",
    "tfm = Transformer(dfs, cbs=[FixMissingValuesCB(),\n",
    "                            RemoveJapanaseCharCB(),\n",
    "                            FixRangeValueStringCB(),\n",
    "                            RemapRdnNameCB()])\n",
    "\n",
    "tfm()['seawater'].head()"
   ]
  },
  {
   "cell_type": "code",
   "execution_count": null,
   "id": "46b2e5bd",
   "metadata": {},
   "outputs": [],
   "source": [
    "tfm()['seawater'].columns"
   ]
  },
  {
   "cell_type": "markdown",
   "id": "c511bd5d",
   "metadata": {},
   "source": [
    "### Parse time"
   ]
  },
  {
   "cell_type": "code",
   "execution_count": null,
   "id": "3c6d764d",
   "metadata": {},
   "outputs": [],
   "source": [
    "#| export\n",
    "def time_parser(col):\n",
    "    day = str(col.iloc[0].date())\n",
    "    time = str(col.iloc[1])\n",
    "    return datetime.strptime(day + ' ' + time, '%Y-%m-%d %H:%M:%S')"
   ]
  },
  {
   "cell_type": "code",
   "execution_count": null,
   "id": "db273da5",
   "metadata": {},
   "outputs": [],
   "source": [
    "#| export\n",
    "class ParseTimeCB(Callback):\n",
    "    def __init__(self, \n",
    "                 fn_parser=time_parser,\n",
    "                 cols_time=['Sampling date', 'Sampling time']):\n",
    "        fc.store_attr()\n",
    "        \n",
    "    def __call__(self, tfm):\n",
    "        for k in tfm.dfs.keys():\n",
    "            tfm.dfs[k]['time'] = tfm.dfs[k][self.cols_time].apply(self.fn_parser, axis=1)\n",
    "            tfm.dfs[k].drop(columns=self.cols_time)"
   ]
  },
  {
   "cell_type": "code",
   "execution_count": null,
   "id": "31ccd38c",
   "metadata": {},
   "outputs": [],
   "source": [
    "dfs = load_data(fname_in)\n",
    "tfm = Transformer(dfs, cbs=[FixMissingValuesCB(),\n",
    "                            RemoveJapanaseCharCB(),\n",
    "                            FixRangeValueStringCB(),\n",
    "                            RemapRdnNameCB(),\n",
    "                            ParseTimeCB()])\n",
    "\n",
    "print(tfm()['seawater']['time'][:5])"
   ]
  },
  {
   "cell_type": "markdown",
   "id": "3096cf5e",
   "metadata": {},
   "source": [
    "### Rename columns"
   ]
  },
  {
   "cell_type": "code",
   "execution_count": null,
   "id": "f8be8624",
   "metadata": {},
   "outputs": [],
   "source": [
    "#| export\n",
    "renaming_rules_cols = {\n",
    "    'Sampling coordinate North latitude (Decimal)': 'lat',\n",
    "    'Sampling coordinate East longitude (Decimal)': 'lon'}"
   ]
  },
  {
   "cell_type": "code",
   "execution_count": null,
   "id": "ce7b1a5e",
   "metadata": {},
   "outputs": [],
   "source": [
    "#| export\n",
    "class RenameColumnCB(Callback):\n",
    "    \"Normalizing, renaming columns\"\n",
    "    def __init__(self,\n",
    "                 renaming_rules=renaming_rules_cols):\n",
    "        fc.store_attr()\n",
    "\n",
    "    def __call__(self, tfm):\n",
    "        for k in tfm.dfs.keys():\n",
    "            tfm.dfs[k].rename(columns=self.renaming_rules, inplace=True)\n"
   ]
  },
  {
   "cell_type": "code",
   "execution_count": null,
   "id": "d16f240b",
   "metadata": {},
   "outputs": [],
   "source": [
    "dfs = load_data(fname_in)\n",
    "tfm = Transformer(dfs, cbs=[FixMissingValuesCB(),\n",
    "                            RemoveJapanaseCharCB(),\n",
    "                            FixRangeValueStringCB(),\n",
    "                            FixRangeValueStringCB(),\n",
    "                            RemapRdnNameCB(),\n",
    "                            ParseTimeCB(),\n",
    "                            RenameColumnCB()])\n",
    "\n",
    "print(tfm()['seawater'][:5])"
   ]
  },
  {
   "cell_type": "markdown",
   "id": "11330a51",
   "metadata": {},
   "source": [
    "### Select columns of interest"
   ]
  },
  {
   "cell_type": "code",
   "execution_count": null,
   "id": "23b4cc14",
   "metadata": {},
   "outputs": [],
   "source": [
    "#| export\n",
    "coi = ['time', 'lat', 'lon'] + list(renaming_rules_rdn.values())"
   ]
  },
  {
   "cell_type": "code",
   "execution_count": null,
   "id": "e87f1bbc",
   "metadata": {},
   "outputs": [],
   "source": [
    "#| export\n",
    "class SelectColumnsCB(Callback):\n",
    "    def __init__(self, coi=coi): fc.store_attr()\n",
    "\n",
    "    def __call__(self, tfm):\n",
    "        for k in tfm.dfs.keys():\n",
    "            tfm.dfs[k] = tfm.dfs[k][self.coi]\n"
   ]
  },
  {
   "cell_type": "code",
   "execution_count": null,
   "id": "836d2c1c",
   "metadata": {},
   "outputs": [],
   "source": [
    "dfs = load_data(fname_in)\n",
    "tfm = Transformer(dfs, cbs=[FixMissingValuesCB(),\n",
    "                            RemoveJapanaseCharCB(),\n",
    "                            FixRangeValueStringCB(),\n",
    "                            RemapRdnNameCB(),\n",
    "                            ParseTimeCB(),\n",
    "                            RenameColumnCB(),\n",
    "                            SelectColumnsCB()])\n",
    "\n",
    "print(tfm()['seawater'][:5])"
   ]
  },
  {
   "cell_type": "markdown",
   "id": "e61c6441",
   "metadata": {},
   "source": [
    "### Encode time (seconds since ...)"
   ]
  },
  {
   "cell_type": "code",
   "execution_count": null,
   "id": "9fa2a859",
   "metadata": {},
   "outputs": [],
   "source": [
    "dfs = load_data(fname_in)\n",
    "tfm = Transformer(dfs, cbs=[FixMissingValuesCB(),\n",
    "                            RemoveJapanaseCharCB(),\n",
    "                            FixRangeValueStringCB(),\n",
    "                            RemapRdnNameCB(),\n",
    "                            ParseTimeCB(),\n",
    "                            RenameColumnCB(),\n",
    "                            SelectColumnsCB(),\n",
    "                            EncodeTimeCB(cfg())])\n",
    "\n",
    "print(tfm()['seawater'][:5])"
   ]
  },
  {
   "cell_type": "markdown",
   "id": "0aa64e0b",
   "metadata": {},
   "source": [
    "### Retrieve depth"
   ]
  },
  {
   "cell_type": "code",
   "execution_count": null,
   "id": "16c52a06",
   "metadata": {},
   "outputs": [],
   "source": [
    "# TO BE DONE\n",
    "# Options: \n",
    "#   - GEBCO: provides raster grid at ~160m (15 arc-second) at equator. We can download it and query via GDAL"
   ]
  },
  {
   "cell_type": "markdown",
   "id": "8787dbdf",
   "metadata": {},
   "source": [
    "### Sanitize coordinates"
   ]
  },
  {
   "cell_type": "code",
   "execution_count": null,
   "id": "554f8c2b",
   "metadata": {},
   "outputs": [],
   "source": [
    "dfs = load_data(fname_in)\n",
    "tfm = Transformer(dfs, cbs=[FixMissingValuesCB(),\n",
    "                            RemoveJapanaseCharCB(),\n",
    "                            FixRangeValueStringCB(),\n",
    "                            RemapRdnNameCB(),\n",
    "                            ParseTimeCB(),\n",
    "                            RenameColumnCB(),\n",
    "                            SelectColumnsCB(),\n",
    "                            EncodeTimeCB(cfg()),\n",
    "                            SanitizeLonLatCB()])\n",
    "\n",
    "tfm()['seawater'][:5]"
   ]
  },
  {
   "cell_type": "markdown",
   "id": "7c8ecd2b",
   "metadata": {},
   "source": [
    "## Encode to NetCDF"
   ]
  },
  {
   "cell_type": "code",
   "execution_count": null,
   "id": "30b36151",
   "metadata": {},
   "outputs": [],
   "source": [
    "dfs = load_data(fname_in)\n",
    "tfm = Transformer(dfs, cbs=[FixMissingValuesCB(),\n",
    "                            RemoveJapanaseCharCB(),\n",
    "                            FixRangeValueStringCB(),\n",
    "                            RemapRdnNameCB(),\n",
    "                            ParseTimeCB(),\n",
    "                            RenameColumnCB(),\n",
    "                            SelectColumnsCB(),\n",
    "                            EncodeTimeCB(cfg()),\n",
    "                            SanitizeLonLatCB()])\n",
    "\n",
    "\n",
    "dfs_tfm = tfm()"
   ]
  },
  {
   "cell_type": "code",
   "execution_count": null,
   "id": "489e0019",
   "metadata": {},
   "outputs": [],
   "source": [
    "dfs_tfm"
   ]
  },
  {
   "cell_type": "code",
   "execution_count": null,
   "id": "bb0e305e",
   "metadata": {},
   "outputs": [],
   "source": [
    "tfm.logs"
   ]
  },
  {
   "cell_type": "markdown",
   "id": "28cca4b2",
   "metadata": {},
   "source": [
    "### Feed global attributes"
   ]
  },
  {
   "cell_type": "code",
   "execution_count": null,
   "id": "a8d3f351",
   "metadata": {},
   "outputs": [],
   "source": [
    "#| export\n",
    "kw = ['oceanography', 'Earth Science > Oceans > Ocean Chemistry> Radionuclides',\n",
    "      'Earth Science > Human Dimensions > Environmental Impacts > Nuclear Radiation Exposure',\n",
    "      'Earth Science > Oceans > Water Quality > Ocean Contaminants']\n"
   ]
  },
  {
   "cell_type": "code",
   "execution_count": null,
   "id": "6d32a59c",
   "metadata": {},
   "outputs": [],
   "source": [
    "#| export\n",
    "def get_attrs(tfm, zotero_key, kw=kw):\n",
    "    return GlobAttrsFeeder(tfm.dfs, cbs=[BboxCB(),\n",
    "                                    # DepthRangeCB(),\n",
    "                                    TimeRangeCB(cfg()),\n",
    "                                    ZoteroCB(zotero_key, cfg=cfg()),\n",
    "                                    KeyValuePairCB('keywords', ', '.join(kw)),\n",
    "                                    KeyValuePairCB('publisher_postprocess_logs', ', '.join(tfm.logs))])()"
   ]
  },
  {
   "cell_type": "code",
   "execution_count": null,
   "id": "a3d2a3b2",
   "metadata": {},
   "outputs": [],
   "source": [
    "get_attrs(tfm, zotero_key='26VMZZ2Q', kw=kw)"
   ]
  },
  {
   "cell_type": "markdown",
   "id": "f07ae872",
   "metadata": {},
   "source": [
    "### Encoding"
   ]
  },
  {
   "cell_type": "code",
   "execution_count": null,
   "id": "8cabcb3e",
   "metadata": {},
   "outputs": [],
   "source": [
    "#| export\n",
    "# def units_fn(grp_name): \n",
    "#     return 'Bq/l'"
   ]
  },
  {
   "cell_type": "code",
   "execution_count": null,
   "id": "992fffa7",
   "metadata": {},
   "outputs": [],
   "source": [
    "#| export\n",
    "# def encode(fname_in, fname_out, nc_tpl_path):\n",
    "#     dfs = load_data(fname_in)\n",
    "#     tfm = Transformer(dfs, cbs=[FixMissingValuesCB(),\n",
    "#                                 RemoveJapanaseCharCB(),\n",
    "#                                 FixRangeValueStringCB(),\n",
    "#                                 RemapRdnNameCB(),\n",
    "#                                 ParseTimeCB(),\n",
    "#                                 RenameColumnCB(),\n",
    "#                                 SelectColumnsCB(),\n",
    "#                                 EncodeTimeCB(),\n",
    "#                                 SanitizeLonLatCB()])\n",
    "    \n",
    "#     dfs_tfm = tfm()\n",
    "#     attrs = get_attrs(tfm, zotero_key='26VMZZ2Q', kw=kw)\n",
    "#     to_netcdf(dfs_tfm, nc_tpl_path, fname_out, attrs, units_fn)"
   ]
  },
  {
   "cell_type": "code",
   "execution_count": null,
   "id": "67f9542a",
   "metadata": {},
   "outputs": [],
   "source": [
    "# encode(fname_in, fname_out, NC_TPL_PATH)"
   ]
  }
 ],
 "metadata": {
  "kernelspec": {
   "display_name": "python3",
   "language": "python",
   "name": "python3"
  }
 },
 "nbformat": 4,
 "nbformat_minor": 5
}

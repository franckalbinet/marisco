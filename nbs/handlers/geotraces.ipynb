{
 "cells": [
  {
   "cell_type": "code",
   "execution_count": null,
   "id": "bb60862d",
   "metadata": {},
   "outputs": [],
   "source": [
    "#| default_exp handlers.geotraces"
   ]
  },
  {
   "attachments": {},
   "cell_type": "markdown",
   "id": "f263111a",
   "metadata": {},
   "source": [
    "# Geotraces\n",
    "> Data pipeline (handler) to convert BODC Geotraces seawater dataset"
   ]
  },
  {
   "cell_type": "markdown",
   "id": "e4e354b4-ea89-4bc6-955e-3a321fe3bedc",
   "metadata": {},
   "source": [
    "TODO & QUESTIONS:\n",
    "\n",
    "- salinity, temperature, oxygen, station(?), samplabcode (BODC bottle ID?)\n",
    "- How to handle this unit? U_236_238_T_RATIO_BOTTLE [per 10^12]"
   ]
  },
  {
   "attachments": {},
   "cell_type": "markdown",
   "id": "b92a5c33",
   "metadata": {},
   "source": [
    "## Packages import"
   ]
  },
  {
   "cell_type": "code",
   "execution_count": null,
   "id": "0db45fee",
   "metadata": {},
   "outputs": [],
   "source": [
    "%load_ext autoreload\n",
    "%autoreload 2"
   ]
  },
  {
   "cell_type": "code",
   "execution_count": null,
   "id": "3a8d979f",
   "metadata": {},
   "outputs": [],
   "source": [
    "#| export\n",
    "from tqdm import tqdm\n",
    "from pathlib import Path\n",
    "import fastcore.all as fc\n",
    "import pandas as pd\n",
    "import numpy as np\n",
    "import re\n",
    "\n",
    "from marisco.callbacks import (Callback, Transformer, SanitizeLonLatCB, EncodeTimeCB)\n",
    "from marisco.metadata import (GlobAttrsFeeder, BboxCB,\n",
    "                              DepthRangeCB, TimeRangeCB,\n",
    "                              ZoteroCB, KeyValuePairCB)\n",
    "from marisco.configs import lut_path, cdl_cfg, cfg, nc_tpl_path, Enums\n",
    "from marisco.serializers import NetCDFEncoder"
   ]
  },
  {
   "cell_type": "code",
   "execution_count": null,
   "id": "51f2351f",
   "metadata": {},
   "outputs": [],
   "source": [
    "pd.set_option('display.max_rows', 100)"
   ]
  },
  {
   "cell_type": "code",
   "execution_count": null,
   "id": "d65ade1e",
   "metadata": {},
   "outputs": [],
   "source": [
    "import warnings\n",
    "warnings.filterwarnings('ignore')"
   ]
  },
  {
   "cell_type": "markdown",
   "id": "8a53a509-5168-44ca-9df8-a58b9f7231eb",
   "metadata": {},
   "source": [
    "## Input and output file names"
   ]
  },
  {
   "cell_type": "code",
   "execution_count": null,
   "id": "d02bf0a9",
   "metadata": {},
   "outputs": [],
   "source": [
    "# | export\n",
    "fname_in = '../../_data/geotraces/GEOTRACES_IDP2021_v2/seawater/ascii/GEOTRACES_IDP2021_Seawater_Discrete_Sample_Data_v2.csv'\n",
    "fname_out = '../../_data/output/190-geotraces-2021.nc'"
   ]
  },
  {
   "cell_type": "markdown",
   "id": "db48f8fb",
   "metadata": {},
   "source": [
    "## Load data"
   ]
  },
  {
   "cell_type": "code",
   "execution_count": null,
   "id": "2ae36303-1f1f-443a-8611-1f1c69cc7254",
   "metadata": {},
   "outputs": [],
   "source": [
    "#|eval: false\n",
    "df = pd.read_csv(fname_in)\n",
    "df.head()"
   ]
  },
  {
   "cell_type": "code",
   "execution_count": null,
   "id": "55d645fa-660d-4298-b72b-fb06dbd2e2d7",
   "metadata": {},
   "outputs": [],
   "source": [
    "#|eval: false\n",
    "def find_print_col(s, cols, lower=True):\n",
    "    cols = cols if not lower else [col.lower() for col in cols]\n",
    "    for col in cols:\n",
    "        if s in col: print(col)\n",
    "\n",
    "find_print_col('sal', df.columns)\n",
    "find_print_col('tmp', df.columns)\n",
    "find_print_col('oxy', df.columns)\n",
    "find_print_col('U_236_238', df.columns, lower=False)"
   ]
  },
  {
   "cell_type": "markdown",
   "id": "bf1a71c0",
   "metadata": {},
   "source": [
    "## Data transformation pipeline"
   ]
  },
  {
   "cell_type": "markdown",
   "id": "c4407027-942c-4240-a92d-a40311c05afd",
   "metadata": {},
   "source": [
    "### Select columns of interest"
   ]
  },
  {
   "cell_type": "code",
   "execution_count": null,
   "id": "55d50ff7-63dc-4719-a6c1-c2ff7e6ecb7f",
   "metadata": {},
   "outputs": [],
   "source": [
    "# U_236_238\n",
    "# Done: Th_232, I_129, Ac_227"
   ]
  },
  {
   "cell_type": "code",
   "execution_count": null,
   "id": "8d3a7bba-39d7-4fc3-8f0e-fb83ff52dcc2",
   "metadata": {},
   "outputs": [],
   "source": [
    "#| export\n",
    "common_coi = ['yyyy-mm-ddThh:mm:ss.sss', 'Longitude [degrees_east]',\n",
    "              'Latitude [degrees_north]', 'Bot. Depth [m]', 'DEPTH [m]']\n",
    "\n",
    "nuclides_pattern = ['^TRITI', '^Th_228', '^Th_23[024]', '^Pa_231', \n",
    "                    '^U_236_[DT]', '^Be_', '^Cs_137', '^Pb_210', '^Po_210',\n",
    "                    '^Ra_22[3468]', 'Np_237', '^Pu_239_[D]', '^Pu_240', '^Pu_239_Pu_240',\n",
    "                    '^I_129', '^Ac_227']  \n",
    "\n",
    "class SelectColsOfInterestCB(Callback):\n",
    "    \"Select columns of interest.\"\n",
    "    def __init__(self, common_coi, nuclides_pattern): fc.store_attr()\n",
    "    def __call__(self, tfm):\n",
    "        nuc_of_interest = [c for c in tfm.dfs.columns if \n",
    "                           any(re.match(pattern, c) for pattern in self.nuclides_pattern)]\n",
    "\n",
    "        tfm.dfs = tfm.dfs[self.common_coi + nuc_of_interest]"
   ]
  },
  {
   "cell_type": "code",
   "execution_count": null,
   "id": "9005e7e4-f0d7-4944-abea-60e5f5522e22",
   "metadata": {},
   "outputs": [],
   "source": [
    "#|eval: false\n",
    "df = pd.read_csv(fname_in)\n",
    "tfm = Transformer(df, cbs=[\n",
    "    SelectColsOfInterestCB(common_coi, nuclides_pattern)\n",
    "])"
   ]
  },
  {
   "cell_type": "code",
   "execution_count": null,
   "id": "52f52056-f58d-4ef5-b5de-dc8adf51eac0",
   "metadata": {},
   "outputs": [],
   "source": [
    "#|eval: false\n",
    "df_test = tfm()\n",
    "df_test.head()"
   ]
  },
  {
   "cell_type": "markdown",
   "id": "f6ceb332-536a-4054-a85a-a56960fb28a1",
   "metadata": {},
   "source": [
    "### Reshape: wide to long\n",
    "\n",
    "So that we can extract information such as sample methodology, filtering status, units included in Geotraces nuclides name."
   ]
  },
  {
   "cell_type": "code",
   "execution_count": null,
   "id": "b060bb07-5565-4928-8b43-4abc5e64eb97",
   "metadata": {},
   "outputs": [],
   "source": [
    "#|export\n",
    "class WideToLongCB(Callback):\n",
    "    \"\"\"\n",
    "    Get Geotraces nuclide names as values not column names \n",
    "    to extract contained information (unit, sampling method, ...).\n",
    "    \"\"\"\n",
    "    def __init__(self, common_coi, nuclides_pattern, \n",
    "                 var_name='nuclide', value_name='value'): \n",
    "        fc.store_attr()\n",
    "        \n",
    "    def __call__(self, tfm):\n",
    "        nuc_of_interest = [c for c in tfm.dfs.columns if \n",
    "                           any(re.match(pattern, c) for pattern in self.nuclides_pattern)]\n",
    "        tfm.dfs = pd.melt(tfm.dfs, id_vars=self.common_coi, value_vars=nuc_of_interest, \n",
    "                          var_name=self.var_name, value_name=self.value_name)\n",
    "        tfm.dfs.dropna(subset='value', inplace=True)"
   ]
  },
  {
   "cell_type": "code",
   "execution_count": null,
   "id": "c95cc28d-b236-412d-9378-f06e85f95560",
   "metadata": {},
   "outputs": [],
   "source": [
    "#|eval: false\n",
    "df = pd.read_csv(fname_in)\n",
    "tfm = Transformer(df, cbs=[\n",
    "    SelectColsOfInterestCB(common_coi, nuclides_pattern),\n",
    "    WideToLongCB(common_coi, nuclides_pattern)\n",
    "])\n",
    "\n",
    "df_test = tfm()\n",
    "df_test.shape"
   ]
  },
  {
   "cell_type": "markdown",
   "id": "de71e3a4-3f0e-4392-8338-1f9ef907f5da",
   "metadata": {},
   "source": [
    "### Extract"
   ]
  },
  {
   "cell_type": "markdown",
   "id": "adee33d8-310b-43db-9eea-58ccaeed2065",
   "metadata": {},
   "source": [
    "#### Unit"
   ]
  },
  {
   "cell_type": "code",
   "execution_count": null,
   "id": "3e982489-7c69-4b6d-9930-8f786220ad5b",
   "metadata": {},
   "outputs": [],
   "source": [
    "#|export\n",
    "class ExtractUnitCB(Callback):\n",
    "    \"\"\"\n",
    "    Extract units from nuclide names.\n",
    "    \"\"\"\n",
    "    def __init__(self, var_name='nuclide'): \n",
    "        fc.store_attr()\n",
    "        self.unit_col_name = cdl_cfg()['vars']['suffixes']['unit']['name']\n",
    "\n",
    "    def extract_unit(self, s):\n",
    "        match = re.search(r'\\[(.*?)\\]', s)\n",
    "        return match.group(1) if match else None\n",
    "        \n",
    "    def __call__(self, tfm):\n",
    "        tfm.dfs[self.unit_col_name] = tfm.dfs[self.var_name].apply(self.extract_unit)"
   ]
  },
  {
   "cell_type": "code",
   "execution_count": null,
   "id": "739decc1-64e8-4ea3-8f09-89a8b04dc1f8",
   "metadata": {},
   "outputs": [],
   "source": [
    "#|eval: false\n",
    "df = pd.read_csv(fname_in)\n",
    "tfm = Transformer(df, cbs=[\n",
    "    SelectColsOfInterestCB(common_coi, nuclides_pattern),\n",
    "    WideToLongCB(common_coi, nuclides_pattern),\n",
    "    ExtractUnitCB()\n",
    "])\n",
    "\n",
    "df_test = tfm()\n",
    "df_test.head()"
   ]
  },
  {
   "cell_type": "markdown",
   "id": "219fc817-6700-4c3a-b353-08cc89c05538",
   "metadata": {},
   "source": [
    "#### Filtering status"
   ]
  },
  {
   "cell_type": "code",
   "execution_count": null,
   "id": "efb9477e-f593-4d15-b8b8-c073bd6bb590",
   "metadata": {},
   "outputs": [],
   "source": [
    "#\\export\n",
    "phase = {\n",
    "    'D': {'filt': 1, 'group': 'seawater'},\n",
    "    'T': {'filt': 2, 'group': 'seawater'},\n",
    "    'TP': {'filt': 1, 'group': 'suspended-matter'}, \n",
    "    'LPT': {'filt': 1, 'group': 'suspended-matter'},\n",
    "    'SPT': {'filt': 1, 'group': 'suspended-matter'}}"
   ]
  },
  {
   "cell_type": "code",
   "execution_count": null,
   "id": "3ba72b3a-a013-4b5d-881a-9fd0a7e8b74c",
   "metadata": {},
   "outputs": [],
   "source": [
    "#|export\n",
    "class ExtractFilteringStatusCB(Callback):\n",
    "    \"\"\"\n",
    "    Extract filtering status from nuclide names.\n",
    "    \"\"\"\n",
    "    def __init__(self, phase, var_name='nuclide'): \n",
    "        fc.store_attr()\n",
    "        self.filt_col_name = cdl_cfg()['vars']['suffixes']['filtered']['name']\n",
    "\n",
    "    def extract_filt_status(self, s):\n",
    "        matched_string = self.match(s)\n",
    "        return self.phase[matched_string.group(1)]['filt'] if matched_string else None\n",
    "\n",
    "    def match(self, s):\n",
    "        return re.search(r'_(' + '|'.join(self.phase.keys()) + ')_', s)\n",
    "        \n",
    "    def extract_group(self, s):\n",
    "        matched_string = self.match(s)\n",
    "        return self.phase[matched_string.group(1)]['group'] if matched_string else None\n",
    "        \n",
    "    def __call__(self, tfm):\n",
    "        tfm.dfs[self.filt_col_name] = tfm.dfs[self.var_name].apply(self.extract_filt_status)\n",
    "        tfm.dfs['group'] = tfm.dfs[self.var_name].apply(self.extract_group)"
   ]
  },
  {
   "cell_type": "code",
   "execution_count": null,
   "id": "f4821951-c14a-4315-8d03-ec82f83a242a",
   "metadata": {},
   "outputs": [],
   "source": [
    "#|eval: false\n",
    "df = pd.read_csv(fname_in)\n",
    "\n",
    "tfm = Transformer(df, cbs=[\n",
    "    SelectColsOfInterestCB(common_coi, nuclides_pattern),\n",
    "    WideToLongCB(common_coi, nuclides_pattern),\n",
    "    ExtractUnitCB(),\n",
    "    ExtractFilteringStatusCB(phase)\n",
    "])\n",
    "\n",
    "df_test = tfm()\n",
    "df_test.head()"
   ]
  },
  {
   "cell_type": "markdown",
   "id": "53acd63b-9fb9-4f51-a525-e020602893fc",
   "metadata": {},
   "source": [
    "#### Sampling method"
   ]
  },
  {
   "cell_type": "code",
   "execution_count": null,
   "id": "e7c79502-f09e-49c0-851b-cdb2eca82eac",
   "metadata": {},
   "outputs": [],
   "source": [
    "#\\export\n",
    "# To be validated\n",
    "smp_method = {\n",
    "    'BOTTLE': 1,\n",
    "    'FISH': 18,\n",
    "    'PUMP': 14,\n",
    "    'UWAY': 24}"
   ]
  },
  {
   "cell_type": "code",
   "execution_count": null,
   "id": "3b4663f8-6cb1-45c3-8437-97a6ba9c5214",
   "metadata": {},
   "outputs": [],
   "source": [
    "#|export\n",
    "class ExtractSamplingMethodCB(Callback):\n",
    "    \"\"\"\n",
    "    Extract sampling method from nuclide names.\n",
    "    \"\"\"\n",
    "    def __init__(self, smp_method, var_name='nuclide'): \n",
    "        fc.store_attr()\n",
    "        self.smp_method_col_name = cdl_cfg()['vars']['suffixes']['sampling_method']['name']\n",
    "\n",
    "    def extract_smp_method(self, s):\n",
    "        match = re.search(r'_(' + '|'.join(self.smp_method.keys()) + ') ', s)\n",
    "        return self.smp_method[match.group(1)] if match else None\n",
    "        \n",
    "    def __call__(self, tfm):\n",
    "        tfm.dfs[self.smp_method_col_name] = tfm.dfs[self.var_name].apply(self.extract_smp_method)"
   ]
  },
  {
   "cell_type": "code",
   "execution_count": null,
   "id": "429020cf-3e5d-4efc-963d-af82bd1a0820",
   "metadata": {},
   "outputs": [],
   "source": [
    "#|eval: false\n",
    "df = pd.read_csv(fname_in)\n",
    "\n",
    "tfm = Transformer(df, cbs=[\n",
    "    SelectColsOfInterestCB(common_coi, nuclides_pattern),\n",
    "    WideToLongCB(common_coi, nuclides_pattern),\n",
    "    ExtractUnitCB(),\n",
    "    ExtractFilteringStatusCB(phase),\n",
    "    ExtractSamplingMethodCB(smp_method)\n",
    "])\n",
    "\n",
    "df_test = tfm()\n",
    "df_test.head()"
   ]
  },
  {
   "cell_type": "markdown",
   "id": "e1b02772-ff31-407c-b593-4fcc841cde40",
   "metadata": {},
   "source": [
    "### Remap to MARIS nuclide names "
   ]
  },
  {
   "cell_type": "code",
   "execution_count": null,
   "id": "8eb5c23c-8930-4100-b9bc-d536d2b8d3b6",
   "metadata": {},
   "outputs": [],
   "source": [
    "#\\export\n",
    "nuclides_name = {'TRITIUM': 'h3', 'Pu_239_Pu_240': 'pu239_240_tot'}"
   ]
  },
  {
   "cell_type": "code",
   "execution_count": null,
   "id": "06cc02db-47e0-4fe9-8586-d76bcb5c4615",
   "metadata": {},
   "outputs": [],
   "source": [
    "#|export\n",
    "class RenameNuclideCB(Callback):\n",
    "    \"\"\"\n",
    "    Remap nuclides name to MARIS standard.\n",
    "    \"\"\"\n",
    "    def __init__(self, nuclides_name, var_name='nuclide'): \n",
    "        fc.store_attr()\n",
    "        self.patterns = ['_D', '_T', '_TP', '_LPT', '_SPT']\n",
    "\n",
    "    def extract_nuclide_name(self, s):\n",
    "        match = re.search(r'(.*?)(' + '|'.join(self.patterns) + ')', s)\n",
    "        return match.group(1) if match else None\n",
    "\n",
    "    def standardize_name(self, s):\n",
    "        s = self.extract_nuclide_name(s)\n",
    "        return self.nuclides_name[s] if s in self.nuclides_name else s.lower().replace('_', '')\n",
    "        \n",
    "    def __call__(self, tfm):\n",
    "        tfm.dfs[self.var_name] = tfm.dfs[self.var_name].apply(self.standardize_name)"
   ]
  },
  {
   "cell_type": "code",
   "execution_count": null,
   "id": "aedfacdd-c3b4-4a17-bd3d-1617a32f03df",
   "metadata": {},
   "outputs": [],
   "source": [
    "#|eval: false\n",
    "df = pd.read_csv(fname_in)\n",
    "\n",
    "tfm = Transformer(df, cbs=[\n",
    "    SelectColsOfInterestCB(common_coi, nuclides_pattern),\n",
    "    WideToLongCB(common_coi, nuclides_pattern),\n",
    "    ExtractUnitCB(),\n",
    "    ExtractFilteringStatusCB(phase),\n",
    "    ExtractSamplingMethodCB(smp_method),\n",
    "    RenameNuclideCB(nuclides_name)\n",
    "])\n",
    "\n",
    "df_test = tfm()\n",
    "df_test.head()"
   ]
  },
  {
   "cell_type": "code",
   "execution_count": null,
   "id": "da689766-2c09-4cd0-ada4-e039670d3b9e",
   "metadata": {},
   "outputs": [],
   "source": [
    "#|eval: false\n",
    "df_test.nuclide.unique()"
   ]
  },
  {
   "cell_type": "markdown",
   "id": "46c2529b-8fb4-4ba0-9c05-06843a5f578e",
   "metadata": {},
   "source": [
    "### Standardize unit"
   ]
  },
  {
   "cell_type": "code",
   "execution_count": null,
   "id": "80145187-bb90-4428-9d31-77a82ec916b4",
   "metadata": {},
   "outputs": [],
   "source": [
    "#\\export\n",
    "units_lut = {\n",
    "    'TU': {'id': 7, 'factor': 1},\n",
    "    'uBq/kg': {'id': 3, 'factor': 1e-6},\n",
    "    'atoms/kg': {'id': 9, 'factor': 1},\n",
    "    'mBq/kg': {'id': 3, 'factor': 1e-3}}"
   ]
  },
  {
   "cell_type": "code",
   "execution_count": null,
   "id": "070abb88-c987-4eec-b0dc-7b69a61c0093",
   "metadata": {},
   "outputs": [],
   "source": [
    "#|export\n",
    "class StandardizeUnitCB(Callback):\n",
    "    \"\"\"\n",
    "    Remap unit to MARIS standard ones and apply conversion where needed.\n",
    "    \"\"\"\n",
    "    def __init__(self, units_lut, var_name='value'): \n",
    "        fc.store_attr()\n",
    "        self.unit_col_name = cdl_cfg()['vars']['suffixes']['unit']['name']\n",
    "        \n",
    "    \n",
    "    def __call__(self, tfm):\n",
    "        # Convert/rescale values\n",
    "        tfm.dfs[self.var_name] *= tfm.dfs[self.unit_col_name].map(\n",
    "            {k: v['factor'] for k, v in self.units_lut.items()})\n",
    "        \n",
    "        # Match MARIS unit id\n",
    "        tfm.dfs[self.unit_col_name] = tfm.dfs[self.unit_col_name].map(\n",
    "            {k: v['id'] for k, v in self.units_lut.items()})\n",
    "        "
   ]
  },
  {
   "cell_type": "code",
   "execution_count": null,
   "id": "f4468c29-1298-4dd9-8b04-f1a70680ed75",
   "metadata": {},
   "outputs": [],
   "source": [
    "#|eval: false\n",
    "df = pd.read_csv(fname_in)\n",
    "\n",
    "tfm = Transformer(df, cbs=[\n",
    "    SelectColsOfInterestCB(common_coi, nuclides_pattern),\n",
    "    WideToLongCB(common_coi, nuclides_pattern),\n",
    "    ExtractUnitCB(),\n",
    "    ExtractFilteringStatusCB(phase),\n",
    "    ExtractSamplingMethodCB(smp_method),\n",
    "    RenameNuclideCB(nuclides_name),\n",
    "    StandardizeUnitCB(units_lut)\n",
    "])\n",
    "\n",
    "df_test = tfm()\n",
    "print(df_test.head())\n",
    "print(df_test.columns)"
   ]
  },
  {
   "cell_type": "markdown",
   "id": "439b2128-697b-4421-b456-e13d67ac9ba9",
   "metadata": {},
   "source": [
    "### Rename common columns"
   ]
  },
  {
   "cell_type": "code",
   "execution_count": null,
   "id": "2d1bee53-b70e-4d22-a00b-b6a3b55bc261",
   "metadata": {},
   "outputs": [],
   "source": [
    "#| export\n",
    "def renaming_rules():\n",
    "    vars = cdl_cfg()['vars']\n",
    "    # Define column names renaming rules\n",
    "    return {\n",
    "        'yyyy-mm-ddThh:mm:ss.sss': vars['defaults']['time']['name'],\n",
    "        'Longitude [degrees_east]': vars['defaults']['lon']['name'],\n",
    "        'Latitude [degrees_north]': vars['defaults']['lat']['name'],\n",
    "        'DEPTH [m]': vars['defaults']['smp_depth']['name'],\n",
    "        'Bot. Depth [m]': vars['defaults']['tot_depth']['name']\n",
    "    }"
   ]
  },
  {
   "cell_type": "code",
   "execution_count": null,
   "id": "5a1b1521-a4d4-4839-a2c1-444c31332ef2",
   "metadata": {},
   "outputs": [],
   "source": [
    "#| export\n",
    "class RenameColumnCB(Callback):\n",
    "    \"Renaming variables to MARIS standard names.\"\n",
    "    def __init__(self, renaming_rules=renaming_rules): fc.store_attr()\n",
    "    def __call__(self, tfm):\n",
    "        lut = self.renaming_rules()\n",
    "        new_col_names = [lut[name] if name in lut else name for name in tfm.dfs.columns]\n",
    "        tfm.dfs.columns = new_col_names"
   ]
  },
  {
   "cell_type": "code",
   "execution_count": null,
   "id": "b8124641-e732-4602-91a7-6a8ee1f911ff",
   "metadata": {},
   "outputs": [],
   "source": [
    "#|eval: false\n",
    "df = pd.read_csv(fname_in)\n",
    "\n",
    "tfm = Transformer(df, cbs=[\n",
    "    SelectColsOfInterestCB(common_coi, nuclides_pattern),\n",
    "    WideToLongCB(common_coi, nuclides_pattern),\n",
    "    ExtractUnitCB(),\n",
    "    ExtractFilteringStatusCB(phase),\n",
    "    ExtractSamplingMethodCB(smp_method),\n",
    "    RenameNuclideCB(nuclides_name),\n",
    "    StandardizeUnitCB(units_lut),\n",
    "    RenameColumnCB(renaming_rules)\n",
    "])\n",
    "\n",
    "df_test = tfm()\n",
    "df_test.head()"
   ]
  },
  {
   "cell_type": "markdown",
   "id": "ec5d7f92-7ea0-4441-b4c4-06a41d1aaf93",
   "metadata": {},
   "source": [
    "### Unshift longitudes"
   ]
  },
  {
   "cell_type": "code",
   "execution_count": null,
   "id": "ee266cb0-ad2f-4548-b68b-80d0f33ef403",
   "metadata": {},
   "outputs": [],
   "source": [
    "#| export\n",
    "class UnshiftLongitudeCB(Callback):\n",
    "    \"Longitudes are coded between 0 and 360 in Geotraces. We rescale it between -180 and 180 instead.\"\n",
    "    def __init__(self): \n",
    "        self.lon_col_name = cdl_cfg()['vars']['defaults']['lon']['name']\n",
    "    \n",
    "    def __call__(self, tfm):\n",
    "        tfm.dfs[self.lon_col_name] = tfm.dfs[self.lon_col_name] - 180"
   ]
  },
  {
   "cell_type": "code",
   "execution_count": null,
   "id": "66d43319-a340-424a-ac22-e3ddb6433fc6",
   "metadata": {},
   "outputs": [],
   "source": [
    "#|eval: false\n",
    "df = pd.read_csv(fname_in)\n",
    "\n",
    "tfm = Transformer(df, cbs=[\n",
    "    SelectColsOfInterestCB(common_coi, nuclides_pattern),\n",
    "    WideToLongCB(common_coi, nuclides_pattern),\n",
    "    ExtractUnitCB(),\n",
    "    ExtractFilteringStatusCB(phase),\n",
    "    ExtractSamplingMethodCB(smp_method),\n",
    "    RenameNuclideCB(nuclides_name),\n",
    "    StandardizeUnitCB(units_lut),\n",
    "    RenameColumnCB(renaming_rules),\n",
    "    UnshiftLongitudeCB()\n",
    "])\n",
    "\n",
    "df_test = tfm()\n",
    "df_test.head()"
   ]
  },
  {
   "cell_type": "markdown",
   "id": "4b3f5932-87a0-487e-ade6-e2cbcf6ba6e1",
   "metadata": {},
   "source": [
    "### Dispatch to groups"
   ]
  },
  {
   "cell_type": "code",
   "execution_count": null,
   "id": "347a0371-c6e4-4b7d-b1f8-8ffb00509e42",
   "metadata": {},
   "outputs": [],
   "source": [
    "#| export\n",
    "class DispatchToGroupCB(Callback):\n",
    "    \"Convert to a dictionary of dataframe with sample type (seawater,...) as keys.\"\n",
    "    def __init__(self, group_name='group'): \n",
    "        fc.store_attr()\n",
    "        \n",
    "    def __call__(self, tfm):\n",
    "        tfm.dfs = dict(tuple(tfm.dfs.groupby(self.group_name)))\n",
    "        for key in tfm.dfs:\n",
    "            tfm.dfs[key] = tfm.dfs[key].drop(self.group_name, axis=1)\n",
    "        "
   ]
  },
  {
   "cell_type": "code",
   "execution_count": null,
   "id": "befc6bf4-4ecc-4165-892c-1ce5c334dfab",
   "metadata": {},
   "outputs": [],
   "source": [
    "#|eval: false\n",
    "df = pd.read_csv(fname_in)\n",
    "\n",
    "tfm = Transformer(df, cbs=[\n",
    "    SelectColsOfInterestCB(common_coi, nuclides_pattern),\n",
    "    WideToLongCB(common_coi, nuclides_pattern),\n",
    "    ExtractUnitCB(),\n",
    "    ExtractFilteringStatusCB(phase),\n",
    "    ExtractSamplingMethodCB(smp_method),\n",
    "    RenameNuclideCB(nuclides_name),\n",
    "    StandardizeUnitCB(units_lut),\n",
    "    RenameColumnCB(renaming_rules),\n",
    "    UnshiftLongitudeCB(),\n",
    "    DispatchToGroupCB()\n",
    "])\n",
    "\n",
    "tfm()"
   ]
  },
  {
   "cell_type": "markdown",
   "id": "3167c7a3-d383-49d6-9bd6-40ad9eb0543d",
   "metadata": {},
   "source": [
    "### Rehape: long to wide"
   ]
  },
  {
   "cell_type": "code",
   "execution_count": null,
   "id": "a2c222a4-24b8-4b5a-a6fc-37aeb66bc502",
   "metadata": {},
   "outputs": [],
   "source": [
    "#| export\n",
    "class ReshapeLongToWide(Callback):\n",
    "    \"Convert data from long to wide with renamed columns.\"\n",
    "    def __init__(self, columns='nuclide', values=['value']):\n",
    "        fc.store_attr()\n",
    "        # Retrieve all possible derived vars (e.g 'unc', 'dl', ...) from configs\n",
    "        self.derived_cols = [value['name'] for value in cdl_cfg()['vars']['suffixes'].values()]\n",
    "    \n",
    "    def renamed_cols(self, cols):\n",
    "        \"Flatten columns name\"\n",
    "        return [inner if outer == \"value\" else f'{inner}{outer}'\n",
    "                if inner else outer\n",
    "                for outer, inner in cols]\n",
    "\n",
    "    def pivot(self, df):\n",
    "        # Among all possible 'derived cols' select the ones present in df\n",
    "        derived_coi = [col for col in self.derived_cols if col in df.columns]\n",
    "        \n",
    "        df.reset_index(names='sample', inplace=True)\n",
    "        \n",
    "        idx = list(set(df.columns) - set([self.columns] + derived_coi + self.values))\n",
    "        return df.pivot_table(index=idx,\n",
    "                              columns=self.columns,\n",
    "                              values=self.values + derived_coi,\n",
    "                              fill_value=np.nan,\n",
    "                              aggfunc=lambda x: x\n",
    "                              ).reset_index()\n",
    "\n",
    "    def __call__(self, tfm):\n",
    "        for k in tfm.dfs.keys():\n",
    "            tfm.dfs[k] = self.pivot(tfm.dfs[k])\n",
    "            tfm.dfs[k].columns = self.renamed_cols(tfm.dfs[k].columns)"
   ]
  },
  {
   "cell_type": "code",
   "execution_count": null,
   "id": "088aaa9d-1daf-4765-986c-4d8207caeeef",
   "metadata": {},
   "outputs": [],
   "source": [
    "#|eval: false\n",
    "df = pd.read_csv(fname_in)\n",
    "\n",
    "tfm = Transformer(df, cbs=[\n",
    "    SelectColsOfInterestCB(common_coi, nuclides_pattern),\n",
    "    WideToLongCB(common_coi, nuclides_pattern),\n",
    "    ExtractUnitCB(),\n",
    "    ExtractFilteringStatusCB(phase),\n",
    "    ExtractSamplingMethodCB(smp_method),\n",
    "    RenameNuclideCB(nuclides_name),\n",
    "    StandardizeUnitCB(units_lut),\n",
    "    RenameColumnCB(renaming_rules),\n",
    "    UnshiftLongitudeCB(),\n",
    "    DispatchToGroupCB(),\n",
    "    ReshapeLongToWide()\n",
    "])\n",
    "\n",
    "dfs_test = tfm()['seawater']\n",
    "print('shape: ', dfs_test.shape)\n",
    "print('columns: ', dfs_test.columns)\n",
    "dfs_test.head()"
   ]
  },
  {
   "cell_type": "markdown",
   "id": "0b383c2b-6ed0-44e2-ad8b-d18330f17b01",
   "metadata": {},
   "source": [
    "### Parse time"
   ]
  },
  {
   "cell_type": "code",
   "execution_count": null,
   "id": "61cfaf02-7d25-4663-8804-48fa4b219e2b",
   "metadata": {},
   "outputs": [],
   "source": [
    "#| export\n",
    "class ParseTimeCB(Callback):\n",
    "    def __call__(self, tfm):\n",
    "        for k in tfm.dfs.keys():\n",
    "            tfm.dfs[k]['time'] = pd.to_datetime(tfm.dfs[k].time, format='ISO8601')"
   ]
  },
  {
   "cell_type": "code",
   "execution_count": null,
   "id": "75e2f39e-8f19-476f-a974-6bc26fda2a46",
   "metadata": {},
   "outputs": [],
   "source": [
    "#|eval: false\n",
    "df = pd.read_csv(fname_in)\n",
    "\n",
    "tfm = Transformer(df, cbs=[\n",
    "    SelectColsOfInterestCB(common_coi, nuclides_pattern),\n",
    "    WideToLongCB(common_coi, nuclides_pattern),\n",
    "    ExtractUnitCB(),\n",
    "    ExtractFilteringStatusCB(phase),\n",
    "    ExtractSamplingMethodCB(smp_method),\n",
    "    RenameNuclideCB(nuclides_name),\n",
    "    StandardizeUnitCB(units_lut),\n",
    "    RenameColumnCB(renaming_rules),\n",
    "    UnshiftLongitudeCB(),\n",
    "    DispatchToGroupCB(),\n",
    "    ReshapeLongToWide(),\n",
    "    ParseTimeCB()\n",
    "])\n",
    "\n",
    "print('time data type: ', tfm()['seawater'].time.dtype)"
   ]
  },
  {
   "cell_type": "markdown",
   "id": "3dd810ac-77c0-4cb2-9241-9a719cd82c34",
   "metadata": {},
   "source": [
    "### Encode time (seconds since ...)"
   ]
  },
  {
   "cell_type": "code",
   "execution_count": null,
   "id": "1e71ae50-c586-4f90-b60b-e99c55700fd9",
   "metadata": {},
   "outputs": [],
   "source": [
    "#|eval: false\n",
    "df = pd.read_csv(fname_in)\n",
    "\n",
    "tfm = Transformer(df, cbs=[\n",
    "    SelectColsOfInterestCB(common_coi, nuclides_pattern),\n",
    "    WideToLongCB(common_coi, nuclides_pattern),\n",
    "    ExtractUnitCB(),\n",
    "    ExtractFilteringStatusCB(phase),\n",
    "    ExtractSamplingMethodCB(smp_method),\n",
    "    RenameNuclideCB(nuclides_name),\n",
    "    StandardizeUnitCB(units_lut),\n",
    "    RenameColumnCB(renaming_rules),\n",
    "    UnshiftLongitudeCB(),\n",
    "    DispatchToGroupCB(),\n",
    "    ReshapeLongToWide(),\n",
    "    ParseTimeCB(),\n",
    "    EncodeTimeCB(cfg())\n",
    "])\n",
    "\n",
    "dfs_test = tfm()['seawater']\n",
    "dfs_test.head()"
   ]
  },
  {
   "cell_type": "markdown",
   "id": "d0041cd0-1281-46ec-8186-d1e5ce38729e",
   "metadata": {},
   "source": [
    "### Sanitize coordinates"
   ]
  },
  {
   "cell_type": "code",
   "execution_count": null,
   "id": "f69a0e1d-19dc-43b5-b6e7-0e3121213539",
   "metadata": {},
   "outputs": [],
   "source": [
    "#|eval: false\n",
    "df = pd.read_csv(fname_in)\n",
    "\n",
    "tfm = Transformer(df, cbs=[\n",
    "    SelectColsOfInterestCB(common_coi, nuclides_pattern),\n",
    "    WideToLongCB(common_coi, nuclides_pattern),\n",
    "    ExtractUnitCB(),\n",
    "    ExtractFilteringStatusCB(phase),\n",
    "    ExtractSamplingMethodCB(smp_method),\n",
    "    RenameNuclideCB(nuclides_name),\n",
    "    StandardizeUnitCB(units_lut),\n",
    "    RenameColumnCB(renaming_rules),\n",
    "    UnshiftLongitudeCB(),\n",
    "    DispatchToGroupCB(),\n",
    "    ReshapeLongToWide(),\n",
    "    ParseTimeCB(),\n",
    "    EncodeTimeCB(cfg()),\n",
    "    SanitizeLonLatCB()\n",
    "])\n",
    "dfs_test = tfm()['seawater']\n",
    "dfs_test.head()"
   ]
  },
  {
   "cell_type": "markdown",
   "id": "ca8700ad-5003-415b-bafb-f07b20829656",
   "metadata": {},
   "source": [
    "## NetCDF encoder"
   ]
  },
  {
   "cell_type": "markdown",
   "id": "84407159-05b9-4e6d-aef5-f1cb678b3b13",
   "metadata": {},
   "source": [
    "### Example change logs"
   ]
  },
  {
   "cell_type": "code",
   "execution_count": null,
   "id": "6da2b1d4-4648-4904-8e5f-71028604139d",
   "metadata": {},
   "outputs": [],
   "source": [
    "#|eval: false\n",
    "df = pd.read_csv(fname_in)\n",
    "\n",
    "tfm = Transformer(df, cbs=[\n",
    "    SelectColsOfInterestCB(common_coi, nuclides_pattern),\n",
    "    WideToLongCB(common_coi, nuclides_pattern),\n",
    "    ExtractUnitCB(),\n",
    "    ExtractFilteringStatusCB(phase),\n",
    "    ExtractSamplingMethodCB(smp_method),\n",
    "    RenameNuclideCB(nuclides_name),\n",
    "    StandardizeUnitCB(units_lut),\n",
    "    RenameColumnCB(renaming_rules),\n",
    "    UnshiftLongitudeCB(),\n",
    "    DispatchToGroupCB(),\n",
    "    ReshapeLongToWide(),\n",
    "    ParseTimeCB(),\n",
    "    EncodeTimeCB(cfg()),\n",
    "    SanitizeLonLatCB()\n",
    "])\n",
    "\n",
    "tfm();"
   ]
  },
  {
   "cell_type": "code",
   "execution_count": null,
   "id": "640925a3",
   "metadata": {},
   "outputs": [],
   "source": [
    "#|eval: false\n",
    "tfm.logs"
   ]
  },
  {
   "cell_type": "markdown",
   "id": "df7efa12-0c41-4949-a2a3-b4ed8d8e37f6",
   "metadata": {},
   "source": [
    "### Feed global attributes"
   ]
  },
  {
   "cell_type": "code",
   "execution_count": null,
   "id": "f98fd736",
   "metadata": {},
   "outputs": [],
   "source": [
    "#| export\n",
    "kw = ['oceanography', 'Earth Science > Oceans > Ocean Chemistry> Radionuclides',\n",
    "      'Earth Science > Human Dimensions > Environmental Impacts > Nuclear Radiation Exposure',\n",
    "      'Earth Science > Oceans > Ocean Chemistry > Ocean Tracers, Earth Science > Oceans > Marine Sediments',\n",
    "      'Earth Science > Oceans > Ocean Chemistry, Earth Science > Oceans > Sea Ice > Isotopes',\n",
    "      'Earth Science > Oceans > Water Quality > Ocean Contaminants',\n",
    "      'Earth Science > Biological Classification > Animals/Vertebrates > Fish',\n",
    "      'Earth Science > Biosphere > Ecosystems > Marine Ecosystems',\n",
    "      'Earth Science > Biological Classification > Animals/Invertebrates > Mollusks',\n",
    "      'Earth Science > Biological Classification > Animals/Invertebrates > Arthropods > Crustaceans',\n",
    "      'Earth Science > Biological Classification > Plants > Macroalgae (Seaweeds)']"
   ]
  },
  {
   "cell_type": "code",
   "execution_count": null,
   "id": "ca5357b7",
   "metadata": {},
   "outputs": [],
   "source": [
    "#| export\n",
    "def get_attrs(tfm, zotero_key, kw=kw):\n",
    "    return GlobAttrsFeeder(tfm.dfs, cbs=[\n",
    "        BboxCB(),\n",
    "        DepthRangeCB(),\n",
    "        TimeRangeCB(cfg()),\n",
    "        ZoteroCB(zotero_key, cfg=cfg()),\n",
    "        KeyValuePairCB('keywords', ', '.join(kw)),\n",
    "        KeyValuePairCB('publisher_postprocess_logs', ', '.join(tfm.logs))\n",
    "        ])()"
   ]
  },
  {
   "cell_type": "code",
   "execution_count": null,
   "id": "6385d9e3",
   "metadata": {},
   "outputs": [],
   "source": [
    "#|eval: false\n",
    "zotero_metadata = get_attrs(tfm, zotero_key='97UIMEXN', kw=kw)\n",
    "print('Keys: ', zotero_metadata.keys())\n",
    "print('Title: ', zotero_metadata['title'])"
   ]
  },
  {
   "cell_type": "code",
   "execution_count": null,
   "id": "ce312588",
   "metadata": {},
   "outputs": [],
   "source": [
    "#| export\n",
    "#def enums_xtra(tfm, vars):\n",
    "#    \"Retrieve a subset of the lengthy enum as 'species_t' for instance\"\n",
    "#    enums = Enums(lut_src_dir=lut_path(), cdl_enums=cdl_cfg()['enums'])\n",
    "#    xtras = {}\n",
    "#    for var in vars:\n",
    "#        unique_vals = tfm.unique(var)\n",
    "#        if unique_vals.any():\n",
    "#            xtras[f'{var}_t'] = enums.filter(f'{var}_t', unique_vals)\n",
    "#    return xtras"
   ]
  },
  {
   "cell_type": "markdown",
   "id": "3be1937a-0157-4c74-9be7-e9e0a99abf22",
   "metadata": {},
   "source": [
    "### Encoding"
   ]
  },
  {
   "cell_type": "code",
   "execution_count": null,
   "id": "d591d3f2-8843-4dad-9514-d7e2d77af592",
   "metadata": {},
   "outputs": [],
   "source": [
    "#| export\n",
    "def encode(fname_in, fname_out, nc_tpl_path, **kwargs):\n",
    "    df = pd.read_csv(fname_in)\n",
    "    tfm = Transformer(df, cbs=[\n",
    "        SelectColsOfInterestCB(common_coi, nuclides_pattern),\n",
    "        WideToLongCB(common_coi, nuclides_pattern),\n",
    "        ExtractUnitCB(),\n",
    "        ExtractFilteringStatusCB(phase),\n",
    "        ExtractSamplingMethodCB(smp_method),\n",
    "        RenameNuclideCB(nuclides_name),\n",
    "        StandardizeUnitCB(units_lut),\n",
    "        RenameColumnCB(renaming_rules),\n",
    "        UnshiftLongitudeCB(),\n",
    "        DispatchToGroupCB(),\n",
    "        ReshapeLongToWide(),\n",
    "        ParseTimeCB(),\n",
    "        EncodeTimeCB(cfg()),\n",
    "        SanitizeLonLatCB()\n",
    "    ])\n",
    "    tfm()\n",
    "    encoder = NetCDFEncoder(tfm.dfs, \n",
    "                            src_fname=nc_tpl_path,\n",
    "                            dest_fname=fname_out, \n",
    "                            global_attrs=get_attrs(tfm, zotero_key='97UIMEXN', kw=kw),\n",
    "                            verbose=kwargs.get('verbose', False),\n",
    "                            #enums_xtra=enums_xtra(tfm, vars=['species', 'body_part'])\n",
    "                           )\n",
    "    encoder.encode()"
   ]
  },
  {
   "cell_type": "code",
   "execution_count": null,
   "id": "107420e8-ea87-40f4-b9cd-b0aef573f789",
   "metadata": {},
   "outputs": [],
   "source": [
    "#|eval: false\n",
    "encode(fname_in, fname_out, nc_tpl_path(), verbose=False)"
   ]
  }
 ],
 "metadata": {
  "kernelspec": {
   "display_name": "python3",
   "language": "python",
   "name": "python3"
  }
 },
 "nbformat": 4,
 "nbformat_minor": 5
}

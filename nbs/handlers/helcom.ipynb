{
 "cells": [
  {
   "cell_type": "code",
   "execution_count": null,
   "id": "bb60862d",
   "metadata": {},
   "outputs": [],
   "source": [
    "#| default_exp handlers.helcom"
   ]
  },
  {
   "attachments": {},
   "cell_type": "markdown",
   "id": "f263111a",
   "metadata": {},
   "source": [
    "# HELCOM\n",
    "> Data pipeline (handler) to convert HELCOM data ([source](https://helcom.fi/about-us)) to `NetCDF` format\n",
    "\n",
    "The data is provided as a Microsoft Access database. `Mdbtools` (https://github.com/mdbtools/mdbtools) is used to convert tables into `.csv` files on Unix-like OS."
   ]
  },
  {
   "attachments": {},
   "cell_type": "markdown",
   "id": "b92a5c33",
   "metadata": {},
   "source": [
    "## Packages import"
   ]
  },
  {
   "cell_type": "code",
   "execution_count": null,
   "id": "0db45fee",
   "metadata": {},
   "outputs": [
    {
     "name": "stdout",
     "output_type": "stream",
     "text": [
      "The autoreload extension is already loaded. To reload it, use:\n",
      "  %reload_ext autoreload\n"
     ]
    }
   ],
   "source": [
    "%load_ext autoreload\n",
    "%autoreload 2"
   ]
  },
  {
   "cell_type": "code",
   "execution_count": null,
   "id": "3a8d979f",
   "metadata": {},
   "outputs": [],
   "source": [
    "#| export\n",
    "import pandas as pd\n",
    "from tqdm import tqdm\n",
    "from functools import partial\n",
    "import fastcore.all as fc\n",
    "\n",
    "from pathlib import Path\n",
    "\n",
    "from marisco.utils import (has_valid_varname, match_worms, \n",
    "                           match_maris_species, match_maris_sediment)\n",
    "from marisco.callbacks import (Callback, Transformer,\n",
    "                               EncodeTimeCB, SanitizeLonLatCB)\n",
    "\n",
    "from marisco.metadata import (GlobAttrsFeeder, BboxCB,\n",
    "                              DepthRangeCB, TimeRangeCB,\n",
    "                              ZoteroCB, KeyValuePairCB)\n",
    "\n",
    "from marisco.configs import base_path, nc_tpl_path, cfg, cache_path\n",
    "from marisco.serializers import NetCDFEncoder"
   ]
  },
  {
   "cell_type": "code",
   "execution_count": null,
   "id": "df103c15",
   "metadata": {},
   "outputs": [],
   "source": [
    "import warnings\n",
    "warnings.filterwarnings('ignore')"
   ]
  },
  {
   "cell_type": "code",
   "execution_count": null,
   "id": "715e849d",
   "metadata": {},
   "outputs": [],
   "source": [
    "fname_in = '../../_data/accdb/mors/csv'\n",
    "fname_out = '../../_data/output/helcom.nc'"
   ]
  },
  {
   "attachments": {},
   "cell_type": "markdown",
   "id": "dd04abcd",
   "metadata": {},
   "source": [
    "## Utils"
   ]
  },
  {
   "cell_type": "code",
   "execution_count": null,
   "id": "c906677b",
   "metadata": {},
   "outputs": [],
   "source": [
    "#| export\n",
    "def load_data(src_dir,\n",
    "                smp_types=['SEA', 'SED', 'BIO']):\n",
    "    \"Load HELCOM data and return them as individual dataframe by sample type\"\n",
    "    dfs = {}\n",
    "    lut_smp_type = {'SEA': 'seawater', 'SED': 'sediment', 'BIO': 'biota'}\n",
    "    for smp_type in smp_types:\n",
    "        fname_meas = smp_type + '02.csv'\n",
    "        fname_smp = smp_type + '01.csv'\n",
    "        df = pd.merge(pd.read_csv(Path(src_dir)/fname_meas),  # measurements\n",
    "                      pd.read_csv(Path(src_dir)/fname_smp),  # sample\n",
    "                      on='KEY', how='left')\n",
    "        dfs[lut_smp_type[smp_type]] = df\n",
    "    return dfs\n",
    "\n",
    "\n",
    "def rename_cols(cols):\n",
    "    \"Flatten multiindex columns\"\n",
    "    new_cols = []\n",
    "    for outer, inner in cols:\n",
    "        if not inner:\n",
    "            new_cols.append(outer)\n",
    "        else:\n",
    "            if outer == 'unc':\n",
    "                new_cols.append(inner + '_' + outer)\n",
    "            if outer == 'value':\n",
    "                new_cols.append(inner)\n",
    "    return new_cols"
   ]
  },
  {
   "attachments": {},
   "cell_type": "markdown",
   "id": "5e534545",
   "metadata": {},
   "source": [
    "## Load tables"
   ]
  },
  {
   "cell_type": "code",
   "execution_count": null,
   "id": "bb4bf289",
   "metadata": {},
   "outputs": [],
   "source": [
    "dfs = load_data(fname_in)"
   ]
  },
  {
   "cell_type": "code",
   "execution_count": null,
   "id": "5cc0b32b",
   "metadata": {},
   "outputs": [
    {
     "data": {
      "text/html": [
       "<div>\n",
       "<style scoped>\n",
       "    .dataframe tbody tr th:only-of-type {\n",
       "        vertical-align: middle;\n",
       "    }\n",
       "\n",
       "    .dataframe tbody tr th {\n",
       "        vertical-align: top;\n",
       "    }\n",
       "\n",
       "    .dataframe thead th {\n",
       "        text-align: right;\n",
       "    }\n",
       "</style>\n",
       "<table border=\"1\" class=\"dataframe\">\n",
       "  <thead>\n",
       "    <tr style=\"text-align: right;\">\n",
       "      <th></th>\n",
       "      <th>KEY</th>\n",
       "      <th>NUCLIDE</th>\n",
       "      <th>METHOD</th>\n",
       "      <th>&lt; VALUE_Bq/m³</th>\n",
       "      <th>VALUE_Bq/m³</th>\n",
       "      <th>ERROR%_m³</th>\n",
       "      <th>DATE_OF_ENTRY_x</th>\n",
       "      <th>COUNTRY</th>\n",
       "      <th>LABORATORY</th>\n",
       "      <th>SEQUENCE</th>\n",
       "      <th>...</th>\n",
       "      <th>LONGITUDE (ddmmmm)</th>\n",
       "      <th>LONGITUDE (dddddd)</th>\n",
       "      <th>TDEPTH</th>\n",
       "      <th>SDEPTH</th>\n",
       "      <th>SALIN</th>\n",
       "      <th>TTEMP</th>\n",
       "      <th>FILT</th>\n",
       "      <th>MORS_SUBBASIN</th>\n",
       "      <th>HELCOM_SUBBASIN</th>\n",
       "      <th>DATE_OF_ENTRY_y</th>\n",
       "    </tr>\n",
       "  </thead>\n",
       "  <tbody>\n",
       "    <tr>\n",
       "      <th>0</th>\n",
       "      <td>WKRIL2012003</td>\n",
       "      <td>CS137</td>\n",
       "      <td>NaN</td>\n",
       "      <td>NaN</td>\n",
       "      <td>5.3</td>\n",
       "      <td>32.0</td>\n",
       "      <td>08/20/14 00:00:00</td>\n",
       "      <td>90</td>\n",
       "      <td>KRIL</td>\n",
       "      <td>2012003</td>\n",
       "      <td>...</td>\n",
       "      <td>29.20</td>\n",
       "      <td>29.3333</td>\n",
       "      <td>NaN</td>\n",
       "      <td>0.0</td>\n",
       "      <td>NaN</td>\n",
       "      <td>NaN</td>\n",
       "      <td>NaN</td>\n",
       "      <td>11</td>\n",
       "      <td>11</td>\n",
       "      <td>08/20/14 00:00:00</td>\n",
       "    </tr>\n",
       "    <tr>\n",
       "      <th>1</th>\n",
       "      <td>WKRIL2012004</td>\n",
       "      <td>CS137</td>\n",
       "      <td>NaN</td>\n",
       "      <td>NaN</td>\n",
       "      <td>19.9</td>\n",
       "      <td>20.0</td>\n",
       "      <td>08/20/14 00:00:00</td>\n",
       "      <td>90</td>\n",
       "      <td>KRIL</td>\n",
       "      <td>2012004</td>\n",
       "      <td>...</td>\n",
       "      <td>29.20</td>\n",
       "      <td>29.3333</td>\n",
       "      <td>NaN</td>\n",
       "      <td>29.0</td>\n",
       "      <td>NaN</td>\n",
       "      <td>NaN</td>\n",
       "      <td>NaN</td>\n",
       "      <td>11</td>\n",
       "      <td>11</td>\n",
       "      <td>08/20/14 00:00:00</td>\n",
       "    </tr>\n",
       "    <tr>\n",
       "      <th>2</th>\n",
       "      <td>WKRIL2012005</td>\n",
       "      <td>CS137</td>\n",
       "      <td>NaN</td>\n",
       "      <td>NaN</td>\n",
       "      <td>25.5</td>\n",
       "      <td>20.0</td>\n",
       "      <td>08/20/14 00:00:00</td>\n",
       "      <td>90</td>\n",
       "      <td>KRIL</td>\n",
       "      <td>2012005</td>\n",
       "      <td>...</td>\n",
       "      <td>23.09</td>\n",
       "      <td>23.1500</td>\n",
       "      <td>NaN</td>\n",
       "      <td>0.0</td>\n",
       "      <td>NaN</td>\n",
       "      <td>NaN</td>\n",
       "      <td>NaN</td>\n",
       "      <td>11</td>\n",
       "      <td>3</td>\n",
       "      <td>08/20/14 00:00:00</td>\n",
       "    </tr>\n",
       "    <tr>\n",
       "      <th>3</th>\n",
       "      <td>WKRIL2012006</td>\n",
       "      <td>CS137</td>\n",
       "      <td>NaN</td>\n",
       "      <td>NaN</td>\n",
       "      <td>17.0</td>\n",
       "      <td>29.0</td>\n",
       "      <td>08/20/14 00:00:00</td>\n",
       "      <td>90</td>\n",
       "      <td>KRIL</td>\n",
       "      <td>2012006</td>\n",
       "      <td>...</td>\n",
       "      <td>27.59</td>\n",
       "      <td>27.9833</td>\n",
       "      <td>NaN</td>\n",
       "      <td>0.0</td>\n",
       "      <td>NaN</td>\n",
       "      <td>NaN</td>\n",
       "      <td>NaN</td>\n",
       "      <td>11</td>\n",
       "      <td>11</td>\n",
       "      <td>08/20/14 00:00:00</td>\n",
       "    </tr>\n",
       "    <tr>\n",
       "      <th>4</th>\n",
       "      <td>WKRIL2012007</td>\n",
       "      <td>CS137</td>\n",
       "      <td>NaN</td>\n",
       "      <td>NaN</td>\n",
       "      <td>22.2</td>\n",
       "      <td>18.0</td>\n",
       "      <td>08/20/14 00:00:00</td>\n",
       "      <td>90</td>\n",
       "      <td>KRIL</td>\n",
       "      <td>2012007</td>\n",
       "      <td>...</td>\n",
       "      <td>27.59</td>\n",
       "      <td>27.9833</td>\n",
       "      <td>NaN</td>\n",
       "      <td>39.0</td>\n",
       "      <td>NaN</td>\n",
       "      <td>NaN</td>\n",
       "      <td>NaN</td>\n",
       "      <td>11</td>\n",
       "      <td>11</td>\n",
       "      <td>08/20/14 00:00:00</td>\n",
       "    </tr>\n",
       "  </tbody>\n",
       "</table>\n",
       "<p>5 rows × 27 columns</p>\n",
       "</div>"
      ],
      "text/plain": [
       "            KEY NUCLIDE METHOD < VALUE_Bq/m³  VALUE_Bq/m³  ERROR%_m³  \\\n",
       "0  WKRIL2012003   CS137    NaN           NaN          5.3       32.0   \n",
       "1  WKRIL2012004   CS137    NaN           NaN         19.9       20.0   \n",
       "2  WKRIL2012005   CS137    NaN           NaN         25.5       20.0   \n",
       "3  WKRIL2012006   CS137    NaN           NaN         17.0       29.0   \n",
       "4  WKRIL2012007   CS137    NaN           NaN         22.2       18.0   \n",
       "\n",
       "     DATE_OF_ENTRY_x  COUNTRY LABORATORY  SEQUENCE  ... LONGITUDE (ddmmmm)  \\\n",
       "0  08/20/14 00:00:00       90       KRIL   2012003  ...              29.20   \n",
       "1  08/20/14 00:00:00       90       KRIL   2012004  ...              29.20   \n",
       "2  08/20/14 00:00:00       90       KRIL   2012005  ...              23.09   \n",
       "3  08/20/14 00:00:00       90       KRIL   2012006  ...              27.59   \n",
       "4  08/20/14 00:00:00       90       KRIL   2012007  ...              27.59   \n",
       "\n",
       "   LONGITUDE (dddddd)  TDEPTH  SDEPTH SALIN  TTEMP  FILT  MORS_SUBBASIN  \\\n",
       "0             29.3333     NaN     0.0   NaN    NaN   NaN             11   \n",
       "1             29.3333     NaN    29.0   NaN    NaN   NaN             11   \n",
       "2             23.1500     NaN     0.0   NaN    NaN   NaN             11   \n",
       "3             27.9833     NaN     0.0   NaN    NaN   NaN             11   \n",
       "4             27.9833     NaN    39.0   NaN    NaN   NaN             11   \n",
       "\n",
       "   HELCOM_SUBBASIN    DATE_OF_ENTRY_y  \n",
       "0               11  08/20/14 00:00:00  \n",
       "1               11  08/20/14 00:00:00  \n",
       "2                3  08/20/14 00:00:00  \n",
       "3               11  08/20/14 00:00:00  \n",
       "4               11  08/20/14 00:00:00  \n",
       "\n",
       "[5 rows x 27 columns]"
      ]
     },
     "execution_count": null,
     "metadata": {},
     "output_type": "execute_result"
    }
   ],
   "source": [
    "dfs['seawater'].head()"
   ]
  },
  {
   "cell_type": "code",
   "execution_count": null,
   "id": "1ac781a0",
   "metadata": {},
   "outputs": [
    {
     "data": {
      "text/html": [
       "<div>\n",
       "<style scoped>\n",
       "    .dataframe tbody tr th:only-of-type {\n",
       "        vertical-align: middle;\n",
       "    }\n",
       "\n",
       "    .dataframe tbody tr th {\n",
       "        vertical-align: top;\n",
       "    }\n",
       "\n",
       "    .dataframe thead th {\n",
       "        text-align: right;\n",
       "    }\n",
       "</style>\n",
       "<table border=\"1\" class=\"dataframe\">\n",
       "  <thead>\n",
       "    <tr style=\"text-align: right;\">\n",
       "      <th></th>\n",
       "      <th>KEY</th>\n",
       "      <th>NUCLIDE</th>\n",
       "      <th>METHOD</th>\n",
       "      <th>&lt; VALUE_Bq/kg</th>\n",
       "      <th>VALUE_Bq/kg</th>\n",
       "      <th>BASIS</th>\n",
       "      <th>ERROR%</th>\n",
       "      <th>NUMBER</th>\n",
       "      <th>DATE_OF_ENTRY_x</th>\n",
       "      <th>COUNTRY</th>\n",
       "      <th>...</th>\n",
       "      <th>BIOTATYPE</th>\n",
       "      <th>TISSUE</th>\n",
       "      <th>NO</th>\n",
       "      <th>LENGTH</th>\n",
       "      <th>WEIGHT</th>\n",
       "      <th>DW%</th>\n",
       "      <th>LOI%</th>\n",
       "      <th>MORS_SUBBASIN</th>\n",
       "      <th>HELCOM_SUBBASIN</th>\n",
       "      <th>DATE_OF_ENTRY_y</th>\n",
       "    </tr>\n",
       "  </thead>\n",
       "  <tbody>\n",
       "    <tr>\n",
       "      <th>0</th>\n",
       "      <td>BVTIG2012041</td>\n",
       "      <td>CS134</td>\n",
       "      <td>VTIG01</td>\n",
       "      <td>&lt;</td>\n",
       "      <td>0.010140</td>\n",
       "      <td>W</td>\n",
       "      <td>NaN</td>\n",
       "      <td>NaN</td>\n",
       "      <td>02/27/14 00:00:00</td>\n",
       "      <td>6.0</td>\n",
       "      <td>...</td>\n",
       "      <td>F</td>\n",
       "      <td>5</td>\n",
       "      <td>16.0</td>\n",
       "      <td>45.7</td>\n",
       "      <td>948.0</td>\n",
       "      <td>18.453</td>\n",
       "      <td>92.9</td>\n",
       "      <td>2</td>\n",
       "      <td>16</td>\n",
       "      <td>02/27/14 00:00:00</td>\n",
       "    </tr>\n",
       "    <tr>\n",
       "      <th>1</th>\n",
       "      <td>BVTIG2012041</td>\n",
       "      <td>K40</td>\n",
       "      <td>VTIG01</td>\n",
       "      <td></td>\n",
       "      <td>135.300000</td>\n",
       "      <td>W</td>\n",
       "      <td>3.57</td>\n",
       "      <td>NaN</td>\n",
       "      <td>02/27/14 00:00:00</td>\n",
       "      <td>6.0</td>\n",
       "      <td>...</td>\n",
       "      <td>F</td>\n",
       "      <td>5</td>\n",
       "      <td>16.0</td>\n",
       "      <td>45.7</td>\n",
       "      <td>948.0</td>\n",
       "      <td>18.453</td>\n",
       "      <td>92.9</td>\n",
       "      <td>2</td>\n",
       "      <td>16</td>\n",
       "      <td>02/27/14 00:00:00</td>\n",
       "    </tr>\n",
       "    <tr>\n",
       "      <th>2</th>\n",
       "      <td>BVTIG2012041</td>\n",
       "      <td>CO60</td>\n",
       "      <td>VTIG01</td>\n",
       "      <td>&lt;</td>\n",
       "      <td>0.013980</td>\n",
       "      <td>W</td>\n",
       "      <td>NaN</td>\n",
       "      <td>NaN</td>\n",
       "      <td>02/27/14 00:00:00</td>\n",
       "      <td>6.0</td>\n",
       "      <td>...</td>\n",
       "      <td>F</td>\n",
       "      <td>5</td>\n",
       "      <td>16.0</td>\n",
       "      <td>45.7</td>\n",
       "      <td>948.0</td>\n",
       "      <td>18.453</td>\n",
       "      <td>92.9</td>\n",
       "      <td>2</td>\n",
       "      <td>16</td>\n",
       "      <td>02/27/14 00:00:00</td>\n",
       "    </tr>\n",
       "    <tr>\n",
       "      <th>3</th>\n",
       "      <td>BVTIG2012041</td>\n",
       "      <td>CS137</td>\n",
       "      <td>VTIG01</td>\n",
       "      <td></td>\n",
       "      <td>4.338000</td>\n",
       "      <td>W</td>\n",
       "      <td>3.48</td>\n",
       "      <td>NaN</td>\n",
       "      <td>02/27/14 00:00:00</td>\n",
       "      <td>6.0</td>\n",
       "      <td>...</td>\n",
       "      <td>F</td>\n",
       "      <td>5</td>\n",
       "      <td>16.0</td>\n",
       "      <td>45.7</td>\n",
       "      <td>948.0</td>\n",
       "      <td>18.453</td>\n",
       "      <td>92.9</td>\n",
       "      <td>2</td>\n",
       "      <td>16</td>\n",
       "      <td>02/27/14 00:00:00</td>\n",
       "    </tr>\n",
       "    <tr>\n",
       "      <th>4</th>\n",
       "      <td>BVTIG2012040</td>\n",
       "      <td>CS134</td>\n",
       "      <td>VTIG01</td>\n",
       "      <td>&lt;</td>\n",
       "      <td>0.009614</td>\n",
       "      <td>W</td>\n",
       "      <td>NaN</td>\n",
       "      <td>NaN</td>\n",
       "      <td>02/27/14 00:00:00</td>\n",
       "      <td>6.0</td>\n",
       "      <td>...</td>\n",
       "      <td>F</td>\n",
       "      <td>5</td>\n",
       "      <td>17.0</td>\n",
       "      <td>45.9</td>\n",
       "      <td>964.0</td>\n",
       "      <td>18.458</td>\n",
       "      <td>92.9</td>\n",
       "      <td>2</td>\n",
       "      <td>16</td>\n",
       "      <td>02/27/14 00:00:00</td>\n",
       "    </tr>\n",
       "  </tbody>\n",
       "</table>\n",
       "<p>5 rows × 33 columns</p>\n",
       "</div>"
      ],
      "text/plain": [
       "            KEY   NUCLIDE  METHOD < VALUE_Bq/kg  VALUE_Bq/kg BASIS  ERROR%  \\\n",
       "0  BVTIG2012041  CS134     VTIG01             <     0.010140     W     NaN   \n",
       "1  BVTIG2012041  K40       VTIG01                 135.300000     W    3.57   \n",
       "2  BVTIG2012041  CO60      VTIG01             <     0.013980     W     NaN   \n",
       "3  BVTIG2012041  CS137     VTIG01                   4.338000     W    3.48   \n",
       "4  BVTIG2012040  CS134     VTIG01             <     0.009614     W     NaN   \n",
       "\n",
       "   NUMBER    DATE_OF_ENTRY_x  COUNTRY  ... BIOTATYPE  TISSUE    NO  LENGTH  \\\n",
       "0     NaN  02/27/14 00:00:00      6.0  ...         F       5  16.0    45.7   \n",
       "1     NaN  02/27/14 00:00:00      6.0  ...         F       5  16.0    45.7   \n",
       "2     NaN  02/27/14 00:00:00      6.0  ...         F       5  16.0    45.7   \n",
       "3     NaN  02/27/14 00:00:00      6.0  ...         F       5  16.0    45.7   \n",
       "4     NaN  02/27/14 00:00:00      6.0  ...         F       5  17.0    45.9   \n",
       "\n",
       "   WEIGHT     DW%  LOI%  MORS_SUBBASIN  HELCOM_SUBBASIN    DATE_OF_ENTRY_y  \n",
       "0   948.0  18.453  92.9              2               16  02/27/14 00:00:00  \n",
       "1   948.0  18.453  92.9              2               16  02/27/14 00:00:00  \n",
       "2   948.0  18.453  92.9              2               16  02/27/14 00:00:00  \n",
       "3   948.0  18.453  92.9              2               16  02/27/14 00:00:00  \n",
       "4   964.0  18.458  92.9              2               16  02/27/14 00:00:00  \n",
       "\n",
       "[5 rows x 33 columns]"
      ]
     },
     "execution_count": null,
     "metadata": {},
     "output_type": "execute_result"
    }
   ],
   "source": [
    "dfs['biota'].head()"
   ]
  },
  {
   "cell_type": "code",
   "execution_count": null,
   "id": "b6013611",
   "metadata": {},
   "outputs": [
    {
     "data": {
      "text/html": [
       "<div>\n",
       "<style scoped>\n",
       "    .dataframe tbody tr th:only-of-type {\n",
       "        vertical-align: middle;\n",
       "    }\n",
       "\n",
       "    .dataframe tbody tr th {\n",
       "        vertical-align: top;\n",
       "    }\n",
       "\n",
       "    .dataframe thead th {\n",
       "        text-align: right;\n",
       "    }\n",
       "</style>\n",
       "<table border=\"1\" class=\"dataframe\">\n",
       "  <thead>\n",
       "    <tr style=\"text-align: right;\">\n",
       "      <th></th>\n",
       "      <th>KEY</th>\n",
       "      <th>NUCLIDE</th>\n",
       "      <th>METHOD</th>\n",
       "      <th>&lt; VALUE_Bq/kg</th>\n",
       "      <th>VALUE_Bq/kg</th>\n",
       "      <th>ERROR%_kg</th>\n",
       "      <th>&lt; VALUE_Bq/m²</th>\n",
       "      <th>VALUE_Bq/m²</th>\n",
       "      <th>ERROR%_m²</th>\n",
       "      <th>DATE_OF_ENTRY_x</th>\n",
       "      <th>...</th>\n",
       "      <th>LOWSLI</th>\n",
       "      <th>AREA</th>\n",
       "      <th>SEDI</th>\n",
       "      <th>OXIC</th>\n",
       "      <th>DW%</th>\n",
       "      <th>LOI%</th>\n",
       "      <th>MORS_SUBBASIN</th>\n",
       "      <th>HELCOM_SUBBASIN</th>\n",
       "      <th>SUM_LINK</th>\n",
       "      <th>DATE_OF_ENTRY_y</th>\n",
       "    </tr>\n",
       "  </thead>\n",
       "  <tbody>\n",
       "    <tr>\n",
       "      <th>0</th>\n",
       "      <td>SKRIL2012048</td>\n",
       "      <td>RA226</td>\n",
       "      <td>NaN</td>\n",
       "      <td>NaN</td>\n",
       "      <td>35.0</td>\n",
       "      <td>26.0</td>\n",
       "      <td>NaN</td>\n",
       "      <td>NaN</td>\n",
       "      <td>NaN</td>\n",
       "      <td>08/20/14 00:00:00</td>\n",
       "      <td>...</td>\n",
       "      <td>20.0</td>\n",
       "      <td>0.006</td>\n",
       "      <td>NaN</td>\n",
       "      <td>NaN</td>\n",
       "      <td>NaN</td>\n",
       "      <td>NaN</td>\n",
       "      <td>11.0</td>\n",
       "      <td>11.0</td>\n",
       "      <td>NaN</td>\n",
       "      <td>08/20/14 00:00:00</td>\n",
       "    </tr>\n",
       "    <tr>\n",
       "      <th>1</th>\n",
       "      <td>SKRIL2012049</td>\n",
       "      <td>RA226</td>\n",
       "      <td>NaN</td>\n",
       "      <td>NaN</td>\n",
       "      <td>36.0</td>\n",
       "      <td>22.0</td>\n",
       "      <td>NaN</td>\n",
       "      <td>NaN</td>\n",
       "      <td>NaN</td>\n",
       "      <td>08/20/14 00:00:00</td>\n",
       "      <td>...</td>\n",
       "      <td>27.0</td>\n",
       "      <td>0.006</td>\n",
       "      <td>NaN</td>\n",
       "      <td>NaN</td>\n",
       "      <td>NaN</td>\n",
       "      <td>NaN</td>\n",
       "      <td>11.0</td>\n",
       "      <td>11.0</td>\n",
       "      <td>NaN</td>\n",
       "      <td>08/20/14 00:00:00</td>\n",
       "    </tr>\n",
       "    <tr>\n",
       "      <th>2</th>\n",
       "      <td>SKRIL2012050</td>\n",
       "      <td>RA226</td>\n",
       "      <td>NaN</td>\n",
       "      <td>NaN</td>\n",
       "      <td>38.0</td>\n",
       "      <td>24.0</td>\n",
       "      <td>NaN</td>\n",
       "      <td>NaN</td>\n",
       "      <td>NaN</td>\n",
       "      <td>08/20/14 00:00:00</td>\n",
       "      <td>...</td>\n",
       "      <td>2.0</td>\n",
       "      <td>0.006</td>\n",
       "      <td>NaN</td>\n",
       "      <td>NaN</td>\n",
       "      <td>NaN</td>\n",
       "      <td>NaN</td>\n",
       "      <td>11.0</td>\n",
       "      <td>11.0</td>\n",
       "      <td>NaN</td>\n",
       "      <td>08/20/14 00:00:00</td>\n",
       "    </tr>\n",
       "    <tr>\n",
       "      <th>3</th>\n",
       "      <td>SKRIL2012051</td>\n",
       "      <td>RA226</td>\n",
       "      <td>NaN</td>\n",
       "      <td>NaN</td>\n",
       "      <td>36.0</td>\n",
       "      <td>25.0</td>\n",
       "      <td>NaN</td>\n",
       "      <td>NaN</td>\n",
       "      <td>NaN</td>\n",
       "      <td>08/20/14 00:00:00</td>\n",
       "      <td>...</td>\n",
       "      <td>4.0</td>\n",
       "      <td>0.006</td>\n",
       "      <td>NaN</td>\n",
       "      <td>NaN</td>\n",
       "      <td>NaN</td>\n",
       "      <td>NaN</td>\n",
       "      <td>11.0</td>\n",
       "      <td>11.0</td>\n",
       "      <td>NaN</td>\n",
       "      <td>08/20/14 00:00:00</td>\n",
       "    </tr>\n",
       "    <tr>\n",
       "      <th>4</th>\n",
       "      <td>SKRIL2012052</td>\n",
       "      <td>RA226</td>\n",
       "      <td>NaN</td>\n",
       "      <td>NaN</td>\n",
       "      <td>30.0</td>\n",
       "      <td>23.0</td>\n",
       "      <td>NaN</td>\n",
       "      <td>NaN</td>\n",
       "      <td>NaN</td>\n",
       "      <td>08/20/14 00:00:00</td>\n",
       "      <td>...</td>\n",
       "      <td>6.0</td>\n",
       "      <td>0.006</td>\n",
       "      <td>NaN</td>\n",
       "      <td>NaN</td>\n",
       "      <td>NaN</td>\n",
       "      <td>NaN</td>\n",
       "      <td>11.0</td>\n",
       "      <td>11.0</td>\n",
       "      <td>NaN</td>\n",
       "      <td>08/20/14 00:00:00</td>\n",
       "    </tr>\n",
       "  </tbody>\n",
       "</table>\n",
       "<p>5 rows × 35 columns</p>\n",
       "</div>"
      ],
      "text/plain": [
       "            KEY NUCLIDE METHOD < VALUE_Bq/kg  VALUE_Bq/kg  ERROR%_kg  \\\n",
       "0  SKRIL2012048   RA226    NaN           NaN         35.0       26.0   \n",
       "1  SKRIL2012049   RA226    NaN           NaN         36.0       22.0   \n",
       "2  SKRIL2012050   RA226    NaN           NaN         38.0       24.0   \n",
       "3  SKRIL2012051   RA226    NaN           NaN         36.0       25.0   \n",
       "4  SKRIL2012052   RA226    NaN           NaN         30.0       23.0   \n",
       "\n",
       "  < VALUE_Bq/m²  VALUE_Bq/m²  ERROR%_m²    DATE_OF_ENTRY_x  ...  LOWSLI  \\\n",
       "0           NaN          NaN        NaN  08/20/14 00:00:00  ...    20.0   \n",
       "1           NaN          NaN        NaN  08/20/14 00:00:00  ...    27.0   \n",
       "2           NaN          NaN        NaN  08/20/14 00:00:00  ...     2.0   \n",
       "3           NaN          NaN        NaN  08/20/14 00:00:00  ...     4.0   \n",
       "4           NaN          NaN        NaN  08/20/14 00:00:00  ...     6.0   \n",
       "\n",
       "    AREA  SEDI OXIC  DW%  LOI%  MORS_SUBBASIN HELCOM_SUBBASIN  SUM_LINK  \\\n",
       "0  0.006   NaN  NaN  NaN   NaN           11.0            11.0       NaN   \n",
       "1  0.006   NaN  NaN  NaN   NaN           11.0            11.0       NaN   \n",
       "2  0.006   NaN  NaN  NaN   NaN           11.0            11.0       NaN   \n",
       "3  0.006   NaN  NaN  NaN   NaN           11.0            11.0       NaN   \n",
       "4  0.006   NaN  NaN  NaN   NaN           11.0            11.0       NaN   \n",
       "\n",
       "     DATE_OF_ENTRY_y  \n",
       "0  08/20/14 00:00:00  \n",
       "1  08/20/14 00:00:00  \n",
       "2  08/20/14 00:00:00  \n",
       "3  08/20/14 00:00:00  \n",
       "4  08/20/14 00:00:00  \n",
       "\n",
       "[5 rows x 35 columns]"
      ]
     },
     "execution_count": null,
     "metadata": {},
     "output_type": "execute_result"
    }
   ],
   "source": [
    "dfs['sediment'].head()"
   ]
  },
  {
   "attachments": {},
   "cell_type": "markdown",
   "id": "0d68abc3",
   "metadata": {},
   "source": [
    "## Data transformation pipeline"
   ]
  },
  {
   "attachments": {},
   "cell_type": "markdown",
   "id": "142ddab3",
   "metadata": {},
   "source": [
    "### Normalize nuclide names"
   ]
  },
  {
   "attachments": {},
   "cell_type": "markdown",
   "id": "8a2311cd",
   "metadata": {},
   "source": [
    "#### Lower & strip"
   ]
  },
  {
   "cell_type": "code",
   "execution_count": null,
   "id": "5b10f032",
   "metadata": {},
   "outputs": [],
   "source": [
    "#| export\n",
    "class LowerStripRdnNameCB(Callback):\n",
    "    \"Convert nuclide names to lowercase & strip any trailing space(s)\"\n",
    "\n",
    "    def __call__(self, tfm):\n",
    "        for k in tfm.dfs.keys():\n",
    "            tfm.dfs[k]['NUCLIDE'] = tfm.dfs[k]['NUCLIDE'].apply(\n",
    "                lambda x: x.lower().strip())"
   ]
  },
  {
   "cell_type": "code",
   "execution_count": null,
   "id": "8a3fa068",
   "metadata": {},
   "outputs": [
    {
     "name": "stdout",
     "output_type": "stream",
     "text": [
      "['cs137' 'sr90' 'h3' 'cs134' 'pu238' 'pu239240' 'am241' 'cm242' 'cm244'\n",
      " 'tc99' 'k40' 'ru103' 'sr89' 'sb125' 'nb95' 'ru106' 'zr95' 'ag110m'\n",
      " 'cm243244' 'ba140' 'ce144' 'u234' 'u238' 'co60' 'pu239' 'pb210' 'po210'\n",
      " 'np237' 'pu240' 'mn54']\n"
     ]
    }
   ],
   "source": [
    "dfs = load_data(fname_in)\n",
    "tfm = Transformer(dfs, cbs=[LowerStripRdnNameCB()])\n",
    "print(tfm()['seawater']['NUCLIDE'].unique())"
   ]
  },
  {
   "attachments": {},
   "cell_type": "markdown",
   "id": "52c9d0fe",
   "metadata": {},
   "source": [
    "#### Remap to MARIS nuclide names "
   ]
  },
  {
   "cell_type": "code",
   "execution_count": null,
   "id": "bbf213bb",
   "metadata": {},
   "outputs": [],
   "source": [
    "#| export\n",
    "def get_unique_nuclides(dfs):\n",
    "    \"Get list of unique radionuclide types measured across samples.\"\n",
    "    nuclides = []\n",
    "    for k in dfs.keys():\n",
    "        nuclides += dfs[k]['NUCLIDE'].unique().tolist()\n",
    "    return nuclides"
   ]
  },
  {
   "cell_type": "code",
   "execution_count": null,
   "id": "a68dacd0",
   "metadata": {},
   "outputs": [
    {
     "name": "stdout",
     "output_type": "stream",
     "text": [
      "\"pu239240\" variable name not found in MARIS CDL\n",
      "\"cm243244\" variable name not found in MARIS CDL\n",
      "\"cs134137\" variable name not found in MARIS CDL\n",
      "\"pu239240\" variable name not found in MARIS CDL\n",
      "\"pu238240\" variable name not found in MARIS CDL\n",
      "\"pu239240\" variable name not found in MARIS CDL\n",
      "\"cs134137\" variable name not found in MARIS CDL\n",
      "\"k-40\" variable name not found in MARIS CDL\n",
      "\"cs138\" variable name not found in MARIS CDL\n",
      "\"cs139\" variable name not found in MARIS CDL\n",
      "\"cs140\" variable name not found in MARIS CDL\n",
      "\"cs141\" variable name not found in MARIS CDL\n",
      "\"cs142\" variable name not found in MARIS CDL\n",
      "\"cs143\" variable name not found in MARIS CDL\n",
      "\"cs144\" variable name not found in MARIS CDL\n",
      "\"cs145\" variable name not found in MARIS CDL\n",
      "\"cs146\" variable name not found in MARIS CDL\n"
     ]
    },
    {
     "data": {
      "text/plain": [
       "False"
      ]
     },
     "execution_count": null,
     "metadata": {},
     "output_type": "execute_result"
    }
   ],
   "source": [
    "# Check if these variable names consistent with MARIS CDL\n",
    "has_valid_varname(get_unique_nuclides(tfm.dfs), nc_tpl_path())"
   ]
  },
  {
   "cell_type": "code",
   "execution_count": null,
   "id": "b4abac95",
   "metadata": {},
   "outputs": [],
   "source": [
    "#| export\n",
    "varnames_lut_updates = {\n",
    "    'k-40': 'k40',\n",
    "    'cm243244': 'cm243_244_tot',\n",
    "    'cs134137': 'cs134_137_tot',\n",
    "    'pu239240': 'pu239_240_tot',\n",
    "    'pu238240': 'pu238_240_tot'}\n"
   ]
  },
  {
   "cell_type": "code",
   "execution_count": null,
   "id": "90557494",
   "metadata": {},
   "outputs": [],
   "source": [
    "#| export\n",
    "def get_varnames_lut(dfs, lut=varnames_lut_updates):\n",
    "    lut = {n: n for n in set(get_unique_nuclides(dfs))}\n",
    "    lut.update(varnames_lut_updates)\n",
    "    return lut\n"
   ]
  },
  {
   "cell_type": "code",
   "execution_count": null,
   "id": "8c083a1f",
   "metadata": {},
   "outputs": [
    {
     "data": {
      "text/plain": [
       "{'sr90': 'sr90',\n",
       " 'ce141': 'ce141',\n",
       " 'rb86': 'rb86',\n",
       " 'bi214': 'bi214',\n",
       " 'co58': 'co58',\n",
       " 'cd109': 'cd109',\n",
       " 'fe59': 'fe59',\n",
       " 'sn113': 'sn113',\n",
       " 'sc46': 'sc46',\n",
       " 'ru106': 'ru106',\n",
       " 'ce144': 'ce144',\n",
       " 'nb95': 'nb95',\n",
       " 'eu152': 'eu152',\n",
       " 'cs139': 'cs139',\n",
       " 'sr89': 'sr89',\n",
       " 'cs137': 'cs137',\n",
       " 'pu239240': 'pu239_240_tot',\n",
       " 'th232': 'th232',\n",
       " 'u235': 'u235',\n",
       " 'ra228': 'ra228',\n",
       " 'sn117m': 'sn117m',\n",
       " 'am241': 'am241',\n",
       " 'cs141': 'cs141',\n",
       " 'zr95': 'zr95',\n",
       " 'pu239': 'pu239',\n",
       " 'h3': 'h3',\n",
       " 'u234': 'u234',\n",
       " 'cs144': 'cs144',\n",
       " 'ra226': 'ra226',\n",
       " 'eu155': 'eu155',\n",
       " 'pb212': 'pb212',\n",
       " 'cs142': 'cs142',\n",
       " 'cs134': 'cs134',\n",
       " 'th228': 'th228',\n",
       " 'tc99': 'tc99',\n",
       " 'cs140': 'cs140',\n",
       " 'ba140': 'ba140',\n",
       " 'ir192': 'ir192',\n",
       " 'pb214': 'pb214',\n",
       " 'sb125': 'sb125',\n",
       " 'pu240': 'pu240',\n",
       " 'u238': 'u238',\n",
       " 'pu238240': 'pu238_240_tot',\n",
       " 'tl208': 'tl208',\n",
       " 'la140': 'la140',\n",
       " 'te129m': 'te129m',\n",
       " 'cs143': 'cs143',\n",
       " 'ag110m': 'ag110m',\n",
       " 'sb124': 'sb124',\n",
       " 'cm242': 'cm242',\n",
       " 'cs146': 'cs146',\n",
       " 'cm243244': 'cm243_244_tot',\n",
       " 'i131': 'i131',\n",
       " 'co57': 'co57',\n",
       " 'co60': 'co60',\n",
       " 'th234': 'th234',\n",
       " 'k40': 'k40',\n",
       " 'be7': 'be7',\n",
       " 'ra223': 'ra223',\n",
       " 'k-40': 'k40',\n",
       " 'ra224': 'ra224',\n",
       " 'pb210': 'pb210',\n",
       " 'cs138': 'cs138',\n",
       " 'cm244': 'cm244',\n",
       " 'pu238': 'pu238',\n",
       " 'cs134137': 'cs134_137_tot',\n",
       " 'ru103': 'ru103',\n",
       " 'cs145': 'cs145',\n",
       " 'ag108m': 'ag108m',\n",
       " 'bi212': 'bi212',\n",
       " 'gd153': 'gd153',\n",
       " 'po210': 'po210',\n",
       " 'zn65': 'zn65',\n",
       " 'mn54': 'mn54',\n",
       " 'ac228': 'ac228',\n",
       " 'np237': 'np237',\n",
       " 'pu241': 'pu241'}"
      ]
     },
     "execution_count": null,
     "metadata": {},
     "output_type": "execute_result"
    }
   ],
   "source": [
    "#|eval: false\n",
    "varnames_lut = partial(get_varnames_lut, lut=varnames_lut_updates)(tfm.dfs)\n",
    "varnames_lut"
   ]
  },
  {
   "cell_type": "code",
   "execution_count": null,
   "id": "6f6b7d0a",
   "metadata": {},
   "outputs": [],
   "source": [
    "# | export\n",
    "class RemapRdnNameCB(Callback):\n",
    "    \"Remap to MARIS radionuclide names.\"\n",
    "    def __init__(self,\n",
    "                 fn_lut=partial(get_varnames_lut, lut=varnames_lut_updates)):\n",
    "        fc.store_attr()\n",
    "\n",
    "    def __call__(self, tfm):\n",
    "        lut = self.fn_lut(tfm.dfs)\n",
    "        for k in tfm.dfs.keys():\n",
    "            tfm.dfs[k]['NUCLIDE'].replace(lut, inplace=True)"
   ]
  },
  {
   "cell_type": "code",
   "execution_count": null,
   "id": "1c075d97",
   "metadata": {},
   "outputs": [
    {
     "name": "stdout",
     "output_type": "stream",
     "text": [
      "['cs134' 'k40' 'co60' 'cs137' 'sr90' 'ag108m' 'mn54' 'co58' 'ag110m'\n",
      " 'zn65' 'sb125' 'pu239_240_tot' 'ru106' 'be7' 'ce144' 'pb210' 'po210'\n",
      " 'sb124' 'sr89' 'zr95' 'te129m' 'ru103' 'nb95' 'ce141' 'la140' 'i131'\n",
      " 'ba140' 'pu238' 'u235' 'bi214' 'pb214' 'pb212' 'tl208' 'ac228' 'ra223'\n",
      " 'eu155' 'ra226' 'gd153' 'sn113' 'fe59' 'tc99' 'co57' 'sn117m' 'eu152'\n",
      " 'sc46' 'rb86' 'ra224' 'th232' 'cs134_137_tot' 'am241' 'ra228' 'th228'\n",
      " 'cs138' 'cs139' 'cs140' 'cs141' 'cs142' 'cs143' 'cs144' 'cs145' 'cs146']\n"
     ]
    }
   ],
   "source": [
    "dfs = load_data(fname_in)\n",
    "tfm = Transformer(dfs, cbs=[LowerStripRdnNameCB(),\n",
    "                            RemapRdnNameCB()])\n",
    "\n",
    "print(tfm()['biota']['NUCLIDE'].unique())"
   ]
  },
  {
   "cell_type": "code",
   "execution_count": null,
   "id": "3c644322",
   "metadata": {},
   "outputs": [
    {
     "name": "stdout",
     "output_type": "stream",
     "text": [
      "\"cs138\" variable name not found in MARIS CDL\n",
      "\"cs139\" variable name not found in MARIS CDL\n",
      "\"cs140\" variable name not found in MARIS CDL\n",
      "\"cs141\" variable name not found in MARIS CDL\n",
      "\"cs142\" variable name not found in MARIS CDL\n",
      "\"cs143\" variable name not found in MARIS CDL\n",
      "\"cs144\" variable name not found in MARIS CDL\n",
      "\"cs145\" variable name not found in MARIS CDL\n",
      "\"cs146\" variable name not found in MARIS CDL\n"
     ]
    },
    {
     "data": {
      "text/plain": [
       "False"
      ]
     },
     "execution_count": null,
     "metadata": {},
     "output_type": "execute_result"
    }
   ],
   "source": [
    "has_valid_varname(get_unique_nuclides(tfm.dfs), nc_tpl_path())"
   ]
  },
  {
   "attachments": {},
   "cell_type": "markdown",
   "id": "4aaaf96a",
   "metadata": {},
   "source": [
    "### Parse time"
   ]
  },
  {
   "cell_type": "code",
   "execution_count": null,
   "id": "ed0aab29",
   "metadata": {},
   "outputs": [],
   "source": [
    "#| export\n",
    "class ParseTimeCB(Callback):\n",
    "    def __call__(self, tfm):\n",
    "        for k in tfm.dfs.keys():\n",
    "            tfm.dfs[k]['time'] = pd.to_datetime(tfm.dfs[k].DATE, \n",
    "                                                format='%m/%d/%y %H:%M:%S')"
   ]
  },
  {
   "cell_type": "code",
   "execution_count": null,
   "id": "f2b90d07",
   "metadata": {},
   "outputs": [
    {
     "name": "stdout",
     "output_type": "stream",
     "text": [
      "0   2012-05-23\n",
      "1   2012-05-23\n",
      "2   2012-06-17\n",
      "3   2012-05-24\n",
      "4   2012-05-24\n",
      "Name: time, dtype: datetime64[ns]\n"
     ]
    }
   ],
   "source": [
    "dfs = load_data(fname_in)\n",
    "tfm = Transformer(dfs, cbs=[LowerStripRdnNameCB(),\n",
    "                            RemapRdnNameCB(),\n",
    "                            ParseTimeCB()])\n",
    "\n",
    "print(tfm()['seawater']['time'][:5])"
   ]
  },
  {
   "attachments": {},
   "cell_type": "markdown",
   "id": "be199c49",
   "metadata": {},
   "source": [
    "### Normalize uncertainty units"
   ]
  },
  {
   "cell_type": "code",
   "execution_count": null,
   "id": "76077d40",
   "metadata": {},
   "outputs": [],
   "source": [
    "#| export\n",
    "# Make measurement and uncertainty units consistent\n",
    "def fix_units(df, meas_col, unc_col):\n",
    "    return df.apply(lambda row: row[unc_col] * row[meas_col]/100, axis=1)"
   ]
  },
  {
   "cell_type": "code",
   "execution_count": null,
   "id": "b231b09b",
   "metadata": {},
   "outputs": [],
   "source": [
    "#| export\n",
    "# Columns of interest\n",
    "coi_units_unc = [('seawater', 'VALUE_Bq/m³', 'ERROR%_m³'),\n",
    "                 ('biota', 'VALUE_Bq/kg', 'ERROR%'),\n",
    "                 ('sediment', 'VALUE_Bq/kg', 'ERROR%_kg')]"
   ]
  },
  {
   "cell_type": "code",
   "execution_count": null,
   "id": "5cf262ed",
   "metadata": {},
   "outputs": [],
   "source": [
    "#| export\n",
    "class NormalizeUncUnitCB(Callback):\n",
    "    \"Convert uncertainty from % to activity unit\"\n",
    "\n",
    "    def __init__(self, coi=coi_units_unc): fc.store_attr()\n",
    "\n",
    "    def __call__(self, tfm):\n",
    "        for grp, val, unc in self.coi:\n",
    "            tfm.dfs[grp][unc] = self.fix_units(tfm.dfs[grp], val, unc)\n",
    "\n",
    "    def fix_units(self, df, meas_col, unc_col):\n",
    "        return df.apply(lambda row: row[unc_col] * row[meas_col]/100, axis=1)"
   ]
  },
  {
   "cell_type": "code",
   "execution_count": null,
   "id": "76faaae3",
   "metadata": {},
   "outputs": [],
   "source": [
    "#| export\n",
    "class NormalizeUncUnitCB(Callback):\n",
    "    \"Convert uncertainty from % to activity unit\"\n",
    "\n",
    "    def __init__(self, coi=coi_units_unc): fc.store_attr()\n",
    "\n",
    "    def __call__(self, tfm):\n",
    "        for grp, val, unc in self.coi:\n",
    "            tfm.dfs[grp][unc] = self.fix_units(tfm.dfs[grp], val, unc)\n",
    "\n",
    "    def fix_units(self, df, meas_col, unc_col):\n",
    "        return df.apply(lambda row: row[unc_col] * row[meas_col]/100, axis=1)"
   ]
  },
  {
   "cell_type": "code",
   "execution_count": null,
   "id": "fd9e14e2",
   "metadata": {},
   "outputs": [
    {
     "name": "stdout",
     "output_type": "stream",
     "text": [
      "   VALUE_Bq/m³  ERROR%_m³\n",
      "0          5.3      1.696\n",
      "1         19.9      3.980\n",
      "2         25.5      5.100\n",
      "3         17.0      4.930\n",
      "4         22.2      3.996\n"
     ]
    }
   ],
   "source": [
    "dfs = load_data(fname_in)\n",
    "tfm = Transformer(dfs, cbs=[LowerStripRdnNameCB(),\n",
    "                            RemapRdnNameCB(),\n",
    "                            ParseTimeCB(),\n",
    "                            NormalizeUncUnitCB()])\n",
    "\n",
    "print(tfm()['seawater'][['VALUE_Bq/m³', 'ERROR%_m³']][:5])"
   ]
  },
  {
   "attachments": {},
   "cell_type": "markdown",
   "id": "5868c16b",
   "metadata": {},
   "source": [
    "### Lookup biota species"
   ]
  },
  {
   "cell_type": "code",
   "execution_count": null,
   "id": "bdd0d17e",
   "metadata": {},
   "outputs": [
    {
     "data": {
      "text/html": [
       "<div>\n",
       "<style scoped>\n",
       "    .dataframe tbody tr th:only-of-type {\n",
       "        vertical-align: middle;\n",
       "    }\n",
       "\n",
       "    .dataframe tbody tr th {\n",
       "        vertical-align: top;\n",
       "    }\n",
       "\n",
       "    .dataframe thead th {\n",
       "        text-align: right;\n",
       "    }\n",
       "</style>\n",
       "<table border=\"1\" class=\"dataframe\">\n",
       "  <thead>\n",
       "    <tr style=\"text-align: right;\">\n",
       "      <th></th>\n",
       "      <th>RUBIN_ID</th>\n",
       "      <th>RUBIN</th>\n",
       "      <th>SCIENTIFIC NAME</th>\n",
       "      <th>ENGLISH NAME</th>\n",
       "    </tr>\n",
       "  </thead>\n",
       "  <tbody>\n",
       "    <tr>\n",
       "      <th>0</th>\n",
       "      <td>11</td>\n",
       "      <td>ABRA BRA</td>\n",
       "      <td>ABRAMIS BRAMA</td>\n",
       "      <td>BREAM</td>\n",
       "    </tr>\n",
       "    <tr>\n",
       "      <th>1</th>\n",
       "      <td>12</td>\n",
       "      <td>ANGU ANG</td>\n",
       "      <td>ANGUILLA ANGUILLA</td>\n",
       "      <td>EEL</td>\n",
       "    </tr>\n",
       "    <tr>\n",
       "      <th>2</th>\n",
       "      <td>13</td>\n",
       "      <td>ARCT ISL</td>\n",
       "      <td>ARCTICA ISLANDICA</td>\n",
       "      <td>ISLAND CYPRINE</td>\n",
       "    </tr>\n",
       "    <tr>\n",
       "      <th>3</th>\n",
       "      <td>14</td>\n",
       "      <td>ASTE RUB</td>\n",
       "      <td>ASTERIAS RUBENS</td>\n",
       "      <td>COMMON STARFISH</td>\n",
       "    </tr>\n",
       "    <tr>\n",
       "      <th>4</th>\n",
       "      <td>15</td>\n",
       "      <td>CARD EDU</td>\n",
       "      <td>CARDIUM EDULE</td>\n",
       "      <td>COCKLE</td>\n",
       "    </tr>\n",
       "  </tbody>\n",
       "</table>\n",
       "</div>"
      ],
      "text/plain": [
       "   RUBIN_ID     RUBIN    SCIENTIFIC NAME     ENGLISH NAME\n",
       "0        11  ABRA BRA      ABRAMIS BRAMA            BREAM\n",
       "1        12  ANGU ANG  ANGUILLA ANGUILLA              EEL\n",
       "2        13  ARCT ISL  ARCTICA ISLANDICA   ISLAND CYPRINE\n",
       "3        14  ASTE RUB    ASTERIAS RUBENS  COMMON STARFISH\n",
       "4        15  CARD EDU      CARDIUM EDULE           COCKLE"
      ]
     },
     "execution_count": null,
     "metadata": {},
     "output_type": "execute_result"
    }
   ],
   "source": [
    "df_rubin = pd.read_csv(Path(fname_in) / 'RUBIN_NAME.csv')\n",
    "df_rubin.head(5)"
   ]
  },
  {
   "cell_type": "code",
   "execution_count": null,
   "id": "66736db5",
   "metadata": {},
   "outputs": [
    {
     "data": {
      "text/plain": [
       "43"
      ]
     },
     "execution_count": null,
     "metadata": {},
     "output_type": "execute_result"
    }
   ],
   "source": [
    "len(df_rubin)"
   ]
  },
  {
   "cell_type": "code",
   "execution_count": null,
   "id": "e1f43393",
   "metadata": {},
   "outputs": [
    {
     "data": {
      "text/plain": [
       "array(['GADU MOR', 'SPRA SPR', 'CLUP HAR', 'MERL MNG', 'LIMA LIM',\n",
       "       'PLEU PLA', 'PLAT FLE', 'SADU ENT', 'ENGR ENC', 'ESOX LUC',\n",
       "       'MACO BAL', 'FUCU VES', 'ZOAR VIV', 'OSME EPE', 'MYOX SCO',\n",
       "       'GYMN CER', 'GAST ACU', 'SCOM SCO', 'MYTI EDU', 'CYPR CAR',\n",
       "       'ABRA BRA', 'STIZ LUC', 'RUTI RUT', 'PERC FLU', 'MYA ARE',\n",
       "       'CRAN CRA', 'PLANKTON', 'CARD EDU', 'ARCT ISL', 'CLAD GLO',\n",
       "       'FURC LUM', 'ANGU ANG', 'FISHLARVAE', 'ENCH CIM', 'ASTE RUB',\n",
       "       'RHODOPHY', 'LAMI SAC', 'PSET MAX', 'GADU MOR  ', 'POLY FUC',\n",
       "       'STUC PEC', 'ZANN PALU'], dtype=object)"
      ]
     },
     "execution_count": null,
     "metadata": {},
     "output_type": "execute_result"
    }
   ],
   "source": [
    "dfs['biota']['RUBIN'].unique()"
   ]
  },
  {
   "cell_type": "code",
   "execution_count": null,
   "id": "32a96600",
   "metadata": {},
   "outputs": [],
   "source": [
    "#| export\n",
    "def get_maris_species(fname_in, fname_cache, overwrite=False, verbose=False):\n",
    "    fname_cache = cache_path() / fname_cache\n",
    "    lut = {}\n",
    "    df = pd.read_csv(Path(fname_in) / 'RUBIN_NAME.csv')\n",
    "    \n",
    "    if overwrite or (not fname_cache.exists()):\n",
    "        if verbose: print('Source:Destination')    \n",
    "        for _, row in tqdm(df.iterrows(), total=df.shape[0]):\n",
    "            match = match_maris_species(row['SCIENTIFIC NAME'])\n",
    "            lut[row['RUBIN']] = {'id': match.iloc[0]['species_id'], 'name': match.iloc[0]['species']}\n",
    "            if verbose: print(f'{row[\"SCIENTIFIC NAME\"]}: {match.iloc[0][\"species\"]}')\n",
    "        fc.save_pickle(fname_cache, lut)\n",
    "    else:\n",
    "        lut = fc.load_pickle(fname_cache)\n",
    "        \n",
    "    return lut        "
   ]
  },
  {
   "cell_type": "code",
   "execution_count": null,
   "id": "a81e0a05",
   "metadata": {},
   "outputs": [
    {
     "name": "stderr",
     "output_type": "stream",
     "text": [
      "  0%|          | 0/43 [00:00<?, ?it/s]"
     ]
    },
    {
     "name": "stderr",
     "output_type": "stream",
     "text": [
      "100%|██████████| 43/43 [00:26<00:00,  1.61it/s]\n"
     ]
    },
    {
     "data": {
      "text/plain": [
       "{'ABRA BRA': {'id': 271, 'name': 'Abramis brama'},\n",
       " 'ANGU ANG': {'id': 272, 'name': 'Anguilla anguilla'},\n",
       " 'ARCT ISL': {'id': 273, 'name': 'Arctica islandica'},\n",
       " 'ASTE RUB': {'id': 21, 'name': 'Asterias rubens'},\n",
       " 'CARD EDU': {'id': 988, 'name': 'Cardiidae'},\n",
       " 'CH HI;BA': {'id': 122, 'name': 'Macoma balthica'},\n",
       " 'CLAD GLO': {'id': 290, 'name': 'Cladophora glomerata'},\n",
       " 'CLUP HAR': {'id': 50, 'name': 'Clupea harengus'},\n",
       " 'CRAN CRA': {'id': 59, 'name': 'Crangon crangon'},\n",
       " 'CYPR CAR': {'id': 275, 'name': 'Cyprinus carpio'},\n",
       " 'ENCH CIM': {'id': 276, 'name': 'Echinodermata'},\n",
       " 'ENGR ENC': {'id': 84, 'name': 'Engraulis encrasicolus'},\n",
       " 'ESOX LUC': {'id': 269, 'name': 'Esox lucius'},\n",
       " 'FISHLARVAE': {'id': 277, 'name': 'Fish larvae'},\n",
       " 'FUCU VES': {'id': 96, 'name': 'Fucus vesiculosus'},\n",
       " 'FURC LUM': {'id': 289, 'name': 'Furcellaria lumbricalis'},\n",
       " 'GADU MOR': {'id': 99, 'name': 'Gadus morhua'},\n",
       " 'GAST ACU': {'id': 286, 'name': 'Gasterosteus aculeatus'},\n",
       " 'GYMN CER': {'id': 288, 'name': 'Gymnocephalus cernua'},\n",
       " 'LAMI SAC': {'id': 149, 'name': 'Laminaria japonica'},\n",
       " 'LIMA LIM': {'id': 270, 'name': 'Limanda limanda'},\n",
       " 'MACO BAL': {'id': 122, 'name': 'Macoma balthica'},\n",
       " 'MERL MNG': {'id': 139, 'name': 'Merlangius merlangus'},\n",
       " 'MYA ARE': {'id': 120, 'name': 'Mya arenaria'},\n",
       " 'MYOX SCO': {'id': 278, 'name': 'Myoxocephalus scorpius'},\n",
       " 'MYTI EDU': {'id': 129, 'name': 'Mytilus edulis'},\n",
       " 'OSME EPE': {'id': 279, 'name': 'Osmerus eperlanus'},\n",
       " 'PERC FLU': {'id': 247, 'name': 'Perca fluviatilis'},\n",
       " 'PLANKTON': {'id': 280, 'name': 'Plankton'},\n",
       " 'PLAT FLE': {'id': 191, 'name': 'Platichthys flesus'},\n",
       " 'PLEU PLA': {'id': 192, 'name': 'Pleuronectes platessa'},\n",
       " 'POLY FUC': {'id': 245, 'name': 'Polysiphonia fucoides'},\n",
       " 'PSET MAX': {'id': 675, 'name': 'Pinctada maxima'},\n",
       " 'RHODOPHY': {'id': 282, 'name': 'Rhodophyta'},\n",
       " 'RUTI RUT': {'id': 283, 'name': 'Rutilus rutilus'},\n",
       " 'SADU ENT': {'id': 284, 'name': 'Saduria entomon'},\n",
       " 'SCOM SCO': {'id': 244, 'name': 'Scomber scombrus'},\n",
       " 'SOLE SOL': {'id': 397, 'name': 'Solea solea'},\n",
       " 'SPRA SPR': {'id': 243, 'name': 'Sprattus sprattus'},\n",
       " 'STIZ LUC': {'id': 285, 'name': 'Sander lucioperca'},\n",
       " 'STUC PEC': {'id': 704, 'name': 'Stuckenia pectinata'},\n",
       " 'ZOAR VIV': {'id': 287, 'name': 'Zoarces viviparus'},\n",
       " 'ZANN PALU': {'id': 1524, 'name': 'Zannichellia palustris'}}"
      ]
     },
     "execution_count": null,
     "metadata": {},
     "output_type": "execute_result"
    }
   ],
   "source": [
    "get_maris_species(fname_in, 'species_helcom.pkl', overwrite=False)"
   ]
  },
  {
   "cell_type": "code",
   "execution_count": null,
   "id": "1062731d",
   "metadata": {},
   "outputs": [],
   "source": [
    "#| export\n",
    "def get_worms_species(fname_in, fname_cache, overwrite=False):\n",
    "    fname_cache = cache_path() / fname_cache\n",
    "    lut = {}\n",
    "\n",
    "    if overwrite or (not fname_cache.exists()):\n",
    "        df = pd.read_csv(Path(fname_in) / 'RUBIN_NAME.csv')\n",
    "        \n",
    "        for _, row in tqdm(df[['RUBIN', 'SCIENTIFIC NAME']].iterrows(), total=df.shape[0]):\n",
    "            res = match_worms(row['SCIENTIFIC NAME'])\n",
    "            if (res == -1):\n",
    "                print(f\"No match for {row['RUBIN']} ({row['SCIENTIFIC NAME']})\")\n",
    "                id = -1\n",
    "                lut[row['RUBIN']] = {'id': id, 'name': '', 'status': '', 'match_type': ''}\n",
    "            else:\n",
    "                if len(res[0]) > 1:\n",
    "                    print(f\"Several matches for {row['RUBIN']} ({row['SCIENTIFIC NAME']})\")\n",
    "                    \n",
    "                id, name, status, match_type = [res[0][0].get(key) \n",
    "                                                for key in ['AphiaID', 'scientificname', 'status', 'match_type']]        \n",
    "                \n",
    "                lut[row['RUBIN']] = {'id': id, 'name': name, 'status': status, 'match_type': match_type}\n",
    "        fc.save_pickle(fname_cache, lut)\n",
    "    else:\n",
    "        lut = fc.load_pickle(fname_cache)\n",
    "        \n",
    "    return lut"
   ]
  },
  {
   "cell_type": "code",
   "execution_count": null,
   "id": "72d4cacb",
   "metadata": {},
   "outputs": [
    {
     "data": {
      "text/plain": [
       "{'ABRA BRA': {'id': 271, 'name': 'Abramis brama'},\n",
       " 'ANGU ANG': {'id': 272, 'name': 'Anguilla anguilla'},\n",
       " 'ARCT ISL': {'id': 273, 'name': 'Arctica islandica'},\n",
       " 'ASTE RUB': {'id': 21, 'name': 'Asterias rubens'},\n",
       " 'CARD EDU': {'id': 988, 'name': 'Cardiidae'},\n",
       " 'CH HI;BA': {'id': 122, 'name': 'Macoma balthica'},\n",
       " 'CLAD GLO': {'id': 290, 'name': 'Cladophora glomerata'},\n",
       " 'CLUP HAR': {'id': 50, 'name': 'Clupea harengus'},\n",
       " 'CRAN CRA': {'id': 59, 'name': 'Crangon crangon'},\n",
       " 'CYPR CAR': {'id': 275, 'name': 'Cyprinus carpio'},\n",
       " 'ENCH CIM': {'id': 276, 'name': 'Echinodermata'},\n",
       " 'ENGR ENC': {'id': 84, 'name': 'Engraulis encrasicolus'},\n",
       " 'ESOX LUC': {'id': 269, 'name': 'Esox lucius'},\n",
       " 'FISHLARVAE': {'id': 277, 'name': 'Fish larvae'},\n",
       " 'FUCU VES': {'id': 96, 'name': 'Fucus vesiculosus'},\n",
       " 'FURC LUM': {'id': 289, 'name': 'Furcellaria lumbricalis'},\n",
       " 'GADU MOR': {'id': 99, 'name': 'Gadus morhua'},\n",
       " 'GAST ACU': {'id': 286, 'name': 'Gasterosteus aculeatus'},\n",
       " 'GYMN CER': {'id': 288, 'name': 'Gymnocephalus cernua'},\n",
       " 'LAMI SAC': {'id': 149, 'name': 'Laminaria japonica'},\n",
       " 'LIMA LIM': {'id': 270, 'name': 'Limanda limanda'},\n",
       " 'MACO BAL': {'id': 122, 'name': 'Macoma balthica'},\n",
       " 'MERL MNG': {'id': 139, 'name': 'Merlangius merlangus'},\n",
       " 'MYA ARE': {'id': 120, 'name': 'Mya arenaria'},\n",
       " 'MYOX SCO': {'id': 278, 'name': 'Myoxocephalus scorpius'},\n",
       " 'MYTI EDU': {'id': 129, 'name': 'Mytilus edulis'},\n",
       " 'OSME EPE': {'id': 279, 'name': 'Osmerus eperlanus'},\n",
       " 'PERC FLU': {'id': 247, 'name': 'Perca fluviatilis'},\n",
       " 'PLANKTON': {'id': 280, 'name': 'Plankton'},\n",
       " 'PLAT FLE': {'id': 191, 'name': 'Platichthys flesus'},\n",
       " 'PLEU PLA': {'id': 192, 'name': 'Pleuronectes platessa'},\n",
       " 'POLY FUC': {'id': 245, 'name': 'Polysiphonia fucoides'},\n",
       " 'PSET MAX': {'id': 675, 'name': 'Pinctada maxima'},\n",
       " 'RHODOPHY': {'id': 282, 'name': 'Rhodophyta'},\n",
       " 'RUTI RUT': {'id': 283, 'name': 'Rutilus rutilus'},\n",
       " 'SADU ENT': {'id': 284, 'name': 'Saduria entomon'},\n",
       " 'SCOM SCO': {'id': 244, 'name': 'Scomber scombrus'},\n",
       " 'SOLE SOL': {'id': 397, 'name': 'Solea solea'},\n",
       " 'SPRA SPR': {'id': 243, 'name': 'Sprattus sprattus'},\n",
       " 'STIZ LUC': {'id': 285, 'name': 'Sander lucioperca'},\n",
       " 'STUC PEC': {'id': 704, 'name': 'Stuckenia pectinata'},\n",
       " 'ZOAR VIV': {'id': 287, 'name': 'Zoarces viviparus'},\n",
       " 'ZANN PALU': {'id': 1524, 'name': 'Zannichellia palustris'}}"
      ]
     },
     "execution_count": null,
     "metadata": {},
     "output_type": "execute_result"
    }
   ],
   "source": [
    "species_lut = get_worms_species(fname_in, 'species_helcom.pkl', overwrite=False); species_lut"
   ]
  },
  {
   "cell_type": "code",
   "execution_count": null,
   "id": "c2798566",
   "metadata": {},
   "outputs": [],
   "source": [
    "#| export\n",
    "class LookupBiotaSpeciesCB(Callback):\n",
    "    'Match species with MARIS database.'\n",
    "    def __init__(self, fn_lut): fc.store_attr()\n",
    "    def __call__(self, tfm):\n",
    "        lut = self.fn_lut()\n",
    "        tfm.dfs['biota']['species_id'] = tfm.dfs['biota']['RUBIN'].apply(\n",
    "            lambda x: lut[x.strip()]['id'])"
   ]
  },
  {
   "cell_type": "code",
   "execution_count": null,
   "id": "b83ffe12",
   "metadata": {},
   "outputs": [
    {
     "name": "stdout",
     "output_type": "stream",
     "text": [
      "      RUBIN  species_id\n",
      "0  GADU MOR          99\n",
      "1  GADU MOR          99\n",
      "2  GADU MOR          99\n",
      "3  GADU MOR          99\n",
      "4  GADU MOR          99\n"
     ]
    }
   ],
   "source": [
    "dfs = load_data(fname_in)\n",
    "tfm = Transformer(dfs, cbs=[LowerStripRdnNameCB(),\n",
    "                            RemapRdnNameCB(),\n",
    "                            ParseTimeCB(),\n",
    "                            LookupBiotaSpeciesCB(partial(get_maris_species, \n",
    "                                                         fname_in, 'species_helcom.pkl'))\n",
    "                            ])\n",
    "\n",
    "print(tfm()['biota'][['RUBIN', 'species_id']][:5])"
   ]
  },
  {
   "attachments": {},
   "cell_type": "markdown",
   "id": "2c74e492",
   "metadata": {},
   "source": [
    "### Lookup biota tissues"
   ]
  },
  {
   "cell_type": "code",
   "execution_count": null,
   "id": "e8730ecb",
   "metadata": {},
   "outputs": [
    {
     "data": {
      "text/plain": [
       "array([ 5,  1, 41,  3, 51, 43, 42, 12, 10, 18, 52, 20,  8, 54, 53])"
      ]
     },
     "execution_count": null,
     "metadata": {},
     "output_type": "execute_result"
    }
   ],
   "source": [
    "dfs['biota']['TISSUE'].unique()"
   ]
  },
  {
   "cell_type": "code",
   "execution_count": null,
   "id": "dd003fee",
   "metadata": {},
   "outputs": [],
   "source": [
    "#| export\n",
    "def get_bodypart():\n",
    "    \"Naive lut - TO BE REFACTORED\"\n",
    "    return {\n",
    "        5: 52, 1: 1,\n",
    "        41: 1, 3: 3,\n",
    "        51: 54, 43: 19,\n",
    "        42: 59, 12: 20,\n",
    "        10: 7, 18: 25,\n",
    "        52: 55, 20: 38,\n",
    "        8: 12, 54: 57,\n",
    "        53: 56}"
   ]
  },
  {
   "cell_type": "code",
   "execution_count": null,
   "id": "bbe9a118",
   "metadata": {},
   "outputs": [],
   "source": [
    "#| export\n",
    "class LookupBiotaBodyPartCB(Callback):\n",
    "    'Update bodypart id based on MARIS dbo_bodypar.xlsx'\n",
    "    def __init__(self, fn_lut): fc.store_attr()\n",
    "    def __call__(self, tfm):\n",
    "        lut = self.fn_lut()\n",
    "        tfm.dfs['biota']['body_part'] = tfm.dfs['biota']['TISSUE'].apply(lambda x: lut[x])"
   ]
  },
  {
   "cell_type": "code",
   "execution_count": null,
   "id": "53a195f8",
   "metadata": {},
   "outputs": [
    {
     "name": "stdout",
     "output_type": "stream",
     "text": [
      "   TISSUE  body_part\n",
      "0       5         52\n",
      "1       5         52\n",
      "2       5         52\n",
      "3       5         52\n",
      "4       5         52\n"
     ]
    }
   ],
   "source": [
    "dfs = load_data(fname_in)\n",
    "tfm = Transformer(dfs, cbs=[LowerStripRdnNameCB(),\n",
    "                            RemapRdnNameCB(),\n",
    "                            ParseTimeCB(),\n",
    "                            LookupBiotaBodyPartCB(get_bodypart)\n",
    "                            ])\n",
    "\n",
    "print(tfm()['biota'][['TISSUE', 'body_part']][:5])"
   ]
  },
  {
   "cell_type": "markdown",
   "id": "7dd881ff",
   "metadata": {},
   "source": [
    "### Lookup sediment types"
   ]
  },
  {
   "cell_type": "code",
   "execution_count": null,
   "id": "bf7665a6",
   "metadata": {},
   "outputs": [
    {
     "data": {
      "text/html": [
       "<div>\n",
       "<style scoped>\n",
       "    .dataframe tbody tr th:only-of-type {\n",
       "        vertical-align: middle;\n",
       "    }\n",
       "\n",
       "    .dataframe tbody tr th {\n",
       "        vertical-align: top;\n",
       "    }\n",
       "\n",
       "    .dataframe thead th {\n",
       "        text-align: right;\n",
       "    }\n",
       "</style>\n",
       "<table border=\"1\" class=\"dataframe\">\n",
       "  <thead>\n",
       "    <tr style=\"text-align: right;\">\n",
       "      <th></th>\n",
       "      <th>SEDI</th>\n",
       "      <th>SEDIMENT TYPE</th>\n",
       "      <th>RECOMMENDED TO BE USED</th>\n",
       "    </tr>\n",
       "  </thead>\n",
       "  <tbody>\n",
       "    <tr>\n",
       "      <th>0</th>\n",
       "      <td>-99</td>\n",
       "      <td>NO DATA</td>\n",
       "      <td>NaN</td>\n",
       "    </tr>\n",
       "    <tr>\n",
       "      <th>1</th>\n",
       "      <td>30</td>\n",
       "      <td>SILT AND GRAVEL</td>\n",
       "      <td>YES</td>\n",
       "    </tr>\n",
       "    <tr>\n",
       "      <th>2</th>\n",
       "      <td>0</td>\n",
       "      <td>GRAVEL</td>\n",
       "      <td>YES</td>\n",
       "    </tr>\n",
       "    <tr>\n",
       "      <th>3</th>\n",
       "      <td>1</td>\n",
       "      <td>SAND</td>\n",
       "      <td>YES</td>\n",
       "    </tr>\n",
       "    <tr>\n",
       "      <th>4</th>\n",
       "      <td>2</td>\n",
       "      <td>FINE SAND</td>\n",
       "      <td>NO</td>\n",
       "    </tr>\n",
       "  </tbody>\n",
       "</table>\n",
       "</div>"
      ],
      "text/plain": [
       "   SEDI    SEDIMENT TYPE RECOMMENDED TO BE USED\n",
       "0   -99          NO DATA                    NaN\n",
       "1    30  SILT AND GRAVEL                    YES\n",
       "2     0           GRAVEL                    YES\n",
       "3     1             SAND                    YES\n",
       "4     2        FINE SAND                     NO"
      ]
     },
     "execution_count": null,
     "metadata": {},
     "output_type": "execute_result"
    }
   ],
   "source": [
    "df_sediment = pd.read_csv(Path(fname_in) / 'SEDIMENT_TYPE.csv')\n",
    "df_sediment.head(5)"
   ]
  },
  {
   "cell_type": "code",
   "execution_count": null,
   "id": "7173a854",
   "metadata": {},
   "outputs": [
    {
     "data": {
      "text/plain": [
       "array([-99,  30,   0,   1,   2,   3,   4,   5,   6,   7,   8,   9,  10,\n",
       "        11,  12,  13,  14,  15,  20,  21,  22,  23,  24,  25,  31,  32,\n",
       "        34,  35,  40,  33,  41,  42,  43,  44,  45,  46,  47,  48,  49,\n",
       "        50,  51,  52,  54,  55,  57,  58,  59])"
      ]
     },
     "execution_count": null,
     "metadata": {},
     "output_type": "execute_result"
    }
   ],
   "source": [
    "df_sediment['SEDI'].unique()"
   ]
  },
  {
   "cell_type": "code",
   "execution_count": null,
   "id": "6fc20592",
   "metadata": {},
   "outputs": [],
   "source": [
    "#| export\n",
    "def get_sediment(verbose=False):\n",
    "    lut = {}\n",
    "    if verbose: print('Source:Destination')\n",
    "    df_sediment = pd.read_csv(Path(fname_in) / 'SEDIMENT_TYPE.csv')\n",
    "    for _, row in df_sediment.iterrows():\n",
    "        match = match_maris_sediment(row['SEDIMENT TYPE'])\n",
    "        lut[row['SEDI']] = match.iloc[0,0]\n",
    "        if verbose: print(f'({row[\"SEDI\"]}) {row[\"SEDIMENT TYPE\"]}: ({match.iloc[0,0]}) {match.iloc[0,1]}')\n",
    "    return lut        "
   ]
  },
  {
   "cell_type": "code",
   "execution_count": null,
   "id": "d12d8ef3",
   "metadata": {},
   "outputs": [
    {
     "name": "stdout",
     "output_type": "stream",
     "text": [
      "Source:Destination\n",
      "(-99) NO DATA: (26) Soft\n",
      "(30) SILT AND GRAVEL: (11) Silt and gravel\n"
     ]
    },
    {
     "name": "stdout",
     "output_type": "stream",
     "text": [
      "(0) GRAVEL: (2) Gravel\n",
      "(1) SAND: (6) Sand\n",
      "(2) FINE SAND: (7) Fine sand\n",
      "(3) SILT: (12) Silt\n",
      "(4) CLAY: (1) Clay\n",
      "(5) MUD: (4) Mud\n",
      "(6) GLACIAL: (25) Glacial\n",
      "(7) SOFT: (26) Soft\n",
      "(8) SULPHIDIC: (27) Sulphidic\n",
      "(9) Fe-Mg CONCRETIONS: (28) Fe-Mg concretions\n",
      "(10) SAND AND GRAVEL: (29) Sand and gravel\n",
      "(11) PURE SAND: (30) Pure sand\n",
      "(12) SAND AND FINE SAND: (31) Sand and fine sand\n",
      "(13) SAND AND SILT: (62) Sand and silt\n",
      "(14) SAND AND CLAY: (32) Sand and clay\n",
      "(15) SAND AND MUD: (33) Sand and mud\n",
      "(20) FINE SAND AND GRAVEL: (34) Fine sand and gravel\n",
      "(21) FINE SAND AND SAND: (35) Fine sand and sand\n",
      "(22) PURE FINE SAND: (36) Pure fine sand\n",
      "(23) FINE SAND AND SILT: (37) Fine sand and silt\n",
      "(24) FINE SAND AND CLAY: (38) Fine sand and clay\n",
      "(25) FINE SAND AND MUD: (39) Fine sand and mud\n",
      "(31) SILT AND SAND: (40) Silt and sand\n",
      "(32) SILT AND FINE SAND: (41) Silt and fine sand\n",
      "(34) SILT AND CLAY: (10) Silt and clay\n",
      "(35) SILT AND MUD: (43) Silt and mud\n",
      "(40) CLAY AND GRAVEL: (44) Clay and gravel\n",
      "(33) PURE SILT: (42) Pure silt\n",
      "(41) CLAY AND SAND: (45) Clay and sand\n",
      "(42) CLAY AND FINE SAND: (46) Clay and fine sand\n",
      "(43) CLAY AND SILT: (48) Clay and silt\n",
      "(44) PURE CLAY: (47) Pure clay\n",
      "(45) CLAY AND MUD: (49) Clay and mud\n",
      "(46) CLACIAL CLAY: (50) Glacial clay\n",
      "(47) SOFT CLAY: (51) Soft clay\n",
      "(48) SULPHIDIC CLAY: (52) Sulphidic clay\n",
      "(49) CLAY AND Fe-Mg CONCRETIONS: (53) Clay and Fe-Mg concretions\n",
      "(50) MUD AND GARVEL: (54) Mud and gravel\n",
      "(51) MUD AND SAND: (55) Mud and sand\n",
      "(52) MUD AND FINE SAND: (56) Mud and fine sand\n",
      "(54) MUD AND CLAY: (57) Mud and clay\n",
      "(55) PURE MUD: (58) Pure mud\n",
      "(57) SOFT MUD: (59) Soft mud\n",
      "(58) SULPHIDIC MUD: (60) Sulphidic mud\n",
      "(59) MUD AND Fe-Mg CONCRETIONS: (61) Mud and Fe-Mg concretions\n"
     ]
    },
    {
     "data": {
      "text/plain": [
       "{-99: 26,\n",
       " 30: 11,\n",
       " 0: 2,\n",
       " 1: 6,\n",
       " 2: 7,\n",
       " 3: 12,\n",
       " 4: 1,\n",
       " 5: 4,\n",
       " 6: 25,\n",
       " 7: 26,\n",
       " 8: 27,\n",
       " 9: 28,\n",
       " 10: 29,\n",
       " 11: 30,\n",
       " 12: 31,\n",
       " 13: 62,\n",
       " 14: 32,\n",
       " 15: 33,\n",
       " 20: 34,\n",
       " 21: 35,\n",
       " 22: 36,\n",
       " 23: 37,\n",
       " 24: 38,\n",
       " 25: 39,\n",
       " 31: 40,\n",
       " 32: 41,\n",
       " 34: 10,\n",
       " 35: 43,\n",
       " 40: 44,\n",
       " 33: 42,\n",
       " 41: 45,\n",
       " 42: 46,\n",
       " 43: 48,\n",
       " 44: 47,\n",
       " 45: 49,\n",
       " 46: 50,\n",
       " 47: 51,\n",
       " 48: 52,\n",
       " 49: 53,\n",
       " 50: 54,\n",
       " 51: 55,\n",
       " 52: 56,\n",
       " 54: 57,\n",
       " 55: 58,\n",
       " 57: 59,\n",
       " 58: 60,\n",
       " 59: 61}"
      ]
     },
     "execution_count": null,
     "metadata": {},
     "output_type": "execute_result"
    }
   ],
   "source": [
    "get_sediment(verbose=True)"
   ]
  },
  {
   "cell_type": "code",
   "execution_count": null,
   "id": "beaa9754",
   "metadata": {},
   "outputs": [
    {
     "data": {
      "text/plain": [
       "array([ nan, -99.,   0.,  55.,  11.,  57.,  51.,  52.,  22.,  10.,  44.,\n",
       "         5.,  50.,  15.,   1.,  40.,  33.,  43.,  59.,  54.,   9.,  45.,\n",
       "        14.,  41.,  25.,  42.,  24.,  12.,  58.,  13.,   7.,  49.,  48.,\n",
       "         4.,  47.,  23.,  20.,  46.,   2.,  34.,  32.,  56.,  35.,  73.,\n",
       "        21.])"
      ]
     },
     "execution_count": null,
     "metadata": {},
     "output_type": "execute_result"
    }
   ],
   "source": [
    "dfs['sediment']['SEDI'].unique()"
   ]
  },
  {
   "cell_type": "code",
   "execution_count": null,
   "id": "9dec15b2",
   "metadata": {},
   "outputs": [
    {
     "name": "stdout",
     "output_type": "stream",
     "text": [
      "Source:Destination\n",
      "(-99) NO DATA: (26) Soft\n",
      "(30) SILT AND GRAVEL: (11) Silt and gravel\n"
     ]
    },
    {
     "name": "stdout",
     "output_type": "stream",
     "text": [
      "(0) GRAVEL: (2) Gravel\n",
      "(1) SAND: (6) Sand\n",
      "(2) FINE SAND: (7) Fine sand\n",
      "(3) SILT: (12) Silt\n",
      "(4) CLAY: (1) Clay\n",
      "(5) MUD: (4) Mud\n",
      "(6) GLACIAL: (25) Glacial\n",
      "(7) SOFT: (26) Soft\n",
      "(8) SULPHIDIC: (27) Sulphidic\n",
      "(9) Fe-Mg CONCRETIONS: (28) Fe-Mg concretions\n",
      "(10) SAND AND GRAVEL: (29) Sand and gravel\n",
      "(11) PURE SAND: (30) Pure sand\n",
      "(12) SAND AND FINE SAND: (31) Sand and fine sand\n",
      "(13) SAND AND SILT: (62) Sand and silt\n",
      "(14) SAND AND CLAY: (32) Sand and clay\n",
      "(15) SAND AND MUD: (33) Sand and mud\n",
      "(20) FINE SAND AND GRAVEL: (34) Fine sand and gravel\n",
      "(21) FINE SAND AND SAND: (35) Fine sand and sand\n",
      "(22) PURE FINE SAND: (36) Pure fine sand\n",
      "(23) FINE SAND AND SILT: (37) Fine sand and silt\n",
      "(24) FINE SAND AND CLAY: (38) Fine sand and clay\n",
      "(25) FINE SAND AND MUD: (39) Fine sand and mud\n",
      "(31) SILT AND SAND: (40) Silt and sand\n",
      "(32) SILT AND FINE SAND: (41) Silt and fine sand\n",
      "(34) SILT AND CLAY: (10) Silt and clay\n",
      "(35) SILT AND MUD: (43) Silt and mud\n",
      "(40) CLAY AND GRAVEL: (44) Clay and gravel\n",
      "(33) PURE SILT: (42) Pure silt\n",
      "(41) CLAY AND SAND: (45) Clay and sand\n",
      "(42) CLAY AND FINE SAND: (46) Clay and fine sand\n",
      "(43) CLAY AND SILT: (48) Clay and silt\n",
      "(44) PURE CLAY: (47) Pure clay\n",
      "(45) CLAY AND MUD: (49) Clay and mud\n",
      "(46) CLACIAL CLAY: (50) Glacial clay\n",
      "(47) SOFT CLAY: (51) Soft clay\n",
      "(48) SULPHIDIC CLAY: (52) Sulphidic clay\n",
      "(49) CLAY AND Fe-Mg CONCRETIONS: (53) Clay and Fe-Mg concretions\n",
      "(50) MUD AND GARVEL: (54) Mud and gravel\n",
      "(51) MUD AND SAND: (55) Mud and sand\n",
      "(52) MUD AND FINE SAND: (56) Mud and fine sand\n",
      "(54) MUD AND CLAY: (57) Mud and clay\n",
      "(55) PURE MUD: (58) Pure mud\n",
      "(57) SOFT MUD: (59) Soft mud\n",
      "(58) SULPHIDIC MUD: (60) Sulphidic mud\n",
      "(59) MUD AND Fe-Mg CONCRETIONS: (61) Mud and Fe-Mg concretions\n"
     ]
    }
   ],
   "source": [
    "lut_sediment = get_sediment(verbose=True)"
   ]
  },
  {
   "cell_type": "code",
   "execution_count": null,
   "id": "d81280ad",
   "metadata": {},
   "outputs": [
    {
     "data": {
      "text/plain": [
       "array([-99,   0,  55,  11,  57,  51,  52,  22,  10,  44,   5,  50,  15,\n",
       "         1,  40,  33,  43,  59,  54,   9,  45,  14,  41,  25,  42,  24,\n",
       "        12,  58,  13,   7,  49,  48,   4,  47,  23,  20,  46,   2,  34,\n",
       "        32,  56,  35,  73,  21])"
      ]
     },
     "execution_count": null,
     "metadata": {},
     "output_type": "execute_result"
    }
   ],
   "source": [
    "dfs['sediment']['SEDI'].fillna(-99).astype('int').unique()"
   ]
  },
  {
   "cell_type": "code",
   "execution_count": null,
   "id": "78ac79e7",
   "metadata": {},
   "outputs": [],
   "source": [
    "#| export\n",
    "class LookupSedimentCB(Callback):\n",
    "    'Update sediment id  based on MARIS dbo_sedtype.xlsx'\n",
    "    def __init__(self, fn_lut): fc.store_attr()\n",
    "    def __call__(self, tfm):\n",
    "        lut = self.fn_lut()\n",
    "        tfm.dfs['sediment']['SEDI'] = dfs['sediment']['SEDI'].fillna(-99).astype('int')\n",
    "        # To check with Helcom\n",
    "        tfm.dfs['sediment']['SEDI'].replace(56, -99, inplace=True)\n",
    "        tfm.dfs['sediment']['SEDI'].replace(73, -99, inplace=True)\n",
    "        tfm.dfs['sediment']['sed_type'] = tfm.dfs['sediment']['SEDI'].apply(lambda x: lut[x])"
   ]
  },
  {
   "cell_type": "code",
   "execution_count": null,
   "id": "16d42cb0",
   "metadata": {},
   "outputs": [
    {
     "name": "stdout",
     "output_type": "stream",
     "text": [
      "   SEDI  sed_type\n",
      "0   -99        26\n",
      "1   -99        26\n",
      "2   -99        26\n",
      "3   -99        26\n",
      "4   -99        26\n"
     ]
    }
   ],
   "source": [
    "dfs = load_data(fname_in)\n",
    "tfm = Transformer(dfs, cbs=[LowerStripRdnNameCB(),\n",
    "                            RemapRdnNameCB(),\n",
    "                            ParseTimeCB(),\n",
    "                            LookupSedimentCB(get_sediment)\n",
    "                            ])\n",
    "\n",
    "print(tfm()['sediment'][['SEDI', 'sed_type']][:5])"
   ]
  },
  {
   "attachments": {},
   "cell_type": "markdown",
   "id": "e17f6685",
   "metadata": {},
   "source": [
    "### Rename columns"
   ]
  },
  {
   "cell_type": "code",
   "execution_count": null,
   "id": "ee1762df",
   "metadata": {},
   "outputs": [],
   "source": [
    "#| export\n",
    "# Define columns of interest by sample type\n",
    "coi_grp = {'seawater': ['NUCLIDE', 'VALUE_Bq/m³', 'ERROR%_m³', 'time',\n",
    "                        'TDEPTH', 'LATITUDE (dddddd)', 'LONGITUDE (dddddd)'],\n",
    "           'sediment': ['NUCLIDE', 'VALUE_Bq/kg', 'ERROR%_kg', 'time',\n",
    "                        'TDEPTH', 'LATITUDE (dddddd)', 'LONGITUDE (dddddd)',\n",
    "                        'sed_type'],\n",
    "           'biota': ['NUCLIDE', 'VALUE_Bq/kg', 'ERROR%', 'time',\n",
    "                     'SDEPTH', 'LATITUDE ddmmmm', 'LONGITUDE ddmmmm',\n",
    "                     'species_id', 'body_part']}\n"
   ]
  },
  {
   "cell_type": "code",
   "execution_count": null,
   "id": "bb1091d7",
   "metadata": {},
   "outputs": [],
   "source": [
    "#| export\n",
    "# Define column names renaming rules\n",
    "renaming_rules = {\n",
    "    'NUCLIDE': 'nuclide',\n",
    "    'VALUE_Bq/m³': 'value',\n",
    "    'VALUE_Bq/kg': 'value',\n",
    "    'ERROR%_m³': 'unc',\n",
    "    'ERROR%_kg': 'unc',\n",
    "    'ERROR%': 'unc',\n",
    "    'TDEPTH': 'depth',\n",
    "    'SDEPTH': 'depth',\n",
    "    'LATITUDE (dddddd)': 'lat',\n",
    "    'LATITUDE ddmmmm': 'lat',\n",
    "    'LONGITUDE (dddddd)': 'lon',\n",
    "    'LONGITUDE ddmmmm': 'lon'\n",
    "}\n"
   ]
  },
  {
   "cell_type": "code",
   "execution_count": null,
   "id": "e41f13ae",
   "metadata": {},
   "outputs": [],
   "source": [
    "#| export\n",
    "class RenameColumnCB(Callback):\n",
    "    def __init__(self,\n",
    "                 coi=coi_grp,\n",
    "                 renaming_rules=renaming_rules):\n",
    "        fc.store_attr()\n",
    "\n",
    "    def __call__(self, tfm):\n",
    "        for k in tfm.dfs.keys():\n",
    "            # Select cols of interest\n",
    "            tfm.dfs[k] = tfm.dfs[k].loc[:, self.coi[k]]\n",
    "\n",
    "            # Rename cols\n",
    "            tfm.dfs[k].rename(columns=self.renaming_rules, inplace=True)"
   ]
  },
  {
   "cell_type": "code",
   "execution_count": null,
   "id": "a4b1cde4",
   "metadata": {},
   "outputs": [
    {
     "name": "stdout",
     "output_type": "stream",
     "text": [
      "  nuclide       value       unc       time  depth    lat    lon  species_id  \\\n",
      "0   cs134    0.010140       NaN 2012-09-23    NaN  54.17  12.19          99   \n",
      "1     k40  135.300000  4.830210 2012-09-23    NaN  54.17  12.19          99   \n",
      "2    co60    0.013980       NaN 2012-09-23    NaN  54.17  12.19          99   \n",
      "3   cs137    4.338000  0.150962 2012-09-23    NaN  54.17  12.19          99   \n",
      "4   cs134    0.009614       NaN 2012-09-23    NaN  54.17  12.19          99   \n",
      "\n",
      "   body_part  \n",
      "0         52  \n",
      "1         52  \n",
      "2         52  \n",
      "3         52  \n",
      "4         52  \n"
     ]
    }
   ],
   "source": [
    "dfs = load_data(fname_in)\n",
    "tfm = Transformer(dfs, cbs=[LowerStripRdnNameCB(),\n",
    "                            RemapRdnNameCB(),\n",
    "                            ParseTimeCB(),\n",
    "                            NormalizeUncUnitCB(),\n",
    "                            LookupBiotaSpeciesCB(partial(get_maris_species, \n",
    "                                                         fname_in, 'species_helcom.pkl')),\n",
    "                            LookupBiotaBodyPartCB(get_bodypart),\n",
    "                            LookupSedimentCB(get_sediment),\n",
    "                            RenameColumnCB()])\n",
    "\n",
    "print(tfm()['biota'].head(5))"
   ]
  },
  {
   "attachments": {},
   "cell_type": "markdown",
   "id": "8b7efe2d",
   "metadata": {},
   "source": [
    "### Reshape: long to wide"
   ]
  },
  {
   "cell_type": "code",
   "execution_count": null,
   "id": "453380c1",
   "metadata": {},
   "outputs": [],
   "source": [
    "#| export\n",
    "class ReshapeLongToWide(Callback):\n",
    "    def __init__(self): fc.store_attr()\n",
    "\n",
    "    def __call__(self, tfm):\n",
    "        for k in tfm.dfs.keys():\n",
    "            cols = ['nuclide']\n",
    "            vals = ['value', 'unc']\n",
    "            idx = list(set(tfm.dfs[k].columns) -\n",
    "                       set(cols + vals))  # All others\n",
    "\n",
    "            tfm.dfs[k] = tfm.dfs[k].pivot_table(index=idx,\n",
    "                                                columns=cols,\n",
    "                                                values=vals).reset_index()\n",
    "\n",
    "            # Flatten cols name\n",
    "            tfm.dfs[k].columns = rename_cols(tfm.dfs[k].columns)\n",
    "\n",
    "            # Set index\n",
    "            tfm.dfs[k].index.name = 'sample'"
   ]
  },
  {
   "cell_type": "code",
   "execution_count": null,
   "id": "0a330905",
   "metadata": {},
   "outputs": [
    {
     "name": "stdout",
     "output_type": "stream",
     "text": [
      "          lon       time  species_id  depth    lat  body_part  ac228_unc  \\\n",
      "sample                                                                     \n",
      "0        9.41 2011-12-11          50    2.0  54.31         52        NaN   \n",
      "1       10.00 2011-12-13          99    4.0  54.45         52        NaN   \n",
      "2       10.07 1987-12-08          99   21.5  54.33         25        NaN   \n",
      "3       10.07 1987-12-08          99   21.5  54.33         52        NaN   \n",
      "4       10.07 1994-10-09          50   27.0  54.34          1        NaN   \n",
      "\n",
      "        ag108m_unc  ag110m_unc  am241_unc  ...  sr89    sr90  tc99  te129m  \\\n",
      "sample                                     ...                               \n",
      "0              NaN         NaN        NaN  ...   NaN     NaN   NaN     NaN   \n",
      "1              NaN         NaN        NaN  ...   NaN     NaN   NaN     NaN   \n",
      "2              NaN     0.11470        NaN  ...   NaN     NaN   NaN     NaN   \n",
      "3              NaN     0.00858        NaN  ...   NaN  0.0042   NaN     NaN   \n",
      "4              0.0         NaN        0.0  ...   NaN  0.0267   NaN     NaN   \n",
      "\n",
      "        th228  th232  tl208  u235  zn65  zr95  \n",
      "sample                                         \n",
      "0         NaN    NaN    NaN   NaN   NaN   NaN  \n",
      "1         NaN    NaN    NaN   NaN   NaN   NaN  \n",
      "2         NaN    NaN    NaN   NaN   NaN   NaN  \n",
      "3         NaN    NaN    NaN   NaN   NaN   NaN  \n",
      "4         NaN    NaN    NaN   NaN   NaN   NaN  \n",
      "\n",
      "[5 rows x 106 columns]\n"
     ]
    }
   ],
   "source": [
    "dfs = load_data(fname_in)\n",
    "tfm = Transformer(dfs, cbs=[LowerStripRdnNameCB(),\n",
    "                            RemapRdnNameCB(),\n",
    "                            ParseTimeCB(),\n",
    "                            NormalizeUncUnitCB(),\n",
    "                            LookupBiotaSpeciesCB(partial(get_maris_species, \n",
    "                                                         fname_in, 'species_helcom.pkl')),\n",
    "                            LookupBiotaBodyPartCB(get_bodypart),\n",
    "                            LookupSedimentCB(get_sediment),\n",
    "                            RenameColumnCB(),\n",
    "                            ReshapeLongToWide()])\n",
    "\n",
    "print(tfm()['biota'].head(5))"
   ]
  },
  {
   "attachments": {},
   "cell_type": "markdown",
   "id": "22814b7a",
   "metadata": {},
   "source": [
    "### Encode time (seconds since ...)"
   ]
  },
  {
   "cell_type": "code",
   "execution_count": null,
   "id": "0c92dd07",
   "metadata": {},
   "outputs": [
    {
     "name": "stdout",
     "output_type": "stream",
     "text": [
      "        lat  lon        time  depth  ag110m_unc  am241_unc  ba140_unc  \\\n",
      "sample                                                                  \n",
      "0       0.0  0.0  1429574400   12.0         NaN        NaN        NaN   \n",
      "1       0.0  0.0  1429747200    4.0         NaN        NaN        NaN   \n",
      "2       0.0  0.0  1430352000   13.0         NaN        NaN        NaN   \n",
      "3       0.0  0.0  1431993600   81.0         NaN        NaN        NaN   \n",
      "4       0.0  0.0  1432080000   69.0         NaN        NaN        NaN   \n",
      "\n",
      "        ce144_unc  cm242_unc  cm243_244_tot_unc  ...  pu240  ru103  ru106  \\\n",
      "sample                                           ...                        \n",
      "0             NaN        NaN                NaN  ...    NaN    NaN    NaN   \n",
      "1             NaN        NaN                NaN  ...    NaN    NaN    NaN   \n",
      "2             NaN        NaN                NaN  ...    NaN    NaN    NaN   \n",
      "3             NaN        NaN                NaN  ...    NaN    NaN    NaN   \n",
      "4             NaN        NaN                NaN  ...    NaN    NaN    NaN   \n",
      "\n",
      "        sb125  sr89   sr90  tc99  u234  u238  zr95  \n",
      "sample                                              \n",
      "0         NaN   NaN  5.759   NaN   NaN   NaN   NaN  \n",
      "1         NaN   NaN  6.758   NaN   NaN   NaN   NaN  \n",
      "2         NaN   NaN    NaN   NaN   NaN   NaN   NaN  \n",
      "3         NaN   NaN    NaN   NaN   NaN   NaN   NaN  \n",
      "4         NaN   NaN  7.255   NaN   NaN   NaN   NaN  \n",
      "\n",
      "[5 rows x 60 columns]\n"
     ]
    }
   ],
   "source": [
    "dfs = load_data(fname_in)\n",
    "tfm = Transformer(dfs, cbs=[LowerStripRdnNameCB(),\n",
    "                            RemapRdnNameCB(),\n",
    "                            ParseTimeCB(),\n",
    "                            NormalizeUncUnitCB(),\n",
    "                            LookupBiotaSpeciesCB(partial(get_maris_species, \n",
    "                                                         fname_in, 'species_helcom.pkl')),\n",
    "                            LookupBiotaBodyPartCB(get_bodypart),\n",
    "                            LookupSedimentCB(get_sediment),\n",
    "                            RenameColumnCB(),\n",
    "                            ReshapeLongToWide(),\n",
    "                            EncodeTimeCB(cfg())])\n",
    "\n",
    "print(tfm()['seawater'].head(5))\n"
   ]
  },
  {
   "attachments": {},
   "cell_type": "markdown",
   "id": "ff32c2a8",
   "metadata": {},
   "source": [
    "### Sanitize coordinates"
   ]
  },
  {
   "cell_type": "code",
   "execution_count": null,
   "id": "3dee4406",
   "metadata": {},
   "outputs": [
    {
     "name": "stdout",
     "output_type": "stream",
     "text": [
      "            lat      lon        time  depth  ag110m_unc  am241_unc  ba140_unc  \\\n",
      "sample                                                                          \n",
      "10      53.9422  14.2578  1339545600   10.0         NaN        NaN        NaN   \n",
      "11      53.9483  14.2633   870220800   10.0         NaN        NaN        NaN   \n",
      "12      53.9483  14.2633   966729600   10.0         NaN        NaN        NaN   \n",
      "13      53.9483  14.2633   992044800   10.0         NaN        NaN        NaN   \n",
      "14      53.9483  14.2633  1023580800   10.0         NaN        NaN        NaN   \n",
      "\n",
      "        ce144_unc  cm242_unc  cm243_244_tot_unc  ...  pu240  ru103  ru106  \\\n",
      "sample                                           ...                        \n",
      "10            NaN        NaN                NaN  ...    NaN    NaN    NaN   \n",
      "11            NaN        NaN                NaN  ...    NaN    NaN    NaN   \n",
      "12            NaN        NaN                NaN  ...    NaN    NaN    NaN   \n",
      "13            NaN        NaN                NaN  ...    NaN    NaN    NaN   \n",
      "14            NaN        NaN                NaN  ...    NaN    NaN    NaN   \n",
      "\n",
      "        sb125  sr89  sr90  tc99  u234  u238  zr95  \n",
      "sample                                             \n",
      "10        NaN   NaN  4.95   NaN   NaN   NaN   NaN  \n",
      "11        NaN   NaN  7.10   NaN   NaN   NaN   NaN  \n",
      "12        NaN   NaN  8.00   NaN   NaN   NaN   NaN  \n",
      "13        NaN   NaN  6.90   NaN   NaN   NaN   NaN  \n",
      "14        NaN   NaN  5.10   NaN   NaN   NaN   NaN  \n",
      "\n",
      "[5 rows x 60 columns]\n"
     ]
    }
   ],
   "source": [
    "dfs = load_data(fname_in)\n",
    "tfm = Transformer(dfs, cbs=[LowerStripRdnNameCB(),\n",
    "                            RemapRdnNameCB(),\n",
    "                            ParseTimeCB(),\n",
    "                            NormalizeUncUnitCB(),\n",
    "                            LookupBiotaSpeciesCB(partial(get_maris_species, \n",
    "                                                         fname_in, 'species_helcom.pkl')),\n",
    "                            LookupBiotaBodyPartCB(get_bodypart),\n",
    "                            LookupSedimentCB(get_sediment),\n",
    "                            RenameColumnCB(),\n",
    "                            ReshapeLongToWide(),\n",
    "                            EncodeTimeCB(cfg()),\n",
    "                            SanitizeLonLatCB()])\n",
    "\n",
    "print(tfm()['seawater'].head(5))\n"
   ]
  },
  {
   "attachments": {},
   "cell_type": "markdown",
   "id": "8ba0e40a",
   "metadata": {},
   "source": [
    "## Encode to NetCDF"
   ]
  },
  {
   "cell_type": "code",
   "execution_count": null,
   "id": "75d1968d",
   "metadata": {},
   "outputs": [],
   "source": [
    "dfs = load_data(fname_in)\n",
    "tfm = Transformer(dfs, cbs=[LowerStripRdnNameCB(),\n",
    "                            RemapRdnNameCB(),\n",
    "                            ParseTimeCB(),\n",
    "                            NormalizeUncUnitCB(),\n",
    "                            LookupBiotaSpeciesCB(partial(get_maris_species, \n",
    "                                                         fname_in, 'species_helcom.pkl')),\n",
    "                            LookupBiotaBodyPartCB(get_bodypart),\n",
    "                            LookupSedimentCB(get_sediment),\n",
    "                            RenameColumnCB(),\n",
    "                            ReshapeLongToWide(),\n",
    "                            EncodeTimeCB(cfg()),\n",
    "                            SanitizeLonLatCB()])\n",
    "\n",
    "dfs_tfm = tfm()\n"
   ]
  },
  {
   "cell_type": "code",
   "execution_count": null,
   "id": "4e998369",
   "metadata": {},
   "outputs": [
    {
     "data": {
      "text/plain": [
       "['Convert nuclide names to lowercase & strip any trailing space(s)',\n",
       " 'Remap to MARIS radionuclide names.',\n",
       " 'Convert uncertainty from % to activity unit',\n",
       " 'Match species with MARIS database.',\n",
       " 'Update bodypart id based on MARIS dbo_bodypar.xlsx',\n",
       " 'Update sediment id  based on MARIS dbo_sedtype.xlsx',\n",
       " 'Encode time as `int` representing seconds since xxx',\n",
       " 'Drop row when both longitude & latitude equal 0.']"
      ]
     },
     "execution_count": null,
     "metadata": {},
     "output_type": "execute_result"
    }
   ],
   "source": [
    "tfm.logs"
   ]
  },
  {
   "attachments": {},
   "cell_type": "markdown",
   "id": "b82526cc",
   "metadata": {},
   "source": [
    "### Feed global attributes"
   ]
  },
  {
   "cell_type": "code",
   "execution_count": null,
   "id": "ac6ba4f8",
   "metadata": {},
   "outputs": [],
   "source": [
    "#| export\n",
    "kw = ['oceanography', 'Earth Science > Oceans > Ocean Chemistry> Radionuclides',\n",
    "      'Earth Science > Human Dimensions > Environmental Impacts > Nuclear Radiation Exposure',\n",
    "      'Earth Science > Oceans > Ocean Chemistry > Ocean Tracers, Earth Science > Oceans > Marine Sediments',\n",
    "      'Earth Science > Oceans > Ocean Chemistry, Earth Science > Oceans > Sea Ice > Isotopes',\n",
    "      'Earth Science > Oceans > Water Quality > Ocean Contaminants',\n",
    "      'Earth Science > Biological Classification > Animals/Vertebrates > Fish',\n",
    "      'Earth Science > Biosphere > Ecosystems > Marine Ecosystems',\n",
    "      'Earth Science > Biological Classification > Animals/Invertebrates > Mollusks',\n",
    "      'Earth Science > Biological Classification > Animals/Invertebrates > Arthropods > Crustaceans',\n",
    "      'Earth Science > Biological Classification > Plants > Macroalgae (Seaweeds)']\n"
   ]
  },
  {
   "cell_type": "code",
   "execution_count": null,
   "id": "f6aa393b",
   "metadata": {},
   "outputs": [],
   "source": [
    "#| export\n",
    "def get_attrs(tfm, zotero_key='26VMZZ2Q', kw=kw):\n",
    "    return GlobAttrsFeeder(tfm.dfs, cbs=[\n",
    "        BboxCB(),\n",
    "        DepthRangeCB(),\n",
    "        TimeRangeCB(cfg()),\n",
    "        ZoteroCB(zotero_key, cfg=cfg()),\n",
    "        KeyValuePairCB('keywords', ', '.join(kw)),\n",
    "        KeyValuePairCB('publisher_postprocess_logs', ', '.join(tfm.logs))\n",
    "        ])()"
   ]
  },
  {
   "cell_type": "code",
   "execution_count": null,
   "id": "c2e8aad3",
   "metadata": {},
   "outputs": [
    {
     "data": {
      "text/plain": [
       "{'geospatial_lat_min': '31.1667',\n",
       " 'geospatial_lat_max': '65.6347',\n",
       " 'geospatial_lon_min': '9.41',\n",
       " 'geospatial_lon_max': '53.458',\n",
       " 'geospatial_bounds': 'POLYGON ((9.41 53.458, 31.1667 53.458, 31.1667 65.6347, 9.41 65.6347, 9.41 53.458))',\n",
       " 'geospatial_vertical_max': '0',\n",
       " 'geospatial_vertical_min': '-460.0',\n",
       " 'time_coverage_start': '1984-01-10T00:00:00',\n",
       " 'time_coverage_end': '2018-12-12T00:00:00',\n",
       " 'title': 'Environmental database - Helsinki Commission Monitoring of Radioactive Substances',\n",
       " 'summary': 'MORS Environment database has been used to collate data resulting from monitoring of environmental radioactivity in the Baltic Sea based on HELCOM Recommendation 26/3.\\n\\nThe database is structured according to HELCOM Guidelines on Monitoring of Radioactive Substances (https://www.helcom.fi/wp-content/uploads/2019/08/Guidelines-for-Monitoring-of-Radioactive-Substances.pdf), which specifies reporting format, database structure, data types and obligatory parameters used for reporting data under Recommendation 26/3.\\n\\nThe database is updated and quality assured annually by HELCOM MORS EG.',\n",
       " 'creator_name': 'author: HELCOM MORS',\n",
       " 'keywords': 'oceanography, Earth Science > Oceans > Ocean Chemistry> Radionuclides, Earth Science > Human Dimensions > Environmental Impacts > Nuclear Radiation Exposure, Earth Science > Oceans > Ocean Chemistry > Ocean Tracers, Earth Science > Oceans > Marine Sediments, Earth Science > Oceans > Ocean Chemistry, Earth Science > Oceans > Sea Ice > Isotopes, Earth Science > Oceans > Water Quality > Ocean Contaminants, Earth Science > Biological Classification > Animals/Vertebrates > Fish, Earth Science > Biosphere > Ecosystems > Marine Ecosystems, Earth Science > Biological Classification > Animals/Invertebrates > Mollusks, Earth Science > Biological Classification > Animals/Invertebrates > Arthropods > Crustaceans, Earth Science > Biological Classification > Plants > Macroalgae (Seaweeds)',\n",
       " 'publisher_postprocess_logs': 'Convert nuclide names to lowercase & strip any trailing space(s), Remap to MARIS radionuclide names., Convert uncertainty from % to activity unit, Match species with MARIS database., Update bodypart id based on MARIS dbo_bodypar.xlsx, Update sediment id  based on MARIS dbo_sedtype.xlsx, Encode time as `int` representing seconds since xxx, Drop row when both longitude & latitude equal 0.'}"
      ]
     },
     "execution_count": null,
     "metadata": {},
     "output_type": "execute_result"
    }
   ],
   "source": [
    "get_attrs(tfm, zotero_key='26VMZZ2Q', kw=kw)"
   ]
  },
  {
   "attachments": {},
   "cell_type": "markdown",
   "id": "95a4a7b1",
   "metadata": {},
   "source": [
    "### Encoding"
   ]
  },
  {
   "cell_type": "code",
   "execution_count": null,
   "id": "3235b5eb",
   "metadata": {},
   "outputs": [
    {
     "data": {
      "text/plain": [
       "{'ABRA BRA': {'id': 271, 'name': 'Abramis brama'},\n",
       " 'ANGU ANG': {'id': 272, 'name': 'Anguilla anguilla'},\n",
       " 'ARCT ISL': {'id': 273, 'name': 'Arctica islandica'},\n",
       " 'ASTE RUB': {'id': 21, 'name': 'Asterias rubens'},\n",
       " 'CARD EDU': {'id': 988, 'name': 'Cardiidae'},\n",
       " 'CH HI;BA': {'id': 122, 'name': 'Macoma balthica'},\n",
       " 'CLAD GLO': {'id': 290, 'name': 'Cladophora glomerata'},\n",
       " 'CLUP HAR': {'id': 50, 'name': 'Clupea harengus'},\n",
       " 'CRAN CRA': {'id': 59, 'name': 'Crangon crangon'},\n",
       " 'CYPR CAR': {'id': 275, 'name': 'Cyprinus carpio'},\n",
       " 'ENCH CIM': {'id': 276, 'name': 'Echinodermata'},\n",
       " 'ENGR ENC': {'id': 84, 'name': 'Engraulis encrasicolus'},\n",
       " 'ESOX LUC': {'id': 269, 'name': 'Esox lucius'},\n",
       " 'FISHLARVAE': {'id': 277, 'name': 'Fish larvae'},\n",
       " 'FUCU VES': {'id': 96, 'name': 'Fucus vesiculosus'},\n",
       " 'FURC LUM': {'id': 289, 'name': 'Furcellaria lumbricalis'},\n",
       " 'GADU MOR': {'id': 99, 'name': 'Gadus morhua'},\n",
       " 'GAST ACU': {'id': 286, 'name': 'Gasterosteus aculeatus'},\n",
       " 'GYMN CER': {'id': 288, 'name': 'Gymnocephalus cernua'},\n",
       " 'LAMI SAC': {'id': 149, 'name': 'Laminaria japonica'},\n",
       " 'LIMA LIM': {'id': 270, 'name': 'Limanda limanda'},\n",
       " 'MACO BAL': {'id': 122, 'name': 'Macoma balthica'},\n",
       " 'MERL MNG': {'id': 139, 'name': 'Merlangius merlangus'},\n",
       " 'MYA ARE': {'id': 120, 'name': 'Mya arenaria'},\n",
       " 'MYOX SCO': {'id': 278, 'name': 'Myoxocephalus scorpius'},\n",
       " 'MYTI EDU': {'id': 129, 'name': 'Mytilus edulis'},\n",
       " 'OSME EPE': {'id': 279, 'name': 'Osmerus eperlanus'},\n",
       " 'PERC FLU': {'id': 247, 'name': 'Perca fluviatilis'},\n",
       " 'PLANKTON': {'id': 280, 'name': 'Plankton'},\n",
       " 'PLAT FLE': {'id': 191, 'name': 'Platichthys flesus'},\n",
       " 'PLEU PLA': {'id': 192, 'name': 'Pleuronectes platessa'},\n",
       " 'POLY FUC': {'id': 245, 'name': 'Polysiphonia fucoides'},\n",
       " 'PSET MAX': {'id': 675, 'name': 'Pinctada maxima'},\n",
       " 'RHODOPHY': {'id': 282, 'name': 'Rhodophyta'},\n",
       " 'RUTI RUT': {'id': 283, 'name': 'Rutilus rutilus'},\n",
       " 'SADU ENT': {'id': 284, 'name': 'Saduria entomon'},\n",
       " 'SCOM SCO': {'id': 244, 'name': 'Scomber scombrus'},\n",
       " 'SOLE SOL': {'id': 397, 'name': 'Solea solea'},\n",
       " 'SPRA SPR': {'id': 243, 'name': 'Sprattus sprattus'},\n",
       " 'STIZ LUC': {'id': 285, 'name': 'Sander lucioperca'},\n",
       " 'STUC PEC': {'id': 704, 'name': 'Stuckenia pectinata'},\n",
       " 'ZOAR VIV': {'id': 287, 'name': 'Zoarces viviparus'},\n",
       " 'ZANN PALU': {'id': 1524, 'name': 'Zannichellia palustris'}}"
      ]
     },
     "execution_count": null,
     "metadata": {},
     "output_type": "execute_result"
    }
   ],
   "source": [
    "species_lut"
   ]
  },
  {
   "cell_type": "code",
   "execution_count": null,
   "id": "b3f4a24c",
   "metadata": {},
   "outputs": [
    {
     "data": {
      "text/plain": [
       "{'Abramis brama': 271,\n",
       " 'Anguilla anguilla': 272,\n",
       " 'Arctica islandica': 273,\n",
       " 'Asterias rubens': 21,\n",
       " 'Cardiidae': 988,\n",
       " 'Macoma balthica': 122,\n",
       " 'Cladophora glomerata': 290,\n",
       " 'Clupea harengus': 50,\n",
       " 'Crangon crangon': 59,\n",
       " 'Cyprinus carpio': 275,\n",
       " 'Echinodermata': 276,\n",
       " 'Engraulis encrasicolus': 84,\n",
       " 'Esox lucius': 269,\n",
       " 'Fish larvae': 277,\n",
       " 'Fucus vesiculosus': 96,\n",
       " 'Furcellaria lumbricalis': 289,\n",
       " 'Gadus morhua': 99,\n",
       " 'Gasterosteus aculeatus': 286,\n",
       " 'Gymnocephalus cernua': 288,\n",
       " 'Laminaria japonica': 149,\n",
       " 'Limanda limanda': 270,\n",
       " 'Merlangius merlangus': 139,\n",
       " 'Mya arenaria': 120,\n",
       " 'Myoxocephalus scorpius': 278,\n",
       " 'Mytilus edulis': 129,\n",
       " 'Osmerus eperlanus': 279,\n",
       " 'Perca fluviatilis': 247,\n",
       " 'Plankton': 280,\n",
       " 'Platichthys flesus': 191,\n",
       " 'Pleuronectes platessa': 192,\n",
       " 'Polysiphonia fucoides': 245,\n",
       " 'Pinctada maxima': 675,\n",
       " 'Rhodophyta': 282,\n",
       " 'Rutilus rutilus': 283,\n",
       " 'Saduria entomon': 284,\n",
       " 'Scomber scombrus': 244,\n",
       " 'Solea solea': 397,\n",
       " 'Sprattus sprattus': 243,\n",
       " 'Sander lucioperca': 285,\n",
       " 'Stuckenia pectinata': 704,\n",
       " 'Zoarces viviparus': 287,\n",
       " 'Zannichellia palustris': 1524}"
      ]
     },
     "execution_count": null,
     "metadata": {},
     "output_type": "execute_result"
    }
   ],
   "source": [
    "{info['name']: info['id'] for info in species_lut.values() if info['name'] != ''}"
   ]
  },
  {
   "cell_type": "code",
   "execution_count": null,
   "id": "c81482c7",
   "metadata": {},
   "outputs": [],
   "source": [
    "#| export\n",
    "def encode(fname_in, fname_out, nc_tpl_path, **kwargs):\n",
    "    dfs = load_data(fname_in)\n",
    "    tfm = Transformer(dfs, cbs=[\n",
    "        LowerStripRdnNameCB(),\n",
    "        RemapRdnNameCB(),\n",
    "        ParseTimeCB(),\n",
    "        NormalizeUncUnitCB(),\n",
    "        LookupBiotaSpeciesCB(partial(get_maris_species, \n",
    "                                     fname_in, 'species_helcom.pkl')),\n",
    "        LookupBiotaBodyPartCB(get_bodypart),\n",
    "        LookupSedimentCB(get_sediment),\n",
    "        RenameColumnCB(),\n",
    "        ReshapeLongToWide(),\n",
    "        EncodeTimeCB(cfg()),\n",
    "        SanitizeLonLatCB()\n",
    "        ])\n",
    "    \n",
    "    species_lut = get_maris_species(fname_in, 'species_helcom.pkl')\n",
    "    enums_xtra = {\n",
    "        'species_t': {info['name']: info['id'] \n",
    "                      for info in species_lut.values() if info['name'] != ''}\n",
    "    }\n",
    "    \n",
    "    encoder = NetCDFEncoder(tfm(), \n",
    "                            src_fname=nc_tpl_path,\n",
    "                            dest_fname=fname_out, \n",
    "                            global_attrs=get_attrs(tfm, zotero_key='26VMZZ2Q', kw=kw),\n",
    "                            enums_xtra=enums_xtra,\n",
    "                            **kwargs)\n",
    "    encoder.encode()"
   ]
  },
  {
   "cell_type": "code",
   "execution_count": null,
   "id": "5fd973e4",
   "metadata": {},
   "outputs": [],
   "source": [
    "encode(fname_in, fname_out, nc_tpl_path(), verbose=False)"
   ]
  }
 ],
 "metadata": {
  "kernelspec": {
   "display_name": "Python 3 (ipykernel)",
   "language": "python",
   "name": "python3"
  }
 },
 "nbformat": 4,
 "nbformat_minor": 5
}

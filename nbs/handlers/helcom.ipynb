{
 "cells": [
  {
   "cell_type": "code",
   "execution_count": null,
   "id": "bb60862d",
   "metadata": {},
   "outputs": [],
   "source": [
    "#| default_exp handlers.helcom"
   ]
  },
  {
   "attachments": {},
   "cell_type": "markdown",
   "id": "f263111a",
   "metadata": {},
   "source": [
    "# HELCOM\n",
    "> Data pipeline (handler) to convert HELCOM data ([source](https://helcom.fi/about-us)) to `NetCDF` format\n",
    "\n",
    "The data is provided as a Microsoft Access database. `Mdbtools` (https://github.com/mdbtools/mdbtools) is used to convert tables into `.csv` files on Unix-like OS."
   ]
  },
  {
   "attachments": {},
   "cell_type": "markdown",
   "id": "b92a5c33",
   "metadata": {},
   "source": [
    "## Packages import"
   ]
  },
  {
   "cell_type": "code",
   "execution_count": null,
   "id": "0db45fee",
   "metadata": {},
   "outputs": [
    {
     "name": "stdout",
     "output_type": "stream",
     "text": [
      "The autoreload extension is already loaded. To reload it, use:\n",
      "  %reload_ext autoreload\n"
     ]
    }
   ],
   "source": [
    "%load_ext autoreload\n",
    "%autoreload 2"
   ]
  },
  {
   "cell_type": "code",
   "execution_count": null,
   "id": "3a8d979f",
   "metadata": {},
   "outputs": [],
   "source": [
    "#| export\n",
    "# import os\n",
    "\n",
    "import pandas as pd\n",
    "# import numpy as np\n",
    "from tqdm import tqdm\n",
    "from functools import partial\n",
    "import fastcore.all as fc\n",
    "\n",
    "from cftime import date2num\n",
    "from pathlib import Path\n",
    "from datetime import datetime\n",
    "import re\n",
    "\n",
    "from marisco.utils import (has_valid_varname, match_worms,\n",
    "                           Callback, Transformer)\n",
    "\n",
    "from marisco.metadata import (GlobAttrsFeeder, BboxCB,\n",
    "                              DepthRangeCB, TimeRangeCB,\n",
    "                              ZoteroCB, KeyValuePairCB)\n",
    "\n",
    "from marisco.serializers import to_netcdf\n",
    "from marisco.configs import get_nc_tpl_path, get_cfgs, BASE_PATH\n",
    "\n",
    "NC_TPL_PATH = get_nc_tpl_path()"
   ]
  },
  {
   "cell_type": "code",
   "execution_count": null,
   "id": "715e849d",
   "metadata": {},
   "outputs": [],
   "source": [
    "fname_in = '../../_data/accdb/mors/csv'\n",
    "fname_out = '../../_data/output/helcom.nc'"
   ]
  },
  {
   "attachments": {},
   "cell_type": "markdown",
   "id": "dd04abcd",
   "metadata": {},
   "source": [
    "## Utils"
   ]
  },
  {
   "cell_type": "code",
   "execution_count": null,
   "id": "c906677b",
   "metadata": {},
   "outputs": [],
   "source": [
    "#| export\n",
    "def load_data(src_dir,\n",
    "                smp_types=['SEA', 'SED', 'BIO']):\n",
    "    \"Load HELCOM data and return them as individual dataframe by sample type\"\n",
    "    dfs = {}\n",
    "    lut_smp_type = {'SEA': 'seawater', 'SED': 'sediment', 'BIO': 'biota'}\n",
    "    for smp_type in smp_types:\n",
    "        fname_meas = smp_type + '02.csv'\n",
    "        fname_smp = smp_type + '01.csv'\n",
    "        df = pd.merge(pd.read_csv(Path(src_dir)/fname_meas),  # measurements\n",
    "                      pd.read_csv(Path(src_dir)/fname_smp),  # sample\n",
    "                      on='KEY', how='left')\n",
    "        dfs[lut_smp_type[smp_type]] = df\n",
    "    return dfs\n",
    "\n",
    "\n",
    "def rename_cols(cols):\n",
    "    \"Flatten multiindex columns\"\n",
    "    new_cols = []\n",
    "    for outer, inner in cols:\n",
    "        if not inner:\n",
    "            new_cols.append(outer)\n",
    "        else:\n",
    "            if outer == 'unc':\n",
    "                new_cols.append(inner + '_' + outer)\n",
    "            if outer == 'value':\n",
    "                new_cols.append(inner)\n",
    "    return new_cols\n"
   ]
  },
  {
   "attachments": {},
   "cell_type": "markdown",
   "id": "5e534545",
   "metadata": {},
   "source": [
    "## Load tables"
   ]
  },
  {
   "cell_type": "code",
   "execution_count": null,
   "id": "bb4bf289",
   "metadata": {},
   "outputs": [],
   "source": [
    "dfs = load_data(fname_in)"
   ]
  },
  {
   "cell_type": "code",
   "execution_count": null,
   "id": "5cc0b32b",
   "metadata": {},
   "outputs": [
    {
     "data": {
      "text/html": [
       "<div>\n",
       "<style scoped>\n",
       "    .dataframe tbody tr th:only-of-type {\n",
       "        vertical-align: middle;\n",
       "    }\n",
       "\n",
       "    .dataframe tbody tr th {\n",
       "        vertical-align: top;\n",
       "    }\n",
       "\n",
       "    .dataframe thead th {\n",
       "        text-align: right;\n",
       "    }\n",
       "</style>\n",
       "<table border=\"1\" class=\"dataframe\">\n",
       "  <thead>\n",
       "    <tr style=\"text-align: right;\">\n",
       "      <th></th>\n",
       "      <th>KEY</th>\n",
       "      <th>NUCLIDE</th>\n",
       "      <th>METHOD</th>\n",
       "      <th>&lt; VALUE_Bq/m³</th>\n",
       "      <th>VALUE_Bq/m³</th>\n",
       "      <th>ERROR%_m³</th>\n",
       "      <th>DATE_OF_ENTRY_x</th>\n",
       "      <th>COUNTRY</th>\n",
       "      <th>LABORATORY</th>\n",
       "      <th>SEQUENCE</th>\n",
       "      <th>...</th>\n",
       "      <th>LONGITUDE (ddmmmm)</th>\n",
       "      <th>LONGITUDE (dddddd)</th>\n",
       "      <th>TDEPTH</th>\n",
       "      <th>SDEPTH</th>\n",
       "      <th>SALIN</th>\n",
       "      <th>TTEMP</th>\n",
       "      <th>FILT</th>\n",
       "      <th>MORS_SUBBASIN</th>\n",
       "      <th>HELCOM_SUBBASIN</th>\n",
       "      <th>DATE_OF_ENTRY_y</th>\n",
       "    </tr>\n",
       "  </thead>\n",
       "  <tbody>\n",
       "    <tr>\n",
       "      <th>0</th>\n",
       "      <td>WKRIL2012003</td>\n",
       "      <td>CS137</td>\n",
       "      <td>NaN</td>\n",
       "      <td>NaN</td>\n",
       "      <td>5.3</td>\n",
       "      <td>32.0</td>\n",
       "      <td>08/20/14 00:00:00</td>\n",
       "      <td>90</td>\n",
       "      <td>KRIL</td>\n",
       "      <td>2012003</td>\n",
       "      <td>...</td>\n",
       "      <td>29.20</td>\n",
       "      <td>29.3333</td>\n",
       "      <td>NaN</td>\n",
       "      <td>0.0</td>\n",
       "      <td>NaN</td>\n",
       "      <td>NaN</td>\n",
       "      <td>NaN</td>\n",
       "      <td>11</td>\n",
       "      <td>11</td>\n",
       "      <td>08/20/14 00:00:00</td>\n",
       "    </tr>\n",
       "    <tr>\n",
       "      <th>1</th>\n",
       "      <td>WKRIL2012004</td>\n",
       "      <td>CS137</td>\n",
       "      <td>NaN</td>\n",
       "      <td>NaN</td>\n",
       "      <td>19.9</td>\n",
       "      <td>20.0</td>\n",
       "      <td>08/20/14 00:00:00</td>\n",
       "      <td>90</td>\n",
       "      <td>KRIL</td>\n",
       "      <td>2012004</td>\n",
       "      <td>...</td>\n",
       "      <td>29.20</td>\n",
       "      <td>29.3333</td>\n",
       "      <td>NaN</td>\n",
       "      <td>29.0</td>\n",
       "      <td>NaN</td>\n",
       "      <td>NaN</td>\n",
       "      <td>NaN</td>\n",
       "      <td>11</td>\n",
       "      <td>11</td>\n",
       "      <td>08/20/14 00:00:00</td>\n",
       "    </tr>\n",
       "    <tr>\n",
       "      <th>2</th>\n",
       "      <td>WKRIL2012005</td>\n",
       "      <td>CS137</td>\n",
       "      <td>NaN</td>\n",
       "      <td>NaN</td>\n",
       "      <td>25.5</td>\n",
       "      <td>20.0</td>\n",
       "      <td>08/20/14 00:00:00</td>\n",
       "      <td>90</td>\n",
       "      <td>KRIL</td>\n",
       "      <td>2012005</td>\n",
       "      <td>...</td>\n",
       "      <td>23.09</td>\n",
       "      <td>23.1500</td>\n",
       "      <td>NaN</td>\n",
       "      <td>0.0</td>\n",
       "      <td>NaN</td>\n",
       "      <td>NaN</td>\n",
       "      <td>NaN</td>\n",
       "      <td>11</td>\n",
       "      <td>3</td>\n",
       "      <td>08/20/14 00:00:00</td>\n",
       "    </tr>\n",
       "    <tr>\n",
       "      <th>3</th>\n",
       "      <td>WKRIL2012006</td>\n",
       "      <td>CS137</td>\n",
       "      <td>NaN</td>\n",
       "      <td>NaN</td>\n",
       "      <td>17.0</td>\n",
       "      <td>29.0</td>\n",
       "      <td>08/20/14 00:00:00</td>\n",
       "      <td>90</td>\n",
       "      <td>KRIL</td>\n",
       "      <td>2012006</td>\n",
       "      <td>...</td>\n",
       "      <td>27.59</td>\n",
       "      <td>27.9833</td>\n",
       "      <td>NaN</td>\n",
       "      <td>0.0</td>\n",
       "      <td>NaN</td>\n",
       "      <td>NaN</td>\n",
       "      <td>NaN</td>\n",
       "      <td>11</td>\n",
       "      <td>11</td>\n",
       "      <td>08/20/14 00:00:00</td>\n",
       "    </tr>\n",
       "    <tr>\n",
       "      <th>4</th>\n",
       "      <td>WKRIL2012007</td>\n",
       "      <td>CS137</td>\n",
       "      <td>NaN</td>\n",
       "      <td>NaN</td>\n",
       "      <td>22.2</td>\n",
       "      <td>18.0</td>\n",
       "      <td>08/20/14 00:00:00</td>\n",
       "      <td>90</td>\n",
       "      <td>KRIL</td>\n",
       "      <td>2012007</td>\n",
       "      <td>...</td>\n",
       "      <td>27.59</td>\n",
       "      <td>27.9833</td>\n",
       "      <td>NaN</td>\n",
       "      <td>39.0</td>\n",
       "      <td>NaN</td>\n",
       "      <td>NaN</td>\n",
       "      <td>NaN</td>\n",
       "      <td>11</td>\n",
       "      <td>11</td>\n",
       "      <td>08/20/14 00:00:00</td>\n",
       "    </tr>\n",
       "  </tbody>\n",
       "</table>\n",
       "<p>5 rows × 27 columns</p>\n",
       "</div>"
      ],
      "text/plain": [
       "            KEY NUCLIDE METHOD < VALUE_Bq/m³  VALUE_Bq/m³  ERROR%_m³  \\\n",
       "0  WKRIL2012003   CS137    NaN           NaN          5.3       32.0   \n",
       "1  WKRIL2012004   CS137    NaN           NaN         19.9       20.0   \n",
       "2  WKRIL2012005   CS137    NaN           NaN         25.5       20.0   \n",
       "3  WKRIL2012006   CS137    NaN           NaN         17.0       29.0   \n",
       "4  WKRIL2012007   CS137    NaN           NaN         22.2       18.0   \n",
       "\n",
       "     DATE_OF_ENTRY_x  COUNTRY LABORATORY  SEQUENCE  ... LONGITUDE (ddmmmm)  \\\n",
       "0  08/20/14 00:00:00       90       KRIL   2012003  ...              29.20   \n",
       "1  08/20/14 00:00:00       90       KRIL   2012004  ...              29.20   \n",
       "2  08/20/14 00:00:00       90       KRIL   2012005  ...              23.09   \n",
       "3  08/20/14 00:00:00       90       KRIL   2012006  ...              27.59   \n",
       "4  08/20/14 00:00:00       90       KRIL   2012007  ...              27.59   \n",
       "\n",
       "   LONGITUDE (dddddd)  TDEPTH  SDEPTH SALIN  TTEMP  FILT  MORS_SUBBASIN  \\\n",
       "0             29.3333     NaN     0.0   NaN    NaN   NaN             11   \n",
       "1             29.3333     NaN    29.0   NaN    NaN   NaN             11   \n",
       "2             23.1500     NaN     0.0   NaN    NaN   NaN             11   \n",
       "3             27.9833     NaN     0.0   NaN    NaN   NaN             11   \n",
       "4             27.9833     NaN    39.0   NaN    NaN   NaN             11   \n",
       "\n",
       "   HELCOM_SUBBASIN    DATE_OF_ENTRY_y  \n",
       "0               11  08/20/14 00:00:00  \n",
       "1               11  08/20/14 00:00:00  \n",
       "2                3  08/20/14 00:00:00  \n",
       "3               11  08/20/14 00:00:00  \n",
       "4               11  08/20/14 00:00:00  \n",
       "\n",
       "[5 rows x 27 columns]"
      ]
     },
     "execution_count": null,
     "metadata": {},
     "output_type": "execute_result"
    }
   ],
   "source": [
    "dfs['seawater'].head()"
   ]
  },
  {
   "cell_type": "code",
   "execution_count": null,
   "id": "1ac781a0",
   "metadata": {},
   "outputs": [
    {
     "data": {
      "text/html": [
       "<div>\n",
       "<style scoped>\n",
       "    .dataframe tbody tr th:only-of-type {\n",
       "        vertical-align: middle;\n",
       "    }\n",
       "\n",
       "    .dataframe tbody tr th {\n",
       "        vertical-align: top;\n",
       "    }\n",
       "\n",
       "    .dataframe thead th {\n",
       "        text-align: right;\n",
       "    }\n",
       "</style>\n",
       "<table border=\"1\" class=\"dataframe\">\n",
       "  <thead>\n",
       "    <tr style=\"text-align: right;\">\n",
       "      <th></th>\n",
       "      <th>KEY</th>\n",
       "      <th>NUCLIDE</th>\n",
       "      <th>METHOD</th>\n",
       "      <th>&lt; VALUE_Bq/kg</th>\n",
       "      <th>VALUE_Bq/kg</th>\n",
       "      <th>BASIS</th>\n",
       "      <th>ERROR%</th>\n",
       "      <th>NUMBER</th>\n",
       "      <th>DATE_OF_ENTRY_x</th>\n",
       "      <th>COUNTRY</th>\n",
       "      <th>...</th>\n",
       "      <th>BIOTATYPE</th>\n",
       "      <th>TISSUE</th>\n",
       "      <th>NO</th>\n",
       "      <th>LENGTH</th>\n",
       "      <th>WEIGHT</th>\n",
       "      <th>DW%</th>\n",
       "      <th>LOI%</th>\n",
       "      <th>MORS_SUBBASIN</th>\n",
       "      <th>HELCOM_SUBBASIN</th>\n",
       "      <th>DATE_OF_ENTRY_y</th>\n",
       "    </tr>\n",
       "  </thead>\n",
       "  <tbody>\n",
       "    <tr>\n",
       "      <th>0</th>\n",
       "      <td>BVTIG2012041</td>\n",
       "      <td>CS134</td>\n",
       "      <td>VTIG01</td>\n",
       "      <td>&lt;</td>\n",
       "      <td>0.010140</td>\n",
       "      <td>W</td>\n",
       "      <td>NaN</td>\n",
       "      <td>NaN</td>\n",
       "      <td>02/27/14 00:00:00</td>\n",
       "      <td>6.0</td>\n",
       "      <td>...</td>\n",
       "      <td>F</td>\n",
       "      <td>5</td>\n",
       "      <td>16.0</td>\n",
       "      <td>45.7</td>\n",
       "      <td>948.0</td>\n",
       "      <td>18.453</td>\n",
       "      <td>92.9</td>\n",
       "      <td>2</td>\n",
       "      <td>16</td>\n",
       "      <td>02/27/14 00:00:00</td>\n",
       "    </tr>\n",
       "    <tr>\n",
       "      <th>1</th>\n",
       "      <td>BVTIG2012041</td>\n",
       "      <td>K40</td>\n",
       "      <td>VTIG01</td>\n",
       "      <td></td>\n",
       "      <td>135.300000</td>\n",
       "      <td>W</td>\n",
       "      <td>3.57</td>\n",
       "      <td>NaN</td>\n",
       "      <td>02/27/14 00:00:00</td>\n",
       "      <td>6.0</td>\n",
       "      <td>...</td>\n",
       "      <td>F</td>\n",
       "      <td>5</td>\n",
       "      <td>16.0</td>\n",
       "      <td>45.7</td>\n",
       "      <td>948.0</td>\n",
       "      <td>18.453</td>\n",
       "      <td>92.9</td>\n",
       "      <td>2</td>\n",
       "      <td>16</td>\n",
       "      <td>02/27/14 00:00:00</td>\n",
       "    </tr>\n",
       "    <tr>\n",
       "      <th>2</th>\n",
       "      <td>BVTIG2012041</td>\n",
       "      <td>CO60</td>\n",
       "      <td>VTIG01</td>\n",
       "      <td>&lt;</td>\n",
       "      <td>0.013980</td>\n",
       "      <td>W</td>\n",
       "      <td>NaN</td>\n",
       "      <td>NaN</td>\n",
       "      <td>02/27/14 00:00:00</td>\n",
       "      <td>6.0</td>\n",
       "      <td>...</td>\n",
       "      <td>F</td>\n",
       "      <td>5</td>\n",
       "      <td>16.0</td>\n",
       "      <td>45.7</td>\n",
       "      <td>948.0</td>\n",
       "      <td>18.453</td>\n",
       "      <td>92.9</td>\n",
       "      <td>2</td>\n",
       "      <td>16</td>\n",
       "      <td>02/27/14 00:00:00</td>\n",
       "    </tr>\n",
       "    <tr>\n",
       "      <th>3</th>\n",
       "      <td>BVTIG2012041</td>\n",
       "      <td>CS137</td>\n",
       "      <td>VTIG01</td>\n",
       "      <td></td>\n",
       "      <td>4.338000</td>\n",
       "      <td>W</td>\n",
       "      <td>3.48</td>\n",
       "      <td>NaN</td>\n",
       "      <td>02/27/14 00:00:00</td>\n",
       "      <td>6.0</td>\n",
       "      <td>...</td>\n",
       "      <td>F</td>\n",
       "      <td>5</td>\n",
       "      <td>16.0</td>\n",
       "      <td>45.7</td>\n",
       "      <td>948.0</td>\n",
       "      <td>18.453</td>\n",
       "      <td>92.9</td>\n",
       "      <td>2</td>\n",
       "      <td>16</td>\n",
       "      <td>02/27/14 00:00:00</td>\n",
       "    </tr>\n",
       "    <tr>\n",
       "      <th>4</th>\n",
       "      <td>BVTIG2012040</td>\n",
       "      <td>CS134</td>\n",
       "      <td>VTIG01</td>\n",
       "      <td>&lt;</td>\n",
       "      <td>0.009614</td>\n",
       "      <td>W</td>\n",
       "      <td>NaN</td>\n",
       "      <td>NaN</td>\n",
       "      <td>02/27/14 00:00:00</td>\n",
       "      <td>6.0</td>\n",
       "      <td>...</td>\n",
       "      <td>F</td>\n",
       "      <td>5</td>\n",
       "      <td>17.0</td>\n",
       "      <td>45.9</td>\n",
       "      <td>964.0</td>\n",
       "      <td>18.458</td>\n",
       "      <td>92.9</td>\n",
       "      <td>2</td>\n",
       "      <td>16</td>\n",
       "      <td>02/27/14 00:00:00</td>\n",
       "    </tr>\n",
       "  </tbody>\n",
       "</table>\n",
       "<p>5 rows × 33 columns</p>\n",
       "</div>"
      ],
      "text/plain": [
       "            KEY   NUCLIDE  METHOD < VALUE_Bq/kg  VALUE_Bq/kg BASIS  ERROR%  \\\n",
       "0  BVTIG2012041  CS134     VTIG01             <     0.010140     W     NaN   \n",
       "1  BVTIG2012041  K40       VTIG01                 135.300000     W    3.57   \n",
       "2  BVTIG2012041  CO60      VTIG01             <     0.013980     W     NaN   \n",
       "3  BVTIG2012041  CS137     VTIG01                   4.338000     W    3.48   \n",
       "4  BVTIG2012040  CS134     VTIG01             <     0.009614     W     NaN   \n",
       "\n",
       "   NUMBER    DATE_OF_ENTRY_x  COUNTRY  ... BIOTATYPE  TISSUE    NO  LENGTH  \\\n",
       "0     NaN  02/27/14 00:00:00      6.0  ...         F       5  16.0    45.7   \n",
       "1     NaN  02/27/14 00:00:00      6.0  ...         F       5  16.0    45.7   \n",
       "2     NaN  02/27/14 00:00:00      6.0  ...         F       5  16.0    45.7   \n",
       "3     NaN  02/27/14 00:00:00      6.0  ...         F       5  16.0    45.7   \n",
       "4     NaN  02/27/14 00:00:00      6.0  ...         F       5  17.0    45.9   \n",
       "\n",
       "   WEIGHT     DW%  LOI%  MORS_SUBBASIN  HELCOM_SUBBASIN    DATE_OF_ENTRY_y  \n",
       "0   948.0  18.453  92.9              2               16  02/27/14 00:00:00  \n",
       "1   948.0  18.453  92.9              2               16  02/27/14 00:00:00  \n",
       "2   948.0  18.453  92.9              2               16  02/27/14 00:00:00  \n",
       "3   948.0  18.453  92.9              2               16  02/27/14 00:00:00  \n",
       "4   964.0  18.458  92.9              2               16  02/27/14 00:00:00  \n",
       "\n",
       "[5 rows x 33 columns]"
      ]
     },
     "execution_count": null,
     "metadata": {},
     "output_type": "execute_result"
    }
   ],
   "source": [
    "dfs['biota'].head()"
   ]
  },
  {
   "cell_type": "code",
   "execution_count": null,
   "id": "b6013611",
   "metadata": {},
   "outputs": [
    {
     "data": {
      "text/html": [
       "<div>\n",
       "<style scoped>\n",
       "    .dataframe tbody tr th:only-of-type {\n",
       "        vertical-align: middle;\n",
       "    }\n",
       "\n",
       "    .dataframe tbody tr th {\n",
       "        vertical-align: top;\n",
       "    }\n",
       "\n",
       "    .dataframe thead th {\n",
       "        text-align: right;\n",
       "    }\n",
       "</style>\n",
       "<table border=\"1\" class=\"dataframe\">\n",
       "  <thead>\n",
       "    <tr style=\"text-align: right;\">\n",
       "      <th></th>\n",
       "      <th>KEY</th>\n",
       "      <th>NUCLIDE</th>\n",
       "      <th>METHOD</th>\n",
       "      <th>&lt; VALUE_Bq/kg</th>\n",
       "      <th>VALUE_Bq/kg</th>\n",
       "      <th>ERROR%_kg</th>\n",
       "      <th>&lt; VALUE_Bq/m²</th>\n",
       "      <th>VALUE_Bq/m²</th>\n",
       "      <th>ERROR%_m²</th>\n",
       "      <th>DATE_OF_ENTRY_x</th>\n",
       "      <th>...</th>\n",
       "      <th>LOWSLI</th>\n",
       "      <th>AREA</th>\n",
       "      <th>SEDI</th>\n",
       "      <th>OXIC</th>\n",
       "      <th>DW%</th>\n",
       "      <th>LOI%</th>\n",
       "      <th>MORS_SUBBASIN</th>\n",
       "      <th>HELCOM_SUBBASIN</th>\n",
       "      <th>SUM_LINK</th>\n",
       "      <th>DATE_OF_ENTRY_y</th>\n",
       "    </tr>\n",
       "  </thead>\n",
       "  <tbody>\n",
       "    <tr>\n",
       "      <th>0</th>\n",
       "      <td>SKRIL2012048</td>\n",
       "      <td>RA226</td>\n",
       "      <td>NaN</td>\n",
       "      <td>NaN</td>\n",
       "      <td>35.0</td>\n",
       "      <td>26.0</td>\n",
       "      <td>NaN</td>\n",
       "      <td>NaN</td>\n",
       "      <td>NaN</td>\n",
       "      <td>08/20/14 00:00:00</td>\n",
       "      <td>...</td>\n",
       "      <td>20.0</td>\n",
       "      <td>0.006</td>\n",
       "      <td>NaN</td>\n",
       "      <td>NaN</td>\n",
       "      <td>NaN</td>\n",
       "      <td>NaN</td>\n",
       "      <td>11.0</td>\n",
       "      <td>11.0</td>\n",
       "      <td>NaN</td>\n",
       "      <td>08/20/14 00:00:00</td>\n",
       "    </tr>\n",
       "    <tr>\n",
       "      <th>1</th>\n",
       "      <td>SKRIL2012049</td>\n",
       "      <td>RA226</td>\n",
       "      <td>NaN</td>\n",
       "      <td>NaN</td>\n",
       "      <td>36.0</td>\n",
       "      <td>22.0</td>\n",
       "      <td>NaN</td>\n",
       "      <td>NaN</td>\n",
       "      <td>NaN</td>\n",
       "      <td>08/20/14 00:00:00</td>\n",
       "      <td>...</td>\n",
       "      <td>27.0</td>\n",
       "      <td>0.006</td>\n",
       "      <td>NaN</td>\n",
       "      <td>NaN</td>\n",
       "      <td>NaN</td>\n",
       "      <td>NaN</td>\n",
       "      <td>11.0</td>\n",
       "      <td>11.0</td>\n",
       "      <td>NaN</td>\n",
       "      <td>08/20/14 00:00:00</td>\n",
       "    </tr>\n",
       "    <tr>\n",
       "      <th>2</th>\n",
       "      <td>SKRIL2012050</td>\n",
       "      <td>RA226</td>\n",
       "      <td>NaN</td>\n",
       "      <td>NaN</td>\n",
       "      <td>38.0</td>\n",
       "      <td>24.0</td>\n",
       "      <td>NaN</td>\n",
       "      <td>NaN</td>\n",
       "      <td>NaN</td>\n",
       "      <td>08/20/14 00:00:00</td>\n",
       "      <td>...</td>\n",
       "      <td>2.0</td>\n",
       "      <td>0.006</td>\n",
       "      <td>NaN</td>\n",
       "      <td>NaN</td>\n",
       "      <td>NaN</td>\n",
       "      <td>NaN</td>\n",
       "      <td>11.0</td>\n",
       "      <td>11.0</td>\n",
       "      <td>NaN</td>\n",
       "      <td>08/20/14 00:00:00</td>\n",
       "    </tr>\n",
       "    <tr>\n",
       "      <th>3</th>\n",
       "      <td>SKRIL2012051</td>\n",
       "      <td>RA226</td>\n",
       "      <td>NaN</td>\n",
       "      <td>NaN</td>\n",
       "      <td>36.0</td>\n",
       "      <td>25.0</td>\n",
       "      <td>NaN</td>\n",
       "      <td>NaN</td>\n",
       "      <td>NaN</td>\n",
       "      <td>08/20/14 00:00:00</td>\n",
       "      <td>...</td>\n",
       "      <td>4.0</td>\n",
       "      <td>0.006</td>\n",
       "      <td>NaN</td>\n",
       "      <td>NaN</td>\n",
       "      <td>NaN</td>\n",
       "      <td>NaN</td>\n",
       "      <td>11.0</td>\n",
       "      <td>11.0</td>\n",
       "      <td>NaN</td>\n",
       "      <td>08/20/14 00:00:00</td>\n",
       "    </tr>\n",
       "    <tr>\n",
       "      <th>4</th>\n",
       "      <td>SKRIL2012052</td>\n",
       "      <td>RA226</td>\n",
       "      <td>NaN</td>\n",
       "      <td>NaN</td>\n",
       "      <td>30.0</td>\n",
       "      <td>23.0</td>\n",
       "      <td>NaN</td>\n",
       "      <td>NaN</td>\n",
       "      <td>NaN</td>\n",
       "      <td>08/20/14 00:00:00</td>\n",
       "      <td>...</td>\n",
       "      <td>6.0</td>\n",
       "      <td>0.006</td>\n",
       "      <td>NaN</td>\n",
       "      <td>NaN</td>\n",
       "      <td>NaN</td>\n",
       "      <td>NaN</td>\n",
       "      <td>11.0</td>\n",
       "      <td>11.0</td>\n",
       "      <td>NaN</td>\n",
       "      <td>08/20/14 00:00:00</td>\n",
       "    </tr>\n",
       "  </tbody>\n",
       "</table>\n",
       "<p>5 rows × 35 columns</p>\n",
       "</div>"
      ],
      "text/plain": [
       "            KEY NUCLIDE METHOD < VALUE_Bq/kg  VALUE_Bq/kg  ERROR%_kg  \\\n",
       "0  SKRIL2012048   RA226    NaN           NaN         35.0       26.0   \n",
       "1  SKRIL2012049   RA226    NaN           NaN         36.0       22.0   \n",
       "2  SKRIL2012050   RA226    NaN           NaN         38.0       24.0   \n",
       "3  SKRIL2012051   RA226    NaN           NaN         36.0       25.0   \n",
       "4  SKRIL2012052   RA226    NaN           NaN         30.0       23.0   \n",
       "\n",
       "  < VALUE_Bq/m²  VALUE_Bq/m²  ERROR%_m²    DATE_OF_ENTRY_x  ...  LOWSLI  \\\n",
       "0           NaN          NaN        NaN  08/20/14 00:00:00  ...    20.0   \n",
       "1           NaN          NaN        NaN  08/20/14 00:00:00  ...    27.0   \n",
       "2           NaN          NaN        NaN  08/20/14 00:00:00  ...     2.0   \n",
       "3           NaN          NaN        NaN  08/20/14 00:00:00  ...     4.0   \n",
       "4           NaN          NaN        NaN  08/20/14 00:00:00  ...     6.0   \n",
       "\n",
       "    AREA  SEDI OXIC  DW%  LOI%  MORS_SUBBASIN HELCOM_SUBBASIN  SUM_LINK  \\\n",
       "0  0.006   NaN  NaN  NaN   NaN           11.0            11.0       NaN   \n",
       "1  0.006   NaN  NaN  NaN   NaN           11.0            11.0       NaN   \n",
       "2  0.006   NaN  NaN  NaN   NaN           11.0            11.0       NaN   \n",
       "3  0.006   NaN  NaN  NaN   NaN           11.0            11.0       NaN   \n",
       "4  0.006   NaN  NaN  NaN   NaN           11.0            11.0       NaN   \n",
       "\n",
       "     DATE_OF_ENTRY_y  \n",
       "0  08/20/14 00:00:00  \n",
       "1  08/20/14 00:00:00  \n",
       "2  08/20/14 00:00:00  \n",
       "3  08/20/14 00:00:00  \n",
       "4  08/20/14 00:00:00  \n",
       "\n",
       "[5 rows x 35 columns]"
      ]
     },
     "execution_count": null,
     "metadata": {},
     "output_type": "execute_result"
    }
   ],
   "source": [
    "dfs['sediment'].head()"
   ]
  },
  {
   "attachments": {},
   "cell_type": "markdown",
   "id": "0d68abc3",
   "metadata": {},
   "source": [
    "## Data transformation pipeline"
   ]
  },
  {
   "attachments": {},
   "cell_type": "markdown",
   "id": "142ddab3",
   "metadata": {},
   "source": [
    "### Normalize nuclide names"
   ]
  },
  {
   "attachments": {},
   "cell_type": "markdown",
   "id": "8a2311cd",
   "metadata": {},
   "source": [
    "#### Lower & strip"
   ]
  },
  {
   "cell_type": "code",
   "execution_count": null,
   "id": "5b10f032",
   "metadata": {},
   "outputs": [],
   "source": [
    "#| export\n",
    "class LowerStripRdnNameCB(Callback):\n",
    "    \"Convert nuclide names to lowercase & strip any trailing space(s)\"\n",
    "\n",
    "    def __call__(self, tfm):\n",
    "        for k in tfm.dfs.keys():\n",
    "            tfm.dfs[k]['NUCLIDE'] = tfm.dfs[k]['NUCLIDE'].apply(\n",
    "                lambda x: x.lower().strip())"
   ]
  },
  {
   "cell_type": "code",
   "execution_count": null,
   "id": "8a3fa068",
   "metadata": {},
   "outputs": [
    {
     "name": "stdout",
     "output_type": "stream",
     "text": [
      "['cs137' 'sr90' 'h3' 'cs134' 'pu238' 'pu239240' 'am241' 'cm242' 'cm244'\n",
      " 'tc99' 'k40' 'ru103' 'sr89' 'sb125' 'nb95' 'ru106' 'zr95' 'ag110m'\n",
      " 'cm243244' 'ba140' 'ce144' 'u234' 'u238' 'co60' 'pu239' 'pb210' 'po210'\n",
      " 'np237' 'pu240' 'mn54']\n"
     ]
    }
   ],
   "source": [
    "dfs = load_data(fname_in)\n",
    "tfm = Transformer(dfs, cbs=[LowerStripRdnNameCB()])\n",
    "print(tfm()['seawater']['NUCLIDE'].unique())"
   ]
  },
  {
   "attachments": {},
   "cell_type": "markdown",
   "id": "52c9d0fe",
   "metadata": {},
   "source": [
    "#### Remap to MARIS nuclide names "
   ]
  },
  {
   "cell_type": "code",
   "execution_count": null,
   "id": "bbf213bb",
   "metadata": {},
   "outputs": [],
   "source": [
    "#| export\n",
    "def get_unique_nuclides(dfs):\n",
    "    \"Get list of unique radionuclide types measured across samples\"\n",
    "    nuclides = []\n",
    "    for k in dfs.keys():\n",
    "        nuclides += dfs[k]['NUCLIDE'].unique().tolist()\n",
    "    return nuclides"
   ]
  },
  {
   "cell_type": "code",
   "execution_count": null,
   "id": "a68dacd0",
   "metadata": {},
   "outputs": [
    {
     "name": "stdout",
     "output_type": "stream",
     "text": [
      "\"pu239240\" variable name not found in MARIS CDL\n",
      "\"cm243244\" variable name not found in MARIS CDL\n",
      "\"cs134137\" variable name not found in MARIS CDL\n",
      "\"pu239240\" variable name not found in MARIS CDL\n",
      "\"pu238240\" variable name not found in MARIS CDL\n",
      "\"pu239240\" variable name not found in MARIS CDL\n",
      "\"cs134137\" variable name not found in MARIS CDL\n",
      "\"k-40\" variable name not found in MARIS CDL\n",
      "\"cs138\" variable name not found in MARIS CDL\n",
      "\"cs139\" variable name not found in MARIS CDL\n",
      "\"cs140\" variable name not found in MARIS CDL\n",
      "\"cs141\" variable name not found in MARIS CDL\n",
      "\"cs142\" variable name not found in MARIS CDL\n",
      "\"cs143\" variable name not found in MARIS CDL\n",
      "\"cs144\" variable name not found in MARIS CDL\n",
      "\"cs145\" variable name not found in MARIS CDL\n",
      "\"cs146\" variable name not found in MARIS CDL\n"
     ]
    },
    {
     "data": {
      "text/plain": [
       "False"
      ]
     },
     "execution_count": null,
     "metadata": {},
     "output_type": "execute_result"
    }
   ],
   "source": [
    "# Check if these variable names consistent with MARIS CDL\n",
    "has_valid_varname(get_unique_nuclides(tfm.dfs), NC_TPL_PATH)"
   ]
  },
  {
   "cell_type": "code",
   "execution_count": null,
   "id": "b4abac95",
   "metadata": {},
   "outputs": [],
   "source": [
    "#| export\n",
    "varnames_lut_updates = {\n",
    "    'k-40': 'k40',\n",
    "    'cm243244': 'cm243_244_tot',\n",
    "    'cs134137': 'cs134_137_tot',\n",
    "    'pu239240': 'pu239_240_tot',\n",
    "    'pu238240': 'pu238_240_tot'}\n"
   ]
  },
  {
   "cell_type": "code",
   "execution_count": null,
   "id": "90557494",
   "metadata": {},
   "outputs": [],
   "source": [
    "#| export\n",
    "def get_varnames_lut(dfs, lut=varnames_lut_updates):\n",
    "    lut = {n: n for n in set(get_unique_nuclides(dfs))}\n",
    "    lut.update(varnames_lut_updates)\n",
    "    return lut\n"
   ]
  },
  {
   "cell_type": "code",
   "execution_count": null,
   "id": "8c083a1f",
   "metadata": {},
   "outputs": [],
   "source": [
    "varnames_lut = partial(get_varnames_lut, lut=varnames_lut_updates)(tfm.dfs)"
   ]
  },
  {
   "cell_type": "code",
   "execution_count": null,
   "id": "6f6b7d0a",
   "metadata": {},
   "outputs": [],
   "source": [
    "# | export\n",
    "class RemapRdnNameCB(Callback):\n",
    "    \"Remap to MARIS radionuclide names\"\n",
    "\n",
    "    def __init__(self,\n",
    "                 fn_lut=partial(get_varnames_lut, lut=varnames_lut_updates)):\n",
    "        fc.store_attr()\n",
    "\n",
    "    def __call__(self, tfm):\n",
    "        lut = self.fn_lut(tfm.dfs)\n",
    "        for k in tfm.dfs.keys():\n",
    "            tfm.dfs[k]['NUCLIDE'].replace(lut, inplace=True)"
   ]
  },
  {
   "cell_type": "code",
   "execution_count": null,
   "id": "1c075d97",
   "metadata": {},
   "outputs": [
    {
     "name": "stdout",
     "output_type": "stream",
     "text": [
      "['cs134' 'k40' 'co60' 'cs137' 'sr90' 'ag108m' 'mn54' 'co58' 'ag110m'\n",
      " 'zn65' 'sb125' 'pu239_240_tot' 'ru106' 'be7' 'ce144' 'pb210' 'po210'\n",
      " 'sb124' 'sr89' 'zr95' 'te129m' 'ru103' 'nb95' 'ce141' 'la140' 'i131'\n",
      " 'ba140' 'pu238' 'u235' 'bi214' 'pb214' 'pb212' 'tl208' 'ac228' 'ra223'\n",
      " 'eu155' 'ra226' 'gd153' 'sn113' 'fe59' 'tc99' 'co57' 'sn117m' 'eu152'\n",
      " 'sc46' 'rb86' 'ra224' 'th232' 'cs134_137_tot' 'am241' 'ra228' 'th228'\n",
      " 'cs138' 'cs139' 'cs140' 'cs141' 'cs142' 'cs143' 'cs144' 'cs145' 'cs146']\n"
     ]
    }
   ],
   "source": [
    "dfs = load_data(fname_in)\n",
    "tfm = Transformer(dfs, cbs=[LowerStripRdnNameCB(),\n",
    "                            RemapRdnNameCB()])\n",
    "\n",
    "print(tfm()['biota']['NUCLIDE'].unique())"
   ]
  },
  {
   "cell_type": "code",
   "execution_count": null,
   "id": "3c644322",
   "metadata": {},
   "outputs": [
    {
     "name": "stdout",
     "output_type": "stream",
     "text": [
      "\"cs138\" variable name not found in MARIS CDL\n",
      "\"cs139\" variable name not found in MARIS CDL\n",
      "\"cs140\" variable name not found in MARIS CDL\n",
      "\"cs141\" variable name not found in MARIS CDL\n",
      "\"cs142\" variable name not found in MARIS CDL\n",
      "\"cs143\" variable name not found in MARIS CDL\n",
      "\"cs144\" variable name not found in MARIS CDL\n",
      "\"cs145\" variable name not found in MARIS CDL\n",
      "\"cs146\" variable name not found in MARIS CDL\n"
     ]
    },
    {
     "data": {
      "text/plain": [
       "False"
      ]
     },
     "execution_count": null,
     "metadata": {},
     "output_type": "execute_result"
    }
   ],
   "source": [
    "has_valid_varname(get_unique_nuclides(tfm.dfs), NC_TPL_PATH)\n"
   ]
  },
  {
   "attachments": {},
   "cell_type": "markdown",
   "id": "4aaaf96a",
   "metadata": {},
   "source": [
    "### Parse time"
   ]
  },
  {
   "cell_type": "code",
   "execution_count": null,
   "id": "ed0aab29",
   "metadata": {},
   "outputs": [],
   "source": [
    "#| export\n",
    "class ParseTimeCB(Callback):\n",
    "    def __call__(self, tfm):\n",
    "        #format_time = lambda x: date2num(x, units=get_cfgs('units')['time'])\n",
    "        for k in tfm.dfs.keys():\n",
    "            # Parse\n",
    "            tfm.dfs[k]['time'] = pd.to_datetime(\n",
    "                tfm.dfs[k].DATE, infer_datetime_format=True)"
   ]
  },
  {
   "cell_type": "code",
   "execution_count": null,
   "id": "f2b90d07",
   "metadata": {},
   "outputs": [
    {
     "name": "stdout",
     "output_type": "stream",
     "text": [
      "0   2012-05-23\n",
      "1   2012-05-23\n",
      "2   2012-06-17\n",
      "3   2012-05-24\n",
      "4   2012-05-24\n",
      "Name: time, dtype: datetime64[ns]\n"
     ]
    }
   ],
   "source": [
    "dfs = load_data(fname_in)\n",
    "tfm = Transformer(dfs, cbs=[LowerStripRdnNameCB(),\n",
    "                            RemapRdnNameCB(),\n",
    "                            ParseTimeCB()])\n",
    "\n",
    "print(tfm()['seawater']['time'][:5])\n"
   ]
  },
  {
   "attachments": {},
   "cell_type": "markdown",
   "id": "be199c49",
   "metadata": {},
   "source": [
    "### Normalize uncertainty units"
   ]
  },
  {
   "cell_type": "code",
   "execution_count": null,
   "id": "76077d40",
   "metadata": {},
   "outputs": [],
   "source": [
    "#| export\n",
    "# Make measurement and uncertainty units consistent\n",
    "def fix_units(df, meas_col, unc_col):\n",
    "    return df.apply(lambda row: row[unc_col] * row[meas_col]/100, axis=1)\n"
   ]
  },
  {
   "cell_type": "code",
   "execution_count": null,
   "id": "b231b09b",
   "metadata": {},
   "outputs": [],
   "source": [
    "#| export\n",
    "# Columns of interest\n",
    "coi_units_unc = [('seawater', 'VALUE_Bq/m³', 'ERROR%_m³'),\n",
    "                 ('biota', 'VALUE_Bq/kg', 'ERROR%'),\n",
    "                 ('sediment', 'VALUE_Bq/kg', 'ERROR%_kg')]"
   ]
  },
  {
   "cell_type": "code",
   "execution_count": null,
   "id": "5cf262ed",
   "metadata": {},
   "outputs": [],
   "source": [
    "#| export\n",
    "class NormalizeUncUnitCB(Callback):\n",
    "    \"Convert uncertainty from % to activity unit\"\n",
    "\n",
    "    def __init__(self, coi=coi_units_unc): fc.store_attr()\n",
    "\n",
    "    def __call__(self, tfm):\n",
    "        for grp, val, unc in self.coi:\n",
    "            tfm.dfs[grp][unc] = self.fix_units(tfm.dfs[grp], val, unc)\n",
    "\n",
    "    def fix_units(self, df, meas_col, unc_col):\n",
    "        return df.apply(lambda row: row[unc_col] * row[meas_col]/100, axis=1)"
   ]
  },
  {
   "cell_type": "code",
   "execution_count": null,
   "id": "fd9e14e2",
   "metadata": {},
   "outputs": [
    {
     "name": "stdout",
     "output_type": "stream",
     "text": [
      "   VALUE_Bq/m³  ERROR%_m³\n",
      "0          5.3      1.696\n",
      "1         19.9      3.980\n",
      "2         25.5      5.100\n",
      "3         17.0      4.930\n",
      "4         22.2      3.996\n"
     ]
    }
   ],
   "source": [
    "dfs = load_data(fname_in)\n",
    "tfm = Transformer(dfs, cbs=[LowerStripRdnNameCB(),\n",
    "                            RemapRdnNameCB(),\n",
    "                            ParseTimeCB(),\n",
    "                            NormalizeUncUnitCB()])\n",
    "\n",
    "print(tfm()['seawater'][['VALUE_Bq/m³', 'ERROR%_m³']][:5])"
   ]
  },
  {
   "attachments": {},
   "cell_type": "markdown",
   "id": "5868c16b",
   "metadata": {},
   "source": [
    "### Lookup biota species"
   ]
  },
  {
   "cell_type": "code",
   "execution_count": null,
   "id": "bdd0d17e",
   "metadata": {},
   "outputs": [
    {
     "data": {
      "text/html": [
       "<div>\n",
       "<style scoped>\n",
       "    .dataframe tbody tr th:only-of-type {\n",
       "        vertical-align: middle;\n",
       "    }\n",
       "\n",
       "    .dataframe tbody tr th {\n",
       "        vertical-align: top;\n",
       "    }\n",
       "\n",
       "    .dataframe thead th {\n",
       "        text-align: right;\n",
       "    }\n",
       "</style>\n",
       "<table border=\"1\" class=\"dataframe\">\n",
       "  <thead>\n",
       "    <tr style=\"text-align: right;\">\n",
       "      <th></th>\n",
       "      <th>RUBIN_ID</th>\n",
       "      <th>RUBIN</th>\n",
       "      <th>SCIENTIFIC NAME</th>\n",
       "      <th>ENGLISH NAME</th>\n",
       "    </tr>\n",
       "  </thead>\n",
       "  <tbody>\n",
       "    <tr>\n",
       "      <th>0</th>\n",
       "      <td>11</td>\n",
       "      <td>ABRA BRA</td>\n",
       "      <td>ABRAMIS BRAMA</td>\n",
       "      <td>BREAM</td>\n",
       "    </tr>\n",
       "    <tr>\n",
       "      <th>1</th>\n",
       "      <td>12</td>\n",
       "      <td>ANGU ANG</td>\n",
       "      <td>ANGUILLA ANGUILLA</td>\n",
       "      <td>EEL</td>\n",
       "    </tr>\n",
       "    <tr>\n",
       "      <th>2</th>\n",
       "      <td>13</td>\n",
       "      <td>ARCT ISL</td>\n",
       "      <td>ARCTICA ISLANDICA</td>\n",
       "      <td>ISLAND CYPRINE</td>\n",
       "    </tr>\n",
       "    <tr>\n",
       "      <th>3</th>\n",
       "      <td>14</td>\n",
       "      <td>ASTE RUB</td>\n",
       "      <td>ASTERIAS RUBENS</td>\n",
       "      <td>COMMON STARFISH</td>\n",
       "    </tr>\n",
       "    <tr>\n",
       "      <th>4</th>\n",
       "      <td>15</td>\n",
       "      <td>CARD EDU</td>\n",
       "      <td>CARDIUM EDULE</td>\n",
       "      <td>COCKLE</td>\n",
       "    </tr>\n",
       "  </tbody>\n",
       "</table>\n",
       "</div>"
      ],
      "text/plain": [
       "   RUBIN_ID     RUBIN    SCIENTIFIC NAME     ENGLISH NAME\n",
       "0        11  ABRA BRA      ABRAMIS BRAMA            BREAM\n",
       "1        12  ANGU ANG  ANGUILLA ANGUILLA              EEL\n",
       "2        13  ARCT ISL  ARCTICA ISLANDICA   ISLAND CYPRINE\n",
       "3        14  ASTE RUB    ASTERIAS RUBENS  COMMON STARFISH\n",
       "4        15  CARD EDU      CARDIUM EDULE           COCKLE"
      ]
     },
     "execution_count": null,
     "metadata": {},
     "output_type": "execute_result"
    }
   ],
   "source": [
    "df_rubin = pd.read_csv(Path(fname_in) / 'RUBIN_NAME.csv')\n",
    "df_rubin.head(5)"
   ]
  },
  {
   "cell_type": "code",
   "execution_count": null,
   "id": "d976535c",
   "metadata": {},
   "outputs": [],
   "source": [
    "#| export\n",
    "def get_species_lut(fname_in, overwrite=False):\n",
    "    fname_lut = 'species_helcom.pkl'\n",
    "    config_path = BASE_PATH / 'lut' / fname_lut\n",
    "    repo_path = Path('../files/lut') / fname_lut\n",
    "\n",
    "    if overwrite or (not config_path.exists()):\n",
    "        df = pd.read_csv(Path(fname_in) / 'RUBIN_NAME.csv')\n",
    "        lut = {}\n",
    "        \n",
    "        for _, row in tqdm(df[['RUBIN', 'SCIENTIFIC NAME']].iterrows(), total=df.shape[0]):\n",
    "            res = match_worms(row['SCIENTIFIC NAME'])\n",
    "            if (res == -1):\n",
    "                print(f\"No match for {row['RUBIN']} ({row['SCIENTIFIC NAME']})\")\n",
    "                aphia_id = -1\n",
    "            else:\n",
    "                if len(res[0]) > 1:\n",
    "                    print(\n",
    "                        f\"Several matches for {row['RUBIN']} ({row['SCIENTIFIC NAME']})\")\n",
    "                    print(res)\n",
    "                aphia_id = res[0][0]['AphiaID']\n",
    "\n",
    "            lut[row['RUBIN']] = aphia_id\n",
    "        fc.save_pickle(config_path, lut)\n",
    "        fc.save_pickle(repo_path, lut)\n",
    "    else:\n",
    "        lut = fc.load_pickle(config_path)\n",
    "        \n",
    "    return lut"
   ]
  },
  {
   "cell_type": "code",
   "execution_count": null,
   "id": "3262dc82",
   "metadata": {},
   "outputs": [],
   "source": [
    "species_lut = get_species_lut(fname_in, overwrite=False)"
   ]
  },
  {
   "cell_type": "code",
   "execution_count": null,
   "id": "c2798566",
   "metadata": {},
   "outputs": [],
   "source": [
    "#| export\n",
    "class LookupBiotaSpeciesCB(Callback):\n",
    "    'Match \"RUBIN\" species with WorMS db taxon name (AphiaID)'\n",
    "    def __init__(self, fn_lut): fc.store_attr()\n",
    "    def __call__(self, tfm):\n",
    "        lut = self.fn_lut()\n",
    "        tfm.dfs['biota']['species_id'] = tfm.dfs['biota']['RUBIN'].apply(\n",
    "            lambda x: lut[x.strip()])"
   ]
  },
  {
   "cell_type": "code",
   "execution_count": null,
   "id": "b83ffe12",
   "metadata": {},
   "outputs": [
    {
     "name": "stdout",
     "output_type": "stream",
     "text": [
      "      RUBIN  species_id\n",
      "0  GADU MOR      126436\n",
      "1  GADU MOR      126436\n",
      "2  GADU MOR      126436\n",
      "3  GADU MOR      126436\n",
      "4  GADU MOR      126436\n"
     ]
    }
   ],
   "source": [
    "dfs = load_data(fname_in)\n",
    "tfm = Transformer(dfs, cbs=[LowerStripRdnNameCB(),\n",
    "                            RemapRdnNameCB(),\n",
    "                            ParseTimeCB(),\n",
    "                            LookupBiotaSpeciesCB(partial(get_species_lut, fname_in))])\n",
    "\n",
    "print(tfm()['biota'][['RUBIN', 'species_id']][:5])\n"
   ]
  },
  {
   "attachments": {},
   "cell_type": "markdown",
   "id": "2c74e492",
   "metadata": {},
   "source": [
    "### Lookup biota tissues"
   ]
  },
  {
   "cell_type": "code",
   "execution_count": null,
   "id": "e8730ecb",
   "metadata": {},
   "outputs": [
    {
     "data": {
      "text/plain": [
       "array([ 5,  1, 41,  3, 51, 43, 42, 12, 10, 18, 52, 20,  8, 54, 53])"
      ]
     },
     "execution_count": null,
     "metadata": {},
     "output_type": "execute_result"
    }
   ],
   "source": [
    "dfs['biota']['TISSUE'].unique()\n"
   ]
  },
  {
   "attachments": {},
   "cell_type": "markdown",
   "id": "e17f6685",
   "metadata": {},
   "source": [
    "### Rename columns"
   ]
  },
  {
   "cell_type": "code",
   "execution_count": null,
   "id": "ee1762df",
   "metadata": {},
   "outputs": [],
   "source": [
    "#| export\n",
    "# Define columns of interest by sample type\n",
    "coi_grp = {'seawater': ['NUCLIDE', 'VALUE_Bq/m³', 'ERROR%_m³', 'time',\n",
    "                        'TDEPTH', 'LATITUDE (dddddd)', 'LONGITUDE (dddddd)'],\n",
    "           'sediment': ['NUCLIDE', 'VALUE_Bq/kg', 'ERROR%_kg', 'time',\n",
    "                        'TDEPTH', 'LATITUDE (dddddd)', 'LONGITUDE (dddddd)',\n",
    "                        'SEDI'],\n",
    "           'biota': ['NUCLIDE', 'VALUE_Bq/kg', 'ERROR%', 'time',\n",
    "                     'SDEPTH', 'LATITUDE ddmmmm', 'LONGITUDE ddmmmm',\n",
    "                     'species_id', 'TISSUE']}\n"
   ]
  },
  {
   "cell_type": "code",
   "execution_count": null,
   "id": "bb1091d7",
   "metadata": {},
   "outputs": [],
   "source": [
    "#| export\n",
    "# Define column names renaming rules\n",
    "renaming_rules = {\n",
    "    'NUCLIDE': 'nuclide',\n",
    "    'VALUE_Bq/m³': 'value',\n",
    "    'VALUE_Bq/kg': 'value',\n",
    "    'ERROR%_m³': 'unc',\n",
    "    'ERROR%_kg': 'unc',\n",
    "    'ERROR%': 'unc',\n",
    "    'TDEPTH': 'depth',\n",
    "    'SDEPTH': 'depth',\n",
    "    'LATITUDE (dddddd)': 'lat',\n",
    "    'LATITUDE ddmmmm': 'lat',\n",
    "    'LONGITUDE (dddddd)': 'lon',\n",
    "    'LONGITUDE ddmmmm': 'lon',\n",
    "    # group specific\n",
    "    'TISSUE': 'body_part',\n",
    "    'SEDI': 'sed_type'\n",
    "}\n"
   ]
  },
  {
   "cell_type": "code",
   "execution_count": null,
   "id": "e41f13ae",
   "metadata": {},
   "outputs": [],
   "source": [
    "#| export\n",
    "class RenameColumnCB(Callback):\n",
    "    def __init__(self,\n",
    "                 coi=coi_grp,\n",
    "                 renaming_rules=renaming_rules):\n",
    "        fc.store_attr()\n",
    "\n",
    "    def __call__(self, tfm):\n",
    "        for k in tfm.dfs.keys():\n",
    "            # Select cols of interest\n",
    "            tfm.dfs[k] = tfm.dfs[k].loc[:, self.coi[k]]\n",
    "\n",
    "            # Rename cols\n",
    "            tfm.dfs[k].rename(columns=self.renaming_rules, inplace=True)\n"
   ]
  },
  {
   "cell_type": "code",
   "execution_count": null,
   "id": "a4b1cde4",
   "metadata": {},
   "outputs": [
    {
     "name": "stdout",
     "output_type": "stream",
     "text": [
      "  nuclide  value    unc       time  depth      lat      lon\n",
      "0   cs137    5.3  1.696 2012-05-23    NaN  60.0833  29.3333\n",
      "1   cs137   19.9  3.980 2012-05-23    NaN  60.0833  29.3333\n",
      "2   cs137   25.5  5.100 2012-06-17    NaN  59.4333  23.1500\n",
      "3   cs137   17.0  4.930 2012-05-24    NaN  60.2500  27.9833\n",
      "4   cs137   22.2  3.996 2012-05-24    NaN  60.2500  27.9833\n"
     ]
    }
   ],
   "source": [
    "dfs = load_data(fname_in)\n",
    "tfm = Transformer(dfs, cbs=[LowerStripRdnNameCB(),\n",
    "                            RemapRdnNameCB(),\n",
    "                            ParseTimeCB(),\n",
    "                            NormalizeUncUnitCB(),\n",
    "                            LookupBiotaSpeciesCB(partial(get_species_lut, fname_in)),\n",
    "                            RenameColumnCB()])\n",
    "\n",
    "print(tfm()['seawater'].head(5))\n"
   ]
  },
  {
   "attachments": {},
   "cell_type": "markdown",
   "id": "8b7efe2d",
   "metadata": {},
   "source": [
    "### Reshape: long to wide"
   ]
  },
  {
   "cell_type": "code",
   "execution_count": null,
   "id": "453380c1",
   "metadata": {},
   "outputs": [],
   "source": [
    "#| export\n",
    "class ReshapeLongToWide(Callback):\n",
    "    def __init__(self): fc.store_attr()\n",
    "\n",
    "    def __call__(self, tfm):\n",
    "        for k in tfm.dfs.keys():\n",
    "            cols = ['nuclide']\n",
    "            vals = ['value', 'unc']\n",
    "            idx = list(set(tfm.dfs[k].columns) -\n",
    "                       set(cols + vals))  # All others\n",
    "\n",
    "            tfm.dfs[k] = tfm.dfs[k].pivot_table(index=idx,\n",
    "                                                columns=cols,\n",
    "                                                values=vals).reset_index()\n",
    "\n",
    "            # Flatten cols name\n",
    "            tfm.dfs[k].columns = rename_cols(tfm.dfs[k].columns)\n",
    "\n",
    "            # Set index\n",
    "            tfm.dfs[k].index.name = 'sample'\n"
   ]
  },
  {
   "cell_type": "code",
   "execution_count": null,
   "id": "0a330905",
   "metadata": {},
   "outputs": [
    {
     "name": "stdout",
     "output_type": "stream",
     "text": [
      "             time        lat      lon  depth  ag110m_unc  am241_unc  \\\n",
      "sample                                                                \n",
      "0      1984-05-01  54.466700  11.9833   17.0         NaN        NaN   \n",
      "1      1984-05-01  54.600000  11.0833   23.0         NaN        NaN   \n",
      "2      1984-05-01  54.866700  10.8333   38.0         NaN        NaN   \n",
      "3      1984-05-01  54.950000  12.6833   23.0         NaN        NaN   \n",
      "4      1984-05-01  55.383333  11.0500   22.0         NaN        NaN   \n",
      "\n",
      "        ba140_unc  ce144_unc  cm242_unc  cm243_244_tot_unc  ...  pu240  ru103  \\\n",
      "sample                                                      ...                 \n",
      "0             NaN        NaN        NaN                NaN  ...    NaN    NaN   \n",
      "1             NaN        NaN        NaN                NaN  ...    NaN    NaN   \n",
      "2             NaN        NaN        NaN                NaN  ...    NaN    NaN   \n",
      "3             NaN        NaN        NaN                NaN  ...    NaN    NaN   \n",
      "4             NaN        NaN        NaN                NaN  ...    NaN    NaN   \n",
      "\n",
      "        ru106  sb125  sr89  sr90  tc99  u234  u238  zr95  \n",
      "sample                                                    \n",
      "0         NaN    NaN   NaN  27.0   NaN   NaN   NaN   NaN  \n",
      "1         NaN    NaN   NaN   NaN   NaN   NaN   NaN   NaN  \n",
      "2         NaN    NaN   NaN  28.0   NaN   NaN   NaN   NaN  \n",
      "3         NaN    NaN   NaN   NaN   NaN   NaN   NaN   NaN  \n",
      "4         NaN    NaN   NaN  28.0   NaN   NaN   NaN   NaN  \n",
      "\n",
      "[5 rows x 60 columns]\n"
     ]
    }
   ],
   "source": [
    "dfs = load_data(fname_in)\n",
    "tfm = Transformer(dfs, cbs=[LowerStripRdnNameCB(),\n",
    "                            RemapRdnNameCB(),\n",
    "                            ParseTimeCB(),\n",
    "                            NormalizeUncUnitCB(),\n",
    "                            LookupBiotaSpeciesCB(partial(get_species_lut, fname_in)),\n",
    "                            RenameColumnCB(),\n",
    "                            ReshapeLongToWide()])\n",
    "\n",
    "print(tfm()['seawater'].head(5))\n"
   ]
  },
  {
   "attachments": {},
   "cell_type": "markdown",
   "id": "22814b7a",
   "metadata": {},
   "source": [
    "### Encode time (seconds since ...)"
   ]
  },
  {
   "cell_type": "code",
   "execution_count": null,
   "id": "3f727221",
   "metadata": {},
   "outputs": [],
   "source": [
    "#| export\n",
    "class EncodeTimeCB(Callback):\n",
    "    \"Encode time as `int` representing seconds since xxx\"\n",
    "\n",
    "    def __call__(self, tfm):\n",
    "        def format_time(x): return date2num(x, units=get_cfgs('units')['time'])\n",
    "        for k in tfm.dfs.keys():\n",
    "            tfm.dfs[k]['time'] = tfm.dfs[k]['time'].apply(format_time)\n"
   ]
  },
  {
   "cell_type": "code",
   "execution_count": null,
   "id": "0c92dd07",
   "metadata": {},
   "outputs": [
    {
     "name": "stdout",
     "output_type": "stream",
     "text": [
      "             time        lat      lon  depth  ag110m_unc  am241_unc  \\\n",
      "sample                                                                \n",
      "0       452217600  54.466700  11.9833   17.0         NaN        NaN   \n",
      "1       452217600  54.600000  11.0833   23.0         NaN        NaN   \n",
      "2       452217600  54.866700  10.8333   38.0         NaN        NaN   \n",
      "3       452217600  54.950000  12.6833   23.0         NaN        NaN   \n",
      "4       452217600  55.383333  11.0500   22.0         NaN        NaN   \n",
      "\n",
      "        ba140_unc  ce144_unc  cm242_unc  cm243_244_tot_unc  ...  pu240  ru103  \\\n",
      "sample                                                      ...                 \n",
      "0             NaN        NaN        NaN                NaN  ...    NaN    NaN   \n",
      "1             NaN        NaN        NaN                NaN  ...    NaN    NaN   \n",
      "2             NaN        NaN        NaN                NaN  ...    NaN    NaN   \n",
      "3             NaN        NaN        NaN                NaN  ...    NaN    NaN   \n",
      "4             NaN        NaN        NaN                NaN  ...    NaN    NaN   \n",
      "\n",
      "        ru106  sb125  sr89  sr90  tc99  u234  u238  zr95  \n",
      "sample                                                    \n",
      "0         NaN    NaN   NaN  27.0   NaN   NaN   NaN   NaN  \n",
      "1         NaN    NaN   NaN   NaN   NaN   NaN   NaN   NaN  \n",
      "2         NaN    NaN   NaN  28.0   NaN   NaN   NaN   NaN  \n",
      "3         NaN    NaN   NaN   NaN   NaN   NaN   NaN   NaN  \n",
      "4         NaN    NaN   NaN  28.0   NaN   NaN   NaN   NaN  \n",
      "\n",
      "[5 rows x 60 columns]\n"
     ]
    }
   ],
   "source": [
    "dfs = load_data(fname_in)\n",
    "tfm = Transformer(dfs, cbs=[LowerStripRdnNameCB(),\n",
    "                            RemapRdnNameCB(),\n",
    "                            ParseTimeCB(),\n",
    "                            NormalizeUncUnitCB(),\n",
    "                            LookupBiotaSpeciesCB(partial(get_species_lut, fname_in)),\n",
    "                            RenameColumnCB(),\n",
    "                            ReshapeLongToWide(),\n",
    "                            EncodeTimeCB()])\n",
    "\n",
    "print(tfm()['seawater'].head(5))\n"
   ]
  },
  {
   "attachments": {},
   "cell_type": "markdown",
   "id": "ff32c2a8",
   "metadata": {},
   "source": [
    "### Sanitize coordinates"
   ]
  },
  {
   "cell_type": "code",
   "execution_count": null,
   "id": "d26996ce",
   "metadata": {},
   "outputs": [],
   "source": [
    "#| export\n",
    "class SanitizeLonLatCB(Callback):\n",
    "    \"Drop row when both longitude & latitude equal 0\"\n",
    "\n",
    "    def __call__(self, tfm):\n",
    "        tfm.dfs = {grp: (df[(df.lon != 0) & (df.lat != 0)])\n",
    "                   for grp, df in tfm.dfs.items()}\n"
   ]
  },
  {
   "cell_type": "code",
   "execution_count": null,
   "id": "3dee4406",
   "metadata": {},
   "outputs": [
    {
     "name": "stdout",
     "output_type": "stream",
     "text": [
      "             time        lat      lon  depth  ag110m_unc  am241_unc  \\\n",
      "sample                                                                \n",
      "0       452217600  54.466700  11.9833   17.0         NaN        NaN   \n",
      "1       452217600  54.600000  11.0833   23.0         NaN        NaN   \n",
      "2       452217600  54.866700  10.8333   38.0         NaN        NaN   \n",
      "3       452217600  54.950000  12.6833   23.0         NaN        NaN   \n",
      "4       452217600  55.383333  11.0500   22.0         NaN        NaN   \n",
      "\n",
      "        ba140_unc  ce144_unc  cm242_unc  cm243_244_tot_unc  ...  pu240  ru103  \\\n",
      "sample                                                      ...                 \n",
      "0             NaN        NaN        NaN                NaN  ...    NaN    NaN   \n",
      "1             NaN        NaN        NaN                NaN  ...    NaN    NaN   \n",
      "2             NaN        NaN        NaN                NaN  ...    NaN    NaN   \n",
      "3             NaN        NaN        NaN                NaN  ...    NaN    NaN   \n",
      "4             NaN        NaN        NaN                NaN  ...    NaN    NaN   \n",
      "\n",
      "        ru106  sb125  sr89  sr90  tc99  u234  u238  zr95  \n",
      "sample                                                    \n",
      "0         NaN    NaN   NaN  27.0   NaN   NaN   NaN   NaN  \n",
      "1         NaN    NaN   NaN   NaN   NaN   NaN   NaN   NaN  \n",
      "2         NaN    NaN   NaN  28.0   NaN   NaN   NaN   NaN  \n",
      "3         NaN    NaN   NaN   NaN   NaN   NaN   NaN   NaN  \n",
      "4         NaN    NaN   NaN  28.0   NaN   NaN   NaN   NaN  \n",
      "\n",
      "[5 rows x 60 columns]\n"
     ]
    }
   ],
   "source": [
    "dfs = load_data(fname_in)\n",
    "tfm = Transformer(dfs, cbs=[LowerStripRdnNameCB(),\n",
    "                            RemapRdnNameCB(),\n",
    "                            ParseTimeCB(),\n",
    "                            NormalizeUncUnitCB(),\n",
    "                            LookupBiotaSpeciesCB(partial(get_species_lut, fname_in)),\n",
    "                            RenameColumnCB(),\n",
    "                            ReshapeLongToWide(),\n",
    "                            EncodeTimeCB(),\n",
    "                            SanitizeLonLatCB()])\n",
    "\n",
    "print(tfm()['seawater'].head(5))\n"
   ]
  },
  {
   "attachments": {},
   "cell_type": "markdown",
   "id": "8ba0e40a",
   "metadata": {},
   "source": [
    "## Encode to NetCDF"
   ]
  },
  {
   "cell_type": "code",
   "execution_count": null,
   "id": "75d1968d",
   "metadata": {},
   "outputs": [],
   "source": [
    "dfs = load_data(fname_in)\n",
    "tfm = Transformer(dfs, cbs=[LowerStripRdnNameCB(),\n",
    "                            RemapRdnNameCB(),\n",
    "                            ParseTimeCB(),\n",
    "                            NormalizeUncUnitCB(),\n",
    "                            LookupBiotaSpeciesCB(partial(get_species_lut, fname_in)),\n",
    "                            RenameColumnCB(),\n",
    "                            ReshapeLongToWide(),\n",
    "                            EncodeTimeCB(),\n",
    "                            SanitizeLonLatCB()])\n",
    "\n",
    "dfs_tfm = tfm()\n"
   ]
  },
  {
   "cell_type": "code",
   "execution_count": null,
   "id": "c06de420",
   "metadata": {},
   "outputs": [
    {
     "data": {
      "text/plain": [
       "{'seawater':               time        lat      lon  depth  ag110m_unc  am241_unc  \\\n",
       " sample                                                                 \n",
       " 0        452217600  54.466700  11.9833   17.0         NaN        NaN   \n",
       " 1        452217600  54.600000  11.0833   23.0         NaN        NaN   \n",
       " 2        452217600  54.866700  10.8333   38.0         NaN        NaN   \n",
       " 3        452217600  54.950000  12.6833   23.0         NaN        NaN   \n",
       " 4        452217600  55.383333  11.0500   22.0         NaN        NaN   \n",
       " ...            ...        ...      ...    ...         ...        ...   \n",
       " 4581    1535068800  59.380000  24.1550   21.0         NaN        NaN   \n",
       " 4582    1535328000  59.305000  23.2880   88.0         NaN        NaN   \n",
       " 4583    1536278400  58.603300  11.2450   15.5         NaN        NaN   \n",
       " 4584    1536969600  59.033300  21.0795  172.0         NaN        NaN   \n",
       " 4585    1537142400  61.083300  19.5797  125.0         NaN        NaN   \n",
       " \n",
       "         ba140_unc  ce144_unc  cm242_unc  cm243_244_tot_unc  ...  pu240  ru103  \\\n",
       " sample                                                      ...                 \n",
       " 0             NaN        NaN        NaN                NaN  ...    NaN    NaN   \n",
       " 1             NaN        NaN        NaN                NaN  ...    NaN    NaN   \n",
       " 2             NaN        NaN        NaN                NaN  ...    NaN    NaN   \n",
       " 3             NaN        NaN        NaN                NaN  ...    NaN    NaN   \n",
       " 4             NaN        NaN        NaN                NaN  ...    NaN    NaN   \n",
       " ...           ...        ...        ...                ...  ...    ...    ...   \n",
       " 4581          NaN        NaN        NaN                NaN  ...    NaN    NaN   \n",
       " 4582          NaN        NaN        NaN                NaN  ...    NaN    NaN   \n",
       " 4583          NaN        NaN        NaN                NaN  ...    NaN    NaN   \n",
       " 4584          NaN        NaN        NaN                NaN  ...    NaN    NaN   \n",
       " 4585          NaN        NaN        NaN                NaN  ...    NaN    NaN   \n",
       " \n",
       "         ru106  sb125  sr89    sr90  tc99  u234  u238  zr95  \n",
       " sample                                                      \n",
       " 0         NaN    NaN   NaN  27.000   NaN   NaN   NaN   NaN  \n",
       " 1         NaN    NaN   NaN     NaN   NaN   NaN   NaN   NaN  \n",
       " 2         NaN    NaN   NaN  28.000   NaN   NaN   NaN   NaN  \n",
       " 3         NaN    NaN   NaN     NaN   NaN   NaN   NaN   NaN  \n",
       " 4         NaN    NaN   NaN  28.000   NaN   NaN   NaN   NaN  \n",
       " ...       ...    ...   ...     ...   ...   ...   ...   ...  \n",
       " 4581      NaN    NaN   NaN     NaN   NaN   NaN   NaN   NaN  \n",
       " 4582      NaN    NaN   NaN     NaN   NaN   NaN   NaN   NaN  \n",
       " 4583      NaN    NaN   NaN     NaN   NaN   NaN   NaN   NaN  \n",
       " 4584      NaN    NaN   NaN   6.795   NaN   NaN   NaN   NaN  \n",
       " 4585      NaN    NaN   NaN   6.210   NaN   NaN   NaN   NaN  \n",
       " \n",
       " [4576 rows x 60 columns],\n",
       " 'sediment':             lon        time  sed_type  depth      lat  ac228_unc  ag110m_unc  \\\n",
       " sample                                                                         \n",
       " 0        9.6333   544838400      55.0   16.0  54.8500        NaN         1.0   \n",
       " 1        9.6333   597628800      51.0   17.0  54.8333        NaN         NaN   \n",
       " 2        9.6333   597628800      55.0   17.0  54.8333        NaN         NaN   \n",
       " 3        9.6333   597628800      57.0   17.0  54.8333        NaN         NaN   \n",
       " 4        9.6333   690854400      55.0   16.0  54.8417        NaN         NaN   \n",
       " ...         ...         ...       ...    ...      ...        ...         ...   \n",
       " 2134    29.5000  1118534400       0.0    0.0  60.0833        NaN         NaN   \n",
       " 2135    29.6700  1276128000       0.0   17.0  60.0800        NaN         NaN   \n",
       " 2136    29.8333  1128211200       0.0    0.0  59.9833        NaN         NaN   \n",
       " 2137    30.6667  1118534400       0.0   98.0  61.3000        NaN         NaN   \n",
       " 2138    30.7083  1118534400       0.0   30.0  61.2500        NaN         NaN   \n",
       " \n",
       "         am241_unc  ba140_unc  be7_unc  ...  sb124      sb125  sr90  th228  \\\n",
       " sample                                 ...                                  \n",
       " 0             NaN        NaN      NaN  ...    NaN   4.877778   NaN    NaN   \n",
       " 1             NaN        NaN      NaN  ...    NaN   0.400000   NaN    NaN   \n",
       " 2             NaN        NaN      NaN  ...    NaN  13.200000   NaN    NaN   \n",
       " 3             NaN        NaN      NaN  ...    NaN   2.240000   NaN    NaN   \n",
       " 4           0.286        NaN      NaN  ...    NaN        NaN   NaN    NaN   \n",
       " ...           ...        ...      ...  ...    ...        ...   ...    ...   \n",
       " 2134          NaN        NaN      NaN  ...    NaN        NaN   NaN    NaN   \n",
       " 2135          NaN        NaN      NaN  ...    NaN        NaN   NaN    NaN   \n",
       " 2136          NaN        NaN      NaN  ...    NaN        NaN   NaN    NaN   \n",
       " 2137          NaN        NaN      NaN  ...    NaN        NaN   NaN    NaN   \n",
       " 2138          NaN        NaN      NaN  ...    NaN        NaN   NaN    NaN   \n",
       " \n",
       "         th232  th234  tl208  u235  zn65  zr95  \n",
       " sample                                         \n",
       " 0         NaN    NaN    NaN   NaN   NaN   NaN  \n",
       " 1         NaN    NaN    NaN   NaN   NaN   NaN  \n",
       " 2         NaN    NaN    NaN   NaN   NaN   NaN  \n",
       " 3         NaN    NaN    NaN   NaN   NaN   NaN  \n",
       " 4         NaN    NaN    NaN   NaN   NaN   NaN  \n",
       " ...       ...    ...    ...   ...   ...   ...  \n",
       " 2134      NaN    NaN    NaN   NaN   NaN   NaN  \n",
       " 2135      NaN    NaN    NaN   NaN   NaN   NaN  \n",
       " 2136      NaN    NaN    NaN   NaN   NaN   NaN  \n",
       " 2137      NaN    NaN    NaN   NaN   NaN   NaN  \n",
       " 2138      NaN    NaN    NaN   NaN   NaN   NaN  \n",
       " \n",
       " [2139 rows x 91 columns],\n",
       " 'biota':           lon        time  depth  species_id     lat  body_part  ac228_unc  \\\n",
       " sample                                                                       \n",
       " 0        9.41  1323561600    2.0      126417  54.310          5        NaN   \n",
       " 1       10.00  1323734400    4.0      126436  54.450          5        NaN   \n",
       " 2       10.07   565920000   21.5      126436  54.330          5        NaN   \n",
       " 3       10.07   565920000   21.5      126436  54.330         18        NaN   \n",
       " 4       10.07   781660800   27.0      126417  54.340          1        NaN   \n",
       " ...       ...         ...    ...         ...     ...        ...        ...   \n",
       " 3762    27.45  1069804800    0.0      126417  59.280          1        NaN   \n",
       " 3763    27.45  1104364800    0.0      126417  59.280          1        NaN   \n",
       " 3764    27.45  1035504000    0.0      126417  59.280          1        NaN   \n",
       " 3765    27.45  1134518400    0.0      126417  59.280          1        NaN   \n",
       " 3766    27.54  1304467200    0.0      126417  59.258          1        NaN   \n",
       " \n",
       "         ag108m_unc  ag110m_unc  am241_unc  ...  sr89    sr90  tc99  te129m  \\\n",
       " sample                                     ...                               \n",
       " 0              NaN         NaN        NaN  ...   NaN     NaN   NaN     NaN   \n",
       " 1              NaN         NaN        NaN  ...   NaN     NaN   NaN     NaN   \n",
       " 2              NaN     0.00858        NaN  ...   NaN  0.0042   NaN     NaN   \n",
       " 3              NaN     0.11470        NaN  ...   NaN     NaN   NaN     NaN   \n",
       " 4              0.0         NaN        0.0  ...   NaN  0.0267   NaN     NaN   \n",
       " ...            ...         ...        ...  ...   ...     ...   ...     ...   \n",
       " 3762           NaN         NaN        NaN  ...   NaN     NaN   NaN     NaN   \n",
       " 3763           NaN         NaN        NaN  ...   NaN     NaN   NaN     NaN   \n",
       " 3764           NaN         NaN        NaN  ...   NaN     NaN   NaN     NaN   \n",
       " 3765           NaN         NaN        NaN  ...   NaN     NaN   NaN     NaN   \n",
       " 3766           NaN         NaN        NaN  ...   NaN     NaN   NaN     NaN   \n",
       " \n",
       "         th228  th232  tl208  u235  zn65  zr95  \n",
       " sample                                         \n",
       " 0         NaN    NaN    NaN   NaN   NaN   NaN  \n",
       " 1         NaN    NaN    NaN   NaN   NaN   NaN  \n",
       " 2         NaN    NaN    NaN   NaN   NaN   NaN  \n",
       " 3         NaN    NaN    NaN   NaN   NaN   NaN  \n",
       " 4         NaN    NaN    NaN   NaN   NaN   NaN  \n",
       " ...       ...    ...    ...   ...   ...   ...  \n",
       " 3762      NaN    NaN    NaN   NaN   NaN   NaN  \n",
       " 3763      NaN    NaN    NaN   NaN   NaN   NaN  \n",
       " 3764      NaN    NaN    NaN   NaN   NaN   NaN  \n",
       " 3765      NaN    NaN    NaN   NaN   NaN   NaN  \n",
       " 3766      NaN    NaN    NaN   NaN   NaN   NaN  \n",
       " \n",
       " [3767 rows x 106 columns]}"
      ]
     },
     "execution_count": null,
     "metadata": {},
     "output_type": "execute_result"
    }
   ],
   "source": [
    "dfs_tfm"
   ]
  },
  {
   "cell_type": "code",
   "execution_count": null,
   "id": "4e998369",
   "metadata": {},
   "outputs": [
    {
     "data": {
      "text/plain": [
       "['Convert nuclide names to lowercase & strip any trailing space(s)',\n",
       " 'Remap to MARIS radionuclide names',\n",
       " 'Convert uncertainty from % to activity unit',\n",
       " 'Match \"RUBIN\" species with WorMS db taxon name (AphiaID)',\n",
       " 'Encode time as `int` representing seconds since xxx',\n",
       " 'Drop row when both longitude & latitude equal 0']"
      ]
     },
     "execution_count": null,
     "metadata": {},
     "output_type": "execute_result"
    }
   ],
   "source": [
    "tfm.logs"
   ]
  },
  {
   "attachments": {},
   "cell_type": "markdown",
   "id": "b82526cc",
   "metadata": {},
   "source": [
    "### Feed global attributes"
   ]
  },
  {
   "cell_type": "code",
   "execution_count": null,
   "id": "ac6ba4f8",
   "metadata": {},
   "outputs": [],
   "source": [
    "#| export\n",
    "kw = ['oceanography', 'Earth Science > Oceans > Ocean Chemistry> Radionuclides',\n",
    "      'Earth Science > Human Dimensions > Environmental Impacts > Nuclear Radiation Exposure',\n",
    "      'Earth Science > Oceans > Ocean Chemistry > Ocean Tracers, Earth Science > Oceans > Marine Sediments',\n",
    "      'Earth Science > Oceans > Ocean Chemistry, Earth Science > Oceans > Sea Ice > Isotopes',\n",
    "      'Earth Science > Oceans > Water Quality > Ocean Contaminants',\n",
    "      'Earth Science > Biological Classification > Animals/Vertebrates > Fish',\n",
    "      'Earth Science > Biosphere > Ecosystems > Marine Ecosystems',\n",
    "      'Earth Science > Biological Classification > Animals/Invertebrates > Mollusks',\n",
    "      'Earth Science > Biological Classification > Animals/Invertebrates > Arthropods > Crustaceans',\n",
    "      'Earth Science > Biological Classification > Plants > Macroalgae (Seaweeds)']\n"
   ]
  },
  {
   "cell_type": "code",
   "execution_count": null,
   "id": "37f464a7",
   "metadata": {},
   "outputs": [],
   "source": [
    "# feed = GlobAttrsFeeder(dfs_tfm, cbs=[BboxCB(),\n",
    "#                                      DepthRangeCB(),\n",
    "#                                      TimeRangeCB(),\n",
    "#                                      ZoteroCB('26VMZZ2Q'),\n",
    "#                                      KeyValuePairCB('keywords', ', '.join(kw)),\n",
    "#                                      KeyValuePairCB('publisher_postprocess_logs', ', '.join(tfm.logs))\n",
    "#                                      ])\n"
   ]
  },
  {
   "cell_type": "code",
   "execution_count": null,
   "id": "f6aa393b",
   "metadata": {},
   "outputs": [],
   "source": [
    "#| export\n",
    "def get_attrs(tfm, zotero_key='26VMZZ2Q', kw=kw):\n",
    "    return GlobAttrsFeeder(tfm.dfs, cbs=[BboxCB(),\n",
    "                                    DepthRangeCB(),\n",
    "                                    TimeRangeCB(),\n",
    "                                    ZoteroCB(zotero_key),\n",
    "                                    KeyValuePairCB('keywords', ', '.join(kw)),\n",
    "                                    KeyValuePairCB('publisher_postprocess_logs', ', '.join(tfm.logs))])()"
   ]
  },
  {
   "cell_type": "code",
   "execution_count": null,
   "id": "c2e8aad3",
   "metadata": {},
   "outputs": [
    {
     "data": {
      "text/plain": [
       "{'id': '',\n",
       " 'title': 'Environmental database - Helsinki Commission Monitoring of Radioactive Substances',\n",
       " 'summary': 'MORS Environment database has been used to collate data resulting from monitoring of environmental radioactivity in the Baltic Sea based on HELCOM Recommendation 26/3.\\n\\nThe database is structured according to HELCOM Guidelines on Monitoring of Radioactive Substances (https://www.helcom.fi/wp-content/uploads/2019/08/Guidelines-for-Monitoring-of-Radioactive-Substances.pdf), which specifies reporting format, database structure, data types and obligatory parameters used for reporting data under Recommendation 26/3.\\n\\nThe database is updated and quality assured annually by HELCOM MORS EG.',\n",
       " 'keywords': 'oceanography, Earth Science > Oceans > Ocean Chemistry> Radionuclides, Earth Science > Human Dimensions > Environmental Impacts > Nuclear Radiation Exposure, Earth Science > Oceans > Ocean Chemistry > Ocean Tracers, Earth Science > Oceans > Marine Sediments, Earth Science > Oceans > Ocean Chemistry, Earth Science > Oceans > Sea Ice > Isotopes, Earth Science > Oceans > Water Quality > Ocean Contaminants, Earth Science > Biological Classification > Animals/Vertebrates > Fish, Earth Science > Biosphere > Ecosystems > Marine Ecosystems, Earth Science > Biological Classification > Animals/Invertebrates > Mollusks, Earth Science > Biological Classification > Animals/Invertebrates > Arthropods > Crustaceans, Earth Science > Biological Classification > Plants > Macroalgae (Seaweeds)',\n",
       " 'keywords_vocabulary': 'GCMD Science Keywords',\n",
       " 'keywords_vocabulary_url': 'https://gcmd.earthdata.nasa.gov/static/kms/',\n",
       " 'record': '',\n",
       " 'featureType': '',\n",
       " 'cdm_data_type': '',\n",
       " 'Conventions': 'CF-1.10 ACDD-1.3',\n",
       " 'publisher_name': 'Paul MCGINNITY, Iolanda OSVATH, Florence DESCROIX-COMANDUCCI',\n",
       " 'publisher_email': 'p.mc-ginnity@iaea.org, i.osvath@iaea.org, F.Descroix-Comanducci@iaea.org',\n",
       " 'publisher_url': 'https://maris.iaea.org',\n",
       " 'publisher_institution': 'International Atomic Energy Agency - IAEA',\n",
       " 'creator_name': 'author: HELCOM MORS',\n",
       " 'institution': '',\n",
       " 'metadata_link': '',\n",
       " 'creator_email': '',\n",
       " 'creator_url': '',\n",
       " 'references': '',\n",
       " 'license': 'Without prejudice to the applicable Terms and Conditions (https://nucleus.iaea.org/Pages/Others/Disclaimer.aspx), I hereby agree that any use of the data will contain appropriate acknowledgement of the data source(s) and the IAEA Marine Radioactivity Information System (MARIS).',\n",
       " 'comment': '',\n",
       " 'geospatial_lat_min': '31.1667',\n",
       " 'geospatial_lon_min': '9.41',\n",
       " 'geospatial_lat_max': '65.6347',\n",
       " 'geospatial_lon_max': '53.458',\n",
       " 'geospatial_vertical_min': '-460.0',\n",
       " 'geospatial_vertical_max': '0',\n",
       " 'geospatial_bounds': 'POLYGON ((9.41 53.458, 31.1667 53.458, 31.1667 65.6347, 9.41 65.6347, 9.41 53.458))',\n",
       " 'geospatial_bounds_crs': 'EPSG:4326',\n",
       " 'time_coverage_start': '1984-01-10T00:00:00',\n",
       " 'time_coverage_end': '2018-12-12T00:00:00',\n",
       " 'local_time_zone': '',\n",
       " 'date_created': '',\n",
       " 'date_modified': '',\n",
       " 'publisher_postprocess_logs': 'Convert nuclide names to lowercase & strip any trailing space(s), Remap to MARIS radionuclide names, Convert uncertainty from % to activity unit, Match \"RUBIN\" species with WorMS db taxon name (AphiaID), Encode time as `int` representing seconds since xxx, Drop row when both longitude & latitude equal 0'}"
      ]
     },
     "execution_count": null,
     "metadata": {},
     "output_type": "execute_result"
    }
   ],
   "source": [
    "get_attrs(tfm, zotero_key='26VMZZ2Q', kw=kw)\n"
   ]
  },
  {
   "attachments": {},
   "cell_type": "markdown",
   "id": "95a4a7b1",
   "metadata": {},
   "source": [
    "### Encoding"
   ]
  },
  {
   "cell_type": "code",
   "execution_count": null,
   "id": "ba4c37ba",
   "metadata": {},
   "outputs": [],
   "source": [
    "#| export\n",
    "def units_fn(grp_name):\n",
    "    lut = {'seawater': 'Bq/m³',\n",
    "           'sediment': 'Bq/kg',\n",
    "           'biota': 'Bq/kg'}\n",
    "    return lut[grp_name]\n"
   ]
  },
  {
   "cell_type": "code",
   "execution_count": null,
   "id": "c4abc246",
   "metadata": {},
   "outputs": [
    {
     "name": "stdout",
     "output_type": "stream",
     "text": [
      "% of discarded data for grp seawater: 0.0\n",
      "% of discarded data for grp sediment: 0.0\n",
      "% of discarded data for grp biota: 0.0\n"
     ]
    }
   ],
   "source": [
    "to_netcdf(dfs_tfm, NC_TPL_PATH, fname_out,\n",
    "          get_attrs(tfm, zotero_key='26VMZZ2Q', kw=kw),\n",
    "          units_fn)\n"
   ]
  },
  {
   "cell_type": "code",
   "execution_count": null,
   "id": "216f10b3",
   "metadata": {},
   "outputs": [],
   "source": [
    "#| export\n",
    "def encode(fname_in, fname_out):\n",
    "    dfs = load_data(fname_in)\n",
    "    tfm = Transformer(dfs, cbs=[LowerStripRdnNameCB(),\n",
    "                                RemapRdnNameCB(),\n",
    "                                ParseTimeCB(),\n",
    "                                NormalizeUncUnitCB(),\n",
    "                                LookupBiotaSpeciesCB(partial(get_species_lut, fname_in)),\n",
    "                                RenameColumnCB(),\n",
    "                                ReshapeLongToWide(),\n",
    "                                EncodeTimeCB(),\n",
    "                                SanitizeLonLatCB()])\n",
    "    dfs_tfm = tfm()\n",
    "    attrs = get_attrs(tfm, zotero_key='26VMZZ2Q', kw=kw)\n",
    "    to_netcdf(dfs_tfm, NC_TPL_PATH, fname_out, attrs, units_fn)"
   ]
  },
  {
   "cell_type": "code",
   "execution_count": null,
   "id": "5fd973e4",
   "metadata": {},
   "outputs": [
    {
     "name": "stdout",
     "output_type": "stream",
     "text": [
      "% of discarded data for grp seawater: 0.0\n",
      "% of discarded data for grp sediment: 0.0\n",
      "% of discarded data for grp biota: 0.0\n"
     ]
    }
   ],
   "source": [
    "encode(fname_in, fname_out)"
   ]
  },
  {
   "attachments": {},
   "cell_type": "markdown",
   "id": "3b0b76d9",
   "metadata": {},
   "source": [
    "___"
   ]
  },
  {
   "cell_type": "code",
   "execution_count": null,
   "id": "0309921e",
   "metadata": {},
   "outputs": [],
   "source": [
    "import nbdev\n",
    "nbdev.nbdev_export()"
   ]
  }
 ],
 "metadata": {
  "kernelspec": {
   "display_name": "Python 3 (ipykernel)",
   "language": "python",
   "name": "python3"
  }
 },
 "nbformat": 4,
 "nbformat_minor": 5
}

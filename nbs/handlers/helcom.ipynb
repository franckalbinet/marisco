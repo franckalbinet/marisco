{
 "cells": [
  {
   "cell_type": "code",
   "execution_count": null,
   "id": "bb60862d",
   "metadata": {},
   "outputs": [],
   "source": [
    "#| default_exp handlers.helcom"
   ]
  },
  {
   "cell_type": "markdown",
   "id": "416a6a41",
   "metadata": {},
   "source": [
    "# HELCOM"
   ]
  },
  {
   "attachments": {},
   "cell_type": "markdown",
   "id": "f263111a",
   "metadata": {},
   "source": [
    "> Data pipeline (handler) to convert HELCOM data ([source](https://helcom.fi/about-us)) to `NetCDF` format or `Open Refine` format.  "
   ]
  },
  {
   "cell_type": "markdown",
   "id": "aab5eece",
   "metadata": {},
   "source": [
    "<!-- ## HELCOM MORS Environment database -->\n",
    "\n",
    "[Helcom MORS data](https://helcom.fi/about-us) is provided as a Microsoft Access database. \n",
    "[`Mdbtools`](https://github.com/mdbtools/mdbtools) can be used to convert the tables of the Microsoft Access database to `.csv` files on Unix-like OS.\n",
    "\n",
    "Example steps:\n",
    "1. Download data (e.g. https://metadata.helcom.fi/geonetwork/srv/fin/catalog.search#/metadata/2fdd2d46-0329-40e3-bf96-cb08c7206a24). \n",
    "2. Install mdbtools via VScode Terminal \n",
    "\n",
    "    ```\n",
    "    sudo apt-get -y install mdbtools\n",
    "    ````\n",
    "\n",
    "3. Install unzip via VScode Terminal \n",
    "\n",
    "    ```\n",
    "    sudo apt-get -y install unzip\n",
    "    ````\n",
    "\n",
    "4. In VS code terminal, navigate to the marisco data folder\n",
    "\n",
    "    ```\n",
    "    cd /home/marisco/downloads/marisco/_data/accdb/mors_19840101_20211231\n",
    "    ```\n",
    "\n",
    "5. Unzip MORS_ENVIRONMENT.zip \n",
    "\n",
    "    ```\n",
    "    unzip MORS_ENVIRONMENT.zip \n",
    "    ```\n",
    "\n",
    "6. Run preprocess.sh to generate the required data files\n",
    "\n",
    "    ```\n",
    "    ./preprocess.sh MORS_ENVIRONMENT.zip\n",
    "    ````\n",
    "7. Conetens of 'preprocess.sh' script.\n",
    "    ```\n",
    "    #!/bin/bash\n",
    "\n",
    "    # Example of use: ./preprocess.sh MORS_ENVIRONMENT.zip\n",
    "    unzip $1\n",
    "    dbname=$(ls *.accdb)\n",
    "    mkdir csv\n",
    "    for table in $(mdb-tables -1 \"$dbname\"); do\n",
    "        echo \"Export table $table\"\n",
    "        mdb-export \"$dbname\" \"$table\" > \"csv/$table.csv\"\n",
    "    done\n",
    "    ```"
   ]
  },
  {
   "cell_type": "markdown",
   "id": "0f7c4c6b",
   "metadata": {},
   "source": [
    "***"
   ]
  },
  {
   "attachments": {},
   "cell_type": "markdown",
   "id": "b92a5c33",
   "metadata": {},
   "source": [
    "## Packages import"
   ]
  },
  {
   "cell_type": "code",
   "execution_count": null,
   "id": "0db45fee",
   "metadata": {},
   "outputs": [
    {
     "name": "stdout",
     "output_type": "stream",
     "text": [
      "The autoreload extension is already loaded. To reload it, use:\n",
      "  %reload_ext autoreload\n"
     ]
    }
   ],
   "source": [
    "%load_ext autoreload\n",
    "%autoreload 2"
   ]
  },
  {
   "cell_type": "code",
   "execution_count": null,
   "id": "3a8d979f",
   "metadata": {},
   "outputs": [],
   "source": [
    "#| export\n",
    "import pandas as pd # Python package that provides fast, flexible, and expressive data structures.\n",
    "import numpy as np\n",
    "from tqdm import tqdm # Python Progress Bar Library\n",
    "from functools import partial # Function which Return a new partial object which when called will behave like func called with the positional arguments args and keyword arguments keywords\n",
    "import fastcore.all as fc # package that brings fastcore functionality, see https://fastcore.fast.ai/.\n",
    "from pathlib import Path # This module offers classes representing filesystem paths\n",
    "from dataclasses import asdict\n",
    "\n",
    "from marisco.utils import (has_valid_varname, match_worms, match_maris_lut, Match)\n",
    "from marisco.callbacks import (Callback, Transformer, EncodeTimeCB, SanitizeLonLatCB)\n",
    "from marisco.metadata import (GlobAttrsFeeder, BboxCB, DepthRangeCB, TimeRangeCB, ZoteroCB, KeyValuePairCB)\n",
    "from marisco.configs import (base_path, nc_tpl_path, cfg, cache_path, cdl_cfg, Enums, lut_path,\n",
    "                             species_lut_path, sediments_lut_path, bodyparts_lut_path, \n",
    "                             detection_limit_lut_path, filtered_lut_path, area_lut_path)\n",
    "from marisco.serializers import NetCDFEncoder\n",
    "from collections.abc import Callable\n",
    "from math import modf\n",
    "import warnings\n",
    "from marisco.netcdf_to_csv import (LookupTimeFromEncodedTime, GetSampleTypeCB,\n",
    "                                   LookupNuclideByIdCB, ConvertLonLatCB, LookupUnitByIdCB,\n",
    "                                   LookupValueTypeByIdCB, LookupSpeciesByIdCB, \n",
    "                                   LookupBodypartByIdCB, LookupSedimentTypeByIdCB)                                  \n",
    "from marisco.serializers import OpenRefineCsvEncoder"
   ]
  },
  {
   "cell_type": "code",
   "execution_count": null,
   "id": "cc705a38",
   "metadata": {},
   "outputs": [],
   "source": [
    "warnings.filterwarnings('ignore')"
   ]
  },
  {
   "cell_type": "markdown",
   "id": "7ed39cdd",
   "metadata": {},
   "source": [
    "***"
   ]
  },
  {
   "cell_type": "markdown",
   "id": "a0a65e9b",
   "metadata": {},
   "source": [
    "##  MARIS NetCDF \n",
    "When MARISCO is installed, it uses `cdl.toml` to create the `maris-template.nc`, which acts as a standardized template for MARIS NetCDF files. The `cdl.toml` is a configuration file listing all the variables allowed in the NetCDF4 files. The contents of the cdl.toml can be retrieved with the function `cdl_cfg()`.  "
   ]
  },
  {
   "cell_type": "markdown",
   "id": "b907924b",
   "metadata": {},
   "source": [
    "Retrieving the keys of the `cdl_cfg()`."
   ]
  },
  {
   "cell_type": "code",
   "execution_count": null,
   "id": "50406959",
   "metadata": {},
   "outputs": [
    {
     "name": "stdout",
     "output_type": "stream",
     "text": [
      "dict_keys(['defaults', 'bio', 'sed', 'suffixes'])\n"
     ]
    }
   ],
   "source": [
    "print (cdl_cfg()['vars'].keys())"
   ]
  },
  {
   "cell_type": "markdown",
   "id": "6b32b0fd",
   "metadata": {},
   "source": [
    "Printing the contents of all keys"
   ]
  },
  {
   "cell_type": "code",
   "execution_count": null,
   "id": "535b6a1d",
   "metadata": {},
   "outputs": [
    {
     "name": "stdout",
     "output_type": "stream",
     "text": [
      "dict_keys(['lon', 'lat', 'smp_depth', 'tot_depth', 'time', 'area'])\n",
      "dict_keys(['bio_group', 'species', 'body_part'])\n",
      "dict_keys(['sed_type'])\n",
      "dict_keys(['uncertainty', 'detection_limit', 'volume', 'salinity', 'temperature', 'filtered', 'counting_method', 'sampling_method', 'preparation_method', 'unit'])\n"
     ]
    }
   ],
   "source": [
    "print (cdl_cfg()['vars']['defaults'].keys())\n",
    "print (cdl_cfg()['vars']['bio'].keys())\n",
    "print (cdl_cfg()['vars']['sed'].keys())\n",
    "print (cdl_cfg()['vars']['suffixes'].keys())"
   ]
  },
  {
   "cell_type": "markdown",
   "id": "27e5519f",
   "metadata": {},
   "source": [
    "***"
   ]
  },
  {
   "cell_type": "markdown",
   "id": "7e78f26f",
   "metadata": {},
   "source": [
    "## MARIS Open Refine "
   ]
  },
  {
   "cell_type": "markdown",
   "id": "83c37687",
   "metadata": {},
   "source": [
    "Currently, updates to the MARIS database are facilitated through a standardized CSV file using Open Refine. Description of the variables included in this CSV file are provided at [Maris](https://maris.iaea.org/help/1132).\n",
    " \n",
    "\n"
   ]
  },
  {
   "cell_type": "markdown",
   "id": "fe953fc7",
   "metadata": {},
   "source": [
    "***"
   ]
  },
  {
   "cell_type": "markdown",
   "id": "83f31d33",
   "metadata": {},
   "source": [
    "## MARIS Open Refine CSV & MARIS NetCDF variable relationship. "
   ]
  },
  {
   "cell_type": "markdown",
   "id": "353fc4c6",
   "metadata": {},
   "source": [
    "The table below lists the MARIS variables in both MARIS Open Refine and MARIS NetCDF formats. Each variable's presence in both formats for the seawater (``sea``), biota (``bio``), and sediment (``sed``) groups is indicated with a checkmark (``✓``)."
   ]
  },
  {
   "cell_type": "markdown",
   "id": "4c65a7c1",
   "metadata": {},
   "source": [
    "\n",
    "<style>\n",
    "  table {\n",
    "    width: 100%;\n",
    "    border-collapse: collapse\n",
    "  }\n",
    "\n",
    "  td,\n",
    "  th {\n",
    "    border: 1px solid #000;\n",
    "    padding: 5px;\n",
    "    text-align: center\n",
    "  }\n",
    "\n",
    "  th {\n",
    "    background-color: #f2f2f2\n",
    "  }\n",
    "\n",
    "  .open-refine {\n",
    "    background-color: #fff;\n",
    "    color: black;\n",
    "    text-align: center\n",
    "\n",
    "  }\n",
    "\n",
    "  .netcdf {\n",
    "    background-color: #e6e6e6;\n",
    "    color: black;\n",
    "    text-align: center\n",
    "  }\n",
    "</style>\n",
    "<table>\n",
    "  <thead>\n",
    "    <tr>\n",
    "      <th class=\"open-refine\">Open Refine Variables</th>\n",
    "      <th class=\"open-refine\">sea</th>\n",
    "      <th class=\"open-refine\">bio</th>\n",
    "      <th class=\"open-refine\">sed</th>\n",
    "      <th class=\"netcdf\">sea</th>\n",
    "      <th class=\"netcdf\">bio</th>\n",
    "      <th class=\"netcdf\">sed</th>\n",
    "      <th class=\"netcdf\">NetCDF Variables</th>\n",
    "    </tr>\n",
    "  </thead>\n",
    "  <tbody>\n",
    "    <tr>\n",
    "      <td class=\"open-refine\">Sample type</td>\n",
    "      <td class=\"open-refine\">✓</td>\n",
    "      <td class=\"open-refine\">✓</td>\n",
    "      <td class=\"open-refine\">✓</td>\n",
    "      <td class=\"netcdf\">✓</td>\n",
    "      <td class=\"netcdf\">✓</td>\n",
    "      <td class=\"netcdf\">✓</td>\n",
    "      <td class=\"netcdf\">*Included as netcdf.group*</td>\n",
    "    </tr>\n",
    "    <tr>\n",
    "      <td class=\"open-refine\">Latitude decimal</td>\n",
    "      <td class=\"open-refine\">✓</td>\n",
    "      <td class=\"open-refine\">✓</td>\n",
    "      <td class=\"open-refine\">✓</td>\n",
    "      <td class=\"netcdf\">✓</td>\n",
    "      <td class=\"netcdf\">✓</td>\n",
    "      <td class=\"netcdf\">✓</td>\n",
    "      <td class=\"netcdf\">lat</td>\n",
    "    </tr>\n",
    "    <tr>\n",
    "      <td class=\"open-refine\">Longitude decimal</td>\n",
    "      <td class=\"open-refine\">✓</td>\n",
    "      <td class=\"open-refine\">✓</td>\n",
    "      <td class=\"open-refine\">✓</td>\n",
    "      <td class=\"netcdf\">✓</td>\n",
    "      <td class=\"netcdf\">✓</td>\n",
    "      <td class=\"netcdf\">✓</td>\n",
    "      <td class=\"netcdf\">lon</td>\n",
    "    </tr>\n",
    "    <tr>\n",
    "      <td class=\"open-refine\">Sampling start date</td>\n",
    "      <td class=\"open-refine\">✓</td>\n",
    "      <td class=\"open-refine\">✓</td>\n",
    "      <td class=\"open-refine\">✓</td>\n",
    "      <td class=\"netcdf\">✓</td>\n",
    "      <td class=\"netcdf\">✓</td>\n",
    "      <td class=\"netcdf\">✓</td>\n",
    "      <td class=\"netcdf\">time</td>\n",
    "    </tr>\n",
    "    <tr>\n",
    "      <td class=\"open-refine\">Sampling start time</td>\n",
    "      <td class=\"open-refine\">✓</td>\n",
    "      <td class=\"open-refine\">✓</td>\n",
    "      <td class=\"open-refine\">✓</td>\n",
    "      <td class=\"netcdf\">✓</td>\n",
    "      <td class=\"netcdf\">✓</td>\n",
    "      <td class=\"netcdf\">✓</td>\n",
    "      <td class=\"netcdf\">time</td>\n",
    "    </tr>\n",
    "    <tr>\n",
    "      <td class=\"open-refine\">Sampling end date</td>\n",
    "      <td class=\"open-refine\">✓</td>\n",
    "      <td class=\"open-refine\">✓</td>\n",
    "      <td class=\"open-refine\">✓</td>\n",
    "      <td class=\"netcdf\"></td>\n",
    "      <td class=\"netcdf\"></td>\n",
    "      <td class=\"netcdf\"></td>\n",
    "      <td class=\"netcdf\"></td>\n",
    "    </tr>\n",
    "    <tr>\n",
    "      <td class=\"open-refine\">Sampling end time</td>\n",
    "      <td class=\"open-refine\">✓</td>\n",
    "      <td class=\"open-refine\">✓</td>\n",
    "      <td class=\"open-refine\">✓</td>\n",
    "      <td class=\"netcdf\"></td>\n",
    "      <td class=\"netcdf\"></td>\n",
    "      <td class=\"netcdf\"></td>\n",
    "      <td class=\"netcdf\"></td>\n",
    "    </tr>\n",
    "    <tr>\n",
    "      <td class=\"open-refine\">Nuclide</td>\n",
    "      <td class=\"open-refine\">✓</td>\n",
    "      <td class=\"open-refine\">✓</td>\n",
    "      <td class=\"open-refine\">✓</td>\n",
    "      <td class=\"netcdf\">✓</td>\n",
    "      <td class=\"netcdf\">✓</td>\n",
    "      <td class=\"netcdf\">✓</td>\n",
    "      <td class=\"netcdf\">nuclide</td>\n",
    "    </tr>\n",
    "    <tr>\n",
    "      <td class=\"open-refine\">Value type</td>\n",
    "      <td class=\"open-refine\">✓</td>\n",
    "      <td class=\"open-refine\">✓</td>\n",
    "      <td class=\"open-refine\">✓</td>\n",
    "      <td class=\"netcdf\">✓</td>\n",
    "      <td class=\"netcdf\">✓</td>\n",
    "      <td class=\"netcdf\">✓</td>\n",
    "      <td class=\"netcdf\">detection_limit</td>\n",
    "    </tr>\n",
    "    <tr>\n",
    "      <td class=\"open-refine\">Unit</td>\n",
    "      <td class=\"open-refine\">✓</td>\n",
    "      <td class=\"open-refine\">✓</td>\n",
    "      <td class=\"open-refine\">✓</td>\n",
    "      <td class=\"netcdf\">✓</td>\n",
    "      <td class=\"netcdf\">✓</td>\n",
    "      <td class=\"netcdf\">✓</td>\n",
    "      <td class=\"netcdf\">unit</td>\n",
    "    </tr>\n",
    "    <tr>\n",
    "      <td class=\"open-refine\">Activity or MDA</td>\n",
    "      <td class=\"open-refine\">✓</td>\n",
    "      <td class=\"open-refine\">✓</td>\n",
    "      <td class=\"open-refine\">✓</td>\n",
    "      <td class=\"netcdf\">✓</td>\n",
    "      <td class=\"netcdf\">✓</td>\n",
    "      <td class=\"netcdf\">✓</td>\n",
    "      <td class=\"netcdf\">value</td>\n",
    "    </tr>\n",
    "    <tr>\n",
    "      <td class=\"open-refine\">Uncertainty</td>\n",
    "      <td class=\"open-refine\">✓</td>\n",
    "      <td class=\"open-refine\">✓</td>\n",
    "      <td class=\"open-refine\">✓</td>\n",
    "      <td class=\"netcdf\">✓</td>\n",
    "      <td class=\"netcdf\">✓</td>\n",
    "      <td class=\"netcdf\">✓</td>\n",
    "      <td class=\"netcdf\">uncertainty</td>\n",
    "    </tr>\n",
    "    <tr>\n",
    "      <td class=\"open-refine\">Sampling depth</td>\n",
    "      <td class=\"open-refine\">✓</td>\n",
    "      <td class=\"open-refine\"></td>\n",
    "      <td class=\"open-refine\">✓</td>\n",
    "      <td class=\"netcdf\">✓</td>\n",
    "      <td class=\"netcdf\">✓</td>\n",
    "      <td class=\"netcdf\">✓</td>\n",
    "      <td class=\"netcdf\">smp_depth</td>\n",
    "    </tr>\n",
    "    <tr>\n",
    "      <td class=\"open-refine\">Top</td>\n",
    "      <td class=\"open-refine\"></td>\n",
    "      <td class=\"open-refine\"></td>\n",
    "      <td class=\"open-refine\">✓</td>\n",
    "      <td class=\"netcdf\"></td>\n",
    "      <td class=\"netcdf\"></td>\n",
    "      <td class=\"netcdf\"></td>\n",
    "      <td class=\"netcdf\"></td>\n",
    "    </tr>\n",
    "    <tr>\n",
    "      <td class=\"open-refine\">Bottom</td>\n",
    "      <td class=\"open-refine\"></td>\n",
    "      <td class=\"open-refine\"></td>\n",
    "      <td class=\"open-refine\">✓</td>\n",
    "      <td class=\"netcdf\"></td>\n",
    "      <td class=\"netcdf\"></td>\n",
    "      <td class=\"netcdf\"></td>\n",
    "      <td class=\"netcdf\"></td>\n",
    "    </tr>\n",
    "    <tr>\n",
    "      <td class=\"open-refine\">Species</td>\n",
    "      <td class=\"open-refine\"></td>\n",
    "      <td class=\"open-refine\">✓</td>\n",
    "      <td class=\"open-refine\"></td>\n",
    "      <td class=\"netcdf\"></td>\n",
    "      <td class=\"netcdf\">✓</td>\n",
    "      <td class=\"netcdf\"></td>\n",
    "      <td class=\"netcdf\">species</td>\n",
    "    </tr>\n",
    "    <tr>\n",
    "      <td class=\"open-refine\">Body part</td>\n",
    "      <td class=\"open-refine\"></td>\n",
    "      <td class=\"open-refine\">✓</td>\n",
    "      <td class=\"open-refine\"></td>\n",
    "      <td class=\"netcdf\"></td>\n",
    "      <td class=\"netcdf\">✓</td>\n",
    "      <td class=\"netcdf\"></td>\n",
    "      <td class=\"netcdf\">body_part</td>\n",
    "    </tr>\n",
    "    <tr>\n",
    "      <td class=\"open-refine\"></td>\n",
    "      <td class=\"open-refine\"></td>\n",
    "      <td class=\"open-refine\"></td>\n",
    "      <td class=\"open-refine\"></td>\n",
    "      <td class=\"netcdf\"></td>\n",
    "      <td class=\"netcdf\">✓</td>\n",
    "      <td class=\"netcdf\"></td>\n",
    "      <td class=\"netcdf\">bio_group</td>\n",
    "    </tr>\n",
    "    <tr>\n",
    "      <td class=\"open-refine\">Salinity</td>\n",
    "      <td class=\"open-refine\">✓</td>\n",
    "      <td class=\"open-refine\"></td>\n",
    "      <td class=\"open-refine\"></td>\n",
    "      <td class=\"netcdf\">✓</td>\n",
    "      <td class=\"netcdf\">✓</td>\n",
    "      <td class=\"netcdf\">✓</td>\n",
    "      <td class=\"netcdf\">salinity</td>\n",
    "    </tr>\n",
    "    <tr>\n",
    "      <td class=\"open-refine\">Temperature</td>\n",
    "      <td class=\"open-refine\">✓</td>\n",
    "      <td class=\"open-refine\"></td>\n",
    "      <td class=\"open-refine\"></td>\n",
    "      <td class=\"netcdf\">✓</td>\n",
    "      <td class=\"netcdf\">✓</td>\n",
    "      <td class=\"netcdf\">✓</td>\n",
    "      <td class=\"netcdf\">temperature</td>\n",
    "    </tr>\n",
    "    <tr>\n",
    "      <td class=\"open-refine\">Filtered</td>\n",
    "      <td class=\"open-refine\">✓</td>\n",
    "      <td class=\"open-refine\"></td>\n",
    "      <td class=\"open-refine\"></td>\n",
    "      <td class=\"netcdf\">✓</td>\n",
    "      <td class=\"netcdf\">✓</td>\n",
    "      <td class=\"netcdf\">✓</td>\n",
    "      <td class=\"netcdf\">filtered</td>\n",
    "    </tr>\n",
    "    <tr>\n",
    "      <td class=\"open-refine\">Mesh size</td>\n",
    "      <td class=\"open-refine\">✓</td>\n",
    "      <td class=\"open-refine\"></td>\n",
    "      <td class=\"open-refine\"></td>\n",
    "      <td class=\"netcdf\"></td>\n",
    "      <td class=\"netcdf\"></td>\n",
    "      <td class=\"netcdf\"></td>\n",
    "      <td class=\"netcdf\"></td>\n",
    "    </tr>\n",
    "    <tr>\n",
    "      <td class=\"open-refine\">Quality flag</td>\n",
    "      <td class=\"open-refine\">✓</td>\n",
    "      <td class=\"open-refine\">✓</td>\n",
    "      <td class=\"open-refine\">✓</td>\n",
    "      <td class=\"netcdf\"></td>\n",
    "      <td class=\"netcdf\"></td>\n",
    "      <td class=\"netcdf\"></td>\n",
    "      <td class=\"netcdf\"></td>\n",
    "    </tr>\n",
    "    <tr>\n",
    "      <td class=\"open-refine\">Sediment type</td>\n",
    "      <td class=\"open-refine\"></td>\n",
    "      <td class=\"open-refine\"></td>\n",
    "      <td class=\"open-refine\">✓</td>\n",
    "      <td class=\"netcdf\"></td>\n",
    "      <td class=\"netcdf\"></td>\n",
    "      <td class=\"netcdf\">✓</td>\n",
    "      <td class=\"netcdf\">sed_type</td>\n",
    "    </tr>\n",
    "    <tr>\n",
    "      <td class=\"open-refine\">Dry weight</td>\n",
    "      <td class=\"open-refine\"></td>\n",
    "      <td class=\"open-refine\">✓</td>\n",
    "      <td class=\"open-refine\">✓</td>\n",
    "      <td class=\"netcdf\"></td>\n",
    "      <td class=\"netcdf\"></td>\n",
    "      <td class=\"netcdf\"></td>\n",
    "      <td class=\"netcdf\"></td>\n",
    "    </tr>\n",
    "    <tr>\n",
    "      <td class=\"open-refine\">Wet weight</td>\n",
    "      <td class=\"open-refine\"></td>\n",
    "      <td class=\"open-refine\">✓</td>\n",
    "      <td class=\"open-refine\">✓</td>\n",
    "      <td class=\"netcdf\"></td>\n",
    "      <td class=\"netcdf\"></td>\n",
    "      <td class=\"netcdf\"></td>\n",
    "      <td class=\"netcdf\"></td>\n",
    "    </tr>\n",
    "    <tr>\n",
    "      <td class=\"open-refine\">Dry/wet ratio</td>\n",
    "      <td class=\"open-refine\"></td>\n",
    "      <td class=\"open-refine\">✓</td>\n",
    "      <td class=\"open-refine\">✓</td>\n",
    "      <td class=\"netcdf\"></td>\n",
    "      <td class=\"netcdf\"></td>\n",
    "      <td class=\"netcdf\"></td>\n",
    "      <td class=\"netcdf\"></td>\n",
    "    </tr>\n",
    "    <tr>\n",
    "      <td class=\"open-refine\">Station ID</td>\n",
    "      <td class=\"open-refine\">✓</td>\n",
    "      <td class=\"open-refine\">✓</td>\n",
    "      <td class=\"open-refine\">✓</td>\n",
    "      <td class=\"netcdf\"></td>\n",
    "      <td class=\"netcdf\"></td>\n",
    "      <td class=\"netcdf\"></td>\n",
    "      <td class=\"netcdf\"></td>\n",
    "    </tr>\n",
    "    <tr>\n",
    "      <td class=\"open-refine\">Sample ID</td>\n",
    "      <td class=\"open-refine\">✓</td>\n",
    "      <td class=\"open-refine\">✓</td>\n",
    "      <td class=\"open-refine\">✓</td>\n",
    "      <td class=\"netcdf\">✓</td>\n",
    "      <td class=\"netcdf\">✓</td>\n",
    "      <td class=\"netcdf\">✓</td>\n",
    "      <td class=\"netcdf\">data_provider_sample_id</td>\n",
    "    </tr>\n",
    "    <tr>\n",
    "      <td class=\"open-refine\">Total depth</td>\n",
    "      <td class=\"open-refine\">✓</td>\n",
    "      <td class=\"open-refine\"></td>\n",
    "      <td class=\"open-refine\"></td>\n",
    "      <td class=\"netcdf\">✓</td>\n",
    "      <td class=\"netcdf\">✓</td>\n",
    "      <td class=\"netcdf\">✓</td>\n",
    "      <td class=\"netcdf\">tot_depth</td>\n",
    "    </tr>\n",
    "    <tr>\n",
    "      <td class=\"open-refine\">Profile or transect ID</td>\n",
    "      <td class=\"open-refine\">✓</td>\n",
    "      <td class=\"open-refine\">✓</td>\n",
    "      <td class=\"open-refine\">✓</td>\n",
    "      <td class=\"netcdf\"></td>\n",
    "      <td class=\"netcdf\"></td>\n",
    "      <td class=\"netcdf\"></td>\n",
    "      <td class=\"netcdf\"></td>\n",
    "    </tr>\n",
    "    <tr>\n",
    "      <td class=\"open-refine\">Sampling method</td>\n",
    "      <td class=\"open-refine\">✓</td>\n",
    "      <td class=\"open-refine\">✓</td>\n",
    "      <td class=\"open-refine\">✓</td>\n",
    "      <td class=\"netcdf\">✓</td>\n",
    "      <td class=\"netcdf\">✓</td>\n",
    "      <td class=\"netcdf\">✓</td>\n",
    "      <td class=\"netcdf\">sampling_method</td>\n",
    "    </tr>\n",
    "    <tr>\n",
    "      <td class=\"open-refine\">Preparation method</td>\n",
    "      <td class=\"open-refine\">✓</td>\n",
    "      <td class=\"open-refine\">✓</td>\n",
    "      <td class=\"open-refine\">✓</td>\n",
    "      <td class=\"netcdf\">✓</td>\n",
    "      <td class=\"netcdf\">✓</td>\n",
    "      <td class=\"netcdf\">✓</td>\n",
    "      <td class=\"netcdf\">preparation_method</td>\n",
    "    </tr>\n",
    "    <tr>\n",
    "      <td class=\"open-refine\">Drying method</td>\n",
    "      <td class=\"open-refine\"></td>\n",
    "      <td class=\"open-refine\">✓</td>\n",
    "      <td class=\"open-refine\">✓</td>\n",
    "      <td class=\"netcdf\"></td>\n",
    "      <td class=\"netcdf\"></td>\n",
    "      <td class=\"netcdf\"></td>\n",
    "      <td class=\"netcdf\"></td>\n",
    "    </tr>\n",
    "    <tr>\n",
    "      <td class=\"open-refine\">Counting method</td>\n",
    "      <td class=\"open-refine\">✓</td>\n",
    "      <td class=\"open-refine\">✓</td>\n",
    "      <td class=\"open-refine\">✓</td>\n",
    "      <td class=\"netcdf\">✓</td>\n",
    "      <td class=\"netcdf\">✓</td>\n",
    "      <td class=\"netcdf\">✓</td>\n",
    "      <td class=\"netcdf\">counting_method</td>\n",
    "    </tr>\n",
    "    <tr>\n",
    "      <td class=\"open-refine\">Sample notes</td>\n",
    "      <td class=\"open-refine\">✓</td>\n",
    "      <td class=\"open-refine\">✓</td>\n",
    "      <td class=\"open-refine\">✓</td>\n",
    "      <td class=\"netcdf\">✓</td>\n",
    "      <td class=\"netcdf\">✓</td>\n",
    "      <td class=\"netcdf\">✓</td>\n",
    "      <td class=\"netcdf\">sample_notes<sup>*1</sup></td>\n",
    "    </tr>\n",
    "    <tr>\n",
    "      <td class=\"open-refine\">Measurement notes</td>\n",
    "      <td class=\"open-refine\">✓</td>\n",
    "      <td class=\"open-refine\">✓</td>\n",
    "      <td class=\"open-refine\">✓</td>\n",
    "      <td class=\"netcdf\">✓</td>\n",
    "      <td class=\"netcdf\">✓</td>\n",
    "      <td class=\"netcdf\">✓</td>\n",
    "      <td class=\"netcdf\">measurement_notes<sup>*1</sup></td>\n",
    "    </tr>\n",
    "  </tbody>\n",
    "</table>"
   ]
  },
  {
   "cell_type": "markdown",
   "id": "f6bcd47a",
   "metadata": {},
   "source": [
    "<sup>*1</sup> The MARIS NetCDF does not currently support strings of variable length (i.e. vlen string data type)."
   ]
  },
  {
   "cell_type": "markdown",
   "id": "1acc6103",
   "metadata": {},
   "source": [
    "***"
   ]
  },
  {
   "cell_type": "markdown",
   "id": "e045eeae",
   "metadata": {},
   "source": [
    "## Define variables"
   ]
  },
  {
   "cell_type": "markdown",
   "id": "8b0b476d",
   "metadata": {},
   "source": [
    "1. **fname_in** - is the path to the folder containing the HELCOM data in CSV format. The path can be defined as a relative path. \n",
    "\n",
    "2. **fname_out_nc** - is the path and filename for the NetCDF output.The path can be defined as a relative path. \n",
    "\n",
    "3. **Zotero key** - is used to retrieve attributes related to the dataset from [Zotero](https://www.zotero.org/). The MARIS datasets include a [library](https://maris.iaea.org/datasets) available on [Zotero](https://www.zotero.org/groups/2432820/maris/library). \n"
   ]
  },
  {
   "cell_type": "code",
   "execution_count": null,
   "id": "715e849d",
   "metadata": {},
   "outputs": [],
   "source": [
    "# | export\n",
    "fname_in = '../../_data/accdb/mors/csv'\n",
    "fname_out_nc = '../../_data/output/100-HELCOM-MORS-2024.nc'\n",
    "fname_out_csv = '../../_data/output/100-HELCOM-MORS-2024.csv'\n",
    "zotero_key ='26VMZZ2Q'\n",
    "ref_id = 100"
   ]
  },
  {
   "cell_type": "markdown",
   "id": "acbf9628",
   "metadata": {},
   "source": [
    "***"
   ]
  },
  {
   "attachments": {},
   "cell_type": "markdown",
   "id": "dd04abcd",
   "metadata": {},
   "source": [
    "## Utils"
   ]
  },
  {
   "cell_type": "code",
   "execution_count": null,
   "id": "7f9f0f52",
   "metadata": {},
   "outputs": [],
   "source": [
    "#| export\n",
    "def load_data(src_dir,\n",
    "                smp_types=['SEA', 'SED', 'BIO']):\n",
    "    \"Load HELCOM data and return the data in a dictionary of dataframes with the dictionary key as the sample type\"\n",
    "    dfs = {}\n",
    "    lut_smp_type = {'SEA': 'seawater', 'SED': 'sediment', 'BIO': 'biota'}\n",
    "    for smp_type in smp_types:\n",
    "        fname_meas = smp_type + '02.csv' # measurement (i.e. radioactivity) information.\n",
    "        fname_smp = smp_type + '01.csv' # sample information \n",
    "        df = pd.merge(pd.read_csv(Path(src_dir)/fname_meas),  # measurements\n",
    "                      pd.read_csv(Path(src_dir)/fname_smp),  # sample\n",
    "                      on='KEY', how='left')\n",
    "        dfs[lut_smp_type[smp_type]] = df\n",
    "    return dfs"
   ]
  },
  {
   "cell_type": "markdown",
   "id": "f89bb0fd",
   "metadata": {},
   "source": [
    "***"
   ]
  },
  {
   "attachments": {},
   "cell_type": "markdown",
   "id": "5e534545",
   "metadata": {},
   "source": [
    "## Load data"
   ]
  },
  {
   "cell_type": "markdown",
   "id": "69e48dc6",
   "metadata": {},
   "source": [
    "`dfs` is a dictionary of dataframes created from the Helcom dataset located at the path `fname_in`. The data to be included in each dataframe is sorted by sample type. Each dictionary is defined with a key equal to the sample type. "
   ]
  },
  {
   "cell_type": "code",
   "execution_count": null,
   "id": "bb4bf289",
   "metadata": {},
   "outputs": [
    {
     "name": "stdout",
     "output_type": "stream",
     "text": [
      "dict_keys(['seawater', 'sediment', 'biota'])\n",
      "Seawater cols: Index(['KEY', 'NUCLIDE', 'METHOD', '< VALUE_Bq/m³', 'VALUE_Bq/m³', 'ERROR%_m³',\n",
      "       'DATE_OF_ENTRY_x', 'COUNTRY', 'LABORATORY', 'SEQUENCE', 'DATE', 'YEAR',\n",
      "       'MONTH', 'DAY', 'STATION', 'LATITUDE (ddmmmm)', 'LATITUDE (dddddd)',\n",
      "       'LONGITUDE (ddmmmm)', 'LONGITUDE (dddddd)', 'TDEPTH', 'SDEPTH', 'SALIN',\n",
      "       'TTEMP', 'FILT', 'MORS_SUBBASIN', 'HELCOM_SUBBASIN', 'DATE_OF_ENTRY_y'],\n",
      "      dtype='object')\n",
      "Sediment cols: Index(['KEY', 'NUCLIDE', 'METHOD', '< VALUE_Bq/kg', 'VALUE_Bq/kg', 'ERROR%_kg',\n",
      "       '< VALUE_Bq/m²', 'VALUE_Bq/m²', 'ERROR%_m²', 'DATE_OF_ENTRY_x',\n",
      "       'COUNTRY', 'LABORATORY', 'SEQUENCE', 'DATE', 'YEAR', 'MONTH', 'DAY',\n",
      "       'STATION', 'LATITUDE (ddmmmm)', 'LATITUDE (dddddd)',\n",
      "       'LONGITUDE (ddmmmm)', 'LONGITUDE (dddddd)', 'DEVICE', 'TDEPTH',\n",
      "       'UPPSLI', 'LOWSLI', 'AREA', 'SEDI', 'OXIC', 'DW%', 'LOI%',\n",
      "       'MORS_SUBBASIN', 'HELCOM_SUBBASIN', 'SUM_LINK', 'DATE_OF_ENTRY_y'],\n",
      "      dtype='object')\n",
      "Biota cols: Index(['KEY', 'NUCLIDE', 'METHOD', '< VALUE_Bq/kg', 'VALUE_Bq/kg', 'BASIS',\n",
      "       'ERROR%', 'NUMBER', 'DATE_OF_ENTRY_x', 'COUNTRY', 'LABORATORY',\n",
      "       'SEQUENCE', 'DATE', 'YEAR', 'MONTH', 'DAY', 'STATION',\n",
      "       'LATITUDE ddmmmm', 'LATITUDE dddddd', 'LONGITUDE ddmmmm',\n",
      "       'LONGITUDE dddddd', 'SDEPTH', 'RUBIN', 'BIOTATYPE', 'TISSUE', 'NO',\n",
      "       'LENGTH', 'WEIGHT', 'DW%', 'LOI%', 'MORS_SUBBASIN', 'HELCOM_SUBBASIN',\n",
      "       'DATE_OF_ENTRY_y'],\n",
      "      dtype='object')\n"
     ]
    }
   ],
   "source": [
    "#|eval: false\n",
    "dfs = load_data(fname_in)\n",
    "print(dfs.keys())\n",
    "print(f\"Seawater cols: {dfs['seawater'].columns}\")\n",
    "print(f\"Sediment cols: {dfs['sediment'].columns}\")\n",
    "print(f\"Biota cols: {dfs['biota'].columns}\")"
   ]
  },
  {
   "cell_type": "markdown",
   "id": "a785805a",
   "metadata": {},
   "source": [
    "Show the structure of the `seawater` dataframe:"
   ]
  },
  {
   "cell_type": "code",
   "execution_count": null,
   "id": "7f9aeb06",
   "metadata": {},
   "outputs": [
    {
     "data": {
      "text/html": [
       "<div>\n",
       "<style scoped>\n",
       "    .dataframe tbody tr th:only-of-type {\n",
       "        vertical-align: middle;\n",
       "    }\n",
       "\n",
       "    .dataframe tbody tr th {\n",
       "        vertical-align: top;\n",
       "    }\n",
       "\n",
       "    .dataframe thead th {\n",
       "        text-align: right;\n",
       "    }\n",
       "</style>\n",
       "<table border=\"1\" class=\"dataframe\">\n",
       "  <thead>\n",
       "    <tr style=\"text-align: right;\">\n",
       "      <th></th>\n",
       "      <th>KEY</th>\n",
       "      <th>NUCLIDE</th>\n",
       "      <th>METHOD</th>\n",
       "      <th>&lt; VALUE_Bq/m³</th>\n",
       "      <th>VALUE_Bq/m³</th>\n",
       "      <th>ERROR%_m³</th>\n",
       "      <th>DATE_OF_ENTRY_x</th>\n",
       "      <th>COUNTRY</th>\n",
       "      <th>LABORATORY</th>\n",
       "      <th>SEQUENCE</th>\n",
       "      <th>...</th>\n",
       "      <th>LONGITUDE (ddmmmm)</th>\n",
       "      <th>LONGITUDE (dddddd)</th>\n",
       "      <th>TDEPTH</th>\n",
       "      <th>SDEPTH</th>\n",
       "      <th>SALIN</th>\n",
       "      <th>TTEMP</th>\n",
       "      <th>FILT</th>\n",
       "      <th>MORS_SUBBASIN</th>\n",
       "      <th>HELCOM_SUBBASIN</th>\n",
       "      <th>DATE_OF_ENTRY_y</th>\n",
       "    </tr>\n",
       "  </thead>\n",
       "  <tbody>\n",
       "    <tr>\n",
       "      <th>0</th>\n",
       "      <td>WKRIL2012003</td>\n",
       "      <td>CS137</td>\n",
       "      <td>NaN</td>\n",
       "      <td>NaN</td>\n",
       "      <td>5.3</td>\n",
       "      <td>32.0</td>\n",
       "      <td>08/20/14 00:00:00</td>\n",
       "      <td>90.0</td>\n",
       "      <td>KRIL</td>\n",
       "      <td>2012003.0</td>\n",
       "      <td>...</td>\n",
       "      <td>29.20</td>\n",
       "      <td>29.3333</td>\n",
       "      <td>NaN</td>\n",
       "      <td>0.0</td>\n",
       "      <td>NaN</td>\n",
       "      <td>NaN</td>\n",
       "      <td>NaN</td>\n",
       "      <td>11.0</td>\n",
       "      <td>11.0</td>\n",
       "      <td>08/20/14 00:00:00</td>\n",
       "    </tr>\n",
       "    <tr>\n",
       "      <th>1</th>\n",
       "      <td>WKRIL2012004</td>\n",
       "      <td>CS137</td>\n",
       "      <td>NaN</td>\n",
       "      <td>NaN</td>\n",
       "      <td>19.9</td>\n",
       "      <td>20.0</td>\n",
       "      <td>08/20/14 00:00:00</td>\n",
       "      <td>90.0</td>\n",
       "      <td>KRIL</td>\n",
       "      <td>2012004.0</td>\n",
       "      <td>...</td>\n",
       "      <td>29.20</td>\n",
       "      <td>29.3333</td>\n",
       "      <td>NaN</td>\n",
       "      <td>29.0</td>\n",
       "      <td>NaN</td>\n",
       "      <td>NaN</td>\n",
       "      <td>NaN</td>\n",
       "      <td>11.0</td>\n",
       "      <td>11.0</td>\n",
       "      <td>08/20/14 00:00:00</td>\n",
       "    </tr>\n",
       "    <tr>\n",
       "      <th>2</th>\n",
       "      <td>WKRIL2012005</td>\n",
       "      <td>CS137</td>\n",
       "      <td>NaN</td>\n",
       "      <td>NaN</td>\n",
       "      <td>25.5</td>\n",
       "      <td>20.0</td>\n",
       "      <td>08/20/14 00:00:00</td>\n",
       "      <td>90.0</td>\n",
       "      <td>KRIL</td>\n",
       "      <td>2012005.0</td>\n",
       "      <td>...</td>\n",
       "      <td>23.09</td>\n",
       "      <td>23.1500</td>\n",
       "      <td>NaN</td>\n",
       "      <td>0.0</td>\n",
       "      <td>NaN</td>\n",
       "      <td>NaN</td>\n",
       "      <td>NaN</td>\n",
       "      <td>11.0</td>\n",
       "      <td>3.0</td>\n",
       "      <td>08/20/14 00:00:00</td>\n",
       "    </tr>\n",
       "    <tr>\n",
       "      <th>3</th>\n",
       "      <td>WKRIL2012006</td>\n",
       "      <td>CS137</td>\n",
       "      <td>NaN</td>\n",
       "      <td>NaN</td>\n",
       "      <td>17.0</td>\n",
       "      <td>29.0</td>\n",
       "      <td>08/20/14 00:00:00</td>\n",
       "      <td>90.0</td>\n",
       "      <td>KRIL</td>\n",
       "      <td>2012006.0</td>\n",
       "      <td>...</td>\n",
       "      <td>27.59</td>\n",
       "      <td>27.9833</td>\n",
       "      <td>NaN</td>\n",
       "      <td>0.0</td>\n",
       "      <td>NaN</td>\n",
       "      <td>NaN</td>\n",
       "      <td>NaN</td>\n",
       "      <td>11.0</td>\n",
       "      <td>11.0</td>\n",
       "      <td>08/20/14 00:00:00</td>\n",
       "    </tr>\n",
       "    <tr>\n",
       "      <th>4</th>\n",
       "      <td>WKRIL2012007</td>\n",
       "      <td>CS137</td>\n",
       "      <td>NaN</td>\n",
       "      <td>NaN</td>\n",
       "      <td>22.2</td>\n",
       "      <td>18.0</td>\n",
       "      <td>08/20/14 00:00:00</td>\n",
       "      <td>90.0</td>\n",
       "      <td>KRIL</td>\n",
       "      <td>2012007.0</td>\n",
       "      <td>...</td>\n",
       "      <td>27.59</td>\n",
       "      <td>27.9833</td>\n",
       "      <td>NaN</td>\n",
       "      <td>39.0</td>\n",
       "      <td>NaN</td>\n",
       "      <td>NaN</td>\n",
       "      <td>NaN</td>\n",
       "      <td>11.0</td>\n",
       "      <td>11.0</td>\n",
       "      <td>08/20/14 00:00:00</td>\n",
       "    </tr>\n",
       "  </tbody>\n",
       "</table>\n",
       "<p>5 rows × 27 columns</p>\n",
       "</div>"
      ],
      "text/plain": [
       "            KEY NUCLIDE METHOD < VALUE_Bq/m³  VALUE_Bq/m³  ERROR%_m³  \\\n",
       "0  WKRIL2012003   CS137    NaN           NaN          5.3       32.0   \n",
       "1  WKRIL2012004   CS137    NaN           NaN         19.9       20.0   \n",
       "2  WKRIL2012005   CS137    NaN           NaN         25.5       20.0   \n",
       "3  WKRIL2012006   CS137    NaN           NaN         17.0       29.0   \n",
       "4  WKRIL2012007   CS137    NaN           NaN         22.2       18.0   \n",
       "\n",
       "     DATE_OF_ENTRY_x  COUNTRY LABORATORY   SEQUENCE  ... LONGITUDE (ddmmmm)  \\\n",
       "0  08/20/14 00:00:00     90.0       KRIL  2012003.0  ...              29.20   \n",
       "1  08/20/14 00:00:00     90.0       KRIL  2012004.0  ...              29.20   \n",
       "2  08/20/14 00:00:00     90.0       KRIL  2012005.0  ...              23.09   \n",
       "3  08/20/14 00:00:00     90.0       KRIL  2012006.0  ...              27.59   \n",
       "4  08/20/14 00:00:00     90.0       KRIL  2012007.0  ...              27.59   \n",
       "\n",
       "   LONGITUDE (dddddd)  TDEPTH  SDEPTH SALIN  TTEMP  FILT  MORS_SUBBASIN  \\\n",
       "0             29.3333     NaN     0.0   NaN    NaN   NaN           11.0   \n",
       "1             29.3333     NaN    29.0   NaN    NaN   NaN           11.0   \n",
       "2             23.1500     NaN     0.0   NaN    NaN   NaN           11.0   \n",
       "3             27.9833     NaN     0.0   NaN    NaN   NaN           11.0   \n",
       "4             27.9833     NaN    39.0   NaN    NaN   NaN           11.0   \n",
       "\n",
       "   HELCOM_SUBBASIN    DATE_OF_ENTRY_y  \n",
       "0             11.0  08/20/14 00:00:00  \n",
       "1             11.0  08/20/14 00:00:00  \n",
       "2              3.0  08/20/14 00:00:00  \n",
       "3             11.0  08/20/14 00:00:00  \n",
       "4             11.0  08/20/14 00:00:00  \n",
       "\n",
       "[5 rows x 27 columns]"
      ]
     },
     "execution_count": null,
     "metadata": {},
     "output_type": "execute_result"
    }
   ],
   "source": [
    "#|eval: false\n",
    "dfs['seawater'].head()"
   ]
  },
  {
   "cell_type": "markdown",
   "id": "2423d697",
   "metadata": {},
   "source": [
    "Show the structure of the `biota` dataframe:"
   ]
  },
  {
   "cell_type": "code",
   "execution_count": null,
   "id": "1ac781a0",
   "metadata": {},
   "outputs": [
    {
     "data": {
      "text/html": [
       "<div>\n",
       "<style scoped>\n",
       "    .dataframe tbody tr th:only-of-type {\n",
       "        vertical-align: middle;\n",
       "    }\n",
       "\n",
       "    .dataframe tbody tr th {\n",
       "        vertical-align: top;\n",
       "    }\n",
       "\n",
       "    .dataframe thead th {\n",
       "        text-align: right;\n",
       "    }\n",
       "</style>\n",
       "<table border=\"1\" class=\"dataframe\">\n",
       "  <thead>\n",
       "    <tr style=\"text-align: right;\">\n",
       "      <th></th>\n",
       "      <th>KEY</th>\n",
       "      <th>NUCLIDE</th>\n",
       "      <th>METHOD</th>\n",
       "      <th>&lt; VALUE_Bq/kg</th>\n",
       "      <th>VALUE_Bq/kg</th>\n",
       "      <th>BASIS</th>\n",
       "      <th>ERROR%</th>\n",
       "      <th>NUMBER</th>\n",
       "      <th>DATE_OF_ENTRY_x</th>\n",
       "      <th>COUNTRY</th>\n",
       "      <th>...</th>\n",
       "      <th>BIOTATYPE</th>\n",
       "      <th>TISSUE</th>\n",
       "      <th>NO</th>\n",
       "      <th>LENGTH</th>\n",
       "      <th>WEIGHT</th>\n",
       "      <th>DW%</th>\n",
       "      <th>LOI%</th>\n",
       "      <th>MORS_SUBBASIN</th>\n",
       "      <th>HELCOM_SUBBASIN</th>\n",
       "      <th>DATE_OF_ENTRY_y</th>\n",
       "    </tr>\n",
       "  </thead>\n",
       "  <tbody>\n",
       "    <tr>\n",
       "      <th>0</th>\n",
       "      <td>BVTIG2012041</td>\n",
       "      <td>CS134</td>\n",
       "      <td>VTIG01</td>\n",
       "      <td>&lt;</td>\n",
       "      <td>0.010140</td>\n",
       "      <td>W</td>\n",
       "      <td>NaN</td>\n",
       "      <td>NaN</td>\n",
       "      <td>02/27/14 00:00:00</td>\n",
       "      <td>6.0</td>\n",
       "      <td>...</td>\n",
       "      <td>F</td>\n",
       "      <td>5</td>\n",
       "      <td>16.0</td>\n",
       "      <td>45.7</td>\n",
       "      <td>948.0</td>\n",
       "      <td>18.453</td>\n",
       "      <td>92.9</td>\n",
       "      <td>2.0</td>\n",
       "      <td>16</td>\n",
       "      <td>02/27/14 00:00:00</td>\n",
       "    </tr>\n",
       "    <tr>\n",
       "      <th>1</th>\n",
       "      <td>BVTIG2012041</td>\n",
       "      <td>K40</td>\n",
       "      <td>VTIG01</td>\n",
       "      <td></td>\n",
       "      <td>135.300000</td>\n",
       "      <td>W</td>\n",
       "      <td>3.57</td>\n",
       "      <td>NaN</td>\n",
       "      <td>02/27/14 00:00:00</td>\n",
       "      <td>6.0</td>\n",
       "      <td>...</td>\n",
       "      <td>F</td>\n",
       "      <td>5</td>\n",
       "      <td>16.0</td>\n",
       "      <td>45.7</td>\n",
       "      <td>948.0</td>\n",
       "      <td>18.453</td>\n",
       "      <td>92.9</td>\n",
       "      <td>2.0</td>\n",
       "      <td>16</td>\n",
       "      <td>02/27/14 00:00:00</td>\n",
       "    </tr>\n",
       "    <tr>\n",
       "      <th>2</th>\n",
       "      <td>BVTIG2012041</td>\n",
       "      <td>CO60</td>\n",
       "      <td>VTIG01</td>\n",
       "      <td>&lt;</td>\n",
       "      <td>0.013980</td>\n",
       "      <td>W</td>\n",
       "      <td>NaN</td>\n",
       "      <td>NaN</td>\n",
       "      <td>02/27/14 00:00:00</td>\n",
       "      <td>6.0</td>\n",
       "      <td>...</td>\n",
       "      <td>F</td>\n",
       "      <td>5</td>\n",
       "      <td>16.0</td>\n",
       "      <td>45.7</td>\n",
       "      <td>948.0</td>\n",
       "      <td>18.453</td>\n",
       "      <td>92.9</td>\n",
       "      <td>2.0</td>\n",
       "      <td>16</td>\n",
       "      <td>02/27/14 00:00:00</td>\n",
       "    </tr>\n",
       "    <tr>\n",
       "      <th>3</th>\n",
       "      <td>BVTIG2012041</td>\n",
       "      <td>CS137</td>\n",
       "      <td>VTIG01</td>\n",
       "      <td></td>\n",
       "      <td>4.338000</td>\n",
       "      <td>W</td>\n",
       "      <td>3.48</td>\n",
       "      <td>NaN</td>\n",
       "      <td>02/27/14 00:00:00</td>\n",
       "      <td>6.0</td>\n",
       "      <td>...</td>\n",
       "      <td>F</td>\n",
       "      <td>5</td>\n",
       "      <td>16.0</td>\n",
       "      <td>45.7</td>\n",
       "      <td>948.0</td>\n",
       "      <td>18.453</td>\n",
       "      <td>92.9</td>\n",
       "      <td>2.0</td>\n",
       "      <td>16</td>\n",
       "      <td>02/27/14 00:00:00</td>\n",
       "    </tr>\n",
       "    <tr>\n",
       "      <th>4</th>\n",
       "      <td>BVTIG2012040</td>\n",
       "      <td>CS134</td>\n",
       "      <td>VTIG01</td>\n",
       "      <td>&lt;</td>\n",
       "      <td>0.009614</td>\n",
       "      <td>W</td>\n",
       "      <td>NaN</td>\n",
       "      <td>NaN</td>\n",
       "      <td>02/27/14 00:00:00</td>\n",
       "      <td>6.0</td>\n",
       "      <td>...</td>\n",
       "      <td>F</td>\n",
       "      <td>5</td>\n",
       "      <td>17.0</td>\n",
       "      <td>45.9</td>\n",
       "      <td>964.0</td>\n",
       "      <td>18.458</td>\n",
       "      <td>92.9</td>\n",
       "      <td>2.0</td>\n",
       "      <td>16</td>\n",
       "      <td>02/27/14 00:00:00</td>\n",
       "    </tr>\n",
       "  </tbody>\n",
       "</table>\n",
       "<p>5 rows × 33 columns</p>\n",
       "</div>"
      ],
      "text/plain": [
       "            KEY   NUCLIDE  METHOD < VALUE_Bq/kg  VALUE_Bq/kg BASIS  ERROR%  \\\n",
       "0  BVTIG2012041  CS134     VTIG01             <     0.010140     W     NaN   \n",
       "1  BVTIG2012041  K40       VTIG01                 135.300000     W    3.57   \n",
       "2  BVTIG2012041  CO60      VTIG01             <     0.013980     W     NaN   \n",
       "3  BVTIG2012041  CS137     VTIG01                   4.338000     W    3.48   \n",
       "4  BVTIG2012040  CS134     VTIG01             <     0.009614     W     NaN   \n",
       "\n",
       "   NUMBER    DATE_OF_ENTRY_x  COUNTRY  ... BIOTATYPE  TISSUE    NO  LENGTH  \\\n",
       "0     NaN  02/27/14 00:00:00      6.0  ...         F       5  16.0    45.7   \n",
       "1     NaN  02/27/14 00:00:00      6.0  ...         F       5  16.0    45.7   \n",
       "2     NaN  02/27/14 00:00:00      6.0  ...         F       5  16.0    45.7   \n",
       "3     NaN  02/27/14 00:00:00      6.0  ...         F       5  16.0    45.7   \n",
       "4     NaN  02/27/14 00:00:00      6.0  ...         F       5  17.0    45.9   \n",
       "\n",
       "   WEIGHT     DW%  LOI%  MORS_SUBBASIN  HELCOM_SUBBASIN    DATE_OF_ENTRY_y  \n",
       "0   948.0  18.453  92.9            2.0               16  02/27/14 00:00:00  \n",
       "1   948.0  18.453  92.9            2.0               16  02/27/14 00:00:00  \n",
       "2   948.0  18.453  92.9            2.0               16  02/27/14 00:00:00  \n",
       "3   948.0  18.453  92.9            2.0               16  02/27/14 00:00:00  \n",
       "4   964.0  18.458  92.9            2.0               16  02/27/14 00:00:00  \n",
       "\n",
       "[5 rows x 33 columns]"
      ]
     },
     "execution_count": null,
     "metadata": {},
     "output_type": "execute_result"
    }
   ],
   "source": [
    "#|eval: false\n",
    "dfs['biota'].head()"
   ]
  },
  {
   "cell_type": "markdown",
   "id": "840141d5",
   "metadata": {},
   "source": [
    "Show the structure of the `sediment` dataframe: "
   ]
  },
  {
   "cell_type": "code",
   "execution_count": null,
   "id": "b6013611",
   "metadata": {},
   "outputs": [
    {
     "data": {
      "text/html": [
       "<div>\n",
       "<style scoped>\n",
       "    .dataframe tbody tr th:only-of-type {\n",
       "        vertical-align: middle;\n",
       "    }\n",
       "\n",
       "    .dataframe tbody tr th {\n",
       "        vertical-align: top;\n",
       "    }\n",
       "\n",
       "    .dataframe thead th {\n",
       "        text-align: right;\n",
       "    }\n",
       "</style>\n",
       "<table border=\"1\" class=\"dataframe\">\n",
       "  <thead>\n",
       "    <tr style=\"text-align: right;\">\n",
       "      <th></th>\n",
       "      <th>KEY</th>\n",
       "      <th>NUCLIDE</th>\n",
       "      <th>METHOD</th>\n",
       "      <th>&lt; VALUE_Bq/kg</th>\n",
       "      <th>VALUE_Bq/kg</th>\n",
       "      <th>ERROR%_kg</th>\n",
       "      <th>&lt; VALUE_Bq/m²</th>\n",
       "      <th>VALUE_Bq/m²</th>\n",
       "      <th>ERROR%_m²</th>\n",
       "      <th>DATE_OF_ENTRY_x</th>\n",
       "      <th>...</th>\n",
       "      <th>LOWSLI</th>\n",
       "      <th>AREA</th>\n",
       "      <th>SEDI</th>\n",
       "      <th>OXIC</th>\n",
       "      <th>DW%</th>\n",
       "      <th>LOI%</th>\n",
       "      <th>MORS_SUBBASIN</th>\n",
       "      <th>HELCOM_SUBBASIN</th>\n",
       "      <th>SUM_LINK</th>\n",
       "      <th>DATE_OF_ENTRY_y</th>\n",
       "    </tr>\n",
       "  </thead>\n",
       "  <tbody>\n",
       "    <tr>\n",
       "      <th>0</th>\n",
       "      <td>SKRIL2012048</td>\n",
       "      <td>RA226</td>\n",
       "      <td>NaN</td>\n",
       "      <td>NaN</td>\n",
       "      <td>35.0</td>\n",
       "      <td>26.0</td>\n",
       "      <td>NaN</td>\n",
       "      <td>NaN</td>\n",
       "      <td>NaN</td>\n",
       "      <td>08/20/14 00:00:00</td>\n",
       "      <td>...</td>\n",
       "      <td>20.0</td>\n",
       "      <td>0.006</td>\n",
       "      <td>NaN</td>\n",
       "      <td>NaN</td>\n",
       "      <td>NaN</td>\n",
       "      <td>NaN</td>\n",
       "      <td>11.0</td>\n",
       "      <td>11.0</td>\n",
       "      <td>NaN</td>\n",
       "      <td>08/20/14 00:00:00</td>\n",
       "    </tr>\n",
       "    <tr>\n",
       "      <th>1</th>\n",
       "      <td>SKRIL2012049</td>\n",
       "      <td>RA226</td>\n",
       "      <td>NaN</td>\n",
       "      <td>NaN</td>\n",
       "      <td>36.0</td>\n",
       "      <td>22.0</td>\n",
       "      <td>NaN</td>\n",
       "      <td>NaN</td>\n",
       "      <td>NaN</td>\n",
       "      <td>08/20/14 00:00:00</td>\n",
       "      <td>...</td>\n",
       "      <td>27.0</td>\n",
       "      <td>0.006</td>\n",
       "      <td>NaN</td>\n",
       "      <td>NaN</td>\n",
       "      <td>NaN</td>\n",
       "      <td>NaN</td>\n",
       "      <td>11.0</td>\n",
       "      <td>11.0</td>\n",
       "      <td>NaN</td>\n",
       "      <td>08/20/14 00:00:00</td>\n",
       "    </tr>\n",
       "    <tr>\n",
       "      <th>2</th>\n",
       "      <td>SKRIL2012050</td>\n",
       "      <td>RA226</td>\n",
       "      <td>NaN</td>\n",
       "      <td>NaN</td>\n",
       "      <td>38.0</td>\n",
       "      <td>24.0</td>\n",
       "      <td>NaN</td>\n",
       "      <td>NaN</td>\n",
       "      <td>NaN</td>\n",
       "      <td>08/20/14 00:00:00</td>\n",
       "      <td>...</td>\n",
       "      <td>2.0</td>\n",
       "      <td>0.006</td>\n",
       "      <td>NaN</td>\n",
       "      <td>NaN</td>\n",
       "      <td>NaN</td>\n",
       "      <td>NaN</td>\n",
       "      <td>11.0</td>\n",
       "      <td>11.0</td>\n",
       "      <td>NaN</td>\n",
       "      <td>08/20/14 00:00:00</td>\n",
       "    </tr>\n",
       "    <tr>\n",
       "      <th>3</th>\n",
       "      <td>SKRIL2012051</td>\n",
       "      <td>RA226</td>\n",
       "      <td>NaN</td>\n",
       "      <td>NaN</td>\n",
       "      <td>36.0</td>\n",
       "      <td>25.0</td>\n",
       "      <td>NaN</td>\n",
       "      <td>NaN</td>\n",
       "      <td>NaN</td>\n",
       "      <td>08/20/14 00:00:00</td>\n",
       "      <td>...</td>\n",
       "      <td>4.0</td>\n",
       "      <td>0.006</td>\n",
       "      <td>NaN</td>\n",
       "      <td>NaN</td>\n",
       "      <td>NaN</td>\n",
       "      <td>NaN</td>\n",
       "      <td>11.0</td>\n",
       "      <td>11.0</td>\n",
       "      <td>NaN</td>\n",
       "      <td>08/20/14 00:00:00</td>\n",
       "    </tr>\n",
       "    <tr>\n",
       "      <th>4</th>\n",
       "      <td>SKRIL2012052</td>\n",
       "      <td>RA226</td>\n",
       "      <td>NaN</td>\n",
       "      <td>NaN</td>\n",
       "      <td>30.0</td>\n",
       "      <td>23.0</td>\n",
       "      <td>NaN</td>\n",
       "      <td>NaN</td>\n",
       "      <td>NaN</td>\n",
       "      <td>08/20/14 00:00:00</td>\n",
       "      <td>...</td>\n",
       "      <td>6.0</td>\n",
       "      <td>0.006</td>\n",
       "      <td>NaN</td>\n",
       "      <td>NaN</td>\n",
       "      <td>NaN</td>\n",
       "      <td>NaN</td>\n",
       "      <td>11.0</td>\n",
       "      <td>11.0</td>\n",
       "      <td>NaN</td>\n",
       "      <td>08/20/14 00:00:00</td>\n",
       "    </tr>\n",
       "  </tbody>\n",
       "</table>\n",
       "<p>5 rows × 35 columns</p>\n",
       "</div>"
      ],
      "text/plain": [
       "            KEY NUCLIDE METHOD < VALUE_Bq/kg  VALUE_Bq/kg  ERROR%_kg  \\\n",
       "0  SKRIL2012048   RA226    NaN           NaN         35.0       26.0   \n",
       "1  SKRIL2012049   RA226    NaN           NaN         36.0       22.0   \n",
       "2  SKRIL2012050   RA226    NaN           NaN         38.0       24.0   \n",
       "3  SKRIL2012051   RA226    NaN           NaN         36.0       25.0   \n",
       "4  SKRIL2012052   RA226    NaN           NaN         30.0       23.0   \n",
       "\n",
       "  < VALUE_Bq/m²  VALUE_Bq/m²  ERROR%_m²    DATE_OF_ENTRY_x  ...  LOWSLI  \\\n",
       "0           NaN          NaN        NaN  08/20/14 00:00:00  ...    20.0   \n",
       "1           NaN          NaN        NaN  08/20/14 00:00:00  ...    27.0   \n",
       "2           NaN          NaN        NaN  08/20/14 00:00:00  ...     2.0   \n",
       "3           NaN          NaN        NaN  08/20/14 00:00:00  ...     4.0   \n",
       "4           NaN          NaN        NaN  08/20/14 00:00:00  ...     6.0   \n",
       "\n",
       "    AREA  SEDI OXIC  DW%  LOI%  MORS_SUBBASIN HELCOM_SUBBASIN  SUM_LINK  \\\n",
       "0  0.006   NaN  NaN  NaN   NaN           11.0            11.0       NaN   \n",
       "1  0.006   NaN  NaN  NaN   NaN           11.0            11.0       NaN   \n",
       "2  0.006   NaN  NaN  NaN   NaN           11.0            11.0       NaN   \n",
       "3  0.006   NaN  NaN  NaN   NaN           11.0            11.0       NaN   \n",
       "4  0.006   NaN  NaN  NaN   NaN           11.0            11.0       NaN   \n",
       "\n",
       "     DATE_OF_ENTRY_y  \n",
       "0  08/20/14 00:00:00  \n",
       "1  08/20/14 00:00:00  \n",
       "2  08/20/14 00:00:00  \n",
       "3  08/20/14 00:00:00  \n",
       "4  08/20/14 00:00:00  \n",
       "\n",
       "[5 rows x 35 columns]"
      ]
     },
     "execution_count": null,
     "metadata": {},
     "output_type": "execute_result"
    }
   ],
   "source": [
    "#|eval: false\n",
    "dfs['sediment'].head()"
   ]
  },
  {
   "cell_type": "markdown",
   "id": "3e9f3eef",
   "metadata": {},
   "source": [
    "***"
   ]
  },
  {
   "attachments": {},
   "cell_type": "markdown",
   "id": "0d68abc3",
   "metadata": {},
   "source": [
    "## Data transformation pipeline for NetCDF."
   ]
  },
  {
   "cell_type": "markdown",
   "id": "d1fd7de4",
   "metadata": {},
   "source": [
    "### Data transformation pipeline utils"
   ]
  },
  {
   "cell_type": "markdown",
   "id": "67ceb64d",
   "metadata": {},
   "source": [
    "``CompareDfsAndTfm`` compares the original dataframes to the transformed dataframe. A dictionary of dataframes, ``tfm.dfs_dropped``, is created to include the data present in the original dataset but absent from the transformed data. ``tfm.compare_stats`` provides a quick overview of the number of rows in both the original dataframes and the transformed dataframe."
   ]
  },
  {
   "cell_type": "code",
   "execution_count": null,
   "id": "4ae81009",
   "metadata": {},
   "outputs": [],
   "source": [
    "# | export\n",
    "class CompareDfsAndTfm(Callback):\n",
    "    \"Create a dfs of dropped data. Data included in the DFS not in the TFM\"\n",
    "    def __init__(self, dfs_compare):\n",
    "        fc.store_attr()\n",
    "\n",
    "    def __call__(self, tfm):\n",
    "        tfm.dfs_dropped={}\n",
    "        tfm.compare_stats={}\n",
    "        for grp in tfm.dfs.keys():\n",
    "           \n",
    "            # get the index values in dfs (i.e. dfs_compare) not in tfm.dfs. \n",
    "            index_diff=self.dfs_compare[grp].index.difference(tfm.dfs[grp].index)\n",
    "            tfm.dfs_dropped[grp] = self.dfs_compare[grp].loc[index_diff]\n",
    "\n",
    "            tfm.compare_stats[grp]= {'Number of rows in dfs :' : len(self.dfs_compare[grp].index),\n",
    "                                     'Number of rows in tfm.dfs:' : len(tfm.dfs[grp].index),\n",
    "                                     'Number of dropped rows:' : len(tfm.dfs_dropped[grp].index),\n",
    "                                     'Number of rows in tfm.dfs + Number of dropped rows:' : len(tfm.dfs[grp].index) + len(tfm.dfs_dropped[grp].index)\n",
    "                                    }"
   ]
  },
  {
   "attachments": {},
   "cell_type": "markdown",
   "id": "142ddab3",
   "metadata": {},
   "source": [
    "### Normalize nuclide names"
   ]
  },
  {
   "cell_type": "markdown",
   "id": "d3b690d9",
   "metadata": {},
   "source": [
    "&nbsp;&nbsp;&nbsp;&nbsp;&nbsp;*NetCDF4 format variable: ``nuclide``.*"
   ]
  },
  {
   "cell_type": "markdown",
   "id": "4992b23c",
   "metadata": {},
   "source": [
    "&nbsp;&nbsp;&nbsp;&nbsp;&nbsp;*Open Refine format variable: ``Nuclide``.*"
   ]
  },
  {
   "attachments": {},
   "cell_type": "markdown",
   "id": "8a2311cd",
   "metadata": {},
   "source": [
    "#### Lower & strip nuclide names\n",
    "\n",
    "Create a callback function, `LowerStripRdnNameCB`, that receives a dictionary of dataframes. For each dataframe in the dictionary, it converts the contents of the `Nuclides` column to lowercase and removes any leading or trailing whitespace."
   ]
  },
  {
   "cell_type": "code",
   "execution_count": null,
   "id": "5b10f032",
   "metadata": {},
   "outputs": [],
   "source": [
    "#| export\n",
    "class LowerStripRdnNameCB(Callback):\n",
    "    \"Convert nuclide names to lowercase & strip any trailing space(s)\"\n",
    "    def __call__(self, tfm):\n",
    "        for k in tfm.dfs.keys():\n",
    "            tfm.dfs[k]['NUCLIDE'] = tfm.dfs[k]['NUCLIDE'].apply(\n",
    "                lambda x: x.lower().strip())"
   ]
  },
  {
   "cell_type": "markdown",
   "id": "c0eb73d9",
   "metadata": {},
   "source": [
    "Here we call a transformer, which applies the callback (e.g. `LowerStripRdnNameCB`) to the dictionary of dataframes, `dfs`. We then print the unique entries of the transformed `NUCLIDE` column for each dataframe included in the dictionary of dataframes, `dfs`."
   ]
  },
  {
   "cell_type": "code",
   "execution_count": null,
   "id": "8a3fa068",
   "metadata": {},
   "outputs": [
    {
     "name": "stdout",
     "output_type": "stream",
     "text": [
      "seawater nuclides: \n",
      "['cs137' 'sr90' 'h3' 'cs134' 'pu238' 'pu239240' 'am241' 'cm242' 'cm244'\n",
      " 'tc99' 'k40' 'ru103' 'sr89' 'sb125' 'nb95' 'ru106' 'zr95' 'ag110m'\n",
      " 'cm243244' 'ba140' 'ce144' 'u234' 'u238' 'co60' 'pu239' 'pb210' 'po210'\n",
      " 'np237' 'pu240' 'mn54']\n",
      "biota nuclides: \n",
      "['cs134' 'k40' 'co60' 'cs137' 'sr90' 'ag108m' 'mn54' 'co58' 'ag110m'\n",
      " 'zn65' 'sb125' 'pu239240' 'ru106' 'be7' 'ce144' 'pb210' 'po210' 'sb124'\n",
      " 'sr89' 'zr95' 'te129m' 'ru103' 'nb95' 'ce141' 'la140' 'i131' 'ba140'\n",
      " 'pu238' 'u235' 'bi214' 'pb214' 'pb212' 'tl208' 'ac228' 'ra223' 'eu155'\n",
      " 'ra226' 'gd153' 'sn113' 'fe59' 'tc99' 'co57' 'sn117m' 'eu152' 'sc46'\n",
      " 'rb86' 'ra224' 'th232' 'cs134137' 'am241' 'ra228' 'th228' 'k-40' 'cs138'\n",
      " 'cs139' 'cs140' 'cs141' 'cs142' 'cs143' 'cs144' 'cs145' 'cs146']\n",
      "sediment nuclides: \n",
      "['ra226' 'cs137' 'ra228' 'k40' 'sr90' 'cs134137' 'cs134' 'pu239240'\n",
      " 'pu238' 'co60' 'ru103' 'ru106' 'sb125' 'ag110m' 'ce144' 'am241' 'be7'\n",
      " 'th228' 'pb210' 'co58' 'mn54' 'zr95' 'ba140' 'po210' 'ra224' 'nb95'\n",
      " 'pu238240' 'pu241' 'pu239' 'eu155' 'ir192' 'th232' 'cd109' 'sb124' 'zn65'\n",
      " 'th234' 'tl208' 'pb212' 'pb214' 'bi214' 'ac228' 'ra223' 'u235' 'bi212']\n"
     ]
    }
   ],
   "source": [
    "#|eval: false\n",
    "dfs = load_data(fname_in)\n",
    "tfm = Transformer(dfs, cbs=[LowerStripRdnNameCB()])\n",
    "print('seawater nuclides: ')\n",
    "print(tfm()['seawater']['NUCLIDE'].unique())\n",
    "print('biota nuclides: ')\n",
    "print(tfm()['biota']['NUCLIDE'].unique())\n",
    "print('sediment nuclides: ')\n",
    "print(tfm()['sediment']['NUCLIDE'].unique())"
   ]
  },
  {
   "attachments": {},
   "cell_type": "markdown",
   "id": "52c9d0fe",
   "metadata": {},
   "source": [
    "#### Remap HELCOM nuclide names to MARIS nuclide names"
   ]
  },
  {
   "cell_type": "markdown",
   "id": "6c9905c7",
   "metadata": {},
   "source": [
    "The `maris-template.nc` file, which  is created from the `cdl.toml` on installation of the Marisco package, provides details of the nuclides permitted in the  MARIS NetCDF file. Here we define a function  `get_unique_nuclides()` which creates a list of the unique nuclides from each dataframe in the dictionary of dataframes `dfs`. The function `has_valid_varname` checks that each nuclide in this list is included in the `maris-template.nc` (i.e. the `cdl.toml`). `has_valid_varname` returns all variables in the list that are not in the `maris-template.nc` or returns `True`. \n",
    " "
   ]
  },
  {
   "cell_type": "code",
   "execution_count": null,
   "id": "bbf213bb",
   "metadata": {},
   "outputs": [],
   "source": [
    "#| export\n",
    "def get_unique_nuclides(dfs):\n",
    "    \"Get list of unique radionuclide types measured across samples.\"\n",
    "    nuclides = []\n",
    "    for k in dfs.keys():\n",
    "        nuclides += dfs[k]['NUCLIDE'].unique().tolist()\n",
    "    # remove duplicates from nuclides list.\n",
    "    nuclides=list(set(nuclides))\n",
    "    return nuclides"
   ]
  },
  {
   "cell_type": "code",
   "execution_count": null,
   "id": "a68dacd0",
   "metadata": {},
   "outputs": [
    {
     "name": "stdout",
     "output_type": "stream",
     "text": [
      "\"pu238240\" variable name not found in MARIS CDL\n",
      "\"cs142\" variable name not found in MARIS CDL\n",
      "\"cs145\" variable name not found in MARIS CDL\n",
      "\"cs139\" variable name not found in MARIS CDL\n",
      "\"cs134137\" variable name not found in MARIS CDL\n",
      "\"cs140\" variable name not found in MARIS CDL\n",
      "\"cs144\" variable name not found in MARIS CDL\n",
      "\"cs138\" variable name not found in MARIS CDL\n",
      "\"pu239240\" variable name not found in MARIS CDL\n",
      "\"cs141\" variable name not found in MARIS CDL\n",
      "\"cm243244\" variable name not found in MARIS CDL\n",
      "\"cs143\" variable name not found in MARIS CDL\n",
      "\"cs146\" variable name not found in MARIS CDL\n",
      "\"k-40\" variable name not found in MARIS CDL\n"
     ]
    },
    {
     "data": {
      "text/plain": [
       "False"
      ]
     },
     "execution_count": null,
     "metadata": {},
     "output_type": "execute_result"
    }
   ],
   "source": [
    "#|eval: false\n",
    "# Check if these variable names are consistent with MARIS CDL\n",
    "has_valid_varname(get_unique_nuclides(tfm.dfs), nc_tpl_path())"
   ]
  },
  {
   "cell_type": "markdown",
   "id": "7501bd59",
   "metadata": {},
   "source": [
    "Many nuclide names are not listed in the `maris-template.nc`. Here we create a look up table, `varnames_lut_updates`, which will be used to correct the nuclide names in the dictionary of dataframes (i.e. dfs) that are not compatible with the `maris-template.nc`."
   ]
  },
  {
   "cell_type": "code",
   "execution_count": null,
   "id": "b4abac95",
   "metadata": {},
   "outputs": [],
   "source": [
    "#| export\n",
    "varnames_lut_updates = {\n",
    "    'k-40': 'k40',\n",
    "    'cm243244': 'cm243_244_tot',\n",
    "    'cs134137': 'cs134_137_tot',\n",
    "    'pu239240': 'pu239_240_tot',\n",
    "    'pu238240': 'pu238_240_tot',\n",
    "    'cs138': 'cs137',\n",
    "    'cs139': 'cs137',\n",
    "    'cs140': 'cs137',\n",
    "    'cs141': 'cs137',\n",
    "    'cs142': 'cs137',\n",
    "    'cs143': 'cs137',\n",
    "    'cs144': 'cs137',\n",
    "    'cs145': 'cs137',\n",
    "    'cs146': 'cs137'}"
   ]
  },
  {
   "cell_type": "markdown",
   "id": "3b877d3d",
   "metadata": {},
   "source": [
    "Function `get_varnames_lut` returns a dictionary of nuclide names. This dictionary includes the `NUCLIDE` names from the dataframes in dfs, along with corrections specified in `varnames_lut_updates`."
   ]
  },
  {
   "cell_type": "code",
   "execution_count": null,
   "id": "35f89931",
   "metadata": {},
   "outputs": [],
   "source": [
    "#| export\n",
    "def get_varnames_lut(dfs, lut=varnames_lut_updates):\n",
    "    lut = {n: n for n in set(get_unique_nuclides(dfs))}\n",
    "    lut.update(varnames_lut_updates)\n",
    "    return lut"
   ]
  },
  {
   "cell_type": "markdown",
   "id": "a98d2ea0",
   "metadata": {},
   "source": [
    "Create a callback that remaps the nuclide names in the dataframes within dfs to the updated names in `varnames_lut_updates`."
   ]
  },
  {
   "cell_type": "code",
   "execution_count": null,
   "id": "6f6b7d0a",
   "metadata": {},
   "outputs": [],
   "source": [
    "# | export\n",
    "class RemapRdnNameCB(Callback):\n",
    "    \"Remap to MARIS radionuclide names.\"\n",
    "    def __init__(self,\n",
    "                 fn_lut=partial(get_varnames_lut, lut=varnames_lut_updates)):\n",
    "        fc.store_attr()\n",
    "\n",
    "    def __call__(self, tfm):\n",
    "        lut = self.fn_lut(tfm.dfs)\n",
    "        for grp in tfm.dfs.keys():\n",
    "            tfm.dfs[grp]['NUCLIDE'].replace(lut, inplace=True)"
   ]
  },
  {
   "cell_type": "markdown",
   "id": "84aa0d93",
   "metadata": {},
   "source": [
    "Apply the transformer for callbacks `LowerStripRdnNameCB` and `RemapRdnNameCB`. Then, print the unique nuclides for each dataframe in the dictionary dfs."
   ]
  },
  {
   "cell_type": "code",
   "execution_count": null,
   "id": "1c075d97",
   "metadata": {},
   "outputs": [
    {
     "name": "stdout",
     "output_type": "stream",
     "text": [
      "seawater nuclides: \n",
      "['cs137' 'sr90' 'h3' 'cs134' 'pu238' 'pu239_240_tot' 'am241' 'cm242'\n",
      " 'cm244' 'tc99' 'k40' 'ru103' 'sr89' 'sb125' 'nb95' 'ru106' 'zr95'\n",
      " 'ag110m' 'cm243_244_tot' 'ba140' 'ce144' 'u234' 'u238' 'co60' 'pu239'\n",
      " 'pb210' 'po210' 'np237' 'pu240' 'mn54']\n",
      "biota nuclides: \n",
      "['cs134' 'k40' 'co60' 'cs137' 'sr90' 'ag108m' 'mn54' 'co58' 'ag110m'\n",
      " 'zn65' 'sb125' 'pu239_240_tot' 'ru106' 'be7' 'ce144' 'pb210' 'po210'\n",
      " 'sb124' 'sr89' 'zr95' 'te129m' 'ru103' 'nb95' 'ce141' 'la140' 'i131'\n",
      " 'ba140' 'pu238' 'u235' 'bi214' 'pb214' 'pb212' 'tl208' 'ac228' 'ra223'\n",
      " 'eu155' 'ra226' 'gd153' 'sn113' 'fe59' 'tc99' 'co57' 'sn117m' 'eu152'\n",
      " 'sc46' 'rb86' 'ra224' 'th232' 'cs134_137_tot' 'am241' 'ra228' 'th228']\n",
      "sediment nuclides: \n",
      "['ra226' 'cs137' 'ra228' 'k40' 'sr90' 'cs134_137_tot' 'cs134'\n",
      " 'pu239_240_tot' 'pu238' 'co60' 'ru103' 'ru106' 'sb125' 'ag110m' 'ce144'\n",
      " 'am241' 'be7' 'th228' 'pb210' 'co58' 'mn54' 'zr95' 'ba140' 'po210'\n",
      " 'ra224' 'nb95' 'pu238_240_tot' 'pu241' 'pu239' 'eu155' 'ir192' 'th232'\n",
      " 'cd109' 'sb124' 'zn65' 'th234' 'tl208' 'pb212' 'pb214' 'bi214' 'ac228'\n",
      " 'ra223' 'u235' 'bi212']\n"
     ]
    }
   ],
   "source": [
    "#|eval: false\n",
    "dfs = load_data(fname_in)\n",
    "tfm = Transformer(dfs, cbs=[LowerStripRdnNameCB(),\n",
    "                            RemapRdnNameCB(),\n",
    "                            #CompareDfsAndTfm(dfs)\n",
    "                            ])\n",
    "tfm()\n",
    "\n",
    "#print(pd.DataFrame.from_dict(tfm.compare_stats) , '\\n')\n",
    "print('seawater nuclides: ')\n",
    "print(tfm.dfs['seawater']['NUCLIDE'].unique())\n",
    "print('biota nuclides: ')\n",
    "print(tfm.dfs['biota']['NUCLIDE'].unique())\n",
    "print('sediment nuclides: ')\n",
    "print(tfm.dfs['sediment']['NUCLIDE'].unique())"
   ]
  },
  {
   "cell_type": "markdown",
   "id": "5de9359a",
   "metadata": {},
   "source": [
    "After apply correction to the nuclide names check that all nuclide in the dictionary of dataframees are valid. Returns `True` if all are valid."
   ]
  },
  {
   "cell_type": "code",
   "execution_count": null,
   "id": "3c644322",
   "metadata": {},
   "outputs": [
    {
     "data": {
      "text/plain": [
       "True"
      ]
     },
     "execution_count": null,
     "metadata": {},
     "output_type": "execute_result"
    }
   ],
   "source": [
    "#|eval: false\n",
    "has_valid_varname(get_unique_nuclides(tfm.dfs), nc_tpl_path())"
   ]
  },
  {
   "cell_type": "markdown",
   "id": "bca601fc",
   "metadata": {},
   "source": [
    "***"
   ]
  },
  {
   "attachments": {},
   "cell_type": "markdown",
   "id": "4aaaf96a",
   "metadata": {},
   "source": [
    "### Parse time"
   ]
  },
  {
   "cell_type": "markdown",
   "id": "c23281e3",
   "metadata": {},
   "source": [
    "&nbsp;&nbsp;&nbsp;&nbsp;&nbsp;*NetCDF4 format variable: `time`.*"
   ]
  },
  {
   "cell_type": "markdown",
   "id": "691210e1",
   "metadata": {},
   "source": [
    "&nbsp;&nbsp;&nbsp;&nbsp;&nbsp;*Open Refine format variables: `Sampling start date` and `Sampling start time`.*"
   ]
  },
  {
   "cell_type": "markdown",
   "id": "b83309a2",
   "metadata": {},
   "source": [
    "Create a callback that remaps the time format in the dictionary of dataframes (i.e. `%m/%d/%y %H:%M:%S`):"
   ]
  },
  {
   "cell_type": "code",
   "execution_count": null,
   "id": "ed0aab29",
   "metadata": {},
   "outputs": [],
   "source": [
    "#| export\n",
    "class ParseTimeCB(Callback):\n",
    "    def __call__(self, tfm):\n",
    "        for grp in tfm.dfs.keys():\n",
    "            # get 'time' from 'DATE' column\n",
    "            tfm.dfs[grp]['time'] = pd.to_datetime(tfm.dfs[grp]['DATE'], format='%m/%d/%y %H:%M:%S')\n",
    "            # if 'DATE' column is nan, get 'time' from 'YEAR','MONTH' and 'DAY' column. \n",
    "            # if 'DAY' or 'MONTH' is 0 then set it to 1. \n",
    "            tfm.dfs[grp].loc[tfm.dfs[grp][\"DAY\"] == 0, \"DAY\"] = 1\n",
    "            tfm.dfs[grp].loc[tfm.dfs[grp][\"MONTH\"] == 0, \"MONTH\"] = 1\n",
    "            \n",
    "            # if 'DAY' and 'MONTH' is nan but YEAR is not nan then set 'DAY' and 'MONTH' both to 1. \n",
    "            condition = (tfm.dfs[grp][\"DAY\"].isna()) & (tfm.dfs[grp][\"MONTH\"].isna()) & (tfm.dfs[grp][\"YEAR\"].notna())\n",
    "            tfm.dfs[grp].loc[condition, \"DAY\"] = 1\n",
    "            tfm.dfs[grp].loc[condition, \"MONTH\"] = 1\n",
    "            \n",
    "            \n",
    "            condition = tfm.dfs[grp]['DATE'].isna() # if 'DATE' is nan. \n",
    "            tfm.dfs[grp]['time']  = np.where(condition,\n",
    "                                             # 'coerce', then invalid parsing will be set as NaT. NaT will result if the number of days are not valid for the month.\n",
    "                                            pd.to_datetime(tfm.dfs[grp][['YEAR', 'MONTH', 'DAY']], format='%y%m%d', errors='coerce'),  \n",
    "                                            pd.to_datetime(tfm.dfs[grp]['DATE'], format='%m/%d/%y %H:%M:%S'))\n"
   ]
  },
  {
   "cell_type": "markdown",
   "id": "48c34819",
   "metadata": {},
   "source": [
    "Apply the transformer for callbacks `LowerStripRdnNameCB`, `RemapRdnNameCB` and `ParseTimeCB`. Then, print the `time` data for `seawater`."
   ]
  },
  {
   "cell_type": "code",
   "execution_count": null,
   "id": "f2b90d07",
   "metadata": {},
   "outputs": [
    {
     "name": "stdout",
     "output_type": "stream",
     "text": [
      "0       2012-05-23\n",
      "1       2012-05-23\n",
      "2       2012-06-17\n",
      "3       2012-05-24\n",
      "4       2012-05-24\n",
      "           ...    \n",
      "21211   2021-10-15\n",
      "21212   2021-11-04\n",
      "21213   2021-10-15\n",
      "21214   2021-05-17\n",
      "21215   2021-05-13\n",
      "Name: time, Length: 21216, dtype: datetime64[ns]\n"
     ]
    }
   ],
   "source": [
    "#|eval: false\n",
    "dfs = load_data(fname_in)\n",
    "tfm = Transformer(dfs, cbs=[LowerStripRdnNameCB(),\n",
    "                            RemapRdnNameCB(),\n",
    "                            ParseTimeCB(),\n",
    "                            #CompareDfsAndTfm(dfs)\n",
    "                            ])\n",
    "tfm()\n",
    "#print(pd.DataFrame.from_dict(tfm.compare_stats) , '\\n')\n",
    "print(tfm.dfs['seawater']['time'])"
   ]
  },
  {
   "cell_type": "markdown",
   "id": "8f7e52eb",
   "metadata": {},
   "source": [
    "***"
   ]
  },
  {
   "cell_type": "markdown",
   "id": "28dd488a",
   "metadata": {},
   "source": [
    "### Encode time (seconds since ...)"
   ]
  },
  {
   "cell_type": "markdown",
   "id": "0dd2c925",
   "metadata": {},
   "source": [
    "&nbsp;&nbsp;&nbsp;&nbsp;&nbsp;*NetCDF4 format variable: ``time``*"
   ]
  },
  {
   "cell_type": "markdown",
   "id": "231e7277",
   "metadata": {},
   "source": [
    "&nbsp;&nbsp;&nbsp;&nbsp;&nbsp;*Open Refine format variables: `Sampling start date` and `Sampling start time`*"
   ]
  },
  {
   "cell_type": "markdown",
   "id": "486b2966",
   "metadata": {},
   "source": [
    "`EncodeTimeCB` converts the HELCOM `time` format to the MARIS `time` format."
   ]
  },
  {
   "cell_type": "code",
   "execution_count": null,
   "id": "4b8edc56",
   "metadata": {},
   "outputs": [
    {
     "name": "stdout",
     "output_type": "stream",
     "text": [
      "8 of 21216 entries for `time` are invalid for seawater.\n",
      "1 of 39817 entries for `time` are invalid for sediment.\n",
      "                                                    seawater  sediment  biota\n",
      "Number of rows in dfs :                                21216     39817  15827\n",
      "Number of rows in tfm.dfs:                             21208     39816  15827\n",
      "Number of dropped rows:                                    8         1      0\n",
      "Number of rows in tfm.dfs + Number of dropped r...     21216     39817  15827 \n",
      "\n"
     ]
    }
   ],
   "source": [
    "#|eval: false\n",
    "dfs = load_data(fname_in)\n",
    "tfm = Transformer(dfs, cbs=[LowerStripRdnNameCB(),\n",
    "                            RemapRdnNameCB(),\n",
    "                            ParseTimeCB(),\n",
    "                            EncodeTimeCB(cfg(), verbose = True),\n",
    "                            CompareDfsAndTfm(dfs)\n",
    "                            ])\n",
    "tfm()\n",
    "print(pd.DataFrame.from_dict(tfm.compare_stats) , '\\n')\n",
    "                            "
   ]
  },
  {
   "cell_type": "code",
   "execution_count": null,
   "id": "f7099e97",
   "metadata": {},
   "outputs": [
    {
     "data": {
      "text/html": [
       "<div>\n",
       "<style scoped>\n",
       "    .dataframe tbody tr th:only-of-type {\n",
       "        vertical-align: middle;\n",
       "    }\n",
       "\n",
       "    .dataframe tbody tr th {\n",
       "        vertical-align: top;\n",
       "    }\n",
       "\n",
       "    .dataframe thead th {\n",
       "        text-align: right;\n",
       "    }\n",
       "</style>\n",
       "<table border=\"1\" class=\"dataframe\">\n",
       "  <thead>\n",
       "    <tr style=\"text-align: right;\">\n",
       "      <th></th>\n",
       "      <th>YEAR</th>\n",
       "      <th>MONTH</th>\n",
       "      <th>DAY</th>\n",
       "      <th>DATE</th>\n",
       "    </tr>\n",
       "  </thead>\n",
       "  <tbody>\n",
       "    <tr>\n",
       "      <th>35821</th>\n",
       "      <td>NaN</td>\n",
       "      <td>NaN</td>\n",
       "      <td>NaN</td>\n",
       "      <td>NaN</td>\n",
       "    </tr>\n",
       "  </tbody>\n",
       "</table>\n",
       "</div>"
      ],
      "text/plain": [
       "       YEAR  MONTH  DAY DATE\n",
       "35821   NaN    NaN  NaN  NaN"
      ]
     },
     "execution_count": null,
     "metadata": {},
     "output_type": "execute_result"
    }
   ],
   "source": [
    "tfm.dfs_dropped['sediment'][['YEAR', 'MONTH', 'DAY', 'DATE']]"
   ]
  },
  {
   "cell_type": "markdown",
   "id": "0bba93b0",
   "metadata": {},
   "source": [
    "***"
   ]
  },
  {
   "attachments": {},
   "cell_type": "markdown",
   "id": "be199c49",
   "metadata": {},
   "source": [
    "### Normalize uncertainty"
   ]
  },
  {
   "cell_type": "markdown",
   "id": "b12185ee",
   "metadata": {},
   "source": [
    "&nbsp;&nbsp;&nbsp;&nbsp;&nbsp;*NetCDF4 format variable: ``uncertainty``.*"
   ]
  },
  {
   "cell_type": "markdown",
   "id": "90b02a81",
   "metadata": {},
   "source": [
    "&nbsp;&nbsp;&nbsp;&nbsp;&nbsp;*Open Refine format variable: `Uncertainty`.*"
   ]
  },
  {
   "cell_type": "markdown",
   "id": "7515714b",
   "metadata": {},
   "source": [
    "Function `unc_rel2stan` coverts uncertainty from relative uncertainty to standard uncertainty."
   ]
  },
  {
   "cell_type": "code",
   "execution_count": null,
   "id": "76077d40",
   "metadata": {},
   "outputs": [],
   "source": [
    "#| export\n",
    "# Make measurement and uncertainty units consistent\n",
    "def unc_rel2stan(df, meas_col, unc_col):\n",
    "    return df.apply(lambda row: row[unc_col] * row[meas_col]/100, axis=1)"
   ]
  },
  {
   "cell_type": "markdown",
   "id": "2917d107",
   "metadata": {},
   "source": [
    "For each sample type in the Helcom dataset, the uncertainty is given as a relative uncertainty to the value (i.e., activity). The column names for both the value and the uncertainty vary by sample type. The coi_units_unc dictionary defines the column names for the Value and Uncertainty for each sample type."
   ]
  },
  {
   "cell_type": "code",
   "execution_count": null,
   "id": "b231b09b",
   "metadata": {},
   "outputs": [],
   "source": [
    "#| export\n",
    "# Columns of interest\n",
    "coi_units_unc = [('seawater', 'VALUE_Bq/m³', 'ERROR%_m³'),\n",
    "                 ('biota', 'VALUE_Bq/kg', 'ERROR%'),\n",
    "                 ('sediment', 'VALUE_Bq/kg', 'ERROR%_kg')]"
   ]
  },
  {
   "cell_type": "markdown",
   "id": "f20c9a4b",
   "metadata": {},
   "source": [
    "NormalizeUncUnitCB callback normalizes the uncertainty by converting from relative uncertainty to standard uncertainty. "
   ]
  },
  {
   "cell_type": "code",
   "execution_count": null,
   "id": "5cf262ed",
   "metadata": {},
   "outputs": [],
   "source": [
    "#| export\n",
    "class NormalizeUncUnitCB(Callback):\n",
    "    \"Convert from relative error % to uncertainty of activity unit\"\n",
    "    def __init__(self, \n",
    "                 fn_convert_unc=unc_rel2stan,\n",
    "                 coi=coi_units_unc):\n",
    "        fc.store_attr()\n",
    "\n",
    "    def __call__(self, tfm):\n",
    "        for grp, val, unc in self.coi:\n",
    "            tfm.dfs[grp][unc] = self.fn_convert_unc(tfm.dfs[grp], val, unc)"
   ]
  },
  {
   "cell_type": "markdown",
   "id": "8545b262",
   "metadata": {},
   "source": [
    "Apply the transformer for callbacks `LowerStripRdnNameCB`, `RemapRdnNameCB`, `ParseTimeCB` and `NormalizeUncUnitCB()`. Then, print the value (i.e. activity per unit ) and standard uncertainty for each sample type."
   ]
  },
  {
   "cell_type": "code",
   "execution_count": null,
   "id": "fd9e14e2",
   "metadata": {},
   "outputs": [
    {
     "name": "stdout",
     "output_type": "stream",
     "text": [
      "   VALUE_Bq/m³  ERROR%_m³\n",
      "0          5.3      1.696\n",
      "1         19.9      3.980\n",
      "2         25.5      5.100\n",
      "3         17.0      4.930\n",
      "4         22.2      3.996\n",
      "   VALUE_Bq/kg    ERROR%\n",
      "0     0.010140       NaN\n",
      "1   135.300000  6.535274\n",
      "2     0.013980       NaN\n",
      "3     4.338000  0.006549\n",
      "4     0.009614       NaN\n",
      "   VALUE_Bq/kg  ERROR%_kg\n",
      "0         35.0   1.114750\n",
      "1         36.0   1.026432\n",
      "2         38.0   1.316928\n",
      "3         36.0   1.166400\n",
      "4         30.0   0.621000\n"
     ]
    }
   ],
   "source": [
    "#|eval: false\n",
    "dfs = load_data(fname_in)\n",
    "tfm = Transformer(dfs, cbs=[LowerStripRdnNameCB(),\n",
    "                            RemapRdnNameCB(),\n",
    "                            ParseTimeCB(),\n",
    "                            EncodeTimeCB(cfg()),                             \n",
    "                            NormalizeUncUnitCB()])\n",
    "\n",
    "print(tfm()['seawater'][['VALUE_Bq/m³', 'ERROR%_m³']][:5])\n",
    "print(tfm()['biota'][['VALUE_Bq/kg', 'ERROR%']][:5])\n",
    "print(tfm()['sediment'][['VALUE_Bq/kg', 'ERROR%_kg']][:5])"
   ]
  },
  {
   "cell_type": "markdown",
   "id": "1e7f8540",
   "metadata": {},
   "source": [
    "***"
   ]
  },
  {
   "cell_type": "markdown",
   "id": "9392b0cb",
   "metadata": {},
   "source": [
    "### Lookup transformations "
   ]
  },
  {
   "cell_type": "markdown",
   "id": "22f44637",
   "metadata": {},
   "source": [
    "#### Lookup MARIS function "
   ]
  },
  {
   "cell_type": "markdown",
   "id": "e4b6e294",
   "metadata": {},
   "source": [
    "`get_maris_lut` performs a lookup of data provided in `data_provider_lut` against the MARIS lookup (`maris_lut`) using a fuzzy matching algorithm based on Levenshtein distance. The `get_maris_lut` is used to correct the HELCOM data to a standard format for MARIS. "
   ]
  },
  {
   "cell_type": "code",
   "execution_count": null,
   "id": "2f6f0c03-7666-461d-a5ce-d0021bc9e769",
   "metadata": {},
   "outputs": [],
   "source": [
    "#|export\n",
    "def get_maris_lut(fname_in, \n",
    "                  fname_cache, # For instance 'species_helcom.pkl'\n",
    "                  data_provider_lut:str, # Data provider lookup table name\n",
    "                  data_provider_id_col:str, # Data provider lookup column id of interest\n",
    "                  data_provider_name_col:str, # Data provider lookup column name of interest\n",
    "                  maris_lut:Callable, # Function retrieving MARIS source lookup table\n",
    "                  maris_id: str, # Id of MARIS lookup table nomenclature item to match\n",
    "                  maris_name: str, # Name of MARIS lookup table nomenclature item to match\n",
    "                  unmatched_fixes={},\n",
    "                  as_dataframe=False,\n",
    "                  overwrite=False\n",
    "                 ):\n",
    "    fname_cache = cache_path() / fname_cache\n",
    "    lut = {}\n",
    "    maris_lut = maris_lut()\n",
    "    df = pd.read_csv(Path(fname_in) / data_provider_lut)\n",
    "    if overwrite or (not fname_cache.exists()):\n",
    "        for _, row in tqdm(df.iterrows(), total=len(df)):\n",
    "\n",
    "            # Fix if unmatched\n",
    "            has_to_be_fixed = row[data_provider_id_col] in unmatched_fixes            \n",
    "            name_to_match = unmatched_fixes[row[data_provider_id_col]] if has_to_be_fixed else row[data_provider_name_col]\n",
    "\n",
    "            # Match\n",
    "            result = match_maris_lut(maris_lut, name_to_match, maris_id, maris_name)\n",
    "            match = Match(result.iloc[0][maris_id], result.iloc[0][maris_name], \n",
    "                          row[data_provider_name_col], result.iloc[0]['score'])\n",
    "            \n",
    "            lut[row[data_provider_id_col]] = match\n",
    "        fc.save_pickle(fname_cache, lut)\n",
    "    else:\n",
    "        lut = fc.load_pickle(fname_cache)\n",
    "\n",
    "    if as_dataframe:\n",
    "        df_lut = pd.DataFrame({k: asdict(v) for k, v in lut.items()}).transpose()\n",
    "        df_lut.index.name = 'source_id'\n",
    "        return df_lut.sort_values(by='match_score', ascending=False)\n",
    "    else:\n",
    "        return lut"
   ]
  },
  {
   "attachments": {},
   "cell_type": "markdown",
   "id": "5868c16b",
   "metadata": {},
   "source": [
    "#### Lookup : Biota species"
   ]
  },
  {
   "cell_type": "markdown",
   "id": "57d2bbb1",
   "metadata": {},
   "source": [
    "&nbsp;&nbsp;&nbsp;&nbsp;&nbsp;*NetCDF4 format variable: ``species``.*"
   ]
  },
  {
   "cell_type": "markdown",
   "id": "f19098ae",
   "metadata": {},
   "source": [
    "&nbsp;&nbsp;&nbsp;&nbsp;&nbsp;*Open Refine format variable: `Species`.*"
   ]
  },
  {
   "cell_type": "markdown",
   "id": "40671f8f",
   "metadata": {},
   "source": [
    "The HELCOM dataset includes look-up in the `RUBIN_NAME.csv` file for biota species. "
   ]
  },
  {
   "cell_type": "code",
   "execution_count": null,
   "id": "bdd0d17e",
   "metadata": {},
   "outputs": [
    {
     "data": {
      "text/html": [
       "<div>\n",
       "<style scoped>\n",
       "    .dataframe tbody tr th:only-of-type {\n",
       "        vertical-align: middle;\n",
       "    }\n",
       "\n",
       "    .dataframe tbody tr th {\n",
       "        vertical-align: top;\n",
       "    }\n",
       "\n",
       "    .dataframe thead th {\n",
       "        text-align: right;\n",
       "    }\n",
       "</style>\n",
       "<table border=\"1\" class=\"dataframe\">\n",
       "  <thead>\n",
       "    <tr style=\"text-align: right;\">\n",
       "      <th></th>\n",
       "      <th>RUBIN_ID</th>\n",
       "      <th>RUBIN</th>\n",
       "      <th>SCIENTIFIC NAME</th>\n",
       "      <th>ENGLISH NAME</th>\n",
       "    </tr>\n",
       "  </thead>\n",
       "  <tbody>\n",
       "    <tr>\n",
       "      <th>0</th>\n",
       "      <td>11</td>\n",
       "      <td>ABRA BRA</td>\n",
       "      <td>ABRAMIS BRAMA</td>\n",
       "      <td>BREAM</td>\n",
       "    </tr>\n",
       "    <tr>\n",
       "      <th>1</th>\n",
       "      <td>12</td>\n",
       "      <td>ANGU ANG</td>\n",
       "      <td>ANGUILLA ANGUILLA</td>\n",
       "      <td>EEL</td>\n",
       "    </tr>\n",
       "    <tr>\n",
       "      <th>2</th>\n",
       "      <td>13</td>\n",
       "      <td>ARCT ISL</td>\n",
       "      <td>ARCTICA ISLANDICA</td>\n",
       "      <td>ISLAND CYPRINE</td>\n",
       "    </tr>\n",
       "    <tr>\n",
       "      <th>3</th>\n",
       "      <td>14</td>\n",
       "      <td>ASTE RUB</td>\n",
       "      <td>ASTERIAS RUBENS</td>\n",
       "      <td>COMMON STARFISH</td>\n",
       "    </tr>\n",
       "    <tr>\n",
       "      <th>4</th>\n",
       "      <td>15</td>\n",
       "      <td>CARD EDU</td>\n",
       "      <td>CARDIUM EDULE</td>\n",
       "      <td>COCKLE</td>\n",
       "    </tr>\n",
       "  </tbody>\n",
       "</table>\n",
       "</div>"
      ],
      "text/plain": [
       "   RUBIN_ID     RUBIN    SCIENTIFIC NAME     ENGLISH NAME\n",
       "0        11  ABRA BRA      ABRAMIS BRAMA            BREAM\n",
       "1        12  ANGU ANG  ANGUILLA ANGUILLA              EEL\n",
       "2        13  ARCT ISL  ARCTICA ISLANDICA   ISLAND CYPRINE\n",
       "3        14  ASTE RUB    ASTERIAS RUBENS  COMMON STARFISH\n",
       "4        15  CARD EDU      CARDIUM EDULE           COCKLE"
      ]
     },
     "execution_count": null,
     "metadata": {},
     "output_type": "execute_result"
    }
   ],
   "source": [
    "#|eval: false\n",
    "df_rubin = pd.read_csv(Path(fname_in) / 'RUBIN_NAME.csv')\n",
    "df_rubin.head(5)"
   ]
  },
  {
   "cell_type": "markdown",
   "id": "dbaa8871",
   "metadata": {},
   "source": [
    "Create `unmatched_fixes_biota_species` to correct the spelling of names that are unmatched in the HELCOM dataset. "
   ]
  },
  {
   "cell_type": "code",
   "execution_count": null,
   "id": "15acca89-169a-45eb-98fe-cf7c7b2ee0f8",
   "metadata": {},
   "outputs": [],
   "source": [
    "#|export\n",
    "unmatched_fixes_biota_species = {\n",
    "    'CARD EDU': 'Cerastoderma edule',\n",
    "    'LAMI SAC': 'Saccharina latissima',\n",
    "    'PSET MAX': 'Scophthalmus maximus',\n",
    "    'STIZ LUC': 'Sander luciopercas'}"
   ]
  },
  {
   "cell_type": "code",
   "execution_count": null,
   "id": "2adaa417-6b01-45d8-80d7-2e3d97cb0f72",
   "metadata": {},
   "outputs": [
    {
     "name": "stderr",
     "output_type": "stream",
     "text": [
      "100%|███████████████████████████████████████████████████████████████████████████████████████████████████████████████████████████████████████████████████████████████████████| 46/46 [00:06<00:00,  6.88it/s]\n"
     ]
    }
   ],
   "source": [
    "#|eval: false\n",
    "species_lut_df = get_maris_lut(fname_in, \n",
    "                               fname_cache='species_helcom.pkl', \n",
    "                               data_provider_lut='RUBIN_NAME.csv',\n",
    "                               data_provider_id_col='RUBIN',\n",
    "                               data_provider_name_col='SCIENTIFIC NAME',\n",
    "                               maris_lut=species_lut_path,\n",
    "                               maris_id='species_id',\n",
    "                               maris_name='species',\n",
    "                               unmatched_fixes=unmatched_fixes_biota_species,\n",
    "                               as_dataframe=True,\n",
    "                               overwrite=True)"
   ]
  },
  {
   "cell_type": "markdown",
   "id": "8915a7fc",
   "metadata": {},
   "source": [
    "Display `species_lut_df`. The `match_score` represents the number insertions, deletions, or substitutions needed to transform from the HECOM source name (`source_name`) to the maris name, (`matched_maris_name`). "
   ]
  },
  {
   "cell_type": "code",
   "execution_count": null,
   "id": "c341f814-3343-47b7-958c-5df7d34a683d",
   "metadata": {},
   "outputs": [
    {
     "data": {
      "text/html": [
       "<div>\n",
       "<style scoped>\n",
       "    .dataframe tbody tr th:only-of-type {\n",
       "        vertical-align: middle;\n",
       "    }\n",
       "\n",
       "    .dataframe tbody tr th {\n",
       "        vertical-align: top;\n",
       "    }\n",
       "\n",
       "    .dataframe thead th {\n",
       "        text-align: right;\n",
       "    }\n",
       "</style>\n",
       "<table border=\"1\" class=\"dataframe\">\n",
       "  <thead>\n",
       "    <tr style=\"text-align: right;\">\n",
       "      <th></th>\n",
       "      <th>matched_id</th>\n",
       "      <th>matched_maris_name</th>\n",
       "      <th>source_name</th>\n",
       "      <th>match_score</th>\n",
       "    </tr>\n",
       "    <tr>\n",
       "      <th>source_id</th>\n",
       "      <th></th>\n",
       "      <th></th>\n",
       "      <th></th>\n",
       "      <th></th>\n",
       "    </tr>\n",
       "  </thead>\n",
       "  <tbody>\n",
       "    <tr>\n",
       "      <th>ENCH CIM</th>\n",
       "      <td>276</td>\n",
       "      <td>Echinodermata</td>\n",
       "      <td>ENCHINODERMATA CIM</td>\n",
       "      <td>5</td>\n",
       "    </tr>\n",
       "    <tr>\n",
       "      <th>MACO BAL</th>\n",
       "      <td>122</td>\n",
       "      <td>Macoma balthica</td>\n",
       "      <td>MACOMA BALTICA</td>\n",
       "      <td>1</td>\n",
       "    </tr>\n",
       "    <tr>\n",
       "      <th>STUC PEC</th>\n",
       "      <td>704</td>\n",
       "      <td>Stuckenia pectinata</td>\n",
       "      <td>STUCKENIA PECTINATE</td>\n",
       "      <td>1</td>\n",
       "    </tr>\n",
       "    <tr>\n",
       "      <th>STIZ LUC</th>\n",
       "      <td>285</td>\n",
       "      <td>Sander lucioperca</td>\n",
       "      <td>STIZOSTEDION LUCIOPERCA</td>\n",
       "      <td>1</td>\n",
       "    </tr>\n",
       "    <tr>\n",
       "      <th>ABRA BRA</th>\n",
       "      <td>271</td>\n",
       "      <td>Abramis brama</td>\n",
       "      <td>ABRAMIS BRAMA</td>\n",
       "      <td>0</td>\n",
       "    </tr>\n",
       "  </tbody>\n",
       "</table>\n",
       "</div>"
      ],
      "text/plain": [
       "          matched_id   matched_maris_name              source_name match_score\n",
       "source_id                                                                     \n",
       "ENCH CIM         276        Echinodermata       ENCHINODERMATA CIM           5\n",
       "MACO BAL         122      Macoma balthica           MACOMA BALTICA           1\n",
       "STUC PEC         704  Stuckenia pectinata      STUCKENIA PECTINATE           1\n",
       "STIZ LUC         285    Sander lucioperca  STIZOSTEDION LUCIOPERCA           1\n",
       "ABRA BRA         271        Abramis brama            ABRAMIS BRAMA           0"
      ]
     },
     "execution_count": null,
     "metadata": {},
     "output_type": "execute_result"
    }
   ],
   "source": [
    "#|eval: false\n",
    "species_lut_df.head()"
   ]
  },
  {
   "cell_type": "markdown",
   "id": "557931bd",
   "metadata": {},
   "source": [
    "Show `species_lut_df` where `match_type` is not a perfect match ( i.e. not equal 0)."
   ]
  },
  {
   "cell_type": "code",
   "execution_count": null,
   "id": "657f297a",
   "metadata": {},
   "outputs": [
    {
     "data": {
      "text/html": [
       "<div>\n",
       "<style scoped>\n",
       "    .dataframe tbody tr th:only-of-type {\n",
       "        vertical-align: middle;\n",
       "    }\n",
       "\n",
       "    .dataframe tbody tr th {\n",
       "        vertical-align: top;\n",
       "    }\n",
       "\n",
       "    .dataframe thead th {\n",
       "        text-align: right;\n",
       "    }\n",
       "</style>\n",
       "<table border=\"1\" class=\"dataframe\">\n",
       "  <thead>\n",
       "    <tr style=\"text-align: right;\">\n",
       "      <th></th>\n",
       "      <th>matched_id</th>\n",
       "      <th>matched_maris_name</th>\n",
       "      <th>source_name</th>\n",
       "      <th>match_score</th>\n",
       "    </tr>\n",
       "    <tr>\n",
       "      <th>source_id</th>\n",
       "      <th></th>\n",
       "      <th></th>\n",
       "      <th></th>\n",
       "      <th></th>\n",
       "    </tr>\n",
       "  </thead>\n",
       "  <tbody>\n",
       "    <tr>\n",
       "      <th>ENCH CIM</th>\n",
       "      <td>276</td>\n",
       "      <td>Echinodermata</td>\n",
       "      <td>ENCHINODERMATA CIM</td>\n",
       "      <td>5</td>\n",
       "    </tr>\n",
       "    <tr>\n",
       "      <th>MACO BAL</th>\n",
       "      <td>122</td>\n",
       "      <td>Macoma balthica</td>\n",
       "      <td>MACOMA BALTICA</td>\n",
       "      <td>1</td>\n",
       "    </tr>\n",
       "    <tr>\n",
       "      <th>STUC PEC</th>\n",
       "      <td>704</td>\n",
       "      <td>Stuckenia pectinata</td>\n",
       "      <td>STUCKENIA PECTINATE</td>\n",
       "      <td>1</td>\n",
       "    </tr>\n",
       "    <tr>\n",
       "      <th>STIZ LUC</th>\n",
       "      <td>285</td>\n",
       "      <td>Sander lucioperca</td>\n",
       "      <td>STIZOSTEDION LUCIOPERCA</td>\n",
       "      <td>1</td>\n",
       "    </tr>\n",
       "  </tbody>\n",
       "</table>\n",
       "</div>"
      ],
      "text/plain": [
       "          matched_id   matched_maris_name              source_name match_score\n",
       "source_id                                                                     \n",
       "ENCH CIM         276        Echinodermata       ENCHINODERMATA CIM           5\n",
       "MACO BAL         122      Macoma balthica           MACOMA BALTICA           1\n",
       "STUC PEC         704  Stuckenia pectinata      STUCKENIA PECTINATE           1\n",
       "STIZ LUC         285    Sander lucioperca  STIZOSTEDION LUCIOPERCA           1"
      ]
     },
     "execution_count": null,
     "metadata": {},
     "output_type": "execute_result"
    }
   ],
   "source": [
    "species_lut_df[species_lut_df['match_score'] >= 1]"
   ]
  },
  {
   "cell_type": "markdown",
   "id": "2d900eb6",
   "metadata": {},
   "source": [
    "`LookupBiotaSpeciesCB` applies the corrected `biota` `species` data obtained from the `get_maris_lut` function to the `biota` dataframe in the dictionary of dataframes, `dfs`."
   ]
  },
  {
   "cell_type": "code",
   "execution_count": null,
   "id": "c2798566",
   "metadata": {},
   "outputs": [],
   "source": [
    "#| export\n",
    "class LookupBiotaSpeciesCB(Callback):\n",
    "    \"\"\"\n",
    "    Biota species remapped to MARIS db:\n",
    "        CARD EDU: Cerastoderma edule\n",
    "        LAMI SAC: Saccharina latissima\n",
    "        PSET MAX: Scophthalmus maximus\n",
    "        STIZ LUC: Sander luciopercas\n",
    "    \"\"\"\n",
    "    def __init__(self, fn_lut): fc.store_attr()\n",
    "    def __call__(self, tfm):\n",
    "        lut = self.fn_lut()\n",
    "        tfm.dfs['biota']['species'] = tfm.dfs['biota']['RUBIN'].apply(lambda x: lut[x.strip()].matched_id)"
   ]
  },
  {
   "cell_type": "markdown",
   "id": "b7b98d51",
   "metadata": {},
   "source": [
    "`get_maris_species` defines a partial function of `get_maris_lut`, with predefined arguments  for species lookup."
   ]
  },
  {
   "cell_type": "code",
   "execution_count": null,
   "id": "33ddf185-8ee8-4cb0-abd6-427fe4e52c03",
   "metadata": {},
   "outputs": [],
   "source": [
    "#| export\n",
    "get_maris_species = partial(get_maris_lut,\n",
    "                            fname_in, fname_cache='species_helcom.pkl', \n",
    "                            data_provider_lut='RUBIN_NAME.csv',\n",
    "                            data_provider_id_col='RUBIN',\n",
    "                            data_provider_name_col='SCIENTIFIC NAME',\n",
    "                            maris_lut=species_lut_path,\n",
    "                            maris_id='species_id',\n",
    "                            maris_name='species',\n",
    "                            unmatched_fixes=unmatched_fixes_biota_species,\n",
    "                            as_dataframe=False,\n",
    "                            overwrite=False)"
   ]
  },
  {
   "cell_type": "markdown",
   "id": "e18132f3",
   "metadata": {},
   "source": [
    "Apply the transformer for callbacks `LowerStripRdnNameCB`, `RemapRdnNameCB`, `ParseTimeCB`,  `NormalizeUncUnitCB()` and `LookupBiotaSpeciesCB(get_maris_species)`. Then, print the unique `species` for the `biota` dataframe."
   ]
  },
  {
   "cell_type": "code",
   "execution_count": null,
   "id": "b83ffe12",
   "metadata": {},
   "outputs": [
    {
     "name": "stdout",
     "output_type": "stream",
     "text": [
      "[  99  243   50  139  270  192  191  284   84  269  122   96  287  279\n",
      "  278  288  286  244  129  275  271  285  283  247  120   59  280  274\n",
      "  273  290  289  272  277  276   21  282  110  281  245  704 1524  703\n",
      " 1611  621   60]\n"
     ]
    }
   ],
   "source": [
    "#|eval: false\n",
    "dfs = load_data(fname_in)\n",
    "tfm = Transformer(dfs, cbs=[LowerStripRdnNameCB(),\n",
    "                            RemapRdnNameCB(),\n",
    "                            ParseTimeCB(),\n",
    "                            EncodeTimeCB(cfg()),                             \n",
    "                            NormalizeUncUnitCB(),\n",
    "                            LookupBiotaSpeciesCB(get_maris_species)\n",
    "                            ])\n",
    "\n",
    "#print(tfm()['biota'][['RUBIN', 'species']][:10])\n",
    "print(tfm()['biota']['species'].unique())"
   ]
  },
  {
   "cell_type": "markdown",
   "id": "a0faa085",
   "metadata": {},
   "source": [
    "***"
   ]
  },
  {
   "attachments": {},
   "cell_type": "markdown",
   "id": "2c74e492",
   "metadata": {},
   "source": [
    "#### Lookup : Biota tissues"
   ]
  },
  {
   "cell_type": "markdown",
   "id": "9e92384b",
   "metadata": {},
   "source": [
    "&nbsp;&nbsp;&nbsp;&nbsp;&nbsp;*NetCDF4 format variable: ``body_part``.*"
   ]
  },
  {
   "cell_type": "markdown",
   "id": "9f7388fd",
   "metadata": {},
   "source": [
    "&nbsp;&nbsp;&nbsp;&nbsp;&nbsp;*Open Refine format variable: `Body part`.*"
   ]
  },
  {
   "cell_type": "markdown",
   "id": "31449525",
   "metadata": {},
   "source": [
    "The HELCOM dataset includes look-up in the `TISSUE.csv` file for biota tissues. Biota tissue is known as `body part` in the maris data set.    "
   ]
  },
  {
   "cell_type": "code",
   "execution_count": null,
   "id": "a38df50b-46a9-4a2d-9379-e670eb0d0bb6",
   "metadata": {},
   "outputs": [
    {
     "data": {
      "text/html": [
       "<div>\n",
       "<style scoped>\n",
       "    .dataframe tbody tr th:only-of-type {\n",
       "        vertical-align: middle;\n",
       "    }\n",
       "\n",
       "    .dataframe tbody tr th {\n",
       "        vertical-align: top;\n",
       "    }\n",
       "\n",
       "    .dataframe thead th {\n",
       "        text-align: right;\n",
       "    }\n",
       "</style>\n",
       "<table border=\"1\" class=\"dataframe\">\n",
       "  <thead>\n",
       "    <tr style=\"text-align: right;\">\n",
       "      <th></th>\n",
       "      <th>TISSUE</th>\n",
       "      <th>TISSUE_DESCRIPTION</th>\n",
       "    </tr>\n",
       "  </thead>\n",
       "  <tbody>\n",
       "    <tr>\n",
       "      <th>0</th>\n",
       "      <td>1</td>\n",
       "      <td>WHOLE FISH</td>\n",
       "    </tr>\n",
       "    <tr>\n",
       "      <th>1</th>\n",
       "      <td>2</td>\n",
       "      <td>WHOLE FISH WITHOUT ENTRAILS</td>\n",
       "    </tr>\n",
       "    <tr>\n",
       "      <th>2</th>\n",
       "      <td>3</td>\n",
       "      <td>WHOLE FISH WITHOUT HEAD AND ENTRAILS</td>\n",
       "    </tr>\n",
       "    <tr>\n",
       "      <th>3</th>\n",
       "      <td>4</td>\n",
       "      <td>FLESH WITH BONES</td>\n",
       "    </tr>\n",
       "    <tr>\n",
       "      <th>4</th>\n",
       "      <td>5</td>\n",
       "      <td>FLESH WITHOUT BONES (FILETS)</td>\n",
       "    </tr>\n",
       "  </tbody>\n",
       "</table>\n",
       "</div>"
      ],
      "text/plain": [
       "   TISSUE                    TISSUE_DESCRIPTION\n",
       "0       1                            WHOLE FISH\n",
       "1       2           WHOLE FISH WITHOUT ENTRAILS\n",
       "2       3  WHOLE FISH WITHOUT HEAD AND ENTRAILS\n",
       "3       4                      FLESH WITH BONES\n",
       "4       5          FLESH WITHOUT BONES (FILETS)"
      ]
     },
     "execution_count": null,
     "metadata": {},
     "output_type": "execute_result"
    }
   ],
   "source": [
    "#|eval: false\n",
    "pd.read_csv('../../_data/accdb/mors/csv/TISSUE.csv').head()"
   ]
  },
  {
   "cell_type": "markdown",
   "id": "7bc6a4e9",
   "metadata": {},
   "source": [
    "Create `unmatched_fixes_biota_tissues` to correct entries in the HELCOM dataset. "
   ]
  },
  {
   "cell_type": "code",
   "execution_count": null,
   "id": "c6e2b06f-5eb1-4708-8087-75c836f08112",
   "metadata": {},
   "outputs": [],
   "source": [
    "#|export\n",
    "unmatched_fixes_biota_tissues = {\n",
    "    3: 'Whole animal eviscerated without head',\n",
    "    12: 'Viscera',\n",
    "    8: 'Skin'}"
   ]
  },
  {
   "cell_type": "code",
   "execution_count": null,
   "id": "2d2a502e-3826-404c-84e1-0d60b4be0b04",
   "metadata": {},
   "outputs": [
    {
     "name": "stderr",
     "output_type": "stream",
     "text": [
      "100%|██████████████████████████████████████████████████████████████████████████████████████████████████████████████████████████████████████████████████████████████████████| 29/29 [00:00<00:00, 150.02it/s]\n"
     ]
    }
   ],
   "source": [
    "#|eval: false\n",
    "tissues_lut_df = get_maris_lut(fname_in, \n",
    "                               fname_cache='tissues_helcom.pkl', \n",
    "                               data_provider_lut='TISSUE.csv',\n",
    "                               data_provider_id_col='TISSUE',\n",
    "                               data_provider_name_col='TISSUE_DESCRIPTION',\n",
    "                               maris_lut=bodyparts_lut_path,\n",
    "                               maris_id='bodypar_id',\n",
    "                               maris_name='bodypar',\n",
    "                               unmatched_fixes=unmatched_fixes_biota_tissues,\n",
    "                               as_dataframe=True,\n",
    "                               overwrite=True)"
   ]
  },
  {
   "cell_type": "code",
   "execution_count": null,
   "id": "967c1a7d-ba91-4400-ba0a-bad180eee1d1",
   "metadata": {},
   "outputs": [
    {
     "data": {
      "text/html": [
       "<div>\n",
       "<style scoped>\n",
       "    .dataframe tbody tr th:only-of-type {\n",
       "        vertical-align: middle;\n",
       "    }\n",
       "\n",
       "    .dataframe tbody tr th {\n",
       "        vertical-align: top;\n",
       "    }\n",
       "\n",
       "    .dataframe thead th {\n",
       "        text-align: right;\n",
       "    }\n",
       "</style>\n",
       "<table border=\"1\" class=\"dataframe\">\n",
       "  <thead>\n",
       "    <tr style=\"text-align: right;\">\n",
       "      <th></th>\n",
       "      <th>matched_id</th>\n",
       "      <th>matched_maris_name</th>\n",
       "      <th>source_name</th>\n",
       "      <th>match_score</th>\n",
       "    </tr>\n",
       "    <tr>\n",
       "      <th>source_id</th>\n",
       "      <th></th>\n",
       "      <th></th>\n",
       "      <th></th>\n",
       "      <th></th>\n",
       "    </tr>\n",
       "  </thead>\n",
       "  <tbody>\n",
       "    <tr>\n",
       "      <th>2</th>\n",
       "      <td>52</td>\n",
       "      <td>Flesh without bones</td>\n",
       "      <td>WHOLE FISH WITHOUT ENTRAILS</td>\n",
       "      <td>13</td>\n",
       "    </tr>\n",
       "    <tr>\n",
       "      <th>5</th>\n",
       "      <td>52</td>\n",
       "      <td>Flesh without bones</td>\n",
       "      <td>FLESH WITHOUT BONES (FILETS)</td>\n",
       "      <td>9</td>\n",
       "    </tr>\n",
       "    <tr>\n",
       "      <th>1</th>\n",
       "      <td>1</td>\n",
       "      <td>Whole animal</td>\n",
       "      <td>WHOLE FISH</td>\n",
       "      <td>5</td>\n",
       "    </tr>\n",
       "    <tr>\n",
       "      <th>15</th>\n",
       "      <td>53</td>\n",
       "      <td>Stomach and intestine</td>\n",
       "      <td>STOMACH + INTESTINE</td>\n",
       "      <td>3</td>\n",
       "    </tr>\n",
       "    <tr>\n",
       "      <th>41</th>\n",
       "      <td>1</td>\n",
       "      <td>Whole animal</td>\n",
       "      <td>WHOLE ANIMALS</td>\n",
       "      <td>1</td>\n",
       "    </tr>\n",
       "  </tbody>\n",
       "</table>\n",
       "</div>"
      ],
      "text/plain": [
       "          matched_id     matched_maris_name                   source_name  \\\n",
       "source_id                                                                   \n",
       "2                 52    Flesh without bones   WHOLE FISH WITHOUT ENTRAILS   \n",
       "5                 52    Flesh without bones  FLESH WITHOUT BONES (FILETS)   \n",
       "1                  1           Whole animal                    WHOLE FISH   \n",
       "15                53  Stomach and intestine           STOMACH + INTESTINE   \n",
       "41                 1           Whole animal                 WHOLE ANIMALS   \n",
       "\n",
       "          match_score  \n",
       "source_id              \n",
       "2                  13  \n",
       "5                   9  \n",
       "1                   5  \n",
       "15                  3  \n",
       "41                  1  "
      ]
     },
     "execution_count": null,
     "metadata": {},
     "output_type": "execute_result"
    }
   ],
   "source": [
    "tissues_lut_df.head()"
   ]
  },
  {
   "cell_type": "markdown",
   "id": "6811aa06",
   "metadata": {},
   "source": [
    "`LookupBiotaBodyPartCB` applies the corrected `biota` `TISSUE` data obtained from the `get_maris_lut` function to the `biota` dataframe in the dictionary of dataframes, `dfs`."
   ]
  },
  {
   "cell_type": "code",
   "execution_count": null,
   "id": "bbe9a118",
   "metadata": {},
   "outputs": [],
   "source": [
    "#| export\n",
    "class LookupBiotaBodyPartCB(Callback):\n",
    "    \"\"\"\n",
    "    Update bodypart id based on MARIS dbo_bodypar.xlsx:\n",
    "        - 3: 'Whole animal eviscerated without head',\n",
    "        - 12: 'Viscera',\n",
    "        - 8: 'Skin'\n",
    "    \"\"\"\n",
    "    def __init__(self, fn_lut): fc.store_attr()\n",
    "    def __call__(self, tfm):\n",
    "        lut = self.fn_lut()\n",
    "        tfm.dfs['biota']['body_part'] = tfm.dfs['biota']['TISSUE'].apply(lambda x: lut[x].matched_id)"
   ]
  },
  {
   "cell_type": "markdown",
   "id": "8e2a3904",
   "metadata": {},
   "source": [
    "`get_maris_bodypart` defines a partial function of `get_maris_lut`, with predefined arguments  for  `TISSUE` (or `bodypar`) lookup."
   ]
  },
  {
   "cell_type": "code",
   "execution_count": null,
   "id": "5460dc4c-6927-460f-924f-322606ad903b",
   "metadata": {},
   "outputs": [],
   "source": [
    "#| export\n",
    "get_maris_bodypart = partial(get_maris_lut,\n",
    "                             fname_in,\n",
    "                             fname_cache='tissues_helcom.pkl', \n",
    "                             data_provider_lut='TISSUE.csv',\n",
    "                             data_provider_id_col='TISSUE',\n",
    "                             data_provider_name_col='TISSUE_DESCRIPTION',\n",
    "                             maris_lut=bodyparts_lut_path,\n",
    "                             maris_id='bodypar_id',\n",
    "                             maris_name='bodypar',\n",
    "                             unmatched_fixes=unmatched_fixes_biota_tissues)"
   ]
  },
  {
   "cell_type": "markdown",
   "id": "877064bf",
   "metadata": {},
   "source": [
    "Apply the transformer for callbacks `LowerStripRdnNameCB`, `RemapRdnNameCB`, `ParseTimeCB`,  `NormalizeUncUnitCB()`, `LookupBiotaSpeciesCB(get_maris_species)` and `LookupbioooooooootaBodyPartCB(get_maris_bodypart)`. Then, print the `TISSUE` and `body_part` for the `biota` dataframe."
   ]
  },
  {
   "cell_type": "code",
   "execution_count": null,
   "id": "53a195f8",
   "metadata": {},
   "outputs": [
    {
     "name": "stdout",
     "output_type": "stream",
     "text": [
      "   TISSUE  body_part\n",
      "0       5         52\n",
      "1       5         52\n",
      "2       5         52\n",
      "3       5         52\n",
      "4       5         52\n"
     ]
    }
   ],
   "source": [
    "#|eval: false\n",
    "dfs = load_data(fname_in)\n",
    "tfm = Transformer(dfs, cbs=[LowerStripRdnNameCB(),\n",
    "                            RemapRdnNameCB(),\n",
    "                            ParseTimeCB(),\n",
    "                            EncodeTimeCB(cfg()),                             \n",
    "                            NormalizeUncUnitCB(),\n",
    "                            LookupBiotaSpeciesCB(get_maris_species),\n",
    "                            LookupBiotaBodyPartCB(get_maris_bodypart)\n",
    "                            ])\n",
    "\n",
    "print(tfm()['biota'][['TISSUE', 'body_part']][:5])"
   ]
  },
  {
   "cell_type": "markdown",
   "id": "2718285f",
   "metadata": {},
   "source": [
    "***"
   ]
  },
  {
   "cell_type": "markdown",
   "id": "cc596011",
   "metadata": {},
   "source": [
    "#### Lookup : Biogroup"
   ]
  },
  {
   "cell_type": "markdown",
   "id": "2513576a",
   "metadata": {},
   "source": [
    "&nbsp;&nbsp;&nbsp;&nbsp;&nbsp;*NetCDF4 format variable: ``bio_group``.*"
   ]
  },
  {
   "cell_type": "markdown",
   "id": "96421826",
   "metadata": {},
   "source": [
    "&nbsp;&nbsp;&nbsp;&nbsp;&nbsp;*Open Refine format variable: Biogroup is not included.*"
   ]
  },
  {
   "cell_type": "markdown",
   "id": "da42ebe6",
   "metadata": {},
   "source": [
    "`get_biogroup_lut` reads the file at `species_lut_path()` and from the contents of this file creates a dictionary linking `species_id` to `biogroup_id`."
   ]
  },
  {
   "cell_type": "code",
   "execution_count": null,
   "id": "d933de70",
   "metadata": {},
   "outputs": [],
   "source": [
    "#| export\n",
    "def get_biogroup_lut(maris_lut):\n",
    "    species = pd.read_excel(maris_lut)\n",
    "    return species[['species_id', 'biogroup_id']].set_index('species_id').to_dict()['biogroup_id']"
   ]
  },
  {
   "cell_type": "markdown",
   "id": "1291637e",
   "metadata": {},
   "source": [
    "`LookupBiogroupCB` applies the corrected `biota` `bio group` data obtained from the `get_maris_lut` function to the `biota` dataframe in the dictionary of dataframes, `dfs`."
   ]
  },
  {
   "cell_type": "code",
   "execution_count": null,
   "id": "41c8ce49",
   "metadata": {},
   "outputs": [],
   "source": [
    "\n",
    "#| export\n",
    "class LookupBiogroupCB(Callback):\n",
    "    \"\"\"\n",
    "    Update biogroup id  based on MARIS dbo_species.xlsx\n",
    "    \"\"\"\n",
    "    def __init__(self, fn_lut): fc.store_attr()\n",
    "    def __call__(self, tfm):\n",
    "        lut = self.fn_lut()\n",
    "        tfm.dfs['biota']['bio_group'] = tfm.dfs['biota']['species'].apply(lambda x: lut[x])"
   ]
  },
  {
   "cell_type": "markdown",
   "id": "5c5f2d40",
   "metadata": {},
   "source": [
    "Apply the transformer for callbacks `LowerStripRdnNameCB`, `RemapRdnNameCB`, `ParseTimeCB`,  `NormalizeUncUnitCB()`, `LookupBiotaSpeciesCB(get_maris_species)`, `LookupBiotaBodyPartCB(get_maris_bodypart)`, `LookupSedimentCB(get_maris_sediments)` and `LookupBiogroupCB(partial(get_biogroup_lut, species_lut_path())` . Then, print the `bio_group` for the `biota` dataframe."
   ]
  },
  {
   "cell_type": "code",
   "execution_count": null,
   "id": "3e74513d",
   "metadata": {},
   "outputs": [
    {
     "name": "stdout",
     "output_type": "stream",
     "text": [
      "[ 4  2 14 11  8  3]\n"
     ]
    }
   ],
   "source": [
    "\n",
    "#|eval: false\n",
    "dfs = load_data(fname_in)\n",
    "tfm = Transformer(dfs, cbs=[LowerStripRdnNameCB(),\n",
    "                            RemapRdnNameCB(),\n",
    "                            ParseTimeCB(),\n",
    "                            EncodeTimeCB(cfg()),                             \n",
    "                            LookupBiotaSpeciesCB(get_maris_species),\n",
    "                            LookupBiotaBodyPartCB(get_maris_bodypart),                            \n",
    "                            LookupBiogroupCB(partial(get_biogroup_lut, species_lut_path()))\n",
    "                            ])\n",
    "\n",
    "print(tfm()['biota']['bio_group'].unique())"
   ]
  },
  {
   "cell_type": "markdown",
   "id": "b158b423",
   "metadata": {},
   "source": [
    "***"
   ]
  },
  {
   "cell_type": "markdown",
   "id": "adcf607d",
   "metadata": {},
   "source": [
    "#### Lookup : Sediment types"
   ]
  },
  {
   "cell_type": "markdown",
   "id": "99f1fe91",
   "metadata": {},
   "source": [
    "The HELCOM dataset includes look-up in the `SEDIMENT_TYPE.csv` file for Sediment types. "
   ]
  },
  {
   "cell_type": "markdown",
   "id": "30169727",
   "metadata": {},
   "source": [
    "&nbsp;&nbsp;&nbsp;&nbsp;&nbsp;*NetCDF4 format variable: ``sed_type``.*"
   ]
  },
  {
   "cell_type": "markdown",
   "id": "be172080",
   "metadata": {},
   "source": [
    "&nbsp;&nbsp;&nbsp;&nbsp;&nbsp;*Open Refine format variable: `Sediment type`.*"
   ]
  },
  {
   "cell_type": "code",
   "execution_count": null,
   "id": "bf7665a6",
   "metadata": {},
   "outputs": [
    {
     "data": {
      "text/html": [
       "<div>\n",
       "<style scoped>\n",
       "    .dataframe tbody tr th:only-of-type {\n",
       "        vertical-align: middle;\n",
       "    }\n",
       "\n",
       "    .dataframe tbody tr th {\n",
       "        vertical-align: top;\n",
       "    }\n",
       "\n",
       "    .dataframe thead th {\n",
       "        text-align: right;\n",
       "    }\n",
       "</style>\n",
       "<table border=\"1\" class=\"dataframe\">\n",
       "  <thead>\n",
       "    <tr style=\"text-align: right;\">\n",
       "      <th></th>\n",
       "      <th>SEDI</th>\n",
       "      <th>SEDIMENT TYPE</th>\n",
       "      <th>RECOMMENDED TO BE USED</th>\n",
       "    </tr>\n",
       "  </thead>\n",
       "  <tbody>\n",
       "    <tr>\n",
       "      <th>0</th>\n",
       "      <td>-99</td>\n",
       "      <td>NO DATA</td>\n",
       "      <td>NaN</td>\n",
       "    </tr>\n",
       "    <tr>\n",
       "      <th>1</th>\n",
       "      <td>0</td>\n",
       "      <td>GRAVEL</td>\n",
       "      <td>YES</td>\n",
       "    </tr>\n",
       "    <tr>\n",
       "      <th>2</th>\n",
       "      <td>1</td>\n",
       "      <td>SAND</td>\n",
       "      <td>YES</td>\n",
       "    </tr>\n",
       "    <tr>\n",
       "      <th>3</th>\n",
       "      <td>2</td>\n",
       "      <td>FINE SAND</td>\n",
       "      <td>NO</td>\n",
       "    </tr>\n",
       "    <tr>\n",
       "      <th>4</th>\n",
       "      <td>3</td>\n",
       "      <td>SILT</td>\n",
       "      <td>YES</td>\n",
       "    </tr>\n",
       "  </tbody>\n",
       "</table>\n",
       "</div>"
      ],
      "text/plain": [
       "   SEDI SEDIMENT TYPE RECOMMENDED TO BE USED\n",
       "0   -99       NO DATA                    NaN\n",
       "1     0        GRAVEL                    YES\n",
       "2     1          SAND                    YES\n",
       "3     2     FINE SAND                     NO\n",
       "4     3          SILT                    YES"
      ]
     },
     "execution_count": null,
     "metadata": {},
     "output_type": "execute_result"
    }
   ],
   "source": [
    "#|eval: false\n",
    "df_sediment = pd.read_csv(Path(fname_in) / 'SEDIMENT_TYPE.csv')\n",
    "df_sediment.head()"
   ]
  },
  {
   "cell_type": "markdown",
   "id": "540dba05",
   "metadata": {},
   "source": [
    "Create `unmatched_fixes_sediments` to correct entries in the HELCOM dataset. "
   ]
  },
  {
   "cell_type": "code",
   "execution_count": null,
   "id": "d553b9bf-d305-456f-9bf1-620f2804637e",
   "metadata": {},
   "outputs": [],
   "source": [
    "#|export\n",
    "unmatched_fixes_sediments = {\n",
    "    #np.nan: 'Not applicable',\n",
    "    -99: '(Not available)'\n",
    "}"
   ]
  },
  {
   "cell_type": "code",
   "execution_count": null,
   "id": "480c716f-d2de-455f-b58f-22af28ca01b7",
   "metadata": {},
   "outputs": [
    {
     "name": "stderr",
     "output_type": "stream",
     "text": [
      "100%|██████████████████████████████████████████████████████████████████████████████████████████████████████████████████████████████████████████████████████████████████████| 47/47 [00:00<00:00, 154.13it/s]\n"
     ]
    }
   ],
   "source": [
    "#|eval: false\n",
    "sediments_lut_df = get_maris_lut(\n",
    "    fname_in, \n",
    "    fname_cache='sediments_helcom.pkl', \n",
    "    data_provider_lut='SEDIMENT_TYPE.csv',\n",
    "    data_provider_id_col='SEDI',\n",
    "    data_provider_name_col='SEDIMENT TYPE',\n",
    "    maris_lut=sediments_lut_path,\n",
    "    maris_id='sedtype_id',\n",
    "    maris_name='sedtype',\n",
    "    unmatched_fixes=unmatched_fixes_sediments,\n",
    "    as_dataframe=True,\n",
    "    overwrite=True)"
   ]
  },
  {
   "cell_type": "markdown",
   "id": "1c17cfe1",
   "metadata": {},
   "source": [
    "`get_maris_sediments` defines a partial function of `get_maris_lut`, with predefined arguments  for  `SEDI` (or `sedtype`) lookup."
   ]
  },
  {
   "cell_type": "code",
   "execution_count": null,
   "id": "4053bfbb-8f04-434c-a8a1-35b4d58dd0d7",
   "metadata": {},
   "outputs": [],
   "source": [
    "#| export\n",
    "get_maris_sediments = partial(\n",
    "    get_maris_lut,\n",
    "    fname_in, \n",
    "    fname_cache='sediments_helcom.pkl', \n",
    "    data_provider_lut='SEDIMENT_TYPE.csv',\n",
    "    data_provider_id_col='SEDI',\n",
    "    data_provider_name_col='SEDIMENT TYPE',\n",
    "    maris_lut=sediments_lut_path,\n",
    "    maris_id='sedtype_id',\n",
    "    maris_name='sedtype',\n",
    "    unmatched_fixes=unmatched_fixes_sediments)"
   ]
  },
  {
   "cell_type": "markdown",
   "id": "3528f164",
   "metadata": {},
   "source": [
    "`LookupSedimentCB` applies the corrected `sediment` `SEDI` data obtained from the `get_maris_lut` function to the `sediment` dataframe in the dictionary of dataframes, `dfs`."
   ]
  },
  {
   "cell_type": "code",
   "execution_count": null,
   "id": "6a9fb63d-2459-4497-9086-bb98ccd524e9",
   "metadata": {},
   "outputs": [],
   "source": [
    "#| export\n",
    "class LookupSedimentCB(Callback):\n",
    "    \"\"\"\n",
    "    Update sediment id  based on MARIS dbo_sedtype.xlsx\n",
    "        -99: '(Not available)'\n",
    "        - na: '(Not available)'\n",
    "        - 56: '(Not available)'\n",
    "        - 73: '(Not available)'\n",
    "    \"\"\"\n",
    "    def __init__(self, fn_lut): fc.store_attr()\n",
    "    def __call__(self, tfm):\n",
    "        lut = self.fn_lut()\n",
    "\n",
    "        # To check with Helcom\n",
    "        tfm.dfs['sediment']['SEDI'] = dfs['sediment']['SEDI'].fillna(-99).astype('int')\n",
    "        tfm.dfs['sediment']['SEDI'].replace(56, -99, inplace=True)\n",
    "        tfm.dfs['sediment']['SEDI'].replace(73, -99, inplace=True)\n",
    "        \n",
    "        tfm.dfs['sediment']['sed_type'] = tfm.dfs['sediment']['SEDI'].apply(lambda x: lut[x].matched_id)"
   ]
  },
  {
   "cell_type": "markdown",
   "id": "f131e929",
   "metadata": {},
   "source": [
    "Apply the transformer for callbacks `LowerStripRdnNameCB`, `RemapRdnNameCB`, `ParseTimeCB`,  `NormalizeUncUnitCB()`, `LookupBiotaSpeciesCB(get_maris_species)`, `LookupBiotaBodyPartCB(get_maris_bodypart)` and `LookupSedimentCB(get_maris_sediments)`. Then, print the `SEDI` and `sed_type` for the `biota` dataframe."
   ]
  },
  {
   "cell_type": "code",
   "execution_count": null,
   "id": "16d42cb0",
   "metadata": {},
   "outputs": [
    {
     "name": "stdout",
     "output_type": "stream",
     "text": [
      "   SEDI  sed_type\n",
      "0   -99         0\n",
      "1   -99         0\n",
      "2   -99         0\n",
      "3   -99         0\n",
      "4   -99         0\n",
      "{'seawater':                 KEY NUCLIDE METHOD < VALUE_Bq/m³  VALUE_Bq/m³     ERROR%_m³  \\\n",
      "0      WKRIL2012003   cs137    NaN           NaN          5.3      0.089888   \n",
      "1      WKRIL2012004   cs137    NaN           NaN         19.9      0.792020   \n",
      "2      WKRIL2012005   cs137    NaN           NaN         25.5      1.300500   \n",
      "3      WKRIL2012006   cs137    NaN           NaN         17.0      0.838100   \n",
      "4      WKRIL2012007   cs137    NaN           NaN         22.2      0.887112   \n",
      "...             ...     ...    ...           ...          ...           ...   \n",
      "21211  WSSSM2021005      h3  SSM45           NaN       1030.0   9888.000000   \n",
      "21212  WSSSM2021006      h3  SSM45           NaN       2240.0  21728.000000   \n",
      "21213  WSSSM2021007      h3  SSM45           NaN       2060.0  19982.000000   \n",
      "21214  WSSSM2021008      h3  SSM45           NaN       2300.0  23000.000000   \n",
      "21215  WSSSM2021004      h3  SSM45             <          NaN           NaN   \n",
      "\n",
      "         DATE_OF_ENTRY_x  COUNTRY LABORATORY   SEQUENCE  ...  \\\n",
      "0      08/20/14 00:00:00     90.0       KRIL  2012003.0  ...   \n",
      "1      08/20/14 00:00:00     90.0       KRIL  2012004.0  ...   \n",
      "2      08/20/14 00:00:00     90.0       KRIL  2012005.0  ...   \n",
      "3      08/20/14 00:00:00     90.0       KRIL  2012006.0  ...   \n",
      "4      08/20/14 00:00:00     90.0       KRIL  2012007.0  ...   \n",
      "...                  ...      ...        ...        ...  ...   \n",
      "21211  09/06/22 00:00:00     77.0       SSSM   202105.0  ...   \n",
      "21212  09/06/22 00:00:00     77.0       SSSM   202106.0  ...   \n",
      "21213  09/06/22 00:00:00     77.0       SSSM   202107.0  ...   \n",
      "21214  09/06/22 00:00:00     77.0       SSSM   202108.0  ...   \n",
      "21215  09/06/22 00:00:00     77.0       SSSM   202104.0  ...   \n",
      "\n",
      "      LONGITUDE (dddddd)  TDEPTH  SDEPTH  SALIN TTEMP  FILT  MORS_SUBBASIN  \\\n",
      "0                29.3333     NaN     0.0    NaN   NaN   NaN           11.0   \n",
      "1                29.3333     NaN    29.0    NaN   NaN   NaN           11.0   \n",
      "2                23.1500     NaN     0.0    NaN   NaN   NaN           11.0   \n",
      "3                27.9833     NaN     0.0    NaN   NaN   NaN           11.0   \n",
      "4                27.9833     NaN    39.0    NaN   NaN   NaN           11.0   \n",
      "...                  ...     ...     ...    ...   ...   ...            ...   \n",
      "21211            18.3572     NaN     1.0    NaN   NaN     N            1.0   \n",
      "21212            17.0000     NaN     1.0    NaN   NaN     N           10.0   \n",
      "21213            11.9452     NaN     1.0    NaN   NaN     N           12.0   \n",
      "21214            11.9452     NaN     1.0    NaN   NaN     N           12.0   \n",
      "21215            11.2450     NaN     1.0    NaN   NaN     N           15.0   \n",
      "\n",
      "       HELCOM_SUBBASIN    DATE_OF_ENTRY_y        time  \n",
      "0                 11.0  08/20/14 00:00:00  1337731200  \n",
      "1                 11.0  08/20/14 00:00:00  1337731200  \n",
      "2                  3.0  08/20/14 00:00:00  1339891200  \n",
      "3                 11.0  08/20/14 00:00:00  1337817600  \n",
      "4                 11.0  08/20/14 00:00:00  1337817600  \n",
      "...                ...                ...         ...  \n",
      "21211              8.0  09/06/22 00:00:00  1634256000  \n",
      "21212             10.0  09/06/22 00:00:00  1635984000  \n",
      "21213             12.0  09/06/22 00:00:00  1634256000  \n",
      "21214             12.0  09/06/22 00:00:00  1621209600  \n",
      "21215             18.0  09/06/22 00:00:00  1620864000  \n",
      "\n",
      "[21208 rows x 28 columns], 'sediment':                 KEY NUCLIDE  METHOD < VALUE_Bq/kg  VALUE_Bq/kg   ERROR%_kg  \\\n",
      "0      SKRIL2012048   ra226     NaN           NaN         35.0    3.185000   \n",
      "1      SKRIL2012049   ra226     NaN           NaN         36.0    2.851200   \n",
      "2      SKRIL2012050   ra226     NaN           NaN         38.0    3.465600   \n",
      "3      SKRIL2012051   ra226     NaN           NaN         36.0    3.240000   \n",
      "4      SKRIL2012052   ra226     NaN           NaN         30.0    2.070000   \n",
      "...             ...     ...     ...           ...          ...         ...   \n",
      "39812  SSSSM2020029   ac228  SSSM43           NaN         37.5    0.703125   \n",
      "39813  SSSSM2020030     k40  SSSM43           NaN        526.0   47.588272   \n",
      "39814  SSSSM2020030   cs137  SSSM43           NaN         17.2    0.065381   \n",
      "39815  SSSSM2020031     k40  SSSM43           NaN       1000.0  180.000000   \n",
      "39816  SSSSM2020031   cs137  SSSM43           NaN         64.0    0.491520   \n",
      "\n",
      "      < VALUE_Bq/m²  VALUE_Bq/m²  ERROR%_m²    DATE_OF_ENTRY_x  ...  SEDI  \\\n",
      "0               NaN          NaN        NaN  08/20/14 00:00:00  ...   -99   \n",
      "1               NaN          NaN        NaN  08/20/14 00:00:00  ...   -99   \n",
      "2               NaN          NaN        NaN  08/20/14 00:00:00  ...   -99   \n",
      "3               NaN          NaN        NaN  08/20/14 00:00:00  ...   -99   \n",
      "4               NaN          NaN        NaN  08/20/14 00:00:00  ...   -99   \n",
      "...             ...          ...        ...                ...  ...   ...   \n",
      "39812           NaN        255.0       28.0  04/22/22 00:00:00  ...     0   \n",
      "39813           NaN       5690.0        2.0  04/22/22 00:00:00  ...     0   \n",
      "39814           NaN        186.0        2.0  04/22/22 00:00:00  ...     0   \n",
      "39815           NaN      16000.0        2.0  04/22/22 00:00:00  ...     0   \n",
      "39816           NaN       1020.0        1.0  04/22/22 00:00:00  ...     0   \n",
      "\n",
      "      OXIC    DW%  LOI%  MORS_SUBBASIN  HELCOM_SUBBASIN  SUM_LINK  \\\n",
      "0      NaN    NaN   NaN           11.0             11.0       NaN   \n",
      "1      NaN    NaN   NaN           11.0             11.0       NaN   \n",
      "2      NaN    NaN   NaN           11.0             11.0       NaN   \n",
      "3      NaN    NaN   NaN           11.0             11.0       NaN   \n",
      "4      NaN    NaN   NaN           11.0             11.0       NaN   \n",
      "...    ...    ...   ...            ...              ...       ...   \n",
      "39812    O  28.73  14.0           13.0             13.0       NaN   \n",
      "39813    O  32.03   NaN           12.0             12.0       NaN   \n",
      "39814    O  32.03   NaN           12.0             12.0       NaN   \n",
      "39815    O  48.77   NaN            1.0              8.0       NaN   \n",
      "39816    O  48.77   NaN            1.0              8.0       NaN   \n",
      "\n",
      "         DATE_OF_ENTRY_y        time sed_type  \n",
      "0      08/20/14 00:00:00  1339891200        0  \n",
      "1      08/20/14 00:00:00  1339891200        0  \n",
      "2      08/20/14 00:00:00  1344556800        0  \n",
      "3      08/20/14 00:00:00  1344556800        0  \n",
      "4      08/20/14 00:00:00  1344556800        0  \n",
      "...                  ...         ...      ...  \n",
      "39812  04/22/22 00:00:00  1601337600        2  \n",
      "39813  04/22/22 00:00:00  1598918400        2  \n",
      "39814  04/22/22 00:00:00  1598918400        2  \n",
      "39815  04/22/22 00:00:00  1603670400        2  \n",
      "39816  04/22/22 00:00:00  1603670400        2  \n",
      "\n",
      "[39816 rows x 37 columns], 'biota':                 KEY NUCLIDE  METHOD < VALUE_Bq/kg  VALUE_Bq/kg BASIS  \\\n",
      "0      BVTIG2012041   cs134  VTIG01             <     0.010140     W   \n",
      "1      BVTIG2012041     k40  VTIG01                 135.300000     W   \n",
      "2      BVTIG2012041    co60  VTIG01             <     0.013980     W   \n",
      "3      BVTIG2012041   cs137  VTIG01                   4.338000     W   \n",
      "4      BVTIG2012040   cs134  VTIG01             <     0.009614     W   \n",
      "...             ...     ...     ...           ...          ...   ...   \n",
      "15822  BSSSM2020016     k40  SSSM42           NaN    65.000000     D   \n",
      "15823  BSSSM2020016   cs137  SSSM42           NaN     4.500000     D   \n",
      "15824  BSSSM2020017     be7  SSSM42           NaN    94.000000     D   \n",
      "15825  BSSSM2020017     k40  SSSM42           NaN  1100.000000     D   \n",
      "15826  BSSSM2020017   cs137  SSSM42           NaN    13.000000     D   \n",
      "\n",
      "           ERROR%  NUMBER    DATE_OF_ENTRY_x  COUNTRY  ... WEIGHT     DW%  \\\n",
      "0             NaN     NaN  02/27/14 00:00:00      6.0  ...  948.0  18.453   \n",
      "1        6.535274     NaN  02/27/14 00:00:00      6.0  ...  948.0  18.453   \n",
      "2             NaN     NaN  02/27/14 00:00:00      6.0  ...  948.0  18.453   \n",
      "3        0.006549     NaN  02/27/14 00:00:00      6.0  ...  948.0  18.453   \n",
      "4             NaN     NaN  02/27/14 00:00:00      6.0  ...  964.0  18.458   \n",
      "...           ...     ...                ...      ...  ...    ...     ...   \n",
      "15822    4.309500     NaN  04/22/22 00:00:00     77.0  ...    NaN  41.000   \n",
      "15823    0.012555     NaN  04/22/22 00:00:00     77.0  ...    NaN  41.000   \n",
      "15824    3.004240     NaN  04/22/22 00:00:00     77.0  ...    NaN  21.000   \n",
      "15825  193.600000     NaN  04/22/22 00:00:00     77.0  ...    NaN  21.000   \n",
      "15826    0.042250     NaN  04/22/22 00:00:00     77.0  ...    NaN  21.000   \n",
      "\n",
      "       LOI%  MORS_SUBBASIN  HELCOM_SUBBASIN    DATE_OF_ENTRY_y        time  \\\n",
      "0      92.9            2.0               16  02/27/14 00:00:00  1348358400   \n",
      "1      92.9            2.0               16  02/27/14 00:00:00  1348358400   \n",
      "2      92.9            2.0               16  02/27/14 00:00:00  1348358400   \n",
      "3      92.9            2.0               16  02/27/14 00:00:00  1348358400   \n",
      "4      92.9            2.0               16  02/27/14 00:00:00  1348358400   \n",
      "...     ...            ...              ...                ...         ...   \n",
      "15822   0.0            1.0                8  04/22/22 00:00:00  1602201600   \n",
      "15823   0.0            1.0                8  04/22/22 00:00:00  1602201600   \n",
      "15824   0.0            1.0                8  04/22/22 00:00:00  1603670400   \n",
      "15825   0.0            1.0                8  04/22/22 00:00:00  1603670400   \n",
      "15826   0.0            1.0                8  04/22/22 00:00:00  1603670400   \n",
      "\n",
      "       species  body_part  bio_group  \n",
      "0           99         52          4  \n",
      "1           99         52          4  \n",
      "2           99         52          4  \n",
      "3           99         52          4  \n",
      "4           99         52          4  \n",
      "...        ...        ...        ...  \n",
      "15822      122          1         14  \n",
      "15823      122          1         14  \n",
      "15824       96         54         11  \n",
      "15825       96         54         11  \n",
      "15826       96         54         11  \n",
      "\n",
      "[15827 rows x 37 columns]}\n"
     ]
    }
   ],
   "source": [
    "\n",
    "#|eval: false\n",
    "dfs = load_data(fname_in)\n",
    "tfm = Transformer(dfs, cbs=[LowerStripRdnNameCB(),\n",
    "                            RemapRdnNameCB(),\n",
    "                            ParseTimeCB(),\n",
    "                            EncodeTimeCB(cfg()),                             \n",
    "                            NormalizeUncUnitCB(),\n",
    "                            LookupBiotaSpeciesCB(get_maris_species),\n",
    "                            LookupBiotaBodyPartCB(get_maris_bodypart), \n",
    "                            LookupBiogroupCB(partial(get_biogroup_lut, species_lut_path())),\n",
    "                            LookupSedimentCB(get_maris_sediments)\n",
    "                            ])\n",
    "\n",
    "print(tfm()['sediment'][['SEDI', 'sed_type']][:5])\n",
    "print(tfm())"
   ]
  },
  {
   "cell_type": "markdown",
   "id": "b35d5871",
   "metadata": {},
   "source": [
    "***"
   ]
  },
  {
   "cell_type": "markdown",
   "id": "c3a0add1",
   "metadata": {},
   "source": [
    "#### Lookup : Units"
   ]
  },
  {
   "cell_type": "markdown",
   "id": "30a777c3",
   "metadata": {},
   "source": [
    "&nbsp;&nbsp;&nbsp;&nbsp;&nbsp;*NetCDF4 format variable: ``unit``.*"
   ]
  },
  {
   "cell_type": "markdown",
   "id": "a1ebee28",
   "metadata": {},
   "source": [
    "&nbsp;&nbsp;&nbsp;&nbsp;&nbsp;*Open Refine format variable: ``Unit``.*"
   ]
  },
  {
   "cell_type": "markdown",
   "id": "f7cbefe4",
   "metadata": {},
   "source": [
    "Create `renaming_unit_rules` to rename the units. "
   ]
  },
  {
   "cell_type": "code",
   "execution_count": null,
   "id": "ea7fa747",
   "metadata": {},
   "outputs": [],
   "source": [
    "#| export\n",
    "# Define unit names renaming rules\n",
    "renaming_unit_rules = {'seawater' : 1, #  'Bq/m3'\n",
    "                       'sediment' : 4, # 'Bq/kgd' for sediment (see https://maps.helcom.fi/website/download/MORS_ENVIRONMENT_Reporting_form.xlsx)\n",
    "                       'biota': {'D' : 4, # 'Bq/kgd'\n",
    "                                 'W' : 5, # 'Bq/kgw'\n",
    "                                 'F' : 5 # 'Bq/kgw' !assumed to be 'Fresh' so set to wet. .  \n",
    "                                 } } \n"
   ]
  },
  {
   "cell_type": "markdown",
   "id": "12793b79",
   "metadata": {},
   "source": [
    "`LookupUnitCB` defines a `unit` column each dataframe based on the units provided in the value (`VALUE_Bq/m³` or `VALUE_Bq/kg`) column of the HELCOM dataset. "
   ]
  },
  {
   "cell_type": "code",
   "execution_count": null,
   "id": "e404d620",
   "metadata": {},
   "outputs": [],
   "source": [
    "#| export\n",
    "class LookupUnitCB(Callback):\n",
    "    def __init__(self,\n",
    "                 renaming_unit_rules=renaming_unit_rules):\n",
    "        fc.store_attr()\n",
    "    def __call__(self, tfm):\n",
    "        for grp in tfm.dfs.keys():\n",
    "            \n",
    "            if grp == 'biota':\n",
    "                lut=renaming_unit_rules[grp]\n",
    "                # lookup value in the 'BASIS' column to determine the unit. \n",
    "                tfm.dfs[grp]['unit'] = tfm.dfs[grp]['BASIS'].apply(lambda x: lut[x] if x in lut.keys() else 0 )\n",
    "            else:                 \n",
    "                tfm.dfs[grp]['unit'] = renaming_unit_rules[grp]"
   ]
  },
  {
   "cell_type": "markdown",
   "id": "3a03fcc9",
   "metadata": {},
   "source": [
    "Apply the transformer for callbacks `LowerStripRdnNameCB`, `RemapRdnNameCB`, `ParseTimeCB`,  `NormalizeUncUnitCB()`, `LookupBiotaSpeciesCB(get_maris_species)`, `LookupBiotaBodyPartCB(get_maris_bodypart)`, `LookupSedimentCB(get_maris_sediments)`, `LookupBiogroupCB(partial(get_biogroup_lut, species_lut_path())` and `LookupUnitCB()`. Then, print the unique `unit` for the `seawater` dataframe."
   ]
  },
  {
   "cell_type": "code",
   "execution_count": null,
   "id": "aa0f0abf",
   "metadata": {},
   "outputs": [
    {
     "name": "stdout",
     "output_type": "stream",
     "text": [
      "[5 0 4]\n"
     ]
    }
   ],
   "source": [
    "#|eval: false\n",
    "dfs = load_data(fname_in)\n",
    "tfm = Transformer(dfs, cbs=[LowerStripRdnNameCB(),\n",
    "                            RemapRdnNameCB(),\n",
    "                            ParseTimeCB(),\n",
    "                            EncodeTimeCB(cfg()),                             \n",
    "                            NormalizeUncUnitCB(),\n",
    "                            LookupBiotaSpeciesCB(get_maris_species),\n",
    "                            LookupBiotaBodyPartCB(get_maris_bodypart), \n",
    "                            LookupBiogroupCB(partial(get_biogroup_lut, species_lut_path())),\n",
    "                            LookupSedimentCB(get_maris_sediments),\n",
    "                            LookupUnitCB()])\n",
    "\n",
    "print(tfm()['biota']['unit'].unique())"
   ]
  },
  {
   "cell_type": "markdown",
   "id": "5b422eeb",
   "metadata": {},
   "source": [
    "***"
   ]
  },
  {
   "cell_type": "markdown",
   "id": "5d978c67",
   "metadata": {},
   "source": [
    "#### Lookup : Detection limit or Value type"
   ]
  },
  {
   "cell_type": "markdown",
   "id": "689c95ad",
   "metadata": {},
   "source": [
    "&nbsp;&nbsp;&nbsp;&nbsp;&nbsp;*NetCDF4 format variable: ``detection_limit``.*"
   ]
  },
  {
   "cell_type": "markdown",
   "id": "a87fd987",
   "metadata": {},
   "source": [
    "&nbsp;&nbsp;&nbsp;&nbsp;&nbsp;*Open Refine foramt variable: ``Value type``.*"
   ]
  },
  {
   "cell_type": "markdown",
   "id": "48f3a699",
   "metadata": {},
   "source": [
    "Create `coi_dl` to define the column names related to Value type for each dataset. "
   ]
  },
  {
   "cell_type": "code",
   "execution_count": null,
   "id": "9c6e542f",
   "metadata": {},
   "outputs": [],
   "source": [
    "#| export\n",
    "# Columns of interest\n",
    "coi_dl = {'seawater' : { 'val' : 'VALUE_Bq/m³',\n",
    "                        'unc' : 'ERROR%_m³',\n",
    "                        'dl' : '< VALUE_Bq/m³'},\n",
    "                 'biota':  {'val' : 'VALUE_Bq/kg',\n",
    "                            'unc' : 'ERROR%',\n",
    "                            'dl' : '< VALUE_Bq/kg'},\n",
    "                 'sediment': { 'val' : 'VALUE_Bq/kg',\n",
    "                              'unc' : 'ERROR%_kg',\n",
    "                              'dl' : '< VALUE_Bq/kg'}}"
   ]
  },
  {
   "cell_type": "markdown",
   "id": "5290b3fa",
   "metadata": {},
   "source": [
    "`get_detectionlimit_lut` reads the file at `detection_limit_lut_path()` and from the contents of this file creates a dictionary linking `name` to `id`.\n",
    "| id | name | name_sanitized |\n",
    "| :-: | :-: | :-: |\n",
    "|-1|Not applicable|Not applicable|\n",
    "|0|Not Available|Not available|\n",
    "|1|=|Detected value|\n",
    "|2|<|Detection limit|\n",
    "|3|ND|Not detected|\n",
    "|4|DE|Derived|"
   ]
  },
  {
   "cell_type": "code",
   "execution_count": null,
   "id": "3dfce2a9",
   "metadata": {},
   "outputs": [],
   "source": [
    "#| export \n",
    "def get_detectionlimit_lut():\n",
    "    df = pd.read_excel(detection_limit_lut_path(), usecols=['name','id'])\n",
    "    return df.set_index('name').to_dict()['id']"
   ]
  },
  {
   "cell_type": "markdown",
   "id": "f6f4784b",
   "metadata": {},
   "source": [
    "`LookupDetectionLimitCB` creates a `detection_limit` column with values determined as follows:\n",
    "1. Perform a lookup with the appropriate columns value type (or detection limit) columns (`< VALUE_Bq/m³` or `< VALUE_Bq/kg`) against the table returned from the function `get_detectionlimit_lut`.\n",
    "2. If `< VALUE_Bq/m³` or `< VALUE_Bq/kg>` is NaN but both activity values (`VALUE_Bq/m³` or `VALUE_Bq/kg`) and standard uncertainty (`ERROR%_m³`, `ERROR%`, or `ERROR%_kg`) are provided, then assign the ID of `1` (i.e. \"Detected value\").\n",
    "3. For other NaN values in the `detection_limit` column, set them to `0` (i.e. `Not Available`)."
   ]
  },
  {
   "cell_type": "code",
   "execution_count": null,
   "id": "0a72f956",
   "metadata": {},
   "outputs": [],
   "source": [
    "# | export\n",
    "class LookupDetectionLimitCB(Callback):\n",
    "    \"Remap value type to MARIS format.\"\n",
    "    def __init__(self ,\n",
    "                 coi=coi_dl,\n",
    "                 fn_lut=get_detectionlimit_lut\n",
    "                 ):\n",
    "        fc.store_attr()\n",
    "\n",
    "    def __call__(self, tfm):\n",
    "        lut = self.fn_lut()\n",
    "        for grp in tfm.dfs.keys():\n",
    "            # Copy dl col \n",
    "            tfm.dfs[grp]['detection_limit'] = tfm.dfs[grp][self.coi[grp]['dl']]\n",
    "            # Fill values with '=' if both a value and uncertainty are not nan and detection_limit is not in the list of keys returned from lut.\n",
    "            condition = ((tfm.dfs[grp][self.coi[grp]['val']].notna()) & (tfm.dfs[grp][self.coi[grp]['unc']].notna())) & (~tfm.dfs[grp][\"detection_limit\"].isin(list(lut.keys())))\n",
    "            tfm.dfs[grp].loc[condition, 'detection_limit']= '='\n",
    "            # Fill values that are not in the lut with 'Not Available'.\n",
    "            tfm.dfs[grp].loc[~tfm.dfs[grp][\"detection_limit\"].isin(list(lut.keys())), \"detection_limit\"] = 'Not Available'\n",
    "            # Perform lookup\n",
    "            tfm.dfs[grp]['detection_limit'] = tfm.dfs[grp]['detection_limit'].apply(lambda x: lut[x])\n",
    "            "
   ]
  },
  {
   "cell_type": "markdown",
   "id": "e66db5cf",
   "metadata": {},
   "source": [
    "Apply the transformer for callbacks `LowerStripRdnNameCB`, `RemapRdnNameCB`, `ParseTimeCB`,  `NormalizeUncUnitCB()`, `LookupBiotaSpeciesCB(get_maris_species)`, `LookupBiotaBodyPartCB(get_maris_bodypart)`, `LookupSedimentCB(get_maris_sediments)`, `LookupBiogroupCB(partial(get_biogroup_lut, species_lut_path())`, `LookupUnitCB()` and `LookupDetectionLimitCB`. Then, print the unique `detection_limit` for the `seawater` dataframe."
   ]
  },
  {
   "cell_type": "code",
   "execution_count": null,
   "id": "1ba3694d",
   "metadata": {},
   "outputs": [
    {
     "name": "stdout",
     "output_type": "stream",
     "text": [
      "[1 2 0]\n"
     ]
    }
   ],
   "source": [
    "#|eval: false\n",
    "dfs = load_data(fname_in)\n",
    "tfm = Transformer(dfs, cbs=[LowerStripRdnNameCB(),\n",
    "                            RemapRdnNameCB(),\n",
    "                            ParseTimeCB(),\n",
    "                            EncodeTimeCB(cfg()),                             \n",
    "                            NormalizeUncUnitCB(),\n",
    "                            LookupBiotaSpeciesCB(get_maris_species),\n",
    "                            LookupBiotaBodyPartCB(get_maris_bodypart), \n",
    "                            LookupBiogroupCB(partial(get_biogroup_lut, species_lut_path())),\n",
    "                            LookupSedimentCB(get_maris_sediments),\n",
    "                            LookupUnitCB(),\n",
    "                            LookupDetectionLimitCB()])\n",
    "\n",
    "print(tfm()['seawater']['detection_limit'].unique())"
   ]
  },
  {
   "cell_type": "markdown",
   "id": "76fb3b44",
   "metadata": {},
   "source": [
    "***"
   ]
  },
  {
   "cell_type": "markdown",
   "id": "baa9114d",
   "metadata": {},
   "source": [
    "#### Lookup : Method"
   ]
  },
  {
   "cell_type": "markdown",
   "id": "6cbef2b9",
   "metadata": {},
   "source": [
    "&nbsp;&nbsp;&nbsp;&nbsp;&nbsp; *NetCDF4 format variables: ``counting_method``, ``sampling_method`` and ``preparation_method``.*"
   ]
  },
  {
   "cell_type": "markdown",
   "id": "200156a7",
   "metadata": {},
   "source": [
    "&nbsp;&nbsp;&nbsp;&nbsp;&nbsp;*Open Refine format variable: ``Sampling method``,\t``Preparation method`` and ``Counting method``.*"
   ]
  },
  {
   "cell_type": "markdown",
   "id": "e4052e59",
   "metadata": {},
   "source": [
    "> 'Method' is provided in the HELCOM data but some work is required to link it to MARIS 'counting_method', 'sampling_method' and 'preparation_method'."
   ]
  },
  {
   "cell_type": "markdown",
   "id": "084de15c",
   "metadata": {},
   "source": [
    "***"
   ]
  },
  {
   "cell_type": "markdown",
   "id": "c2e5ef74",
   "metadata": {},
   "source": [
    "### Data provider sample id"
   ]
  },
  {
   "cell_type": "markdown",
   "id": "22f7b8a4",
   "metadata": {},
   "source": [
    "&nbsp;&nbsp;&nbsp;&nbsp;&nbsp;*NetCDF4 format variable: ``data_provider_sample_id``*"
   ]
  },
  {
   "cell_type": "markdown",
   "id": "018492bf",
   "metadata": {},
   "source": [
    "&nbsp;&nbsp;&nbsp;&nbsp;&nbsp;*Open Refine format variable: ``Sample ID``*"
   ]
  },
  {
   "cell_type": "markdown",
   "id": "92b3238f",
   "metadata": {},
   "source": [
    ">  MARIS NetCDF4 format for variable type ``data_provider_sample_id`` does not support vlen strings."
   ]
  },
  {
   "cell_type": "code",
   "execution_count": null,
   "id": "5f29d5b8",
   "metadata": {},
   "outputs": [],
   "source": [
    "# | export\n",
    "class RemapDataProviderSampleIdCB(Callback):\n",
    "    \"Remap key to MARIS data_provider_sample_id format.\"\n",
    "    def __init__(self):\n",
    "        fc.store_attr()\n",
    "\n",
    "    def __call__(self, tfm):\n",
    "        for grp in tfm.dfs.keys():\n",
    "            # data_provider_sample_id\n",
    "            tfm.dfs[grp]['data_provider_sample_id'] = tfm.dfs[grp]['KEY']\n"
   ]
  },
  {
   "cell_type": "code",
   "execution_count": null,
   "id": "a13ddf94",
   "metadata": {},
   "outputs": [
    {
     "name": "stdout",
     "output_type": "stream",
     "text": [
      "['WKRIL2012003' 'WKRIL2012004' 'WKRIL2012005' ... 'WSSSM2021006'\n",
      " 'WSSSM2021007' 'WSSSM2021008']\n",
      "                                                    seawater  sediment  biota\n",
      "Number of rows in dfs :                                21216     39817  15827\n",
      "Number of rows in tfm.dfs:                             21208     39816  15827\n",
      "Number of dropped rows:                                    8         1      0\n",
      "Number of rows in tfm.dfs + Number of dropped r...     21216     39817  15827 \n",
      "\n"
     ]
    }
   ],
   "source": [
    "#|eval: false\n",
    "dfs = load_data(fname_in)\n",
    "tfm = Transformer(dfs, cbs=[LowerStripRdnNameCB(),\n",
    "                            RemapRdnNameCB(),\n",
    "                            ParseTimeCB(),\n",
    "                            EncodeTimeCB(cfg()),                             \n",
    "                            NormalizeUncUnitCB(),\n",
    "                            LookupBiotaSpeciesCB(get_maris_species),\n",
    "                            LookupBiotaBodyPartCB(get_maris_bodypart), \n",
    "                            LookupBiogroupCB(partial(get_biogroup_lut, species_lut_path())),\n",
    "                            LookupSedimentCB(get_maris_sediments),\n",
    "                            LookupUnitCB(),\n",
    "                            LookupDetectionLimitCB(),\n",
    "                            RemapDataProviderSampleIdCB(),\n",
    "                            CompareDfsAndTfm(dfs)\n",
    "                            ])\n",
    "\n",
    "print(tfm()['seawater']['data_provider_sample_id'].unique())\n",
    "print(pd.DataFrame.from_dict(tfm.compare_stats) , '\\n')\n"
   ]
  },
  {
   "cell_type": "markdown",
   "id": "c5cf5780",
   "metadata": {},
   "source": [
    "***"
   ]
  },
  {
   "cell_type": "markdown",
   "id": "0026620e",
   "metadata": {},
   "source": [
    "### Filtered"
   ]
  },
  {
   "cell_type": "markdown",
   "id": "8ed8c3ba",
   "metadata": {},
   "source": [
    "&nbsp;&nbsp;&nbsp;&nbsp;&nbsp;*NetCDF4 format variable: ``filtered``*"
   ]
  },
  {
   "cell_type": "markdown",
   "id": "3c13e4ad",
   "metadata": {},
   "source": [
    "&nbsp;&nbsp;&nbsp;&nbsp;&nbsp;*Open Refine format variable: ``Filtered``*"
   ]
  },
  {
   "cell_type": "markdown",
   "id": "84079a35",
   "metadata": {},
   "source": [
    "`get_filtered_lut` reads the file at `filtered_lut_path()` and from the contents of this file creates a dictionary linking `name` to `id`."
   ]
  },
  {
   "cell_type": "code",
   "execution_count": null,
   "id": "ceab5ad9",
   "metadata": {},
   "outputs": [],
   "source": [
    "#| export \n",
    "def get_filtered_lut():\n",
    "    df = pd.read_excel(filtered_lut_path(), usecols=['name','id'])\n",
    "    return df.set_index('name').to_dict()['id']"
   ]
  },
  {
   "cell_type": "code",
   "execution_count": null,
   "id": "a9746673",
   "metadata": {},
   "outputs": [
    {
     "data": {
      "text/plain": [
       "{'Not applicable': -1, 'Not available': 0, 'Yes': 1, 'No': 2}"
      ]
     },
     "execution_count": null,
     "metadata": {},
     "output_type": "execute_result"
    }
   ],
   "source": [
    "get_filtered_lut()"
   ]
  },
  {
   "cell_type": "markdown",
   "id": "f70453b9",
   "metadata": {},
   "source": [
    "Create  `renaming_rules` to rename the HELCOM data to the MARIS format."
   ]
  },
  {
   "cell_type": "code",
   "execution_count": null,
   "id": "2d1c17ea",
   "metadata": {},
   "outputs": [],
   "source": [
    "renaming_rules = {'N': 'No',\n",
    "                  'n': 'No',\n",
    "                  'F': 'Yes'}"
   ]
  },
  {
   "cell_type": "markdown",
   "id": "b43ea425",
   "metadata": {},
   "source": [
    "`LookupFiltCB` converts the HELCOM `FILT` format to the MARIS `FILT` format."
   ]
  },
  {
   "cell_type": "code",
   "execution_count": null,
   "id": "e8f58336",
   "metadata": {},
   "outputs": [],
   "source": [
    "# | export\n",
    "class LookupFiltCB(Callback):\n",
    "    \"Lookup FILT value.\"\n",
    "    def __init__(self ,\n",
    "                 rules=renaming_rules,\n",
    "                 fn_lut=get_filtered_lut\n",
    "                 ):\n",
    "        fc.store_attr()\n",
    "\n",
    "    def __call__(self, tfm):\n",
    "        lut = self.fn_lut()\n",
    "        rules = self.rules\n",
    "        for grp in tfm.dfs.keys():\n",
    "            if \"FILT\" in tfm.dfs[grp].columns:\n",
    "                # Fill values that are not in the renaming rules with 'Not Available'.\n",
    "                tfm.dfs[grp].loc[~tfm.dfs[grp][\"FILT\"].isin(list(rules.keys())), \"FILT\"] = 'Not available'\n",
    "                # Rename HELCOM format with MARIS format. \n",
    "                tfm.dfs[grp]['FILT'] = tfm.dfs[grp]['FILT'].apply(lambda x : rules[x] if x != 'Not available' else 'Not available')\n",
    "                # Perform lookup\n",
    "                tfm.dfs[grp]['FILT'] = tfm.dfs[grp]['FILT'].apply(lambda x : lut[x])                "
   ]
  },
  {
   "cell_type": "markdown",
   "id": "c625063c",
   "metadata": {},
   "source": [
    "Apply the transformer for callbacks `LowerStripRdnNameCB`, `RemapRdnNameCB`, `ParseTimeCB`,  `NormalizeUncUnitCB()`, `LookupBiotaSpeciesCB(get_maris_species)`, `LookupBiotaBodyPartCB(get_maris_bodypart)`, `LookupSedimentCB(get_maris_sediments)`, `LookupBiogroupCB(partial(get_biogroup_lut, species_lut_path())`, `LookupUnitCB()`,  `LookupDetectionLimitCB` and `LookupFiltCB()`. Then, print the unique `FILT` for the `seawater` dataframe."
   ]
  },
  {
   "cell_type": "code",
   "execution_count": null,
   "id": "a2d13536",
   "metadata": {},
   "outputs": [
    {
     "name": "stdout",
     "output_type": "stream",
     "text": [
      "[0 2 1]\n"
     ]
    }
   ],
   "source": [
    "#|eval: false\n",
    "dfs = load_data(fname_in)\n",
    "tfm = Transformer(dfs, cbs=[LowerStripRdnNameCB(),\n",
    "                            RemapRdnNameCB(),\n",
    "                            ParseTimeCB(),\n",
    "                            EncodeTimeCB(cfg()),                             \n",
    "                            NormalizeUncUnitCB(),\n",
    "                            LookupBiotaSpeciesCB(get_maris_species),\n",
    "                            LookupBiotaBodyPartCB(get_maris_bodypart), \n",
    "                            LookupBiogroupCB(partial(get_biogroup_lut, species_lut_path())),\n",
    "                            LookupSedimentCB(get_maris_sediments),\n",
    "                            LookupUnitCB(),\n",
    "                            LookupDetectionLimitCB(),\n",
    "                            RemapDataProviderSampleIdCB(),\n",
    "                            LookupFiltCB()\n",
    "                            ])\n",
    "\n",
    "print(tfm()['seawater']['FILT'].unique())"
   ]
  },
  {
   "cell_type": "markdown",
   "id": "b0502e9d",
   "metadata": {},
   "source": [
    "***"
   ]
  },
  {
   "cell_type": "markdown",
   "id": "97bfe106",
   "metadata": {},
   "source": [
    "#### ~~Lookup : Area~~"
   ]
  },
  {
   "cell_type": "markdown",
   "id": "c9f7b0d3",
   "metadata": {},
   "source": [
    "&nbsp;&nbsp;&nbsp;&nbsp;&nbsp;*NetCDF4 format variable: ``area``.*"
   ]
  },
  {
   "cell_type": "markdown",
   "id": "a4e60cf4",
   "metadata": {},
   "source": [
    "&nbsp;&nbsp;&nbsp;&nbsp;&nbsp;*Open Refine format variable: Area is not included*"
   ]
  },
  {
   "cell_type": "markdown",
   "id": "be59862b",
   "metadata": {},
   "source": [
    "TODO : Write callback for area. Will I use the marineregions.org API to complete lookup? "
   ]
  },
  {
   "cell_type": "code",
   "execution_count": null,
   "id": "5cfac24d",
   "metadata": {},
   "outputs": [
    {
     "data": {
      "text/plain": [
       "\"#| export \\ndef get_area_lut():\\n    df = pd.read_excel(area_lut_path(), usecols=['displayName','areaId'])\\n    return df.set_index('displayName').to_dict()['areaId']\\n\""
      ]
     },
     "execution_count": null,
     "metadata": {},
     "output_type": "execute_result"
    }
   ],
   "source": [
    "'''#| export \n",
    "def get_area_lut():\n",
    "    df = pd.read_excel(area_lut_path(), usecols=['displayName','areaId'])\n",
    "    return df.set_index('displayName').to_dict()['areaId']\n",
    "'''"
   ]
  },
  {
   "cell_type": "markdown",
   "id": "81152cc4",
   "metadata": {},
   "source": [
    "***"
   ]
  },
  {
   "cell_type": "markdown",
   "id": "ed85a9ac",
   "metadata": {},
   "source": [
    "### ~~Sample Notes~~"
   ]
  },
  {
   "cell_type": "markdown",
   "id": "7a021f2a",
   "metadata": {},
   "source": [
    "&nbsp;&nbsp;&nbsp;&nbsp;&nbsp;*NetCDF4 format variable: ``sample_notes``.*"
   ]
  },
  {
   "cell_type": "markdown",
   "id": "ba363cb2",
   "metadata": {},
   "source": [
    "&nbsp;&nbsp;&nbsp;&nbsp;&nbsp;*Open Refine format variable: ``Sample notes\n",
    "``*"
   ]
  },
  {
   "cell_type": "markdown",
   "id": "bf56a3e6",
   "metadata": {},
   "source": [
    ">  HELCOM data does not include ``sample_notes``. "
   ]
  },
  {
   "cell_type": "markdown",
   "id": "2a64d446",
   "metadata": {},
   "source": [
    "***"
   ]
  },
  {
   "cell_type": "markdown",
   "id": "0247b50a",
   "metadata": {},
   "source": [
    "### ~~Measurement Notes~~"
   ]
  },
  {
   "cell_type": "markdown",
   "id": "93974d7e",
   "metadata": {},
   "source": [
    "&nbsp;&nbsp;&nbsp;&nbsp;&nbsp;*NetCDF4 format variable: ``measurement_notes``.*"
   ]
  },
  {
   "cell_type": "markdown",
   "id": "1819c1f2",
   "metadata": {},
   "source": [
    "&nbsp;&nbsp;&nbsp;&nbsp;&nbsp;*Open Refine format variable: ``Measurement notes``*"
   ]
  },
  {
   "cell_type": "markdown",
   "id": "3d993a77",
   "metadata": {},
   "source": [
    ">  HELCOM data does not include ``measurement_notes``. "
   ]
  },
  {
   "cell_type": "markdown",
   "id": "3d452362",
   "metadata": {},
   "source": [
    "***"
   ]
  },
  {
   "cell_type": "markdown",
   "id": "b90fa59a",
   "metadata": {},
   "source": [
    "### Station ID "
   ]
  },
  {
   "cell_type": "markdown",
   "id": "a3e08cc9",
   "metadata": {},
   "source": [
    "&nbsp;&nbsp;&nbsp;&nbsp;&nbsp;*NetCDF4 format variable: Station ID is not included.*"
   ]
  },
  {
   "cell_type": "markdown",
   "id": "e296ba42",
   "metadata": {},
   "source": [
    "&nbsp;&nbsp;&nbsp;&nbsp;&nbsp;*Open Refine format variable: ``Station ID``*"
   ]
  },
  {
   "cell_type": "markdown",
   "id": "3c799173",
   "metadata": {},
   "source": [
    ">  MARIS NetCDF4 format does not include Station ID."
   ]
  },
  {
   "cell_type": "code",
   "execution_count": null,
   "id": "768db093",
   "metadata": {},
   "outputs": [],
   "source": [
    "# | export\n",
    "class RemapStationIdCB(Callback):\n",
    "    \"Remap Station ID to MARIS format.\"\n",
    "    def __init__(self):\n",
    "        fc.store_attr()\n",
    "\n",
    "    def __call__(self, tfm):\n",
    "        for grp in tfm.dfs.keys():\n",
    "            tfm.dfs[grp]['station_id'] = tfm.dfs[grp]['STATION']\n"
   ]
  },
  {
   "cell_type": "code",
   "execution_count": null,
   "id": "0ccb2604",
   "metadata": {},
   "outputs": [
    {
     "name": "stdout",
     "output_type": "stream",
     "text": [
      "['RU10' 'RU11' 'RU19' 'RU20' 'RU23' 'RU25' 'RU32' 'RU52' 'RU89' 'RU94*'\n",
      " 'RU99' 'RU141' 'RU156' 'B6' 'B50' 'BY15' 'BY28' 'L6' 'L7' 'L8' 'LА-11'\n",
      " 'L13' 'Т1' 'RU5' 'B46' 'P16' 'Z1' 'SM1' 'SM2' 'SM5' 'P116' 'K11' 'P110'\n",
      " '2N2' 'ZN2' 'P14' 'P63' 'P140' 'P2' 'P3' 'P5' 'P39' 'B12' 'B13' 'B15'\n",
      " 'K3' 'M3' 'R4' 'P1' 'P40' 'A' 'GDR250' 'Z' 'K6' 'P127' 'P104' 'NP' '4P7'\n",
      " 'MW4' 'ZN4' 'EDC19' 'STOLGR' 'SCHLEI' 'KALKGR' 'KLBELT' 'KN' 'EDC20'\n",
      " 'GBELT2' 'EDC38' 'EDC42' 'EDC32' 'EDC46' 'EDC47' 'KATT1' 'EDC55' 'SOUNDA'\n",
      " 'SUND2' 'EDC58' 'ARKO1' 'BY2' 'EDC65' 'EDC68' 'GDR213' 'EDC80' 'EDC101'\n",
      " 'EDC88' '2' 'EDC73' 'BHOLM3' 'EDC63' '18' 'DARSS' 'KOTN11' 'KFOTN6'\n",
      " 'EDC35' 'EDC16' 'EDC7' 'EDC148' 'FBELT1' 'EDC92' '87/21' 'EDC70' 'EDC66'\n",
      " 'GDR109' 'GDR069' 'EDC18' 'EDC17' 'EDC39' 'ZZZ' 'EDC93' 'EDC81' 'GBELT1'\n",
      " 'EDC40' '8' 'EDC145' 'EDC36' '11' 'EDC54' 'EDC53' 'SUND4' 'SUND3' 'SUND1'\n",
      " 'BHOLM2' 'EDC75' '22' '29' 'EDC821' 'EDC82' 'EDC89' 'EDC98' 'EDC119'\n",
      " 'EDC114' '33' 'EDC96' 'EDC118' 'EDC109' '37' 'EDC100' '39' 'EDC84'\n",
      " 'EDC85' '42' 'EDC90' '45' 'EDC107' 'EDC120' '46' 'EDC134' '50' 'EDC136'\n",
      " '52' 'GA51' '54' 'EDC138' 'EDC140' '57' 'GA56' 'EDC124' 'EDC150' 'EDC149'\n",
      " 'EDC130' 'EDC126' 'EDC110' 'GA63' 'EDC122' 'EDC113' '68' 'TEILI1'\n",
      " 'EDC139' 'GA73' '74' 'EDC135' 'EDC125' 'EDC83' 'EDC23' '88' 'EDC78'\n",
      " 'EDC27' '91' 'EDC69' '93' 'BHOLM5' '95' 'ARKO2' 'EDC59' 'NEUBU' 'EDC15'\n",
      " 'ECKFBU' 'EDC24' 'KIBU1' 'KIBU2' 'FBELT2' 'EDC10' 'MEBU2' 'EDC11'\n",
      " 'HOWABU' 'EDC14' 'EDC146' 'EDC51' 'EDC74' 'EDC91' 'EDC94' 'EDC99' '63'\n",
      " 'EDC129' '48' '76' 'EDC142' '73' 'EDC137' 'EDC133' 'EDC131' '79' 'EDC29'\n",
      " '82' 'EDC28' 'EDC116' 'EDC121' '86' 'EDC106' 'EDC147' '102' 'L.MDGR'\n",
      " 'EDC52' 'EDC64' 'EDC48' 'EDC103' 'GDR245' 'EDC104' 'SR5' 'EDC115' 'BO3'\n",
      " 'LL7' 'EDC105' 'EDC45' 'EDC33' 'EDC34' 'EDC49' 'EDC57' 'EDC86' 'GDR284'\n",
      " 'EDC112' 'EDC117' 'EDC102' 'USSR50' 'GDR113' 'WGER031' 'EDC8' 'WGER030'\n",
      " 'EDC5' 'GDR160' 'EDC44' 'EDC43' 'EDC21' 'GDR023' 'ARKO3' 'EDC56' 'TROLGR'\n",
      " 'GBELT3' 'EDC41' 'EDC13' 'EDC37' 'EDC50' 'EDC3' 'EDC6' 'EDC22' 'WARNEM'\n",
      " 'MEBU1' 'ARKO4' 'USEDOM' 'EDC123' 'EDC127' 'EDC128' 'XV1' 'LL3A' 'EDC141'\n",
      " 'EDC30' 'EB1' 'LTKIEL' 'GTBEL3' 'BHOLM1' 'BHOLM4' 'EDC87' 'EDC97'\n",
      " 'EDC108' 'F81' 'EDC111' 'EDC95' 'EDC31' 'EDC79' 'EDC76' 'EDC77' 'EDC67'\n",
      " 'EDC62' 'LUEBU' 'WGER004' 'WGER047' 'WGER007' 'WGER059' 'BY31' 'WGER066'\n",
      " 'WGER068' 'WGER072' 'WGER077' 'WGER079' 'WGER081' 'WGER083' 'WGER089'\n",
      " 'WGER091' 'WGER086' 'WGER085' 'WGER078' 'WGER069' 'WGER065' 'WGER061'\n",
      " 'WGER058' 'WGER045' 'WGER041' 'WGER044' 'WGER039' 'WGER033' 'WGER032'\n",
      " 'WGER053' 'WGER075' 'WGER090' 'WGER095' 'WGER097' 'WGER099' 'WGER100'\n",
      " 'WGER098' 'WGER096' 'WGER092' 'WGER087' 'WGER084' 'WGER082' 'WGER080'\n",
      " 'WGER067' 'WGER070' 'WGER074' 'WGER071' 'WGER064' 'WGER038' 'WGER034'\n",
      " 'WGER036' 'WGER055' 'WGER054' 'WGER049' 'WGER048' 'WGER043' 'WGER037'\n",
      " 'PE' 'PW' 'EE22' 'N8' 'EE17' 'B18R' 'B12R' 'K' 'M' 'SW3' '46a' '65' 'LT4'\n",
      " 'LT7' '46A' 'LT10' 'LT12A' 'EDC132' 'USSR06' 'BY15B' 'USSR46' 'USSR03'\n",
      " 'USSR12' 'USSR13' 'USSR14' 'USSR15' 'USSR18' 'USSR19' 'EDC143' 'USSR05'\n",
      " 'USSR08' 'USSR24' 'EDC144' 'USSR10' 'USSR11' 'USSR27' 'USSR28' 'USSR32'\n",
      " 'USSRK1' 'USSRR1' 'USSRR6' 'USSR45' 'USSR25' 'USSR16' 'USSR22' 'USSR23'\n",
      " 'USSR31' 'USSR33' 'USSR34' 'USSR35' 'RU06' 'RU46' 'RU50' 'RU27' 'RU28'\n",
      " 'RU31' 'RU33' 'RU34' 'RU35' 'RU3' 'RU12' 'RU13' 'LV119' 'BMP61' '40A'\n",
      " '45A' '23' '24' 'Kullen' 'Hesselö' 'Kattegat SW' 'Asnaes rev'\n",
      " 'Halskov rev' 'Langeland belt' 'Femern belt' 'GEDSER ODDE' 'Möen'\n",
      " 'SOUND-S' 'SOUNDB' 'BORNHOLM' 'KLINT' 'Kattegat-413' 'GDR012' 'GDR030'\n",
      " 'GDR152' 'GDR162' 'GDR-OB' 'F64' 'US5B' 'BS' 'F2' 'LL11' 'GDR271'\n",
      " 'BCS315' 'GDR010' 'GNIBEN' 'S.MDGR' 'FLADEN' 'GF6' 'GDR046' 'GDR140'\n",
      " 'GDR355' 'GDR357' 'GDR350' 'GDR033' 'GDR041' 'GDR121' 'GDR200' 'GDR202'\n",
      " 'GDR220' 'GDR233' 'GDR260' 'GDR282' 'GDR285' '3' '25' '71' '00076A'\n",
      " 'GDR001' 'GDR034' 'GDR242' 'GDR253' 'GDR280' 'GDR302' 'KB' 'OLK2' 'LOV3'\n",
      " 'LOVR1' 'F75' 'CVI' 'W19A' 'LAV4' 'F16' 'LOV2' 'F45A' 'F45B' 'F44' 'F41'\n",
      " 'F40' 'LEDAM1' 'LL17' 'WGER040' 'WGER042' 'WGER003' 'WGER046' 'WGER062'\n",
      " 'WGER063' 'WGER057' 'OKG34' 'WGER035' 'WGER006' 'WGER056' 'WGER050'\n",
      " 'BODDEN' 'WGER001' 'WGER002' 'RUDEN' 'WGER052' 'WGER005' 'WGER051'\n",
      " 'WGER060' 'WGER073' 'WGER076' 'WGER094' 'WGER093' 'WGER088' 'KATT4' nan\n",
      " 'BHOLM1/B' 'KATT6' 'KATT5' 'LT46A' 'LT65' 'LK7' 'BY9' 'LV120'\n",
      " 'THE SOUND-S' 'The Sound-N A' '?7' 'KOTN12' 'DARSS2' 'N5' 'JML' 'LT7R'\n",
      " 'RU16' '45-A' 'RU102' 'RU150' 'RU307' 'RU310' 'RU311' 'Ru313' 'RU210'\n",
      " 'RU211' 'RU201' 'RU205' 'RU207' 'RU208' 'RU209' 'LT6' 'MYREFJ' 'SWR36'\n",
      " 'SWR35' 'SWF135' 'C14' 'A5' '23b' 'LOV02' 'ODER' 'EE38' 'EE23' 'LT 65'\n",
      " 'SWS36' 'SWF101' 'SWR3' 'SWS2' 'SWB2' 'OBANK' 'ADLERG' 'K4' 'BSH4A'\n",
      " 'LT6B' 'RU152' 'RU155' 'RU95' 'RU96' 'RU129' 'LA2' 'LA3' 'LA7' 'LA8'\n",
      " 'LA13' 'RU' 'The Sound-S' 'LT20' 'LT64A1' 'Asnæs Rev' 'Femern bælt '\n",
      " 'Gedser odde' 'Hesselø' 'Kattegat SW ' 'CV1' 'Langeland bælt' 'Møen'\n",
      " 'P140 ' 'P5 ' 'P39 ' 'B15 ' 'K6 ' 'M3 ' 'P16 ' 'Ł7 ' 'P116 ' 'ZN2 '\n",
      " 'P110 ' 'ZN4 ' 'SW7' 'TROLGR16' 'P2 ' 'P3 ' 'SW3 ' 'B13 ' 'P1 ' 'P14 '\n",
      " 'KO ' 'WITTOW' 'LTKIEL2' 'LT64A2' 'BMPK4' 'LTK10' 'P5C' 'P39Z ']\n"
     ]
    }
   ],
   "source": [
    "#|eval: false\n",
    "dfs = load_data(fname_in)\n",
    "tfm = Transformer(dfs, cbs=[LowerStripRdnNameCB(),\n",
    "                            RemapRdnNameCB(),\n",
    "                            ParseTimeCB(),\n",
    "                            EncodeTimeCB(cfg()),                             \n",
    "                            NormalizeUncUnitCB(),\n",
    "                            LookupBiotaSpeciesCB(get_maris_species),\n",
    "                            LookupBiotaBodyPartCB(get_maris_bodypart), \n",
    "                            LookupBiogroupCB(partial(get_biogroup_lut, species_lut_path())),\n",
    "                            LookupSedimentCB(get_maris_sediments),\n",
    "                            LookupUnitCB(),\n",
    "                            LookupDetectionLimitCB(),\n",
    "                            RemapDataProviderSampleIdCB(),\n",
    "                            RemapStationIdCB()\n",
    "                            ])\n",
    "\n",
    "print(tfm()['seawater']['station_id'].unique())\n"
   ]
  },
  {
   "cell_type": "markdown",
   "id": "7548633f",
   "metadata": {},
   "source": [
    "***"
   ]
  },
  {
   "cell_type": "markdown",
   "id": "eeb378b1",
   "metadata": {},
   "source": [
    "### Profile ID, Transect ID or Sequence ID"
   ]
  },
  {
   "cell_type": "markdown",
   "id": "23069215",
   "metadata": {},
   "source": [
    "&nbsp;&nbsp;&nbsp;&nbsp;&nbsp;*NetCDF4 format variable: Profile ID, Transect ID or Sequence ID is not included.*"
   ]
  },
  {
   "cell_type": "markdown",
   "id": "49abe1c5",
   "metadata": {},
   "source": [
    "&nbsp;&nbsp;&nbsp;&nbsp;&nbsp;*Open Refine format variable: ``Profile or transect ID``*"
   ]
  },
  {
   "cell_type": "markdown",
   "id": "077a497c",
   "metadata": {},
   "source": [
    ">  MARIS NetCDF4 format does not include Profile ID, Transect ID or Sequence ID."
   ]
  },
  {
   "cell_type": "code",
   "execution_count": null,
   "id": "433cdec6",
   "metadata": {},
   "outputs": [],
   "source": [
    "# | export\n",
    "class RemapProfileIdCB(Callback):\n",
    "    \"Remap Profile ID to MARIS format.\"\n",
    "    def __init__(self):\n",
    "        fc.store_attr()\n",
    "\n",
    "    def __call__(self, tfm):\n",
    "        for grp in tfm.dfs.keys():\n",
    "            tfm.dfs[grp]['profile_or_transect_id'] = tfm.dfs[grp]['SEQUENCE']\n"
   ]
  },
  {
   "cell_type": "code",
   "execution_count": null,
   "id": "95f09821",
   "metadata": {},
   "outputs": [
    {
     "name": "stdout",
     "output_type": "stream",
     "text": [
      "[2012003. 2012004. 2012005. ...  202106.  202107.  202108.]\n"
     ]
    }
   ],
   "source": [
    "#|eval: false\n",
    "dfs = load_data(fname_in)\n",
    "tfm = Transformer(dfs, cbs=[LowerStripRdnNameCB(),\n",
    "                            RemapRdnNameCB(),\n",
    "                            ParseTimeCB(),\n",
    "                            EncodeTimeCB(cfg()),                             \n",
    "                            NormalizeUncUnitCB(),\n",
    "                            LookupBiotaSpeciesCB(get_maris_species),\n",
    "                            LookupBiotaBodyPartCB(get_maris_bodypart), \n",
    "                            LookupBiogroupCB(partial(get_biogroup_lut, species_lut_path())),\n",
    "                            LookupSedimentCB(get_maris_sediments),\n",
    "                            LookupUnitCB(),\n",
    "                            LookupDetectionLimitCB(),\n",
    "                            RemapDataProviderSampleIdCB(),\n",
    "                            RemapStationIdCB(),\n",
    "                            RemapProfileIdCB()\n",
    "                            ])\n",
    "\n",
    "print(tfm()['seawater']['profile_or_transect_id'].unique())\n"
   ]
  },
  {
   "cell_type": "markdown",
   "id": "bbb97f00",
   "metadata": {},
   "source": [
    "***"
   ]
  },
  {
   "cell_type": "markdown",
   "id": "ff696fec",
   "metadata": {},
   "source": [
    "### Sediment slice position (top and bottom)"
   ]
  },
  {
   "cell_type": "markdown",
   "id": "ceb47624",
   "metadata": {},
   "source": [
    "&nbsp;&nbsp;&nbsp;&nbsp;&nbsp;*NetCDF4 format variable: Top and Bottom is not included.*"
   ]
  },
  {
   "cell_type": "markdown",
   "id": "533568d8",
   "metadata": {},
   "source": [
    "&nbsp;&nbsp;&nbsp;&nbsp;&nbsp;*Open Refine format variables: ``Top`` and ``Bottom``.*"
   ]
  },
  {
   "cell_type": "markdown",
   "id": "b3358f02",
   "metadata": {},
   "source": [
    ">  MARIS NetCDF4 format does not include sediment slice top and bottom."
   ]
  },
  {
   "cell_type": "code",
   "execution_count": null,
   "id": "cf398df9",
   "metadata": {},
   "outputs": [],
   "source": [
    "# | export\n",
    "class RemapSedSliceTopBottomCB(Callback):\n",
    "    \"Remap Sediment slice top and bottom to MARIS format.\"\n",
    "    def __init__(self):\n",
    "        fc.store_attr()\n",
    "\n",
    "    def __call__(self, tfm):\n",
    "        tfm.dfs['sediment']['bottom'] = tfm.dfs['sediment']['LOWSLI']\n",
    "        tfm.dfs['sediment']['top'] = tfm.dfs['sediment']['UPPSLI']"
   ]
  },
  {
   "cell_type": "code",
   "execution_count": null,
   "id": "6479e6f3",
   "metadata": {},
   "outputs": [
    {
     "name": "stdout",
     "output_type": "stream",
     "text": [
      "0    15.0\n",
      "1    20.0\n",
      "2     0.0\n",
      "3     2.0\n",
      "4     4.0\n",
      "Name: top, dtype: float64\n"
     ]
    }
   ],
   "source": [
    "#|eval: false\n",
    "dfs = load_data(fname_in)\n",
    "tfm = Transformer(dfs, cbs=[LowerStripRdnNameCB(),\n",
    "                            RemapRdnNameCB(),\n",
    "                            ParseTimeCB(),\n",
    "                            EncodeTimeCB(cfg()),                             \n",
    "                            NormalizeUncUnitCB(),\n",
    "                            LookupBiotaSpeciesCB(get_maris_species),\n",
    "                            LookupBiotaBodyPartCB(get_maris_bodypart), \n",
    "                            LookupBiogroupCB(partial(get_biogroup_lut, species_lut_path())),\n",
    "                            LookupSedimentCB(get_maris_sediments),\n",
    "                            LookupUnitCB(),\n",
    "                            LookupDetectionLimitCB(),\n",
    "                            RemapDataProviderSampleIdCB(),\n",
    "                            RemapStationIdCB(),\n",
    "                            RemapProfileIdCB(), \n",
    "                            RemapSedSliceTopBottomCB()\n",
    "                            ])\n",
    "\n",
    "print(tfm()['sediment']['top'].head())\n"
   ]
  },
  {
   "cell_type": "markdown",
   "id": "0b96b18f",
   "metadata": {},
   "source": [
    "***"
   ]
  },
  {
   "cell_type": "markdown",
   "id": "5e4bbf53",
   "metadata": {},
   "source": [
    "### Dry to wet ratio"
   ]
  },
  {
   "cell_type": "markdown",
   "id": "ce64f432",
   "metadata": {},
   "source": [
    "&nbsp;&nbsp;&nbsp;&nbsp;&nbsp;*NetCDF4 format variable: DW% is not included.*"
   ]
  },
  {
   "cell_type": "markdown",
   "id": "ddb0fd19",
   "metadata": {},
   "source": [
    "&nbsp;&nbsp;&nbsp;&nbsp;&nbsp;*Open Refine format variables: ``Dry/wet ratio``.*"
   ]
  },
  {
   "cell_type": "markdown",
   "id": "4735dd22",
   "metadata": {},
   "source": [
    "HELCOM Description:\n",
    "\n",
    "**Sediment:**\n",
    "1. DW%: DRY WEIGHT AS PERCENTAGE (%) OF FRESH WEIGHT.\n",
    "2. VALUE_Bq/kg: Measured radioactivity concentration in Bq/kg dry wt. in scientific format(e.g. 123 = 1.23E+02, 0.076 = 7.6E-02)\n",
    "\n",
    "**Biota:**\n",
    "1. WEIGHT: Average weight (in g) of specimen in the sample\n",
    "2. DW%: DRY WEIGHT AS PERCENTAGE (%) OF FRESH WEIGHT"
   ]
  },
  {
   "cell_type": "code",
   "execution_count": null,
   "id": "ef385c79",
   "metadata": {},
   "outputs": [],
   "source": [
    "# | export\n",
    "class LookupDryWetRatio(Callback):\n",
    "    \"Lookup dry wet ratio and format for MARIS.\"\n",
    "    def __init__(self):\n",
    "        fc.store_attr()\n",
    "\n",
    "    def __call__(self, tfm):\n",
    "        for grp in tfm.dfs.keys():\n",
    "            if 'DW%' in tfm.dfs[grp].columns:\n",
    "                tfm.dfs[grp]['dry_wet_ratio'] = tfm.dfs[grp]['DW%']\n",
    "                # Convert 'Dw%' = 0% to 'nan'.\n",
    "                tfm.dfs[grp].loc[tfm.dfs[grp]['dry_wet_ratio'] == 0, 'dry_wet_ratio'] = np.NaN"
   ]
  },
  {
   "cell_type": "code",
   "execution_count": null,
   "id": "e9d714bc",
   "metadata": {},
   "outputs": [
    {
     "name": "stdout",
     "output_type": "stream",
     "text": [
      "                                                    seawater  sediment  biota\n",
      "Number of rows in dfs :                                21216     39817  15827\n",
      "Number of rows in tfm.dfs:                             21208     39816  15827\n",
      "Number of dropped rows:                                    8         1      0\n",
      "Number of rows in tfm.dfs + Number of dropped r...     21216     39817  15827 \n",
      "\n",
      "0    18.453\n",
      "1    18.453\n",
      "2    18.453\n",
      "3    18.453\n",
      "4    18.458\n",
      "Name: dry_wet_ratio, dtype: float64\n"
     ]
    }
   ],
   "source": [
    "#|eval: false\n",
    "dfs = load_data(fname_in)\n",
    "tfm = Transformer(dfs, cbs=[LowerStripRdnNameCB(),\n",
    "                            RemapRdnNameCB(),\n",
    "                            ParseTimeCB(),\n",
    "                            EncodeTimeCB(cfg()),                             \n",
    "                            NormalizeUncUnitCB(),\n",
    "                            LookupBiotaSpeciesCB(get_maris_species),\n",
    "                            LookupBiotaBodyPartCB(get_maris_bodypart), \n",
    "                            LookupBiogroupCB(partial(get_biogroup_lut, species_lut_path())),\n",
    "                            LookupSedimentCB(get_maris_sediments),\n",
    "                            LookupUnitCB(),\n",
    "                            LookupDetectionLimitCB(),\n",
    "                            RemapDataProviderSampleIdCB(),\n",
    "                            RemapStationIdCB(),\n",
    "                            RemapProfileIdCB(), \n",
    "                            RemapSedSliceTopBottomCB(),\n",
    "                            LookupDryWetRatio(),\n",
    "                            CompareDfsAndTfm(dfs)\n",
    "                            ])\n",
    "\n",
    "tfm()\n",
    "\n",
    "print(pd.DataFrame.from_dict(tfm.compare_stats) , '\\n')\n",
    "                    \n",
    "\n",
    "print(tfm.dfs['biota']['dry_wet_ratio'].head())\n"
   ]
  },
  {
   "cell_type": "markdown",
   "id": "02488c00",
   "metadata": {},
   "source": [
    "***"
   ]
  },
  {
   "cell_type": "markdown",
   "id": "efa3541d",
   "metadata": {},
   "source": [
    "### Capture Coordinates"
   ]
  },
  {
   "cell_type": "markdown",
   "id": "d09c1fb1",
   "metadata": {},
   "source": [
    "&nbsp;&nbsp;&nbsp;&nbsp;&nbsp;*NetCDF4 format variables: ``lon``  and ``lat``*"
   ]
  },
  {
   "cell_type": "markdown",
   "id": "f28a07ea",
   "metadata": {},
   "source": [
    "&nbsp;&nbsp;&nbsp;&nbsp;&nbsp;*Open Refine format variables: ``Longitude decimal`` and ``Latitude decimal``.*"
   ]
  },
  {
   "cell_type": "markdown",
   "id": "4bd85aa4",
   "metadata": {},
   "source": [
    "Use decimal degree coordinates if available; otherwise, convert from degree-minute format to decimal degrees."
   ]
  },
  {
   "cell_type": "code",
   "execution_count": null,
   "id": "00410917",
   "metadata": {},
   "outputs": [],
   "source": [
    "#| export\n",
    "# Columns of interest coordinates\n",
    "coi_coordinates = {'seawater' : { 'lon_d' : 'LONGITUDE (dddddd)', 'lat_d':'LATITUDE (dddddd)',\n",
    "                                 'lon_m' : 'LONGITUDE (ddmmmm)', 'lat_m':'LATITUDE (ddmmmm)'},\n",
    "                 'biota' : { 'lon_d' : 'LONGITUDE dddddd', 'lat_d':'LATITUDE dddddd',\n",
    "                                 'lon_m' : 'LONGITUDE ddmmmm', 'lat_m':'LATITUDE ddmmmm'},\n",
    "                 'sediment': { 'lon_d' : 'LONGITUDE (dddddd)', 'lat_d':'LATITUDE (dddddd)',\n",
    "                                 'lon_m' : 'LONGITUDE (ddmmmm)', 'lat_m':'LATITUDE (ddmmmm)'}\n",
    "                 }"
   ]
  },
  {
   "cell_type": "code",
   "execution_count": null,
   "id": "ce34364d",
   "metadata": {},
   "outputs": [],
   "source": [
    "#| export\n",
    "def ddmmmm2dddddd(ddmmmm):\n",
    "    mins, degs = modf(ddmmmm)\n",
    "    # move 2 decimal place\n",
    "    mins = mins*100\n",
    "    return round((int(degs)+(float(mins)/60)), 4)"
   ]
  },
  {
   "cell_type": "code",
   "execution_count": null,
   "id": "bbabbaf2",
   "metadata": {},
   "outputs": [],
   "source": [
    "# | export\n",
    "class FormatCoordinates(Callback):\n",
    "    \"Format coordinates for MARIS.\"\n",
    "    def __init__(self, \n",
    "                 coi: dict,\n",
    "                 fn_convert_cor\n",
    "                 ):\n",
    "        fc.store_attr()\n",
    "\n",
    "    def __call__(self, tfm):\n",
    "        for grp in tfm.dfs.keys():\n",
    "            # If coordinates with format dddddd (e.g. )\n",
    "            # Get coordinates from dddddd unless dddddd equals 0 or nan. \n",
    "            condition = ((tfm.dfs[grp][self.coi[grp]['lon_d']].isna()) | (tfm.dfs[grp][self.coi[grp]['lon_d']] == 0 )) | ((tfm.dfs[grp][self.coi[grp]['lat_d']].isna()) | (tfm.dfs[grp][self.coi[grp]['lat_d']] == 0 ))            \n",
    "            \n",
    "            \n",
    "            tfm.dfs[grp]['lon']  = np.where(condition,\n",
    "                                            tfm.dfs[grp][self.coi[grp]['lon_m']].apply(lambda x: self.fn_convert_cor(x)),\n",
    "                                            tfm.dfs[grp][self.coi[grp]['lon_d']])\n",
    "            \n",
    "            tfm.dfs[grp]['lat']  = np.where(condition,\n",
    "                                            tfm.dfs[grp][self.coi[grp]['lat_m']].apply(lambda x: self.fn_convert_cor(x)),\n",
    "                                            tfm.dfs[grp][self.coi[grp]['lat_d']])      \n",
    "              "
   ]
  },
  {
   "cell_type": "code",
   "execution_count": null,
   "id": "1baf7136",
   "metadata": {},
   "outputs": [
    {
     "ename": "ValueError",
     "evalue": "cannot convert float NaN to integer",
     "output_type": "error",
     "traceback": [
      "\u001b[0;31m---------------------------------------------------------------------------\u001b[0m",
      "\u001b[0;31mValueError\u001b[0m                                Traceback (most recent call last)",
      "Cell \u001b[0;32mIn [238], line 23\u001b[0m\n\u001b[1;32m      2\u001b[0m dfs \u001b[38;5;241m=\u001b[39m load_data(fname_in)\n\u001b[1;32m      3\u001b[0m tfm \u001b[38;5;241m=\u001b[39m Transformer(dfs, cbs\u001b[38;5;241m=\u001b[39m[LowerStripRdnNameCB(),\n\u001b[1;32m      4\u001b[0m                             RemapRdnNameCB(),\n\u001b[1;32m      5\u001b[0m                             ParseTimeCB(),\n\u001b[0;32m   (...)\u001b[0m\n\u001b[1;32m     20\u001b[0m                             CompareDfsAndTfm(dfs)\n\u001b[1;32m     21\u001b[0m                             ])\n\u001b[0;32m---> 23\u001b[0m \u001b[43mtfm\u001b[49m\u001b[43m(\u001b[49m\u001b[43m)\u001b[49m\n\u001b[1;32m     25\u001b[0m \u001b[38;5;28mprint\u001b[39m(pd\u001b[38;5;241m.\u001b[39mDataFrame\u001b[38;5;241m.\u001b[39mfrom_dict(tfm\u001b[38;5;241m.\u001b[39mcompare_stats) , \u001b[38;5;124m'\u001b[39m\u001b[38;5;130;01m\\n\u001b[39;00m\u001b[38;5;124m'\u001b[39m)\n\u001b[1;32m     26\u001b[0m \u001b[38;5;28mprint\u001b[39m(tfm\u001b[38;5;241m.\u001b[39mdfs[\u001b[38;5;124m'\u001b[39m\u001b[38;5;124mbiota\u001b[39m\u001b[38;5;124m'\u001b[39m][[\u001b[38;5;124m'\u001b[39m\u001b[38;5;124mlat\u001b[39m\u001b[38;5;124m'\u001b[39m,\u001b[38;5;124m'\u001b[39m\u001b[38;5;124mlon\u001b[39m\u001b[38;5;124m'\u001b[39m]])\n",
      "File \u001b[0;32m~/pro/IAEA/MARIS/marisco/marisco/callbacks.py:50\u001b[0m, in \u001b[0;36mTransformer.__call__\u001b[0;34m(self)\u001b[0m\n\u001b[1;32m     49\u001b[0m \u001b[38;5;28;01mdef\u001b[39;00m \u001b[38;5;21m__call__\u001b[39m(\u001b[38;5;28mself\u001b[39m):\n\u001b[0;32m---> 50\u001b[0m     \u001b[38;5;28;01mif\u001b[39;00m \u001b[38;5;28mself\u001b[39m\u001b[38;5;241m.\u001b[39mcbs: \u001b[38;5;28;43mself\u001b[39;49m\u001b[38;5;241;43m.\u001b[39;49m\u001b[43mcallback\u001b[49m\u001b[43m(\u001b[49m\u001b[43m)\u001b[49m\n\u001b[1;32m     51\u001b[0m     \u001b[38;5;28;01mreturn\u001b[39;00m \u001b[38;5;28mself\u001b[39m\u001b[38;5;241m.\u001b[39mdfs\n",
      "File \u001b[0;32m~/pro/IAEA/MARIS/marisco/marisco/callbacks.py:41\u001b[0m, in \u001b[0;36mTransformer.callback\u001b[0;34m(self)\u001b[0m\n\u001b[1;32m     40\u001b[0m \u001b[38;5;28;01mdef\u001b[39;00m \u001b[38;5;21mcallback\u001b[39m(\u001b[38;5;28mself\u001b[39m):\n\u001b[0;32m---> 41\u001b[0m     \u001b[43mrun_cbs\u001b[49m\u001b[43m(\u001b[49m\u001b[38;5;28;43mself\u001b[39;49m\u001b[38;5;241;43m.\u001b[39;49m\u001b[43mcbs\u001b[49m\u001b[43m,\u001b[49m\u001b[43m \u001b[49m\u001b[38;5;28;43mself\u001b[39;49m\u001b[43m)\u001b[49m\n",
      "File \u001b[0;32m~/pro/IAEA/MARIS/marisco/marisco/callbacks.py:22\u001b[0m, in \u001b[0;36mrun_cbs\u001b[0;34m(cbs, obj)\u001b[0m\n\u001b[1;32m     20\u001b[0m \u001b[38;5;28;01mfor\u001b[39;00m cb \u001b[38;5;129;01min\u001b[39;00m \u001b[38;5;28msorted\u001b[39m(cbs, key\u001b[38;5;241m=\u001b[39mattrgetter(\u001b[38;5;124m'\u001b[39m\u001b[38;5;124morder\u001b[39m\u001b[38;5;124m'\u001b[39m)):\n\u001b[1;32m     21\u001b[0m     \u001b[38;5;28;01mif\u001b[39;00m cb\u001b[38;5;241m.\u001b[39m\u001b[38;5;18m__doc__\u001b[39m: obj\u001b[38;5;241m.\u001b[39mlogs\u001b[38;5;241m.\u001b[39mappend(cb\u001b[38;5;241m.\u001b[39m\u001b[38;5;18m__doc__\u001b[39m)\n\u001b[0;32m---> 22\u001b[0m     \u001b[43mcb\u001b[49m\u001b[43m(\u001b[49m\u001b[43mobj\u001b[49m\u001b[43m)\u001b[49m\n",
      "Cell \u001b[0;32mIn [237], line 18\u001b[0m, in \u001b[0;36mFormatCoordinates.__call__\u001b[0;34m(self, tfm)\u001b[0m\n\u001b[1;32m     11\u001b[0m \u001b[38;5;28;01mfor\u001b[39;00m grp \u001b[38;5;129;01min\u001b[39;00m tfm\u001b[38;5;241m.\u001b[39mdfs\u001b[38;5;241m.\u001b[39mkeys():\n\u001b[1;32m     12\u001b[0m     \u001b[38;5;66;03m# If coordinates with format dddddd (e.g. )\u001b[39;00m\n\u001b[1;32m     13\u001b[0m     \u001b[38;5;66;03m# Get coordinates from dddddd unless dddddd equals 0 or nan. \u001b[39;00m\n\u001b[1;32m     14\u001b[0m     condition \u001b[38;5;241m=\u001b[39m ((tfm\u001b[38;5;241m.\u001b[39mdfs[grp][\u001b[38;5;28mself\u001b[39m\u001b[38;5;241m.\u001b[39mcoi[grp][\u001b[38;5;124m'\u001b[39m\u001b[38;5;124mlon_d\u001b[39m\u001b[38;5;124m'\u001b[39m]]\u001b[38;5;241m.\u001b[39misna()) \u001b[38;5;241m|\u001b[39m (tfm\u001b[38;5;241m.\u001b[39mdfs[grp][\u001b[38;5;28mself\u001b[39m\u001b[38;5;241m.\u001b[39mcoi[grp][\u001b[38;5;124m'\u001b[39m\u001b[38;5;124mlon_d\u001b[39m\u001b[38;5;124m'\u001b[39m]] \u001b[38;5;241m==\u001b[39m \u001b[38;5;241m0\u001b[39m )) \u001b[38;5;241m|\u001b[39m ((tfm\u001b[38;5;241m.\u001b[39mdfs[grp][\u001b[38;5;28mself\u001b[39m\u001b[38;5;241m.\u001b[39mcoi[grp][\u001b[38;5;124m'\u001b[39m\u001b[38;5;124mlat_d\u001b[39m\u001b[38;5;124m'\u001b[39m]]\u001b[38;5;241m.\u001b[39misna()) \u001b[38;5;241m|\u001b[39m (tfm\u001b[38;5;241m.\u001b[39mdfs[grp][\u001b[38;5;28mself\u001b[39m\u001b[38;5;241m.\u001b[39mcoi[grp][\u001b[38;5;124m'\u001b[39m\u001b[38;5;124mlat_d\u001b[39m\u001b[38;5;124m'\u001b[39m]] \u001b[38;5;241m==\u001b[39m \u001b[38;5;241m0\u001b[39m ))            \n\u001b[1;32m     17\u001b[0m     tfm\u001b[38;5;241m.\u001b[39mdfs[grp][\u001b[38;5;124m'\u001b[39m\u001b[38;5;124mlon\u001b[39m\u001b[38;5;124m'\u001b[39m]  \u001b[38;5;241m=\u001b[39m np\u001b[38;5;241m.\u001b[39mwhere(condition,\n\u001b[0;32m---> 18\u001b[0m                                     \u001b[43mtfm\u001b[49m\u001b[38;5;241;43m.\u001b[39;49m\u001b[43mdfs\u001b[49m\u001b[43m[\u001b[49m\u001b[43mgrp\u001b[49m\u001b[43m]\u001b[49m\u001b[43m[\u001b[49m\u001b[38;5;28;43mself\u001b[39;49m\u001b[38;5;241;43m.\u001b[39;49m\u001b[43mcoi\u001b[49m\u001b[43m[\u001b[49m\u001b[43mgrp\u001b[49m\u001b[43m]\u001b[49m\u001b[43m[\u001b[49m\u001b[38;5;124;43m'\u001b[39;49m\u001b[38;5;124;43mlon_m\u001b[39;49m\u001b[38;5;124;43m'\u001b[39;49m\u001b[43m]\u001b[49m\u001b[43m]\u001b[49m\u001b[38;5;241;43m.\u001b[39;49m\u001b[43mapply\u001b[49m\u001b[43m(\u001b[49m\u001b[38;5;28;43;01mlambda\u001b[39;49;00m\u001b[43m \u001b[49m\u001b[43mx\u001b[49m\u001b[43m:\u001b[49m\u001b[43m \u001b[49m\u001b[38;5;28;43mself\u001b[39;49m\u001b[38;5;241;43m.\u001b[39;49m\u001b[43mfn_convert_cor\u001b[49m\u001b[43m(\u001b[49m\u001b[43mx\u001b[49m\u001b[43m)\u001b[49m\u001b[43m)\u001b[49m,\n\u001b[1;32m     19\u001b[0m                                     tfm\u001b[38;5;241m.\u001b[39mdfs[grp][\u001b[38;5;28mself\u001b[39m\u001b[38;5;241m.\u001b[39mcoi[grp][\u001b[38;5;124m'\u001b[39m\u001b[38;5;124mlon_d\u001b[39m\u001b[38;5;124m'\u001b[39m]])\n\u001b[1;32m     21\u001b[0m     tfm\u001b[38;5;241m.\u001b[39mdfs[grp][\u001b[38;5;124m'\u001b[39m\u001b[38;5;124mlat\u001b[39m\u001b[38;5;124m'\u001b[39m]  \u001b[38;5;241m=\u001b[39m np\u001b[38;5;241m.\u001b[39mwhere(condition,\n\u001b[1;32m     22\u001b[0m                                     tfm\u001b[38;5;241m.\u001b[39mdfs[grp][\u001b[38;5;28mself\u001b[39m\u001b[38;5;241m.\u001b[39mcoi[grp][\u001b[38;5;124m'\u001b[39m\u001b[38;5;124mlat_m\u001b[39m\u001b[38;5;124m'\u001b[39m]]\u001b[38;5;241m.\u001b[39mapply(\u001b[38;5;28;01mlambda\u001b[39;00m x: \u001b[38;5;28mself\u001b[39m\u001b[38;5;241m.\u001b[39mfn_convert_cor(x)),\n\u001b[1;32m     23\u001b[0m                                     tfm\u001b[38;5;241m.\u001b[39mdfs[grp][\u001b[38;5;28mself\u001b[39m\u001b[38;5;241m.\u001b[39mcoi[grp][\u001b[38;5;124m'\u001b[39m\u001b[38;5;124mlat_d\u001b[39m\u001b[38;5;124m'\u001b[39m]])\n",
      "File \u001b[0;32m~/mambaforge/envs/marisco/lib/python3.10/site-packages/pandas/core/series.py:4904\u001b[0m, in \u001b[0;36mSeries.apply\u001b[0;34m(self, func, convert_dtype, args, by_row, **kwargs)\u001b[0m\n\u001b[1;32m   4769\u001b[0m \u001b[38;5;28;01mdef\u001b[39;00m \u001b[38;5;21mapply\u001b[39m(\n\u001b[1;32m   4770\u001b[0m     \u001b[38;5;28mself\u001b[39m,\n\u001b[1;32m   4771\u001b[0m     func: AggFuncType,\n\u001b[0;32m   (...)\u001b[0m\n\u001b[1;32m   4776\u001b[0m     \u001b[38;5;241m*\u001b[39m\u001b[38;5;241m*\u001b[39mkwargs,\n\u001b[1;32m   4777\u001b[0m ) \u001b[38;5;241m-\u001b[39m\u001b[38;5;241m>\u001b[39m DataFrame \u001b[38;5;241m|\u001b[39m Series:\n\u001b[1;32m   4778\u001b[0m     \u001b[38;5;124;03m\"\"\"\u001b[39;00m\n\u001b[1;32m   4779\u001b[0m \u001b[38;5;124;03m    Invoke function on values of Series.\u001b[39;00m\n\u001b[1;32m   4780\u001b[0m \n\u001b[0;32m   (...)\u001b[0m\n\u001b[1;32m   4895\u001b[0m \u001b[38;5;124;03m    dtype: float64\u001b[39;00m\n\u001b[1;32m   4896\u001b[0m \u001b[38;5;124;03m    \"\"\"\u001b[39;00m\n\u001b[1;32m   4897\u001b[0m     \u001b[38;5;28;01mreturn\u001b[39;00m \u001b[43mSeriesApply\u001b[49m\u001b[43m(\u001b[49m\n\u001b[1;32m   4898\u001b[0m \u001b[43m        \u001b[49m\u001b[38;5;28;43mself\u001b[39;49m\u001b[43m,\u001b[49m\n\u001b[1;32m   4899\u001b[0m \u001b[43m        \u001b[49m\u001b[43mfunc\u001b[49m\u001b[43m,\u001b[49m\n\u001b[1;32m   4900\u001b[0m \u001b[43m        \u001b[49m\u001b[43mconvert_dtype\u001b[49m\u001b[38;5;241;43m=\u001b[39;49m\u001b[43mconvert_dtype\u001b[49m\u001b[43m,\u001b[49m\n\u001b[1;32m   4901\u001b[0m \u001b[43m        \u001b[49m\u001b[43mby_row\u001b[49m\u001b[38;5;241;43m=\u001b[39;49m\u001b[43mby_row\u001b[49m\u001b[43m,\u001b[49m\n\u001b[1;32m   4902\u001b[0m \u001b[43m        \u001b[49m\u001b[43margs\u001b[49m\u001b[38;5;241;43m=\u001b[39;49m\u001b[43margs\u001b[49m\u001b[43m,\u001b[49m\n\u001b[1;32m   4903\u001b[0m \u001b[43m        \u001b[49m\u001b[43mkwargs\u001b[49m\u001b[38;5;241;43m=\u001b[39;49m\u001b[43mkwargs\u001b[49m\u001b[43m,\u001b[49m\n\u001b[0;32m-> 4904\u001b[0m \u001b[43m    \u001b[49m\u001b[43m)\u001b[49m\u001b[38;5;241;43m.\u001b[39;49m\u001b[43mapply\u001b[49m\u001b[43m(\u001b[49m\u001b[43m)\u001b[49m\n",
      "File \u001b[0;32m~/mambaforge/envs/marisco/lib/python3.10/site-packages/pandas/core/apply.py:1427\u001b[0m, in \u001b[0;36mSeriesApply.apply\u001b[0;34m(self)\u001b[0m\n\u001b[1;32m   1424\u001b[0m     \u001b[38;5;28;01mreturn\u001b[39;00m \u001b[38;5;28mself\u001b[39m\u001b[38;5;241m.\u001b[39mapply_compat()\n\u001b[1;32m   1426\u001b[0m \u001b[38;5;66;03m# self.func is Callable\u001b[39;00m\n\u001b[0;32m-> 1427\u001b[0m \u001b[38;5;28;01mreturn\u001b[39;00m \u001b[38;5;28;43mself\u001b[39;49m\u001b[38;5;241;43m.\u001b[39;49m\u001b[43mapply_standard\u001b[49m\u001b[43m(\u001b[49m\u001b[43m)\u001b[49m\n",
      "File \u001b[0;32m~/mambaforge/envs/marisco/lib/python3.10/site-packages/pandas/core/apply.py:1507\u001b[0m, in \u001b[0;36mSeriesApply.apply_standard\u001b[0;34m(self)\u001b[0m\n\u001b[1;32m   1501\u001b[0m \u001b[38;5;66;03m# row-wise access\u001b[39;00m\n\u001b[1;32m   1502\u001b[0m \u001b[38;5;66;03m# apply doesn't have a `na_action` keyword and for backward compat reasons\u001b[39;00m\n\u001b[1;32m   1503\u001b[0m \u001b[38;5;66;03m# we need to give `na_action=\"ignore\"` for categorical data.\u001b[39;00m\n\u001b[1;32m   1504\u001b[0m \u001b[38;5;66;03m# TODO: remove the `na_action=\"ignore\"` when that default has been changed in\u001b[39;00m\n\u001b[1;32m   1505\u001b[0m \u001b[38;5;66;03m#  Categorical (GH51645).\u001b[39;00m\n\u001b[1;32m   1506\u001b[0m action \u001b[38;5;241m=\u001b[39m \u001b[38;5;124m\"\u001b[39m\u001b[38;5;124mignore\u001b[39m\u001b[38;5;124m\"\u001b[39m \u001b[38;5;28;01mif\u001b[39;00m \u001b[38;5;28misinstance\u001b[39m(obj\u001b[38;5;241m.\u001b[39mdtype, CategoricalDtype) \u001b[38;5;28;01melse\u001b[39;00m \u001b[38;5;28;01mNone\u001b[39;00m\n\u001b[0;32m-> 1507\u001b[0m mapped \u001b[38;5;241m=\u001b[39m \u001b[43mobj\u001b[49m\u001b[38;5;241;43m.\u001b[39;49m\u001b[43m_map_values\u001b[49m\u001b[43m(\u001b[49m\n\u001b[1;32m   1508\u001b[0m \u001b[43m    \u001b[49m\u001b[43mmapper\u001b[49m\u001b[38;5;241;43m=\u001b[39;49m\u001b[43mcurried\u001b[49m\u001b[43m,\u001b[49m\u001b[43m \u001b[49m\u001b[43mna_action\u001b[49m\u001b[38;5;241;43m=\u001b[39;49m\u001b[43maction\u001b[49m\u001b[43m,\u001b[49m\u001b[43m \u001b[49m\u001b[43mconvert\u001b[49m\u001b[38;5;241;43m=\u001b[39;49m\u001b[38;5;28;43mself\u001b[39;49m\u001b[38;5;241;43m.\u001b[39;49m\u001b[43mconvert_dtype\u001b[49m\n\u001b[1;32m   1509\u001b[0m \u001b[43m\u001b[49m\u001b[43m)\u001b[49m\n\u001b[1;32m   1511\u001b[0m \u001b[38;5;28;01mif\u001b[39;00m \u001b[38;5;28mlen\u001b[39m(mapped) \u001b[38;5;129;01mand\u001b[39;00m \u001b[38;5;28misinstance\u001b[39m(mapped[\u001b[38;5;241m0\u001b[39m], ABCSeries):\n\u001b[1;32m   1512\u001b[0m     \u001b[38;5;66;03m# GH#43986 Need to do list(mapped) in order to get treated as nested\u001b[39;00m\n\u001b[1;32m   1513\u001b[0m     \u001b[38;5;66;03m#  See also GH#25959 regarding EA support\u001b[39;00m\n\u001b[1;32m   1514\u001b[0m     \u001b[38;5;28;01mreturn\u001b[39;00m obj\u001b[38;5;241m.\u001b[39m_constructor_expanddim(\u001b[38;5;28mlist\u001b[39m(mapped), index\u001b[38;5;241m=\u001b[39mobj\u001b[38;5;241m.\u001b[39mindex)\n",
      "File \u001b[0;32m~/mambaforge/envs/marisco/lib/python3.10/site-packages/pandas/core/base.py:921\u001b[0m, in \u001b[0;36mIndexOpsMixin._map_values\u001b[0;34m(self, mapper, na_action, convert)\u001b[0m\n\u001b[1;32m    918\u001b[0m \u001b[38;5;28;01mif\u001b[39;00m \u001b[38;5;28misinstance\u001b[39m(arr, ExtensionArray):\n\u001b[1;32m    919\u001b[0m     \u001b[38;5;28;01mreturn\u001b[39;00m arr\u001b[38;5;241m.\u001b[39mmap(mapper, na_action\u001b[38;5;241m=\u001b[39mna_action)\n\u001b[0;32m--> 921\u001b[0m \u001b[38;5;28;01mreturn\u001b[39;00m \u001b[43malgorithms\u001b[49m\u001b[38;5;241;43m.\u001b[39;49m\u001b[43mmap_array\u001b[49m\u001b[43m(\u001b[49m\u001b[43marr\u001b[49m\u001b[43m,\u001b[49m\u001b[43m \u001b[49m\u001b[43mmapper\u001b[49m\u001b[43m,\u001b[49m\u001b[43m \u001b[49m\u001b[43mna_action\u001b[49m\u001b[38;5;241;43m=\u001b[39;49m\u001b[43mna_action\u001b[49m\u001b[43m,\u001b[49m\u001b[43m \u001b[49m\u001b[43mconvert\u001b[49m\u001b[38;5;241;43m=\u001b[39;49m\u001b[43mconvert\u001b[49m\u001b[43m)\u001b[49m\n",
      "File \u001b[0;32m~/mambaforge/envs/marisco/lib/python3.10/site-packages/pandas/core/algorithms.py:1743\u001b[0m, in \u001b[0;36mmap_array\u001b[0;34m(arr, mapper, na_action, convert)\u001b[0m\n\u001b[1;32m   1741\u001b[0m values \u001b[38;5;241m=\u001b[39m arr\u001b[38;5;241m.\u001b[39mastype(\u001b[38;5;28mobject\u001b[39m, copy\u001b[38;5;241m=\u001b[39m\u001b[38;5;28;01mFalse\u001b[39;00m)\n\u001b[1;32m   1742\u001b[0m \u001b[38;5;28;01mif\u001b[39;00m na_action \u001b[38;5;129;01mis\u001b[39;00m \u001b[38;5;28;01mNone\u001b[39;00m:\n\u001b[0;32m-> 1743\u001b[0m     \u001b[38;5;28;01mreturn\u001b[39;00m \u001b[43mlib\u001b[49m\u001b[38;5;241;43m.\u001b[39;49m\u001b[43mmap_infer\u001b[49m\u001b[43m(\u001b[49m\u001b[43mvalues\u001b[49m\u001b[43m,\u001b[49m\u001b[43m \u001b[49m\u001b[43mmapper\u001b[49m\u001b[43m,\u001b[49m\u001b[43m \u001b[49m\u001b[43mconvert\u001b[49m\u001b[38;5;241;43m=\u001b[39;49m\u001b[43mconvert\u001b[49m\u001b[43m)\u001b[49m\n\u001b[1;32m   1744\u001b[0m \u001b[38;5;28;01melse\u001b[39;00m:\n\u001b[1;32m   1745\u001b[0m     \u001b[38;5;28;01mreturn\u001b[39;00m lib\u001b[38;5;241m.\u001b[39mmap_infer_mask(\n\u001b[1;32m   1746\u001b[0m         values, mapper, mask\u001b[38;5;241m=\u001b[39misna(values)\u001b[38;5;241m.\u001b[39mview(np\u001b[38;5;241m.\u001b[39muint8), convert\u001b[38;5;241m=\u001b[39mconvert\n\u001b[1;32m   1747\u001b[0m     )\n",
      "File \u001b[0;32mlib.pyx:2972\u001b[0m, in \u001b[0;36mpandas._libs.lib.map_infer\u001b[0;34m()\u001b[0m\n",
      "Cell \u001b[0;32mIn [237], line 18\u001b[0m, in \u001b[0;36mFormatCoordinates.__call__.<locals>.<lambda>\u001b[0;34m(x)\u001b[0m\n\u001b[1;32m     11\u001b[0m \u001b[38;5;28;01mfor\u001b[39;00m grp \u001b[38;5;129;01min\u001b[39;00m tfm\u001b[38;5;241m.\u001b[39mdfs\u001b[38;5;241m.\u001b[39mkeys():\n\u001b[1;32m     12\u001b[0m     \u001b[38;5;66;03m# If coordinates with format dddddd (e.g. )\u001b[39;00m\n\u001b[1;32m     13\u001b[0m     \u001b[38;5;66;03m# Get coordinates from dddddd unless dddddd equals 0 or nan. \u001b[39;00m\n\u001b[1;32m     14\u001b[0m     condition \u001b[38;5;241m=\u001b[39m ((tfm\u001b[38;5;241m.\u001b[39mdfs[grp][\u001b[38;5;28mself\u001b[39m\u001b[38;5;241m.\u001b[39mcoi[grp][\u001b[38;5;124m'\u001b[39m\u001b[38;5;124mlon_d\u001b[39m\u001b[38;5;124m'\u001b[39m]]\u001b[38;5;241m.\u001b[39misna()) \u001b[38;5;241m|\u001b[39m (tfm\u001b[38;5;241m.\u001b[39mdfs[grp][\u001b[38;5;28mself\u001b[39m\u001b[38;5;241m.\u001b[39mcoi[grp][\u001b[38;5;124m'\u001b[39m\u001b[38;5;124mlon_d\u001b[39m\u001b[38;5;124m'\u001b[39m]] \u001b[38;5;241m==\u001b[39m \u001b[38;5;241m0\u001b[39m )) \u001b[38;5;241m|\u001b[39m ((tfm\u001b[38;5;241m.\u001b[39mdfs[grp][\u001b[38;5;28mself\u001b[39m\u001b[38;5;241m.\u001b[39mcoi[grp][\u001b[38;5;124m'\u001b[39m\u001b[38;5;124mlat_d\u001b[39m\u001b[38;5;124m'\u001b[39m]]\u001b[38;5;241m.\u001b[39misna()) \u001b[38;5;241m|\u001b[39m (tfm\u001b[38;5;241m.\u001b[39mdfs[grp][\u001b[38;5;28mself\u001b[39m\u001b[38;5;241m.\u001b[39mcoi[grp][\u001b[38;5;124m'\u001b[39m\u001b[38;5;124mlat_d\u001b[39m\u001b[38;5;124m'\u001b[39m]] \u001b[38;5;241m==\u001b[39m \u001b[38;5;241m0\u001b[39m ))            \n\u001b[1;32m     17\u001b[0m     tfm\u001b[38;5;241m.\u001b[39mdfs[grp][\u001b[38;5;124m'\u001b[39m\u001b[38;5;124mlon\u001b[39m\u001b[38;5;124m'\u001b[39m]  \u001b[38;5;241m=\u001b[39m np\u001b[38;5;241m.\u001b[39mwhere(condition,\n\u001b[0;32m---> 18\u001b[0m                                     tfm\u001b[38;5;241m.\u001b[39mdfs[grp][\u001b[38;5;28mself\u001b[39m\u001b[38;5;241m.\u001b[39mcoi[grp][\u001b[38;5;124m'\u001b[39m\u001b[38;5;124mlon_m\u001b[39m\u001b[38;5;124m'\u001b[39m]]\u001b[38;5;241m.\u001b[39mapply(\u001b[38;5;28;01mlambda\u001b[39;00m x: \u001b[38;5;28;43mself\u001b[39;49m\u001b[38;5;241;43m.\u001b[39;49m\u001b[43mfn_convert_cor\u001b[49m\u001b[43m(\u001b[49m\u001b[43mx\u001b[49m\u001b[43m)\u001b[49m),\n\u001b[1;32m     19\u001b[0m                                     tfm\u001b[38;5;241m.\u001b[39mdfs[grp][\u001b[38;5;28mself\u001b[39m\u001b[38;5;241m.\u001b[39mcoi[grp][\u001b[38;5;124m'\u001b[39m\u001b[38;5;124mlon_d\u001b[39m\u001b[38;5;124m'\u001b[39m]])\n\u001b[1;32m     21\u001b[0m     tfm\u001b[38;5;241m.\u001b[39mdfs[grp][\u001b[38;5;124m'\u001b[39m\u001b[38;5;124mlat\u001b[39m\u001b[38;5;124m'\u001b[39m]  \u001b[38;5;241m=\u001b[39m np\u001b[38;5;241m.\u001b[39mwhere(condition,\n\u001b[1;32m     22\u001b[0m                                     tfm\u001b[38;5;241m.\u001b[39mdfs[grp][\u001b[38;5;28mself\u001b[39m\u001b[38;5;241m.\u001b[39mcoi[grp][\u001b[38;5;124m'\u001b[39m\u001b[38;5;124mlat_m\u001b[39m\u001b[38;5;124m'\u001b[39m]]\u001b[38;5;241m.\u001b[39mapply(\u001b[38;5;28;01mlambda\u001b[39;00m x: \u001b[38;5;28mself\u001b[39m\u001b[38;5;241m.\u001b[39mfn_convert_cor(x)),\n\u001b[1;32m     23\u001b[0m                                     tfm\u001b[38;5;241m.\u001b[39mdfs[grp][\u001b[38;5;28mself\u001b[39m\u001b[38;5;241m.\u001b[39mcoi[grp][\u001b[38;5;124m'\u001b[39m\u001b[38;5;124mlat_d\u001b[39m\u001b[38;5;124m'\u001b[39m]])\n",
      "Cell \u001b[0;32mIn [236], line 6\u001b[0m, in \u001b[0;36mddmmmm2dddddd\u001b[0;34m(ddmmmm)\u001b[0m\n\u001b[1;32m      4\u001b[0m \u001b[38;5;66;03m# move 2 decimal place\u001b[39;00m\n\u001b[1;32m      5\u001b[0m mins \u001b[38;5;241m=\u001b[39m mins\u001b[38;5;241m*\u001b[39m\u001b[38;5;241m100\u001b[39m\n\u001b[0;32m----> 6\u001b[0m \u001b[38;5;28;01mreturn\u001b[39;00m \u001b[38;5;28mround\u001b[39m((\u001b[38;5;28;43mint\u001b[39;49m\u001b[43m(\u001b[49m\u001b[43mdegs\u001b[49m\u001b[43m)\u001b[49m\u001b[38;5;241m+\u001b[39m(\u001b[38;5;28mfloat\u001b[39m(mins)\u001b[38;5;241m/\u001b[39m\u001b[38;5;241m60\u001b[39m)), \u001b[38;5;241m4\u001b[39m)\n",
      "\u001b[0;31mValueError\u001b[0m: cannot convert float NaN to integer"
     ]
    }
   ],
   "source": [
    "#|eval: false\n",
    "dfs = load_data(fname_in)\n",
    "tfm = Transformer(dfs, cbs=[LowerStripRdnNameCB(),\n",
    "                            RemapRdnNameCB(),\n",
    "                            ParseTimeCB(),\n",
    "                            EncodeTimeCB(cfg()),                             \n",
    "                            NormalizeUncUnitCB(),\n",
    "                            LookupBiotaSpeciesCB(get_maris_species),\n",
    "                            LookupBiotaBodyPartCB(get_maris_bodypart), \n",
    "                            LookupBiogroupCB(partial(get_biogroup_lut, species_lut_path())),\n",
    "                            LookupSedimentCB(get_maris_sediments),\n",
    "                            LookupUnitCB(),\n",
    "                            LookupDetectionLimitCB(),\n",
    "                            RemapDataProviderSampleIdCB(),\n",
    "                            RemapStationIdCB(),\n",
    "                            RemapProfileIdCB(), \n",
    "                            RemapSedSliceTopBottomCB(),\n",
    "                            LookupDryWetRatio(),\n",
    "                            FormatCoordinates(coi_coordinates, ddmmmm2dddddd),\n",
    "                            CompareDfsAndTfm(dfs)\n",
    "                            ])\n",
    "\n",
    "tfm()\n",
    "\n",
    "print(pd.DataFrame.from_dict(tfm.compare_stats) , '\\n')\n",
    "print(tfm.dfs['biota'][['lat','lon']])"
   ]
  },
  {
   "cell_type": "markdown",
   "id": "00f7fc59",
   "metadata": {},
   "source": [
    "***"
   ]
  },
  {
   "cell_type": "markdown",
   "id": "754289f1",
   "metadata": {},
   "source": [
    "### Sanitize coordinates"
   ]
  },
  {
   "cell_type": "markdown",
   "id": "2b77e413",
   "metadata": {},
   "source": [
    "&nbsp;&nbsp;&nbsp;&nbsp;&nbsp;*NetCDF4 format variables: ``lon``  and ``lat``*"
   ]
  },
  {
   "cell_type": "markdown",
   "id": "1f808d23",
   "metadata": {},
   "source": [
    "&nbsp;&nbsp;&nbsp;&nbsp;&nbsp;*Open Refine format variables: ``Longitude decimal`` and ``Latitude decimal``.*"
   ]
  },
  {
   "cell_type": "markdown",
   "id": "5a055628",
   "metadata": {},
   "source": [
    "Sanitize coordinates drops a row when both longitude & latitude equal 0 or data contains unrealistic longitude & latitude values. Converts longitude & latitude `,` separator to `.` separator.\""
   ]
  },
  {
   "cell_type": "code",
   "execution_count": null,
   "id": "99a85059",
   "metadata": {},
   "outputs": [],
   "source": [
    "#|eval: false\n",
    "dfs = load_data(fname_in)\n",
    "tfm = Transformer(dfs, cbs=[LowerStripRdnNameCB(),\n",
    "                            RemapRdnNameCB(),\n",
    "                            ParseTimeCB(),\n",
    "                            EncodeTimeCB(cfg()),                             \n",
    "                            NormalizeUncUnitCB(),\n",
    "                            LookupBiotaSpeciesCB(get_maris_species),\n",
    "                            LookupBiotaBodyPartCB(get_maris_bodypart), \n",
    "                            LookupBiogroupCB(partial(get_biogroup_lut, species_lut_path())),\n",
    "                            LookupSedimentCB(get_maris_sediments),\n",
    "                            LookupUnitCB(),\n",
    "                            LookupDetectionLimitCB(),\n",
    "                            RemapDataProviderSampleIdCB(),\n",
    "                            RemapStationIdCB(),\n",
    "                            RemapProfileIdCB(), \n",
    "                            RemapSedSliceTopBottomCB(),\n",
    "                            LookupDryWetRatio(),\n",
    "                            FormatCoordinates(coi_coordinates, ddmmmm2dddddd),\n",
    "                            SanitizeLonLatCB(),\n",
    "                            CompareDfsAndTfm(dfs)\n",
    "                            ])\n",
    "\n",
    "tfm()\n",
    "print(pd.DataFrame.from_dict(tfm.compare_stats) , '\\n')\n",
    "print(tfm.dfs['biota'][['lat','lon']])\n"
   ]
  },
  {
   "cell_type": "markdown",
   "id": "8cbf2efc",
   "metadata": {},
   "source": [
    "***"
   ]
  },
  {
   "cell_type": "markdown",
   "id": "1320434d",
   "metadata": {},
   "source": [
    "### Sanitize value"
   ]
  },
  {
   "cell_type": "markdown",
   "id": "9a12783c",
   "metadata": {},
   "source": [
    "&nbsp;&nbsp;&nbsp;&nbsp;&nbsp;*NetCDF4 format variable: ``value``.*"
   ]
  },
  {
   "cell_type": "markdown",
   "id": "d0b9c6e7",
   "metadata": {},
   "source": [
    "&nbsp;&nbsp;&nbsp;&nbsp;&nbsp;*Open Refine format variables: ``Activity or MDA``.*"
   ]
  },
  {
   "cell_type": "code",
   "execution_count": null,
   "id": "130ba17c",
   "metadata": {},
   "outputs": [],
   "source": [
    "#| export\n",
    "# Columns of interest\n",
    "coi_val = {'seawater' : { 'val' : 'VALUE_Bq/m³'},\n",
    "                 'biota':  {'val' : 'VALUE_Bq/kg'},\n",
    "                 'sediment': { 'val' : 'VALUE_Bq/kg'}}"
   ]
  },
  {
   "cell_type": "code",
   "execution_count": null,
   "id": "38b4bcdf",
   "metadata": {},
   "outputs": [],
   "source": [
    "# | export\n",
    "class SanitizeValue(Callback):\n",
    "    \"Sanitize value. Remove blank entries.\"\n",
    "    def __init__(self,\n",
    "                coi: dict):\n",
    "        fc.store_attr()\n",
    "\n",
    "    def __call__(self, tfm):\n",
    "        for grp in tfm.dfs.keys():\n",
    "            val = self.coi[grp]['val']\n",
    "            # Keep rows where either value (i.e. VALUE_Bq/m³ or VALUE_Bq/kg ) is not 'nan'\n",
    "            tfm.dfs[grp] = tfm.dfs[grp][tfm.dfs[grp][[val]].notna().any(axis=1)]\n"
   ]
  },
  {
   "cell_type": "code",
   "execution_count": null,
   "id": "d4f1de86",
   "metadata": {},
   "outputs": [],
   "source": [
    "#|eval: false\n",
    "dfs = load_data(fname_in)\n",
    "tfm = Transformer(dfs, cbs=[LowerStripRdnNameCB(),\n",
    "                            RemapRdnNameCB(),\n",
    "                            ParseTimeCB(),\n",
    "                            EncodeTimeCB(cfg()),                             \n",
    "                            NormalizeUncUnitCB(),\n",
    "                            LookupBiotaSpeciesCB(get_maris_species),\n",
    "                            LookupBiotaBodyPartCB(get_maris_bodypart), \n",
    "                            LookupBiogroupCB(partial(get_biogroup_lut, species_lut_path())),\n",
    "                            LookupSedimentCB(get_maris_sediments),\n",
    "                            LookupUnitCB(),\n",
    "                            LookupDetectionLimitCB(),\n",
    "                            RemapDataProviderSampleIdCB(),\n",
    "                            RemapStationIdCB(),\n",
    "                            RemapProfileIdCB(), \n",
    "                            RemapSedSliceTopBottomCB(),\n",
    "                            LookupDryWetRatio(),\n",
    "                            FormatCoordinates(coi_coordinates, ddmmmm2dddddd),\n",
    "                            SanitizeLonLatCB(),\n",
    "                            SanitizeValue(coi_val),\n",
    "                            CompareDfsAndTfm(dfs)\n",
    "                            ])\n",
    "\n",
    "tfm()\n",
    "print(pd.DataFrame.from_dict(tfm.compare_stats) , '\\n')"
   ]
  },
  {
   "cell_type": "code",
   "execution_count": null,
   "id": "0ef3a447",
   "metadata": {},
   "outputs": [],
   "source": [
    "seawater_review=tfm.dfs_dropped['seawater']\n",
    "biota_review=tfm.dfs_dropped['biota']\n",
    "sediment_review=tfm.dfs_dropped['sediment']"
   ]
  },
  {
   "cell_type": "markdown",
   "id": "43a4485e",
   "metadata": {},
   "source": [
    "***"
   ]
  },
  {
   "cell_type": "markdown",
   "id": "47716bff",
   "metadata": {},
   "source": [
    "### Review DFS and TFM data"
   ]
  },
  {
   "cell_type": "code",
   "execution_count": null,
   "id": "b8a07959",
   "metadata": {},
   "outputs": [],
   "source": [
    "#|eval: false\n",
    "dfs = load_data(fname_in)\n",
    "tfm = Transformer(dfs, cbs=[LowerStripRdnNameCB(),\n",
    "                            RemapRdnNameCB(),\n",
    "                            ParseTimeCB(),\n",
    "                            EncodeTimeCB(cfg()),                             \n",
    "                            NormalizeUncUnitCB(),\n",
    "                            LookupBiotaSpeciesCB(get_maris_species),\n",
    "                            LookupBiotaBodyPartCB(get_maris_bodypart), \n",
    "                            LookupBiogroupCB(partial(get_biogroup_lut, species_lut_path())),\n",
    "                            LookupSedimentCB(get_maris_sediments),\n",
    "                            LookupUnitCB(),\n",
    "                            LookupDetectionLimitCB(),\n",
    "                            RemapDataProviderSampleIdCB(),\n",
    "                            RemapStationIdCB(),\n",
    "                            RemapProfileIdCB(), \n",
    "                            RemapSedSliceTopBottomCB(),\n",
    "                            LookupDryWetRatio(),\n",
    "                            FormatCoordinates(coi_coordinates, ddmmmm2dddddd),\n",
    "                            SanitizeLonLatCB(),\n",
    "                            SanitizeValue(coi_val),\n",
    "                            CompareDfsAndTfm(dfs)\n",
    "                            ])\n",
    "\n",
    "tfm()\n",
    "\n",
    "print(pd.DataFrame.from_dict(tfm.compare_stats) , '\\n')\n"
   ]
  },
  {
   "cell_type": "code",
   "execution_count": null,
   "id": "d36a0e03",
   "metadata": {},
   "outputs": [],
   "source": [
    "seawater_review=tfm.dfs_dropped['seawater']\n",
    "biota_review=tfm.dfs_dropped['biota']\n",
    "sediment_review=tfm.dfs_dropped['sediment']"
   ]
  },
  {
   "attachments": {},
   "cell_type": "markdown",
   "id": "e17f6685",
   "metadata": {},
   "source": [
    "### Columns of interest and rename for NetCDF"
   ]
  },
  {
   "cell_type": "markdown",
   "id": "af441203",
   "metadata": {},
   "source": [
    "> Column names are standardized to MARIS NetCDF format (i.e. PEP8 ). "
   ]
  },
  {
   "cell_type": "code",
   "execution_count": null,
   "id": "23653799",
   "metadata": {},
   "outputs": [],
   "source": [
    "#| export\n",
    "# Define columns of interest (keys) and renaming rules (values).\n",
    "def get_renaming_rules_netcdf():\n",
    "    vars = cdl_cfg()['vars']\n",
    "    return {('seawater','biota', 'sediment') : {    \n",
    "                                                        ## DEFAULT\n",
    "                                                        'lat' : vars['defaults']['lat']['name'] ,\n",
    "                                                        'lon' : vars['defaults']['lon']['name'] ,\n",
    "                                                        'time' : vars['defaults']['time']['name'],\n",
    "                                                        'NUCLIDE' : 'nuclide',\n",
    "                                                        'unit' : vars['suffixes']['unit']['name'],\n",
    "                                                        #'station_id' : 'data_provider_station_id',\n",
    "                                                        #'data_provider_sample_id' : vars['defaults']['data_provider_sample_id']['name'],\n",
    "                                                        #'profile_or_transect_id' : 'profile_id',\n",
    "                                                        'detection_limit' : vars['suffixes']['detection_limit']['name']\n",
    "                                                        #'Sampling method' : 'sampling_method'\n",
    "                                                        #'Preparation method' : 'preparation_method'\n",
    "                                                        #'Counting method' : 'counting_method'\n",
    "                                                        #'Sample notes' : 'sample_notes'\n",
    "                                                        #'Measurement notes' : 'measurement_notes'\n",
    "                                                    },\n",
    "                  ('seawater',) : {\n",
    "                                ## SEAWATER\n",
    "                                'VALUE_Bq/m³': 'value',\n",
    "                                'ERROR%_m³': vars['suffixes']['uncertainty']['name'],\n",
    "                                'TDEPTH': vars['defaults']['tot_depth']['name'],\n",
    "                                'SDEPTH': vars['defaults']['smp_depth']['name'],\n",
    "                                'SALIN' : vars['suffixes']['salinity']['name'],\n",
    "                                'TTEMP' : vars['suffixes']['temperature']['name'],\n",
    "                                #'FILT' : vars['suffixes']['filtered']['name']\n",
    "                                },\n",
    "                  ('biota',) : { \n",
    "                                ## BIOTA\n",
    "                                'VALUE_Bq/kg': 'value',\n",
    "                                'ERROR%' : vars['suffixes']['uncertainty']['name'],\n",
    "                                'species' : vars['bio']['species']['name'],\n",
    "                                'body_part' : vars['bio']['body_part']['name'],\n",
    "                                'bio_group' : vars['bio']['bio_group']['name'],\n",
    "                                'SDEPTH' : vars['defaults']['smp_depth']['name'],\n",
    "                                #'DW%' : 'dry_wet_ratio'\n",
    "                                #'Drying Method' : drying_method\n",
    "                                \n",
    "                                },\n",
    "                  ('sediment',) : {\n",
    "                                ## SEDIMENT\n",
    "                                'VALUE_Bq/kg': 'value',\n",
    "                                'ERROR%_kg' : vars['suffixes']['uncertainty']['name'],\n",
    "                                'TDEPTH' : vars['defaults']['tot_depth']['name'],\n",
    "                                'sed_type' : vars['sed']['sed_type']['name'],\n",
    "                                #'top' : 'top',\n",
    "                                #'bottom' : 'bottom', \n",
    "                                #'DW%' : 'dry_wet_ratio'\n",
    "                                #'Drying Method' : drying_method\n",
    "                                }\n",
    "                    }"
   ]
  },
  {
   "cell_type": "markdown",
   "id": "fdb975d9",
   "metadata": {},
   "source": [
    "Open Refine data format includes additional data that is not available in NetCDF format. Here we select columns of interest for Open Refine and standardize columns names to MARIS NetCDF format. "
   ]
  },
  {
   "cell_type": "markdown",
   "id": "842a6d25",
   "metadata": {},
   "source": [
    "> For Open Refine CSV column names are standardized to MARIS NetCDF format. "
   ]
  },
  {
   "cell_type": "code",
   "execution_count": null,
   "id": "717a590e",
   "metadata": {},
   "outputs": [],
   "source": [
    "#| export\n",
    "# Define columns of interest (keys) and renaming rules (values) for encoding to open refine csv. .\n",
    "def get_renaming_rules_openrefine():\n",
    "    vars = cdl_cfg()['vars']\n",
    "    return {('seawater','biota', 'sediment') : {    \n",
    "                                                        ## DEFAULT\n",
    "                                                        'lat' : vars['defaults']['lat']['name'] ,\n",
    "                                                        'lon' : vars['defaults']['lon']['name'] ,\n",
    "                                                        'time' : vars['defaults']['time']['name'],\n",
    "                                                        'NUCLIDE' : 'nuclide',\n",
    "                                                        'unit' : vars['suffixes']['unit']['name'],\n",
    "                                                        'station_id' : 'data_provider_station_id',\n",
    "                                                        'data_provider_sample_id' : vars['defaults']['data_provider_sample_id']['name'],\n",
    "                                                        'profile_or_transect_id' : 'profile_id',\n",
    "                                                        'detection_limit' : vars['suffixes']['detection_limit']['name']\n",
    "                                                        #'Sampling method' : 'sampling_method'\n",
    "                                                        #'Preparation method' : 'preparation_method'\n",
    "                                                        #'Counting method' : 'counting_method'\n",
    "                                                        #'Sample notes' : 'sample_notes'\n",
    "                                                        #'Measurement notes' : 'measurement_notes'\n",
    "                                                    },\n",
    "                  ('seawater',) : {\n",
    "                                ## SEAWATER\n",
    "                                'VALUE_Bq/m³': 'value',\n",
    "                                'ERROR%_m³': vars['suffixes']['uncertainty']['name'],\n",
    "                                'TDEPTH': vars['defaults']['tot_depth']['name'],\n",
    "                                'SDEPTH': vars['defaults']['smp_depth']['name'],\n",
    "                                'SALIN' : vars['suffixes']['salinity']['name'],\n",
    "                                'TTEMP' : vars['suffixes']['temperature']['name'],\n",
    "                                'FILT' : vars['suffixes']['filtered']['name']\n",
    "                                },\n",
    "                  ('biota',) : { \n",
    "                                ## BIOTA\n",
    "                                'VALUE_Bq/kg': 'value',\n",
    "                                'ERROR%' : vars['suffixes']['uncertainty']['name'],\n",
    "                                'species' : vars['bio']['species']['name'],\n",
    "                                'body_part' : vars['bio']['body_part']['name'],\n",
    "                                'bio_group' : vars['bio']['bio_group']['name'],\n",
    "                                'SDEPTH' : vars['defaults']['smp_depth']['name'],\n",
    "                                'DW%' : 'dry_wet_ratio'\n",
    "                                #'Drying Method' : drying_method\n",
    "                                \n",
    "                                },\n",
    "                  ('sediment',) : {\n",
    "                                ## SEDIMENT\n",
    "                                'VALUE_Bq/kg': 'value',\n",
    "                                'ERROR%_kg' : vars['suffixes']['uncertainty']['name'],\n",
    "                                'TDEPTH' : vars['defaults']['tot_depth']['name'],\n",
    "                                'sed_type' : vars['sed']['sed_type']['name'],\n",
    "                                'top' : 'top',\n",
    "                                'bottom' : 'bottom', \n",
    "                                'DW%' : 'dry_wet_ratio'\n",
    "                                #'Drying Method' : drying_method\n",
    "                                }\n",
    "                    }"
   ]
  },
  {
   "cell_type": "code",
   "execution_count": null,
   "id": "e41f13ae",
   "metadata": {},
   "outputs": [],
   "source": [
    "\n",
    "#| export\n",
    "class SelectAndRenameColumnCB(Callback):\n",
    "    def __init__(self,\n",
    "                 fn_renaming_rules,\n",
    "                ):\n",
    "        fc.store_attr()\n",
    "    def __call__(self, tfm):\n",
    "        renaming = self.fn_renaming_rules()\n",
    "        for grp in tfm.dfs.keys():            \n",
    "            # get columns related to the grp (e.g. 'biota').\n",
    "            coi = [v for k, v in renaming.items() if grp in k]\n",
    "            # Join cols of interest\n",
    "            coi_rename = {}\n",
    "            for d in coi:\n",
    "                for k, v in d.items(): \n",
    "                    coi_rename[k]=v\n",
    "            # list cols\n",
    "            cols = list(coi_rename.keys()) \n",
    "            # select cols in df \n",
    "            tfm.dfs[grp] = tfm.dfs[grp].loc[:, cols]\n",
    "            # Rename cols\n",
    "            tfm.dfs[grp].rename(columns=coi_rename, inplace=True)\n",
    "            "
   ]
  },
  {
   "cell_type": "code",
   "execution_count": null,
   "id": "9a4a8682-672f-4188-9091-821b727b4764",
   "metadata": {},
   "outputs": [],
   "source": [
    "\n",
    "#|eval: false\n",
    "dfs = load_data(fname_in)\n",
    "tfm = Transformer(dfs, cbs=[LowerStripRdnNameCB(),\n",
    "                            RemapRdnNameCB(),\n",
    "                            ParseTimeCB(),\n",
    "                            EncodeTimeCB(cfg()),                             \n",
    "                            NormalizeUncUnitCB(),\n",
    "                            LookupBiotaSpeciesCB(get_maris_species),\n",
    "                            LookupBiotaBodyPartCB(get_maris_bodypart), \n",
    "                            LookupBiogroupCB(partial(get_biogroup_lut, species_lut_path())),\n",
    "                            LookupSedimentCB(get_maris_sediments),\n",
    "                            LookupUnitCB(),\n",
    "                            LookupDetectionLimitCB(),\n",
    "                            RemapDataProviderSampleIdCB(),\n",
    "                            RemapStationIdCB(),\n",
    "                            RemapProfileIdCB(), \n",
    "                            RemapSedSliceTopBottomCB(),\n",
    "                            LookupDryWetRatio(),\n",
    "                            FormatCoordinates(coi_coordinates, ddmmmm2dddddd),\n",
    "                            SanitizeLonLatCB(),\n",
    "                            SanitizeValue(coi_val),\n",
    "                            SelectAndRenameColumnCB(get_renaming_rules_netcdf),\n",
    "                            CompareDfsAndTfm(dfs)\n",
    "                            ])\n",
    "\n",
    "tfm()\n",
    "\n",
    "print(pd.DataFrame.from_dict(tfm.compare_stats) , '\\n')"
   ]
  },
  {
   "cell_type": "markdown",
   "id": "832f7682",
   "metadata": {},
   "source": [
    "***"
   ]
  },
  {
   "attachments": {},
   "cell_type": "markdown",
   "id": "8b7efe2d",
   "metadata": {},
   "source": [
    "### Reshape: long to wide"
   ]
  },
  {
   "cell_type": "markdown",
   "id": "dd59b263",
   "metadata": {},
   "source": [
    "Convert data from long to wide and rename columns to comply with NetCDF format."
   ]
  },
  {
   "cell_type": "code",
   "execution_count": null,
   "id": "918ee54c-19aa-4f21-b2a7-8f3f182f3958",
   "metadata": {},
   "outputs": [],
   "source": [
    "#| export\n",
    "class ReshapeLongToWide(Callback):\n",
    "    \"Convert data from long to wide with renamed columns.\"\n",
    "    def __init__(self, columns=['nuclide'], values=['value']):\n",
    "        fc.store_attr()\n",
    "        # Retrieve all possible derived vars (e.g 'unc', 'dl', ...) from configs\n",
    "        self.derived_cols = [value['name'] for value in cdl_cfg()['vars']['suffixes'].values()]\n",
    "    \n",
    "    def renamed_cols(self, cols):\n",
    "        \"Flatten columns name\"\n",
    "        return [inner if outer == \"value\" else f'{inner}{outer}'\n",
    "                if inner else outer\n",
    "                for outer, inner in cols]\n",
    "\n",
    "    def pivot(self, df):\n",
    "        # Among all possible 'derived cols' select the ones present in df\n",
    "        derived_coi = [col for col in self.derived_cols if col in df.columns]\n",
    "        \n",
    "        df=df.reset_index()\n",
    "        \n",
    "        idx = list(set(df.columns) - set(self.columns + derived_coi + self.values))\n",
    "        \n",
    "        # Create a fill_value to replace NaN values in the columns used as the index in the pivot table.\n",
    "        # Check if num_fill_value is already in the dataframe index values. If num_fill_value already exists\n",
    "        # then increase num_fill_value by 1 until a value is found for num_fill_value that is not in the dataframe. \n",
    "        num_fill_value = 99999999999999\n",
    "        while (df[idx] == num_fill_value).any().any():\n",
    "            num_fill_value += 1\n",
    "        # Fill in nan values for each col found in idx. \n",
    "        for col in idx:   \n",
    "            if pd.api.types.is_numeric_dtype(df[col]):\n",
    "                fill_value = num_fill_value\n",
    "            if pd.api.types.is_string_dtype(df[col]):\n",
    "                fill_value = 'NOT AVAILABLE'\n",
    "                \n",
    "            df[col]=df[col].fillna(fill_value)\n",
    "\n",
    "        pivot_df=df.pivot_table(index=idx,\n",
    "                              columns=self.columns,\n",
    "                              values=self.values + derived_coi,\n",
    "                              fill_value=np.nan,\n",
    "                              aggfunc=lambda x: x\n",
    "                              ).reset_index()\n",
    "        \n",
    "        pivot_df.index.name = 'sample'\n",
    "        pivot_df=pivot_df.reset_index('sample')\n",
    "        \n",
    "        # Replace fill_value  with  np.nan\n",
    "        pivot_df[idx]=pivot_df[idx].replace({'NOT AVAILABLE': np.nan,\n",
    "                                             num_fill_value : np.nan})\n",
    "        return (pivot_df)\n",
    "\n",
    "    def __call__(self, tfm):\n",
    "        for grp in tfm.dfs.keys():\n",
    "            tfm.dfs[grp] = self.pivot(tfm.dfs[grp])\n",
    "            tfm.dfs[grp].columns = self.renamed_cols(tfm.dfs[grp].columns)"
   ]
  },
  {
   "cell_type": "code",
   "execution_count": null,
   "id": "0a330905",
   "metadata": {},
   "outputs": [
    {
     "name": "stdout",
     "output_type": "stream",
     "text": [
      "   sample   lat  index   lon  species        time  smp_depth  body_part  \\\n",
      "0       0  53.5  14075  14.3      247  1443052800        NaN         52   \n",
      "1       1  53.5  14076  14.3      247  1443052800        NaN         52   \n",
      "2       2  53.5  14077  14.3      247  1443052800        NaN         52   \n",
      "3       3  53.5  14078  14.3      247  1443052800        NaN         52   \n",
      "4       4  53.5  14079  14.3      247  1443052800        NaN         52   \n",
      "\n",
      "   bio_group  ac228_dl  ...  sr89  sr90  tc99  te129m  th228  th232  tl208  \\\n",
      "0          4       NaN  ...   NaN   NaN   NaN     NaN    NaN    NaN    NaN   \n",
      "1          4       NaN  ...   NaN   NaN   NaN     NaN    NaN    NaN    NaN   \n",
      "2          4       NaN  ...   NaN   NaN   NaN     NaN    NaN    NaN    NaN   \n",
      "3          4       NaN  ...   NaN   NaN   NaN     NaN    NaN    NaN    NaN   \n",
      "4          4       NaN  ...   NaN   NaN   NaN     NaN    NaN    NaN    NaN   \n",
      "\n",
      "   u235  zn65  zr95  \n",
      "0   NaN   NaN   NaN  \n",
      "1   NaN   NaN   NaN  \n",
      "2   NaN   NaN   NaN  \n",
      "3   NaN   NaN   NaN  \n",
      "4   NaN   NaN   NaN  \n",
      "\n",
      "[5 rows x 213 columns]\n",
      "                                                    seawater  sediment  biota\n",
      "Number of rows in dfs :                                20318     37347  14893\n",
      "Number of rows in tfm.dfs:                             20242     37089  14873\n",
      "Number of dropped rows:                                   76       258     20\n",
      "Number of rows in tfm.dfs + Number of dropped r...     20318     37347  14893 \n",
      "\n"
     ]
    }
   ],
   "source": [
    "#|eval: false\n",
    "dfs = load_data(fname_in)\n",
    "tfm = Transformer(dfs, cbs=[LowerStripRdnNameCB(),\n",
    "                            RemapRdnNameCB(),\n",
    "                            ParseTimeCB(),\n",
    "                            EncodeTimeCB(cfg()),                             \n",
    "                            NormalizeUncUnitCB(),\n",
    "                            LookupBiotaSpeciesCB(get_maris_species),\n",
    "                            LookupBiotaBodyPartCB(get_maris_bodypart), \n",
    "                            LookupBiogroupCB(partial(get_biogroup_lut, species_lut_path())),\n",
    "                            LookupSedimentCB(get_maris_sediments),\n",
    "                            LookupUnitCB(),\n",
    "                            LookupDetectionLimitCB(),\n",
    "                            RemapDataProviderSampleIdCB(),\n",
    "                            RemapStationIdCB(),\n",
    "                            RemapProfileIdCB(), \n",
    "                            RemapSedSliceTopBottomCB(),\n",
    "                            LookupDryWetRatio(),\n",
    "                            FormatCoordinates(coi_coordinates, ddmmmm2dddddd),\n",
    "                            SanitizeLonLatCB(),\n",
    "                            SanitizeValue(coi_val),\n",
    "                            SelectAndRenameColumnCB(get_renaming_rules_netcdf),\n",
    "                            ReshapeLongToWide(), \n",
    "                            CompareDfsAndTfm(dfs)\n",
    "\n",
    "                            ])\n",
    "\n",
    "print(tfm()['biota'].head())\n",
    "print(pd.DataFrame.from_dict(tfm.compare_stats) , '\\n')"
   ]
  },
  {
   "cell_type": "markdown",
   "id": "1c700a05",
   "metadata": {},
   "source": [
    "***"
   ]
  },
  {
   "attachments": {},
   "cell_type": "markdown",
   "id": "8ba0e40a",
   "metadata": {},
   "source": [
    "## NetCDF encoder"
   ]
  },
  {
   "cell_type": "markdown",
   "id": "21af7a47-0760-45bd-97f7-033bb7aa886e",
   "metadata": {},
   "source": [
    "### Example change logs"
   ]
  },
  {
   "cell_type": "code",
   "execution_count": null,
   "id": "75d1968d",
   "metadata": {},
   "outputs": [
    {
     "data": {
      "text/plain": [
       "['Convert nuclide names to lowercase & strip any trailing space(s)',\n",
       " 'Remap to MARIS radionuclide names.',\n",
       " 'Encode time as `int` representing seconds since xxx',\n",
       " 'Convert from relative error % to uncertainty of activity unit',\n",
       " '\\n    Biota species remapped to MARIS db:\\n        CARD EDU: Cerastoderma edule\\n        LAMI SAC: Saccharina latissima\\n        PSET MAX: Scophthalmus maximus\\n        STIZ LUC: Sander luciopercas\\n    ',\n",
       " \"\\n    Update bodypart id based on MARIS dbo_bodypar.xlsx:\\n        - 3: 'Whole animal eviscerated without head',\\n        - 12: 'Viscera',\\n        - 8: 'Skin'\\n    \",\n",
       " '\\n    Update biogroup id  based on MARIS dbo_species.xlsx\\n    ',\n",
       " \"\\n    Update sediment id  based on MARIS dbo_sedtype.xlsx\\n        -99: '(Not available)'\\n        - na: '(Not available)'\\n        - 56: '(Not available)'\\n        - 73: '(Not available)'\\n    \",\n",
       " 'Remap value type to MARIS format.',\n",
       " 'Remap key to MARIS data_provider_sample_id format.',\n",
       " 'Remap Station ID to MARIS format.',\n",
       " 'Remap Profile ID to MARIS format.',\n",
       " 'Remap Sediment slice top and bottom to MARIS format.',\n",
       " 'Lookup dry wet ratio and format for MARIS.',\n",
       " 'Format coordinates for MARIS.',\n",
       " 'Drop row when both longitude & latitude equal 0. Drop unrealistic longitude & latitude values. Convert longitude & latitude `,` separator to `.` separator.',\n",
       " 'Sanitize value. Remove blank entries.',\n",
       " 'Convert data from long to wide with renamed columns.']"
      ]
     },
     "execution_count": null,
     "metadata": {},
     "output_type": "execute_result"
    }
   ],
   "source": [
    "#|eval: false\n",
    "dfs = load_data(fname_in)\n",
    "tfm = Transformer(dfs, cbs=[LowerStripRdnNameCB(),\n",
    "                            RemapRdnNameCB(),\n",
    "                            ParseTimeCB(),\n",
    "                            EncodeTimeCB(cfg()),                             \n",
    "                            NormalizeUncUnitCB(),\n",
    "                            LookupBiotaSpeciesCB(get_maris_species),\n",
    "                            LookupBiotaBodyPartCB(get_maris_bodypart), \n",
    "                            LookupBiogroupCB(partial(get_biogroup_lut, species_lut_path())),\n",
    "                            LookupSedimentCB(get_maris_sediments),\n",
    "                            LookupUnitCB(),\n",
    "                            LookupDetectionLimitCB(),\n",
    "                            RemapDataProviderSampleIdCB(),\n",
    "                            RemapStationIdCB(),\n",
    "                            RemapProfileIdCB(), \n",
    "                            RemapSedSliceTopBottomCB(),\n",
    "                            LookupDryWetRatio(),\n",
    "                            FormatCoordinates(coi_coordinates, ddmmmm2dddddd),\n",
    "                            SanitizeLonLatCB(),\n",
    "                            SanitizeValue(coi_val),\n",
    "                            SelectAndRenameColumnCB(get_renaming_rules_netcdf),\n",
    "                            ReshapeLongToWide(), \n",
    "                            #CompareDfsAndTfm(dfs)\n",
    "                            ])\n",
    "\n",
    "# Transform\n",
    "tfm()\n",
    "# Check transformation logs\n",
    "tfm.logs"
   ]
  },
  {
   "attachments": {},
   "cell_type": "markdown",
   "id": "b82526cc",
   "metadata": {},
   "source": [
    "### Feed global attributes"
   ]
  },
  {
   "cell_type": "code",
   "execution_count": null,
   "id": "ac6ba4f8",
   "metadata": {},
   "outputs": [],
   "source": [
    "#| export\n",
    "kw = ['oceanography', 'Earth Science > Oceans > Ocean Chemistry> Radionuclides',\n",
    "      'Earth Science > Human Dimensions > Environmental Impacts > Nuclear Radiation Exposure',\n",
    "      'Earth Science > Oceans > Ocean Chemistry > Ocean Tracers, Earth Science > Oceans > Marine Sediments',\n",
    "      'Earth Science > Oceans > Ocean Chemistry, Earth Science > Oceans > Sea Ice > Isotopes',\n",
    "      'Earth Science > Oceans > Water Quality > Ocean Contaminants',\n",
    "      'Earth Science > Biological Classification > Animals/Vertebrates > Fish',\n",
    "      'Earth Science > Biosphere > Ecosystems > Marine Ecosystems',\n",
    "      'Earth Science > Biological Classification > Animals/Invertebrates > Mollusks',\n",
    "      'Earth Science > Biological Classification > Animals/Invertebrates > Arthropods > Crustaceans',\n",
    "      'Earth Science > Biological Classification > Plants > Macroalgae (Seaweeds)']\n"
   ]
  },
  {
   "cell_type": "code",
   "execution_count": null,
   "id": "f6aa393b",
   "metadata": {},
   "outputs": [],
   "source": [
    "#| export\n",
    "def get_attrs(tfm, zotero_key, kw=kw):\n",
    "    return GlobAttrsFeeder(tfm.dfs, cbs=[\n",
    "        BboxCB(),\n",
    "        DepthRangeCB(),\n",
    "        TimeRangeCB(cfg()),\n",
    "        ZoteroCB(zotero_key, cfg=cfg()),\n",
    "        KeyValuePairCB('keywords', ', '.join(kw)),\n",
    "        KeyValuePairCB('publisher_postprocess_logs', ', '.join(tfm.logs))\n",
    "        ])()"
   ]
  },
  {
   "cell_type": "code",
   "execution_count": null,
   "id": "c2e8aad3",
   "metadata": {},
   "outputs": [
    {
     "data": {
      "text/plain": [
       "{'geospatial_lat_min': '31.17',\n",
       " 'geospatial_lat_max': '65.75',\n",
       " 'geospatial_lon_min': '9.6333',\n",
       " 'geospatial_lon_max': '53.5',\n",
       " 'geospatial_bounds': 'POLYGON ((9.6333 53.5, 31.17 53.5, 31.17 65.75, 9.6333 65.75, 9.6333 53.5))',\n",
       " 'time_coverage_start': '1984-01-10T00:00:00',\n",
       " 'time_coverage_end': '2018-12-14T00:00:00',\n",
       " 'title': 'Environmental database - Helsinki Commission Monitoring of Radioactive Substances',\n",
       " 'summary': 'MORS Environment database has been used to collate data resulting from monitoring of environmental radioactivity in the Baltic Sea based on HELCOM Recommendation 26/3.\\n\\nThe database is structured according to HELCOM Guidelines on Monitoring of Radioactive Substances (https://www.helcom.fi/wp-content/uploads/2019/08/Guidelines-for-Monitoring-of-Radioactive-Substances.pdf), which specifies reporting format, database structure, data types and obligatory parameters used for reporting data under Recommendation 26/3.\\n\\nThe database is updated and quality assured annually by HELCOM MORS EG.',\n",
       " 'creator_name': '[{\"creatorType\": \"author\", \"name\": \"HELCOM MORS\"}]',\n",
       " 'keywords': 'oceanography, Earth Science > Oceans > Ocean Chemistry> Radionuclides, Earth Science > Human Dimensions > Environmental Impacts > Nuclear Radiation Exposure, Earth Science > Oceans > Ocean Chemistry > Ocean Tracers, Earth Science > Oceans > Marine Sediments, Earth Science > Oceans > Ocean Chemistry, Earth Science > Oceans > Sea Ice > Isotopes, Earth Science > Oceans > Water Quality > Ocean Contaminants, Earth Science > Biological Classification > Animals/Vertebrates > Fish, Earth Science > Biosphere > Ecosystems > Marine Ecosystems, Earth Science > Biological Classification > Animals/Invertebrates > Mollusks, Earth Science > Biological Classification > Animals/Invertebrates > Arthropods > Crustaceans, Earth Science > Biological Classification > Plants > Macroalgae (Seaweeds)',\n",
       " 'publisher_postprocess_logs': \"Convert nuclide names to lowercase & strip any trailing space(s), Remap to MARIS radionuclide names., Encode time as `int` representing seconds since xxx, Convert from relative error % to uncertainty of activity unit, \\n    Biota species remapped to MARIS db:\\n        CARD EDU: Cerastoderma edule\\n        LAMI SAC: Saccharina latissima\\n        PSET MAX: Scophthalmus maximus\\n        STIZ LUC: Sander luciopercas\\n    , \\n    Update bodypart id based on MARIS dbo_bodypar.xlsx:\\n        - 3: 'Whole animal eviscerated without head',\\n        - 12: 'Viscera',\\n        - 8: 'Skin'\\n    , \\n    Update biogroup id  based on MARIS dbo_species.xlsx\\n    , \\n    Update sediment id  based on MARIS dbo_sedtype.xlsx\\n        -99: '(Not available)'\\n        - na: '(Not available)'\\n        - 56: '(Not available)'\\n        - 73: '(Not available)'\\n    , Remap value type to MARIS format., Remap key to MARIS data_provider_sample_id format., Remap Station ID to MARIS format., Remap Profile ID to MARIS format., Remap Sediment slice top and bottom to MARIS format., Lookup dry wet ratio and format for MARIS., Format coordinates for MARIS., Drop row when both longitude & latitude equal 0. Drop unrealistic longitude & latitude values. Convert longitude & latitude `,` separator to `.` separator., Sanitize value. Remove blank entries., Convert data from long to wide with renamed columns.\"}"
      ]
     },
     "execution_count": null,
     "metadata": {},
     "output_type": "execute_result"
    }
   ],
   "source": [
    "#|eval: false\n",
    "get_attrs(tfm, zotero_key=zotero_key, kw=kw)"
   ]
  },
  {
   "cell_type": "code",
   "execution_count": null,
   "id": "471ebcce-b8c8-4963-8c1c-f32e820f51d7",
   "metadata": {},
   "outputs": [],
   "source": [
    "#| export\n",
    "def enums_xtra(tfm, vars):\n",
    "    \"Retrieve a subset of the lengthy enum as 'species_t' for instance\"\n",
    "    enums = Enums(lut_src_dir=lut_path(), cdl_enums=cdl_cfg()['enums'])\n",
    "    xtras = {}\n",
    "    for var in vars:\n",
    "        unique_vals = tfm.unique(var)\n",
    "        if unique_vals.any():\n",
    "            xtras[f'{var}_t'] = enums.filter(f'{var}_t', unique_vals)\n",
    "    return xtras"
   ]
  },
  {
   "cell_type": "markdown",
   "id": "5e109f56",
   "metadata": {},
   "source": [
    "### Encoding NETCDF"
   ]
  },
  {
   "cell_type": "code",
   "execution_count": null,
   "id": "1923236b-db58-4173-93ea-c416f5343eba",
   "metadata": {},
   "outputs": [],
   "source": [
    "#| export\n",
    "def encode(fname_in, fname_out_nc, nc_tpl_path, **kwargs):\n",
    "    dfs = load_data(fname_in)\n",
    "    tfm = Transformer(dfs, cbs=[LowerStripRdnNameCB(),\n",
    "                                RemapRdnNameCB(),\n",
    "                                ParseTimeCB(),\n",
    "                                EncodeTimeCB(cfg()),                             \n",
    "                                NormalizeUncUnitCB(),\n",
    "                                LookupBiotaSpeciesCB(get_maris_species),\n",
    "                                LookupBiotaBodyPartCB(get_maris_bodypart), \n",
    "                                LookupBiogroupCB(partial(get_biogroup_lut, species_lut_path())),\n",
    "                                LookupSedimentCB(get_maris_sediments),\n",
    "                                LookupUnitCB(),\n",
    "                                LookupDetectionLimitCB(),\n",
    "                                RemapDataProviderSampleIdCB(),\n",
    "                                RemapStationIdCB(),\n",
    "                                RemapProfileIdCB(), \n",
    "                                RemapSedSliceTopBottomCB(),\n",
    "                                LookupDryWetRatio(),\n",
    "                                FormatCoordinates(coi_coordinates, ddmmmm2dddddd),\n",
    "                                SanitizeLonLatCB(),\n",
    "                                SanitizeValue(coi_val),\n",
    "                                SelectAndRenameColumnCB(get_renaming_rules_netcdf),\n",
    "                                ReshapeLongToWide()\n",
    "                                ])\n",
    "    tfm()\n",
    "    encoder = NetCDFEncoder(tfm.dfs, \n",
    "                            src_fname=nc_tpl_path,\n",
    "                            dest_fname=fname_out_nc, \n",
    "                            global_attrs=get_attrs(tfm, zotero_key=zotero_key, kw=kw),\n",
    "                            verbose=kwargs.get('verbose', False),\n",
    "                            enums_xtra=enums_xtra(tfm, vars=['species', 'body_part'])\n",
    "                           )\n",
    "    encoder.encode()"
   ]
  },
  {
   "cell_type": "code",
   "execution_count": null,
   "id": "5fd973e4",
   "metadata": {},
   "outputs": [],
   "source": [
    "#|eval: false\n",
    "encode(fname_in, fname_out_nc, nc_tpl_path(), verbose=False)"
   ]
  },
  {
   "cell_type": "markdown",
   "id": "5ac622af",
   "metadata": {},
   "source": [
    "## Data transformation pipeline for Open Refine CSV. "
   ]
  },
  {
   "cell_type": "markdown",
   "id": "6d34324b",
   "metadata": {},
   "source": [
    "Data intended for the ``Open Refine`` format is first processed using several callbacks from the ``Data transformation pipeline for NetCDF``."
   ]
  },
  {
   "cell_type": "code",
   "execution_count": null,
   "id": "579a0c32",
   "metadata": {},
   "outputs": [
    {
     "name": "stdout",
     "output_type": "stream",
     "text": [
      "                                                    seawater  sediment  biota\n",
      "Number of rows in dfs :                                20318     37347  14893\n",
      "Number of rows in tfm.dfs:                             20242     37089  14873\n",
      "Number of dropped rows:                                   76       258     20\n",
      "Number of rows in tfm.dfs + Number of dropped r...     20318     37347  14893 \n",
      "\n",
      "Seawater cols: Index(['lat', 'lon', 'time', 'nuclide', '_unit', 'data_provider_station_id',\n",
      "       'data_provider_sample_id', 'profile_id', '_dl', 'value', '_unc',\n",
      "       'tot_depth', 'smp_depth', '_sal', '_temp', '_filt',\n",
      "       'Sampling start date', 'Sampling start time', 'Sample type', 'Nuclide',\n",
      "       'Latitude degrees', 'Latitude minutes', 'Latitude seconds',\n",
      "       'Latitude direction', 'Longitude degrees', 'Longitude minutes',\n",
      "       'Longitude seconds', 'Longitude direction', 'Unit', 'Value type'],\n",
      "      dtype='object')\n",
      "Sediment cols: Index(['lat', 'lon', 'time', 'nuclide', '_unit', 'data_provider_station_id',\n",
      "       'data_provider_sample_id', 'profile_id', '_dl', 'value', '_unc',\n",
      "       'tot_depth', 'sed_type', 'top', 'bottom', 'dry_wet_ratio',\n",
      "       'Sampling start date', 'Sampling start time', 'Sample type', 'Nuclide',\n",
      "       'Latitude degrees', 'Latitude minutes', 'Latitude seconds',\n",
      "       'Latitude direction', 'Longitude degrees', 'Longitude minutes',\n",
      "       'Longitude seconds', 'Longitude direction', 'Unit', 'Value type',\n",
      "       'Sediment type'],\n",
      "      dtype='object')\n",
      "Biota cols: Index(['lat', 'lon', 'time', 'nuclide', '_unit', 'data_provider_station_id',\n",
      "       'data_provider_sample_id', 'profile_id', '_dl', 'value', '_unc',\n",
      "       'species', 'body_part', 'bio_group', 'smp_depth', 'dry_wet_ratio',\n",
      "       'Sampling start date', 'Sampling start time', 'Sample type', 'Nuclide',\n",
      "       'Latitude degrees', 'Latitude minutes', 'Latitude seconds',\n",
      "       'Latitude direction', 'Longitude degrees', 'Longitude minutes',\n",
      "       'Longitude seconds', 'Longitude direction', 'Unit', 'Value type',\n",
      "       'Species', 'Body part'],\n",
      "      dtype='object')\n"
     ]
    }
   ],
   "source": [
    "#|eval: false\n",
    "dfs = load_data(fname_in)\n",
    "tfm = Transformer(dfs, cbs=[LowerStripRdnNameCB(),\n",
    "                            RemapRdnNameCB(),\n",
    "                            ParseTimeCB(),\n",
    "                            EncodeTimeCB(cfg()),                             \n",
    "                            NormalizeUncUnitCB(),\n",
    "                            LookupBiotaSpeciesCB(get_maris_species),\n",
    "                            LookupBiotaBodyPartCB(get_maris_bodypart), \n",
    "                            LookupBiogroupCB(partial(get_biogroup_lut, species_lut_path())),\n",
    "                            LookupSedimentCB(get_maris_sediments),\n",
    "                            LookupUnitCB(),\n",
    "                            LookupDetectionLimitCB(),\n",
    "                            RemapDataProviderSampleIdCB(),\n",
    "                            RemapStationIdCB(),\n",
    "                            RemapProfileIdCB(), \n",
    "                            RemapSedSliceTopBottomCB(),\n",
    "                            LookupDryWetRatio(),\n",
    "                            FormatCoordinates(coi_coordinates, ddmmmm2dddddd),\n",
    "                            SanitizeLonLatCB(),\n",
    "                            SanitizeValue(coi_val),\n",
    "                            SelectAndRenameColumnCB(get_renaming_rules_openrefine), \n",
    "                            LookupTimeFromEncodedTime(cfg()),\n",
    "                            GetSampleTypeCB(), \n",
    "                            LookupNuclideByIdCB(),\n",
    "                            ConvertLonLatCB(), \n",
    "                            LookupUnitByIdCB(), \n",
    "                            LookupValueTypeByIdCB(), \n",
    "                            LookupSpeciesByIdCB(),\n",
    "                            LookupBodypartByIdCB(), \n",
    "                            LookupSedimentTypeByIdCB(),\n",
    "                            CompareDfsAndTfm(dfs)\n",
    "                            ])\n",
    "\n",
    "tfm()\n",
    "print(pd.DataFrame.from_dict(tfm.compare_stats) , '\\n')\n",
    "print(f\"Seawater cols: {tfm.dfs['seawater'].columns}\")\n",
    "print(f\"Sediment cols: {tfm.dfs['sediment'].columns}\")\n",
    "print(f\"Biota cols: {tfm.dfs['biota'].columns}\")"
   ]
  },
  {
   "cell_type": "code",
   "execution_count": null,
   "id": "0d62d38a",
   "metadata": {},
   "outputs": [
    {
     "data": {
      "text/plain": [
       "Index(['lat', 'lon', 'time', 'nuclide', '_unit', 'data_provider_station_id',\n",
       "       'data_provider_sample_id', 'profile_id', '_dl', 'value', '_unc',\n",
       "       'tot_depth', 'sed_type', 'top', 'bottom', 'dry_wet_ratio',\n",
       "       'Sampling start date', 'Sampling start time', 'Sample type', 'Nuclide',\n",
       "       'Latitude degrees', 'Latitude minutes', 'Latitude seconds',\n",
       "       'Latitude direction', 'Longitude degrees', 'Longitude minutes',\n",
       "       'Longitude seconds', 'Longitude direction', 'Unit', 'Value type',\n",
       "       'Sediment type'],\n",
       "      dtype='object')"
      ]
     },
     "execution_count": null,
     "metadata": {},
     "output_type": "execute_result"
    }
   ],
   "source": [
    "tfm.dfs['sediment'].columns"
   ]
  },
  {
   "cell_type": "code",
   "execution_count": null,
   "id": "ccf83afa",
   "metadata": {},
   "outputs": [],
   "source": [
    "#| export` is a special comment tag that is often used in code documentation or code generation tools to indicate that the following code block should be exported or made available for external use. This can be useful for generating documentation, extracting specific parts of code for reuse, or for other automated processes that require specific code sections to be identified.\n",
    "#| export\n",
    "# Define columns of interest (keys) and renaming rules (values).\n",
    "def get_renaming_rules_netcdf2OpenRefine():\n",
    "    vars = cdl_cfg()['vars']\n",
    "    return {('seawater','biota', 'sediment') : {    \n",
    "                                                        ## DEFAULT\n",
    "                                                        'Sample type' : 'Sample type',\n",
    "                                                        'Latitude degrees' : 'Latitude degrees',\n",
    "                                                        'Latitude minutes' : 'Latitude minutes',\n",
    "                                                        'Latitude seconds' : 'Latitude seconds',\n",
    "                                                        'Latitude direction' : 'Latitude direction',\n",
    "                                                        'Longitude degrees' : 'Longitude degrees',\n",
    "                                                        'Longitude minutes' : 'Longitude minutes',\n",
    "                                                        'Longitude seconds' : 'Longitude seconds', \n",
    "                                                        'Longitude direction' : 'Longitude direction', \n",
    "                                                        vars['defaults']['lat']['name'] : 'Latitude decimal',\n",
    "                                                        vars['defaults']['lon']['name'] : 'Longitude decimal',\n",
    "                                                        'Sampling start date' : 'Sampling start date',\n",
    "                                                        'Sampling start time' : 'Sampling start time',\n",
    "                                                        'Nuclide' : 'Nuclide',\n",
    "                                                        'Value type': 'Value type',\n",
    "                                                        'Unit' : 'Unit',\n",
    "                                                        'value' : 'Activity or MDA',\n",
    "                                                        vars['suffixes']['uncertainty']['name'] : 'Uncertainty',\n",
    "                                                        'data_provider_station_id' : 'Station ID',\n",
    "                                                        vars['defaults']['data_provider_sample_id']['name'] :'Sample ID',\n",
    "                                                        'profile_id' : 'Profile or transect ID',                                                        \n",
    "                                                        #'Sampling method' : 'sampling_method'\n",
    "                                                        #'Preparation method' : 'preparation_method'\n",
    "                                                        #'Counting method' : 'counting_method'\n",
    "                                                        #'Sample notes' : 'sample_notes'\n",
    "                                                        #'Measurement notes' : 'measurement_notes'\n",
    "                                                    },\n",
    "                  ('seawater',) : {\n",
    "                                ## SEAWATER\n",
    "                                vars['defaults']['tot_depth']['name'] : 'Total depth',\n",
    "                                vars['defaults']['smp_depth']['name'] : 'Sampling depth' ,\n",
    "                                vars['suffixes']['salinity']['name'] : 'Salinity',\n",
    "                                vars['suffixes']['temperature']['name'] : 'Temperature',\n",
    "                                vars['suffixes']['filtered']['name'] : 'Filtered'\n",
    "                                },\n",
    "                  ('biota',) : { \n",
    "                                ## BIOTA\n",
    "                                'Species' : 'Species',\n",
    "                                'Body part' : 'Body part',\n",
    "                                #'bio_group' : vars['bio']['bio_group']['name'],\n",
    "                                #'SDEPTH' : vars['defaults']['smp_depth']['name'],\n",
    "                                'dry_wet_ratio' : 'Dry/wet ratio'\n",
    "                                #'Drying Method' : drying_method\n",
    "                                \n",
    "                                },\n",
    "                  ('sediment',) : {\n",
    "                                ## SEDIMENT\n",
    "                                vars['defaults']['tot_depth']['name'] : 'Total depth',\n",
    "                                'Sediment type' : 'Sediment type',\n",
    "                                'top' : 'Top',\n",
    "                                'bottom' : 'Bottom', \n",
    "                                'dry_wet_ratio' : 'Dry/wet ratio'\n",
    "                                #'Drying Method' : drying_method\n",
    "                                }\n",
    "                    }"
   ]
  },
  {
   "cell_type": "code",
   "execution_count": null,
   "id": "890e8b7e",
   "metadata": {},
   "outputs": [
    {
     "name": "stdout",
     "output_type": "stream",
     "text": [
      "                                                    seawater  sediment  biota\n",
      "Number of rows in dfs :                                20318     37347  14893\n",
      "Number of rows in tfm.dfs:                             20242     37089  14873\n",
      "Number of dropped rows:                                   76       258     20\n",
      "Number of rows in tfm.dfs + Number of dropped r...     20318     37347  14893 \n",
      "\n",
      "Seawater cols: Index(['Sample type', 'Latitude degrees', 'Latitude minutes',\n",
      "       'Latitude seconds', 'Latitude direction', 'Longitude degrees',\n",
      "       'Longitude minutes', 'Longitude seconds', 'Longitude direction',\n",
      "       'Latitude decimal', 'Longitude decimal', 'Sampling start date',\n",
      "       'Sampling start time', 'Nuclide', 'Value type', 'Unit',\n",
      "       'Activity or MDA', 'Uncertainty', 'Station ID', 'Sample ID',\n",
      "       'Profile or transect ID', 'Total depth', 'Sampling depth', 'Salinity',\n",
      "       'Temperature', 'Filtered'],\n",
      "      dtype='object')\n",
      "Sediment cols: Index(['Sample type', 'Latitude degrees', 'Latitude minutes',\n",
      "       'Latitude seconds', 'Latitude direction', 'Longitude degrees',\n",
      "       'Longitude minutes', 'Longitude seconds', 'Longitude direction',\n",
      "       'Latitude decimal', 'Longitude decimal', 'Sampling start date',\n",
      "       'Sampling start time', 'Nuclide', 'Value type', 'Unit',\n",
      "       'Activity or MDA', 'Uncertainty', 'Station ID', 'Sample ID',\n",
      "       'Profile or transect ID', 'Total depth', 'Sediment type', 'Top',\n",
      "       'Bottom', 'Dry/wet ratio'],\n",
      "      dtype='object')\n",
      "Biota cols: Index(['Sample type', 'Latitude degrees', 'Latitude minutes',\n",
      "       'Latitude seconds', 'Latitude direction', 'Longitude degrees',\n",
      "       'Longitude minutes', 'Longitude seconds', 'Longitude direction',\n",
      "       'Latitude decimal', 'Longitude decimal', 'Sampling start date',\n",
      "       'Sampling start time', 'Nuclide', 'Value type', 'Unit',\n",
      "       'Activity or MDA', 'Uncertainty', 'Station ID', 'Sample ID',\n",
      "       'Profile or transect ID', 'Species', 'Body part', 'Dry/wet ratio'],\n",
      "      dtype='object')\n"
     ]
    }
   ],
   "source": [
    "#|eval: false\n",
    "dfs = load_data(fname_in)\n",
    "tfm = Transformer(dfs, cbs=[LowerStripRdnNameCB(),\n",
    "                            RemapRdnNameCB(),\n",
    "                            ParseTimeCB(),\n",
    "                            EncodeTimeCB(cfg()),                             \n",
    "                            NormalizeUncUnitCB(),\n",
    "                            LookupBiotaSpeciesCB(get_maris_species),\n",
    "                            LookupBiotaBodyPartCB(get_maris_bodypart), \n",
    "                            LookupBiogroupCB(partial(get_biogroup_lut, species_lut_path())),\n",
    "                            LookupSedimentCB(get_maris_sediments),\n",
    "                            LookupUnitCB(),\n",
    "                            LookupDetectionLimitCB(),\n",
    "                            RemapDataProviderSampleIdCB(),\n",
    "                            RemapStationIdCB(),\n",
    "                            RemapProfileIdCB(), \n",
    "                            RemapSedSliceTopBottomCB(),\n",
    "                            LookupDryWetRatio(),\n",
    "                            FormatCoordinates(coi_coordinates, ddmmmm2dddddd),\n",
    "                            SanitizeValue(coi_val),\n",
    "                            SanitizeLonLatCB(),\n",
    "                            SelectAndRenameColumnCB(get_renaming_rules_openrefine), \n",
    "                            LookupTimeFromEncodedTime(cfg()),\n",
    "                            GetSampleTypeCB(), \n",
    "                            LookupNuclideByIdCB(),\n",
    "                            ConvertLonLatCB(), \n",
    "                            LookupUnitByIdCB(), \n",
    "                            LookupValueTypeByIdCB(), \n",
    "                            LookupSpeciesByIdCB(),\n",
    "                            LookupBodypartByIdCB(), \n",
    "                            LookupSedimentTypeByIdCB(),\n",
    "                            CompareDfsAndTfm(dfs), \n",
    "                            SelectAndRenameColumnCB(get_renaming_rules_netcdf2OpenRefine)\n",
    "                            ])\n",
    "\n",
    "tfm()\n",
    "print(pd.DataFrame.from_dict(tfm.compare_stats) , '\\n')\n",
    "print(f\"Seawater cols: {tfm.dfs['seawater'].columns}\")\n",
    "print(f\"Sediment cols: {tfm.dfs['sediment'].columns}\")\n",
    "print(f\"Biota cols: {tfm.dfs['biota'].columns}\")"
   ]
  },
  {
   "cell_type": "markdown",
   "id": "853f90bf",
   "metadata": {},
   "source": [
    "### Encoding Open Refine CSV"
   ]
  },
  {
   "cell_type": "code",
   "execution_count": null,
   "id": "5b7d12e5",
   "metadata": {},
   "outputs": [],
   "source": [
    "seawater_review=tfm.dfs['seawater']\n",
    "biota_review=tfm.dfs['biota']\n",
    "sediment_review=tfm.dfs['sediment']"
   ]
  },
  {
   "cell_type": "code",
   "execution_count": null,
   "id": "7a5de3e7",
   "metadata": {},
   "outputs": [],
   "source": [
    "#| export\n",
    "def encode_open_refine_csv(fname_in, fname_out, ref_id=-1, **kwargs):\n",
    "    dfs = load_data(fname_in)\n",
    "    tfm = Transformer(dfs, cbs=[LowerStripRdnNameCB(),\n",
    "                                RemapRdnNameCB(),\n",
    "                                ParseTimeCB(),\n",
    "                                EncodeTimeCB(cfg()),                             \n",
    "                                NormalizeUncUnitCB(),\n",
    "                                LookupBiotaSpeciesCB(get_maris_species),\n",
    "                                LookupBiotaBodyPartCB(get_maris_bodypart), \n",
    "                                LookupBiogroupCB(partial(get_biogroup_lut, species_lut_path())),\n",
    "                                LookupSedimentCB(get_maris_sediments),\n",
    "                                LookupUnitCB(),\n",
    "                                LookupDetectionLimitCB(),\n",
    "                                RemapDataProviderSampleIdCB(),\n",
    "                                RemapStationIdCB(),\n",
    "                                RemapProfileIdCB(), \n",
    "                                RemapSedSliceTopBottomCB(),\n",
    "                                LookupDryWetRatio(),\n",
    "                                FormatCoordinates(coi_coordinates, ddmmmm2dddddd),\n",
    "                                SanitizeLonLatCB(),\n",
    "                                SanitizeValue(coi_val),\n",
    "                                SelectAndRenameColumnCB(get_renaming_rules_openrefine), \n",
    "                                LookupTimeFromEncodedTime(cfg()),\n",
    "                                GetSampleTypeCB(), \n",
    "                                LookupNuclideByIdCB(),\n",
    "                                ConvertLonLatCB(), \n",
    "                                LookupUnitByIdCB(), \n",
    "                                LookupValueTypeByIdCB(), \n",
    "                                LookupSpeciesByIdCB(),\n",
    "                                LookupBodypartByIdCB(), \n",
    "                                LookupSedimentTypeByIdCB(),\n",
    "                                SelectAndRenameColumnCB(get_renaming_rules_netcdf2OpenRefine)\n",
    "                                ])\n",
    "    \n",
    "    encoder = OpenRefineCsvEncoder(tfm(), \n",
    "                            dest_fname=fname_out,\n",
    "                            ref_id = ref_id,\n",
    "                            **kwargs)\n",
    "    encoder.encode()"
   ]
  },
  {
   "cell_type": "code",
   "execution_count": null,
   "id": "83073a04",
   "metadata": {},
   "outputs": [],
   "source": [
    "encode_open_refine_csv(fname_in, fname_out_csv, ref_id, verbose=False)"
   ]
  },
  {
   "cell_type": "markdown",
   "id": "33549327",
   "metadata": {},
   "source": [
    "## TODO"
   ]
  },
  {
   "cell_type": "markdown",
   "id": "1a206afa",
   "metadata": {},
   "source": [
    "TODO: Include FILT for NetCDF"
   ]
  },
  {
   "cell_type": "markdown",
   "id": "4a0be1f5",
   "metadata": {},
   "source": [
    "TODO : Do we want to include laboratory code in NetCDF?"
   ]
  },
  {
   "cell_type": "markdown",
   "id": "fc44bf97",
   "metadata": {},
   "source": [
    "TODO: Check sediment 'DW%' data that is less than 1%. Is this realistic? Check the 'DW%' data that is 0%. Run below before SelectAndRenameColumnCB. "
   ]
  },
  {
   "cell_type": "code",
   "execution_count": null,
   "id": "002712da",
   "metadata": {},
   "outputs": [
    {
     "data": {
      "text/plain": [
       "{'seawater':                 KEY NUCLIDE  METHOD < VALUE_Bq/m³  VALUE_Bq/m³  ERROR%_m³  \\\n",
       " 0      WKRIL2012003   cs137     NaN           NaN          5.3     1.6960   \n",
       " 1      WKRIL2012004   cs137     NaN           NaN         19.9     3.9800   \n",
       " 2      WKRIL2012005   cs137     NaN           NaN         25.5     5.1000   \n",
       " 3      WKRIL2012006   cs137     NaN           NaN         17.0     4.9300   \n",
       " 4      WKRIL2012007   cs137     NaN           NaN         22.2     3.9960   \n",
       " ...             ...     ...     ...           ...          ...        ...   \n",
       " 20313  WDHIG2015227    sr90  DHIG02           NaN          6.6     0.4950   \n",
       " 20314  WDHIG2015237    sr90  DHIG02           NaN          6.9     0.5175   \n",
       " 20315  WDHIG2015239    sr90  DHIG02           NaN          6.8     0.5100   \n",
       " 20316  WDHIG2015255    sr90  DHIG02           NaN          7.3     0.5475   \n",
       " 20317  WDHIG2015256    sr90  DHIG02           NaN          5.5     0.4180   \n",
       " \n",
       "          DATE_OF_ENTRY_x  COUNTRY LABORATORY  SEQUENCE  ... HELCOM_SUBBASIN  \\\n",
       " 0      08/20/14 00:00:00       90       KRIL   2012003  ...              11   \n",
       " 1      08/20/14 00:00:00       90       KRIL   2012004  ...              11   \n",
       " 2      08/20/14 00:00:00       90       KRIL   2012005  ...               3   \n",
       " 3      08/20/14 00:00:00       90       KRIL   2012006  ...              11   \n",
       " 4      08/20/14 00:00:00       90       KRIL   2012007  ...              11   \n",
       " ...                  ...      ...        ...       ...  ...             ...   \n",
       " 20313  11/22/16 00:00:00        6       DHIG   2015227  ...               6   \n",
       " 20314  11/22/16 00:00:00        6       DHIG   2015237  ...               6   \n",
       " 20315  11/22/16 00:00:00        6       DHIG   2015239  ...               2   \n",
       " 20316  11/22/16 00:00:00        6       DHIG   2015255  ...               2   \n",
       " 20317  11/22/16 00:00:00        6       DHIG   2015256  ...               2   \n",
       " \n",
       "          DATE_OF_ENTRY_y        time  unit detection_limit  \\\n",
       " 0      08/20/14 00:00:00  1337731200     1               1   \n",
       " 1      08/20/14 00:00:00  1337731200     1               1   \n",
       " 2      08/20/14 00:00:00  1339891200     1               1   \n",
       " 3      08/20/14 00:00:00  1337817600     1               1   \n",
       " 4      08/20/14 00:00:00  1337817600     1               1   \n",
       " ...                  ...         ...   ...             ...   \n",
       " 20313  11/22/16 00:00:00  1434931200     1               1   \n",
       " 20314  11/22/16 00:00:00  1435017600     1               1   \n",
       " 20315  11/22/16 00:00:00  1435017600     1               1   \n",
       " 20316  11/22/16 00:00:00  1435104000     1               1   \n",
       " 20317  11/22/16 00:00:00  1435104000     1               1   \n",
       " \n",
       "        data_provider_sample_id  station_id  profile_or_transect_id      lon  \\\n",
       " 0                 WKRIL2012003        RU10                 2012003  29.3333   \n",
       " 1                 WKRIL2012004        RU10                 2012004  29.3333   \n",
       " 2                 WKRIL2012005        RU11                 2012005  23.1500   \n",
       " 3                 WKRIL2012006        RU19                 2012006  27.9833   \n",
       " 4                 WKRIL2012007        RU19                 2012007  27.9833   \n",
       " ...                        ...         ...                     ...      ...   \n",
       " 20313             WDHIG2015227        ODER                 2015227  14.2000   \n",
       " 20314             WDHIG2015237       OBANK                 2015237  14.6672   \n",
       " 20315             WDHIG2015239      ADLERG                 2015239  14.3342   \n",
       " 20316             WDHIG2015255       ARKO2                 2015255  13.5002   \n",
       " 20317             WDHIG2015256       ARKO2                 2015256  13.5002   \n",
       " \n",
       "            lat  \n",
       " 0      60.0833  \n",
       " 1      60.0833  \n",
       " 2      59.4333  \n",
       " 3      60.2500  \n",
       " 4      60.2500  \n",
       " ...        ...  \n",
       " 20313  54.0068  \n",
       " 20314  54.4995  \n",
       " 20315  54.7505  \n",
       " 20316  54.9165  \n",
       " 20317  54.9165  \n",
       " \n",
       " [20242 rows x 35 columns],\n",
       " 'sediment':                 KEY NUCLIDE  METHOD < VALUE_Bq/kg  VALUE_Bq/kg  ERROR%_kg  \\\n",
       " 0      SKRIL2012048   ra226     NaN           NaN        35.00      9.100   \n",
       " 1      SKRIL2012049   ra226     NaN           NaN        36.00      7.920   \n",
       " 2      SKRIL2012050   ra226     NaN           NaN        38.00      9.120   \n",
       " 3      SKRIL2012051   ra226     NaN           NaN        36.00      9.000   \n",
       " 4      SKRIL2012052   ra226     NaN           NaN        30.00      6.900   \n",
       " ...             ...     ...     ...           ...          ...        ...   \n",
       " 37342  SSTUK2016044   cs137  STUK01           NaN         1.20      0.144   \n",
       " 37343  SSTUK2016045   cs137  STUK01           NaN         0.79      0.158   \n",
       " 37344  SSTUK2016050   cs137  STUK01           NaN       512.00     56.320   \n",
       " 37345  SSTUK2016051   cs137  STUK01           NaN       527.00     33.201   \n",
       " 37346  SSTUK2016052   cs137  STUK01           NaN       684.00     34.200   \n",
       " \n",
       "       < VALUE_Bq/m²  VALUE_Bq/m²  ERROR%_m²    DATE_OF_ENTRY_x  ...  unit  \\\n",
       " 0               NaN          NaN        NaN  08/20/14 00:00:00  ...     4   \n",
       " 1               NaN          NaN        NaN  08/20/14 00:00:00  ...     4   \n",
       " 2               NaN          NaN        NaN  08/20/14 00:00:00  ...     4   \n",
       " 3               NaN          NaN        NaN  08/20/14 00:00:00  ...     4   \n",
       " 4               NaN          NaN        NaN  08/20/14 00:00:00  ...     4   \n",
       " ...             ...          ...        ...                ...  ...   ...   \n",
       " 37342           NaN     8.916443       15.0                NaN  ...     4   \n",
       " 37343           NaN     5.992930       23.0                NaN  ...     4   \n",
       " 37344           NaN  2164.945699       14.0                NaN  ...     4   \n",
       " 37345           NaN  2523.279045        9.3                NaN  ...     4   \n",
       " 37346           NaN  3929.780107        8.0                NaN  ...     4   \n",
       " \n",
       "       detection_limit  data_provider_sample_id station_id  \\\n",
       " 0                   1             SKRIL2012048       RU25   \n",
       " 1                   1             SKRIL2012049       RU25   \n",
       " 2                   1             SKRIL2012050       RU28   \n",
       " 3                   1             SKRIL2012051       RU28   \n",
       " 4                   1             SKRIL2012052       RU28   \n",
       " ...               ...                      ...        ...   \n",
       " 37342               1             SSTUK2016044       LL17   \n",
       " 37343               1             SSTUK2016045       LL17   \n",
       " 37344               1             SSTUK2016050        EB1   \n",
       " 37345               1             SSTUK2016051        EB1   \n",
       " 37346               1             SSTUK2016052        EB1   \n",
       " \n",
       "        profile_or_transect_id  bottom   top dry_wet_ratio      lon      lat  \n",
       " 0                   2012048.0    20.0  15.0           NaN  24.0000  59.6667  \n",
       " 1                   2012049.0    27.0  20.0           NaN  24.0000  59.6667  \n",
       " 2                   2012050.0     2.0   0.0           NaN  28.8433  59.8600  \n",
       " 3                   2012051.0     4.0   2.0           NaN  28.8433  59.8600  \n",
       " 4                   2012052.0     6.0   4.0           NaN  28.8433  59.8600  \n",
       " ...                       ...     ...   ...           ...      ...      ...  \n",
       " 37342               2016044.0    20.0  18.0           NaN  21.0830  59.0360  \n",
       " 37343               2016045.0    22.0  20.0           NaN  21.0830  59.0360  \n",
       " 37344               2016050.0     2.0   0.0           NaN  19.7297  61.0667  \n",
       " 37345               2016051.0     4.0   2.0           NaN  19.7297  61.0667  \n",
       " 37346               2016052.0     6.0   4.0           NaN  19.7297  61.0667  \n",
       " \n",
       " [37089 rows x 47 columns],\n",
       " 'biota':                 KEY NUCLIDE  METHOD < VALUE_Bq/kg  VALUE_Bq/kg BASIS  \\\n",
       " 0      BVTIG2012041   cs134  VTIG01             <     0.010140     W   \n",
       " 1      BVTIG2012041     k40  VTIG01                 135.300000     W   \n",
       " 2      BVTIG2012041    co60  VTIG01             <     0.013980     W   \n",
       " 3      BVTIG2012041   cs137  VTIG01                   4.338000     W   \n",
       " 4      BVTIG2012040   cs134  VTIG01             <     0.009614     W   \n",
       " ...             ...     ...     ...           ...          ...   ...   \n",
       " 14888  BCLOR2018021   ra226  CLOR06           NaN     0.043000     W   \n",
       " 14889  BCLOR2018022     k40  CLOR01           NaN    98.000000     W   \n",
       " 14890  BCLOR2018022   cs137  CLOR01           NaN     3.690000     W   \n",
       " 14891  BCLOR2018022   ra226  CLOR06           NaN     0.049000     W   \n",
       " 14892  BIMGW2018011   cs137  IMGW03           NaN     0.830000     W   \n",
       " \n",
       "          ERROR%  NUMBER    DATE_OF_ENTRY_x  COUNTRY  ... body_part  bio_group  \\\n",
       " 0           NaN     NaN  02/27/14 00:00:00      6.0  ...        52          4   \n",
       " 1      4.830210     NaN  02/27/14 00:00:00      6.0  ...        52          4   \n",
       " 2           NaN     NaN  02/27/14 00:00:00      6.0  ...        52          4   \n",
       " 3      0.150962     NaN  02/27/14 00:00:00      6.0  ...        52          4   \n",
       " 4           NaN     NaN  02/27/14 00:00:00      6.0  ...        52          4   \n",
       " ...         ...     ...                ...      ...  ...       ...        ...   \n",
       " 14888  0.011008     NaN  03/30/20 00:00:00     67.0  ...         3          4   \n",
       " 14889  1.097600     NaN  03/30/20 00:00:00     67.0  ...        52          4   \n",
       " 14890  0.078597     NaN  03/30/20 00:00:00     67.0  ...        52          4   \n",
       " 14891  0.007007     NaN  03/30/20 00:00:00     67.0  ...        52          4   \n",
       " 14892  0.229993     NaN  04/30/20 00:00:00     67.0  ...        52          4   \n",
       " \n",
       "       unit  detection_limit  data_provider_sample_id  station_id  \\\n",
       " 0        5                2             BVTIG2012041        SD24   \n",
       " 1        5                1             BVTIG2012041        SD24   \n",
       " 2        5                2             BVTIG2012041        SD24   \n",
       " 3        5                1             BVTIG2012041        SD24   \n",
       " 4        5                2             BVTIG2012040        SD24   \n",
       " ...    ...              ...                      ...         ...   \n",
       " 14888    5                1             BCLOR2018021         PL1   \n",
       " 14889    5                1             BCLOR2018022         PL4   \n",
       " 14890    5                1             BCLOR2018022         PL4   \n",
       " 14891    5                1             BCLOR2018022         PL4   \n",
       " 14892    5                1             BIMGW2018011        LZWI   \n",
       " \n",
       "       profile_or_transect_id  dry_wet_ratio        lon        lat  \n",
       " 0                    2012041         18.453  12.316667  54.283333  \n",
       " 1                    2012041         18.453  12.316667  54.283333  \n",
       " 2                    2012041         18.453  12.316667  54.283333  \n",
       " 3                    2012041         18.453  12.316667  54.283333  \n",
       " 4                    2012040         18.458  12.316667  54.283333  \n",
       " ...                      ...            ...        ...        ...  \n",
       " 14888                2018021         24.000  19.000000  54.583300  \n",
       " 14889                2018022         22.500  15.500000  54.333300  \n",
       " 14890                2018022         22.500  15.500000  54.333300  \n",
       " 14891                2018022         22.500  15.500000  54.333300  \n",
       " 14892                2018001            NaN  19.433300  54.363900  \n",
       " \n",
       " [14873 rows x 45 columns]}"
      ]
     },
     "execution_count": null,
     "metadata": {},
     "output_type": "execute_result"
    }
   ],
   "source": [
    "dfs = load_data(fname_in)\n",
    "tfm = Transformer(dfs, cbs=[LowerStripRdnNameCB(),\n",
    "                            RemapRdnNameCB(),\n",
    "                            ParseTimeCB(),\n",
    "                            EncodeTimeCB(cfg()),                             \n",
    "                            NormalizeUncUnitCB(),\n",
    "                            LookupBiotaSpeciesCB(get_maris_species),\n",
    "                            LookupBiotaBodyPartCB(get_maris_bodypart), \n",
    "                            LookupBiogroupCB(partial(get_biogroup_lut, species_lut_path())),\n",
    "                            LookupSedimentCB(get_maris_sediments),\n",
    "                            LookupUnitCB(),\n",
    "                            LookupDetectionLimitCB(),\n",
    "                            RemapDataProviderSampleIdCB(),\n",
    "                            RemapStationIdCB(),\n",
    "                            RemapProfileIdCB(), \n",
    "                            RemapSedSliceTopBottomCB(),\n",
    "                            LookupDryWetRatio(),\n",
    "                            FormatCoordinates(coi_coordinates, ddmmmm2dddddd),\n",
    "                            SanitizeLonLatCB(),\n",
    "                            SanitizeValue(coi_val)\n",
    "                            ])\n",
    "tfm()"
   ]
  },
  {
   "cell_type": "code",
   "execution_count": null,
   "id": "de551778",
   "metadata": {},
   "outputs": [],
   "source": [
    "grp='sediment'\n",
    "check_data_sediment=tfm.dfs[grp][(tfm.dfs[grp]['DW%'] < 1) & (tfm.dfs[grp]['DW%'] > 0.001) ]\n",
    "#check_data_sediment"
   ]
  },
  {
   "cell_type": "code",
   "execution_count": null,
   "id": "3fe533d7",
   "metadata": {},
   "outputs": [
    {
     "data": {
      "text/html": [
       "<div>\n",
       "<style scoped>\n",
       "    .dataframe tbody tr th:only-of-type {\n",
       "        vertical-align: middle;\n",
       "    }\n",
       "\n",
       "    .dataframe tbody tr th {\n",
       "        vertical-align: top;\n",
       "    }\n",
       "\n",
       "    .dataframe thead th {\n",
       "        text-align: right;\n",
       "    }\n",
       "</style>\n",
       "<table border=\"1\" class=\"dataframe\">\n",
       "  <thead>\n",
       "    <tr style=\"text-align: right;\">\n",
       "      <th></th>\n",
       "      <th>KEY</th>\n",
       "      <th>NUCLIDE</th>\n",
       "      <th>METHOD</th>\n",
       "      <th>&lt; VALUE_Bq/kg</th>\n",
       "      <th>VALUE_Bq/kg</th>\n",
       "      <th>ERROR%_kg</th>\n",
       "      <th>&lt; VALUE_Bq/m²</th>\n",
       "      <th>VALUE_Bq/m²</th>\n",
       "      <th>ERROR%_m²</th>\n",
       "      <th>DATE_OF_ENTRY_x</th>\n",
       "      <th>...</th>\n",
       "      <th>unit</th>\n",
       "      <th>detection_limit</th>\n",
       "      <th>data_provider_sample_id</th>\n",
       "      <th>station_id</th>\n",
       "      <th>profile_or_transect_id</th>\n",
       "      <th>bottom</th>\n",
       "      <th>top</th>\n",
       "      <th>dry_wet_ratio</th>\n",
       "      <th>lon</th>\n",
       "      <th>lat</th>\n",
       "    </tr>\n",
       "  </thead>\n",
       "  <tbody>\n",
       "    <tr>\n",
       "      <th>9824</th>\n",
       "      <td>SERPC1997001</td>\n",
       "      <td>cs134</td>\n",
       "      <td>NaN</td>\n",
       "      <td>NaN</td>\n",
       "      <td>3.80</td>\n",
       "      <td>0.7600</td>\n",
       "      <td>NaN</td>\n",
       "      <td>5.75</td>\n",
       "      <td>NaN</td>\n",
       "      <td>NaN</td>\n",
       "      <td>...</td>\n",
       "      <td>4</td>\n",
       "      <td>1</td>\n",
       "      <td>SERPC1997001</td>\n",
       "      <td>EE17</td>\n",
       "      <td>1997001.0</td>\n",
       "      <td>2.0</td>\n",
       "      <td>0.0</td>\n",
       "      <td>NaN</td>\n",
       "      <td>25.0167</td>\n",
       "      <td>59.7167</td>\n",
       "    </tr>\n",
       "    <tr>\n",
       "      <th>9825</th>\n",
       "      <td>SERPC1997001</td>\n",
       "      <td>cs137</td>\n",
       "      <td>NaN</td>\n",
       "      <td>NaN</td>\n",
       "      <td>389.00</td>\n",
       "      <td>15.5600</td>\n",
       "      <td>NaN</td>\n",
       "      <td>589.00</td>\n",
       "      <td>NaN</td>\n",
       "      <td>NaN</td>\n",
       "      <td>...</td>\n",
       "      <td>4</td>\n",
       "      <td>1</td>\n",
       "      <td>SERPC1997001</td>\n",
       "      <td>EE17</td>\n",
       "      <td>1997001.0</td>\n",
       "      <td>2.0</td>\n",
       "      <td>0.0</td>\n",
       "      <td>NaN</td>\n",
       "      <td>25.0167</td>\n",
       "      <td>59.7167</td>\n",
       "    </tr>\n",
       "    <tr>\n",
       "      <th>9826</th>\n",
       "      <td>SERPC1997002</td>\n",
       "      <td>cs134</td>\n",
       "      <td>NaN</td>\n",
       "      <td>NaN</td>\n",
       "      <td>4.78</td>\n",
       "      <td>0.6214</td>\n",
       "      <td>NaN</td>\n",
       "      <td>12.00</td>\n",
       "      <td>NaN</td>\n",
       "      <td>NaN</td>\n",
       "      <td>...</td>\n",
       "      <td>4</td>\n",
       "      <td>1</td>\n",
       "      <td>SERPC1997002</td>\n",
       "      <td>EE17</td>\n",
       "      <td>1997002.0</td>\n",
       "      <td>4.0</td>\n",
       "      <td>2.0</td>\n",
       "      <td>NaN</td>\n",
       "      <td>25.0167</td>\n",
       "      <td>59.7167</td>\n",
       "    </tr>\n",
       "    <tr>\n",
       "      <th>9827</th>\n",
       "      <td>SERPC1997002</td>\n",
       "      <td>cs137</td>\n",
       "      <td>NaN</td>\n",
       "      <td>NaN</td>\n",
       "      <td>420.00</td>\n",
       "      <td>16.8000</td>\n",
       "      <td>NaN</td>\n",
       "      <td>1060.00</td>\n",
       "      <td>NaN</td>\n",
       "      <td>NaN</td>\n",
       "      <td>...</td>\n",
       "      <td>4</td>\n",
       "      <td>1</td>\n",
       "      <td>SERPC1997002</td>\n",
       "      <td>EE17</td>\n",
       "      <td>1997002.0</td>\n",
       "      <td>4.0</td>\n",
       "      <td>2.0</td>\n",
       "      <td>NaN</td>\n",
       "      <td>25.0167</td>\n",
       "      <td>59.7167</td>\n",
       "    </tr>\n",
       "    <tr>\n",
       "      <th>9828</th>\n",
       "      <td>SERPC1997003</td>\n",
       "      <td>cs134</td>\n",
       "      <td>NaN</td>\n",
       "      <td>NaN</td>\n",
       "      <td>3.12</td>\n",
       "      <td>0.5304</td>\n",
       "      <td>NaN</td>\n",
       "      <td>12.00</td>\n",
       "      <td>NaN</td>\n",
       "      <td>NaN</td>\n",
       "      <td>...</td>\n",
       "      <td>4</td>\n",
       "      <td>1</td>\n",
       "      <td>SERPC1997003</td>\n",
       "      <td>EE17</td>\n",
       "      <td>1997003.0</td>\n",
       "      <td>6.0</td>\n",
       "      <td>4.0</td>\n",
       "      <td>NaN</td>\n",
       "      <td>25.0167</td>\n",
       "      <td>59.7167</td>\n",
       "    </tr>\n",
       "    <tr>\n",
       "      <th>...</th>\n",
       "      <td>...</td>\n",
       "      <td>...</td>\n",
       "      <td>...</td>\n",
       "      <td>...</td>\n",
       "      <td>...</td>\n",
       "      <td>...</td>\n",
       "      <td>...</td>\n",
       "      <td>...</td>\n",
       "      <td>...</td>\n",
       "      <td>...</td>\n",
       "      <td>...</td>\n",
       "      <td>...</td>\n",
       "      <td>...</td>\n",
       "      <td>...</td>\n",
       "      <td>...</td>\n",
       "      <td>...</td>\n",
       "      <td>...</td>\n",
       "      <td>...</td>\n",
       "      <td>...</td>\n",
       "      <td>...</td>\n",
       "      <td>...</td>\n",
       "    </tr>\n",
       "    <tr>\n",
       "      <th>15257</th>\n",
       "      <td>SKRIL1999062</td>\n",
       "      <td>th228</td>\n",
       "      <td>1</td>\n",
       "      <td>NaN</td>\n",
       "      <td>68.00</td>\n",
       "      <td>NaN</td>\n",
       "      <td>NaN</td>\n",
       "      <td>NaN</td>\n",
       "      <td>NaN</td>\n",
       "      <td>NaN</td>\n",
       "      <td>...</td>\n",
       "      <td>4</td>\n",
       "      <td>0</td>\n",
       "      <td>SKRIL1999062</td>\n",
       "      <td>RU23</td>\n",
       "      <td>1999062.0</td>\n",
       "      <td>15.0</td>\n",
       "      <td>10.0</td>\n",
       "      <td>NaN</td>\n",
       "      <td>25.5000</td>\n",
       "      <td>59.8167</td>\n",
       "    </tr>\n",
       "    <tr>\n",
       "      <th>15258</th>\n",
       "      <td>SKRIL1999063</td>\n",
       "      <td>k40</td>\n",
       "      <td>1</td>\n",
       "      <td>NaN</td>\n",
       "      <td>1210.00</td>\n",
       "      <td>NaN</td>\n",
       "      <td>NaN</td>\n",
       "      <td>NaN</td>\n",
       "      <td>NaN</td>\n",
       "      <td>NaN</td>\n",
       "      <td>...</td>\n",
       "      <td>4</td>\n",
       "      <td>0</td>\n",
       "      <td>SKRIL1999063</td>\n",
       "      <td>RU23</td>\n",
       "      <td>1999063.0</td>\n",
       "      <td>21.5</td>\n",
       "      <td>15.0</td>\n",
       "      <td>NaN</td>\n",
       "      <td>25.5000</td>\n",
       "      <td>59.8167</td>\n",
       "    </tr>\n",
       "    <tr>\n",
       "      <th>15259</th>\n",
       "      <td>SKRIL1999063</td>\n",
       "      <td>ra226</td>\n",
       "      <td>KRIL01</td>\n",
       "      <td>NaN</td>\n",
       "      <td>56.50</td>\n",
       "      <td>NaN</td>\n",
       "      <td>NaN</td>\n",
       "      <td>NaN</td>\n",
       "      <td>NaN</td>\n",
       "      <td>NaN</td>\n",
       "      <td>...</td>\n",
       "      <td>4</td>\n",
       "      <td>0</td>\n",
       "      <td>SKRIL1999063</td>\n",
       "      <td>RU23</td>\n",
       "      <td>1999063.0</td>\n",
       "      <td>21.5</td>\n",
       "      <td>15.0</td>\n",
       "      <td>NaN</td>\n",
       "      <td>25.5000</td>\n",
       "      <td>59.8167</td>\n",
       "    </tr>\n",
       "    <tr>\n",
       "      <th>15260</th>\n",
       "      <td>SKRIL1999063</td>\n",
       "      <td>ra228</td>\n",
       "      <td>KRIL01</td>\n",
       "      <td>NaN</td>\n",
       "      <td>72.20</td>\n",
       "      <td>NaN</td>\n",
       "      <td>NaN</td>\n",
       "      <td>NaN</td>\n",
       "      <td>NaN</td>\n",
       "      <td>NaN</td>\n",
       "      <td>...</td>\n",
       "      <td>4</td>\n",
       "      <td>0</td>\n",
       "      <td>SKRIL1999063</td>\n",
       "      <td>RU23</td>\n",
       "      <td>1999063.0</td>\n",
       "      <td>21.5</td>\n",
       "      <td>15.0</td>\n",
       "      <td>NaN</td>\n",
       "      <td>25.5000</td>\n",
       "      <td>59.8167</td>\n",
       "    </tr>\n",
       "    <tr>\n",
       "      <th>15261</th>\n",
       "      <td>SKRIL1999063</td>\n",
       "      <td>th228</td>\n",
       "      <td>1</td>\n",
       "      <td>NaN</td>\n",
       "      <td>74.20</td>\n",
       "      <td>NaN</td>\n",
       "      <td>NaN</td>\n",
       "      <td>NaN</td>\n",
       "      <td>NaN</td>\n",
       "      <td>NaN</td>\n",
       "      <td>...</td>\n",
       "      <td>4</td>\n",
       "      <td>0</td>\n",
       "      <td>SKRIL1999063</td>\n",
       "      <td>RU23</td>\n",
       "      <td>1999063.0</td>\n",
       "      <td>21.5</td>\n",
       "      <td>15.0</td>\n",
       "      <td>NaN</td>\n",
       "      <td>25.5000</td>\n",
       "      <td>59.8167</td>\n",
       "    </tr>\n",
       "  </tbody>\n",
       "</table>\n",
       "<p>302 rows × 47 columns</p>\n",
       "</div>"
      ],
      "text/plain": [
       "                KEY NUCLIDE  METHOD < VALUE_Bq/kg  VALUE_Bq/kg  ERROR%_kg  \\\n",
       "9824   SERPC1997001   cs134     NaN           NaN         3.80     0.7600   \n",
       "9825   SERPC1997001   cs137     NaN           NaN       389.00    15.5600   \n",
       "9826   SERPC1997002   cs134     NaN           NaN         4.78     0.6214   \n",
       "9827   SERPC1997002   cs137     NaN           NaN       420.00    16.8000   \n",
       "9828   SERPC1997003   cs134     NaN           NaN         3.12     0.5304   \n",
       "...             ...     ...     ...           ...          ...        ...   \n",
       "15257  SKRIL1999062   th228       1           NaN        68.00        NaN   \n",
       "15258  SKRIL1999063     k40       1           NaN      1210.00        NaN   \n",
       "15259  SKRIL1999063   ra226  KRIL01           NaN        56.50        NaN   \n",
       "15260  SKRIL1999063   ra228  KRIL01           NaN        72.20        NaN   \n",
       "15261  SKRIL1999063   th228       1           NaN        74.20        NaN   \n",
       "\n",
       "      < VALUE_Bq/m²  VALUE_Bq/m²  ERROR%_m² DATE_OF_ENTRY_x  ...  unit  \\\n",
       "9824            NaN         5.75        NaN             NaN  ...     4   \n",
       "9825            NaN       589.00        NaN             NaN  ...     4   \n",
       "9826            NaN        12.00        NaN             NaN  ...     4   \n",
       "9827            NaN      1060.00        NaN             NaN  ...     4   \n",
       "9828            NaN        12.00        NaN             NaN  ...     4   \n",
       "...             ...          ...        ...             ...  ...   ...   \n",
       "15257           NaN          NaN        NaN             NaN  ...     4   \n",
       "15258           NaN          NaN        NaN             NaN  ...     4   \n",
       "15259           NaN          NaN        NaN             NaN  ...     4   \n",
       "15260           NaN          NaN        NaN             NaN  ...     4   \n",
       "15261           NaN          NaN        NaN             NaN  ...     4   \n",
       "\n",
       "      detection_limit  data_provider_sample_id station_id  \\\n",
       "9824                1             SERPC1997001       EE17   \n",
       "9825                1             SERPC1997001       EE17   \n",
       "9826                1             SERPC1997002       EE17   \n",
       "9827                1             SERPC1997002       EE17   \n",
       "9828                1             SERPC1997003       EE17   \n",
       "...               ...                      ...        ...   \n",
       "15257               0             SKRIL1999062       RU23   \n",
       "15258               0             SKRIL1999063       RU23   \n",
       "15259               0             SKRIL1999063       RU23   \n",
       "15260               0             SKRIL1999063       RU23   \n",
       "15261               0             SKRIL1999063       RU23   \n",
       "\n",
       "       profile_or_transect_id  bottom   top dry_wet_ratio      lon      lat  \n",
       "9824                1997001.0     2.0   0.0           NaN  25.0167  59.7167  \n",
       "9825                1997001.0     2.0   0.0           NaN  25.0167  59.7167  \n",
       "9826                1997002.0     4.0   2.0           NaN  25.0167  59.7167  \n",
       "9827                1997002.0     4.0   2.0           NaN  25.0167  59.7167  \n",
       "9828                1997003.0     6.0   4.0           NaN  25.0167  59.7167  \n",
       "...                       ...     ...   ...           ...      ...      ...  \n",
       "15257               1999062.0    15.0  10.0           NaN  25.5000  59.8167  \n",
       "15258               1999063.0    21.5  15.0           NaN  25.5000  59.8167  \n",
       "15259               1999063.0    21.5  15.0           NaN  25.5000  59.8167  \n",
       "15260               1999063.0    21.5  15.0           NaN  25.5000  59.8167  \n",
       "15261               1999063.0    21.5  15.0           NaN  25.5000  59.8167  \n",
       "\n",
       "[302 rows x 47 columns]"
      ]
     },
     "execution_count": null,
     "metadata": {},
     "output_type": "execute_result"
    }
   ],
   "source": [
    "grp='sediment'\n",
    "check_data_sediment=tfm.dfs[grp][(tfm.dfs[grp]['DW%'] == 0) ]\n",
    "check_data_sediment"
   ]
  },
  {
   "cell_type": "code",
   "execution_count": null,
   "id": "357222d1",
   "metadata": {},
   "outputs": [
    {
     "data": {
      "text/html": [
       "<div>\n",
       "<style scoped>\n",
       "    .dataframe tbody tr th:only-of-type {\n",
       "        vertical-align: middle;\n",
       "    }\n",
       "\n",
       "    .dataframe tbody tr th {\n",
       "        vertical-align: top;\n",
       "    }\n",
       "\n",
       "    .dataframe thead th {\n",
       "        text-align: right;\n",
       "    }\n",
       "</style>\n",
       "<table border=\"1\" class=\"dataframe\">\n",
       "  <thead>\n",
       "    <tr style=\"text-align: right;\">\n",
       "      <th></th>\n",
       "      <th>KEY</th>\n",
       "      <th>NUCLIDE</th>\n",
       "      <th>METHOD</th>\n",
       "      <th>&lt; VALUE_Bq/kg</th>\n",
       "      <th>VALUE_Bq/kg</th>\n",
       "      <th>BASIS</th>\n",
       "      <th>ERROR%</th>\n",
       "      <th>NUMBER</th>\n",
       "      <th>DATE_OF_ENTRY_x</th>\n",
       "      <th>COUNTRY</th>\n",
       "      <th>...</th>\n",
       "      <th>body_part</th>\n",
       "      <th>bio_group</th>\n",
       "      <th>unit</th>\n",
       "      <th>detection_limit</th>\n",
       "      <th>data_provider_sample_id</th>\n",
       "      <th>station_id</th>\n",
       "      <th>profile_or_transect_id</th>\n",
       "      <th>dry_wet_ratio</th>\n",
       "      <th>lon</th>\n",
       "      <th>lat</th>\n",
       "    </tr>\n",
       "  </thead>\n",
       "  <tbody>\n",
       "    <tr>\n",
       "      <th>5971</th>\n",
       "      <td>BERPC1997002</td>\n",
       "      <td>k40</td>\n",
       "      <td>NaN</td>\n",
       "      <td>NaN</td>\n",
       "      <td>116.00</td>\n",
       "      <td>W</td>\n",
       "      <td>3.4800</td>\n",
       "      <td>NaN</td>\n",
       "      <td>NaN</td>\n",
       "      <td>91.0</td>\n",
       "      <td>...</td>\n",
       "      <td>52</td>\n",
       "      <td>4</td>\n",
       "      <td>5</td>\n",
       "      <td>1</td>\n",
       "      <td>BERPC1997002</td>\n",
       "      <td>Paldiski</td>\n",
       "      <td>1997002</td>\n",
       "      <td>NaN</td>\n",
       "      <td>24.1667</td>\n",
       "      <td>59.3667</td>\n",
       "    </tr>\n",
       "    <tr>\n",
       "      <th>5972</th>\n",
       "      <td>BERPC1997002</td>\n",
       "      <td>cs137</td>\n",
       "      <td>NaN</td>\n",
       "      <td>NaN</td>\n",
       "      <td>12.60</td>\n",
       "      <td>W</td>\n",
       "      <td>0.5040</td>\n",
       "      <td>NaN</td>\n",
       "      <td>NaN</td>\n",
       "      <td>91.0</td>\n",
       "      <td>...</td>\n",
       "      <td>52</td>\n",
       "      <td>4</td>\n",
       "      <td>5</td>\n",
       "      <td>1</td>\n",
       "      <td>BERPC1997002</td>\n",
       "      <td>Paldiski</td>\n",
       "      <td>1997002</td>\n",
       "      <td>NaN</td>\n",
       "      <td>24.1667</td>\n",
       "      <td>59.3667</td>\n",
       "    </tr>\n",
       "    <tr>\n",
       "      <th>5973</th>\n",
       "      <td>BERPC1997002</td>\n",
       "      <td>cs134</td>\n",
       "      <td>NaN</td>\n",
       "      <td>NaN</td>\n",
       "      <td>0.14</td>\n",
       "      <td>W</td>\n",
       "      <td>0.0252</td>\n",
       "      <td>NaN</td>\n",
       "      <td>NaN</td>\n",
       "      <td>91.0</td>\n",
       "      <td>...</td>\n",
       "      <td>52</td>\n",
       "      <td>4</td>\n",
       "      <td>5</td>\n",
       "      <td>1</td>\n",
       "      <td>BERPC1997002</td>\n",
       "      <td>Paldiski</td>\n",
       "      <td>1997002</td>\n",
       "      <td>NaN</td>\n",
       "      <td>24.1667</td>\n",
       "      <td>59.3667</td>\n",
       "    </tr>\n",
       "    <tr>\n",
       "      <th>5974</th>\n",
       "      <td>BERPC1997001</td>\n",
       "      <td>k40</td>\n",
       "      <td>NaN</td>\n",
       "      <td>NaN</td>\n",
       "      <td>116.00</td>\n",
       "      <td>W</td>\n",
       "      <td>4.6400</td>\n",
       "      <td>NaN</td>\n",
       "      <td>NaN</td>\n",
       "      <td>91.0</td>\n",
       "      <td>...</td>\n",
       "      <td>52</td>\n",
       "      <td>4</td>\n",
       "      <td>5</td>\n",
       "      <td>1</td>\n",
       "      <td>BERPC1997001</td>\n",
       "      <td>Paldiski</td>\n",
       "      <td>1997001</td>\n",
       "      <td>NaN</td>\n",
       "      <td>24.1667</td>\n",
       "      <td>59.3667</td>\n",
       "    </tr>\n",
       "    <tr>\n",
       "      <th>5975</th>\n",
       "      <td>BERPC1997001</td>\n",
       "      <td>cs137</td>\n",
       "      <td>NaN</td>\n",
       "      <td>NaN</td>\n",
       "      <td>12.00</td>\n",
       "      <td>W</td>\n",
       "      <td>0.4800</td>\n",
       "      <td>NaN</td>\n",
       "      <td>NaN</td>\n",
       "      <td>91.0</td>\n",
       "      <td>...</td>\n",
       "      <td>52</td>\n",
       "      <td>4</td>\n",
       "      <td>5</td>\n",
       "      <td>1</td>\n",
       "      <td>BERPC1997001</td>\n",
       "      <td>Paldiski</td>\n",
       "      <td>1997001</td>\n",
       "      <td>NaN</td>\n",
       "      <td>24.1667</td>\n",
       "      <td>59.3667</td>\n",
       "    </tr>\n",
       "    <tr>\n",
       "      <th>5976</th>\n",
       "      <td>BERPC1997001</td>\n",
       "      <td>cs134</td>\n",
       "      <td>NaN</td>\n",
       "      <td>NaN</td>\n",
       "      <td>0.21</td>\n",
       "      <td>W</td>\n",
       "      <td>0.0504</td>\n",
       "      <td>NaN</td>\n",
       "      <td>NaN</td>\n",
       "      <td>91.0</td>\n",
       "      <td>...</td>\n",
       "      <td>52</td>\n",
       "      <td>4</td>\n",
       "      <td>5</td>\n",
       "      <td>1</td>\n",
       "      <td>BERPC1997001</td>\n",
       "      <td>Paldiski</td>\n",
       "      <td>1997001</td>\n",
       "      <td>NaN</td>\n",
       "      <td>24.1667</td>\n",
       "      <td>59.3667</td>\n",
       "    </tr>\n",
       "  </tbody>\n",
       "</table>\n",
       "<p>6 rows × 45 columns</p>\n",
       "</div>"
      ],
      "text/plain": [
       "               KEY NUCLIDE METHOD < VALUE_Bq/kg  VALUE_Bq/kg BASIS  ERROR%  \\\n",
       "5971  BERPC1997002     k40    NaN           NaN       116.00     W  3.4800   \n",
       "5972  BERPC1997002   cs137    NaN           NaN        12.60     W  0.5040   \n",
       "5973  BERPC1997002   cs134    NaN           NaN         0.14     W  0.0252   \n",
       "5974  BERPC1997001     k40    NaN           NaN       116.00     W  4.6400   \n",
       "5975  BERPC1997001   cs137    NaN           NaN        12.00     W  0.4800   \n",
       "5976  BERPC1997001   cs134    NaN           NaN         0.21     W  0.0504   \n",
       "\n",
       "      NUMBER DATE_OF_ENTRY_x  COUNTRY  ... body_part  bio_group unit  \\\n",
       "5971     NaN             NaN     91.0  ...        52          4    5   \n",
       "5972     NaN             NaN     91.0  ...        52          4    5   \n",
       "5973     NaN             NaN     91.0  ...        52          4    5   \n",
       "5974     NaN             NaN     91.0  ...        52          4    5   \n",
       "5975     NaN             NaN     91.0  ...        52          4    5   \n",
       "5976     NaN             NaN     91.0  ...        52          4    5   \n",
       "\n",
       "      detection_limit  data_provider_sample_id  station_id  \\\n",
       "5971                1             BERPC1997002    Paldiski   \n",
       "5972                1             BERPC1997002    Paldiski   \n",
       "5973                1             BERPC1997002    Paldiski   \n",
       "5974                1             BERPC1997001    Paldiski   \n",
       "5975                1             BERPC1997001    Paldiski   \n",
       "5976                1             BERPC1997001    Paldiski   \n",
       "\n",
       "     profile_or_transect_id  dry_wet_ratio      lon      lat  \n",
       "5971                1997002            NaN  24.1667  59.3667  \n",
       "5972                1997002            NaN  24.1667  59.3667  \n",
       "5973                1997002            NaN  24.1667  59.3667  \n",
       "5974                1997001            NaN  24.1667  59.3667  \n",
       "5975                1997001            NaN  24.1667  59.3667  \n",
       "5976                1997001            NaN  24.1667  59.3667  \n",
       "\n",
       "[6 rows x 45 columns]"
      ]
     },
     "execution_count": null,
     "metadata": {},
     "output_type": "execute_result"
    }
   ],
   "source": [
    "grp='biota'\n",
    "check_data_sediment=tfm.dfs[grp][(tfm.dfs[grp]['DW%'] == 0) ]\n",
    "check_data_sediment"
   ]
  },
  {
   "cell_type": "markdown",
   "id": "0eefdfcc",
   "metadata": {},
   "source": [
    "TODO: Note weight definition in HELCOM is different than in MARIS.  HELCOM definition is 'Average weight (in g) of specimen in the sample. MARIS definition is 'dry weight of biota sample in grammes (g).' or 'wet weight of biota sample in grammes (g).'."
   ]
  },
  {
   "cell_type": "markdown",
   "id": "e208aa11",
   "metadata": {},
   "source": [
    "TODO :  For biota we have some entries that include a YEAR but no month and day (see tfm.dfs_dropped['biota'][['YEAR', 'MONTH', 'DAY', 'DATE']]). For these entries I have included a day and month as 1`. "
   ]
  },
  {
   "cell_type": "markdown",
   "id": "fcd7560d",
   "metadata": {},
   "source": [
    "TODO: Review the format of 'ddmmmm'.. Example of data '29.2000'. Assuming that this is 29 degrees. Then 20 minutes with a remainder of .00 minutes. "
   ]
  },
  {
   "cell_type": "markdown",
   "id": "25fa5e77",
   "metadata": {},
   "source": [
    "TODO: Follow up with HELCOM on entries where the value is nan. "
   ]
  },
  {
   "cell_type": "markdown",
   "id": "b66b010f",
   "metadata": {},
   "source": [
    "TODO: Review Maris Open Refine date format. The description format is 'DD-MMM-YYYY'. The example format is '29/Sep/2008'.  "
   ]
  }
 ],
 "metadata": {
  "kernelspec": {
   "display_name": "python3",
   "language": "python",
   "name": "python3"
  }
 },
 "nbformat": 4,
 "nbformat_minor": 5
}

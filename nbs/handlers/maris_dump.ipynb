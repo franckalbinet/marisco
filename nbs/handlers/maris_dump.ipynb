{
 "cells": [
  {
   "cell_type": "code",
   "execution_count": null,
   "id": "bb60862d",
   "metadata": {},
   "outputs": [],
   "source": [
    "#| default_exp handlers.maris_dump"
   ]
  },
  {
   "attachments": {},
   "cell_type": "markdown",
   "id": "f263111a",
   "metadata": {},
   "source": [
    "# MARIS dump\n",
    "> Data pipeline (handler) to convert global MARIS db dump into `NetCDF` format\n",
    "\n",
    "The input data is a dump from already imported MARIS datasets.\n",
    "\n",
    "**Dev. board**: https://trello.com/b/IszgV1bj/marisco"
   ]
  },
  {
   "cell_type": "markdown",
   "id": "b0a15f43-5d42-4a31-8e8a-0f988b82f08e",
   "metadata": {},
   "source": [
    "Questions:\n",
    "\n",
    "* filtering status? "
   ]
  },
  {
   "attachments": {},
   "cell_type": "markdown",
   "id": "b92a5c33",
   "metadata": {},
   "source": [
    "## Packages import"
   ]
  },
  {
   "cell_type": "code",
   "execution_count": null,
   "id": "0db45fee",
   "metadata": {},
   "outputs": [
    {
     "name": "stdout",
     "output_type": "stream",
     "text": [
      "The autoreload extension is already loaded. To reload it, use:\n",
      "  %reload_ext autoreload\n"
     ]
    }
   ],
   "source": [
    "%load_ext autoreload\n",
    "%autoreload 2"
   ]
  },
  {
   "cell_type": "code",
   "execution_count": null,
   "id": "3a8d979f",
   "metadata": {},
   "outputs": [],
   "source": [
    "#| export\n",
    "from tqdm import tqdm\n",
    "from pathlib import Path\n",
    "import fastcore.all as fc\n",
    "import pandas as pd\n",
    "import numpy as np\n",
    "\n",
    "from marisco.callbacks import (Callback, Transformer, SanitizeLonLatCB, EncodeTimeCB)\n",
    "from marisco.metadata import (GlobAttrsFeeder, BboxCB,\n",
    "                              DepthRangeCB, TimeRangeCB,\n",
    "                              ZoteroCB, KeyValuePairCB)\n",
    "from marisco.configs import lut_path, cdl_cfg, cfg, nc_tpl_path, Enums\n",
    "from marisco.serializers import NetCDFEncoder"
   ]
  },
  {
   "cell_type": "code",
   "execution_count": null,
   "id": "51f2351f",
   "metadata": {},
   "outputs": [],
   "source": [
    "pd.set_option('display.max_rows', 100)"
   ]
  },
  {
   "cell_type": "code",
   "execution_count": null,
   "id": "d65ade1e",
   "metadata": {},
   "outputs": [],
   "source": [
    "import warnings\n",
    "warnings.filterwarnings('ignore')"
   ]
  },
  {
   "cell_type": "code",
   "execution_count": null,
   "id": "d02bf0a9",
   "metadata": {},
   "outputs": [],
   "source": [
    "# | export\n",
    "fname_in = Path().home() / 'pro/data/maris/MARIS_exportSample_20240313.txt'\n",
    "dir_dest = '../../_data/output/dump'"
   ]
  },
  {
   "cell_type": "markdown",
   "id": "2f8ab222",
   "metadata": {},
   "source": [
    "## Utils"
   ]
  },
  {
   "cell_type": "code",
   "execution_count": null,
   "id": "de1bc0af",
   "metadata": {},
   "outputs": [],
   "source": [
    "# | export\n",
    "def load_dump(fname): \n",
    "    return pd.read_csv(fname, sep='\\t', encoding='ISO-8859-1')   \n",
    "\n",
    "def load_data(df:pd.DataFrame, # MARIS global dump \n",
    "                 ref_id:int, # Reference id of interest\n",
    "                 ):\n",
    "    \"Load specific MARIS dataset through its ref_id\"\n",
    "    lut = {\n",
    "        'Sediment': 'sediment',\n",
    "        'Seawater': 'seawater',\n",
    "        'Suspended matter': 'suspended-matter',\n",
    "        'Biota': 'biota'}\n",
    "    dfs = {}\n",
    "    for name, grp in df[df.ref_id  == ref_id].groupby('samptype'): \n",
    "        dfs[lut[name]] = grp\n",
    "    return dfs\n",
    "\n",
    "def get_zotero_key(dfs):\n",
    "    return dfs[next(iter(dfs))][['zoterourl']].iloc[0].values[0].split('/')[-1]\n",
    "\n",
    "def get_fname(dfs):\n",
    "    id, name = dfs[next(iter(dfs))][['ref_id', 'displaytext']].iloc[0]\n",
    "    name = name.replace(',', '').replace('.', '').replace('-', ' ').split(' ')\n",
    "    return '-'.join(([str(id)] + name)) + '.nc'"
   ]
  },
  {
   "cell_type": "markdown",
   "id": "db48f8fb",
   "metadata": {},
   "source": [
    "## Load data"
   ]
  },
  {
   "cell_type": "code",
   "execution_count": null,
   "id": "715e849d",
   "metadata": {},
   "outputs": [],
   "source": [
    "df = load_dump(fname_in)"
   ]
  },
  {
   "cell_type": "code",
   "execution_count": null,
   "id": "e483369f",
   "metadata": {},
   "outputs": [
    {
     "data": {
      "text/plain": [
       "526"
      ]
     },
     "execution_count": null,
     "metadata": {},
     "output_type": "execute_result"
    }
   ],
   "source": [
    "len(df.ref_id.unique())"
   ]
  },
  {
   "cell_type": "code",
   "execution_count": null,
   "id": "90b92257-013a-44e7-af17-1eb25f18c021",
   "metadata": {},
   "outputs": [
    {
     "data": {
      "text/plain": [
       "Index(['ref_id', 'displaytext', 'samptype', 'nuclide_id', 'latitude',\n",
       "       'longitude', 'begperiod', 'endperiod', 'sampdepth', 'totdepth',\n",
       "       'uncertaint', 'unit_id', 'detection', 'area_id', 'species_id',\n",
       "       'biogroup_id', 'bodypar_id', 'sedtype_id', 'volume', 'salinity',\n",
       "       'temperatur', 'sampmet_id', 'prepmet_id', 'counmet_id', 'activity',\n",
       "       'zoterourl'],\n",
       "      dtype='object')"
      ]
     },
     "execution_count": null,
     "metadata": {},
     "output_type": "execute_result"
    }
   ],
   "source": [
    "df.columns"
   ]
  },
  {
   "cell_type": "code",
   "execution_count": null,
   "id": "fcde97f7-17c3-4a2c-8d14-8521501887c8",
   "metadata": {},
   "outputs": [
    {
     "data": {
      "text/plain": [
       "array([4, 0, 2, 13, 14, 3, 12, 11, 10, 5, 1, 7, 8, 9, 6, '11', '0', '14',\n",
       "       '13', '2', '4', 'biogroup_id', '12', '10', '3', '5', '7', '1', '8'],\n",
       "      dtype=object)"
      ]
     },
     "execution_count": null,
     "metadata": {},
     "output_type": "execute_result"
    }
   ],
   "source": [
    "df.biogroup_id.unique()"
   ]
  },
  {
   "cell_type": "code",
   "execution_count": null,
   "id": "fb42d376",
   "metadata": {},
   "outputs": [
    {
     "data": {
      "text/html": [
       "<div>\n",
       "<style scoped>\n",
       "    .dataframe tbody tr th:only-of-type {\n",
       "        vertical-align: middle;\n",
       "    }\n",
       "\n",
       "    .dataframe tbody tr th {\n",
       "        vertical-align: top;\n",
       "    }\n",
       "\n",
       "    .dataframe thead th {\n",
       "        text-align: right;\n",
       "    }\n",
       "</style>\n",
       "<table border=\"1\" class=\"dataframe\">\n",
       "  <thead>\n",
       "    <tr style=\"text-align: right;\">\n",
       "      <th></th>\n",
       "      <th>ref_id</th>\n",
       "      <th>displaytext</th>\n",
       "      <th>samptype</th>\n",
       "      <th>nuclide_id</th>\n",
       "      <th>latitude</th>\n",
       "      <th>longitude</th>\n",
       "      <th>begperiod</th>\n",
       "      <th>endperiod</th>\n",
       "      <th>sampdepth</th>\n",
       "      <th>totdepth</th>\n",
       "      <th>...</th>\n",
       "      <th>bodypar_id</th>\n",
       "      <th>sedtype_id</th>\n",
       "      <th>volume</th>\n",
       "      <th>salinity</th>\n",
       "      <th>temperatur</th>\n",
       "      <th>sampmet_id</th>\n",
       "      <th>prepmet_id</th>\n",
       "      <th>counmet_id</th>\n",
       "      <th>activity</th>\n",
       "      <th>zoterourl</th>\n",
       "    </tr>\n",
       "  </thead>\n",
       "  <tbody>\n",
       "    <tr>\n",
       "      <th>0</th>\n",
       "      <td>182</td>\n",
       "      <td>Urban et al., 2015</td>\n",
       "      <td>Biota</td>\n",
       "      <td>33</td>\n",
       "      <td>-35.140833</td>\n",
       "      <td>117.604444</td>\n",
       "      <td>2014-05-06 00:00:00</td>\n",
       "      <td>NaN</td>\n",
       "      <td>-1.0</td>\n",
       "      <td>NaN</td>\n",
       "      <td>...</td>\n",
       "      <td>52</td>\n",
       "      <td>0</td>\n",
       "      <td>NaN</td>\n",
       "      <td>NaN</td>\n",
       "      <td>NaN</td>\n",
       "      <td>0</td>\n",
       "      <td>6</td>\n",
       "      <td>20</td>\n",
       "      <td>0.387</td>\n",
       "      <td>https://www.zotero.org/groups/2432820/maris/it...</td>\n",
       "    </tr>\n",
       "    <tr>\n",
       "      <th>1</th>\n",
       "      <td>182</td>\n",
       "      <td>Urban et al., 2015</td>\n",
       "      <td>Biota</td>\n",
       "      <td>47</td>\n",
       "      <td>-35.140833</td>\n",
       "      <td>117.604444</td>\n",
       "      <td>2014-05-06 00:00:00</td>\n",
       "      <td>NaN</td>\n",
       "      <td>-1.0</td>\n",
       "      <td>NaN</td>\n",
       "      <td>...</td>\n",
       "      <td>52</td>\n",
       "      <td>0</td>\n",
       "      <td>NaN</td>\n",
       "      <td>NaN</td>\n",
       "      <td>NaN</td>\n",
       "      <td>0</td>\n",
       "      <td>6</td>\n",
       "      <td>5</td>\n",
       "      <td>1.44</td>\n",
       "      <td>https://www.zotero.org/groups/2432820/maris/it...</td>\n",
       "    </tr>\n",
       "    <tr>\n",
       "      <th>2</th>\n",
       "      <td>182</td>\n",
       "      <td>Urban et al., 2015</td>\n",
       "      <td>Biota</td>\n",
       "      <td>31</td>\n",
       "      <td>-16.466944</td>\n",
       "      <td>123.535833</td>\n",
       "      <td>2014-02-27 00:00:00</td>\n",
       "      <td>NaN</td>\n",
       "      <td>-1.0</td>\n",
       "      <td>NaN</td>\n",
       "      <td>...</td>\n",
       "      <td>52</td>\n",
       "      <td>0</td>\n",
       "      <td>NaN</td>\n",
       "      <td>NaN</td>\n",
       "      <td>NaN</td>\n",
       "      <td>0</td>\n",
       "      <td>6</td>\n",
       "      <td>20</td>\n",
       "      <td>0.042</td>\n",
       "      <td>https://www.zotero.org/groups/2432820/maris/it...</td>\n",
       "    </tr>\n",
       "    <tr>\n",
       "      <th>3</th>\n",
       "      <td>182</td>\n",
       "      <td>Urban et al., 2015</td>\n",
       "      <td>Biota</td>\n",
       "      <td>33</td>\n",
       "      <td>-16.466944</td>\n",
       "      <td>123.535833</td>\n",
       "      <td>2014-02-27 00:00:00</td>\n",
       "      <td>NaN</td>\n",
       "      <td>-1.0</td>\n",
       "      <td>NaN</td>\n",
       "      <td>...</td>\n",
       "      <td>52</td>\n",
       "      <td>0</td>\n",
       "      <td>NaN</td>\n",
       "      <td>NaN</td>\n",
       "      <td>NaN</td>\n",
       "      <td>0</td>\n",
       "      <td>6</td>\n",
       "      <td>20</td>\n",
       "      <td>0.075</td>\n",
       "      <td>https://www.zotero.org/groups/2432820/maris/it...</td>\n",
       "    </tr>\n",
       "    <tr>\n",
       "      <th>4</th>\n",
       "      <td>182</td>\n",
       "      <td>Urban et al., 2015</td>\n",
       "      <td>Biota</td>\n",
       "      <td>47</td>\n",
       "      <td>-16.466944</td>\n",
       "      <td>123.535833</td>\n",
       "      <td>2014-02-27 00:00:00</td>\n",
       "      <td>NaN</td>\n",
       "      <td>-1.0</td>\n",
       "      <td>NaN</td>\n",
       "      <td>...</td>\n",
       "      <td>52</td>\n",
       "      <td>0</td>\n",
       "      <td>NaN</td>\n",
       "      <td>NaN</td>\n",
       "      <td>NaN</td>\n",
       "      <td>0</td>\n",
       "      <td>6</td>\n",
       "      <td>5</td>\n",
       "      <td>0.069</td>\n",
       "      <td>https://www.zotero.org/groups/2432820/maris/it...</td>\n",
       "    </tr>\n",
       "  </tbody>\n",
       "</table>\n",
       "<p>5 rows × 26 columns</p>\n",
       "</div>"
      ],
      "text/plain": [
       "  ref_id         displaytext samptype nuclide_id   latitude   longitude  \\\n",
       "0    182  Urban et al., 2015    Biota         33 -35.140833  117.604444   \n",
       "1    182  Urban et al., 2015    Biota         47 -35.140833  117.604444   \n",
       "2    182  Urban et al., 2015    Biota         31 -16.466944  123.535833   \n",
       "3    182  Urban et al., 2015    Biota         33 -16.466944  123.535833   \n",
       "4    182  Urban et al., 2015    Biota         47 -16.466944  123.535833   \n",
       "\n",
       "             begperiod endperiod sampdepth totdepth  ... bodypar_id  \\\n",
       "0  2014-05-06 00:00:00       NaN      -1.0      NaN  ...         52   \n",
       "1  2014-05-06 00:00:00       NaN      -1.0      NaN  ...         52   \n",
       "2  2014-02-27 00:00:00       NaN      -1.0      NaN  ...         52   \n",
       "3  2014-02-27 00:00:00       NaN      -1.0      NaN  ...         52   \n",
       "4  2014-02-27 00:00:00       NaN      -1.0      NaN  ...         52   \n",
       "\n",
       "  sedtype_id volume salinity temperatur sampmet_id prepmet_id counmet_id  \\\n",
       "0          0    NaN      NaN        NaN          0          6         20   \n",
       "1          0    NaN      NaN        NaN          0          6          5   \n",
       "2          0    NaN      NaN        NaN          0          6         20   \n",
       "3          0    NaN      NaN        NaN          0          6         20   \n",
       "4          0    NaN      NaN        NaN          0          6          5   \n",
       "\n",
       "  activity                                          zoterourl  \n",
       "0    0.387  https://www.zotero.org/groups/2432820/maris/it...  \n",
       "1     1.44  https://www.zotero.org/groups/2432820/maris/it...  \n",
       "2    0.042  https://www.zotero.org/groups/2432820/maris/it...  \n",
       "3    0.075  https://www.zotero.org/groups/2432820/maris/it...  \n",
       "4    0.069  https://www.zotero.org/groups/2432820/maris/it...  \n",
       "\n",
       "[5 rows x 26 columns]"
      ]
     },
     "execution_count": null,
     "metadata": {},
     "output_type": "execute_result"
    }
   ],
   "source": [
    "df.head()"
   ]
  },
  {
   "cell_type": "code",
   "execution_count": null,
   "id": "a259eafa",
   "metadata": {},
   "outputs": [],
   "source": [
    "# 52, 191 (OSPAR), 100 (HELCOM), 717 (only seawater)\n",
    "ref_id = 100"
   ]
  },
  {
   "cell_type": "code",
   "execution_count": null,
   "id": "333c1cc3",
   "metadata": {},
   "outputs": [],
   "source": [
    "dfs = load_data(df, ref_id)"
   ]
  },
  {
   "cell_type": "code",
   "execution_count": null,
   "id": "8efeaaa9",
   "metadata": {},
   "outputs": [
    {
     "data": {
      "text/plain": [
       "dict_keys(['biota', 'seawater', 'sediment'])"
      ]
     },
     "execution_count": null,
     "metadata": {},
     "output_type": "execute_result"
    }
   ],
   "source": [
    "dfs.keys()"
   ]
  },
  {
   "cell_type": "markdown",
   "id": "bf1a71c0",
   "metadata": {},
   "source": [
    "## Data transformation pipeline"
   ]
  },
  {
   "cell_type": "markdown",
   "id": "52e58b33",
   "metadata": {},
   "source": [
    "### Normalize nuclide names"
   ]
  },
  {
   "cell_type": "code",
   "execution_count": null,
   "id": "7029a8ff",
   "metadata": {},
   "outputs": [],
   "source": [
    "#| export\n",
    "def get_varnames_lut():\n",
    "    fname = lut_path() / 'dbo_nuclide.xlsx'\n",
    "    df_nuclide = pd.read_excel(fname, usecols=['nuclide_id', 'nc_name'])\n",
    "    return df_nuclide.set_index('nuclide_id').to_dict()['nc_name']"
   ]
  },
  {
   "cell_type": "code",
   "execution_count": null,
   "id": "78dbeba0",
   "metadata": {},
   "outputs": [],
   "source": [
    "# | export\n",
    "class RemapRdnNameCB(Callback):\n",
    "    \"Remap to MARIS radionuclide names.\"\n",
    "    def __init__(self,\n",
    "                 fn_lut=get_varnames_lut):\n",
    "        fc.store_attr()\n",
    "\n",
    "    def __call__(self, tfm):\n",
    "        lut = self.fn_lut()\n",
    "        for k in tfm.dfs.keys():\n",
    "            tfm.dfs[k]['nuclide_id'] = tfm.dfs[k]['nuclide_id'].replace(lut)"
   ]
  },
  {
   "cell_type": "code",
   "execution_count": null,
   "id": "360152cd",
   "metadata": {},
   "outputs": [],
   "source": [
    "dfs = load_data(df, ref_id)"
   ]
  },
  {
   "cell_type": "code",
   "execution_count": null,
   "id": "92a45542",
   "metadata": {},
   "outputs": [
    {
     "name": "stdout",
     "output_type": "stream",
     "text": [
      "['ru106' 'sb125' 'cs134' 'cs137' 'k40' 'co60' 'ag110m' 'ra226' 'th232'\n",
      " 'pb212' 'pb214' 'pu238' 'am241' 'pu239_240_tot' 'zr95' 'mn54' 'ac228'\n",
      " 'u235' 'tl208' 'be7' 'bi214' 'ra223' 'ru103' 'sr90' 'eu155' 'ba140'\n",
      " 'co58' 'ra224' 'po210' 'ra228' 'th228' 'ce144' 'cs134_137_tot' 'pb210'\n",
      " 'pu239' 'cd109' 'bi212' 'pu238_240_tot' 'nb95' 'ir192' 'sb124' 'zn65'\n",
      " 'th234' 'pu241']\n"
     ]
    }
   ],
   "source": [
    "dfs = load_data(df, ref_id)\n",
    "tfm = Transformer(dfs, cbs=[RemapRdnNameCB()])\n",
    "\n",
    "print(tfm()['sediment']['nuclide_id'].unique())"
   ]
  },
  {
   "cell_type": "markdown",
   "id": "32cb47cf",
   "metadata": {},
   "source": [
    "### Rename columns"
   ]
  },
  {
   "cell_type": "code",
   "execution_count": null,
   "id": "eef59c5f",
   "metadata": {},
   "outputs": [
    {
     "data": {
      "text/plain": [
       "Index(['ref_id', 'displaytext', 'samptype', 'nuclide_id', 'latitude',\n",
       "       'longitude', 'begperiod', 'endperiod', 'sampdepth', 'totdepth',\n",
       "       'uncertaint', 'unit_id', 'detection', 'area_id', 'species_id',\n",
       "       'biogroup_id', 'bodypar_id', 'sedtype_id', 'volume', 'salinity',\n",
       "       'temperatur', 'sampmet_id', 'prepmet_id', 'counmet_id', 'activity',\n",
       "       'zoterourl'],\n",
       "      dtype='object')"
      ]
     },
     "execution_count": null,
     "metadata": {},
     "output_type": "execute_result"
    }
   ],
   "source": [
    "dfs['sediment'].columns"
   ]
  },
  {
   "cell_type": "code",
   "execution_count": null,
   "id": "525775d6",
   "metadata": {},
   "outputs": [],
   "source": [
    "#| export\n",
    "# To be added: endperiod, lab\n",
    "def renaming_rules():\n",
    "    vars = cdl_cfg()['vars']\n",
    "    # Define column names renaming rules\n",
    "    return {\n",
    "        'latitude': vars['defaults']['lat']['name'],\n",
    "        'longitude': vars['defaults']['lon']['name'],\n",
    "        'begperiod': vars['defaults']['time']['name'],\n",
    "        'sampdepth': vars['defaults']['smp_depth']['name'],\n",
    "        'totdepth': vars['defaults']['tot_depth']['name'],\n",
    "        'uncertaint': vars['suffixes']['uncertainty']['name'],\n",
    "        'unit_id': vars['suffixes']['unit']['name'],\n",
    "        'detection': vars['suffixes']['detection_limit']['name'],\n",
    "        'area_id': vars['defaults']['area']['name'], \n",
    "        'species_id': vars['bio']['species']['name'],\n",
    "        'biogroup_id': vars['bio']['bio_group']['name'],\n",
    "        'bodypar_id': vars['bio']['body_part']['name'],\n",
    "        'sedtype_id': vars['sed']['sed_type']['name'],\n",
    "        'volume': vars['suffixes']['volume']['name'],\n",
    "        'salinity': vars['suffixes']['salinity']['name'],\n",
    "        'temperatur': vars['suffixes']['temperature']['name'],\n",
    "        'sampmet_id': vars['suffixes']['sampling_method']['name'],\n",
    "        'prepmet_id': vars['suffixes']['preparation_method']['name'],\n",
    "        'counmet_id': vars['suffixes']['counting_method']['name'],\n",
    "        'activity': 'value',\n",
    "        'nuclide_id': 'nuclide'\n",
    "    }"
   ]
  },
  {
   "cell_type": "code",
   "execution_count": null,
   "id": "322f3b7e",
   "metadata": {},
   "outputs": [],
   "source": [
    "#| export\n",
    "class RenameColumnCB(Callback):\n",
    "    \"Renaming variables to MARIS standard names.\"\n",
    "    def __init__(self, renaming_rules=renaming_rules): fc.store_attr()\n",
    "    def __call__(self, tfm):\n",
    "        lut = renaming_rules()\n",
    "        coi = lut.keys()\n",
    "        for k in tfm.dfs.keys():\n",
    "            # Select cols of interest\n",
    "            tfm.dfs[k] = tfm.dfs[k].loc[:, coi]\n",
    "            # Rename cols\n",
    "            tfm.dfs[k].rename(columns=lut, inplace=True)"
   ]
  },
  {
   "cell_type": "code",
   "execution_count": null,
   "id": "0ed8c9c6",
   "metadata": {},
   "outputs": [
    {
     "name": "stdout",
     "output_type": "stream",
     "text": [
      "               lat        lon                 time smp_depth tot_depth  \\\n",
      "549778   54.838333        9.9  1989-06-14 00:00:00      -1.0      24.0   \n",
      "549779   54.838333        9.9  1989-06-14 00:00:00      -1.0      24.0   \n",
      "549780   54.838333        9.9  1989-06-14 00:00:00      -1.0      24.0   \n",
      "549781   54.838333        9.9  1989-06-14 00:00:00      -1.0      24.0   \n",
      "549782   54.838333        9.9  1989-06-14 00:00:00      -1.0      24.0   \n",
      "...            ...        ...                  ...       ...       ...   \n",
      "1532415  57.619722  23.621389  2005-12-02 00:00:00      -1.0      55.0   \n",
      "1532416  57.619722  23.621389  2005-12-02 00:00:00      -1.0      55.0   \n",
      "1532417  57.619722  23.621389  2005-12-02 00:00:00      -1.0      55.0   \n",
      "1532418  57.619722  23.621389  2005-12-02 00:00:00      -1.0      55.0   \n",
      "1532419  57.619722  23.621389  2005-12-02 00:00:00      -1.0      55.0   \n",
      "\n",
      "             _unc _unit _dl  area species  ... body_part sed_type _vol _sal  \\\n",
      "549778       3.99     4   =  2374       0  ...         0       59  NaN  NaN   \n",
      "549779        NaN     2   =  2374       0  ...         0       59  NaN  NaN   \n",
      "549780      1.674     4   =  2374       0  ...         0       59  NaN  NaN   \n",
      "549781        NaN     2   =  2374       0  ...         0       59  NaN  NaN   \n",
      "549782      1.829     4   =  2374       0  ...         0       59  NaN  NaN   \n",
      "...           ...   ...  ..   ...     ...  ...       ...      ...  ...  ...   \n",
      "1532415   86.2836     4   =  2409       0  ...         0       58  NaN  NaN   \n",
      "1532416       NaN     2   =  2409       0  ...         0       58  NaN  NaN   \n",
      "1532417  24.45552     4   =  2409       0  ...         0       58  NaN  NaN   \n",
      "1532418       NaN     2   =  2409       0  ...         0       58  NaN  NaN   \n",
      "1532419  123.2568     4   =  2409       0  ...         0       58  NaN  NaN   \n",
      "\n",
      "        _temp _sampmet _prepmet _counmet    value nuclide  \n",
      "549778    NaN        0        0        0     26.6   ru106  \n",
      "549779    NaN        0        0        0    134.0   sb125  \n",
      "549780    NaN        0        0        0     18.6   sb125  \n",
      "549781    NaN        0        0        0     42.5   cs134  \n",
      "549782    NaN        0        0        0      5.9   cs134  \n",
      "...       ...      ...      ...      ...      ...     ...  \n",
      "1532415   NaN        0        0        0   1106.2     k40  \n",
      "1532416   NaN        0        0        0  991.023   cs137  \n",
      "1532417   NaN        0        0        0    550.8   cs137  \n",
      "1532418   NaN        0        0        0  2461.36     k40  \n",
      "1532419   NaN        0        0        0   1368.0     k40  \n",
      "\n",
      "[123196 rows x 21 columns]\n"
     ]
    }
   ],
   "source": [
    "dfs = load_data(df, ref_id)\n",
    "tfm = Transformer(dfs, cbs=[\n",
    "    RemapRdnNameCB(),\n",
    "    RenameColumnCB()\n",
    "    ])\n",
    "\n",
    "print(tfm()['sediment'])"
   ]
  },
  {
   "cell_type": "markdown",
   "id": "21b2fbc4",
   "metadata": {},
   "source": [
    "### Drop NaN only columns"
   ]
  },
  {
   "cell_type": "code",
   "execution_count": null,
   "id": "819703e6",
   "metadata": {},
   "outputs": [],
   "source": [
    "#| export\n",
    "class DropNAColumnsCB(Callback):\n",
    "    \"Drop variable containing only NaN or 'Not available' (id=0 in MARIS lookup tables).\"\n",
    "    def __init__(self, na_value=0):\n",
    "        fc.store_attr()\n",
    "        \n",
    "    def isMarisNA(self, col): \n",
    "        return len(col.unique()) == 1 and col.iloc[0] == self.na_value\n",
    "    \n",
    "    def dropMarisNA(self, df):\n",
    "        na_cols = [col for col in df.columns if self.isMarisNA(df[col])]\n",
    "        return df.drop(labels=na_cols, axis=1)\n",
    "        \n",
    "    def __call__(self, tfm):\n",
    "        for k in tfm.dfs.keys():\n",
    "            tfm.dfs[k] = tfm.dfs[k].dropna(axis=1, how='all')\n",
    "            tfm.dfs[k] = self.dropMarisNA(tfm.dfs[k])"
   ]
  },
  {
   "cell_type": "code",
   "execution_count": null,
   "id": "9e0f69f1",
   "metadata": {},
   "outputs": [
    {
     "name": "stdout",
     "output_type": "stream",
     "text": [
      "               lat        lon                 time smp_depth tot_depth  \\\n",
      "549778   54.838333        9.9  1989-06-14 00:00:00      -1.0      24.0   \n",
      "549779   54.838333        9.9  1989-06-14 00:00:00      -1.0      24.0   \n",
      "549780   54.838333        9.9  1989-06-14 00:00:00      -1.0      24.0   \n",
      "549781   54.838333        9.9  1989-06-14 00:00:00      -1.0      24.0   \n",
      "549782   54.838333        9.9  1989-06-14 00:00:00      -1.0      24.0   \n",
      "...            ...        ...                  ...       ...       ...   \n",
      "1532415  57.619722  23.621389  2005-12-02 00:00:00      -1.0      55.0   \n",
      "1532416  57.619722  23.621389  2005-12-02 00:00:00      -1.0      55.0   \n",
      "1532417  57.619722  23.621389  2005-12-02 00:00:00      -1.0      55.0   \n",
      "1532418  57.619722  23.621389  2005-12-02 00:00:00      -1.0      55.0   \n",
      "1532419  57.619722  23.621389  2005-12-02 00:00:00      -1.0      55.0   \n",
      "\n",
      "             _unc _unit _dl  area sed_type _sampmet _prepmet    value nuclide  \n",
      "549778       3.99     4   =  2374       59        0        0     26.6   ru106  \n",
      "549779        NaN     2   =  2374       59        0        0    134.0   sb125  \n",
      "549780      1.674     4   =  2374       59        0        0     18.6   sb125  \n",
      "549781        NaN     2   =  2374       59        0        0     42.5   cs134  \n",
      "549782      1.829     4   =  2374       59        0        0      5.9   cs134  \n",
      "...           ...   ...  ..   ...      ...      ...      ...      ...     ...  \n",
      "1532415   86.2836     4   =  2409       58        0        0   1106.2     k40  \n",
      "1532416       NaN     2   =  2409       58        0        0  991.023   cs137  \n",
      "1532417  24.45552     4   =  2409       58        0        0    550.8   cs137  \n",
      "1532418       NaN     2   =  2409       58        0        0  2461.36     k40  \n",
      "1532419  123.2568     4   =  2409       58        0        0   1368.0     k40  \n",
      "\n",
      "[123196 rows x 14 columns]\n"
     ]
    }
   ],
   "source": [
    "dfs = load_data(df, ref_id)\n",
    "tfm = Transformer(dfs, cbs=[\n",
    "    RemapRdnNameCB(),\n",
    "    RenameColumnCB(),\n",
    "    DropNAColumnsCB()\n",
    "    ])\n",
    "\n",
    "print(tfm()['sediment'])"
   ]
  },
  {
   "cell_type": "markdown",
   "id": "54a51628",
   "metadata": {},
   "source": [
    "### Sanitize detection limit values"
   ]
  },
  {
   "cell_type": "code",
   "execution_count": null,
   "id": "36512b76",
   "metadata": {},
   "outputs": [],
   "source": [
    "#| export\n",
    "def get_dl_lut():\n",
    "    fname = lut_path() / 'dbo_detectlimit.xlsx'\n",
    "    df_nuclide = pd.read_excel(fname, usecols=['name', 'id'])\n",
    "    return df_nuclide.set_index('name').to_dict()['id']"
   ]
  },
  {
   "cell_type": "code",
   "execution_count": null,
   "id": "bbef9550",
   "metadata": {},
   "outputs": [
    {
     "data": {
      "text/plain": [
       "{'Not applicable': -1, 'Not Available': 0, '=': 1, '<': 2, 'ND': 3, 'DE': 4}"
      ]
     },
     "execution_count": null,
     "metadata": {},
     "output_type": "execute_result"
    }
   ],
   "source": [
    "get_dl_lut()"
   ]
  },
  {
   "cell_type": "code",
   "execution_count": null,
   "id": "c99e5640",
   "metadata": {},
   "outputs": [],
   "source": [
    "#| export\n",
    "class SanitizeDetectionLimitCB(Callback):\n",
    "    \"Assign Detection Limit name to its id based on MARIS nomenclature.\"\n",
    "    def __init__(self,\n",
    "                 fn_lut=get_dl_lut):\n",
    "        fc.store_attr()\n",
    "        self.var_name = cdl_cfg()['vars']['suffixes']['detection_limit']['name']\n",
    "\n",
    "    def __call__(self, tfm):\n",
    "        lut = self.fn_lut()\n",
    "        for k in tfm.dfs.keys():\n",
    "            tfm.dfs[k][self.var_name] = tfm.dfs[k][self.var_name].replace(lut)"
   ]
  },
  {
   "cell_type": "code",
   "execution_count": null,
   "id": "e71200b5",
   "metadata": {},
   "outputs": [
    {
     "name": "stdout",
     "output_type": "stream",
     "text": [
      "549778     1\n",
      "549779     1\n",
      "549780     1\n",
      "549781     1\n",
      "549782     1\n",
      "          ..\n",
      "1532415    1\n",
      "1532416    1\n",
      "1532417    1\n",
      "1532418    1\n",
      "1532419    1\n",
      "Name: _dl, Length: 123196, dtype: int64\n"
     ]
    }
   ],
   "source": [
    "dfs = load_data(df, ref_id)\n",
    "tfm = Transformer(dfs, cbs=[\n",
    "    RemapRdnNameCB(),\n",
    "    RenameColumnCB(),\n",
    "    DropNAColumnsCB(),\n",
    "    SanitizeDetectionLimitCB()\n",
    "    ])\n",
    "\n",
    "print(tfm()['sediment']['_dl'])"
   ]
  },
  {
   "cell_type": "markdown",
   "id": "8a07b9e9",
   "metadata": {},
   "source": [
    "### Parse time"
   ]
  },
  {
   "cell_type": "code",
   "execution_count": null,
   "id": "434da9d4",
   "metadata": {},
   "outputs": [],
   "source": [
    "#| export\n",
    "class ParseTimeCB(Callback):\n",
    "    def __call__(self, tfm):\n",
    "        for k in tfm.dfs.keys():\n",
    "            tfm.dfs[k]['time'] = pd.to_datetime(tfm.dfs[k].time, format='ISO8601')"
   ]
  },
  {
   "cell_type": "code",
   "execution_count": null,
   "id": "3ebcdf32",
   "metadata": {},
   "outputs": [
    {
     "name": "stdout",
     "output_type": "stream",
     "text": [
      "               lat        lon       time smp_depth tot_depth       _unc _unit  \\\n",
      "549778   54.838333        9.9 1989-06-14      -1.0      24.0    3.99000     4   \n",
      "549779   54.838333        9.9 1989-06-14      -1.0      24.0        NaN     2   \n",
      "549780   54.838333        9.9 1989-06-14      -1.0      24.0    1.67400     4   \n",
      "549781   54.838333        9.9 1989-06-14      -1.0      24.0        NaN     2   \n",
      "549782   54.838333        9.9 1989-06-14      -1.0      24.0    1.82900     4   \n",
      "...            ...        ...        ...       ...       ...        ...   ...   \n",
      "1532415  57.619722  23.621389 2005-12-02      -1.0      55.0   86.28360     4   \n",
      "1532416  57.619722  23.621389 2005-12-02      -1.0      55.0        NaN     2   \n",
      "1532417  57.619722  23.621389 2005-12-02      -1.0      55.0   24.45552     4   \n",
      "1532418  57.619722  23.621389 2005-12-02      -1.0      55.0        NaN     2   \n",
      "1532419  57.619722  23.621389 2005-12-02      -1.0      55.0  123.25680     4   \n",
      "\n",
      "        _dl  area sed_type _sampmet _prepmet    value nuclide  \n",
      "549778    =  2374       59        0        0     26.6   ru106  \n",
      "549779    =  2374       59        0        0    134.0   sb125  \n",
      "549780    =  2374       59        0        0     18.6   sb125  \n",
      "549781    =  2374       59        0        0     42.5   cs134  \n",
      "549782    =  2374       59        0        0      5.9   cs134  \n",
      "...      ..   ...      ...      ...      ...      ...     ...  \n",
      "1532415   =  2409       58        0        0   1106.2     k40  \n",
      "1532416   =  2409       58        0        0  991.023   cs137  \n",
      "1532417   =  2409       58        0        0    550.8   cs137  \n",
      "1532418   =  2409       58        0        0  2461.36     k40  \n",
      "1532419   =  2409       58        0        0   1368.0     k40  \n",
      "\n",
      "[123196 rows x 14 columns]\n"
     ]
    }
   ],
   "source": [
    "dfs = load_data(df, ref_id)\n",
    "tfm = Transformer(dfs, cbs=[\n",
    "    RemapRdnNameCB(),\n",
    "    RenameColumnCB(),\n",
    "    DropNAColumnsCB(),\n",
    "    SanitizeDetectionLimitCB(),\n",
    "    ParseTimeCB()\n",
    "    ])\n",
    "\n",
    "print(tfm()['sediment'])"
   ]
  },
  {
   "cell_type": "markdown",
   "id": "375be6e5",
   "metadata": {},
   "source": [
    "### Reshape: long to wide"
   ]
  },
  {
   "cell_type": "code",
   "execution_count": null,
   "id": "24ed472c",
   "metadata": {},
   "outputs": [],
   "source": [
    "#| export\n",
    "class ReshapeLongToWide(Callback):\n",
    "    \"Convert data from long to wide with renamed columns.\"\n",
    "    def __init__(self, columns='nuclide', values=['value']):\n",
    "        fc.store_attr()\n",
    "        # Retrieve all possible derived vars (e.g 'unc', 'dl', ...) from configs\n",
    "        self.derived_cols = [value['name'] for value in cdl_cfg()['vars']['suffixes'].values()]\n",
    "    \n",
    "    def renamed_cols(self, cols):\n",
    "        \"Flatten columns name\"\n",
    "        return [inner if outer == \"value\" else f'{inner}{outer}'\n",
    "                if inner else outer\n",
    "                for outer, inner in cols]\n",
    "\n",
    "    def pivot(self, df):\n",
    "        # Among all possible 'derived cols' select the ones present in df\n",
    "        derived_coi = [col for col in self.derived_cols if col in df.columns]\n",
    "        \n",
    "        df.reset_index(names='sample', inplace=True)\n",
    "        \n",
    "        idx = list(set(df.columns) - set([self.columns] + derived_coi + self.values))\n",
    "        return df.pivot_table(index=idx,\n",
    "                              columns=self.columns,\n",
    "                              values=self.values + derived_coi,\n",
    "                              fill_value=np.nan,\n",
    "                              aggfunc=lambda x: x\n",
    "                              ).reset_index()\n",
    "\n",
    "    def __call__(self, tfm):\n",
    "        for k in tfm.dfs.keys():\n",
    "            tfm.dfs[k] = self.pivot(tfm.dfs[k])\n",
    "            tfm.dfs[k].columns = self.renamed_cols(tfm.dfs[k].columns)"
   ]
  },
  {
   "cell_type": "code",
   "execution_count": null,
   "id": "d10de0d2",
   "metadata": {},
   "outputs": [
    {
     "data": {
      "text/html": [
       "<div>\n",
       "<style scoped>\n",
       "    .dataframe tbody tr th:only-of-type {\n",
       "        vertical-align: middle;\n",
       "    }\n",
       "\n",
       "    .dataframe tbody tr th {\n",
       "        vertical-align: top;\n",
       "    }\n",
       "\n",
       "    .dataframe thead th {\n",
       "        text-align: right;\n",
       "    }\n",
       "</style>\n",
       "<table border=\"1\" class=\"dataframe\">\n",
       "  <thead>\n",
       "    <tr style=\"text-align: right;\">\n",
       "      <th>nuclide</th>\n",
       "      <th>a</th>\n",
       "      <th>b</th>\n",
       "      <th>c</th>\n",
       "    </tr>\n",
       "    <tr>\n",
       "      <th>idx</th>\n",
       "      <th></th>\n",
       "      <th></th>\n",
       "      <th></th>\n",
       "    </tr>\n",
       "  </thead>\n",
       "  <tbody>\n",
       "    <tr>\n",
       "      <th>1</th>\n",
       "      <td>1.0</td>\n",
       "      <td>2.0</td>\n",
       "      <td>NaN</td>\n",
       "    </tr>\n",
       "    <tr>\n",
       "      <th>2</th>\n",
       "      <td>NaN</td>\n",
       "      <td>NaN</td>\n",
       "      <td>3.0</td>\n",
       "    </tr>\n",
       "  </tbody>\n",
       "</table>\n",
       "</div>"
      ],
      "text/plain": [
       "nuclide    a    b    c\n",
       "idx                   \n",
       "1        1.0  2.0  NaN\n",
       "2        NaN  NaN  3.0"
      ]
     },
     "execution_count": null,
     "metadata": {},
     "output_type": "execute_result"
    }
   ],
   "source": [
    "# How do that work?\n",
    "#    In our case, unique idx is a composite index (lon, lat, time, depth)\n",
    "#    We want to transform:\n",
    "# idx , nuc, val\n",
    "# 1   , a  , 1\n",
    "# 1   , b  , 2\n",
    "# 2   , c  , 3\n",
    "\n",
    "# to: \n",
    "# idx, a,  b,   c\n",
    "# 1  , 1,  2,   nan\n",
    "# 2  ,nan, nan, 3 \n",
    "df_test = pd.DataFrame({\n",
    "    'idx': [1, 1, 2],\n",
    "    'nuclide': ['a', 'b', 'c'],\n",
    "    'value': [1, 2, 3]\n",
    "    })\n",
    "\n",
    "df_test.pivot_table(index='idx',\n",
    "                    columns='nuclide',\n",
    "                    values='value',\n",
    "                    fill_value=np.nan,\n",
    "                    # aggfunc=lambda x: x\n",
    "                    )"
   ]
  },
  {
   "cell_type": "code",
   "execution_count": null,
   "id": "7328389e",
   "metadata": {},
   "outputs": [
    {
     "name": "stdout",
     "output_type": "stream",
     "text": [
      "              lon  area       time  tot_depth   sample        lat  smp_depth  \\\n",
      "0        9.633333  2374 1987-04-08       16.0   549834  54.850000       -1.0   \n",
      "1        9.633333  2374 1987-04-08       16.0   549835  54.850000       -1.0   \n",
      "2        9.633333  2374 1987-04-08       16.0   549836  54.850000       -1.0   \n",
      "3        9.633333  2374 1987-04-08       16.0   549837  54.850000       -1.0   \n",
      "4        9.633333  2374 1987-04-08       16.0   549838  54.850000       -1.0   \n",
      "...           ...   ...        ...        ...      ...        ...        ...   \n",
      "122829  29.833333  2407 2005-10-02        0.0  1518808  59.983333       -1.0   \n",
      "122830  29.833333  2407 2005-10-02        0.0  1518809  59.983333       -1.0   \n",
      "122831  29.833333  2407 2005-10-02        0.0  1518810  59.983333       -1.0   \n",
      "122832  29.833333  2407 2005-10-02        0.0  1528756  59.983333       -1.0   \n",
      "122833  29.833333  2407 2005-10-02        0.0  1528757  59.983333       -1.0   \n",
      "\n",
      "        sed_type ac228_dl ag110m_dl  ... sb124 sb125 sr90 th228 th232 th234  \\\n",
      "0             58      NaN       NaN  ...   NaN   NaN  NaN   NaN   NaN   NaN   \n",
      "1             58      NaN       NaN  ...   NaN   NaN  NaN   NaN   NaN   NaN   \n",
      "2             58      NaN       NaN  ...   NaN   NaN  NaN   NaN   NaN   NaN   \n",
      "3             58      NaN       NaN  ...   NaN   NaN  NaN   NaN   NaN   NaN   \n",
      "4             58      NaN       NaN  ...   NaN   NaN  NaN   NaN   NaN   NaN   \n",
      "...          ...      ...       ...  ...   ...   ...  ...   ...   ...   ...   \n",
      "122829         2      NaN       NaN  ...   NaN   NaN  NaN   NaN   NaN   NaN   \n",
      "122830         2      NaN       NaN  ...   NaN   NaN  NaN   NaN   NaN   NaN   \n",
      "122831         2      NaN       NaN  ...   NaN   NaN  NaN   NaN   NaN   NaN   \n",
      "122832         2      NaN       NaN  ...   NaN   NaN  NaN   NaN   NaN   NaN   \n",
      "122833         2      NaN       NaN  ...   NaN   NaN  NaN   NaN   NaN   NaN   \n",
      "\n",
      "       tl208 u235 zn65 zr95  \n",
      "0        NaN  NaN  NaN  NaN  \n",
      "1        NaN  NaN  NaN  NaN  \n",
      "2        NaN  NaN  NaN  NaN  \n",
      "3        NaN  NaN  NaN  NaN  \n",
      "4        NaN  NaN  NaN  NaN  \n",
      "...      ...  ...  ...  ...  \n",
      "122829   NaN  NaN  NaN  NaN  \n",
      "122830   NaN  NaN  NaN  NaN  \n",
      "122831   NaN  NaN  NaN  NaN  \n",
      "122832   NaN  NaN  NaN  NaN  \n",
      "122833   NaN  NaN  NaN  NaN  \n",
      "\n",
      "[122834 rows x 271 columns]\n"
     ]
    }
   ],
   "source": [
    "dfs = load_data(df, ref_id)\n",
    "tfm = Transformer(dfs, cbs=[\n",
    "    RemapRdnNameCB(),\n",
    "    RenameColumnCB(),\n",
    "    DropNAColumnsCB(),\n",
    "    SanitizeDetectionLimitCB(),\n",
    "    ParseTimeCB(),\n",
    "    ReshapeLongToWide()\n",
    "    ])\n",
    "\n",
    "print(tfm()['sediment'])"
   ]
  },
  {
   "cell_type": "markdown",
   "id": "8587a731",
   "metadata": {},
   "source": [
    "### Encode time (seconds since ...)"
   ]
  },
  {
   "cell_type": "code",
   "execution_count": null,
   "id": "73e0ef14",
   "metadata": {},
   "outputs": [
    {
     "name": "stdout",
     "output_type": "stream",
     "text": [
      "              lon  area        time  tot_depth   sample        lat  smp_depth  \\\n",
      "0        9.633333  2374   544838400       16.0   549834  54.850000       -1.0   \n",
      "1        9.633333  2374   544838400       16.0   549835  54.850000       -1.0   \n",
      "2        9.633333  2374   544838400       16.0   549836  54.850000       -1.0   \n",
      "3        9.633333  2374   544838400       16.0   549837  54.850000       -1.0   \n",
      "4        9.633333  2374   544838400       16.0   549838  54.850000       -1.0   \n",
      "...           ...   ...         ...        ...      ...        ...        ...   \n",
      "122829  29.833333  2407  1128211200        0.0  1518808  59.983333       -1.0   \n",
      "122830  29.833333  2407  1128211200        0.0  1518809  59.983333       -1.0   \n",
      "122831  29.833333  2407  1128211200        0.0  1518810  59.983333       -1.0   \n",
      "122832  29.833333  2407  1128211200        0.0  1528756  59.983333       -1.0   \n",
      "122833  29.833333  2407  1128211200        0.0  1528757  59.983333       -1.0   \n",
      "\n",
      "        sed_type ac228_dl ag110m_dl  ... sb124 sb125 sr90 th228 th232 th234  \\\n",
      "0             58      NaN       NaN  ...   NaN   NaN  NaN   NaN   NaN   NaN   \n",
      "1             58      NaN       NaN  ...   NaN   NaN  NaN   NaN   NaN   NaN   \n",
      "2             58      NaN       NaN  ...   NaN   NaN  NaN   NaN   NaN   NaN   \n",
      "3             58      NaN       NaN  ...   NaN   NaN  NaN   NaN   NaN   NaN   \n",
      "4             58      NaN       NaN  ...   NaN   NaN  NaN   NaN   NaN   NaN   \n",
      "...          ...      ...       ...  ...   ...   ...  ...   ...   ...   ...   \n",
      "122829         2      NaN       NaN  ...   NaN   NaN  NaN   NaN   NaN   NaN   \n",
      "122830         2      NaN       NaN  ...   NaN   NaN  NaN   NaN   NaN   NaN   \n",
      "122831         2      NaN       NaN  ...   NaN   NaN  NaN   NaN   NaN   NaN   \n",
      "122832         2      NaN       NaN  ...   NaN   NaN  NaN   NaN   NaN   NaN   \n",
      "122833         2      NaN       NaN  ...   NaN   NaN  NaN   NaN   NaN   NaN   \n",
      "\n",
      "       tl208 u235 zn65 zr95  \n",
      "0        NaN  NaN  NaN  NaN  \n",
      "1        NaN  NaN  NaN  NaN  \n",
      "2        NaN  NaN  NaN  NaN  \n",
      "3        NaN  NaN  NaN  NaN  \n",
      "4        NaN  NaN  NaN  NaN  \n",
      "...      ...  ...  ...  ...  \n",
      "122829   NaN  NaN  NaN  NaN  \n",
      "122830   NaN  NaN  NaN  NaN  \n",
      "122831   NaN  NaN  NaN  NaN  \n",
      "122832   NaN  NaN  NaN  NaN  \n",
      "122833   NaN  NaN  NaN  NaN  \n",
      "\n",
      "[122834 rows x 271 columns]\n"
     ]
    }
   ],
   "source": [
    "dfs = load_data(df, ref_id)\n",
    "tfm = Transformer(dfs, cbs=[\n",
    "    RemapRdnNameCB(),\n",
    "    RenameColumnCB(),\n",
    "    DropNAColumnsCB(),\n",
    "    SanitizeDetectionLimitCB(),\n",
    "    ParseTimeCB(),\n",
    "    ReshapeLongToWide(),\n",
    "    EncodeTimeCB(cfg())\n",
    "    ])\n",
    "\n",
    "print(tfm()['sediment'])"
   ]
  },
  {
   "cell_type": "markdown",
   "id": "bd91144a",
   "metadata": {},
   "source": [
    "### Sanitize coordinates"
   ]
  },
  {
   "cell_type": "code",
   "execution_count": null,
   "id": "80141e2a",
   "metadata": {},
   "outputs": [],
   "source": [
    "dfs = load_data(df, ref_id)\n",
    "tfm = Transformer(dfs, cbs=[\n",
    "    RemapRdnNameCB(),\n",
    "    RenameColumnCB(),\n",
    "    DropNAColumnsCB(),\n",
    "    SanitizeDetectionLimitCB(),\n",
    "    ParseTimeCB(),\n",
    "    ReshapeLongToWide(),\n",
    "    EncodeTimeCB(cfg()),\n",
    "    SanitizeLonLatCB()\n",
    "    ])\n",
    "\n",
    "# print(tfm()['sediment'])\n",
    "df_debug = tfm()['sediment']"
   ]
  },
  {
   "cell_type": "markdown",
   "id": "709b6999",
   "metadata": {},
   "source": [
    "## Encode to NetCDF"
   ]
  },
  {
   "cell_type": "code",
   "execution_count": null,
   "id": "c55f5ef3",
   "metadata": {},
   "outputs": [],
   "source": [
    "dfs = load_data(df, ref_id)\n",
    "tfm = Transformer(dfs, cbs=[\n",
    "    RemapRdnNameCB(),\n",
    "    RenameColumnCB(),\n",
    "    DropNAColumnsCB(),\n",
    "    SanitizeDetectionLimitCB(),\n",
    "    ParseTimeCB(),\n",
    "    ReshapeLongToWide(),\n",
    "    EncodeTimeCB(cfg()),\n",
    "    SanitizeLonLatCB()\n",
    "    ])\n",
    "\n",
    "dfs_tfm = tfm()"
   ]
  },
  {
   "cell_type": "code",
   "execution_count": null,
   "id": "640925a3",
   "metadata": {},
   "outputs": [
    {
     "data": {
      "text/plain": [
       "['Remap to MARIS radionuclide names.',\n",
       " 'Renaming variables to MARIS standard names.',\n",
       " \"Drop variable containing only NaN or 'Not available' (id=0 in MARIS lookup tables).\",\n",
       " 'Assign Detection Limit name to its id based on MARIS nomenclature.',\n",
       " 'Convert data from long to wide with renamed columns.',\n",
       " 'Encode time as `int` representing seconds since xxx',\n",
       " 'Drop row when both longitude & latitude equal 0. Drop unrealistic longitude & latitude values. Convert longitude & latitude `,` separator to `.` separator.']"
      ]
     },
     "execution_count": null,
     "metadata": {},
     "output_type": "execute_result"
    }
   ],
   "source": [
    "tfm.logs"
   ]
  },
  {
   "cell_type": "code",
   "execution_count": null,
   "id": "f98fd736",
   "metadata": {},
   "outputs": [],
   "source": [
    "#| export\n",
    "kw = ['oceanography', 'Earth Science > Oceans > Ocean Chemistry> Radionuclides',\n",
    "      'Earth Science > Human Dimensions > Environmental Impacts > Nuclear Radiation Exposure',\n",
    "      'Earth Science > Oceans > Ocean Chemistry > Ocean Tracers, Earth Science > Oceans > Marine Sediments',\n",
    "      'Earth Science > Oceans > Ocean Chemistry, Earth Science > Oceans > Sea Ice > Isotopes',\n",
    "      'Earth Science > Oceans > Water Quality > Ocean Contaminants',\n",
    "      'Earth Science > Biological Classification > Animals/Vertebrates > Fish',\n",
    "      'Earth Science > Biosphere > Ecosystems > Marine Ecosystems',\n",
    "      'Earth Science > Biological Classification > Animals/Invertebrates > Mollusks',\n",
    "      'Earth Science > Biological Classification > Animals/Invertebrates > Arthropods > Crustaceans',\n",
    "      'Earth Science > Biological Classification > Plants > Macroalgae (Seaweeds)']"
   ]
  },
  {
   "cell_type": "code",
   "execution_count": null,
   "id": "ca5357b7",
   "metadata": {},
   "outputs": [],
   "source": [
    "#| export\n",
    "def get_attrs(tfm, zotero_key, kw=kw):\n",
    "    return GlobAttrsFeeder(tfm.dfs, cbs=[\n",
    "        BboxCB(),\n",
    "        DepthRangeCB(),\n",
    "        TimeRangeCB(cfg()),\n",
    "        ZoteroCB(zotero_key, cfg=cfg()),\n",
    "        KeyValuePairCB('keywords', ', '.join(kw)),\n",
    "        KeyValuePairCB('publisher_postprocess_logs', ', '.join(tfm.logs))\n",
    "        ])()"
   ]
  },
  {
   "cell_type": "code",
   "execution_count": null,
   "id": "6385d9e3",
   "metadata": {},
   "outputs": [
    {
     "data": {
      "text/plain": [
       "{'geospatial_lat_min': '30.435833333333335',\n",
       " 'geospatial_lat_max': '65.75',\n",
       " 'geospatial_lon_min': '9.633333333333333',\n",
       " 'geospatial_lon_max': '53.5',\n",
       " 'geospatial_bounds': 'POLYGON ((9.633333333333333 53.5, 30.435833333333335 53.5, 30.435833333333335 65.75, 9.633333333333333 65.75, 9.633333333333333 53.5))',\n",
       " 'time_coverage_start': '1984-01-10T00:00:00',\n",
       " 'time_coverage_end': '2018-12-14T00:00:00',\n",
       " 'title': 'Radioactivity Monitoring of the Irish Marine Environment 1991 and 1992',\n",
       " 'summary': '',\n",
       " 'creator_name': '[{\"creatorType\": \"author\", \"firstName\": \"A.\", \"lastName\": \"McGarry\"}, {\"creatorType\": \"author\", \"firstName\": \"S.\", \"lastName\": \"Lyons\"}, {\"creatorType\": \"author\", \"firstName\": \"C.\", \"lastName\": \"McEnri\"}, {\"creatorType\": \"author\", \"firstName\": \"T.\", \"lastName\": \"Ryan\"}, {\"creatorType\": \"author\", \"firstName\": \"M.\", \"lastName\": \"O\\'Colmain\"}, {\"creatorType\": \"author\", \"firstName\": \"J.D.\", \"lastName\": \"Cunningham\"}]',\n",
       " 'keywords': 'oceanography, Earth Science > Oceans > Ocean Chemistry> Radionuclides, Earth Science > Human Dimensions > Environmental Impacts > Nuclear Radiation Exposure, Earth Science > Oceans > Ocean Chemistry > Ocean Tracers, Earth Science > Oceans > Marine Sediments, Earth Science > Oceans > Ocean Chemistry, Earth Science > Oceans > Sea Ice > Isotopes, Earth Science > Oceans > Water Quality > Ocean Contaminants, Earth Science > Biological Classification > Animals/Vertebrates > Fish, Earth Science > Biosphere > Ecosystems > Marine Ecosystems, Earth Science > Biological Classification > Animals/Invertebrates > Mollusks, Earth Science > Biological Classification > Animals/Invertebrates > Arthropods > Crustaceans, Earth Science > Biological Classification > Plants > Macroalgae (Seaweeds)',\n",
       " 'publisher_postprocess_logs': \"Remap to MARIS radionuclide names., Renaming variables to MARIS standard names., Drop variable containing only NaN or 'Not available' (id=0 in MARIS lookup tables)., Assign Detection Limit name to its id based on MARIS nomenclature., Convert data from long to wide with renamed columns., Encode time as `int` representing seconds since xxx, Drop row when both longitude & latitude equal 0. Drop unrealistic longitude & latitude values. Convert longitude & latitude `,` separator to `.` separator.\"}"
      ]
     },
     "execution_count": null,
     "metadata": {},
     "output_type": "execute_result"
    }
   ],
   "source": [
    "get_attrs(tfm, zotero_key='3W354SQG', kw=kw)"
   ]
  },
  {
   "cell_type": "code",
   "execution_count": null,
   "id": "ce312588",
   "metadata": {},
   "outputs": [],
   "source": [
    "#| export\n",
    "def enums_xtra(tfm, vars):\n",
    "    \"Retrieve a subset of the lengthy enum as 'species_t' for instance\"\n",
    "    enums = Enums(lut_src_dir=lut_path(), cdl_enums=cdl_cfg()['enums'])\n",
    "    xtras = {}\n",
    "    for var in vars:\n",
    "        unique_vals = tfm.unique(var)\n",
    "        if unique_vals.any():\n",
    "            xtras[f'{var}_t'] = enums.filter(f'{var}_t', unique_vals)\n",
    "    return xtras"
   ]
  },
  {
   "cell_type": "code",
   "execution_count": null,
   "id": "63419143",
   "metadata": {},
   "outputs": [],
   "source": [
    "#| export\n",
    "def encode(fname_in, fname_out, nc_tpl_path, **kwargs):\n",
    "    df = load_dump(fname_in)\n",
    "    ref_ids = kwargs.get('ref_ids', df.ref_id.unique())\n",
    "    print('Encoding ...')\n",
    "    for ref_id in tqdm(ref_ids, leave=False):\n",
    "        dfs = load_data(df, ref_id)\n",
    "        print(get_fname(dfs))\n",
    "        tfm = Transformer(dfs, cbs=[\n",
    "            RemapRdnNameCB(),\n",
    "            RenameColumnCB(),\n",
    "            DropNAColumnsCB(),\n",
    "            SanitizeDetectionLimitCB(),\n",
    "            ParseTimeCB(),\n",
    "            ReshapeLongToWide(),\n",
    "            EncodeTimeCB(cfg()),\n",
    "            SanitizeLonLatCB(verbose=True)\n",
    "            ])\n",
    "       \n",
    "        tfm()\n",
    "        encoder = NetCDFEncoder(tfm.dfs, \n",
    "                                src_fname=nc_tpl_path,\n",
    "                                dest_fname=Path(fname_out) / get_fname(dfs), \n",
    "                                global_attrs=get_attrs(tfm, zotero_key=get_zotero_key(dfs), kw=kw),\n",
    "                                verbose=kwargs.get('verbose', False),\n",
    "                                enums_xtra=enums_xtra(tfm, vars=['species', 'body_part'])\n",
    "                                )\n",
    "        encoder.encode()"
   ]
  },
  {
   "cell_type": "markdown",
   "id": "02bb5bfd",
   "metadata": {},
   "source": [
    "### Single dataset"
   ]
  },
  {
   "cell_type": "code",
   "execution_count": null,
   "id": "11578c2d",
   "metadata": {},
   "outputs": [],
   "source": [
    "tfm = Transformer(dfs, cbs=[\n",
    "            RemapRdnNameCB(),\n",
    "            RenameColumnCB(),\n",
    "            DropNAColumnsCB(),\n",
    "            SanitizeDetectionLimitCB(),\n",
    "            ParseTimeCB(),\n",
    "            ReshapeLongToWide(),\n",
    "            EncodeTimeCB(cfg()),\n",
    "            SanitizeLonLatCB(verbose=True)\n",
    "            ])\n",
    "dfs_test = tfm()"
   ]
  },
  {
   "cell_type": "code",
   "execution_count": null,
   "id": "580d07b5-4306-4828-bdab-4621a722eca3",
   "metadata": {},
   "outputs": [
    {
     "data": {
      "text/plain": [
       "array([nan,  1.,  2.])"
      ]
     },
     "execution_count": null,
     "metadata": {},
     "output_type": "execute_result"
    }
   ],
   "source": [
    "dfs_test['biota'].be7_dl.unique()"
   ]
  },
  {
   "cell_type": "code",
   "execution_count": null,
   "id": "26bd157d",
   "metadata": {},
   "outputs": [
    {
     "name": "stdout",
     "output_type": "stream",
     "text": [
      "Encoding ...\n"
     ]
    },
    {
     "name": "stderr",
     "output_type": "stream",
     "text": [
      "  0%|                                                                                                                                                                                 | 0/1 [00:00<?, ?it/s]"
     ]
    },
    {
     "name": "stdout",
     "output_type": "stream",
     "text": [
      "100-HELCOM-MORS-2018.nc\n"
     ]
    },
    {
     "name": "stderr",
     "output_type": "stream",
     "text": [
      "                                                                                                                                                                                                            \r"
     ]
    }
   ],
   "source": [
    "ref_id = 100\n",
    "encode(fname_in, dir_dest, nc_tpl_path(), verbose=False, ref_ids=[ref_id])"
   ]
  },
  {
   "cell_type": "markdown",
   "id": "f3da7ded",
   "metadata": {},
   "source": [
    "### All datasets"
   ]
  },
  {
   "cell_type": "code",
   "execution_count": null,
   "id": "c13a3f6f",
   "metadata": {},
   "outputs": [
    {
     "name": "stdout",
     "output_type": "stream",
     "text": [
      "Encoding ...\n"
     ]
    },
    {
     "name": "stderr",
     "output_type": "stream",
     "text": [
      "  0%|          | 0/526 [00:00<?, ?it/s]"
     ]
    },
    {
     "name": "stdout",
     "output_type": "stream",
     "text": [
      "182-Urban-et-al-2015.nc\n"
     ]
    },
    {
     "name": "stderr",
     "output_type": "stream",
     "text": [
      "  0%|          | 1/526 [00:02<24:30,  2.80s/it]"
     ]
    },
    {
     "name": "stdout",
     "output_type": "stream",
     "text": [
      "183-Bokor-et-al-2016.nc\n"
     ]
    },
    {
     "name": "stderr",
     "output_type": "stream",
     "text": [
      "  0%|          | 2/526 [00:07<36:12,  4.15s/it]"
     ]
    },
    {
     "name": "stdout",
     "output_type": "stream",
     "text": [
      "226-Sdraulig-2018.nc\n"
     ]
    },
    {
     "name": "stderr",
     "output_type": "stream",
     "text": [
      "  1%|          | 3/526 [00:09<27:04,  3.11s/it]"
     ]
    },
    {
     "name": "stdout",
     "output_type": "stream",
     "text": [
      "323-Johansen-et-al-2019.nc\n"
     ]
    },
    {
     "name": "stderr",
     "output_type": "stream",
     "text": [
      "  1%|          | 4/526 [00:11<23:35,  2.71s/it]"
     ]
    },
    {
     "name": "stdout",
     "output_type": "stream",
     "text": [
      "374-Ostlund-et-al-1987.nc\n"
     ]
    },
    {
     "name": "stderr",
     "output_type": "stream",
     "text": [
      "  1%|          | 5/526 [00:20<42:44,  4.92s/it]"
     ]
    },
    {
     "name": "stdout",
     "output_type": "stream",
     "text": [
      "402-CCHDO-2018.nc\n"
     ]
    },
    {
     "name": "stderr",
     "output_type": "stream",
     "text": [
      "  1%|          | 6/526 [00:27<47:20,  5.46s/it]"
     ]
    },
    {
     "name": "stdout",
     "output_type": "stream",
     "text": [
      "401-Olsen-et-al-2016.nc\n"
     ]
    },
    {
     "name": "stderr",
     "output_type": "stream",
     "text": [
      "  1%|▏         | 7/526 [00:31<42:51,  4.95s/it]"
     ]
    },
    {
     "name": "stdout",
     "output_type": "stream",
     "text": [
      "358-Kall-et-al-2014.nc\n"
     ]
    },
    {
     "name": "stderr",
     "output_type": "stream",
     "text": [
      "  2%|▏         | 8/526 [00:33<34:20,  3.98s/it]"
     ]
    },
    {
     "name": "stdout",
     "output_type": "stream",
     "text": [
      "568-Johansen-2020.nc\n"
     ]
    },
    {
     "name": "stderr",
     "output_type": "stream",
     "text": [
      "  2%|▏         | 9/526 [00:35<30:09,  3.50s/it]"
     ]
    },
    {
     "name": "stdout",
     "output_type": "stream",
     "text": [
      "30-Östlund-and-Grall-1991.nc\n"
     ]
    },
    {
     "name": "stderr",
     "output_type": "stream",
     "text": [
      "  2%|▏         | 10/526 [00:37<26:36,  3.09s/it]"
     ]
    },
    {
     "name": "stdout",
     "output_type": "stream",
     "text": [
      "97-ASPAMARD-2004.nc\n"
     ]
    },
    {
     "name": "stderr",
     "output_type": "stream",
     "text": [
      "  2%|▏         | 11/526 [00:40<24:37,  2.87s/it]"
     ]
    },
    {
     "name": "stdout",
     "output_type": "stream",
     "text": [
      "99-Aoyama-and-Hirose-2004.nc\n"
     ]
    },
    {
     "name": "stderr",
     "output_type": "stream",
     "text": [
      "  2%|▏         | 12/526 [00:51<46:00,  5.37s/it]"
     ]
    },
    {
     "name": "stdout",
     "output_type": "stream",
     "text": [
      "106-Yamada-et-al-2006.nc\n"
     ]
    },
    {
     "name": "stderr",
     "output_type": "stream",
     "text": [
      "  2%|▏         | 13/526 [00:53<37:06,  4.34s/it]"
     ]
    },
    {
     "name": "stdout",
     "output_type": "stream",
     "text": [
      "18-Cherry-and-Heyraud-1982.nc\n"
     ]
    },
    {
     "name": "stderr",
     "output_type": "stream",
     "text": [
      "  3%|▎         | 14/526 [00:57<36:08,  4.24s/it]"
     ]
    },
    {
     "name": "stdout",
     "output_type": "stream",
     "text": [
      "16-Cherry-and-Heyraud-1981.nc\n"
     ]
    },
    {
     "name": "stderr",
     "output_type": "stream",
     "text": [
      "  3%|▎         | 15/526 [00:59<30:36,  3.59s/it]"
     ]
    },
    {
     "name": "stdout",
     "output_type": "stream",
     "text": [
      "443-Heyraud-et-al-1994.nc\n"
     ]
    },
    {
     "name": "stderr",
     "output_type": "stream",
     "text": [
      "  3%|▎         | 16/526 [01:01<26:19,  3.10s/it]"
     ]
    },
    {
     "name": "stdout",
     "output_type": "stream",
     "text": [
      "508-Lee-et-al-2018.nc\n"
     ]
    },
    {
     "name": "stderr",
     "output_type": "stream",
     "text": [
      "  3%|▎         | 17/526 [01:03<23:29,  2.77s/it]"
     ]
    },
    {
     "name": "stdout",
     "output_type": "stream",
     "text": [
      "509-Johansen-et-al-2015.nc\n"
     ]
    },
    {
     "name": "stderr",
     "output_type": "stream",
     "text": [
      "  3%|▎         | 18/526 [01:05<22:52,  2.70s/it]"
     ]
    },
    {
     "name": "stdout",
     "output_type": "stream",
     "text": [
      "395-Bailly-du-Bois-et-al-2020.nc\n"
     ]
    },
    {
     "name": "stderr",
     "output_type": "stream",
     "text": [
      "  4%|▎         | 19/526 [01:25<1:06:44,  7.90s/it]"
     ]
    },
    {
     "name": "stdout",
     "output_type": "stream",
     "text": [
      "400-Boyer-et-al-2013.nc\n"
     ]
    },
    {
     "name": "stderr",
     "output_type": "stream",
     "text": [
      "  4%|▍         | 20/526 [01:27<52:18,  6.20s/it]  "
     ]
    },
    {
     "name": "stdout",
     "output_type": "stream",
     "text": [
      "122-Casacuberta-et-al-2018.nc\n"
     ]
    },
    {
     "name": "stderr",
     "output_type": "stream",
     "text": [
      "  4%|▍         | 21/526 [01:29<41:38,  4.95s/it]"
     ]
    },
    {
     "name": "stdout",
     "output_type": "stream",
     "text": [
      "103-RADNOR-2010.nc\n"
     ]
    },
    {
     "name": "stderr",
     "output_type": "stream",
     "text": [
      "  4%|▍         | 22/526 [01:33<37:43,  4.49s/it]"
     ]
    },
    {
     "name": "stdout",
     "output_type": "stream",
     "text": [
      "190-Schlitzer-et-al-2018.nc\n"
     ]
    },
    {
     "name": "stderr",
     "output_type": "stream",
     "text": [
      "  4%|▍         | 23/526 [01:47<1:02:44,  7.48s/it]"
     ]
    },
    {
     "name": "stdout",
     "output_type": "stream",
     "text": [
      "432-Efurd-et-al-1997.nc\n"
     ]
    },
    {
     "name": "stderr",
     "output_type": "stream",
     "text": [
      "  5%|▍         | 24/526 [01:50<49:43,  5.94s/it]  "
     ]
    },
    {
     "name": "stdout",
     "output_type": "stream",
     "text": [
      "685-Chamizo-et-al-2021.nc\n"
     ]
    },
    {
     "name": "stderr",
     "output_type": "stream",
     "text": [
      "  5%|▍         | 25/526 [01:52<40:46,  4.88s/it]"
     ]
    },
    {
     "name": "stdout",
     "output_type": "stream",
     "text": [
      "718-Smith-2024.nc\n"
     ]
    },
    {
     "name": "stderr",
     "output_type": "stream",
     "text": [
      "  5%|▍         | 26/526 [01:54<33:51,  4.06s/it]"
     ]
    },
    {
     "name": "stdout",
     "output_type": "stream",
     "text": [
      "222-Huang-et-al-2019.nc\n"
     ]
    },
    {
     "name": "stderr",
     "output_type": "stream",
     "text": [
      "  5%|▌         | 27/526 [01:56<28:30,  3.43s/it]"
     ]
    },
    {
     "name": "stdout",
     "output_type": "stream",
     "text": [
      "380-Smith-et-al-2020.nc\n"
     ]
    },
    {
     "name": "stderr",
     "output_type": "stream",
     "text": [
      "  5%|▌         | 28/526 [01:58<24:46,  2.99s/it]"
     ]
    },
    {
     "name": "stdout",
     "output_type": "stream",
     "text": [
      "720-Payne-et-al-2024.nc\n",
      "Item TBC does not exist in Zotero library\n"
     ]
    },
    {
     "name": "stderr",
     "output_type": "stream",
     "text": [
      "  6%|▌         | 29/526 [02:00<23:07,  2.79s/it]"
     ]
    },
    {
     "name": "stdout",
     "output_type": "stream",
     "text": [
      "191-OSPAR-Comissions-Radioactive-Substances-Committee-(RSC)-2018.nc\n"
     ]
    },
    {
     "name": "stderr",
     "output_type": "stream",
     "text": [
      "  6%|▌         | 30/526 [02:13<47:50,  5.79s/it]"
     ]
    },
    {
     "name": "stdout",
     "output_type": "stream",
     "text": [
      "199-Skjerdal-et-al-2020.nc\n"
     ]
    },
    {
     "name": "stderr",
     "output_type": "stream",
     "text": [
      "  6%|▌         | 31/526 [02:15<38:50,  4.71s/it]"
     ]
    },
    {
     "name": "stdout",
     "output_type": "stream",
     "text": [
      "200-Zaborska-et-al-2010.nc\n"
     ]
    },
    {
     "name": "stderr",
     "output_type": "stream",
     "text": [
      "  6%|▌         | 32/526 [02:17<31:58,  3.88s/it]"
     ]
    },
    {
     "name": "stdout",
     "output_type": "stream",
     "text": [
      "381-Smith-2020.nc\n"
     ]
    },
    {
     "name": "stderr",
     "output_type": "stream",
     "text": [
      "  6%|▋         | 33/526 [02:19<27:11,  3.31s/it]"
     ]
    },
    {
     "name": "stdout",
     "output_type": "stream",
     "text": [
      "477-Valette-Silver-et-al-1999.nc\n"
     ]
    },
    {
     "name": "stderr",
     "output_type": "stream",
     "text": [
      "  6%|▋         | 34/526 [02:22<24:22,  2.97s/it]"
     ]
    },
    {
     "name": "stdout",
     "output_type": "stream",
     "text": [
      "409-Cherry-et-al-1987.nc\n"
     ]
    },
    {
     "name": "stderr",
     "output_type": "stream",
     "text": [
      "  7%|▋         | 35/526 [02:24<22:17,  2.72s/it]"
     ]
    },
    {
     "name": "stdout",
     "output_type": "stream",
     "text": [
      "201-Mietelski-et-al-2008.nc\n"
     ]
    },
    {
     "name": "stderr",
     "output_type": "stream",
     "text": [
      "  7%|▋         | 36/526 [02:26<20:43,  2.54s/it]"
     ]
    },
    {
     "name": "stdout",
     "output_type": "stream",
     "text": [
      "571-Szufa-2018.nc\n"
     ]
    },
    {
     "name": "stderr",
     "output_type": "stream",
     "text": [
      "  7%|▋         | 37/526 [02:28<19:06,  2.34s/it]"
     ]
    },
    {
     "name": "stdout",
     "output_type": "stream",
     "text": [
      "712-Fávaro-et-al-2012.nc\n"
     ]
    },
    {
     "name": "stderr",
     "output_type": "stream",
     "text": [
      "  7%|▋         | 38/526 [02:30<18:16,  2.25s/it]"
     ]
    },
    {
     "name": "stdout",
     "output_type": "stream",
     "text": [
      "570-Szufa-2020.nc\n"
     ]
    },
    {
     "name": "stderr",
     "output_type": "stream",
     "text": [
      "  7%|▋         | 39/526 [02:32<17:19,  2.13s/it]"
     ]
    },
    {
     "name": "stdout",
     "output_type": "stream",
     "text": [
      "109-Gulin-and-Stokozov-2005.nc\n"
     ]
    },
    {
     "name": "stderr",
     "output_type": "stream",
     "text": [
      "  8%|▊         | 40/526 [02:33<16:31,  2.04s/it]"
     ]
    },
    {
     "name": "stdout",
     "output_type": "stream",
     "text": [
      "130-Wada-et-al-2016.nc\n"
     ]
    },
    {
     "name": "stderr",
     "output_type": "stream",
     "text": [
      "  8%|▊         | 41/526 [03:01<1:18:21,  9.69s/it]"
     ]
    },
    {
     "name": "stdout",
     "output_type": "stream",
     "text": [
      "121-TEPCO---Tokyo-Electric-Power-Company-2011.nc\n"
     ]
    },
    {
     "name": "stderr",
     "output_type": "stream",
     "text": [
      "  8%|▊         | 42/526 [04:33<4:37:26, 34.39s/it]"
     ]
    },
    {
     "name": "stdout",
     "output_type": "stream",
     "text": [
      "132-Fukushima-Prefectural-Federation-of-Fisheries-Co-operative-Associations-2012.nc\n"
     ]
    },
    {
     "name": "stderr",
     "output_type": "stream",
     "text": [
      "  8%|▊         | 43/526 [04:50<3:55:08, 29.21s/it]"
     ]
    },
    {
     "name": "stdout",
     "output_type": "stream",
     "text": [
      "224-Takata-et-al-2019.nc\n"
     ]
    },
    {
     "name": "stderr",
     "output_type": "stream",
     "text": [
      "  8%|▊         | 44/526 [04:52<2:49:59, 21.16s/it]"
     ]
    },
    {
     "name": "stdout",
     "output_type": "stream",
     "text": [
      "225-Takata-et-al-2016.nc\n"
     ]
    },
    {
     "name": "stderr",
     "output_type": "stream",
     "text": [
      "  9%|▊         | 45/526 [04:55<2:05:58, 15.71s/it]"
     ]
    },
    {
     "name": "stdout",
     "output_type": "stream",
     "text": [
      "123-Fukushima-Prefecture-2013.nc\n"
     ]
    },
    {
     "name": "stderr",
     "output_type": "stream",
     "text": [
      "  9%|▊         | 46/526 [04:59<1:36:36, 12.08s/it]"
     ]
    },
    {
     "name": "stdout",
     "output_type": "stream",
     "text": [
      "126-Fukushima-Prefecture-2011.nc\n"
     ]
    },
    {
     "name": "stderr",
     "output_type": "stream",
     "text": [
      "  9%|▉         | 47/526 [05:04<1:18:22,  9.82s/it]"
     ]
    },
    {
     "name": "stdout",
     "output_type": "stream",
     "text": [
      "147-MOE---Ministry-of-the-Environment-2012.nc\n"
     ]
    },
    {
     "name": "stderr",
     "output_type": "stream",
     "text": [
      "  9%|▉         | 48/526 [05:06<59:32,  7.47s/it]  "
     ]
    },
    {
     "name": "stdout",
     "output_type": "stream",
     "text": [
      "148-JAEA---Japan-Atomic-Energy-Agency-2013.nc\n"
     ]
    },
    {
     "name": "stderr",
     "output_type": "stream",
     "text": [
      "  9%|▉         | 49/526 [05:08<46:39,  5.87s/it]"
     ]
    },
    {
     "name": "stdout",
     "output_type": "stream",
     "text": [
      "149-JAEA---Japan-Atomic-Energy-Agency-2013.nc\n"
     ]
    },
    {
     "name": "stderr",
     "output_type": "stream",
     "text": [
      " 10%|▉         | 50/526 [05:11<39:20,  4.96s/it]"
     ]
    },
    {
     "name": "stdout",
     "output_type": "stream",
     "text": [
      "142-NRA---Nuclear-Regulation-Authority-2013.nc\n"
     ]
    },
    {
     "name": "stderr",
     "output_type": "stream",
     "text": [
      " 10%|▉         | 51/526 [05:14<35:43,  4.51s/it]"
     ]
    },
    {
     "name": "stdout",
     "output_type": "stream",
     "text": [
      "145-MOE---Ministry-of-the-Environment-2011.nc\n"
     ]
    },
    {
     "name": "stderr",
     "output_type": "stream",
     "text": [
      " 10%|▉         | 52/526 [05:16<29:43,  3.76s/it]"
     ]
    },
    {
     "name": "stdout",
     "output_type": "stream",
     "text": [
      "146-MEXT---Ministry-of-Education-Culture-Sports-Science-and-Technology-2011.nc\n"
     ]
    },
    {
     "name": "stderr",
     "output_type": "stream",
     "text": [
      " 10%|█         | 53/526 [05:19<26:31,  3.37s/it]"
     ]
    },
    {
     "name": "stdout",
     "output_type": "stream",
     "text": [
      "205-MERI-2018.nc\n"
     ]
    },
    {
     "name": "stderr",
     "output_type": "stream",
     "text": [
      " 10%|█         | 54/526 [05:22<27:45,  3.53s/it]"
     ]
    },
    {
     "name": "stdout",
     "output_type": "stream",
     "text": [
      "206-MERI-2019.nc\n"
     ]
    },
    {
     "name": "stderr",
     "output_type": "stream",
     "text": [
      " 10%|█         | 55/526 [05:26<28:08,  3.58s/it]"
     ]
    },
    {
     "name": "stdout",
     "output_type": "stream",
     "text": [
      "119-MEXT---Ministry-of-Education-Culture-Sports-Science-and-Technology-2011.nc\n"
     ]
    },
    {
     "name": "stderr",
     "output_type": "stream",
     "text": [
      " 11%|█         | 56/526 [05:30<28:39,  3.66s/it]"
     ]
    },
    {
     "name": "stdout",
     "output_type": "stream",
     "text": [
      "120-NRA---Nuclear-Regulation-Authority-2013.nc\n"
     ]
    },
    {
     "name": "stderr",
     "output_type": "stream",
     "text": [
      " 11%|█         | 57/526 [05:33<27:18,  3.49s/it]"
     ]
    },
    {
     "name": "stdout",
     "output_type": "stream",
     "text": [
      "155-Buesseler-et-al-2012.nc\n"
     ]
    },
    {
     "name": "stderr",
     "output_type": "stream",
     "text": [
      " 11%|█         | 58/526 [05:35<24:33,  3.15s/it]"
     ]
    },
    {
     "name": "stdout",
     "output_type": "stream",
     "text": [
      "156-Yoshida-et-al-2015.nc\n"
     ]
    },
    {
     "name": "stderr",
     "output_type": "stream",
     "text": [
      " 11%|█         | 59/526 [05:37<21:34,  2.77s/it]"
     ]
    },
    {
     "name": "stdout",
     "output_type": "stream",
     "text": [
      "157-Buesseler-2018.nc\n"
     ]
    },
    {
     "name": "stderr",
     "output_type": "stream",
     "text": [
      " 11%|█▏        | 60/526 [05:39<19:50,  2.56s/it]"
     ]
    },
    {
     "name": "stdout",
     "output_type": "stream",
     "text": [
      "202-MERI-2015.nc\n"
     ]
    },
    {
     "name": "stderr",
     "output_type": "stream",
     "text": [
      " 12%|█▏        | 61/526 [05:43<23:10,  2.99s/it]"
     ]
    },
    {
     "name": "stdout",
     "output_type": "stream",
     "text": [
      "203-MERI-2016.nc\n"
     ]
    },
    {
     "name": "stderr",
     "output_type": "stream",
     "text": [
      " 12%|█▏        | 62/526 [05:47<25:04,  3.24s/it]"
     ]
    },
    {
     "name": "stdout",
     "output_type": "stream",
     "text": [
      "143-Fukushima-Prefecture-2011.nc\n"
     ]
    },
    {
     "name": "stderr",
     "output_type": "stream",
     "text": [
      " 12%|█▏        | 63/526 [05:52<29:18,  3.80s/it]"
     ]
    },
    {
     "name": "stdout",
     "output_type": "stream",
     "text": [
      "144-Fukushima-Prefecture-2013.nc\n"
     ]
    },
    {
     "name": "stderr",
     "output_type": "stream",
     "text": [
      " 12%|█▏        | 64/526 [05:55<27:35,  3.58s/it]"
     ]
    },
    {
     "name": "stdout",
     "output_type": "stream",
     "text": [
      "129-Wada-et-al-2016.nc\n"
     ]
    },
    {
     "name": "stderr",
     "output_type": "stream",
     "text": [
      " 12%|█▏        | 65/526 [05:59<27:56,  3.64s/it]"
     ]
    },
    {
     "name": "stdout",
     "output_type": "stream",
     "text": [
      "131-Ibaraki-Prefecture-2011.nc\n"
     ]
    },
    {
     "name": "stderr",
     "output_type": "stream",
     "text": [
      " 13%|█▎        | 66/526 [06:07<38:12,  4.98s/it]"
     ]
    },
    {
     "name": "stdout",
     "output_type": "stream",
     "text": [
      "680-TEPCO---Tokyo-Electric-Power-Company-2021.nc\n"
     ]
    },
    {
     "name": "stderr",
     "output_type": "stream",
     "text": [
      " 13%|█▎        | 67/526 [06:13<40:15,  5.26s/it]"
     ]
    },
    {
     "name": "stdout",
     "output_type": "stream",
     "text": [
      "204-MERI-2017.nc\n"
     ]
    },
    {
     "name": "stderr",
     "output_type": "stream",
     "text": [
      " 13%|█▎        | 68/526 [06:17<36:56,  4.84s/it]"
     ]
    },
    {
     "name": "stdout",
     "output_type": "stream",
     "text": [
      "117-Oikawa-et-al-2013.nc\n"
     ]
    },
    {
     "name": "stderr",
     "output_type": "stream",
     "text": [
      " 13%|█▎        | 69/526 [06:20<32:46,  4.30s/it]"
     ]
    },
    {
     "name": "stdout",
     "output_type": "stream",
     "text": [
      "118-Kaeriyama-et-al-2013.nc\n"
     ]
    },
    {
     "name": "stderr",
     "output_type": "stream",
     "text": [
      " 13%|█▎        | 70/526 [06:22<27:29,  3.62s/it]"
     ]
    },
    {
     "name": "stdout",
     "output_type": "stream",
     "text": [
      "127-Fukushima-Prefecture-2013.nc\n"
     ]
    },
    {
     "name": "stderr",
     "output_type": "stream",
     "text": [
      " 13%|█▎        | 71/526 [06:25<25:41,  3.39s/it]"
     ]
    },
    {
     "name": "stdout",
     "output_type": "stream",
     "text": [
      "682-NRA---Nuclear-Regulation-Authority-2021.nc\n"
     ]
    },
    {
     "name": "stderr",
     "output_type": "stream",
     "text": [
      " 14%|█▎        | 72/526 [06:27<23:17,  3.08s/it]"
     ]
    },
    {
     "name": "stdout",
     "output_type": "stream",
     "text": [
      "681-NRA---Nuclear-Regulation-Authority-2021.nc\n"
     ]
    },
    {
     "name": "stderr",
     "output_type": "stream",
     "text": [
      " 14%|█▍        | 73/526 [06:29<21:13,  2.81s/it]"
     ]
    },
    {
     "name": "stdout",
     "output_type": "stream",
     "text": [
      "193-Kusakabe-and-Takata-2020.nc\n"
     ]
    },
    {
     "name": "stderr",
     "output_type": "stream",
     "text": [
      " 14%|█▍        | 74/526 [06:32<20:08,  2.67s/it]"
     ]
    },
    {
     "name": "stdout",
     "output_type": "stream",
     "text": [
      "194-Tateda-and-Misonou-1990.nc\n"
     ]
    },
    {
     "name": "stderr",
     "output_type": "stream",
     "text": [
      " 14%|█▍        | 75/526 [06:34<18:21,  2.44s/it]"
     ]
    },
    {
     "name": "stdout",
     "output_type": "stream",
     "text": [
      "195-Tateda-and-Koyanagi-1994.nc\n"
     ]
    },
    {
     "name": "stderr",
     "output_type": "stream",
     "text": [
      " 14%|█▍        | 76/526 [06:36<17:23,  2.32s/it]"
     ]
    },
    {
     "name": "stdout",
     "output_type": "stream",
     "text": [
      "153-Yu-et-al-2018.nc\n"
     ]
    },
    {
     "name": "stderr",
     "output_type": "stream",
     "text": [
      " 15%|█▍        | 77/526 [06:39<20:00,  2.67s/it]"
     ]
    },
    {
     "name": "stdout",
     "output_type": "stream",
     "text": [
      "158-Buesseler-2018.nc\n"
     ]
    },
    {
     "name": "stderr",
     "output_type": "stream",
     "text": [
      " 15%|█▍        | 78/526 [06:41<18:17,  2.45s/it]"
     ]
    },
    {
     "name": "stdout",
     "output_type": "stream",
     "text": [
      "159-Buesseler-2018.nc\n"
     ]
    },
    {
     "name": "stderr",
     "output_type": "stream",
     "text": [
      " 15%|█▌        | 79/526 [06:43<17:29,  2.35s/it]"
     ]
    },
    {
     "name": "stdout",
     "output_type": "stream",
     "text": [
      "124-MOE---Ministry-of-the-Environment-2011.nc\n"
     ]
    },
    {
     "name": "stderr",
     "output_type": "stream",
     "text": [
      " 15%|█▌        | 80/526 [06:45<16:29,  2.22s/it]"
     ]
    },
    {
     "name": "stdout",
     "output_type": "stream",
     "text": [
      "125-MOE---Ministry-of-the-Environment-2012.nc\n"
     ]
    },
    {
     "name": "stderr",
     "output_type": "stream",
     "text": [
      " 15%|█▌        | 81/526 [06:47<15:43,  2.12s/it]"
     ]
    },
    {
     "name": "stdout",
     "output_type": "stream",
     "text": [
      "717-Smith-et-al-2017.nc\n"
     ]
    },
    {
     "name": "stderr",
     "output_type": "stream",
     "text": [
      " 16%|█▌        | 82/526 [06:49<16:03,  2.17s/it]"
     ]
    },
    {
     "name": "stdout",
     "output_type": "stream",
     "text": [
      "679-TEPCO---Tokyo-Electric-Power-Company-2021.nc\n"
     ]
    },
    {
     "name": "stderr",
     "output_type": "stream",
     "text": [
      " 16%|█▌        | 83/526 [06:56<25:10,  3.41s/it]"
     ]
    },
    {
     "name": "stdout",
     "output_type": "stream",
     "text": [
      "684-NRA---Nuclear-Regulation-Authority-2021.nc\n"
     ]
    },
    {
     "name": "stderr",
     "output_type": "stream",
     "text": [
      " 16%|█▌        | 84/526 [06:58<22:43,  3.09s/it]"
     ]
    },
    {
     "name": "stdout",
     "output_type": "stream",
     "text": [
      "687-TEPCO---Tokyo-Electric-Power-Company-2021.nc\n"
     ]
    },
    {
     "name": "stderr",
     "output_type": "stream",
     "text": [
      " 16%|█▌        | 85/526 [07:01<21:18,  2.90s/it]"
     ]
    },
    {
     "name": "stdout",
     "output_type": "stream",
     "text": [
      "688-NRA---Nuclear-Regulation-Authority-2021.nc\n"
     ]
    },
    {
     "name": "stderr",
     "output_type": "stream",
     "text": [
      " 16%|█▋        | 86/526 [07:03<19:34,  2.67s/it]"
     ]
    },
    {
     "name": "stdout",
     "output_type": "stream",
     "text": [
      "683-NRA---Nuclear-Regulation-Authority-2021.nc\n"
     ]
    },
    {
     "name": "stderr",
     "output_type": "stream",
     "text": [
      " 17%|█▋        | 87/526 [07:05<19:51,  2.71s/it]"
     ]
    },
    {
     "name": "stdout",
     "output_type": "stream",
     "text": [
      "135-Japan-Fisheries-Research-and-Education-Agency-2015.nc\n"
     ]
    },
    {
     "name": "stderr",
     "output_type": "stream",
     "text": [
      " 17%|█▋        | 88/526 [07:08<19:21,  2.65s/it]"
     ]
    },
    {
     "name": "stdout",
     "output_type": "stream",
     "text": [
      "137-JCG---Japan-Coast-Guard-2011.nc\n"
     ]
    },
    {
     "name": "stderr",
     "output_type": "stream",
     "text": [
      " 17%|█▋        | 89/526 [07:10<17:38,  2.42s/it]"
     ]
    },
    {
     "name": "stdout",
     "output_type": "stream",
     "text": [
      "141-TEPCO---Tokyo-Electric-Power-Company-2011.nc\n"
     ]
    },
    {
     "name": "stderr",
     "output_type": "stream",
     "text": [
      " 17%|█▋        | 90/526 [07:14<22:15,  3.06s/it]"
     ]
    },
    {
     "name": "stdout",
     "output_type": "stream",
     "text": [
      "133-Fisheries-Agency---Ministry-of-Agriculture-Forestry-and-Fisheries-2011.nc\n"
     ]
    },
    {
     "name": "stderr",
     "output_type": "stream",
     "text": [
      " 17%|█▋        | 91/526 [07:17<20:10,  2.78s/it]"
     ]
    },
    {
     "name": "stdout",
     "output_type": "stream",
     "text": [
      "134-MOE---Ministry-of-the-Environment-2012.nc\n"
     ]
    },
    {
     "name": "stderr",
     "output_type": "stream",
     "text": [
      " 17%|█▋        | 92/526 [07:19<19:44,  2.73s/it]"
     ]
    },
    {
     "name": "stdout",
     "output_type": "stream",
     "text": [
      "404-Azouz-and-Dulai-2017.nc\n"
     ]
    },
    {
     "name": "stderr",
     "output_type": "stream",
     "text": [
      " 18%|█▊        | 93/526 [07:21<18:37,  2.58s/it]"
     ]
    },
    {
     "name": "stdout",
     "output_type": "stream",
     "text": [
      "428-Yu-et-al-2015.nc\n"
     ]
    },
    {
     "name": "stderr",
     "output_type": "stream",
     "text": [
      " 18%|█▊        | 94/526 [07:24<17:47,  2.47s/it]"
     ]
    },
    {
     "name": "stdout",
     "output_type": "stream",
     "text": [
      "445-Hoffman-et-al-1974.nc\n"
     ]
    },
    {
     "name": "stderr",
     "output_type": "stream",
     "text": [
      " 18%|█▊        | 95/526 [07:26<16:38,  2.32s/it]"
     ]
    },
    {
     "name": "stdout",
     "output_type": "stream",
     "text": [
      "440-Yamada-and-Nagaya-2000.nc\n"
     ]
    },
    {
     "name": "stderr",
     "output_type": "stream",
     "text": [
      " 18%|█▊        | 96/526 [07:27<15:39,  2.18s/it]"
     ]
    },
    {
     "name": "stdout",
     "output_type": "stream",
     "text": [
      "237-Takata-et-al-2018.nc\n"
     ]
    },
    {
     "name": "stderr",
     "output_type": "stream",
     "text": [
      " 18%|█▊        | 97/526 [07:31<17:31,  2.45s/it]"
     ]
    },
    {
     "name": "stdout",
     "output_type": "stream",
     "text": [
      "139-MEXT---Ministry-of-Education-Culture-Sports-Science-and-Technology-2011.nc\n"
     ]
    },
    {
     "name": "stderr",
     "output_type": "stream",
     "text": [
      " 19%|█▊        | 98/526 [07:33<16:35,  2.33s/it]"
     ]
    },
    {
     "name": "stdout",
     "output_type": "stream",
     "text": [
      "140-MEXT---Ministry-of-Education-Culture-Sports-Science-and-Technology-2011.nc\n"
     ]
    },
    {
     "name": "stderr",
     "output_type": "stream",
     "text": [
      " 19%|█▉        | 99/526 [07:34<15:32,  2.18s/it]"
     ]
    },
    {
     "name": "stdout",
     "output_type": "stream",
     "text": [
      "427-Yamamoto-et-al-1994.nc\n"
     ]
    },
    {
     "name": "stderr",
     "output_type": "stream",
     "text": [
      " 19%|█▉        | 100/526 [07:36<15:18,  2.16s/it]"
     ]
    },
    {
     "name": "stdout",
     "output_type": "stream",
     "text": [
      "689-NRA---Nuclear-Regulation-Authority-2021.nc\n"
     ]
    },
    {
     "name": "stderr",
     "output_type": "stream",
     "text": [
      " 19%|█▉        | 101/526 [07:38<14:51,  2.10s/it]"
     ]
    },
    {
     "name": "stdout",
     "output_type": "stream",
     "text": [
      "549-Shigeoka-et-al-2019.nc\n"
     ]
    },
    {
     "name": "stderr",
     "output_type": "stream",
     "text": [
      " 19%|█▉        | 102/526 [07:40<14:23,  2.04s/it]"
     ]
    },
    {
     "name": "stdout",
     "output_type": "stream",
     "text": [
      "550-Sohtome-2014.nc\n"
     ]
    },
    {
     "name": "stderr",
     "output_type": "stream",
     "text": [
      " 20%|█▉        | 103/526 [07:42<14:15,  2.02s/it]"
     ]
    },
    {
     "name": "stdout",
     "output_type": "stream",
     "text": [
      "514-Miki-et-al-2016.nc\n"
     ]
    },
    {
     "name": "stderr",
     "output_type": "stream",
     "text": [
      " 20%|█▉        | 104/526 [07:44<14:02,  2.00s/it]"
     ]
    },
    {
     "name": "stdout",
     "output_type": "stream",
     "text": [
      "548-Suchanek-et-al-1996.nc\n"
     ]
    },
    {
     "name": "stderr",
     "output_type": "stream",
     "text": [
      " 20%|█▉        | 105/526 [07:46<14:11,  2.02s/it]"
     ]
    },
    {
     "name": "stdout",
     "output_type": "stream",
     "text": [
      "436-Nakamura-et-al-2015.nc\n"
     ]
    },
    {
     "name": "stderr",
     "output_type": "stream",
     "text": [
      " 20%|██        | 106/526 [07:48<13:56,  1.99s/it]"
     ]
    },
    {
     "name": "stdout",
     "output_type": "stream",
     "text": [
      "446-Valette-Silver-and-Lauenstein-1995.nc\n"
     ]
    },
    {
     "name": "stderr",
     "output_type": "stream",
     "text": [
      " 20%|██        | 107/526 [07:50<13:51,  1.98s/it]"
     ]
    },
    {
     "name": "stdout",
     "output_type": "stream",
     "text": [
      "513-Madigan-2012.nc\n"
     ]
    },
    {
     "name": "stderr",
     "output_type": "stream",
     "text": [
      " 21%|██        | 108/526 [07:52<13:42,  1.97s/it]"
     ]
    },
    {
     "name": "stdout",
     "output_type": "stream",
     "text": [
      "572-Aono-et-al-2000.nc\n"
     ]
    },
    {
     "name": "stderr",
     "output_type": "stream",
     "text": [
      " 21%|██        | 109/526 [07:54<13:31,  1.95s/it]"
     ]
    },
    {
     "name": "stdout",
     "output_type": "stream",
     "text": [
      "113-Kitamura-et-al-2013.nc\n"
     ]
    },
    {
     "name": "stderr",
     "output_type": "stream",
     "text": [
      " 21%|██        | 110/526 [07:56<13:31,  1.95s/it]"
     ]
    },
    {
     "name": "stdout",
     "output_type": "stream",
     "text": [
      "114-Charette-et-al-2013.nc\n"
     ]
    },
    {
     "name": "stderr",
     "output_type": "stream",
     "text": [
      " 21%|██        | 111/526 [07:58<13:43,  1.98s/it]"
     ]
    },
    {
     "name": "stdout",
     "output_type": "stream",
     "text": [
      "116-Suzuki-et-al-2013.nc\n"
     ]
    },
    {
     "name": "stderr",
     "output_type": "stream",
     "text": [
      " 21%|██▏       | 112/526 [08:00<14:02,  2.04s/it]"
     ]
    },
    {
     "name": "stdout",
     "output_type": "stream",
     "text": [
      "207-MERI-2020.nc\n"
     ]
    },
    {
     "name": "stderr",
     "output_type": "stream",
     "text": [
      " 21%|██▏       | 113/526 [08:04<17:11,  2.50s/it]"
     ]
    },
    {
     "name": "stdout",
     "output_type": "stream",
     "text": [
      "223-Buesseler-et-al-2018.nc\n"
     ]
    },
    {
     "name": "stderr",
     "output_type": "stream",
     "text": [
      " 22%|██▏       | 114/526 [08:08<20:00,  2.91s/it]"
     ]
    },
    {
     "name": "stdout",
     "output_type": "stream",
     "text": [
      "232-Honda-et-al-2012.nc\n"
     ]
    },
    {
     "name": "stderr",
     "output_type": "stream",
     "text": [
      " 22%|██▏       | 115/526 [08:10<18:51,  2.75s/it]"
     ]
    },
    {
     "name": "stdout",
     "output_type": "stream",
     "text": [
      "233-Aoyama-et-al-2013.nc\n"
     ]
    },
    {
     "name": "stderr",
     "output_type": "stream",
     "text": [
      " 22%|██▏       | 116/526 [08:12<17:02,  2.49s/it]"
     ]
    },
    {
     "name": "stdout",
     "output_type": "stream",
     "text": [
      "234-Aoyama-et-al-2013.nc\n"
     ]
    },
    {
     "name": "stderr",
     "output_type": "stream",
     "text": [
      " 22%|██▏       | 117/526 [08:14<15:57,  2.34s/it]"
     ]
    },
    {
     "name": "stdout",
     "output_type": "stream",
     "text": [
      "196-Tateda-and-Koyanagi-1996.nc\n"
     ]
    },
    {
     "name": "stderr",
     "output_type": "stream",
     "text": [
      " 22%|██▏       | 118/526 [08:16<15:25,  2.27s/it]"
     ]
    },
    {
     "name": "stdout",
     "output_type": "stream",
     "text": [
      "22-Fowler-et-al-1983.nc\n"
     ]
    },
    {
     "name": "stderr",
     "output_type": "stream",
     "text": [
      " 23%|██▎       | 119/526 [08:18<15:33,  2.29s/it]"
     ]
    },
    {
     "name": "stdout",
     "output_type": "stream",
     "text": [
      "56-Kaeriyama-et-al-2014.nc\n"
     ]
    },
    {
     "name": "stderr",
     "output_type": "stream",
     "text": [
      " 23%|██▎       | 120/526 [08:20<15:05,  2.23s/it]"
     ]
    },
    {
     "name": "stdout",
     "output_type": "stream",
     "text": [
      "128-NRA---Nuclear-Regulation-Authority-2013.nc\n"
     ]
    },
    {
     "name": "stderr",
     "output_type": "stream",
     "text": [
      " 23%|██▎       | 121/526 [08:22<14:19,  2.12s/it]"
     ]
    },
    {
     "name": "stdout",
     "output_type": "stream",
     "text": [
      "178-Pham-et-al-2016.nc\n"
     ]
    },
    {
     "name": "stderr",
     "output_type": "stream",
     "text": [
      " 23%|██▎       | 122/526 [08:25<16:20,  2.43s/it]"
     ]
    },
    {
     "name": "stdout",
     "output_type": "stream",
     "text": [
      "474-Madigan-et-al-2017.nc\n"
     ]
    },
    {
     "name": "stderr",
     "output_type": "stream",
     "text": [
      " 23%|██▎       | 123/526 [08:28<15:28,  2.31s/it]"
     ]
    },
    {
     "name": "stdout",
     "output_type": "stream",
     "text": [
      "476-Ruelas-Inzunza-et-al-2012.nc\n"
     ]
    },
    {
     "name": "stderr",
     "output_type": "stream",
     "text": [
      " 24%|██▎       | 124/526 [08:31<17:42,  2.64s/it]"
     ]
    },
    {
     "name": "stdout",
     "output_type": "stream",
     "text": [
      "478-Yamada-et-al-1999.nc\n"
     ]
    },
    {
     "name": "stderr",
     "output_type": "stream",
     "text": [
      " 24%|██▍       | 125/526 [08:33<16:36,  2.48s/it]"
     ]
    },
    {
     "name": "stdout",
     "output_type": "stream",
     "text": [
      "516-Madigan-and-Fisher-2013.nc\n"
     ]
    },
    {
     "name": "stderr",
     "output_type": "stream",
     "text": [
      " 24%|██▍       | 126/526 [08:35<15:25,  2.31s/it]"
     ]
    },
    {
     "name": "stdout",
     "output_type": "stream",
     "text": [
      "517-Morita-et-al-2007.nc\n"
     ]
    },
    {
     "name": "stderr",
     "output_type": "stream",
     "text": [
      " 24%|██▍       | 127/526 [08:38<16:40,  2.51s/it]"
     ]
    },
    {
     "name": "stdout",
     "output_type": "stream",
     "text": [
      "518-Morita-et-al-2010.nc\n"
     ]
    },
    {
     "name": "stderr",
     "output_type": "stream",
     "text": [
      " 24%|██▍       | 128/526 [08:40<15:28,  2.33s/it]"
     ]
    },
    {
     "name": "stdout",
     "output_type": "stream",
     "text": [
      "520-Baumann-et-al-2013.nc\n"
     ]
    },
    {
     "name": "stderr",
     "output_type": "stream",
     "text": [
      " 25%|██▍       | 129/526 [08:42<14:32,  2.20s/it]"
     ]
    },
    {
     "name": "stdout",
     "output_type": "stream",
     "text": [
      "433-Smith-and-Towler-1993.nc\n"
     ]
    },
    {
     "name": "stderr",
     "output_type": "stream",
     "text": [
      " 25%|██▍       | 130/526 [08:44<13:45,  2.09s/it]"
     ]
    },
    {
     "name": "stdout",
     "output_type": "stream",
     "text": [
      "115-Casacuberta-et-al-2013.nc\n"
     ]
    },
    {
     "name": "stderr",
     "output_type": "stream",
     "text": [
      " 25%|██▍       | 131/526 [08:46<13:43,  2.08s/it]"
     ]
    },
    {
     "name": "stdout",
     "output_type": "stream",
     "text": [
      "430-Baumann-et-al-2015.nc\n"
     ]
    },
    {
     "name": "stderr",
     "output_type": "stream",
     "text": [
      " 25%|██▌       | 132/526 [08:48<13:28,  2.05s/it]"
     ]
    },
    {
     "name": "stdout",
     "output_type": "stream",
     "text": [
      "542-Ruelas-Inzunza-et-al-2012.nc\n"
     ]
    },
    {
     "name": "stderr",
     "output_type": "stream",
     "text": [
      " 25%|██▌       | 133/526 [08:49<13:01,  1.99s/it]"
     ]
    },
    {
     "name": "stdout",
     "output_type": "stream",
     "text": [
      "546-Takagi-et-al-2015.nc\n"
     ]
    },
    {
     "name": "stderr",
     "output_type": "stream",
     "text": [
      " 25%|██▌       | 134/526 [08:52<13:37,  2.08s/it]"
     ]
    },
    {
     "name": "stdout",
     "output_type": "stream",
     "text": [
      "547-Ruelas-Inzunza-2014.nc\n"
     ]
    },
    {
     "name": "stderr",
     "output_type": "stream",
     "text": [
      " 26%|██▌       | 135/526 [08:54<13:07,  2.01s/it]"
     ]
    },
    {
     "name": "stdout",
     "output_type": "stream",
     "text": [
      "479-Morita-2010.nc\n"
     ]
    },
    {
     "name": "stderr",
     "output_type": "stream",
     "text": [
      " 26%|██▌       | 136/526 [08:56<13:04,  2.01s/it]"
     ]
    },
    {
     "name": "stdout",
     "output_type": "stream",
     "text": [
      "511-Zeng-2017.nc\n"
     ]
    },
    {
     "name": "stderr",
     "output_type": "stream",
     "text": [
      " 26%|██▌       | 137/526 [08:58<12:49,  1.98s/it]"
     ]
    },
    {
     "name": "stdout",
     "output_type": "stream",
     "text": [
      "512-Takahashi-et-al-2015.nc\n"
     ]
    },
    {
     "name": "stderr",
     "output_type": "stream",
     "text": [
      " 26%|██▌       | 138/526 [09:00<12:53,  1.99s/it]"
     ]
    },
    {
     "name": "stdout",
     "output_type": "stream",
     "text": [
      "411-Guy-et-al-2020.nc\n"
     ]
    },
    {
     "name": "stderr",
     "output_type": "stream",
     "text": [
      " 26%|██▋       | 139/526 [09:01<12:42,  1.97s/it]"
     ]
    },
    {
     "name": "stdout",
     "output_type": "stream",
     "text": [
      "322-Département-de-Suivi-des-Centres-dExpérimentations-Nucléaires-(DSCEN)-2018.nc\n"
     ]
    },
    {
     "name": "stderr",
     "output_type": "stream",
     "text": [
      " 27%|██▋       | 140/526 [09:04<13:54,  2.16s/it]"
     ]
    },
    {
     "name": "stdout",
     "output_type": "stream",
     "text": [
      "321-Département-de-Suivi-des-Centres-dExpérimentations-Nucléaires-(DSCEN)-2011.nc\n"
     ]
    },
    {
     "name": "stderr",
     "output_type": "stream",
     "text": [
      " 27%|██▋       | 141/526 [09:07<15:18,  2.39s/it]"
     ]
    },
    {
     "name": "stdout",
     "output_type": "stream",
     "text": [
      "466-Jeffree-et-al-1997.nc\n"
     ]
    },
    {
     "name": "stderr",
     "output_type": "stream",
     "text": [
      " 27%|██▋       | 142/526 [09:09<14:14,  2.23s/it]"
     ]
    },
    {
     "name": "stdout",
     "output_type": "stream",
     "text": [
      "467-Poletiko-et-al-1994.nc\n"
     ]
    },
    {
     "name": "stderr",
     "output_type": "stream",
     "text": [
      " 27%|██▋       | 143/526 [09:12<15:31,  2.43s/it]"
     ]
    },
    {
     "name": "stdout",
     "output_type": "stream",
     "text": [
      "279-Pearson-et-al-2016.nc\n"
     ]
    },
    {
     "name": "stderr",
     "output_type": "stream",
     "text": [
      " 27%|██▋       | 144/526 [09:15<17:23,  2.73s/it]"
     ]
    },
    {
     "name": "stdout",
     "output_type": "stream",
     "text": [
      "282-Pearson-et-al-2016.nc\n"
     ]
    },
    {
     "name": "stderr",
     "output_type": "stream",
     "text": [
      " 28%|██▊       | 145/526 [09:19<19:08,  3.01s/it]"
     ]
    },
    {
     "name": "stdout",
     "output_type": "stream",
     "text": [
      "169-Villa-Alfageme-et-al-2019.nc\n"
     ]
    },
    {
     "name": "stderr",
     "output_type": "stream",
     "text": [
      " 28%|██▊       | 146/526 [09:21<17:55,  2.83s/it]"
     ]
    },
    {
     "name": "stdout",
     "output_type": "stream",
     "text": [
      "569-Bellamy-and-Hunter-1997.nc\n"
     ]
    },
    {
     "name": "stderr",
     "output_type": "stream",
     "text": [
      " 28%|██▊       | 147/526 [09:23<16:43,  2.65s/it]"
     ]
    },
    {
     "name": "stdout",
     "output_type": "stream",
     "text": [
      "408-Carvalho-2011.nc\n"
     ]
    },
    {
     "name": "stderr",
     "output_type": "stream",
     "text": [
      " 28%|██▊       | 148/526 [09:26<16:22,  2.60s/it]"
     ]
    },
    {
     "name": "stdout",
     "output_type": "stream",
     "text": [
      "396-Ostlund-nd.nc\n"
     ]
    },
    {
     "name": "stderr",
     "output_type": "stream",
     "text": [
      " 28%|██▊       | 149/526 [09:28<15:42,  2.50s/it]"
     ]
    },
    {
     "name": "stdout",
     "output_type": "stream",
     "text": [
      "397-Ostlund-and-Grall-1987.nc\n"
     ]
    },
    {
     "name": "stderr",
     "output_type": "stream",
     "text": [
      " 29%|██▊       | 150/526 [09:30<14:54,  2.38s/it]"
     ]
    },
    {
     "name": "stdout",
     "output_type": "stream",
     "text": [
      "399-Andrié-et-al-1988.nc\n"
     ]
    },
    {
     "name": "stderr",
     "output_type": "stream",
     "text": [
      " 29%|██▊       | 151/526 [09:32<14:15,  2.28s/it]"
     ]
    },
    {
     "name": "stdout",
     "output_type": "stream",
     "text": [
      "465-Tejera-et-al-2019.nc\n"
     ]
    },
    {
     "name": "stderr",
     "output_type": "stream",
     "text": [
      " 29%|██▉       | 152/526 [09:34<13:44,  2.20s/it]"
     ]
    },
    {
     "name": "stdout",
     "output_type": "stream",
     "text": [
      "84-MAFF-(now-Cefas)-2004.nc\n"
     ]
    },
    {
     "name": "stderr",
     "output_type": "stream",
     "text": [
      " 29%|██▉       | 153/526 [09:45<28:32,  4.59s/it]"
     ]
    },
    {
     "name": "stdout",
     "output_type": "stream",
     "text": [
      "188-Thünen-Institute-2018.nc\n"
     ]
    },
    {
     "name": "stderr",
     "output_type": "stream",
     "text": [
      " 29%|██▉       | 154/526 [11:06<2:51:21, 27.64s/it]"
     ]
    },
    {
     "name": "stdout",
     "output_type": "stream",
     "text": [
      "448-HEYRAUD-et-al-1988.nc\n"
     ]
    },
    {
     "name": "stderr",
     "output_type": "stream",
     "text": [
      " 29%|██▉       | 155/526 [11:08<2:03:44, 20.01s/it]"
     ]
    },
    {
     "name": "stdout",
     "output_type": "stream",
     "text": [
      "303-Carvalho-et-al-2011.nc\n"
     ]
    },
    {
     "name": "stderr",
     "output_type": "stream",
     "text": [
      " 30%|██▉       | 156/526 [11:10<1:30:38, 14.70s/it]"
     ]
    },
    {
     "name": "stdout",
     "output_type": "stream",
     "text": [
      "540-Deiaa-2020.nc\n"
     ]
    },
    {
     "name": "stderr",
     "output_type": "stream",
     "text": [
      " 30%|██▉       | 157/526 [11:13<1:07:43, 11.01s/it]"
     ]
    },
    {
     "name": "stdout",
     "output_type": "stream",
     "text": [
      "296-Carvalho-et-al-2011.nc\n"
     ]
    },
    {
     "name": "stderr",
     "output_type": "stream",
     "text": [
      " 30%|███       | 158/526 [11:16<52:02,  8.49s/it]  "
     ]
    },
    {
     "name": "stdout",
     "output_type": "stream",
     "text": [
      "301-Fonollosa-et-al-2015.nc\n"
     ]
    },
    {
     "name": "stderr",
     "output_type": "stream",
     "text": [
      " 30%|███       | 159/526 [11:20<44:15,  7.24s/it]"
     ]
    },
    {
     "name": "stdout",
     "output_type": "stream",
     "text": [
      "316-Pollard-et-al-1998.nc\n"
     ]
    },
    {
     "name": "stderr",
     "output_type": "stream",
     "text": [
      " 30%|███       | 160/526 [11:24<38:36,  6.33s/it]"
     ]
    },
    {
     "name": "stdout",
     "output_type": "stream",
     "text": [
      "326-Benmansour-et-al-2006.nc\n"
     ]
    },
    {
     "name": "stderr",
     "output_type": "stream",
     "text": [
      " 31%|███       | 161/526 [11:26<31:16,  5.14s/it]"
     ]
    },
    {
     "name": "stdout",
     "output_type": "stream",
     "text": [
      "339-Benkdad-et-al-2011.nc\n"
     ]
    },
    {
     "name": "stderr",
     "output_type": "stream",
     "text": [
      " 31%|███       | 162/526 [11:28<25:32,  4.21s/it]"
     ]
    },
    {
     "name": "stdout",
     "output_type": "stream",
     "text": [
      "341-CNESTEN-2019.nc\n"
     ]
    },
    {
     "name": "stderr",
     "output_type": "stream",
     "text": [
      " 31%|███       | 163/526 [11:31<23:10,  3.83s/it]"
     ]
    },
    {
     "name": "stdout",
     "output_type": "stream",
     "text": [
      "371-CNESTEN-2020.nc\n"
     ]
    },
    {
     "name": "stderr",
     "output_type": "stream",
     "text": [
      " 31%|███       | 164/526 [11:34<20:02,  3.32s/it]"
     ]
    },
    {
     "name": "stdout",
     "output_type": "stream",
     "text": [
      "161-Gómez-Guzmán-et-al-2013.nc\n"
     ]
    },
    {
     "name": "stderr",
     "output_type": "stream",
     "text": [
      " 31%|███▏      | 165/526 [11:37<20:51,  3.47s/it]"
     ]
    },
    {
     "name": "stdout",
     "output_type": "stream",
     "text": [
      "168-Vivo-Vilches-et-al-2018.nc\n"
     ]
    },
    {
     "name": "stderr",
     "output_type": "stream",
     "text": [
      " 32%|███▏      | 166/526 [11:41<21:20,  3.56s/it]"
     ]
    },
    {
     "name": "stdout",
     "output_type": "stream",
     "text": [
      "186-Corcho-Alvarado-et-al-2014.nc\n"
     ]
    },
    {
     "name": "stderr",
     "output_type": "stream",
     "text": [
      " 32%|███▏      | 167/526 [11:44<19:45,  3.30s/it]"
     ]
    },
    {
     "name": "stdout",
     "output_type": "stream",
     "text": [
      "431-Malta-and-Carvalho-2011.nc\n"
     ]
    },
    {
     "name": "stderr",
     "output_type": "stream",
     "text": [
      " 32%|███▏      | 168/526 [11:46<18:06,  3.04s/it]"
     ]
    },
    {
     "name": "stdout",
     "output_type": "stream",
     "text": [
      "405-Berrow-et-al-1998.nc\n"
     ]
    },
    {
     "name": "stderr",
     "output_type": "stream",
     "text": [
      " 32%|███▏      | 169/526 [11:49<17:58,  3.02s/it]"
     ]
    },
    {
     "name": "stdout",
     "output_type": "stream",
     "text": [
      "692-Cunningham-et-al-1988.nc\n"
     ]
    },
    {
     "name": "stderr",
     "output_type": "stream",
     "text": [
      " 32%|███▏      | 170/526 [11:54<20:19,  3.43s/it]"
     ]
    },
    {
     "name": "stdout",
     "output_type": "stream",
     "text": [
      "693-OGrady-and-Currivan-1990.nc\n"
     ]
    },
    {
     "name": "stderr",
     "output_type": "stream",
     "text": [
      " 33%|███▎      | 171/526 [11:56<18:24,  3.11s/it]"
     ]
    },
    {
     "name": "stdout",
     "output_type": "stream",
     "text": [
      "694-OGrady-et-al-1991.nc\n"
     ]
    },
    {
     "name": "stderr",
     "output_type": "stream",
     "text": [
      " 33%|███▎      | 172/526 [11:59<17:52,  3.03s/it]"
     ]
    },
    {
     "name": "stdout",
     "output_type": "stream",
     "text": [
      "41-Aarkrog-et-al-1994.nc\n"
     ]
    },
    {
     "name": "stderr",
     "output_type": "stream",
     "text": [
      " 33%|███▎      | 173/526 [12:01<16:33,  2.82s/it]"
     ]
    },
    {
     "name": "stdout",
     "output_type": "stream",
     "text": [
      "357-Arnedo-et-al-2013.nc\n"
     ]
    },
    {
     "name": "stderr",
     "output_type": "stream",
     "text": [
      " 33%|███▎      | 174/526 [12:03<15:14,  2.60s/it]"
     ]
    },
    {
     "name": "stdout",
     "output_type": "stream",
     "text": [
      "372-CNESTEN-2020.nc\n"
     ]
    },
    {
     "name": "stderr",
     "output_type": "stream",
     "text": [
      " 33%|███▎      | 175/526 [12:05<13:58,  2.39s/it]"
     ]
    },
    {
     "name": "stdout",
     "output_type": "stream",
     "text": [
      "248-trok-and-Smodi-2011.nc\n"
     ]
    },
    {
     "name": "stderr",
     "output_type": "stream",
     "text": [
      " 33%|███▎      | 176/526 [12:07<13:04,  2.24s/it]"
     ]
    },
    {
     "name": "stdout",
     "output_type": "stream",
     "text": [
      "308-Jalili-et-al-2009.nc\n"
     ]
    },
    {
     "name": "stderr",
     "output_type": "stream",
     "text": [
      " 34%|███▎      | 177/526 [12:09<12:35,  2.16s/it]"
     ]
    },
    {
     "name": "stdout",
     "output_type": "stream",
     "text": [
      "311-Ryan-et-al-1999.nc\n"
     ]
    },
    {
     "name": "stderr",
     "output_type": "stream",
     "text": [
      " 34%|███▍      | 178/526 [12:11<12:05,  2.09s/it]"
     ]
    },
    {
     "name": "stdout",
     "output_type": "stream",
     "text": [
      "352-Hamid-et-al-2010.nc\n"
     ]
    },
    {
     "name": "stderr",
     "output_type": "stream",
     "text": [
      " 34%|███▍      | 179/526 [12:15<15:15,  2.64s/it]"
     ]
    },
    {
     "name": "stdout",
     "output_type": "stream",
     "text": [
      "25-Nies-1989.nc\n"
     ]
    },
    {
     "name": "stderr",
     "output_type": "stream",
     "text": [
      " 34%|███▍      | 180/526 [12:17<15:13,  2.64s/it]"
     ]
    },
    {
     "name": "stdout",
     "output_type": "stream",
     "text": [
      "31-Aarkrog-et-al-1992.nc\n"
     ]
    },
    {
     "name": "stderr",
     "output_type": "stream",
     "text": [
      " 34%|███▍      | 181/526 [12:20<15:07,  2.63s/it]"
     ]
    },
    {
     "name": "stdout",
     "output_type": "stream",
     "text": [
      "174-Hurtado-Bermúdez-et-al-2018.nc\n"
     ]
    },
    {
     "name": "stderr",
     "output_type": "stream",
     "text": [
      " 35%|███▍      | 182/526 [12:22<13:47,  2.40s/it]"
     ]
    },
    {
     "name": "stdout",
     "output_type": "stream",
     "text": [
      "177-Laissaoui-et-al-2013.nc\n"
     ]
    },
    {
     "name": "stderr",
     "output_type": "stream",
     "text": [
      " 35%|███▍      | 183/526 [12:24<12:54,  2.26s/it]"
     ]
    },
    {
     "name": "stdout",
     "output_type": "stream",
     "text": [
      "419-Kanisch-and-Aust-2013.nc\n"
     ]
    },
    {
     "name": "stderr",
     "output_type": "stream",
     "text": [
      " 35%|███▍      | 184/526 [12:26<12:17,  2.16s/it]"
     ]
    },
    {
     "name": "stdout",
     "output_type": "stream",
     "text": [
      "559-Fiev-et-al-2013.nc\n"
     ]
    },
    {
     "name": "stderr",
     "output_type": "stream",
     "text": [
      " 35%|███▌      | 185/526 [12:28<12:04,  2.12s/it]"
     ]
    },
    {
     "name": "stdout",
     "output_type": "stream",
     "text": [
      "562-Joensen-2011.nc\n"
     ]
    },
    {
     "name": "stderr",
     "output_type": "stream",
     "text": [
      " 35%|███▌      | 186/526 [12:30<12:16,  2.17s/it]"
     ]
    },
    {
     "name": "stdout",
     "output_type": "stream",
     "text": [
      "691-Cunningham-and-OGrady-1986.nc\n"
     ]
    },
    {
     "name": "stderr",
     "output_type": "stream",
     "text": [
      " 36%|███▌      | 187/526 [12:32<12:01,  2.13s/it]"
     ]
    },
    {
     "name": "stdout",
     "output_type": "stream",
     "text": [
      "484-Saito-et-al-2003.nc\n"
     ]
    },
    {
     "name": "stderr",
     "output_type": "stream",
     "text": [
      " 36%|███▌      | 188/526 [12:34<12:16,  2.18s/it]"
     ]
    },
    {
     "name": "stdout",
     "output_type": "stream",
     "text": [
      "269-Mársico-et-al-2014.nc\n"
     ]
    },
    {
     "name": "stderr",
     "output_type": "stream",
     "text": [
      " 36%|███▌      | 189/526 [12:36<11:46,  2.10s/it]"
     ]
    },
    {
     "name": "stdout",
     "output_type": "stream",
     "text": [
      "305-Pereira-2009.nc\n"
     ]
    },
    {
     "name": "stderr",
     "output_type": "stream",
     "text": [
      " 36%|███▌      | 190/526 [12:39<12:02,  2.15s/it]"
     ]
    },
    {
     "name": "stdout",
     "output_type": "stream",
     "text": [
      "362-Onjefu-et-al-2016.nc\n"
     ]
    },
    {
     "name": "stderr",
     "output_type": "stream",
     "text": [
      " 36%|███▋      | 191/526 [12:42<13:44,  2.46s/it]"
     ]
    },
    {
     "name": "stdout",
     "output_type": "stream",
     "text": [
      "108-Figueira-et-al-2006.nc\n"
     ]
    },
    {
     "name": "stderr",
     "output_type": "stream",
     "text": [
      " 37%|███▋      | 192/526 [12:44<12:54,  2.32s/it]"
     ]
    },
    {
     "name": "stdout",
     "output_type": "stream",
     "text": [
      "438-Cherry-et-al-1994.nc\n"
     ]
    },
    {
     "name": "stderr",
     "output_type": "stream",
     "text": [
      " 37%|███▋      | 193/526 [12:47<13:41,  2.47s/it]"
     ]
    },
    {
     "name": "stdout",
     "output_type": "stream",
     "text": [
      "711-Ramos-2010.nc\n"
     ]
    },
    {
     "name": "stderr",
     "output_type": "stream",
     "text": [
      " 37%|███▋      | 194/526 [12:49<13:05,  2.36s/it]"
     ]
    },
    {
     "name": "stdout",
     "output_type": "stream",
     "text": [
      "366-Onjefu-et-al-2017.nc\n"
     ]
    },
    {
     "name": "stderr",
     "output_type": "stream",
     "text": [
      " 37%|███▋      | 195/526 [12:51<12:15,  2.22s/it]"
     ]
    },
    {
     "name": "stdout",
     "output_type": "stream",
     "text": [
      "12-Higgo-et-al-1980.nc\n",
      "The \"biota\" group contains 16 data points whose (lon, lat) = (0, 0)\n"
     ]
    },
    {
     "name": "stderr",
     "output_type": "stream",
     "text": [
      " 37%|███▋      | 196/526 [12:53<13:01,  2.37s/it]"
     ]
    },
    {
     "name": "stdout",
     "output_type": "stream",
     "text": [
      "27-Krishnaswami-et-al-1985.nc\n",
      "The \"biota\" group contains 56 data points whose (lon, lat) = (0, 0)\n"
     ]
    },
    {
     "name": "stderr",
     "output_type": "stream",
     "text": [
      " 37%|███▋      | 197/526 [12:55<12:16,  2.24s/it]"
     ]
    },
    {
     "name": "stdout",
     "output_type": "stream",
     "text": [
      "173-Hurtado-Bermudez-et-al-2017.nc\n"
     ]
    },
    {
     "name": "stderr",
     "output_type": "stream",
     "text": [
      " 38%|███▊      | 198/526 [12:57<11:49,  2.16s/it]"
     ]
    },
    {
     "name": "stdout",
     "output_type": "stream",
     "text": [
      "235-Jesus-and-Mazzilli-2017.nc\n"
     ]
    },
    {
     "name": "stderr",
     "output_type": "stream",
     "text": [
      " 38%|███▊      | 199/526 [12:59<11:27,  2.10s/it]"
     ]
    },
    {
     "name": "stdout",
     "output_type": "stream",
     "text": [
      "236-Teixeira-and-Mazzilli-2017.nc\n"
     ]
    },
    {
     "name": "stderr",
     "output_type": "stream",
     "text": [
      " 38%|███▊      | 200/526 [13:01<11:42,  2.16s/it]"
     ]
    },
    {
     "name": "stdout",
     "output_type": "stream",
     "text": [
      "10-Fukai-et-al-1980.nc\n",
      "The \"seawater\" group contains 3 data points whose (lon, lat) = (0, 0)\n"
     ]
    },
    {
     "name": "stderr",
     "output_type": "stream",
     "text": [
      " 38%|███▊      | 201/526 [13:04<11:30,  2.13s/it]"
     ]
    },
    {
     "name": "stdout",
     "output_type": "stream",
     "text": [
      "444-Gouvea-et-al-1992.nc\n"
     ]
    },
    {
     "name": "stderr",
     "output_type": "stream",
     "text": [
      " 38%|███▊      | 202/526 [13:05<11:08,  2.06s/it]"
     ]
    },
    {
     "name": "stdout",
     "output_type": "stream",
     "text": [
      "483-Cunha-et-al-1993.nc\n"
     ]
    },
    {
     "name": "stderr",
     "output_type": "stream",
     "text": [
      " 39%|███▊      | 203/526 [13:08<11:13,  2.09s/it]"
     ]
    },
    {
     "name": "stdout",
     "output_type": "stream",
     "text": [
      "441-Godoy-et-al-2003.nc\n"
     ]
    },
    {
     "name": "stderr",
     "output_type": "stream",
     "text": [
      " 39%|███▉      | 204/526 [13:10<11:43,  2.19s/it]"
     ]
    },
    {
     "name": "stdout",
     "output_type": "stream",
     "text": [
      "442-Moura-et-al-2015.nc\n"
     ]
    },
    {
     "name": "stderr",
     "output_type": "stream",
     "text": [
      " 39%|███▉      | 205/526 [13:12<11:15,  2.10s/it]"
     ]
    },
    {
     "name": "stdout",
     "output_type": "stream",
     "text": [
      "485-Pereira-and-Kelecom-2010.nc\n"
     ]
    },
    {
     "name": "stderr",
     "output_type": "stream",
     "text": [
      " 39%|███▉      | 206/526 [13:14<10:55,  2.05s/it]"
     ]
    },
    {
     "name": "stdout",
     "output_type": "stream",
     "text": [
      "528-Godoy-et-al-2008.nc\n"
     ]
    },
    {
     "name": "stderr",
     "output_type": "stream",
     "text": [
      " 39%|███▉      | 207/526 [13:16<10:56,  2.06s/it]"
     ]
    },
    {
     "name": "stdout",
     "output_type": "stream",
     "text": [
      "555-Gouvea-et-al-2008.nc\n"
     ]
    },
    {
     "name": "stderr",
     "output_type": "stream",
     "text": [
      " 40%|███▉      | 208/526 [13:18<10:37,  2.01s/it]"
     ]
    },
    {
     "name": "stdout",
     "output_type": "stream",
     "text": [
      "102-RWS-2010.nc\n"
     ]
    },
    {
     "name": "stderr",
     "output_type": "stream",
     "text": [
      " 40%|███▉      | 209/526 [13:22<13:18,  2.52s/it]"
     ]
    },
    {
     "name": "stdout",
     "output_type": "stream",
     "text": [
      "170-Mas-et-al-2004.nc\n"
     ]
    },
    {
     "name": "stderr",
     "output_type": "stream",
     "text": [
      " 40%|███▉      | 210/526 [13:23<12:15,  2.33s/it]"
     ]
    },
    {
     "name": "stdout",
     "output_type": "stream",
     "text": [
      "451-Swift-et-al-1994.nc\n"
     ]
    },
    {
     "name": "stderr",
     "output_type": "stream",
     "text": [
      " 40%|████      | 211/526 [13:25<11:36,  2.21s/it]"
     ]
    },
    {
     "name": "stdout",
     "output_type": "stream",
     "text": [
      "538-Brown-1999.nc\n"
     ]
    },
    {
     "name": "stderr",
     "output_type": "stream",
     "text": [
      " 40%|████      | 212/526 [13:27<11:21,  2.17s/it]"
     ]
    },
    {
     "name": "stdout",
     "output_type": "stream",
     "text": [
      "690-CEFAS-2020.nc\n"
     ]
    },
    {
     "name": "stderr",
     "output_type": "stream",
     "text": [
      " 40%|████      | 213/526 [13:30<11:52,  2.28s/it]"
     ]
    },
    {
     "name": "stdout",
     "output_type": "stream",
     "text": [
      "450-Ghose-and-Heaton-2005.nc\n"
     ]
    },
    {
     "name": "stderr",
     "output_type": "stream",
     "text": [
      " 41%|████      | 214/526 [13:32<11:31,  2.21s/it]"
     ]
    },
    {
     "name": "stdout",
     "output_type": "stream",
     "text": [
      "198-Skjerdal-et-al-2017.nc\n"
     ]
    },
    {
     "name": "stderr",
     "output_type": "stream",
     "text": [
      " 41%|████      | 215/526 [13:34<11:41,  2.26s/it]"
     ]
    },
    {
     "name": "stdout",
     "output_type": "stream",
     "text": [
      "697-Long-et-al-1998.nc\n"
     ]
    },
    {
     "name": "stderr",
     "output_type": "stream",
     "text": [
      " 41%|████      | 216/526 [13:39<14:36,  2.83s/it]"
     ]
    },
    {
     "name": "stdout",
     "output_type": "stream",
     "text": [
      "230-Rui-et-al-2019.nc\n"
     ]
    },
    {
     "name": "stderr",
     "output_type": "stream",
     "text": [
      " 41%|████▏     | 217/526 [13:42<16:16,  3.16s/it]"
     ]
    },
    {
     "name": "stdout",
     "output_type": "stream",
     "text": [
      "197-Skjerdal-et-al-2015.nc\n"
     ]
    },
    {
     "name": "stderr",
     "output_type": "stream",
     "text": [
      " 41%|████▏     | 218/526 [13:45<15:00,  2.92s/it]"
     ]
    },
    {
     "name": "stdout",
     "output_type": "stream",
     "text": [
      "531-Leppänen-2013.nc\n"
     ]
    },
    {
     "name": "stderr",
     "output_type": "stream",
     "text": [
      " 42%|████▏     | 219/526 [13:47<14:05,  2.75s/it]"
     ]
    },
    {
     "name": "stdout",
     "output_type": "stream",
     "text": [
      "6-Kautsky-and-Eicke-1982.nc\n"
     ]
    },
    {
     "name": "stderr",
     "output_type": "stream",
     "text": [
      " 42%|████▏     | 220/526 [13:49<12:58,  2.54s/it]"
     ]
    },
    {
     "name": "stdout",
     "output_type": "stream",
     "text": [
      "44-Aarkrog-et-al-1989.nc\n"
     ]
    },
    {
     "name": "stderr",
     "output_type": "stream",
     "text": [
      " 42%|████▏     | 221/526 [13:53<14:57,  2.94s/it]"
     ]
    },
    {
     "name": "stdout",
     "output_type": "stream",
     "text": [
      "415-Heldal-et-al-2003.nc\n"
     ]
    },
    {
     "name": "stderr",
     "output_type": "stream",
     "text": [
      " 42%|████▏     | 222/526 [13:55<13:41,  2.70s/it]"
     ]
    },
    {
     "name": "stdout",
     "output_type": "stream",
     "text": [
      "482-Heldal-2019.nc\n"
     ]
    },
    {
     "name": "stderr",
     "output_type": "stream",
     "text": [
      " 42%|████▏     | 223/526 [13:57<12:35,  2.49s/it]"
     ]
    },
    {
     "name": "stdout",
     "output_type": "stream",
     "text": [
      "500-Ababneh-et-al-2018.nc\n"
     ]
    },
    {
     "name": "stderr",
     "output_type": "stream",
     "text": [
      " 43%|████▎     | 224/526 [13:59<11:40,  2.32s/it]"
     ]
    },
    {
     "name": "stdout",
     "output_type": "stream",
     "text": [
      "566-Stepnowski-and-Skwarzec-2000.nc\n"
     ]
    },
    {
     "name": "stderr",
     "output_type": "stream",
     "text": [
      " 43%|████▎     | 225/526 [14:01<10:56,  2.18s/it]"
     ]
    },
    {
     "name": "stdout",
     "output_type": "stream",
     "text": [
      "481-Andersen-et-al-2006.nc\n"
     ]
    },
    {
     "name": "stderr",
     "output_type": "stream",
     "text": [
      " 43%|████▎     | 226/526 [14:03<10:37,  2.12s/it]"
     ]
    },
    {
     "name": "stdout",
     "output_type": "stream",
     "text": [
      "698-Ryan-et-al-2000.nc\n"
     ]
    },
    {
     "name": "stderr",
     "output_type": "stream",
     "text": [
      " 43%|████▎     | 227/526 [14:05<10:51,  2.18s/it]"
     ]
    },
    {
     "name": "stdout",
     "output_type": "stream",
     "text": [
      "701-Ryan-et-al-2007.nc\n"
     ]
    },
    {
     "name": "stderr",
     "output_type": "stream",
     "text": [
      " 43%|████▎     | 228/526 [14:08<11:54,  2.40s/it]"
     ]
    },
    {
     "name": "stdout",
     "output_type": "stream",
     "text": [
      "695-McGarry-et-al-1994.nc\n"
     ]
    },
    {
     "name": "stderr",
     "output_type": "stream",
     "text": [
      " 44%|████▎     | 229/526 [14:11<12:24,  2.51s/it]"
     ]
    },
    {
     "name": "stdout",
     "output_type": "stream",
     "text": [
      "696-Pollard-et-al-1996.nc\n"
     ]
    },
    {
     "name": "stderr",
     "output_type": "stream",
     "text": [
      " 44%|████▎     | 230/526 [14:13<12:12,  2.47s/it]"
     ]
    },
    {
     "name": "stdout",
     "output_type": "stream",
     "text": [
      "699-Ryan-et-al-2003.nc\n"
     ]
    },
    {
     "name": "stderr",
     "output_type": "stream",
     "text": [
      " 44%|████▍     | 231/526 [14:16<12:01,  2.44s/it]"
     ]
    },
    {
     "name": "stdout",
     "output_type": "stream",
     "text": [
      "702-Smith-et-al-2007.nc\n"
     ]
    },
    {
     "name": "stderr",
     "output_type": "stream",
     "text": [
      " 44%|████▍     | 232/526 [14:18<11:42,  2.39s/it]"
     ]
    },
    {
     "name": "stdout",
     "output_type": "stream",
     "text": [
      "703-Fegan-et-al-2008.nc\n"
     ]
    },
    {
     "name": "stderr",
     "output_type": "stream",
     "text": [
      " 44%|████▍     | 233/526 [14:21<11:50,  2.42s/it]"
     ]
    },
    {
     "name": "stdout",
     "output_type": "stream",
     "text": [
      "704-Fegan-et-al-2010.nc\n"
     ]
    },
    {
     "name": "stderr",
     "output_type": "stream",
     "text": [
      " 44%|████▍     | 234/526 [14:23<11:38,  2.39s/it]"
     ]
    },
    {
     "name": "stdout",
     "output_type": "stream",
     "text": [
      "700-McMahon-et-al-2005.nc\n"
     ]
    },
    {
     "name": "stderr",
     "output_type": "stream",
     "text": [
      " 45%|████▍     | 235/526 [14:26<13:05,  2.70s/it]"
     ]
    },
    {
     "name": "stdout",
     "output_type": "stream",
     "text": [
      "705-McGinnity-et-al-2010.nc\n"
     ]
    },
    {
     "name": "stderr",
     "output_type": "stream",
     "text": [
      " 45%|████▍     | 236/526 [14:29<12:23,  2.56s/it]"
     ]
    },
    {
     "name": "stdout",
     "output_type": "stream",
     "text": [
      "709-EPA-Ireland-2020.nc\n"
     ]
    },
    {
     "name": "stderr",
     "output_type": "stream",
     "text": [
      " 45%|████▌     | 237/526 [14:31<12:39,  2.63s/it]"
     ]
    },
    {
     "name": "stdout",
     "output_type": "stream",
     "text": [
      "534-McCartney-et-al-2000.nc\n"
     ]
    },
    {
     "name": "stderr",
     "output_type": "stream",
     "text": [
      " 45%|████▌     | 238/526 [14:34<12:01,  2.51s/it]"
     ]
    },
    {
     "name": "stdout",
     "output_type": "stream",
     "text": [
      "271-Renaud-et-al-2015.nc\n"
     ]
    },
    {
     "name": "stderr",
     "output_type": "stream",
     "text": [
      " 45%|████▌     | 239/526 [14:38<14:40,  3.07s/it]"
     ]
    },
    {
     "name": "stdout",
     "output_type": "stream",
     "text": [
      "292-Bustamante-et-al-2002.nc\n"
     ]
    },
    {
     "name": "stderr",
     "output_type": "stream",
     "text": [
      " 46%|████▌     | 240/526 [14:40<13:00,  2.73s/it]"
     ]
    },
    {
     "name": "stdout",
     "output_type": "stream",
     "text": [
      "317-Connan-et-al-2007.nc\n"
     ]
    },
    {
     "name": "stderr",
     "output_type": "stream",
     "text": [
      " 46%|████▌     | 241/526 [14:44<14:43,  3.10s/it]"
     ]
    },
    {
     "name": "stdout",
     "output_type": "stream",
     "text": [
      "716-Renaud-et-al-2015.nc\n"
     ]
    },
    {
     "name": "stderr",
     "output_type": "stream",
     "text": [
      " 46%|████▌     | 242/526 [14:46<13:41,  2.89s/it]"
     ]
    },
    {
     "name": "stdout",
     "output_type": "stream",
     "text": [
      "100-HELCOM-MORS-2018.nc\n"
     ]
    },
    {
     "name": "stderr",
     "output_type": "stream",
     "text": [
      " 46%|████▌     | 243/526 [19:13<6:26:24, 81.92s/it]"
     ]
    },
    {
     "name": "stdout",
     "output_type": "stream",
     "text": [
      "162-Gómez-Guzmán-et-al-2014.nc\n"
     ]
    },
    {
     "name": "stderr",
     "output_type": "stream",
     "text": [
      " 46%|████▋     | 244/526 [19:15<4:33:18, 58.15s/it]"
     ]
    },
    {
     "name": "stdout",
     "output_type": "stream",
     "text": [
      "553-Zakaria-et-al-2008.nc\n"
     ]
    },
    {
     "name": "stderr",
     "output_type": "stream",
     "text": [
      " 47%|████▋     | 245/526 [19:17<3:13:18, 41.27s/it]"
     ]
    },
    {
     "name": "stdout",
     "output_type": "stream",
     "text": [
      "565-Dahlgaard-1996.nc\n"
     ]
    },
    {
     "name": "stderr",
     "output_type": "stream",
     "text": [
      " 47%|████▋     | 246/526 [19:19<2:17:30, 29.46s/it]"
     ]
    },
    {
     "name": "stdout",
     "output_type": "stream",
     "text": [
      "172-Pham-et-al-2014.nc\n"
     ]
    },
    {
     "name": "stderr",
     "output_type": "stream",
     "text": [
      " 47%|████▋     | 247/526 [19:23<1:40:57, 21.71s/it]"
     ]
    },
    {
     "name": "stdout",
     "output_type": "stream",
     "text": [
      "558-Fiévet-2020.nc\n"
     ]
    },
    {
     "name": "stderr",
     "output_type": "stream",
     "text": [
      " 47%|████▋     | 248/526 [19:27<1:16:13, 16.45s/it]"
     ]
    },
    {
     "name": "stdout",
     "output_type": "stream",
     "text": [
      "567-Germain-1995.nc\n"
     ]
    },
    {
     "name": "stderr",
     "output_type": "stream",
     "text": [
      " 47%|████▋     | 249/526 [19:30<57:09, 12.38s/it]  "
     ]
    },
    {
     "name": "stdout",
     "output_type": "stream",
     "text": [
      "17-Guary-et-al-1982.nc\n"
     ]
    },
    {
     "name": "stderr",
     "output_type": "stream",
     "text": [
      " 48%|████▊     | 250/526 [19:32<42:49,  9.31s/it]"
     ]
    },
    {
     "name": "stdout",
     "output_type": "stream",
     "text": [
      "62-McDonald-et-al-1986.nc\n"
     ]
    },
    {
     "name": "stderr",
     "output_type": "stream",
     "text": [
      " 48%|████▊     | 251/526 [19:35<34:20,  7.49s/it]"
     ]
    },
    {
     "name": "stdout",
     "output_type": "stream",
     "text": [
      "274-Pietrzak-Flis-et-al-2001.nc\n"
     ]
    },
    {
     "name": "stderr",
     "output_type": "stream",
     "text": [
      " 48%|████▊     | 252/526 [19:37<26:35,  5.82s/it]"
     ]
    },
    {
     "name": "stdout",
     "output_type": "stream",
     "text": [
      "551-Zalewska-and-Saniewski-2011.nc\n"
     ]
    },
    {
     "name": "stderr",
     "output_type": "stream",
     "text": [
      " 48%|████▊     | 253/526 [19:39<21:07,  4.64s/it]"
     ]
    },
    {
     "name": "stdout",
     "output_type": "stream",
     "text": [
      "552-Zalewska-2016.nc\n"
     ]
    },
    {
     "name": "stderr",
     "output_type": "stream",
     "text": [
      " 48%|████▊     | 254/526 [19:41<18:10,  4.01s/it]"
     ]
    },
    {
     "name": "stdout",
     "output_type": "stream",
     "text": [
      "563-Ciesielski-2015.nc\n"
     ]
    },
    {
     "name": "stderr",
     "output_type": "stream",
     "text": [
      " 48%|████▊     | 255/526 [19:44<15:45,  3.49s/it]"
     ]
    },
    {
     "name": "stdout",
     "output_type": "stream",
     "text": [
      "564-Saremi-et-al-2018.nc\n"
     ]
    },
    {
     "name": "stderr",
     "output_type": "stream",
     "text": [
      " 49%|████▊     | 256/526 [19:47<15:17,  3.40s/it]"
     ]
    },
    {
     "name": "stdout",
     "output_type": "stream",
     "text": [
      "171-Gómez-Guzmán-et-al-2013.nc\n"
     ]
    },
    {
     "name": "stderr",
     "output_type": "stream",
     "text": [
      " 49%|████▉     | 257/526 [19:50<14:31,  3.24s/it]"
     ]
    },
    {
     "name": "stdout",
     "output_type": "stream",
     "text": [
      "151-Petrinec-et-al-2012.nc\n"
     ]
    },
    {
     "name": "stderr",
     "output_type": "stream",
     "text": [
      " 49%|████▉     | 258/526 [19:52<13:04,  2.93s/it]"
     ]
    },
    {
     "name": "stdout",
     "output_type": "stream",
     "text": [
      "281-Desideri-et-al-2010.nc\n"
     ]
    },
    {
     "name": "stderr",
     "output_type": "stream",
     "text": [
      " 49%|████▉     | 259/526 [19:54<11:39,  2.62s/it]"
     ]
    },
    {
     "name": "stdout",
     "output_type": "stream",
     "text": [
      "283-Rogic-et-al-2013.nc\n"
     ]
    },
    {
     "name": "stderr",
     "output_type": "stream",
     "text": [
      " 49%|████▉     | 260/526 [19:56<10:41,  2.41s/it]"
     ]
    },
    {
     "name": "stdout",
     "output_type": "stream",
     "text": [
      "510-Men-et-al-2020.nc\n"
     ]
    },
    {
     "name": "stderr",
     "output_type": "stream",
     "text": [
      " 50%|████▉     | 261/526 [19:58<10:05,  2.29s/it]"
     ]
    },
    {
     "name": "stdout",
     "output_type": "stream",
     "text": [
      "268-Antovic-and-Antovic-2011.nc\n"
     ]
    },
    {
     "name": "stderr",
     "output_type": "stream",
     "text": [
      " 50%|████▉     | 262/526 [20:00<09:45,  2.22s/it]"
     ]
    },
    {
     "name": "stdout",
     "output_type": "stream",
     "text": [
      "250-Romaric-et-al-2012.nc\n"
     ]
    },
    {
     "name": "stderr",
     "output_type": "stream",
     "text": [
      " 50%|█████     | 263/526 [20:02<10:05,  2.30s/it]"
     ]
    },
    {
     "name": "stdout",
     "output_type": "stream",
     "text": [
      "472-Antovic-and-Antovic-2011.nc\n"
     ]
    },
    {
     "name": "stderr",
     "output_type": "stream",
     "text": [
      " 50%|█████     | 264/526 [20:05<10:02,  2.30s/it]"
     ]
    },
    {
     "name": "stdout",
     "output_type": "stream",
     "text": [
      "150-Petrinec-et-al-2013.nc\n"
     ]
    },
    {
     "name": "stderr",
     "output_type": "stream",
     "text": [
      " 50%|█████     | 265/526 [20:07<09:33,  2.20s/it]"
     ]
    },
    {
     "name": "stdout",
     "output_type": "stream",
     "text": [
      "410-Jia-et-al-2020.nc\n"
     ]
    },
    {
     "name": "stderr",
     "output_type": "stream",
     "text": [
      " 51%|█████     | 266/526 [20:10<10:52,  2.51s/it]"
     ]
    },
    {
     "name": "stdout",
     "output_type": "stream",
     "text": [
      "299-Kristan-et-al-2015.nc\n"
     ]
    },
    {
     "name": "stderr",
     "output_type": "stream",
     "text": [
      " 51%|█████     | 267/526 [20:12<10:04,  2.33s/it]"
     ]
    },
    {
     "name": "stdout",
     "output_type": "stream",
     "text": [
      "255-Roselli-et-al-2017.nc\n"
     ]
    },
    {
     "name": "stderr",
     "output_type": "stream",
     "text": [
      " 51%|█████     | 268/526 [20:14<09:28,  2.20s/it]"
     ]
    },
    {
     "name": "stdout",
     "output_type": "stream",
     "text": [
      "449-Kiliç-et-al-2018.nc\n"
     ]
    },
    {
     "name": "stderr",
     "output_type": "stream",
     "text": [
      " 51%|█████     | 269/526 [20:16<09:17,  2.17s/it]"
     ]
    },
    {
     "name": "stdout",
     "output_type": "stream",
     "text": [
      "561-Kül-2020.nc\n"
     ]
    },
    {
     "name": "stderr",
     "output_type": "stream",
     "text": [
      " 51%|█████▏    | 270/526 [20:18<08:55,  2.09s/it]"
     ]
    },
    {
     "name": "stdout",
     "output_type": "stream",
     "text": [
      "280-Mat-Çatal-et-al-2012.nc\n"
     ]
    },
    {
     "name": "stderr",
     "output_type": "stream",
     "text": [
      " 52%|█████▏    | 271/526 [20:20<08:38,  2.03s/it]"
     ]
    },
    {
     "name": "stdout",
     "output_type": "stream",
     "text": [
      "284-Aközcan-and-Ugur-2013.nc\n"
     ]
    },
    {
     "name": "stderr",
     "output_type": "stream",
     "text": [
      " 52%|█████▏    | 272/526 [20:22<08:27,  2.00s/it]"
     ]
    },
    {
     "name": "stdout",
     "output_type": "stream",
     "text": [
      "302-Kiliç-et-al-2014.nc\n"
     ]
    },
    {
     "name": "stderr",
     "output_type": "stream",
     "text": [
      " 52%|█████▏    | 273/526 [20:23<08:23,  1.99s/it]"
     ]
    },
    {
     "name": "stdout",
     "output_type": "stream",
     "text": [
      "412-Ugur-et-al-2002.nc\n"
     ]
    },
    {
     "name": "stderr",
     "output_type": "stream",
     "text": [
      " 52%|█████▏    | 274/526 [20:27<09:45,  2.32s/it]"
     ]
    },
    {
     "name": "stdout",
     "output_type": "stream",
     "text": [
      "554-Yilmaz-2020.nc\n"
     ]
    },
    {
     "name": "stderr",
     "output_type": "stream",
     "text": [
      " 52%|█████▏    | 275/526 [20:28<09:10,  2.19s/it]"
     ]
    },
    {
     "name": "stdout",
     "output_type": "stream",
     "text": [
      "530-Aközcan-2013.nc\n"
     ]
    },
    {
     "name": "stderr",
     "output_type": "stream",
     "text": [
      " 52%|█████▏    | 276/526 [20:31<08:57,  2.15s/it]"
     ]
    },
    {
     "name": "stdout",
     "output_type": "stream",
     "text": [
      "219-Polikarpov-et-al-1991.nc\n"
     ]
    },
    {
     "name": "stderr",
     "output_type": "stream",
     "text": [
      " 53%|█████▎    | 277/526 [20:33<09:04,  2.19s/it]"
     ]
    },
    {
     "name": "stdout",
     "output_type": "stream",
     "text": [
      "536-Nonova-2016.nc\n"
     ]
    },
    {
     "name": "stderr",
     "output_type": "stream",
     "text": [
      " 53%|█████▎    | 278/526 [20:35<08:48,  2.13s/it]"
     ]
    },
    {
     "name": "stdout",
     "output_type": "stream",
     "text": [
      "220-Bologa-and-Patrascu-1994.nc\n"
     ]
    },
    {
     "name": "stderr",
     "output_type": "stream",
     "text": [
      " 53%|█████▎    | 279/526 [20:37<08:59,  2.18s/it]"
     ]
    },
    {
     "name": "stdout",
     "output_type": "stream",
     "text": [
      "221-Varinlioglu-et-al-1995.nc\n"
     ]
    },
    {
     "name": "stderr",
     "output_type": "stream",
     "text": [
      " 53%|█████▎    | 280/526 [20:39<08:35,  2.10s/it]"
     ]
    },
    {
     "name": "stdout",
     "output_type": "stream",
     "text": [
      "537-Nonova-2014.nc\n"
     ]
    },
    {
     "name": "stderr",
     "output_type": "stream",
     "text": [
      " 53%|█████▎    | 281/526 [20:41<08:22,  2.05s/it]"
     ]
    },
    {
     "name": "stdout",
     "output_type": "stream",
     "text": [
      "2-Crusius-and-Anderson-1991.nc\n"
     ]
    },
    {
     "name": "stderr",
     "output_type": "stream",
     "text": [
      " 54%|█████▎    | 282/526 [20:43<08:35,  2.11s/it]"
     ]
    },
    {
     "name": "stdout",
     "output_type": "stream",
     "text": [
      "3-Top-and-Clarke-1983.nc\n"
     ]
    },
    {
     "name": "stderr",
     "output_type": "stream",
     "text": [
      " 54%|█████▍    | 283/526 [20:45<08:20,  2.06s/it]"
     ]
    },
    {
     "name": "stdout",
     "output_type": "stream",
     "text": [
      "310-Güngör-et-al-2006.nc\n"
     ]
    },
    {
     "name": "stderr",
     "output_type": "stream",
     "text": [
      " 54%|█████▍    | 284/526 [20:47<08:28,  2.10s/it]"
     ]
    },
    {
     "name": "stdout",
     "output_type": "stream",
     "text": [
      "229-Cartes-et-al-2017.nc\n"
     ]
    },
    {
     "name": "stderr",
     "output_type": "stream",
     "text": [
      " 54%|█████▍    | 285/526 [20:49<08:16,  2.06s/it]"
     ]
    },
    {
     "name": "stdout",
     "output_type": "stream",
     "text": [
      "242-Fonollosa-et-al-2017.nc\n"
     ]
    },
    {
     "name": "stderr",
     "output_type": "stream",
     "text": [
      " 54%|█████▍    | 286/526 [20:51<08:12,  2.05s/it]"
     ]
    },
    {
     "name": "stdout",
     "output_type": "stream",
     "text": [
      "247-Nadal-et-al-2011.nc\n"
     ]
    },
    {
     "name": "stderr",
     "output_type": "stream",
     "text": [
      " 55%|█████▍    | 287/526 [20:53<08:01,  2.01s/it]"
     ]
    },
    {
     "name": "stdout",
     "output_type": "stream",
     "text": [
      "373-Castrillejo-et-al-2017.nc\n"
     ]
    },
    {
     "name": "stderr",
     "output_type": "stream",
     "text": [
      " 55%|█████▍    | 288/526 [20:55<07:59,  2.01s/it]"
     ]
    },
    {
     "name": "stdout",
     "output_type": "stream",
     "text": [
      "398-Andrié-and-Merlivat-1988.nc\n"
     ]
    },
    {
     "name": "stderr",
     "output_type": "stream",
     "text": [
      " 55%|█████▍    | 289/526 [20:57<08:10,  2.07s/it]"
     ]
    },
    {
     "name": "stdout",
     "output_type": "stream",
     "text": [
      "260-Diaz-Frances-et-al-2017.nc\n"
     ]
    },
    {
     "name": "stderr",
     "output_type": "stream",
     "text": [
      " 55%|█████▌    | 290/526 [20:59<08:00,  2.04s/it]"
     ]
    },
    {
     "name": "stdout",
     "output_type": "stream",
     "text": [
      "318-Camacho-and-Tenorio-2011.nc\n"
     ]
    },
    {
     "name": "stderr",
     "output_type": "stream",
     "text": [
      " 55%|█████▌    | 291/526 [21:02<08:51,  2.26s/it]"
     ]
    },
    {
     "name": "stdout",
     "output_type": "stream",
     "text": [
      "334-Laissaoui-et-al-2008.nc\n"
     ]
    },
    {
     "name": "stderr",
     "output_type": "stream",
     "text": [
      " 56%|█████▌    | 292/526 [21:04<08:49,  2.26s/it]"
     ]
    },
    {
     "name": "stdout",
     "output_type": "stream",
     "text": [
      "338-Thébault-et-al-2008.nc\n"
     ]
    },
    {
     "name": "stderr",
     "output_type": "stream",
     "text": [
      " 56%|█████▌    | 293/526 [21:06<08:26,  2.18s/it]"
     ]
    },
    {
     "name": "stdout",
     "output_type": "stream",
     "text": [
      "333-Noureddine-et-al-2008.nc\n"
     ]
    },
    {
     "name": "stderr",
     "output_type": "stream",
     "text": [
      " 56%|█████▌    | 294/526 [21:09<09:13,  2.39s/it]"
     ]
    },
    {
     "name": "stdout",
     "output_type": "stream",
     "text": [
      "356-González-Fernández-et-al-2012.nc\n"
     ]
    },
    {
     "name": "stderr",
     "output_type": "stream",
     "text": [
      " 56%|█████▌    | 295/526 [21:11<08:43,  2.27s/it]"
     ]
    },
    {
     "name": "stdout",
     "output_type": "stream",
     "text": [
      "14-Ballestra-et-al-1980.nc\n"
     ]
    },
    {
     "name": "stderr",
     "output_type": "stream",
     "text": [
      " 56%|█████▋    | 296/526 [21:14<08:51,  2.31s/it]"
     ]
    },
    {
     "name": "stdout",
     "output_type": "stream",
     "text": [
      "218-Delbono-et-al-2016.nc\n"
     ]
    },
    {
     "name": "stderr",
     "output_type": "stream",
     "text": [
      " 56%|█████▋    | 297/526 [21:17<10:26,  2.74s/it]"
     ]
    },
    {
     "name": "stdout",
     "output_type": "stream",
     "text": [
      "9-Fukai-et-al-1980.nc\n"
     ]
    },
    {
     "name": "stderr",
     "output_type": "stream",
     "text": [
      " 57%|█████▋    | 298/526 [21:20<09:40,  2.54s/it]"
     ]
    },
    {
     "name": "stdout",
     "output_type": "stream",
     "text": [
      "11-Holm-et-al-1980.nc\n"
     ]
    },
    {
     "name": "stderr",
     "output_type": "stream",
     "text": [
      " 57%|█████▋    | 299/526 [21:22<09:54,  2.62s/it]"
     ]
    },
    {
     "name": "stdout",
     "output_type": "stream",
     "text": [
      "560-Kiliç-2014.nc\n"
     ]
    },
    {
     "name": "stderr",
     "output_type": "stream",
     "text": [
      " 57%|█████▋    | 300/526 [21:24<09:18,  2.47s/it]"
     ]
    },
    {
     "name": "stdout",
     "output_type": "stream",
     "text": [
      "413-Hafizoglu-et-al-2020.nc\n"
     ]
    },
    {
     "name": "stderr",
     "output_type": "stream",
     "text": [
      " 57%|█████▋    | 301/526 [21:26<08:45,  2.33s/it]"
     ]
    },
    {
     "name": "stdout",
     "output_type": "stream",
     "text": [
      "539-Karabayir-2020.nc\n"
     ]
    },
    {
     "name": "stderr",
     "output_type": "stream",
     "text": [
      " 57%|█████▋    | 302/526 [21:29<08:51,  2.37s/it]"
     ]
    },
    {
     "name": "stdout",
     "output_type": "stream",
     "text": [
      "231-Tamburrino-et-al-2019.nc\n"
     ]
    },
    {
     "name": "stderr",
     "output_type": "stream",
     "text": [
      " 58%|█████▊    | 303/526 [21:31<08:54,  2.40s/it]"
     ]
    },
    {
     "name": "stdout",
     "output_type": "stream",
     "text": [
      "216-ENEA-Casaccia-Research-Centre-Radiation-Protection-Institute-2016.nc\n"
     ]
    },
    {
     "name": "stderr",
     "output_type": "stream",
     "text": [
      " 58%|█████▊    | 304/526 [21:33<08:24,  2.27s/it]"
     ]
    },
    {
     "name": "stdout",
     "output_type": "stream",
     "text": [
      "217-ENEA-Casaccia-Research-Centre-Radiation-Protection-Institute-2017.nc\n"
     ]
    },
    {
     "name": "stderr",
     "output_type": "stream",
     "text": [
      " 58%|█████▊    | 305/526 [21:35<07:58,  2.17s/it]"
     ]
    },
    {
     "name": "stdout",
     "output_type": "stream",
     "text": [
      "211-ENEA-Casaccia-Research-Centre-Radiation-Protection-Institute-2011.nc\n"
     ]
    },
    {
     "name": "stderr",
     "output_type": "stream",
     "text": [
      " 58%|█████▊    | 306/526 [21:39<09:18,  2.54s/it]"
     ]
    },
    {
     "name": "stdout",
     "output_type": "stream",
     "text": [
      "212-ENEA-Casaccia-Research-Centre-Radiation-Protection-Institute-2012.nc\n"
     ]
    },
    {
     "name": "stderr",
     "output_type": "stream",
     "text": [
      " 58%|█████▊    | 307/526 [21:41<08:32,  2.34s/it]"
     ]
    },
    {
     "name": "stdout",
     "output_type": "stream",
     "text": [
      "213-ENEA-Casaccia-Research-Centre-Radiation-Protection-Institute-2013.nc\n"
     ]
    },
    {
     "name": "stderr",
     "output_type": "stream",
     "text": [
      " 59%|█████▊    | 308/526 [21:43<08:04,  2.22s/it]"
     ]
    },
    {
     "name": "stdout",
     "output_type": "stream",
     "text": [
      "214-ENEA-Casaccia-Research-Centre-Radiation-Protection-Institute-2014.nc\n"
     ]
    },
    {
     "name": "stderr",
     "output_type": "stream",
     "text": [
      " 59%|█████▊    | 309/526 [21:46<08:53,  2.46s/it]"
     ]
    },
    {
     "name": "stdout",
     "output_type": "stream",
     "text": [
      "215-ENEA-Casaccia-Research-Centre-Radiation-Protection-Institute-2015.nc\n"
     ]
    },
    {
     "name": "stderr",
     "output_type": "stream",
     "text": [
      " 59%|█████▉    | 310/526 [21:47<08:19,  2.31s/it]"
     ]
    },
    {
     "name": "stdout",
     "output_type": "stream",
     "text": [
      "227-Barsanti-et-al-2011.nc\n"
     ]
    },
    {
     "name": "stderr",
     "output_type": "stream",
     "text": [
      " 59%|█████▉    | 311/526 [21:49<07:55,  2.21s/it]"
     ]
    },
    {
     "name": "stdout",
     "output_type": "stream",
     "text": [
      "57-Hamilton-et-al-1994.nc\n"
     ]
    },
    {
     "name": "stderr",
     "output_type": "stream",
     "text": [
      " 59%|█████▉    | 312/526 [21:52<07:53,  2.21s/it]"
     ]
    },
    {
     "name": "stdout",
     "output_type": "stream",
     "text": [
      "77-Strand-and-Nikitin-1993.nc\n"
     ]
    },
    {
     "name": "stderr",
     "output_type": "stream",
     "text": [
      " 60%|█████▉    | 313/526 [21:54<08:15,  2.33s/it]"
     ]
    },
    {
     "name": "stdout",
     "output_type": "stream",
     "text": [
      "378-Chen-et-al-2017.nc\n"
     ]
    },
    {
     "name": "stderr",
     "output_type": "stream",
     "text": [
      " 60%|█████▉    | 314/526 [21:56<08:01,  2.27s/it]"
     ]
    },
    {
     "name": "stdout",
     "output_type": "stream",
     "text": [
      "473-Cooper-et-al-2000.nc\n"
     ]
    },
    {
     "name": "stderr",
     "output_type": "stream",
     "text": [
      " 60%|█████▉    | 315/526 [21:58<07:34,  2.16s/it]"
     ]
    },
    {
     "name": "stdout",
     "output_type": "stream",
     "text": [
      "332-Diab-et-al-2019.nc\n"
     ]
    },
    {
     "name": "stderr",
     "output_type": "stream",
     "text": [
      " 60%|██████    | 316/526 [22:01<07:55,  2.26s/it]"
     ]
    },
    {
     "name": "stdout",
     "output_type": "stream",
     "text": [
      "364-Zakaly-et-al-2016.nc\n"
     ]
    },
    {
     "name": "stderr",
     "output_type": "stream",
     "text": [
      " 60%|██████    | 317/526 [22:03<07:31,  2.16s/it]"
     ]
    },
    {
     "name": "stdout",
     "output_type": "stream",
     "text": [
      "348-El-Mamoney-and-Khater-2004.nc\n"
     ]
    },
    {
     "name": "stderr",
     "output_type": "stream",
     "text": [
      " 60%|██████    | 318/526 [22:05<07:51,  2.27s/it]"
     ]
    },
    {
     "name": "stdout",
     "output_type": "stream",
     "text": [
      "331-Ramadan-et-al-2018.nc\n"
     ]
    },
    {
     "name": "stderr",
     "output_type": "stream",
     "text": [
      " 61%|██████    | 319/526 [22:08<07:58,  2.31s/it]"
     ]
    },
    {
     "name": "stdout",
     "output_type": "stream",
     "text": [
      "429-Al-Trabulsy-et-al-2013.nc\n"
     ]
    },
    {
     "name": "stderr",
     "output_type": "stream",
     "text": [
      " 61%|██████    | 320/526 [22:10<08:14,  2.40s/it]"
     ]
    },
    {
     "name": "stdout",
     "output_type": "stream",
     "text": [
      "337-Arafat-et-al-2017.nc\n"
     ]
    },
    {
     "name": "stderr",
     "output_type": "stream",
     "text": [
      " 61%|██████    | 321/526 [22:12<07:56,  2.33s/it]"
     ]
    },
    {
     "name": "stdout",
     "output_type": "stream",
     "text": [
      "342-Sirelkhatim-et-al-2008.nc\n"
     ]
    },
    {
     "name": "stderr",
     "output_type": "stream",
     "text": [
      " 61%|██████    | 322/526 [22:15<07:50,  2.31s/it]"
     ]
    },
    {
     "name": "stdout",
     "output_type": "stream",
     "text": [
      "344-Sam-et-al-2000.nc\n"
     ]
    },
    {
     "name": "stderr",
     "output_type": "stream",
     "text": [
      " 61%|██████▏   | 323/526 [22:17<07:28,  2.21s/it]"
     ]
    },
    {
     "name": "stdout",
     "output_type": "stream",
     "text": [
      "349-El-Arabi-2005.nc\n"
     ]
    },
    {
     "name": "stderr",
     "output_type": "stream",
     "text": [
      " 62%|██████▏   | 324/526 [22:22<10:19,  3.07s/it]"
     ]
    },
    {
     "name": "stdout",
     "output_type": "stream",
     "text": [
      "351-Uosif-et-al-2008.nc\n"
     ]
    },
    {
     "name": "stderr",
     "output_type": "stream",
     "text": [
      " 62%|██████▏   | 325/526 [22:24<09:13,  2.75s/it]"
     ]
    },
    {
     "name": "stdout",
     "output_type": "stream",
     "text": [
      "363-Uosif-et-al-2016.nc\n"
     ]
    },
    {
     "name": "stderr",
     "output_type": "stream",
     "text": [
      " 62%|██████▏   | 326/526 [22:26<08:21,  2.51s/it]"
     ]
    },
    {
     "name": "stdout",
     "output_type": "stream",
     "text": [
      "256-Hassona-et-al-2008.nc\n"
     ]
    },
    {
     "name": "stderr",
     "output_type": "stream",
     "text": [
      " 62%|██████▏   | 327/526 [22:28<08:20,  2.52s/it]"
     ]
    },
    {
     "name": "stdout",
     "output_type": "stream",
     "text": [
      "556-Sirelkhatim-et-al-2008.nc\n"
     ]
    },
    {
     "name": "stderr",
     "output_type": "stream",
     "text": [
      " 62%|██████▏   | 328/526 [22:30<07:53,  2.39s/it]"
     ]
    },
    {
     "name": "stdout",
     "output_type": "stream",
     "text": [
      "346-Sam-2003.nc\n"
     ]
    },
    {
     "name": "stderr",
     "output_type": "stream",
     "text": [
      " 63%|██████▎   | 329/526 [22:32<07:29,  2.28s/it]"
     ]
    },
    {
     "name": "stdout",
     "output_type": "stream",
     "text": [
      "298-Uddin-et-al-2017.nc\n"
     ]
    },
    {
     "name": "stderr",
     "output_type": "stream",
     "text": [
      " 63%|██████▎   | 330/526 [22:34<07:17,  2.23s/it]"
     ]
    },
    {
     "name": "stdout",
     "output_type": "stream",
     "text": [
      "403-Al-Qaradawi-et-al-2015.nc\n"
     ]
    },
    {
     "name": "stderr",
     "output_type": "stream",
     "text": [
      " 63%|██████▎   | 331/526 [22:37<07:07,  2.19s/it]"
     ]
    },
    {
     "name": "stdout",
     "output_type": "stream",
     "text": [
      "241-Al-Ghadban-et-al-2012.nc\n"
     ]
    },
    {
     "name": "stderr",
     "output_type": "stream",
     "text": [
      " 63%|██████▎   | 332/526 [22:41<09:05,  2.81s/it]"
     ]
    },
    {
     "name": "stdout",
     "output_type": "stream",
     "text": [
      "288-Uddin-et-al-2012.nc\n"
     ]
    },
    {
     "name": "stderr",
     "output_type": "stream",
     "text": [
      " 63%|██████▎   | 333/526 [22:43<08:11,  2.55s/it]"
     ]
    },
    {
     "name": "stdout",
     "output_type": "stream",
     "text": [
      "290-Uddin-and-Bebhehani-2014.nc\n"
     ]
    },
    {
     "name": "stderr",
     "output_type": "stream",
     "text": [
      " 63%|██████▎   | 334/526 [22:45<07:55,  2.47s/it]"
     ]
    },
    {
     "name": "stdout",
     "output_type": "stream",
     "text": [
      "544-Uddin-2019.nc\n"
     ]
    },
    {
     "name": "stderr",
     "output_type": "stream",
     "text": [
      " 64%|██████▎   | 335/526 [22:47<07:32,  2.37s/it]"
     ]
    },
    {
     "name": "stdout",
     "output_type": "stream",
     "text": [
      "499-Khot-2018.nc\n"
     ]
    },
    {
     "name": "stderr",
     "output_type": "stream",
     "text": [
      " 64%|██████▍   | 336/526 [22:51<08:51,  2.80s/it]"
     ]
    },
    {
     "name": "stdout",
     "output_type": "stream",
     "text": [
      "254-Hemalatha-et-al-2015.nc\n"
     ]
    },
    {
     "name": "stderr",
     "output_type": "stream",
     "text": [
      " 64%|██████▍   | 337/526 [22:54<08:40,  2.75s/it]"
     ]
    },
    {
     "name": "stdout",
     "output_type": "stream",
     "text": [
      "263-Raj-et-al-2016.nc\n"
     ]
    },
    {
     "name": "stderr",
     "output_type": "stream",
     "text": [
      " 64%|██████▍   | 338/526 [22:57<08:46,  2.80s/it]"
     ]
    },
    {
     "name": "stdout",
     "output_type": "stream",
     "text": [
      "275-Avadhani-et-al-2001.nc\n"
     ]
    },
    {
     "name": "stderr",
     "output_type": "stream",
     "text": [
      " 64%|██████▍   | 339/526 [22:58<07:51,  2.52s/it]"
     ]
    },
    {
     "name": "stdout",
     "output_type": "stream",
     "text": [
      "422-Sartandel-et-al-2016.nc\n"
     ]
    },
    {
     "name": "stderr",
     "output_type": "stream",
     "text": [
      " 65%|██████▍   | 340/526 [23:00<07:15,  2.34s/it]"
     ]
    },
    {
     "name": "stdout",
     "output_type": "stream",
     "text": [
      "295-Mishra-et-al-2009.nc\n"
     ]
    },
    {
     "name": "stderr",
     "output_type": "stream",
     "text": [
      " 65%|██████▍   | 341/526 [23:03<07:48,  2.53s/it]"
     ]
    },
    {
     "name": "stdout",
     "output_type": "stream",
     "text": [
      "469-Sartandel-2020.nc\n"
     ]
    },
    {
     "name": "stderr",
     "output_type": "stream",
     "text": [
      " 65%|██████▌   | 342/526 [23:06<08:11,  2.67s/it]"
     ]
    },
    {
     "name": "stdout",
     "output_type": "stream",
     "text": [
      "470-Sartandel-2015.nc\n"
     ]
    },
    {
     "name": "stderr",
     "output_type": "stream",
     "text": [
      " 65%|██████▌   | 343/526 [23:08<07:25,  2.43s/it]"
     ]
    },
    {
     "name": "stdout",
     "output_type": "stream",
     "text": [
      "496-Khan-et-al-2011.nc\n"
     ]
    },
    {
     "name": "stderr",
     "output_type": "stream",
     "text": [
      " 65%|██████▌   | 344/526 [23:10<07:05,  2.34s/it]"
     ]
    },
    {
     "name": "stdout",
     "output_type": "stream",
     "text": [
      "497-Khan-2012.nc\n"
     ]
    },
    {
     "name": "stderr",
     "output_type": "stream",
     "text": [
      " 66%|██████▌   | 345/526 [23:13<07:16,  2.41s/it]"
     ]
    },
    {
     "name": "stdout",
     "output_type": "stream",
     "text": [
      "289-Khan-and-Wesley-2011.nc\n"
     ]
    },
    {
     "name": "stderr",
     "output_type": "stream",
     "text": [
      " 66%|██████▌   | 346/526 [23:15<06:58,  2.33s/it]"
     ]
    },
    {
     "name": "stdout",
     "output_type": "stream",
     "text": [
      "420-Khan-and-Wesley-2016.nc\n"
     ]
    },
    {
     "name": "stderr",
     "output_type": "stream",
     "text": [
      " 66%|██████▌   | 347/526 [23:20<08:52,  2.98s/it]"
     ]
    },
    {
     "name": "stdout",
     "output_type": "stream",
     "text": [
      "252-Khan-and-Wesley-2012.nc\n"
     ]
    },
    {
     "name": "stderr",
     "output_type": "stream",
     "text": [
      " 66%|██████▌   | 348/526 [23:21<07:52,  2.65s/it]"
     ]
    },
    {
     "name": "stdout",
     "output_type": "stream",
     "text": [
      "291-Khan-et-al-2011.nc\n"
     ]
    },
    {
     "name": "stderr",
     "output_type": "stream",
     "text": [
      " 66%|██████▋   | 349/526 [23:23<07:17,  2.47s/it]"
     ]
    },
    {
     "name": "stdout",
     "output_type": "stream",
     "text": [
      "297-Sunith-Shine-et-al-2013.nc\n"
     ]
    },
    {
     "name": "stderr",
     "output_type": "stream",
     "text": [
      " 67%|██████▋   | 350/526 [23:26<07:31,  2.57s/it]"
     ]
    },
    {
     "name": "stdout",
     "output_type": "stream",
     "text": [
      "494-Wesley-and-Khan-2011.nc\n"
     ]
    },
    {
     "name": "stderr",
     "output_type": "stream",
     "text": [
      " 67%|██████▋   | 351/526 [23:28<07:09,  2.46s/it]"
     ]
    },
    {
     "name": "stdout",
     "output_type": "stream",
     "text": [
      "498-Pole-2017.nc\n"
     ]
    },
    {
     "name": "stderr",
     "output_type": "stream",
     "text": [
      " 67%|██████▋   | 352/526 [23:30<06:38,  2.29s/it]"
     ]
    },
    {
     "name": "stdout",
     "output_type": "stream",
     "text": [
      "286-Khan-and-Wesley-2011.nc\n"
     ]
    },
    {
     "name": "stderr",
     "output_type": "stream",
     "text": [
      " 67%|██████▋   | 353/526 [23:32<06:16,  2.18s/it]"
     ]
    },
    {
     "name": "stdout",
     "output_type": "stream",
     "text": [
      "304-Khan-and-Wesley-2011.nc\n"
     ]
    },
    {
     "name": "stderr",
     "output_type": "stream",
     "text": [
      " 67%|██████▋   | 354/526 [23:34<06:06,  2.13s/it]"
     ]
    },
    {
     "name": "stdout",
     "output_type": "stream",
     "text": [
      "543-Nadhiya-et-al-2019.nc\n"
     ]
    },
    {
     "name": "stderr",
     "output_type": "stream",
     "text": [
      " 67%|██████▋   | 355/526 [23:36<05:50,  2.05s/it]"
     ]
    },
    {
     "name": "stdout",
     "output_type": "stream",
     "text": [
      "300-Khan-et-al-2014.nc\n"
     ]
    },
    {
     "name": "stderr",
     "output_type": "stream",
     "text": [
      " 68%|██████▊   | 356/526 [23:38<05:41,  2.01s/it]"
     ]
    },
    {
     "name": "stdout",
     "output_type": "stream",
     "text": [
      "253-Sivakumar-2014.nc\n"
     ]
    },
    {
     "name": "stderr",
     "output_type": "stream",
     "text": [
      " 68%|██████▊   | 357/526 [23:40<05:35,  1.99s/it]"
     ]
    },
    {
     "name": "stdout",
     "output_type": "stream",
     "text": [
      "258-Arunachalam-et-al-2014.nc\n"
     ]
    },
    {
     "name": "stderr",
     "output_type": "stream",
     "text": [
      " 68%|██████▊   | 358/526 [23:42<05:35,  2.00s/it]"
     ]
    },
    {
     "name": "stdout",
     "output_type": "stream",
     "text": [
      "265-Sathyapriya-et-al-2017.nc\n"
     ]
    },
    {
     "name": "stderr",
     "output_type": "stream",
     "text": [
      " 68%|██████▊   | 359/526 [23:45<06:43,  2.42s/it]"
     ]
    },
    {
     "name": "stdout",
     "output_type": "stream",
     "text": [
      "307-Ghose-et-al-2000.nc\n"
     ]
    },
    {
     "name": "stderr",
     "output_type": "stream",
     "text": [
      " 68%|██████▊   | 360/526 [23:47<06:18,  2.28s/it]"
     ]
    },
    {
     "name": "stdout",
     "output_type": "stream",
     "text": [
      "245-Musthafa-and-Krishnamoorthy-2012.nc\n"
     ]
    },
    {
     "name": "stderr",
     "output_type": "stream",
     "text": [
      " 69%|██████▊   | 361/526 [23:49<05:56,  2.16s/it]"
     ]
    },
    {
     "name": "stdout",
     "output_type": "stream",
     "text": [
      "277-Kannan-et-al-2001.nc\n"
     ]
    },
    {
     "name": "stderr",
     "output_type": "stream",
     "text": [
      " 69%|██████▉   | 362/526 [23:51<05:42,  2.09s/it]"
     ]
    },
    {
     "name": "stdout",
     "output_type": "stream",
     "text": [
      "529-Alam-et-al-1995.nc\n"
     ]
    },
    {
     "name": "stderr",
     "output_type": "stream",
     "text": [
      " 69%|██████▉   | 363/526 [23:53<05:35,  2.06s/it]"
     ]
    },
    {
     "name": "stdout",
     "output_type": "stream",
     "text": [
      "312-Hasan-et-al-2006.nc\n"
     ]
    },
    {
     "name": "stderr",
     "output_type": "stream",
     "text": [
      " 69%|██████▉   | 364/526 [23:55<05:34,  2.06s/it]"
     ]
    },
    {
     "name": "stdout",
     "output_type": "stream",
     "text": [
      "486-Alam-et-al-1999.nc\n"
     ]
    },
    {
     "name": "stderr",
     "output_type": "stream",
     "text": [
      " 69%|██████▉   | 365/526 [23:59<07:10,  2.67s/it]"
     ]
    },
    {
     "name": "stdout",
     "output_type": "stream",
     "text": [
      "495-Suriyanarayanan-2010.nc\n"
     ]
    },
    {
     "name": "stderr",
     "output_type": "stream",
     "text": [
      " 70%|██████▉   | 366/526 [24:02<06:51,  2.57s/it]"
     ]
    },
    {
     "name": "stdout",
     "output_type": "stream",
     "text": [
      "105-Theng-and-Mohamed-2005.nc\n"
     ]
    },
    {
     "name": "stderr",
     "output_type": "stream",
     "text": [
      " 70%|██████▉   | 367/526 [24:04<06:32,  2.47s/it]"
     ]
    },
    {
     "name": "stdout",
     "output_type": "stream",
     "text": [
      "240-Khandaker-et-al-2015.nc\n"
     ]
    },
    {
     "name": "stderr",
     "output_type": "stream",
     "text": [
      " 70%|██████▉   | 368/526 [24:06<06:05,  2.32s/it]"
     ]
    },
    {
     "name": "stdout",
     "output_type": "stream",
     "text": [
      "259-Alam-and-Mohamed-2011.nc\n"
     ]
    },
    {
     "name": "stderr",
     "output_type": "stream",
     "text": [
      " 70%|███████   | 369/526 [24:09<06:51,  2.62s/it]"
     ]
    },
    {
     "name": "stdout",
     "output_type": "stream",
     "text": [
      "314-Khandaker-et-al-2015.nc\n"
     ]
    },
    {
     "name": "stderr",
     "output_type": "stream",
     "text": [
      " 70%|███████   | 370/526 [24:11<06:16,  2.41s/it]"
     ]
    },
    {
     "name": "stdout",
     "output_type": "stream",
     "text": [
      "315-Zakri-and-Mohamed-2016.nc\n"
     ]
    },
    {
     "name": "stderr",
     "output_type": "stream",
     "text": [
      " 71%|███████   | 371/526 [24:13<05:57,  2.30s/it]"
     ]
    },
    {
     "name": "stdout",
     "output_type": "stream",
     "text": [
      "503-Alam-2016.nc\n"
     ]
    },
    {
     "name": "stderr",
     "output_type": "stream",
     "text": [
      " 71%|███████   | 372/526 [24:16<06:15,  2.44s/it]"
     ]
    },
    {
     "name": "stdout",
     "output_type": "stream",
     "text": [
      "505-Khandaker-2019.nc\n"
     ]
    },
    {
     "name": "stderr",
     "output_type": "stream",
     "text": [
      " 71%|███████   | 373/526 [24:20<07:37,  2.99s/it]"
     ]
    },
    {
     "name": "stdout",
     "output_type": "stream",
     "text": [
      "502-Abdullah-et-al-2015.nc\n"
     ]
    },
    {
     "name": "stderr",
     "output_type": "stream",
     "text": [
      " 71%|███████   | 374/526 [24:26<09:32,  3.77s/it]"
     ]
    },
    {
     "name": "stdout",
     "output_type": "stream",
     "text": [
      "243-Khandaker-et-al-2013.nc\n"
     ]
    },
    {
     "name": "stderr",
     "output_type": "stream",
     "text": [
      " 71%|███████▏  | 375/526 [24:30<09:29,  3.77s/it]"
     ]
    },
    {
     "name": "stdout",
     "output_type": "stream",
     "text": [
      "13-Guary-et-al-1981.nc\n"
     ]
    },
    {
     "name": "stderr",
     "output_type": "stream",
     "text": [
      " 71%|███████▏  | 376/526 [24:32<08:20,  3.33s/it]"
     ]
    },
    {
     "name": "stdout",
     "output_type": "stream",
     "text": [
      "28-Ballestra-et-al-1984.nc\n"
     ]
    },
    {
     "name": "stderr",
     "output_type": "stream",
     "text": [
      " 72%|███████▏  | 377/526 [24:34<07:33,  3.05s/it]"
     ]
    },
    {
     "name": "stdout",
     "output_type": "stream",
     "text": [
      "175-Santos-et-al-2007.nc\n"
     ]
    },
    {
     "name": "stderr",
     "output_type": "stream",
     "text": [
      " 72%|███████▏  | 378/526 [24:37<07:00,  2.84s/it]"
     ]
    },
    {
     "name": "stdout",
     "output_type": "stream",
     "text": [
      "176-Chamizo-et-al-2010.nc\n"
     ]
    },
    {
     "name": "stderr",
     "output_type": "stream",
     "text": [
      " 72%|███████▏  | 379/526 [24:39<06:37,  2.70s/it]"
     ]
    },
    {
     "name": "stdout",
     "output_type": "stream",
     "text": [
      "20-Fukai-et-al-1982.nc\n"
     ]
    },
    {
     "name": "stderr",
     "output_type": "stream",
     "text": [
      " 72%|███████▏  | 380/526 [24:42<06:57,  2.86s/it]"
     ]
    },
    {
     "name": "stdout",
     "output_type": "stream",
     "text": [
      "24-Heyraud-and-Cherry-1983.nc\n"
     ]
    },
    {
     "name": "stderr",
     "output_type": "stream",
     "text": [
      " 72%|███████▏  | 381/526 [24:46<07:46,  3.22s/it]"
     ]
    },
    {
     "name": "stdout",
     "output_type": "stream",
     "text": [
      "325-Lee-et-al-2006.nc\n"
     ]
    },
    {
     "name": "stderr",
     "output_type": "stream",
     "text": [
      " 73%|███████▎  | 382/526 [24:49<07:17,  3.04s/it]"
     ]
    },
    {
     "name": "stdout",
     "output_type": "stream",
     "text": [
      "327-Benkrid-and-Noureddine-2007.nc\n"
     ]
    },
    {
     "name": "stderr",
     "output_type": "stream",
     "text": [
      " 73%|███████▎  | 383/526 [24:51<06:49,  2.87s/it]"
     ]
    },
    {
     "name": "stdout",
     "output_type": "stream",
     "text": [
      "328-Noureddine-et-al-2007.nc\n"
     ]
    },
    {
     "name": "stderr",
     "output_type": "stream",
     "text": [
      " 73%|███████▎  | 384/526 [24:56<07:47,  3.30s/it]"
     ]
    },
    {
     "name": "stdout",
     "output_type": "stream",
     "text": [
      "345-Noureddine-et-al-2003.nc\n"
     ]
    },
    {
     "name": "stderr",
     "output_type": "stream",
     "text": [
      " 73%|███████▎  | 385/526 [24:58<07:19,  3.11s/it]"
     ]
    },
    {
     "name": "stdout",
     "output_type": "stream",
     "text": [
      "15-Fukai-et-al-1981.nc\n"
     ]
    },
    {
     "name": "stderr",
     "output_type": "stream",
     "text": [
      " 73%|███████▎  | 386/526 [25:01<06:41,  2.87s/it]"
     ]
    },
    {
     "name": "stdout",
     "output_type": "stream",
     "text": [
      "251-Strady-et-al-2015.nc\n"
     ]
    },
    {
     "name": "stderr",
     "output_type": "stream",
     "text": [
      " 74%|███████▎  | 387/526 [25:03<06:05,  2.63s/it]"
     ]
    },
    {
     "name": "stdout",
     "output_type": "stream",
     "text": [
      "324-Noureddine-et-al-2006.nc\n"
     ]
    },
    {
     "name": "stderr",
     "output_type": "stream",
     "text": [
      " 74%|███████▍  | 388/526 [25:05<05:37,  2.44s/it]"
     ]
    },
    {
     "name": "stdout",
     "output_type": "stream",
     "text": [
      "160-Pham-et-al-2010.nc\n"
     ]
    },
    {
     "name": "stderr",
     "output_type": "stream",
     "text": [
      " 74%|███████▍  | 389/526 [25:07<05:26,  2.38s/it]"
     ]
    },
    {
     "name": "stdout",
     "output_type": "stream",
     "text": [
      "165-Chamizo-et-al-2016.nc\n"
     ]
    },
    {
     "name": "stderr",
     "output_type": "stream",
     "text": [
      " 74%|███████▍  | 390/526 [25:09<05:16,  2.33s/it]"
     ]
    },
    {
     "name": "stdout",
     "output_type": "stream",
     "text": [
      "166-Bressac-et-al-2017.nc\n"
     ]
    },
    {
     "name": "stderr",
     "output_type": "stream",
     "text": [
      " 74%|███████▍  | 391/526 [25:12<05:14,  2.33s/it]"
     ]
    },
    {
     "name": "stdout",
     "output_type": "stream",
     "text": [
      "370-Hassen-et-al-2019.nc\n"
     ]
    },
    {
     "name": "stderr",
     "output_type": "stream",
     "text": [
      " 75%|███████▍  | 392/526 [25:15<06:09,  2.76s/it]"
     ]
    },
    {
     "name": "stdout",
     "output_type": "stream",
     "text": [
      "417-Holm-et-al-1994.nc\n"
     ]
    },
    {
     "name": "stderr",
     "output_type": "stream",
     "text": [
      " 75%|███████▍  | 393/526 [25:18<06:22,  2.87s/it]"
     ]
    },
    {
     "name": "stdout",
     "output_type": "stream",
     "text": [
      "545-Guendouzi-2020.nc\n"
     ]
    },
    {
     "name": "stderr",
     "output_type": "stream",
     "text": [
      " 75%|███████▍  | 394/526 [25:20<05:47,  2.63s/it]"
     ]
    },
    {
     "name": "stdout",
     "output_type": "stream",
     "text": [
      "414-Harmelin-Vivien-2012.nc\n"
     ]
    },
    {
     "name": "stderr",
     "output_type": "stream",
     "text": [
      " 75%|███████▌  | 395/526 [25:22<05:14,  2.40s/it]"
     ]
    },
    {
     "name": "stdout",
     "output_type": "stream",
     "text": [
      "359-El-Gamal-2014.nc\n"
     ]
    },
    {
     "name": "stderr",
     "output_type": "stream",
     "text": [
      " 75%|███████▌  | 396/526 [25:24<04:55,  2.27s/it]"
     ]
    },
    {
     "name": "stdout",
     "output_type": "stream",
     "text": [
      "266-Al-Masri-et-al-2000.nc\n"
     ]
    },
    {
     "name": "stderr",
     "output_type": "stream",
     "text": [
      " 75%|███████▌  | 397/526 [25:26<04:43,  2.20s/it]"
     ]
    },
    {
     "name": "stdout",
     "output_type": "stream",
     "text": [
      "267-Aoun-et-al-2015.nc\n"
     ]
    },
    {
     "name": "stderr",
     "output_type": "stream",
     "text": [
      " 76%|███████▌  | 398/526 [25:30<05:36,  2.63s/it]"
     ]
    },
    {
     "name": "stdout",
     "output_type": "stream",
     "text": [
      "278-El-Samad-et-al-2017.nc\n"
     ]
    },
    {
     "name": "stderr",
     "output_type": "stream",
     "text": [
      " 76%|███████▌  | 399/526 [25:33<05:30,  2.60s/it]"
     ]
    },
    {
     "name": "stdout",
     "output_type": "stream",
     "text": [
      "335-El-Saharty-2013.nc\n"
     ]
    },
    {
     "name": "stderr",
     "output_type": "stream",
     "text": [
      " 76%|███████▌  | 400/526 [25:35<05:12,  2.48s/it]"
     ]
    },
    {
     "name": "stdout",
     "output_type": "stream",
     "text": [
      "336-Atta-and-Zakaria-2014.nc\n"
     ]
    },
    {
     "name": "stderr",
     "output_type": "stream",
     "text": [
      " 76%|███████▌  | 401/526 [25:37<05:02,  2.42s/it]"
     ]
    },
    {
     "name": "stdout",
     "output_type": "stream",
     "text": [
      "468-Samad-2014.nc\n"
     ]
    },
    {
     "name": "stderr",
     "output_type": "stream",
     "text": [
      " 76%|███████▋  | 402/526 [25:39<04:46,  2.31s/it]"
     ]
    },
    {
     "name": "stdout",
     "output_type": "stream",
     "text": [
      "343-Ademola-and-Ehiedu-2010.nc\n"
     ]
    },
    {
     "name": "stderr",
     "output_type": "stream",
     "text": [
      " 77%|███████▋  | 403/526 [25:41<04:40,  2.28s/it]"
     ]
    },
    {
     "name": "stdout",
     "output_type": "stream",
     "text": [
      "353-Amekudzie-et-al-2011.nc\n"
     ]
    },
    {
     "name": "stderr",
     "output_type": "stream",
     "text": [
      " 77%|███████▋  | 404/526 [25:43<04:31,  2.22s/it]"
     ]
    },
    {
     "name": "stdout",
     "output_type": "stream",
     "text": [
      "367-Klubi-et-al-2017.nc\n"
     ]
    },
    {
     "name": "stderr",
     "output_type": "stream",
     "text": [
      " 77%|███████▋  | 405/526 [25:46<04:29,  2.23s/it]"
     ]
    },
    {
     "name": "stdout",
     "output_type": "stream",
     "text": [
      "368-Botwe-et-al-2017.nc\n"
     ]
    },
    {
     "name": "stderr",
     "output_type": "stream",
     "text": [
      " 77%|███████▋  | 406/526 [25:49<05:02,  2.52s/it]"
     ]
    },
    {
     "name": "stdout",
     "output_type": "stream",
     "text": [
      "361-Isola-and-Ajadi-2015.nc\n"
     ]
    },
    {
     "name": "stderr",
     "output_type": "stream",
     "text": [
      " 77%|███████▋  | 407/526 [25:51<04:39,  2.35s/it]"
     ]
    },
    {
     "name": "stdout",
     "output_type": "stream",
     "text": [
      "369-Botwe-et-al-2017.nc\n"
     ]
    },
    {
     "name": "stderr",
     "output_type": "stream",
     "text": [
      " 78%|███████▊  | 408/526 [25:53<04:32,  2.31s/it]"
     ]
    },
    {
     "name": "stdout",
     "output_type": "stream",
     "text": [
      "340-Babatunde-et-al-2015.nc\n"
     ]
    },
    {
     "name": "stderr",
     "output_type": "stream",
     "text": [
      " 78%|███████▊  | 409/526 [25:55<04:20,  2.23s/it]"
     ]
    },
    {
     "name": "stdout",
     "output_type": "stream",
     "text": [
      "228-Botwe-et-al-2017.nc\n"
     ]
    },
    {
     "name": "stderr",
     "output_type": "stream",
     "text": [
      " 78%|███████▊  | 410/526 [25:57<04:10,  2.16s/it]"
     ]
    },
    {
     "name": "stdout",
     "output_type": "stream",
     "text": [
      "360-Iwetan-et-al-2015.nc\n"
     ]
    },
    {
     "name": "stderr",
     "output_type": "stream",
     "text": [
      " 78%|███████▊  | 411/526 [25:59<04:09,  2.17s/it]"
     ]
    },
    {
     "name": "stdout",
     "output_type": "stream",
     "text": [
      "313-Alonso-Hernandez-et-al-2002.nc\n"
     ]
    },
    {
     "name": "stderr",
     "output_type": "stream",
     "text": [
      " 78%|███████▊  | 412/526 [26:01<04:03,  2.14s/it]"
     ]
    },
    {
     "name": "stdout",
     "output_type": "stream",
     "text": [
      "187-Carnero-Bravo-et-al-2018.nc\n"
     ]
    },
    {
     "name": "stderr",
     "output_type": "stream",
     "text": [
      " 79%|███████▊  | 413/526 [26:03<03:52,  2.05s/it]"
     ]
    },
    {
     "name": "stdout",
     "output_type": "stream",
     "text": [
      "185-Alonso-Hernández-et-al-2017.nc\n"
     ]
    },
    {
     "name": "stderr",
     "output_type": "stream",
     "text": [
      " 79%|███████▊  | 414/526 [26:05<03:46,  2.02s/it]"
     ]
    },
    {
     "name": "stdout",
     "output_type": "stream",
     "text": [
      "184-Díaz-Asencio-et-al-2016.nc\n"
     ]
    },
    {
     "name": "stderr",
     "output_type": "stream",
     "text": [
      " 79%|███████▉  | 415/526 [26:07<03:44,  2.03s/it]"
     ]
    },
    {
     "name": "stdout",
     "output_type": "stream",
     "text": [
      "306-Meinhold-and-Holtzman-1998.nc\n"
     ]
    },
    {
     "name": "stderr",
     "output_type": "stream",
     "text": [
      " 79%|███████▉  | 416/526 [26:10<04:00,  2.19s/it]"
     ]
    },
    {
     "name": "stdout",
     "output_type": "stream",
     "text": [
      "435-Meinhold-et-al-1996.nc\n"
     ]
    },
    {
     "name": "stderr",
     "output_type": "stream",
     "text": [
      " 79%|███████▉  | 417/526 [26:12<03:54,  2.15s/it]"
     ]
    },
    {
     "name": "stdout",
     "output_type": "stream",
     "text": [
      "439-Continental-Shelf-Associates-Inc-1999.nc\n"
     ]
    },
    {
     "name": "stderr",
     "output_type": "stream",
     "text": [
      " 79%|███████▉  | 418/526 [26:14<04:09,  2.31s/it]"
     ]
    },
    {
     "name": "stdout",
     "output_type": "stream",
     "text": [
      "8-Smith-and-Walton-1980.nc\n"
     ]
    },
    {
     "name": "stderr",
     "output_type": "stream",
     "text": [
      " 80%|███████▉  | 419/526 [26:17<04:14,  2.38s/it]"
     ]
    },
    {
     "name": "stdout",
     "output_type": "stream",
     "text": [
      "152-Zhou-et-al-2018.nc\n"
     ]
    },
    {
     "name": "stderr",
     "output_type": "stream",
     "text": [
      " 80%|███████▉  | 420/526 [26:20<04:34,  2.59s/it]"
     ]
    },
    {
     "name": "stdout",
     "output_type": "stream",
     "text": [
      "249-Tuo-et-al-2016.nc\n"
     ]
    },
    {
     "name": "stderr",
     "output_type": "stream",
     "text": [
      " 80%|████████  | 421/526 [26:23<04:46,  2.73s/it]"
     ]
    },
    {
     "name": "stdout",
     "output_type": "stream",
     "text": [
      "261-Kim-et-al-2017.nc\n"
     ]
    },
    {
     "name": "stderr",
     "output_type": "stream",
     "text": [
      " 80%|████████  | 422/526 [26:25<04:17,  2.48s/it]"
     ]
    },
    {
     "name": "stdout",
     "output_type": "stream",
     "text": [
      "519-Kong-et-al-2021.nc\n"
     ]
    },
    {
     "name": "stderr",
     "output_type": "stream",
     "text": [
      " 80%|████████  | 423/526 [26:27<03:57,  2.31s/it]"
     ]
    },
    {
     "name": "stdout",
     "output_type": "stream",
     "text": [
      "154-Dong-et-al-2018.nc\n"
     ]
    },
    {
     "name": "stderr",
     "output_type": "stream",
     "text": [
      " 81%|████████  | 424/526 [26:29<03:50,  2.26s/it]"
     ]
    },
    {
     "name": "stdout",
     "output_type": "stream",
     "text": [
      "244-Choi-et-al-2008.nc\n"
     ]
    },
    {
     "name": "stderr",
     "output_type": "stream",
     "text": [
      " 81%|████████  | 425/526 [26:31<03:38,  2.17s/it]"
     ]
    },
    {
     "name": "stdout",
     "output_type": "stream",
     "text": [
      "257-Lee-et-al-2009.nc\n"
     ]
    },
    {
     "name": "stderr",
     "output_type": "stream",
     "text": [
      " 81%|████████  | 426/526 [26:33<03:29,  2.10s/it]"
     ]
    },
    {
     "name": "stdout",
     "output_type": "stream",
     "text": [
      "287-Yang-et-al-2015.nc\n"
     ]
    },
    {
     "name": "stderr",
     "output_type": "stream",
     "text": [
      " 81%|████████  | 427/526 [26:35<03:22,  2.05s/it]"
     ]
    },
    {
     "name": "stdout",
     "output_type": "stream",
     "text": [
      "421-Cho-et-al-2016.nc\n"
     ]
    },
    {
     "name": "stderr",
     "output_type": "stream",
     "text": [
      " 81%|████████▏ | 428/526 [26:37<03:18,  2.02s/it]"
     ]
    },
    {
     "name": "stdout",
     "output_type": "stream",
     "text": [
      "475-Inoue-et-al-2005.nc\n"
     ]
    },
    {
     "name": "stderr",
     "output_type": "stream",
     "text": [
      " 82%|████████▏ | 429/526 [26:39<03:20,  2.07s/it]"
     ]
    },
    {
     "name": "stdout",
     "output_type": "stream",
     "text": [
      "527-Inoue-2019.nc\n"
     ]
    },
    {
     "name": "stderr",
     "output_type": "stream",
     "text": [
      " 82%|████████▏ | 430/526 [26:41<03:15,  2.03s/it]"
     ]
    },
    {
     "name": "stdout",
     "output_type": "stream",
     "text": [
      "136-Otosaka-et-al-2010.nc\n"
     ]
    },
    {
     "name": "stderr",
     "output_type": "stream",
     "text": [
      " 82%|████████▏ | 431/526 [26:46<04:29,  2.84s/it]"
     ]
    },
    {
     "name": "stdout",
     "output_type": "stream",
     "text": [
      "515-Kim-2020.nc\n"
     ]
    },
    {
     "name": "stderr",
     "output_type": "stream",
     "text": [
      " 82%|████████▏ | 432/526 [26:48<04:00,  2.56s/it]"
     ]
    },
    {
     "name": "stdout",
     "output_type": "stream",
     "text": [
      "101-Ito-et-al-2007.nc\n"
     ]
    },
    {
     "name": "stderr",
     "output_type": "stream",
     "text": [
      " 82%|████████▏ | 433/526 [26:51<04:26,  2.87s/it]"
     ]
    },
    {
     "name": "stdout",
     "output_type": "stream",
     "text": [
      "52-Amano-et-al-1996.nc\n"
     ]
    },
    {
     "name": "stderr",
     "output_type": "stream",
     "text": [
      " 83%|████████▎ | 434/526 [26:56<05:16,  3.44s/it]"
     ]
    },
    {
     "name": "stdout",
     "output_type": "stream",
     "text": [
      "507-Momoshima-et-al-2012.nc\n"
     ]
    },
    {
     "name": "stderr",
     "output_type": "stream",
     "text": [
      " 83%|████████▎ | 435/526 [26:58<04:46,  3.15s/it]"
     ]
    },
    {
     "name": "stdout",
     "output_type": "stream",
     "text": [
      "426-Waska-et-al-2008.nc\n"
     ]
    },
    {
     "name": "stderr",
     "output_type": "stream",
     "text": [
      " 83%|████████▎ | 436/526 [27:03<05:10,  3.45s/it]"
     ]
    },
    {
     "name": "stdout",
     "output_type": "stream",
     "text": [
      "273-Hong-et-al-2011.nc\n"
     ]
    },
    {
     "name": "stderr",
     "output_type": "stream",
     "text": [
      " 83%|████████▎ | 437/526 [27:05<04:41,  3.16s/it]"
     ]
    },
    {
     "name": "stdout",
     "output_type": "stream",
     "text": [
      "406-Burger-et-al-2007.nc\n"
     ]
    },
    {
     "name": "stderr",
     "output_type": "stream",
     "text": [
      " 83%|████████▎ | 438/526 [27:07<04:06,  2.80s/it]"
     ]
    },
    {
     "name": "stdout",
     "output_type": "stream",
     "text": [
      "425-USDOE-Office-of-Legacy-Management-2013.nc\n"
     ]
    },
    {
     "name": "stderr",
     "output_type": "stream",
     "text": [
      " 83%|████████▎ | 439/526 [27:10<03:59,  2.75s/it]"
     ]
    },
    {
     "name": "stdout",
     "output_type": "stream",
     "text": [
      "416-Hamilton-et-al-2008.nc\n"
     ]
    },
    {
     "name": "stderr",
     "output_type": "stream",
     "text": [
      " 84%|████████▎ | 440/526 [27:12<03:40,  2.56s/it]"
     ]
    },
    {
     "name": "stdout",
     "output_type": "stream",
     "text": [
      "418-Bu-et-al-2013.nc\n"
     ]
    },
    {
     "name": "stderr",
     "output_type": "stream",
     "text": [
      " 84%|████████▍ | 441/526 [27:14<03:27,  2.44s/it]"
     ]
    },
    {
     "name": "stdout",
     "output_type": "stream",
     "text": [
      "407-Burger-et-al-2007.nc\n"
     ]
    },
    {
     "name": "stderr",
     "output_type": "stream",
     "text": [
      " 84%|████████▍ | 442/526 [27:16<03:20,  2.39s/it]"
     ]
    },
    {
     "name": "stdout",
     "output_type": "stream",
     "text": [
      "447-Burger-et-al-2006.nc\n"
     ]
    },
    {
     "name": "stderr",
     "output_type": "stream",
     "text": [
      " 84%|████████▍ | 443/526 [27:18<03:13,  2.33s/it]"
     ]
    },
    {
     "name": "stdout",
     "output_type": "stream",
     "text": [
      "379-Chen-et-al-2015.nc\n"
     ]
    },
    {
     "name": "stderr",
     "output_type": "stream",
     "text": [
      " 84%|████████▍ | 444/526 [27:20<03:01,  2.21s/it]"
     ]
    },
    {
     "name": "stdout",
     "output_type": "stream",
     "text": [
      "377-Chen-et-al-2019.nc\n"
     ]
    },
    {
     "name": "stderr",
     "output_type": "stream",
     "text": [
      " 85%|████████▍ | 445/526 [27:22<02:51,  2.12s/it]"
     ]
    },
    {
     "name": "stdout",
     "output_type": "stream",
     "text": [
      "471-Chester-et-al-2013.nc\n"
     ]
    },
    {
     "name": "stderr",
     "output_type": "stream",
     "text": [
      " 85%|████████▍ | 446/526 [27:24<02:43,  2.05s/it]"
     ]
    },
    {
     "name": "stdout",
     "output_type": "stream",
     "text": [
      "501-Yii-and-Mahmood-2011.nc\n"
     ]
    },
    {
     "name": "stderr",
     "output_type": "stream",
     "text": [
      " 85%|████████▍ | 447/526 [27:27<02:53,  2.19s/it]"
     ]
    },
    {
     "name": "stdout",
     "output_type": "stream",
     "text": [
      "506-Mahmood-2018.nc\n"
     ]
    },
    {
     "name": "stderr",
     "output_type": "stream",
     "text": [
      " 85%|████████▌ | 448/526 [27:29<02:53,  2.23s/it]"
     ]
    },
    {
     "name": "stdout",
     "output_type": "stream",
     "text": [
      "557-Van-2020.nc\n"
     ]
    },
    {
     "name": "stderr",
     "output_type": "stream",
     "text": [
      " 85%|████████▌ | 449/526 [27:31<02:49,  2.20s/it]"
     ]
    },
    {
     "name": "stdout",
     "output_type": "stream",
     "text": [
      "424-Wan-Mahmood-and-Yii-2012.nc\n"
     ]
    },
    {
     "name": "stderr",
     "output_type": "stream",
     "text": [
      " 86%|████████▌ | 450/526 [27:34<02:57,  2.34s/it]"
     ]
    },
    {
     "name": "stdout",
     "output_type": "stream",
     "text": [
      "437-Abd-Rahim-Mohamed-and-Feong-Kuan-2005.nc\n"
     ]
    },
    {
     "name": "stderr",
     "output_type": "stream",
     "text": [
      " 86%|████████▌ | 451/526 [27:36<02:50,  2.28s/it]"
     ]
    },
    {
     "name": "stdout",
     "output_type": "stream",
     "text": [
      "285-Lee-and-Wang-2013.nc\n"
     ]
    },
    {
     "name": "stderr",
     "output_type": "stream",
     "text": [
      " 86%|████████▌ | 452/526 [27:40<03:28,  2.82s/it]"
     ]
    },
    {
     "name": "stdout",
     "output_type": "stream",
     "text": [
      "107-Yamada-et-al-2006.nc\n"
     ]
    },
    {
     "name": "stderr",
     "output_type": "stream",
     "text": [
      " 86%|████████▌ | 453/526 [27:42<03:10,  2.61s/it]"
     ]
    },
    {
     "name": "stdout",
     "output_type": "stream",
     "text": [
      "434-Kulsawat-and-Porntepkasemsan-2016.nc\n"
     ]
    },
    {
     "name": "stderr",
     "output_type": "stream",
     "text": [
      " 86%|████████▋ | 454/526 [27:44<02:52,  2.39s/it]"
     ]
    },
    {
     "name": "stdout",
     "output_type": "stream",
     "text": [
      "423-Lim-and-Mohamed-2019.nc\n"
     ]
    },
    {
     "name": "stderr",
     "output_type": "stream",
     "text": [
      " 87%|████████▋ | 455/526 [27:46<02:39,  2.24s/it]"
     ]
    },
    {
     "name": "stdout",
     "output_type": "stream",
     "text": [
      "309-Syarbaini-et-al-2014.nc\n"
     ]
    },
    {
     "name": "stderr",
     "output_type": "stream",
     "text": [
      " 87%|████████▋ | 456/526 [27:48<02:33,  2.20s/it]"
     ]
    },
    {
     "name": "stdout",
     "output_type": "stream",
     "text": [
      "179-Villa-Alfageme-et-al-2018.nc\n"
     ]
    },
    {
     "name": "stderr",
     "output_type": "stream",
     "text": [
      " 87%|████████▋ | 457/526 [27:50<02:27,  2.14s/it]"
     ]
    },
    {
     "name": "stdout",
     "output_type": "stream",
     "text": [
      "533-Pham-et-al-2010.nc\n"
     ]
    },
    {
     "name": "stderr",
     "output_type": "stream",
     "text": [
      " 87%|████████▋ | 458/526 [27:52<02:23,  2.10s/it]"
     ]
    },
    {
     "name": "stdout",
     "output_type": "stream",
     "text": [
      "350-Zourarah-et-al-2007.nc\n"
     ]
    },
    {
     "name": "stderr",
     "output_type": "stream",
     "text": [
      " 87%|████████▋ | 459/526 [27:56<03:08,  2.81s/it]"
     ]
    },
    {
     "name": "stdout",
     "output_type": "stream",
     "text": [
      "354-Nyarko-et-al-2011.nc\n"
     ]
    },
    {
     "name": "stderr",
     "output_type": "stream",
     "text": [
      " 87%|████████▋ | 460/526 [27:58<02:46,  2.53s/it]"
     ]
    },
    {
     "name": "stdout",
     "output_type": "stream",
     "text": [
      "270-Garcia-Orellana-et-al-2016.nc\n"
     ]
    },
    {
     "name": "stderr",
     "output_type": "stream",
     "text": [
      " 88%|████████▊ | 461/526 [28:02<03:09,  2.92s/it]"
     ]
    },
    {
     "name": "stdout",
     "output_type": "stream",
     "text": [
      "294-Bode-et-al-2015.nc\n"
     ]
    },
    {
     "name": "stderr",
     "output_type": "stream",
     "text": [
      "                                                 "
     ]
    },
    {
     "name": "stdout",
     "output_type": "stream",
     "text": [
      "697-Long-et-al-1998.nc\n"
     ]
    },
    {
     "name": "stderr",
     "output_type": "stream",
     "text": [
      "\r"
     ]
    },
    {
     "ename": "TypeError",
     "evalue": "ufunc 'points' not supported for the input types, and the inputs could not be safely coerced to any supported types according to the casting rule ''safe''",
     "output_type": "error",
     "traceback": [
      "\u001b[0;31m---------------------------------------------------------------------------\u001b[0m",
      "\u001b[0;31mTypeError\u001b[0m                                 Traceback (most recent call last)",
      "Cell \u001b[0;32mIn [453], line 1\u001b[0m\n\u001b[0;32m----> 1\u001b[0m \u001b[43mencode\u001b[49m\u001b[43m(\u001b[49m\u001b[43mfname_in\u001b[49m\u001b[43m,\u001b[49m\u001b[43m \u001b[49m\u001b[43mdir_dest\u001b[49m\u001b[43m,\u001b[49m\u001b[43m \u001b[49m\u001b[43mnc_tpl_path\u001b[49m\u001b[43m(\u001b[49m\u001b[43m)\u001b[49m\u001b[43m,\u001b[49m\u001b[43m \u001b[49m\u001b[43mverbose\u001b[49m\u001b[38;5;241;43m=\u001b[39;49m\u001b[38;5;28;43;01mFalse\u001b[39;49;00m\u001b[43m)\u001b[49m\n",
      "Cell \u001b[0;32mIn [366], line 24\u001b[0m, in \u001b[0;36mencode\u001b[0;34m(fname_in, fname_out, nc_tpl_path, **kwargs)\u001b[0m\n\u001b[1;32m      9\u001b[0m tfm \u001b[38;5;241m=\u001b[39m Transformer(dfs, cbs\u001b[38;5;241m=\u001b[39m[\n\u001b[1;32m     10\u001b[0m     RemapRdnNameCB(),\n\u001b[1;32m     11\u001b[0m     RenameColumnCB(),\n\u001b[0;32m   (...)\u001b[0m\n\u001b[1;32m     17\u001b[0m     SanitizeLonLatCB(verbose\u001b[38;5;241m=\u001b[39m\u001b[38;5;28;01mTrue\u001b[39;00m)\n\u001b[1;32m     18\u001b[0m     ])\n\u001b[1;32m     20\u001b[0m tfm()\n\u001b[1;32m     21\u001b[0m encoder \u001b[38;5;241m=\u001b[39m NetCDFEncoder(tfm\u001b[38;5;241m.\u001b[39mdfs, \n\u001b[1;32m     22\u001b[0m                         src_fname\u001b[38;5;241m=\u001b[39mnc_tpl_path,\n\u001b[1;32m     23\u001b[0m                         dest_fname\u001b[38;5;241m=\u001b[39mPath(fname_out) \u001b[38;5;241m/\u001b[39m get_fname(dfs), \n\u001b[0;32m---> 24\u001b[0m                         global_attrs\u001b[38;5;241m=\u001b[39m\u001b[43mget_attrs\u001b[49m\u001b[43m(\u001b[49m\u001b[43mtfm\u001b[49m\u001b[43m,\u001b[49m\u001b[43m \u001b[49m\u001b[43mzotero_key\u001b[49m\u001b[38;5;241;43m=\u001b[39;49m\u001b[43mget_zotero_key\u001b[49m\u001b[43m(\u001b[49m\u001b[43mdfs\u001b[49m\u001b[43m)\u001b[49m\u001b[43m,\u001b[49m\u001b[43m \u001b[49m\u001b[43mkw\u001b[49m\u001b[38;5;241;43m=\u001b[39;49m\u001b[43mkw\u001b[49m\u001b[43m)\u001b[49m,\n\u001b[1;32m     25\u001b[0m                         verbose\u001b[38;5;241m=\u001b[39mkwargs\u001b[38;5;241m.\u001b[39mget(\u001b[38;5;124m'\u001b[39m\u001b[38;5;124mverbose\u001b[39m\u001b[38;5;124m'\u001b[39m, \u001b[38;5;28;01mFalse\u001b[39;00m),\n\u001b[1;32m     26\u001b[0m                         enums_xtra\u001b[38;5;241m=\u001b[39menums_xtra(tfm, \u001b[38;5;28mvars\u001b[39m\u001b[38;5;241m=\u001b[39m[\u001b[38;5;124m'\u001b[39m\u001b[38;5;124mspecies\u001b[39m\u001b[38;5;124m'\u001b[39m, \u001b[38;5;124m'\u001b[39m\u001b[38;5;124mbody_part\u001b[39m\u001b[38;5;124m'\u001b[39m])\n\u001b[1;32m     27\u001b[0m                         )\n\u001b[1;32m     28\u001b[0m encoder\u001b[38;5;241m.\u001b[39mencode()\n",
      "Cell \u001b[0;32mIn [301], line 3\u001b[0m, in \u001b[0;36mget_attrs\u001b[0;34m(tfm, zotero_key, kw)\u001b[0m\n\u001b[1;32m      2\u001b[0m \u001b[38;5;28;01mdef\u001b[39;00m \u001b[38;5;21mget_attrs\u001b[39m(tfm, zotero_key\u001b[38;5;241m=\u001b[39m\u001b[38;5;124m'\u001b[39m\u001b[38;5;124m26VMZZ2Q\u001b[39m\u001b[38;5;124m'\u001b[39m, kw\u001b[38;5;241m=\u001b[39mkw):\n\u001b[0;32m----> 3\u001b[0m     \u001b[38;5;28;01mreturn\u001b[39;00m \u001b[43mGlobAttrsFeeder\u001b[49m\u001b[43m(\u001b[49m\u001b[43mtfm\u001b[49m\u001b[38;5;241;43m.\u001b[39;49m\u001b[43mdfs\u001b[49m\u001b[43m,\u001b[49m\u001b[43m \u001b[49m\u001b[43mcbs\u001b[49m\u001b[38;5;241;43m=\u001b[39;49m\u001b[43m[\u001b[49m\n\u001b[1;32m      4\u001b[0m \u001b[43m        \u001b[49m\u001b[43mBboxCB\u001b[49m\u001b[43m(\u001b[49m\u001b[43m)\u001b[49m\u001b[43m,\u001b[49m\n\u001b[1;32m      5\u001b[0m \u001b[43m        \u001b[49m\u001b[43mDepthRangeCB\u001b[49m\u001b[43m(\u001b[49m\u001b[43m)\u001b[49m\u001b[43m,\u001b[49m\n\u001b[1;32m      6\u001b[0m \u001b[43m        \u001b[49m\u001b[43mTimeRangeCB\u001b[49m\u001b[43m(\u001b[49m\u001b[43mcfg\u001b[49m\u001b[43m(\u001b[49m\u001b[43m)\u001b[49m\u001b[43m)\u001b[49m\u001b[43m,\u001b[49m\n\u001b[1;32m      7\u001b[0m \u001b[43m        \u001b[49m\u001b[43mZoteroCB\u001b[49m\u001b[43m(\u001b[49m\u001b[43mzotero_key\u001b[49m\u001b[43m,\u001b[49m\u001b[43m \u001b[49m\u001b[43mcfg\u001b[49m\u001b[38;5;241;43m=\u001b[39;49m\u001b[43mcfg\u001b[49m\u001b[43m(\u001b[49m\u001b[43m)\u001b[49m\u001b[43m)\u001b[49m\u001b[43m,\u001b[49m\n\u001b[1;32m      8\u001b[0m \u001b[43m        \u001b[49m\u001b[43mKeyValuePairCB\u001b[49m\u001b[43m(\u001b[49m\u001b[38;5;124;43m'\u001b[39;49m\u001b[38;5;124;43mkeywords\u001b[39;49m\u001b[38;5;124;43m'\u001b[39;49m\u001b[43m,\u001b[49m\u001b[43m \u001b[49m\u001b[38;5;124;43m'\u001b[39;49m\u001b[38;5;124;43m, \u001b[39;49m\u001b[38;5;124;43m'\u001b[39;49m\u001b[38;5;241;43m.\u001b[39;49m\u001b[43mjoin\u001b[49m\u001b[43m(\u001b[49m\u001b[43mkw\u001b[49m\u001b[43m)\u001b[49m\u001b[43m)\u001b[49m\u001b[43m,\u001b[49m\n\u001b[1;32m      9\u001b[0m \u001b[43m        \u001b[49m\u001b[43mKeyValuePairCB\u001b[49m\u001b[43m(\u001b[49m\u001b[38;5;124;43m'\u001b[39;49m\u001b[38;5;124;43mpublisher_postprocess_logs\u001b[39;49m\u001b[38;5;124;43m'\u001b[39;49m\u001b[43m,\u001b[49m\u001b[43m \u001b[49m\u001b[38;5;124;43m'\u001b[39;49m\u001b[38;5;124;43m, \u001b[39;49m\u001b[38;5;124;43m'\u001b[39;49m\u001b[38;5;241;43m.\u001b[39;49m\u001b[43mjoin\u001b[49m\u001b[43m(\u001b[49m\u001b[43mtfm\u001b[49m\u001b[38;5;241;43m.\u001b[39;49m\u001b[43mlogs\u001b[49m\u001b[43m)\u001b[49m\u001b[43m)\u001b[49m\n\u001b[1;32m     10\u001b[0m \u001b[43m        \u001b[49m\u001b[43m]\u001b[49m\u001b[43m)\u001b[49m\u001b[43m(\u001b[49m\u001b[43m)\u001b[49m\n",
      "File \u001b[0;32m~/pro/IAEA/MARIS/marisco/marisco/metadata.py:31\u001b[0m, in \u001b[0;36mGlobAttrsFeeder.__call__\u001b[0;34m(self)\u001b[0m\n\u001b[1;32m     30\u001b[0m \u001b[38;5;28;01mdef\u001b[39;00m \u001b[38;5;21m__call__\u001b[39m(\u001b[38;5;28mself\u001b[39m):\n\u001b[0;32m---> 31\u001b[0m     \u001b[38;5;28;43mself\u001b[39;49m\u001b[38;5;241;43m.\u001b[39;49m\u001b[43mcallback\u001b[49m\u001b[43m(\u001b[49m\u001b[43m)\u001b[49m\n\u001b[1;32m     32\u001b[0m     \u001b[38;5;28;01mreturn\u001b[39;00m \u001b[38;5;28mself\u001b[39m\u001b[38;5;241m.\u001b[39mattrs\n",
      "File \u001b[0;32m~/pro/IAEA/MARIS/marisco/marisco/metadata.py:28\u001b[0m, in \u001b[0;36mGlobAttrsFeeder.callback\u001b[0;34m(self)\u001b[0m\n\u001b[1;32m     27\u001b[0m \u001b[38;5;28;01mdef\u001b[39;00m \u001b[38;5;21mcallback\u001b[39m(\u001b[38;5;28mself\u001b[39m):\n\u001b[0;32m---> 28\u001b[0m     \u001b[43mrun_cbs\u001b[49m\u001b[43m(\u001b[49m\u001b[38;5;28;43mself\u001b[39;49m\u001b[38;5;241;43m.\u001b[39;49m\u001b[43mcbs\u001b[49m\u001b[43m,\u001b[49m\u001b[43m \u001b[49m\u001b[38;5;28;43mself\u001b[39;49m\u001b[43m)\u001b[49m\n",
      "File \u001b[0;32m~/pro/IAEA/MARIS/marisco/marisco/utils.py:30\u001b[0m, in \u001b[0;36mrun_cbs\u001b[0;34m(cbs, obj)\u001b[0m\n\u001b[1;32m     28\u001b[0m \u001b[38;5;28;01mfor\u001b[39;00m cb \u001b[38;5;129;01min\u001b[39;00m \u001b[38;5;28msorted\u001b[39m(cbs, key\u001b[38;5;241m=\u001b[39mattrgetter(\u001b[38;5;124m'\u001b[39m\u001b[38;5;124morder\u001b[39m\u001b[38;5;124m'\u001b[39m)):\n\u001b[1;32m     29\u001b[0m     \u001b[38;5;28;01mif\u001b[39;00m cb\u001b[38;5;241m.\u001b[39m\u001b[38;5;18m__doc__\u001b[39m: obj\u001b[38;5;241m.\u001b[39mlogs\u001b[38;5;241m.\u001b[39mappend(cb\u001b[38;5;241m.\u001b[39m\u001b[38;5;18m__doc__\u001b[39m)\n\u001b[0;32m---> 30\u001b[0m     \u001b[43mcb\u001b[49m\u001b[43m(\u001b[49m\u001b[43mobj\u001b[49m\u001b[43m)\u001b[49m\n",
      "File \u001b[0;32m~/pro/IAEA/MARIS/marisco/marisco/metadata.py:38\u001b[0m, in \u001b[0;36mBboxCB.__call__\u001b[0;34m(self, obj)\u001b[0m\n\u001b[1;32m     37\u001b[0m \u001b[38;5;28;01mdef\u001b[39;00m \u001b[38;5;21m__call__\u001b[39m(\u001b[38;5;28mself\u001b[39m, obj):\n\u001b[0;32m---> 38\u001b[0m     bbox \u001b[38;5;241m=\u001b[39m \u001b[43mget_bbox\u001b[49m\u001b[43m(\u001b[49m\u001b[43mpd\u001b[49m\u001b[38;5;241;43m.\u001b[39;49m\u001b[43mconcat\u001b[49m\u001b[43m(\u001b[49m\u001b[43mobj\u001b[49m\u001b[38;5;241;43m.\u001b[39;49m\u001b[43mdfs\u001b[49m\u001b[43m)\u001b[49m\u001b[43m)\u001b[49m \n\u001b[1;32m     39\u001b[0m     lon_min, lon_max, lat_min, lat_max \u001b[38;5;241m=\u001b[39m [\u001b[38;5;28mstr\u001b[39m(bound) \u001b[38;5;28;01mfor\u001b[39;00m bound \u001b[38;5;129;01min\u001b[39;00m bbox\u001b[38;5;241m.\u001b[39mbounds]\n\u001b[1;32m     40\u001b[0m     obj\u001b[38;5;241m.\u001b[39mattrs\u001b[38;5;241m.\u001b[39mupdate({\n\u001b[1;32m     41\u001b[0m         \u001b[38;5;124m'\u001b[39m\u001b[38;5;124mgeospatial_lat_min\u001b[39m\u001b[38;5;124m'\u001b[39m: lat_min, \n\u001b[1;32m     42\u001b[0m         \u001b[38;5;124m'\u001b[39m\u001b[38;5;124mgeospatial_lat_max\u001b[39m\u001b[38;5;124m'\u001b[39m: lat_max,\n\u001b[1;32m     43\u001b[0m         \u001b[38;5;124m'\u001b[39m\u001b[38;5;124mgeospatial_lon_min\u001b[39m\u001b[38;5;124m'\u001b[39m: lon_min,\n\u001b[1;32m     44\u001b[0m         \u001b[38;5;124m'\u001b[39m\u001b[38;5;124mgeospatial_lon_max\u001b[39m\u001b[38;5;124m'\u001b[39m: lon_max,\n\u001b[1;32m     45\u001b[0m         \u001b[38;5;124m'\u001b[39m\u001b[38;5;124mgeospatial_bounds\u001b[39m\u001b[38;5;124m'\u001b[39m: bbox\u001b[38;5;241m.\u001b[39mwkt})\n",
      "File \u001b[0;32m~/pro/IAEA/MARIS/marisco/marisco/utils.py:67\u001b[0m, in \u001b[0;36mget_bbox\u001b[0;34m(df, coord_cols)\u001b[0m\n\u001b[1;32m     65\u001b[0m x, y \u001b[38;5;241m=\u001b[39m coord_cols        \n\u001b[1;32m     66\u001b[0m arr \u001b[38;5;241m=\u001b[39m [(row[x], row[y]) \u001b[38;5;28;01mfor\u001b[39;00m _, row \u001b[38;5;129;01min\u001b[39;00m df\u001b[38;5;241m.\u001b[39miterrows()]\n\u001b[0;32m---> 67\u001b[0m \u001b[38;5;28;01mreturn\u001b[39;00m \u001b[43mMultiPoint\u001b[49m\u001b[43m(\u001b[49m\u001b[43marr\u001b[49m\u001b[43m)\u001b[49m\u001b[38;5;241m.\u001b[39menvelope\n",
      "File \u001b[0;32m~/mambaforge/envs/marisco/lib/python3.10/site-packages/shapely/geometry/multipoint.py:54\u001b[0m, in \u001b[0;36mMultiPoint.__new__\u001b[0;34m(self, points)\u001b[0m\n\u001b[1;32m     52\u001b[0m subs \u001b[38;5;241m=\u001b[39m []\n\u001b[1;32m     53\u001b[0m \u001b[38;5;28;01mfor\u001b[39;00m i \u001b[38;5;129;01min\u001b[39;00m \u001b[38;5;28mrange\u001b[39m(m):\n\u001b[0;32m---> 54\u001b[0m     p \u001b[38;5;241m=\u001b[39m \u001b[43mpoint\u001b[49m\u001b[38;5;241;43m.\u001b[39;49m\u001b[43mPoint\u001b[49m\u001b[43m(\u001b[49m\u001b[43mpoints\u001b[49m\u001b[43m[\u001b[49m\u001b[43mi\u001b[49m\u001b[43m]\u001b[49m\u001b[43m)\u001b[49m\n\u001b[1;32m     55\u001b[0m     \u001b[38;5;28;01mif\u001b[39;00m p\u001b[38;5;241m.\u001b[39mis_empty:\n\u001b[1;32m     56\u001b[0m         \u001b[38;5;28;01mraise\u001b[39;00m EmptyPartError(\u001b[38;5;124m\"\u001b[39m\u001b[38;5;124mCan\u001b[39m\u001b[38;5;124m'\u001b[39m\u001b[38;5;124mt create MultiPoint with empty component\u001b[39m\u001b[38;5;124m\"\u001b[39m)\n",
      "File \u001b[0;32m~/mambaforge/envs/marisco/lib/python3.10/site-packages/shapely/geometry/point.py:73\u001b[0m, in \u001b[0;36mPoint.__new__\u001b[0;34m(self, *args)\u001b[0m\n\u001b[1;32m     69\u001b[0m \u001b[38;5;28;01melse\u001b[39;00m:\n\u001b[1;32m     70\u001b[0m     \u001b[38;5;66;03m# 2 or 3 args\u001b[39;00m\n\u001b[1;32m     71\u001b[0m     coords \u001b[38;5;241m=\u001b[39m np\u001b[38;5;241m.\u001b[39marray(args)\u001b[38;5;241m.\u001b[39msqueeze()\n\u001b[0;32m---> 73\u001b[0m geom \u001b[38;5;241m=\u001b[39m \u001b[43mshapely\u001b[49m\u001b[38;5;241;43m.\u001b[39;49m\u001b[43mpoints\u001b[49m\u001b[43m(\u001b[49m\u001b[43mcoords\u001b[49m\u001b[43m)\u001b[49m\n\u001b[1;32m     74\u001b[0m \u001b[38;5;28;01mif\u001b[39;00m \u001b[38;5;129;01mnot\u001b[39;00m \u001b[38;5;28misinstance\u001b[39m(geom, Point):\n\u001b[1;32m     75\u001b[0m     \u001b[38;5;28;01mraise\u001b[39;00m \u001b[38;5;167;01mValueError\u001b[39;00m(\u001b[38;5;124m\"\u001b[39m\u001b[38;5;124mInvalid values passed to Point constructor\u001b[39m\u001b[38;5;124m\"\u001b[39m)\n",
      "File \u001b[0;32m~/mambaforge/envs/marisco/lib/python3.10/site-packages/shapely/decorators.py:77\u001b[0m, in \u001b[0;36mmultithreading_enabled.<locals>.wrapped\u001b[0;34m(*args, **kwargs)\u001b[0m\n\u001b[1;32m     75\u001b[0m     \u001b[38;5;28;01mfor\u001b[39;00m arr \u001b[38;5;129;01min\u001b[39;00m array_args:\n\u001b[1;32m     76\u001b[0m         arr\u001b[38;5;241m.\u001b[39mflags\u001b[38;5;241m.\u001b[39mwriteable \u001b[38;5;241m=\u001b[39m \u001b[38;5;28;01mFalse\u001b[39;00m\n\u001b[0;32m---> 77\u001b[0m     \u001b[38;5;28;01mreturn\u001b[39;00m \u001b[43mfunc\u001b[49m\u001b[43m(\u001b[49m\u001b[38;5;241;43m*\u001b[39;49m\u001b[43margs\u001b[49m\u001b[43m,\u001b[49m\u001b[43m \u001b[49m\u001b[38;5;241;43m*\u001b[39;49m\u001b[38;5;241;43m*\u001b[39;49m\u001b[43mkwargs\u001b[49m\u001b[43m)\u001b[49m\n\u001b[1;32m     78\u001b[0m \u001b[38;5;28;01mfinally\u001b[39;00m:\n\u001b[1;32m     79\u001b[0m     \u001b[38;5;28;01mfor\u001b[39;00m arr, old_flag \u001b[38;5;129;01min\u001b[39;00m \u001b[38;5;28mzip\u001b[39m(array_args, old_flags):\n",
      "File \u001b[0;32m~/mambaforge/envs/marisco/lib/python3.10/site-packages/shapely/creation.py:74\u001b[0m, in \u001b[0;36mpoints\u001b[0;34m(coords, y, z, indices, out, **kwargs)\u001b[0m\n\u001b[1;32m     72\u001b[0m coords \u001b[38;5;241m=\u001b[39m _xyz_to_coords(coords, y, z)\n\u001b[1;32m     73\u001b[0m \u001b[38;5;28;01mif\u001b[39;00m indices \u001b[38;5;129;01mis\u001b[39;00m \u001b[38;5;28;01mNone\u001b[39;00m:\n\u001b[0;32m---> 74\u001b[0m     \u001b[38;5;28;01mreturn\u001b[39;00m \u001b[43mlib\u001b[49m\u001b[38;5;241;43m.\u001b[39;49m\u001b[43mpoints\u001b[49m\u001b[43m(\u001b[49m\u001b[43mcoords\u001b[49m\u001b[43m,\u001b[49m\u001b[43m \u001b[49m\u001b[43mout\u001b[49m\u001b[38;5;241;43m=\u001b[39;49m\u001b[43mout\u001b[49m\u001b[43m,\u001b[49m\u001b[43m \u001b[49m\u001b[38;5;241;43m*\u001b[39;49m\u001b[38;5;241;43m*\u001b[39;49m\u001b[43mkwargs\u001b[49m\u001b[43m)\u001b[49m\n\u001b[1;32m     75\u001b[0m \u001b[38;5;28;01melse\u001b[39;00m:\n\u001b[1;32m     76\u001b[0m     \u001b[38;5;28;01mreturn\u001b[39;00m simple_geometries_1d(coords, indices, GeometryType\u001b[38;5;241m.\u001b[39mPOINT, out\u001b[38;5;241m=\u001b[39mout)\n",
      "\u001b[0;31mTypeError\u001b[0m: ufunc 'points' not supported for the input types, and the inputs could not be safely coerced to any supported types according to the casting rule ''safe''"
     ]
    }
   ],
   "source": [
    "encode(fname_in, dir_dest, nc_tpl_path(), verbose=False)"
   ]
  },
  {
   "cell_type": "code",
   "execution_count": null,
   "id": "c37f47cb",
   "metadata": {},
   "outputs": [],
   "source": []
  }
 ],
 "metadata": {
  "kernelspec": {
   "display_name": "python3",
   "language": "python",
   "name": "python3"
  }
 },
 "nbformat": 4,
 "nbformat_minor": 5
}

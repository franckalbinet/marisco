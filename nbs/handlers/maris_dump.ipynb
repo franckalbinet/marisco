{
 "cells": [
  {
   "cell_type": "code",
   "execution_count": null,
   "id": "bb60862d",
   "metadata": {},
   "outputs": [],
   "source": [
    "#| default_exp handlers.maris_dump"
   ]
  },
  {
   "attachments": {},
   "cell_type": "markdown",
   "id": "f263111a",
   "metadata": {},
   "source": [
    "# MARIS dump\n",
    "> Data pipeline (handler) to convert global MARIS db dump into `NetCDF` format. It allows to encode as NetCDF all legacy datasets in one batch.\n",
    "\n",
    "The input data is a dump from already imported MARIS datasets.\n",
    "\n",
    "**Dev. board**: https://trello.com/b/IszgV1bj/marisco"
   ]
  },
  {
   "cell_type": "markdown",
   "id": "b0a15f43-5d42-4a31-8e8a-0f988b82f08e",
   "metadata": {},
   "source": [
    "Questions:\n",
    "\n",
    "* filtering status? "
   ]
  },
  {
   "attachments": {},
   "cell_type": "markdown",
   "id": "b92a5c33",
   "metadata": {},
   "source": [
    "## Packages import"
   ]
  },
  {
   "cell_type": "code",
   "execution_count": null,
   "id": "0db45fee",
   "metadata": {},
   "outputs": [
    {
     "name": "stdout",
     "output_type": "stream",
     "text": [
      "The autoreload extension is already loaded. To reload it, use:\n",
      "  %reload_ext autoreload\n"
     ]
    }
   ],
   "source": [
    "%load_ext autoreload\n",
    "%autoreload 2"
   ]
  },
  {
   "cell_type": "code",
   "execution_count": null,
   "id": "3a8d979f",
   "metadata": {},
   "outputs": [],
   "source": [
    "#| export\n",
    "from tqdm import tqdm\n",
    "from pathlib import Path\n",
    "import fastcore.all as fc\n",
    "import pandas as pd\n",
    "import numpy as np\n",
    "\n",
    "from marisco.callbacks import (Callback, Transformer, SanitizeLonLatCB, EncodeTimeCB)\n",
    "from marisco.metadata import (GlobAttrsFeeder, BboxCB,\n",
    "                              DepthRangeCB, TimeRangeCB,\n",
    "                              ZoteroCB, KeyValuePairCB)\n",
    "from marisco.configs import lut_path, cdl_cfg, cfg, nc_tpl_path, Enums\n",
    "from marisco.serializers import NetCDFEncoder"
   ]
  },
  {
   "cell_type": "code",
   "execution_count": null,
   "id": "51f2351f",
   "metadata": {},
   "outputs": [],
   "source": [
    "pd.set_option('display.max_rows', 100)"
   ]
  },
  {
   "cell_type": "code",
   "execution_count": null,
   "id": "d65ade1e",
   "metadata": {},
   "outputs": [],
   "source": [
    "import warnings\n",
    "warnings.filterwarnings('ignore')"
   ]
  },
  {
   "cell_type": "code",
   "execution_count": null,
   "id": "d02bf0a9",
   "metadata": {},
   "outputs": [],
   "source": [
    "# | export\n",
    "fname_in = Path().home() / 'pro/data/maris/MARIS_exportSample_20240313.txt'\n",
    "dir_dest = '../../_data/output/dump'"
   ]
  },
  {
   "cell_type": "markdown",
   "id": "2f8ab222",
   "metadata": {},
   "source": [
    "## Utils"
   ]
  },
  {
   "cell_type": "code",
   "execution_count": null,
   "id": "de1bc0af",
   "metadata": {},
   "outputs": [],
   "source": [
    "# | export\n",
    "def load_dump(fname): \n",
    "    return pd.read_csv(fname, sep='\\t', encoding='ISO-8859-1')   \n",
    "\n",
    "def load_data(df:pd.DataFrame, # MARIS global dump \n",
    "                 ref_id:int, # Reference id of interest\n",
    "                 ):\n",
    "    \"Load specific MARIS dataset through its ref_id\"\n",
    "    lut = {\n",
    "        'Sediment': 'sediment',\n",
    "        'Seawater': 'seawater',\n",
    "        'Suspended matter': 'suspended-matter',\n",
    "        'Biota': 'biota'}\n",
    "    dfs = {}\n",
    "    for name, grp in df[df.ref_id  == ref_id].groupby('samptype'): \n",
    "        dfs[lut[name]] = grp\n",
    "    return dfs\n",
    "\n",
    "def get_zotero_key(dfs):\n",
    "    return dfs[next(iter(dfs))][['zoterourl']].iloc[0].values[0].split('/')[-1]\n",
    "\n",
    "def get_fname(dfs):\n",
    "    id, name = dfs[next(iter(dfs))][['ref_id', 'displaytext']].iloc[0]\n",
    "    name = name.replace(',', '').replace('.', '').replace('-', ' ').split(' ')\n",
    "    return '-'.join(([str(id)] + name)) + '.nc'"
   ]
  },
  {
   "cell_type": "markdown",
   "id": "db48f8fb",
   "metadata": {},
   "source": [
    "## Load data"
   ]
  },
  {
   "cell_type": "code",
   "execution_count": null,
   "id": "715e849d",
   "metadata": {},
   "outputs": [
    {
     "name": "stdout",
     "output_type": "stream",
     "text": [
      "# of unique refs:  526\n",
      "columns:  Index(['ref_id', 'displaytext', 'samptype', 'nuclide_id', 'latitude',\n",
      "       'longitude', 'begperiod', 'endperiod', 'sampdepth', 'totdepth',\n",
      "       'uncertaint', 'unit_id', 'detection', 'area_id', 'species_id',\n",
      "       'biogroup_id', 'bodypar_id', 'sedtype_id', 'volume', 'salinity',\n",
      "       'temperatur', 'sampmet_id', 'prepmet_id', 'counmet_id', 'activity',\n",
      "       'zoterourl'],\n",
      "      dtype='object')\n"
     ]
    },
    {
     "data": {
      "text/html": [
       "<div>\n",
       "<style scoped>\n",
       "    .dataframe tbody tr th:only-of-type {\n",
       "        vertical-align: middle;\n",
       "    }\n",
       "\n",
       "    .dataframe tbody tr th {\n",
       "        vertical-align: top;\n",
       "    }\n",
       "\n",
       "    .dataframe thead th {\n",
       "        text-align: right;\n",
       "    }\n",
       "</style>\n",
       "<table border=\"1\" class=\"dataframe\">\n",
       "  <thead>\n",
       "    <tr style=\"text-align: right;\">\n",
       "      <th></th>\n",
       "      <th>ref_id</th>\n",
       "      <th>displaytext</th>\n",
       "      <th>samptype</th>\n",
       "      <th>nuclide_id</th>\n",
       "      <th>latitude</th>\n",
       "      <th>longitude</th>\n",
       "      <th>begperiod</th>\n",
       "      <th>endperiod</th>\n",
       "      <th>sampdepth</th>\n",
       "      <th>totdepth</th>\n",
       "      <th>...</th>\n",
       "      <th>bodypar_id</th>\n",
       "      <th>sedtype_id</th>\n",
       "      <th>volume</th>\n",
       "      <th>salinity</th>\n",
       "      <th>temperatur</th>\n",
       "      <th>sampmet_id</th>\n",
       "      <th>prepmet_id</th>\n",
       "      <th>counmet_id</th>\n",
       "      <th>activity</th>\n",
       "      <th>zoterourl</th>\n",
       "    </tr>\n",
       "  </thead>\n",
       "  <tbody>\n",
       "    <tr>\n",
       "      <th>0</th>\n",
       "      <td>182</td>\n",
       "      <td>Urban et al., 2015</td>\n",
       "      <td>Biota</td>\n",
       "      <td>33</td>\n",
       "      <td>-35.140833</td>\n",
       "      <td>117.604444</td>\n",
       "      <td>2014-05-06 00:00:00</td>\n",
       "      <td>NaN</td>\n",
       "      <td>-1.0</td>\n",
       "      <td>NaN</td>\n",
       "      <td>...</td>\n",
       "      <td>52</td>\n",
       "      <td>0</td>\n",
       "      <td>NaN</td>\n",
       "      <td>NaN</td>\n",
       "      <td>NaN</td>\n",
       "      <td>0</td>\n",
       "      <td>6</td>\n",
       "      <td>20</td>\n",
       "      <td>0.387</td>\n",
       "      <td>https://www.zotero.org/groups/2432820/maris/it...</td>\n",
       "    </tr>\n",
       "    <tr>\n",
       "      <th>1</th>\n",
       "      <td>182</td>\n",
       "      <td>Urban et al., 2015</td>\n",
       "      <td>Biota</td>\n",
       "      <td>47</td>\n",
       "      <td>-35.140833</td>\n",
       "      <td>117.604444</td>\n",
       "      <td>2014-05-06 00:00:00</td>\n",
       "      <td>NaN</td>\n",
       "      <td>-1.0</td>\n",
       "      <td>NaN</td>\n",
       "      <td>...</td>\n",
       "      <td>52</td>\n",
       "      <td>0</td>\n",
       "      <td>NaN</td>\n",
       "      <td>NaN</td>\n",
       "      <td>NaN</td>\n",
       "      <td>0</td>\n",
       "      <td>6</td>\n",
       "      <td>5</td>\n",
       "      <td>1.44</td>\n",
       "      <td>https://www.zotero.org/groups/2432820/maris/it...</td>\n",
       "    </tr>\n",
       "    <tr>\n",
       "      <th>2</th>\n",
       "      <td>182</td>\n",
       "      <td>Urban et al., 2015</td>\n",
       "      <td>Biota</td>\n",
       "      <td>31</td>\n",
       "      <td>-16.466944</td>\n",
       "      <td>123.535833</td>\n",
       "      <td>2014-02-27 00:00:00</td>\n",
       "      <td>NaN</td>\n",
       "      <td>-1.0</td>\n",
       "      <td>NaN</td>\n",
       "      <td>...</td>\n",
       "      <td>52</td>\n",
       "      <td>0</td>\n",
       "      <td>NaN</td>\n",
       "      <td>NaN</td>\n",
       "      <td>NaN</td>\n",
       "      <td>0</td>\n",
       "      <td>6</td>\n",
       "      <td>20</td>\n",
       "      <td>0.042</td>\n",
       "      <td>https://www.zotero.org/groups/2432820/maris/it...</td>\n",
       "    </tr>\n",
       "    <tr>\n",
       "      <th>3</th>\n",
       "      <td>182</td>\n",
       "      <td>Urban et al., 2015</td>\n",
       "      <td>Biota</td>\n",
       "      <td>33</td>\n",
       "      <td>-16.466944</td>\n",
       "      <td>123.535833</td>\n",
       "      <td>2014-02-27 00:00:00</td>\n",
       "      <td>NaN</td>\n",
       "      <td>-1.0</td>\n",
       "      <td>NaN</td>\n",
       "      <td>...</td>\n",
       "      <td>52</td>\n",
       "      <td>0</td>\n",
       "      <td>NaN</td>\n",
       "      <td>NaN</td>\n",
       "      <td>NaN</td>\n",
       "      <td>0</td>\n",
       "      <td>6</td>\n",
       "      <td>20</td>\n",
       "      <td>0.075</td>\n",
       "      <td>https://www.zotero.org/groups/2432820/maris/it...</td>\n",
       "    </tr>\n",
       "    <tr>\n",
       "      <th>4</th>\n",
       "      <td>182</td>\n",
       "      <td>Urban et al., 2015</td>\n",
       "      <td>Biota</td>\n",
       "      <td>47</td>\n",
       "      <td>-16.466944</td>\n",
       "      <td>123.535833</td>\n",
       "      <td>2014-02-27 00:00:00</td>\n",
       "      <td>NaN</td>\n",
       "      <td>-1.0</td>\n",
       "      <td>NaN</td>\n",
       "      <td>...</td>\n",
       "      <td>52</td>\n",
       "      <td>0</td>\n",
       "      <td>NaN</td>\n",
       "      <td>NaN</td>\n",
       "      <td>NaN</td>\n",
       "      <td>0</td>\n",
       "      <td>6</td>\n",
       "      <td>5</td>\n",
       "      <td>0.069</td>\n",
       "      <td>https://www.zotero.org/groups/2432820/maris/it...</td>\n",
       "    </tr>\n",
       "  </tbody>\n",
       "</table>\n",
       "<p>5 rows × 26 columns</p>\n",
       "</div>"
      ],
      "text/plain": [
       "  ref_id         displaytext samptype nuclide_id   latitude   longitude  \\\n",
       "0    182  Urban et al., 2015    Biota         33 -35.140833  117.604444   \n",
       "1    182  Urban et al., 2015    Biota         47 -35.140833  117.604444   \n",
       "2    182  Urban et al., 2015    Biota         31 -16.466944  123.535833   \n",
       "3    182  Urban et al., 2015    Biota         33 -16.466944  123.535833   \n",
       "4    182  Urban et al., 2015    Biota         47 -16.466944  123.535833   \n",
       "\n",
       "             begperiod endperiod sampdepth totdepth  ... bodypar_id  \\\n",
       "0  2014-05-06 00:00:00       NaN      -1.0      NaN  ...         52   \n",
       "1  2014-05-06 00:00:00       NaN      -1.0      NaN  ...         52   \n",
       "2  2014-02-27 00:00:00       NaN      -1.0      NaN  ...         52   \n",
       "3  2014-02-27 00:00:00       NaN      -1.0      NaN  ...         52   \n",
       "4  2014-02-27 00:00:00       NaN      -1.0      NaN  ...         52   \n",
       "\n",
       "  sedtype_id volume salinity temperatur sampmet_id prepmet_id counmet_id  \\\n",
       "0          0    NaN      NaN        NaN          0          6         20   \n",
       "1          0    NaN      NaN        NaN          0          6          5   \n",
       "2          0    NaN      NaN        NaN          0          6         20   \n",
       "3          0    NaN      NaN        NaN          0          6         20   \n",
       "4          0    NaN      NaN        NaN          0          6          5   \n",
       "\n",
       "  activity                                          zoterourl  \n",
       "0    0.387  https://www.zotero.org/groups/2432820/maris/it...  \n",
       "1     1.44  https://www.zotero.org/groups/2432820/maris/it...  \n",
       "2    0.042  https://www.zotero.org/groups/2432820/maris/it...  \n",
       "3    0.075  https://www.zotero.org/groups/2432820/maris/it...  \n",
       "4    0.069  https://www.zotero.org/groups/2432820/maris/it...  \n",
       "\n",
       "[5 rows x 26 columns]"
      ]
     },
     "execution_count": null,
     "metadata": {},
     "output_type": "execute_result"
    }
   ],
   "source": [
    "#|eval: false\n",
    "df = load_dump(fname_in)\n",
    "\n",
    "print('# of unique refs: ', len(df.ref_id.unique()))\n",
    "print('columns: ', df.columns)\n",
    "df.head()"
   ]
  },
  {
   "cell_type": "code",
   "execution_count": null,
   "id": "a259eafa",
   "metadata": {},
   "outputs": [],
   "source": [
    "#|eval: false\n",
    "# 52, 191 (OSPAR), 100 (HELCOM), 717 (only seawater)\n",
    "ref_id = 100"
   ]
  },
  {
   "cell_type": "code",
   "execution_count": null,
   "id": "333c1cc3",
   "metadata": {},
   "outputs": [
    {
     "data": {
      "text/plain": [
       "dict_keys(['biota', 'seawater', 'sediment'])"
      ]
     },
     "execution_count": null,
     "metadata": {},
     "output_type": "execute_result"
    }
   ],
   "source": [
    "#|eval: false\n",
    "dfs = load_data(df, ref_id)\n",
    "dfs.keys()"
   ]
  },
  {
   "cell_type": "markdown",
   "id": "bf1a71c0",
   "metadata": {},
   "source": [
    "## Data transformation pipeline"
   ]
  },
  {
   "cell_type": "markdown",
   "id": "52e58b33",
   "metadata": {},
   "source": [
    "### Normalize nuclide names"
   ]
  },
  {
   "cell_type": "code",
   "execution_count": null,
   "id": "7029a8ff",
   "metadata": {},
   "outputs": [],
   "source": [
    "#| export\n",
    "def get_varnames_lut():\n",
    "    fname = lut_path() / 'dbo_nuclide.xlsx'\n",
    "    df_nuclide = pd.read_excel(fname, usecols=['nuclide_id', 'nc_name'])\n",
    "    return df_nuclide.set_index('nuclide_id').to_dict()['nc_name']"
   ]
  },
  {
   "cell_type": "code",
   "execution_count": null,
   "id": "78dbeba0",
   "metadata": {},
   "outputs": [],
   "source": [
    "# | export\n",
    "class RemapRdnNameCB(Callback):\n",
    "    \"Remap to MARIS radionuclide names.\"\n",
    "    def __init__(self,\n",
    "                 fn_lut=get_varnames_lut):\n",
    "        fc.store_attr()\n",
    "\n",
    "    def __call__(self, tfm):\n",
    "        lut = self.fn_lut()\n",
    "        for k in tfm.dfs.keys():\n",
    "            tfm.dfs[k]['nuclide_id'] = tfm.dfs[k]['nuclide_id'].replace(lut)"
   ]
  },
  {
   "cell_type": "code",
   "execution_count": null,
   "id": "92a45542",
   "metadata": {},
   "outputs": [
    {
     "name": "stdout",
     "output_type": "stream",
     "text": [
      "['ru106' 'sb125' 'cs134' 'cs137' 'k40' 'co60' 'ag110m' 'ra226' 'th232'\n",
      " 'pb212' 'pb214' 'pu238' 'am241' 'pu239_240_tot' 'zr95' 'mn54' 'ac228'\n",
      " 'u235' 'tl208' 'be7' 'bi214' 'ra223' 'ru103' 'sr90' 'eu155' 'ba140'\n",
      " 'co58' 'ra224' 'po210' 'ra228' 'th228' 'ce144' 'cs134_137_tot' 'pb210'\n",
      " 'pu239' 'cd109' 'bi212' 'pu238_240_tot' 'nb95' 'ir192' 'sb124' 'zn65'\n",
      " 'th234' 'pu241']\n"
     ]
    }
   ],
   "source": [
    "#|eval: false\n",
    "dfs = load_data(df, ref_id)\n",
    "tfm = Transformer(dfs, cbs=[RemapRdnNameCB()])\n",
    "\n",
    "print(tfm()['sediment']['nuclide_id'].unique())"
   ]
  },
  {
   "cell_type": "markdown",
   "id": "32cb47cf",
   "metadata": {},
   "source": [
    "### Rename columns"
   ]
  },
  {
   "cell_type": "code",
   "execution_count": null,
   "id": "eef59c5f",
   "metadata": {},
   "outputs": [
    {
     "data": {
      "text/plain": [
       "Index(['ref_id', 'displaytext', 'samptype', 'nuclide_id', 'latitude',\n",
       "       'longitude', 'begperiod', 'endperiod', 'sampdepth', 'totdepth',\n",
       "       'uncertaint', 'unit_id', 'detection', 'area_id', 'species_id',\n",
       "       'biogroup_id', 'bodypar_id', 'sedtype_id', 'volume', 'salinity',\n",
       "       'temperatur', 'sampmet_id', 'prepmet_id', 'counmet_id', 'activity',\n",
       "       'zoterourl'],\n",
       "      dtype='object')"
      ]
     },
     "execution_count": null,
     "metadata": {},
     "output_type": "execute_result"
    }
   ],
   "source": [
    "#|eval: false\n",
    "dfs['sediment'].columns"
   ]
  },
  {
   "cell_type": "code",
   "execution_count": null,
   "id": "525775d6",
   "metadata": {},
   "outputs": [],
   "source": [
    "#| export\n",
    "# To be added: endperiod, lab\n",
    "def renaming_rules():\n",
    "    vars = cdl_cfg()['vars']\n",
    "    # Define column names renaming rules\n",
    "    return {\n",
    "        'latitude': vars['defaults']['lat']['name'],\n",
    "        'longitude': vars['defaults']['lon']['name'],\n",
    "        'begperiod': vars['defaults']['time']['name'],\n",
    "        'sampdepth': vars['defaults']['smp_depth']['name'],\n",
    "        'totdepth': vars['defaults']['tot_depth']['name'],\n",
    "        'uncertaint': vars['suffixes']['uncertainty']['name'],\n",
    "        'unit_id': vars['suffixes']['unit']['name'],\n",
    "        'detection': vars['suffixes']['detection_limit']['name'],\n",
    "        'area_id': vars['defaults']['area']['name'], \n",
    "        'species_id': vars['bio']['species']['name'],\n",
    "        'biogroup_id': vars['bio']['bio_group']['name'],\n",
    "        'bodypar_id': vars['bio']['body_part']['name'],\n",
    "        'sedtype_id': vars['sed']['sed_type']['name'],\n",
    "        'volume': vars['suffixes']['volume']['name'],\n",
    "        'salinity': vars['suffixes']['salinity']['name'],\n",
    "        'temperatur': vars['suffixes']['temperature']['name'],\n",
    "        'sampmet_id': vars['suffixes']['sampling_method']['name'],\n",
    "        'prepmet_id': vars['suffixes']['preparation_method']['name'],\n",
    "        'counmet_id': vars['suffixes']['counting_method']['name'],\n",
    "        'activity': 'value',\n",
    "        'nuclide_id': 'nuclide'\n",
    "    }"
   ]
  },
  {
   "cell_type": "code",
   "execution_count": null,
   "id": "322f3b7e",
   "metadata": {},
   "outputs": [],
   "source": [
    "#| export\n",
    "class RenameColumnCB(Callback):\n",
    "    \"Renaming variables to MARIS standard names.\"\n",
    "    def __init__(self, renaming_rules=renaming_rules): fc.store_attr()\n",
    "    def __call__(self, tfm):\n",
    "        lut = renaming_rules()\n",
    "        coi = lut.keys()\n",
    "        for k in tfm.dfs.keys():\n",
    "            # Select cols of interest\n",
    "            tfm.dfs[k] = tfm.dfs[k].loc[:, coi]\n",
    "            # Rename cols\n",
    "            tfm.dfs[k].rename(columns=lut, inplace=True)"
   ]
  },
  {
   "cell_type": "code",
   "execution_count": null,
   "id": "0ed8c9c6",
   "metadata": {},
   "outputs": [
    {
     "name": "stdout",
     "output_type": "stream",
     "text": [
      "               lat        lon                 time smp_depth tot_depth  \\\n",
      "549778   54.838333        9.9  1989-06-14 00:00:00      -1.0      24.0   \n",
      "549779   54.838333        9.9  1989-06-14 00:00:00      -1.0      24.0   \n",
      "549780   54.838333        9.9  1989-06-14 00:00:00      -1.0      24.0   \n",
      "549781   54.838333        9.9  1989-06-14 00:00:00      -1.0      24.0   \n",
      "549782   54.838333        9.9  1989-06-14 00:00:00      -1.0      24.0   \n",
      "...            ...        ...                  ...       ...       ...   \n",
      "1532415  57.619722  23.621389  2005-12-02 00:00:00      -1.0      55.0   \n",
      "1532416  57.619722  23.621389  2005-12-02 00:00:00      -1.0      55.0   \n",
      "1532417  57.619722  23.621389  2005-12-02 00:00:00      -1.0      55.0   \n",
      "1532418  57.619722  23.621389  2005-12-02 00:00:00      -1.0      55.0   \n",
      "1532419  57.619722  23.621389  2005-12-02 00:00:00      -1.0      55.0   \n",
      "\n",
      "             _unc _unit _dl  area species  ... body_part sed_type _vol _sal  \\\n",
      "549778       3.99     4   =  2374       0  ...         0       59  NaN  NaN   \n",
      "549779        NaN     2   =  2374       0  ...         0       59  NaN  NaN   \n",
      "549780      1.674     4   =  2374       0  ...         0       59  NaN  NaN   \n",
      "549781        NaN     2   =  2374       0  ...         0       59  NaN  NaN   \n",
      "549782      1.829     4   =  2374       0  ...         0       59  NaN  NaN   \n",
      "...           ...   ...  ..   ...     ...  ...       ...      ...  ...  ...   \n",
      "1532415   86.2836     4   =  2409       0  ...         0       58  NaN  NaN   \n",
      "1532416       NaN     2   =  2409       0  ...         0       58  NaN  NaN   \n",
      "1532417  24.45552     4   =  2409       0  ...         0       58  NaN  NaN   \n",
      "1532418       NaN     2   =  2409       0  ...         0       58  NaN  NaN   \n",
      "1532419  123.2568     4   =  2409       0  ...         0       58  NaN  NaN   \n",
      "\n",
      "        _temp _sampmet _prepmet _counmet    value nuclide  \n",
      "549778    NaN        0        0        0     26.6   ru106  \n",
      "549779    NaN        0        0        0    134.0   sb125  \n",
      "549780    NaN        0        0        0     18.6   sb125  \n",
      "549781    NaN        0        0        0     42.5   cs134  \n",
      "549782    NaN        0        0        0      5.9   cs134  \n",
      "...       ...      ...      ...      ...      ...     ...  \n",
      "1532415   NaN        0        0        0   1106.2     k40  \n",
      "1532416   NaN        0        0        0  991.023   cs137  \n",
      "1532417   NaN        0        0        0    550.8   cs137  \n",
      "1532418   NaN        0        0        0  2461.36     k40  \n",
      "1532419   NaN        0        0        0   1368.0     k40  \n",
      "\n",
      "[123196 rows x 21 columns]\n"
     ]
    }
   ],
   "source": [
    "#|eval: false\n",
    "dfs = load_data(df, ref_id)\n",
    "tfm = Transformer(dfs, cbs=[\n",
    "    RemapRdnNameCB(),\n",
    "    RenameColumnCB()\n",
    "    ])\n",
    "\n",
    "print(tfm()['sediment'])"
   ]
  },
  {
   "cell_type": "markdown",
   "id": "21b2fbc4",
   "metadata": {},
   "source": [
    "### Drop NaN only columns"
   ]
  },
  {
   "cell_type": "code",
   "execution_count": null,
   "id": "819703e6",
   "metadata": {},
   "outputs": [],
   "source": [
    "#| export\n",
    "class DropNAColumnsCB(Callback):\n",
    "    \"Drop variable containing only NaN or 'Not available' (id=0 in MARIS lookup tables).\"\n",
    "    def __init__(self, na_value=0):\n",
    "        fc.store_attr()\n",
    "        \n",
    "    def isMarisNA(self, col): \n",
    "        return len(col.unique()) == 1 and col.iloc[0] == self.na_value\n",
    "    \n",
    "    def dropMarisNA(self, df):\n",
    "        na_cols = [col for col in df.columns if self.isMarisNA(df[col])]\n",
    "        return df.drop(labels=na_cols, axis=1)\n",
    "        \n",
    "    def __call__(self, tfm):\n",
    "        for k in tfm.dfs.keys():\n",
    "            tfm.dfs[k] = tfm.dfs[k].dropna(axis=1, how='all')\n",
    "            tfm.dfs[k] = self.dropMarisNA(tfm.dfs[k])"
   ]
  },
  {
   "cell_type": "code",
   "execution_count": null,
   "id": "9e0f69f1",
   "metadata": {},
   "outputs": [
    {
     "name": "stdout",
     "output_type": "stream",
     "text": [
      "               lat        lon                 time smp_depth tot_depth  \\\n",
      "549778   54.838333        9.9  1989-06-14 00:00:00      -1.0      24.0   \n",
      "549779   54.838333        9.9  1989-06-14 00:00:00      -1.0      24.0   \n",
      "549780   54.838333        9.9  1989-06-14 00:00:00      -1.0      24.0   \n",
      "549781   54.838333        9.9  1989-06-14 00:00:00      -1.0      24.0   \n",
      "549782   54.838333        9.9  1989-06-14 00:00:00      -1.0      24.0   \n",
      "...            ...        ...                  ...       ...       ...   \n",
      "1532415  57.619722  23.621389  2005-12-02 00:00:00      -1.0      55.0   \n",
      "1532416  57.619722  23.621389  2005-12-02 00:00:00      -1.0      55.0   \n",
      "1532417  57.619722  23.621389  2005-12-02 00:00:00      -1.0      55.0   \n",
      "1532418  57.619722  23.621389  2005-12-02 00:00:00      -1.0      55.0   \n",
      "1532419  57.619722  23.621389  2005-12-02 00:00:00      -1.0      55.0   \n",
      "\n",
      "             _unc _unit _dl  area sed_type _sampmet _prepmet    value nuclide  \n",
      "549778       3.99     4   =  2374       59        0        0     26.6   ru106  \n",
      "549779        NaN     2   =  2374       59        0        0    134.0   sb125  \n",
      "549780      1.674     4   =  2374       59        0        0     18.6   sb125  \n",
      "549781        NaN     2   =  2374       59        0        0     42.5   cs134  \n",
      "549782      1.829     4   =  2374       59        0        0      5.9   cs134  \n",
      "...           ...   ...  ..   ...      ...      ...      ...      ...     ...  \n",
      "1532415   86.2836     4   =  2409       58        0        0   1106.2     k40  \n",
      "1532416       NaN     2   =  2409       58        0        0  991.023   cs137  \n",
      "1532417  24.45552     4   =  2409       58        0        0    550.8   cs137  \n",
      "1532418       NaN     2   =  2409       58        0        0  2461.36     k40  \n",
      "1532419  123.2568     4   =  2409       58        0        0   1368.0     k40  \n",
      "\n",
      "[123196 rows x 14 columns]\n"
     ]
    }
   ],
   "source": [
    "#|eval: false\n",
    "dfs = load_data(df, ref_id)\n",
    "tfm = Transformer(dfs, cbs=[\n",
    "    RemapRdnNameCB(),\n",
    "    RenameColumnCB(),\n",
    "    DropNAColumnsCB()\n",
    "    ])\n",
    "\n",
    "print(tfm()['sediment'])"
   ]
  },
  {
   "cell_type": "markdown",
   "id": "54a51628",
   "metadata": {},
   "source": [
    "### Sanitize detection limit values"
   ]
  },
  {
   "cell_type": "code",
   "execution_count": null,
   "id": "36512b76",
   "metadata": {},
   "outputs": [],
   "source": [
    "#| export\n",
    "def get_dl_lut():\n",
    "    fname = lut_path() / 'dbo_detectlimit.xlsx'\n",
    "    df_nuclide = pd.read_excel(fname, usecols=['name', 'id'])\n",
    "    return df_nuclide.set_index('name').to_dict()['id']"
   ]
  },
  {
   "cell_type": "code",
   "execution_count": null,
   "id": "bbef9550",
   "metadata": {},
   "outputs": [
    {
     "data": {
      "text/plain": [
       "{'Not applicable': -1, 'Not Available': 0, '=': 1, '<': 2, 'ND': 3, 'DE': 4}"
      ]
     },
     "execution_count": null,
     "metadata": {},
     "output_type": "execute_result"
    }
   ],
   "source": [
    "#|eval: false\n",
    "get_dl_lut()"
   ]
  },
  {
   "cell_type": "code",
   "execution_count": null,
   "id": "c99e5640",
   "metadata": {},
   "outputs": [],
   "source": [
    "#| export\n",
    "class SanitizeDetectionLimitCB(Callback):\n",
    "    \"Assign Detection Limit name to its id based on MARIS nomenclature.\"\n",
    "    def __init__(self,\n",
    "                 fn_lut=get_dl_lut):\n",
    "        fc.store_attr()\n",
    "        self.var_name = cdl_cfg()['vars']['suffixes']['detection_limit']['name']\n",
    "\n",
    "    def __call__(self, tfm):\n",
    "        lut = self.fn_lut()\n",
    "        for k in tfm.dfs.keys():\n",
    "            tfm.dfs[k][self.var_name] = tfm.dfs[k][self.var_name].replace(lut)"
   ]
  },
  {
   "cell_type": "code",
   "execution_count": null,
   "id": "e71200b5",
   "metadata": {},
   "outputs": [
    {
     "name": "stdout",
     "output_type": "stream",
     "text": [
      "549778     1\n",
      "549779     1\n",
      "549780     1\n",
      "549781     1\n",
      "549782     1\n",
      "          ..\n",
      "1532415    1\n",
      "1532416    1\n",
      "1532417    1\n",
      "1532418    1\n",
      "1532419    1\n",
      "Name: _dl, Length: 123196, dtype: int64\n"
     ]
    }
   ],
   "source": [
    "#|eval: false\n",
    "dfs = load_data(df, ref_id)\n",
    "tfm = Transformer(dfs, cbs=[\n",
    "    RemapRdnNameCB(),\n",
    "    RenameColumnCB(),\n",
    "    DropNAColumnsCB(),\n",
    "    SanitizeDetectionLimitCB()\n",
    "    ])\n",
    "\n",
    "print(tfm()['sediment']['_dl'])"
   ]
  },
  {
   "cell_type": "markdown",
   "id": "8a07b9e9",
   "metadata": {},
   "source": [
    "### Parse time"
   ]
  },
  {
   "cell_type": "code",
   "execution_count": null,
   "id": "434da9d4",
   "metadata": {},
   "outputs": [],
   "source": [
    "#| export\n",
    "class ParseTimeCB(Callback):\n",
    "    def __call__(self, tfm):\n",
    "        for k in tfm.dfs.keys():\n",
    "            tfm.dfs[k]['time'] = pd.to_datetime(tfm.dfs[k].time, format='ISO8601')"
   ]
  },
  {
   "cell_type": "code",
   "execution_count": null,
   "id": "3ebcdf32",
   "metadata": {},
   "outputs": [
    {
     "name": "stdout",
     "output_type": "stream",
     "text": [
      "               lat        lon       time smp_depth tot_depth      _unc _unit  \\\n",
      "549778   54.838333        9.9 1989-06-14      -1.0      24.0      3.99     4   \n",
      "549779   54.838333        9.9 1989-06-14      -1.0      24.0       NaN     2   \n",
      "549780   54.838333        9.9 1989-06-14      -1.0      24.0     1.674     4   \n",
      "549781   54.838333        9.9 1989-06-14      -1.0      24.0       NaN     2   \n",
      "549782   54.838333        9.9 1989-06-14      -1.0      24.0     1.829     4   \n",
      "...            ...        ...        ...       ...       ...       ...   ...   \n",
      "1532415  57.619722  23.621389 2005-12-02      -1.0      55.0   86.2836     4   \n",
      "1532416  57.619722  23.621389 2005-12-02      -1.0      55.0       NaN     2   \n",
      "1532417  57.619722  23.621389 2005-12-02      -1.0      55.0  24.45552     4   \n",
      "1532418  57.619722  23.621389 2005-12-02      -1.0      55.0       NaN     2   \n",
      "1532419  57.619722  23.621389 2005-12-02      -1.0      55.0  123.2568     4   \n",
      "\n",
      "         _dl  area sed_type _sampmet _prepmet    value nuclide  \n",
      "549778     1  2374       59        0        0     26.6   ru106  \n",
      "549779     1  2374       59        0        0    134.0   sb125  \n",
      "549780     1  2374       59        0        0     18.6   sb125  \n",
      "549781     1  2374       59        0        0     42.5   cs134  \n",
      "549782     1  2374       59        0        0      5.9   cs134  \n",
      "...      ...   ...      ...      ...      ...      ...     ...  \n",
      "1532415    1  2409       58        0        0   1106.2     k40  \n",
      "1532416    1  2409       58        0        0  991.023   cs137  \n",
      "1532417    1  2409       58        0        0    550.8   cs137  \n",
      "1532418    1  2409       58        0        0  2461.36     k40  \n",
      "1532419    1  2409       58        0        0   1368.0     k40  \n",
      "\n",
      "[123196 rows x 14 columns]\n"
     ]
    }
   ],
   "source": [
    "#|eval: false\n",
    "dfs = load_data(df, ref_id)\n",
    "tfm = Transformer(dfs, cbs=[\n",
    "    RemapRdnNameCB(),\n",
    "    RenameColumnCB(),\n",
    "    DropNAColumnsCB(),\n",
    "    SanitizeDetectionLimitCB(),\n",
    "    ParseTimeCB()\n",
    "    ])\n",
    "\n",
    "print(tfm()['sediment'])"
   ]
  },
  {
   "cell_type": "markdown",
   "id": "375be6e5",
   "metadata": {},
   "source": [
    "### Reshape: long to wide"
   ]
  },
  {
   "cell_type": "code",
   "execution_count": null,
   "id": "24ed472c",
   "metadata": {},
   "outputs": [],
   "source": [
    "#| export\n",
    "class ReshapeLongToWide(Callback):\n",
    "    \"Convert data from long to wide with renamed columns.\"\n",
    "    def __init__(self, columns='nuclide', values=['value']):\n",
    "        fc.store_attr()\n",
    "        # Retrieve all possible derived vars (e.g 'unc', 'dl', ...) from configs\n",
    "        self.derived_cols = [value['name'] for value in cdl_cfg()['vars']['suffixes'].values()]\n",
    "    \n",
    "    def renamed_cols(self, cols):\n",
    "        \"Flatten columns name\"\n",
    "        return [inner if outer == \"value\" else f'{inner}{outer}'\n",
    "                if inner else outer\n",
    "                for outer, inner in cols]\n",
    "\n",
    "    def pivot(self, df):\n",
    "        # Among all possible 'derived cols' select the ones present in df\n",
    "        derived_coi = [col for col in self.derived_cols if col in df.columns]\n",
    "        \n",
    "        df.reset_index(names='sample', inplace=True)\n",
    "        \n",
    "        idx = list(set(df.columns) - set([self.columns] + derived_coi + self.values))\n",
    "        return df.pivot_table(index=idx,\n",
    "                              columns=self.columns,\n",
    "                              values=self.values + derived_coi,\n",
    "                              fill_value=np.nan,\n",
    "                              aggfunc=lambda x: x\n",
    "                              ).reset_index()\n",
    "\n",
    "    def __call__(self, tfm):\n",
    "        for k in tfm.dfs.keys():\n",
    "            tfm.dfs[k] = self.pivot(tfm.dfs[k])\n",
    "            tfm.dfs[k].columns = self.renamed_cols(tfm.dfs[k].columns)"
   ]
  },
  {
   "cell_type": "code",
   "execution_count": null,
   "id": "d10de0d2",
   "metadata": {},
   "outputs": [
    {
     "data": {
      "text/html": [
       "<div>\n",
       "<style scoped>\n",
       "    .dataframe tbody tr th:only-of-type {\n",
       "        vertical-align: middle;\n",
       "    }\n",
       "\n",
       "    .dataframe tbody tr th {\n",
       "        vertical-align: top;\n",
       "    }\n",
       "\n",
       "    .dataframe thead th {\n",
       "        text-align: right;\n",
       "    }\n",
       "</style>\n",
       "<table border=\"1\" class=\"dataframe\">\n",
       "  <thead>\n",
       "    <tr style=\"text-align: right;\">\n",
       "      <th>nuclide</th>\n",
       "      <th>a</th>\n",
       "      <th>b</th>\n",
       "      <th>c</th>\n",
       "    </tr>\n",
       "    <tr>\n",
       "      <th>idx</th>\n",
       "      <th></th>\n",
       "      <th></th>\n",
       "      <th></th>\n",
       "    </tr>\n",
       "  </thead>\n",
       "  <tbody>\n",
       "    <tr>\n",
       "      <th>1</th>\n",
       "      <td>1.0</td>\n",
       "      <td>2.0</td>\n",
       "      <td>NaN</td>\n",
       "    </tr>\n",
       "    <tr>\n",
       "      <th>2</th>\n",
       "      <td>NaN</td>\n",
       "      <td>NaN</td>\n",
       "      <td>3.0</td>\n",
       "    </tr>\n",
       "  </tbody>\n",
       "</table>\n",
       "</div>"
      ],
      "text/plain": [
       "nuclide    a    b    c\n",
       "idx                   \n",
       "1        1.0  2.0  NaN\n",
       "2        NaN  NaN  3.0"
      ]
     },
     "execution_count": null,
     "metadata": {},
     "output_type": "execute_result"
    }
   ],
   "source": [
    "#|eval: false\n",
    "# How do that work?\n",
    "#    In our case, unique idx is a composite index (lon, lat, time, depth)\n",
    "#    We want to transform:\n",
    "# idx , nuc, val\n",
    "# 1   , a  , 1\n",
    "# 1   , b  , 2\n",
    "# 2   , c  , 3\n",
    "\n",
    "# to: \n",
    "# idx, a,  b,   c\n",
    "# 1  , 1,  2,   nan\n",
    "# 2  ,nan, nan, 3 \n",
    "df_test = pd.DataFrame({\n",
    "    'idx': [1, 1, 2],\n",
    "    'nuclide': ['a', 'b', 'c'],\n",
    "    'value': [1, 2, 3]\n",
    "    })\n",
    "\n",
    "df_test.pivot_table(index='idx',\n",
    "                    columns='nuclide',\n",
    "                    values='value',\n",
    "                    fill_value=np.nan,\n",
    "                    # aggfunc=lambda x: x\n",
    "                    )"
   ]
  },
  {
   "cell_type": "code",
   "execution_count": null,
   "id": "7328389e",
   "metadata": {},
   "outputs": [
    {
     "name": "stdout",
     "output_type": "stream",
     "text": [
      "         sample  sed_type       time        lon        lat  smp_depth  \\\n",
      "0        549778        59 1989-06-14   9.900000  54.838333       -1.0   \n",
      "1        549779        59 1989-06-14   9.900000  54.838333       -1.0   \n",
      "2        549780        59 1989-06-14   9.900000  54.838333       -1.0   \n",
      "3        549781        59 1989-06-14   9.900000  54.838333       -1.0   \n",
      "4        549782        59 1989-06-14   9.900000  54.838333       -1.0   \n",
      "...         ...       ...        ...        ...        ...        ...   \n",
      "122829  1532415        58 2005-12-02  23.621389  57.619722       -1.0   \n",
      "122830  1532416        58 2005-12-02  23.621389  57.619722       -1.0   \n",
      "122831  1532417        58 2005-12-02  23.621389  57.619722       -1.0   \n",
      "122832  1532418        58 2005-12-02  23.621389  57.619722       -1.0   \n",
      "122833  1532419        58 2005-12-02  23.621389  57.619722       -1.0   \n",
      "\n",
      "        tot_depth  area  ac228_dl  ag110m_dl  ...  sb124  sb125  sr90  th228  \\\n",
      "0            24.0  2374       NaN        NaN  ...    NaN    NaN   NaN    NaN   \n",
      "1            24.0  2374       NaN        NaN  ...    NaN  134.0   NaN    NaN   \n",
      "2            24.0  2374       NaN        NaN  ...    NaN   18.6   NaN    NaN   \n",
      "3            24.0  2374       NaN        NaN  ...    NaN    NaN   NaN    NaN   \n",
      "4            24.0  2374       NaN        NaN  ...    NaN    NaN   NaN    NaN   \n",
      "...           ...   ...       ...        ...  ...    ...    ...   ...    ...   \n",
      "122829       55.0  2409       NaN        NaN  ...    NaN    NaN   NaN    NaN   \n",
      "122830       55.0  2409       NaN        NaN  ...    NaN    NaN   NaN    NaN   \n",
      "122831       55.0  2409       NaN        NaN  ...    NaN    NaN   NaN    NaN   \n",
      "122832       55.0  2409       NaN        NaN  ...    NaN    NaN   NaN    NaN   \n",
      "122833       55.0  2409       NaN        NaN  ...    NaN    NaN   NaN    NaN   \n",
      "\n",
      "        th232  th234  tl208  u235  zn65  zr95  \n",
      "0         NaN    NaN    NaN   NaN   NaN   NaN  \n",
      "1         NaN    NaN    NaN   NaN   NaN   NaN  \n",
      "2         NaN    NaN    NaN   NaN   NaN   NaN  \n",
      "3         NaN    NaN    NaN   NaN   NaN   NaN  \n",
      "4         NaN    NaN    NaN   NaN   NaN   NaN  \n",
      "...       ...    ...    ...   ...   ...   ...  \n",
      "122829    NaN    NaN    NaN   NaN   NaN   NaN  \n",
      "122830    NaN    NaN    NaN   NaN   NaN   NaN  \n",
      "122831    NaN    NaN    NaN   NaN   NaN   NaN  \n",
      "122832    NaN    NaN    NaN   NaN   NaN   NaN  \n",
      "122833    NaN    NaN    NaN   NaN   NaN   NaN  \n",
      "\n",
      "[122834 rows x 271 columns]\n"
     ]
    }
   ],
   "source": [
    "#|eval: false\n",
    "dfs = load_data(df, ref_id)\n",
    "tfm = Transformer(dfs, cbs=[\n",
    "    RemapRdnNameCB(),\n",
    "    RenameColumnCB(),\n",
    "    DropNAColumnsCB(),\n",
    "    SanitizeDetectionLimitCB(),\n",
    "    ParseTimeCB(),\n",
    "    ReshapeLongToWide()\n",
    "    ])\n",
    "\n",
    "print(tfm()['sediment'])"
   ]
  },
  {
   "cell_type": "markdown",
   "id": "8587a731",
   "metadata": {},
   "source": [
    "### Encode time (seconds since ...)"
   ]
  },
  {
   "cell_type": "code",
   "execution_count": null,
   "id": "73e0ef14",
   "metadata": {},
   "outputs": [
    {
     "name": "stdout",
     "output_type": "stream",
     "text": [
      "         sample  sed_type        time        lon        lat  smp_depth  \\\n",
      "0        549778        59   613785600   9.900000  54.838333       -1.0   \n",
      "1        549779        59   613785600   9.900000  54.838333       -1.0   \n",
      "2        549780        59   613785600   9.900000  54.838333       -1.0   \n",
      "3        549781        59   613785600   9.900000  54.838333       -1.0   \n",
      "4        549782        59   613785600   9.900000  54.838333       -1.0   \n",
      "...         ...       ...         ...        ...        ...        ...   \n",
      "122829  1532415        58  1133481600  23.621389  57.619722       -1.0   \n",
      "122830  1532416        58  1133481600  23.621389  57.619722       -1.0   \n",
      "122831  1532417        58  1133481600  23.621389  57.619722       -1.0   \n",
      "122832  1532418        58  1133481600  23.621389  57.619722       -1.0   \n",
      "122833  1532419        58  1133481600  23.621389  57.619722       -1.0   \n",
      "\n",
      "        tot_depth  area  ac228_dl  ag110m_dl  ...  sb124  sb125  sr90  th228  \\\n",
      "0            24.0  2374       NaN        NaN  ...    NaN    NaN   NaN    NaN   \n",
      "1            24.0  2374       NaN        NaN  ...    NaN  134.0   NaN    NaN   \n",
      "2            24.0  2374       NaN        NaN  ...    NaN   18.6   NaN    NaN   \n",
      "3            24.0  2374       NaN        NaN  ...    NaN    NaN   NaN    NaN   \n",
      "4            24.0  2374       NaN        NaN  ...    NaN    NaN   NaN    NaN   \n",
      "...           ...   ...       ...        ...  ...    ...    ...   ...    ...   \n",
      "122829       55.0  2409       NaN        NaN  ...    NaN    NaN   NaN    NaN   \n",
      "122830       55.0  2409       NaN        NaN  ...    NaN    NaN   NaN    NaN   \n",
      "122831       55.0  2409       NaN        NaN  ...    NaN    NaN   NaN    NaN   \n",
      "122832       55.0  2409       NaN        NaN  ...    NaN    NaN   NaN    NaN   \n",
      "122833       55.0  2409       NaN        NaN  ...    NaN    NaN   NaN    NaN   \n",
      "\n",
      "        th232  th234  tl208  u235  zn65  zr95  \n",
      "0         NaN    NaN    NaN   NaN   NaN   NaN  \n",
      "1         NaN    NaN    NaN   NaN   NaN   NaN  \n",
      "2         NaN    NaN    NaN   NaN   NaN   NaN  \n",
      "3         NaN    NaN    NaN   NaN   NaN   NaN  \n",
      "4         NaN    NaN    NaN   NaN   NaN   NaN  \n",
      "...       ...    ...    ...   ...   ...   ...  \n",
      "122829    NaN    NaN    NaN   NaN   NaN   NaN  \n",
      "122830    NaN    NaN    NaN   NaN   NaN   NaN  \n",
      "122831    NaN    NaN    NaN   NaN   NaN   NaN  \n",
      "122832    NaN    NaN    NaN   NaN   NaN   NaN  \n",
      "122833    NaN    NaN    NaN   NaN   NaN   NaN  \n",
      "\n",
      "[122834 rows x 271 columns]\n"
     ]
    }
   ],
   "source": [
    "#|eval: false\n",
    "dfs = load_data(df, ref_id)\n",
    "tfm = Transformer(dfs, cbs=[\n",
    "    RemapRdnNameCB(),\n",
    "    RenameColumnCB(),\n",
    "    DropNAColumnsCB(),\n",
    "    SanitizeDetectionLimitCB(),\n",
    "    ParseTimeCB(),\n",
    "    ReshapeLongToWide(),\n",
    "    EncodeTimeCB(cfg())\n",
    "    ])\n",
    "\n",
    "print(tfm()['sediment'])"
   ]
  },
  {
   "cell_type": "markdown",
   "id": "bd91144a",
   "metadata": {},
   "source": [
    "### Sanitize coordinates"
   ]
  },
  {
   "cell_type": "code",
   "execution_count": null,
   "id": "80141e2a",
   "metadata": {},
   "outputs": [],
   "source": [
    "#|eval: false\n",
    "dfs = load_data(df, ref_id)\n",
    "tfm = Transformer(dfs, cbs=[\n",
    "    RemapRdnNameCB(),\n",
    "    RenameColumnCB(),\n",
    "    DropNAColumnsCB(),\n",
    "    SanitizeDetectionLimitCB(),\n",
    "    ParseTimeCB(),\n",
    "    ReshapeLongToWide(),\n",
    "    EncodeTimeCB(cfg()),\n",
    "    SanitizeLonLatCB()\n",
    "    ])\n",
    "\n",
    "# print(tfm()['sediment'])\n",
    "df_debug = tfm()['sediment']"
   ]
  },
  {
   "cell_type": "markdown",
   "id": "709b6999",
   "metadata": {},
   "source": [
    "## Encode to NetCDF"
   ]
  },
  {
   "cell_type": "code",
   "execution_count": null,
   "id": "c55f5ef3",
   "metadata": {},
   "outputs": [
    {
     "data": {
      "text/plain": [
       "['Remap to MARIS radionuclide names.',\n",
       " 'Renaming variables to MARIS standard names.',\n",
       " \"Drop variable containing only NaN or 'Not available' (id=0 in MARIS lookup tables).\",\n",
       " 'Assign Detection Limit name to its id based on MARIS nomenclature.',\n",
       " 'Convert data from long to wide with renamed columns.',\n",
       " 'Encode time as `int` representing seconds since xxx',\n",
       " 'Drop row when both longitude & latitude equal 0. Drop unrealistic longitude & latitude values. Convert longitude & latitude `,` separator to `.` separator.']"
      ]
     },
     "execution_count": null,
     "metadata": {},
     "output_type": "execute_result"
    }
   ],
   "source": [
    "#|eval: false\n",
    "dfs = load_data(df, ref_id)\n",
    "tfm = Transformer(dfs, cbs=[\n",
    "    RemapRdnNameCB(),\n",
    "    RenameColumnCB(),\n",
    "    DropNAColumnsCB(),\n",
    "    SanitizeDetectionLimitCB(),\n",
    "    ParseTimeCB(),\n",
    "    ReshapeLongToWide(),\n",
    "    EncodeTimeCB(cfg()),\n",
    "    SanitizeLonLatCB()\n",
    "    ])\n",
    "\n",
    "dfs_tfm = tfm()\n",
    "tfm.logs"
   ]
  },
  {
   "cell_type": "code",
   "execution_count": null,
   "id": "f98fd736",
   "metadata": {},
   "outputs": [],
   "source": [
    "#| export\n",
    "kw = ['oceanography', 'Earth Science > Oceans > Ocean Chemistry> Radionuclides',\n",
    "      'Earth Science > Human Dimensions > Environmental Impacts > Nuclear Radiation Exposure',\n",
    "      'Earth Science > Oceans > Ocean Chemistry > Ocean Tracers, Earth Science > Oceans > Marine Sediments',\n",
    "      'Earth Science > Oceans > Ocean Chemistry, Earth Science > Oceans > Sea Ice > Isotopes',\n",
    "      'Earth Science > Oceans > Water Quality > Ocean Contaminants',\n",
    "      'Earth Science > Biological Classification > Animals/Vertebrates > Fish',\n",
    "      'Earth Science > Biosphere > Ecosystems > Marine Ecosystems',\n",
    "      'Earth Science > Biological Classification > Animals/Invertebrates > Mollusks',\n",
    "      'Earth Science > Biological Classification > Animals/Invertebrates > Arthropods > Crustaceans',\n",
    "      'Earth Science > Biological Classification > Plants > Macroalgae (Seaweeds)']"
   ]
  },
  {
   "cell_type": "code",
   "execution_count": null,
   "id": "ca5357b7",
   "metadata": {},
   "outputs": [],
   "source": [
    "#| export\n",
    "def get_attrs(tfm, zotero_key, kw=kw):\n",
    "    return GlobAttrsFeeder(tfm.dfs, cbs=[\n",
    "        BboxCB(),\n",
    "        DepthRangeCB(),\n",
    "        TimeRangeCB(cfg()),\n",
    "        ZoteroCB(zotero_key, cfg=cfg()),\n",
    "        KeyValuePairCB('keywords', ', '.join(kw)),\n",
    "        KeyValuePairCB('publisher_postprocess_logs', ', '.join(tfm.logs))\n",
    "        ])()"
   ]
  },
  {
   "cell_type": "code",
   "execution_count": null,
   "id": "6385d9e3",
   "metadata": {},
   "outputs": [
    {
     "data": {
      "text/plain": [
       "{'geospatial_lat_min': '30.435833333333335',\n",
       " 'geospatial_lat_max': '65.75',\n",
       " 'geospatial_lon_min': '9.633333333333333',\n",
       " 'geospatial_lon_max': '53.5',\n",
       " 'geospatial_bounds': 'POLYGON ((9.633333333333333 53.5, 30.435833333333335 53.5, 30.435833333333335 65.75, 9.633333333333333 65.75, 9.633333333333333 53.5))',\n",
       " 'time_coverage_start': '1984-01-10T00:00:00',\n",
       " 'time_coverage_end': '2018-12-14T00:00:00',\n",
       " 'title': 'Radioactivity Monitoring of the Irish Marine Environment 1991 and 1992',\n",
       " 'summary': '',\n",
       " 'creator_name': '[{\"creatorType\": \"author\", \"firstName\": \"A.\", \"lastName\": \"McGarry\"}, {\"creatorType\": \"author\", \"firstName\": \"S.\", \"lastName\": \"Lyons\"}, {\"creatorType\": \"author\", \"firstName\": \"C.\", \"lastName\": \"McEnri\"}, {\"creatorType\": \"author\", \"firstName\": \"T.\", \"lastName\": \"Ryan\"}, {\"creatorType\": \"author\", \"firstName\": \"M.\", \"lastName\": \"O\\'Colmain\"}, {\"creatorType\": \"author\", \"firstName\": \"J.D.\", \"lastName\": \"Cunningham\"}]',\n",
       " 'keywords': 'oceanography, Earth Science > Oceans > Ocean Chemistry> Radionuclides, Earth Science > Human Dimensions > Environmental Impacts > Nuclear Radiation Exposure, Earth Science > Oceans > Ocean Chemistry > Ocean Tracers, Earth Science > Oceans > Marine Sediments, Earth Science > Oceans > Ocean Chemistry, Earth Science > Oceans > Sea Ice > Isotopes, Earth Science > Oceans > Water Quality > Ocean Contaminants, Earth Science > Biological Classification > Animals/Vertebrates > Fish, Earth Science > Biosphere > Ecosystems > Marine Ecosystems, Earth Science > Biological Classification > Animals/Invertebrates > Mollusks, Earth Science > Biological Classification > Animals/Invertebrates > Arthropods > Crustaceans, Earth Science > Biological Classification > Plants > Macroalgae (Seaweeds)',\n",
       " 'publisher_postprocess_logs': \"Remap to MARIS radionuclide names., Renaming variables to MARIS standard names., Drop variable containing only NaN or 'Not available' (id=0 in MARIS lookup tables)., Assign Detection Limit name to its id based on MARIS nomenclature., Convert data from long to wide with renamed columns., Encode time as `int` representing seconds since xxx, Drop row when both longitude & latitude equal 0. Drop unrealistic longitude & latitude values. Convert longitude & latitude `,` separator to `.` separator.\"}"
      ]
     },
     "execution_count": null,
     "metadata": {},
     "output_type": "execute_result"
    }
   ],
   "source": [
    "#|eval: false\n",
    "get_attrs(tfm, zotero_key='3W354SQG', kw=kw)"
   ]
  },
  {
   "cell_type": "code",
   "execution_count": null,
   "id": "ce312588",
   "metadata": {},
   "outputs": [],
   "source": [
    "#| export\n",
    "def enums_xtra(tfm, vars):\n",
    "    \"Retrieve a subset of the lengthy enum as 'species_t' for instance\"\n",
    "    enums = Enums(lut_src_dir=lut_path(), cdl_enums=cdl_cfg()['enums'])\n",
    "    xtras = {}\n",
    "    for var in vars:\n",
    "        unique_vals = tfm.unique(var)\n",
    "        if unique_vals.any():\n",
    "            xtras[f'{var}_t'] = enums.filter(f'{var}_t', unique_vals)\n",
    "    return xtras"
   ]
  },
  {
   "cell_type": "code",
   "execution_count": null,
   "id": "63419143",
   "metadata": {},
   "outputs": [],
   "source": [
    "#| export\n",
    "def encode(fname_in, fname_out, nc_tpl_path, **kwargs):\n",
    "    df = load_dump(fname_in)\n",
    "    ref_ids = kwargs.get('ref_ids', df.ref_id.unique())\n",
    "    print('Encoding ...')\n",
    "    for ref_id in tqdm(ref_ids, leave=False):\n",
    "        dfs = load_data(df, ref_id)\n",
    "        print(get_fname(dfs))\n",
    "        tfm = Transformer(dfs, cbs=[\n",
    "            RemapRdnNameCB(),\n",
    "            RenameColumnCB(),\n",
    "            DropNAColumnsCB(),\n",
    "            SanitizeDetectionLimitCB(),\n",
    "            ParseTimeCB(),\n",
    "            ReshapeLongToWide(),\n",
    "            EncodeTimeCB(cfg()),\n",
    "            SanitizeLonLatCB(verbose=True)\n",
    "            ])\n",
    "       \n",
    "        tfm()\n",
    "        encoder = NetCDFEncoder(tfm.dfs, \n",
    "                                src_fname=nc_tpl_path,\n",
    "                                dest_fname=Path(fname_out) / get_fname(dfs), \n",
    "                                global_attrs=get_attrs(tfm, zotero_key=get_zotero_key(dfs), kw=kw),\n",
    "                                verbose=kwargs.get('verbose', False),\n",
    "                                enums_xtra=enums_xtra(tfm, vars=['species', 'body_part'])\n",
    "                                )\n",
    "        encoder.encode()"
   ]
  },
  {
   "cell_type": "markdown",
   "id": "02bb5bfd",
   "metadata": {},
   "source": [
    "### Single dataset"
   ]
  },
  {
   "cell_type": "code",
   "execution_count": null,
   "id": "11578c2d",
   "metadata": {},
   "outputs": [],
   "source": [
    "#|eval: false\n",
    "tfm = Transformer(dfs, cbs=[\n",
    "            RemapRdnNameCB(),\n",
    "            RenameColumnCB(),\n",
    "            DropNAColumnsCB(),\n",
    "            SanitizeDetectionLimitCB(),\n",
    "            ParseTimeCB(),\n",
    "            ReshapeLongToWide(),\n",
    "            EncodeTimeCB(cfg()),\n",
    "            SanitizeLonLatCB(verbose=True)\n",
    "            ])\n",
    "\n",
    "dfs_test = tfm()"
   ]
  },
  {
   "cell_type": "code",
   "execution_count": null,
   "id": "26bd157d",
   "metadata": {},
   "outputs": [],
   "source": [
    "#|eval: false\n",
    "ref_id = 100\n",
    "encode(fname_in, dir_dest, nc_tpl_path(), verbose=False, ref_ids=[ref_id])"
   ]
  },
  {
   "cell_type": "markdown",
   "id": "f3da7ded",
   "metadata": {},
   "source": [
    "### All datasets"
   ]
  },
  {
   "cell_type": "code",
   "execution_count": null,
   "id": "c13a3f6f",
   "metadata": {},
   "outputs": [],
   "source": [
    "#|eval: false\n",
    "encode(fname_in, dir_dest, nc_tpl_path(), verbose=False)"
   ]
  }
 ],
 "metadata": {
  "kernelspec": {
   "display_name": "python3",
   "language": "python",
   "name": "python3"
  }
 },
 "nbformat": 4,
 "nbformat_minor": 5
}

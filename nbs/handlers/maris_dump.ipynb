{
 "cells": [
  {
   "cell_type": "code",
   "execution_count": null,
   "id": "bb60862d",
   "metadata": {},
   "outputs": [],
   "source": [
    "#| default_exp handlers.maris_dump"
   ]
  },
  {
   "attachments": {},
   "cell_type": "markdown",
   "id": "f263111a",
   "metadata": {},
   "source": [
    "# MARIS dump\n",
    "> Data pipeline (handler) to convert global MARIS db dump into `NetCDF` format\n",
    "\n",
    "The input data is a dump from already imported MARIS datasets.\n",
    "\n",
    "\n",
    "**Questions**:\n",
    "1. is `decayedto` used and in what context? (question to be answered for all columns actually)\n",
    "2. what are units of uncertainty?\n",
    "3. ref_id vs. zoterourl vs. displaytext\n",
    "   1.  e.g ref_id=129 and 130 points to the same dataset?\n",
    "\n",
    "**Dev. board**: https://trello.com/b/IszgV1bj/marisco"
   ]
  },
  {
   "attachments": {},
   "cell_type": "markdown",
   "id": "b92a5c33",
   "metadata": {},
   "source": [
    "## Packages import"
   ]
  },
  {
   "cell_type": "code",
   "execution_count": null,
   "id": "0db45fee",
   "metadata": {},
   "outputs": [
    {
     "name": "stdout",
     "output_type": "stream",
     "text": [
      "The autoreload extension is already loaded. To reload it, use:\n",
      "  %reload_ext autoreload\n"
     ]
    }
   ],
   "source": [
    "%load_ext autoreload\n",
    "%autoreload 2"
   ]
  },
  {
   "cell_type": "code",
   "execution_count": null,
   "id": "3a8d979f",
   "metadata": {},
   "outputs": [],
   "source": [
    "#| export\n",
    "import pandas as pd\n",
    "from tqdm import tqdm\n",
    "from functools import partial\n",
    "import fastcore.all as fc\n",
    "\n",
    "from pathlib import Path\n",
    "\n",
    "from marisco.callbacks import (Callback, Transformer, SanitizeLonLatCB)\n",
    "from marisco.metadata import (GlobAttrsFeeder, BboxCB,\n",
    "                              DepthRangeCB, TimeRangeCB,\n",
    "                              ZoteroCB, KeyValuePairCB)\n",
    "from marisco.configs import lut_path, cdl_cfg, cfg, nc_tpl_path\n",
    "from marisco.serializers import NetCDFEncoder"
   ]
  },
  {
   "cell_type": "code",
   "execution_count": null,
   "id": "51f2351f",
   "metadata": {},
   "outputs": [],
   "source": [
    "pd.set_option('display.max_rows', 100)"
   ]
  },
  {
   "cell_type": "code",
   "execution_count": null,
   "id": "d65ade1e",
   "metadata": {},
   "outputs": [],
   "source": [
    "import warnings\n",
    "warnings.filterwarnings('ignore')"
   ]
  },
  {
   "cell_type": "code",
   "execution_count": null,
   "id": "d02bf0a9",
   "metadata": {},
   "outputs": [],
   "source": [
    "fname_in = Path().home() / 'pro/data/maris/all-maris.txt'\n",
    "dir_dest = '../../_data/output/dump'\n",
    "# fname_out = '../../_data/output/helcom.nc'"
   ]
  },
  {
   "cell_type": "markdown",
   "id": "2f8ab222",
   "metadata": {},
   "source": [
    "## Utils"
   ]
  },
  {
   "cell_type": "code",
   "execution_count": null,
   "id": "de1bc0af",
   "metadata": {},
   "outputs": [],
   "source": [
    "# | export\n",
    "def load_dump(fname): \n",
    "    return pd.read_csv(fname, sep='\\t', encoding='ISO-8859-1')   \n",
    "\n",
    "def load_data(df:pd.DataFrame, # MARIS global dump \n",
    "                 ref_id:int, # Reference id of interest\n",
    "                 ):\n",
    "    \"Load specific MARIS dataset through its ref_id.\"\n",
    "    lut = {\n",
    "        'Sediment': 'sediment',\n",
    "        'Seawater': 'seawater',\n",
    "        'Suspended matter': 'suspended-matter',\n",
    "        'Biota': 'biota'}\n",
    "    dfs = {}\n",
    "    for name, grp in df[df.ref_id  == ref_id].groupby('samptype'):\n",
    "        dfs[lut[name]] = grp\n",
    "    return dfs\n",
    "\n",
    "def get_zotero_key(dfs):\n",
    "    return dfs[next(iter(dfs))][['zoterourl']].iloc[0].values[0].split('/')[-1]\n",
    "\n",
    "def get_fname(dfs):\n",
    "    id, name = dfs[next(iter(dfs))][['ref_id', 'displaytext']].iloc[0]\n",
    "    name = name.replace(',', '').replace('.', '').replace('-', ' ').split(' ')\n",
    "    return '-'.join(([str(id)] + name)) + '.nc'"
   ]
  },
  {
   "cell_type": "markdown",
   "id": "db48f8fb",
   "metadata": {},
   "source": [
    "## Load data"
   ]
  },
  {
   "cell_type": "code",
   "execution_count": null,
   "id": "715e849d",
   "metadata": {},
   "outputs": [],
   "source": [
    "df = load_dump(fname_in)"
   ]
  },
  {
   "cell_type": "code",
   "execution_count": null,
   "id": "a259eafa",
   "metadata": {},
   "outputs": [],
   "source": [
    "# 52\n",
    "ref_id = 52"
   ]
  },
  {
   "cell_type": "markdown",
   "id": "bf1a71c0",
   "metadata": {},
   "source": [
    "## Data transformation pipeline"
   ]
  },
  {
   "cell_type": "markdown",
   "id": "52e58b33",
   "metadata": {},
   "source": [
    "### Normalize nuclide names"
   ]
  },
  {
   "cell_type": "code",
   "execution_count": null,
   "id": "7029a8ff",
   "metadata": {},
   "outputs": [],
   "source": [
    "#| export\n",
    "def get_varnames_lut():\n",
    "    fname = lut_path() / 'dbo_nuclide.xlsx'\n",
    "    df_nuclide = pd.read_excel(fname, usecols=['nuclide_id', 'nc_name'])\n",
    "    return df_nuclide.set_index('nuclide_id').to_dict()['nc_name']"
   ]
  },
  {
   "cell_type": "code",
   "execution_count": null,
   "id": "78dbeba0",
   "metadata": {},
   "outputs": [],
   "source": [
    "# | export\n",
    "class RemapRdnNameCB(Callback):\n",
    "    \"Remap to MARIS radionuclide names.\"\n",
    "    def __init__(self,\n",
    "                 fn_lut=get_varnames_lut):\n",
    "        fc.store_attr()\n",
    "\n",
    "    def __call__(self, tfm):\n",
    "        lut = self.fn_lut()\n",
    "        for k in tfm.dfs.keys():\n",
    "            tfm.dfs[k]['nuclide_id'] = tfm.dfs[k]['nuclide_id'].replace(lut)"
   ]
  },
  {
   "cell_type": "code",
   "execution_count": null,
   "id": "92a45542",
   "metadata": {},
   "outputs": [
    {
     "name": "stdout",
     "output_type": "stream",
     "text": [
      "['sr90' 'cs137' 'pu238' 'pu239_240_tot']\n"
     ]
    }
   ],
   "source": [
    "dfs = load_data(df, ref_id)\n",
    "tfm = Transformer(dfs, cbs=[RemapRdnNameCB()])\n",
    "\n",
    "print(tfm()['biota']['nuclide_id'].unique())"
   ]
  },
  {
   "cell_type": "markdown",
   "id": "32cb47cf",
   "metadata": {},
   "source": [
    "### Rename columns"
   ]
  },
  {
   "cell_type": "code",
   "execution_count": null,
   "id": "eef59c5f",
   "metadata": {},
   "outputs": [
    {
     "data": {
      "text/plain": [
       "Index(['sample_id', 'area_id', 'areaname', 'samptype_id', 'samptype', 'ref_id',\n",
       "       'displaytext', 'zoterourl', 'ref_note', 'datbase', 'lab_id', 'lab',\n",
       "       'latitude', 'longitude', 'begperiod', 'endperiod', 'samplingyear',\n",
       "       'totdepth', 'sampdepth', 'station', 'samplabcode', 'species_id',\n",
       "       'taxonname', 'taxonrank', 'biogroup', 'biogroup_id', 'taxondb',\n",
       "       'taxondbid', 'taxondburl', 'taxonrepname', 'bodypar_id', 'bodypar',\n",
       "       'sliceup', 'slicedown', 'sedtype_id', 'sedtype', 'sedrepname',\n",
       "       'nuclide_id', 'nusymbol', 'volume', 'salinity', 'temperatur',\n",
       "       'filtered', 'filtpore', 'samparea', 'drywt', 'wetwt', 'percentwt',\n",
       "       'sampmet_id', 'sampmet', 'prepmet_id', 'prepmet', 'drymet_id', 'drymet',\n",
       "       'counmet_id', 'counmet', 'decayedto', 'detection', 'activity',\n",
       "       'uncertaint', 'unit_id', 'unit', 'vartype', 'freq', 'rangelow',\n",
       "       'rangeupp', 'profile', 'transect_id', 'measure_note', 'shapetype_id',\n",
       "       'profile_id', 'sampnote', 'ref_fulltext', 'ref_yearpub',\n",
       "       'ref_sampleTypes', 'LongLat', 'shiftedcoordinates', 'shiftedlong',\n",
       "       'shiftedlat', 'id'],\n",
       "      dtype='object')"
      ]
     },
     "execution_count": null,
     "metadata": {},
     "output_type": "execute_result"
    }
   ],
   "source": [
    "dfs['biota'].columns"
   ]
  },
  {
   "cell_type": "code",
   "execution_count": null,
   "id": "525775d6",
   "metadata": {},
   "outputs": [],
   "source": [
    "#| export\n",
    "# To be added: endperiod, totdepth, lab\n",
    "def renaming_rules():\n",
    "    vars = cdl_cfg()['vars']\n",
    "    # Define column names renaming rules\n",
    "    return {\n",
    "        'latitude': vars['defaults']['lat']['name'],\n",
    "        'longitude': vars['defaults']['lon']['name'],\n",
    "        'begperiod': vars['defaults']['time']['name'],\n",
    "        'sampdepth': vars['defaults']['depth']['name'],\n",
    "        'uncertaint': vars['suffixes']['uncertainty']['name'],\n",
    "        'unit_id': vars['suffixes']['unit']['name'],\n",
    "        'detection': vars['suffixes']['detection_limit']['name'],\n",
    "        'area_id': vars['defaults']['area']['name'], \n",
    "        'species_id': vars['bio']['species']['name'],\n",
    "        'biogroup_id': vars['bio']['bio_group']['name'],\n",
    "        'bodypar_id': vars['bio']['body_part']['name'],\n",
    "        'sedtype_id': vars['sed']['sed_type']['name'],\n",
    "        'volume': vars['suffixes']['volume']['name'],\n",
    "        'salinity': vars['suffixes']['salinity']['name'],\n",
    "        'temperatur': vars['suffixes']['temperature']['name'],\n",
    "        'sampmet_id': vars['suffixes']['sampling_method']['name'],\n",
    "        'prepmet_id': vars['suffixes']['preparation_method']['name'],\n",
    "        'counmet_id': vars['suffixes']['counting_method']['name'],\n",
    "        'activity': 'value',\n",
    "        'nuclide_id': 'nuclide'\n",
    "    }"
   ]
  },
  {
   "cell_type": "code",
   "execution_count": null,
   "id": "322f3b7e",
   "metadata": {},
   "outputs": [],
   "source": [
    "#| export\n",
    "class RenameColumnCB(Callback):\n",
    "    \"Renaming variables to MARIS standard names.\"\n",
    "    def __init__(self,\n",
    "                 renaming_rules=renaming_rules):\n",
    "        fc.store_attr()\n",
    "\n",
    "    def __call__(self, tfm):\n",
    "        lut = renaming_rules()\n",
    "        coi = lut.keys()\n",
    "        for k in tfm.dfs.keys():\n",
    "            # Select cols of interest\n",
    "            tfm.dfs[k] = tfm.dfs[k].loc[:, coi]\n",
    "            # Rename cols\n",
    "            tfm.dfs[k].rename(columns=lut, inplace=True)"
   ]
  },
  {
   "cell_type": "code",
   "execution_count": null,
   "id": "0ed8c9c6",
   "metadata": {},
   "outputs": [
    {
     "name": "stdout",
     "output_type": "stream",
     "text": [
      "              lat         lon     time  depth  unc  unit  dl  area  species  \\\n",
      "757776  42.316667  132.316667  00:00.0    NaN  NaN     5   <  4307      712   \n",
      "757777  42.316667  132.316667  00:00.0    NaN  NaN     5  DE  4307      712   \n",
      "757778  42.316667  132.316667  00:00.0    NaN  NaN     5  DE  4307      712   \n",
      "757779  42.316667  132.316667  00:00.0    NaN  NaN     5  DE  4307      712   \n",
      "757780  42.316667  132.316667  00:00.0    NaN  NaN     5   <  4307      695   \n",
      "757781  42.316667  132.316667  00:00.0    NaN  NaN     4  DE  4307      695   \n",
      "\n",
      "        bio_group  body_part  sed_type  vol  sal  temp  sampmet  prepmet  \\\n",
      "757776          4          0         0  NaN  NaN   NaN        0        0   \n",
      "757777          4          0         0  NaN  NaN   NaN        0        0   \n",
      "757778          4          0         0  NaN  NaN   NaN        0        0   \n",
      "757779          4          0         0  NaN  NaN   NaN        0        0   \n",
      "757780          8          0         0  NaN  NaN   NaN        0        0   \n",
      "757781          8          0         0  NaN  NaN   NaN        0        0   \n",
      "\n",
      "        counmet     value        nuclide  \n",
      "757776        0  0.170000           sr90  \n",
      "757777        0  0.142478          cs137  \n",
      "757778        0  0.000548          pu238  \n",
      "757779        0  0.002389  pu239_240_tot  \n",
      "757780        0  0.440000          cs137  \n",
      "757781        0  0.176635  pu239_240_tot  \n"
     ]
    }
   ],
   "source": [
    "dfs = load_data(df, ref_id)\n",
    "tfm = Transformer(dfs, cbs=[\n",
    "    RemapRdnNameCB(),\n",
    "    RenameColumnCB()\n",
    "    ])\n",
    "\n",
    "print(tfm()['biota'])"
   ]
  },
  {
   "cell_type": "markdown",
   "id": "21b2fbc4",
   "metadata": {},
   "source": [
    "### Drop NaN only columns"
   ]
  },
  {
   "cell_type": "code",
   "execution_count": null,
   "id": "819703e6",
   "metadata": {},
   "outputs": [],
   "source": [
    "#| export\n",
    "class DropNAColumnsCB(Callback):\n",
    "    \"Drop variable containing only NaN or 'Not available' (id=0 in MARIS lookup tables).\"\n",
    "    def __init__(self, na_value=0):\n",
    "        fc.store_attr()\n",
    "        \n",
    "    def isMarisNA(self, col): \n",
    "        return len(col.unique()) == 1 and col.iloc[0] == self.na_value\n",
    "    \n",
    "    def dropMarisNA(self, df):\n",
    "        na_cols = [col for col in df.columns if self.isMarisNA(df[col])]\n",
    "        return df.drop(labels=na_cols, axis=1)\n",
    "        \n",
    "    def __call__(self, tfm):\n",
    "        for k in tfm.dfs.keys():\n",
    "            tfm.dfs[k] = tfm.dfs[k].dropna(axis=1, how='all')\n",
    "            tfm.dfs[k] = self.dropMarisNA(tfm.dfs[k])"
   ]
  },
  {
   "cell_type": "code",
   "execution_count": null,
   "id": "9e0f69f1",
   "metadata": {},
   "outputs": [
    {
     "name": "stdout",
     "output_type": "stream",
     "text": [
      "              lat         lon     time  unit  dl  area  species  bio_group  \\\n",
      "757776  42.316667  132.316667  00:00.0     5   <  4307      712          4   \n",
      "757777  42.316667  132.316667  00:00.0     5  DE  4307      712          4   \n",
      "757778  42.316667  132.316667  00:00.0     5  DE  4307      712          4   \n",
      "757779  42.316667  132.316667  00:00.0     5  DE  4307      712          4   \n",
      "757780  42.316667  132.316667  00:00.0     5   <  4307      695          8   \n",
      "757781  42.316667  132.316667  00:00.0     4  DE  4307      695          8   \n",
      "\n",
      "           value        nuclide  \n",
      "757776  0.170000           sr90  \n",
      "757777  0.142478          cs137  \n",
      "757778  0.000548          pu238  \n",
      "757779  0.002389  pu239_240_tot  \n",
      "757780  0.440000          cs137  \n",
      "757781  0.176635  pu239_240_tot  \n"
     ]
    }
   ],
   "source": [
    "dfs = load_data(df, ref_id)\n",
    "tfm = Transformer(dfs, cbs=[\n",
    "    RemapRdnNameCB(),\n",
    "    RenameColumnCB(),\n",
    "    DropNAColumnsCB()\n",
    "    ])\n",
    "\n",
    "print(tfm()['biota'])"
   ]
  },
  {
   "cell_type": "markdown",
   "id": "54a51628",
   "metadata": {},
   "source": [
    "### Sanitize detection limit values"
   ]
  },
  {
   "cell_type": "code",
   "execution_count": null,
   "id": "36512b76",
   "metadata": {},
   "outputs": [],
   "source": [
    "#| export\n",
    "def get_dl_lut():\n",
    "    fname = lut_path() / 'dbo_detectlimit.xlsx'\n",
    "    df_nuclide = pd.read_excel(fname, usecols=['name', 'id'])\n",
    "    return df_nuclide.set_index('name').to_dict()['id']"
   ]
  },
  {
   "cell_type": "code",
   "execution_count": null,
   "id": "bbef9550",
   "metadata": {},
   "outputs": [
    {
     "data": {
      "text/plain": [
       "{'Not Available': 0, '=': 1, '<': 2, 'ND': 3, 'DE': 4}"
      ]
     },
     "execution_count": null,
     "metadata": {},
     "output_type": "execute_result"
    }
   ],
   "source": [
    "get_dl_lut()"
   ]
  },
  {
   "cell_type": "code",
   "execution_count": null,
   "id": "c99e5640",
   "metadata": {},
   "outputs": [],
   "source": [
    "#| export\n",
    "class SanitizeDetectionLimitCB(Callback):\n",
    "    \"Assign Detection Limit name to its id based on MARIS nomenclature.\"\n",
    "    def __init__(self,\n",
    "                 fn_lut=get_dl_lut):\n",
    "        fc.store_attr()\n",
    "\n",
    "    def __call__(self, tfm):\n",
    "        lut = self.fn_lut()\n",
    "        for k in tfm.dfs.keys():\n",
    "            tfm.dfs[k]['dl'] = tfm.dfs[k]['dl'].replace(lut)"
   ]
  },
  {
   "cell_type": "code",
   "execution_count": null,
   "id": "e71200b5",
   "metadata": {},
   "outputs": [],
   "source": [
    "dfs = load_data(df, ref_id)\n",
    "tfm = Transformer(dfs, cbs=[\n",
    "    RemapRdnNameCB(),\n",
    "    RenameColumnCB(),\n",
    "    DropNAColumnsCB(),\n",
    "    SanitizeDetectionLimitCB()\n",
    "    ])\n",
    "\n",
    "# print(tfm()['sediment'])\n",
    "df_test = tfm()['sediment']"
   ]
  },
  {
   "cell_type": "code",
   "execution_count": null,
   "id": "fc5a9c13",
   "metadata": {},
   "outputs": [
    {
     "data": {
      "text/plain": [
       "Index(['lat', 'lon', 'time', 'depth', 'unit', 'dl', 'area', 'value',\n",
       "       'nuclide'],\n",
       "      dtype='object')"
      ]
     },
     "execution_count": null,
     "metadata": {},
     "output_type": "execute_result"
    }
   ],
   "source": [
    "df_test.columns"
   ]
  },
  {
   "cell_type": "code",
   "execution_count": null,
   "id": "d3a9d81c",
   "metadata": {},
   "outputs": [
    {
     "data": {
      "text/plain": [
       "array([1, 2, 4])"
      ]
     },
     "execution_count": null,
     "metadata": {},
     "output_type": "execute_result"
    }
   ],
   "source": [
    "df_test.dl.unique()"
   ]
  },
  {
   "cell_type": "markdown",
   "id": "375be6e5",
   "metadata": {},
   "source": [
    "### Reshape: long to wide"
   ]
  },
  {
   "cell_type": "code",
   "execution_count": null,
   "id": "24ed472c",
   "metadata": {},
   "outputs": [],
   "source": [
    "#| export\n",
    "class ReshapeLongToWide(Callback):\n",
    "    \"Convert data from long to wide with renamed columns.\"\n",
    "    def __init__(self, value_col='nuclide'):\n",
    "        fc.store_attr()\n",
    "        self.derived_cols = [value['name'] for value in cdl_cfg()['vars']['suffixes'].values()]\n",
    "    \n",
    "    def renamed_cols(self, cols):\n",
    "        return [f'{inner}_{outer}' if inner else outer for outer, inner in cols]\n",
    "\n",
    "    def pivot(self, df):\n",
    "        derived_coi = [col for col in self.derived_cols if col in df.columns]\n",
    "        df.reset_index(names='sample', inplace=True)\n",
    "        idx = list(set(df.columns) - set([self.value_col] + derived_coi))\n",
    "        return df.pivot_table(index=idx,\n",
    "                              columns=self.value_col,\n",
    "                              values=derived_coi,\n",
    "                              fill_value=0,\n",
    "                              aggfunc=lambda x: x\n",
    "                              ).reset_index()\n",
    "\n",
    "    def __call__(self, tfm):\n",
    "        for k in tfm.dfs.keys():\n",
    "            tfm.dfs[k] = self.pivot(tfm.dfs[k])\n",
    "            tfm.dfs[k].columns = self.renamed_cols(tfm.dfs[k].columns)\n",
    "            # tfm.dfs[k].index.name = 'sample'\n",
    "            tfm.dfs[k].set_index('sample', inplace=True)"
   ]
  },
  {
   "cell_type": "code",
   "execution_count": null,
   "id": "7328389e",
   "metadata": {},
   "outputs": [
    {
     "name": "stdout",
     "output_type": "stream",
     "text": [
      "         depth        value  area     time        lat         lon  ac228_dl  \\\n",
      "sample                                                                        \n",
      "755699  3570.0     0.120000  4307  00:00.0  41.916667  134.333333         0   \n",
      "755702  1512.0     0.300000  4307  00:00.0  42.316667  132.316667         0   \n",
      "755703  1512.0     2.300000  4307  00:00.0  42.316667  132.316667         0   \n",
      "755704  1512.0     0.013000  4307  00:00.0  42.316667  132.316667         0   \n",
      "755705  1512.0     0.760000  4307  00:00.0  42.316667  132.316667         0   \n",
      "757500  2991.0     0.149666  4307  00:00.0  38.001944  134.951389         0   \n",
      "757501  2991.0     1.000000  4307  00:00.0  38.001944  134.951389         0   \n",
      "757502  2991.0     0.018000  4307  00:00.0  38.001944  134.951389         0   \n",
      "757503  2991.0     0.140000  4307  00:00.0  38.001944  134.951389         0   \n",
      "757754  3245.0     0.300000  4307  00:00.0  40.795000  134.866667         0   \n",
      "757755  3245.0     1.400000  4307  00:00.0  40.795000  134.866667         0   \n",
      "757756  3245.0     0.010000  4307  00:00.0  40.795000  134.866667         0   \n",
      "757772  2991.0     0.300000  4307  00:00.0  38.001944  134.951389         0   \n",
      "757773  2991.0     1.900000  4307  00:00.0  38.001944  134.951389         0   \n",
      "757774  2991.0     0.014000  4307  00:00.0  38.001944  134.951389         0   \n",
      "757775  2991.0     0.037000  4307  00:00.0  38.001944  134.951389         0   \n",
      "757806  3128.0     0.200000  4307  00:00.0  41.916667  132.000000         0   \n",
      "757807  3128.0     2.100000  4307  00:00.0  41.916667  132.000000         0   \n",
      "757808  3128.0     0.019000  4307  00:00.0  41.916667  132.000000         0   \n",
      "757809  3128.0     0.240000  4307  00:00.0  41.916667  132.000000         0   \n",
      "757810  3533.0     1.900000  4307  00:00.0  41.666667  133.250000         0   \n",
      "757811  3533.0  1170.000000  4307  00:00.0  41.666667  133.250000         0   \n",
      "757812  3533.0    80.000000  4307  00:00.0  41.666667  133.250000         0   \n",
      "757813  3533.0   140.000000  4307  00:00.0  41.666667  133.250000         1   \n",
      "757814  3533.0     0.010000  4307  00:00.0  41.666667  133.250000         0   \n",
      "757815  3533.0   132.000000  4307  00:00.0  41.666667  133.250000         0   \n",
      "757816  3128.0     0.140000  4307  00:00.0  41.916667  132.000000         0   \n",
      "757817  3128.0     1.600000  4307  00:00.0  41.916667  132.000000         0   \n",
      "757818  3128.0     0.006000  4307  00:00.0  41.916667  132.000000         0   \n",
      "757819  3128.0     0.038000  4307  00:00.0  41.916667  132.000000         0   \n",
      "757820  3533.0     0.200000  4307  00:00.0  41.666667  133.250000         0   \n",
      "757821  3533.0     0.774597  4307  00:00.0  41.666667  133.250000         0   \n",
      "757822  3533.0     0.007000  4307  00:00.0  41.666667  133.250000         0   \n",
      "757823  3533.0     0.009000  4307  00:00.0  41.666667  133.250000         0   \n",
      "757824  3545.0     0.291548  4307  00:00.0  41.083333  134.333333         0   \n",
      "757825  3545.0     1.400000  4307  00:00.0  41.083333  134.333333         0   \n",
      "757826  3545.0     0.009000  4307  00:00.0  41.083333  134.333333         0   \n",
      "757827  3545.0     0.011000  4307  00:00.0  41.083333  134.333333         0   \n",
      "757828  3245.0     0.200000  4307  00:00.0  40.795000  134.866667         0   \n",
      "757829  3245.0     0.916515  4307  00:00.0  40.795000  134.866667         0   \n",
      "757830  3245.0     0.011000  4307  00:00.0  40.795000  134.866667         0   \n",
      "757831  3245.0     0.014000  4307  00:00.0  40.795000  134.866667         0   \n",
      "757832  3493.0     0.200000  4307  00:00.0  41.083333  133.250000         0   \n",
      "757833  3493.0     1.900000  4307  00:00.0  41.083333  133.250000         0   \n",
      "757834  3493.0     0.007000  4307  00:00.0  41.083333  133.250000         0   \n",
      "757835  3493.0     0.040000  4307  00:00.0  41.083333  133.250000         0   \n",
      "757836  3488.0     0.300000  4307  00:00.0  41.916667  133.250000         0   \n",
      "757837  3488.0     0.721110  4307  00:00.0  41.916667  133.250000         0   \n",
      "757838  3488.0     0.008000  4307  00:00.0  41.916667  133.250000         0   \n",
      "757839  3488.0     0.006000  4307  00:00.0  41.916667  133.250000         0   \n",
      "757840  3488.0     0.089443  4307  00:00.0  41.916667  133.250000         0   \n",
      "757841  3488.0     1.500000  4307  00:00.0  41.916667  133.250000         0   \n",
      "757842  3488.0     0.006000  4307  00:00.0  41.916667  133.250000         0   \n",
      "757843  3488.0     0.050000  4307  00:00.0  41.916667  133.250000         0   \n",
      "757844  3245.0     0.014000  4307  00:00.0  40.795000  134.866667         0   \n",
      "757845  3545.0     0.200000  4307  00:00.0  41.083333  134.333333         0   \n",
      "757846  3545.0     1.800000  4307  00:00.0  41.083333  134.333333         0   \n",
      "757847  3545.0     0.004000  4307  00:00.0  41.083333  134.333333         0   \n",
      "757848  3545.0     0.004000  4307  00:00.0  41.083333  134.333333         0   \n",
      "757849  3533.0     0.140000  4307  00:00.0  41.666667  133.250000         0   \n",
      "757850  3533.0     0.871780  4307  00:00.0  41.666667  133.250000         0   \n",
      "757851  3533.0     0.016000  4307  00:00.0  41.666667  133.250000         0   \n",
      "757852  3533.0     0.036000  4307  00:00.0  41.666667  133.250000         0   \n",
      "757853  3570.0     0.282843  4307  00:00.0  41.916667  134.333333         0   \n",
      "764514  3570.0     1.000000  4307  00:00.0  41.916667  134.333333         0   \n",
      "764515  3570.0     0.010000  4307  00:00.0  41.916667  134.333333         0   \n",
      "764516  3493.0     0.100000  4307  00:00.0  41.083333  133.250000         0   \n",
      "764517  3493.0     1.200000  4307  00:00.0  41.083333  133.250000         0   \n",
      "764518  3493.0     0.004000  4307  00:00.0  41.083333  133.250000         0   \n",
      "764519  3493.0     0.120000  4307  00:00.0  41.083333  133.250000         0   \n",
      "764527  1512.0     0.200000  4307  00:00.0  42.316667  132.316667         0   \n",
      "764528  1512.0     2.800000  4307  00:00.0  42.316667  132.316667         0   \n",
      "764529  1512.0     0.022000  4307  00:00.0  42.316667  132.316667         0   \n",
      "764530  1512.0     1.030000  4307  00:00.0  42.316667  132.316667         0   \n",
      "764533  3570.0     0.200000  4307  00:00.0  41.916667  134.333333         0   \n",
      "764534  3570.0     1.700000  4307  00:00.0  41.916667  134.333333         0   \n",
      "764535  3570.0     0.013000  4307  00:00.0  41.916667  134.333333         0   \n",
      "764536  3570.0     0.009000  4307  00:00.0  41.916667  134.333333         0   \n",
      "\n",
      "        cs137_dl  k40_dl  pu238_dl  ...  sr90_dl  tl208_dl  ac228_unit  \\\n",
      "sample                              ...                                  \n",
      "755699         0       0         0  ...        0         0           0   \n",
      "755702         0       0         0  ...        2         0           0   \n",
      "755703         1       0         0  ...        0         0           0   \n",
      "755704         0       0         1  ...        0         0           0   \n",
      "755705         0       0         0  ...        0         0           0   \n",
      "757500         0       0         0  ...        4         0           0   \n",
      "757501         1       0         0  ...        0         0           0   \n",
      "757502         0       0         2  ...        0         0           0   \n",
      "757503         0       0         0  ...        0         0           0   \n",
      "757754         0       0         0  ...        2         0           0   \n",
      "757755         4       0         0  ...        0         0           0   \n",
      "757756         0       0         2  ...        0         0           0   \n",
      "757772         0       0         0  ...        2         0           0   \n",
      "757773         2       0         0  ...        0         0           0   \n",
      "757774         0       0         2  ...        0         0           0   \n",
      "757775         0       0         0  ...        0         0           0   \n",
      "757806         0       0         0  ...        1         0           0   \n",
      "757807         1       0         0  ...        0         0           0   \n",
      "757808         0       0         2  ...        0         0           0   \n",
      "757809         0       0         0  ...        0         0           0   \n",
      "757810         2       0         0  ...        0         0           0   \n",
      "757811         0       1         0  ...        0         0           0   \n",
      "757812         0       0         0  ...        0         0           0   \n",
      "757813         0       0         0  ...        0         0           4   \n",
      "757814         0       0         0  ...        0         0           0   \n",
      "757815         0       0         0  ...        0         1           0   \n",
      "757816         0       0         0  ...        2         0           0   \n",
      "757817         2       0         0  ...        0         0           0   \n",
      "757818         0       0         2  ...        0         0           0   \n",
      "757819         0       0         0  ...        0         0           0   \n",
      "757820         0       0         0  ...        2         0           0   \n",
      "757821         4       0         0  ...        0         0           0   \n",
      "757822         0       0         2  ...        0         0           0   \n",
      "757823         0       0         0  ...        0         0           0   \n",
      "757824         0       0         0  ...        4         0           0   \n",
      "757825         2       0         0  ...        0         0           0   \n",
      "757826         0       0         2  ...        0         0           0   \n",
      "757827         0       0         0  ...        0         0           0   \n",
      "757828         0       0         0  ...        2         0           0   \n",
      "757829         4       0         0  ...        0         0           0   \n",
      "757830         0       0         2  ...        0         0           0   \n",
      "757831         0       0         0  ...        0         0           0   \n",
      "757832         0       0         0  ...        2         0           0   \n",
      "757833         2       0         0  ...        0         0           0   \n",
      "757834         0       0         2  ...        0         0           0   \n",
      "757835         0       0         0  ...        0         0           0   \n",
      "757836         0       0         0  ...        2         0           0   \n",
      "757837         4       0         0  ...        0         0           0   \n",
      "757838         0       0         2  ...        0         0           0   \n",
      "757839         0       0         0  ...        0         0           0   \n",
      "757840         0       0         0  ...        4         0           0   \n",
      "757841         1       0         0  ...        0         0           0   \n",
      "757842         0       0         2  ...        0         0           0   \n",
      "757843         0       0         0  ...        0         0           0   \n",
      "757844         0       0         0  ...        0         0           0   \n",
      "757845         0       0         0  ...        2         0           0   \n",
      "757846         2       0         0  ...        0         0           0   \n",
      "757847         0       0         2  ...        0         0           0   \n",
      "757848         0       0         0  ...        0         0           0   \n",
      "757849         0       0         0  ...        2         0           0   \n",
      "757850         4       0         0  ...        0         0           0   \n",
      "757851         0       0         2  ...        0         0           0   \n",
      "757852         0       0         0  ...        0         0           0   \n",
      "757853         0       0         0  ...        4         0           0   \n",
      "764514         1       0         0  ...        0         0           0   \n",
      "764515         0       0         2  ...        0         0           0   \n",
      "764516         0       0         0  ...        1         0           0   \n",
      "764517         1       0         0  ...        0         0           0   \n",
      "764518         0       0         1  ...        0         0           0   \n",
      "764519         0       0         0  ...        0         0           0   \n",
      "764527         0       0         0  ...        1         0           0   \n",
      "764528         1       0         0  ...        0         0           0   \n",
      "764529         0       0         1  ...        0         0           0   \n",
      "764530         0       0         0  ...        0         0           0   \n",
      "764533         0       0         0  ...        2         0           0   \n",
      "764534         2       0         0  ...        0         0           0   \n",
      "764535         0       0         2  ...        0         0           0   \n",
      "764536         0       0         0  ...        0         0           0   \n",
      "\n",
      "        cs137_unit  k40_unit  pu238_unit  pu239_240_tot_unit  ra226_unit  \\\n",
      "sample                                                                     \n",
      "755699           0         0           0                   4           0   \n",
      "755702           0         0           0                   0           0   \n",
      "755703           4         0           0                   0           0   \n",
      "755704           0         0           4                   0           0   \n",
      "755705           0         0           0                   4           0   \n",
      "757500           0         0           0                   0           0   \n",
      "757501           4         0           0                   0           0   \n",
      "757502           0         0           4                   0           0   \n",
      "757503           0         0           0                   4           0   \n",
      "757754           0         0           0                   0           0   \n",
      "757755           4         0           0                   0           0   \n",
      "757756           0         0           4                   0           0   \n",
      "757772           0         0           0                   0           0   \n",
      "757773           4         0           0                   0           0   \n",
      "757774           0         0           4                   0           0   \n",
      "757775           0         0           0                   4           0   \n",
      "757806           0         0           0                   0           0   \n",
      "757807           4         0           0                   0           0   \n",
      "757808           0         0           4                   0           0   \n",
      "757809           0         0           0                   4           0   \n",
      "757810           4         0           0                   0           0   \n",
      "757811           0         4           0                   0           0   \n",
      "757812           0         0           0                   0           4   \n",
      "757813           0         0           0                   0           0   \n",
      "757814           0         0           0                   4           0   \n",
      "757815           0         0           0                   0           0   \n",
      "757816           0         0           0                   0           0   \n",
      "757817           4         0           0                   0           0   \n",
      "757818           0         0           4                   0           0   \n",
      "757819           0         0           0                   4           0   \n",
      "757820           0         0           0                   0           0   \n",
      "757821           4         0           0                   0           0   \n",
      "757822           0         0           4                   0           0   \n",
      "757823           0         0           0                   4           0   \n",
      "757824           0         0           0                   0           0   \n",
      "757825           4         0           0                   0           0   \n",
      "757826           0         0           4                   0           0   \n",
      "757827           0         0           0                   4           0   \n",
      "757828           0         0           0                   0           0   \n",
      "757829           4         0           0                   0           0   \n",
      "757830           0         0           4                   0           0   \n",
      "757831           0         0           0                   4           0   \n",
      "757832           0         0           0                   0           0   \n",
      "757833           4         0           0                   0           0   \n",
      "757834           0         0           4                   0           0   \n",
      "757835           0         0           0                   4           0   \n",
      "757836           0         0           0                   0           0   \n",
      "757837           4         0           0                   0           0   \n",
      "757838           0         0           4                   0           0   \n",
      "757839           0         0           0                   4           0   \n",
      "757840           0         0           0                   0           0   \n",
      "757841           4         0           0                   0           0   \n",
      "757842           0         0           4                   0           0   \n",
      "757843           0         0           0                   4           0   \n",
      "757844           0         0           0                   4           0   \n",
      "757845           0         0           0                   0           0   \n",
      "757846           4         0           0                   0           0   \n",
      "757847           0         0           4                   0           0   \n",
      "757848           0         0           0                   4           0   \n",
      "757849           0         0           0                   0           0   \n",
      "757850           4         0           0                   0           0   \n",
      "757851           0         0           4                   0           0   \n",
      "757852           0         0           0                   4           0   \n",
      "757853           0         0           0                   0           0   \n",
      "764514           4         0           0                   0           0   \n",
      "764515           0         0           4                   0           0   \n",
      "764516           0         0           0                   0           0   \n",
      "764517           4         0           0                   0           0   \n",
      "764518           0         0           4                   0           0   \n",
      "764519           0         0           0                   4           0   \n",
      "764527           0         0           0                   0           0   \n",
      "764528           4         0           0                   0           0   \n",
      "764529           0         0           4                   0           0   \n",
      "764530           0         0           0                   4           0   \n",
      "764533           0         0           0                   0           0   \n",
      "764534           4         0           0                   0           0   \n",
      "764535           0         0           4                   0           0   \n",
      "764536           0         0           0                   4           0   \n",
      "\n",
      "        sr90_unit  tl208_unit  \n",
      "sample                         \n",
      "755699          0           0  \n",
      "755702          4           0  \n",
      "755703          0           0  \n",
      "755704          0           0  \n",
      "755705          0           0  \n",
      "757500          4           0  \n",
      "757501          0           0  \n",
      "757502          0           0  \n",
      "757503          0           0  \n",
      "757754          4           0  \n",
      "757755          0           0  \n",
      "757756          0           0  \n",
      "757772          4           0  \n",
      "757773          0           0  \n",
      "757774          0           0  \n",
      "757775          0           0  \n",
      "757806          4           0  \n",
      "757807          0           0  \n",
      "757808          0           0  \n",
      "757809          0           0  \n",
      "757810          0           0  \n",
      "757811          0           0  \n",
      "757812          0           0  \n",
      "757813          0           0  \n",
      "757814          0           0  \n",
      "757815          0           4  \n",
      "757816          4           0  \n",
      "757817          0           0  \n",
      "757818          0           0  \n",
      "757819          0           0  \n",
      "757820          4           0  \n",
      "757821          0           0  \n",
      "757822          0           0  \n",
      "757823          0           0  \n",
      "757824          4           0  \n",
      "757825          0           0  \n",
      "757826          0           0  \n",
      "757827          0           0  \n",
      "757828          4           0  \n",
      "757829          0           0  \n",
      "757830          0           0  \n",
      "757831          0           0  \n",
      "757832          4           0  \n",
      "757833          0           0  \n",
      "757834          0           0  \n",
      "757835          0           0  \n",
      "757836          4           0  \n",
      "757837          0           0  \n",
      "757838          0           0  \n",
      "757839          0           0  \n",
      "757840          4           0  \n",
      "757841          0           0  \n",
      "757842          0           0  \n",
      "757843          0           0  \n",
      "757844          0           0  \n",
      "757845          4           0  \n",
      "757846          0           0  \n",
      "757847          0           0  \n",
      "757848          0           0  \n",
      "757849          4           0  \n",
      "757850          0           0  \n",
      "757851          0           0  \n",
      "757852          0           0  \n",
      "757853          4           0  \n",
      "764514          0           0  \n",
      "764515          0           0  \n",
      "764516          4           0  \n",
      "764517          0           0  \n",
      "764518          0           0  \n",
      "764519          0           0  \n",
      "764527          4           0  \n",
      "764528          0           0  \n",
      "764529          0           0  \n",
      "764530          0           0  \n",
      "764533          4           0  \n",
      "764534          0           0  \n",
      "764535          0           0  \n",
      "764536          0           0  \n",
      "\n",
      "[78 rows x 22 columns]\n"
     ]
    }
   ],
   "source": [
    "dfs = load_data(df, ref_id)\n",
    "tfm = Transformer(dfs, cbs=[\n",
    "    RemapRdnNameCB(),\n",
    "    RenameColumnCB(),\n",
    "    DropNAColumnsCB(),\n",
    "    SanitizeDetectionLimitCB(),\n",
    "    ReshapeLongToWide()\n",
    "    ])\n",
    "\n",
    "print(tfm()['sediment'])"
   ]
  },
  {
   "cell_type": "markdown",
   "id": "8587a731",
   "metadata": {},
   "source": [
    "### Encode time (seconds since ...)"
   ]
  },
  {
   "cell_type": "code",
   "execution_count": null,
   "id": "7f4929e2",
   "metadata": {},
   "outputs": [],
   "source": [
    "#| export\n",
    "class EncodeTimeCB(Callback):\n",
    "    \"Encode time as `int` representing seconds since xxx (TBD).\"  \n",
    "    def __call__(self, tfm):\n",
    "        for k in tfm.dfs.keys():\n",
    "            tfm.dfs[k].time = 9999"
   ]
  },
  {
   "cell_type": "code",
   "execution_count": null,
   "id": "73e0ef14",
   "metadata": {},
   "outputs": [
    {
     "name": "stdout",
     "output_type": "stream",
     "text": [
      "         depth        value  area  time        lat         lon  ac228_dl  \\\n",
      "sample                                                                     \n",
      "755699  3570.0     0.120000  4307  9999  41.916667  134.333333         0   \n",
      "755702  1512.0     0.300000  4307  9999  42.316667  132.316667         0   \n",
      "755703  1512.0     2.300000  4307  9999  42.316667  132.316667         0   \n",
      "755704  1512.0     0.013000  4307  9999  42.316667  132.316667         0   \n",
      "755705  1512.0     0.760000  4307  9999  42.316667  132.316667         0   \n",
      "757500  2991.0     0.149666  4307  9999  38.001944  134.951389         0   \n",
      "757501  2991.0     1.000000  4307  9999  38.001944  134.951389         0   \n",
      "757502  2991.0     0.018000  4307  9999  38.001944  134.951389         0   \n",
      "757503  2991.0     0.140000  4307  9999  38.001944  134.951389         0   \n",
      "757754  3245.0     0.300000  4307  9999  40.795000  134.866667         0   \n",
      "757755  3245.0     1.400000  4307  9999  40.795000  134.866667         0   \n",
      "757756  3245.0     0.010000  4307  9999  40.795000  134.866667         0   \n",
      "757772  2991.0     0.300000  4307  9999  38.001944  134.951389         0   \n",
      "757773  2991.0     1.900000  4307  9999  38.001944  134.951389         0   \n",
      "757774  2991.0     0.014000  4307  9999  38.001944  134.951389         0   \n",
      "757775  2991.0     0.037000  4307  9999  38.001944  134.951389         0   \n",
      "757806  3128.0     0.200000  4307  9999  41.916667  132.000000         0   \n",
      "757807  3128.0     2.100000  4307  9999  41.916667  132.000000         0   \n",
      "757808  3128.0     0.019000  4307  9999  41.916667  132.000000         0   \n",
      "757809  3128.0     0.240000  4307  9999  41.916667  132.000000         0   \n",
      "757810  3533.0     1.900000  4307  9999  41.666667  133.250000         0   \n",
      "757811  3533.0  1170.000000  4307  9999  41.666667  133.250000         0   \n",
      "757812  3533.0    80.000000  4307  9999  41.666667  133.250000         0   \n",
      "757813  3533.0   140.000000  4307  9999  41.666667  133.250000         1   \n",
      "757814  3533.0     0.010000  4307  9999  41.666667  133.250000         0   \n",
      "757815  3533.0   132.000000  4307  9999  41.666667  133.250000         0   \n",
      "757816  3128.0     0.140000  4307  9999  41.916667  132.000000         0   \n",
      "757817  3128.0     1.600000  4307  9999  41.916667  132.000000         0   \n",
      "757818  3128.0     0.006000  4307  9999  41.916667  132.000000         0   \n",
      "757819  3128.0     0.038000  4307  9999  41.916667  132.000000         0   \n",
      "757820  3533.0     0.200000  4307  9999  41.666667  133.250000         0   \n",
      "757821  3533.0     0.774597  4307  9999  41.666667  133.250000         0   \n",
      "757822  3533.0     0.007000  4307  9999  41.666667  133.250000         0   \n",
      "757823  3533.0     0.009000  4307  9999  41.666667  133.250000         0   \n",
      "757824  3545.0     0.291548  4307  9999  41.083333  134.333333         0   \n",
      "757825  3545.0     1.400000  4307  9999  41.083333  134.333333         0   \n",
      "757826  3545.0     0.009000  4307  9999  41.083333  134.333333         0   \n",
      "757827  3545.0     0.011000  4307  9999  41.083333  134.333333         0   \n",
      "757828  3245.0     0.200000  4307  9999  40.795000  134.866667         0   \n",
      "757829  3245.0     0.916515  4307  9999  40.795000  134.866667         0   \n",
      "757830  3245.0     0.011000  4307  9999  40.795000  134.866667         0   \n",
      "757831  3245.0     0.014000  4307  9999  40.795000  134.866667         0   \n",
      "757832  3493.0     0.200000  4307  9999  41.083333  133.250000         0   \n",
      "757833  3493.0     1.900000  4307  9999  41.083333  133.250000         0   \n",
      "757834  3493.0     0.007000  4307  9999  41.083333  133.250000         0   \n",
      "757835  3493.0     0.040000  4307  9999  41.083333  133.250000         0   \n",
      "757836  3488.0     0.300000  4307  9999  41.916667  133.250000         0   \n",
      "757837  3488.0     0.721110  4307  9999  41.916667  133.250000         0   \n",
      "757838  3488.0     0.008000  4307  9999  41.916667  133.250000         0   \n",
      "757839  3488.0     0.006000  4307  9999  41.916667  133.250000         0   \n",
      "757840  3488.0     0.089443  4307  9999  41.916667  133.250000         0   \n",
      "757841  3488.0     1.500000  4307  9999  41.916667  133.250000         0   \n",
      "757842  3488.0     0.006000  4307  9999  41.916667  133.250000         0   \n",
      "757843  3488.0     0.050000  4307  9999  41.916667  133.250000         0   \n",
      "757844  3245.0     0.014000  4307  9999  40.795000  134.866667         0   \n",
      "757845  3545.0     0.200000  4307  9999  41.083333  134.333333         0   \n",
      "757846  3545.0     1.800000  4307  9999  41.083333  134.333333         0   \n",
      "757847  3545.0     0.004000  4307  9999  41.083333  134.333333         0   \n",
      "757848  3545.0     0.004000  4307  9999  41.083333  134.333333         0   \n",
      "757849  3533.0     0.140000  4307  9999  41.666667  133.250000         0   \n",
      "757850  3533.0     0.871780  4307  9999  41.666667  133.250000         0   \n",
      "757851  3533.0     0.016000  4307  9999  41.666667  133.250000         0   \n",
      "757852  3533.0     0.036000  4307  9999  41.666667  133.250000         0   \n",
      "757853  3570.0     0.282843  4307  9999  41.916667  134.333333         0   \n",
      "764514  3570.0     1.000000  4307  9999  41.916667  134.333333         0   \n",
      "764515  3570.0     0.010000  4307  9999  41.916667  134.333333         0   \n",
      "764516  3493.0     0.100000  4307  9999  41.083333  133.250000         0   \n",
      "764517  3493.0     1.200000  4307  9999  41.083333  133.250000         0   \n",
      "764518  3493.0     0.004000  4307  9999  41.083333  133.250000         0   \n",
      "764519  3493.0     0.120000  4307  9999  41.083333  133.250000         0   \n",
      "764527  1512.0     0.200000  4307  9999  42.316667  132.316667         0   \n",
      "764528  1512.0     2.800000  4307  9999  42.316667  132.316667         0   \n",
      "764529  1512.0     0.022000  4307  9999  42.316667  132.316667         0   \n",
      "764530  1512.0     1.030000  4307  9999  42.316667  132.316667         0   \n",
      "764533  3570.0     0.200000  4307  9999  41.916667  134.333333         0   \n",
      "764534  3570.0     1.700000  4307  9999  41.916667  134.333333         0   \n",
      "764535  3570.0     0.013000  4307  9999  41.916667  134.333333         0   \n",
      "764536  3570.0     0.009000  4307  9999  41.916667  134.333333         0   \n",
      "\n",
      "        cs137_dl  k40_dl  pu238_dl  ...  sr90_dl  tl208_dl  ac228_unit  \\\n",
      "sample                              ...                                  \n",
      "755699         0       0         0  ...        0         0           0   \n",
      "755702         0       0         0  ...        2         0           0   \n",
      "755703         1       0         0  ...        0         0           0   \n",
      "755704         0       0         1  ...        0         0           0   \n",
      "755705         0       0         0  ...        0         0           0   \n",
      "757500         0       0         0  ...        4         0           0   \n",
      "757501         1       0         0  ...        0         0           0   \n",
      "757502         0       0         2  ...        0         0           0   \n",
      "757503         0       0         0  ...        0         0           0   \n",
      "757754         0       0         0  ...        2         0           0   \n",
      "757755         4       0         0  ...        0         0           0   \n",
      "757756         0       0         2  ...        0         0           0   \n",
      "757772         0       0         0  ...        2         0           0   \n",
      "757773         2       0         0  ...        0         0           0   \n",
      "757774         0       0         2  ...        0         0           0   \n",
      "757775         0       0         0  ...        0         0           0   \n",
      "757806         0       0         0  ...        1         0           0   \n",
      "757807         1       0         0  ...        0         0           0   \n",
      "757808         0       0         2  ...        0         0           0   \n",
      "757809         0       0         0  ...        0         0           0   \n",
      "757810         2       0         0  ...        0         0           0   \n",
      "757811         0       1         0  ...        0         0           0   \n",
      "757812         0       0         0  ...        0         0           0   \n",
      "757813         0       0         0  ...        0         0           4   \n",
      "757814         0       0         0  ...        0         0           0   \n",
      "757815         0       0         0  ...        0         1           0   \n",
      "757816         0       0         0  ...        2         0           0   \n",
      "757817         2       0         0  ...        0         0           0   \n",
      "757818         0       0         2  ...        0         0           0   \n",
      "757819         0       0         0  ...        0         0           0   \n",
      "757820         0       0         0  ...        2         0           0   \n",
      "757821         4       0         0  ...        0         0           0   \n",
      "757822         0       0         2  ...        0         0           0   \n",
      "757823         0       0         0  ...        0         0           0   \n",
      "757824         0       0         0  ...        4         0           0   \n",
      "757825         2       0         0  ...        0         0           0   \n",
      "757826         0       0         2  ...        0         0           0   \n",
      "757827         0       0         0  ...        0         0           0   \n",
      "757828         0       0         0  ...        2         0           0   \n",
      "757829         4       0         0  ...        0         0           0   \n",
      "757830         0       0         2  ...        0         0           0   \n",
      "757831         0       0         0  ...        0         0           0   \n",
      "757832         0       0         0  ...        2         0           0   \n",
      "757833         2       0         0  ...        0         0           0   \n",
      "757834         0       0         2  ...        0         0           0   \n",
      "757835         0       0         0  ...        0         0           0   \n",
      "757836         0       0         0  ...        2         0           0   \n",
      "757837         4       0         0  ...        0         0           0   \n",
      "757838         0       0         2  ...        0         0           0   \n",
      "757839         0       0         0  ...        0         0           0   \n",
      "757840         0       0         0  ...        4         0           0   \n",
      "757841         1       0         0  ...        0         0           0   \n",
      "757842         0       0         2  ...        0         0           0   \n",
      "757843         0       0         0  ...        0         0           0   \n",
      "757844         0       0         0  ...        0         0           0   \n",
      "757845         0       0         0  ...        2         0           0   \n",
      "757846         2       0         0  ...        0         0           0   \n",
      "757847         0       0         2  ...        0         0           0   \n",
      "757848         0       0         0  ...        0         0           0   \n",
      "757849         0       0         0  ...        2         0           0   \n",
      "757850         4       0         0  ...        0         0           0   \n",
      "757851         0       0         2  ...        0         0           0   \n",
      "757852         0       0         0  ...        0         0           0   \n",
      "757853         0       0         0  ...        4         0           0   \n",
      "764514         1       0         0  ...        0         0           0   \n",
      "764515         0       0         2  ...        0         0           0   \n",
      "764516         0       0         0  ...        1         0           0   \n",
      "764517         1       0         0  ...        0         0           0   \n",
      "764518         0       0         1  ...        0         0           0   \n",
      "764519         0       0         0  ...        0         0           0   \n",
      "764527         0       0         0  ...        1         0           0   \n",
      "764528         1       0         0  ...        0         0           0   \n",
      "764529         0       0         1  ...        0         0           0   \n",
      "764530         0       0         0  ...        0         0           0   \n",
      "764533         0       0         0  ...        2         0           0   \n",
      "764534         2       0         0  ...        0         0           0   \n",
      "764535         0       0         2  ...        0         0           0   \n",
      "764536         0       0         0  ...        0         0           0   \n",
      "\n",
      "        cs137_unit  k40_unit  pu238_unit  pu239_240_tot_unit  ra226_unit  \\\n",
      "sample                                                                     \n",
      "755699           0         0           0                   4           0   \n",
      "755702           0         0           0                   0           0   \n",
      "755703           4         0           0                   0           0   \n",
      "755704           0         0           4                   0           0   \n",
      "755705           0         0           0                   4           0   \n",
      "757500           0         0           0                   0           0   \n",
      "757501           4         0           0                   0           0   \n",
      "757502           0         0           4                   0           0   \n",
      "757503           0         0           0                   4           0   \n",
      "757754           0         0           0                   0           0   \n",
      "757755           4         0           0                   0           0   \n",
      "757756           0         0           4                   0           0   \n",
      "757772           0         0           0                   0           0   \n",
      "757773           4         0           0                   0           0   \n",
      "757774           0         0           4                   0           0   \n",
      "757775           0         0           0                   4           0   \n",
      "757806           0         0           0                   0           0   \n",
      "757807           4         0           0                   0           0   \n",
      "757808           0         0           4                   0           0   \n",
      "757809           0         0           0                   4           0   \n",
      "757810           4         0           0                   0           0   \n",
      "757811           0         4           0                   0           0   \n",
      "757812           0         0           0                   0           4   \n",
      "757813           0         0           0                   0           0   \n",
      "757814           0         0           0                   4           0   \n",
      "757815           0         0           0                   0           0   \n",
      "757816           0         0           0                   0           0   \n",
      "757817           4         0           0                   0           0   \n",
      "757818           0         0           4                   0           0   \n",
      "757819           0         0           0                   4           0   \n",
      "757820           0         0           0                   0           0   \n",
      "757821           4         0           0                   0           0   \n",
      "757822           0         0           4                   0           0   \n",
      "757823           0         0           0                   4           0   \n",
      "757824           0         0           0                   0           0   \n",
      "757825           4         0           0                   0           0   \n",
      "757826           0         0           4                   0           0   \n",
      "757827           0         0           0                   4           0   \n",
      "757828           0         0           0                   0           0   \n",
      "757829           4         0           0                   0           0   \n",
      "757830           0         0           4                   0           0   \n",
      "757831           0         0           0                   4           0   \n",
      "757832           0         0           0                   0           0   \n",
      "757833           4         0           0                   0           0   \n",
      "757834           0         0           4                   0           0   \n",
      "757835           0         0           0                   4           0   \n",
      "757836           0         0           0                   0           0   \n",
      "757837           4         0           0                   0           0   \n",
      "757838           0         0           4                   0           0   \n",
      "757839           0         0           0                   4           0   \n",
      "757840           0         0           0                   0           0   \n",
      "757841           4         0           0                   0           0   \n",
      "757842           0         0           4                   0           0   \n",
      "757843           0         0           0                   4           0   \n",
      "757844           0         0           0                   4           0   \n",
      "757845           0         0           0                   0           0   \n",
      "757846           4         0           0                   0           0   \n",
      "757847           0         0           4                   0           0   \n",
      "757848           0         0           0                   4           0   \n",
      "757849           0         0           0                   0           0   \n",
      "757850           4         0           0                   0           0   \n",
      "757851           0         0           4                   0           0   \n",
      "757852           0         0           0                   4           0   \n",
      "757853           0         0           0                   0           0   \n",
      "764514           4         0           0                   0           0   \n",
      "764515           0         0           4                   0           0   \n",
      "764516           0         0           0                   0           0   \n",
      "764517           4         0           0                   0           0   \n",
      "764518           0         0           4                   0           0   \n",
      "764519           0         0           0                   4           0   \n",
      "764527           0         0           0                   0           0   \n",
      "764528           4         0           0                   0           0   \n",
      "764529           0         0           4                   0           0   \n",
      "764530           0         0           0                   4           0   \n",
      "764533           0         0           0                   0           0   \n",
      "764534           4         0           0                   0           0   \n",
      "764535           0         0           4                   0           0   \n",
      "764536           0         0           0                   4           0   \n",
      "\n",
      "        sr90_unit  tl208_unit  \n",
      "sample                         \n",
      "755699          0           0  \n",
      "755702          4           0  \n",
      "755703          0           0  \n",
      "755704          0           0  \n",
      "755705          0           0  \n",
      "757500          4           0  \n",
      "757501          0           0  \n",
      "757502          0           0  \n",
      "757503          0           0  \n",
      "757754          4           0  \n",
      "757755          0           0  \n",
      "757756          0           0  \n",
      "757772          4           0  \n",
      "757773          0           0  \n",
      "757774          0           0  \n",
      "757775          0           0  \n",
      "757806          4           0  \n",
      "757807          0           0  \n",
      "757808          0           0  \n",
      "757809          0           0  \n",
      "757810          0           0  \n",
      "757811          0           0  \n",
      "757812          0           0  \n",
      "757813          0           0  \n",
      "757814          0           0  \n",
      "757815          0           4  \n",
      "757816          4           0  \n",
      "757817          0           0  \n",
      "757818          0           0  \n",
      "757819          0           0  \n",
      "757820          4           0  \n",
      "757821          0           0  \n",
      "757822          0           0  \n",
      "757823          0           0  \n",
      "757824          4           0  \n",
      "757825          0           0  \n",
      "757826          0           0  \n",
      "757827          0           0  \n",
      "757828          4           0  \n",
      "757829          0           0  \n",
      "757830          0           0  \n",
      "757831          0           0  \n",
      "757832          4           0  \n",
      "757833          0           0  \n",
      "757834          0           0  \n",
      "757835          0           0  \n",
      "757836          4           0  \n",
      "757837          0           0  \n",
      "757838          0           0  \n",
      "757839          0           0  \n",
      "757840          4           0  \n",
      "757841          0           0  \n",
      "757842          0           0  \n",
      "757843          0           0  \n",
      "757844          0           0  \n",
      "757845          4           0  \n",
      "757846          0           0  \n",
      "757847          0           0  \n",
      "757848          0           0  \n",
      "757849          4           0  \n",
      "757850          0           0  \n",
      "757851          0           0  \n",
      "757852          0           0  \n",
      "757853          4           0  \n",
      "764514          0           0  \n",
      "764515          0           0  \n",
      "764516          4           0  \n",
      "764517          0           0  \n",
      "764518          0           0  \n",
      "764519          0           0  \n",
      "764527          4           0  \n",
      "764528          0           0  \n",
      "764529          0           0  \n",
      "764530          0           0  \n",
      "764533          4           0  \n",
      "764534          0           0  \n",
      "764535          0           0  \n",
      "764536          0           0  \n",
      "\n",
      "[78 rows x 22 columns]\n"
     ]
    }
   ],
   "source": [
    "dfs = load_data(df, ref_id)\n",
    "tfm = Transformer(dfs, cbs=[\n",
    "    RemapRdnNameCB(),\n",
    "    RenameColumnCB(),\n",
    "    DropNAColumnsCB(),\n",
    "    SanitizeDetectionLimitCB(),\n",
    "    ReshapeLongToWide(),\n",
    "    EncodeTimeCB()\n",
    "    ])\n",
    "\n",
    "print(tfm()['sediment'])"
   ]
  },
  {
   "cell_type": "markdown",
   "id": "bd91144a",
   "metadata": {},
   "source": [
    "### Sanitize coordinates"
   ]
  },
  {
   "cell_type": "code",
   "execution_count": null,
   "id": "80141e2a",
   "metadata": {},
   "outputs": [],
   "source": [
    "dfs = load_data(df, ref_id)\n",
    "tfm = Transformer(dfs, cbs=[\n",
    "    RemapRdnNameCB(),\n",
    "    RenameColumnCB(),\n",
    "    DropNAColumnsCB(),\n",
    "    SanitizeDetectionLimitCB(),\n",
    "    ReshapeLongToWide(),\n",
    "    EncodeTimeCB(),\n",
    "    SanitizeLonLatCB()\n",
    "    ])\n",
    "\n",
    "# print(tfm()['sediment'])\n",
    "df_debug = tfm()['sediment']"
   ]
  },
  {
   "cell_type": "code",
   "execution_count": null,
   "id": "6fb002bc",
   "metadata": {},
   "outputs": [],
   "source": [
    "# pu239_240_tot_dl"
   ]
  },
  {
   "cell_type": "code",
   "execution_count": null,
   "id": "01dba442",
   "metadata": {},
   "outputs": [
    {
     "data": {
      "text/plain": [
       "array([1, 0, 0, 0, 1, 0, 0, 0, 1, 0, 0, 0, 0, 0, 0, 1, 0, 0, 0, 1, 0, 0,\n",
       "       0, 0, 1, 0, 0, 0, 0, 1, 0, 0, 0, 1, 0, 0, 0, 1, 0, 0, 0, 1, 0, 0,\n",
       "       0, 1, 0, 0, 0, 1, 0, 0, 0, 1, 1, 0, 0, 0, 1, 0, 0, 0, 1, 0, 0, 0,\n",
       "       0, 0, 0, 1, 0, 0, 0, 1, 0, 0, 0, 1])"
      ]
     },
     "execution_count": null,
     "metadata": {},
     "output_type": "execute_result"
    }
   ],
   "source": [
    "df_debug.pu239_240_tot_dl.values"
   ]
  },
  {
   "cell_type": "markdown",
   "id": "709b6999",
   "metadata": {},
   "source": [
    "## Encode to NetCDF"
   ]
  },
  {
   "cell_type": "code",
   "execution_count": null,
   "id": "c55f5ef3",
   "metadata": {},
   "outputs": [],
   "source": [
    "dfs = load_data(df, ref_id)\n",
    "tfm = Transformer(dfs, cbs=[\n",
    "    RemapRdnNameCB(),\n",
    "    RenameColumnCB(),\n",
    "    DropNAColumnsCB(),\n",
    "    SanitizeDetectionLimitCB(),\n",
    "    ReshapeLongToWide(),\n",
    "    EncodeTimeCB(),\n",
    "    SanitizeLonLatCB()\n",
    "    ])\n",
    "\n",
    "dfs_tfm = tfm()"
   ]
  },
  {
   "cell_type": "code",
   "execution_count": null,
   "id": "640925a3",
   "metadata": {},
   "outputs": [
    {
     "data": {
      "text/plain": [
       "['Remap to MARIS radionuclide names.',\n",
       " 'Renaming variables to MARIS standard names.',\n",
       " \"Drop variable containing only NaN or 'Not available' (id=0 in MARIS lookup tables).\",\n",
       " 'Assign Detection Limit name to its id based on MARIS nomenclature.',\n",
       " 'Convert data from long to wide with renamed columns.',\n",
       " 'Encode time as `int` representing seconds since xxx (TBD).',\n",
       " 'Drop row when both longitude & latitude equal 0.']"
      ]
     },
     "execution_count": null,
     "metadata": {},
     "output_type": "execute_result"
    }
   ],
   "source": [
    "tfm.logs"
   ]
  },
  {
   "cell_type": "code",
   "execution_count": null,
   "id": "f98fd736",
   "metadata": {},
   "outputs": [],
   "source": [
    "#| export\n",
    "kw = ['oceanography', 'Earth Science > Oceans > Ocean Chemistry> Radionuclides',\n",
    "      'Earth Science > Human Dimensions > Environmental Impacts > Nuclear Radiation Exposure',\n",
    "      'Earth Science > Oceans > Ocean Chemistry > Ocean Tracers, Earth Science > Oceans > Marine Sediments',\n",
    "      'Earth Science > Oceans > Ocean Chemistry, Earth Science > Oceans > Sea Ice > Isotopes',\n",
    "      'Earth Science > Oceans > Water Quality > Ocean Contaminants',\n",
    "      'Earth Science > Biological Classification > Animals/Vertebrates > Fish',\n",
    "      'Earth Science > Biosphere > Ecosystems > Marine Ecosystems',\n",
    "      'Earth Science > Biological Classification > Animals/Invertebrates > Mollusks',\n",
    "      'Earth Science > Biological Classification > Animals/Invertebrates > Arthropods > Crustaceans',\n",
    "      'Earth Science > Biological Classification > Plants > Macroalgae (Seaweeds)']"
   ]
  },
  {
   "cell_type": "code",
   "execution_count": null,
   "id": "ca5357b7",
   "metadata": {},
   "outputs": [],
   "source": [
    "#| export\n",
    "def get_attrs(tfm, zotero_key='26VMZZ2Q', kw=kw):\n",
    "    return GlobAttrsFeeder(tfm.dfs, cbs=[\n",
    "        BboxCB(),\n",
    "        DepthRangeCB(),\n",
    "        TimeRangeCB(cfg()),\n",
    "        ZoteroCB(zotero_key, cfg=cfg()),\n",
    "        KeyValuePairCB('keywords', ', '.join(kw)),\n",
    "        KeyValuePairCB('publisher_postprocess_logs', ', '.join(tfm.logs))\n",
    "        ])()"
   ]
  },
  {
   "cell_type": "code",
   "execution_count": null,
   "id": "6385d9e3",
   "metadata": {},
   "outputs": [
    {
     "data": {
      "text/plain": [
       "{'geospatial_lat_min': '134.9513889',\n",
       " 'geospatial_lat_max': '42.31666667',\n",
       " 'geospatial_lon_min': '132.0',\n",
       " 'geospatial_lon_max': '38.00194444',\n",
       " 'geospatial_bounds': 'POLYGON ((132 38.00194444, 134.9513889 38.00194444, 134.9513889 42.31666667, 132 42.31666667, 132 38.00194444))',\n",
       " 'geospatial_vertical_max': '0',\n",
       " 'geospatial_vertical_min': '-3570.0',\n",
       " 'time_coverage_start': '1970-01-01T02:46:39',\n",
       " 'time_coverage_end': '1970-01-01T02:46:39',\n",
       " 'title': 'Radioactivity Monitoring of the Irish Marine Environment 1991 and 1992',\n",
       " 'summary': '',\n",
       " 'creator_name': '[{\"creatorType\": \"author\", \"firstName\": \"A.\", \"lastName\": \"McGarry\"}, {\"creatorType\": \"author\", \"firstName\": \"S.\", \"lastName\": \"Lyons\"}, {\"creatorType\": \"author\", \"firstName\": \"C.\", \"lastName\": \"McEnri\"}, {\"creatorType\": \"author\", \"firstName\": \"T.\", \"lastName\": \"Ryan\"}, {\"creatorType\": \"author\", \"firstName\": \"M.\", \"lastName\": \"O\\'Colmain\"}, {\"creatorType\": \"author\", \"firstName\": \"J.D.\", \"lastName\": \"Cunningham\"}]',\n",
       " 'keywords': 'oceanography, Earth Science > Oceans > Ocean Chemistry> Radionuclides, Earth Science > Human Dimensions > Environmental Impacts > Nuclear Radiation Exposure, Earth Science > Oceans > Ocean Chemistry > Ocean Tracers, Earth Science > Oceans > Marine Sediments, Earth Science > Oceans > Ocean Chemistry, Earth Science > Oceans > Sea Ice > Isotopes, Earth Science > Oceans > Water Quality > Ocean Contaminants, Earth Science > Biological Classification > Animals/Vertebrates > Fish, Earth Science > Biosphere > Ecosystems > Marine Ecosystems, Earth Science > Biological Classification > Animals/Invertebrates > Mollusks, Earth Science > Biological Classification > Animals/Invertebrates > Arthropods > Crustaceans, Earth Science > Biological Classification > Plants > Macroalgae (Seaweeds)',\n",
       " 'publisher_postprocess_logs': \"Remap to MARIS radionuclide names., Renaming variables to MARIS standard names., Drop variable containing only NaN or 'Not available' (id=0 in MARIS lookup tables)., Assign Detection Limit name to its id based on MARIS nomenclature., Convert data from long to wide with renamed columns., Encode time as `int` representing seconds since xxx (TBD)., Drop row when both longitude & latitude equal 0.\"}"
      ]
     },
     "execution_count": null,
     "metadata": {},
     "output_type": "execute_result"
    }
   ],
   "source": [
    "get_attrs(tfm, zotero_key='3W354SQG', kw=kw)"
   ]
  },
  {
   "cell_type": "code",
   "execution_count": null,
   "id": "63419143",
   "metadata": {},
   "outputs": [],
   "source": [
    "#| export\n",
    "def encode(fname_in, fname_out, nc_tpl_path, **kwargs):\n",
    "    df = load_dump(fname_in)\n",
    "    ref_ids = kwargs.get('ref_ids', df.ref_id.unique())\n",
    "    print('Encoding ...')\n",
    "    # for ref_id in ref_ids:\n",
    "    for ref_id in tqdm(ref_ids, leave=False):\n",
    "        dfs = load_data(df, ref_id)\n",
    "        print(get_fname(dfs))\n",
    "        # print(get_fname(dfs))    \n",
    "        tfm = Transformer(dfs, cbs=[\n",
    "            RemapRdnNameCB(),\n",
    "            RenameColumnCB(),\n",
    "            DropNAColumnsCB(),\n",
    "            SanitizeDetectionLimitCB(),\n",
    "            ReshapeLongToWide(),\n",
    "            EncodeTimeCB(),\n",
    "            SanitizeLonLatCB()\n",
    "            ])\n",
    "        \n",
    "        # species_lut = get_maris_species(fname_in, 'species_helcom.pkl')\n",
    "        # enums_xtra = {\n",
    "        #     'species_t': {info['name']: info['id'] \n",
    "        #                   for info in species_lut.values() if info['name'] != ''}\n",
    "        # }\n",
    "        encoder = NetCDFEncoder(tfm(), \n",
    "                                src_fname=nc_tpl_path,\n",
    "                                dest_fname=Path(fname_out) / get_fname(dfs), \n",
    "                                global_attrs=get_attrs(tfm, zotero_key=get_zotero_key(dfs), kw=kw),\n",
    "                                verbose=kwargs.get('verbose', False)\n",
    "                                # enums_xtra=enums_xtra\n",
    "                                )\n",
    "        encoder.encode()"
   ]
  },
  {
   "cell_type": "code",
   "execution_count": null,
   "id": "26bd157d",
   "metadata": {},
   "outputs": [
    {
     "name": "stdout",
     "output_type": "stream",
     "text": [
      "Encoding ...\n",
      "52-Amano-et-al-1996.nc\n",
      "Group: biota, Variable: sample\n",
      "Group: biota, Variable: lon\n",
      "Group: biota, Variable: lat\n",
      "Group: biota, Variable: time\n",
      "Group: biota, Variable: area\n",
      "Group: biota, Variable: bio_group\n",
      "Group: biota, Variable: species\n",
      "Group: biota, Variable: sr90_dl\n",
      "Group: biota, Variable: sr90_unit\n",
      "Group: biota, Variable: cs137_dl\n",
      "Group: biota, Variable: cs137_unit\n",
      "Group: biota, Variable: pu238_dl\n",
      "Group: biota, Variable: pu238_unit\n",
      "Group: biota, Variable: pu239_240_tot_dl\n",
      "Group: biota, Variable: pu239_240_tot_unit\n",
      "Group: seawater, Variable: sample\n",
      "Group: seawater, Variable: lon\n",
      "Group: seawater, Variable: lat\n",
      "Group: seawater, Variable: depth\n",
      "Group: seawater, Variable: time\n",
      "Group: seawater, Variable: area\n",
      "Group: seawater, Variable: sr90_dl\n",
      "Group: seawater, Variable: sr90_unit\n",
      "Group: seawater, Variable: cs137_dl\n",
      "Group: seawater, Variable: cs137_unit\n",
      "Group: seawater, Variable: pu239_240_tot_dl\n",
      "Group: seawater, Variable: pu239_240_tot_unit\n",
      "Group: sediment, Variable: sample\n",
      "Group: sediment, Variable: lon\n",
      "Group: sediment, Variable: lat\n",
      "Group: sediment, Variable: depth\n",
      "Group: sediment, Variable: time\n",
      "Group: sediment, Variable: area\n",
      "Group: sediment, Variable: k40_dl\n",
      "Group: sediment, Variable: k40_unit\n",
      "Group: sediment, Variable: sr90_dl\n",
      "Group: sediment, Variable: sr90_unit\n",
      "Group: sediment, Variable: cs137_dl\n",
      "Group: sediment, Variable: cs137_unit\n",
      "Group: sediment, Variable: ra226_dl\n",
      "Group: sediment, Variable: ra226_unit\n",
      "Group: sediment, Variable: ac228_dl\n",
      "Group: sediment, Variable: ac228_unit\n",
      "Group: sediment, Variable: pu238_dl\n",
      "Group: sediment, Variable: pu238_unit\n",
      "Group: sediment, Variable: pu239_240_tot_dl\n",
      "Group: sediment, Variable: pu239_240_tot_unit\n",
      "Group: sediment, Variable: tl208_dl\n",
      "Group: sediment, Variable: tl208_unit\n",
      "Group: suspended-matter, Variable: sample\n",
      "Group: suspended-matter, Variable: lon\n",
      "Group: suspended-matter, Variable: lat\n",
      "Group: suspended-matter, Variable: depth\n",
      "Group: suspended-matter, Variable: time\n",
      "Group: suspended-matter, Variable: area\n",
      "Group: suspended-matter, Variable: cs137_unc\n",
      "Group: suspended-matter, Variable: cs137_dl\n",
      "Group: suspended-matter, Variable: cs137_unit\n",
      "Group: suspended-matter, Variable: pu239_240_tot_unc\n",
      "Group: suspended-matter, Variable: pu239_240_tot_dl\n",
      "Group: suspended-matter, Variable: pu239_240_tot_unit\n"
     ]
    }
   ],
   "source": [
    "encode(fname_in, dir_dest, nc_tpl_path(), verbose=False, ref_ids=[ref_id])"
   ]
  },
  {
   "cell_type": "code",
   "execution_count": null,
   "id": "c13a3f6f",
   "metadata": {},
   "outputs": [
    {
     "name": "stdout",
     "output_type": "stream",
     "text": [
      "Encoding ...\n"
     ]
    },
    {
     "name": "stderr",
     "output_type": "stream",
     "text": [
      "  0%|          | 0/460 [00:00<?, ?it/s]"
     ]
    },
    {
     "name": "stdout",
     "output_type": "stream",
     "text": [
      "402-CCHDO-2018.nc\n"
     ]
    },
    {
     "name": "stderr",
     "output_type": "stream",
     "text": [
      "  0%|          | 1/460 [00:03<26:57,  3.52s/it]"
     ]
    },
    {
     "name": "stdout",
     "output_type": "stream",
     "text": [
      "374-Ístlund-et-al-1987.nc\n"
     ]
    },
    {
     "name": "stderr",
     "output_type": "stream",
     "text": [
      "  0%|          | 2/460 [00:07<28:12,  3.70s/it]"
     ]
    },
    {
     "name": "stdout",
     "output_type": "stream",
     "text": [
      "401-Olsen-et-al-2016.nc\n"
     ]
    },
    {
     "name": "stderr",
     "output_type": "stream",
     "text": [
      "  1%|          | 3/460 [00:09<22:13,  2.92s/it]"
     ]
    },
    {
     "name": "stdout",
     "output_type": "stream",
     "text": [
      "16-Cherry-and-Heyraud-1981.nc\n"
     ]
    },
    {
     "name": "stderr",
     "output_type": "stream",
     "text": [
      "  1%|          | 4/460 [00:11<18:34,  2.45s/it]"
     ]
    },
    {
     "name": "stdout",
     "output_type": "stream",
     "text": [
      "30-Ístlund-and-Grall-1991.nc\n"
     ]
    },
    {
     "name": "stderr",
     "output_type": "stream",
     "text": [
      "  1%|          | 5/460 [00:13<17:29,  2.31s/it]"
     ]
    },
    {
     "name": "stdout",
     "output_type": "stream",
     "text": [
      "323-Johansen-et-al-2019.nc\n"
     ]
    },
    {
     "name": "stderr",
     "output_type": "stream",
     "text": [
      "  1%|▏         | 6/460 [00:15<16:25,  2.17s/it]"
     ]
    },
    {
     "name": "stdout",
     "output_type": "stream",
     "text": [
      "18-Cherry-and-Heyraud-1982.nc\n"
     ]
    },
    {
     "name": "stderr",
     "output_type": "stream",
     "text": [
      "  2%|▏         | 7/460 [00:16<15:09,  2.01s/it]"
     ]
    },
    {
     "name": "stdout",
     "output_type": "stream",
     "text": [
      "226-Sdraulig-2018.nc\n"
     ]
    },
    {
     "name": "stderr",
     "output_type": "stream",
     "text": [
      "  2%|▏         | 8/460 [00:18<15:03,  2.00s/it]"
     ]
    },
    {
     "name": "stdout",
     "output_type": "stream",
     "text": [
      "395-Bailly-du-Bois-et-al-2020.nc\n"
     ]
    },
    {
     "name": "stderr",
     "output_type": "stream",
     "text": [
      "  2%|▏         | 9/460 [00:27<31:38,  4.21s/it]"
     ]
    },
    {
     "name": "stdout",
     "output_type": "stream",
     "text": [
      "400-Boyer-et-al-2013.nc\n"
     ]
    },
    {
     "name": "stderr",
     "output_type": "stream",
     "text": [
      "  2%|▏         | 10/460 [00:29<26:56,  3.59s/it]"
     ]
    },
    {
     "name": "stdout",
     "output_type": "stream",
     "text": [
      "97-ASPAMARD-2004.nc\n"
     ]
    },
    {
     "name": "stderr",
     "output_type": "stream",
     "text": [
      "  2%|▏         | 11/460 [00:31<23:05,  3.09s/it]"
     ]
    },
    {
     "name": "stdout",
     "output_type": "stream",
     "text": [
      "99-Aoyama-and-Hirose-2004.nc\n"
     ]
    },
    {
     "name": "stderr",
     "output_type": "stream",
     "text": [
      "  3%|▎         | 12/460 [00:36<25:34,  3.43s/it]"
     ]
    },
    {
     "name": "stdout",
     "output_type": "stream",
     "text": [
      "358-Kall-et-al-2014.nc\n"
     ]
    },
    {
     "name": "stderr",
     "output_type": "stream",
     "text": [
      "  3%|▎         | 13/460 [00:37<21:31,  2.89s/it]"
     ]
    },
    {
     "name": "stdout",
     "output_type": "stream",
     "text": [
      "568-Johansen-2020.nc\n"
     ]
    },
    {
     "name": "stderr",
     "output_type": "stream",
     "text": [
      "  3%|▎         | 14/460 [00:40<20:41,  2.78s/it]"
     ]
    },
    {
     "name": "stdout",
     "output_type": "stream",
     "text": [
      "443-Heyraud-et-al-1994.nc\n"
     ]
    },
    {
     "name": "stderr",
     "output_type": "stream",
     "text": [
      "  3%|▎         | 15/460 [00:41<18:06,  2.44s/it]"
     ]
    },
    {
     "name": "stdout",
     "output_type": "stream",
     "text": [
      "508-Lee-et-al-2018.nc\n"
     ]
    },
    {
     "name": "stderr",
     "output_type": "stream",
     "text": [
      "  3%|▎         | 16/460 [00:43<16:24,  2.22s/it]"
     ]
    },
    {
     "name": "stdout",
     "output_type": "stream",
     "text": [
      "509-Johansen-et-al-2015.nc\n"
     ]
    },
    {
     "name": "stderr",
     "output_type": "stream",
     "text": [
      "  4%|▎         | 17/460 [00:45<16:37,  2.25s/it]"
     ]
    },
    {
     "name": "stdout",
     "output_type": "stream",
     "text": [
      "106-Yamada-et-al-2006.nc\n"
     ]
    },
    {
     "name": "stderr",
     "output_type": "stream",
     "text": [
      "  4%|▍         | 18/460 [00:47<15:21,  2.08s/it]"
     ]
    },
    {
     "name": "stdout",
     "output_type": "stream",
     "text": [
      "182-Urban-et-al-2015.nc\n"
     ]
    },
    {
     "name": "stderr",
     "output_type": "stream",
     "text": [
      "  4%|▍         | 19/460 [00:49<15:02,  2.05s/it]"
     ]
    },
    {
     "name": "stdout",
     "output_type": "stream",
     "text": [
      "183-Bokor-et-al-2016.nc\n"
     ]
    },
    {
     "name": "stderr",
     "output_type": "stream",
     "text": [
      "  4%|▍         | 20/460 [00:51<14:21,  1.96s/it]"
     ]
    },
    {
     "name": "stdout",
     "output_type": "stream",
     "text": [
      "685-Chamizo-et-al-2021.nc\n"
     ]
    },
    {
     "name": "stderr",
     "output_type": "stream",
     "text": [
      "  5%|▍         | 21/460 [00:53<13:37,  1.86s/it]"
     ]
    },
    {
     "name": "stdout",
     "output_type": "stream",
     "text": [
      "477-Valette-Silver-et-al-1999.nc\n"
     ]
    },
    {
     "name": "stderr",
     "output_type": "stream",
     "text": [
      "  5%|▍         | 22/460 [00:54<13:32,  1.86s/it]"
     ]
    },
    {
     "name": "stdout",
     "output_type": "stream",
     "text": [
      "380-Smith-et-al-2020.nc\n"
     ]
    },
    {
     "name": "stderr",
     "output_type": "stream",
     "text": [
      "  5%|▌         | 23/460 [00:56<13:09,  1.81s/it]"
     ]
    },
    {
     "name": "stdout",
     "output_type": "stream",
     "text": [
      "432-Efurd-et-al-1997.nc\n"
     ]
    },
    {
     "name": "stderr",
     "output_type": "stream",
     "text": [
      "  5%|▌         | 23/460 [00:57<18:15,  2.51s/it]\n"
     ]
    },
    {
     "ename": "KeyboardInterrupt",
     "evalue": "",
     "output_type": "error",
     "traceback": [
      "\u001b[0;31m---------------------------------------------------------------------------\u001b[0m",
      "\u001b[0;31mKeyboardInterrupt\u001b[0m                         Traceback (most recent call last)",
      "Cell \u001b[0;32mIn [557], line 1\u001b[0m\n\u001b[0;32m----> 1\u001b[0m \u001b[43mencode\u001b[49m\u001b[43m(\u001b[49m\u001b[43mfname_in\u001b[49m\u001b[43m,\u001b[49m\u001b[43m \u001b[49m\u001b[43mdir_dest\u001b[49m\u001b[43m,\u001b[49m\u001b[43m \u001b[49m\u001b[43mnc_tpl_path\u001b[49m\u001b[43m(\u001b[49m\u001b[43m)\u001b[49m\u001b[43m,\u001b[49m\u001b[43m \u001b[49m\u001b[43mverbose\u001b[49m\u001b[38;5;241;43m=\u001b[39;49m\u001b[38;5;28;43;01mFalse\u001b[39;49;00m\u001b[43m)\u001b[49m\n",
      "Cell \u001b[0;32mIn [556], line 33\u001b[0m, in \u001b[0;36mencode\u001b[0;34m(fname_in, fname_out, nc_tpl_path, **kwargs)\u001b[0m\n\u001b[1;32m     21\u001b[0m \u001b[38;5;66;03m# species_lut = get_maris_species(fname_in, 'species_helcom.pkl')\u001b[39;00m\n\u001b[1;32m     22\u001b[0m \u001b[38;5;66;03m# enums_xtra = {\u001b[39;00m\n\u001b[1;32m     23\u001b[0m \u001b[38;5;66;03m#     'species_t': {info['name']: info['id'] \u001b[39;00m\n\u001b[1;32m     24\u001b[0m \u001b[38;5;66;03m#                   for info in species_lut.values() if info['name'] != ''}\u001b[39;00m\n\u001b[1;32m     25\u001b[0m \u001b[38;5;66;03m# }\u001b[39;00m\n\u001b[1;32m     26\u001b[0m encoder \u001b[38;5;241m=\u001b[39m NetCDFEncoder(tfm(), \n\u001b[1;32m     27\u001b[0m                         src_fname\u001b[38;5;241m=\u001b[39mnc_tpl_path,\n\u001b[1;32m     28\u001b[0m                         dest_fname\u001b[38;5;241m=\u001b[39mPath(fname_out) \u001b[38;5;241m/\u001b[39m get_fname(dfs), \n\u001b[0;32m   (...)\u001b[0m\n\u001b[1;32m     31\u001b[0m                         \u001b[38;5;66;03m# enums_xtra=enums_xtra\u001b[39;00m\n\u001b[1;32m     32\u001b[0m                         )\n\u001b[0;32m---> 33\u001b[0m \u001b[43mencoder\u001b[49m\u001b[38;5;241;43m.\u001b[39;49m\u001b[43mencode\u001b[49m\u001b[43m(\u001b[49m\u001b[43m)\u001b[49m\n",
      "File \u001b[0;32m~/pro/IAEA/MARIS/marisco/marisco/serializers.py:117\u001b[0m, in \u001b[0;36mencode\u001b[0;34m(self)\u001b[0m\n\u001b[1;32m    114\u001b[0m \u001b[38;5;129m@patch\u001b[39m\n\u001b[1;32m    115\u001b[0m \u001b[38;5;28;01mdef\u001b[39;00m \u001b[38;5;21mencode\u001b[39m(\u001b[38;5;28mself\u001b[39m:NetCDFEncoder):\n\u001b[1;32m    116\u001b[0m     \u001b[38;5;124m\"\u001b[39m\u001b[38;5;124mEncode MARIS NetCDF based on template and dataframes.\u001b[39m\u001b[38;5;124m\"\u001b[39m\n\u001b[0;32m--> 117\u001b[0m     \u001b[38;5;28;01mwith\u001b[39;00m \u001b[43mDataset\u001b[49m\u001b[43m(\u001b[49m\u001b[38;5;28;43mself\u001b[39;49m\u001b[38;5;241;43m.\u001b[39;49m\u001b[43msrc_fname\u001b[49m\u001b[43m,\u001b[49m\u001b[43m \u001b[49m\u001b[38;5;28;43mformat\u001b[39;49m\u001b[38;5;241;43m=\u001b[39;49m\u001b[38;5;124;43m'\u001b[39;49m\u001b[38;5;124;43mNETCDF4\u001b[39;49m\u001b[38;5;124;43m'\u001b[39;49m\u001b[43m)\u001b[49m \u001b[38;5;28;01mas\u001b[39;00m \u001b[38;5;28mself\u001b[39m\u001b[38;5;241m.\u001b[39msrc, Dataset(\u001b[38;5;28mself\u001b[39m\u001b[38;5;241m.\u001b[39mdest_fname, \u001b[38;5;124m'\u001b[39m\u001b[38;5;124mw\u001b[39m\u001b[38;5;124m'\u001b[39m, \u001b[38;5;28mformat\u001b[39m\u001b[38;5;241m=\u001b[39m\u001b[38;5;124m'\u001b[39m\u001b[38;5;124mNETCDF4\u001b[39m\u001b[38;5;124m'\u001b[39m) \u001b[38;5;28;01mas\u001b[39;00m \u001b[38;5;28mself\u001b[39m\u001b[38;5;241m.\u001b[39mdest:\n\u001b[1;32m    118\u001b[0m         \u001b[38;5;28mself\u001b[39m\u001b[38;5;241m.\u001b[39mcopy_global_attributes()\n\u001b[1;32m    119\u001b[0m         \u001b[38;5;28mself\u001b[39m\u001b[38;5;241m.\u001b[39mcopy_dimensions()\n",
      "File \u001b[0;32msrc/netCDF4/_netCDF4.pyx:2379\u001b[0m, in \u001b[0;36mnetCDF4._netCDF4.Dataset.__init__\u001b[0;34m()\u001b[0m\n",
      "File \u001b[0;32msrc/netCDF4/_netCDF4.pyx:1827\u001b[0m, in \u001b[0;36mnetCDF4._netCDF4._get_grps\u001b[0;34m()\u001b[0m\n",
      "File \u001b[0;32msrc/netCDF4/_netCDF4.pyx:3416\u001b[0m, in \u001b[0;36mnetCDF4._netCDF4.Group.__init__\u001b[0;34m()\u001b[0m\n",
      "File \u001b[0;32msrc/netCDF4/_netCDF4.pyx:1948\u001b[0m, in \u001b[0;36mgenexpr\u001b[0;34m()\u001b[0m\n",
      "File \u001b[0;32msrc/netCDF4/_netCDF4.pyx:1948\u001b[0m, in \u001b[0;36mgenexpr\u001b[0;34m()\u001b[0m\n",
      "File \u001b[0;32m~/mambaforge/envs/marisco/lib/python3.10/site-packages/netCDF4/utils.py:34\u001b[0m, in \u001b[0;36m_find_dim\u001b[0;34m(grp, dimname)\u001b[0m\n\u001b[1;32m     30\u001b[0m \u001b[38;5;28;01mdef\u001b[39;00m \u001b[38;5;21m_sortbylist\u001b[39m(A,B):\n\u001b[1;32m     31\u001b[0m     \u001b[38;5;66;03m# sort one list (A) using the values from another list (B)\u001b[39;00m\n\u001b[1;32m     32\u001b[0m     \u001b[38;5;28;01mreturn\u001b[39;00m [A[i] \u001b[38;5;28;01mfor\u001b[39;00m i \u001b[38;5;129;01min\u001b[39;00m \u001b[38;5;28msorted\u001b[39m(\u001b[38;5;28mrange\u001b[39m(\u001b[38;5;28mlen\u001b[39m(A)), key\u001b[38;5;241m=\u001b[39mB\u001b[38;5;241m.\u001b[39m\u001b[38;5;21m__getitem__\u001b[39m)]\n\u001b[0;32m---> 34\u001b[0m \u001b[38;5;28;01mdef\u001b[39;00m \u001b[38;5;21m_find_dim\u001b[39m(grp, dimname):\n\u001b[1;32m     35\u001b[0m     \u001b[38;5;66;03m# find Dimension instance given group and name.\u001b[39;00m\n\u001b[1;32m     36\u001b[0m     \u001b[38;5;66;03m# look in current group, and parents.\u001b[39;00m\n\u001b[1;32m     37\u001b[0m     group \u001b[38;5;241m=\u001b[39m grp\n\u001b[1;32m     38\u001b[0m     dim \u001b[38;5;241m=\u001b[39m \u001b[38;5;28;01mNone\u001b[39;00m\n",
      "\u001b[0;31mKeyboardInterrupt\u001b[0m: "
     ]
    }
   ],
   "source": [
    "encode(fname_in, dir_dest, nc_tpl_path(), verbose=False)"
   ]
  },
  {
   "cell_type": "code",
   "execution_count": null,
   "id": "c37f47cb",
   "metadata": {},
   "outputs": [],
   "source": []
  }
 ],
 "metadata": {
  "kernelspec": {
   "display_name": "Python 3 (ipykernel)",
   "language": "python",
   "name": "python3"
  }
 },
 "nbformat": 4,
 "nbformat_minor": 5
}

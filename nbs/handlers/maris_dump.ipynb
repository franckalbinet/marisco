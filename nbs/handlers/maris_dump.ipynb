{
 "cells": [
  {
   "cell_type": "code",
   "execution_count": null,
   "id": "bb60862d",
   "metadata": {},
   "outputs": [],
   "source": [
    "#| default_exp handlers.maris_dump"
   ]
  },
  {
   "attachments": {},
   "cell_type": "markdown",
   "id": "f263111a",
   "metadata": {},
   "source": [
    "# MARIS dump\n",
    "> Data pipeline (handler) to convert global MARIS db dump into `NetCDF` format\n",
    "\n",
    "The input data is a dump from already imported MARIS datasets.\n",
    "\n",
    "\n",
    "**Questions**:\n",
    "1. is `decayedto` used and in what context? (question to be answered for all columns actually)\n",
    "2. what are units of uncertainty?\n",
    "3. ref_id vs. zoterourl vs. displaytext\n",
    "   1.  e.g ref_id=129 and 130 points to the same dataset?\n",
    "\n",
    "**Dev. board**: https://trello.com/b/IszgV1bj/marisco"
   ]
  },
  {
   "attachments": {},
   "cell_type": "markdown",
   "id": "b92a5c33",
   "metadata": {},
   "source": [
    "## Packages import"
   ]
  },
  {
   "cell_type": "code",
   "execution_count": null,
   "id": "0db45fee",
   "metadata": {},
   "outputs": [],
   "source": [
    "%load_ext autoreload\n",
    "%autoreload 2"
   ]
  },
  {
   "cell_type": "code",
   "execution_count": null,
   "id": "3a8d979f",
   "metadata": {},
   "outputs": [],
   "source": [
    "#| export\n",
    "import pandas as pd\n",
    "from tqdm import tqdm\n",
    "from functools import partial\n",
    "import fastcore.all as fc\n",
    "\n",
    "from pathlib import Path\n",
    "\n",
    "from marisco.callbacks import (Callback, Transformer, SanitizeLonLatCB)\n",
    "from marisco.metadata import (GlobAttrsFeeder, BboxCB,\n",
    "                              DepthRangeCB, TimeRangeCB,\n",
    "                              ZoteroCB, KeyValuePairCB)\n",
    "from marisco.configs import lut_path, cdl_cfg, cfg\n"
   ]
  },
  {
   "cell_type": "code",
   "execution_count": null,
   "id": "51f2351f",
   "metadata": {},
   "outputs": [],
   "source": [
    "pd.set_option('display.max_rows', 100)"
   ]
  },
  {
   "cell_type": "code",
   "execution_count": null,
   "id": "d65ade1e",
   "metadata": {},
   "outputs": [],
   "source": [
    "import warnings\n",
    "warnings.filterwarnings('ignore')"
   ]
  },
  {
   "cell_type": "code",
   "execution_count": null,
   "id": "d02bf0a9",
   "metadata": {},
   "outputs": [],
   "source": [
    "fname_in = Path().home() / 'pro/data/maris/all-maris.txt'\n",
    "dir_dest = '../../_data/output/dump'\n",
    "# fname_out = '../../_data/output/helcom.nc'"
   ]
  },
  {
   "cell_type": "markdown",
   "id": "2f8ab222",
   "metadata": {},
   "source": [
    "## Utils"
   ]
  },
  {
   "cell_type": "code",
   "execution_count": null,
   "id": "de1bc0af",
   "metadata": {},
   "outputs": [],
   "source": [
    "# | export\n",
    "def load_dump(fname): \n",
    "    return pd.read_csv(fname, sep='\\t', encoding='ISO-8859-1')   \n",
    "\n",
    "def load_data(df:pd.DataFrame, # MARIS global dump \n",
    "                 ref_id:int, # Reference id of interest\n",
    "                 ):\n",
    "    \"Load specific MARIS dataset through its ref_id.\"\n",
    "    lut = {\n",
    "        'Sediment': 'sediment',\n",
    "        'Seawater': 'seawater',\n",
    "        'Suspended matter': 'suspended-matter',\n",
    "        'Biota': 'biota'}\n",
    "    dfs = {}\n",
    "    for name, grp in df[df.ref_id  == 695].groupby('samptype'):\n",
    "        dfs[lut[name]] = grp\n",
    "    return dfs\n",
    "\n",
    "def get_zotero_key(df, ref_id):\n",
    "    result = df[df.ref_id  == 695].zoterourl.unique()\n",
    "    if len(result) > 1: print('Several Zotero records have been found, please check!')\n",
    "    return result[0].split('/')[-1]"
   ]
  },
  {
   "cell_type": "markdown",
   "id": "db48f8fb",
   "metadata": {},
   "source": [
    "## Load data"
   ]
  },
  {
   "cell_type": "code",
   "execution_count": null,
   "id": "715e849d",
   "metadata": {},
   "outputs": [],
   "source": [
    "df = load_dump(fname_in)"
   ]
  },
  {
   "cell_type": "markdown",
   "id": "bf1a71c0",
   "metadata": {},
   "source": [
    "## Data transformation pipeline"
   ]
  },
  {
   "cell_type": "markdown",
   "id": "52e58b33",
   "metadata": {},
   "source": [
    "### Normalize nuclide names"
   ]
  },
  {
   "cell_type": "code",
   "execution_count": null,
   "id": "7029a8ff",
   "metadata": {},
   "outputs": [],
   "source": [
    "#| export\n",
    "def get_varnames_lut():\n",
    "    fname = lut_path() / 'dbo_nuclide.xlsx'\n",
    "    df_nuclide = pd.read_excel(fname, usecols=['nuclide_id', 'nc_name'])\n",
    "    return df_nuclide.set_index('nuclide_id').to_dict()['nc_name']"
   ]
  },
  {
   "cell_type": "code",
   "execution_count": null,
   "id": "78dbeba0",
   "metadata": {},
   "outputs": [],
   "source": [
    "# | export\n",
    "class RemapRdnNameCB(Callback):\n",
    "    \"Remap to MARIS radionuclide names.\"\n",
    "    def __init__(self,\n",
    "                 fn_lut=get_varnames_lut):\n",
    "        fc.store_attr()\n",
    "\n",
    "    def __call__(self, tfm):\n",
    "        lut = self.fn_lut()\n",
    "        for k in tfm.dfs.keys():\n",
    "            tfm.dfs[k]['nuclide_id'] = tfm.dfs[k]['nuclide_id'].replace(lut)"
   ]
  },
  {
   "cell_type": "code",
   "execution_count": null,
   "id": "92a45542",
   "metadata": {},
   "outputs": [
    {
     "name": "stdout",
     "output_type": "stream",
     "text": [
      "['i131' 'cs134' 'cs137' 'k40' 'am241' 'pu239_240_tot' 'pu238']\n"
     ]
    }
   ],
   "source": [
    "dfs = load_data(df, 52)\n",
    "tfm = Transformer(dfs, cbs=[RemapRdnNameCB()])\n",
    "\n",
    "print(tfm()['biota']['nuclide_id'].unique())"
   ]
  },
  {
   "cell_type": "markdown",
   "id": "32cb47cf",
   "metadata": {},
   "source": [
    "### Rename columns"
   ]
  },
  {
   "cell_type": "code",
   "execution_count": null,
   "id": "525775d6",
   "metadata": {},
   "outputs": [],
   "source": [
    "#| export\n",
    "# To be added: endperiod, totdepth, lab\n",
    "def renaming_rules():\n",
    "    vars = cdl_cfg()['vars']\n",
    "    # Define column names renaming rules\n",
    "    return {\n",
    "        'latitude': vars['defaults']['lat']['name'],\n",
    "        'longitude': vars['defaults']['lon']['name'],\n",
    "        'begperiod': vars['defaults']['time']['name'],\n",
    "        'sampdepth': vars['defaults']['depth']['name'],\n",
    "        'uncertaint': vars['suffixes']['uncertainty']['name'],\n",
    "        'unit_id': vars['suffixes']['unit']['name'],\n",
    "        'detection': vars['suffixes']['detection_limit']['name'],\n",
    "        'area_id': vars['defaults']['area']['name'], \n",
    "        'species_id': vars['bio']['species']['name'],\n",
    "        'biogroup_id': vars['bio']['bio_group']['name'],\n",
    "        'bodypar_id': vars['bio']['body_part']['name'],\n",
    "        'sedtype_id': vars['sed']['sed_type']['name'],\n",
    "        'volume': vars['suffixes']['volume']['name'],\n",
    "        'salinity': vars['suffixes']['salinity']['name'],\n",
    "        'temperatur': vars['suffixes']['temperature']['name'],\n",
    "        'sampmet_id': vars['suffixes']['sampling_method']['name'],\n",
    "        'prepmet_id': vars['suffixes']['preparation_method']['name'],\n",
    "        'counmet_id': vars['suffixes']['counting_method']['name'],\n",
    "        'activity': 'value',\n",
    "        'nuclide_id': 'nuclide'\n",
    "    }"
   ]
  },
  {
   "cell_type": "code",
   "execution_count": null,
   "id": "322f3b7e",
   "metadata": {},
   "outputs": [],
   "source": [
    "#| export\n",
    "class RenameColumnCB(Callback):\n",
    "    \"Renaming variables to MARIS standard names.\"\n",
    "    def __init__(self,\n",
    "                 renaming_rules=renaming_rules):\n",
    "        fc.store_attr()\n",
    "\n",
    "    def __call__(self, tfm):\n",
    "        lut = renaming_rules()\n",
    "        coi = lut.keys()\n",
    "        for k in tfm.dfs.keys():\n",
    "            # Select cols of interest\n",
    "            tfm.dfs[k] = tfm.dfs[k].loc[:, coi]\n",
    "            # Rename cols\n",
    "            tfm.dfs[k].rename(columns=lut, inplace=True)"
   ]
  },
  {
   "cell_type": "code",
   "execution_count": null,
   "id": "0ed8c9c6",
   "metadata": {},
   "outputs": [
    {
     "name": "stdout",
     "output_type": "stream",
     "text": [
      "              lat       lon     time  depth  unc  unit dl  area  species  \\\n",
      "533970  53.367778 -6.144167  00:00.0    NaN  NaN     5  =  2357       96   \n",
      "533971  53.367778 -6.144167  00:00.0    NaN  NaN     5  <  2357       96   \n",
      "533972  53.367778 -6.144167  00:00.0    NaN  NaN     5  =  2357       96   \n",
      "533973  53.367778 -6.144167  00:00.0    NaN  NaN     5  =  2357       96   \n",
      "533974  53.367778 -6.144167  00:00.0    NaN  NaN     5  =  2357       96   \n",
      "...           ...       ...      ...    ...  ...   ... ..   ...      ...   \n",
      "810691  54.100833 -6.200278  00:00.0    NaN  NaN     5  <  9999      129   \n",
      "810692  54.100833 -6.200278  00:00.0    NaN  NaN     5  =  9999      129   \n",
      "810693  54.100833 -6.200278  00:00.0    NaN  NaN     5  =  9999      129   \n",
      "810694  54.100833 -6.200278  00:00.0    NaN  NaN     5  =  9999      129   \n",
      "810695  54.100833 -6.200278  00:00.0    NaN  NaN     5  =  9999      129   \n",
      "\n",
      "        bio_group  body_part  sed_type  vol  sal  temp  sampmet  prepmet  \\\n",
      "533970         11          0         0  NaN  NaN   NaN        0        0   \n",
      "533971         11          0         0  NaN  NaN   NaN        0        0   \n",
      "533972         11          0         0  NaN  NaN   NaN        0        0   \n",
      "533973         11          0         0  NaN  NaN   NaN        0        0   \n",
      "533974         11          0         0  NaN  NaN   NaN        0        0   \n",
      "...           ...        ...       ...  ...  ...   ...      ...      ...   \n",
      "810691         14          0         0  NaN  NaN   NaN        0        0   \n",
      "810692         14          0         0  NaN  NaN   NaN        0        0   \n",
      "810693         14          0         0  NaN  NaN   NaN        0        0   \n",
      "810694         14          0         0  NaN  NaN   NaN        0        0   \n",
      "810695         14          0         0  NaN  NaN   NaN        0        0   \n",
      "\n",
      "        counmet   value        nuclide  \n",
      "533970        0   53.00           i131  \n",
      "533971        0    0.20          cs134  \n",
      "533972        0    2.80          cs137  \n",
      "533973        0  271.00            k40  \n",
      "533974        0   63.00           i131  \n",
      "...         ...     ...            ...  \n",
      "810691        0    0.10          cs134  \n",
      "810692        0    1.00          cs137  \n",
      "810693        0    0.02          pu238  \n",
      "810694        0    0.05          am241  \n",
      "810695        0    0.11  pu239_240_tot  \n",
      "\n",
      "[412 rows x 20 columns]\n"
     ]
    }
   ],
   "source": [
    "dfs = load_data(df, 52)\n",
    "tfm = Transformer(dfs, cbs=[\n",
    "    RemapRdnNameCB(),\n",
    "    RenameColumnCB()\n",
    "    ])\n",
    "\n",
    "print(tfm()['biota'])"
   ]
  },
  {
   "cell_type": "markdown",
   "id": "21b2fbc4",
   "metadata": {},
   "source": [
    "### Drop NaN only columns"
   ]
  },
  {
   "cell_type": "code",
   "execution_count": null,
   "id": "819703e6",
   "metadata": {},
   "outputs": [],
   "source": [
    "#| export\n",
    "class DropNAColumnsCB(Callback):\n",
    "    \"Drop variable containing only NaN or 'Not available' (id=0 in MARIS lookup tables).\"\n",
    "    def __init__(self, na_value=0):\n",
    "        fc.store_attr()\n",
    "        \n",
    "    def isMarisNA(self, col): \n",
    "        return len(col.unique()) == 1 and col.iloc[0] == self.na_value\n",
    "    \n",
    "    def dropMarisNA(self, df):\n",
    "        na_cols = [col for col in df.columns if self.isMarisNA(df[col])]\n",
    "        return df.drop(labels=na_cols, axis=1)\n",
    "        \n",
    "    def __call__(self, tfm):\n",
    "        for k in tfm.dfs.keys():\n",
    "            tfm.dfs[k] = tfm.dfs[k].dropna(axis=1, how='all')\n",
    "            tfm.dfs[k] = self.dropMarisNA(tfm.dfs[k])"
   ]
  },
  {
   "cell_type": "code",
   "execution_count": null,
   "id": "9e0f69f1",
   "metadata": {},
   "outputs": [
    {
     "name": "stdout",
     "output_type": "stream",
     "text": [
      "              lat       lon     time  unit dl  area  species  bio_group  \\\n",
      "533970  53.367778 -6.144167  00:00.0     5  =  2357       96         11   \n",
      "533971  53.367778 -6.144167  00:00.0     5  <  2357       96         11   \n",
      "533972  53.367778 -6.144167  00:00.0     5  =  2357       96         11   \n",
      "533973  53.367778 -6.144167  00:00.0     5  =  2357       96         11   \n",
      "533974  53.367778 -6.144167  00:00.0     5  =  2357       96         11   \n",
      "...           ...       ...      ...   ... ..   ...      ...        ...   \n",
      "810691  54.100833 -6.200278  00:00.0     5  <  9999      129         14   \n",
      "810692  54.100833 -6.200278  00:00.0     5  =  9999      129         14   \n",
      "810693  54.100833 -6.200278  00:00.0     5  =  9999      129         14   \n",
      "810694  54.100833 -6.200278  00:00.0     5  =  9999      129         14   \n",
      "810695  54.100833 -6.200278  00:00.0     5  =  9999      129         14   \n",
      "\n",
      "         value        nuclide  \n",
      "533970   53.00           i131  \n",
      "533971    0.20          cs134  \n",
      "533972    2.80          cs137  \n",
      "533973  271.00            k40  \n",
      "533974   63.00           i131  \n",
      "...        ...            ...  \n",
      "810691    0.10          cs134  \n",
      "810692    1.00          cs137  \n",
      "810693    0.02          pu238  \n",
      "810694    0.05          am241  \n",
      "810695    0.11  pu239_240_tot  \n",
      "\n",
      "[412 rows x 10 columns]\n"
     ]
    }
   ],
   "source": [
    "dfs = load_data(df, 52)\n",
    "tfm = Transformer(dfs, cbs=[\n",
    "    RemapRdnNameCB(),\n",
    "    RenameColumnCB(),\n",
    "    DropNAColumnsCB()\n",
    "    ])\n",
    "\n",
    "print(tfm()['biota'])"
   ]
  },
  {
   "cell_type": "markdown",
   "id": "54a51628",
   "metadata": {},
   "source": [
    "### Sanitize detection limit values"
   ]
  },
  {
   "cell_type": "code",
   "execution_count": null,
   "id": "36512b76",
   "metadata": {},
   "outputs": [],
   "source": [
    "#| export\n",
    "def get_dl_lut():\n",
    "    fname = lut_path() / 'dbo_detection.xlsx'\n",
    "    df_nuclide = pd.read_excel(fname, usecols=['previous_name', 'detection_id'])\n",
    "    return df_nuclide.set_index('previous_name').to_dict()['detection_id']"
   ]
  },
  {
   "cell_type": "code",
   "execution_count": null,
   "id": "bbef9550",
   "metadata": {},
   "outputs": [
    {
     "data": {
      "text/plain": [
       "{'ND': 0, '=': 1, 'D': 2, '<': 3}"
      ]
     },
     "execution_count": null,
     "metadata": {},
     "output_type": "execute_result"
    }
   ],
   "source": [
    "get_dl_lut()"
   ]
  },
  {
   "cell_type": "code",
   "execution_count": null,
   "id": "c99e5640",
   "metadata": {},
   "outputs": [],
   "source": [
    "#| export\n",
    "class SanitizeDetectionLimitCB(Callback):\n",
    "    \"Assign Detection Limit name to its id based on MARIS nomenclature.\"\n",
    "    def __init__(self,\n",
    "                 fn_lut=get_dl_lut):\n",
    "        fc.store_attr()\n",
    "\n",
    "    def __call__(self, tfm):\n",
    "        lut = self.fn_lut()\n",
    "        for k in tfm.dfs.keys():\n",
    "            tfm.dfs[k]['dl'] = tfm.dfs[k]['dl'].replace(lut)"
   ]
  },
  {
   "cell_type": "code",
   "execution_count": null,
   "id": "e71200b5",
   "metadata": {},
   "outputs": [
    {
     "name": "stdout",
     "output_type": "stream",
     "text": [
      "              lat       lon     time  unit  dl  area   value        nuclide\n",
      "533931  53.866667 -5.550000  00:00.0     4   1  2357  170.40          cs137\n",
      "533932  53.866667 -5.550000  00:00.0     4   1  2357  663.00            k40\n",
      "533933  53.866667 -5.233333  00:00.0     4   3  2357    0.70          cs134\n",
      "533934  53.866667 -5.233333  00:00.0     4   1  2357   78.90          cs137\n",
      "533935  53.866667 -5.233333  00:00.0     4   1  2357  457.00            k40\n",
      "...           ...       ...      ...   ...  ..   ...     ...            ...\n",
      "810696  54.100833 -6.200278  00:00.0     4   1  9999    2.50          cs134\n",
      "810697  54.100833 -6.200278  00:00.0     4   1  9999  173.00          cs137\n",
      "810698  54.100833 -6.200278  00:00.0     4   1  9999    2.13          pu238\n",
      "810699  54.100833 -6.200278  00:00.0     4   1  9999    5.77          am241\n",
      "810700  54.100833 -6.200278  00:00.0     4   1  9999   11.99  pu239_240_tot\n",
      "\n",
      "[153 rows x 8 columns]\n"
     ]
    }
   ],
   "source": [
    "dfs = load_data(df, 52)\n",
    "tfm = Transformer(dfs, cbs=[\n",
    "    RemapRdnNameCB(),\n",
    "    RenameColumnCB(),\n",
    "    DropNAColumnsCB(),\n",
    "    SanitizeDetectionLimitCB()\n",
    "    ])\n",
    "\n",
    "print(tfm()['sediment'])"
   ]
  },
  {
   "cell_type": "markdown",
   "id": "375be6e5",
   "metadata": {},
   "source": [
    "### Reshape: long to wide"
   ]
  },
  {
   "cell_type": "code",
   "execution_count": null,
   "id": "24ed472c",
   "metadata": {},
   "outputs": [],
   "source": [
    "#| export\n",
    "class ReshapeLongToWide(Callback):\n",
    "    \"Convert data from long to wide with renamed columns.\"\n",
    "    def __init__(self, value_col='nuclide'):\n",
    "        fc.store_attr()\n",
    "        self.derived_cols = [value['name'] for value in cdl_cfg()['vars']['suffixes'].values()]\n",
    "    \n",
    "    def renamed_cols(self, cols):\n",
    "        return [f'{inner}_{outer}' if inner else outer for outer, inner in cols]\n",
    "\n",
    "    def pivot(self, df):\n",
    "        derived_coi = [col for col in self.derived_cols if col in df.columns]\n",
    "        idx = list(set(df.columns) - set([self.value_col] + derived_coi))\n",
    "        return df.pivot_table(index=idx,\n",
    "                              columns=self.value_col,\n",
    "                              values=derived_coi).reset_index()\n",
    "\n",
    "    def __call__(self, tfm):\n",
    "        for k in tfm.dfs.keys():\n",
    "            tfm.dfs[k] = self.pivot(tfm.dfs[k])\n",
    "            tfm.dfs[k].columns = self.renamed_cols(tfm.dfs[k].columns)\n",
    "            tfm.dfs[k].index.name = 'sample'"
   ]
  },
  {
   "cell_type": "code",
   "execution_count": null,
   "id": "7328389e",
   "metadata": {},
   "outputs": [
    {
     "name": "stdout",
     "output_type": "stream",
     "text": [
      "        area  value     time        lat       lon  am241_dl  cs134_dl  \\\n",
      "sample                                                                  \n",
      "0       2357    0.1  00:00.0  54.083056 -6.215000       NaN       1.0   \n",
      "1       2357    0.2  00:00.0  53.333333 -6.000000       NaN       3.0   \n",
      "2       2357    0.2  00:00.0  53.333333 -5.366667       NaN       3.0   \n",
      "3       2357    0.2  00:00.0  53.416667 -6.016667       NaN       3.0   \n",
      "4       2357    0.2  00:00.0  53.600000 -5.933333       NaN       3.0   \n",
      "...      ...    ...      ...        ...       ...       ...       ...   \n",
      "145     9999  346.0  00:00.0  53.283889 -9.048889       NaN       NaN   \n",
      "146     9999  346.0  00:00.0  54.634722 -8.454722       NaN       NaN   \n",
      "147     9999  412.0  00:00.0  53.283889 -9.048889       NaN       NaN   \n",
      "148     9999  491.0  00:00.0  54.042778 -6.186944       NaN       NaN   \n",
      "149     9999  493.0  00:00.0  54.042778 -6.186944       NaN       NaN   \n",
      "\n",
      "        cs137_dl  k40_dl  pu238_dl  pu239_240_tot_dl  am241_unit  cs134_unit  \\\n",
      "sample                                                                         \n",
      "0            NaN     NaN       NaN               NaN         NaN         4.0   \n",
      "1            NaN     NaN       NaN               NaN         NaN         4.0   \n",
      "2            NaN     NaN       NaN               NaN         NaN         4.0   \n",
      "3            NaN     NaN       NaN               NaN         NaN         4.0   \n",
      "4            NaN     NaN       NaN               NaN         NaN         4.0   \n",
      "...          ...     ...       ...               ...         ...         ...   \n",
      "145          NaN     1.0       NaN               NaN         NaN         NaN   \n",
      "146          NaN     1.0       NaN               NaN         NaN         NaN   \n",
      "147          NaN     1.0       NaN               NaN         NaN         NaN   \n",
      "148          NaN     1.0       NaN               NaN         NaN         NaN   \n",
      "149          NaN     1.0       NaN               NaN         NaN         NaN   \n",
      "\n",
      "        cs137_unit  k40_unit  pu238_unit  pu239_240_tot_unit  \n",
      "sample                                                        \n",
      "0              NaN       NaN         NaN                 NaN  \n",
      "1              NaN       NaN         NaN                 NaN  \n",
      "2              NaN       NaN         NaN                 NaN  \n",
      "3              NaN       NaN         NaN                 NaN  \n",
      "4              NaN       NaN         NaN                 NaN  \n",
      "...            ...       ...         ...                 ...  \n",
      "145            NaN       4.0         NaN                 NaN  \n",
      "146            NaN       4.0         NaN                 NaN  \n",
      "147            NaN       4.0         NaN                 NaN  \n",
      "148            NaN       4.0         NaN                 NaN  \n",
      "149            NaN       4.0         NaN                 NaN  \n",
      "\n",
      "[150 rows x 17 columns]\n"
     ]
    }
   ],
   "source": [
    "dfs = load_data(df, 52)\n",
    "tfm = Transformer(dfs, cbs=[\n",
    "    RemapRdnNameCB(),\n",
    "    RenameColumnCB(),\n",
    "    DropNAColumnsCB(),\n",
    "    SanitizeDetectionLimitCB(),\n",
    "    ReshapeLongToWide()\n",
    "    ])\n",
    "\n",
    "print(tfm()['sediment'])"
   ]
  },
  {
   "cell_type": "markdown",
   "id": "8587a731",
   "metadata": {},
   "source": [
    "### Encode time (seconds since ...)"
   ]
  },
  {
   "cell_type": "code",
   "execution_count": null,
   "id": "7f4929e2",
   "metadata": {},
   "outputs": [],
   "source": [
    "#| export\n",
    "class EncodeTimeCB(Callback):\n",
    "    \"Encode time as `int` representing seconds since xxx (TBD).\"  \n",
    "    def __call__(self, tfm):\n",
    "        for k in tfm.dfs.keys():\n",
    "            tfm.dfs[k].time = 9999"
   ]
  },
  {
   "cell_type": "code",
   "execution_count": null,
   "id": "73e0ef14",
   "metadata": {},
   "outputs": [
    {
     "name": "stdout",
     "output_type": "stream",
     "text": [
      "        area  value  time        lat       lon  am241_dl  cs134_dl  cs137_dl  \\\n",
      "sample                                                                         \n",
      "0       2357    0.1  9999  54.083056 -6.215000       NaN       1.0       NaN   \n",
      "1       2357    0.2  9999  53.333333 -6.000000       NaN       3.0       NaN   \n",
      "2       2357    0.2  9999  53.333333 -5.366667       NaN       3.0       NaN   \n",
      "3       2357    0.2  9999  53.416667 -6.016667       NaN       3.0       NaN   \n",
      "4       2357    0.2  9999  53.600000 -5.933333       NaN       3.0       NaN   \n",
      "...      ...    ...   ...        ...       ...       ...       ...       ...   \n",
      "145     9999  346.0  9999  53.283889 -9.048889       NaN       NaN       NaN   \n",
      "146     9999  346.0  9999  54.634722 -8.454722       NaN       NaN       NaN   \n",
      "147     9999  412.0  9999  53.283889 -9.048889       NaN       NaN       NaN   \n",
      "148     9999  491.0  9999  54.042778 -6.186944       NaN       NaN       NaN   \n",
      "149     9999  493.0  9999  54.042778 -6.186944       NaN       NaN       NaN   \n",
      "\n",
      "        k40_dl  pu238_dl  pu239_240_tot_dl  am241_unit  cs134_unit  \\\n",
      "sample                                                               \n",
      "0          NaN       NaN               NaN         NaN         4.0   \n",
      "1          NaN       NaN               NaN         NaN         4.0   \n",
      "2          NaN       NaN               NaN         NaN         4.0   \n",
      "3          NaN       NaN               NaN         NaN         4.0   \n",
      "4          NaN       NaN               NaN         NaN         4.0   \n",
      "...        ...       ...               ...         ...         ...   \n",
      "145        1.0       NaN               NaN         NaN         NaN   \n",
      "146        1.0       NaN               NaN         NaN         NaN   \n",
      "147        1.0       NaN               NaN         NaN         NaN   \n",
      "148        1.0       NaN               NaN         NaN         NaN   \n",
      "149        1.0       NaN               NaN         NaN         NaN   \n",
      "\n",
      "        cs137_unit  k40_unit  pu238_unit  pu239_240_tot_unit  \n",
      "sample                                                        \n",
      "0              NaN       NaN         NaN                 NaN  \n",
      "1              NaN       NaN         NaN                 NaN  \n",
      "2              NaN       NaN         NaN                 NaN  \n",
      "3              NaN       NaN         NaN                 NaN  \n",
      "4              NaN       NaN         NaN                 NaN  \n",
      "...            ...       ...         ...                 ...  \n",
      "145            NaN       4.0         NaN                 NaN  \n",
      "146            NaN       4.0         NaN                 NaN  \n",
      "147            NaN       4.0         NaN                 NaN  \n",
      "148            NaN       4.0         NaN                 NaN  \n",
      "149            NaN       4.0         NaN                 NaN  \n",
      "\n",
      "[150 rows x 17 columns]\n"
     ]
    }
   ],
   "source": [
    "dfs = load_data(df, 52)\n",
    "tfm = Transformer(dfs, cbs=[\n",
    "    RemapRdnNameCB(),\n",
    "    RenameColumnCB(),\n",
    "    DropNAColumnsCB(),\n",
    "    SanitizeDetectionLimitCB(),\n",
    "    ReshapeLongToWide(),\n",
    "    EncodeTimeCB()\n",
    "    ])\n",
    "\n",
    "print(tfm()['sediment'])"
   ]
  },
  {
   "cell_type": "markdown",
   "id": "bd91144a",
   "metadata": {},
   "source": [
    "### Sanitize coordinates"
   ]
  },
  {
   "cell_type": "code",
   "execution_count": null,
   "id": "80141e2a",
   "metadata": {},
   "outputs": [
    {
     "name": "stdout",
     "output_type": "stream",
     "text": [
      "        area  value  time        lat       lon  am241_dl  cs134_dl  cs137_dl  \\\n",
      "sample                                                                         \n",
      "0       2357    0.1  9999  54.083056 -6.215000       NaN       1.0       NaN   \n",
      "1       2357    0.2  9999  53.333333 -6.000000       NaN       3.0       NaN   \n",
      "2       2357    0.2  9999  53.333333 -5.366667       NaN       3.0       NaN   \n",
      "3       2357    0.2  9999  53.416667 -6.016667       NaN       3.0       NaN   \n",
      "4       2357    0.2  9999  53.600000 -5.933333       NaN       3.0       NaN   \n",
      "...      ...    ...   ...        ...       ...       ...       ...       ...   \n",
      "145     9999  346.0  9999  53.283889 -9.048889       NaN       NaN       NaN   \n",
      "146     9999  346.0  9999  54.634722 -8.454722       NaN       NaN       NaN   \n",
      "147     9999  412.0  9999  53.283889 -9.048889       NaN       NaN       NaN   \n",
      "148     9999  491.0  9999  54.042778 -6.186944       NaN       NaN       NaN   \n",
      "149     9999  493.0  9999  54.042778 -6.186944       NaN       NaN       NaN   \n",
      "\n",
      "        k40_dl  pu238_dl  pu239_240_tot_dl  am241_unit  cs134_unit  \\\n",
      "sample                                                               \n",
      "0          NaN       NaN               NaN         NaN         4.0   \n",
      "1          NaN       NaN               NaN         NaN         4.0   \n",
      "2          NaN       NaN               NaN         NaN         4.0   \n",
      "3          NaN       NaN               NaN         NaN         4.0   \n",
      "4          NaN       NaN               NaN         NaN         4.0   \n",
      "...        ...       ...               ...         ...         ...   \n",
      "145        1.0       NaN               NaN         NaN         NaN   \n",
      "146        1.0       NaN               NaN         NaN         NaN   \n",
      "147        1.0       NaN               NaN         NaN         NaN   \n",
      "148        1.0       NaN               NaN         NaN         NaN   \n",
      "149        1.0       NaN               NaN         NaN         NaN   \n",
      "\n",
      "        cs137_unit  k40_unit  pu238_unit  pu239_240_tot_unit  \n",
      "sample                                                        \n",
      "0              NaN       NaN         NaN                 NaN  \n",
      "1              NaN       NaN         NaN                 NaN  \n",
      "2              NaN       NaN         NaN                 NaN  \n",
      "3              NaN       NaN         NaN                 NaN  \n",
      "4              NaN       NaN         NaN                 NaN  \n",
      "...            ...       ...         ...                 ...  \n",
      "145            NaN       4.0         NaN                 NaN  \n",
      "146            NaN       4.0         NaN                 NaN  \n",
      "147            NaN       4.0         NaN                 NaN  \n",
      "148            NaN       4.0         NaN                 NaN  \n",
      "149            NaN       4.0         NaN                 NaN  \n",
      "\n",
      "[150 rows x 17 columns]\n"
     ]
    }
   ],
   "source": [
    "dfs = load_data(df, 52)\n",
    "tfm = Transformer(dfs, cbs=[\n",
    "    RemapRdnNameCB(),\n",
    "    RenameColumnCB(),\n",
    "    DropNAColumnsCB(),\n",
    "    SanitizeDetectionLimitCB(),\n",
    "    ReshapeLongToWide(),\n",
    "    EncodeTimeCB(),\n",
    "    SanitizeLonLatCB()\n",
    "    ])\n",
    "\n",
    "print(tfm()['sediment'])"
   ]
  },
  {
   "cell_type": "markdown",
   "id": "709b6999",
   "metadata": {},
   "source": [
    "## Encode to NetCDF"
   ]
  },
  {
   "cell_type": "code",
   "execution_count": null,
   "id": "c55f5ef3",
   "metadata": {},
   "outputs": [],
   "source": [
    "dfs = load_data(df, 52)\n",
    "tfm = Transformer(dfs, cbs=[\n",
    "    RemapRdnNameCB(),\n",
    "    RenameColumnCB(),\n",
    "    DropNAColumnsCB(),\n",
    "    SanitizeDetectionLimitCB(),\n",
    "    ReshapeLongToWide(),\n",
    "    EncodeTimeCB(),\n",
    "    SanitizeLonLatCB()\n",
    "    ])\n",
    "\n",
    "dfs_tfm = tfm()"
   ]
  },
  {
   "cell_type": "code",
   "execution_count": null,
   "id": "640925a3",
   "metadata": {},
   "outputs": [
    {
     "data": {
      "text/plain": [
       "['Remap to MARIS radionuclide names.',\n",
       " 'Renaming variables to MARIS standard names.',\n",
       " \"Drop variable containing only NaN or 'Not available' (id=0 in MARIS lookup tables).\",\n",
       " 'Assign Detection Limit name to its id based on MARIS nomenclature.',\n",
       " 'Convert data from long to wide with renamed columns.',\n",
       " 'Encode time as `int` representing seconds since xxx (TBD).',\n",
       " 'Drop row when both longitude & latitude equal 0.']"
      ]
     },
     "execution_count": null,
     "metadata": {},
     "output_type": "execute_result"
    }
   ],
   "source": [
    "tfm.logs"
   ]
  },
  {
   "cell_type": "code",
   "execution_count": null,
   "id": "f98fd736",
   "metadata": {},
   "outputs": [],
   "source": [
    "#| export\n",
    "kw = ['oceanography', 'Earth Science > Oceans > Ocean Chemistry> Radionuclides',\n",
    "      'Earth Science > Human Dimensions > Environmental Impacts > Nuclear Radiation Exposure',\n",
    "      'Earth Science > Oceans > Ocean Chemistry > Ocean Tracers, Earth Science > Oceans > Marine Sediments',\n",
    "      'Earth Science > Oceans > Ocean Chemistry, Earth Science > Oceans > Sea Ice > Isotopes',\n",
    "      'Earth Science > Oceans > Water Quality > Ocean Contaminants',\n",
    "      'Earth Science > Biological Classification > Animals/Vertebrates > Fish',\n",
    "      'Earth Science > Biosphere > Ecosystems > Marine Ecosystems',\n",
    "      'Earth Science > Biological Classification > Animals/Invertebrates > Mollusks',\n",
    "      'Earth Science > Biological Classification > Animals/Invertebrates > Arthropods > Crustaceans',\n",
    "      'Earth Science > Biological Classification > Plants > Macroalgae (Seaweeds)']"
   ]
  },
  {
   "cell_type": "code",
   "execution_count": null,
   "id": "ca5357b7",
   "metadata": {},
   "outputs": [],
   "source": [
    "#| export\n",
    "def get_attrs(tfm, zotero_key='26VMZZ2Q', kw=kw):\n",
    "    return GlobAttrsFeeder(tfm.dfs, cbs=[\n",
    "        BboxCB(),\n",
    "        DepthRangeCB(),\n",
    "        TimeRangeCB(cfg()),\n",
    "        # ZoteroCB(zotero_key, cfg=cfg()),\n",
    "        KeyValuePairCB('keywords', ', '.join(kw)),\n",
    "        KeyValuePairCB('publisher_postprocess_logs', ', '.join(tfm.logs))\n",
    "        ])()"
   ]
  },
  {
   "cell_type": "code",
   "execution_count": null,
   "id": "6385d9e3",
   "metadata": {},
   "outputs": [
    {
     "data": {
      "text/plain": [
       "{'geospatial_lat_min': '-5.233333333',\n",
       " 'geospatial_lat_max': '55.12111111',\n",
       " 'geospatial_lon_min': '-9.910277778',\n",
       " 'geospatial_lon_max': '51.65138889',\n",
       " 'geospatial_bounds': 'POLYGON ((-9.910277778 51.65138889, -5.233333333 51.65138889, -5.233333333 55.12111111, -9.910277778 55.12111111, -9.910277778 51.65138889))',\n",
       " 'time_coverage_start': '1970-01-01T02:46:39',\n",
       " 'time_coverage_end': '1970-01-01T02:46:39',\n",
       " 'keywords': 'oceanography, Earth Science > Oceans > Ocean Chemistry> Radionuclides, Earth Science > Human Dimensions > Environmental Impacts > Nuclear Radiation Exposure, Earth Science > Oceans > Ocean Chemistry > Ocean Tracers, Earth Science > Oceans > Marine Sediments, Earth Science > Oceans > Ocean Chemistry, Earth Science > Oceans > Sea Ice > Isotopes, Earth Science > Oceans > Water Quality > Ocean Contaminants, Earth Science > Biological Classification > Animals/Vertebrates > Fish, Earth Science > Biosphere > Ecosystems > Marine Ecosystems, Earth Science > Biological Classification > Animals/Invertebrates > Mollusks, Earth Science > Biological Classification > Animals/Invertebrates > Arthropods > Crustaceans, Earth Science > Biological Classification > Plants > Macroalgae (Seaweeds)',\n",
       " 'publisher_postprocess_logs': \"Remap to MARIS radionuclide names., Renaming variables to MARIS standard names., Drop variable containing only NaN or 'Not available' (id=0 in MARIS lookup tables)., Assign Detection Limit name to its id based on MARIS nomenclature., Convert data from long to wide with renamed columns., Encode time as `int` representing seconds since xxx (TBD)., Drop row when both longitude & latitude equal 0.\"}"
      ]
     },
     "execution_count": null,
     "metadata": {},
     "output_type": "execute_result"
    }
   ],
   "source": [
    "get_attrs(tfm, zotero_key=get_zotero_key(df, 52), kw=kw)"
   ]
  }
 ],
 "metadata": {
  "kernelspec": {
   "display_name": "Python 3 (ipykernel)",
   "language": "python",
   "name": "python3"
  }
 },
 "nbformat": 4,
 "nbformat_minor": 5
}

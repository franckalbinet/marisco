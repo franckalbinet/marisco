{
 "cells": [
  {
   "cell_type": "code",
   "execution_count": null,
   "id": "bb60862d",
   "metadata": {},
   "outputs": [],
   "source": [
    "#| default_exp handlers.maris_dump"
   ]
  },
  {
   "attachments": {},
   "cell_type": "markdown",
   "id": "f263111a",
   "metadata": {},
   "source": [
    "# MARIS dump\n",
    "> Data pipeline (handler) to convert global MARIS db dump into `NetCDF` format\n",
    "\n",
    "The input data is a dump from already imported MARIS datasets.\n",
    "\n",
    "**Dev. board**: https://trello.com/b/IszgV1bj/marisco"
   ]
  },
  {
   "attachments": {},
   "cell_type": "markdown",
   "id": "b92a5c33",
   "metadata": {},
   "source": [
    "## Packages import"
   ]
  },
  {
   "cell_type": "code",
   "execution_count": null,
   "id": "0db45fee",
   "metadata": {},
   "outputs": [],
   "source": [
    "%load_ext autoreload\n",
    "%autoreload 2"
   ]
  },
  {
   "cell_type": "code",
   "execution_count": null,
   "id": "3a8d979f",
   "metadata": {},
   "outputs": [],
   "source": [
    "#| export\n",
    "from tqdm import tqdm\n",
    "from pathlib import Path\n",
    "import fastcore.all as fc\n",
    "import pandas as pd\n",
    "\n",
    "from marisco.callbacks import (Callback, Transformer, SanitizeLonLatCB, EncodeTimeCB)\n",
    "from marisco.metadata import (GlobAttrsFeeder, BboxCB,\n",
    "                              DepthRangeCB, TimeRangeCB,\n",
    "                              ZoteroCB, KeyValuePairCB)\n",
    "from marisco.configs import lut_path, cdl_cfg, cfg, nc_tpl_path, get_enum_dicts\n",
    "from marisco.serializers import NetCDFEncoder"
   ]
  },
  {
   "cell_type": "code",
   "execution_count": null,
   "id": "51f2351f",
   "metadata": {},
   "outputs": [],
   "source": [
    "pd.set_option('display.max_rows', 100)"
   ]
  },
  {
   "cell_type": "code",
   "execution_count": null,
   "id": "d65ade1e",
   "metadata": {},
   "outputs": [],
   "source": [
    "import warnings\n",
    "warnings.filterwarnings('ignore')"
   ]
  },
  {
   "cell_type": "code",
   "execution_count": null,
   "id": "d02bf0a9",
   "metadata": {},
   "outputs": [],
   "source": [
    "fname_in = Path().home() / 'pro/data/maris/MARIS_exportSample_20240312_tab2.txt'\n",
    "dir_dest = '../../_data/output/dump'"
   ]
  },
  {
   "cell_type": "markdown",
   "id": "2f8ab222",
   "metadata": {},
   "source": [
    "## Utils"
   ]
  },
  {
   "cell_type": "code",
   "execution_count": null,
   "id": "de1bc0af",
   "metadata": {},
   "outputs": [],
   "source": [
    "# | export\n",
    "def load_dump(fname): \n",
    "    return pd.read_csv(fname, sep='\\t', encoding='ISO-8859-1')   \n",
    "\n",
    "def load_data(df:pd.DataFrame, # MARIS global dump \n",
    "                 ref_id:int, # Reference id of interest\n",
    "                 ):\n",
    "    \"Load specific MARIS dataset through its ref_id\"\n",
    "    lut = {\n",
    "        'Sediment': 'sediment',\n",
    "        'Seawater': 'seawater',\n",
    "        'Suspended matter': 'suspended-matter',\n",
    "        'Biota': 'biota'}\n",
    "    dfs = {}\n",
    "    for name, grp in df[df.ref_id  == ref_id].groupby('samptype'): \n",
    "        dfs[lut[name]] = grp\n",
    "    return dfs\n",
    "\n",
    "def get_zotero_key(dfs):\n",
    "    return dfs[next(iter(dfs))][['zoterourl']].iloc[0].values[0].split('/')[-1]\n",
    "\n",
    "def get_fname(dfs):\n",
    "    id, name = dfs[next(iter(dfs))][['ref_id', 'displaytext']].iloc[0]\n",
    "    name = name.replace(',', '').replace('.', '').replace('-', ' ').split(' ')\n",
    "    return '-'.join(([str(id)] + name)) + '.nc'"
   ]
  },
  {
   "cell_type": "markdown",
   "id": "db48f8fb",
   "metadata": {},
   "source": [
    "## Load data"
   ]
  },
  {
   "cell_type": "code",
   "execution_count": null,
   "id": "715e849d",
   "metadata": {},
   "outputs": [],
   "source": [
    "df = load_dump(fname_in)"
   ]
  },
  {
   "cell_type": "code",
   "execution_count": null,
   "id": "fb42d376",
   "metadata": {},
   "outputs": [
    {
     "data": {
      "text/html": [
       "<div>\n",
       "<style scoped>\n",
       "    .dataframe tbody tr th:only-of-type {\n",
       "        vertical-align: middle;\n",
       "    }\n",
       "\n",
       "    .dataframe tbody tr th {\n",
       "        vertical-align: top;\n",
       "    }\n",
       "\n",
       "    .dataframe thead th {\n",
       "        text-align: right;\n",
       "    }\n",
       "</style>\n",
       "<table border=\"1\" class=\"dataframe\">\n",
       "  <thead>\n",
       "    <tr style=\"text-align: right;\">\n",
       "      <th></th>\n",
       "      <th>ref_id</th>\n",
       "      <th>displaytext</th>\n",
       "      <th>samptype</th>\n",
       "      <th>nuclide_id</th>\n",
       "      <th>latitude</th>\n",
       "      <th>longitude</th>\n",
       "      <th>begperiod</th>\n",
       "      <th>endperiod</th>\n",
       "      <th>sampdepth</th>\n",
       "      <th>totdepth</th>\n",
       "      <th>...</th>\n",
       "      <th>bodypar_id</th>\n",
       "      <th>sedtype_id</th>\n",
       "      <th>volume</th>\n",
       "      <th>salinity</th>\n",
       "      <th>temperatur</th>\n",
       "      <th>sampmet_id</th>\n",
       "      <th>prepmet_id</th>\n",
       "      <th>counmet_id</th>\n",
       "      <th>activity</th>\n",
       "      <th>zoterourl</th>\n",
       "    </tr>\n",
       "  </thead>\n",
       "  <tbody>\n",
       "    <tr>\n",
       "      <th>0</th>\n",
       "      <td>374</td>\n",
       "      <td>Ostlund et al., 1987</td>\n",
       "      <td>Seawater</td>\n",
       "      <td>53</td>\n",
       "      <td>-53.0</td>\n",
       "      <td>103.016944</td>\n",
       "      <td>1978-02-18 00:00:00</td>\n",
       "      <td>NaN</td>\n",
       "      <td>1867.0</td>\n",
       "      <td>3808.0</td>\n",
       "      <td>...</td>\n",
       "      <td>0</td>\n",
       "      <td>0</td>\n",
       "      <td>NaN</td>\n",
       "      <td>34.731998</td>\n",
       "      <td>NaN</td>\n",
       "      <td>1</td>\n",
       "      <td>0</td>\n",
       "      <td>0</td>\n",
       "      <td>3.508917</td>\n",
       "      <td>https://www.zotero.org/groups/2432820/maris/it...</td>\n",
       "    </tr>\n",
       "    <tr>\n",
       "      <th>1</th>\n",
       "      <td>374</td>\n",
       "      <td>Ostlund et al., 1987</td>\n",
       "      <td>Seawater</td>\n",
       "      <td>3</td>\n",
       "      <td>-53.0</td>\n",
       "      <td>103.016944</td>\n",
       "      <td>1978-02-18 00:00:00</td>\n",
       "      <td>NaN</td>\n",
       "      <td>1079.0</td>\n",
       "      <td>3808.0</td>\n",
       "      <td>...</td>\n",
       "      <td>0</td>\n",
       "      <td>0</td>\n",
       "      <td>NaN</td>\n",
       "      <td>34.740002</td>\n",
       "      <td>NaN</td>\n",
       "      <td>1</td>\n",
       "      <td>0</td>\n",
       "      <td>0</td>\n",
       "      <td>-144.700000</td>\n",
       "      <td>https://www.zotero.org/groups/2432820/maris/it...</td>\n",
       "    </tr>\n",
       "    <tr>\n",
       "      <th>2</th>\n",
       "      <td>374</td>\n",
       "      <td>Ostlund et al., 1987</td>\n",
       "      <td>Seawater</td>\n",
       "      <td>53</td>\n",
       "      <td>-53.0</td>\n",
       "      <td>103.016944</td>\n",
       "      <td>1978-02-18 00:00:00</td>\n",
       "      <td>NaN</td>\n",
       "      <td>1079.0</td>\n",
       "      <td>3808.0</td>\n",
       "      <td>...</td>\n",
       "      <td>0</td>\n",
       "      <td>0</td>\n",
       "      <td>NaN</td>\n",
       "      <td>34.740002</td>\n",
       "      <td>NaN</td>\n",
       "      <td>1</td>\n",
       "      <td>0</td>\n",
       "      <td>0</td>\n",
       "      <td>3.320633</td>\n",
       "      <td>https://www.zotero.org/groups/2432820/maris/it...</td>\n",
       "    </tr>\n",
       "    <tr>\n",
       "      <th>3</th>\n",
       "      <td>374</td>\n",
       "      <td>Ostlund et al., 1987</td>\n",
       "      <td>Seawater</td>\n",
       "      <td>1</td>\n",
       "      <td>-53.0</td>\n",
       "      <td>103.016944</td>\n",
       "      <td>1978-02-18 00:00:00</td>\n",
       "      <td>NaN</td>\n",
       "      <td>1140.0</td>\n",
       "      <td>3808.0</td>\n",
       "      <td>...</td>\n",
       "      <td>0</td>\n",
       "      <td>0</td>\n",
       "      <td>NaN</td>\n",
       "      <td>34.740002</td>\n",
       "      <td>NaN</td>\n",
       "      <td>12</td>\n",
       "      <td>0</td>\n",
       "      <td>0</td>\n",
       "      <td>-0.010000</td>\n",
       "      <td>https://www.zotero.org/groups/2432820/maris/it...</td>\n",
       "    </tr>\n",
       "    <tr>\n",
       "      <th>4</th>\n",
       "      <td>374</td>\n",
       "      <td>Ostlund et al., 1987</td>\n",
       "      <td>Seawater</td>\n",
       "      <td>1</td>\n",
       "      <td>-53.0</td>\n",
       "      <td>103.016944</td>\n",
       "      <td>1978-02-18 00:00:00</td>\n",
       "      <td>NaN</td>\n",
       "      <td>1583.0</td>\n",
       "      <td>3808.0</td>\n",
       "      <td>...</td>\n",
       "      <td>0</td>\n",
       "      <td>0</td>\n",
       "      <td>NaN</td>\n",
       "      <td>34.743999</td>\n",
       "      <td>NaN</td>\n",
       "      <td>1</td>\n",
       "      <td>0</td>\n",
       "      <td>0</td>\n",
       "      <td>-0.050000</td>\n",
       "      <td>https://www.zotero.org/groups/2432820/maris/it...</td>\n",
       "    </tr>\n",
       "  </tbody>\n",
       "</table>\n",
       "<p>5 rows × 26 columns</p>\n",
       "</div>"
      ],
      "text/plain": [
       "   ref_id           displaytext  samptype  nuclide_id  latitude   longitude  \\\n",
       "0     374  Ostlund et al., 1987  Seawater          53     -53.0  103.016944   \n",
       "1     374  Ostlund et al., 1987  Seawater           3     -53.0  103.016944   \n",
       "2     374  Ostlund et al., 1987  Seawater          53     -53.0  103.016944   \n",
       "3     374  Ostlund et al., 1987  Seawater           1     -53.0  103.016944   \n",
       "4     374  Ostlund et al., 1987  Seawater           1     -53.0  103.016944   \n",
       "\n",
       "             begperiod endperiod  sampdepth  totdepth  ...  bodypar_id  \\\n",
       "0  1978-02-18 00:00:00       NaN     1867.0    3808.0  ...           0   \n",
       "1  1978-02-18 00:00:00       NaN     1079.0    3808.0  ...           0   \n",
       "2  1978-02-18 00:00:00       NaN     1079.0    3808.0  ...           0   \n",
       "3  1978-02-18 00:00:00       NaN     1140.0    3808.0  ...           0   \n",
       "4  1978-02-18 00:00:00       NaN     1583.0    3808.0  ...           0   \n",
       "\n",
       "   sedtype_id volume   salinity  temperatur  sampmet_id  prepmet_id  \\\n",
       "0           0    NaN  34.731998         NaN           1           0   \n",
       "1           0    NaN  34.740002         NaN           1           0   \n",
       "2           0    NaN  34.740002         NaN           1           0   \n",
       "3           0    NaN  34.740002         NaN          12           0   \n",
       "4           0    NaN  34.743999         NaN           1           0   \n",
       "\n",
       "   counmet_id    activity                                          zoterourl  \n",
       "0           0    3.508917  https://www.zotero.org/groups/2432820/maris/it...  \n",
       "1           0 -144.700000  https://www.zotero.org/groups/2432820/maris/it...  \n",
       "2           0    3.320633  https://www.zotero.org/groups/2432820/maris/it...  \n",
       "3           0   -0.010000  https://www.zotero.org/groups/2432820/maris/it...  \n",
       "4           0   -0.050000  https://www.zotero.org/groups/2432820/maris/it...  \n",
       "\n",
       "[5 rows x 26 columns]"
      ]
     },
     "execution_count": null,
     "metadata": {},
     "output_type": "execute_result"
    }
   ],
   "source": [
    "df.head()"
   ]
  },
  {
   "cell_type": "code",
   "execution_count": null,
   "id": "a259eafa",
   "metadata": {},
   "outputs": [],
   "source": [
    "# 52, 191 (OSPAR)\n",
    "ref_id = 174"
   ]
  },
  {
   "cell_type": "code",
   "execution_count": null,
   "id": "333c1cc3",
   "metadata": {},
   "outputs": [],
   "source": [
    "dfs = load_data(df, ref_id)"
   ]
  },
  {
   "cell_type": "code",
   "execution_count": null,
   "id": "89768d36",
   "metadata": {},
   "outputs": [],
   "source": [
    "# from marisco.inout import read_toml\n",
    "\n",
    "# lut_src_dir_test = '../files/lut'\n",
    "# cdl_enums_test = read_toml('../files/cdl.toml')['enums']\n",
    "\n",
    "# enums = get_enum_dicts(lut_src_dir=lut_src_dir_test, \n",
    "#                        cdl_enums=cdl_enums_test)\n",
    "\n",
    "# species = {v:k for k, v in enums['species_t'].items()}\n",
    "\n",
    "# for idx in dfs['biota'].species_id.unique():\n",
    "#     print(idx in species)"
   ]
  },
  {
   "cell_type": "markdown",
   "id": "bf1a71c0",
   "metadata": {},
   "source": [
    "## Data transformation pipeline"
   ]
  },
  {
   "cell_type": "markdown",
   "id": "52e58b33",
   "metadata": {},
   "source": [
    "### Normalize nuclide names"
   ]
  },
  {
   "cell_type": "code",
   "execution_count": null,
   "id": "7029a8ff",
   "metadata": {},
   "outputs": [],
   "source": [
    "#| export\n",
    "def get_varnames_lut():\n",
    "    fname = lut_path() / 'dbo_nuclide.xlsx'\n",
    "    df_nuclide = pd.read_excel(fname, usecols=['nuclide_id', 'nc_name'])\n",
    "    return df_nuclide.set_index('nuclide_id').to_dict()['nc_name']"
   ]
  },
  {
   "cell_type": "code",
   "execution_count": null,
   "id": "78dbeba0",
   "metadata": {},
   "outputs": [],
   "source": [
    "# | export\n",
    "class RemapRdnNameCB(Callback):\n",
    "    \"Remap to MARIS radionuclide names.\"\n",
    "    def __init__(self,\n",
    "                 fn_lut=get_varnames_lut):\n",
    "        fc.store_attr()\n",
    "\n",
    "    def __call__(self, tfm):\n",
    "        lut = self.fn_lut()\n",
    "        for k in tfm.dfs.keys():\n",
    "            tfm.dfs[k]['nuclide_id'] = tfm.dfs[k]['nuclide_id'].replace(lut)"
   ]
  },
  {
   "cell_type": "code",
   "execution_count": null,
   "id": "360152cd",
   "metadata": {},
   "outputs": [],
   "source": [
    "dfs = load_data(df, ref_id)"
   ]
  },
  {
   "cell_type": "code",
   "execution_count": null,
   "id": "92a45542",
   "metadata": {},
   "outputs": [
    {
     "name": "stdout",
     "output_type": "stream",
     "text": [
      "['ra228' 'k40' 'pu238' 'pu239' 'sr90' 'th232' 'u238' 'pb210' 'ra226']\n"
     ]
    }
   ],
   "source": [
    "dfs = load_data(df, ref_id)\n",
    "tfm = Transformer(dfs, cbs=[RemapRdnNameCB()])\n",
    "\n",
    "print(tfm()['sediment']['nuclide_id'].unique())"
   ]
  },
  {
   "cell_type": "markdown",
   "id": "32cb47cf",
   "metadata": {},
   "source": [
    "### Rename columns"
   ]
  },
  {
   "cell_type": "code",
   "execution_count": null,
   "id": "eef59c5f",
   "metadata": {},
   "outputs": [
    {
     "data": {
      "text/plain": [
       "Index(['ref_id', 'displaytext', 'samptype', 'nuclide_id', 'latitude',\n",
       "       'longitude', 'begperiod', 'endperiod', 'sampdepth', 'totdepth',\n",
       "       'uncertaint', 'unit_id', 'detection', 'area_id', 'species_id',\n",
       "       'biogroup_id', 'bodypar_id', 'sedtype_id', 'volume', 'salinity',\n",
       "       'temperatur', 'sampmet_id', 'prepmet_id', 'counmet_id', 'activity',\n",
       "       'zoterourl'],\n",
       "      dtype='object')"
      ]
     },
     "execution_count": null,
     "metadata": {},
     "output_type": "execute_result"
    }
   ],
   "source": [
    "dfs['sediment'].columns"
   ]
  },
  {
   "cell_type": "code",
   "execution_count": null,
   "id": "525775d6",
   "metadata": {},
   "outputs": [],
   "source": [
    "#| export\n",
    "# To be added: endperiod, totdepth, lab\n",
    "def renaming_rules():\n",
    "    vars = cdl_cfg()['vars']\n",
    "    # Define column names renaming rules\n",
    "    return {\n",
    "        'latitude': vars['defaults']['lat']['name'],\n",
    "        'longitude': vars['defaults']['lon']['name'],\n",
    "        'begperiod': vars['defaults']['time']['name'],\n",
    "        'sampdepth': vars['defaults']['depth']['name'],\n",
    "        'uncertaint': vars['suffixes']['uncertainty']['name'],\n",
    "        'unit_id': vars['suffixes']['unit']['name'],\n",
    "        'detection': vars['suffixes']['detection_limit']['name'],\n",
    "        'area_id': vars['defaults']['area']['name'], \n",
    "        'species_id': vars['bio']['species']['name'],\n",
    "        'biogroup_id': vars['bio']['bio_group']['name'],\n",
    "        'bodypar_id': vars['bio']['body_part']['name'],\n",
    "        'sedtype_id': vars['sed']['sed_type']['name'],\n",
    "        'volume': vars['suffixes']['volume']['name'],\n",
    "        'salinity': vars['suffixes']['salinity']['name'],\n",
    "        'temperatur': vars['suffixes']['temperature']['name'],\n",
    "        'sampmet_id': vars['suffixes']['sampling_method']['name'],\n",
    "        'prepmet_id': vars['suffixes']['preparation_method']['name'],\n",
    "        'counmet_id': vars['suffixes']['counting_method']['name'],\n",
    "        'activity': 'value',\n",
    "        'nuclide_id': 'nuclide'\n",
    "    }"
   ]
  },
  {
   "cell_type": "code",
   "execution_count": null,
   "id": "322f3b7e",
   "metadata": {},
   "outputs": [],
   "source": [
    "#| export\n",
    "class RenameColumnCB(Callback):\n",
    "    \"Renaming variables to MARIS standard names.\"\n",
    "    def __init__(self, renaming_rules=renaming_rules): fc.store_attr()\n",
    "    def __call__(self, tfm):\n",
    "        lut = renaming_rules()\n",
    "        coi = lut.keys()\n",
    "        for k in tfm.dfs.keys():\n",
    "            # Select cols of interest\n",
    "            tfm.dfs[k] = tfm.dfs[k].loc[:, coi]\n",
    "            # Rename cols\n",
    "            tfm.dfs[k].rename(columns=lut, inplace=True)"
   ]
  },
  {
   "cell_type": "code",
   "execution_count": null,
   "id": "0ed8c9c6",
   "metadata": {},
   "outputs": [
    {
     "name": "stdout",
     "output_type": "stream",
     "text": [
      "             lat        lon                 time  depth     unc  unit dl  \\\n",
      "14936 -62.166667 -94.276111  2003-01-31 00:00:00    NaN    5.00     4  =   \n",
      "14937 -62.166667 -94.276111  2003-01-31 00:00:00    NaN  222.00     4  =   \n",
      "14938 -62.166667 -94.276111  2003-01-31 00:00:00    NaN    0.10     4  =   \n",
      "14939 -62.166667 -94.276111  2003-01-31 00:00:00    NaN    0.07     4  =   \n",
      "14940 -62.166667 -94.276111  2003-01-31 00:00:00    NaN   40.00     4  =   \n",
      "15080 -62.169444 -58.601944  2003-01-31 00:00:00    NaN    0.71     4  =   \n",
      "15081 -62.169444 -58.601944  2003-01-31 00:00:00    NaN    0.79     4  =   \n",
      "15082 -62.172500 -58.546667  2003-01-31 00:00:00    NaN    0.50     4  =   \n",
      "15083 -62.172500 -58.546667  2003-01-31 00:00:00    NaN    0.43     4  =   \n",
      "15084 -62.173889 -58.443889  2003-01-31 00:00:00    NaN    0.41     4  =   \n",
      "15085 -62.173889 -58.443889  2003-01-31 00:00:00    NaN    0.47     4  =   \n",
      "15086 -62.190556 -58.610556  2003-01-31 00:00:00    NaN    0.63     4  =   \n",
      "15087 -62.190556 -58.610556  2003-01-31 00:00:00    NaN    0.72     4  =   \n",
      "15088 -62.222500 -58.411667  2003-01-31 00:00:00    NaN    0.53     4  =   \n",
      "15089 -62.222500 -58.411667  2003-01-31 00:00:00    NaN    0.29     4  =   \n",
      "15090 -62.086944 -58.369444  2003-01-31 00:00:00    NaN    0.60     4  =   \n",
      "15091 -62.086944 -58.369444  2003-01-31 00:00:00    NaN    0.79     4  =   \n",
      "15092 -62.088611 -58.386944  2003-01-31 00:00:00    NaN    0.53     4  =   \n",
      "15093 -62.088611 -58.386944  2003-01-31 00:00:00    NaN    0.93     4  =   \n",
      "15094 -62.091111 -58.464722  2003-01-31 00:00:00    NaN    0.52     4  =   \n",
      "15095 -62.091111 -58.464722  2003-01-31 00:00:00    NaN    0.79     4  =   \n",
      "15096 -62.095556 -58.392778  2003-01-31 00:00:00    NaN    0.68     4  =   \n",
      "15097 -62.095556 -58.392778  2003-01-31 00:00:00    NaN    0.54     4  =   \n",
      "15098 -62.097222 -58.331389  2003-01-31 00:00:00    NaN    0.59     4  =   \n",
      "15099 -62.097222 -58.331389  2003-01-31 00:00:00    NaN    0.58     4  =   \n",
      "15100 -62.084722 -58.388333  2003-01-31 00:00:00    NaN    0.57     4  =   \n",
      "15101 -62.084722 -58.388333  2003-01-31 00:00:00    NaN    0.76     4  =   \n",
      "15102 -62.131389 -58.410833  2003-01-31 00:00:00    NaN    0.52     4  =   \n",
      "15103 -62.131389 -58.410833  2003-01-31 00:00:00    NaN    0.90     4  =   \n",
      "15104 -62.157500 -58.490833  2003-01-31 00:00:00    NaN    0.44     4  =   \n",
      "15105 -62.158333 -58.461389  2003-01-31 00:00:00    NaN    0.41     4  =   \n",
      "15106 -62.158333 -58.461389  2003-01-31 00:00:00    NaN    0.40     4  =   \n",
      "15107 -62.160556 -58.368056  2003-01-31 00:00:00    NaN    0.44     4  =   \n",
      "15108 -62.160556 -58.368056  2003-01-31 00:00:00    NaN    0.47     4  =   \n",
      "15109 -62.166667 -94.276111  2003-01-31 00:00:00    NaN   44.00     4  =   \n",
      "15110 -62.166667 -94.276111  2003-01-31 00:00:00    NaN    8.00     4  =   \n",
      "\n",
      "       area  species  bio_group  body_part  sed_type  vol  sal  temp  sampmet  \\\n",
      "14936  1907        0          0          0         0  NaN  NaN   NaN        5   \n",
      "14937  1907        0          0          0         0  NaN  NaN   NaN        5   \n",
      "14938  1907        0          0          0         0  NaN  NaN   NaN        5   \n",
      "14939  1907        0          0          0         0  NaN  NaN   NaN        5   \n",
      "14940  1907        0          0          0         0  NaN  NaN   NaN        5   \n",
      "15080  1907        0          0          0        12  NaN  NaN   NaN        5   \n",
      "15081  1907        0          0          0        12  NaN  NaN   NaN        5   \n",
      "15082  1907        0          0          0         6  NaN  NaN   NaN        5   \n",
      "15083  1907        0          0          0         6  NaN  NaN   NaN        5   \n",
      "15084  1907        0          0          0         0  NaN  NaN   NaN        5   \n",
      "15085  1907        0          0          0         0  NaN  NaN   NaN        5   \n",
      "15086  1907        0          0          0         2  NaN  NaN   NaN        5   \n",
      "15087  1907        0          0          0         2  NaN  NaN   NaN        5   \n",
      "15088  1907        0          0          0         6  NaN  NaN   NaN        5   \n",
      "15089  1907        0          0          0         6  NaN  NaN   NaN        5   \n",
      "15090  1907        0          0          0        12  NaN  NaN   NaN        5   \n",
      "15091  1907        0          0          0        12  NaN  NaN   NaN        5   \n",
      "15092  1907        0          0          0        12  NaN  NaN   NaN        5   \n",
      "15093  1907        0          0          0        12  NaN  NaN   NaN        5   \n",
      "15094  1907        0          0          0         6  NaN  NaN   NaN        5   \n",
      "15095  1907        0          0          0         6  NaN  NaN   NaN        5   \n",
      "15096  1907        0          0          0        12  NaN  NaN   NaN        5   \n",
      "15097  1907        0          0          0        12  NaN  NaN   NaN        5   \n",
      "15098  1907        0          0          0        12  NaN  NaN   NaN        5   \n",
      "15099  1907        0          0          0        12  NaN  NaN   NaN        5   \n",
      "15100  1907        0          0          0        12  NaN  NaN   NaN        5   \n",
      "15101  1907        0          0          0        12  NaN  NaN   NaN        5   \n",
      "15102  1907        0          0          0         6  NaN  NaN   NaN        5   \n",
      "15103  1907        0          0          0         6  NaN  NaN   NaN        5   \n",
      "15104  1907        0          0          0         0  NaN  NaN   NaN        5   \n",
      "15105  1907        0          0          0         6  NaN  NaN   NaN        5   \n",
      "15106  1907        0          0          0         6  NaN  NaN   NaN        5   \n",
      "15107  1907        0          0          0         0  NaN  NaN   NaN        5   \n",
      "15108  1907        0          0          0         0  NaN  NaN   NaN        5   \n",
      "15109  1907        0          0          0         0  NaN  NaN   NaN        5   \n",
      "15110  1907        0          0          0         0  NaN  NaN   NaN        5   \n",
      "\n",
      "       prepmet  counmet   value nuclide  \n",
      "14936        7       20   17.00   ra228  \n",
      "14937        7       20  612.00     k40  \n",
      "14938        7       20    0.30   pu238  \n",
      "14939        7       20    0.19   pu239  \n",
      "14940        7       20   31.00    sr90  \n",
      "15080        7       26   24.44   th232  \n",
      "15081        7       26   27.28    u238  \n",
      "15082        7       26   17.11   th232  \n",
      "15083        7       26   14.88    u238  \n",
      "15084        7       26   14.26   th232  \n",
      "15085        7       26   16.12    u238  \n",
      "15086        7       26   21.59   th232  \n",
      "15087        7       26   24.80    u238  \n",
      "15088        7       26   18.33   th232  \n",
      "15089        7       26    9.92    u238  \n",
      "15090        7       26   20.77   th232  \n",
      "15091        7       26   27.28    u238  \n",
      "15092        7       26   18.33   th232  \n",
      "15093        7       26   32.24    u238  \n",
      "15094        7       26   17.92   th232  \n",
      "15095        7       26   27.28    u238  \n",
      "15096        7       26   23.56    u238  \n",
      "15097        7       26   18.74   th232  \n",
      "15098        7       26   20.37   th232  \n",
      "15099        7       26   19.84    u238  \n",
      "15100        7       26   19.55   th232  \n",
      "15101        7       26   26.04    u238  \n",
      "15102        7       26   17.92   th232  \n",
      "15103        7       26   31.00    u238  \n",
      "15104        7       26   15.07   th232  \n",
      "15105        7       26   14.26   th232  \n",
      "15106        7       26   13.64    u238  \n",
      "15107        7       26   15.07   th232  \n",
      "15108        7       26   16.12    u238  \n",
      "15109        7       20  105.00   pb210  \n",
      "15110        7       20   21.00   ra226  \n"
     ]
    }
   ],
   "source": [
    "dfs = load_data(df, ref_id)\n",
    "tfm = Transformer(dfs, cbs=[\n",
    "    RemapRdnNameCB(),\n",
    "    RenameColumnCB()\n",
    "    ])\n",
    "\n",
    "print(tfm()['sediment'])"
   ]
  },
  {
   "cell_type": "markdown",
   "id": "21b2fbc4",
   "metadata": {},
   "source": [
    "### Drop NaN only columns"
   ]
  },
  {
   "cell_type": "code",
   "execution_count": null,
   "id": "819703e6",
   "metadata": {},
   "outputs": [],
   "source": [
    "#| export\n",
    "class DropNAColumnsCB(Callback):\n",
    "    \"Drop variable containing only NaN or 'Not available' (id=0 in MARIS lookup tables).\"\n",
    "    def __init__(self, na_value=0):\n",
    "        fc.store_attr()\n",
    "        \n",
    "    def isMarisNA(self, col): \n",
    "        return len(col.unique()) == 1 and col.iloc[0] == self.na_value\n",
    "    \n",
    "    def dropMarisNA(self, df):\n",
    "        na_cols = [col for col in df.columns if self.isMarisNA(df[col])]\n",
    "        return df.drop(labels=na_cols, axis=1)\n",
    "        \n",
    "    def __call__(self, tfm):\n",
    "        for k in tfm.dfs.keys():\n",
    "            tfm.dfs[k] = tfm.dfs[k].dropna(axis=1, how='all')\n",
    "            tfm.dfs[k] = self.dropMarisNA(tfm.dfs[k])"
   ]
  },
  {
   "cell_type": "code",
   "execution_count": null,
   "id": "9e0f69f1",
   "metadata": {},
   "outputs": [
    {
     "name": "stdout",
     "output_type": "stream",
     "text": [
      "             lat        lon                 time     unc  unit dl  area  \\\n",
      "14936 -62.166667 -94.276111  2003-01-31 00:00:00    5.00     4  =  1907   \n",
      "14937 -62.166667 -94.276111  2003-01-31 00:00:00  222.00     4  =  1907   \n",
      "14938 -62.166667 -94.276111  2003-01-31 00:00:00    0.10     4  =  1907   \n",
      "14939 -62.166667 -94.276111  2003-01-31 00:00:00    0.07     4  =  1907   \n",
      "14940 -62.166667 -94.276111  2003-01-31 00:00:00   40.00     4  =  1907   \n",
      "15080 -62.169444 -58.601944  2003-01-31 00:00:00    0.71     4  =  1907   \n",
      "15081 -62.169444 -58.601944  2003-01-31 00:00:00    0.79     4  =  1907   \n",
      "15082 -62.172500 -58.546667  2003-01-31 00:00:00    0.50     4  =  1907   \n",
      "15083 -62.172500 -58.546667  2003-01-31 00:00:00    0.43     4  =  1907   \n",
      "15084 -62.173889 -58.443889  2003-01-31 00:00:00    0.41     4  =  1907   \n",
      "15085 -62.173889 -58.443889  2003-01-31 00:00:00    0.47     4  =  1907   \n",
      "15086 -62.190556 -58.610556  2003-01-31 00:00:00    0.63     4  =  1907   \n",
      "15087 -62.190556 -58.610556  2003-01-31 00:00:00    0.72     4  =  1907   \n",
      "15088 -62.222500 -58.411667  2003-01-31 00:00:00    0.53     4  =  1907   \n",
      "15089 -62.222500 -58.411667  2003-01-31 00:00:00    0.29     4  =  1907   \n",
      "15090 -62.086944 -58.369444  2003-01-31 00:00:00    0.60     4  =  1907   \n",
      "15091 -62.086944 -58.369444  2003-01-31 00:00:00    0.79     4  =  1907   \n",
      "15092 -62.088611 -58.386944  2003-01-31 00:00:00    0.53     4  =  1907   \n",
      "15093 -62.088611 -58.386944  2003-01-31 00:00:00    0.93     4  =  1907   \n",
      "15094 -62.091111 -58.464722  2003-01-31 00:00:00    0.52     4  =  1907   \n",
      "15095 -62.091111 -58.464722  2003-01-31 00:00:00    0.79     4  =  1907   \n",
      "15096 -62.095556 -58.392778  2003-01-31 00:00:00    0.68     4  =  1907   \n",
      "15097 -62.095556 -58.392778  2003-01-31 00:00:00    0.54     4  =  1907   \n",
      "15098 -62.097222 -58.331389  2003-01-31 00:00:00    0.59     4  =  1907   \n",
      "15099 -62.097222 -58.331389  2003-01-31 00:00:00    0.58     4  =  1907   \n",
      "15100 -62.084722 -58.388333  2003-01-31 00:00:00    0.57     4  =  1907   \n",
      "15101 -62.084722 -58.388333  2003-01-31 00:00:00    0.76     4  =  1907   \n",
      "15102 -62.131389 -58.410833  2003-01-31 00:00:00    0.52     4  =  1907   \n",
      "15103 -62.131389 -58.410833  2003-01-31 00:00:00    0.90     4  =  1907   \n",
      "15104 -62.157500 -58.490833  2003-01-31 00:00:00    0.44     4  =  1907   \n",
      "15105 -62.158333 -58.461389  2003-01-31 00:00:00    0.41     4  =  1907   \n",
      "15106 -62.158333 -58.461389  2003-01-31 00:00:00    0.40     4  =  1907   \n",
      "15107 -62.160556 -58.368056  2003-01-31 00:00:00    0.44     4  =  1907   \n",
      "15108 -62.160556 -58.368056  2003-01-31 00:00:00    0.47     4  =  1907   \n",
      "15109 -62.166667 -94.276111  2003-01-31 00:00:00   44.00     4  =  1907   \n",
      "15110 -62.166667 -94.276111  2003-01-31 00:00:00    8.00     4  =  1907   \n",
      "\n",
      "       sed_type  sampmet  prepmet  counmet   value nuclide  \n",
      "14936         0        5        7       20   17.00   ra228  \n",
      "14937         0        5        7       20  612.00     k40  \n",
      "14938         0        5        7       20    0.30   pu238  \n",
      "14939         0        5        7       20    0.19   pu239  \n",
      "14940         0        5        7       20   31.00    sr90  \n",
      "15080        12        5        7       26   24.44   th232  \n",
      "15081        12        5        7       26   27.28    u238  \n",
      "15082         6        5        7       26   17.11   th232  \n",
      "15083         6        5        7       26   14.88    u238  \n",
      "15084         0        5        7       26   14.26   th232  \n",
      "15085         0        5        7       26   16.12    u238  \n",
      "15086         2        5        7       26   21.59   th232  \n",
      "15087         2        5        7       26   24.80    u238  \n",
      "15088         6        5        7       26   18.33   th232  \n",
      "15089         6        5        7       26    9.92    u238  \n",
      "15090        12        5        7       26   20.77   th232  \n",
      "15091        12        5        7       26   27.28    u238  \n",
      "15092        12        5        7       26   18.33   th232  \n",
      "15093        12        5        7       26   32.24    u238  \n",
      "15094         6        5        7       26   17.92   th232  \n",
      "15095         6        5        7       26   27.28    u238  \n",
      "15096        12        5        7       26   23.56    u238  \n",
      "15097        12        5        7       26   18.74   th232  \n",
      "15098        12        5        7       26   20.37   th232  \n",
      "15099        12        5        7       26   19.84    u238  \n",
      "15100        12        5        7       26   19.55   th232  \n",
      "15101        12        5        7       26   26.04    u238  \n",
      "15102         6        5        7       26   17.92   th232  \n",
      "15103         6        5        7       26   31.00    u238  \n",
      "15104         0        5        7       26   15.07   th232  \n",
      "15105         6        5        7       26   14.26   th232  \n",
      "15106         6        5        7       26   13.64    u238  \n",
      "15107         0        5        7       26   15.07   th232  \n",
      "15108         0        5        7       26   16.12    u238  \n",
      "15109         0        5        7       20  105.00   pb210  \n",
      "15110         0        5        7       20   21.00   ra226  \n"
     ]
    }
   ],
   "source": [
    "dfs = load_data(df, ref_id)\n",
    "tfm = Transformer(dfs, cbs=[\n",
    "    RemapRdnNameCB(),\n",
    "    RenameColumnCB(),\n",
    "    DropNAColumnsCB()\n",
    "    ])\n",
    "\n",
    "print(tfm()['sediment'])"
   ]
  },
  {
   "cell_type": "markdown",
   "id": "54a51628",
   "metadata": {},
   "source": [
    "### Sanitize detection limit values"
   ]
  },
  {
   "cell_type": "code",
   "execution_count": null,
   "id": "36512b76",
   "metadata": {},
   "outputs": [],
   "source": [
    "#| export\n",
    "def get_dl_lut():\n",
    "    fname = lut_path() / 'dbo_detectlimit.xlsx'\n",
    "    df_nuclide = pd.read_excel(fname, usecols=['name', 'id'])\n",
    "    return df_nuclide.set_index('name').to_dict()['id']"
   ]
  },
  {
   "cell_type": "code",
   "execution_count": null,
   "id": "bbef9550",
   "metadata": {},
   "outputs": [
    {
     "data": {
      "text/plain": [
       "{'Not Available': 0, '=': 1, '<': 2, 'ND': 3, 'DE': 4}"
      ]
     },
     "execution_count": null,
     "metadata": {},
     "output_type": "execute_result"
    }
   ],
   "source": [
    "get_dl_lut()"
   ]
  },
  {
   "cell_type": "code",
   "execution_count": null,
   "id": "c99e5640",
   "metadata": {},
   "outputs": [],
   "source": [
    "#| export\n",
    "class SanitizeDetectionLimitCB(Callback):\n",
    "    \"Assign Detection Limit name to its id based on MARIS nomenclature.\"\n",
    "    def __init__(self,\n",
    "                 fn_lut=get_dl_lut):\n",
    "        fc.store_attr()\n",
    "\n",
    "    def __call__(self, tfm):\n",
    "        lut = self.fn_lut()\n",
    "        for k in tfm.dfs.keys():\n",
    "            tfm.dfs[k]['dl'] = tfm.dfs[k]['dl'].replace(lut)"
   ]
  },
  {
   "cell_type": "code",
   "execution_count": null,
   "id": "e71200b5",
   "metadata": {},
   "outputs": [
    {
     "name": "stdout",
     "output_type": "stream",
     "text": [
      "             lat        lon                 time     unc  unit  dl  area  \\\n",
      "14936 -62.166667 -94.276111  2003-01-31 00:00:00    5.00     4   1  1907   \n",
      "14937 -62.166667 -94.276111  2003-01-31 00:00:00  222.00     4   1  1907   \n",
      "14938 -62.166667 -94.276111  2003-01-31 00:00:00    0.10     4   1  1907   \n",
      "14939 -62.166667 -94.276111  2003-01-31 00:00:00    0.07     4   1  1907   \n",
      "14940 -62.166667 -94.276111  2003-01-31 00:00:00   40.00     4   1  1907   \n",
      "15080 -62.169444 -58.601944  2003-01-31 00:00:00    0.71     4   1  1907   \n",
      "15081 -62.169444 -58.601944  2003-01-31 00:00:00    0.79     4   1  1907   \n",
      "15082 -62.172500 -58.546667  2003-01-31 00:00:00    0.50     4   1  1907   \n",
      "15083 -62.172500 -58.546667  2003-01-31 00:00:00    0.43     4   1  1907   \n",
      "15084 -62.173889 -58.443889  2003-01-31 00:00:00    0.41     4   1  1907   \n",
      "15085 -62.173889 -58.443889  2003-01-31 00:00:00    0.47     4   1  1907   \n",
      "15086 -62.190556 -58.610556  2003-01-31 00:00:00    0.63     4   1  1907   \n",
      "15087 -62.190556 -58.610556  2003-01-31 00:00:00    0.72     4   1  1907   \n",
      "15088 -62.222500 -58.411667  2003-01-31 00:00:00    0.53     4   1  1907   \n",
      "15089 -62.222500 -58.411667  2003-01-31 00:00:00    0.29     4   1  1907   \n",
      "15090 -62.086944 -58.369444  2003-01-31 00:00:00    0.60     4   1  1907   \n",
      "15091 -62.086944 -58.369444  2003-01-31 00:00:00    0.79     4   1  1907   \n",
      "15092 -62.088611 -58.386944  2003-01-31 00:00:00    0.53     4   1  1907   \n",
      "15093 -62.088611 -58.386944  2003-01-31 00:00:00    0.93     4   1  1907   \n",
      "15094 -62.091111 -58.464722  2003-01-31 00:00:00    0.52     4   1  1907   \n",
      "15095 -62.091111 -58.464722  2003-01-31 00:00:00    0.79     4   1  1907   \n",
      "15096 -62.095556 -58.392778  2003-01-31 00:00:00    0.68     4   1  1907   \n",
      "15097 -62.095556 -58.392778  2003-01-31 00:00:00    0.54     4   1  1907   \n",
      "15098 -62.097222 -58.331389  2003-01-31 00:00:00    0.59     4   1  1907   \n",
      "15099 -62.097222 -58.331389  2003-01-31 00:00:00    0.58     4   1  1907   \n",
      "15100 -62.084722 -58.388333  2003-01-31 00:00:00    0.57     4   1  1907   \n",
      "15101 -62.084722 -58.388333  2003-01-31 00:00:00    0.76     4   1  1907   \n",
      "15102 -62.131389 -58.410833  2003-01-31 00:00:00    0.52     4   1  1907   \n",
      "15103 -62.131389 -58.410833  2003-01-31 00:00:00    0.90     4   1  1907   \n",
      "15104 -62.157500 -58.490833  2003-01-31 00:00:00    0.44     4   1  1907   \n",
      "15105 -62.158333 -58.461389  2003-01-31 00:00:00    0.41     4   1  1907   \n",
      "15106 -62.158333 -58.461389  2003-01-31 00:00:00    0.40     4   1  1907   \n",
      "15107 -62.160556 -58.368056  2003-01-31 00:00:00    0.44     4   1  1907   \n",
      "15108 -62.160556 -58.368056  2003-01-31 00:00:00    0.47     4   1  1907   \n",
      "15109 -62.166667 -94.276111  2003-01-31 00:00:00   44.00     4   1  1907   \n",
      "15110 -62.166667 -94.276111  2003-01-31 00:00:00    8.00     4   1  1907   \n",
      "\n",
      "       sed_type  sampmet  prepmet  counmet   value nuclide  \n",
      "14936         0        5        7       20   17.00   ra228  \n",
      "14937         0        5        7       20  612.00     k40  \n",
      "14938         0        5        7       20    0.30   pu238  \n",
      "14939         0        5        7       20    0.19   pu239  \n",
      "14940         0        5        7       20   31.00    sr90  \n",
      "15080        12        5        7       26   24.44   th232  \n",
      "15081        12        5        7       26   27.28    u238  \n",
      "15082         6        5        7       26   17.11   th232  \n",
      "15083         6        5        7       26   14.88    u238  \n",
      "15084         0        5        7       26   14.26   th232  \n",
      "15085         0        5        7       26   16.12    u238  \n",
      "15086         2        5        7       26   21.59   th232  \n",
      "15087         2        5        7       26   24.80    u238  \n",
      "15088         6        5        7       26   18.33   th232  \n",
      "15089         6        5        7       26    9.92    u238  \n",
      "15090        12        5        7       26   20.77   th232  \n",
      "15091        12        5        7       26   27.28    u238  \n",
      "15092        12        5        7       26   18.33   th232  \n",
      "15093        12        5        7       26   32.24    u238  \n",
      "15094         6        5        7       26   17.92   th232  \n",
      "15095         6        5        7       26   27.28    u238  \n",
      "15096        12        5        7       26   23.56    u238  \n",
      "15097        12        5        7       26   18.74   th232  \n",
      "15098        12        5        7       26   20.37   th232  \n",
      "15099        12        5        7       26   19.84    u238  \n",
      "15100        12        5        7       26   19.55   th232  \n",
      "15101        12        5        7       26   26.04    u238  \n",
      "15102         6        5        7       26   17.92   th232  \n",
      "15103         6        5        7       26   31.00    u238  \n",
      "15104         0        5        7       26   15.07   th232  \n",
      "15105         6        5        7       26   14.26   th232  \n",
      "15106         6        5        7       26   13.64    u238  \n",
      "15107         0        5        7       26   15.07   th232  \n",
      "15108         0        5        7       26   16.12    u238  \n",
      "15109         0        5        7       20  105.00   pb210  \n",
      "15110         0        5        7       20   21.00   ra226  \n"
     ]
    }
   ],
   "source": [
    "dfs = load_data(df, ref_id)\n",
    "tfm = Transformer(dfs, cbs=[\n",
    "    RemapRdnNameCB(),\n",
    "    RenameColumnCB(),\n",
    "    DropNAColumnsCB(),\n",
    "    SanitizeDetectionLimitCB()\n",
    "    ])\n",
    "\n",
    "print(tfm()['sediment'])"
   ]
  },
  {
   "cell_type": "markdown",
   "id": "8a07b9e9",
   "metadata": {},
   "source": [
    "### Parse time"
   ]
  },
  {
   "cell_type": "code",
   "execution_count": null,
   "id": "434da9d4",
   "metadata": {},
   "outputs": [],
   "source": [
    "#| export\n",
    "class ParseTimeCB(Callback):\n",
    "    def __call__(self, tfm):\n",
    "        for k in tfm.dfs.keys():\n",
    "            tfm.dfs[k]['time'] = pd.to_datetime(tfm.dfs[k].time, format='ISO8601')"
   ]
  },
  {
   "cell_type": "code",
   "execution_count": null,
   "id": "3ebcdf32",
   "metadata": {},
   "outputs": [
    {
     "name": "stdout",
     "output_type": "stream",
     "text": [
      "             lat        lon       time     unc  unit  dl  area  sed_type  \\\n",
      "14936 -62.166667 -94.276111 2003-01-31    5.00     4   1  1907         0   \n",
      "14937 -62.166667 -94.276111 2003-01-31  222.00     4   1  1907         0   \n",
      "14938 -62.166667 -94.276111 2003-01-31    0.10     4   1  1907         0   \n",
      "14939 -62.166667 -94.276111 2003-01-31    0.07     4   1  1907         0   \n",
      "14940 -62.166667 -94.276111 2003-01-31   40.00     4   1  1907         0   \n",
      "15080 -62.169444 -58.601944 2003-01-31    0.71     4   1  1907        12   \n",
      "15081 -62.169444 -58.601944 2003-01-31    0.79     4   1  1907        12   \n",
      "15082 -62.172500 -58.546667 2003-01-31    0.50     4   1  1907         6   \n",
      "15083 -62.172500 -58.546667 2003-01-31    0.43     4   1  1907         6   \n",
      "15084 -62.173889 -58.443889 2003-01-31    0.41     4   1  1907         0   \n",
      "15085 -62.173889 -58.443889 2003-01-31    0.47     4   1  1907         0   \n",
      "15086 -62.190556 -58.610556 2003-01-31    0.63     4   1  1907         2   \n",
      "15087 -62.190556 -58.610556 2003-01-31    0.72     4   1  1907         2   \n",
      "15088 -62.222500 -58.411667 2003-01-31    0.53     4   1  1907         6   \n",
      "15089 -62.222500 -58.411667 2003-01-31    0.29     4   1  1907         6   \n",
      "15090 -62.086944 -58.369444 2003-01-31    0.60     4   1  1907        12   \n",
      "15091 -62.086944 -58.369444 2003-01-31    0.79     4   1  1907        12   \n",
      "15092 -62.088611 -58.386944 2003-01-31    0.53     4   1  1907        12   \n",
      "15093 -62.088611 -58.386944 2003-01-31    0.93     4   1  1907        12   \n",
      "15094 -62.091111 -58.464722 2003-01-31    0.52     4   1  1907         6   \n",
      "15095 -62.091111 -58.464722 2003-01-31    0.79     4   1  1907         6   \n",
      "15096 -62.095556 -58.392778 2003-01-31    0.68     4   1  1907        12   \n",
      "15097 -62.095556 -58.392778 2003-01-31    0.54     4   1  1907        12   \n",
      "15098 -62.097222 -58.331389 2003-01-31    0.59     4   1  1907        12   \n",
      "15099 -62.097222 -58.331389 2003-01-31    0.58     4   1  1907        12   \n",
      "15100 -62.084722 -58.388333 2003-01-31    0.57     4   1  1907        12   \n",
      "15101 -62.084722 -58.388333 2003-01-31    0.76     4   1  1907        12   \n",
      "15102 -62.131389 -58.410833 2003-01-31    0.52     4   1  1907         6   \n",
      "15103 -62.131389 -58.410833 2003-01-31    0.90     4   1  1907         6   \n",
      "15104 -62.157500 -58.490833 2003-01-31    0.44     4   1  1907         0   \n",
      "15105 -62.158333 -58.461389 2003-01-31    0.41     4   1  1907         6   \n",
      "15106 -62.158333 -58.461389 2003-01-31    0.40     4   1  1907         6   \n",
      "15107 -62.160556 -58.368056 2003-01-31    0.44     4   1  1907         0   \n",
      "15108 -62.160556 -58.368056 2003-01-31    0.47     4   1  1907         0   \n",
      "15109 -62.166667 -94.276111 2003-01-31   44.00     4   1  1907         0   \n",
      "15110 -62.166667 -94.276111 2003-01-31    8.00     4   1  1907         0   \n",
      "\n",
      "       sampmet  prepmet  counmet   value nuclide  \n",
      "14936        5        7       20   17.00   ra228  \n",
      "14937        5        7       20  612.00     k40  \n",
      "14938        5        7       20    0.30   pu238  \n",
      "14939        5        7       20    0.19   pu239  \n",
      "14940        5        7       20   31.00    sr90  \n",
      "15080        5        7       26   24.44   th232  \n",
      "15081        5        7       26   27.28    u238  \n",
      "15082        5        7       26   17.11   th232  \n",
      "15083        5        7       26   14.88    u238  \n",
      "15084        5        7       26   14.26   th232  \n",
      "15085        5        7       26   16.12    u238  \n",
      "15086        5        7       26   21.59   th232  \n",
      "15087        5        7       26   24.80    u238  \n",
      "15088        5        7       26   18.33   th232  \n",
      "15089        5        7       26    9.92    u238  \n",
      "15090        5        7       26   20.77   th232  \n",
      "15091        5        7       26   27.28    u238  \n",
      "15092        5        7       26   18.33   th232  \n",
      "15093        5        7       26   32.24    u238  \n",
      "15094        5        7       26   17.92   th232  \n",
      "15095        5        7       26   27.28    u238  \n",
      "15096        5        7       26   23.56    u238  \n",
      "15097        5        7       26   18.74   th232  \n",
      "15098        5        7       26   20.37   th232  \n",
      "15099        5        7       26   19.84    u238  \n",
      "15100        5        7       26   19.55   th232  \n",
      "15101        5        7       26   26.04    u238  \n",
      "15102        5        7       26   17.92   th232  \n",
      "15103        5        7       26   31.00    u238  \n",
      "15104        5        7       26   15.07   th232  \n",
      "15105        5        7       26   14.26   th232  \n",
      "15106        5        7       26   13.64    u238  \n",
      "15107        5        7       26   15.07   th232  \n",
      "15108        5        7       26   16.12    u238  \n",
      "15109        5        7       20  105.00   pb210  \n",
      "15110        5        7       20   21.00   ra226  \n"
     ]
    }
   ],
   "source": [
    "dfs = load_data(df, ref_id)\n",
    "tfm = Transformer(dfs, cbs=[\n",
    "    RemapRdnNameCB(),\n",
    "    RenameColumnCB(),\n",
    "    DropNAColumnsCB(),\n",
    "    SanitizeDetectionLimitCB(),\n",
    "    ParseTimeCB()\n",
    "    ])\n",
    "\n",
    "print(tfm()['sediment'])"
   ]
  },
  {
   "cell_type": "markdown",
   "id": "375be6e5",
   "metadata": {},
   "source": [
    "### Reshape: long to wide"
   ]
  },
  {
   "cell_type": "code",
   "execution_count": null,
   "id": "24ed472c",
   "metadata": {},
   "outputs": [],
   "source": [
    "#| export\n",
    "class ReshapeLongToWide(Callback):\n",
    "    \"Convert data from long to wide with renamed columns.\"\n",
    "    def __init__(self, value_col='nuclide'):\n",
    "        fc.store_attr()\n",
    "        self.derived_cols = [value['name'] for value in cdl_cfg()['vars']['suffixes'].values()]\n",
    "    \n",
    "    def renamed_cols(self, cols):\n",
    "        return [f'{inner}_{outer}' if inner else outer for outer, inner in cols]\n",
    "\n",
    "    def pivot(self, df):\n",
    "        derived_coi = [col for col in self.derived_cols if col in df.columns]\n",
    "        df.reset_index(names='sample', inplace=True)\n",
    "        idx = list(set(df.columns) - set([self.value_col] + derived_coi))\n",
    "        return df.pivot_table(index=idx,\n",
    "                              columns=self.value_col,\n",
    "                              values=derived_coi,\n",
    "                              fill_value=0,\n",
    "                              aggfunc=lambda x: x\n",
    "                              ).reset_index()\n",
    "\n",
    "    def __call__(self, tfm):\n",
    "        for k in tfm.dfs.keys():\n",
    "            tfm.dfs[k] = self.pivot(tfm.dfs[k])\n",
    "            tfm.dfs[k].columns = self.renamed_cols(tfm.dfs[k].columns)\n",
    "            # tfm.dfs[k].index.name = 'sample'\n",
    "            tfm.dfs[k].set_index('sample', inplace=True)"
   ]
  },
  {
   "cell_type": "code",
   "execution_count": null,
   "id": "7328389e",
   "metadata": {},
   "outputs": [
    {
     "name": "stdout",
     "output_type": "stream",
     "text": [
      "        sed_type   value       time        lon  area        lat  k40_counmet  \\\n",
      "sample                                                                         \n",
      "14939          0    0.19 2003-01-31 -94.276111  1907 -62.166667            0   \n",
      "14938          0    0.30 2003-01-31 -94.276111  1907 -62.166667            0   \n",
      "15084          0   14.26 2003-01-31 -58.443889  1907 -62.173889            0   \n",
      "15104          0   15.07 2003-01-31 -58.490833  1907 -62.157500            0   \n",
      "15107          0   15.07 2003-01-31 -58.368056  1907 -62.160556            0   \n",
      "15085          0   16.12 2003-01-31 -58.443889  1907 -62.173889            0   \n",
      "15108          0   16.12 2003-01-31 -58.368056  1907 -62.160556            0   \n",
      "14936          0   17.00 2003-01-31 -94.276111  1907 -62.166667            0   \n",
      "15110          0   21.00 2003-01-31 -94.276111  1907 -62.166667            0   \n",
      "14940          0   31.00 2003-01-31 -94.276111  1907 -62.166667            0   \n",
      "15109          0  105.00 2003-01-31 -94.276111  1907 -62.166667            0   \n",
      "14937          0  612.00 2003-01-31 -94.276111  1907 -62.166667           20   \n",
      "15086          2   21.59 2003-01-31 -58.610556  1907 -62.190556            0   \n",
      "15087          2   24.80 2003-01-31 -58.610556  1907 -62.190556            0   \n",
      "15089          6    9.92 2003-01-31 -58.411667  1907 -62.222500            0   \n",
      "15106          6   13.64 2003-01-31 -58.461389  1907 -62.158333            0   \n",
      "15105          6   14.26 2003-01-31 -58.461389  1907 -62.158333            0   \n",
      "15083          6   14.88 2003-01-31 -58.546667  1907 -62.172500            0   \n",
      "15082          6   17.11 2003-01-31 -58.546667  1907 -62.172500            0   \n",
      "15094          6   17.92 2003-01-31 -58.464722  1907 -62.091111            0   \n",
      "15102          6   17.92 2003-01-31 -58.410833  1907 -62.131389            0   \n",
      "15088          6   18.33 2003-01-31 -58.411667  1907 -62.222500            0   \n",
      "15095          6   27.28 2003-01-31 -58.464722  1907 -62.091111            0   \n",
      "15103          6   31.00 2003-01-31 -58.410833  1907 -62.131389            0   \n",
      "15092         12   18.33 2003-01-31 -58.386944  1907 -62.088611            0   \n",
      "15097         12   18.74 2003-01-31 -58.392778  1907 -62.095556            0   \n",
      "15100         12   19.55 2003-01-31 -58.388333  1907 -62.084722            0   \n",
      "15099         12   19.84 2003-01-31 -58.331389  1907 -62.097222            0   \n",
      "15098         12   20.37 2003-01-31 -58.331389  1907 -62.097222            0   \n",
      "15090         12   20.77 2003-01-31 -58.369444  1907 -62.086944            0   \n",
      "15096         12   23.56 2003-01-31 -58.392778  1907 -62.095556            0   \n",
      "15080         12   24.44 2003-01-31 -58.601944  1907 -62.169444            0   \n",
      "15101         12   26.04 2003-01-31 -58.388333  1907 -62.084722            0   \n",
      "15081         12   27.28 2003-01-31 -58.601944  1907 -62.169444            0   \n",
      "15091         12   27.28 2003-01-31 -58.369444  1907 -62.086944            0   \n",
      "15093         12   32.24 2003-01-31 -58.386944  1907 -62.088611            0   \n",
      "\n",
      "        pb210_counmet  pu238_counmet  pu239_counmet  ...  u238_unc  k40_unit  \\\n",
      "sample                                               ...                       \n",
      "14939               0              0             20  ...      0.00         0   \n",
      "14938               0             20              0  ...      0.00         0   \n",
      "15084               0              0              0  ...      0.00         0   \n",
      "15104               0              0              0  ...      0.00         0   \n",
      "15107               0              0              0  ...      0.00         0   \n",
      "15085               0              0              0  ...      0.47         0   \n",
      "15108               0              0              0  ...      0.47         0   \n",
      "14936               0              0              0  ...      0.00         0   \n",
      "15110               0              0              0  ...      0.00         0   \n",
      "14940               0              0              0  ...      0.00         0   \n",
      "15109              20              0              0  ...      0.00         0   \n",
      "14937               0              0              0  ...      0.00         4   \n",
      "15086               0              0              0  ...      0.00         0   \n",
      "15087               0              0              0  ...      0.72         0   \n",
      "15089               0              0              0  ...      0.29         0   \n",
      "15106               0              0              0  ...      0.40         0   \n",
      "15105               0              0              0  ...      0.00         0   \n",
      "15083               0              0              0  ...      0.43         0   \n",
      "15082               0              0              0  ...      0.00         0   \n",
      "15094               0              0              0  ...      0.00         0   \n",
      "15102               0              0              0  ...      0.00         0   \n",
      "15088               0              0              0  ...      0.00         0   \n",
      "15095               0              0              0  ...      0.79         0   \n",
      "15103               0              0              0  ...      0.90         0   \n",
      "15092               0              0              0  ...      0.00         0   \n",
      "15097               0              0              0  ...      0.00         0   \n",
      "15100               0              0              0  ...      0.00         0   \n",
      "15099               0              0              0  ...      0.58         0   \n",
      "15098               0              0              0  ...      0.00         0   \n",
      "15090               0              0              0  ...      0.00         0   \n",
      "15096               0              0              0  ...      0.68         0   \n",
      "15080               0              0              0  ...      0.00         0   \n",
      "15101               0              0              0  ...      0.76         0   \n",
      "15081               0              0              0  ...      0.79         0   \n",
      "15091               0              0              0  ...      0.79         0   \n",
      "15093               0              0              0  ...      0.93         0   \n",
      "\n",
      "        pb210_unit  pu238_unit  pu239_unit  ra226_unit  ra228_unit  sr90_unit  \\\n",
      "sample                                                                          \n",
      "14939            0           0           4           0           0          0   \n",
      "14938            0           4           0           0           0          0   \n",
      "15084            0           0           0           0           0          0   \n",
      "15104            0           0           0           0           0          0   \n",
      "15107            0           0           0           0           0          0   \n",
      "15085            0           0           0           0           0          0   \n",
      "15108            0           0           0           0           0          0   \n",
      "14936            0           0           0           0           4          0   \n",
      "15110            0           0           0           4           0          0   \n",
      "14940            0           0           0           0           0          4   \n",
      "15109            4           0           0           0           0          0   \n",
      "14937            0           0           0           0           0          0   \n",
      "15086            0           0           0           0           0          0   \n",
      "15087            0           0           0           0           0          0   \n",
      "15089            0           0           0           0           0          0   \n",
      "15106            0           0           0           0           0          0   \n",
      "15105            0           0           0           0           0          0   \n",
      "15083            0           0           0           0           0          0   \n",
      "15082            0           0           0           0           0          0   \n",
      "15094            0           0           0           0           0          0   \n",
      "15102            0           0           0           0           0          0   \n",
      "15088            0           0           0           0           0          0   \n",
      "15095            0           0           0           0           0          0   \n",
      "15103            0           0           0           0           0          0   \n",
      "15092            0           0           0           0           0          0   \n",
      "15097            0           0           0           0           0          0   \n",
      "15100            0           0           0           0           0          0   \n",
      "15099            0           0           0           0           0          0   \n",
      "15098            0           0           0           0           0          0   \n",
      "15090            0           0           0           0           0          0   \n",
      "15096            0           0           0           0           0          0   \n",
      "15080            0           0           0           0           0          0   \n",
      "15101            0           0           0           0           0          0   \n",
      "15081            0           0           0           0           0          0   \n",
      "15091            0           0           0           0           0          0   \n",
      "15093            0           0           0           0           0          0   \n",
      "\n",
      "        th232_unit  u238_unit  \n",
      "sample                         \n",
      "14939            0          0  \n",
      "14938            0          0  \n",
      "15084            4          0  \n",
      "15104            4          0  \n",
      "15107            4          0  \n",
      "15085            0          4  \n",
      "15108            0          4  \n",
      "14936            0          0  \n",
      "15110            0          0  \n",
      "14940            0          0  \n",
      "15109            0          0  \n",
      "14937            0          0  \n",
      "15086            4          0  \n",
      "15087            0          4  \n",
      "15089            0          4  \n",
      "15106            0          4  \n",
      "15105            4          0  \n",
      "15083            0          4  \n",
      "15082            4          0  \n",
      "15094            4          0  \n",
      "15102            4          0  \n",
      "15088            4          0  \n",
      "15095            0          4  \n",
      "15103            0          4  \n",
      "15092            4          0  \n",
      "15097            4          0  \n",
      "15100            4          0  \n",
      "15099            0          4  \n",
      "15098            4          0  \n",
      "15090            4          0  \n",
      "15096            0          4  \n",
      "15080            4          0  \n",
      "15101            0          4  \n",
      "15081            0          4  \n",
      "15091            0          4  \n",
      "15093            0          4  \n",
      "\n",
      "[36 rows x 60 columns]\n"
     ]
    }
   ],
   "source": [
    "dfs = load_data(df, ref_id)\n",
    "tfm = Transformer(dfs, cbs=[\n",
    "    RemapRdnNameCB(),\n",
    "    RenameColumnCB(),\n",
    "    DropNAColumnsCB(),\n",
    "    SanitizeDetectionLimitCB(),\n",
    "    ParseTimeCB(),\n",
    "    ReshapeLongToWide()\n",
    "    ])\n",
    "\n",
    "print(tfm()['sediment'])"
   ]
  },
  {
   "cell_type": "markdown",
   "id": "8587a731",
   "metadata": {},
   "source": [
    "### Encode time (seconds since ...)"
   ]
  },
  {
   "cell_type": "code",
   "execution_count": null,
   "id": "73e0ef14",
   "metadata": {},
   "outputs": [
    {
     "name": "stdout",
     "output_type": "stream",
     "text": [
      "        sed_type   value        time        lon  area        lat  k40_counmet  \\\n",
      "sample                                                                          \n",
      "14939          0    0.19  1043971200 -94.276111  1907 -62.166667            0   \n",
      "14938          0    0.30  1043971200 -94.276111  1907 -62.166667            0   \n",
      "15084          0   14.26  1043971200 -58.443889  1907 -62.173889            0   \n",
      "15104          0   15.07  1043971200 -58.490833  1907 -62.157500            0   \n",
      "15107          0   15.07  1043971200 -58.368056  1907 -62.160556            0   \n",
      "15085          0   16.12  1043971200 -58.443889  1907 -62.173889            0   \n",
      "15108          0   16.12  1043971200 -58.368056  1907 -62.160556            0   \n",
      "14936          0   17.00  1043971200 -94.276111  1907 -62.166667            0   \n",
      "15110          0   21.00  1043971200 -94.276111  1907 -62.166667            0   \n",
      "14940          0   31.00  1043971200 -94.276111  1907 -62.166667            0   \n",
      "15109          0  105.00  1043971200 -94.276111  1907 -62.166667            0   \n",
      "14937          0  612.00  1043971200 -94.276111  1907 -62.166667           20   \n",
      "15086          2   21.59  1043971200 -58.610556  1907 -62.190556            0   \n",
      "15087          2   24.80  1043971200 -58.610556  1907 -62.190556            0   \n",
      "15089          6    9.92  1043971200 -58.411667  1907 -62.222500            0   \n",
      "15106          6   13.64  1043971200 -58.461389  1907 -62.158333            0   \n",
      "15105          6   14.26  1043971200 -58.461389  1907 -62.158333            0   \n",
      "15083          6   14.88  1043971200 -58.546667  1907 -62.172500            0   \n",
      "15082          6   17.11  1043971200 -58.546667  1907 -62.172500            0   \n",
      "15094          6   17.92  1043971200 -58.464722  1907 -62.091111            0   \n",
      "15102          6   17.92  1043971200 -58.410833  1907 -62.131389            0   \n",
      "15088          6   18.33  1043971200 -58.411667  1907 -62.222500            0   \n",
      "15095          6   27.28  1043971200 -58.464722  1907 -62.091111            0   \n",
      "15103          6   31.00  1043971200 -58.410833  1907 -62.131389            0   \n",
      "15092         12   18.33  1043971200 -58.386944  1907 -62.088611            0   \n",
      "15097         12   18.74  1043971200 -58.392778  1907 -62.095556            0   \n",
      "15100         12   19.55  1043971200 -58.388333  1907 -62.084722            0   \n",
      "15099         12   19.84  1043971200 -58.331389  1907 -62.097222            0   \n",
      "15098         12   20.37  1043971200 -58.331389  1907 -62.097222            0   \n",
      "15090         12   20.77  1043971200 -58.369444  1907 -62.086944            0   \n",
      "15096         12   23.56  1043971200 -58.392778  1907 -62.095556            0   \n",
      "15080         12   24.44  1043971200 -58.601944  1907 -62.169444            0   \n",
      "15101         12   26.04  1043971200 -58.388333  1907 -62.084722            0   \n",
      "15081         12   27.28  1043971200 -58.601944  1907 -62.169444            0   \n",
      "15091         12   27.28  1043971200 -58.369444  1907 -62.086944            0   \n",
      "15093         12   32.24  1043971200 -58.386944  1907 -62.088611            0   \n",
      "\n",
      "        pb210_counmet  pu238_counmet  pu239_counmet  ...  u238_unc  k40_unit  \\\n",
      "sample                                               ...                       \n",
      "14939               0              0             20  ...      0.00         0   \n",
      "14938               0             20              0  ...      0.00         0   \n",
      "15084               0              0              0  ...      0.00         0   \n",
      "15104               0              0              0  ...      0.00         0   \n",
      "15107               0              0              0  ...      0.00         0   \n",
      "15085               0              0              0  ...      0.47         0   \n",
      "15108               0              0              0  ...      0.47         0   \n",
      "14936               0              0              0  ...      0.00         0   \n",
      "15110               0              0              0  ...      0.00         0   \n",
      "14940               0              0              0  ...      0.00         0   \n",
      "15109              20              0              0  ...      0.00         0   \n",
      "14937               0              0              0  ...      0.00         4   \n",
      "15086               0              0              0  ...      0.00         0   \n",
      "15087               0              0              0  ...      0.72         0   \n",
      "15089               0              0              0  ...      0.29         0   \n",
      "15106               0              0              0  ...      0.40         0   \n",
      "15105               0              0              0  ...      0.00         0   \n",
      "15083               0              0              0  ...      0.43         0   \n",
      "15082               0              0              0  ...      0.00         0   \n",
      "15094               0              0              0  ...      0.00         0   \n",
      "15102               0              0              0  ...      0.00         0   \n",
      "15088               0              0              0  ...      0.00         0   \n",
      "15095               0              0              0  ...      0.79         0   \n",
      "15103               0              0              0  ...      0.90         0   \n",
      "15092               0              0              0  ...      0.00         0   \n",
      "15097               0              0              0  ...      0.00         0   \n",
      "15100               0              0              0  ...      0.00         0   \n",
      "15099               0              0              0  ...      0.58         0   \n",
      "15098               0              0              0  ...      0.00         0   \n",
      "15090               0              0              0  ...      0.00         0   \n",
      "15096               0              0              0  ...      0.68         0   \n",
      "15080               0              0              0  ...      0.00         0   \n",
      "15101               0              0              0  ...      0.76         0   \n",
      "15081               0              0              0  ...      0.79         0   \n",
      "15091               0              0              0  ...      0.79         0   \n",
      "15093               0              0              0  ...      0.93         0   \n",
      "\n",
      "        pb210_unit  pu238_unit  pu239_unit  ra226_unit  ra228_unit  sr90_unit  \\\n",
      "sample                                                                          \n",
      "14939            0           0           4           0           0          0   \n",
      "14938            0           4           0           0           0          0   \n",
      "15084            0           0           0           0           0          0   \n",
      "15104            0           0           0           0           0          0   \n",
      "15107            0           0           0           0           0          0   \n",
      "15085            0           0           0           0           0          0   \n",
      "15108            0           0           0           0           0          0   \n",
      "14936            0           0           0           0           4          0   \n",
      "15110            0           0           0           4           0          0   \n",
      "14940            0           0           0           0           0          4   \n",
      "15109            4           0           0           0           0          0   \n",
      "14937            0           0           0           0           0          0   \n",
      "15086            0           0           0           0           0          0   \n",
      "15087            0           0           0           0           0          0   \n",
      "15089            0           0           0           0           0          0   \n",
      "15106            0           0           0           0           0          0   \n",
      "15105            0           0           0           0           0          0   \n",
      "15083            0           0           0           0           0          0   \n",
      "15082            0           0           0           0           0          0   \n",
      "15094            0           0           0           0           0          0   \n",
      "15102            0           0           0           0           0          0   \n",
      "15088            0           0           0           0           0          0   \n",
      "15095            0           0           0           0           0          0   \n",
      "15103            0           0           0           0           0          0   \n",
      "15092            0           0           0           0           0          0   \n",
      "15097            0           0           0           0           0          0   \n",
      "15100            0           0           0           0           0          0   \n",
      "15099            0           0           0           0           0          0   \n",
      "15098            0           0           0           0           0          0   \n",
      "15090            0           0           0           0           0          0   \n",
      "15096            0           0           0           0           0          0   \n",
      "15080            0           0           0           0           0          0   \n",
      "15101            0           0           0           0           0          0   \n",
      "15081            0           0           0           0           0          0   \n",
      "15091            0           0           0           0           0          0   \n",
      "15093            0           0           0           0           0          0   \n",
      "\n",
      "        th232_unit  u238_unit  \n",
      "sample                         \n",
      "14939            0          0  \n",
      "14938            0          0  \n",
      "15084            4          0  \n",
      "15104            4          0  \n",
      "15107            4          0  \n",
      "15085            0          4  \n",
      "15108            0          4  \n",
      "14936            0          0  \n",
      "15110            0          0  \n",
      "14940            0          0  \n",
      "15109            0          0  \n",
      "14937            0          0  \n",
      "15086            4          0  \n",
      "15087            0          4  \n",
      "15089            0          4  \n",
      "15106            0          4  \n",
      "15105            4          0  \n",
      "15083            0          4  \n",
      "15082            4          0  \n",
      "15094            4          0  \n",
      "15102            4          0  \n",
      "15088            4          0  \n",
      "15095            0          4  \n",
      "15103            0          4  \n",
      "15092            4          0  \n",
      "15097            4          0  \n",
      "15100            4          0  \n",
      "15099            0          4  \n",
      "15098            4          0  \n",
      "15090            4          0  \n",
      "15096            0          4  \n",
      "15080            4          0  \n",
      "15101            0          4  \n",
      "15081            0          4  \n",
      "15091            0          4  \n",
      "15093            0          4  \n",
      "\n",
      "[36 rows x 60 columns]\n"
     ]
    }
   ],
   "source": [
    "dfs = load_data(df, ref_id)\n",
    "tfm = Transformer(dfs, cbs=[\n",
    "    RemapRdnNameCB(),\n",
    "    RenameColumnCB(),\n",
    "    DropNAColumnsCB(),\n",
    "    SanitizeDetectionLimitCB(),\n",
    "    ParseTimeCB(),\n",
    "    ReshapeLongToWide(),\n",
    "    EncodeTimeCB(cfg())\n",
    "    ])\n",
    "\n",
    "print(tfm()['sediment'])"
   ]
  },
  {
   "cell_type": "markdown",
   "id": "bd91144a",
   "metadata": {},
   "source": [
    "### Sanitize coordinates"
   ]
  },
  {
   "cell_type": "code",
   "execution_count": null,
   "id": "80141e2a",
   "metadata": {},
   "outputs": [],
   "source": [
    "dfs = load_data(df, ref_id)\n",
    "tfm = Transformer(dfs, cbs=[\n",
    "    RemapRdnNameCB(),\n",
    "    RenameColumnCB(),\n",
    "    DropNAColumnsCB(),\n",
    "    SanitizeDetectionLimitCB(),\n",
    "    ParseTimeCB(),\n",
    "    ReshapeLongToWide(),\n",
    "    EncodeTimeCB(cfg()),\n",
    "    SanitizeLonLatCB()\n",
    "    ])\n",
    "\n",
    "# print(tfm()['sediment'])\n",
    "df_debug = tfm()['sediment']"
   ]
  },
  {
   "cell_type": "markdown",
   "id": "709b6999",
   "metadata": {},
   "source": [
    "## Encode to NetCDF"
   ]
  },
  {
   "cell_type": "code",
   "execution_count": null,
   "id": "c55f5ef3",
   "metadata": {},
   "outputs": [],
   "source": [
    "dfs = load_data(df, ref_id)\n",
    "tfm = Transformer(dfs, cbs=[\n",
    "    RemapRdnNameCB(),\n",
    "    RenameColumnCB(),\n",
    "    DropNAColumnsCB(),\n",
    "    SanitizeDetectionLimitCB(),\n",
    "    ParseTimeCB(),\n",
    "    ReshapeLongToWide(),\n",
    "    EncodeTimeCB(cfg()),\n",
    "    SanitizeLonLatCB()\n",
    "    ])\n",
    "\n",
    "dfs_tfm = tfm()"
   ]
  },
  {
   "cell_type": "code",
   "execution_count": null,
   "id": "640925a3",
   "metadata": {},
   "outputs": [
    {
     "data": {
      "text/plain": [
       "['Remap to MARIS radionuclide names.',\n",
       " 'Renaming variables to MARIS standard names.',\n",
       " \"Drop variable containing only NaN or 'Not available' (id=0 in MARIS lookup tables).\",\n",
       " 'Assign Detection Limit name to its id based on MARIS nomenclature.',\n",
       " 'Convert data from long to wide with renamed columns.',\n",
       " 'Encode time as `int` representing seconds since xxx',\n",
       " 'Drop row when both longitude & latitude equal 0.']"
      ]
     },
     "execution_count": null,
     "metadata": {},
     "output_type": "execute_result"
    }
   ],
   "source": [
    "tfm.logs"
   ]
  },
  {
   "cell_type": "code",
   "execution_count": null,
   "id": "f98fd736",
   "metadata": {},
   "outputs": [],
   "source": [
    "#| export\n",
    "kw = ['oceanography', 'Earth Science > Oceans > Ocean Chemistry> Radionuclides',\n",
    "      'Earth Science > Human Dimensions > Environmental Impacts > Nuclear Radiation Exposure',\n",
    "      'Earth Science > Oceans > Ocean Chemistry > Ocean Tracers, Earth Science > Oceans > Marine Sediments',\n",
    "      'Earth Science > Oceans > Ocean Chemistry, Earth Science > Oceans > Sea Ice > Isotopes',\n",
    "      'Earth Science > Oceans > Water Quality > Ocean Contaminants',\n",
    "      'Earth Science > Biological Classification > Animals/Vertebrates > Fish',\n",
    "      'Earth Science > Biosphere > Ecosystems > Marine Ecosystems',\n",
    "      'Earth Science > Biological Classification > Animals/Invertebrates > Mollusks',\n",
    "      'Earth Science > Biological Classification > Animals/Invertebrates > Arthropods > Crustaceans',\n",
    "      'Earth Science > Biological Classification > Plants > Macroalgae (Seaweeds)']"
   ]
  },
  {
   "cell_type": "code",
   "execution_count": null,
   "id": "ca5357b7",
   "metadata": {},
   "outputs": [],
   "source": [
    "#| export\n",
    "def get_attrs(tfm, zotero_key='26VMZZ2Q', kw=kw):\n",
    "    return GlobAttrsFeeder(tfm.dfs, cbs=[\n",
    "        BboxCB(),\n",
    "        DepthRangeCB(),\n",
    "        TimeRangeCB(cfg()),\n",
    "        ZoteroCB(zotero_key, cfg=cfg()),\n",
    "        KeyValuePairCB('keywords', ', '.join(kw)),\n",
    "        KeyValuePairCB('publisher_postprocess_logs', ', '.join(tfm.logs))\n",
    "        ])()"
   ]
  },
  {
   "cell_type": "code",
   "execution_count": null,
   "id": "6385d9e3",
   "metadata": {},
   "outputs": [
    {
     "data": {
      "text/plain": [
       "{'geospatial_lat_min': '-58.331388888888895',\n",
       " 'geospatial_lat_max': '-62.084722222222226',\n",
       " 'geospatial_lon_min': '-94.2761111111111',\n",
       " 'geospatial_lon_max': '-62.2225',\n",
       " 'geospatial_bounds': 'POLYGON ((-94.2761111111111 -62.2225, -58.331388888888895 -62.2225, -58.331388888888895 -62.084722222222226, -94.2761111111111 -62.084722222222226, -94.2761111111111 -62.2225))',\n",
       " 'time_coverage_start': '2003-01-31T00:00:00',\n",
       " 'time_coverage_end': '2003-01-31T00:00:00',\n",
       " 'title': 'Radioactivity Monitoring of the Irish Marine Environment 1991 and 1992',\n",
       " 'summary': '',\n",
       " 'creator_name': '[{\"creatorType\": \"author\", \"firstName\": \"A.\", \"lastName\": \"McGarry\"}, {\"creatorType\": \"author\", \"firstName\": \"S.\", \"lastName\": \"Lyons\"}, {\"creatorType\": \"author\", \"firstName\": \"C.\", \"lastName\": \"McEnri\"}, {\"creatorType\": \"author\", \"firstName\": \"T.\", \"lastName\": \"Ryan\"}, {\"creatorType\": \"author\", \"firstName\": \"M.\", \"lastName\": \"O\\'Colmain\"}, {\"creatorType\": \"author\", \"firstName\": \"J.D.\", \"lastName\": \"Cunningham\"}]',\n",
       " 'keywords': 'oceanography, Earth Science > Oceans > Ocean Chemistry> Radionuclides, Earth Science > Human Dimensions > Environmental Impacts > Nuclear Radiation Exposure, Earth Science > Oceans > Ocean Chemistry > Ocean Tracers, Earth Science > Oceans > Marine Sediments, Earth Science > Oceans > Ocean Chemistry, Earth Science > Oceans > Sea Ice > Isotopes, Earth Science > Oceans > Water Quality > Ocean Contaminants, Earth Science > Biological Classification > Animals/Vertebrates > Fish, Earth Science > Biosphere > Ecosystems > Marine Ecosystems, Earth Science > Biological Classification > Animals/Invertebrates > Mollusks, Earth Science > Biological Classification > Animals/Invertebrates > Arthropods > Crustaceans, Earth Science > Biological Classification > Plants > Macroalgae (Seaweeds)',\n",
       " 'publisher_postprocess_logs': \"Remap to MARIS radionuclide names., Renaming variables to MARIS standard names., Drop variable containing only NaN or 'Not available' (id=0 in MARIS lookup tables)., Assign Detection Limit name to its id based on MARIS nomenclature., Convert data from long to wide with renamed columns., Encode time as `int` representing seconds since xxx, Drop row when both longitude & latitude equal 0.\"}"
      ]
     },
     "execution_count": null,
     "metadata": {},
     "output_type": "execute_result"
    }
   ],
   "source": [
    "get_attrs(tfm, zotero_key='3W354SQG', kw=kw)"
   ]
  },
  {
   "cell_type": "code",
   "execution_count": null,
   "id": "63419143",
   "metadata": {},
   "outputs": [],
   "source": [
    "#| export\n",
    "def encode(fname_in, fname_out, nc_tpl_path, **kwargs):\n",
    "    df = load_dump(fname_in)\n",
    "    ref_ids = kwargs.get('ref_ids', df.ref_id.unique())\n",
    "    print('Encoding ...')\n",
    "    for ref_id in tqdm(ref_ids, leave=False):\n",
    "        dfs = load_data(df, ref_id)\n",
    "        print(get_fname(dfs))\n",
    "        tfm = Transformer(dfs, cbs=[\n",
    "            RemapRdnNameCB(),\n",
    "            RenameColumnCB(),\n",
    "            DropNAColumnsCB(),\n",
    "            SanitizeDetectionLimitCB(),\n",
    "            ParseTimeCB(),\n",
    "            ReshapeLongToWide(),\n",
    "            EncodeTimeCB(cfg()),\n",
    "            SanitizeLonLatCB()\n",
    "            ])\n",
    "        \n",
    "        # species_lut = get_maris_species(fname_in, 'species_helcom.pkl')\n",
    "        # enums_xtra = {\n",
    "        #     'species_t': {info['name']: info['id'] \n",
    "        #                   for info in species_lut.values() if info['name'] != ''}\n",
    "        # }\n",
    "        encoder = NetCDFEncoder(tfm(), \n",
    "                                src_fname=nc_tpl_path,\n",
    "                                dest_fname=Path(fname_out) / get_fname(dfs), \n",
    "                                global_attrs=get_attrs(tfm, zotero_key=get_zotero_key(dfs), kw=kw),\n",
    "                                verbose=kwargs.get('verbose', False)\n",
    "                                # enums_xtra=enums_xtra\n",
    "                                )\n",
    "        encoder.encode()"
   ]
  },
  {
   "cell_type": "markdown",
   "id": "02bb5bfd",
   "metadata": {},
   "source": [
    "### Single dataset"
   ]
  },
  {
   "cell_type": "code",
   "execution_count": null,
   "id": "e8056dd5",
   "metadata": {},
   "outputs": [
    {
     "data": {
      "text/plain": [
       "Path('/Users/franckalbinet/.marisco/maris-template.nc')"
      ]
     },
     "execution_count": null,
     "metadata": {},
     "output_type": "execute_result"
    }
   ],
   "source": [
    "nc_tpl_path()"
   ]
  },
  {
   "cell_type": "code",
   "execution_count": null,
   "id": "26bd157d",
   "metadata": {},
   "outputs": [
    {
     "name": "stdout",
     "output_type": "stream",
     "text": [
      "Encoding ...\n"
     ]
    },
    {
     "name": "stderr",
     "output_type": "stream",
     "text": [
      "  0%|          | 0/1 [00:00<?, ?it/s]"
     ]
    },
    {
     "name": "stdout",
     "output_type": "stream",
     "text": [
      "174-Hurtado-Bermúdez-et-al-2018.nc\n"
     ]
    },
    {
     "name": "stderr",
     "output_type": "stream",
     "text": [
      "                                     "
     ]
    },
    {
     "name": "stdout",
     "output_type": "stream",
     "text": [
      "Group: biota, Variable: sample\n",
      "Group: biota, Variable: lon\n",
      "Group: biota, Variable: lat\n",
      "Group: biota, Variable: depth\n",
      "Group: biota, Variable: time\n",
      "Group: biota, Variable: area\n",
      "Group: biota, Variable: bio_group\n",
      "Group: biota, Variable: species\n"
     ]
    },
    {
     "name": "stderr",
     "output_type": "stream",
     "text": [
      "\r"
     ]
    },
    {
     "ename": "ValueError",
     "evalue": "trying to assign illegal value to Enum variable",
     "output_type": "error",
     "traceback": [
      "\u001b[0;31m---------------------------------------------------------------------------\u001b[0m",
      "\u001b[0;31mValueError\u001b[0m                                Traceback (most recent call last)",
      "Cell \u001b[0;32mIn [55], line 2\u001b[0m\n\u001b[1;32m      1\u001b[0m ref_id \u001b[38;5;241m=\u001b[39m \u001b[38;5;241m174\u001b[39m\n\u001b[0;32m----> 2\u001b[0m \u001b[43mencode\u001b[49m\u001b[43m(\u001b[49m\u001b[43mfname_in\u001b[49m\u001b[43m,\u001b[49m\u001b[43m \u001b[49m\u001b[43mdir_dest\u001b[49m\u001b[43m,\u001b[49m\u001b[43m \u001b[49m\u001b[43mnc_tpl_path\u001b[49m\u001b[43m(\u001b[49m\u001b[43m)\u001b[49m\u001b[43m,\u001b[49m\u001b[43m \u001b[49m\u001b[43mverbose\u001b[49m\u001b[38;5;241;43m=\u001b[39;49m\u001b[38;5;28;43;01mTrue\u001b[39;49;00m\u001b[43m,\u001b[49m\u001b[43m \u001b[49m\u001b[43mref_ids\u001b[49m\u001b[38;5;241;43m=\u001b[39;49m\u001b[43m[\u001b[49m\u001b[43mref_id\u001b[49m\u001b[43m]\u001b[49m\u001b[43m)\u001b[49m\n",
      "Cell \u001b[0;32mIn [37], line 32\u001b[0m, in \u001b[0;36mencode\u001b[0;34m(fname_in, fname_out, nc_tpl_path, **kwargs)\u001b[0m\n\u001b[1;32m     20\u001b[0m \u001b[38;5;66;03m# species_lut = get_maris_species(fname_in, 'species_helcom.pkl')\u001b[39;00m\n\u001b[1;32m     21\u001b[0m \u001b[38;5;66;03m# enums_xtra = {\u001b[39;00m\n\u001b[1;32m     22\u001b[0m \u001b[38;5;66;03m#     'species_t': {info['name']: info['id'] \u001b[39;00m\n\u001b[1;32m     23\u001b[0m \u001b[38;5;66;03m#                   for info in species_lut.values() if info['name'] != ''}\u001b[39;00m\n\u001b[1;32m     24\u001b[0m \u001b[38;5;66;03m# }\u001b[39;00m\n\u001b[1;32m     25\u001b[0m encoder \u001b[38;5;241m=\u001b[39m NetCDFEncoder(tfm(), \n\u001b[1;32m     26\u001b[0m                         src_fname\u001b[38;5;241m=\u001b[39mnc_tpl_path,\n\u001b[1;32m     27\u001b[0m                         dest_fname\u001b[38;5;241m=\u001b[39mPath(fname_out) \u001b[38;5;241m/\u001b[39m get_fname(dfs), \n\u001b[0;32m   (...)\u001b[0m\n\u001b[1;32m     30\u001b[0m                         \u001b[38;5;66;03m# enums_xtra=enums_xtra\u001b[39;00m\n\u001b[1;32m     31\u001b[0m                         )\n\u001b[0;32m---> 32\u001b[0m \u001b[43mencoder\u001b[49m\u001b[38;5;241;43m.\u001b[39;49m\u001b[43mencode\u001b[49m\u001b[43m(\u001b[49m\u001b[43m)\u001b[49m\n",
      "File \u001b[0;32m~/pro/IAEA/MARIS/marisco/marisco/serializers.py:120\u001b[0m, in \u001b[0;36mencode\u001b[0;34m(self)\u001b[0m\n\u001b[1;32m    118\u001b[0m \u001b[38;5;28mself\u001b[39m\u001b[38;5;241m.\u001b[39mcopy_global_attributes()\n\u001b[1;32m    119\u001b[0m \u001b[38;5;28mself\u001b[39m\u001b[38;5;241m.\u001b[39mcopy_dimensions()\n\u001b[0;32m--> 120\u001b[0m \u001b[38;5;28;43mself\u001b[39;49m\u001b[38;5;241;43m.\u001b[39;49m\u001b[43mprocess_groups\u001b[49m\u001b[43m(\u001b[49m\u001b[43m)\u001b[49m\n",
      "File \u001b[0;32m~/pro/IAEA/MARIS/marisco/marisco/serializers.py:44\u001b[0m, in \u001b[0;36mprocess_groups\u001b[0;34m(self)\u001b[0m\n\u001b[1;32m     41\u001b[0m \u001b[38;5;129m@patch\u001b[39m\n\u001b[1;32m     42\u001b[0m \u001b[38;5;28;01mdef\u001b[39;00m \u001b[38;5;21mprocess_groups\u001b[39m(\u001b[38;5;28mself\u001b[39m:NetCDFEncoder):\n\u001b[1;32m     43\u001b[0m     \u001b[38;5;28;01mfor\u001b[39;00m grp_name, df \u001b[38;5;129;01min\u001b[39;00m \u001b[38;5;28mself\u001b[39m\u001b[38;5;241m.\u001b[39mdfs\u001b[38;5;241m.\u001b[39mitems():\n\u001b[0;32m---> 44\u001b[0m         \u001b[38;5;28;43mself\u001b[39;49m\u001b[38;5;241;43m.\u001b[39;49m\u001b[43mprocess_group\u001b[49m\u001b[43m(\u001b[49m\u001b[43mgrp_name\u001b[49m\u001b[43m,\u001b[49m\u001b[43m \u001b[49m\u001b[43mdf\u001b[49m\u001b[43m)\u001b[49m\n",
      "File \u001b[0;32m~/pro/IAEA/MARIS/marisco/marisco/serializers.py:50\u001b[0m, in \u001b[0;36mprocess_group\u001b[0;34m(self, group_name, df)\u001b[0m\n\u001b[1;32m     47\u001b[0m \u001b[38;5;129m@patch\u001b[39m\n\u001b[1;32m     48\u001b[0m \u001b[38;5;28;01mdef\u001b[39;00m \u001b[38;5;21mprocess_group\u001b[39m(\u001b[38;5;28mself\u001b[39m:NetCDFEncoder, group_name, df):\n\u001b[1;32m     49\u001b[0m     group_dest \u001b[38;5;241m=\u001b[39m \u001b[38;5;28mself\u001b[39m\u001b[38;5;241m.\u001b[39mdest\u001b[38;5;241m.\u001b[39mcreateGroup(group_name)\n\u001b[0;32m---> 50\u001b[0m     \u001b[38;5;28;43mself\u001b[39;49m\u001b[38;5;241;43m.\u001b[39;49m\u001b[43mcopy_variables\u001b[49m\u001b[43m(\u001b[49m\u001b[43mgroup_name\u001b[49m\u001b[43m,\u001b[49m\u001b[43m \u001b[49m\u001b[43mdf\u001b[49m\u001b[43m,\u001b[49m\u001b[43m \u001b[49m\u001b[43mgroup_dest\u001b[49m\u001b[43m)\u001b[49m\n",
      "File \u001b[0;32m~/pro/IAEA/MARIS/marisco/marisco/serializers.py:57\u001b[0m, in \u001b[0;36mcopy_variables\u001b[0;34m(self, group_name, df, group_dest)\u001b[0m\n\u001b[1;32m     55\u001b[0m \u001b[38;5;28;01mfor\u001b[39;00m var_name, var_src \u001b[38;5;129;01min\u001b[39;00m \u001b[38;5;28mself\u001b[39m\u001b[38;5;241m.\u001b[39msrc\u001b[38;5;241m.\u001b[39mgroups[group_name]\u001b[38;5;241m.\u001b[39mvariables\u001b[38;5;241m.\u001b[39mitems():\n\u001b[1;32m     56\u001b[0m     \u001b[38;5;28;01mif\u001b[39;00m var_name \u001b[38;5;129;01min\u001b[39;00m df\u001b[38;5;241m.\u001b[39mreset_index()\u001b[38;5;241m.\u001b[39mcolumns: \n\u001b[0;32m---> 57\u001b[0m         \u001b[38;5;28;43mself\u001b[39;49m\u001b[38;5;241;43m.\u001b[39;49m\u001b[43mcopy_variable\u001b[49m\u001b[43m(\u001b[49m\u001b[43mvar_name\u001b[49m\u001b[43m,\u001b[49m\u001b[43m \u001b[49m\u001b[43mvar_src\u001b[49m\u001b[43m,\u001b[49m\u001b[43m \u001b[49m\u001b[43mdf\u001b[49m\u001b[43m,\u001b[49m\u001b[43m \u001b[49m\u001b[43mgroup_dest\u001b[49m\u001b[43m)\u001b[49m\n",
      "File \u001b[0;32m~/pro/IAEA/MARIS/marisco/marisco/serializers.py:66\u001b[0m, in \u001b[0;36mcopy_variable\u001b[0;34m(self, var_name, var_src, df, group_dest)\u001b[0m\n\u001b[1;32m     64\u001b[0m \u001b[38;5;28;01mif\u001b[39;00m \u001b[38;5;28mself\u001b[39m\u001b[38;5;241m.\u001b[39mverbose: \u001b[38;5;28mprint\u001b[39m(\u001b[38;5;124mf\u001b[39m\u001b[38;5;124m'\u001b[39m\u001b[38;5;124mGroup: \u001b[39m\u001b[38;5;132;01m{\u001b[39;00mgroup_dest\u001b[38;5;241m.\u001b[39mname\u001b[38;5;132;01m}\u001b[39;00m\u001b[38;5;124m, Variable: \u001b[39m\u001b[38;5;132;01m{\u001b[39;00mvar_name\u001b[38;5;132;01m}\u001b[39;00m\u001b[38;5;124m'\u001b[39m)\n\u001b[1;32m     65\u001b[0m \u001b[38;5;28;01mif\u001b[39;00m dtype_name \u001b[38;5;129;01min\u001b[39;00m enums_src: \u001b[38;5;28mself\u001b[39m\u001b[38;5;241m.\u001b[39mcopy_enum_type(dtype_name)   \n\u001b[0;32m---> 66\u001b[0m \u001b[38;5;28;43mself\u001b[39;49m\u001b[38;5;241;43m.\u001b[39;49m\u001b[43m_create_and_copy_variable\u001b[49m\u001b[43m(\u001b[49m\u001b[43mvar_name\u001b[49m\u001b[43m,\u001b[49m\u001b[43m \u001b[49m\u001b[43mvar_src\u001b[49m\u001b[43m,\u001b[49m\u001b[43m \u001b[49m\u001b[43mdf\u001b[49m\u001b[43m,\u001b[49m\u001b[43m \u001b[49m\u001b[43mgroup_dest\u001b[49m\u001b[43m,\u001b[49m\u001b[43m \u001b[49m\u001b[43mdtype_name\u001b[49m\u001b[43m)\u001b[49m\n\u001b[1;32m     67\u001b[0m \u001b[38;5;28mself\u001b[39m\u001b[38;5;241m.\u001b[39mcopy_variable_attributes(var_name, var_src, group_dest)\n",
      "File \u001b[0;32m~/pro/IAEA/MARIS/marisco/marisco/serializers.py:76\u001b[0m, in \u001b[0;36m_create_and_copy_variable\u001b[0;34m(self, var_name, var_src, df, group_dest, dtype_name)\u001b[0m\n\u001b[1;32m     73\u001b[0m group_dest\u001b[38;5;241m.\u001b[39mcreateVariable(var_name, variable_type, var_src\u001b[38;5;241m.\u001b[39mdimensions, compression\u001b[38;5;241m=\u001b[39m\u001b[38;5;124m'\u001b[39m\u001b[38;5;124mzlib\u001b[39m\u001b[38;5;124m'\u001b[39m, complevel\u001b[38;5;241m=\u001b[39m\u001b[38;5;241m9\u001b[39m)\n\u001b[1;32m     75\u001b[0m df_sanitized \u001b[38;5;241m=\u001b[39m \u001b[38;5;28mself\u001b[39m\u001b[38;5;241m.\u001b[39mcast_verbose_rf(df, var_name)\n\u001b[0;32m---> 76\u001b[0m \u001b[43mgroup_dest\u001b[49m\u001b[43m[\u001b[49m\u001b[43mvar_name\u001b[49m\u001b[43m]\u001b[49m\u001b[43m[\u001b[49m\u001b[43m:\u001b[49m\u001b[43m]\u001b[49m \u001b[38;5;241m=\u001b[39m df_sanitized\u001b[38;5;241m.\u001b[39mvalues\n",
      "File \u001b[0;32msrc/netCDF4/_netCDF4.pyx:5238\u001b[0m, in \u001b[0;36mnetCDF4._netCDF4.Variable.__setitem__\u001b[0;34m()\u001b[0m\n",
      "\u001b[0;31mValueError\u001b[0m: trying to assign illegal value to Enum variable"
     ]
    }
   ],
   "source": [
    "ref_id = 174\n",
    "encode(fname_in, dir_dest, nc_tpl_path(), verbose=True, ref_ids=[ref_id])"
   ]
  },
  {
   "cell_type": "markdown",
   "id": "f3da7ded",
   "metadata": {},
   "source": [
    "### All datasets"
   ]
  },
  {
   "cell_type": "code",
   "execution_count": null,
   "id": "c13a3f6f",
   "metadata": {},
   "outputs": [
    {
     "name": "stdout",
     "output_type": "stream",
     "text": [
      "Encoding ...\n"
     ]
    },
    {
     "name": "stderr",
     "output_type": "stream",
     "text": [
      "  0%|          | 0/462 [00:00<?, ?it/s]"
     ]
    },
    {
     "name": "stdout",
     "output_type": "stream",
     "text": [
      "374-Ostlund-et-al-1987.nc\n"
     ]
    },
    {
     "name": "stderr",
     "output_type": "stream",
     "text": [
      "  0%|          | 1/462 [00:04<31:05,  4.05s/it]"
     ]
    },
    {
     "name": "stdout",
     "output_type": "stream",
     "text": [
      "401-Olsen-et-al-2016.nc\n"
     ]
    },
    {
     "name": "stderr",
     "output_type": "stream",
     "text": [
      "  0%|          | 2/462 [00:06<22:26,  2.93s/it]"
     ]
    },
    {
     "name": "stdout",
     "output_type": "stream",
     "text": [
      "402-CCHDO-2018.nc\n"
     ]
    },
    {
     "name": "stderr",
     "output_type": "stream",
     "text": [
      "  1%|          | 3/462 [00:10<26:01,  3.40s/it]"
     ]
    },
    {
     "name": "stdout",
     "output_type": "stream",
     "text": [
      "30-Östlund-and-Grall-1991.nc\n"
     ]
    },
    {
     "name": "stderr",
     "output_type": "stream",
     "text": [
      "  1%|          | 4/462 [00:11<20:47,  2.72s/it]"
     ]
    },
    {
     "name": "stdout",
     "output_type": "stream",
     "text": [
      "99-Aoyama-and-Hirose-2004.nc\n"
     ]
    },
    {
     "name": "stderr",
     "output_type": "stream",
     "text": [
      "  1%|          | 5/462 [00:16<26:40,  3.50s/it]"
     ]
    },
    {
     "name": "stdout",
     "output_type": "stream",
     "text": [
      "106-Yamada-et-al-2006.nc\n"
     ]
    },
    {
     "name": "stderr",
     "output_type": "stream",
     "text": [
      "  1%|▏         | 6/462 [00:18<21:29,  2.83s/it]"
     ]
    },
    {
     "name": "stdout",
     "output_type": "stream",
     "text": [
      "182-Urban-et-al-2015.nc\n"
     ]
    },
    {
     "name": "stderr",
     "output_type": "stream",
     "text": [
      "  2%|▏         | 7/462 [00:19<18:35,  2.45s/it]"
     ]
    },
    {
     "name": "stdout",
     "output_type": "stream",
     "text": [
      "183-Bokor-et-al-2016.nc\n"
     ]
    },
    {
     "name": "stderr",
     "output_type": "stream",
     "text": [
      "  2%|▏         | 8/462 [00:21<16:44,  2.21s/it]"
     ]
    },
    {
     "name": "stdout",
     "output_type": "stream",
     "text": [
      "226-Sdraulig-2018.nc\n"
     ]
    },
    {
     "name": "stderr",
     "output_type": "stream",
     "text": [
      "  2%|▏         | 9/462 [00:23<15:34,  2.06s/it]"
     ]
    },
    {
     "name": "stdout",
     "output_type": "stream",
     "text": [
      "323-Johansen-et-al-2019.nc\n"
     ]
    },
    {
     "name": "stderr",
     "output_type": "stream",
     "text": [
      "  2%|▏         | 10/462 [00:25<15:06,  2.01s/it]"
     ]
    },
    {
     "name": "stdout",
     "output_type": "stream",
     "text": [
      "568-Johansen-2020.nc\n"
     ]
    },
    {
     "name": "stderr",
     "output_type": "stream",
     "text": [
      "  2%|▏         | 11/462 [00:27<14:46,  1.97s/it]"
     ]
    },
    {
     "name": "stdout",
     "output_type": "stream",
     "text": [
      "395-Bailly-du-Bois-et-al-2020.nc\n"
     ]
    },
    {
     "name": "stderr",
     "output_type": "stream",
     "text": [
      "  3%|▎         | 12/462 [00:37<33:23,  4.45s/it]"
     ]
    },
    {
     "name": "stdout",
     "output_type": "stream",
     "text": [
      "400-Boyer-et-al-2013.nc\n"
     ]
    },
    {
     "name": "stderr",
     "output_type": "stream",
     "text": [
      "  3%|▎         | 13/462 [00:39<27:54,  3.73s/it]"
     ]
    },
    {
     "name": "stdout",
     "output_type": "stream",
     "text": [
      "97-ASPAMARD-2004.nc\n"
     ]
    },
    {
     "name": "stderr",
     "output_type": "stream",
     "text": [
      "  3%|▎         | 14/462 [00:41<24:49,  3.33s/it]"
     ]
    },
    {
     "name": "stdout",
     "output_type": "stream",
     "text": [
      "358-Kall-et-al-2014.nc\n"
     ]
    },
    {
     "name": "stderr",
     "output_type": "stream",
     "text": [
      "  3%|▎         | 15/462 [00:43<21:05,  2.83s/it]"
     ]
    },
    {
     "name": "stdout",
     "output_type": "stream",
     "text": [
      "443-Heyraud-et-al-1994.nc\n"
     ]
    },
    {
     "name": "stderr",
     "output_type": "stream",
     "text": [
      "  3%|▎         | 16/462 [00:45<18:21,  2.47s/it]"
     ]
    },
    {
     "name": "stdout",
     "output_type": "stream",
     "text": [
      "508-Lee-et-al-2018.nc\n"
     ]
    },
    {
     "name": "stderr",
     "output_type": "stream",
     "text": [
      "  4%|▎         | 17/462 [00:46<16:13,  2.19s/it]"
     ]
    },
    {
     "name": "stdout",
     "output_type": "stream",
     "text": [
      "509-Johansen-et-al-2015.nc\n"
     ]
    },
    {
     "name": "stderr",
     "output_type": "stream",
     "text": [
      "  4%|▍         | 18/462 [00:48<15:28,  2.09s/it]"
     ]
    },
    {
     "name": "stdout",
     "output_type": "stream",
     "text": [
      "16-Cherry-and-Heyraud-1981.nc\n"
     ]
    },
    {
     "name": "stderr",
     "output_type": "stream",
     "text": [
      "  4%|▍         | 19/462 [00:49<14:17,  1.94s/it]"
     ]
    },
    {
     "name": "stdout",
     "output_type": "stream",
     "text": [
      "18-Cherry-and-Heyraud-1982.nc\n"
     ]
    },
    {
     "name": "stderr",
     "output_type": "stream",
     "text": [
      "  4%|▍         | 20/462 [00:51<13:27,  1.83s/it]"
     ]
    },
    {
     "name": "stdout",
     "output_type": "stream",
     "text": [
      "190-Schlitzer-et-al-2018.nc\n"
     ]
    },
    {
     "name": "stderr",
     "output_type": "stream",
     "text": [
      "  5%|▍         | 21/462 [00:57<22:12,  3.02s/it]"
     ]
    },
    {
     "name": "stdout",
     "output_type": "stream",
     "text": [
      "191-OSPAR-Comissions-Radioactive-Substances-Committee-(RSC)-2018.nc\n"
     ]
    },
    {
     "name": "stderr",
     "output_type": "stream",
     "text": [
      "  5%|▍         | 22/462 [01:02<26:29,  3.61s/it]"
     ]
    },
    {
     "name": "stdout",
     "output_type": "stream",
     "text": [
      "199-Skjerdal-et-al-2020.nc\n"
     ]
    },
    {
     "name": "stderr",
     "output_type": "stream",
     "text": [
      "  5%|▍         | 23/462 [01:04<22:28,  3.07s/it]"
     ]
    },
    {
     "name": "stdout",
     "output_type": "stream",
     "text": [
      "200-Zaborska-et-al-2010.nc\n"
     ]
    },
    {
     "name": "stderr",
     "output_type": "stream",
     "text": [
      "  5%|▌         | 24/462 [01:05<19:25,  2.66s/it]"
     ]
    },
    {
     "name": "stdout",
     "output_type": "stream",
     "text": [
      "381-Smith-2020.nc\n"
     ]
    },
    {
     "name": "stderr",
     "output_type": "stream",
     "text": [
      "  5%|▌         | 25/462 [01:08<18:23,  2.53s/it]"
     ]
    },
    {
     "name": "stdout",
     "output_type": "stream",
     "text": [
      "720-Payne-et-al-2024.nc\n",
      "Item TBC does not exist in Zotero library\n"
     ]
    },
    {
     "name": "stderr",
     "output_type": "stream",
     "text": [
      "  6%|▌         | 26/462 [01:09<16:15,  2.24s/it]"
     ]
    },
    {
     "name": "stdout",
     "output_type": "stream",
     "text": [
      "432-Efurd-et-al-1997.nc\n"
     ]
    },
    {
     "name": "stderr",
     "output_type": "stream",
     "text": [
      "  6%|▌         | 27/462 [01:11<16:19,  2.25s/it]"
     ]
    },
    {
     "name": "stdout",
     "output_type": "stream",
     "text": [
      "685-Chamizo-et-al-2021.nc\n"
     ]
    },
    {
     "name": "stderr",
     "output_type": "stream",
     "text": [
      "  6%|▌         | 28/462 [01:13<14:59,  2.07s/it]"
     ]
    },
    {
     "name": "stdout",
     "output_type": "stream",
     "text": [
      "380-Smith-et-al-2020.nc\n"
     ]
    },
    {
     "name": "stderr",
     "output_type": "stream",
     "text": [
      "  6%|▋         | 29/462 [01:15<13:48,  1.91s/it]"
     ]
    },
    {
     "name": "stdout",
     "output_type": "stream",
     "text": [
      "718-Smith-2024.nc\n"
     ]
    },
    {
     "name": "stderr",
     "output_type": "stream",
     "text": [
      "  6%|▋         | 30/462 [01:16<13:31,  1.88s/it]"
     ]
    },
    {
     "name": "stdout",
     "output_type": "stream",
     "text": [
      "122-Casacuberta-et-al-2018.nc\n"
     ]
    },
    {
     "name": "stderr",
     "output_type": "stream",
     "text": [
      "  7%|▋         | 31/462 [01:18<13:05,  1.82s/it]"
     ]
    },
    {
     "name": "stdout",
     "output_type": "stream",
     "text": [
      "477-Valette-Silver-et-al-1999.nc\n"
     ]
    },
    {
     "name": "stderr",
     "output_type": "stream",
     "text": [
      "  7%|▋         | 32/462 [01:20<13:20,  1.86s/it]"
     ]
    },
    {
     "name": "stdout",
     "output_type": "stream",
     "text": [
      "222-Huang-et-al-2019.nc\n"
     ]
    },
    {
     "name": "stderr",
     "output_type": "stream",
     "text": [
      "  7%|▋         | 33/462 [01:22<12:40,  1.77s/it]"
     ]
    },
    {
     "name": "stdout",
     "output_type": "stream",
     "text": [
      "103-RADNOR-2010.nc\n"
     ]
    },
    {
     "name": "stderr",
     "output_type": "stream",
     "text": [
      "  7%|▋         | 34/462 [01:23<12:43,  1.78s/it]"
     ]
    },
    {
     "name": "stdout",
     "output_type": "stream",
     "text": [
      "409-Cherry-et-al-1987.nc\n"
     ]
    },
    {
     "name": "stderr",
     "output_type": "stream",
     "text": [
      "  8%|▊         | 35/462 [01:25<12:35,  1.77s/it]"
     ]
    },
    {
     "name": "stdout",
     "output_type": "stream",
     "text": [
      "201-Mietelski-et-al-2008.nc\n"
     ]
    },
    {
     "name": "stderr",
     "output_type": "stream",
     "text": [
      "  8%|▊         | 36/462 [01:27<12:15,  1.73s/it]"
     ]
    },
    {
     "name": "stdout",
     "output_type": "stream",
     "text": [
      "570-Szufa-2020.nc\n"
     ]
    },
    {
     "name": "stderr",
     "output_type": "stream",
     "text": [
      "  8%|▊         | 37/462 [01:28<12:00,  1.70s/it]"
     ]
    },
    {
     "name": "stdout",
     "output_type": "stream",
     "text": [
      "571-Szufa-2018.nc\n"
     ]
    },
    {
     "name": "stderr",
     "output_type": "stream",
     "text": [
      "  8%|▊         | 38/462 [01:30<11:39,  1.65s/it]"
     ]
    },
    {
     "name": "stdout",
     "output_type": "stream",
     "text": [
      "109-Gulin-and-Stokozov-2005.nc\n"
     ]
    },
    {
     "name": "stderr",
     "output_type": "stream",
     "text": [
      "  8%|▊         | 39/462 [01:32<11:49,  1.68s/it]"
     ]
    },
    {
     "name": "stdout",
     "output_type": "stream",
     "text": [
      "712-Fávaro-et-al-2012.nc\n"
     ]
    },
    {
     "name": "stderr",
     "output_type": "stream",
     "text": [
      "  9%|▊         | 40/462 [01:34<12:02,  1.71s/it]"
     ]
    },
    {
     "name": "stdout",
     "output_type": "stream",
     "text": [
      "130-Wada-et-al-2016.nc\n"
     ]
    },
    {
     "name": "stderr",
     "output_type": "stream",
     "text": [
      "  9%|▉         | 41/462 [01:41<24:32,  3.50s/it]"
     ]
    },
    {
     "name": "stdout",
     "output_type": "stream",
     "text": [
      "132-Fukushima-Prefectural-Federation-of-Fisheries-Co-operative-Associations-2012.nc\n"
     ]
    },
    {
     "name": "stderr",
     "output_type": "stream",
     "text": [
      "  9%|▉         | 42/462 [01:44<23:51,  3.41s/it]"
     ]
    },
    {
     "name": "stdout",
     "output_type": "stream",
     "text": [
      "121-TEPCO---Tokyo-Electric-Power-Company-2011.nc\n"
     ]
    },
    {
     "name": "stderr",
     "output_type": "stream",
     "text": [
      "  9%|▉         | 43/462 [02:01<51:46,  7.41s/it]"
     ]
    },
    {
     "name": "stdout",
     "output_type": "stream",
     "text": [
      "225-Takata-et-al-2016.nc\n"
     ]
    },
    {
     "name": "stderr",
     "output_type": "stream",
     "text": [
      " 10%|▉         | 44/462 [02:03<40:18,  5.79s/it]"
     ]
    },
    {
     "name": "stdout",
     "output_type": "stream",
     "text": [
      "141-TEPCO---Tokyo-Electric-Power-Company-2011.nc\n"
     ]
    },
    {
     "name": "stderr",
     "output_type": "stream",
     "text": [
      " 10%|▉         | 45/462 [02:05<32:27,  4.67s/it]"
     ]
    },
    {
     "name": "stdout",
     "output_type": "stream",
     "text": [
      "234-Aoyama-et-al-2013.nc\n"
     ]
    },
    {
     "name": "stderr",
     "output_type": "stream",
     "text": [
      " 10%|▉         | 46/462 [02:07<26:05,  3.76s/it]"
     ]
    },
    {
     "name": "stdout",
     "output_type": "stream",
     "text": [
      "237-Takata-et-al-2018.nc\n"
     ]
    },
    {
     "name": "stderr",
     "output_type": "stream",
     "text": [
      " 10%|█         | 47/462 [02:09<22:11,  3.21s/it]"
     ]
    },
    {
     "name": "stdout",
     "output_type": "stream",
     "text": [
      "143-Fukushima-Prefecture-2011.nc\n"
     ]
    },
    {
     "name": "stderr",
     "output_type": "stream",
     "text": [
      " 10%|█         | 48/462 [02:11<19:32,  2.83s/it]"
     ]
    },
    {
     "name": "stdout",
     "output_type": "stream",
     "text": [
      "156-Yoshida-et-al-2015.nc\n"
     ]
    },
    {
     "name": "stderr",
     "output_type": "stream",
     "text": [
      " 11%|█         | 49/462 [02:12<16:58,  2.47s/it]"
     ]
    },
    {
     "name": "stdout",
     "output_type": "stream",
     "text": [
      "157-Buesseler-2018.nc\n"
     ]
    },
    {
     "name": "stderr",
     "output_type": "stream",
     "text": [
      " 11%|█         | 50/462 [02:14<15:50,  2.31s/it]"
     ]
    },
    {
     "name": "stdout",
     "output_type": "stream",
     "text": [
      "159-Buesseler-2018.nc\n"
     ]
    },
    {
     "name": "stderr",
     "output_type": "stream",
     "text": [
      " 11%|█         | 51/462 [02:16<14:17,  2.09s/it]"
     ]
    },
    {
     "name": "stdout",
     "output_type": "stream",
     "text": [
      "178-Pham-et-al-2016.nc\n"
     ]
    },
    {
     "name": "stderr",
     "output_type": "stream",
     "text": [
      " 11%|█▏        | 52/462 [02:17<13:16,  1.94s/it]"
     ]
    },
    {
     "name": "stdout",
     "output_type": "stream",
     "text": [
      "193-Kusakabe-and-Takata-2020.nc\n"
     ]
    },
    {
     "name": "stderr",
     "output_type": "stream",
     "text": [
      " 11%|█▏        | 53/462 [02:19<12:50,  1.88s/it]"
     ]
    },
    {
     "name": "stdout",
     "output_type": "stream",
     "text": [
      "194-Tateda-and-Misonou-1990.nc\n"
     ]
    },
    {
     "name": "stderr",
     "output_type": "stream",
     "text": [
      " 12%|█▏        | 54/462 [02:21<12:05,  1.78s/it]"
     ]
    },
    {
     "name": "stdout",
     "output_type": "stream",
     "text": [
      "195-Tateda-and-Koyanagi-1994.nc\n"
     ]
    },
    {
     "name": "stderr",
     "output_type": "stream",
     "text": [
      " 12%|█▏        | 55/462 [02:22<11:40,  1.72s/it]"
     ]
    },
    {
     "name": "stdout",
     "output_type": "stream",
     "text": [
      "202-MERI-2015.nc\n"
     ]
    },
    {
     "name": "stderr",
     "output_type": "stream",
     "text": [
      " 12%|█▏        | 56/462 [02:24<12:31,  1.85s/it]"
     ]
    },
    {
     "name": "stdout",
     "output_type": "stream",
     "text": [
      "205-MERI-2018.nc\n"
     ]
    },
    {
     "name": "stderr",
     "output_type": "stream",
     "text": [
      " 12%|█▏        | 57/462 [02:27<13:45,  2.04s/it]"
     ]
    },
    {
     "name": "stdout",
     "output_type": "stream",
     "text": [
      "224-Takata-et-al-2019.nc\n"
     ]
    },
    {
     "name": "stderr",
     "output_type": "stream",
     "text": [
      " 13%|█▎        | 58/462 [02:29<14:07,  2.10s/it]"
     ]
    },
    {
     "name": "stdout",
     "output_type": "stream",
     "text": [
      "129-Wada-et-al-2016.nc\n"
     ]
    },
    {
     "name": "stderr",
     "output_type": "stream",
     "text": [
      " 13%|█▎        | 59/462 [02:31<14:30,  2.16s/it]"
     ]
    },
    {
     "name": "stdout",
     "output_type": "stream",
     "text": [
      "113-Kitamura-et-al-2013.nc\n"
     ]
    },
    {
     "name": "stderr",
     "output_type": "stream",
     "text": [
      " 13%|█▎        | 60/462 [02:33<13:19,  1.99s/it]"
     ]
    },
    {
     "name": "stdout",
     "output_type": "stream",
     "text": [
      "114-Charette-et-al-2013.nc\n"
     ]
    },
    {
     "name": "stderr",
     "output_type": "stream",
     "text": [
      " 13%|█▎        | 61/462 [02:35<12:32,  1.88s/it]"
     ]
    },
    {
     "name": "stdout",
     "output_type": "stream",
     "text": [
      "149-JAEA---Japan-Atomic-Energy-Agency-2013.nc\n"
     ]
    },
    {
     "name": "stderr",
     "output_type": "stream",
     "text": [
      " 13%|█▎        | 62/462 [02:37<12:42,  1.91s/it]"
     ]
    },
    {
     "name": "stdout",
     "output_type": "stream",
     "text": [
      "155-Buesseler-et-al-2012.nc\n"
     ]
    },
    {
     "name": "stderr",
     "output_type": "stream",
     "text": [
      " 14%|█▎        | 63/462 [02:38<12:21,  1.86s/it]"
     ]
    },
    {
     "name": "stdout",
     "output_type": "stream",
     "text": [
      "131-Ibaraki-Prefecture-2011.nc\n"
     ]
    },
    {
     "name": "stderr",
     "output_type": "stream",
     "text": [
      " 14%|█▍        | 64/462 [02:42<15:52,  2.39s/it]"
     ]
    },
    {
     "name": "stdout",
     "output_type": "stream",
     "text": [
      "158-Buesseler-2018.nc\n"
     ]
    },
    {
     "name": "stderr",
     "output_type": "stream",
     "text": [
      " 14%|█▍        | 65/462 [02:44<14:10,  2.14s/it]"
     ]
    },
    {
     "name": "stdout",
     "output_type": "stream",
     "text": [
      "127-Fukushima-Prefecture-2013.nc\n"
     ]
    },
    {
     "name": "stderr",
     "output_type": "stream",
     "text": [
      " 14%|█▍        | 66/462 [02:45<13:13,  2.00s/it]"
     ]
    },
    {
     "name": "stdout",
     "output_type": "stream",
     "text": [
      "147-MOE---Ministry-of-the-Environment-2012.nc\n"
     ]
    },
    {
     "name": "stderr",
     "output_type": "stream",
     "text": [
      " 15%|█▍        | 67/462 [02:47<13:20,  2.03s/it]"
     ]
    },
    {
     "name": "stdout",
     "output_type": "stream",
     "text": [
      "148-JAEA---Japan-Atomic-Energy-Agency-2013.nc\n"
     ]
    },
    {
     "name": "stderr",
     "output_type": "stream",
     "text": [
      " 15%|█▍        | 68/462 [02:49<12:20,  1.88s/it]"
     ]
    },
    {
     "name": "stdout",
     "output_type": "stream",
     "text": [
      "118-Kaeriyama-et-al-2013.nc\n"
     ]
    },
    {
     "name": "stderr",
     "output_type": "stream",
     "text": [
      " 15%|█▍        | 69/462 [02:51<11:49,  1.81s/it]"
     ]
    },
    {
     "name": "stdout",
     "output_type": "stream",
     "text": [
      "119-MEXT---Ministry-of-Education-Culture-Sports-Science-and-Technology-2011.nc\n"
     ]
    },
    {
     "name": "stderr",
     "output_type": "stream",
     "text": [
      " 15%|█▌        | 70/462 [02:53<12:11,  1.87s/it]"
     ]
    },
    {
     "name": "stdout",
     "output_type": "stream",
     "text": [
      "117-Oikawa-et-al-2013.nc\n"
     ]
    },
    {
     "name": "stderr",
     "output_type": "stream",
     "text": [
      " 15%|█▌        | 71/462 [02:54<12:15,  1.88s/it]"
     ]
    },
    {
     "name": "stdout",
     "output_type": "stream",
     "text": [
      "115-Casacuberta-et-al-2013.nc\n"
     ]
    },
    {
     "name": "stderr",
     "output_type": "stream",
     "text": [
      " 16%|█▌        | 72/462 [02:56<11:56,  1.84s/it]"
     ]
    },
    {
     "name": "stdout",
     "output_type": "stream",
     "text": [
      "116-Suzuki-et-al-2013.nc\n"
     ]
    },
    {
     "name": "stderr",
     "output_type": "stream",
     "text": [
      " 16%|█▌        | 73/462 [02:58<11:22,  1.75s/it]"
     ]
    },
    {
     "name": "stdout",
     "output_type": "stream",
     "text": [
      "120-NRA---Nuclear-Regulation-Authority-2013.nc\n"
     ]
    },
    {
     "name": "stderr",
     "output_type": "stream",
     "text": [
      " 16%|█▌        | 74/462 [03:00<11:43,  1.81s/it]"
     ]
    },
    {
     "name": "stdout",
     "output_type": "stream",
     "text": [
      "126-Fukushima-Prefecture-2011.nc\n"
     ]
    },
    {
     "name": "stderr",
     "output_type": "stream",
     "text": [
      " 16%|█▌        | 75/462 [03:02<12:42,  1.97s/it]"
     ]
    },
    {
     "name": "stdout",
     "output_type": "stream",
     "text": [
      "133-Fisheries-Agency---Ministry-of-Agriculture-Forestry-and-Fisheries-2011.nc\n"
     ]
    },
    {
     "name": "stderr",
     "output_type": "stream",
     "text": [
      " 16%|█▋        | 76/462 [03:04<11:58,  1.86s/it]"
     ]
    },
    {
     "name": "stdout",
     "output_type": "stream",
     "text": [
      "137-JCG---Japan-Coast-Guard-2011.nc\n"
     ]
    },
    {
     "name": "stderr",
     "output_type": "stream",
     "text": [
      " 17%|█▋        | 77/462 [03:05<11:14,  1.75s/it]"
     ]
    },
    {
     "name": "stdout",
     "output_type": "stream",
     "text": [
      "135-Japan-Fisheries-Research-and-Education-Agency-2015.nc\n"
     ]
    },
    {
     "name": "stderr",
     "output_type": "stream",
     "text": [
      " 17%|█▋        | 78/462 [03:07<11:51,  1.85s/it]"
     ]
    },
    {
     "name": "stdout",
     "output_type": "stream",
     "text": [
      "124-MOE---Ministry-of-the-Environment-2011.nc\n"
     ]
    },
    {
     "name": "stderr",
     "output_type": "stream",
     "text": [
      " 17%|█▋        | 79/462 [03:09<11:26,  1.79s/it]"
     ]
    },
    {
     "name": "stdout",
     "output_type": "stream",
     "text": [
      "142-NRA---Nuclear-Regulation-Authority-2013.nc\n"
     ]
    },
    {
     "name": "stderr",
     "output_type": "stream",
     "text": [
      " 17%|█▋        | 80/462 [03:11<11:09,  1.75s/it]"
     ]
    },
    {
     "name": "stdout",
     "output_type": "stream",
     "text": [
      "123-Fukushima-Prefecture-2013.nc\n"
     ]
    },
    {
     "name": "stderr",
     "output_type": "stream",
     "text": [
      " 18%|█▊        | 81/462 [03:12<11:07,  1.75s/it]"
     ]
    },
    {
     "name": "stdout",
     "output_type": "stream",
     "text": [
      "139-MEXT---Ministry-of-Education-Culture-Sports-Science-and-Technology-2011.nc\n"
     ]
    },
    {
     "name": "stderr",
     "output_type": "stream",
     "text": [
      " 18%|█▊        | 82/462 [03:14<10:42,  1.69s/it]"
     ]
    },
    {
     "name": "stdout",
     "output_type": "stream",
     "text": [
      "144-Fukushima-Prefecture-2013.nc\n"
     ]
    },
    {
     "name": "stderr",
     "output_type": "stream",
     "text": [
      " 18%|█▊        | 83/462 [03:16<10:43,  1.70s/it]"
     ]
    },
    {
     "name": "stdout",
     "output_type": "stream",
     "text": [
      "145-MOE---Ministry-of-the-Environment-2011.nc\n"
     ]
    },
    {
     "name": "stderr",
     "output_type": "stream",
     "text": [
      " 18%|█▊        | 84/462 [03:17<10:45,  1.71s/it]"
     ]
    },
    {
     "name": "stdout",
     "output_type": "stream",
     "text": [
      "146-MEXT---Ministry-of-Education-Culture-Sports-Science-and-Technology-2011.nc\n"
     ]
    },
    {
     "name": "stderr",
     "output_type": "stream",
     "text": [
      " 18%|█▊        | 85/462 [03:19<10:56,  1.74s/it]"
     ]
    },
    {
     "name": "stdout",
     "output_type": "stream",
     "text": [
      "680-TEPCO---Tokyo-Electric-Power-Company-2021.nc\n"
     ]
    },
    {
     "name": "stderr",
     "output_type": "stream",
     "text": [
      " 19%|█▊        | 86/462 [03:22<12:44,  2.03s/it]"
     ]
    },
    {
     "name": "stdout",
     "output_type": "stream",
     "text": [
      "681-NRA---Nuclear-Regulation-Authority-2021.nc\n"
     ]
    },
    {
     "name": "stderr",
     "output_type": "stream",
     "text": [
      " 19%|█▉        | 87/462 [03:24<13:18,  2.13s/it]"
     ]
    },
    {
     "name": "stdout",
     "output_type": "stream",
     "text": [
      "682-NRA---Nuclear-Regulation-Authority-2021.nc\n"
     ]
    },
    {
     "name": "stderr",
     "output_type": "stream",
     "text": [
      " 19%|█▉        | 88/462 [03:26<13:10,  2.11s/it]"
     ]
    },
    {
     "name": "stdout",
     "output_type": "stream",
     "text": [
      "427-Yamamoto-et-al-1994.nc\n"
     ]
    },
    {
     "name": "stderr",
     "output_type": "stream",
     "text": [
      " 19%|█▉        | 89/462 [03:28<12:39,  2.04s/it]"
     ]
    },
    {
     "name": "stdout",
     "output_type": "stream",
     "text": [
      "428-Yu-et-al-2015.nc\n"
     ]
    },
    {
     "name": "stderr",
     "output_type": "stream",
     "text": [
      " 19%|█▉        | 90/462 [03:30<11:54,  1.92s/it]"
     ]
    },
    {
     "name": "stdout",
     "output_type": "stream",
     "text": [
      "445-Hoffman-et-al-1974.nc\n"
     ]
    },
    {
     "name": "stderr",
     "output_type": "stream",
     "text": [
      " 20%|█▉        | 91/462 [03:31<11:12,  1.81s/it]"
     ]
    },
    {
     "name": "stdout",
     "output_type": "stream",
     "text": [
      "232-Honda-et-al-2012.nc\n"
     ]
    },
    {
     "name": "stderr",
     "output_type": "stream",
     "text": [
      " 20%|█▉        | 92/462 [03:33<11:27,  1.86s/it]"
     ]
    },
    {
     "name": "stdout",
     "output_type": "stream",
     "text": [
      "233-Aoyama-et-al-2013.nc\n"
     ]
    },
    {
     "name": "stderr",
     "output_type": "stream",
     "text": [
      " 20%|██        | 93/462 [03:35<10:58,  1.78s/it]"
     ]
    },
    {
     "name": "stdout",
     "output_type": "stream",
     "text": [
      "683-NRA---Nuclear-Regulation-Authority-2021.nc\n"
     ]
    },
    {
     "name": "stderr",
     "output_type": "stream",
     "text": [
      " 20%|██        | 94/462 [03:37<10:45,  1.76s/it]"
     ]
    },
    {
     "name": "stdout",
     "output_type": "stream",
     "text": [
      "687-TEPCO---Tokyo-Electric-Power-Company-2021.nc\n"
     ]
    },
    {
     "name": "stderr",
     "output_type": "stream",
     "text": [
      " 21%|██        | 95/462 [03:38<10:52,  1.78s/it]"
     ]
    },
    {
     "name": "stdout",
     "output_type": "stream",
     "text": [
      "717-Smith-et-al-2017.nc\n"
     ]
    },
    {
     "name": "stderr",
     "output_type": "stream",
     "text": [
      " 21%|██        | 96/462 [03:40<10:54,  1.79s/it]"
     ]
    },
    {
     "name": "stdout",
     "output_type": "stream",
     "text": [
      "688-NRA---Nuclear-Regulation-Authority-2021.nc\n"
     ]
    },
    {
     "name": "stderr",
     "output_type": "stream",
     "text": [
      " 21%|██        | 97/462 [03:42<11:38,  1.91s/it]"
     ]
    },
    {
     "name": "stdout",
     "output_type": "stream",
     "text": [
      "689-NRA---Nuclear-Regulation-Authority-2021.nc\n"
     ]
    },
    {
     "name": "stderr",
     "output_type": "stream",
     "text": [
      " 21%|██        | 98/462 [03:44<11:26,  1.89s/it]"
     ]
    },
    {
     "name": "stdout",
     "output_type": "stream",
     "text": [
      "479-Morita-2010.nc\n"
     ]
    },
    {
     "name": "stderr",
     "output_type": "stream",
     "text": [
      " 21%|██▏       | 99/462 [03:47<12:05,  2.00s/it]"
     ]
    },
    {
     "name": "stdout",
     "output_type": "stream",
     "text": [
      "511-Zeng-2017.nc\n"
     ]
    },
    {
     "name": "stderr",
     "output_type": "stream",
     "text": [
      " 22%|██▏       | 100/462 [03:48<11:30,  1.91s/it]"
     ]
    },
    {
     "name": "stdout",
     "output_type": "stream",
     "text": [
      "516-Madigan-and-Fisher-2013.nc\n"
     ]
    },
    {
     "name": "stderr",
     "output_type": "stream",
     "text": [
      " 22%|██▏       | 101/462 [03:50<10:49,  1.80s/it]"
     ]
    },
    {
     "name": "stdout",
     "output_type": "stream",
     "text": [
      "517-Morita-et-al-2007.nc\n"
     ]
    },
    {
     "name": "stderr",
     "output_type": "stream",
     "text": [
      " 22%|██▏       | 102/462 [03:51<10:27,  1.74s/it]"
     ]
    },
    {
     "name": "stdout",
     "output_type": "stream",
     "text": [
      "550-Sohtome-2014.nc\n"
     ]
    },
    {
     "name": "stderr",
     "output_type": "stream",
     "text": [
      " 22%|██▏       | 103/462 [03:53<10:10,  1.70s/it]"
     ]
    },
    {
     "name": "stdout",
     "output_type": "stream",
     "text": [
      "679-TEPCO---Tokyo-Electric-Power-Company-2021.nc\n"
     ]
    },
    {
     "name": "stderr",
     "output_type": "stream",
     "text": [
      " 23%|██▎       | 104/462 [03:55<11:22,  1.91s/it]"
     ]
    },
    {
     "name": "stdout",
     "output_type": "stream",
     "text": [
      "22-Fowler-et-al-1983.nc\n"
     ]
    },
    {
     "name": "stderr",
     "output_type": "stream",
     "text": [
      " 23%|██▎       | 105/462 [03:57<11:13,  1.89s/it]"
     ]
    },
    {
     "name": "stdout",
     "output_type": "stream",
     "text": [
      "56-Kaeriyama-et-al-2014.nc\n"
     ]
    },
    {
     "name": "stderr",
     "output_type": "stream",
     "text": [
      " 23%|██▎       | 106/462 [03:59<10:39,  1.80s/it]"
     ]
    },
    {
     "name": "stdout",
     "output_type": "stream",
     "text": [
      "572-Aono-et-al-2000.nc\n"
     ]
    },
    {
     "name": "stderr",
     "output_type": "stream",
     "text": [
      " 23%|██▎       | 107/462 [04:00<10:20,  1.75s/it]"
     ]
    },
    {
     "name": "stdout",
     "output_type": "stream",
     "text": [
      "134-MOE---Ministry-of-the-Environment-2012.nc\n"
     ]
    },
    {
     "name": "stderr",
     "output_type": "stream",
     "text": [
      " 23%|██▎       | 108/462 [04:03<11:03,  1.88s/it]"
     ]
    },
    {
     "name": "stdout",
     "output_type": "stream",
     "text": [
      "204-MERI-2017.nc\n"
     ]
    },
    {
     "name": "stderr",
     "output_type": "stream",
     "text": [
      " 24%|██▎       | 109/462 [04:05<11:39,  1.98s/it]"
     ]
    },
    {
     "name": "stdout",
     "output_type": "stream",
     "text": [
      "206-MERI-2019.nc\n"
     ]
    },
    {
     "name": "stderr",
     "output_type": "stream",
     "text": [
      " 24%|██▍       | 110/462 [04:07<12:17,  2.10s/it]"
     ]
    },
    {
     "name": "stdout",
     "output_type": "stream",
     "text": [
      "207-MERI-2020.nc\n"
     ]
    },
    {
     "name": "stderr",
     "output_type": "stream",
     "text": [
      " 24%|██▍       | 111/462 [04:09<12:26,  2.13s/it]"
     ]
    },
    {
     "name": "stdout",
     "output_type": "stream",
     "text": [
      "125-MOE---Ministry-of-the-Environment-2012.nc\n"
     ]
    },
    {
     "name": "stderr",
     "output_type": "stream",
     "text": [
      " 24%|██▍       | 112/462 [04:11<11:25,  1.96s/it]"
     ]
    },
    {
     "name": "stdout",
     "output_type": "stream",
     "text": [
      "440-Yamada-and-Nagaya-2000.nc\n"
     ]
    },
    {
     "name": "stderr",
     "output_type": "stream",
     "text": [
      " 24%|██▍       | 113/462 [04:12<10:34,  1.82s/it]"
     ]
    },
    {
     "name": "stdout",
     "output_type": "stream",
     "text": [
      "512-Takahashi-et-al-2015.nc\n"
     ]
    },
    {
     "name": "stderr",
     "output_type": "stream",
     "text": [
      " 25%|██▍       | 114/462 [04:14<10:12,  1.76s/it]"
     ]
    },
    {
     "name": "stdout",
     "output_type": "stream",
     "text": [
      "513-Madigan-2012.nc\n"
     ]
    },
    {
     "name": "stderr",
     "output_type": "stream",
     "text": [
      " 25%|██▍       | 115/462 [04:16<09:50,  1.70s/it]"
     ]
    },
    {
     "name": "stdout",
     "output_type": "stream",
     "text": [
      "223-Buesseler-et-al-2018.nc\n"
     ]
    },
    {
     "name": "stderr",
     "output_type": "stream",
     "text": [
      " 25%|██▌       | 116/462 [04:17<09:56,  1.73s/it]"
     ]
    },
    {
     "name": "stdout",
     "output_type": "stream",
     "text": [
      "436-Nakamura-et-al-2015.nc\n"
     ]
    },
    {
     "name": "stderr",
     "output_type": "stream",
     "text": [
      " 25%|██▌       | 117/462 [04:19<09:47,  1.70s/it]"
     ]
    },
    {
     "name": "stdout",
     "output_type": "stream",
     "text": [
      "474-Madigan-et-al-2017.nc\n"
     ]
    },
    {
     "name": "stderr",
     "output_type": "stream",
     "text": [
      " 26%|██▌       | 118/462 [04:21<09:42,  1.69s/it]"
     ]
    },
    {
     "name": "stdout",
     "output_type": "stream",
     "text": [
      "153-Yu-et-al-2018.nc\n"
     ]
    },
    {
     "name": "stderr",
     "output_type": "stream",
     "text": [
      " 26%|██▌       | 119/462 [04:22<09:32,  1.67s/it]"
     ]
    },
    {
     "name": "stdout",
     "output_type": "stream",
     "text": [
      "203-MERI-2016.nc\n"
     ]
    },
    {
     "name": "stderr",
     "output_type": "stream",
     "text": [
      " 26%|██▌       | 120/462 [04:24<10:19,  1.81s/it]"
     ]
    },
    {
     "name": "stdout",
     "output_type": "stream",
     "text": [
      "430-Baumann-et-al-2015.nc\n"
     ]
    },
    {
     "name": "stderr",
     "output_type": "stream",
     "text": [
      " 26%|██▌       | 121/462 [04:26<09:52,  1.74s/it]"
     ]
    },
    {
     "name": "stdout",
     "output_type": "stream",
     "text": [
      "433-Smith-and-Towler-1993.nc\n"
     ]
    },
    {
     "name": "stderr",
     "output_type": "stream",
     "text": [
      " 26%|██▋       | 122/462 [04:28<09:36,  1.70s/it]"
     ]
    },
    {
     "name": "stdout",
     "output_type": "stream",
     "text": [
      "446-Valette-Silver-and-Lauenstein-1995.nc\n"
     ]
    },
    {
     "name": "stderr",
     "output_type": "stream",
     "text": [
      " 27%|██▋       | 123/462 [04:30<09:52,  1.75s/it]"
     ]
    },
    {
     "name": "stdout",
     "output_type": "stream",
     "text": [
      "514-Miki-et-al-2016.nc\n"
     ]
    },
    {
     "name": "stderr",
     "output_type": "stream",
     "text": [
      " 27%|██▋       | 124/462 [04:31<10:00,  1.78s/it]"
     ]
    },
    {
     "name": "stdout",
     "output_type": "stream",
     "text": [
      "549-Shigeoka-et-al-2019.nc\n"
     ]
    },
    {
     "name": "stderr",
     "output_type": "stream",
     "text": [
      " 27%|██▋       | 125/462 [04:33<10:12,  1.82s/it]"
     ]
    },
    {
     "name": "stdout",
     "output_type": "stream",
     "text": [
      "520-Baumann-et-al-2013.nc\n"
     ]
    },
    {
     "name": "stderr",
     "output_type": "stream",
     "text": [
      " 27%|██▋       | 126/462 [04:35<09:49,  1.75s/it]"
     ]
    },
    {
     "name": "stdout",
     "output_type": "stream",
     "text": [
      "542-Ruelas-Inzunza-et-al-2012.nc\n"
     ]
    },
    {
     "name": "stderr",
     "output_type": "stream",
     "text": [
      " 27%|██▋       | 127/462 [04:36<09:27,  1.70s/it]"
     ]
    },
    {
     "name": "stdout",
     "output_type": "stream",
     "text": [
      "546-Takagi-et-al-2015.nc\n"
     ]
    },
    {
     "name": "stderr",
     "output_type": "stream",
     "text": [
      " 28%|██▊       | 128/462 [04:38<09:21,  1.68s/it]"
     ]
    },
    {
     "name": "stdout",
     "output_type": "stream",
     "text": [
      "547-Ruelas-Inzunza-2014.nc\n"
     ]
    },
    {
     "name": "stderr",
     "output_type": "stream",
     "text": [
      " 28%|██▊       | 129/462 [04:40<09:08,  1.65s/it]"
     ]
    },
    {
     "name": "stdout",
     "output_type": "stream",
     "text": [
      "548-Suchanek-et-al-1996.nc\n"
     ]
    },
    {
     "name": "stderr",
     "output_type": "stream",
     "text": [
      " 28%|██▊       | 130/462 [04:41<08:58,  1.62s/it]"
     ]
    },
    {
     "name": "stdout",
     "output_type": "stream",
     "text": [
      "128-NRA---Nuclear-Regulation-Authority-2013.nc\n"
     ]
    },
    {
     "name": "stderr",
     "output_type": "stream",
     "text": [
      " 28%|██▊       | 131/462 [04:43<08:54,  1.61s/it]"
     ]
    },
    {
     "name": "stdout",
     "output_type": "stream",
     "text": [
      "684-NRA---Nuclear-Regulation-Authority-2021.nc\n"
     ]
    },
    {
     "name": "stderr",
     "output_type": "stream",
     "text": [
      " 29%|██▊       | 132/462 [04:44<08:49,  1.60s/it]"
     ]
    },
    {
     "name": "stdout",
     "output_type": "stream",
     "text": [
      "196-Tateda-and-Koyanagi-1996.nc\n"
     ]
    },
    {
     "name": "stderr",
     "output_type": "stream",
     "text": [
      " 29%|██▉       | 133/462 [04:47<09:43,  1.77s/it]"
     ]
    },
    {
     "name": "stdout",
     "output_type": "stream",
     "text": [
      "476-Ruelas-Inzunza-et-al-2012.nc\n"
     ]
    },
    {
     "name": "stderr",
     "output_type": "stream",
     "text": [
      " 29%|██▉       | 134/462 [04:48<09:23,  1.72s/it]"
     ]
    },
    {
     "name": "stdout",
     "output_type": "stream",
     "text": [
      "478-Yamada-et-al-1999.nc\n"
     ]
    },
    {
     "name": "stderr",
     "output_type": "stream",
     "text": [
      " 29%|██▉       | 135/462 [04:50<09:27,  1.74s/it]"
     ]
    },
    {
     "name": "stdout",
     "output_type": "stream",
     "text": [
      "404-Azouz-and-Dulai-2017.nc\n"
     ]
    },
    {
     "name": "stderr",
     "output_type": "stream",
     "text": [
      " 29%|██▉       | 136/462 [04:51<09:10,  1.69s/it]"
     ]
    },
    {
     "name": "stdout",
     "output_type": "stream",
     "text": [
      "518-Morita-et-al-2010.nc\n"
     ]
    },
    {
     "name": "stderr",
     "output_type": "stream",
     "text": [
      " 30%|██▉       | 137/462 [04:53<08:57,  1.65s/it]"
     ]
    },
    {
     "name": "stdout",
     "output_type": "stream",
     "text": [
      "140-MEXT---Ministry-of-Education-Culture-Sports-Science-and-Technology-2011.nc\n"
     ]
    },
    {
     "name": "stderr",
     "output_type": "stream",
     "text": [
      " 30%|██▉       | 138/462 [04:55<08:44,  1.62s/it]"
     ]
    },
    {
     "name": "stdout",
     "output_type": "stream",
     "text": [
      "322-Département-de-Suivi-des-Centres-dExpérimentations-Nucléaires-(DSCEN)-2018.nc\n"
     ]
    },
    {
     "name": "stderr",
     "output_type": "stream",
     "text": [
      " 30%|███       | 139/462 [04:56<09:08,  1.70s/it]"
     ]
    },
    {
     "name": "stdout",
     "output_type": "stream",
     "text": [
      "321-Département-de-Suivi-des-Centres-dExpérimentations-Nucléaires-(DSCEN)-2011.nc\n"
     ]
    },
    {
     "name": "stderr",
     "output_type": "stream",
     "text": [
      " 30%|███       | 140/462 [04:58<09:20,  1.74s/it]"
     ]
    },
    {
     "name": "stdout",
     "output_type": "stream",
     "text": [
      "282-Pearson-et-al-2016.nc\n"
     ]
    },
    {
     "name": "stderr",
     "output_type": "stream",
     "text": [
      " 31%|███       | 141/462 [05:00<08:59,  1.68s/it]"
     ]
    },
    {
     "name": "stdout",
     "output_type": "stream",
     "text": [
      "279-Pearson-et-al-2016.nc\n"
     ]
    },
    {
     "name": "stderr",
     "output_type": "stream",
     "text": [
      " 31%|███       | 142/462 [05:01<08:48,  1.65s/it]"
     ]
    },
    {
     "name": "stdout",
     "output_type": "stream",
     "text": [
      "169-Villa-Alfageme-et-al-2019.nc\n"
     ]
    },
    {
     "name": "stderr",
     "output_type": "stream",
     "text": [
      " 31%|███       | 143/462 [05:03<08:34,  1.61s/it]"
     ]
    },
    {
     "name": "stdout",
     "output_type": "stream",
     "text": [
      "411-Guy-et-al-2020.nc\n"
     ]
    },
    {
     "name": "stderr",
     "output_type": "stream",
     "text": [
      " 31%|███       | 144/462 [05:05<08:36,  1.62s/it]"
     ]
    },
    {
     "name": "stdout",
     "output_type": "stream",
     "text": [
      "467-Poletiko-et-al-1994.nc\n"
     ]
    },
    {
     "name": "stderr",
     "output_type": "stream",
     "text": [
      " 31%|███▏      | 145/462 [05:06<08:37,  1.63s/it]"
     ]
    },
    {
     "name": "stdout",
     "output_type": "stream",
     "text": [
      "569-Bellamy-and-Hunter-1997.nc\n"
     ]
    },
    {
     "name": "stderr",
     "output_type": "stream",
     "text": [
      " 32%|███▏      | 146/462 [05:08<08:28,  1.61s/it]"
     ]
    },
    {
     "name": "stdout",
     "output_type": "stream",
     "text": [
      "466-Jeffree-et-al-1997.nc\n"
     ]
    },
    {
     "name": "stderr",
     "output_type": "stream",
     "text": [
      " 32%|███▏      | 147/462 [05:09<08:24,  1.60s/it]"
     ]
    },
    {
     "name": "stdout",
     "output_type": "stream",
     "text": [
      "396-Ostlund-nd.nc\n"
     ]
    },
    {
     "name": "stderr",
     "output_type": "stream",
     "text": [
      " 32%|███▏      | 148/462 [05:11<08:32,  1.63s/it]"
     ]
    },
    {
     "name": "stdout",
     "output_type": "stream",
     "text": [
      "308-Jalili-et-al-2009.nc\n"
     ]
    },
    {
     "name": "stderr",
     "output_type": "stream",
     "text": [
      " 32%|███▏      | 149/462 [05:13<08:26,  1.62s/it]"
     ]
    },
    {
     "name": "stdout",
     "output_type": "stream",
     "text": [
      "371-CNESTEN-2020.nc\n"
     ]
    },
    {
     "name": "stderr",
     "output_type": "stream",
     "text": [
      " 32%|███▏      | 150/462 [05:14<08:26,  1.62s/it]"
     ]
    },
    {
     "name": "stdout",
     "output_type": "stream",
     "text": [
      "397-Ostlund-and-Grall-1987.nc\n"
     ]
    },
    {
     "name": "stderr",
     "output_type": "stream",
     "text": [
      " 33%|███▎      | 151/462 [05:16<08:30,  1.64s/it]"
     ]
    },
    {
     "name": "stdout",
     "output_type": "stream",
     "text": [
      "399-Andrié-et-al-1988.nc\n"
     ]
    },
    {
     "name": "stderr",
     "output_type": "stream",
     "text": [
      " 33%|███▎      | 152/462 [05:18<08:24,  1.63s/it]"
     ]
    },
    {
     "name": "stdout",
     "output_type": "stream",
     "text": [
      "303-Carvalho-et-al-2011.nc\n"
     ]
    },
    {
     "name": "stderr",
     "output_type": "stream",
     "text": [
      " 33%|███▎      | 153/462 [05:19<08:25,  1.64s/it]"
     ]
    },
    {
     "name": "stdout",
     "output_type": "stream",
     "text": [
      "352-Hamid-et-al-2010.nc\n"
     ]
    },
    {
     "name": "stderr",
     "output_type": "stream",
     "text": [
      " 33%|███▎      | 154/462 [05:21<08:17,  1.62s/it]"
     ]
    },
    {
     "name": "stdout",
     "output_type": "stream",
     "text": [
      "357-Arnedo-et-al-2013.nc\n"
     ]
    },
    {
     "name": "stderr",
     "output_type": "stream",
     "text": [
      " 34%|███▎      | 155/462 [05:22<08:10,  1.60s/it]"
     ]
    },
    {
     "name": "stdout",
     "output_type": "stream",
     "text": [
      "372-CNESTEN-2020.nc\n"
     ]
    },
    {
     "name": "stderr",
     "output_type": "stream",
     "text": [
      " 34%|███▍      | 156/462 [05:24<08:11,  1.61s/it]"
     ]
    },
    {
     "name": "stdout",
     "output_type": "stream",
     "text": [
      "188-Thünen-Institute-2018.nc\n"
     ]
    },
    {
     "name": "stderr",
     "output_type": "stream",
     "text": [
      " 34%|███▍      | 157/462 [05:36<23:54,  4.70s/it]"
     ]
    },
    {
     "name": "stdout",
     "output_type": "stream",
     "text": [
      "408-Carvalho-2011.nc\n"
     ]
    },
    {
     "name": "stderr",
     "output_type": "stream",
     "text": [
      " 34%|███▍      | 158/462 [05:38<19:56,  3.94s/it]"
     ]
    },
    {
     "name": "stdout",
     "output_type": "stream",
     "text": [
      "431-Malta-and-Carvalho-2011.nc\n"
     ]
    },
    {
     "name": "stderr",
     "output_type": "stream",
     "text": [
      " 34%|███▍      | 159/462 [05:40<16:22,  3.24s/it]"
     ]
    },
    {
     "name": "stdout",
     "output_type": "stream",
     "text": [
      "465-Tejera-et-al-2019.nc\n"
     ]
    },
    {
     "name": "stderr",
     "output_type": "stream",
     "text": [
      " 35%|███▍      | 160/462 [05:41<13:48,  2.74s/it]"
     ]
    },
    {
     "name": "stdout",
     "output_type": "stream",
     "text": [
      "84-MAFF-(now-Cefas)-2004.nc\n"
     ]
    },
    {
     "name": "stderr",
     "output_type": "stream",
     "text": [
      " 35%|███▍      | 161/462 [05:45<15:43,  3.13s/it]"
     ]
    },
    {
     "name": "stdout",
     "output_type": "stream",
     "text": [
      "25-Nies-1989.nc\n"
     ]
    },
    {
     "name": "stderr",
     "output_type": "stream",
     "text": [
      " 35%|███▌      | 162/462 [05:47<13:17,  2.66s/it]"
     ]
    },
    {
     "name": "stdout",
     "output_type": "stream",
     "text": [
      "31-Aarkrog-et-al-1992.nc\n"
     ]
    },
    {
     "name": "stderr",
     "output_type": "stream",
     "text": [
      " 35%|███▌      | 163/462 [05:48<11:34,  2.32s/it]"
     ]
    },
    {
     "name": "stdout",
     "output_type": "stream",
     "text": [
      "41-Aarkrog-et-al-1994.nc\n"
     ]
    },
    {
     "name": "stderr",
     "output_type": "stream",
     "text": [
      " 35%|███▌      | 164/462 [05:50<10:23,  2.09s/it]"
     ]
    },
    {
     "name": "stdout",
     "output_type": "stream",
     "text": [
      "419-Kanisch-and-Aust-2013.nc\n"
     ]
    },
    {
     "name": "stderr",
     "output_type": "stream",
     "text": [
      " 36%|███▌      | 165/462 [05:52<09:46,  1.97s/it]"
     ]
    },
    {
     "name": "stdout",
     "output_type": "stream",
     "text": [
      "448-HEYRAUD-et-al-1988.nc\n"
     ]
    },
    {
     "name": "stderr",
     "output_type": "stream",
     "text": [
      " 36%|███▌      | 166/462 [05:53<09:23,  1.90s/it]"
     ]
    },
    {
     "name": "stdout",
     "output_type": "stream",
     "text": [
      "296-Carvalho-et-al-2011.nc\n"
     ]
    },
    {
     "name": "stderr",
     "output_type": "stream",
     "text": [
      " 36%|███▌      | 167/462 [05:55<08:58,  1.83s/it]"
     ]
    },
    {
     "name": "stdout",
     "output_type": "stream",
     "text": [
      "301-Fonollosa-et-al-2015.nc\n"
     ]
    },
    {
     "name": "stderr",
     "output_type": "stream",
     "text": [
      " 36%|███▋      | 168/462 [05:57<08:37,  1.76s/it]"
     ]
    },
    {
     "name": "stdout",
     "output_type": "stream",
     "text": [
      "339-Benkdad-et-al-2011.nc\n"
     ]
    },
    {
     "name": "stderr",
     "output_type": "stream",
     "text": [
      " 37%|███▋      | 169/462 [05:58<08:32,  1.75s/it]"
     ]
    },
    {
     "name": "stdout",
     "output_type": "stream",
     "text": [
      "341-CNESTEN-2019.nc\n"
     ]
    },
    {
     "name": "stderr",
     "output_type": "stream",
     "text": [
      " 37%|███▋      | 170/462 [06:00<08:21,  1.72s/it]"
     ]
    },
    {
     "name": "stdout",
     "output_type": "stream",
     "text": [
      "161-Gómez-Guzmán-et-al-2013.nc\n"
     ]
    },
    {
     "name": "stderr",
     "output_type": "stream",
     "text": [
      " 37%|███▋      | 171/462 [06:02<08:54,  1.84s/it]"
     ]
    },
    {
     "name": "stdout",
     "output_type": "stream",
     "text": [
      "168-Vivo-Vilches-et-al-2018.nc\n"
     ]
    },
    {
     "name": "stderr",
     "output_type": "stream",
     "text": [
      " 37%|███▋      | 172/462 [06:04<08:42,  1.80s/it]"
     ]
    },
    {
     "name": "stdout",
     "output_type": "stream",
     "text": [
      "174-Hurtado-Bermúdez-et-al-2018.nc\n"
     ]
    },
    {
     "name": "stderr",
     "output_type": "stream",
     "text": [
      "                                                 \r"
     ]
    },
    {
     "ename": "ValueError",
     "evalue": "trying to assign illegal value to Enum variable",
     "output_type": "error",
     "traceback": [
      "\u001b[0;31m---------------------------------------------------------------------------\u001b[0m",
      "\u001b[0;31mValueError\u001b[0m                                Traceback (most recent call last)",
      "Cell \u001b[0;32mIn [902], line 1\u001b[0m\n\u001b[0;32m----> 1\u001b[0m \u001b[43mencode\u001b[49m\u001b[43m(\u001b[49m\u001b[43mfname_in\u001b[49m\u001b[43m,\u001b[49m\u001b[43m \u001b[49m\u001b[43mdir_dest\u001b[49m\u001b[43m,\u001b[49m\u001b[43m \u001b[49m\u001b[43mnc_tpl_path\u001b[49m\u001b[43m(\u001b[49m\u001b[43m)\u001b[49m\u001b[43m,\u001b[49m\u001b[43m \u001b[49m\u001b[43mverbose\u001b[49m\u001b[38;5;241;43m=\u001b[39;49m\u001b[38;5;28;43;01mFalse\u001b[39;49;00m\u001b[43m)\u001b[49m\n",
      "Cell \u001b[0;32mIn [900], line 32\u001b[0m, in \u001b[0;36mencode\u001b[0;34m(fname_in, fname_out, nc_tpl_path, **kwargs)\u001b[0m\n\u001b[1;32m     20\u001b[0m \u001b[38;5;66;03m# species_lut = get_maris_species(fname_in, 'species_helcom.pkl')\u001b[39;00m\n\u001b[1;32m     21\u001b[0m \u001b[38;5;66;03m# enums_xtra = {\u001b[39;00m\n\u001b[1;32m     22\u001b[0m \u001b[38;5;66;03m#     'species_t': {info['name']: info['id'] \u001b[39;00m\n\u001b[1;32m     23\u001b[0m \u001b[38;5;66;03m#                   for info in species_lut.values() if info['name'] != ''}\u001b[39;00m\n\u001b[1;32m     24\u001b[0m \u001b[38;5;66;03m# }\u001b[39;00m\n\u001b[1;32m     25\u001b[0m encoder \u001b[38;5;241m=\u001b[39m NetCDFEncoder(tfm(), \n\u001b[1;32m     26\u001b[0m                         src_fname\u001b[38;5;241m=\u001b[39mnc_tpl_path,\n\u001b[1;32m     27\u001b[0m                         dest_fname\u001b[38;5;241m=\u001b[39mPath(fname_out) \u001b[38;5;241m/\u001b[39m get_fname(dfs), \n\u001b[0;32m   (...)\u001b[0m\n\u001b[1;32m     30\u001b[0m                         \u001b[38;5;66;03m# enums_xtra=enums_xtra\u001b[39;00m\n\u001b[1;32m     31\u001b[0m                         )\n\u001b[0;32m---> 32\u001b[0m \u001b[43mencoder\u001b[49m\u001b[38;5;241;43m.\u001b[39;49m\u001b[43mencode\u001b[49m\u001b[43m(\u001b[49m\u001b[43m)\u001b[49m\n",
      "File \u001b[0;32m~/pro/IAEA/MARIS/marisco/marisco/serializers.py:120\u001b[0m, in \u001b[0;36mencode\u001b[0;34m(self)\u001b[0m\n\u001b[1;32m    118\u001b[0m \u001b[38;5;28mself\u001b[39m\u001b[38;5;241m.\u001b[39mcopy_global_attributes()\n\u001b[1;32m    119\u001b[0m \u001b[38;5;28mself\u001b[39m\u001b[38;5;241m.\u001b[39mcopy_dimensions()\n\u001b[0;32m--> 120\u001b[0m \u001b[38;5;28;43mself\u001b[39;49m\u001b[38;5;241;43m.\u001b[39;49m\u001b[43mprocess_groups\u001b[49m\u001b[43m(\u001b[49m\u001b[43m)\u001b[49m\n",
      "File \u001b[0;32m~/pro/IAEA/MARIS/marisco/marisco/serializers.py:44\u001b[0m, in \u001b[0;36mprocess_groups\u001b[0;34m(self)\u001b[0m\n\u001b[1;32m     41\u001b[0m \u001b[38;5;129m@patch\u001b[39m\n\u001b[1;32m     42\u001b[0m \u001b[38;5;28;01mdef\u001b[39;00m \u001b[38;5;21mprocess_groups\u001b[39m(\u001b[38;5;28mself\u001b[39m:NetCDFEncoder):\n\u001b[1;32m     43\u001b[0m     \u001b[38;5;28;01mfor\u001b[39;00m grp_name, df \u001b[38;5;129;01min\u001b[39;00m \u001b[38;5;28mself\u001b[39m\u001b[38;5;241m.\u001b[39mdfs\u001b[38;5;241m.\u001b[39mitems():\n\u001b[0;32m---> 44\u001b[0m         \u001b[38;5;28;43mself\u001b[39;49m\u001b[38;5;241;43m.\u001b[39;49m\u001b[43mprocess_group\u001b[49m\u001b[43m(\u001b[49m\u001b[43mgrp_name\u001b[49m\u001b[43m,\u001b[49m\u001b[43m \u001b[49m\u001b[43mdf\u001b[49m\u001b[43m)\u001b[49m\n",
      "File \u001b[0;32m~/pro/IAEA/MARIS/marisco/marisco/serializers.py:50\u001b[0m, in \u001b[0;36mprocess_group\u001b[0;34m(self, group_name, df)\u001b[0m\n\u001b[1;32m     47\u001b[0m \u001b[38;5;129m@patch\u001b[39m\n\u001b[1;32m     48\u001b[0m \u001b[38;5;28;01mdef\u001b[39;00m \u001b[38;5;21mprocess_group\u001b[39m(\u001b[38;5;28mself\u001b[39m:NetCDFEncoder, group_name, df):\n\u001b[1;32m     49\u001b[0m     group_dest \u001b[38;5;241m=\u001b[39m \u001b[38;5;28mself\u001b[39m\u001b[38;5;241m.\u001b[39mdest\u001b[38;5;241m.\u001b[39mcreateGroup(group_name)\n\u001b[0;32m---> 50\u001b[0m     \u001b[38;5;28;43mself\u001b[39;49m\u001b[38;5;241;43m.\u001b[39;49m\u001b[43mcopy_variables\u001b[49m\u001b[43m(\u001b[49m\u001b[43mgroup_name\u001b[49m\u001b[43m,\u001b[49m\u001b[43m \u001b[49m\u001b[43mdf\u001b[49m\u001b[43m,\u001b[49m\u001b[43m \u001b[49m\u001b[43mgroup_dest\u001b[49m\u001b[43m)\u001b[49m\n",
      "File \u001b[0;32m~/pro/IAEA/MARIS/marisco/marisco/serializers.py:57\u001b[0m, in \u001b[0;36mcopy_variables\u001b[0;34m(self, group_name, df, group_dest)\u001b[0m\n\u001b[1;32m     55\u001b[0m \u001b[38;5;28;01mfor\u001b[39;00m var_name, var_src \u001b[38;5;129;01min\u001b[39;00m \u001b[38;5;28mself\u001b[39m\u001b[38;5;241m.\u001b[39msrc\u001b[38;5;241m.\u001b[39mgroups[group_name]\u001b[38;5;241m.\u001b[39mvariables\u001b[38;5;241m.\u001b[39mitems():\n\u001b[1;32m     56\u001b[0m     \u001b[38;5;28;01mif\u001b[39;00m var_name \u001b[38;5;129;01min\u001b[39;00m df\u001b[38;5;241m.\u001b[39mreset_index()\u001b[38;5;241m.\u001b[39mcolumns: \n\u001b[0;32m---> 57\u001b[0m         \u001b[38;5;28;43mself\u001b[39;49m\u001b[38;5;241;43m.\u001b[39;49m\u001b[43mcopy_variable\u001b[49m\u001b[43m(\u001b[49m\u001b[43mvar_name\u001b[49m\u001b[43m,\u001b[49m\u001b[43m \u001b[49m\u001b[43mvar_src\u001b[49m\u001b[43m,\u001b[49m\u001b[43m \u001b[49m\u001b[43mdf\u001b[49m\u001b[43m,\u001b[49m\u001b[43m \u001b[49m\u001b[43mgroup_dest\u001b[49m\u001b[43m)\u001b[49m\n",
      "File \u001b[0;32m~/pro/IAEA/MARIS/marisco/marisco/serializers.py:66\u001b[0m, in \u001b[0;36mcopy_variable\u001b[0;34m(self, var_name, var_src, df, group_dest)\u001b[0m\n\u001b[1;32m     64\u001b[0m \u001b[38;5;28;01mif\u001b[39;00m \u001b[38;5;28mself\u001b[39m\u001b[38;5;241m.\u001b[39mverbose: \u001b[38;5;28mprint\u001b[39m(\u001b[38;5;124mf\u001b[39m\u001b[38;5;124m'\u001b[39m\u001b[38;5;124mGroup: \u001b[39m\u001b[38;5;132;01m{\u001b[39;00mgroup_dest\u001b[38;5;241m.\u001b[39mname\u001b[38;5;132;01m}\u001b[39;00m\u001b[38;5;124m, Variable: \u001b[39m\u001b[38;5;132;01m{\u001b[39;00mvar_name\u001b[38;5;132;01m}\u001b[39;00m\u001b[38;5;124m'\u001b[39m)\n\u001b[1;32m     65\u001b[0m \u001b[38;5;28;01mif\u001b[39;00m dtype_name \u001b[38;5;129;01min\u001b[39;00m enums_src: \u001b[38;5;28mself\u001b[39m\u001b[38;5;241m.\u001b[39mcopy_enum_type(dtype_name)   \n\u001b[0;32m---> 66\u001b[0m \u001b[38;5;28;43mself\u001b[39;49m\u001b[38;5;241;43m.\u001b[39;49m\u001b[43m_create_and_copy_variable\u001b[49m\u001b[43m(\u001b[49m\u001b[43mvar_name\u001b[49m\u001b[43m,\u001b[49m\u001b[43m \u001b[49m\u001b[43mvar_src\u001b[49m\u001b[43m,\u001b[49m\u001b[43m \u001b[49m\u001b[43mdf\u001b[49m\u001b[43m,\u001b[49m\u001b[43m \u001b[49m\u001b[43mgroup_dest\u001b[49m\u001b[43m,\u001b[49m\u001b[43m \u001b[49m\u001b[43mdtype_name\u001b[49m\u001b[43m)\u001b[49m\n\u001b[1;32m     67\u001b[0m \u001b[38;5;28mself\u001b[39m\u001b[38;5;241m.\u001b[39mcopy_variable_attributes(var_name, var_src, group_dest)\n",
      "File \u001b[0;32m~/pro/IAEA/MARIS/marisco/marisco/serializers.py:76\u001b[0m, in \u001b[0;36m_create_and_copy_variable\u001b[0;34m(self, var_name, var_src, df, group_dest, dtype_name)\u001b[0m\n\u001b[1;32m     73\u001b[0m group_dest\u001b[38;5;241m.\u001b[39mcreateVariable(var_name, variable_type, var_src\u001b[38;5;241m.\u001b[39mdimensions, compression\u001b[38;5;241m=\u001b[39m\u001b[38;5;124m'\u001b[39m\u001b[38;5;124mzlib\u001b[39m\u001b[38;5;124m'\u001b[39m, complevel\u001b[38;5;241m=\u001b[39m\u001b[38;5;241m9\u001b[39m)\n\u001b[1;32m     75\u001b[0m df_sanitized \u001b[38;5;241m=\u001b[39m \u001b[38;5;28mself\u001b[39m\u001b[38;5;241m.\u001b[39mcast_verbose_rf(df, var_name)\n\u001b[0;32m---> 76\u001b[0m \u001b[43mgroup_dest\u001b[49m\u001b[43m[\u001b[49m\u001b[43mvar_name\u001b[49m\u001b[43m]\u001b[49m\u001b[43m[\u001b[49m\u001b[43m:\u001b[49m\u001b[43m]\u001b[49m \u001b[38;5;241m=\u001b[39m df_sanitized\u001b[38;5;241m.\u001b[39mvalues\n",
      "File \u001b[0;32msrc/netCDF4/_netCDF4.pyx:5238\u001b[0m, in \u001b[0;36mnetCDF4._netCDF4.Variable.__setitem__\u001b[0;34m()\u001b[0m\n",
      "\u001b[0;31mValueError\u001b[0m: trying to assign illegal value to Enum variable"
     ]
    }
   ],
   "source": [
    "encode(fname_in, dir_dest, nc_tpl_path(), verbose=False)"
   ]
  },
  {
   "cell_type": "code",
   "execution_count": null,
   "id": "c37f47cb",
   "metadata": {},
   "outputs": [],
   "source": []
  }
 ],
 "metadata": {
  "kernelspec": {
   "display_name": "Python 3 (ipykernel)",
   "language": "python",
   "name": "python3"
  }
 },
 "nbformat": 4,
 "nbformat_minor": 5
}

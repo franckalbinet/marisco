{
 "cells": [
  {
   "cell_type": "code",
   "execution_count": null,
   "id": "bb60862d",
   "metadata": {},
   "outputs": [],
   "source": [
    "#| default_exp handlers.maris_legacy_long"
   ]
  },
  {
   "attachments": {},
   "cell_type": "markdown",
   "id": "f263111a",
   "metadata": {},
   "source": [
    "# MARIS Legacy"
   ]
  },
  {
   "cell_type": "markdown",
   "id": "31e2c48d",
   "metadata": {},
   "source": [
    "> This notebook contains a data pipeline (handler) that converts the master MARIS database dump into `NetCDF` format. It enables batch encoding of all legacy datasets into NetCDF.\n",
    "\n",
    "\n",
    "Key functions of this handler:\n",
    "\n",
    "- **Load data** from a MARIS dump file\n",
    "- **Transform data** by applying various transformations to clean and normalize the data\n",
    "- **Reshape data** from long to wide format\n",
    "- **Encode data** into NetCDF files\n",
    "\n",
    "\n",
    "The **result** is a set of NetCDF files, one for each unique reference ID in the input data."
   ]
  },
  {
   "attachments": {},
   "cell_type": "markdown",
   "id": "b92a5c33",
   "metadata": {},
   "source": [
    "## Packages import"
   ]
  },
  {
   "cell_type": "code",
   "execution_count": null,
   "id": "0db45fee",
   "metadata": {},
   "outputs": [],
   "source": [
    "#| hide\n",
    "%load_ext autoreload\n",
    "%autoreload 2"
   ]
  },
  {
   "cell_type": "code",
   "execution_count": null,
   "id": "3a8d979f",
   "metadata": {},
   "outputs": [],
   "source": [
    "#| export\n",
    "from tqdm import tqdm\n",
    "from pathlib import Path\n",
    "import fastcore.all as fc\n",
    "import pandas as pd\n",
    "import numpy as np\n",
    "\n",
    "from marisco.callbacks import (\n",
    "    Callback, \n",
    "    Transformer, \n",
    "    SanitizeLonLatCB, \n",
    "    EncodeTimeCB, \n",
    "    RenameColumnsCB, \n",
    "    SelectColumnsCB,\n",
    "    UniqueIndexCB\n",
    ")\n",
    "\n",
    "from marisco.metadata import (\n",
    "    GlobAttrsFeeder, \n",
    "    BboxCB, \n",
    "    DepthRangeCB,\n",
    "    TimeRangeCB,\n",
    "    ZoteroCB,KeyValuePairCB\n",
    "    )\n",
    "\n",
    "from marisco.configs import (\n",
    "    NC_GROUPS,\n",
    "    lut_path,\n",
    "    cdl_cfg,\n",
    "    cfg,\n",
    "    nc_tpl_path,\n",
    "    Enums, get_lut\n",
    "    )\n",
    "\n",
    "from marisco.encoders import NetCDFEncoder"
   ]
  },
  {
   "cell_type": "code",
   "execution_count": null,
   "id": "51f2351f",
   "metadata": {},
   "outputs": [],
   "source": [
    "#| hide\n",
    "import warnings\n",
    "pd.set_option('display.max_rows', 100)\n",
    "warnings.filterwarnings('ignore')"
   ]
  },
  {
   "cell_type": "markdown",
   "id": "5681fbbf",
   "metadata": {},
   "source": [
    "## Configuration and file paths"
   ]
  },
  {
   "cell_type": "code",
   "execution_count": null,
   "id": "d02bf0a9",
   "metadata": {},
   "outputs": [],
   "source": [
    "# | exports\n",
    "# fname_in = Path().home() / 'pro/data/maris/MARIS_exportSample_20240313.txt'\n",
    "# dir_dest = '../../_data/output/dump'\n",
    "\n",
    "\n",
    "fname_in = Path().home() / 'pro/data/maris/2024-11-08 MARIS_QA_shapetype_id=1.xlsx'\n",
    "dir_dest = '../../_data/output/dump'"
   ]
  },
  {
   "cell_type": "markdown",
   "id": "2f8ab222",
   "metadata": {},
   "source": [
    "## Utils"
   ]
  },
  {
   "cell_type": "code",
   "execution_count": null,
   "id": "b76e4cad",
   "metadata": {},
   "outputs": [],
   "source": [
    "#| exports\n",
    "class DataLoader:\n",
    "    \"Load specific MARIS dataset through its ref_id.\"\n",
    "    LUT = {\n",
    "        'Biota': 'BIOTA', \n",
    "        'Seawater': 'SEAWATER', \n",
    "        'Sediment': 'SEDIMENT', \n",
    "        'Suspended matter': 'SUSPENDED_MATTER'\n",
    "    }\n",
    "\n",
    "    def __init__(self, \n",
    "                 fname: str # Path to the MARIS global dump file\n",
    "                 ):\n",
    "        self.fname = fname\n",
    "        self.df = None  # Lazy loading\n",
    "\n",
    "    def _load_data(self):\n",
    "        if self.df is None:\n",
    "            self.df = pd.read_excel(self.fname)\n",
    "\n",
    "    def __call__(self, \n",
    "                 ref_id: int # Reference ID of interest\n",
    "                 ) -> dict: # Dictionary of dataframes\n",
    "        self._load_data()\n",
    "        filtered_df = self.df[self.df.ref_id == ref_id]\n",
    "        return {self.LUT[name]: grp for name, grp in filtered_df.groupby('samptype') if name in self.LUT}\n"
   ]
  },
  {
   "cell_type": "code",
   "execution_count": null,
   "id": "09e988c3",
   "metadata": {},
   "outputs": [],
   "source": [
    "#| exports\n",
    "def get_zotero_key(dfs):\n",
    "    \"Retrieve Zotero key from MARIS dump.\"\n",
    "    return dfs[next(iter(dfs))][['zoterourl']].iloc[0].values[0].split('/')[-1]"
   ]
  },
  {
   "cell_type": "code",
   "execution_count": null,
   "id": "1df89341",
   "metadata": {},
   "outputs": [],
   "source": [
    "#| exports\n",
    "def get_fname(dfs):\n",
    "    \"Retrieve filename from MARIS dump.\"\n",
    "    id, name = dfs[next(iter(dfs))][['ref_id', 'displaytext']].iloc[0]\n",
    "    name = name.replace(',', '').replace('.', '').replace('-', ' ').split(' ')\n",
    "    return '-'.join(([str(id)] + name)) + '.nc'"
   ]
  },
  {
   "cell_type": "markdown",
   "id": "db48f8fb",
   "metadata": {},
   "source": [
    "## Load data"
   ]
  },
  {
   "cell_type": "code",
   "execution_count": null,
   "id": "333c1cc3",
   "metadata": {},
   "outputs": [
    {
     "name": "stdout",
     "output_type": "stream",
     "text": [
      "keys: dict_keys(['BIOTA', 'SEAWATER', 'SEDIMENT'])\n"
     ]
    },
    {
     "data": {
      "text/html": [
       "<div>\n",
       "<style scoped>\n",
       "    .dataframe tbody tr th:only-of-type {\n",
       "        vertical-align: middle;\n",
       "    }\n",
       "\n",
       "    .dataframe tbody tr th {\n",
       "        vertical-align: top;\n",
       "    }\n",
       "\n",
       "    .dataframe thead th {\n",
       "        text-align: right;\n",
       "    }\n",
       "</style>\n",
       "<table border=\"1\" class=\"dataframe\">\n",
       "  <thead>\n",
       "    <tr style=\"text-align: right;\">\n",
       "      <th></th>\n",
       "      <th>sample_id</th>\n",
       "      <th>area_id</th>\n",
       "      <th>areaname</th>\n",
       "      <th>samptype_id</th>\n",
       "      <th>samptype</th>\n",
       "      <th>ref_id</th>\n",
       "      <th>displaytext</th>\n",
       "      <th>zoterourl</th>\n",
       "      <th>ref_note</th>\n",
       "      <th>datbase</th>\n",
       "      <th>...</th>\n",
       "      <th>profile_id</th>\n",
       "      <th>sampnote</th>\n",
       "      <th>ref_fulltext</th>\n",
       "      <th>ref_yearpub</th>\n",
       "      <th>ref_sampleTypes</th>\n",
       "      <th>LongLat</th>\n",
       "      <th>shiftedcoordinates</th>\n",
       "      <th>shiftedlong</th>\n",
       "      <th>shiftedlat</th>\n",
       "      <th>id</th>\n",
       "    </tr>\n",
       "  </thead>\n",
       "  <tbody>\n",
       "    <tr>\n",
       "      <th>576000</th>\n",
       "      <td>398412</td>\n",
       "      <td>2374</td>\n",
       "      <td>Kattegat</td>\n",
       "      <td>3</td>\n",
       "      <td>Sediment</td>\n",
       "      <td>100</td>\n",
       "      <td>HELCOM MORS, 2018</td>\n",
       "      <td>https://www.zotero.org/groups/2432820/maris/it...</td>\n",
       "      <td>Assumed Cs137, originally reported as 138Cs.</td>\n",
       "      <td>HELCOM MORS 2018 Environmental database</td>\n",
       "      <td>...</td>\n",
       "      <td>NaN</td>\n",
       "      <td>DENMARK</td>\n",
       "      <td>HELCOM MORS, 2018. Environmental database - He...</td>\n",
       "      <td>2018</td>\n",
       "      <td>1,2,3</td>\n",
       "      <td>10.998,55.375</td>\n",
       "      <td>0xE6100000010C0000000000B04B401F85EB51B8FE2540</td>\n",
       "      <td>10.9975</td>\n",
       "      <td>55.375</td>\n",
       "      <td>576001</td>\n",
       "    </tr>\n",
       "    <tr>\n",
       "      <th>576001</th>\n",
       "      <td>398412</td>\n",
       "      <td>2374</td>\n",
       "      <td>Kattegat</td>\n",
       "      <td>3</td>\n",
       "      <td>Sediment</td>\n",
       "      <td>100</td>\n",
       "      <td>HELCOM MORS, 2018</td>\n",
       "      <td>https://www.zotero.org/groups/2432820/maris/it...</td>\n",
       "      <td>Assumed Cs137, originally reported as 138Cs.</td>\n",
       "      <td>HELCOM MORS 2018 Environmental database</td>\n",
       "      <td>...</td>\n",
       "      <td>NaN</td>\n",
       "      <td>DENMARK</td>\n",
       "      <td>HELCOM MORS, 2018. Environmental database - He...</td>\n",
       "      <td>2018</td>\n",
       "      <td>1,2,3</td>\n",
       "      <td>10.998,55.375</td>\n",
       "      <td>0xE6100000010C0000000000B04B401F85EB51B8FE2540</td>\n",
       "      <td>10.9975</td>\n",
       "      <td>55.375</td>\n",
       "      <td>576002</td>\n",
       "    </tr>\n",
       "    <tr>\n",
       "      <th>576002</th>\n",
       "      <td>398412</td>\n",
       "      <td>2374</td>\n",
       "      <td>Kattegat</td>\n",
       "      <td>3</td>\n",
       "      <td>Sediment</td>\n",
       "      <td>100</td>\n",
       "      <td>HELCOM MORS, 2018</td>\n",
       "      <td>https://www.zotero.org/groups/2432820/maris/it...</td>\n",
       "      <td>Assumed Cs137, originally reported as 138Cs.</td>\n",
       "      <td>HELCOM MORS 2018 Environmental database</td>\n",
       "      <td>...</td>\n",
       "      <td>NaN</td>\n",
       "      <td>DENMARK</td>\n",
       "      <td>HELCOM MORS, 2018. Environmental database - He...</td>\n",
       "      <td>2018</td>\n",
       "      <td>1,2,3</td>\n",
       "      <td>10.998,55.375</td>\n",
       "      <td>0xE6100000010C0000000000B04B401F85EB51B8FE2540</td>\n",
       "      <td>10.9975</td>\n",
       "      <td>55.375</td>\n",
       "      <td>576003</td>\n",
       "    </tr>\n",
       "    <tr>\n",
       "      <th>576003</th>\n",
       "      <td>398412</td>\n",
       "      <td>2374</td>\n",
       "      <td>Kattegat</td>\n",
       "      <td>3</td>\n",
       "      <td>Sediment</td>\n",
       "      <td>100</td>\n",
       "      <td>HELCOM MORS, 2018</td>\n",
       "      <td>https://www.zotero.org/groups/2432820/maris/it...</td>\n",
       "      <td>Assumed Cs137, originally reported as 138Cs.</td>\n",
       "      <td>HELCOM MORS 2018 Environmental database</td>\n",
       "      <td>...</td>\n",
       "      <td>NaN</td>\n",
       "      <td>DENMARK</td>\n",
       "      <td>HELCOM MORS, 2018. Environmental database - He...</td>\n",
       "      <td>2018</td>\n",
       "      <td>1,2,3</td>\n",
       "      <td>10.998,55.375</td>\n",
       "      <td>0xE6100000010C0000000000B04B401F85EB51B8FE2540</td>\n",
       "      <td>10.9975</td>\n",
       "      <td>55.375</td>\n",
       "      <td>576004</td>\n",
       "    </tr>\n",
       "    <tr>\n",
       "      <th>576004</th>\n",
       "      <td>398412</td>\n",
       "      <td>2374</td>\n",
       "      <td>Kattegat</td>\n",
       "      <td>3</td>\n",
       "      <td>Sediment</td>\n",
       "      <td>100</td>\n",
       "      <td>HELCOM MORS, 2018</td>\n",
       "      <td>https://www.zotero.org/groups/2432820/maris/it...</td>\n",
       "      <td>Assumed Cs137, originally reported as 138Cs.</td>\n",
       "      <td>HELCOM MORS 2018 Environmental database</td>\n",
       "      <td>...</td>\n",
       "      <td>NaN</td>\n",
       "      <td>DENMARK</td>\n",
       "      <td>HELCOM MORS, 2018. Environmental database - He...</td>\n",
       "      <td>2018</td>\n",
       "      <td>1,2,3</td>\n",
       "      <td>10.998,55.375</td>\n",
       "      <td>0xE6100000010C0000000000B04B401F85EB51B8FE2540</td>\n",
       "      <td>10.9975</td>\n",
       "      <td>55.375</td>\n",
       "      <td>576005</td>\n",
       "    </tr>\n",
       "  </tbody>\n",
       "</table>\n",
       "<p>5 rows × 80 columns</p>\n",
       "</div>"
      ],
      "text/plain": [
       "        sample_id  area_id  areaname  samptype_id  samptype  ref_id  \\\n",
       "576000     398412     2374  Kattegat            3  Sediment     100   \n",
       "576001     398412     2374  Kattegat            3  Sediment     100   \n",
       "576002     398412     2374  Kattegat            3  Sediment     100   \n",
       "576003     398412     2374  Kattegat            3  Sediment     100   \n",
       "576004     398412     2374  Kattegat            3  Sediment     100   \n",
       "\n",
       "              displaytext                                          zoterourl  \\\n",
       "576000  HELCOM MORS, 2018  https://www.zotero.org/groups/2432820/maris/it...   \n",
       "576001  HELCOM MORS, 2018  https://www.zotero.org/groups/2432820/maris/it...   \n",
       "576002  HELCOM MORS, 2018  https://www.zotero.org/groups/2432820/maris/it...   \n",
       "576003  HELCOM MORS, 2018  https://www.zotero.org/groups/2432820/maris/it...   \n",
       "576004  HELCOM MORS, 2018  https://www.zotero.org/groups/2432820/maris/it...   \n",
       "\n",
       "                                            ref_note  \\\n",
       "576000  Assumed Cs137, originally reported as 138Cs.   \n",
       "576001  Assumed Cs137, originally reported as 138Cs.   \n",
       "576002  Assumed Cs137, originally reported as 138Cs.   \n",
       "576003  Assumed Cs137, originally reported as 138Cs.   \n",
       "576004  Assumed Cs137, originally reported as 138Cs.   \n",
       "\n",
       "                                        datbase  ...  profile_id sampnote  \\\n",
       "576000  HELCOM MORS 2018 Environmental database  ...         NaN  DENMARK   \n",
       "576001  HELCOM MORS 2018 Environmental database  ...         NaN  DENMARK   \n",
       "576002  HELCOM MORS 2018 Environmental database  ...         NaN  DENMARK   \n",
       "576003  HELCOM MORS 2018 Environmental database  ...         NaN  DENMARK   \n",
       "576004  HELCOM MORS 2018 Environmental database  ...         NaN  DENMARK   \n",
       "\n",
       "                                             ref_fulltext  ref_yearpub  \\\n",
       "576000  HELCOM MORS, 2018. Environmental database - He...         2018   \n",
       "576001  HELCOM MORS, 2018. Environmental database - He...         2018   \n",
       "576002  HELCOM MORS, 2018. Environmental database - He...         2018   \n",
       "576003  HELCOM MORS, 2018. Environmental database - He...         2018   \n",
       "576004  HELCOM MORS, 2018. Environmental database - He...         2018   \n",
       "\n",
       "       ref_sampleTypes        LongLat  \\\n",
       "576000           1,2,3  10.998,55.375   \n",
       "576001           1,2,3  10.998,55.375   \n",
       "576002           1,2,3  10.998,55.375   \n",
       "576003           1,2,3  10.998,55.375   \n",
       "576004           1,2,3  10.998,55.375   \n",
       "\n",
       "                                    shiftedcoordinates  shiftedlong  \\\n",
       "576000  0xE6100000010C0000000000B04B401F85EB51B8FE2540      10.9975   \n",
       "576001  0xE6100000010C0000000000B04B401F85EB51B8FE2540      10.9975   \n",
       "576002  0xE6100000010C0000000000B04B401F85EB51B8FE2540      10.9975   \n",
       "576003  0xE6100000010C0000000000B04B401F85EB51B8FE2540      10.9975   \n",
       "576004  0xE6100000010C0000000000B04B401F85EB51B8FE2540      10.9975   \n",
       "\n",
       "        shiftedlat      id  \n",
       "576000      55.375  576001  \n",
       "576001      55.375  576002  \n",
       "576002      55.375  576003  \n",
       "576003      55.375  576004  \n",
       "576004      55.375  576005  \n",
       "\n",
       "[5 rows x 80 columns]"
      ]
     },
     "execution_count": null,
     "metadata": {},
     "output_type": "execute_result"
    }
   ],
   "source": [
    "#|eval: false\n",
    "dataloader = DataLoader(fname_in)\n",
    "ref_id = 100 # Some other ref_id examples: OSPAR: 191, HELCOM: 100, 717 (only seawater)\n",
    "\n",
    "dfs = dataloader(ref_id=ref_id)\n",
    "print(f'keys: {dfs.keys()}')\n",
    "dfs['SEDIMENT'].head()"
   ]
  },
  {
   "cell_type": "code",
   "execution_count": null,
   "id": "dcb6b315",
   "metadata": {},
   "outputs": [],
   "source": [
    "ref_id = 724"
   ]
  },
  {
   "cell_type": "markdown",
   "id": "bf1a71c0",
   "metadata": {},
   "source": [
    "## Data transformation pipeline"
   ]
  },
  {
   "cell_type": "markdown",
   "id": "0959d8a1",
   "metadata": {},
   "source": [
    "### Select columns"
   ]
  },
  {
   "cell_type": "code",
   "execution_count": null,
   "id": "e72d5b55",
   "metadata": {},
   "outputs": [],
   "source": [
    "#| exports\n",
    "cois_renaming_rules = {\n",
    "    'sample_id': 'SMP_ID',\n",
    "    'latitude': 'LAT',\n",
    "    'longitude': 'LON',\n",
    "    'begperiod': 'TIME',\n",
    "    'sampdepth': 'SMP_DEPTH',\n",
    "    'totdepth': 'TOT_DEPTH',\n",
    "    'uncertaint': 'UNC',\n",
    "    'unit_id': 'UNIT',\n",
    "    'detection': 'DL',\n",
    "    'area_id': 'AREA',\n",
    "    'species_id': 'SPECIES',\n",
    "    'biogroup_id': 'BIO_GROUP',\n",
    "    'bodypar_id': 'BODY_PART',\n",
    "    'sedtype_id': 'SED_TYPE',\n",
    "    'volume': 'VOL',\n",
    "    'salinity': 'SAL',\n",
    "    'temperatur': 'TEMP',\n",
    "    'sampmet_id': 'SAMP_MET',\n",
    "    'prepmet_id': 'PREP_MET',\n",
    "    'counmet_id': 'COUNT_MET',\n",
    "    'activity': 'VALUE',\n",
    "    'nuclide_id': 'NUCLIDE',\n",
    "    'sliceup': 'TOP',\n",
    "    'slicedown': 'BOTTOM'\n",
    "}"
   ]
  },
  {
   "cell_type": "code",
   "execution_count": null,
   "id": "79a00835",
   "metadata": {},
   "outputs": [
    {
     "name": "stdout",
     "output_type": "stream",
     "text": [
      "Keys: dict_keys(['BIOTA'])\n",
      "Columns: Index(['sample_id', 'latitude', 'longitude', 'begperiod', 'sampdepth',\n",
      "       'totdepth', 'uncertaint', 'unit_id', 'detection', 'area_id',\n",
      "       'species_id', 'biogroup_id', 'bodypar_id', 'sedtype_id', 'volume',\n",
      "       'salinity', 'temperatur', 'sampmet_id', 'prepmet_id', 'counmet_id',\n",
      "       'activity', 'nuclide_id', 'sliceup', 'slicedown'],\n",
      "      dtype='object')\n"
     ]
    }
   ],
   "source": [
    "#|eval: false\n",
    "dfs = dataloader(ref_id=ref_id)\n",
    "tfm = Transformer(dfs, cbs=[\n",
    "    SelectColumnsCB(cois_renaming_rules)\n",
    "    ])\n",
    "\n",
    "print('Keys:', tfm().keys())\n",
    "print('Columns:', tfm()['BIOTA'].columns)"
   ]
  },
  {
   "cell_type": "markdown",
   "id": "1507ef65",
   "metadata": {},
   "source": [
    "### Rename columns"
   ]
  },
  {
   "cell_type": "code",
   "execution_count": null,
   "id": "0e5068a9",
   "metadata": {},
   "outputs": [
    {
     "name": "stdout",
     "output_type": "stream",
     "text": [
      "Keys: dict_keys(['BIOTA'])\n",
      "Columns: Index(['SMP_ID', 'LAT', 'LON', 'TIME', 'SMP_DEPTH', 'TOT_DEPTH', 'UNC', 'UNIT',\n",
      "       'DL', 'AREA', 'SPECIES', 'BIO_GROUP', 'BODY_PART', 'SED_TYPE', 'VOL',\n",
      "       'SAL', 'TEMP', 'SAMP_MET', 'PREP_MET', 'COUNT_MET', 'VALUE', 'NUCLIDE',\n",
      "       'TOP', 'BOTTOM'],\n",
      "      dtype='object')\n"
     ]
    }
   ],
   "source": [
    "#|eval: false\n",
    "dfs = dataloader(ref_id=ref_id)\n",
    "tfm = Transformer(dfs, cbs=[\n",
    "    SelectColumnsCB(cois_renaming_rules),\n",
    "    RenameColumnsCB(cois_renaming_rules)\n",
    "    ])\n",
    "\n",
    "dfs_tfm = tfm()\n",
    "print('Keys:', dfs_tfm.keys())\n",
    "print('Columns:', dfs_tfm['BIOTA'].columns)"
   ]
  },
  {
   "cell_type": "markdown",
   "id": "21b2fbc4",
   "metadata": {},
   "source": [
    "### Drop NaN only columns"
   ]
  },
  {
   "cell_type": "code",
   "execution_count": null,
   "id": "819703e6",
   "metadata": {},
   "outputs": [],
   "source": [
    "#| exports\n",
    "class DropNAColumnsCB(Callback):\n",
    "    \"Drop variable containing only NaN or 'Not available' (id=0 in MARIS lookup tables).\"\n",
    "    def __init__(self, na_value=0): fc.store_attr()\n",
    "    def isMarisNA(self, col): \n",
    "        return len(col.unique()) == 1 and col.iloc[0] == self.na_value\n",
    "    \n",
    "    def dropMarisNA(self, df):\n",
    "        na_cols = [col for col in df.columns if self.isMarisNA(df[col])]\n",
    "        return df.drop(labels=na_cols, axis=1)\n",
    "        \n",
    "    def __call__(self, tfm):\n",
    "        for k in tfm.dfs.keys():\n",
    "            tfm.dfs[k] = tfm.dfs[k].dropna(axis=1, how='all')\n",
    "            tfm.dfs[k] = self.dropMarisNA(tfm.dfs[k])"
   ]
  },
  {
   "cell_type": "code",
   "execution_count": null,
   "id": "9e0f69f1",
   "metadata": {},
   "outputs": [
    {
     "name": "stdout",
     "output_type": "stream",
     "text": [
      "Keys: dict_keys(['BIOTA'])\n",
      "Columns: Index(['SMP_ID', 'LAT', 'LON', 'TIME', 'UNC', 'UNIT', 'DL', 'AREA', 'SPECIES',\n",
      "       'BIO_GROUP', 'BODY_PART', 'COUNT_MET', 'VALUE', 'NUCLIDE'],\n",
      "      dtype='object')\n"
     ]
    }
   ],
   "source": [
    "#|eval: false\n",
    "dfs = dataloader(ref_id=ref_id)\n",
    "tfm = Transformer(dfs, cbs=[\n",
    "    SelectColumnsCB(cois_renaming_rules),\n",
    "    RenameColumnsCB(cois_renaming_rules),\n",
    "    DropNAColumnsCB()\n",
    "    ])\n",
    "\n",
    "dfs_tfm = tfm()\n",
    "print('Keys:', dfs_tfm.keys())\n",
    "print('Columns:', dfs_tfm['BIOTA'].columns)\n"
   ]
  },
  {
   "cell_type": "markdown",
   "id": "54a51628",
   "metadata": {},
   "source": [
    "### Remap detection limit values"
   ]
  },
  {
   "cell_type": "code",
   "execution_count": null,
   "id": "5f143484",
   "metadata": {},
   "outputs": [],
   "source": [
    "#| exports\n",
    "dl_name_to_id = lambda: get_lut(lut_path(), 'dbo_detectlimit.xlsx', key='name', value='id')"
   ]
  },
  {
   "cell_type": "code",
   "execution_count": null,
   "id": "c1530475",
   "metadata": {},
   "outputs": [
    {
     "data": {
      "text/plain": [
       "{'Not applicable': -1, 'Not Available': 0, '=': 1, '<': 2, 'ND': 3, 'DE': 4}"
      ]
     },
     "execution_count": null,
     "metadata": {},
     "output_type": "execute_result"
    }
   ],
   "source": [
    "#| eval: false\n",
    "dl_name_to_id()"
   ]
  },
  {
   "cell_type": "code",
   "execution_count": null,
   "id": "c99e5640",
   "metadata": {},
   "outputs": [],
   "source": [
    "#| exports\n",
    "class SanitizeDetectionLimitCB(Callback):\n",
    "    \"Assign Detection Limit name to its id based on MARIS nomenclature.\"\n",
    "    def __init__(self,\n",
    "                 fn_lut=dl_name_to_id,\n",
    "                 dl_name='DL'):\n",
    "        fc.store_attr()\n",
    "\n",
    "    def __call__(self, tfm):\n",
    "        lut = self.fn_lut()\n",
    "        for k in tfm.dfs.keys():\n",
    "            tfm.dfs[k][self.dl_name] = tfm.dfs[k][self.dl_name].replace(lut)"
   ]
  },
  {
   "cell_type": "code",
   "execution_count": null,
   "id": "e71200b5",
   "metadata": {},
   "outputs": [
    {
     "name": "stdout",
     "output_type": "stream",
     "text": [
      "Keys: dict_keys(['BIOTA'])\n",
      "Columns: Index(['SMP_ID', 'LAT', 'LON', 'TIME', 'UNC', 'UNIT', 'DL', 'AREA', 'SPECIES',\n",
      "       'BIO_GROUP', 'BODY_PART', 'COUNT_MET', 'VALUE', 'NUCLIDE'],\n",
      "      dtype='object')\n",
      "[1 2]\n",
      "       SMP_ID       LAT         LON       TIME  UNC  UNIT  DL  AREA  SPECIES  \\\n",
      "20796  681755  36.35828  140.666057 1978-11-01  NaN     5   1  1908      445   \n",
      "20797  681755  36.35828  140.666057 1978-11-01  NaN     5   1  1908      445   \n",
      "20798  681821  36.35828  140.666057 1979-07-06  NaN     5   1  1908      445   \n",
      "20799  681821  36.35828  140.666057 1979-07-06  NaN     5   1  1908      445   \n",
      "20800  681821  36.35828  140.666057 1979-07-06  NaN     5   1  1908      445   \n",
      "\n",
      "       BIO_GROUP  BODY_PART  COUNT_MET    VALUE  NUCLIDE  \n",
      "20796          4          1         20    0.300       33  \n",
      "20797          4          1         22    0.026       37  \n",
      "20798          4          1          9  148.000      103  \n",
      "20799          4          1         22    0.019       12  \n",
      "20800          4          1         20    0.240       33  \n"
     ]
    }
   ],
   "source": [
    "#|eval: false\n",
    "dfs = dataloader(ref_id=ref_id)\n",
    "tfm = Transformer(dfs, cbs=[\n",
    "    SelectColumnsCB(cois_renaming_rules),\n",
    "    RenameColumnsCB(cois_renaming_rules),\n",
    "    DropNAColumnsCB(),\n",
    "    SanitizeDetectionLimitCB()\n",
    "    ])\n",
    "\n",
    "dfs_tfm = tfm()\n",
    "print('Keys:', dfs_tfm.keys())\n",
    "print('Columns:', dfs_tfm['BIOTA'].columns)\n",
    "print(f'{dfs_tfm[\"BIOTA\"][\"DL\"].unique()}')\n",
    "print(f'{dfs_tfm[\"BIOTA\"].head()}')"
   ]
  },
  {
   "cell_type": "markdown",
   "id": "8a07b9e9",
   "metadata": {},
   "source": [
    "### Parse and encode time"
   ]
  },
  {
   "cell_type": "markdown",
   "id": "5cfbf66c",
   "metadata": {},
   "source": [
    "We remind that in `netCDF` format time need to be encoded as `integer` representing the number of seconds since a time of reference. In our case we chose `1970-01-01 00:00:00.0` as defined in `configs.ipynb`.\n",
    "\n"
   ]
  },
  {
   "cell_type": "code",
   "execution_count": null,
   "id": "434da9d4",
   "metadata": {},
   "outputs": [],
   "source": [
    "#| exports\n",
    "class ParseTimeCB(Callback):\n",
    "    \"Parse time column from MARIS dump.\"\n",
    "    def __init__(self,\n",
    "                 time_name='TIME'):\n",
    "        fc.store_attr()\n",
    "        \n",
    "    def __call__(self, tfm):\n",
    "        for k in tfm.dfs.keys():\n",
    "            tfm.dfs[k][self.time_name] = pd.to_datetime(tfm.dfs[k][self.time_name], format='ISO8601')"
   ]
  },
  {
   "cell_type": "code",
   "execution_count": null,
   "id": "3ebcdf32",
   "metadata": {},
   "outputs": [
    {
     "name": "stdout",
     "output_type": "stream",
     "text": [
      "        SMP_ID        LAT         LON        TIME    UNC  UNIT  DL  AREA  \\\n",
      "20796   681755  36.358280  140.666057   278726400    NaN     5   1  1908   \n",
      "20797   681755  36.358280  140.666057   278726400    NaN     5   1  1908   \n",
      "20798   681821  36.358280  140.666057   300067200    NaN     5   1  1908   \n",
      "20799   681821  36.358280  140.666057   300067200    NaN     5   1  1908   \n",
      "20800   681821  36.358280  140.666057   300067200    NaN     5   1  1908   \n",
      "...        ...        ...         ...         ...    ...   ...  ..   ...   \n",
      "944501  681221  36.188018  138.023379  1195084800  0.011     5   1  9999   \n",
      "944502  681221  36.188018  138.023379  1195084800  0.021     5   1  9999   \n",
      "944503  681222  36.188018  138.023379  1226880000  0.910     5   1  9999   \n",
      "944504  681222  36.188018  138.023379  1226880000  0.010     5   1  9999   \n",
      "944505  681222  36.188018  138.023379  1226880000  0.019     5   1  9999   \n",
      "\n",
      "        SPECIES  BIO_GROUP  BODY_PART  COUNT_MET    VALUE  NUCLIDE  \n",
      "20796       445          4          1         20    0.300       33  \n",
      "20797       445          4          1         22    0.026       37  \n",
      "20798       445          4          1          9  148.000      103  \n",
      "20799       445          4          1         22    0.019       12  \n",
      "20800       445          4          1         20    0.240       33  \n",
      "...         ...        ...        ...        ...      ...      ...  \n",
      "944501      262          4          1         22    0.120       33  \n",
      "944502      262          4          1         20    0.110       33  \n",
      "944503      262          4          1         20   85.000        4  \n",
      "944504      262          4          1         22    0.110       33  \n",
      "944505      262          4          1         20    0.150       33  \n",
      "\n",
      "[86651 rows x 14 columns]\n"
     ]
    }
   ],
   "source": [
    "#|eval: false\n",
    "dfs = dataloader(ref_id=ref_id)\n",
    "tfm = Transformer(dfs, cbs=[\n",
    "    SelectColumnsCB(cois_renaming_rules),\n",
    "    RenameColumnsCB(cois_renaming_rules),\n",
    "    DropNAColumnsCB(),\n",
    "    SanitizeDetectionLimitCB(),\n",
    "    ParseTimeCB(),\n",
    "    EncodeTimeCB()\n",
    "    ])\n",
    "\n",
    "print(tfm()['BIOTA'])"
   ]
  },
  {
   "cell_type": "markdown",
   "id": "bd91144a",
   "metadata": {},
   "source": [
    "### Sanitize coordinates"
   ]
  },
  {
   "cell_type": "code",
   "execution_count": null,
   "id": "80141e2a",
   "metadata": {},
   "outputs": [
    {
     "data": {
      "text/html": [
       "<div>\n",
       "<style scoped>\n",
       "    .dataframe tbody tr th:only-of-type {\n",
       "        vertical-align: middle;\n",
       "    }\n",
       "\n",
       "    .dataframe tbody tr th {\n",
       "        vertical-align: top;\n",
       "    }\n",
       "\n",
       "    .dataframe thead th {\n",
       "        text-align: right;\n",
       "    }\n",
       "</style>\n",
       "<table border=\"1\" class=\"dataframe\">\n",
       "  <thead>\n",
       "    <tr style=\"text-align: right;\">\n",
       "      <th></th>\n",
       "      <th>SMP_ID</th>\n",
       "      <th>LAT</th>\n",
       "      <th>LON</th>\n",
       "      <th>TIME</th>\n",
       "      <th>UNC</th>\n",
       "      <th>UNIT</th>\n",
       "      <th>DL</th>\n",
       "      <th>AREA</th>\n",
       "      <th>SPECIES</th>\n",
       "      <th>BIO_GROUP</th>\n",
       "      <th>BODY_PART</th>\n",
       "      <th>COUNT_MET</th>\n",
       "      <th>VALUE</th>\n",
       "      <th>NUCLIDE</th>\n",
       "    </tr>\n",
       "  </thead>\n",
       "  <tbody>\n",
       "    <tr>\n",
       "      <th>20796</th>\n",
       "      <td>681755</td>\n",
       "      <td>36.358280</td>\n",
       "      <td>140.666057</td>\n",
       "      <td>278726400</td>\n",
       "      <td>NaN</td>\n",
       "      <td>5</td>\n",
       "      <td>1</td>\n",
       "      <td>1908</td>\n",
       "      <td>445</td>\n",
       "      <td>4</td>\n",
       "      <td>1</td>\n",
       "      <td>20</td>\n",
       "      <td>0.300</td>\n",
       "      <td>33</td>\n",
       "    </tr>\n",
       "    <tr>\n",
       "      <th>20797</th>\n",
       "      <td>681755</td>\n",
       "      <td>36.358280</td>\n",
       "      <td>140.666057</td>\n",
       "      <td>278726400</td>\n",
       "      <td>NaN</td>\n",
       "      <td>5</td>\n",
       "      <td>1</td>\n",
       "      <td>1908</td>\n",
       "      <td>445</td>\n",
       "      <td>4</td>\n",
       "      <td>1</td>\n",
       "      <td>22</td>\n",
       "      <td>0.026</td>\n",
       "      <td>37</td>\n",
       "    </tr>\n",
       "    <tr>\n",
       "      <th>20798</th>\n",
       "      <td>681821</td>\n",
       "      <td>36.358280</td>\n",
       "      <td>140.666057</td>\n",
       "      <td>300067200</td>\n",
       "      <td>NaN</td>\n",
       "      <td>5</td>\n",
       "      <td>1</td>\n",
       "      <td>1908</td>\n",
       "      <td>445</td>\n",
       "      <td>4</td>\n",
       "      <td>1</td>\n",
       "      <td>9</td>\n",
       "      <td>148.000</td>\n",
       "      <td>103</td>\n",
       "    </tr>\n",
       "    <tr>\n",
       "      <th>20799</th>\n",
       "      <td>681821</td>\n",
       "      <td>36.358280</td>\n",
       "      <td>140.666057</td>\n",
       "      <td>300067200</td>\n",
       "      <td>NaN</td>\n",
       "      <td>5</td>\n",
       "      <td>1</td>\n",
       "      <td>1908</td>\n",
       "      <td>445</td>\n",
       "      <td>4</td>\n",
       "      <td>1</td>\n",
       "      <td>22</td>\n",
       "      <td>0.019</td>\n",
       "      <td>12</td>\n",
       "    </tr>\n",
       "    <tr>\n",
       "      <th>20800</th>\n",
       "      <td>681821</td>\n",
       "      <td>36.358280</td>\n",
       "      <td>140.666057</td>\n",
       "      <td>300067200</td>\n",
       "      <td>NaN</td>\n",
       "      <td>5</td>\n",
       "      <td>1</td>\n",
       "      <td>1908</td>\n",
       "      <td>445</td>\n",
       "      <td>4</td>\n",
       "      <td>1</td>\n",
       "      <td>20</td>\n",
       "      <td>0.240</td>\n",
       "      <td>33</td>\n",
       "    </tr>\n",
       "    <tr>\n",
       "      <th>...</th>\n",
       "      <td>...</td>\n",
       "      <td>...</td>\n",
       "      <td>...</td>\n",
       "      <td>...</td>\n",
       "      <td>...</td>\n",
       "      <td>...</td>\n",
       "      <td>...</td>\n",
       "      <td>...</td>\n",
       "      <td>...</td>\n",
       "      <td>...</td>\n",
       "      <td>...</td>\n",
       "      <td>...</td>\n",
       "      <td>...</td>\n",
       "      <td>...</td>\n",
       "    </tr>\n",
       "    <tr>\n",
       "      <th>944501</th>\n",
       "      <td>681221</td>\n",
       "      <td>36.188018</td>\n",
       "      <td>138.023379</td>\n",
       "      <td>1195084800</td>\n",
       "      <td>0.011</td>\n",
       "      <td>5</td>\n",
       "      <td>1</td>\n",
       "      <td>9999</td>\n",
       "      <td>262</td>\n",
       "      <td>4</td>\n",
       "      <td>1</td>\n",
       "      <td>22</td>\n",
       "      <td>0.120</td>\n",
       "      <td>33</td>\n",
       "    </tr>\n",
       "    <tr>\n",
       "      <th>944502</th>\n",
       "      <td>681221</td>\n",
       "      <td>36.188018</td>\n",
       "      <td>138.023379</td>\n",
       "      <td>1195084800</td>\n",
       "      <td>0.021</td>\n",
       "      <td>5</td>\n",
       "      <td>1</td>\n",
       "      <td>9999</td>\n",
       "      <td>262</td>\n",
       "      <td>4</td>\n",
       "      <td>1</td>\n",
       "      <td>20</td>\n",
       "      <td>0.110</td>\n",
       "      <td>33</td>\n",
       "    </tr>\n",
       "    <tr>\n",
       "      <th>944503</th>\n",
       "      <td>681222</td>\n",
       "      <td>36.188018</td>\n",
       "      <td>138.023379</td>\n",
       "      <td>1226880000</td>\n",
       "      <td>0.910</td>\n",
       "      <td>5</td>\n",
       "      <td>1</td>\n",
       "      <td>9999</td>\n",
       "      <td>262</td>\n",
       "      <td>4</td>\n",
       "      <td>1</td>\n",
       "      <td>20</td>\n",
       "      <td>85.000</td>\n",
       "      <td>4</td>\n",
       "    </tr>\n",
       "    <tr>\n",
       "      <th>944504</th>\n",
       "      <td>681222</td>\n",
       "      <td>36.188018</td>\n",
       "      <td>138.023379</td>\n",
       "      <td>1226880000</td>\n",
       "      <td>0.010</td>\n",
       "      <td>5</td>\n",
       "      <td>1</td>\n",
       "      <td>9999</td>\n",
       "      <td>262</td>\n",
       "      <td>4</td>\n",
       "      <td>1</td>\n",
       "      <td>22</td>\n",
       "      <td>0.110</td>\n",
       "      <td>33</td>\n",
       "    </tr>\n",
       "    <tr>\n",
       "      <th>944505</th>\n",
       "      <td>681222</td>\n",
       "      <td>36.188018</td>\n",
       "      <td>138.023379</td>\n",
       "      <td>1226880000</td>\n",
       "      <td>0.019</td>\n",
       "      <td>5</td>\n",
       "      <td>1</td>\n",
       "      <td>9999</td>\n",
       "      <td>262</td>\n",
       "      <td>4</td>\n",
       "      <td>1</td>\n",
       "      <td>20</td>\n",
       "      <td>0.150</td>\n",
       "      <td>33</td>\n",
       "    </tr>\n",
       "  </tbody>\n",
       "</table>\n",
       "<p>86651 rows × 14 columns</p>\n",
       "</div>"
      ],
      "text/plain": [
       "        SMP_ID        LAT         LON        TIME    UNC  UNIT  DL  AREA  \\\n",
       "20796   681755  36.358280  140.666057   278726400    NaN     5   1  1908   \n",
       "20797   681755  36.358280  140.666057   278726400    NaN     5   1  1908   \n",
       "20798   681821  36.358280  140.666057   300067200    NaN     5   1  1908   \n",
       "20799   681821  36.358280  140.666057   300067200    NaN     5   1  1908   \n",
       "20800   681821  36.358280  140.666057   300067200    NaN     5   1  1908   \n",
       "...        ...        ...         ...         ...    ...   ...  ..   ...   \n",
       "944501  681221  36.188018  138.023379  1195084800  0.011     5   1  9999   \n",
       "944502  681221  36.188018  138.023379  1195084800  0.021     5   1  9999   \n",
       "944503  681222  36.188018  138.023379  1226880000  0.910     5   1  9999   \n",
       "944504  681222  36.188018  138.023379  1226880000  0.010     5   1  9999   \n",
       "944505  681222  36.188018  138.023379  1226880000  0.019     5   1  9999   \n",
       "\n",
       "        SPECIES  BIO_GROUP  BODY_PART  COUNT_MET    VALUE  NUCLIDE  \n",
       "20796       445          4          1         20    0.300       33  \n",
       "20797       445          4          1         22    0.026       37  \n",
       "20798       445          4          1          9  148.000      103  \n",
       "20799       445          4          1         22    0.019       12  \n",
       "20800       445          4          1         20    0.240       33  \n",
       "...         ...        ...        ...        ...      ...      ...  \n",
       "944501      262          4          1         22    0.120       33  \n",
       "944502      262          4          1         20    0.110       33  \n",
       "944503      262          4          1         20   85.000        4  \n",
       "944504      262          4          1         22    0.110       33  \n",
       "944505      262          4          1         20    0.150       33  \n",
       "\n",
       "[86651 rows x 14 columns]"
      ]
     },
     "execution_count": null,
     "metadata": {},
     "output_type": "execute_result"
    }
   ],
   "source": [
    "#|eval: false\n",
    "dfs = dataloader(ref_id=ref_id)\n",
    "tfm = Transformer(dfs, cbs=[\n",
    "    SelectColumnsCB(cois_renaming_rules),\n",
    "    RenameColumnsCB(cois_renaming_rules),\n",
    "    DropNAColumnsCB(),\n",
    "    SanitizeDetectionLimitCB(),\n",
    "    ParseTimeCB(),\n",
    "    EncodeTimeCB(),\n",
    "    SanitizeLonLatCB()\n",
    "    ])\n",
    "\n",
    "dfs_test = tfm()\n",
    "dfs_test['BIOTA']"
   ]
  },
  {
   "cell_type": "markdown",
   "id": "03d02409",
   "metadata": {},
   "source": [
    "### Set unique index"
   ]
  },
  {
   "cell_type": "code",
   "execution_count": null,
   "id": "b2114ddc",
   "metadata": {},
   "outputs": [
    {
     "data": {
      "text/html": [
       "<div>\n",
       "<style scoped>\n",
       "    .dataframe tbody tr th:only-of-type {\n",
       "        vertical-align: middle;\n",
       "    }\n",
       "\n",
       "    .dataframe tbody tr th {\n",
       "        vertical-align: top;\n",
       "    }\n",
       "\n",
       "    .dataframe thead th {\n",
       "        text-align: right;\n",
       "    }\n",
       "</style>\n",
       "<table border=\"1\" class=\"dataframe\">\n",
       "  <thead>\n",
       "    <tr style=\"text-align: right;\">\n",
       "      <th></th>\n",
       "      <th>ID</th>\n",
       "      <th>SMP_ID</th>\n",
       "      <th>LAT</th>\n",
       "      <th>LON</th>\n",
       "      <th>TIME</th>\n",
       "      <th>UNC</th>\n",
       "      <th>UNIT</th>\n",
       "      <th>DL</th>\n",
       "      <th>AREA</th>\n",
       "      <th>SPECIES</th>\n",
       "      <th>BIO_GROUP</th>\n",
       "      <th>BODY_PART</th>\n",
       "      <th>COUNT_MET</th>\n",
       "      <th>VALUE</th>\n",
       "      <th>NUCLIDE</th>\n",
       "    </tr>\n",
       "  </thead>\n",
       "  <tbody>\n",
       "    <tr>\n",
       "      <th>0</th>\n",
       "      <td>0</td>\n",
       "      <td>681755</td>\n",
       "      <td>36.358280</td>\n",
       "      <td>140.666057</td>\n",
       "      <td>278726400</td>\n",
       "      <td>NaN</td>\n",
       "      <td>5</td>\n",
       "      <td>1</td>\n",
       "      <td>1908</td>\n",
       "      <td>445</td>\n",
       "      <td>4</td>\n",
       "      <td>1</td>\n",
       "      <td>20</td>\n",
       "      <td>0.300</td>\n",
       "      <td>33</td>\n",
       "    </tr>\n",
       "    <tr>\n",
       "      <th>1</th>\n",
       "      <td>1</td>\n",
       "      <td>681755</td>\n",
       "      <td>36.358280</td>\n",
       "      <td>140.666057</td>\n",
       "      <td>278726400</td>\n",
       "      <td>NaN</td>\n",
       "      <td>5</td>\n",
       "      <td>1</td>\n",
       "      <td>1908</td>\n",
       "      <td>445</td>\n",
       "      <td>4</td>\n",
       "      <td>1</td>\n",
       "      <td>22</td>\n",
       "      <td>0.026</td>\n",
       "      <td>37</td>\n",
       "    </tr>\n",
       "    <tr>\n",
       "      <th>2</th>\n",
       "      <td>2</td>\n",
       "      <td>681821</td>\n",
       "      <td>36.358280</td>\n",
       "      <td>140.666057</td>\n",
       "      <td>300067200</td>\n",
       "      <td>NaN</td>\n",
       "      <td>5</td>\n",
       "      <td>1</td>\n",
       "      <td>1908</td>\n",
       "      <td>445</td>\n",
       "      <td>4</td>\n",
       "      <td>1</td>\n",
       "      <td>9</td>\n",
       "      <td>148.000</td>\n",
       "      <td>103</td>\n",
       "    </tr>\n",
       "    <tr>\n",
       "      <th>3</th>\n",
       "      <td>3</td>\n",
       "      <td>681821</td>\n",
       "      <td>36.358280</td>\n",
       "      <td>140.666057</td>\n",
       "      <td>300067200</td>\n",
       "      <td>NaN</td>\n",
       "      <td>5</td>\n",
       "      <td>1</td>\n",
       "      <td>1908</td>\n",
       "      <td>445</td>\n",
       "      <td>4</td>\n",
       "      <td>1</td>\n",
       "      <td>22</td>\n",
       "      <td>0.019</td>\n",
       "      <td>12</td>\n",
       "    </tr>\n",
       "    <tr>\n",
       "      <th>4</th>\n",
       "      <td>4</td>\n",
       "      <td>681821</td>\n",
       "      <td>36.358280</td>\n",
       "      <td>140.666057</td>\n",
       "      <td>300067200</td>\n",
       "      <td>NaN</td>\n",
       "      <td>5</td>\n",
       "      <td>1</td>\n",
       "      <td>1908</td>\n",
       "      <td>445</td>\n",
       "      <td>4</td>\n",
       "      <td>1</td>\n",
       "      <td>20</td>\n",
       "      <td>0.240</td>\n",
       "      <td>33</td>\n",
       "    </tr>\n",
       "    <tr>\n",
       "      <th>...</th>\n",
       "      <td>...</td>\n",
       "      <td>...</td>\n",
       "      <td>...</td>\n",
       "      <td>...</td>\n",
       "      <td>...</td>\n",
       "      <td>...</td>\n",
       "      <td>...</td>\n",
       "      <td>...</td>\n",
       "      <td>...</td>\n",
       "      <td>...</td>\n",
       "      <td>...</td>\n",
       "      <td>...</td>\n",
       "      <td>...</td>\n",
       "      <td>...</td>\n",
       "      <td>...</td>\n",
       "    </tr>\n",
       "    <tr>\n",
       "      <th>86646</th>\n",
       "      <td>86646</td>\n",
       "      <td>681221</td>\n",
       "      <td>36.188018</td>\n",
       "      <td>138.023379</td>\n",
       "      <td>1195084800</td>\n",
       "      <td>0.011</td>\n",
       "      <td>5</td>\n",
       "      <td>1</td>\n",
       "      <td>9999</td>\n",
       "      <td>262</td>\n",
       "      <td>4</td>\n",
       "      <td>1</td>\n",
       "      <td>22</td>\n",
       "      <td>0.120</td>\n",
       "      <td>33</td>\n",
       "    </tr>\n",
       "    <tr>\n",
       "      <th>86647</th>\n",
       "      <td>86647</td>\n",
       "      <td>681221</td>\n",
       "      <td>36.188018</td>\n",
       "      <td>138.023379</td>\n",
       "      <td>1195084800</td>\n",
       "      <td>0.021</td>\n",
       "      <td>5</td>\n",
       "      <td>1</td>\n",
       "      <td>9999</td>\n",
       "      <td>262</td>\n",
       "      <td>4</td>\n",
       "      <td>1</td>\n",
       "      <td>20</td>\n",
       "      <td>0.110</td>\n",
       "      <td>33</td>\n",
       "    </tr>\n",
       "    <tr>\n",
       "      <th>86648</th>\n",
       "      <td>86648</td>\n",
       "      <td>681222</td>\n",
       "      <td>36.188018</td>\n",
       "      <td>138.023379</td>\n",
       "      <td>1226880000</td>\n",
       "      <td>0.910</td>\n",
       "      <td>5</td>\n",
       "      <td>1</td>\n",
       "      <td>9999</td>\n",
       "      <td>262</td>\n",
       "      <td>4</td>\n",
       "      <td>1</td>\n",
       "      <td>20</td>\n",
       "      <td>85.000</td>\n",
       "      <td>4</td>\n",
       "    </tr>\n",
       "    <tr>\n",
       "      <th>86649</th>\n",
       "      <td>86649</td>\n",
       "      <td>681222</td>\n",
       "      <td>36.188018</td>\n",
       "      <td>138.023379</td>\n",
       "      <td>1226880000</td>\n",
       "      <td>0.010</td>\n",
       "      <td>5</td>\n",
       "      <td>1</td>\n",
       "      <td>9999</td>\n",
       "      <td>262</td>\n",
       "      <td>4</td>\n",
       "      <td>1</td>\n",
       "      <td>22</td>\n",
       "      <td>0.110</td>\n",
       "      <td>33</td>\n",
       "    </tr>\n",
       "    <tr>\n",
       "      <th>86650</th>\n",
       "      <td>86650</td>\n",
       "      <td>681222</td>\n",
       "      <td>36.188018</td>\n",
       "      <td>138.023379</td>\n",
       "      <td>1226880000</td>\n",
       "      <td>0.019</td>\n",
       "      <td>5</td>\n",
       "      <td>1</td>\n",
       "      <td>9999</td>\n",
       "      <td>262</td>\n",
       "      <td>4</td>\n",
       "      <td>1</td>\n",
       "      <td>20</td>\n",
       "      <td>0.150</td>\n",
       "      <td>33</td>\n",
       "    </tr>\n",
       "  </tbody>\n",
       "</table>\n",
       "<p>86651 rows × 15 columns</p>\n",
       "</div>"
      ],
      "text/plain": [
       "          ID  SMP_ID        LAT         LON        TIME    UNC  UNIT  DL  \\\n",
       "0          0  681755  36.358280  140.666057   278726400    NaN     5   1   \n",
       "1          1  681755  36.358280  140.666057   278726400    NaN     5   1   \n",
       "2          2  681821  36.358280  140.666057   300067200    NaN     5   1   \n",
       "3          3  681821  36.358280  140.666057   300067200    NaN     5   1   \n",
       "4          4  681821  36.358280  140.666057   300067200    NaN     5   1   \n",
       "...      ...     ...        ...         ...         ...    ...   ...  ..   \n",
       "86646  86646  681221  36.188018  138.023379  1195084800  0.011     5   1   \n",
       "86647  86647  681221  36.188018  138.023379  1195084800  0.021     5   1   \n",
       "86648  86648  681222  36.188018  138.023379  1226880000  0.910     5   1   \n",
       "86649  86649  681222  36.188018  138.023379  1226880000  0.010     5   1   \n",
       "86650  86650  681222  36.188018  138.023379  1226880000  0.019     5   1   \n",
       "\n",
       "       AREA  SPECIES  BIO_GROUP  BODY_PART  COUNT_MET    VALUE  NUCLIDE  \n",
       "0      1908      445          4          1         20    0.300       33  \n",
       "1      1908      445          4          1         22    0.026       37  \n",
       "2      1908      445          4          1          9  148.000      103  \n",
       "3      1908      445          4          1         22    0.019       12  \n",
       "4      1908      445          4          1         20    0.240       33  \n",
       "...     ...      ...        ...        ...        ...      ...      ...  \n",
       "86646  9999      262          4          1         22    0.120       33  \n",
       "86647  9999      262          4          1         20    0.110       33  \n",
       "86648  9999      262          4          1         20   85.000        4  \n",
       "86649  9999      262          4          1         22    0.110       33  \n",
       "86650  9999      262          4          1         20    0.150       33  \n",
       "\n",
       "[86651 rows x 15 columns]"
      ]
     },
     "execution_count": null,
     "metadata": {},
     "output_type": "execute_result"
    }
   ],
   "source": [
    "#|eval: false\n",
    "dfs = dataloader(ref_id=ref_id)\n",
    "tfm = Transformer(dfs, cbs=[\n",
    "    SelectColumnsCB(cois_renaming_rules),\n",
    "    RenameColumnsCB(cois_renaming_rules),\n",
    "    DropNAColumnsCB(),\n",
    "    SanitizeDetectionLimitCB(),\n",
    "    ParseTimeCB(),\n",
    "    EncodeTimeCB(),\n",
    "    SanitizeLonLatCB(),\n",
    "    UniqueIndexCB()\n",
    "    ])\n",
    "\n",
    "dfs_test = tfm()\n",
    "dfs_test['BIOTA']"
   ]
  },
  {
   "cell_type": "markdown",
   "id": "709b6999",
   "metadata": {},
   "source": [
    "## Encode to NetCDF"
   ]
  },
  {
   "cell_type": "code",
   "execution_count": null,
   "id": "c55f5ef3",
   "metadata": {},
   "outputs": [
    {
     "data": {
      "text/plain": [
       "['Select columns of interest.',\n",
       " 'Renaming variables to MARIS standard names.',\n",
       " \"Drop variable containing only NaN or 'Not available' (id=0 in MARIS lookup tables).\",\n",
       " 'Assign Detection Limit name to its id based on MARIS nomenclature.',\n",
       " 'Parse time column from MARIS dump.',\n",
       " 'Encode time as seconds since epoch.',\n",
       " 'Drop rows with invalid longitude & latitude values. Convert `,` separator to `.` separator.',\n",
       " 'Set unique index for each group.']"
      ]
     },
     "execution_count": null,
     "metadata": {},
     "output_type": "execute_result"
    }
   ],
   "source": [
    "#|eval: false\n",
    "dfs = dataloader(ref_id=ref_id)\n",
    "tfm = Transformer(dfs, cbs=[\n",
    "    SelectColumnsCB(cois_renaming_rules),\n",
    "    RenameColumnsCB(cois_renaming_rules),\n",
    "    DropNAColumnsCB(),\n",
    "    SanitizeDetectionLimitCB(),\n",
    "    ParseTimeCB(),\n",
    "    EncodeTimeCB(),\n",
    "    SanitizeLonLatCB(),\n",
    "    UniqueIndexCB()\n",
    "    ])\n",
    "\n",
    "dfs_tfm = tfm()\n",
    "tfm.logs"
   ]
  },
  {
   "cell_type": "code",
   "execution_count": null,
   "id": "f98fd736",
   "metadata": {},
   "outputs": [],
   "source": [
    "#| exports\n",
    "kw = ['oceanography', 'Earth Science > Oceans > Ocean Chemistry> Radionuclides',\n",
    "      'Earth Science > Human Dimensions > Environmental Impacts > Nuclear Radiation Exposure',\n",
    "      'Earth Science > Oceans > Ocean Chemistry > Ocean Tracers, Earth Science > Oceans > Marine Sediments',\n",
    "      'Earth Science > Oceans > Ocean Chemistry, Earth Science > Oceans > Sea Ice > Isotopes',\n",
    "      'Earth Science > Oceans > Water Quality > Ocean Contaminants',\n",
    "      'Earth Science > Biological Classification > Animals/Vertebrates > Fish',\n",
    "      'Earth Science > Biosphere > Ecosystems > Marine Ecosystems',\n",
    "      'Earth Science > Biological Classification > Animals/Invertebrates > Mollusks',\n",
    "      'Earth Science > Biological Classification > Animals/Invertebrates > Arthropods > Crustaceans',\n",
    "      'Earth Science > Biological Classification > Plants > Macroalgae (Seaweeds)']"
   ]
  },
  {
   "cell_type": "code",
   "execution_count": null,
   "id": "ca5357b7",
   "metadata": {},
   "outputs": [],
   "source": [
    "#| exports\n",
    "def get_attrs(tfm, zotero_key, kw=kw):\n",
    "    \"Retrieve global attributes from MARIS dump.\"\n",
    "    return GlobAttrsFeeder(tfm.dfs, cbs=[\n",
    "        BboxCB(),\n",
    "        DepthRangeCB(),\n",
    "        TimeRangeCB(),\n",
    "        ZoteroCB(zotero_key, cfg=cfg()),\n",
    "        KeyValuePairCB('keywords', ', '.join(kw)),\n",
    "        KeyValuePairCB('publisher_postprocess_logs', ', '.join(tfm.logs))\n",
    "        ])()"
   ]
  },
  {
   "cell_type": "code",
   "execution_count": null,
   "id": "6385d9e3",
   "metadata": {},
   "outputs": [
    {
     "data": {
      "text/plain": [
       "{'geospatial_lat_min': '30.4358333333333',\n",
       " 'geospatial_lat_max': '65.75',\n",
       " 'geospatial_lon_min': '9.63333333333333',\n",
       " 'geospatial_lon_max': '53.5',\n",
       " 'geospatial_bounds': 'POLYGON ((9.63333333333333 53.5, 30.4358333333333 53.5, 30.4358333333333 65.75, 9.63333333333333 65.75, 9.63333333333333 53.5))',\n",
       " 'geospatial_vertical_max': '437.0',\n",
       " 'geospatial_vertical_min': '-1.0',\n",
       " 'time_coverage_start': '1984-01-10T00:00:00',\n",
       " 'time_coverage_end': '2018-12-14T00:00:00',\n",
       " 'title': 'Radioactivity Monitoring of the Irish Marine Environment 1991 and 1992',\n",
       " 'summary': '',\n",
       " 'creator_name': '[{\"creatorType\": \"author\", \"firstName\": \"A.\", \"lastName\": \"McGarry\"}, {\"creatorType\": \"author\", \"firstName\": \"S.\", \"lastName\": \"Lyons\"}, {\"creatorType\": \"author\", \"firstName\": \"C.\", \"lastName\": \"McEnri\"}, {\"creatorType\": \"author\", \"firstName\": \"T.\", \"lastName\": \"Ryan\"}, {\"creatorType\": \"author\", \"firstName\": \"M.\", \"lastName\": \"O\\'Colmain\"}, {\"creatorType\": \"author\", \"firstName\": \"J.D.\", \"lastName\": \"Cunningham\"}]',\n",
       " 'keywords': 'oceanography, Earth Science > Oceans > Ocean Chemistry> Radionuclides, Earth Science > Human Dimensions > Environmental Impacts > Nuclear Radiation Exposure, Earth Science > Oceans > Ocean Chemistry > Ocean Tracers, Earth Science > Oceans > Marine Sediments, Earth Science > Oceans > Ocean Chemistry, Earth Science > Oceans > Sea Ice > Isotopes, Earth Science > Oceans > Water Quality > Ocean Contaminants, Earth Science > Biological Classification > Animals/Vertebrates > Fish, Earth Science > Biosphere > Ecosystems > Marine Ecosystems, Earth Science > Biological Classification > Animals/Invertebrates > Mollusks, Earth Science > Biological Classification > Animals/Invertebrates > Arthropods > Crustaceans, Earth Science > Biological Classification > Plants > Macroalgae (Seaweeds)',\n",
       " 'publisher_postprocess_logs': \"Select columns of interest., Renaming variables to MARIS standard names., Drop variable containing only NaN or 'Not available' (id=0 in MARIS lookup tables)., Assign Detection Limit name to its id based on MARIS nomenclature., Parse time column from MARIS dump., Encode time as seconds since epoch., Drop rows with invalid longitude & latitude values. Convert `,` separator to `.` separator., Set unique index for each group.\"}"
      ]
     },
     "execution_count": null,
     "metadata": {},
     "output_type": "execute_result"
    }
   ],
   "source": [
    "#|eval: false\n",
    "get_attrs(tfm, zotero_key='3W354SQG', kw=kw)"
   ]
  },
  {
   "cell_type": "code",
   "execution_count": null,
   "id": "63419143",
   "metadata": {},
   "outputs": [],
   "source": [
    "#| exports\n",
    "def encode(fname_in, fname_out, dataloader=None, **kwargs):\n",
    "    if dataloader is None: dataloader = DataLoader(fname_in)._load_data()\n",
    "    ref_ids = kwargs.get('ref_ids', dataloader.df.ref_id.unique())\n",
    "    print('Encoding ...')\n",
    "    for ref_id in tqdm(ref_ids, leave=False):\n",
    "        dfs = dataloader(ref_id=ref_id)\n",
    "        print(get_fname(dfs))\n",
    "        tfm = Transformer(dfs, cbs=[\n",
    "            SelectColumnsCB(cois_renaming_rules),\n",
    "            RenameColumnsCB(cois_renaming_rules),\n",
    "            DropNAColumnsCB(),\n",
    "            SanitizeDetectionLimitCB(),\n",
    "            ParseTimeCB(),\n",
    "            EncodeTimeCB(),\n",
    "            SanitizeLonLatCB(),\n",
    "            UniqueIndexCB()\n",
    "            ])\n",
    "        \n",
    "        tfm()\n",
    "        encoder = NetCDFEncoder(tfm.dfs, \n",
    "                                dest_fname=Path(fname_out) / get_fname(dfs), \n",
    "                                global_attrs=get_attrs(tfm, zotero_key=get_zotero_key(dfs), kw=kw),\n",
    "                                verbose=kwargs.get('verbose', False)\n",
    "                                )\n",
    "        encoder.encode()"
   ]
  },
  {
   "cell_type": "markdown",
   "id": "02bb5bfd",
   "metadata": {},
   "source": [
    "### Single dataset"
   ]
  },
  {
   "cell_type": "code",
   "execution_count": null,
   "id": "26bd157d",
   "metadata": {},
   "outputs": [
    {
     "name": "stdout",
     "output_type": "stream",
     "text": [
      "Encoding ...\n"
     ]
    },
    {
     "name": "stderr",
     "output_type": "stream",
     "text": [
      "  0%|          | 0/1 [00:00<?, ?it/s]"
     ]
    },
    {
     "name": "stdout",
     "output_type": "stream",
     "text": [
      "727-Muir-et-al-2017.nc\n",
      "Warning: dbo_area.xlsx: found duplicate keys: ['Indian Ocean', 'Arctic Ocean', 'Southern Ocean', 'North Pacific Ocean', 'South Pacific Ocean', 'North Atlantic Ocean', 'South Atlantic Ocean']\n"
     ]
    },
    {
     "name": "stderr",
     "output_type": "stream",
     "text": [
      "                                     "
     ]
    },
    {
     "name": "stdout",
     "output_type": "stream",
     "text": [
      "--------------------------------------------------------------------------------\n",
      "Group: biota, Variable: id\n",
      "--------------------------------------------------------------------------------\n",
      "Group: biota, Variable: lon\n",
      "--------------------------------------------------------------------------------\n",
      "Group: biota, Variable: lat\n",
      "--------------------------------------------------------------------------------\n",
      "Group: biota, Variable: time\n",
      "--------------------------------------------------------------------------------\n",
      "Group: biota, Variable: area\n",
      "--------------------------------------------------------------------------------\n",
      "Group: biota, Variable: smp_id\n",
      "--------------------------------------------------------------------------------\n",
      "Group: biota, Variable: nuclide\n",
      "--------------------------------------------------------------------------------\n",
      "Group: biota, Variable: value\n",
      "--------------------------------------------------------------------------------\n",
      "Group: biota, Variable: unit\n",
      "--------------------------------------------------------------------------------\n",
      "Group: biota, Variable: unc\n",
      "--------------------------------------------------------------------------------\n",
      "Group: biota, Variable: dl\n",
      "--------------------------------------------------------------------------------\n",
      "Group: biota, Variable: count_met\n",
      "--------------------------------------------------------------------------------\n",
      "Group: biota, Variable: samp_met\n",
      "--------------------------------------------------------------------------------\n",
      "Group: biota, Variable: prep_met\n",
      "--------------------------------------------------------------------------------\n",
      "Group: biota, Variable: bio_group\n",
      "--------------------------------------------------------------------------------\n",
      "Group: biota, Variable: species\n"
     ]
    },
    {
     "name": "stderr",
     "output_type": "stream",
     "text": [
      "\r"
     ]
    },
    {
     "ename": "ValueError",
     "evalue": "trying to assign illegal value to Enum variable",
     "output_type": "error",
     "traceback": [
      "\u001b[0;31m---------------------------------------------------------------------------\u001b[0m",
      "\u001b[0;31mValueError\u001b[0m                                Traceback (most recent call last)",
      "Cell \u001b[0;32mIn [153], line 3\u001b[0m\n\u001b[1;32m      1\u001b[0m \u001b[38;5;66;03m#|eval: false\u001b[39;00m\n\u001b[1;32m      2\u001b[0m ref_id \u001b[38;5;241m=\u001b[39m \u001b[38;5;241m727\u001b[39m\n\u001b[0;32m----> 3\u001b[0m \u001b[43mencode\u001b[49m\u001b[43m(\u001b[49m\n\u001b[1;32m      4\u001b[0m \u001b[43m    \u001b[49m\u001b[43mfname_in\u001b[49m\u001b[43m,\u001b[49m\n\u001b[1;32m      5\u001b[0m \u001b[43m    \u001b[49m\u001b[43mdir_dest\u001b[49m\u001b[43m,\u001b[49m\n\u001b[1;32m      6\u001b[0m \u001b[43m    \u001b[49m\u001b[43mdataloader\u001b[49m\u001b[38;5;241;43m=\u001b[39;49m\u001b[43mdataloader\u001b[49m\u001b[43m,\u001b[49m\n\u001b[1;32m      7\u001b[0m \u001b[43m    \u001b[49m\u001b[43mverbose\u001b[49m\u001b[38;5;241;43m=\u001b[39;49m\u001b[38;5;28;43;01mTrue\u001b[39;49;00m\u001b[43m,\u001b[49m\u001b[43m \u001b[49m\n\u001b[1;32m      8\u001b[0m \u001b[43m    \u001b[49m\u001b[43mref_ids\u001b[49m\u001b[38;5;241;43m=\u001b[39;49m\u001b[43m[\u001b[49m\u001b[43mref_id\u001b[49m\u001b[43m]\u001b[49m\u001b[43m)\u001b[49m\n",
      "Cell \u001b[0;32mIn [150], line 26\u001b[0m, in \u001b[0;36mencode\u001b[0;34m(fname_in, fname_out, dataloader, **kwargs)\u001b[0m\n\u001b[1;32m     20\u001b[0m tfm()\n\u001b[1;32m     21\u001b[0m encoder \u001b[38;5;241m=\u001b[39m NetCDFEncoder(tfm\u001b[38;5;241m.\u001b[39mdfs, \n\u001b[1;32m     22\u001b[0m                         dest_fname\u001b[38;5;241m=\u001b[39mPath(fname_out) \u001b[38;5;241m/\u001b[39m get_fname(dfs), \n\u001b[1;32m     23\u001b[0m                         global_attrs\u001b[38;5;241m=\u001b[39mget_attrs(tfm, zotero_key\u001b[38;5;241m=\u001b[39mget_zotero_key(dfs), kw\u001b[38;5;241m=\u001b[39mkw),\n\u001b[1;32m     24\u001b[0m                         verbose\u001b[38;5;241m=\u001b[39mkwargs\u001b[38;5;241m.\u001b[39mget(\u001b[38;5;124m'\u001b[39m\u001b[38;5;124mverbose\u001b[39m\u001b[38;5;124m'\u001b[39m, \u001b[38;5;28;01mFalse\u001b[39;00m)\n\u001b[1;32m     25\u001b[0m                         )\n\u001b[0;32m---> 26\u001b[0m \u001b[43mencoder\u001b[49m\u001b[38;5;241;43m.\u001b[39;49m\u001b[43mencode\u001b[49m\u001b[43m(\u001b[49m\u001b[43m)\u001b[49m\n",
      "File \u001b[0;32m~/pro/IAEA/MARIS/marisco/marisco/encoders.py:153\u001b[0m, in \u001b[0;36mencode\u001b[0;34m(self)\u001b[0m\n\u001b[1;32m    151\u001b[0m \u001b[38;5;28mself\u001b[39m\u001b[38;5;241m.\u001b[39mcopy_global_attributes()\n\u001b[1;32m    152\u001b[0m \u001b[38;5;28mself\u001b[39m\u001b[38;5;241m.\u001b[39mcreate_enums()\n\u001b[0;32m--> 153\u001b[0m \u001b[38;5;28;43mself\u001b[39;49m\u001b[38;5;241;43m.\u001b[39;49m\u001b[43mprocess_groups\u001b[49m\u001b[43m(\u001b[49m\u001b[43m)\u001b[49m\n",
      "File \u001b[0;32m~/pro/IAEA/MARIS/marisco/marisco/encoders.py:64\u001b[0m, in \u001b[0;36mprocess_groups\u001b[0;34m(self)\u001b[0m\n\u001b[1;32m     61\u001b[0m \u001b[38;5;129m@patch\u001b[39m\n\u001b[1;32m     62\u001b[0m \u001b[38;5;28;01mdef\u001b[39;00m \u001b[38;5;21mprocess_groups\u001b[39m(\u001b[38;5;28mself\u001b[39m:NetCDFEncoder):\n\u001b[1;32m     63\u001b[0m     \u001b[38;5;28;01mfor\u001b[39;00m grp_name, df \u001b[38;5;129;01min\u001b[39;00m \u001b[38;5;28mself\u001b[39m\u001b[38;5;241m.\u001b[39mdfs\u001b[38;5;241m.\u001b[39mitems():\n\u001b[0;32m---> 64\u001b[0m         \u001b[38;5;28;43mself\u001b[39;49m\u001b[38;5;241;43m.\u001b[39;49m\u001b[43mprocess_group\u001b[49m\u001b[43m(\u001b[49m\u001b[43mNC_GROUPS\u001b[49m\u001b[43m[\u001b[49m\u001b[43mgrp_name\u001b[49m\u001b[43m]\u001b[49m\u001b[43m,\u001b[49m\u001b[43m \u001b[49m\u001b[43mdf\u001b[49m\u001b[43m)\u001b[49m\n",
      "File \u001b[0;32m~/pro/IAEA/MARIS/marisco/marisco/encoders.py:71\u001b[0m, in \u001b[0;36mprocess_group\u001b[0;34m(self, grp_name, df)\u001b[0m\n\u001b[1;32m     69\u001b[0m grp_dest \u001b[38;5;241m=\u001b[39m \u001b[38;5;28mself\u001b[39m\u001b[38;5;241m.\u001b[39mdest\u001b[38;5;241m.\u001b[39mcreateGroup(grp_name)\n\u001b[1;32m     70\u001b[0m \u001b[38;5;28mself\u001b[39m\u001b[38;5;241m.\u001b[39mcopy_dimensions(grp_dest)\n\u001b[0;32m---> 71\u001b[0m \u001b[38;5;28;43mself\u001b[39;49m\u001b[38;5;241;43m.\u001b[39;49m\u001b[43mcopy_variables\u001b[49m\u001b[43m(\u001b[49m\u001b[43mgrp_name\u001b[49m\u001b[43m,\u001b[49m\u001b[43m \u001b[49m\u001b[43mdf\u001b[49m\u001b[43m,\u001b[49m\u001b[43m \u001b[49m\u001b[43mgrp_dest\u001b[49m\u001b[43m)\u001b[49m\n",
      "File \u001b[0;32m~/pro/IAEA/MARIS/marisco/marisco/encoders.py:79\u001b[0m, in \u001b[0;36mcopy_variables\u001b[0;34m(self, grp_name, df, grp_dest)\u001b[0m\n\u001b[1;32m     77\u001b[0m \u001b[38;5;28;01mfor\u001b[39;00m var_name, var_src \u001b[38;5;129;01min\u001b[39;00m \u001b[38;5;28mself\u001b[39m\u001b[38;5;241m.\u001b[39msrc\u001b[38;5;241m.\u001b[39mgroups[grp_name]\u001b[38;5;241m.\u001b[39mvariables\u001b[38;5;241m.\u001b[39mitems():\n\u001b[1;32m     78\u001b[0m     \u001b[38;5;28;01mif\u001b[39;00m var_name \u001b[38;5;129;01min\u001b[39;00m cols: \n\u001b[0;32m---> 79\u001b[0m         \u001b[38;5;28;43mself\u001b[39;49m\u001b[38;5;241;43m.\u001b[39;49m\u001b[43mcopy_variable\u001b[49m\u001b[43m(\u001b[49m\u001b[43mvar_name\u001b[49m\u001b[43m,\u001b[49m\u001b[43m \u001b[49m\u001b[43mvar_src\u001b[49m\u001b[43m,\u001b[49m\u001b[43m \u001b[49m\u001b[43mdf\u001b[49m\u001b[43m,\u001b[49m\u001b[43m \u001b[49m\u001b[43mgrp_dest\u001b[49m\u001b[43m)\u001b[49m\n",
      "File \u001b[0;32m~/pro/IAEA/MARIS/marisco/marisco/encoders.py:89\u001b[0m, in \u001b[0;36mcopy_variable\u001b[0;34m(self, var_name, var_src, df, grp_dest)\u001b[0m\n\u001b[1;32m     87\u001b[0m     \u001b[38;5;28mprint\u001b[39m(\u001b[38;5;241m80\u001b[39m\u001b[38;5;241m*\u001b[39m\u001b[38;5;124m'\u001b[39m\u001b[38;5;124m-\u001b[39m\u001b[38;5;124m'\u001b[39m)\n\u001b[1;32m     88\u001b[0m     \u001b[38;5;28mprint\u001b[39m(\u001b[38;5;124mf\u001b[39m\u001b[38;5;124m'\u001b[39m\u001b[38;5;124mGroup: \u001b[39m\u001b[38;5;132;01m{\u001b[39;00mgrp_dest\u001b[38;5;241m.\u001b[39mname\u001b[38;5;132;01m}\u001b[39;00m\u001b[38;5;124m, Variable: \u001b[39m\u001b[38;5;132;01m{\u001b[39;00mvar_name\u001b[38;5;132;01m}\u001b[39;00m\u001b[38;5;124m'\u001b[39m)\n\u001b[0;32m---> 89\u001b[0m \u001b[38;5;28;43mself\u001b[39;49m\u001b[38;5;241;43m.\u001b[39;49m\u001b[43m_create_and_copy_variable\u001b[49m\u001b[43m(\u001b[49m\u001b[43mvar_name\u001b[49m\u001b[43m,\u001b[49m\u001b[43m \u001b[49m\u001b[43mvar_src\u001b[49m\u001b[43m,\u001b[49m\u001b[43m \u001b[49m\u001b[43mdf\u001b[49m\u001b[43m,\u001b[49m\u001b[43m \u001b[49m\u001b[43mgrp_dest\u001b[49m\u001b[43m,\u001b[49m\u001b[43m \u001b[49m\u001b[43mdtype_name\u001b[49m\u001b[43m)\u001b[49m\n\u001b[1;32m     90\u001b[0m \u001b[38;5;28mself\u001b[39m\u001b[38;5;241m.\u001b[39mcopy_variable_attributes(var_name, var_src, grp_dest)\n",
      "File \u001b[0;32m~/pro/IAEA/MARIS/marisco/marisco/encoders.py:99\u001b[0m, in \u001b[0;36m_create_and_copy_variable\u001b[0;34m(self, var_name, var_src, df, grp_dest, dtype_name)\u001b[0m\n\u001b[1;32m     97\u001b[0m isNotEnum \u001b[38;5;241m=\u001b[39m \u001b[38;5;28mtype\u001b[39m(variable_type) \u001b[38;5;241m!=\u001b[39m netCDF4\u001b[38;5;241m.\u001b[39m_netCDF4\u001b[38;5;241m.\u001b[39mEnumType\n\u001b[1;32m     98\u001b[0m values \u001b[38;5;241m=\u001b[39m df[\u001b[38;5;28mself\u001b[39m\u001b[38;5;241m.\u001b[39mnc_to_cols[var_name]]\u001b[38;5;241m.\u001b[39mvalues\n\u001b[0;32m---> 99\u001b[0m \u001b[43mgrp_dest\u001b[49m\u001b[43m[\u001b[49m\u001b[43mvar_name\u001b[49m\u001b[43m]\u001b[49m\u001b[43m[\u001b[49m\u001b[43m:\u001b[49m\u001b[43m]\u001b[49m \u001b[38;5;241m=\u001b[39m values \u001b[38;5;28;01mif\u001b[39;00m isNotEnum \u001b[38;5;28;01melse\u001b[39;00m \u001b[38;5;28mself\u001b[39m\u001b[38;5;241m.\u001b[39msanitize_if_enum_and_nan(values)\n",
      "File \u001b[0;32msrc/netCDF4/_netCDF4.pyx:5442\u001b[0m, in \u001b[0;36mnetCDF4._netCDF4.Variable.__setitem__\u001b[0;34m()\u001b[0m\n",
      "\u001b[0;31mValueError\u001b[0m: trying to assign illegal value to Enum variable"
     ]
    }
   ],
   "source": [
    "#|eval: false\n",
    "ref_id = 727\n",
    "encode(\n",
    "    fname_in,\n",
    "    dir_dest,\n",
    "    dataloader=dataloader,\n",
    "    verbose=True, \n",
    "    ref_ids=[ref_id])"
   ]
  },
  {
   "cell_type": "markdown",
   "id": "f3da7ded",
   "metadata": {},
   "source": [
    "### All datasets"
   ]
  },
  {
   "cell_type": "code",
   "execution_count": null,
   "id": "c13a3f6f",
   "metadata": {},
   "outputs": [
    {
     "name": "stdout",
     "output_type": "stream",
     "text": [
      "Encoding ...\n"
     ]
    },
    {
     "name": "stderr",
     "output_type": "stream",
     "text": [
      "  0%|          | 0/475 [00:00<?, ?it/s]"
     ]
    },
    {
     "name": "stdout",
     "output_type": "stream",
     "text": [
      "402-CCHDO-2018.nc\n",
      "Warning: dbo_area.xlsx: found duplicate keys: ['Indian Ocean', 'Arctic Ocean', 'Southern Ocean', 'North Pacific Ocean', 'South Pacific Ocean', 'North Atlantic Ocean', 'South Atlantic Ocean']\n"
     ]
    },
    {
     "name": "stderr",
     "output_type": "stream",
     "text": [
      "  0%|          | 1/475 [00:01<15:22,  1.95s/it]"
     ]
    },
    {
     "name": "stdout",
     "output_type": "stream",
     "text": [
      "374-Ostlund-et-al-1987.nc\n",
      "Warning: dbo_area.xlsx: found duplicate keys: ['Indian Ocean', 'Arctic Ocean', 'Southern Ocean', 'North Pacific Ocean', 'South Pacific Ocean', 'North Atlantic Ocean', 'South Atlantic Ocean']\n"
     ]
    },
    {
     "name": "stderr",
     "output_type": "stream",
     "text": [
      "  0%|          | 2/475 [00:03<12:17,  1.56s/it]"
     ]
    },
    {
     "name": "stdout",
     "output_type": "stream",
     "text": [
      "376-IRSN---Institut-de-Radioprotection-et-de-Sûreté-Nucléaire-2019.nc\n",
      "Warning: dbo_area.xlsx: found duplicate keys: ['Indian Ocean', 'Arctic Ocean', 'Southern Ocean', 'North Pacific Ocean', 'South Pacific Ocean', 'North Atlantic Ocean', 'South Atlantic Ocean']\n"
     ]
    },
    {
     "name": "stderr",
     "output_type": "stream",
     "text": [
      "  1%|          | 3/475 [00:05<15:06,  1.92s/it]"
     ]
    },
    {
     "name": "stdout",
     "output_type": "stream",
     "text": [
      "401-Olsen-et-al-2016.nc\n",
      "Warning: dbo_area.xlsx: found duplicate keys: ['Indian Ocean', 'Arctic Ocean', 'Southern Ocean', 'North Pacific Ocean', 'South Pacific Ocean', 'North Atlantic Ocean', 'South Atlantic Ocean']\n"
     ]
    },
    {
     "name": "stderr",
     "output_type": "stream",
     "text": [
      "  1%|          | 4/475 [00:06<11:50,  1.51s/it]"
     ]
    },
    {
     "name": "stdout",
     "output_type": "stream",
     "text": [
      "16-Cherry-and-Heyraud-1981.nc\n",
      "Warning: dbo_area.xlsx: found duplicate keys: ['Indian Ocean', 'Arctic Ocean', 'Southern Ocean', 'North Pacific Ocean', 'South Pacific Ocean', 'North Atlantic Ocean', 'South Atlantic Ocean']\n"
     ]
    },
    {
     "name": "stderr",
     "output_type": "stream",
     "text": [
      "  1%|          | 5/475 [00:07<09:50,  1.26s/it]"
     ]
    },
    {
     "name": "stdout",
     "output_type": "stream",
     "text": [
      "18-Cherry-and-Heyraud-1982.nc\n",
      "Warning: dbo_area.xlsx: found duplicate keys: ['Indian Ocean', 'Arctic Ocean', 'Southern Ocean', 'North Pacific Ocean', 'South Pacific Ocean', 'North Atlantic Ocean', 'South Atlantic Ocean']\n"
     ]
    },
    {
     "name": "stderr",
     "output_type": "stream",
     "text": [
      "  1%|▏         | 6/475 [00:08<08:33,  1.10s/it]"
     ]
    },
    {
     "name": "stdout",
     "output_type": "stream",
     "text": [
      "30-Östlund-and-Grall-1991.nc\n",
      "Warning: dbo_area.xlsx: found duplicate keys: ['Indian Ocean', 'Arctic Ocean', 'Southern Ocean', 'North Pacific Ocean', 'South Pacific Ocean', 'North Atlantic Ocean', 'South Atlantic Ocean']\n"
     ]
    },
    {
     "name": "stderr",
     "output_type": "stream",
     "text": [
      "  1%|▏         | 7/475 [00:08<07:40,  1.02it/s]"
     ]
    },
    {
     "name": "stdout",
     "output_type": "stream",
     "text": [
      "182-Urban-et-al-2015.nc\n",
      "Warning: dbo_area.xlsx: found duplicate keys: ['Indian Ocean', 'Arctic Ocean', 'Southern Ocean', 'North Pacific Ocean', 'South Pacific Ocean', 'North Atlantic Ocean', 'South Atlantic Ocean']\n"
     ]
    },
    {
     "name": "stderr",
     "output_type": "stream",
     "text": [
      "  2%|▏         | 8/475 [00:09<07:14,  1.08it/s]"
     ]
    },
    {
     "name": "stdout",
     "output_type": "stream",
     "text": [
      "183-Bokor-et-al-2016.nc\n",
      "Warning: dbo_area.xlsx: found duplicate keys: ['Indian Ocean', 'Arctic Ocean', 'Southern Ocean', 'North Pacific Ocean', 'South Pacific Ocean', 'North Atlantic Ocean', 'South Atlantic Ocean']\n"
     ]
    },
    {
     "name": "stderr",
     "output_type": "stream",
     "text": [
      "  2%|▏         | 9/475 [00:10<06:41,  1.16it/s]"
     ]
    },
    {
     "name": "stdout",
     "output_type": "stream",
     "text": [
      "226-Sdraulig-2018.nc\n",
      "Warning: dbo_area.xlsx: found duplicate keys: ['Indian Ocean', 'Arctic Ocean', 'Southern Ocean', 'North Pacific Ocean', 'South Pacific Ocean', 'North Atlantic Ocean', 'South Atlantic Ocean']\n"
     ]
    },
    {
     "name": "stderr",
     "output_type": "stream",
     "text": [
      "  2%|▏         | 10/475 [00:11<06:34,  1.18it/s]"
     ]
    },
    {
     "name": "stdout",
     "output_type": "stream",
     "text": [
      "323-Johansen-et-al-2019.nc\n",
      "Warning: dbo_area.xlsx: found duplicate keys: ['Indian Ocean', 'Arctic Ocean', 'Southern Ocean', 'North Pacific Ocean', 'South Pacific Ocean', 'North Atlantic Ocean', 'South Atlantic Ocean']\n"
     ]
    },
    {
     "name": "stderr",
     "output_type": "stream",
     "text": [
      "  2%|▏         | 11/475 [00:12<06:42,  1.15it/s]"
     ]
    },
    {
     "name": "stdout",
     "output_type": "stream",
     "text": [
      "99-Aoyama-and-Hirose-2004.nc\n",
      "Warning: dbo_area.xlsx: found duplicate keys: ['Indian Ocean', 'Arctic Ocean', 'Southern Ocean', 'North Pacific Ocean', 'South Pacific Ocean', 'North Atlantic Ocean', 'South Atlantic Ocean']\n"
     ]
    },
    {
     "name": "stderr",
     "output_type": "stream",
     "text": [
      "  3%|▎         | 12/475 [00:13<08:40,  1.12s/it]"
     ]
    },
    {
     "name": "stdout",
     "output_type": "stream",
     "text": [
      "358-Kall-et-al-2014.nc\n",
      "Warning: dbo_area.xlsx: found duplicate keys: ['Indian Ocean', 'Arctic Ocean', 'Southern Ocean', 'North Pacific Ocean', 'South Pacific Ocean', 'North Atlantic Ocean', 'South Atlantic Ocean']\n"
     ]
    },
    {
     "name": "stderr",
     "output_type": "stream",
     "text": [
      "  3%|▎         | 13/475 [00:14<07:45,  1.01s/it]"
     ]
    },
    {
     "name": "stdout",
     "output_type": "stream",
     "text": [
      "395-Bailly-du-Bois-et-al-2020.nc\n",
      "Warning: dbo_area.xlsx: found duplicate keys: ['Indian Ocean', 'Arctic Ocean', 'Southern Ocean', 'North Pacific Ocean', 'South Pacific Ocean', 'North Atlantic Ocean', 'South Atlantic Ocean']\n"
     ]
    },
    {
     "name": "stderr",
     "output_type": "stream",
     "text": [
      "  3%|▎         | 14/475 [00:17<12:35,  1.64s/it]"
     ]
    },
    {
     "name": "stdout",
     "output_type": "stream",
     "text": [
      "106-Yamada-et-al-2006.nc\n",
      "Warning: dbo_area.xlsx: found duplicate keys: ['Indian Ocean', 'Arctic Ocean', 'Southern Ocean', 'North Pacific Ocean', 'South Pacific Ocean', 'North Atlantic Ocean', 'South Atlantic Ocean']\n"
     ]
    },
    {
     "name": "stderr",
     "output_type": "stream",
     "text": [
      "  3%|▎         | 15/475 [00:18<10:43,  1.40s/it]"
     ]
    },
    {
     "name": "stdout",
     "output_type": "stream",
     "text": [
      "400-Boyer-et-al-2013.nc\n",
      "Warning: dbo_area.xlsx: found duplicate keys: ['Indian Ocean', 'Arctic Ocean', 'Southern Ocean', 'North Pacific Ocean', 'South Pacific Ocean', 'North Atlantic Ocean', 'South Atlantic Ocean']\n"
     ]
    },
    {
     "name": "stderr",
     "output_type": "stream",
     "text": [
      "  3%|▎         | 16/475 [00:19<10:01,  1.31s/it]"
     ]
    },
    {
     "name": "stdout",
     "output_type": "stream",
     "text": [
      "509-Johansen-et-al-2015.nc\n",
      "Warning: dbo_area.xlsx: found duplicate keys: ['Indian Ocean', 'Arctic Ocean', 'Southern Ocean', 'North Pacific Ocean', 'South Pacific Ocean', 'North Atlantic Ocean', 'South Atlantic Ocean']\n"
     ]
    },
    {
     "name": "stderr",
     "output_type": "stream",
     "text": [
      "  4%|▎         | 17/475 [00:20<09:14,  1.21s/it]"
     ]
    },
    {
     "name": "stdout",
     "output_type": "stream",
     "text": [
      "568-Johansen-2020.nc\n",
      "Warning: dbo_area.xlsx: found duplicate keys: ['Indian Ocean', 'Arctic Ocean', 'Southern Ocean', 'North Pacific Ocean', 'South Pacific Ocean', 'North Atlantic Ocean', 'South Atlantic Ocean']\n"
     ]
    },
    {
     "name": "stderr",
     "output_type": "stream",
     "text": [
      "  4%|▍         | 18/475 [00:21<08:19,  1.09s/it]"
     ]
    },
    {
     "name": "stdout",
     "output_type": "stream",
     "text": [
      "97-ASPAMARD-2004.nc\n",
      "Warning: dbo_area.xlsx: found duplicate keys: ['Indian Ocean', 'Arctic Ocean', 'Southern Ocean', 'North Pacific Ocean', 'South Pacific Ocean', 'North Atlantic Ocean', 'South Atlantic Ocean']\n"
     ]
    },
    {
     "name": "stderr",
     "output_type": "stream",
     "text": [
      "  4%|▍         | 19/475 [00:22<07:31,  1.01it/s]"
     ]
    },
    {
     "name": "stdout",
     "output_type": "stream",
     "text": [
      "443-Heyraud-et-al-1994.nc\n",
      "Warning: dbo_area.xlsx: found duplicate keys: ['Indian Ocean', 'Arctic Ocean', 'Southern Ocean', 'North Pacific Ocean', 'South Pacific Ocean', 'North Atlantic Ocean', 'South Atlantic Ocean']\n"
     ]
    },
    {
     "name": "stderr",
     "output_type": "stream",
     "text": [
      "  4%|▍         | 20/475 [00:22<07:02,  1.08it/s]"
     ]
    },
    {
     "name": "stdout",
     "output_type": "stream",
     "text": [
      "508-Lee-et-al-2018.nc\n",
      "Warning: dbo_area.xlsx: found duplicate keys: ['Indian Ocean', 'Arctic Ocean', 'Southern Ocean', 'North Pacific Ocean', 'South Pacific Ocean', 'North Atlantic Ocean', 'South Atlantic Ocean']\n"
     ]
    },
    {
     "name": "stderr",
     "output_type": "stream",
     "text": [
      "  4%|▍         | 21/475 [00:24<07:36,  1.00s/it]"
     ]
    },
    {
     "name": "stdout",
     "output_type": "stream",
     "text": [
      "103-RADNOR-2010.nc\n",
      "Warning: dbo_area.xlsx: found duplicate keys: ['Indian Ocean', 'Arctic Ocean', 'Southern Ocean', 'North Pacific Ocean', 'South Pacific Ocean', 'North Atlantic Ocean', 'South Atlantic Ocean']\n"
     ]
    },
    {
     "name": "stderr",
     "output_type": "stream",
     "text": [
      "  5%|▍         | 22/475 [00:26<09:57,  1.32s/it]"
     ]
    },
    {
     "name": "stdout",
     "output_type": "stream",
     "text": [
      "122-Casacuberta-et-al-2018.nc\n",
      "Warning: dbo_area.xlsx: found duplicate keys: ['Indian Ocean', 'Arctic Ocean', 'Southern Ocean', 'North Pacific Ocean', 'South Pacific Ocean', 'North Atlantic Ocean', 'South Atlantic Ocean']\n"
     ]
    },
    {
     "name": "stderr",
     "output_type": "stream",
     "text": [
      "  5%|▍         | 23/475 [00:26<08:48,  1.17s/it]"
     ]
    },
    {
     "name": "stdout",
     "output_type": "stream",
     "text": [
      "190-Schlitzer-et-al-2018.nc\n",
      "Warning: dbo_area.xlsx: found duplicate keys: ['Indian Ocean', 'Arctic Ocean', 'Southern Ocean', 'North Pacific Ocean', 'South Pacific Ocean', 'North Atlantic Ocean', 'South Atlantic Ocean']\n"
     ]
    },
    {
     "name": "stderr",
     "output_type": "stream",
     "text": [
      "  5%|▌         | 24/475 [00:28<09:08,  1.22s/it]"
     ]
    },
    {
     "name": "stdout",
     "output_type": "stream",
     "text": [
      "191-OSPAR-Comission’s-Radioactive-Substances-Committee-(RSC)-2018.nc\n",
      "Warning: dbo_area.xlsx: found duplicate keys: ['Indian Ocean', 'Arctic Ocean', 'Southern Ocean', 'North Pacific Ocean', 'South Pacific Ocean', 'North Atlantic Ocean', 'South Atlantic Ocean']\n"
     ]
    },
    {
     "name": "stderr",
     "output_type": "stream",
     "text": [
      "  5%|▌         | 25/475 [00:30<10:52,  1.45s/it]"
     ]
    },
    {
     "name": "stdout",
     "output_type": "stream",
     "text": [
      "199-Skjerdal-et-al-2020.nc\n",
      "Warning: dbo_area.xlsx: found duplicate keys: ['Indian Ocean', 'Arctic Ocean', 'Southern Ocean', 'North Pacific Ocean', 'South Pacific Ocean', 'North Atlantic Ocean', 'South Atlantic Ocean']\n"
     ]
    },
    {
     "name": "stderr",
     "output_type": "stream",
     "text": [
      "  5%|▌         | 26/475 [00:31<09:19,  1.25s/it]"
     ]
    },
    {
     "name": "stdout",
     "output_type": "stream",
     "text": [
      "200-Zaborska-et-al-2010.nc\n",
      "Warning: dbo_area.xlsx: found duplicate keys: ['Indian Ocean', 'Arctic Ocean', 'Southern Ocean', 'North Pacific Ocean', 'South Pacific Ocean', 'North Atlantic Ocean', 'South Atlantic Ocean']\n"
     ]
    },
    {
     "name": "stderr",
     "output_type": "stream",
     "text": [
      "  6%|▌         | 27/475 [00:32<08:47,  1.18s/it]"
     ]
    },
    {
     "name": "stdout",
     "output_type": "stream",
     "text": [
      "380-Smith-et-al-2020.nc\n",
      "Warning: dbo_area.xlsx: found duplicate keys: ['Indian Ocean', 'Arctic Ocean', 'Southern Ocean', 'North Pacific Ocean', 'South Pacific Ocean', 'North Atlantic Ocean', 'South Atlantic Ocean']\n"
     ]
    },
    {
     "name": "stderr",
     "output_type": "stream",
     "text": [
      "  6%|▌         | 28/475 [00:33<08:23,  1.13s/it]"
     ]
    },
    {
     "name": "stdout",
     "output_type": "stream",
     "text": [
      "685-Chamizo-et-al-2021.nc\n",
      "Warning: dbo_area.xlsx: found duplicate keys: ['Indian Ocean', 'Arctic Ocean', 'Southern Ocean', 'North Pacific Ocean', 'South Pacific Ocean', 'North Atlantic Ocean', 'South Atlantic Ocean']\n"
     ]
    },
    {
     "name": "stderr",
     "output_type": "stream",
     "text": [
      "  6%|▌         | 29/475 [00:33<07:32,  1.01s/it]"
     ]
    },
    {
     "name": "stdout",
     "output_type": "stream",
     "text": [
      "720-Payne-et-al-2024.nc\n",
      "Warning: dbo_area.xlsx: found duplicate keys: ['Indian Ocean', 'Arctic Ocean', 'Southern Ocean', 'North Pacific Ocean', 'South Pacific Ocean', 'North Atlantic Ocean', 'South Atlantic Ocean']\n"
     ]
    },
    {
     "name": "stderr",
     "output_type": "stream",
     "text": [
      "  6%|▋         | 30/475 [00:34<06:52,  1.08it/s]"
     ]
    },
    {
     "name": "stdout",
     "output_type": "stream",
     "text": [
      "381-Smith-2020.nc\n",
      "Warning: dbo_area.xlsx: found duplicate keys: ['Indian Ocean', 'Arctic Ocean', 'Southern Ocean', 'North Pacific Ocean', 'South Pacific Ocean', 'North Atlantic Ocean', 'South Atlantic Ocean']\n"
     ]
    },
    {
     "name": "stderr",
     "output_type": "stream",
     "text": [
      "  7%|▋         | 31/475 [00:35<06:20,  1.17it/s]"
     ]
    },
    {
     "name": "stdout",
     "output_type": "stream",
     "text": [
      "432-Efurd-et-al-1997.nc\n",
      "Warning: dbo_area.xlsx: found duplicate keys: ['Indian Ocean', 'Arctic Ocean', 'Southern Ocean', 'North Pacific Ocean', 'South Pacific Ocean', 'North Atlantic Ocean', 'South Atlantic Ocean']\n"
     ]
    },
    {
     "name": "stderr",
     "output_type": "stream",
     "text": [
      "  7%|▋         | 32/475 [00:36<06:10,  1.20it/s]"
     ]
    },
    {
     "name": "stdout",
     "output_type": "stream",
     "text": [
      "477-Valette-Silver-et-al-1999.nc\n",
      "Warning: dbo_area.xlsx: found duplicate keys: ['Indian Ocean', 'Arctic Ocean', 'Southern Ocean', 'North Pacific Ocean', 'South Pacific Ocean', 'North Atlantic Ocean', 'South Atlantic Ocean']\n"
     ]
    },
    {
     "name": "stderr",
     "output_type": "stream",
     "text": [
      "  7%|▋         | 33/475 [00:36<06:13,  1.18it/s]"
     ]
    },
    {
     "name": "stdout",
     "output_type": "stream",
     "text": [
      "718-Smith-2024.nc\n",
      "Warning: dbo_area.xlsx: found duplicate keys: ['Indian Ocean', 'Arctic Ocean', 'Southern Ocean', 'North Pacific Ocean', 'South Pacific Ocean', 'North Atlantic Ocean', 'South Atlantic Ocean']\n"
     ]
    },
    {
     "name": "stderr",
     "output_type": "stream",
     "text": [
      "  7%|▋         | 34/475 [00:37<06:02,  1.22it/s]"
     ]
    },
    {
     "name": "stdout",
     "output_type": "stream",
     "text": [
      "222-Huang-et-al-2019.nc\n",
      "Warning: dbo_area.xlsx: found duplicate keys: ['Indian Ocean', 'Arctic Ocean', 'Southern Ocean', 'North Pacific Ocean', 'South Pacific Ocean', 'North Atlantic Ocean', 'South Atlantic Ocean']\n"
     ]
    },
    {
     "name": "stderr",
     "output_type": "stream",
     "text": [
      "  7%|▋         | 35/475 [00:38<05:45,  1.27it/s]"
     ]
    },
    {
     "name": "stdout",
     "output_type": "stream",
     "text": [
      "201-Mietelski-et-al-2008.nc\n",
      "Warning: dbo_area.xlsx: found duplicate keys: ['Indian Ocean', 'Arctic Ocean', 'Southern Ocean', 'North Pacific Ocean', 'South Pacific Ocean', 'North Atlantic Ocean', 'South Atlantic Ocean']\n"
     ]
    },
    {
     "name": "stderr",
     "output_type": "stream",
     "text": [
      "  8%|▊         | 36/475 [00:39<06:25,  1.14it/s]"
     ]
    },
    {
     "name": "stdout",
     "output_type": "stream",
     "text": [
      "409-Cherry-et-al-1987.nc\n",
      "Warning: dbo_area.xlsx: found duplicate keys: ['Indian Ocean', 'Arctic Ocean', 'Southern Ocean', 'North Pacific Ocean', 'South Pacific Ocean', 'North Atlantic Ocean', 'South Atlantic Ocean']\n"
     ]
    },
    {
     "name": "stderr",
     "output_type": "stream",
     "text": [
      "  8%|▊         | 37/475 [00:40<06:14,  1.17it/s]"
     ]
    },
    {
     "name": "stdout",
     "output_type": "stream",
     "text": [
      "712-Fávaro-et-al-2012.nc\n",
      "Warning: dbo_area.xlsx: found duplicate keys: ['Indian Ocean', 'Arctic Ocean', 'Southern Ocean', 'North Pacific Ocean', 'South Pacific Ocean', 'North Atlantic Ocean', 'South Atlantic Ocean']\n"
     ]
    },
    {
     "name": "stderr",
     "output_type": "stream",
     "text": [
      "  8%|▊         | 38/475 [00:40<05:53,  1.24it/s]"
     ]
    },
    {
     "name": "stdout",
     "output_type": "stream",
     "text": [
      "570-Szufa-2020.nc\n",
      "Warning: dbo_area.xlsx: found duplicate keys: ['Indian Ocean', 'Arctic Ocean', 'Southern Ocean', 'North Pacific Ocean', 'South Pacific Ocean', 'North Atlantic Ocean', 'South Atlantic Ocean']\n"
     ]
    },
    {
     "name": "stderr",
     "output_type": "stream",
     "text": [
      "  8%|▊         | 39/475 [00:41<05:48,  1.25it/s]"
     ]
    },
    {
     "name": "stdout",
     "output_type": "stream",
     "text": [
      "109-Gulin-and-Stokozov-2005.nc\n",
      "Warning: dbo_area.xlsx: found duplicate keys: ['Indian Ocean', 'Arctic Ocean', 'Southern Ocean', 'North Pacific Ocean', 'South Pacific Ocean', 'North Atlantic Ocean', 'South Atlantic Ocean']\n"
     ]
    },
    {
     "name": "stderr",
     "output_type": "stream",
     "text": [
      "  8%|▊         | 40/475 [00:42<05:37,  1.29it/s]"
     ]
    },
    {
     "name": "stdout",
     "output_type": "stream",
     "text": [
      "571-Szufa-2018.nc\n",
      "Warning: dbo_area.xlsx: found duplicate keys: ['Indian Ocean', 'Arctic Ocean', 'Southern Ocean', 'North Pacific Ocean', 'South Pacific Ocean', 'North Atlantic Ocean', 'South Atlantic Ocean']\n"
     ]
    },
    {
     "name": "stderr",
     "output_type": "stream",
     "text": [
      "  9%|▊         | 41/475 [00:43<05:33,  1.30it/s]"
     ]
    },
    {
     "name": "stdout",
     "output_type": "stream",
     "text": [
      "119-MEXT---Ministry-of-Education-Culture-Sports-Science-and-Technology-2011.nc\n",
      "Warning: dbo_area.xlsx: found duplicate keys: ['Indian Ocean', 'Arctic Ocean', 'Southern Ocean', 'North Pacific Ocean', 'South Pacific Ocean', 'North Atlantic Ocean', 'South Atlantic Ocean']\n"
     ]
    },
    {
     "name": "stderr",
     "output_type": "stream",
     "text": [
      "  9%|▉         | 42/475 [00:44<06:10,  1.17it/s]"
     ]
    },
    {
     "name": "stdout",
     "output_type": "stream",
     "text": [
      "130-Wada-et-al-2016.nc\n",
      "Warning: dbo_area.xlsx: found duplicate keys: ['Indian Ocean', 'Arctic Ocean', 'Southern Ocean', 'North Pacific Ocean', 'South Pacific Ocean', 'North Atlantic Ocean', 'South Atlantic Ocean']\n"
     ]
    },
    {
     "name": "stderr",
     "output_type": "stream",
     "text": [
      "  9%|▉         | 43/475 [00:50<17:05,  2.37s/it]"
     ]
    },
    {
     "name": "stdout",
     "output_type": "stream",
     "text": [
      "129-Wada-et-al-2016.nc\n",
      "Warning: dbo_area.xlsx: found duplicate keys: ['Indian Ocean', 'Arctic Ocean', 'Southern Ocean', 'North Pacific Ocean', 'South Pacific Ocean', 'North Atlantic Ocean', 'South Atlantic Ocean']\n"
     ]
    },
    {
     "name": "stderr",
     "output_type": "stream",
     "text": [
      "  9%|▉         | 44/475 [00:51<14:49,  2.06s/it]"
     ]
    },
    {
     "name": "stdout",
     "output_type": "stream",
     "text": [
      "121-TEPCO---Tokyo-Electric-Power-Company-2011.nc\n",
      "Warning: dbo_area.xlsx: found duplicate keys: ['Indian Ocean', 'Arctic Ocean', 'Southern Ocean', 'North Pacific Ocean', 'South Pacific Ocean', 'North Atlantic Ocean', 'South Atlantic Ocean']\n"
     ]
    },
    {
     "name": "stderr",
     "output_type": "stream",
     "text": [
      "  9%|▉         | 45/475 [00:56<20:30,  2.86s/it]"
     ]
    },
    {
     "name": "stdout",
     "output_type": "stream",
     "text": [
      "132-Fukushima-Prefectural-Federation-of-Fisheries-Co-operative-Associations-2012.nc\n",
      "Warning: dbo_area.xlsx: found duplicate keys: ['Indian Ocean', 'Arctic Ocean', 'Southern Ocean', 'North Pacific Ocean', 'South Pacific Ocean', 'North Atlantic Ocean', 'South Atlantic Ocean']\n"
     ]
    },
    {
     "name": "stderr",
     "output_type": "stream",
     "text": [
      " 10%|▉         | 46/475 [00:59<22:18,  3.12s/it]"
     ]
    },
    {
     "name": "stdout",
     "output_type": "stream",
     "text": [
      "120-NRA---Nuclear-Regulation-Authority-2013.nc\n",
      "Warning: dbo_area.xlsx: found duplicate keys: ['Indian Ocean', 'Arctic Ocean', 'Southern Ocean', 'North Pacific Ocean', 'South Pacific Ocean', 'North Atlantic Ocean', 'South Atlantic Ocean']\n"
     ]
    },
    {
     "name": "stderr",
     "output_type": "stream",
     "text": [
      " 10%|▉         | 47/475 [01:00<17:31,  2.46s/it]"
     ]
    },
    {
     "name": "stdout",
     "output_type": "stream",
     "text": [
      "427-Yamamoto-et-al-1994.nc\n",
      "Warning: dbo_area.xlsx: found duplicate keys: ['Indian Ocean', 'Arctic Ocean', 'Southern Ocean', 'North Pacific Ocean', 'South Pacific Ocean', 'North Atlantic Ocean', 'South Atlantic Ocean']\n"
     ]
    },
    {
     "name": "stderr",
     "output_type": "stream",
     "text": [
      " 10%|█         | 48/475 [01:01<13:55,  1.96s/it]"
     ]
    },
    {
     "name": "stdout",
     "output_type": "stream",
     "text": [
      "428-Yu-et-al-2015.nc\n",
      "Warning: dbo_area.xlsx: found duplicate keys: ['Indian Ocean', 'Arctic Ocean', 'Southern Ocean', 'North Pacific Ocean', 'South Pacific Ocean', 'North Atlantic Ocean', 'South Atlantic Ocean']\n"
     ]
    },
    {
     "name": "stderr",
     "output_type": "stream",
     "text": [
      " 10%|█         | 49/475 [01:02<11:17,  1.59s/it]"
     ]
    },
    {
     "name": "stdout",
     "output_type": "stream",
     "text": [
      "142-NRA---Nuclear-Regulation-Authority-2013.nc\n",
      "Warning: dbo_area.xlsx: found duplicate keys: ['Indian Ocean', 'Arctic Ocean', 'Southern Ocean', 'North Pacific Ocean', 'South Pacific Ocean', 'North Atlantic Ocean', 'South Atlantic Ocean']\n"
     ]
    },
    {
     "name": "stderr",
     "output_type": "stream",
     "text": [
      " 11%|█         | 50/475 [01:03<09:44,  1.37s/it]"
     ]
    },
    {
     "name": "stdout",
     "output_type": "stream",
     "text": [
      "143-Fukushima-Prefecture-2011.nc\n",
      "Warning: dbo_area.xlsx: found duplicate keys: ['Indian Ocean', 'Arctic Ocean', 'Southern Ocean', 'North Pacific Ocean', 'South Pacific Ocean', 'North Atlantic Ocean', 'South Atlantic Ocean']\n"
     ]
    },
    {
     "name": "stderr",
     "output_type": "stream",
     "text": [
      " 11%|█         | 51/475 [01:04<08:49,  1.25s/it]"
     ]
    },
    {
     "name": "stdout",
     "output_type": "stream",
     "text": [
      "445-Hoffman-et-al-1974.nc\n",
      "Warning: dbo_area.xlsx: found duplicate keys: ['Indian Ocean', 'Arctic Ocean', 'Southern Ocean', 'North Pacific Ocean', 'South Pacific Ocean', 'North Atlantic Ocean', 'South Atlantic Ocean']\n"
     ]
    },
    {
     "name": "stderr",
     "output_type": "stream",
     "text": [
      " 11%|█         | 52/475 [01:05<07:52,  1.12s/it]"
     ]
    },
    {
     "name": "stdout",
     "output_type": "stream",
     "text": [
      "446-Valette-Silver-and-Lauenstein-1995.nc\n",
      "Warning: dbo_area.xlsx: found duplicate keys: ['Indian Ocean', 'Arctic Ocean', 'Southern Ocean', 'North Pacific Ocean', 'South Pacific Ocean', 'North Atlantic Ocean', 'South Atlantic Ocean']\n"
     ]
    },
    {
     "name": "stderr",
     "output_type": "stream",
     "text": [
      " 11%|█         | 53/475 [01:05<07:23,  1.05s/it]"
     ]
    },
    {
     "name": "stdout",
     "output_type": "stream",
     "text": [
      "513-Madigan-2012.nc\n",
      "Warning: dbo_area.xlsx: found duplicate keys: ['Indian Ocean', 'Arctic Ocean', 'Southern Ocean', 'North Pacific Ocean', 'South Pacific Ocean', 'North Atlantic Ocean', 'South Atlantic Ocean']\n"
     ]
    },
    {
     "name": "stderr",
     "output_type": "stream",
     "text": [
      " 11%|█▏        | 54/475 [01:06<06:49,  1.03it/s]"
     ]
    },
    {
     "name": "stdout",
     "output_type": "stream",
     "text": [
      "514-Miki-et-al-2016.nc\n",
      "Warning: dbo_area.xlsx: found duplicate keys: ['Indian Ocean', 'Arctic Ocean', 'Southern Ocean', 'North Pacific Ocean', 'South Pacific Ocean', 'North Atlantic Ocean', 'South Atlantic Ocean']\n"
     ]
    },
    {
     "name": "stderr",
     "output_type": "stream",
     "text": [
      " 12%|█▏        | 55/475 [01:07<06:22,  1.10it/s]"
     ]
    },
    {
     "name": "stdout",
     "output_type": "stream",
     "text": [
      "520-Baumann-et-al-2013.nc\n",
      "Warning: dbo_area.xlsx: found duplicate keys: ['Indian Ocean', 'Arctic Ocean', 'Southern Ocean', 'North Pacific Ocean', 'South Pacific Ocean', 'North Atlantic Ocean', 'South Atlantic Ocean']\n"
     ]
    },
    {
     "name": "stderr",
     "output_type": "stream",
     "text": [
      " 12%|█▏        | 56/475 [01:08<06:06,  1.14it/s]"
     ]
    },
    {
     "name": "stdout",
     "output_type": "stream",
     "text": [
      "542-Ruelas-Inzunza-et-al-2012.nc\n",
      "Warning: dbo_area.xlsx: found duplicate keys: ['Indian Ocean', 'Arctic Ocean', 'Southern Ocean', 'North Pacific Ocean', 'South Pacific Ocean', 'North Atlantic Ocean', 'South Atlantic Ocean']\n"
     ]
    },
    {
     "name": "stderr",
     "output_type": "stream",
     "text": [
      " 12%|█▏        | 57/475 [01:09<05:53,  1.18it/s]"
     ]
    },
    {
     "name": "stdout",
     "output_type": "stream",
     "text": [
      "546-Takagi-et-al-2015.nc\n",
      "Warning: dbo_area.xlsx: found duplicate keys: ['Indian Ocean', 'Arctic Ocean', 'Southern Ocean', 'North Pacific Ocean', 'South Pacific Ocean', 'North Atlantic Ocean', 'South Atlantic Ocean']\n"
     ]
    },
    {
     "name": "stderr",
     "output_type": "stream",
     "text": [
      " 12%|█▏        | 58/475 [01:09<05:57,  1.17it/s]"
     ]
    },
    {
     "name": "stdout",
     "output_type": "stream",
     "text": [
      "547-Ruelas-Inzunza-2014.nc\n",
      "Warning: dbo_area.xlsx: found duplicate keys: ['Indian Ocean', 'Arctic Ocean', 'Southern Ocean', 'North Pacific Ocean', 'South Pacific Ocean', 'North Atlantic Ocean', 'South Atlantic Ocean']\n"
     ]
    },
    {
     "name": "stderr",
     "output_type": "stream",
     "text": [
      " 12%|█▏        | 59/475 [01:10<05:48,  1.19it/s]"
     ]
    },
    {
     "name": "stdout",
     "output_type": "stream",
     "text": [
      "548-Suchanek-et-al-1996.nc\n",
      "Warning: dbo_area.xlsx: found duplicate keys: ['Indian Ocean', 'Arctic Ocean', 'Southern Ocean', 'North Pacific Ocean', 'South Pacific Ocean', 'North Atlantic Ocean', 'South Atlantic Ocean']\n"
     ]
    },
    {
     "name": "stderr",
     "output_type": "stream",
     "text": [
      " 13%|█▎        | 60/475 [01:11<06:10,  1.12it/s]"
     ]
    },
    {
     "name": "stdout",
     "output_type": "stream",
     "text": [
      "549-Shigeoka-et-al-2019.nc\n",
      "Warning: dbo_area.xlsx: found duplicate keys: ['Indian Ocean', 'Arctic Ocean', 'Southern Ocean', 'North Pacific Ocean', 'South Pacific Ocean', 'North Atlantic Ocean', 'South Atlantic Ocean']\n"
     ]
    },
    {
     "name": "stderr",
     "output_type": "stream",
     "text": [
      " 13%|█▎        | 61/475 [01:12<06:35,  1.05it/s]"
     ]
    },
    {
     "name": "stdout",
     "output_type": "stream",
     "text": [
      "724-Environmental-Radioactivity-and-Radiation-in-Japan---Environmental-Radiation-Database-2024.nc\n",
      "Warning: dbo_area.xlsx: found duplicate keys: ['Indian Ocean', 'Arctic Ocean', 'Southern Ocean', 'North Pacific Ocean', 'South Pacific Ocean', 'North Atlantic Ocean', 'South Atlantic Ocean']\n"
     ]
    },
    {
     "name": "stderr",
     "output_type": "stream",
     "text": [
      " 13%|█▎        | 62/475 [01:17<14:10,  2.06s/it]"
     ]
    },
    {
     "name": "stdout",
     "output_type": "stream",
     "text": [
      "687-TEPCO---Tokyo-Electric-Power-Company-2021.nc\n",
      "Warning: dbo_area.xlsx: found duplicate keys: ['Indian Ocean', 'Arctic Ocean', 'Southern Ocean', 'North Pacific Ocean', 'South Pacific Ocean', 'North Atlantic Ocean', 'South Atlantic Ocean']\n"
     ]
    },
    {
     "name": "stderr",
     "output_type": "stream",
     "text": [
      " 13%|█▎        | 63/475 [01:18<11:40,  1.70s/it]"
     ]
    },
    {
     "name": "stdout",
     "output_type": "stream",
     "text": [
      "688-NRA---Nuclear-Regulation-Authority-2021.nc\n",
      "Warning: dbo_area.xlsx: found duplicate keys: ['Indian Ocean', 'Arctic Ocean', 'Southern Ocean', 'North Pacific Ocean', 'South Pacific Ocean', 'North Atlantic Ocean', 'South Atlantic Ocean']\n"
     ]
    },
    {
     "name": "stderr",
     "output_type": "stream",
     "text": [
      " 13%|█▎        | 64/475 [01:19<10:20,  1.51s/it]"
     ]
    },
    {
     "name": "stdout",
     "output_type": "stream",
     "text": [
      "131-Ibaraki-Prefecture-2011.nc\n",
      "Warning: dbo_area.xlsx: found duplicate keys: ['Indian Ocean', 'Arctic Ocean', 'Southern Ocean', 'North Pacific Ocean', 'South Pacific Ocean', 'North Atlantic Ocean', 'South Atlantic Ocean']\n"
     ]
    },
    {
     "name": "stderr",
     "output_type": "stream",
     "text": [
      " 14%|█▎        | 65/475 [01:21<11:14,  1.64s/it]"
     ]
    },
    {
     "name": "stdout",
     "output_type": "stream",
     "text": [
      "682-NRA---Nuclear-Regulation-Authority-2021.nc\n",
      "Warning: dbo_area.xlsx: found duplicate keys: ['Indian Ocean', 'Arctic Ocean', 'Southern Ocean', 'North Pacific Ocean', 'South Pacific Ocean', 'North Atlantic Ocean', 'South Atlantic Ocean']\n"
     ]
    },
    {
     "name": "stderr",
     "output_type": "stream",
     "text": [
      " 14%|█▍        | 66/475 [01:22<09:26,  1.38s/it]"
     ]
    },
    {
     "name": "stdout",
     "output_type": "stream",
     "text": [
      "683-NRA---Nuclear-Regulation-Authority-2021.nc\n",
      "Warning: dbo_area.xlsx: found duplicate keys: ['Indian Ocean', 'Arctic Ocean', 'Southern Ocean', 'North Pacific Ocean', 'South Pacific Ocean', 'North Atlantic Ocean', 'South Atlantic Ocean']\n"
     ]
    },
    {
     "name": "stderr",
     "output_type": "stream",
     "text": [
      " 14%|█▍        | 67/475 [01:22<08:02,  1.18s/it]"
     ]
    },
    {
     "name": "stdout",
     "output_type": "stream",
     "text": [
      "203-MERI-2016.nc\n",
      "Warning: dbo_area.xlsx: found duplicate keys: ['Indian Ocean', 'Arctic Ocean', 'Southern Ocean', 'North Pacific Ocean', 'South Pacific Ocean', 'North Atlantic Ocean', 'South Atlantic Ocean']\n"
     ]
    },
    {
     "name": "stderr",
     "output_type": "stream",
     "text": [
      " 14%|█▍        | 68/475 [01:23<07:30,  1.11s/it]"
     ]
    },
    {
     "name": "stdout",
     "output_type": "stream",
     "text": [
      "204-MERI-2017.nc\n",
      "Warning: dbo_area.xlsx: found duplicate keys: ['Indian Ocean', 'Arctic Ocean', 'Southern Ocean', 'North Pacific Ocean', 'South Pacific Ocean', 'North Atlantic Ocean', 'South Atlantic Ocean']\n"
     ]
    },
    {
     "name": "stderr",
     "output_type": "stream",
     "text": [
      " 15%|█▍        | 69/475 [01:26<10:10,  1.50s/it]"
     ]
    },
    {
     "name": "stdout",
     "output_type": "stream",
     "text": [
      "149-JAEA---Japan-Atomic-Energy-Agency-2013.nc\n",
      "Warning: dbo_area.xlsx: found duplicate keys: ['Indian Ocean', 'Arctic Ocean', 'Southern Ocean', 'North Pacific Ocean', 'South Pacific Ocean', 'North Atlantic Ocean', 'South Atlantic Ocean']\n"
     ]
    },
    {
     "name": "stderr",
     "output_type": "stream",
     "text": [
      " 15%|█▍        | 70/475 [01:27<08:49,  1.31s/it]"
     ]
    },
    {
     "name": "stdout",
     "output_type": "stream",
     "text": [
      "153-Yu-et-al-2018.nc\n",
      "Warning: dbo_area.xlsx: found duplicate keys: ['Indian Ocean', 'Arctic Ocean', 'Southern Ocean', 'North Pacific Ocean', 'South Pacific Ocean', 'North Atlantic Ocean', 'South Atlantic Ocean']\n"
     ]
    },
    {
     "name": "stderr",
     "output_type": "stream",
     "text": [
      " 15%|█▍        | 71/475 [01:27<07:47,  1.16s/it]"
     ]
    },
    {
     "name": "stdout",
     "output_type": "stream",
     "text": [
      "155-Buesseler-et-al-2012.nc\n",
      "Warning: dbo_area.xlsx: found duplicate keys: ['Indian Ocean', 'Arctic Ocean', 'Southern Ocean', 'North Pacific Ocean', 'South Pacific Ocean', 'North Atlantic Ocean', 'South Atlantic Ocean']\n"
     ]
    },
    {
     "name": "stderr",
     "output_type": "stream",
     "text": [
      " 15%|█▌        | 72/475 [01:28<07:15,  1.08s/it]"
     ]
    },
    {
     "name": "stdout",
     "output_type": "stream",
     "text": [
      "156-Yoshida-et-al-2015.nc\n",
      "Warning: dbo_area.xlsx: found duplicate keys: ['Indian Ocean', 'Arctic Ocean', 'Southern Ocean', 'North Pacific Ocean', 'South Pacific Ocean', 'North Atlantic Ocean', 'South Atlantic Ocean']\n"
     ]
    },
    {
     "name": "stderr",
     "output_type": "stream",
     "text": [
      " 15%|█▌        | 73/475 [01:29<06:34,  1.02it/s]"
     ]
    },
    {
     "name": "stdout",
     "output_type": "stream",
     "text": [
      "157-Buesseler-2018.nc\n",
      "Warning: dbo_area.xlsx: found duplicate keys: ['Indian Ocean', 'Arctic Ocean', 'Southern Ocean', 'North Pacific Ocean', 'South Pacific Ocean', 'North Atlantic Ocean', 'South Atlantic Ocean']\n"
     ]
    },
    {
     "name": "stderr",
     "output_type": "stream",
     "text": [
      " 16%|█▌        | 74/475 [01:30<06:03,  1.10it/s]"
     ]
    },
    {
     "name": "stdout",
     "output_type": "stream",
     "text": [
      "159-Buesseler-2018.nc\n",
      "Warning: dbo_area.xlsx: found duplicate keys: ['Indian Ocean', 'Arctic Ocean', 'Southern Ocean', 'North Pacific Ocean', 'South Pacific Ocean', 'North Atlantic Ocean', 'South Atlantic Ocean']\n"
     ]
    },
    {
     "name": "stderr",
     "output_type": "stream",
     "text": [
      " 16%|█▌        | 75/475 [01:31<05:44,  1.16it/s]"
     ]
    },
    {
     "name": "stdout",
     "output_type": "stream",
     "text": [
      "193-Kusakabe-and-Takata-2020.nc\n",
      "Warning: dbo_area.xlsx: found duplicate keys: ['Indian Ocean', 'Arctic Ocean', 'Southern Ocean', 'North Pacific Ocean', 'South Pacific Ocean', 'North Atlantic Ocean', 'South Atlantic Ocean']\n"
     ]
    },
    {
     "name": "stderr",
     "output_type": "stream",
     "text": [
      " 16%|█▌        | 76/475 [01:31<05:33,  1.20it/s]"
     ]
    },
    {
     "name": "stdout",
     "output_type": "stream",
     "text": [
      "134-MOE---Ministry-of-the-Environment-2012.nc\n",
      "Warning: dbo_area.xlsx: found duplicate keys: ['Indian Ocean', 'Arctic Ocean', 'Southern Ocean', 'North Pacific Ocean', 'South Pacific Ocean', 'North Atlantic Ocean', 'South Atlantic Ocean']\n"
     ]
    },
    {
     "name": "stderr",
     "output_type": "stream",
     "text": [
      " 16%|█▌        | 77/475 [01:32<05:35,  1.19it/s]"
     ]
    },
    {
     "name": "stdout",
     "output_type": "stream",
     "text": [
      "135-Japan-Fisheries-Research-and-Education-Agency-2015.nc\n",
      "Warning: dbo_area.xlsx: found duplicate keys: ['Indian Ocean', 'Arctic Ocean', 'Southern Ocean', 'North Pacific Ocean', 'South Pacific Ocean', 'North Atlantic Ocean', 'South Atlantic Ocean']\n"
     ]
    },
    {
     "name": "stderr",
     "output_type": "stream",
     "text": [
      " 16%|█▋        | 78/475 [01:33<05:38,  1.17it/s]"
     ]
    },
    {
     "name": "stdout",
     "output_type": "stream",
     "text": [
      "147-MOE---Ministry-of-the-Environment-2012.nc\n",
      "Warning: dbo_area.xlsx: found duplicate keys: ['Indian Ocean', 'Arctic Ocean', 'Southern Ocean', 'North Pacific Ocean', 'South Pacific Ocean', 'North Atlantic Ocean', 'South Atlantic Ocean']\n"
     ]
    },
    {
     "name": "stderr",
     "output_type": "stream",
     "text": [
      " 17%|█▋        | 79/475 [01:34<05:24,  1.22it/s]"
     ]
    },
    {
     "name": "stdout",
     "output_type": "stream",
     "text": [
      "148-JAEA---Japan-Atomic-Energy-Agency-2013.nc\n",
      "Warning: dbo_area.xlsx: found duplicate keys: ['Indian Ocean', 'Arctic Ocean', 'Southern Ocean', 'North Pacific Ocean', 'South Pacific Ocean', 'North Atlantic Ocean', 'South Atlantic Ocean']\n"
     ]
    },
    {
     "name": "stderr",
     "output_type": "stream",
     "text": [
      " 17%|█▋        | 80/475 [01:35<05:22,  1.22it/s]"
     ]
    },
    {
     "name": "stdout",
     "output_type": "stream",
     "text": [
      "133-Fisheries-Agency---Ministry-of-Agriculture-Forestry-and-Fisheries-2011.nc\n",
      "Warning: dbo_area.xlsx: found duplicate keys: ['Indian Ocean', 'Arctic Ocean', 'Southern Ocean', 'North Pacific Ocean', 'South Pacific Ocean', 'North Atlantic Ocean', 'South Atlantic Ocean']\n"
     ]
    },
    {
     "name": "stderr",
     "output_type": "stream",
     "text": [
      " 17%|█▋        | 81/475 [01:36<05:49,  1.13it/s]"
     ]
    },
    {
     "name": "stdout",
     "output_type": "stream",
     "text": [
      "123-Fukushima-Prefecture-2013.nc\n",
      "Warning: dbo_area.xlsx: found duplicate keys: ['Indian Ocean', 'Arctic Ocean', 'Southern Ocean', 'North Pacific Ocean', 'South Pacific Ocean', 'North Atlantic Ocean', 'South Atlantic Ocean']\n"
     ]
    },
    {
     "name": "stderr",
     "output_type": "stream",
     "text": [
      " 17%|█▋        | 82/475 [01:37<06:00,  1.09it/s]"
     ]
    },
    {
     "name": "stdout",
     "output_type": "stream",
     "text": [
      "124-MOE---Ministry-of-the-Environment-2011.nc\n",
      "Warning: dbo_area.xlsx: found duplicate keys: ['Indian Ocean', 'Arctic Ocean', 'Southern Ocean', 'North Pacific Ocean', 'South Pacific Ocean', 'North Atlantic Ocean', 'South Atlantic Ocean']\n"
     ]
    },
    {
     "name": "stderr",
     "output_type": "stream",
     "text": [
      " 17%|█▋        | 83/475 [01:37<05:35,  1.17it/s]"
     ]
    },
    {
     "name": "stdout",
     "output_type": "stream",
     "text": [
      "125-MOE---Ministry-of-the-Environment-2012.nc\n",
      "Warning: dbo_area.xlsx: found duplicate keys: ['Indian Ocean', 'Arctic Ocean', 'Southern Ocean', 'North Pacific Ocean', 'South Pacific Ocean', 'North Atlantic Ocean', 'South Atlantic Ocean']\n"
     ]
    },
    {
     "name": "stderr",
     "output_type": "stream",
     "text": [
      " 18%|█▊        | 84/475 [01:38<05:18,  1.23it/s]"
     ]
    },
    {
     "name": "stdout",
     "output_type": "stream",
     "text": [
      "126-Fukushima-Prefecture-2011.nc\n",
      "Warning: dbo_area.xlsx: found duplicate keys: ['Indian Ocean', 'Arctic Ocean', 'Southern Ocean', 'North Pacific Ocean', 'South Pacific Ocean', 'North Atlantic Ocean', 'South Atlantic Ocean']\n"
     ]
    },
    {
     "name": "stderr",
     "output_type": "stream",
     "text": [
      " 18%|█▊        | 85/475 [01:39<06:01,  1.08it/s]"
     ]
    },
    {
     "name": "stdout",
     "output_type": "stream",
     "text": [
      "205-MERI-2018.nc\n",
      "Warning: dbo_area.xlsx: found duplicate keys: ['Indian Ocean', 'Arctic Ocean', 'Southern Ocean', 'North Pacific Ocean', 'South Pacific Ocean', 'North Atlantic Ocean', 'South Atlantic Ocean']\n"
     ]
    },
    {
     "name": "stderr",
     "output_type": "stream",
     "text": [
      " 18%|█▊        | 86/475 [01:41<06:49,  1.05s/it]"
     ]
    },
    {
     "name": "stdout",
     "output_type": "stream",
     "text": [
      "225-Takata-et-al-2016.nc\n",
      "Warning: dbo_area.xlsx: found duplicate keys: ['Indian Ocean', 'Arctic Ocean', 'Southern Ocean', 'North Pacific Ocean', 'South Pacific Ocean', 'North Atlantic Ocean', 'South Atlantic Ocean']\n"
     ]
    },
    {
     "name": "stderr",
     "output_type": "stream",
     "text": [
      " 18%|█▊        | 87/475 [01:42<06:38,  1.03s/it]"
     ]
    },
    {
     "name": "stdout",
     "output_type": "stream",
     "text": [
      "689-NRA---Nuclear-Regulation-Authority-2021.nc\n",
      "Warning: dbo_area.xlsx: found duplicate keys: ['Indian Ocean', 'Arctic Ocean', 'Southern Ocean', 'North Pacific Ocean', 'South Pacific Ocean', 'North Atlantic Ocean', 'South Atlantic Ocean']\n"
     ]
    },
    {
     "name": "stderr",
     "output_type": "stream",
     "text": [
      " 19%|█▊        | 88/475 [01:42<05:58,  1.08it/s]"
     ]
    },
    {
     "name": "stdout",
     "output_type": "stream",
     "text": [
      "717-Smith-et-al-2017.nc\n",
      "Warning: dbo_area.xlsx: found duplicate keys: ['Indian Ocean', 'Arctic Ocean', 'Southern Ocean', 'North Pacific Ocean', 'South Pacific Ocean', 'North Atlantic Ocean', 'South Atlantic Ocean']\n"
     ]
    },
    {
     "name": "stderr",
     "output_type": "stream",
     "text": [
      " 19%|█▊        | 89/475 [01:43<05:43,  1.12it/s]"
     ]
    },
    {
     "name": "stdout",
     "output_type": "stream",
     "text": [
      "224-Takata-et-al-2019.nc\n",
      "Warning: dbo_area.xlsx: found duplicate keys: ['Indian Ocean', 'Arctic Ocean', 'Southern Ocean', 'North Pacific Ocean', 'South Pacific Ocean', 'North Atlantic Ocean', 'South Atlantic Ocean']\n"
     ]
    },
    {
     "name": "stderr",
     "output_type": "stream",
     "text": [
      " 19%|█▉        | 90/475 [01:44<05:44,  1.12it/s]"
     ]
    },
    {
     "name": "stdout",
     "output_type": "stream",
     "text": [
      "511-Zeng-2017.nc\n",
      "Warning: dbo_area.xlsx: found duplicate keys: ['Indian Ocean', 'Arctic Ocean', 'Southern Ocean', 'North Pacific Ocean', 'South Pacific Ocean', 'North Atlantic Ocean', 'South Atlantic Ocean']\n"
     ]
    },
    {
     "name": "stderr",
     "output_type": "stream",
     "text": [
      " 19%|█▉        | 91/475 [01:45<05:26,  1.18it/s]"
     ]
    },
    {
     "name": "stdout",
     "output_type": "stream",
     "text": [
      "512-Takahashi-et-al-2015.nc\n",
      "Warning: dbo_area.xlsx: found duplicate keys: ['Indian Ocean', 'Arctic Ocean', 'Southern Ocean', 'North Pacific Ocean', 'South Pacific Ocean', 'North Atlantic Ocean', 'South Atlantic Ocean']\n"
     ]
    },
    {
     "name": "stderr",
     "output_type": "stream",
     "text": [
      " 19%|█▉        | 92/475 [01:46<05:22,  1.19it/s]"
     ]
    },
    {
     "name": "stdout",
     "output_type": "stream",
     "text": [
      "516-Madigan-and-Fisher-2013.nc\n",
      "Warning: dbo_area.xlsx: found duplicate keys: ['Indian Ocean', 'Arctic Ocean', 'Southern Ocean', 'North Pacific Ocean', 'South Pacific Ocean', 'North Atlantic Ocean', 'South Atlantic Ocean']\n"
     ]
    },
    {
     "name": "stderr",
     "output_type": "stream",
     "text": [
      " 20%|█▉        | 93/475 [01:47<05:38,  1.13it/s]"
     ]
    },
    {
     "name": "stdout",
     "output_type": "stream",
     "text": [
      "680-TEPCO---Tokyo-Electric-Power-Company-2021.nc\n",
      "Warning: dbo_area.xlsx: found duplicate keys: ['Indian Ocean', 'Arctic Ocean', 'Southern Ocean', 'North Pacific Ocean', 'South Pacific Ocean', 'North Atlantic Ocean', 'South Atlantic Ocean']\n"
     ]
    },
    {
     "name": "stderr",
     "output_type": "stream",
     "text": [
      " 20%|█▉        | 94/475 [01:48<06:24,  1.01s/it]"
     ]
    },
    {
     "name": "stdout",
     "output_type": "stream",
     "text": [
      "206-MERI-2019.nc\n",
      "Warning: dbo_area.xlsx: found duplicate keys: ['Indian Ocean', 'Arctic Ocean', 'Southern Ocean', 'North Pacific Ocean', 'South Pacific Ocean', 'North Atlantic Ocean', 'South Atlantic Ocean']\n"
     ]
    },
    {
     "name": "stderr",
     "output_type": "stream",
     "text": [
      " 20%|██        | 95/475 [01:49<06:14,  1.02it/s]"
     ]
    },
    {
     "name": "stdout",
     "output_type": "stream",
     "text": [
      "207-MERI-2020.nc\n",
      "Warning: dbo_area.xlsx: found duplicate keys: ['Indian Ocean', 'Arctic Ocean', 'Southern Ocean', 'North Pacific Ocean', 'South Pacific Ocean', 'North Atlantic Ocean', 'South Atlantic Ocean']\n"
     ]
    },
    {
     "name": "stderr",
     "output_type": "stream",
     "text": [
      " 20%|██        | 96/475 [01:52<10:21,  1.64s/it]"
     ]
    },
    {
     "name": "stdout",
     "output_type": "stream",
     "text": [
      "117-Oikawa-et-al-2013.nc\n",
      "Warning: dbo_area.xlsx: found duplicate keys: ['Indian Ocean', 'Arctic Ocean', 'Southern Ocean', 'North Pacific Ocean', 'South Pacific Ocean', 'North Atlantic Ocean', 'South Atlantic Ocean']\n"
     ]
    },
    {
     "name": "stderr",
     "output_type": "stream",
     "text": [
      " 20%|██        | 97/475 [01:53<08:46,  1.39s/it]"
     ]
    },
    {
     "name": "stdout",
     "output_type": "stream",
     "text": [
      "56-Kaeriyama-et-al-2014.nc\n",
      "Warning: dbo_area.xlsx: found duplicate keys: ['Indian Ocean', 'Arctic Ocean', 'Southern Ocean', 'North Pacific Ocean', 'South Pacific Ocean', 'North Atlantic Ocean', 'South Atlantic Ocean']\n"
     ]
    },
    {
     "name": "stderr",
     "output_type": "stream",
     "text": [
      " 21%|██        | 98/475 [01:53<07:32,  1.20s/it]"
     ]
    },
    {
     "name": "stdout",
     "output_type": "stream",
     "text": [
      "127-Fukushima-Prefecture-2013.nc\n",
      "Warning: dbo_area.xlsx: found duplicate keys: ['Indian Ocean', 'Arctic Ocean', 'Southern Ocean', 'North Pacific Ocean', 'South Pacific Ocean', 'North Atlantic Ocean', 'South Atlantic Ocean']\n"
     ]
    },
    {
     "name": "stderr",
     "output_type": "stream",
     "text": [
      " 21%|██        | 99/475 [01:56<09:30,  1.52s/it]"
     ]
    },
    {
     "name": "stdout",
     "output_type": "stream",
     "text": [
      "141-TEPCO---Tokyo-Electric-Power-Company-2011.nc\n",
      "Warning: dbo_area.xlsx: found duplicate keys: ['Indian Ocean', 'Arctic Ocean', 'Southern Ocean', 'North Pacific Ocean', 'South Pacific Ocean', 'North Atlantic Ocean', 'South Atlantic Ocean']\n"
     ]
    },
    {
     "name": "stderr",
     "output_type": "stream",
     "text": [
      " 21%|██        | 100/475 [01:57<08:35,  1.38s/it]"
     ]
    },
    {
     "name": "stdout",
     "output_type": "stream",
     "text": [
      "681-NRA---Nuclear-Regulation-Authority-2021.nc\n",
      "Warning: dbo_area.xlsx: found duplicate keys: ['Indian Ocean', 'Arctic Ocean', 'Southern Ocean', 'North Pacific Ocean', 'South Pacific Ocean', 'North Atlantic Ocean', 'South Atlantic Ocean']\n"
     ]
    },
    {
     "name": "stderr",
     "output_type": "stream",
     "text": [
      " 21%|██▏       | 101/475 [01:58<07:21,  1.18s/it]"
     ]
    },
    {
     "name": "stdout",
     "output_type": "stream",
     "text": [
      "116-Suzuki-et-al-2013.nc\n",
      "Warning: dbo_area.xlsx: found duplicate keys: ['Indian Ocean', 'Arctic Ocean', 'Southern Ocean', 'North Pacific Ocean', 'South Pacific Ocean', 'North Atlantic Ocean', 'South Atlantic Ocean']\n"
     ]
    },
    {
     "name": "stderr",
     "output_type": "stream",
     "text": [
      " 21%|██▏       | 102/475 [01:58<06:25,  1.03s/it]"
     ]
    },
    {
     "name": "stdout",
     "output_type": "stream",
     "text": [
      "128-NRA---Nuclear-Regulation-Authority-2013.nc\n",
      "Warning: dbo_area.xlsx: found duplicate keys: ['Indian Ocean', 'Arctic Ocean', 'Southern Ocean', 'North Pacific Ocean', 'South Pacific Ocean', 'North Atlantic Ocean', 'South Atlantic Ocean']\n"
     ]
    },
    {
     "name": "stderr",
     "output_type": "stream",
     "text": [
      " 22%|██▏       | 103/475 [01:59<05:48,  1.07it/s]"
     ]
    },
    {
     "name": "stdout",
     "output_type": "stream",
     "text": [
      "202-MERI-2015.nc\n",
      "Warning: dbo_area.xlsx: found duplicate keys: ['Indian Ocean', 'Arctic Ocean', 'Southern Ocean', 'North Pacific Ocean', 'South Pacific Ocean', 'North Atlantic Ocean', 'South Atlantic Ocean']\n"
     ]
    },
    {
     "name": "stderr",
     "output_type": "stream",
     "text": [
      " 22%|██▏       | 104/475 [02:00<05:49,  1.06it/s]"
     ]
    },
    {
     "name": "stdout",
     "output_type": "stream",
     "text": [
      "140-MEXT---Ministry-of-Education-Culture-Sports-Science-and-Technology-2011.nc\n",
      "Warning: dbo_area.xlsx: found duplicate keys: ['Indian Ocean', 'Arctic Ocean', 'Southern Ocean', 'North Pacific Ocean', 'South Pacific Ocean', 'North Atlantic Ocean', 'South Atlantic Ocean']\n"
     ]
    },
    {
     "name": "stderr",
     "output_type": "stream",
     "text": [
      " 22%|██▏       | 105/475 [02:01<05:20,  1.16it/s]"
     ]
    },
    {
     "name": "stdout",
     "output_type": "stream",
     "text": [
      "146-MEXT---Ministry-of-Education-Culture-Sports-Science-and-Technology-2011.nc\n",
      "Warning: dbo_area.xlsx: found duplicate keys: ['Indian Ocean', 'Arctic Ocean', 'Southern Ocean', 'North Pacific Ocean', 'South Pacific Ocean', 'North Atlantic Ocean', 'South Atlantic Ocean']\n"
     ]
    },
    {
     "name": "stderr",
     "output_type": "stream",
     "text": [
      " 22%|██▏       | 106/475 [02:01<05:06,  1.21it/s]"
     ]
    },
    {
     "name": "stdout",
     "output_type": "stream",
     "text": [
      "223-Buesseler-et-al-2018.nc\n",
      "Warning: dbo_area.xlsx: found duplicate keys: ['Indian Ocean', 'Arctic Ocean', 'Southern Ocean', 'North Pacific Ocean', 'South Pacific Ocean', 'North Atlantic Ocean', 'South Atlantic Ocean']\n"
     ]
    },
    {
     "name": "stderr",
     "output_type": "stream",
     "text": [
      " 23%|██▎       | 107/475 [02:02<04:58,  1.23it/s]"
     ]
    },
    {
     "name": "stdout",
     "output_type": "stream",
     "text": [
      "178-Pham-et-al-2016.nc\n",
      "Warning: dbo_area.xlsx: found duplicate keys: ['Indian Ocean', 'Arctic Ocean', 'Southern Ocean', 'North Pacific Ocean', 'South Pacific Ocean', 'North Atlantic Ocean', 'South Atlantic Ocean']\n"
     ]
    },
    {
     "name": "stderr",
     "output_type": "stream",
     "text": [
      " 23%|██▎       | 108/475 [02:03<04:55,  1.24it/s]"
     ]
    },
    {
     "name": "stdout",
     "output_type": "stream",
     "text": [
      "237-Takata-et-al-2018.nc\n",
      "Warning: dbo_area.xlsx: found duplicate keys: ['Indian Ocean', 'Arctic Ocean', 'Southern Ocean', 'North Pacific Ocean', 'South Pacific Ocean', 'North Atlantic Ocean', 'South Atlantic Ocean']\n"
     ]
    },
    {
     "name": "stderr",
     "output_type": "stream",
     "text": [
      " 23%|██▎       | 109/475 [02:04<05:15,  1.16it/s]"
     ]
    },
    {
     "name": "stdout",
     "output_type": "stream",
     "text": [
      "234-Aoyama-et-al-2013.nc\n",
      "Warning: dbo_area.xlsx: found duplicate keys: ['Indian Ocean', 'Arctic Ocean', 'Southern Ocean', 'North Pacific Ocean', 'South Pacific Ocean', 'North Atlantic Ocean', 'South Atlantic Ocean']\n"
     ]
    },
    {
     "name": "stderr",
     "output_type": "stream",
     "text": [
      " 23%|██▎       | 110/475 [02:05<05:01,  1.21it/s]"
     ]
    },
    {
     "name": "stdout",
     "output_type": "stream",
     "text": [
      "474-Madigan-et-al-2017.nc\n",
      "Warning: dbo_area.xlsx: found duplicate keys: ['Indian Ocean', 'Arctic Ocean', 'Southern Ocean', 'North Pacific Ocean', 'South Pacific Ocean', 'North Atlantic Ocean', 'South Atlantic Ocean']\n"
     ]
    },
    {
     "name": "stderr",
     "output_type": "stream",
     "text": [
      " 23%|██▎       | 111/475 [02:05<04:55,  1.23it/s]"
     ]
    },
    {
     "name": "stdout",
     "output_type": "stream",
     "text": [
      "550-Sohtome-2014.nc\n",
      "Warning: dbo_area.xlsx: found duplicate keys: ['Indian Ocean', 'Arctic Ocean', 'Southern Ocean', 'North Pacific Ocean', 'South Pacific Ocean', 'North Atlantic Ocean', 'South Atlantic Ocean']\n"
     ]
    },
    {
     "name": "stderr",
     "output_type": "stream",
     "text": [
      " 24%|██▎       | 112/475 [02:06<04:53,  1.24it/s]"
     ]
    },
    {
     "name": "stdout",
     "output_type": "stream",
     "text": [
      "684-NRA---Nuclear-Regulation-Authority-2021.nc\n",
      "Warning: dbo_area.xlsx: found duplicate keys: ['Indian Ocean', 'Arctic Ocean', 'Southern Ocean', 'North Pacific Ocean', 'South Pacific Ocean', 'North Atlantic Ocean', 'South Atlantic Ocean']\n"
     ]
    },
    {
     "name": "stderr",
     "output_type": "stream",
     "text": [
      " 24%|██▍       | 113/475 [02:07<05:04,  1.19it/s]"
     ]
    },
    {
     "name": "stdout",
     "output_type": "stream",
     "text": [
      "118-Kaeriyama-et-al-2013.nc\n",
      "Warning: dbo_area.xlsx: found duplicate keys: ['Indian Ocean', 'Arctic Ocean', 'Southern Ocean', 'North Pacific Ocean', 'South Pacific Ocean', 'North Atlantic Ocean', 'South Atlantic Ocean']\n"
     ]
    },
    {
     "name": "stderr",
     "output_type": "stream",
     "text": [
      " 24%|██▍       | 114/475 [02:08<04:51,  1.24it/s]"
     ]
    },
    {
     "name": "stdout",
     "output_type": "stream",
     "text": [
      "114-Charette-et-al-2013.nc\n",
      "Warning: dbo_area.xlsx: found duplicate keys: ['Indian Ocean', 'Arctic Ocean', 'Southern Ocean', 'North Pacific Ocean', 'South Pacific Ocean', 'North Atlantic Ocean', 'South Atlantic Ocean']\n"
     ]
    },
    {
     "name": "stderr",
     "output_type": "stream",
     "text": [
      " 24%|██▍       | 115/475 [02:09<04:42,  1.27it/s]"
     ]
    },
    {
     "name": "stdout",
     "output_type": "stream",
     "text": [
      "679-TEPCO---Tokyo-Electric-Power-Company-2021.nc\n",
      "Warning: dbo_area.xlsx: found duplicate keys: ['Indian Ocean', 'Arctic Ocean', 'Southern Ocean', 'North Pacific Ocean', 'South Pacific Ocean', 'North Atlantic Ocean', 'South Atlantic Ocean']\n"
     ]
    },
    {
     "name": "stderr",
     "output_type": "stream",
     "text": [
      " 24%|██▍       | 116/475 [02:10<05:48,  1.03it/s]"
     ]
    },
    {
     "name": "stdout",
     "output_type": "stream",
     "text": [
      "137-JCG---Japan-Coast-Guard-2011.nc\n",
      "Warning: dbo_area.xlsx: found duplicate keys: ['Indian Ocean', 'Arctic Ocean', 'Southern Ocean', 'North Pacific Ocean', 'South Pacific Ocean', 'North Atlantic Ocean', 'South Atlantic Ocean']\n"
     ]
    },
    {
     "name": "stderr",
     "output_type": "stream",
     "text": [
      " 25%|██▍       | 117/475 [02:11<05:19,  1.12it/s]"
     ]
    },
    {
     "name": "stdout",
     "output_type": "stream",
     "text": [
      "139-MEXT---Ministry-of-Education-Culture-Sports-Science-and-Technology-2011.nc\n",
      "Warning: dbo_area.xlsx: found duplicate keys: ['Indian Ocean', 'Arctic Ocean', 'Southern Ocean', 'North Pacific Ocean', 'South Pacific Ocean', 'North Atlantic Ocean', 'South Atlantic Ocean']\n"
     ]
    },
    {
     "name": "stderr",
     "output_type": "stream",
     "text": [
      " 25%|██▍       | 118/475 [02:12<05:27,  1.09it/s]"
     ]
    },
    {
     "name": "stdout",
     "output_type": "stream",
     "text": [
      "233-Aoyama-et-al-2013.nc\n",
      "Warning: dbo_area.xlsx: found duplicate keys: ['Indian Ocean', 'Arctic Ocean', 'Southern Ocean', 'North Pacific Ocean', 'South Pacific Ocean', 'North Atlantic Ocean', 'South Atlantic Ocean']\n"
     ]
    },
    {
     "name": "stderr",
     "output_type": "stream",
     "text": [
      " 25%|██▌       | 119/475 [02:12<05:05,  1.17it/s]"
     ]
    },
    {
     "name": "stdout",
     "output_type": "stream",
     "text": [
      "113-Kitamura-et-al-2013.nc\n",
      "Warning: dbo_area.xlsx: found duplicate keys: ['Indian Ocean', 'Arctic Ocean', 'Southern Ocean', 'North Pacific Ocean', 'South Pacific Ocean', 'North Atlantic Ocean', 'South Atlantic Ocean']\n"
     ]
    },
    {
     "name": "stderr",
     "output_type": "stream",
     "text": [
      " 25%|██▌       | 120/475 [02:13<04:50,  1.22it/s]"
     ]
    },
    {
     "name": "stdout",
     "output_type": "stream",
     "text": [
      "158-Buesseler-2018.nc\n",
      "Warning: dbo_area.xlsx: found duplicate keys: ['Indian Ocean', 'Arctic Ocean', 'Southern Ocean', 'North Pacific Ocean', 'South Pacific Ocean', 'North Atlantic Ocean', 'South Atlantic Ocean']\n"
     ]
    },
    {
     "name": "stderr",
     "output_type": "stream",
     "text": [
      " 25%|██▌       | 121/475 [02:14<04:37,  1.27it/s]"
     ]
    },
    {
     "name": "stdout",
     "output_type": "stream",
     "text": [
      "194-Tateda-and-Misonou-1990.nc\n",
      "Warning: dbo_area.xlsx: found duplicate keys: ['Indian Ocean', 'Arctic Ocean', 'Southern Ocean', 'North Pacific Ocean', 'South Pacific Ocean', 'North Atlantic Ocean', 'South Atlantic Ocean']\n"
     ]
    },
    {
     "name": "stderr",
     "output_type": "stream",
     "text": [
      " 26%|██▌       | 122/475 [02:15<04:37,  1.27it/s]"
     ]
    },
    {
     "name": "stdout",
     "output_type": "stream",
     "text": [
      "195-Tateda-and-Koyanagi-1994.nc\n",
      "Warning: dbo_area.xlsx: found duplicate keys: ['Indian Ocean', 'Arctic Ocean', 'Southern Ocean', 'North Pacific Ocean', 'South Pacific Ocean', 'North Atlantic Ocean', 'South Atlantic Ocean']\n"
     ]
    },
    {
     "name": "stderr",
     "output_type": "stream",
     "text": [
      " 26%|██▌       | 123/475 [02:15<04:39,  1.26it/s]"
     ]
    },
    {
     "name": "stdout",
     "output_type": "stream",
     "text": [
      "196-Tateda-and-Koyanagi-1996.nc\n",
      "Warning: dbo_area.xlsx: found duplicate keys: ['Indian Ocean', 'Arctic Ocean', 'Southern Ocean', 'North Pacific Ocean', 'South Pacific Ocean', 'North Atlantic Ocean', 'South Atlantic Ocean']\n"
     ]
    },
    {
     "name": "stderr",
     "output_type": "stream",
     "text": [
      " 26%|██▌       | 124/475 [02:16<05:05,  1.15it/s]"
     ]
    },
    {
     "name": "stdout",
     "output_type": "stream",
     "text": [
      "144-Fukushima-Prefecture-2013.nc\n",
      "Warning: dbo_area.xlsx: found duplicate keys: ['Indian Ocean', 'Arctic Ocean', 'Southern Ocean', 'North Pacific Ocean', 'South Pacific Ocean', 'North Atlantic Ocean', 'South Atlantic Ocean']\n"
     ]
    },
    {
     "name": "stderr",
     "output_type": "stream",
     "text": [
      " 26%|██▋       | 125/475 [02:17<04:51,  1.20it/s]"
     ]
    },
    {
     "name": "stdout",
     "output_type": "stream",
     "text": [
      "145-MOE---Ministry-of-the-Environment-2011.nc\n",
      "Warning: dbo_area.xlsx: found duplicate keys: ['Indian Ocean', 'Arctic Ocean', 'Southern Ocean', 'North Pacific Ocean', 'South Pacific Ocean', 'North Atlantic Ocean', 'South Atlantic Ocean']\n"
     ]
    },
    {
     "name": "stderr",
     "output_type": "stream",
     "text": [
      " 27%|██▋       | 126/475 [02:18<04:48,  1.21it/s]"
     ]
    },
    {
     "name": "stdout",
     "output_type": "stream",
     "text": [
      "479-Morita-2010.nc\n",
      "Warning: dbo_area.xlsx: found duplicate keys: ['Indian Ocean', 'Arctic Ocean', 'Southern Ocean', 'North Pacific Ocean', 'South Pacific Ocean', 'North Atlantic Ocean', 'South Atlantic Ocean']\n"
     ]
    },
    {
     "name": "stderr",
     "output_type": "stream",
     "text": [
      " 27%|██▋       | 127/475 [02:19<04:42,  1.23it/s]"
     ]
    },
    {
     "name": "stdout",
     "output_type": "stream",
     "text": [
      "572-Aono-et-al-2000.nc\n",
      "Warning: dbo_area.xlsx: found duplicate keys: ['Indian Ocean', 'Arctic Ocean', 'Southern Ocean', 'North Pacific Ocean', 'South Pacific Ocean', 'North Atlantic Ocean', 'South Atlantic Ocean']\n"
     ]
    },
    {
     "name": "stderr",
     "output_type": "stream",
     "text": [
      " 27%|██▋       | 128/475 [02:20<04:38,  1.25it/s]"
     ]
    },
    {
     "name": "stdout",
     "output_type": "stream",
     "text": [
      "436-Nakamura-et-al-2015.nc\n",
      "Warning: dbo_area.xlsx: found duplicate keys: ['Indian Ocean', 'Arctic Ocean', 'Southern Ocean', 'North Pacific Ocean', 'South Pacific Ocean', 'North Atlantic Ocean', 'South Atlantic Ocean']\n"
     ]
    },
    {
     "name": "stderr",
     "output_type": "stream",
     "text": [
      " 27%|██▋       | 129/475 [02:20<04:37,  1.25it/s]"
     ]
    },
    {
     "name": "stdout",
     "output_type": "stream",
     "text": [
      "440-Yamada-and-Nagaya-2000.nc\n",
      "Warning: dbo_area.xlsx: found duplicate keys: ['Indian Ocean', 'Arctic Ocean', 'Southern Ocean', 'North Pacific Ocean', 'South Pacific Ocean', 'North Atlantic Ocean', 'South Atlantic Ocean']\n"
     ]
    },
    {
     "name": "stderr",
     "output_type": "stream",
     "text": [
      " 27%|██▋       | 130/475 [02:21<04:26,  1.29it/s]"
     ]
    },
    {
     "name": "stdout",
     "output_type": "stream",
     "text": [
      "478-Yamada-et-al-1999.nc\n",
      "Warning: dbo_area.xlsx: found duplicate keys: ['Indian Ocean', 'Arctic Ocean', 'Southern Ocean', 'North Pacific Ocean', 'South Pacific Ocean', 'North Atlantic Ocean', 'South Atlantic Ocean']\n"
     ]
    },
    {
     "name": "stderr",
     "output_type": "stream",
     "text": [
      " 28%|██▊       | 131/475 [02:22<04:26,  1.29it/s]"
     ]
    },
    {
     "name": "stdout",
     "output_type": "stream",
     "text": [
      "404-Azouz-and-Dulai-2017.nc\n",
      "Warning: dbo_area.xlsx: found duplicate keys: ['Indian Ocean', 'Arctic Ocean', 'Southern Ocean', 'North Pacific Ocean', 'South Pacific Ocean', 'North Atlantic Ocean', 'South Atlantic Ocean']\n"
     ]
    },
    {
     "name": "stderr",
     "output_type": "stream",
     "text": [
      " 28%|██▊       | 132/475 [02:23<04:25,  1.29it/s]"
     ]
    },
    {
     "name": "stdout",
     "output_type": "stream",
     "text": [
      "517-Morita-et-al-2007.nc\n",
      "Warning: dbo_area.xlsx: found duplicate keys: ['Indian Ocean', 'Arctic Ocean', 'Southern Ocean', 'North Pacific Ocean', 'South Pacific Ocean', 'North Atlantic Ocean', 'South Atlantic Ocean']\n"
     ]
    },
    {
     "name": "stderr",
     "output_type": "stream",
     "text": [
      " 28%|██▊       | 133/475 [02:23<04:35,  1.24it/s]"
     ]
    },
    {
     "name": "stdout",
     "output_type": "stream",
     "text": [
      "518-Morita-et-al-2010.nc\n",
      "Warning: dbo_area.xlsx: found duplicate keys: ['Indian Ocean', 'Arctic Ocean', 'Southern Ocean', 'North Pacific Ocean', 'South Pacific Ocean', 'North Atlantic Ocean', 'South Atlantic Ocean']\n"
     ]
    },
    {
     "name": "stderr",
     "output_type": "stream",
     "text": [
      " 28%|██▊       | 134/475 [02:26<07:10,  1.26s/it]"
     ]
    },
    {
     "name": "stdout",
     "output_type": "stream",
     "text": [
      "723-Robison-et-al-1981.nc\n",
      "Warning: dbo_area.xlsx: found duplicate keys: ['Indian Ocean', 'Arctic Ocean', 'Southern Ocean', 'North Pacific Ocean', 'South Pacific Ocean', 'North Atlantic Ocean', 'South Atlantic Ocean']\n"
     ]
    },
    {
     "name": "stderr",
     "output_type": "stream",
     "text": [
      " 28%|██▊       | 135/475 [02:27<06:49,  1.20s/it]"
     ]
    },
    {
     "name": "stdout",
     "output_type": "stream",
     "text": [
      "476-Ruelas-Inzunza-et-al-2012.nc\n",
      "Warning: dbo_area.xlsx: found duplicate keys: ['Indian Ocean', 'Arctic Ocean', 'Southern Ocean', 'North Pacific Ocean', 'South Pacific Ocean', 'North Atlantic Ocean', 'South Atlantic Ocean']\n"
     ]
    },
    {
     "name": "stderr",
     "output_type": "stream",
     "text": [
      " 29%|██▊       | 136/475 [02:28<06:08,  1.09s/it]"
     ]
    },
    {
     "name": "stdout",
     "output_type": "stream",
     "text": [
      "22-Fowler-et-al-1983.nc\n",
      "Warning: dbo_area.xlsx: found duplicate keys: ['Indian Ocean', 'Arctic Ocean', 'Southern Ocean', 'North Pacific Ocean', 'South Pacific Ocean', 'North Atlantic Ocean', 'South Atlantic Ocean']\n"
     ]
    },
    {
     "name": "stderr",
     "output_type": "stream",
     "text": [
      " 29%|██▉       | 137/475 [02:28<05:30,  1.02it/s]"
     ]
    },
    {
     "name": "stdout",
     "output_type": "stream",
     "text": [
      "115-Casacuberta-et-al-2013.nc\n",
      "Warning: dbo_area.xlsx: found duplicate keys: ['Indian Ocean', 'Arctic Ocean', 'Southern Ocean', 'North Pacific Ocean', 'South Pacific Ocean', 'North Atlantic Ocean', 'South Atlantic Ocean']\n"
     ]
    },
    {
     "name": "stderr",
     "output_type": "stream",
     "text": [
      " 29%|██▉       | 138/475 [02:29<05:12,  1.08it/s]"
     ]
    },
    {
     "name": "stdout",
     "output_type": "stream",
     "text": [
      "232-Honda-et-al-2012.nc\n",
      "Warning: dbo_area.xlsx: found duplicate keys: ['Indian Ocean', 'Arctic Ocean', 'Southern Ocean', 'North Pacific Ocean', 'South Pacific Ocean', 'North Atlantic Ocean', 'South Atlantic Ocean']\n"
     ]
    },
    {
     "name": "stderr",
     "output_type": "stream",
     "text": [
      " 29%|██▉       | 139/475 [02:30<05:00,  1.12it/s]"
     ]
    },
    {
     "name": "stdout",
     "output_type": "stream",
     "text": [
      "430-Baumann-et-al-2015.nc\n",
      "Warning: dbo_area.xlsx: found duplicate keys: ['Indian Ocean', 'Arctic Ocean', 'Southern Ocean', 'North Pacific Ocean', 'South Pacific Ocean', 'North Atlantic Ocean', 'South Atlantic Ocean']\n"
     ]
    },
    {
     "name": "stderr",
     "output_type": "stream",
     "text": [
      " 29%|██▉       | 140/475 [02:31<04:46,  1.17it/s]"
     ]
    },
    {
     "name": "stdout",
     "output_type": "stream",
     "text": [
      "433-Smith-and-Towler-1993.nc\n",
      "Warning: dbo_area.xlsx: found duplicate keys: ['Indian Ocean', 'Arctic Ocean', 'Southern Ocean', 'North Pacific Ocean', 'South Pacific Ocean', 'North Atlantic Ocean', 'South Atlantic Ocean']\n"
     ]
    },
    {
     "name": "stderr",
     "output_type": "stream",
     "text": [
      " 30%|██▉       | 141/475 [02:32<04:47,  1.16it/s]"
     ]
    },
    {
     "name": "stdout",
     "output_type": "stream",
     "text": [
      "322-Département-de-Suivi-des-Centres-d’Expérimentations-Nucléaires-(DSCEN)-2018.nc\n",
      "Warning: dbo_area.xlsx: found duplicate keys: ['Indian Ocean', 'Arctic Ocean', 'Southern Ocean', 'North Pacific Ocean', 'South Pacific Ocean', 'North Atlantic Ocean', 'South Atlantic Ocean']\n"
     ]
    },
    {
     "name": "stderr",
     "output_type": "stream",
     "text": [
      " 30%|██▉       | 142/475 [02:32<04:38,  1.20it/s]"
     ]
    },
    {
     "name": "stdout",
     "output_type": "stream",
     "text": [
      "279-Pearson-et-al-2016.nc\n",
      "Warning: dbo_area.xlsx: found duplicate keys: ['Indian Ocean', 'Arctic Ocean', 'Southern Ocean', 'North Pacific Ocean', 'South Pacific Ocean', 'North Atlantic Ocean', 'South Atlantic Ocean']\n"
     ]
    },
    {
     "name": "stderr",
     "output_type": "stream",
     "text": [
      " 30%|███       | 143/475 [02:33<04:30,  1.23it/s]"
     ]
    },
    {
     "name": "stdout",
     "output_type": "stream",
     "text": [
      "282-Pearson-et-al-2016.nc\n",
      "Warning: dbo_area.xlsx: found duplicate keys: ['Indian Ocean', 'Arctic Ocean', 'Southern Ocean', 'North Pacific Ocean', 'South Pacific Ocean', 'North Atlantic Ocean', 'South Atlantic Ocean']\n"
     ]
    },
    {
     "name": "stderr",
     "output_type": "stream",
     "text": [
      " 30%|███       | 144/475 [02:34<04:26,  1.24it/s]"
     ]
    },
    {
     "name": "stdout",
     "output_type": "stream",
     "text": [
      "411-Guy-et-al-2020.nc\n",
      "Warning: dbo_area.xlsx: found duplicate keys: ['Indian Ocean', 'Arctic Ocean', 'Southern Ocean', 'North Pacific Ocean', 'South Pacific Ocean', 'North Atlantic Ocean', 'South Atlantic Ocean']\n"
     ]
    },
    {
     "name": "stderr",
     "output_type": "stream",
     "text": [
      " 31%|███       | 145/475 [02:35<04:23,  1.25it/s]"
     ]
    },
    {
     "name": "stdout",
     "output_type": "stream",
     "text": [
      "169-Villa-Alfageme-et-al-2019.nc\n",
      "Warning: dbo_area.xlsx: found duplicate keys: ['Indian Ocean', 'Arctic Ocean', 'Southern Ocean', 'North Pacific Ocean', 'South Pacific Ocean', 'North Atlantic Ocean', 'South Atlantic Ocean']\n"
     ]
    },
    {
     "name": "stderr",
     "output_type": "stream",
     "text": [
      " 31%|███       | 146/475 [02:35<04:12,  1.30it/s]"
     ]
    },
    {
     "name": "stdout",
     "output_type": "stream",
     "text": [
      "321-Département-de-Suivi-des-Centres-d’Expérimentations-Nucléaires-(DSCEN)-2011.nc\n",
      "Warning: dbo_area.xlsx: found duplicate keys: ['Indian Ocean', 'Arctic Ocean', 'Southern Ocean', 'North Pacific Ocean', 'South Pacific Ocean', 'North Atlantic Ocean', 'South Atlantic Ocean']\n"
     ]
    },
    {
     "name": "stderr",
     "output_type": "stream",
     "text": [
      " 31%|███       | 147/475 [02:36<04:16,  1.28it/s]"
     ]
    },
    {
     "name": "stdout",
     "output_type": "stream",
     "text": [
      "467-Poletiko-et-al-1994.nc\n",
      "Warning: dbo_area.xlsx: found duplicate keys: ['Indian Ocean', 'Arctic Ocean', 'Southern Ocean', 'North Pacific Ocean', 'South Pacific Ocean', 'North Atlantic Ocean', 'South Atlantic Ocean']\n"
     ]
    },
    {
     "name": "stderr",
     "output_type": "stream",
     "text": [
      " 31%|███       | 148/475 [02:37<04:13,  1.29it/s]"
     ]
    },
    {
     "name": "stdout",
     "output_type": "stream",
     "text": [
      "569-Bellamy-and-Hunter-1997.nc\n",
      "Warning: dbo_area.xlsx: found duplicate keys: ['Indian Ocean', 'Arctic Ocean', 'Southern Ocean', 'North Pacific Ocean', 'South Pacific Ocean', 'North Atlantic Ocean', 'South Atlantic Ocean']\n"
     ]
    },
    {
     "name": "stderr",
     "output_type": "stream",
     "text": [
      " 31%|███▏      | 149/475 [02:38<04:14,  1.28it/s]"
     ]
    },
    {
     "name": "stdout",
     "output_type": "stream",
     "text": [
      "466-Jeffree-et-al-1997.nc\n",
      "Warning: dbo_area.xlsx: found duplicate keys: ['Indian Ocean', 'Arctic Ocean', 'Southern Ocean', 'North Pacific Ocean', 'South Pacific Ocean', 'North Atlantic Ocean', 'South Atlantic Ocean']\n"
     ]
    },
    {
     "name": "stderr",
     "output_type": "stream",
     "text": [
      " 32%|███▏      | 150/475 [02:39<04:25,  1.23it/s]"
     ]
    },
    {
     "name": "stdout",
     "output_type": "stream",
     "text": [
      "465-Tejera-et-al-2019.nc\n",
      "Warning: dbo_area.xlsx: found duplicate keys: ['Indian Ocean', 'Arctic Ocean', 'Southern Ocean', 'North Pacific Ocean', 'South Pacific Ocean', 'North Atlantic Ocean', 'South Atlantic Ocean']\n"
     ]
    },
    {
     "name": "stderr",
     "output_type": "stream",
     "text": [
      " 32%|███▏      | 151/475 [02:40<04:26,  1.22it/s]"
     ]
    },
    {
     "name": "stdout",
     "output_type": "stream",
     "text": [
      "725-Dale-et-al-2024.nc\n",
      "Warning: dbo_area.xlsx: found duplicate keys: ['Indian Ocean', 'Arctic Ocean', 'Southern Ocean', 'North Pacific Ocean', 'South Pacific Ocean', 'North Atlantic Ocean', 'South Atlantic Ocean']\n"
     ]
    },
    {
     "name": "stderr",
     "output_type": "stream",
     "text": [
      " 32%|███▏      | 152/475 [02:40<04:16,  1.26it/s]"
     ]
    },
    {
     "name": "stdout",
     "output_type": "stream",
     "text": [
      "729-EPA-Ireland-2024.nc\n",
      "Warning: dbo_area.xlsx: found duplicate keys: ['Indian Ocean', 'Arctic Ocean', 'Southern Ocean', 'North Pacific Ocean', 'South Pacific Ocean', 'North Atlantic Ocean', 'South Atlantic Ocean']\n"
     ]
    },
    {
     "name": "stderr",
     "output_type": "stream",
     "text": [
      " 32%|███▏      | 153/475 [02:41<04:20,  1.24it/s]"
     ]
    },
    {
     "name": "stdout",
     "output_type": "stream",
     "text": [
      "692-Cunningham-et-al-1988.nc\n",
      "Warning: dbo_area.xlsx: found duplicate keys: ['Indian Ocean', 'Arctic Ocean', 'Southern Ocean', 'North Pacific Ocean', 'South Pacific Ocean', 'North Atlantic Ocean', 'South Atlantic Ocean']\n"
     ]
    },
    {
     "name": "stderr",
     "output_type": "stream",
     "text": [
      " 32%|███▏      | 154/475 [02:42<04:21,  1.23it/s]"
     ]
    },
    {
     "name": "stdout",
     "output_type": "stream",
     "text": [
      "693-O’Grady-and-Currivan-1990.nc\n",
      "Warning: dbo_area.xlsx: found duplicate keys: ['Indian Ocean', 'Arctic Ocean', 'Southern Ocean', 'North Pacific Ocean', 'South Pacific Ocean', 'North Atlantic Ocean', 'South Atlantic Ocean']\n"
     ]
    },
    {
     "name": "stderr",
     "output_type": "stream",
     "text": [
      " 33%|███▎      | 155/475 [02:44<05:55,  1.11s/it]"
     ]
    },
    {
     "name": "stdout",
     "output_type": "stream",
     "text": [
      "694-O’Grady-et-al-1991.nc\n",
      "Warning: dbo_area.xlsx: found duplicate keys: ['Indian Ocean', 'Arctic Ocean', 'Southern Ocean', 'North Pacific Ocean', 'South Pacific Ocean', 'North Atlantic Ocean', 'South Atlantic Ocean']\n"
     ]
    },
    {
     "name": "stderr",
     "output_type": "stream",
     "text": [
      " 33%|███▎      | 156/475 [02:45<05:30,  1.04s/it]"
     ]
    },
    {
     "name": "stdout",
     "output_type": "stream",
     "text": [
      "84-MAFF-(now-Cefas)-2004.nc\n",
      "Warning: dbo_area.xlsx: found duplicate keys: ['Indian Ocean', 'Arctic Ocean', 'Southern Ocean', 'North Pacific Ocean', 'South Pacific Ocean', 'North Atlantic Ocean', 'South Atlantic Ocean']\n"
     ]
    },
    {
     "name": "stderr",
     "output_type": "stream",
     "text": [
      " 33%|███▎      | 157/475 [02:47<07:07,  1.35s/it]"
     ]
    },
    {
     "name": "stdout",
     "output_type": "stream",
     "text": [
      "188-Thünen-Institute-2018.nc\n",
      "Warning: dbo_area.xlsx: found duplicate keys: ['Indian Ocean', 'Arctic Ocean', 'Southern Ocean', 'North Pacific Ocean', 'South Pacific Ocean', 'North Atlantic Ocean', 'South Atlantic Ocean']\n"
     ]
    },
    {
     "name": "stderr",
     "output_type": "stream",
     "text": [
      " 33%|███▎      | 158/475 [02:48<07:16,  1.38s/it]"
     ]
    },
    {
     "name": "stdout",
     "output_type": "stream",
     "text": [
      "25-Nies-1989.nc\n",
      "Warning: dbo_area.xlsx: found duplicate keys: ['Indian Ocean', 'Arctic Ocean', 'Southern Ocean', 'North Pacific Ocean', 'South Pacific Ocean', 'North Atlantic Ocean', 'South Atlantic Ocean']\n"
     ]
    },
    {
     "name": "stderr",
     "output_type": "stream",
     "text": [
      " 33%|███▎      | 159/475 [02:49<06:21,  1.21s/it]"
     ]
    },
    {
     "name": "stdout",
     "output_type": "stream",
     "text": [
      "303-Carvalho-et-al-2011.nc\n",
      "Warning: dbo_area.xlsx: found duplicate keys: ['Indian Ocean', 'Arctic Ocean', 'Southern Ocean', 'North Pacific Ocean', 'South Pacific Ocean', 'North Atlantic Ocean', 'South Atlantic Ocean']\n"
     ]
    },
    {
     "name": "stderr",
     "output_type": "stream",
     "text": [
      " 34%|███▎      | 160/475 [02:50<05:42,  1.09s/it]"
     ]
    },
    {
     "name": "stdout",
     "output_type": "stream",
     "text": [
      "341-CNESTEN-2019.nc\n",
      "Warning: dbo_area.xlsx: found duplicate keys: ['Indian Ocean', 'Arctic Ocean', 'Southern Ocean', 'North Pacific Ocean', 'South Pacific Ocean', 'North Atlantic Ocean', 'South Atlantic Ocean']\n"
     ]
    },
    {
     "name": "stderr",
     "output_type": "stream",
     "text": [
      " 34%|███▍      | 161/475 [02:51<05:11,  1.01it/s]"
     ]
    },
    {
     "name": "stdout",
     "output_type": "stream",
     "text": [
      "352-Hamid-et-al-2010.nc\n",
      "Warning: dbo_area.xlsx: found duplicate keys: ['Indian Ocean', 'Arctic Ocean', 'Southern Ocean', 'North Pacific Ocean', 'South Pacific Ocean', 'North Atlantic Ocean', 'South Atlantic Ocean']\n"
     ]
    },
    {
     "name": "stderr",
     "output_type": "stream",
     "text": [
      " 34%|███▍      | 162/475 [02:51<04:44,  1.10it/s]"
     ]
    },
    {
     "name": "stdout",
     "output_type": "stream",
     "text": [
      "371-CNESTEN-2020.nc\n",
      "Warning: dbo_area.xlsx: found duplicate keys: ['Indian Ocean', 'Arctic Ocean', 'Southern Ocean', 'North Pacific Ocean', 'South Pacific Ocean', 'North Atlantic Ocean', 'South Atlantic Ocean']\n"
     ]
    },
    {
     "name": "stderr",
     "output_type": "stream",
     "text": [
      " 34%|███▍      | 163/475 [02:52<04:28,  1.16it/s]"
     ]
    },
    {
     "name": "stdout",
     "output_type": "stream",
     "text": [
      "408-Carvalho-2011.nc\n",
      "Warning: dbo_area.xlsx: found duplicate keys: ['Indian Ocean', 'Arctic Ocean', 'Southern Ocean', 'North Pacific Ocean', 'South Pacific Ocean', 'North Atlantic Ocean', 'South Atlantic Ocean']\n"
     ]
    },
    {
     "name": "stderr",
     "output_type": "stream",
     "text": [
      " 35%|███▍      | 164/475 [02:53<04:23,  1.18it/s]"
     ]
    },
    {
     "name": "stdout",
     "output_type": "stream",
     "text": [
      "448-HEYRAUD-et-al-1988.nc\n",
      "Warning: dbo_area.xlsx: found duplicate keys: ['Indian Ocean', 'Arctic Ocean', 'Southern Ocean', 'North Pacific Ocean', 'South Pacific Ocean', 'North Atlantic Ocean', 'South Atlantic Ocean']\n"
     ]
    },
    {
     "name": "stderr",
     "output_type": "stream",
     "text": [
      " 35%|███▍      | 165/475 [02:54<04:15,  1.21it/s]"
     ]
    },
    {
     "name": "stdout",
     "output_type": "stream",
     "text": [
      "296-Carvalho-et-al-2011.nc\n",
      "Warning: dbo_area.xlsx: found duplicate keys: ['Indian Ocean', 'Arctic Ocean', 'Southern Ocean', 'North Pacific Ocean', 'South Pacific Ocean', 'North Atlantic Ocean', 'South Atlantic Ocean']\n"
     ]
    },
    {
     "name": "stderr",
     "output_type": "stream",
     "text": [
      " 35%|███▍      | 166/475 [02:56<06:32,  1.27s/it]"
     ]
    },
    {
     "name": "stdout",
     "output_type": "stream",
     "text": [
      "301-Fonollosa-et-al-2015.nc\n",
      "Warning: dbo_area.xlsx: found duplicate keys: ['Indian Ocean', 'Arctic Ocean', 'Southern Ocean', 'North Pacific Ocean', 'South Pacific Ocean', 'North Atlantic Ocean', 'South Atlantic Ocean']\n"
     ]
    },
    {
     "name": "stderr",
     "output_type": "stream",
     "text": [
      " 35%|███▌      | 167/475 [02:57<05:44,  1.12s/it]"
     ]
    },
    {
     "name": "stdout",
     "output_type": "stream",
     "text": [
      "316-Pollard-et-al-1998.nc\n",
      "Warning: dbo_area.xlsx: found duplicate keys: ['Indian Ocean', 'Arctic Ocean', 'Southern Ocean', 'North Pacific Ocean', 'South Pacific Ocean', 'North Atlantic Ocean', 'South Atlantic Ocean']\n"
     ]
    },
    {
     "name": "stderr",
     "output_type": "stream",
     "text": [
      " 35%|███▌      | 168/475 [02:58<05:20,  1.04s/it]"
     ]
    },
    {
     "name": "stdout",
     "output_type": "stream",
     "text": [
      "326-Benmansour-et-al-2006.nc\n",
      "Warning: dbo_area.xlsx: found duplicate keys: ['Indian Ocean', 'Arctic Ocean', 'Southern Ocean', 'North Pacific Ocean', 'South Pacific Ocean', 'North Atlantic Ocean', 'South Atlantic Ocean']\n"
     ]
    },
    {
     "name": "stderr",
     "output_type": "stream",
     "text": [
      " 36%|███▌      | 169/475 [02:58<04:49,  1.06it/s]"
     ]
    },
    {
     "name": "stdout",
     "output_type": "stream",
     "text": [
      "339-Benkdad-et-al-2011.nc\n",
      "Warning: dbo_area.xlsx: found duplicate keys: ['Indian Ocean', 'Arctic Ocean', 'Southern Ocean', 'North Pacific Ocean', 'South Pacific Ocean', 'North Atlantic Ocean', 'South Atlantic Ocean']\n"
     ]
    },
    {
     "name": "stderr",
     "output_type": "stream",
     "text": [
      " 36%|███▌      | 170/475 [02:59<04:33,  1.12it/s]"
     ]
    },
    {
     "name": "stdout",
     "output_type": "stream",
     "text": [
      "179-Villa-Alfageme-et-al-2018.nc\n",
      "Warning: dbo_area.xlsx: found duplicate keys: ['Indian Ocean', 'Arctic Ocean', 'Southern Ocean', 'North Pacific Ocean', 'South Pacific Ocean', 'North Atlantic Ocean', 'South Atlantic Ocean']\n"
     ]
    },
    {
     "name": "stderr",
     "output_type": "stream",
     "text": [
      " 36%|███▌      | 171/475 [03:00<04:16,  1.18it/s]"
     ]
    },
    {
     "name": "stdout",
     "output_type": "stream",
     "text": [
      "161-Gómez-Guzmán-et-al-2013.nc\n",
      "Warning: dbo_area.xlsx: found duplicate keys: ['Indian Ocean', 'Arctic Ocean', 'Southern Ocean', 'North Pacific Ocean', 'South Pacific Ocean', 'North Atlantic Ocean', 'South Atlantic Ocean']\n"
     ]
    },
    {
     "name": "stderr",
     "output_type": "stream",
     "text": [
      " 36%|███▌      | 172/475 [03:01<04:04,  1.24it/s]"
     ]
    },
    {
     "name": "stdout",
     "output_type": "stream",
     "text": [
      "168-Vivo-Vilches-et-al-2018.nc\n",
      "Warning: dbo_area.xlsx: found duplicate keys: ['Indian Ocean', 'Arctic Ocean', 'Southern Ocean', 'North Pacific Ocean', 'South Pacific Ocean', 'North Atlantic Ocean', 'South Atlantic Ocean']\n"
     ]
    },
    {
     "name": "stderr",
     "output_type": "stream",
     "text": [
      " 36%|███▋      | 173/475 [03:01<03:59,  1.26it/s]"
     ]
    },
    {
     "name": "stdout",
     "output_type": "stream",
     "text": [
      "186-Corcho-Alvarado-et-al-2014.nc\n",
      "Warning: dbo_area.xlsx: found duplicate keys: ['Indian Ocean', 'Arctic Ocean', 'Southern Ocean', 'North Pacific Ocean', 'South Pacific Ocean', 'North Atlantic Ocean', 'South Atlantic Ocean']\n"
     ]
    },
    {
     "name": "stderr",
     "output_type": "stream",
     "text": [
      " 37%|███▋      | 174/475 [03:02<03:50,  1.31it/s]"
     ]
    },
    {
     "name": "stdout",
     "output_type": "stream",
     "text": [
      "396-Ostlund-1984.nc\n",
      "Warning: dbo_area.xlsx: found duplicate keys: ['Indian Ocean', 'Arctic Ocean', 'Southern Ocean', 'North Pacific Ocean', 'South Pacific Ocean', 'North Atlantic Ocean', 'South Atlantic Ocean']\n"
     ]
    },
    {
     "name": "stderr",
     "output_type": "stream",
     "text": [
      " 37%|███▋      | 175/475 [03:03<03:51,  1.30it/s]"
     ]
    },
    {
     "name": "stdout",
     "output_type": "stream",
     "text": [
      "397-Ostlund-and-Grall-1987.nc\n",
      "Warning: dbo_area.xlsx: found duplicate keys: ['Indian Ocean', 'Arctic Ocean', 'Southern Ocean', 'North Pacific Ocean', 'South Pacific Ocean', 'North Atlantic Ocean', 'South Atlantic Ocean']\n"
     ]
    },
    {
     "name": "stderr",
     "output_type": "stream",
     "text": [
      " 37%|███▋      | 176/475 [03:04<03:48,  1.31it/s]"
     ]
    },
    {
     "name": "stdout",
     "output_type": "stream",
     "text": [
      "399-Andrié-et-al-1988.nc\n",
      "Warning: dbo_area.xlsx: found duplicate keys: ['Indian Ocean', 'Arctic Ocean', 'Southern Ocean', 'North Pacific Ocean', 'South Pacific Ocean', 'North Atlantic Ocean', 'South Atlantic Ocean']\n"
     ]
    },
    {
     "name": "stderr",
     "output_type": "stream",
     "text": [
      " 37%|███▋      | 177/475 [03:04<03:49,  1.30it/s]"
     ]
    },
    {
     "name": "stdout",
     "output_type": "stream",
     "text": [
      "357-Arnedo-et-al-2013.nc\n",
      "Warning: dbo_area.xlsx: found duplicate keys: ['Indian Ocean', 'Arctic Ocean', 'Southern Ocean', 'North Pacific Ocean', 'South Pacific Ocean', 'North Atlantic Ocean', 'South Atlantic Ocean']\n"
     ]
    },
    {
     "name": "stderr",
     "output_type": "stream",
     "text": [
      " 37%|███▋      | 178/475 [03:05<03:43,  1.33it/s]"
     ]
    },
    {
     "name": "stdout",
     "output_type": "stream",
     "text": [
      "308-Jalili-et-al-2009.nc\n",
      "Warning: dbo_area.xlsx: found duplicate keys: ['Indian Ocean', 'Arctic Ocean', 'Southern Ocean', 'North Pacific Ocean', 'South Pacific Ocean', 'North Atlantic Ocean', 'South Atlantic Ocean']\n"
     ]
    },
    {
     "name": "stderr",
     "output_type": "stream",
     "text": [
      " 38%|███▊      | 179/475 [03:06<03:46,  1.31it/s]"
     ]
    },
    {
     "name": "stdout",
     "output_type": "stream",
     "text": [
      "174-Hurtado-Bermúdez-et-al-2018.nc\n",
      "Warning: dbo_area.xlsx: found duplicate keys: ['Indian Ocean', 'Arctic Ocean', 'Southern Ocean', 'North Pacific Ocean', 'South Pacific Ocean', 'North Atlantic Ocean', 'South Atlantic Ocean']\n"
     ]
    },
    {
     "name": "stderr",
     "output_type": "stream",
     "text": [
      " 38%|███▊      | 180/475 [03:07<03:45,  1.31it/s]"
     ]
    },
    {
     "name": "stdout",
     "output_type": "stream",
     "text": [
      "540-Deiaa-2020.nc\n",
      "Warning: dbo_area.xlsx: found duplicate keys: ['Indian Ocean', 'Arctic Ocean', 'Southern Ocean', 'North Pacific Ocean', 'South Pacific Ocean', 'North Atlantic Ocean', 'South Atlantic Ocean']\n"
     ]
    },
    {
     "name": "stderr",
     "output_type": "stream",
     "text": [
      " 38%|███▊      | 181/475 [03:07<03:44,  1.31it/s]"
     ]
    },
    {
     "name": "stdout",
     "output_type": "stream",
     "text": [
      "41-Aarkrog-et-al-1994.nc\n",
      "Warning: dbo_area.xlsx: found duplicate keys: ['Indian Ocean', 'Arctic Ocean', 'Southern Ocean', 'North Pacific Ocean', 'South Pacific Ocean', 'North Atlantic Ocean', 'South Atlantic Ocean']\n"
     ]
    },
    {
     "name": "stderr",
     "output_type": "stream",
     "text": [
      " 38%|███▊      | 182/475 [03:08<03:39,  1.34it/s]"
     ]
    },
    {
     "name": "stdout",
     "output_type": "stream",
     "text": [
      "372-CNESTEN-2020.nc\n",
      "Warning: dbo_area.xlsx: found duplicate keys: ['Indian Ocean', 'Arctic Ocean', 'Southern Ocean', 'North Pacific Ocean', 'South Pacific Ocean', 'North Atlantic Ocean', 'South Atlantic Ocean']\n"
     ]
    },
    {
     "name": "stderr",
     "output_type": "stream",
     "text": [
      " 39%|███▊      | 183/475 [03:09<03:33,  1.37it/s]"
     ]
    },
    {
     "name": "stdout",
     "output_type": "stream",
     "text": [
      "431-Malta-and-Carvalho-2011.nc\n",
      "Warning: dbo_area.xlsx: found duplicate keys: ['Indian Ocean', 'Arctic Ocean', 'Southern Ocean', 'North Pacific Ocean', 'South Pacific Ocean', 'North Atlantic Ocean', 'South Atlantic Ocean']\n"
     ]
    },
    {
     "name": "stderr",
     "output_type": "stream",
     "text": [
      " 39%|███▊      | 184/475 [03:09<03:36,  1.35it/s]"
     ]
    },
    {
     "name": "stdout",
     "output_type": "stream",
     "text": [
      "248-Štrok-and-Smodiš-2011.nc\n",
      "Warning: dbo_area.xlsx: found duplicate keys: ['Indian Ocean', 'Arctic Ocean', 'Southern Ocean', 'North Pacific Ocean', 'South Pacific Ocean', 'North Atlantic Ocean', 'South Atlantic Ocean']\n"
     ]
    },
    {
     "name": "stderr",
     "output_type": "stream",
     "text": [
      " 39%|███▉      | 185/475 [03:10<03:47,  1.28it/s]"
     ]
    },
    {
     "name": "stdout",
     "output_type": "stream",
     "text": [
      "311-Ryan-et-al-1999.nc\n",
      "Warning: dbo_area.xlsx: found duplicate keys: ['Indian Ocean', 'Arctic Ocean', 'Southern Ocean', 'North Pacific Ocean', 'South Pacific Ocean', 'North Atlantic Ocean', 'South Atlantic Ocean']\n"
     ]
    },
    {
     "name": "stderr",
     "output_type": "stream",
     "text": [
      " 39%|███▉      | 186/475 [03:11<03:47,  1.27it/s]"
     ]
    },
    {
     "name": "stdout",
     "output_type": "stream",
     "text": [
      "175-Santos-et-al-2007.nc\n",
      "Warning: dbo_area.xlsx: found duplicate keys: ['Indian Ocean', 'Arctic Ocean', 'Southern Ocean', 'North Pacific Ocean', 'South Pacific Ocean', 'North Atlantic Ocean', 'South Atlantic Ocean']\n"
     ]
    },
    {
     "name": "stderr",
     "output_type": "stream",
     "text": [
      " 39%|███▉      | 187/475 [03:12<03:39,  1.31it/s]"
     ]
    },
    {
     "name": "stdout",
     "output_type": "stream",
     "text": [
      "177-Laissaoui-et-al-2013.nc\n",
      "Warning: dbo_area.xlsx: found duplicate keys: ['Indian Ocean', 'Arctic Ocean', 'Southern Ocean', 'North Pacific Ocean', 'South Pacific Ocean', 'North Atlantic Ocean', 'South Atlantic Ocean']\n"
     ]
    },
    {
     "name": "stderr",
     "output_type": "stream",
     "text": [
      " 40%|███▉      | 188/475 [03:13<03:33,  1.34it/s]"
     ]
    },
    {
     "name": "stdout",
     "output_type": "stream",
     "text": [
      "31-Aarkrog-et-al-1992.nc\n",
      "Warning: dbo_area.xlsx: found duplicate keys: ['Indian Ocean', 'Arctic Ocean', 'Southern Ocean', 'North Pacific Ocean', 'South Pacific Ocean', 'North Atlantic Ocean', 'South Atlantic Ocean']\n"
     ]
    },
    {
     "name": "stderr",
     "output_type": "stream",
     "text": [
      " 40%|███▉      | 189/475 [03:13<03:30,  1.36it/s]"
     ]
    },
    {
     "name": "stdout",
     "output_type": "stream",
     "text": [
      "419-Kanisch-and-Aust-2013.nc\n",
      "Warning: dbo_area.xlsx: found duplicate keys: ['Indian Ocean', 'Arctic Ocean', 'Southern Ocean', 'North Pacific Ocean', 'South Pacific Ocean', 'North Atlantic Ocean', 'South Atlantic Ocean']\n"
     ]
    },
    {
     "name": "stderr",
     "output_type": "stream",
     "text": [
      " 40%|████      | 190/475 [03:14<03:34,  1.33it/s]"
     ]
    },
    {
     "name": "stdout",
     "output_type": "stream",
     "text": [
      "559-Fiev-et-al-2013.nc\n",
      "Warning: dbo_area.xlsx: found duplicate keys: ['Indian Ocean', 'Arctic Ocean', 'Southern Ocean', 'North Pacific Ocean', 'South Pacific Ocean', 'North Atlantic Ocean', 'South Atlantic Ocean']\n"
     ]
    },
    {
     "name": "stderr",
     "output_type": "stream",
     "text": [
      " 40%|████      | 191/475 [03:15<03:35,  1.32it/s]"
     ]
    },
    {
     "name": "stdout",
     "output_type": "stream",
     "text": [
      "562-Joensen-2011.nc\n",
      "Warning: dbo_area.xlsx: found duplicate keys: ['Indian Ocean', 'Arctic Ocean', 'Southern Ocean', 'North Pacific Ocean', 'South Pacific Ocean', 'North Atlantic Ocean', 'South Atlantic Ocean']\n"
     ]
    },
    {
     "name": "stderr",
     "output_type": "stream",
     "text": [
      " 40%|████      | 192/475 [03:16<03:38,  1.29it/s]"
     ]
    },
    {
     "name": "stdout",
     "output_type": "stream",
     "text": [
      "691-Cunningham-and-O’Grady-1986.nc\n",
      "Warning: dbo_area.xlsx: found duplicate keys: ['Indian Ocean', 'Arctic Ocean', 'Southern Ocean', 'North Pacific Ocean', 'South Pacific Ocean', 'North Atlantic Ocean', 'South Atlantic Ocean']\n"
     ]
    },
    {
     "name": "stderr",
     "output_type": "stream",
     "text": [
      " 41%|████      | 193/475 [03:16<03:39,  1.28it/s]"
     ]
    },
    {
     "name": "stdout",
     "output_type": "stream",
     "text": [
      "405-Berrow-et-al-1998.nc\n",
      "Warning: dbo_area.xlsx: found duplicate keys: ['Indian Ocean', 'Arctic Ocean', 'Southern Ocean', 'North Pacific Ocean', 'South Pacific Ocean', 'North Atlantic Ocean', 'South Atlantic Ocean']\n"
     ]
    },
    {
     "name": "stderr",
     "output_type": "stream",
     "text": [
      " 41%|████      | 194/475 [03:17<03:46,  1.24it/s]"
     ]
    },
    {
     "name": "stdout",
     "output_type": "stream",
     "text": [
      "719-Environment-Agency-et-al-2023.nc\n",
      "Warning: dbo_area.xlsx: found duplicate keys: ['Indian Ocean', 'Arctic Ocean', 'Southern Ocean', 'North Pacific Ocean', 'South Pacific Ocean', 'North Atlantic Ocean', 'South Atlantic Ocean']\n"
     ]
    },
    {
     "name": "stderr",
     "output_type": "stream",
     "text": [
      " 41%|████      | 195/475 [03:18<04:06,  1.13it/s]"
     ]
    },
    {
     "name": "stdout",
     "output_type": "stream",
     "text": [
      "366-Onjefu-et-al-2017.nc\n",
      "Warning: dbo_area.xlsx: found duplicate keys: ['Indian Ocean', 'Arctic Ocean', 'Southern Ocean', 'North Pacific Ocean', 'South Pacific Ocean', 'North Atlantic Ocean', 'South Atlantic Ocean']\n"
     ]
    },
    {
     "name": "stderr",
     "output_type": "stream",
     "text": [
      " 41%|████▏     | 196/475 [03:19<03:51,  1.21it/s]"
     ]
    },
    {
     "name": "stdout",
     "output_type": "stream",
     "text": [
      "441-Godoy-et-al-2003.nc\n",
      "Warning: dbo_area.xlsx: found duplicate keys: ['Indian Ocean', 'Arctic Ocean', 'Southern Ocean', 'North Pacific Ocean', 'South Pacific Ocean', 'North Atlantic Ocean', 'South Atlantic Ocean']\n"
     ]
    },
    {
     "name": "stderr",
     "output_type": "stream",
     "text": [
      " 41%|████▏     | 197/475 [03:20<03:47,  1.22it/s]"
     ]
    },
    {
     "name": "stdout",
     "output_type": "stream",
     "text": [
      "442-Moura-et-al-2015.nc\n",
      "Warning: dbo_area.xlsx: found duplicate keys: ['Indian Ocean', 'Arctic Ocean', 'Southern Ocean', 'North Pacific Ocean', 'South Pacific Ocean', 'North Atlantic Ocean', 'South Atlantic Ocean']\n"
     ]
    },
    {
     "name": "stderr",
     "output_type": "stream",
     "text": [
      " 42%|████▏     | 198/475 [03:21<03:44,  1.23it/s]"
     ]
    },
    {
     "name": "stdout",
     "output_type": "stream",
     "text": [
      "484-Saito-et-al-2003.nc\n",
      "Warning: dbo_area.xlsx: found duplicate keys: ['Indian Ocean', 'Arctic Ocean', 'Southern Ocean', 'North Pacific Ocean', 'South Pacific Ocean', 'North Atlantic Ocean', 'South Atlantic Ocean']\n"
     ]
    },
    {
     "name": "stderr",
     "output_type": "stream",
     "text": [
      " 42%|████▏     | 199/475 [03:21<03:41,  1.24it/s]"
     ]
    },
    {
     "name": "stdout",
     "output_type": "stream",
     "text": [
      "236-Teixeira-and-Mazzilli-2017.nc\n",
      "Warning: dbo_area.xlsx: found duplicate keys: ['Indian Ocean', 'Arctic Ocean', 'Southern Ocean', 'North Pacific Ocean', 'South Pacific Ocean', 'North Atlantic Ocean', 'South Atlantic Ocean']\n"
     ]
    },
    {
     "name": "stderr",
     "output_type": "stream",
     "text": [
      " 42%|████▏     | 200/475 [03:22<03:32,  1.30it/s]"
     ]
    },
    {
     "name": "stdout",
     "output_type": "stream",
     "text": [
      "438-Cherry-et-al-1994.nc\n",
      "Warning: dbo_area.xlsx: found duplicate keys: ['Indian Ocean', 'Arctic Ocean', 'Southern Ocean', 'North Pacific Ocean', 'South Pacific Ocean', 'North Atlantic Ocean', 'South Atlantic Ocean']\n"
     ]
    },
    {
     "name": "stderr",
     "output_type": "stream",
     "text": [
      " 42%|████▏     | 201/475 [03:23<03:33,  1.28it/s]"
     ]
    },
    {
     "name": "stdout",
     "output_type": "stream",
     "text": [
      "711-Ramos-2010.nc\n",
      "Warning: dbo_area.xlsx: found duplicate keys: ['Indian Ocean', 'Arctic Ocean', 'Southern Ocean', 'North Pacific Ocean', 'South Pacific Ocean', 'North Atlantic Ocean', 'South Atlantic Ocean']\n"
     ]
    },
    {
     "name": "stderr",
     "output_type": "stream",
     "text": [
      " 43%|████▎     | 202/475 [03:24<03:35,  1.27it/s]"
     ]
    },
    {
     "name": "stdout",
     "output_type": "stream",
     "text": [
      "555-Gouvea-et-al-2008.nc\n",
      "Warning: dbo_area.xlsx: found duplicate keys: ['Indian Ocean', 'Arctic Ocean', 'Southern Ocean', 'North Pacific Ocean', 'South Pacific Ocean', 'North Atlantic Ocean', 'South Atlantic Ocean']\n"
     ]
    },
    {
     "name": "stderr",
     "output_type": "stream",
     "text": [
      " 43%|████▎     | 203/475 [03:26<05:00,  1.11s/it]"
     ]
    },
    {
     "name": "stdout",
     "output_type": "stream",
     "text": [
      "269-Mársico-et-al-2014.nc\n",
      "Warning: dbo_area.xlsx: found duplicate keys: ['Indian Ocean', 'Arctic Ocean', 'Southern Ocean', 'North Pacific Ocean', 'South Pacific Ocean', 'North Atlantic Ocean', 'South Atlantic Ocean']\n"
     ]
    },
    {
     "name": "stderr",
     "output_type": "stream",
     "text": [
      " 43%|████▎     | 204/475 [03:26<04:37,  1.03s/it]"
     ]
    },
    {
     "name": "stdout",
     "output_type": "stream",
     "text": [
      "235-Jesus-and-Mazzilli-2017.nc\n",
      "Warning: dbo_area.xlsx: found duplicate keys: ['Indian Ocean', 'Arctic Ocean', 'Southern Ocean', 'North Pacific Ocean', 'South Pacific Ocean', 'North Atlantic Ocean', 'South Atlantic Ocean']\n"
     ]
    },
    {
     "name": "stderr",
     "output_type": "stream",
     "text": [
      " 43%|████▎     | 205/475 [03:27<04:10,  1.08it/s]"
     ]
    },
    {
     "name": "stdout",
     "output_type": "stream",
     "text": [
      "444-Gouvea-et-al-1992.nc\n",
      "Warning: dbo_area.xlsx: found duplicate keys: ['Indian Ocean', 'Arctic Ocean', 'Southern Ocean', 'North Pacific Ocean', 'South Pacific Ocean', 'North Atlantic Ocean', 'South Atlantic Ocean']\n"
     ]
    },
    {
     "name": "stderr",
     "output_type": "stream",
     "text": [
      " 43%|████▎     | 206/475 [03:28<03:55,  1.14it/s]"
     ]
    },
    {
     "name": "stdout",
     "output_type": "stream",
     "text": [
      "483-Cunha-et-al-1993.nc\n",
      "Warning: dbo_area.xlsx: found duplicate keys: ['Indian Ocean', 'Arctic Ocean', 'Southern Ocean', 'North Pacific Ocean', 'South Pacific Ocean', 'North Atlantic Ocean', 'South Atlantic Ocean']\n"
     ]
    },
    {
     "name": "stderr",
     "output_type": "stream",
     "text": [
      " 44%|████▎     | 207/475 [03:29<03:49,  1.17it/s]"
     ]
    },
    {
     "name": "stdout",
     "output_type": "stream",
     "text": [
      "108-Figueira-et-al-2006.nc\n",
      "Warning: dbo_area.xlsx: found duplicate keys: ['Indian Ocean', 'Arctic Ocean', 'Southern Ocean', 'North Pacific Ocean', 'South Pacific Ocean', 'North Atlantic Ocean', 'South Atlantic Ocean']\n"
     ]
    },
    {
     "name": "stderr",
     "output_type": "stream",
     "text": [
      " 44%|████▍     | 208/475 [03:29<03:36,  1.23it/s]"
     ]
    },
    {
     "name": "stdout",
     "output_type": "stream",
     "text": [
      "173-Hurtado-Bermudez-et-al-2017.nc\n",
      "Warning: dbo_area.xlsx: found duplicate keys: ['Indian Ocean', 'Arctic Ocean', 'Southern Ocean', 'North Pacific Ocean', 'South Pacific Ocean', 'North Atlantic Ocean', 'South Atlantic Ocean']\n"
     ]
    },
    {
     "name": "stderr",
     "output_type": "stream",
     "text": [
      " 44%|████▍     | 209/475 [03:30<03:36,  1.23it/s]"
     ]
    },
    {
     "name": "stdout",
     "output_type": "stream",
     "text": [
      "727-Muir-et-al-2017.nc\n",
      "Warning: dbo_area.xlsx: found duplicate keys: ['Indian Ocean', 'Arctic Ocean', 'Southern Ocean', 'North Pacific Ocean', 'South Pacific Ocean', 'North Atlantic Ocean', 'South Atlantic Ocean']\n"
     ]
    },
    {
     "name": "stderr",
     "output_type": "stream",
     "text": [
      "                                                 \r"
     ]
    },
    {
     "ename": "ValueError",
     "evalue": "trying to assign illegal value to Enum variable",
     "output_type": "error",
     "traceback": [
      "\u001b[0;31m---------------------------------------------------------------------------\u001b[0m",
      "\u001b[0;31mValueError\u001b[0m                                Traceback (most recent call last)",
      "Cell \u001b[0;32mIn [152], line 2\u001b[0m\n\u001b[1;32m      1\u001b[0m \u001b[38;5;66;03m#|eval: false\u001b[39;00m\n\u001b[0;32m----> 2\u001b[0m \u001b[43mencode\u001b[49m\u001b[43m(\u001b[49m\n\u001b[1;32m      3\u001b[0m \u001b[43m    \u001b[49m\u001b[43mfname_in\u001b[49m\u001b[43m,\u001b[49m\u001b[43m \u001b[49m\n\u001b[1;32m      4\u001b[0m \u001b[43m    \u001b[49m\u001b[43mdir_dest\u001b[49m\u001b[43m,\u001b[49m\u001b[43m \u001b[49m\n\u001b[1;32m      5\u001b[0m \u001b[43m    \u001b[49m\u001b[43mdataloader\u001b[49m\u001b[38;5;241;43m=\u001b[39;49m\u001b[43mdataloader\u001b[49m\u001b[43m,\u001b[49m\n\u001b[1;32m      6\u001b[0m \u001b[43m    \u001b[49m\u001b[43mverbose\u001b[49m\u001b[38;5;241;43m=\u001b[39;49m\u001b[38;5;28;43;01mFalse\u001b[39;49;00m\u001b[43m)\u001b[49m\n",
      "Cell \u001b[0;32mIn [150], line 26\u001b[0m, in \u001b[0;36mencode\u001b[0;34m(fname_in, fname_out, dataloader, **kwargs)\u001b[0m\n\u001b[1;32m     20\u001b[0m tfm()\n\u001b[1;32m     21\u001b[0m encoder \u001b[38;5;241m=\u001b[39m NetCDFEncoder(tfm\u001b[38;5;241m.\u001b[39mdfs, \n\u001b[1;32m     22\u001b[0m                         dest_fname\u001b[38;5;241m=\u001b[39mPath(fname_out) \u001b[38;5;241m/\u001b[39m get_fname(dfs), \n\u001b[1;32m     23\u001b[0m                         global_attrs\u001b[38;5;241m=\u001b[39mget_attrs(tfm, zotero_key\u001b[38;5;241m=\u001b[39mget_zotero_key(dfs), kw\u001b[38;5;241m=\u001b[39mkw),\n\u001b[1;32m     24\u001b[0m                         verbose\u001b[38;5;241m=\u001b[39mkwargs\u001b[38;5;241m.\u001b[39mget(\u001b[38;5;124m'\u001b[39m\u001b[38;5;124mverbose\u001b[39m\u001b[38;5;124m'\u001b[39m, \u001b[38;5;28;01mFalse\u001b[39;00m)\n\u001b[1;32m     25\u001b[0m                         )\n\u001b[0;32m---> 26\u001b[0m \u001b[43mencoder\u001b[49m\u001b[38;5;241;43m.\u001b[39;49m\u001b[43mencode\u001b[49m\u001b[43m(\u001b[49m\u001b[43m)\u001b[49m\n",
      "File \u001b[0;32m~/pro/IAEA/MARIS/marisco/marisco/encoders.py:153\u001b[0m, in \u001b[0;36mencode\u001b[0;34m(self)\u001b[0m\n\u001b[1;32m    151\u001b[0m \u001b[38;5;28mself\u001b[39m\u001b[38;5;241m.\u001b[39mcopy_global_attributes()\n\u001b[1;32m    152\u001b[0m \u001b[38;5;28mself\u001b[39m\u001b[38;5;241m.\u001b[39mcreate_enums()\n\u001b[0;32m--> 153\u001b[0m \u001b[38;5;28;43mself\u001b[39;49m\u001b[38;5;241;43m.\u001b[39;49m\u001b[43mprocess_groups\u001b[49m\u001b[43m(\u001b[49m\u001b[43m)\u001b[49m\n",
      "File \u001b[0;32m~/pro/IAEA/MARIS/marisco/marisco/encoders.py:64\u001b[0m, in \u001b[0;36mprocess_groups\u001b[0;34m(self)\u001b[0m\n\u001b[1;32m     61\u001b[0m \u001b[38;5;129m@patch\u001b[39m\n\u001b[1;32m     62\u001b[0m \u001b[38;5;28;01mdef\u001b[39;00m \u001b[38;5;21mprocess_groups\u001b[39m(\u001b[38;5;28mself\u001b[39m:NetCDFEncoder):\n\u001b[1;32m     63\u001b[0m     \u001b[38;5;28;01mfor\u001b[39;00m grp_name, df \u001b[38;5;129;01min\u001b[39;00m \u001b[38;5;28mself\u001b[39m\u001b[38;5;241m.\u001b[39mdfs\u001b[38;5;241m.\u001b[39mitems():\n\u001b[0;32m---> 64\u001b[0m         \u001b[38;5;28;43mself\u001b[39;49m\u001b[38;5;241;43m.\u001b[39;49m\u001b[43mprocess_group\u001b[49m\u001b[43m(\u001b[49m\u001b[43mNC_GROUPS\u001b[49m\u001b[43m[\u001b[49m\u001b[43mgrp_name\u001b[49m\u001b[43m]\u001b[49m\u001b[43m,\u001b[49m\u001b[43m \u001b[49m\u001b[43mdf\u001b[49m\u001b[43m)\u001b[49m\n",
      "File \u001b[0;32m~/pro/IAEA/MARIS/marisco/marisco/encoders.py:71\u001b[0m, in \u001b[0;36mprocess_group\u001b[0;34m(self, grp_name, df)\u001b[0m\n\u001b[1;32m     69\u001b[0m grp_dest \u001b[38;5;241m=\u001b[39m \u001b[38;5;28mself\u001b[39m\u001b[38;5;241m.\u001b[39mdest\u001b[38;5;241m.\u001b[39mcreateGroup(grp_name)\n\u001b[1;32m     70\u001b[0m \u001b[38;5;28mself\u001b[39m\u001b[38;5;241m.\u001b[39mcopy_dimensions(grp_dest)\n\u001b[0;32m---> 71\u001b[0m \u001b[38;5;28;43mself\u001b[39;49m\u001b[38;5;241;43m.\u001b[39;49m\u001b[43mcopy_variables\u001b[49m\u001b[43m(\u001b[49m\u001b[43mgrp_name\u001b[49m\u001b[43m,\u001b[49m\u001b[43m \u001b[49m\u001b[43mdf\u001b[49m\u001b[43m,\u001b[49m\u001b[43m \u001b[49m\u001b[43mgrp_dest\u001b[49m\u001b[43m)\u001b[49m\n",
      "File \u001b[0;32m~/pro/IAEA/MARIS/marisco/marisco/encoders.py:79\u001b[0m, in \u001b[0;36mcopy_variables\u001b[0;34m(self, grp_name, df, grp_dest)\u001b[0m\n\u001b[1;32m     77\u001b[0m \u001b[38;5;28;01mfor\u001b[39;00m var_name, var_src \u001b[38;5;129;01min\u001b[39;00m \u001b[38;5;28mself\u001b[39m\u001b[38;5;241m.\u001b[39msrc\u001b[38;5;241m.\u001b[39mgroups[grp_name]\u001b[38;5;241m.\u001b[39mvariables\u001b[38;5;241m.\u001b[39mitems():\n\u001b[1;32m     78\u001b[0m     \u001b[38;5;28;01mif\u001b[39;00m var_name \u001b[38;5;129;01min\u001b[39;00m cols: \n\u001b[0;32m---> 79\u001b[0m         \u001b[38;5;28;43mself\u001b[39;49m\u001b[38;5;241;43m.\u001b[39;49m\u001b[43mcopy_variable\u001b[49m\u001b[43m(\u001b[49m\u001b[43mvar_name\u001b[49m\u001b[43m,\u001b[49m\u001b[43m \u001b[49m\u001b[43mvar_src\u001b[49m\u001b[43m,\u001b[49m\u001b[43m \u001b[49m\u001b[43mdf\u001b[49m\u001b[43m,\u001b[49m\u001b[43m \u001b[49m\u001b[43mgrp_dest\u001b[49m\u001b[43m)\u001b[49m\n",
      "File \u001b[0;32m~/pro/IAEA/MARIS/marisco/marisco/encoders.py:89\u001b[0m, in \u001b[0;36mcopy_variable\u001b[0;34m(self, var_name, var_src, df, grp_dest)\u001b[0m\n\u001b[1;32m     87\u001b[0m     \u001b[38;5;28mprint\u001b[39m(\u001b[38;5;241m80\u001b[39m\u001b[38;5;241m*\u001b[39m\u001b[38;5;124m'\u001b[39m\u001b[38;5;124m-\u001b[39m\u001b[38;5;124m'\u001b[39m)\n\u001b[1;32m     88\u001b[0m     \u001b[38;5;28mprint\u001b[39m(\u001b[38;5;124mf\u001b[39m\u001b[38;5;124m'\u001b[39m\u001b[38;5;124mGroup: \u001b[39m\u001b[38;5;132;01m{\u001b[39;00mgrp_dest\u001b[38;5;241m.\u001b[39mname\u001b[38;5;132;01m}\u001b[39;00m\u001b[38;5;124m, Variable: \u001b[39m\u001b[38;5;132;01m{\u001b[39;00mvar_name\u001b[38;5;132;01m}\u001b[39;00m\u001b[38;5;124m'\u001b[39m)\n\u001b[0;32m---> 89\u001b[0m \u001b[38;5;28;43mself\u001b[39;49m\u001b[38;5;241;43m.\u001b[39;49m\u001b[43m_create_and_copy_variable\u001b[49m\u001b[43m(\u001b[49m\u001b[43mvar_name\u001b[49m\u001b[43m,\u001b[49m\u001b[43m \u001b[49m\u001b[43mvar_src\u001b[49m\u001b[43m,\u001b[49m\u001b[43m \u001b[49m\u001b[43mdf\u001b[49m\u001b[43m,\u001b[49m\u001b[43m \u001b[49m\u001b[43mgrp_dest\u001b[49m\u001b[43m,\u001b[49m\u001b[43m \u001b[49m\u001b[43mdtype_name\u001b[49m\u001b[43m)\u001b[49m\n\u001b[1;32m     90\u001b[0m \u001b[38;5;28mself\u001b[39m\u001b[38;5;241m.\u001b[39mcopy_variable_attributes(var_name, var_src, grp_dest)\n",
      "File \u001b[0;32m~/pro/IAEA/MARIS/marisco/marisco/encoders.py:99\u001b[0m, in \u001b[0;36m_create_and_copy_variable\u001b[0;34m(self, var_name, var_src, df, grp_dest, dtype_name)\u001b[0m\n\u001b[1;32m     97\u001b[0m isNotEnum \u001b[38;5;241m=\u001b[39m \u001b[38;5;28mtype\u001b[39m(variable_type) \u001b[38;5;241m!=\u001b[39m netCDF4\u001b[38;5;241m.\u001b[39m_netCDF4\u001b[38;5;241m.\u001b[39mEnumType\n\u001b[1;32m     98\u001b[0m values \u001b[38;5;241m=\u001b[39m df[\u001b[38;5;28mself\u001b[39m\u001b[38;5;241m.\u001b[39mnc_to_cols[var_name]]\u001b[38;5;241m.\u001b[39mvalues\n\u001b[0;32m---> 99\u001b[0m \u001b[43mgrp_dest\u001b[49m\u001b[43m[\u001b[49m\u001b[43mvar_name\u001b[49m\u001b[43m]\u001b[49m\u001b[43m[\u001b[49m\u001b[43m:\u001b[49m\u001b[43m]\u001b[49m \u001b[38;5;241m=\u001b[39m values \u001b[38;5;28;01mif\u001b[39;00m isNotEnum \u001b[38;5;28;01melse\u001b[39;00m \u001b[38;5;28mself\u001b[39m\u001b[38;5;241m.\u001b[39msanitize_if_enum_and_nan(values)\n",
      "File \u001b[0;32msrc/netCDF4/_netCDF4.pyx:5442\u001b[0m, in \u001b[0;36mnetCDF4._netCDF4.Variable.__setitem__\u001b[0;34m()\u001b[0m\n",
      "\u001b[0;31mValueError\u001b[0m: trying to assign illegal value to Enum variable"
     ]
    }
   ],
   "source": [
    "#|eval: false\n",
    "encode(\n",
    "    fname_in, \n",
    "    dir_dest, \n",
    "    dataloader=dataloader,\n",
    "    verbose=False)"
   ]
  },
  {
   "cell_type": "code",
   "execution_count": null,
   "id": "19e74318",
   "metadata": {},
   "outputs": [],
   "source": []
  }
 ],
 "metadata": {
  "kernelspec": {
   "display_name": "python3",
   "language": "python",
   "name": "python3"
  }
 },
 "nbformat": 4,
 "nbformat_minor": 5
}

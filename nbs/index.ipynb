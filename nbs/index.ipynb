{
 "cells": [
  {
   "attachments": {},
   "cell_type": "markdown",
   "metadata": {},
   "source": [
    "# MARISCO\n",
    "\n",
    "> IAEA | MARIS data NetCDF encoders."
   ]
  },
  {
   "attachments": {},
   "cell_type": "markdown",
   "metadata": {},
   "source": [
    "The [IAEA Marine Radioactivity Information System (MARIS)](https://maris.iaea.org) provides open access to radioactivity measurements in marine environments. Developed by the [IAEA Environmental Laboratories](https://www.iaea.org/about/organizational-structure/department-of-nuclear-sciences-and-applications/division-of-iaea-environment-laboratories) in Monaco, MARIS offers data on seawater, biota, sediment, and suspended matter.\n",
    "\n",
    "This Python package includes command-line tools to convert MARIS datasets into [`NetCDF`](https://www.unidata.ucar.edu/software/netcdf/) or `.csv` formats, enhancing compatibility with various scientific and data analysis software."
   ]
  },
  {
   "cell_type": "markdown",
   "metadata": {},
   "source": [
    "## Core Concept: Handlers\n",
    "\n",
    "`marisco` is built around the concept of `handlers` - specialized modules designed to convert MARIS datasets into NetCDF format. Each handler is tailored to a specific data provider and implemented as a dedicated Jupyter notebook.\n",
    "\n",
    "### Literate Programming Approach\n",
    "\n",
    "We've adopted a Literate Programming approach, which means:\n",
    "\n",
    "1. **Documentation**: Each handler serves as comprehensive documentation.\n",
    "2. **Code Reference**: The notebooks contain the actual implementation code.\n",
    "3. **Communication Tool**: They facilitate discussions with data providers about discrepancies or inconsistencies.\n",
    "\n",
    "### Powered by nbdev\n",
    "\n",
    "To achieve this, we leverage [nbdev](https://nbdev.fast.ai), a powerful tool that allows us to:\n",
    "\n",
    "1. Write code within Jupyter notebooks\n",
    "2. Automatically export relevant parts as dedicated Python modules\n",
    "\n",
    "This approach bridges the gap between documentation and implementation, ensuring they remain in sync.\n",
    "\n",
    "### See It in Action\n",
    "\n",
    "For a concrete example of this approach, check out our [HELCOM dataset handler implementation](https://fr.anckalbi.net/marisco/handlers/helcom.html). \n",
    "\n",
    "\n",
    "\n",
    "Please note that this project is **still under development**.\n",
    "\n",
    "We have implemented the [MARIS Legacy handler](https://fr.anckalbi.net/marisco/handlers/maris_legacy.html) to convert all existing datasets from the MARIS master database into NetCDF format. For datasets that are frequently updated, such as [HELCOM](https://fr.anckalbi.net/marisco/handlers/helcom.html), [OSPAR](https://www.ospar.org/), and TEPCO/Fukushima-related datasets, individual handlers are currently being developed and will be available soon."
   ]
  },
  {
   "attachments": {},
   "cell_type": "markdown",
   "metadata": {},
   "source": [
    "## Install"
   ]
  },
  {
   "cell_type": "markdown",
   "metadata": {},
   "source": [
    "Now, to install `marisco` simply run \n",
    "\n",
    "```console\n",
    "pip install marisco\n",
    "```\n",
    "\n",
    "Once successfully installed, run the following command:\n",
    "```console\n",
    "maris_init\n",
    "```\n",
    "\n",
    "This command:\n",
    "\n",
    "1. creates a `.marisco/` directory containing various configuration/configurable files ((below)) in your `/home` directory;\n",
    "2. creates a `configs.toml` file containing default but configurable settings (default paths, ...); \n",
    "3. downloads several MARIS DB nomenclature/lookup table into `.marisco/lut/` directory;\n",
    "4. downloads `maris-template.nc`, the MARIS NetCDF4 template.\n"
   ]
  },
  {
   "cell_type": "markdown",
   "metadata": {},
   "source": [
    ":::{.callout-tip}\n",
    "\n",
    "For inexperienced Python users, please refers to [How to setup `Marisco` with Anaconda](https://github.com/franckalbinet/marisco/tree/main/install_configure_guide/windows_anaconda) or [How to setup `Marisco` with Windows Subsystem for Linux (WSL) and Visual Studio Code editor](https://github.com/franckalbinet/marisco/tree/main/install_configure_guide//windows_ubuntu_sub_system).\n",
    "\n",
    ":::"
   ]
  },
  {
   "cell_type": "markdown",
   "metadata": {},
   "source": [
    "### Zotero API key"
   ]
  },
  {
   "cell_type": "markdown",
   "metadata": {},
   "source": [
    "Upon conversion, `marisco` will automatically retrieve the bibliographic metadata of each MARIS dataset from [Zotero](https://www.zotero.org/). To do so, you need to define the following environment variable `ZOTERO_API_KEY` containing the MARIS Zotero API key. Please contact the MARIS team to get your API key.\n"
   ]
  },
  {
   "cell_type": "markdown",
   "metadata": {},
   "source": [
    "## Getting started"
   ]
  },
  {
   "attachments": {},
   "cell_type": "markdown",
   "metadata": {},
   "source": [
    "### Command line utilities\n",
    "\n",
    "All commands accept a `-h` argument to get access to its documentation."
   ]
  },
  {
   "attachments": {},
   "cell_type": "markdown",
   "metadata": {},
   "source": [
    "#### `maris_init`\n",
    "\n",
    "Donwload configuration file, NetCDF MAris template and required lookup tables (nomenclatures)."
   ]
  },
  {
   "attachments": {},
   "cell_type": "markdown",
   "metadata": {},
   "source": [
    "#### `maris_netcdfy`"
   ]
  },
  {
   "attachments": {},
   "cell_type": "markdown",
   "metadata": {},
   "source": [
    "Encode MARIS dataset as NetCDF"
   ]
  },
  {
   "attachments": {},
   "cell_type": "markdown",
   "metadata": {},
   "source": [
    "Positional arguments:\n",
    "\n",
    "- `handler_name`: Handler's name (e.g helcom, ...)\n",
    "- `str`: Path to dataset to encode\n",
    "- `dest`: Path to converted NetCDF4"
   ]
  },
  {
   "attachments": {},
   "cell_type": "markdown",
   "metadata": {},
   "source": [
    "Example:\n",
    "    \n",
    "```console\n",
    "maris_netcdfy helcom _data/accdb/mors/csv _data/output/helcom.nc\n",
    "```"
   ]
  },
  {
   "attachments": {},
   "cell_type": "markdown",
   "metadata": {},
   "source": [
    "## Development"
   ]
  },
  {
   "cell_type": "markdown",
   "metadata": {},
   "source": [
    "The MARIS NetCDF template is generated from `nbs/files/cdl/maris.cdl` Common Data Language (CDL) file as defined by [Unidata](https://docs.unidata.ucar.edu/). To generate the MARIS NetCDF template `nbs/files/nc/maris-template.nc`, install the [NetCDF-C](https://pjbartlein.github.io/REarthSysSci/install_netCDF.html) utilities, once in `Marisco` home directory, run:\n",
    "\n",
    "```console\n",
    "ncgen -4 -o nc/maris-template.nc cdl/maris.cdl\n",
    "```\n"
   ]
  }
 ],
 "metadata": {
  "kernelspec": {
   "display_name": "python3",
   "language": "python",
   "name": "python3"
  }
 },
 "nbformat": 4,
 "nbformat_minor": 4
}

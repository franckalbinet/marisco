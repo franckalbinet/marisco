{
 "cells": [
  {
   "cell_type": "markdown",
   "metadata": {},
   "source": [
    "# marisco (WIP)\n",
    "\n",
    "> IAEA/MARIS utilities"
   ]
  },
  {
   "cell_type": "markdown",
   "metadata": {},
   "source": [
    "The IAEA [Marine Radioactivity Information System (**MARIS**)](https://maris.iaea.org) allows free access to users to search and download the results of measurements of radioactivity in seawater, biota, sediment and suspended matter. MARIS is maintained and developed by the [IAEA Environmental Laboratories](https://www.iaea.org/about/organizational-structure/department-of-nuclear-sciences-and-applications/division-of-iaea-environment-laboratories) in Monaco.\n",
    "\n",
    "\n",
    "The present Python package provides command-line utilities to:\n",
    "\n",
    "1. Encode harvested datasets as `NetCDF` or `.csv` formats\n",
    "2. Interact with the [IAEA Open Data platform soon available](...)\n",
    "3. Provide data preprocessing pipelines for ad-hoc datasets\n",
    "4. ..."
   ]
  },
  {
   "cell_type": "markdown",
   "metadata": {},
   "source": [
    "## Prerequisites"
   ]
  },
  {
   "cell_type": "markdown",
   "metadata": {},
   "source": [
    "We recommend to use the [\"Mamba\" python package manager](https://mamba.readthedocs.io) to create a clean and \"deterministic\" python environment.\n",
    "\n",
    "Once installed, a typical Mamba workflow could be:\n",
    "\n",
    "```console\n",
    "# Create an isolated env. with your prefered python version\n",
    "mamba create -n name-of-your-env python=3.9 \n",
    "\n",
    "# Then\n",
    "mamba activate name-of-your-env\n",
    "mamba install your-packages-of-interest\n",
    "mamba deactivate # To quit your environment\n",
    "```\n"
   ]
  },
  {
   "cell_type": "markdown",
   "metadata": {},
   "source": [
    "## Install & configuration"
   ]
  },
  {
   "cell_type": "markdown",
   "metadata": {},
   "source": [
    "Now, to install `marisco` simply run \n",
    "\n",
    "```console\n",
    "pip install marisco\n",
    "```\n",
    "\n",
    "Once successfully installed, run the following command:\n",
    "```console\n",
    "maris_init\n",
    "```\n",
    "\n",
    "This script will create a `.marisco/` directory containing various configuration/configurable files in your `/home` directory.\n",
    "\n",
    "*Notes: conda/mamba installer available soon.*\n"
   ]
  },
  {
   "cell_type": "markdown",
   "metadata": {},
   "source": [
    "## How to use"
   ]
  },
  {
   "cell_type": "markdown",
   "metadata": {},
   "source": [
    "### Command line utilities\n",
    "\n",
    "All commands accept a `-h` argument to get access to its documentation."
   ]
  },
  {
   "cell_type": "markdown",
   "metadata": {},
   "source": [
    "#### `maris_init`\n",
    "Create configuration files, MARIS NetCDF CDL (Common Data Language) and donwload required lookup tables (nomenclatures)."
   ]
  },
  {
   "cell_type": "markdown",
   "metadata": {},
   "source": [
    "#### `maris_create_nc_template`"
   ]
  },
  {
   "cell_type": "markdown",
   "metadata": {},
   "source": [
    "Generate MARIS NetCDF template to be used when encoding datasets"
   ]
  },
  {
   "cell_type": "markdown",
   "metadata": {},
   "source": [
    "#### `maris_netcdfy`"
   ]
  },
  {
   "cell_type": "markdown",
   "metadata": {},
   "source": [
    "Encode a MARIS dataset as NetCDF4.\n",
    "\n",
    "\n",
    "```bash\n",
    "usage: maris_netcdfy [-h] n\n",
    "\n",
    "Encode MARIS dataset as NetCDF using Jupyter Notebook handlers\n",
    "\n",
    "positional arguments:\n",
    "  n           Noteboook (NetCDF handler) path to execute\n",
    "\n",
    "options:\n",
    "  -h, --help  show this help message and exit\n",
    "  \n",
    "```\n",
    "\n"
   ]
  },
  {
   "cell_type": "markdown",
   "metadata": {},
   "source": [
    "Example:\n",
    "\n",
    "```sh\n",
    "maris_netcdfy name-of-notebook-handlers.ipynb\n",
    "```"
   ]
  }
 ],
 "metadata": {
  "kernelspec": {
   "display_name": "Python 3 (ipykernel)",
   "language": "python",
   "name": "python3"
  }
 },
 "nbformat": 4,
 "nbformat_minor": 4
}

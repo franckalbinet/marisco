{
 "cells": [
  {
   "attachments": {},
   "cell_type": "markdown",
   "metadata": {},
   "source": [
    "# Marisco\n",
    "\n",
    "> IAEA/MARIS data NetCDF encoders"
   ]
  },
  {
   "attachments": {},
   "cell_type": "markdown",
   "metadata": {},
   "source": [
    "The IAEA [Marine Radioactivity Information System (**MARIS**)](https://maris.iaea.org) allows free access to users to search and download the results of measurements of radioactivity in seawater, biota, sediment and suspended matter. MARIS is maintained and developed by the [IAEA Environmental Laboratories](https://www.iaea.org/about/organizational-structure/department-of-nuclear-sciences-and-applications/division-of-iaea-environment-laboratories) in Monaco.\n",
    "\n",
    "\n",
    "The current Python package offers command-line utilities for encoding MARIS harvested datasets into [`NetCDF`](https://www.unidata.ucar.edu/software/netcdf/) or `.csv` formats. This allows to convert **MARIS data into a format that is compatible with a wide range of scientific and data analysis tools**."
   ]
  },
  {
   "attachments": {},
   "cell_type": "markdown",
   "metadata": {},
   "source": [
    "## Install"
   ]
  },
  {
   "cell_type": "markdown",
   "metadata": {},
   "source": [
    "Now, to install `marisco` simply run \n",
    "\n",
    "```console\n",
    "pip install marisco\n",
    "```\n",
    "\n",
    "Once successfully installed, run the following command:\n",
    "```console\n",
    "maris_init\n",
    "```\n",
    "\n",
    "This command:\n",
    "\n",
    "1. creates a `.marisco/` directory containing various configuration/configurable files ((below)) in your `/home` directory\n",
    "2. creates a `configs.toml` file containing default but configurable settings (default paths, ...)\n",
    "3. creates a configurable `cdl.toml` file used to generate a MARIS [NetCDF4 CDL (Common Data Language)](https://www.unidata.ucar.edu/software/netcdf/workshops/most-recent/nc3model/Cdl.html) template;\n",
    "4. downloads several MARIS DB nomenclature/lookup table into `.marisco/lut/` directory\n",
    "5. generate `maris-template.nc`, the MARIS NetCDF4 template generated from `cdl.toml` and use to encode MARIS datasets"
   ]
  },
  {
   "cell_type": "markdown",
   "metadata": {},
   "source": [
    ":::{.callout-tip}\n",
    "\n",
    "For inexperienced Python users, please refers to [How to setup `Marisco` with Anaconda](https://github.com/franckalbinet/marisco/tree/main/install_configure_guide/windows_anaconda) or [How to setup `Marisco` with Windows Subsystem for Linux (WSL) and Visual Studio Code editor](https://github.com/franckalbinet/marisco/tree/main/install_configure_guide//windows_ubuntu_sub_system).\n",
    "\n",
    ":::"
   ]
  },
  {
   "cell_type": "markdown",
   "metadata": {},
   "source": [
    "### Zotero API key"
   ]
  },
  {
   "cell_type": "markdown",
   "metadata": {},
   "source": [
    "Upon conversion, `marisco` will automatically retrieve the bibliographic metadata of each MARIS dataset from [Zotero](https://www.zotero.org/). To do so, you need to define the following environment variable `ZOTERO_API_KEY` containing the MARIS Zotero API key. Please contact the MARIS team to get your API key.\n"
   ]
  },
  {
   "cell_type": "markdown",
   "metadata": {},
   "source": [
    "## Getting started"
   ]
  },
  {
   "attachments": {},
   "cell_type": "markdown",
   "metadata": {},
   "source": [
    "### Command line utilities\n",
    "\n",
    "All commands accept a `-h` argument to get access to its documentation."
   ]
  },
  {
   "attachments": {},
   "cell_type": "markdown",
   "metadata": {},
   "source": [
    "#### `maris_init`\n",
    "\n",
    "Create configuration files, MARIS NetCDF CDL (Common Data Language) and donwload required lookup tables (nomenclatures)."
   ]
  },
  {
   "attachments": {},
   "cell_type": "markdown",
   "metadata": {},
   "source": [
    "#### `maris_create_nc_template`"
   ]
  },
  {
   "attachments": {},
   "cell_type": "markdown",
   "metadata": {},
   "source": [
    "Generate MARIS NetCDF template to be used when encoding datasets"
   ]
  },
  {
   "attachments": {},
   "cell_type": "markdown",
   "metadata": {},
   "source": [
    "#### `maris_netcdfy`"
   ]
  },
  {
   "attachments": {},
   "cell_type": "markdown",
   "metadata": {},
   "source": [
    "Encode MARIS dataset as NetCDF"
   ]
  },
  {
   "attachments": {},
   "cell_type": "markdown",
   "metadata": {},
   "source": [
    "Positional arguments:\n",
    "\n",
    "- `handler_name`: Handler's name (e.g helcom, ...)\n",
    "- `str`: Path to dataset to encode\n",
    "- `dest`: Path to converted NetCDF4"
   ]
  },
  {
   "attachments": {},
   "cell_type": "markdown",
   "metadata": {},
   "source": [
    "Example:\n",
    "    \n",
    "```console\n",
    "maris_netcdfy helcom _data/accdb/mors/csv _data/output/helcom.nc\n",
    "```"
   ]
  },
  {
   "attachments": {},
   "cell_type": "markdown",
   "metadata": {},
   "source": [
    "## Development"
   ]
  },
  {
   "attachments": {},
   "cell_type": "markdown",
   "metadata": {},
   "source": [
    "### FAQ"
   ]
  },
  {
   "attachments": {},
   "cell_type": "markdown",
   "metadata": {},
   "source": [
    "#### How is `cdl.toml` created & what it is used for?"
   ]
  },
  {
   "attachments": {},
   "cell_type": "markdown",
   "metadata": {},
   "source": [
    "A Python dictionary named `CONFIGS_CDL` specifying MARIS NetCDF attributes, variables, dimensions, ... is defined in `nbs/api/configs.ipynb` in the first instance. Running the command `maris_init` will generate a [`toml`](https://www.wikiwand.com/fr/TOML) version of it named `.marisco/cdl.toml` further used to create a MARIS NetCDF template named in `.marisco/maris-template.nc`.\n",
    "\n",
    "Once `marisco` installed, further customization of the MARIS NetCDF template can be done directly through `.marisco/cdl.toml` file then running the command `maris_create_nc_template`."
   ]
  }
 ],
 "metadata": {
  "kernelspec": {
   "display_name": "python3",
   "language": "python",
   "name": "python3"
  }
 },
 "nbformat": 4,
 "nbformat_minor": 4
}

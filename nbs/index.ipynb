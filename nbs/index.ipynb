{
 "cells": [
  {
   "attachments": {},
   "cell_type": "markdown",
   "metadata": {},
   "source": [
    "# marisco\n",
    "\n",
    "> IAEA/MARIS utilities"
   ]
  },
  {
   "attachments": {},
   "cell_type": "markdown",
   "metadata": {},
   "source": [
    "The IAEA [Marine Radioactivity Information System (**MARIS**)](https://maris.iaea.org) allows free access to users to search and download the results of measurements of radioactivity in seawater, biota, sediment and suspended matter. MARIS is maintained and developed by the [IAEA Environmental Laboratories](https://www.iaea.org/about/organizational-structure/department-of-nuclear-sciences-and-applications/division-of-iaea-environment-laboratories) in Monaco.\n",
    "\n",
    "\n",
    "The present Python package provides command-line utilities to:\n",
    "\n",
    "1. Encode harvested datasets as `NetCDF` or `.csv` formats\n",
    "2. Interact with the [IAEA Open Data platform soon available](...)\n",
    "3. Provide data preprocessing pipelines for ad-hoc datasets\n",
    "4. ..."
   ]
  },
  {
   "attachments": {},
   "cell_type": "markdown",
   "metadata": {},
   "source": [
    "## Prerequisites"
   ]
  },
  {
   "attachments": {},
   "cell_type": "markdown",
   "metadata": {},
   "source": [
    "We recommend to use the [\"Mamba\" python package manager](https://mamba.readthedocs.io) to create a clean and \"deterministic\" python environment.\n",
    "\n",
    "Once installed, a typical Mamba workflow could be:\n",
    "\n",
    "```console\n",
    "# Create an isolated env. with your prefered python version\n",
    "mamba create -n name-of-your-env python=3.9 \n",
    "\n",
    "# Then\n",
    "mamba activate name-of-your-env\n",
    "mamba install your-packages-of-interest\n",
    "mamba deactivate # To quit your environment\n",
    "```\n"
   ]
  },
  {
   "attachments": {},
   "cell_type": "markdown",
   "metadata": {},
   "source": [
    "## Install & configuration"
   ]
  },
  {
   "attachments": {},
   "cell_type": "markdown",
   "metadata": {},
   "source": [
    "Now, to install `marisco` simply run \n",
    "\n",
    "```console\n",
    "pip install marisco\n",
    "```\n",
    "\n",
    "Once successfully installed, run the following command:\n",
    "```console\n",
    "maris_init\n",
    "```\n",
    "\n",
    "This script will create a `.marisco/` directory containing various configuration/configurable files in your `/home` directory including:\n",
    "\n",
    "- `cdl.toml`: MARIS [NetCDF4 CDL (Common Data Language](https://www.unidata.ucar.edu/software/netcdf/workshops/most-recent/nc3model/Cdl.html). \n",
    "- `configs.toml`: contains several configurable constants, default paths, ...\n",
    "- `lut/`: directory containing several MARIS DB nomenclature files\n",
    "- `maris-template.nc`: MARIS NetCDF4 template generated from the `cdl` and use to encode MARIS datasets\n",
    "\n",
    "*Notes: `conda/mamba` installer will be also available soon.*\n"
   ]
  },
  {
   "attachments": {},
   "cell_type": "markdown",
   "metadata": {},
   "source": [
    "## How to use"
   ]
  },
  {
   "attachments": {},
   "cell_type": "markdown",
   "metadata": {},
   "source": [
    "### Command line utilities\n",
    "\n",
    "All commands accept a `-h` argument to get access to its documentation."
   ]
  },
  {
   "attachments": {},
   "cell_type": "markdown",
   "metadata": {},
   "source": [
    "#### `maris_init`\n",
    "\n",
    "Create configuration files, MARIS NetCDF CDL (Common Data Language) and donwload required lookup tables (nomenclatures)."
   ]
  },
  {
   "attachments": {},
   "cell_type": "markdown",
   "metadata": {},
   "source": [
    "#### `maris_create_nc_template`"
   ]
  },
  {
   "attachments": {},
   "cell_type": "markdown",
   "metadata": {},
   "source": [
    "Generate MARIS NetCDF template to be used when encoding datasets"
   ]
  },
  {
   "attachments": {},
   "cell_type": "markdown",
   "metadata": {},
   "source": [
    "#### `maris_netcdfy`"
   ]
  },
  {
   "attachments": {},
   "cell_type": "markdown",
   "metadata": {},
   "source": [
    "Encode MARIS dataset as NetCDF"
   ]
  },
  {
   "attachments": {},
   "cell_type": "markdown",
   "metadata": {},
   "source": [
    "Positional arguments:\n",
    "\n",
    "- `handler_name`: Handler's name (e.g helcom, ...)\n",
    "- `str`: Path to dataset to encode\n",
    "- `dest`: Path to converted NetCDF4"
   ]
  },
  {
   "attachments": {},
   "cell_type": "markdown",
   "metadata": {},
   "source": [
    "Example:\n",
    "    \n",
    "```console\n",
    "maris_netcdfy helcom _data/accdb/mors/csv _data/output/helcom.nc\n",
    "```"
   ]
  },
  {
   "attachments": {},
   "cell_type": "markdown",
   "metadata": {},
   "source": [
    "## Development"
   ]
  },
  {
   "attachments": {},
   "cell_type": "markdown",
   "metadata": {},
   "source": [
    "### FAQ"
   ]
  },
  {
   "attachments": {},
   "cell_type": "markdown",
   "metadata": {},
   "source": [
    "#### How is `cdl.toml` created & what it is used for?"
   ]
  },
  {
   "attachments": {},
   "cell_type": "markdown",
   "metadata": {},
   "source": [
    "A Python dictionary named `CONFIGS_CDL` specifying MARIS NetCDF attributes, variables, dimensions, ... is defined in `nbs/api/configs.ipynb` in the first instance. Running the command `maris_init` will generate a [`toml`](https://www.wikiwand.com/fr/TOML) version of it named `.marisco/cdl.toml` further used to create a MARIS NetCDF template named in `.marisco/maris-template.nc`.\n",
    "\n",
    "Once `marisco` installed, further customization of the MARIS NetCDF template can be done directly through `.marisco/cdl.toml` file then running the command `maris_create_nc_template`."
   ]
  },
  {
   "attachments": {},
   "cell_type": "markdown",
   "metadata": {},
   "source": [
    "### TBD"
   ]
  },
  {
   "attachments": {},
   "cell_type": "markdown",
   "metadata": {},
   "source": [
    "- dedicated `.env` file to contain various API keys"
   ]
  },
  {
   "cell_type": "code",
   "execution_count": null,
   "metadata": {},
   "outputs": [],
   "source": []
  }
 ],
 "metadata": {
  "kernelspec": {
   "display_name": "Python 3 (ipykernel)",
   "language": "python",
   "name": "python3"
  }
 },
 "nbformat": 4,
 "nbformat_minor": 4
}

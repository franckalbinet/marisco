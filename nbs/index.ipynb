{
 "cells": [
  {
   "attachments": {},
   "cell_type": "markdown",
   "metadata": {},
   "source": [
    "# MARISCO\n",
    "\n",
    "> IAEA | MARIS data NetCDF encoders"
   ]
  },
  {
   "attachments": {},
   "cell_type": "markdown",
   "metadata": {},
   "source": [
    "The [IAEA **M**arine **R**adioactivity **I**nformation **S**ystem (MARIS)](https://maris.iaea.org) provides open access to radioactivity measurements in marine environments. Developed by the [IAEA Marine Environmental Laboratories](https://www.iaea.org/about/organizational-structure/department-of-nuclear-sciences-and-applications/division-of-iaea-environment-laboratories) in Monaco, MARIS offers data on seawater, biota, sediment, and suspended matter.\n",
    "\n",
    "This Python package includes command-line tools to convert MARIS datasets into [`NetCDF`](https://www.unidata.ucar.edu/software/netcdf/) or `.csv` formats, enhancing compatibility with various scientific and data analysis software."
   ]
  },
  {
   "cell_type": "markdown",
   "metadata": {},
   "source": [
    "## Core Concept: Handlers\n",
    "\n",
    "`marisco` is built around the concept of `handlers` - specialized modules designed to convert MARIS datasets into NetCDF format. Each handler is tailored to a specific data provider and implemented as a dedicated Jupyter notebook.\n",
    "\n",
    "### Literate Programming Approach\n",
    "\n",
    "We've adopted a Literate Programming approach, which means:\n",
    "\n",
    "1. **Documentation**: Each handler serves as comprehensive documentation.\n",
    "2. **Code Reference**: The notebooks contain the actual implementation code.\n",
    "3. **Communication Tool**: They facilitate discussions with data providers about discrepancies or inconsistencies.\n",
    "\n",
    "### Powered by nbdev\n",
    "\n",
    "To achieve this, we leverage [nbdev](https://nbdev.fast.ai), a powerful tool that allows us to:\n",
    "\n",
    "1. Write code within Jupyter notebooks\n",
    "2. Automatically export relevant parts as dedicated Python modules\n",
    "\n",
    "This approach bridges the gap between documentation and implementation, ensuring they remain in sync.\n",
    "\n",
    "### See It in Action\n",
    "\n",
    "For a concrete example of this approach, check out our [OSPAR dataset handler implementation](https://fr.anckalbi.net/marisco/handlers/ospar.html). \n",
    "\n",
    "### List of currently available handlers\n",
    "\n",
    "MARISCO includes a suite of specialized data handlers designed to:\n",
    "\n",
    "- Convert provider-specific data formats into standardized MARIS NetCDF files\n",
    "- Ensure data quality and consistency across providers\n",
    "- Facilitate integration with the MARIS marine radioactivity database\n",
    "- Support automated data processing workflows\n",
    "\n",
    "The following handlers are currently implemented:\n",
    "\n",
    "| Handler | Description | Link to Data Source |\n",
    "|---------|------------|-------------|\n",
    "| [MARIS Legacy](https://fr.anckalbi.net/marisco/handlers/maris_legacy.html) | All legacy MARIS datasets from the MARIS Master Database | - |\n",
    "| [HELCOM](https://fr.anckalbi.net/marisco/handlers/helcom.html) | HELCOM marine environment protection datasets | [HELCOM](https://helcom.fi/about-us) |\n",
    "| [OSPAR](https://fr.anckalbi.net/marisco/handlers/ospar.html) | OSPAR marine environment datasets | [ODIMS OSPAR](https://odims.ospar.org/en/) |\n",
    "| [TEPCO](https://fr.anckalbi.net/marisco/handlers/tepco.html) | TEPCO Fukushima monitoring data | [TEPCO Monitoring](https://radioactivity.nsr.go.jp/ja/list/349/list-1.html) |\n",
    "| [GEOTRACES](https://fr.anckalbi.net/marisco/handlers/geotraces.html) | BODC GEOTRACES oceanographic data | [GEOTRACES IDP2021](https://www.geotraces.org/geotraces-intermediate-data-product-2021/) |"
   ]
  },
  {
   "attachments": {},
   "cell_type": "markdown",
   "metadata": {},
   "source": [
    "## Install"
   ]
  },
  {
   "cell_type": "markdown",
   "metadata": {},
   "source": [
    "Now, to install `marisco` simply run \n",
    "\n",
    "```console\n",
    "pip install marisco\n",
    "```\n",
    "\n",
    "Once successfully installed, run the following command:\n",
    "```console\n",
    "maris_init\n",
    "```\n",
    "\n",
    "This command:\n",
    "\n",
    "1. creates a `.marisco/` directory containing various configuration/configurable files ((below)) in your `/home` directory;\n",
    "2. creates a `configs.toml` file containing default but configurable settings (default paths, ...); \n",
    "3. downloads several MARIS DB nomenclature/lookup table into `.marisco/lut/` directory;\n",
    "4. downloads `maris-template.nc`, the MARIS NetCDF4 template.\n"
   ]
  },
  {
   "cell_type": "markdown",
   "metadata": {},
   "source": [
    "### Zotero API key"
   ]
  },
  {
   "cell_type": "markdown",
   "metadata": {},
   "source": [
    "Upon conversion, `marisco` will automatically retrieve the bibliographic metadata of each MARIS dataset from [Zotero](https://www.zotero.org/). To do so, you need to define the following environment variable `ZOTERO_API_KEY` containing the MARIS Zotero API key. Please contact the MARIS team to get your API key.\n"
   ]
  },
  {
   "cell_type": "markdown",
   "metadata": {},
   "source": [
    "## Getting started"
   ]
  },
  {
   "attachments": {},
   "cell_type": "markdown",
   "metadata": {},
   "source": [
    "### Command line utilities\n",
    "\n",
    "All commands accept a `-h` argument to get access to its documentation."
   ]
  },
  {
   "attachments": {},
   "cell_type": "markdown",
   "metadata": {},
   "source": [
    "#### `maris_init`\n",
    "\n",
    "Download configuration file, NetCDF MARIS template and required lookup tables (nomenclatures)."
   ]
  },
  {
   "attachments": {},
   "cell_type": "markdown",
   "metadata": {},
   "source": [
    "#### `maris_to_nc`"
   ]
  },
  {
   "attachments": {},
   "cell_type": "markdown",
   "metadata": {},
   "source": [
    "Convert `helcom`, `geotraces`, `tepco` or `ospar` marine radioactivity datasets to MARIS NetCDF4 format."
   ]
  },
  {
   "cell_type": "markdown",
   "metadata": {},
   "source": [
    "```\n",
    "usage: maris_to_nc [-h] [--src SRC] ds dest\n",
    "\n",
    "positional arguments:\n",
    "  ds          Name of the dataset to encode as NetCDF4\n",
    "  dest        Output path for NetCDF file\n",
    "\n",
    "options:\n",
    "  -h, --help  show this help message and exit\n",
    "  --src SRC   Optional input data path only required for the 'GEOTRACES' dataset\n",
    "```\n"
   ]
  },
  {
   "attachments": {},
   "cell_type": "markdown",
   "metadata": {},
   "source": [
    "For instance: `maris_to_nc ospar 191-OSPAR-2024.nc`"
   ]
  },
  {
   "cell_type": "markdown",
   "metadata": {},
   "source": [
    "#### `maris_db_to_nc`"
   ]
  },
  {
   "cell_type": "markdown",
   "metadata": {},
   "source": [
    "The MARIS Master Database integrates two types of datasets:\n",
    "\n",
    "- Historical datasets retrieved from published scientific papers\n",
    "- Ongoing monitoring data from international programs like `HELCOM`, `OSPAR`, `TEPCO`, and `GEOTRACES`\n",
    "\n",
    "This command-line utility converts MARIS datasets from their legacy format to NetCDF4, making them more accessible for modern data analysis workflows. Users can either convert the entire database or specify particular datasets by their reference IDs for selective conversion."
   ]
  },
  {
   "cell_type": "markdown",
   "metadata": {},
   "source": [
    "```\n",
    "usage: maris_db_to_nc [-h] [--ref_ids REF_IDS] src dest\n",
    "\n",
    "Convert MARIS legacy database to NetCDF4 format. If ref_ids is provided as comma-separated values, only encodes those subsets.\n",
    "\n",
    "positional arguments:\n",
    "  src                Path to MARIS database dump as `.txt` file\n",
    "  dest               Output path for NetCDF file(s)\n",
    "\n",
    "options:\n",
    "  -h, --help         show this help message and exit\n",
    "  --ref_ids REF_IDS  Optional comma-separated reference IDs (e.g., \"123,456,789\") (default: )\n",
    "```"
   ]
  },
  {
   "cell_type": "markdown",
   "metadata": {},
   "source": [
    "For instance:\n",
    "\n",
    "- `maris_db_to_nc \"~/pro/data/maris/2024-11-20 MARIS_QA_shapetype_id=1.txt\" ~/pro/tmp/output`   \n",
    "- or `maris_db_to_nc \"~/pro/data/maris/2024-11-20 MARIS_QA_shapetype_id=1.txt\" ~/pro/tmp/output --ref_ids=\"16,30\"` for a subset of the MARIS Master Database."
   ]
  },
  {
   "cell_type": "markdown",
   "metadata": {},
   "source": [
    "#### `maris_nc_to_csv`"
   ]
  },
  {
   "cell_type": "markdown",
   "metadata": {},
   "source": [
    "This utility converts NetCDF files to CSV files that conform to the MARIS Standard format, originally designed for OpenRefine workflows.\n",
    "\n",
    "Although MARISCO has now superseded OpenRefine in the data preparation pipeline, the MARIS master database continues to require CSV inputs in this legacy format. This command-line utility, built with the MARISCO library, handles the conversion process."
   ]
  },
  {
   "cell_type": "markdown",
   "metadata": {},
   "source": [
    "```\n",
    "usage: maris_nc_to_csv [-h] src dest\n",
    "\n",
    "Converts NetCDF files into CSV files that follow the MARIS Standard format.\n",
    "\n",
    "positional arguments:\n",
    "  src         Input path and filename for NetCDF file\n",
    "  dest        Output path and filename (without extension) for CSV file\n",
    "\n",
    "options:\n",
    "  -h, --help  show this help message and exit\n",
    "```"
   ]
  },
  {
   "cell_type": "markdown",
   "metadata": {},
   "source": [
    "For instance: `maris_nc_to_csv ~/pro/tmp/output/191-OSPAR-2024.nc ~/pro/tmp/output/191-OSPAR-2024` "
   ]
  },
  {
   "cell_type": "markdown",
   "metadata": {},
   "source": [
    "::: {.callout-tip}\n",
    "## Note\n",
    "\n",
    "When specifying the destination path (e.g., `~/pro/tmp/output/191-OSPAR-2024`), the utility automatically appends the MARIS sample type to the filename. For example:\n",
    "\n",
    "- `191-OSPAR-2024_BIOTA.csv` for biological samples\n",
    "\n",
    "While this specific example produces only a BIOTA file, the utility can generate multiple files (one per sample type) depending on the content of the source dataset. This reflects the NetCDF4 file structure, where each MARIS sample type is stored as a separate group within the file.\n",
    ":::"
   ]
  },
  {
   "attachments": {},
   "cell_type": "markdown",
   "metadata": {},
   "source": [
    "## Development"
   ]
  },
  {
   "cell_type": "markdown",
   "metadata": {},
   "source": [
    "As already explained the `maris_init` command will download the `maris-template.nc` file from [MARISCO GitHub repository](https://github.com/franckalbinet/marisco) from the following path: `nbs/api/files/nc/maris-template.nc` to your home directory under `.marisco/` folder.\n",
    "\n",
    "You have to know that the MARIS NetCDF template is generated from `nbs/api/files/cdl/maris.cdl` Common Data Language (CDL) file as defined by [Unidata](https://docs.unidata.ucar.edu/). During development, to generate the MARIS NetCDF template `nbs/api/files/nc/maris-template.nc`:\n",
    "\n",
    "1. install the [NetCDF-C](https://pjbartlein.github.io/REarthSysSci/install_netCDF.html) utilities\n",
    "2. once in `Marisco` home directory, run: \n",
    "\n",
    "```console\n",
    "ncgen -4 -o nbs/files/nc/maris-template.nc nbs/files/cdl/maris.cdl\n",
    "cp nbs/files/nc/maris-template.nc ~/.marisco/\n",
    "```\n",
    "\n"
   ]
  }
 ],
 "metadata": {
  "kernelspec": {
   "display_name": ".venv",
   "language": "python",
   "name": "python3"
  },
  "language_info": {
   "name": "python",
   "version": "3.10.16"
  }
 },
 "nbformat": 4,
 "nbformat_minor": 4
}

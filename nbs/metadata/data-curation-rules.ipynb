{
 "cells": [
  {
   "cell_type": "markdown",
   "id": "416a6a41",
   "metadata": {},
   "source": [
    "# Data curation rules"
   ]
  },
  {
   "cell_type": "markdown",
   "id": "5709cfb6",
   "metadata": {},
   "source": [
    "> What are the data curation rules applied to MARIS data compilation?"
   ]
  },
  {
   "cell_type": "markdown",
   "id": "1f6c4823",
   "metadata": {},
   "source": [
    "This document outlines the rules and guidelines followed when curating data in the MARIS database, including:\n",
    "- Data validation criteria\n",
    "- Quality control measures\n",
    "- Standardization procedures\n",
    "- Handling of duplicate measurements\n",
    "- Treatment of missing values"
   ]
  },
  {
   "cell_type": "markdown",
   "id": "6fae9692",
   "metadata": {},
   "source": [
    "## Sample preparation methods"
   ]
  },
  {
   "cell_type": "markdown",
   "id": "95d97151",
   "metadata": {},
   "source": [
    "At some occasions, `biota` samples measurements are reported both in dry and wet weight for a given `sample` and `nuclide`.\n",
    "\n",
    "When for a given `sample` and `nuclide`, sample preparation methods are reported, MARIS will follow the following rules:\n",
    "\n",
    "1. if sample preparation method is reported as `wet` only, then report measurement on a wet basis (in `Bq/kg wet`)\n",
    "2. if sample preparation method is reported as `dry` only, then report measurement on a dry basis (in `Bq/kg dry`   )\n",
    "3. if sample preparation method is reported as both `wet` and `dry`, then report measurement on a wet basis (in `Bq/kg wet`) but also calculate and report `percent wet weight`."
   ]
  },
  {
   "cell_type": "markdown",
   "id": "8ef8823e",
   "metadata": {},
   "source": [
    "WIP ..."
   ]
  }
 ],
 "metadata": {
  "kernelspec": {
   "display_name": "python3",
   "language": "python",
   "name": "python3"
  }
 },
 "nbformat": 4,
 "nbformat_minor": 5
}

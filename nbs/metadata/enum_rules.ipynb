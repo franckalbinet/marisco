{
 "cells": [
  {
   "cell_type": "markdown",
   "metadata": {},
   "source": [
    "# Enum rules"
   ]
  },
  {
   "cell_type": "markdown",
   "metadata": {},
   "source": [
    "Enums are created from a lookup table (LUT) to map the values in the source data to the values in the NetCDF file. An Enum can be created using the ``nc.createEnumType`` method. The createEnumType(self, datatype, datatype_name, enum_dict) method requires three arguments:\n",
    "\n",
    "- ``datatype``: The data type of the enum, e.g. ``np.int64``.\n",
    "- ``datatype_name``: The name of the enum, e.g. ``'sed_type_t'``.\n",
    "- ``enum_dict``: A dictionary that maps the values in the source data to the values in the NetCDF file, e.g. ``{'Not applicable': -1, 'Not available': 0, 'Clay': 1, 'Gravel': 2, ...}``.\n",
    "\n",
    "The key of the enum_dict dictionary cannot contain illegal characters. "
   ]
  },
  {
   "cell_type": "markdown",
   "metadata": {},
   "source": [
    "Illegal Characters and Constraints:\n",
    "\n",
    "Special Characters:\n",
    "\n",
    "     Names cannot include the characters:\n",
    "          / (forward slash)\n",
    "         \\ (backslash)\n",
    "        - . (dot) at the beginning of a name\n",
    "        - @ (at symbol)\n",
    "        - : (colon)\n",
    "        - Control characters (ASCII codes 0–31 and 127)\n",
    "\n",
    "Reserved Characters:\n",
    "\n",
    "    Names starting with _ are reserved for system use in certain NetCDF conventions."
   ]
  },
  {
   "cell_type": "markdown",
   "metadata": {},
   "source": [
    "Lets write a function that checks if the key of the enum_dict dictionary contains illegal characters or reserved characters."
   ]
  },
  {
   "cell_type": "code",
   "execution_count": null,
   "metadata": {},
   "outputs": [],
   "source": [
    "#| eval: false\n",
    "import pandas as pd\n",
    "from marisco.configs import NC_DTYPES, lut_path"
   ]
  },
  {
   "cell_type": "code",
   "execution_count": null,
   "metadata": {},
   "outputs": [],
   "source": [
    "#| eval: false\n",
    "def check_lut_characters():\n",
    "    illegal_chars = ['\\\\', '@', ':', '•', '\"'] + [chr(i) for i in range(32)] + [chr(127)]\n",
    "    reserved_start_char = '_'\n",
    "    print('illegal_chars', illegal_chars)\n",
    "    for lut_name, lut_details in NC_DTYPES.items():\n",
    "        print(lut_name)\n",
    "        # Construct the file path\n",
    "        file_path = lut_path() / lut_details['fname']\n",
    "        \n",
    "        # Read the Excel file into a DataFrame\n",
    "        df = pd.read_excel(file_path)\n",
    "        \n",
    "        # Construct enum_dict using the specified columns for keys and values\n",
    "        enum_dict = {df[lut_details['key']][i]: df[lut_details['value']][i] for i in df.index}\n",
    "        # Check each key in the enum_dict\n",
    "        for key in enum_dict.keys():\n",
    "            \n",
    "            key_str = str(key)  # Ensure the key is a string for checks\n",
    "            if any(char in key_str for char in illegal_chars):\n",
    "                print(f\"Key '{key_str}' in LUT '{lut_name}' contains an illegal character.\")\n",
    "            if key_str.startswith(reserved_start_char):\n",
    "                print(f\"Key '{key_str}' in LUT '{lut_name}' starts with a reserved character.\")"
   ]
  },
  {
   "cell_type": "code",
   "execution_count": null,
   "metadata": {},
   "outputs": [
    {
     "name": "stdout",
     "output_type": "stream",
     "text": [
      "illegal_chars ['\\\\', '@', ':', '•', '\"', '\\x00', '\\x01', '\\x02', '\\x03', '\\x04', '\\x05', '\\x06', '\\x07', '\\x08', '\\t', '\\n', '\\x0b', '\\x0c', '\\r', '\\x0e', '\\x0f', '\\x10', '\\x11', '\\x12', '\\x13', '\\x14', '\\x15', '\\x16', '\\x17', '\\x18', '\\x19', '\\x1a', '\\x1b', '\\x1c', '\\x1d', '\\x1e', '\\x1f', '\\x7f']\n",
      "AREA\n",
      "Key 'Mediterranean Sea - Western Basin_x000D_\n",
      "' in LUT 'AREA' contains an illegal character.\n",
      "BIO_GROUP\n",
      "BODY_PART\n",
      "COUNT_MET\n",
      "DL\n",
      "FILT\n",
      "NUCLIDE\n",
      "PREP_MET\n",
      "SAMP_MET\n",
      "SED_TYPE\n",
      "SPECIES\n",
      "UNIT\n",
      "LAB\n"
     ]
    }
   ],
   "source": [
    "#| eval: false\n",
    "check_lut_characters()"
   ]
  },
  {
   "cell_type": "code",
   "execution_count": null,
   "metadata": {},
   "outputs": [],
   "source": []
  }
 ],
 "metadata": {
  "kernelspec": {
   "display_name": "python3",
   "language": "python",
   "name": "python3"
  }
 },
 "nbformat": 4,
 "nbformat_minor": 2
}

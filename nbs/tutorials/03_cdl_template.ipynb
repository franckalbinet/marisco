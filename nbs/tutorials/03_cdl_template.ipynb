{
 "cells": [
  {
   "cell_type": "markdown",
   "id": "34f38641",
   "metadata": {},
   "source": [
    "# MARIS CDL template\n",
    "> Creation of Common Data Language template for MARIS"
   ]
  },
  {
   "cell_type": "code",
   "execution_count": null,
   "id": "b4934cd2",
   "metadata": {},
   "outputs": [],
   "source": [
    "from netCDF4 import Dataset\n",
    "\n",
    "import yaml\n",
    "from yaml.loader import SafeLoader"
   ]
  },
  {
   "cell_type": "markdown",
   "id": "c8ea931d",
   "metadata": {},
   "source": [
    "## Encoding NetCDF"
   ]
  },
  {
   "cell_type": "code",
   "execution_count": null,
   "id": "0d616eb9",
   "metadata": {},
   "outputs": [],
   "source": [
    "with Dataset('maris-template.nc', 'w', format='NETCDF4') as nc:\n",
    "    # Create dataset attributes\n",
    "    nc.description = 'Template description'\n",
    "    nc.summary = 'Template summary'\n",
    "    nc.keyword = 'MARIS other-key-words'\n",
    "    nc.license = ''\n",
    "    \n",
    "    #Create groups\n",
    "    seawater_grp = nc.createGroup('seawater')\n",
    "    sediment_grp = nc.createGroup('sediment')\n",
    "    \n",
    "    # Create dim (at root level as reused by all groups)\n",
    "    sample_dim = nc.createDimension('sample', None)\n",
    "    \n",
    "    # Create variables\n",
    "    sample = seawater_grp.createVariable('sample','i4',('sample',))\n",
    "    longitude = seawater_grp.createVariable('longitude','f4',('sample',))\n",
    "    latitude = seawater_grp.createVariable('latitude','f4',('sample',))\n",
    "    depth = seawater_grp.createVariable('depth','f4',('sample',))\n",
    "    time = seawater_grp.createVariable('time','f4',('sample',))\n",
    "    i131 = seawater_grp.createVariable('i131','f4',('sample',))\n",
    "    cs137 = seawater_grp.createVariable('cs137','f4',('sample',))\n",
    "    cs134 = seawater_grp.createVariable('cs134','f4',('sample',))\n",
    "    \n",
    "    # Create variables attribute\n",
    "    # https://docs.unidata.ucar.edu/netcdf-c/current/attribute_conventions.html\n",
    "    i131.long_name = '131Iodine'\n",
    "    i131.standard_name = 'iodine_131'\n",
    "    i131.units = 'Bq/L'\n",
    "\n",
    "    cs137.long_name = '137Cesium'\n",
    "    cs137.standard_name = 'cesium_137'\n",
    "    cs137.units = 'Bq/L'\n",
    "\n",
    "    cs134.long_name = '134Cesium'\n",
    "    cs134.standard_name = 'cesium_134'\n",
    "    cs134.units = 'Bq/L'\n",
    "\n",
    "    depth.long_name = 'Depth of measurement'\n",
    "    cs134.standard_name = 'depth below sea level'\n",
    "    cs134.units = 'm'\n",
    "\n",
    "    time.units = 'seconds since 1960-01-01 00:00:00.0'\n",
    "    time.calendar = 'gregorian'"
   ]
  },
  {
   "cell_type": "code",
   "execution_count": null,
   "id": "0a2961e0",
   "metadata": {},
   "outputs": [],
   "source": [
    "# To get CDL\n",
    "# ncdump -b c maris.nc > test.cdl"
   ]
  },
  {
   "cell_type": "markdown",
   "id": "66c251d8",
   "metadata": {},
   "source": [
    "## Read NetCDF"
   ]
  },
  {
   "cell_type": "code",
   "execution_count": null,
   "id": "8106a27b",
   "metadata": {},
   "outputs": [],
   "source": [
    "rootgrp = Dataset('test.nc', 'r', format='NETCDF4')"
   ]
  },
  {
   "cell_type": "code",
   "execution_count": null,
   "id": "29fd2fde",
   "metadata": {},
   "outputs": [
    {
     "data": {
      "text/plain": [
       "{'seawater': <class 'netCDF4._netCDF4.Group'>\n",
       " group /seawater:\n",
       "     dimensions(sizes): \n",
       "     variables(dimensions): int32 sample(sample), float32 longitude(sample), float32 latitude(sample), float32 Cs137(sample), float32 Cs134(sample)\n",
       "     groups: ,\n",
       " 'sediment': <class 'netCDF4._netCDF4.Group'>\n",
       " group /sediment:\n",
       "     dimensions(sizes): \n",
       "     variables(dimensions): \n",
       "     groups: }"
      ]
     },
     "execution_count": null,
     "metadata": {},
     "output_type": "execute_result"
    }
   ],
   "source": [
    "rootgrp.groups"
   ]
  },
  {
   "cell_type": "code",
   "execution_count": null,
   "id": "c25eb63b",
   "metadata": {},
   "outputs": [],
   "source": [
    "rootgrp.close()"
   ]
  },
  {
   "cell_type": "code",
   "execution_count": null,
   "id": "09998e65",
   "metadata": {},
   "outputs": [],
   "source": []
  }
 ],
 "metadata": {
  "kernelspec": {
   "display_name": "Python 3 (ipykernel)",
   "language": "python",
   "name": "python3"
  }
 },
 "nbformat": 4,
 "nbformat_minor": 5
}

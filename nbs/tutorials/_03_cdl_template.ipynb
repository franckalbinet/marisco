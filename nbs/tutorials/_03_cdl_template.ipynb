{
 "cells": [
  {
   "cell_type": "markdown",
   "id": "34f38641",
   "metadata": {},
   "source": [
    "# MARIS CDL template\n",
    "> Creation of Common Data Language template for MARIS"
   ]
  },
  {
   "cell_type": "code",
   "execution_count": null,
   "id": "b4934cd2",
   "metadata": {},
   "outputs": [],
   "source": [
    "from netCDF4 import Dataset\n",
    "\n",
    "import yaml\n",
    "from yaml.loader import SafeLoader\n",
    "import pandas as pd\n",
    "from pathlib import Path"
   ]
  },
  {
   "cell_type": "markdown",
   "id": "e5344807",
   "metadata": {},
   "source": [
    "## Loading MARIS nomenclatures"
   ]
  },
  {
   "cell_type": "code",
   "execution_count": null,
   "id": "961d46bc",
   "metadata": {},
   "outputs": [
    {
     "ename": "FileNotFoundError",
     "evalue": "[Errno 2] No such file or directory: 'lut/dbo_nuclide.xlsx'",
     "output_type": "error",
     "traceback": [
      "\u001b[0;31m---------------------------------------------------------------------------\u001b[0m",
      "\u001b[0;31mFileNotFoundError\u001b[0m                         Traceback (most recent call last)",
      "Cell \u001b[0;32mIn [2], line 2\u001b[0m\n\u001b[1;32m      1\u001b[0m src_dir \u001b[38;5;241m=\u001b[39m Path(\u001b[38;5;124m'\u001b[39m\u001b[38;5;124m./lut\u001b[39m\u001b[38;5;124m'\u001b[39m)\n\u001b[0;32m----> 2\u001b[0m df_nuc \u001b[38;5;241m=\u001b[39m \u001b[43mpd\u001b[49m\u001b[38;5;241;43m.\u001b[39;49m\u001b[43mread_excel\u001b[49m\u001b[43m(\u001b[49m\u001b[43msrc_dir\u001b[49m\u001b[38;5;241;43m/\u001b[39;49m\u001b[38;5;124;43m'\u001b[39;49m\u001b[38;5;124;43mdbo_nuclide.xlsx\u001b[39;49m\u001b[38;5;124;43m'\u001b[39;49m\u001b[43m,\u001b[49m\u001b[43m \u001b[49m\u001b[43mindex_col\u001b[49m\u001b[38;5;241;43m=\u001b[39;49m\u001b[38;5;241;43m0\u001b[39;49m\u001b[43m)\u001b[49m; df_nuc\n",
      "File \u001b[0;32m~/mambaforge/envs/marisco/lib/python3.10/site-packages/pandas/util/_decorators.py:311\u001b[0m, in \u001b[0;36mdeprecate_nonkeyword_arguments.<locals>.decorate.<locals>.wrapper\u001b[0;34m(*args, **kwargs)\u001b[0m\n\u001b[1;32m    305\u001b[0m \u001b[38;5;28;01mif\u001b[39;00m \u001b[38;5;28mlen\u001b[39m(args) \u001b[38;5;241m>\u001b[39m num_allow_args:\n\u001b[1;32m    306\u001b[0m     warnings\u001b[38;5;241m.\u001b[39mwarn(\n\u001b[1;32m    307\u001b[0m         msg\u001b[38;5;241m.\u001b[39mformat(arguments\u001b[38;5;241m=\u001b[39marguments),\n\u001b[1;32m    308\u001b[0m         \u001b[38;5;167;01mFutureWarning\u001b[39;00m,\n\u001b[1;32m    309\u001b[0m         stacklevel\u001b[38;5;241m=\u001b[39mstacklevel,\n\u001b[1;32m    310\u001b[0m     )\n\u001b[0;32m--> 311\u001b[0m \u001b[38;5;28;01mreturn\u001b[39;00m \u001b[43mfunc\u001b[49m\u001b[43m(\u001b[49m\u001b[38;5;241;43m*\u001b[39;49m\u001b[43margs\u001b[49m\u001b[43m,\u001b[49m\u001b[43m \u001b[49m\u001b[38;5;241;43m*\u001b[39;49m\u001b[38;5;241;43m*\u001b[39;49m\u001b[43mkwargs\u001b[49m\u001b[43m)\u001b[49m\n",
      "File \u001b[0;32m~/mambaforge/envs/marisco/lib/python3.10/site-packages/pandas/io/excel/_base.py:457\u001b[0m, in \u001b[0;36mread_excel\u001b[0;34m(io, sheet_name, header, names, index_col, usecols, squeeze, dtype, engine, converters, true_values, false_values, skiprows, nrows, na_values, keep_default_na, na_filter, verbose, parse_dates, date_parser, thousands, decimal, comment, skipfooter, convert_float, mangle_dupe_cols, storage_options)\u001b[0m\n\u001b[1;32m    455\u001b[0m \u001b[38;5;28;01mif\u001b[39;00m \u001b[38;5;129;01mnot\u001b[39;00m \u001b[38;5;28misinstance\u001b[39m(io, ExcelFile):\n\u001b[1;32m    456\u001b[0m     should_close \u001b[38;5;241m=\u001b[39m \u001b[38;5;28;01mTrue\u001b[39;00m\n\u001b[0;32m--> 457\u001b[0m     io \u001b[38;5;241m=\u001b[39m \u001b[43mExcelFile\u001b[49m\u001b[43m(\u001b[49m\u001b[43mio\u001b[49m\u001b[43m,\u001b[49m\u001b[43m \u001b[49m\u001b[43mstorage_options\u001b[49m\u001b[38;5;241;43m=\u001b[39;49m\u001b[43mstorage_options\u001b[49m\u001b[43m,\u001b[49m\u001b[43m \u001b[49m\u001b[43mengine\u001b[49m\u001b[38;5;241;43m=\u001b[39;49m\u001b[43mengine\u001b[49m\u001b[43m)\u001b[49m\n\u001b[1;32m    458\u001b[0m \u001b[38;5;28;01melif\u001b[39;00m engine \u001b[38;5;129;01mand\u001b[39;00m engine \u001b[38;5;241m!=\u001b[39m io\u001b[38;5;241m.\u001b[39mengine:\n\u001b[1;32m    459\u001b[0m     \u001b[38;5;28;01mraise\u001b[39;00m \u001b[38;5;167;01mValueError\u001b[39;00m(\n\u001b[1;32m    460\u001b[0m         \u001b[38;5;124m\"\u001b[39m\u001b[38;5;124mEngine should not be specified when passing \u001b[39m\u001b[38;5;124m\"\u001b[39m\n\u001b[1;32m    461\u001b[0m         \u001b[38;5;124m\"\u001b[39m\u001b[38;5;124man ExcelFile - ExcelFile already has the engine set\u001b[39m\u001b[38;5;124m\"\u001b[39m\n\u001b[1;32m    462\u001b[0m     )\n",
      "File \u001b[0;32m~/mambaforge/envs/marisco/lib/python3.10/site-packages/pandas/io/excel/_base.py:1376\u001b[0m, in \u001b[0;36mExcelFile.__init__\u001b[0;34m(self, path_or_buffer, engine, storage_options)\u001b[0m\n\u001b[1;32m   1374\u001b[0m     ext \u001b[38;5;241m=\u001b[39m \u001b[38;5;124m\"\u001b[39m\u001b[38;5;124mxls\u001b[39m\u001b[38;5;124m\"\u001b[39m\n\u001b[1;32m   1375\u001b[0m \u001b[38;5;28;01melse\u001b[39;00m:\n\u001b[0;32m-> 1376\u001b[0m     ext \u001b[38;5;241m=\u001b[39m \u001b[43minspect_excel_format\u001b[49m\u001b[43m(\u001b[49m\n\u001b[1;32m   1377\u001b[0m \u001b[43m        \u001b[49m\u001b[43mcontent_or_path\u001b[49m\u001b[38;5;241;43m=\u001b[39;49m\u001b[43mpath_or_buffer\u001b[49m\u001b[43m,\u001b[49m\u001b[43m \u001b[49m\u001b[43mstorage_options\u001b[49m\u001b[38;5;241;43m=\u001b[39;49m\u001b[43mstorage_options\u001b[49m\n\u001b[1;32m   1378\u001b[0m \u001b[43m    \u001b[49m\u001b[43m)\u001b[49m\n\u001b[1;32m   1379\u001b[0m     \u001b[38;5;28;01mif\u001b[39;00m ext \u001b[38;5;129;01mis\u001b[39;00m \u001b[38;5;28;01mNone\u001b[39;00m:\n\u001b[1;32m   1380\u001b[0m         \u001b[38;5;28;01mraise\u001b[39;00m \u001b[38;5;167;01mValueError\u001b[39;00m(\n\u001b[1;32m   1381\u001b[0m             \u001b[38;5;124m\"\u001b[39m\u001b[38;5;124mExcel file format cannot be determined, you must specify \u001b[39m\u001b[38;5;124m\"\u001b[39m\n\u001b[1;32m   1382\u001b[0m             \u001b[38;5;124m\"\u001b[39m\u001b[38;5;124man engine manually.\u001b[39m\u001b[38;5;124m\"\u001b[39m\n\u001b[1;32m   1383\u001b[0m         )\n",
      "File \u001b[0;32m~/mambaforge/envs/marisco/lib/python3.10/site-packages/pandas/io/excel/_base.py:1250\u001b[0m, in \u001b[0;36minspect_excel_format\u001b[0;34m(content_or_path, storage_options)\u001b[0m\n\u001b[1;32m   1247\u001b[0m \u001b[38;5;28;01mif\u001b[39;00m \u001b[38;5;28misinstance\u001b[39m(content_or_path, \u001b[38;5;28mbytes\u001b[39m):\n\u001b[1;32m   1248\u001b[0m     content_or_path \u001b[38;5;241m=\u001b[39m BytesIO(content_or_path)\n\u001b[0;32m-> 1250\u001b[0m \u001b[38;5;28;01mwith\u001b[39;00m \u001b[43mget_handle\u001b[49m\u001b[43m(\u001b[49m\n\u001b[1;32m   1251\u001b[0m \u001b[43m    \u001b[49m\u001b[43mcontent_or_path\u001b[49m\u001b[43m,\u001b[49m\u001b[43m \u001b[49m\u001b[38;5;124;43m\"\u001b[39;49m\u001b[38;5;124;43mrb\u001b[39;49m\u001b[38;5;124;43m\"\u001b[39;49m\u001b[43m,\u001b[49m\u001b[43m \u001b[49m\u001b[43mstorage_options\u001b[49m\u001b[38;5;241;43m=\u001b[39;49m\u001b[43mstorage_options\u001b[49m\u001b[43m,\u001b[49m\u001b[43m \u001b[49m\u001b[43mis_text\u001b[49m\u001b[38;5;241;43m=\u001b[39;49m\u001b[38;5;28;43;01mFalse\u001b[39;49;00m\n\u001b[1;32m   1252\u001b[0m \u001b[43m\u001b[49m\u001b[43m)\u001b[49m \u001b[38;5;28;01mas\u001b[39;00m handle:\n\u001b[1;32m   1253\u001b[0m     stream \u001b[38;5;241m=\u001b[39m handle\u001b[38;5;241m.\u001b[39mhandle\n\u001b[1;32m   1254\u001b[0m     stream\u001b[38;5;241m.\u001b[39mseek(\u001b[38;5;241m0\u001b[39m)\n",
      "File \u001b[0;32m~/mambaforge/envs/marisco/lib/python3.10/site-packages/pandas/io/common.py:795\u001b[0m, in \u001b[0;36mget_handle\u001b[0;34m(path_or_buf, mode, encoding, compression, memory_map, is_text, errors, storage_options)\u001b[0m\n\u001b[1;32m    786\u001b[0m         handle \u001b[38;5;241m=\u001b[39m \u001b[38;5;28mopen\u001b[39m(\n\u001b[1;32m    787\u001b[0m             handle,\n\u001b[1;32m    788\u001b[0m             ioargs\u001b[38;5;241m.\u001b[39mmode,\n\u001b[0;32m   (...)\u001b[0m\n\u001b[1;32m    791\u001b[0m             newline\u001b[38;5;241m=\u001b[39m\u001b[38;5;124m\"\u001b[39m\u001b[38;5;124m\"\u001b[39m,\n\u001b[1;32m    792\u001b[0m         )\n\u001b[1;32m    793\u001b[0m     \u001b[38;5;28;01melse\u001b[39;00m:\n\u001b[1;32m    794\u001b[0m         \u001b[38;5;66;03m# Binary mode\u001b[39;00m\n\u001b[0;32m--> 795\u001b[0m         handle \u001b[38;5;241m=\u001b[39m \u001b[38;5;28;43mopen\u001b[39;49m\u001b[43m(\u001b[49m\u001b[43mhandle\u001b[49m\u001b[43m,\u001b[49m\u001b[43m \u001b[49m\u001b[43mioargs\u001b[49m\u001b[38;5;241;43m.\u001b[39;49m\u001b[43mmode\u001b[49m\u001b[43m)\u001b[49m\n\u001b[1;32m    796\u001b[0m     handles\u001b[38;5;241m.\u001b[39mappend(handle)\n\u001b[1;32m    798\u001b[0m \u001b[38;5;66;03m# Convert BytesIO or file objects passed with an encoding\u001b[39;00m\n",
      "\u001b[0;31mFileNotFoundError\u001b[0m: [Errno 2] No such file or directory: 'lut/dbo_nuclide.xlsx'"
     ]
    }
   ],
   "source": [
    "src_dir = Path('./lut')\n",
    "df_nuc = pd.read_excel(src_dir/'dbo_nuclide.xlsx', index_col=0); df_nuc"
   ]
  },
  {
   "cell_type": "code",
   "execution_count": null,
   "id": "4c933eae",
   "metadata": {},
   "outputs": [
    {
     "data": {
      "text/plain": [
       "nuclide_id\n",
       "0                 0\n",
       "1                3H\n",
       "2               7Be\n",
       "3               14C\n",
       "4               40K\n",
       "           ...     \n",
       "138      T-BETA-40K\n",
       "139            55Fe\n",
       "140    144Ce, 144Pr\n",
       "141     240Pu/239Pu\n",
       "142     241Pu/239Pu\n",
       "Name: nusymbol, Length: 133, dtype: object"
      ]
     },
     "execution_count": null,
     "metadata": {},
     "output_type": "execute_result"
    }
   ],
   "source": [
    "df_nuc.nusymbol"
   ]
  },
  {
   "cell_type": "markdown",
   "id": "c8ea931d",
   "metadata": {},
   "source": [
    "## Encoding NetCDF"
   ]
  },
  {
   "cell_type": "markdown",
   "id": "fdf62c0f",
   "metadata": {},
   "source": [
    "### NetCDF4 version"
   ]
  },
  {
   "cell_type": "code",
   "execution_count": null,
   "id": "0d616eb9",
   "metadata": {},
   "outputs": [],
   "source": [
    "with Dataset('maris-template-v4.nc', 'w', format='NETCDF4') as nc:\n",
    "# Create dataset attributes\n",
    "    nc.description = 'Template description'\n",
    "    nc.summary = 'Template summary'\n",
    "    nc.keyword = 'MARIS other-key-words'\n",
    "    nc.license = 'Common ...'\n",
    "    \n",
    "    #Create groups\n",
    "    seawater_grp = nc.createGroup('seawater')\n",
    "    sediment_grp = nc.createGroup('sediment')\n",
    "    \n",
    "    # Create dim (at root level as reused by all groups)\n",
    "    sample_dim = nc.createDimension('sample', None)\n",
    "    \n",
    "    # Create variables\n",
    "    sample = seawater_grp.createVariable('sample','i4',('sample',))\n",
    "    longitude = seawater_grp.createVariable('longitude','f4',('sample',))\n",
    "    latitude = seawater_grp.createVariable('latitude','f4',('sample',))\n",
    "    depth = seawater_grp.createVariable('depth','f4',('sample',))\n",
    "    time = seawater_grp.createVariable('time','f4',('sample',))\n",
    "    i131 = seawater_grp.createVariable('i131','f4',('sample',))\n",
    "    cs137 = seawater_grp.createVariable('cs137','f4',('sample',))\n",
    "    cs134 = seawater_grp.createVariable('cs134','f4',('sample',))\n",
    "    \n",
    "    # Create variables attribute\n",
    "    # https://docs.unidata.ucar.edu/netcdf-c/current/attribute_conventions.html\n",
    "    i131.long_name = '131Iodine'\n",
    "    i131.standard_name = 'iodine_131'\n",
    "    i131.units = 'Bq/L'\n",
    "\n",
    "    cs137.long_name = '137Cesium'\n",
    "    cs137.standard_name = 'cesium_137'\n",
    "    cs137.units = 'Bq/L'\n",
    "\n",
    "    cs134.long_name = '134Cesium'\n",
    "    cs134.standard_name = 'cesium_134'\n",
    "    cs134.units = 'Bq/L'\n",
    "\n",
    "    depth.long_name = 'Depth of measurement'\n",
    "    depth.standard_name = 'depth below sea level'\n",
    "    depth.units = 'm'\n",
    "\n",
    "    time.units = 'seconds since 1970-01-01 00:00:00.0'\n",
    "    time.calendar = 'gregorian'"
   ]
  },
  {
   "cell_type": "markdown",
   "id": "4371eab9",
   "metadata": {},
   "source": [
    "### NetCDF3 version"
   ]
  },
  {
   "cell_type": "code",
   "execution_count": null,
   "id": "41571825",
   "metadata": {},
   "outputs": [],
   "source": [
    "#with Dataset('maris-template-v3.nc', 'w', format='NETCDF4') as nc:\n",
    "with Dataset('maris-template-v3.nc', 'w', format='NETCDF3_CLASSIC') as nc:\n",
    "# Create dataset attributes\n",
    "    nc.description = 'Template description'\n",
    "    nc.summary = 'Template summary'\n",
    "    nc.keyword = 'MARIS other-key-words'\n",
    "    nc.license = 'Common ...'\n",
    "    \n",
    "    # Create dim\n",
    "    sample_dim = nc.createDimension('sample', None)\n",
    "    \n",
    "    # Create variables\n",
    "    sample = nc.createVariable('sample','i4',('sample',))\n",
    "    longitude = nc.createVariable('longitude','f4',('sample',))\n",
    "    latitude = nc.createVariable('latitude','f4',('sample',))\n",
    "    depth = nc.createVariable('depth','f4',('sample',))\n",
    "    time = nc.createVariable('time','f4',('sample',))\n",
    "    i131 = nc.createVariable('i131','f4',('sample',))\n",
    "    cs137 = nc.createVariable('cs137','f4',('sample',))\n",
    "    cs134 = nc.createVariable('cs134','f4',('sample',))\n",
    "    \n",
    "    # Create variables attribute\n",
    "    # https://docs.unidata.ucar.edu/netcdf-c/current/attribute_conventions.html\n",
    "    i131.long_name = '131Iodine'\n",
    "    i131.standard_name = 'iodine_131'\n",
    "    i131.units = 'Bq/L'\n",
    "\n",
    "    cs137.long_name = '137Cesium'\n",
    "    cs137.standard_name = 'cesium_137'\n",
    "    cs137.units = 'Bq/L'\n",
    "\n",
    "    cs134.long_name = '134Cesium'\n",
    "    cs134.standard_name = 'cesium_134'\n",
    "    cs134.units = 'Bq/L'\n",
    "\n",
    "    depth.long_name = 'Depth of measurement'\n",
    "    depth.standard_name = 'depth below sea level'\n",
    "    depth.units = 'm'\n",
    "\n",
    "    time.units = 'seconds since 1970-01-01 00:00:00.0'\n",
    "    time.calendar = 'gregorian'"
   ]
  },
  {
   "cell_type": "code",
   "execution_count": null,
   "id": "0a2961e0",
   "metadata": {},
   "outputs": [],
   "source": [
    "# To get CDL\n",
    "# ncdump -b c maris.nc > test.cdl"
   ]
  },
  {
   "cell_type": "markdown",
   "id": "66c251d8",
   "metadata": {},
   "source": [
    "## Read NetCDF"
   ]
  },
  {
   "cell_type": "code",
   "execution_count": null,
   "id": "8106a27b",
   "metadata": {},
   "outputs": [],
   "source": [
    "#rootgrp = Dataset('test.nc', 'r', format='NETCDF4')"
   ]
  },
  {
   "cell_type": "code",
   "execution_count": null,
   "id": "29fd2fde",
   "metadata": {},
   "outputs": [],
   "source": [
    "#rootgrp.groups"
   ]
  },
  {
   "cell_type": "code",
   "execution_count": null,
   "id": "c25eb63b",
   "metadata": {},
   "outputs": [],
   "source": [
    "#rootgrp.close()"
   ]
  },
  {
   "cell_type": "code",
   "execution_count": null,
   "id": "09998e65",
   "metadata": {},
   "outputs": [],
   "source": []
  }
 ],
 "metadata": {
  "kernelspec": {
   "display_name": "Python 3 (ipykernel)",
   "language": "python",
   "name": "python3"
  }
 },
 "nbformat": 4,
 "nbformat_minor": 5
}

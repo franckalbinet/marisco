{
 "cells": [
  {
   "cell_type": "raw",
   "id": "ce2be1c5",
   "metadata": {},
   "source": [
    "---\n",
    "title: \"EDL with ObservableHQ\"\n",
    "format: \n",
    "    html:\n",
    "        code-fold: false\n",
    "jupyter: python3\n",
    "---"
   ]
  },
  {
   "cell_type": "markdown",
   "id": "b92a5c33",
   "metadata": {},
   "source": [
    "## Packages import"
   ]
  },
  {
   "cell_type": "code",
   "execution_count": null,
   "id": "0db45fee",
   "metadata": {},
   "outputs": [],
   "source": [
    "%load_ext autoreload\n",
    "%autoreload 2"
   ]
  },
  {
   "cell_type": "code",
   "execution_count": null,
   "id": "3a8d979f",
   "metadata": {},
   "outputs": [],
   "source": [
    "import pandas as pd\n",
    "import numpy as np\n",
    "\n",
    "from netCDF4 import Dataset\n",
    "from datetime import datetime, timedelta\n",
    "from cftime import num2date, date2num\n",
    "\n",
    "from datetime import datetime\n",
    "import re"
   ]
  },
  {
   "cell_type": "markdown",
   "id": "55aef25e",
   "metadata": {},
   "source": [
    "## Utils\n",
    "To be further moved in dedicated api lib ..."
   ]
  },
  {
   "cell_type": "code",
   "execution_count": null,
   "id": "6cdba305",
   "metadata": {},
   "outputs": [
    {
     "name": "stdout",
     "output_type": "stream",
     "text": [
      "Dataset global metadata\n",
      "----------------------------------------\n",
      "description: Template description\n",
      "summary: Template summary\n",
      "keyword: MARIS other-key-words\n",
      "license: Common ...\n"
     ]
    }
   ],
   "source": [
    "# Global attributes\n",
    "with Dataset('output/tepco.nc') as rootgrp:\n",
    "    print('Dataset global metadata')\n",
    "    print('-' * 40)\n",
    "    for name in rootgrp.ncattrs():\n",
    "        print(f'{name}: {getattr(rootgrp, name)}')"
   ]
  },
  {
   "cell_type": "code",
   "execution_count": null,
   "id": "c5a96fb8",
   "metadata": {},
   "outputs": [
    {
     "name": "stdout",
     "output_type": "stream",
     "text": [
      "Group (sample type): seawater\n",
      "# of measurements:  21477\n",
      "----------------------------------------\n",
      "longitude\n",
      "latitude\n",
      "time\n",
      "  - units: seconds since 1960-01-01 00:00:00.0\n",
      "  - calendar: gregorian\n",
      "i131\n",
      "  - long_name: 131Iodine\n",
      "  - standard_name: iodine_131\n",
      "  - units: Bq/L\n",
      "cs137\n",
      "  - long_name: 137Cesium\n",
      "  - standard_name: cesium_137\n",
      "  - units: Bq/L\n",
      "cs134\n",
      "  - long_name: 134Cesium\n",
      "  - standard_name: depth below sea level\n",
      "  - units: m\n"
     ]
    }
   ],
   "source": [
    "# Which groups & variables are present?\n",
    "with Dataset('output/tepco.nc') as rootgrp:\n",
    "    for grp in rootgrp.groups:\n",
    "        print(f'Group (sample type): {grp}')\n",
    "        print('# of measurements: ', rootgrp[f'/{grp}/sample'].shape[0]) \n",
    "        print('-' * 40)\n",
    "        for name in rootgrp.groups[grp].variables:\n",
    "            if name != 'sample':\n",
    "                variable = rootgrp[f'/{grp}/{name}']\n",
    "                print(variable.name)\n",
    "                for attr_name in variable.ncattrs():\n",
    "                    print(f'  - {attr_name}: {getattr(variable, attr_name)}')"
   ]
  },
  {
   "cell_type": "code",
   "execution_count": null,
   "id": "35efc6bf",
   "metadata": {},
   "outputs": [],
   "source": [
    "def nc_to_df(fname):\n",
    "    pass"
   ]
  },
  {
   "cell_type": "code",
   "execution_count": null,
   "id": "b88c28ec",
   "metadata": {},
   "outputs": [
    {
     "name": "stdout",
     "output_type": "stream",
     "text": [
      "Cs137:  [5.3e+01 4.0e+01 5.5e+01 ... 1.0e-02     nan 1.5e-02]\n",
      "longitude:  [141.03 141.03 141.03 ... 141.04 141.04 141.04]\n"
     ]
    }
   ],
   "source": [
    "with Dataset('output/tepco.nc') as ds:\n",
    "    print(\n",
    "    #print(ds.groups['seawater'])\n",
    "    print('Cs137: ',  ds.groups['seawater'].variables['cs137'][:])\n",
    "    print('longitude: ',  ds.groups['seawater'].variables['longitude'][:])\n",
    "    #print(df.variables)"
   ]
  },
  {
   "cell_type": "code",
   "execution_count": null,
   "id": "41e5df7e",
   "metadata": {},
   "outputs": [],
   "source": [
    "# Get dataframes\n",
    "with Dataset('output/tepco.nc') as rootgrp:\n",
    "    dfs = {}\n",
    "    for grp in rootgrp.groups:\n",
    "        series_dict = {}\n",
    "        for name in rootgrp.groups[grp].variables:\n",
    "            variable = rootgrp[f'/{grp}/{name}']\n",
    "            if name == 'time':\n",
    "                series_dict[name] = num2date(variable[:], \n",
    "                                             units='seconds since 1960-01-01 00:00:00.0',\n",
    "                                             calendar = 'gregorian')\n",
    "            else:\n",
    "                series_dict[name] = variable[:]\n",
    "        dfs[grp] = pd.DataFrame(series_dict)"
   ]
  },
  {
   "cell_type": "code",
   "execution_count": null,
   "id": "2981f9aa",
   "metadata": {},
   "outputs": [
    {
     "data": {
      "text/html": [
       "<div>\n",
       "<style scoped>\n",
       "    .dataframe tbody tr th:only-of-type {\n",
       "        vertical-align: middle;\n",
       "    }\n",
       "\n",
       "    .dataframe tbody tr th {\n",
       "        vertical-align: top;\n",
       "    }\n",
       "\n",
       "    .dataframe thead th {\n",
       "        text-align: right;\n",
       "    }\n",
       "</style>\n",
       "<table border=\"1\" class=\"dataframe\">\n",
       "  <thead>\n",
       "    <tr style=\"text-align: right;\">\n",
       "      <th></th>\n",
       "      <th>sample</th>\n",
       "      <th>longitude</th>\n",
       "      <th>latitude</th>\n",
       "      <th>time</th>\n",
       "      <th>i131</th>\n",
       "      <th>cs137</th>\n",
       "      <th>cs134</th>\n",
       "    </tr>\n",
       "  </thead>\n",
       "  <tbody>\n",
       "    <tr>\n",
       "      <th>0</th>\n",
       "      <td>0</td>\n",
       "      <td>141.029999</td>\n",
       "      <td>37.32</td>\n",
       "      <td>2011-03-21 23:15:12</td>\n",
       "      <td>1100.0</td>\n",
       "      <td>53.000</td>\n",
       "      <td>48.0</td>\n",
       "    </tr>\n",
       "    <tr>\n",
       "      <th>1</th>\n",
       "      <td>1</td>\n",
       "      <td>141.029999</td>\n",
       "      <td>37.32</td>\n",
       "      <td>2011-03-22 14:28:16</td>\n",
       "      <td>1100.0</td>\n",
       "      <td>40.000</td>\n",
       "      <td>46.0</td>\n",
       "    </tr>\n",
       "    <tr>\n",
       "      <th>2</th>\n",
       "      <td>2</td>\n",
       "      <td>141.029999</td>\n",
       "      <td>37.32</td>\n",
       "      <td>2011-03-23 13:52:00</td>\n",
       "      <td>740.0</td>\n",
       "      <td>55.000</td>\n",
       "      <td>51.0</td>\n",
       "    </tr>\n",
       "    <tr>\n",
       "      <th>3</th>\n",
       "      <td>3</td>\n",
       "      <td>141.029999</td>\n",
       "      <td>37.32</td>\n",
       "      <td>2011-03-24 09:29:36</td>\n",
       "      <td>1100.0</td>\n",
       "      <td>94.000</td>\n",
       "      <td>99.0</td>\n",
       "    </tr>\n",
       "    <tr>\n",
       "      <th>4</th>\n",
       "      <td>4</td>\n",
       "      <td>141.029999</td>\n",
       "      <td>37.32</td>\n",
       "      <td>2011-03-25 09:59:28</td>\n",
       "      <td>430.0</td>\n",
       "      <td>34.000</td>\n",
       "      <td>26.0</td>\n",
       "    </tr>\n",
       "    <tr>\n",
       "      <th>...</th>\n",
       "      <td>...</td>\n",
       "      <td>...</td>\n",
       "      <td>...</td>\n",
       "      <td>...</td>\n",
       "      <td>...</td>\n",
       "      <td>...</td>\n",
       "      <td>...</td>\n",
       "    </tr>\n",
       "    <tr>\n",
       "      <th>21472</th>\n",
       "      <td>21472</td>\n",
       "      <td>141.039993</td>\n",
       "      <td>37.48</td>\n",
       "      <td>2022-07-12 10:10:08</td>\n",
       "      <td>NaN</td>\n",
       "      <td>0.011</td>\n",
       "      <td>NaN</td>\n",
       "    </tr>\n",
       "    <tr>\n",
       "      <th>21473</th>\n",
       "      <td>21473</td>\n",
       "      <td>141.039993</td>\n",
       "      <td>37.48</td>\n",
       "      <td>2022-07-12 10:10:08</td>\n",
       "      <td>NaN</td>\n",
       "      <td>NaN</td>\n",
       "      <td>NaN</td>\n",
       "    </tr>\n",
       "    <tr>\n",
       "      <th>21474</th>\n",
       "      <td>21474</td>\n",
       "      <td>141.039993</td>\n",
       "      <td>37.48</td>\n",
       "      <td>2022-07-19 09:59:28</td>\n",
       "      <td>NaN</td>\n",
       "      <td>0.010</td>\n",
       "      <td>NaN</td>\n",
       "    </tr>\n",
       "    <tr>\n",
       "      <th>21475</th>\n",
       "      <td>21475</td>\n",
       "      <td>141.039993</td>\n",
       "      <td>37.48</td>\n",
       "      <td>2022-07-19 09:59:28</td>\n",
       "      <td>NaN</td>\n",
       "      <td>NaN</td>\n",
       "      <td>NaN</td>\n",
       "    </tr>\n",
       "    <tr>\n",
       "      <th>21476</th>\n",
       "      <td>21476</td>\n",
       "      <td>141.039993</td>\n",
       "      <td>37.48</td>\n",
       "      <td>2022-07-26 10:10:08</td>\n",
       "      <td>NaN</td>\n",
       "      <td>0.015</td>\n",
       "      <td>NaN</td>\n",
       "    </tr>\n",
       "  </tbody>\n",
       "</table>\n",
       "<p>21477 rows × 7 columns</p>\n",
       "</div>"
      ],
      "text/plain": [
       "       sample   longitude  latitude                 time    i131   cs137  \\\n",
       "0           0  141.029999     37.32  2011-03-21 23:15:12  1100.0  53.000   \n",
       "1           1  141.029999     37.32  2011-03-22 14:28:16  1100.0  40.000   \n",
       "2           2  141.029999     37.32  2011-03-23 13:52:00   740.0  55.000   \n",
       "3           3  141.029999     37.32  2011-03-24 09:29:36  1100.0  94.000   \n",
       "4           4  141.029999     37.32  2011-03-25 09:59:28   430.0  34.000   \n",
       "...       ...         ...       ...                  ...     ...     ...   \n",
       "21472   21472  141.039993     37.48  2022-07-12 10:10:08     NaN   0.011   \n",
       "21473   21473  141.039993     37.48  2022-07-12 10:10:08     NaN     NaN   \n",
       "21474   21474  141.039993     37.48  2022-07-19 09:59:28     NaN   0.010   \n",
       "21475   21475  141.039993     37.48  2022-07-19 09:59:28     NaN     NaN   \n",
       "21476   21476  141.039993     37.48  2022-07-26 10:10:08     NaN   0.015   \n",
       "\n",
       "       cs134  \n",
       "0       48.0  \n",
       "1       46.0  \n",
       "2       51.0  \n",
       "3       99.0  \n",
       "4       26.0  \n",
       "...      ...  \n",
       "21472    NaN  \n",
       "21473    NaN  \n",
       "21474    NaN  \n",
       "21475    NaN  \n",
       "21476    NaN  \n",
       "\n",
       "[21477 rows x 7 columns]"
      ]
     },
     "execution_count": null,
     "metadata": {},
     "output_type": "execute_result"
    }
   ],
   "source": [
    "dfs['seawater']"
   ]
  },
  {
   "cell_type": "raw",
   "id": "a168fa27",
   "metadata": {},
   "source": [
    "```{python}\n",
    "ojs_define(data = dfs['seawater'])\n",
    "```"
   ]
  },
  {
   "cell_type": "raw",
   "id": "8b673979",
   "metadata": {},
   "source": [
    "```{ojs}\n",
    "Inputs.table(data)\n",
    "```"
   ]
  }
 ],
 "metadata": {
  "kernelspec": {
   "display_name": "Python 3 (ipykernel)",
   "language": "python",
   "name": "python3"
  }
 },
 "nbformat": 4,
 "nbformat_minor": 5
}

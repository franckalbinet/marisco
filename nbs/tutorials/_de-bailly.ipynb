{
 "cells": [
  {
   "cell_type": "markdown",
   "id": "1d1c4b1e",
   "metadata": {},
   "source": [
    "# De Bailly\n",
    "> Quick postprocessing"
   ]
  },
  {
   "cell_type": "code",
   "execution_count": null,
   "id": "5ebfe480",
   "metadata": {},
   "outputs": [],
   "source": [
    "from io import BytesIO\n",
    "from urllib.request import urlopen\n",
    "from zipfile import ZipFile\n",
    "from fastcore.xtras import L\n",
    "from pathlib import Path\n",
    "\n",
    "import pandas as pd"
   ]
  },
  {
   "cell_type": "code",
   "execution_count": null,
   "id": "d9ad1540",
   "metadata": {},
   "outputs": [],
   "source": [
    "zipurl = 'https://doi.pangaea.de/10.1594/PANGAEA.762253?format=zip'\n",
    "with urlopen(zipurl) as zipresp:\n",
    "    with ZipFile(BytesIO(zipresp.read())) as zfile:\n",
    "        zfile.extractall('./irsn')"
   ]
  },
  {
   "cell_type": "code",
   "execution_count": null,
   "id": "1dcc0261",
   "metadata": {},
   "outputs": [],
   "source": [
    "src_name = Path('irsn/datasets')"
   ]
  },
  {
   "cell_type": "code",
   "execution_count": null,
   "id": "2e3240a8",
   "metadata": {},
   "outputs": [
    {
     "name": "stdout",
     "output_type": "stream",
     "text": [
      "irsn/datasets/20030808_StMartin_ADCP.tab\n",
      "irsn/datasets/20030717_StMartin_ADCP.tab\n",
      "irsn/datasets/20030614_Omonville_ADCP.tab\n",
      "irsn/datasets/StMartin_tide-gauge.tab\n",
      "irsn/datasets/20030809_Vauville_ADCP.tab\n",
      "irsn/datasets/dispro-drifter_72975.tab\n",
      "irsn/datasets/20050410_Vauville_ADCP.tab\n",
      "irsn/datasets/20030810_Flamanville_ADCP.tab\n",
      "irsn/datasets/20050412_Omonville_ADCP.tab\n",
      "irsn/datasets/20050411_Flamanville_ADCP.tab\n",
      "irsn/datasets/dispro-bathymetry.tab\n",
      "irsn/datasets/20050403_StMartin_ADCP.tab\n",
      "irsn/datasets/Herqueville_tide-gauge.tab\n",
      "irsn/datasets/Areva-NC_tritium-release.tab\n",
      "irsn/datasets/Gaury_tide-gauge.tab\n",
      "irsn/datasets/20030613_Ecalgrain_ADCP.tab\n",
      "irsn/datasets/dispro-tritium.tab\n",
      "irsn/datasets/20050404_Ecalgrain_ADCP.tab\n",
      "irsn/datasets/dispro-drifter_72878.tab\n"
     ]
    }
   ],
   "source": [
    "for f in src_name.ls():\n",
    "    print(f)"
   ]
  },
  {
   "cell_type": "markdown",
   "id": "2bfa3289",
   "metadata": {},
   "source": [
    "## Areva Releases"
   ]
  },
  {
   "cell_type": "code",
   "execution_count": null,
   "id": "e4de0ab0",
   "metadata": {},
   "outputs": [],
   "source": [
    "df_release = pd.read_csv('irsn/datasets/Areva-NC_tritium-release.tab', delimiter='\\t', skiprows=12)"
   ]
  },
  {
   "cell_type": "code",
   "execution_count": null,
   "id": "4c326cf7",
   "metadata": {},
   "outputs": [
    {
     "data": {
      "text/html": [
       "<div>\n",
       "<style scoped>\n",
       "    .dataframe tbody tr th:only-of-type {\n",
       "        vertical-align: middle;\n",
       "    }\n",
       "\n",
       "    .dataframe tbody tr th {\n",
       "        vertical-align: top;\n",
       "    }\n",
       "\n",
       "    .dataframe thead th {\n",
       "        text-align: right;\n",
       "    }\n",
       "</style>\n",
       "<table border=\"1\" class=\"dataframe\">\n",
       "  <thead>\n",
       "    <tr style=\"text-align: right;\">\n",
       "      <th></th>\n",
       "      <th>Date/time start</th>\n",
       "      <th>Date/time end</th>\n",
       "      <th>Sample ID</th>\n",
       "      <th>A [Bq]</th>\n",
       "    </tr>\n",
       "  </thead>\n",
       "  <tbody>\n",
       "    <tr>\n",
       "      <th>0</th>\n",
       "      <td>1982-01-02T16:00</td>\n",
       "      <td>1982-01-03T02:17</td>\n",
       "      <td>4318V</td>\n",
       "      <td>2.900000e+12</td>\n",
       "    </tr>\n",
       "    <tr>\n",
       "      <th>1</th>\n",
       "      <td>1982-01-05T18:50</td>\n",
       "      <td>1982-01-06T08:00</td>\n",
       "      <td>4321V</td>\n",
       "      <td>5.500000e+11</td>\n",
       "    </tr>\n",
       "    <tr>\n",
       "      <th>2</th>\n",
       "      <td>1982-01-07T18:50</td>\n",
       "      <td>1982-01-08T07:30</td>\n",
       "      <td>4323V</td>\n",
       "      <td>9.900000e+10</td>\n",
       "    </tr>\n",
       "    <tr>\n",
       "      <th>3</th>\n",
       "      <td>1982-01-12T00:50</td>\n",
       "      <td>1982-01-12T14:00</td>\n",
       "      <td>4325V</td>\n",
       "      <td>4.400000e+12</td>\n",
       "    </tr>\n",
       "    <tr>\n",
       "      <th>4</th>\n",
       "      <td>1982-01-15T18:50</td>\n",
       "      <td>1982-01-16T08:00</td>\n",
       "      <td>4332V</td>\n",
       "      <td>9.500000e+12</td>\n",
       "    </tr>\n",
       "  </tbody>\n",
       "</table>\n",
       "</div>"
      ],
      "text/plain": [
       "    Date/time start     Date/time end Sample ID        A [Bq]\n",
       "0  1982-01-02T16:00  1982-01-03T02:17     4318V  2.900000e+12\n",
       "1  1982-01-05T18:50  1982-01-06T08:00     4321V  5.500000e+11\n",
       "2  1982-01-07T18:50  1982-01-08T07:30     4323V  9.900000e+10\n",
       "3  1982-01-12T00:50  1982-01-12T14:00     4325V  4.400000e+12\n",
       "4  1982-01-15T18:50  1982-01-16T08:00     4332V  9.500000e+12"
      ]
     },
     "execution_count": null,
     "metadata": {},
     "output_type": "execute_result"
    }
   ],
   "source": [
    "df_release.head()"
   ]
  },
  {
   "cell_type": "code",
   "execution_count": null,
   "id": "9774ced9",
   "metadata": {},
   "outputs": [
    {
     "data": {
      "text/plain": [
       "0       2.900000e+12\n",
       "1       5.500000e+11\n",
       "2       9.900000e+10\n",
       "3       4.400000e+12\n",
       "4       9.500000e+12\n",
       "            ...     \n",
       "7835    3.800000e+13\n",
       "7836    6.300000e+13\n",
       "7837    3.500000e+10\n",
       "7838    3.500000e+13\n",
       "7839    6.900000e+11\n",
       "Name: A [Bq], Length: 7840, dtype: float64"
      ]
     },
     "execution_count": null,
     "metadata": {},
     "output_type": "execute_result"
    }
   ],
   "source": [
    "df_release['A [Bq]']"
   ]
  },
  {
   "cell_type": "code",
   "execution_count": null,
   "id": "4547201d",
   "metadata": {},
   "outputs": [],
   "source": [
    "df_release.to_csv('./de-bailly-release.csv', index=False)"
   ]
  },
  {
   "cell_type": "markdown",
   "id": "0df7575e",
   "metadata": {},
   "source": [
    "## ADCPs"
   ]
  },
  {
   "cell_type": "code",
   "execution_count": null,
   "id": "f63bb305",
   "metadata": {},
   "outputs": [
    {
     "data": {
      "text/plain": [
       "[Path('irsn/datasets/20030808_StMartin_ADCP.tab'),\n",
       " Path('irsn/datasets/20030717_StMartin_ADCP.tab'),\n",
       " Path('irsn/datasets/20030614_Omonville_ADCP.tab'),\n",
       " Path('irsn/datasets/20030809_Vauville_ADCP.tab'),\n",
       " Path('irsn/datasets/20050410_Vauville_ADCP.tab'),\n",
       " Path('irsn/datasets/20030810_Flamanville_ADCP.tab'),\n",
       " Path('irsn/datasets/20050412_Omonville_ADCP.tab'),\n",
       " Path('irsn/datasets/20050411_Flamanville_ADCP.tab'),\n",
       " Path('irsn/datasets/20050403_StMartin_ADCP.tab'),\n",
       " Path('irsn/datasets/20030613_Ecalgrain_ADCP.tab'),\n",
       " Path('irsn/datasets/20050404_Ecalgrain_ADCP.tab')]"
      ]
     },
     "execution_count": null,
     "metadata": {},
     "output_type": "execute_result"
    }
   ],
   "source": [
    "paths_adcp = [p for p in src_name.ls() if 'ADCP' in p.name]; paths_adcp"
   ]
  },
  {
   "cell_type": "code",
   "execution_count": null,
   "id": "2c7f52fb",
   "metadata": {},
   "outputs": [],
   "source": [
    "df_adcps = []\n",
    "for p in paths_adcp:\n",
    "    df_adcps.append(pd.read_csv(p, delimiter='\\t', skiprows=14))\n",
    "    \n",
    "df_adcp = pd.concat(df_adcps)"
   ]
  },
  {
   "cell_type": "code",
   "execution_count": null,
   "id": "3e94a14c",
   "metadata": {},
   "outputs": [],
   "source": [
    "df_adcp.to_csv('./adcps.csv', index=False)"
   ]
  },
  {
   "cell_type": "markdown",
   "id": "f9b209ad",
   "metadata": {},
   "source": [
    "## Bathymetry"
   ]
  },
  {
   "cell_type": "code",
   "execution_count": null,
   "id": "d19571e9",
   "metadata": {},
   "outputs": [],
   "source": [
    "pd.read_csv('irsn/datasets/dispro-bathymetry.tab', delimiter='\\t', skiprows=13).to_csv('./bathy.csv', index=False)"
   ]
  },
  {
   "cell_type": "markdown",
   "id": "d218b9b9",
   "metadata": {},
   "source": [
    "## Tritium"
   ]
  },
  {
   "cell_type": "code",
   "execution_count": null,
   "id": "77682904",
   "metadata": {},
   "outputs": [],
   "source": [
    "pd.read_csv('irsn/datasets/dispro-tritium.tab', delimiter='\\t', skiprows=23).to_csv('./tritium.csv', index=False)"
   ]
  }
 ],
 "metadata": {
  "kernelspec": {
   "display_name": "Python 3 (ipykernel)",
   "language": "python",
   "name": "python3"
  }
 },
 "nbformat": 4,
 "nbformat_minor": 5
}

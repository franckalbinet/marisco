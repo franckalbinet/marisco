{
 "cells": [
  {
   "cell_type": "markdown",
   "id": "1d1c4b1e",
   "metadata": {},
   "source": [
    "# De Bailly\n",
    "> Quick postprocessing"
   ]
  },
  {
   "cell_type": "code",
   "execution_count": null,
   "id": "5ebfe480",
   "metadata": {},
   "outputs": [],
   "source": [
    "from io import BytesIO\n",
    "from urllib.request import urlopen\n",
    "from zipfile import ZipFile\n",
    "from fastcore.xtras import L\n",
    "from pathlib import Path\n",
    "\n",
    "import pandas as pd"
   ]
  },
  {
   "cell_type": "code",
   "execution_count": null,
   "id": "d9ad1540",
   "metadata": {},
   "outputs": [],
   "source": [
    "zipurl = 'https://doi.pangaea.de/10.1594/PANGAEA.762253?format=zip'\n",
    "with urlopen(zipurl) as zipresp:\n",
    "    with ZipFile(BytesIO(zipresp.read())) as zfile:\n",
    "        zfile.extractall('./irsn')"
   ]
  },
  {
   "cell_type": "code",
   "execution_count": null,
   "id": "1dcc0261",
   "metadata": {},
   "outputs": [],
   "source": [
    "src_name = Path('irsn/datasets')"
   ]
  },
  {
   "cell_type": "code",
   "execution_count": null,
   "id": "2e3240a8",
   "metadata": {},
   "outputs": [],
   "source": [
    "for f in src_name.ls():\n",
    "    print(f)"
   ]
  },
  {
   "cell_type": "markdown",
   "id": "2bfa3289",
   "metadata": {},
   "source": [
    "## Areva Releases"
   ]
  },
  {
   "cell_type": "code",
   "execution_count": null,
   "id": "e4de0ab0",
   "metadata": {},
   "outputs": [],
   "source": [
    "df_release = pd.read_csv('irsn/datasets/Areva-NC_tritium-release.tab', delimiter='\\t', skiprows=12)"
   ]
  },
  {
   "cell_type": "code",
   "execution_count": null,
   "id": "4c326cf7",
   "metadata": {},
   "outputs": [],
   "source": [
    "df_release.head()"
   ]
  },
  {
   "cell_type": "code",
   "execution_count": null,
   "id": "9774ced9",
   "metadata": {},
   "outputs": [],
   "source": [
    "df_release['A [Bq]']"
   ]
  },
  {
   "cell_type": "code",
   "execution_count": null,
   "id": "4547201d",
   "metadata": {},
   "outputs": [],
   "source": [
    "df_release.to_csv('./de-bailly-release.csv', index=False)"
   ]
  },
  {
   "cell_type": "markdown",
   "id": "0df7575e",
   "metadata": {},
   "source": [
    "## ADCPs"
   ]
  },
  {
   "cell_type": "code",
   "execution_count": null,
   "id": "f63bb305",
   "metadata": {},
   "outputs": [],
   "source": [
    "paths_adcp = [p for p in src_name.ls() if 'ADCP' in p.name]; paths_adcp"
   ]
  },
  {
   "cell_type": "code",
   "execution_count": null,
   "id": "2c7f52fb",
   "metadata": {},
   "outputs": [],
   "source": [
    "df_adcps = []\n",
    "for p in paths_adcp:\n",
    "    df_adcps.append(pd.read_csv(p, delimiter='\\t', skiprows=14))\n",
    "    \n",
    "df_adcp = pd.concat(df_adcps)"
   ]
  },
  {
   "cell_type": "code",
   "execution_count": null,
   "id": "3e94a14c",
   "metadata": {},
   "outputs": [],
   "source": [
    "df_adcp.to_csv('./adcps.csv', index=False)"
   ]
  },
  {
   "cell_type": "markdown",
   "id": "f9b209ad",
   "metadata": {},
   "source": [
    "## Bathymetry"
   ]
  },
  {
   "cell_type": "code",
   "execution_count": null,
   "id": "d19571e9",
   "metadata": {},
   "outputs": [],
   "source": [
    "pd.read_csv('irsn/datasets/dispro-bathymetry.tab', delimiter='\\t', skiprows=13).to_csv('./bathy.csv', index=False)"
   ]
  },
  {
   "cell_type": "markdown",
   "id": "d218b9b9",
   "metadata": {},
   "source": [
    "## Tritium"
   ]
  },
  {
   "cell_type": "code",
   "execution_count": null,
   "id": "77682904",
   "metadata": {},
   "outputs": [],
   "source": [
    "pd.read_csv('irsn/datasets/dispro-tritium.tab', delimiter='\\t', skiprows=23).to_csv('./tritium.csv', index=False)"
   ]
  }
 ],
 "metadata": {
  "kernelspec": {
   "display_name": "python3",
   "language": "python",
   "name": "python3"
  }
 },
 "nbformat": 4,
 "nbformat_minor": 5
}

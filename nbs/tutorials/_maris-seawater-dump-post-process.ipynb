{
 "cells": [
  {
   "attachments": {},
   "cell_type": "markdown",
   "id": "68649e14",
   "metadata": {},
   "source": [
    "# Post-processing MARIS seawater dump"
   ]
  },
  {
   "cell_type": "code",
   "execution_count": null,
   "id": "47bcad2d",
   "metadata": {},
   "outputs": [],
   "source": [
    "import pandas as pd\n",
    "from fastcore.xtras import L\n",
    "from pathlib import Path"
   ]
  },
  {
   "cell_type": "code",
   "execution_count": null,
   "id": "9c9ff4e5",
   "metadata": {},
   "outputs": [],
   "source": [
    "fname = 'pro/data/maris/2023-03-28 MARIS all seawater data.xlsx'\n",
    "df = pd.read_excel(Path.home() / fname)"
   ]
  },
  {
   "cell_type": "code",
   "execution_count": null,
   "id": "d43beff0",
   "metadata": {},
   "outputs": [],
   "source": [
    "df.columns"
   ]
  },
  {
   "cell_type": "code",
   "execution_count": null,
   "id": "501c4ea4",
   "metadata": {},
   "outputs": [],
   "source": [
    "df.head()"
   ]
  },
  {
   "attachments": {},
   "cell_type": "markdown",
   "id": "21736bb5",
   "metadata": {},
   "source": [
    "## Default export"
   ]
  },
  {
   "cell_type": "code",
   "execution_count": null,
   "id": "51e50560",
   "metadata": {},
   "outputs": [],
   "source": [
    "cols_of_interest = ['sample_id', 'DisplayLat', 'DisplayLong',\n",
    "                    'sampdepth', 'profile_id', 'begperiod',\n",
    "                    'nusymbol', 'unit_corr','activity_corr',\n",
    "                    'uncertaint_corr', 'ref_id'] \n",
    "\n",
    "cols_name = ['smp_id', 'lat', 'lon', \n",
    "             'depth', 'profile_id', 'begperiod', \n",
    "             'nusymbol', 'unit', 'activity',\n",
    "             'uncertainty', 'ref_id']"
   ]
  },
  {
   "cell_type": "code",
   "execution_count": null,
   "id": "2a4ace93",
   "metadata": {},
   "outputs": [],
   "source": [
    "df_selected = df[cols_of_interest]\n",
    "df_selected.columns = cols_name"
   ]
  },
  {
   "cell_type": "code",
   "execution_count": null,
   "id": "fd98c112",
   "metadata": {},
   "outputs": [],
   "source": [
    "df_selected.head()"
   ]
  },
  {
   "cell_type": "code",
   "execution_count": null,
   "id": "900f01f1",
   "metadata": {},
   "outputs": [],
   "source": [
    "df_selected = df_selected[df_selected['activity'] >= 0]"
   ]
  },
  {
   "cell_type": "code",
   "execution_count": null,
   "id": "288602da",
   "metadata": {},
   "outputs": [],
   "source": [
    "df_selected = df_selected[df_selected['depth'] >= 0]"
   ]
  },
  {
   "cell_type": "code",
   "execution_count": null,
   "id": "432a881f",
   "metadata": {},
   "outputs": [],
   "source": [
    "df_selected[df_selected['nusymbol'] == '137Cs']['activity'].max()"
   ]
  },
  {
   "cell_type": "code",
   "execution_count": null,
   "id": "eb9b77c9",
   "metadata": {},
   "outputs": [],
   "source": [
    "df_selected.info()"
   ]
  },
  {
   "cell_type": "code",
   "execution_count": null,
   "id": "754aaa6e",
   "metadata": {},
   "outputs": [],
   "source": [
    "out_fname = Path.home() / 'pro/data/maris/maris-seawater-2023-04-15.csv'\n",
    "df_selected.to_csv(out_fname, index=False)"
   ]
  },
  {
   "attachments": {},
   "cell_type": "markdown",
   "id": "ac1ca615",
   "metadata": {},
   "source": [
    "## LaMer clustering"
   ]
  },
  {
   "cell_type": "code",
   "execution_count": null,
   "id": "7eb63189",
   "metadata": {},
   "outputs": [],
   "source": [
    "df.columns"
   ]
  },
  {
   "cell_type": "code",
   "execution_count": null,
   "id": "0f7026cf",
   "metadata": {},
   "outputs": [],
   "source": [
    "# Select 137Cs only\n",
    "df_selected = df[df.nusymbol == '137Cs']; df_selected.shape"
   ]
  },
  {
   "cell_type": "code",
   "execution_count": null,
   "id": "87a14957",
   "metadata": {},
   "outputs": [],
   "source": [
    "# Re-assign missing depth values (-1) to 0\n",
    "df_selected.loc[df_selected.sampdepth == -1, 'sampdepth'] = 0"
   ]
  },
  {
   "cell_type": "code",
   "execution_count": null,
   "id": "b39aabf7",
   "metadata": {},
   "outputs": [],
   "source": [
    "# Select only depth <= 100 m \n",
    "df_selected = df_selected[df_selected.sampdepth <= 100]; df_selected.shape"
   ]
  },
  {
   "cell_type": "code",
   "execution_count": null,
   "id": "35c3bbd6",
   "metadata": {},
   "outputs": [],
   "source": [
    "# Select only IHO areas of interest\n",
    "# To be added: north of iceland, ...\n",
    "iho_of_interest = [\n",
    "    'Bay of Biscay',\n",
    "    'Bristol Channel',\n",
    "    'Caribbean Sea',\n",
    "    'Celtic Sea',\n",
    "    'Gulf of Guinea',\n",
    "    'Gulf of Mexico',\n",
    "    'Inner Seas off the West Coast of Scotland',\n",
    "    'Labrador Sea',\n",
    "    'North Atlantic Ocean',\n",
    "    'English Channel',\n",
    "    \"Irish Sea and St. George's Channel\",\n",
    "    'North Sea',\n",
    "    'Skagerrak',\n",
    "    'Baltic Sea',\n",
    "    'Gulf of Bothnia',\n",
    "    'Gulf of Finland',\n",
    "    'Gulf of Riga',\n",
    "    'Kattegat'\n",
    "    ]\n",
    "\n",
    "df_selected = df_selected[df_selected.areaname.isin(iho_of_interest)]; df_selected.shape"
   ]
  },
  {
   "cell_type": "code",
   "execution_count": null,
   "id": "68dfdafa",
   "metadata": {},
   "outputs": [],
   "source": [
    "df_selected.head()"
   ]
  },
  {
   "cell_type": "code",
   "execution_count": null,
   "id": "314b5ed2",
   "metadata": {},
   "outputs": [],
   "source": [
    "# Excluding filtered water\n",
    "df_selected = df_selected[df_selected.filtered != 'Y']; df_selected.shape\n"
   ]
  },
  {
   "cell_type": "code",
   "execution_count": null,
   "id": "c8c5df67",
   "metadata": {},
   "outputs": [],
   "source": [
    "cols_of_interest = ['sample_id', 'DisplayLat', 'DisplayLong', 'areaname', 'area_id',\n",
    "                    'sampdepth', 'profile_id', 'begperiod',\n",
    "                    'nusymbol', 'unit_corr','activity_corr',\n",
    "                    'uncertaint_corr', 'ref_id'] "
   ]
  },
  {
   "cell_type": "code",
   "execution_count": null,
   "id": "10164cf8",
   "metadata": {},
   "outputs": [],
   "source": [
    "cols_name = ['smp_id', 'lat', 'lon', 'area_name', 'area_id',\n",
    "             'depth', 'profile_id', 'begperiod', \n",
    "             'nusymbol', 'unit', 'activity',\n",
    "             'uncertainty', 'ref_id']"
   ]
  },
  {
   "cell_type": "code",
   "execution_count": null,
   "id": "82d81f50",
   "metadata": {},
   "outputs": [],
   "source": [
    "df_selected.head()"
   ]
  },
  {
   "cell_type": "code",
   "execution_count": null,
   "id": "14690501",
   "metadata": {},
   "outputs": [],
   "source": [
    "df_selected = df_selected[cols_of_interest]\n",
    "df_selected.columns = cols_name"
   ]
  },
  {
   "cell_type": "code",
   "execution_count": null,
   "id": "45835c6a",
   "metadata": {},
   "outputs": [],
   "source": [
    "df_selected.head()"
   ]
  },
  {
   "cell_type": "code",
   "execution_count": null,
   "id": "f582555a",
   "metadata": {},
   "outputs": [],
   "source": [
    "bad_loc = ((df_selected['lat'] == 0) & (df_selected['lon'] == 0)); bad_loc\n"
   ]
  },
  {
   "cell_type": "code",
   "execution_count": null,
   "id": "bb2e3155",
   "metadata": {},
   "outputs": [],
   "source": [
    "df_selected = df_selected[~bad_loc]"
   ]
  },
  {
   "cell_type": "code",
   "execution_count": null,
   "id": "8cf91867",
   "metadata": {},
   "outputs": [],
   "source": [
    "out_fname = Path.home() / 'pro/data/maris/maris-seawater-lamer-2023-07-25.csv'\n",
    "df_selected.to_csv(out_fname, index=False)"
   ]
  }
 ],
 "metadata": {
  "kernelspec": {
   "display_name": "python3",
   "language": "python",
   "name": "python3"
  }
 },
 "nbformat": 4,
 "nbformat_minor": 5
}

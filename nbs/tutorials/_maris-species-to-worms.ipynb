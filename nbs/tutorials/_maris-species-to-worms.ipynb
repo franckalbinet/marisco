{
 "cells": [
  {
   "attachments": {},
   "cell_type": "markdown",
   "metadata": {},
   "source": [
    "# MARIS to WoRMS\n",
    "Reconciling MARIS species with WoRMS ones"
   ]
  },
  {
   "cell_type": "code",
   "execution_count": null,
   "metadata": {},
   "outputs": [],
   "source": [
    "import pandas as pd\n",
    "from pathlib import Path\n",
    "from fastcore.xtras import save_pickle, load_pickle\n",
    "from marisco.utils import match_worms\n",
    "from tqdm import tqdm"
   ]
  },
  {
   "attachments": {},
   "cell_type": "markdown",
   "metadata": {},
   "source": [
    "## Load MARIS Excel lookup table"
   ]
  },
  {
   "cell_type": "code",
   "execution_count": null,
   "metadata": {},
   "outputs": [],
   "source": [
    "df_species = pd.read_excel('../files/lut/dbo_species.xlsx')"
   ]
  },
  {
   "cell_type": "code",
   "execution_count": null,
   "metadata": {},
   "outputs": [],
   "source": [
    "df_species.head()"
   ]
  },
  {
   "attachments": {},
   "cell_type": "markdown",
   "metadata": {},
   "source": [
    "## Query WoRMS db"
   ]
  },
  {
   "cell_type": "code",
   "execution_count": null,
   "metadata": {},
   "outputs": [],
   "source": [
    "maris2worms = {}\n",
    "\n",
    "for species in tqdm(df_species['species'].values):\n",
    "    maris2worms[species] = match_worms(species)\n",
    "\n",
    "del maris2worms['Not available']"
   ]
  },
  {
   "cell_type": "code",
   "execution_count": null,
   "metadata": {},
   "outputs": [],
   "source": [
    "maris2worms['Siganus fuscescens']"
   ]
  },
  {
   "attachments": {},
   "cell_type": "markdown",
   "metadata": {},
   "source": [
    "### Save or load"
   ]
  },
  {
   "cell_type": "code",
   "execution_count": null,
   "metadata": {},
   "outputs": [],
   "source": [
    "fname_dump = Path('../files/dump') / 'maris2worms.pkl'\n",
    "if maris2worms:\n",
    "    save_pickle(fname_dump, maris2worms)\n",
    "else:\n",
    "    maris2worms = load_pickle(fname_dump)"
   ]
  },
  {
   "attachments": {},
   "cell_type": "markdown",
   "metadata": {},
   "source": [
    "## Summary stats"
   ]
  },
  {
   "cell_type": "code",
   "execution_count": null,
   "metadata": {},
   "outputs": [],
   "source": [
    "results = {'maris_species': [], 'n_matches': [],\n",
    "           'aphiaid': [], 'status': [], 'worms_species': []}\n",
    "\n",
    "for k in maris2worms.keys():\n",
    "    results['maris_species'].append(k)\n",
    "    # If no match\n",
    "    if maris2worms[k] == -1:\n",
    "        results['n_matches'].append(0)\n",
    "        results['aphiaid'].append(-1)\n",
    "        results['status'].append(None)\n",
    "        results['worms_species'].append(None)\n",
    "    else:\n",
    "        n_matches = len(maris2worms[k][0])\n",
    "        attrs = maris2worms[k][0][0]\n",
    "        results['n_matches'].append(n_matches)\n",
    "        results['aphiaid'].append(attrs['AphiaID'])\n",
    "        results['status'].append(attrs['status'])\n",
    "        results['worms_species'].append(attrs['scientificname'])"
   ]
  },
  {
   "cell_type": "code",
   "execution_count": null,
   "metadata": {},
   "outputs": [],
   "source": [
    "df = pd.DataFrame(results); df.head()"
   ]
  },
  {
   "cell_type": "code",
   "execution_count": null,
   "metadata": {},
   "outputs": [],
   "source": [
    "df_missing = df[df['n_matches'] == 0]\n",
    "print(f'# missing: {len(df_missing)}')\n",
    "df_missing.head(20)"
   ]
  },
  {
   "cell_type": "code",
   "execution_count": null,
   "metadata": {},
   "outputs": [],
   "source": [
    "df_multi = df[df['n_matches'] > 1]\n",
    "print(f'# missing: {len(df_multi)}')\n",
    "df_multi.head(20)"
   ]
  },
  {
   "cell_type": "code",
   "execution_count": null,
   "metadata": {},
   "outputs": [],
   "source": [
    "df_accepted = df[df['status'] == 'accepted']\n",
    "print(f'# accepted: {len(df_accepted)}')\n",
    "df_accepted.head(20)"
   ]
  },
  {
   "attachments": {},
   "cell_type": "markdown",
   "metadata": {},
   "source": [
    "## Excel lut expansion"
   ]
  },
  {
   "cell_type": "code",
   "execution_count": null,
   "metadata": {},
   "outputs": [],
   "source": [
    "import numpy as np"
   ]
  },
  {
   "cell_type": "code",
   "execution_count": null,
   "metadata": {},
   "outputs": [],
   "source": [
    "len(maris2worms['Chrysaora'][0])"
   ]
  },
  {
   "cell_type": "code",
   "execution_count": null,
   "metadata": {},
   "outputs": [],
   "source": [
    "cols_worms = {k: [] for k in maris2worms['Siganus fuscescens'][0][0].keys()}\n",
    "cols_all = {'species': [], 'isDuplicated': []}\n",
    "cols_all.update(cols_worms)\n",
    "\n",
    "for k in maris2worms.keys():\n",
    "    if maris2worms[k] == -1:\n",
    "        cols_all['species'].append(k)\n",
    "        cols_all['isDuplicated'].append(0)\n",
    "        for col in cols_worms.keys(): cols_all[col].append(np.nan)\n",
    "    else:\n",
    "        is_duplicated = 1 if len(maris2worms[k][0]) > 1 else 0\n",
    "        for matches in maris2worms[k][0]:\n",
    "            cols_all['species'].append(k)\n",
    "            cols_all['isDuplicated'].append(is_duplicated)\n",
    "            for k_m, v_m in matches.items():    \n",
    "                cols_all[k_m].append(v_m)\n",
    "                \n",
    "col_types = {c: pd.Int64Dtype() \n",
    "             for c in ['AphiaID', 'taxonRankID', 'valid_AphiaID', \n",
    "                       'parentNameUsageID','isMarine', 'isBrackish',\n",
    "                       'isFreshwater', 'isTerrestrial', 'isExtinct']}\n",
    "\n",
    "df_expanded = pd.DataFrame(cols_all)\n",
    "df_expanded = df_expanded.astype(col_types)"
   ]
  },
  {
   "cell_type": "code",
   "execution_count": null,
   "metadata": {},
   "outputs": [],
   "source": [
    "df_expanded.head()"
   ]
  },
  {
   "cell_type": "code",
   "execution_count": null,
   "metadata": {},
   "outputs": [],
   "source": [
    "df_expanded[df_expanded.duplicated(subset='species')].head()"
   ]
  },
  {
   "cell_type": "code",
   "execution_count": null,
   "metadata": {},
   "outputs": [],
   "source": [
    "df_expanded[df_expanded['species'] == 'Salmo trutta trutta']"
   ]
  },
  {
   "attachments": {},
   "cell_type": "markdown",
   "metadata": {},
   "source": [
    "### Join"
   ]
  },
  {
   "cell_type": "code",
   "execution_count": null,
   "metadata": {},
   "outputs": [],
   "source": [
    "df = pd.merge(df_species, df_expanded, on='species', how='right')\n",
    "df"
   ]
  },
  {
   "cell_type": "code",
   "execution_count": null,
   "metadata": {},
   "outputs": [],
   "source": [
    "df.columns"
   ]
  },
  {
   "cell_type": "code",
   "execution_count": null,
   "metadata": {},
   "outputs": [],
   "source": [
    "df[['species', 'isDuplicated', 'AphiaID']][df['isDuplicated'] == 1]"
   ]
  },
  {
   "cell_type": "code",
   "execution_count": null,
   "metadata": {},
   "outputs": [],
   "source": [
    "fname_dump = Path('../files/dump') / 'dbo_species_expanded.xlsx'\n",
    "df.to_excel(fname_dump, index=False)"
   ]
  },
  {
   "cell_type": "code",
   "execution_count": null,
   "metadata": {},
   "outputs": [],
   "source": []
  }
 ],
 "metadata": {
  "kernelspec": {
   "display_name": "python3",
   "language": "python",
   "name": "python3"
  }
 },
 "nbformat": 4,
 "nbformat_minor": 2
}

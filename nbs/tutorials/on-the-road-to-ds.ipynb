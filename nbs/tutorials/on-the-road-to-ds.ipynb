{
 "cells": [
  {
   "cell_type": "markdown",
   "id": "12321c4c",
   "metadata": {},
   "source": [
    "# Foundation of basic but powerful toolbox & skillset"
   ]
  },
  {
   "cell_type": "markdown",
   "id": "8554f963",
   "metadata": {},
   "source": [
    "## I. Rationale "
   ]
  },
  {
   "cell_type": "markdown",
   "id": "ac3e9b71",
   "metadata": {},
   "source": [
    "As a data scientist, creating a toolkit is often a time-consuming undertaking. "
   ]
  },
  {
   "cell_type": "code",
   "execution_count": null,
   "id": "690dd767",
   "metadata": {},
   "outputs": [],
   "source": []
  },
  {
   "cell_type": "markdown",
   "id": "cd0d9407",
   "metadata": {},
   "source": [
    "Your first step will be to know how to set up a toolbox. As a data scientist, there are actually a lot of mini utilities that might sound daunting a first make you much much more productive. \n",
    "\n",
    "There are actually a lot of mini utilities that may seem daunting but actually make you much more productive.\n",
    "\n",
    "For instance, being able to use a command-line interface and its interpreter (actually using 1% of it makes you already much more productive), tools like [git](https://git-scm.com), [vim](https://www.vim.org), ... \n",
    "\n",
    "As far as we are concerned, our goal here is to set up a Python environment where you can start fiddling around with the \"marisco\" package and datasets handlers. As said, installing everything in your default python install (if there is any) is the worst option. Instead, you should use tools like Anaconda. Anaconda exists as a desktop app on Windows but it often comes with many things you actually don't need. \n",
    "\n",
    "Getting acquainted with all the tools and small chunks of knowledge needed on your own takes a long time as resources are scattered in many places and moreover often don't have the essentials (or at least what a data scientist actually needs). \n",
    "\n",
    "Fortunately, last year Jeremy (Howard) came up with a series of \"Live coding sessions\" (18 in total) guiding people from the very very start but at a steady pace with professional tips all along the way. \n"
   ]
  },
  {
   "cell_type": "markdown",
   "id": "4cad44c8",
   "metadata": {},
   "source": [
    "## Part 1"
   ]
  },
  {
   "cell_type": "markdown",
   "id": "81d41e8c",
   "metadata": {},
   "source": [
    "Hi Paul,\n",
    "\n",
    "\n",
    "This morning I went again through the first one following along with the install on a Windows machine (which I never done before): https://www.youtube.com/watch?v=56sIyFjihEc&list=PLfYUBJiXbdtSLBPJ1GMx-sQWf6iNhb8mM\n",
    "\n",
    "Some comments:\n",
    "I did it on Windows 10 but Windows 11 is recommended (actually you will see how you can use Linux inside Windows)\n",
    "You will need permission levels on your OS that the agency will provide with much reluctance so the best is to find a machine where you can have full control\n",
    "I can tell you that in a matter of 1 hour you will learn a great deal and that it will be very rewarding\n",
    "There are few steps where you might struggle (when he opens the vi editor -which I use- but might seem cryptic). VI will be covered in later videos and not absolutely essential. Actually while you will have install (WSL - Windows Subsystem for Linux) you can also access files from your file explorer and edit them with notepad or anything you want\n",
    "maybe watching it a first time without touching your keyboard to see the big picture might be an option (though not sure). You can also skip many parts when the audience question is not that relevant... \n",
    "At the end of this video, you will know:\n",
    "How to install WSL\n",
    "How to use the command line basics\n",
    "How to get a clean and very flexible python toolbox (using mamba)\n",
    "Install and run jupyter lab or notebooks\n",
    "and a lot of pro tips along the way\n",
    "Once you finish it, I will provide you with a cheat sheet on how to use mamba, but also how to install netcdf-bin suite (ncdump, ...), ... and get \"marisco\" set up\n",
    "\n",
    "Take time to ingest this material\n",
    "if you struggle more than 5 min on one step, just let me know and let's join online to troubleshoot and put you back on track\n",
    " if you are really impatient on Python features for Data Science, this is your resource: https://wesmckinney.com/book (free online)\n",
    "Later on, you will have to have a minimum level of proficiency on Git and github. I am sure you will love it and obviously Jeremy is covering it in later videos.\n",
    "\n",
    "Kind regards,\n",
    "Franck"
   ]
  },
  {
   "cell_type": "markdown",
   "id": "2a61ad5c",
   "metadata": {},
   "source": [
    "\n",
    "franck Albinet <franckalbinet@gmail.com>\n",
    "Attachments\n",
    "Wed, 1 Feb, 16:22 (7 days ago)\n",
    "to Paul\n",
    "\n",
    "Hi Paul, \n",
    "\n",
    "Here below another batch of tutorials/resources:\n",
    "Mamba cheatsheet (how to create envs, install packages, ...). These are the commands I use most. Exercise: try to create one mamba environment, activate it, install pandas + Jupyter notebooks and see if you can reproduce some examples of this book: https://wesmckinney.com/book/\n",
    "To get to the essentials of Git and Github, please watch this video: https://www.youtube.com/watch?v=0pWjZByJ3Lk&list=PLfYUBJiXbdtSLBPJ1GMx-sQWf6iNhb8mM&index=2\n",
    "Last, watch this \"End-to-end Walkthrough\" of Nbdev: https://nbdev.fast.ai/tutorials/tutorial.html This is extremely convenient\n",
    "Cheers,\n",
    "Franck"
   ]
  }
 ],
 "metadata": {
  "kernelspec": {
   "display_name": "Python 3 (ipykernel)",
   "language": "python",
   "name": "python3"
  }
 },
 "nbformat": 4,
 "nbformat_minor": 5
}

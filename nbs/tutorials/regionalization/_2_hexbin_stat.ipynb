{
 "cells": [
  {
   "attachments": {},
   "cell_type": "markdown",
   "id": "68649e14",
   "metadata": {},
   "source": [
    "## Hexbin stats\n",
    "\n",
    "Refs:  \n",
    "- https://darribas.org/gds_course/content/bG/lab_G.html\n",
    "- https://geographicdata.science/book/notebooks/00_toc.html\n",
    "- https://geodacenter.github.io/documentation.html"
   ]
  },
  {
   "cell_type": "code",
   "execution_count": null,
   "id": "51ff8ff1",
   "metadata": {},
   "outputs": [],
   "source": [
    "%load_ext autoreload\n",
    "%autoreload 2"
   ]
  },
  {
   "cell_type": "code",
   "execution_count": null,
   "id": "47bcad2d",
   "metadata": {},
   "outputs": [],
   "source": [
    "import numpy as np\n",
    "import pandas as pd\n",
    "import geopandas as gpd\n",
    "\n",
    "from shapely.geometry import Polygon\n",
    "from pysal.lib import weights\n",
    "from libpysal.weights import w_subset\n",
    "import h3\n",
    "\n",
    "from palettable.tableau import Tableau_10\n",
    "import folium\n",
    "import seaborn as sns\n",
    "\n",
    "from sklearn.preprocessing import StandardScaler\n",
    "from sklearn.cluster import AgglomerativeClustering\n",
    "from sklearn.metrics import calinski_harabasz_score\n",
    "\n",
    "from functools import partial\n",
    "from pathlib import Path\n",
    "\n",
    "# from matplotlib import colors\n",
    "import matplotlib.pyplot as plt\n"
   ]
  },
  {
   "cell_type": "markdown",
   "id": "6c12c696",
   "metadata": {},
   "source": [
    "## Data loading"
   ]
  },
  {
   "cell_type": "code",
   "execution_count": null,
   "id": "27276e2d",
   "metadata": {},
   "outputs": [],
   "source": [
    "fname = Path.home() / 'pro/data/maris/maris-seawater-lamer-2023-07-25.csv'\n",
    "df = pd.read_csv(fname); df.shape"
   ]
  },
  {
   "cell_type": "code",
   "execution_count": null,
   "id": "27c5706e",
   "metadata": {},
   "outputs": [],
   "source": [
    "# Filtering out North Atlantic Ocean\n",
    "#df = df[df['area_name'] != 'North Atlantic Ocean']\n",
    "df['begperiod'] = pd.to_datetime(df['begperiod'])"
   ]
  },
  {
   "cell_type": "code",
   "execution_count": null,
   "id": "b50c42e8",
   "metadata": {},
   "outputs": [],
   "source": [
    "df.head()"
   ]
  },
  {
   "cell_type": "markdown",
   "id": "4edafc1c",
   "metadata": {},
   "source": [
    "## H3 encoding"
   ]
  },
  {
   "cell_type": "code",
   "execution_count": null,
   "id": "91c31d40",
   "metadata": {},
   "outputs": [],
   "source": [
    "# https://uber.github.io/h3-py/api_reference\n",
    "# https://h3geo.org/docs/quickstart\n",
    "def to_h3(row, resolution=1, lat_col='lat', lon_col='lon'): \n",
    "    return h3.latlng_to_cell(row[lat_col], row[lon_col], resolution)"
   ]
  },
  {
   "cell_type": "code",
   "execution_count": null,
   "id": "80f6e2e0",
   "metadata": {},
   "outputs": [],
   "source": [
    "resolution = 3\n",
    "df['h3_idx'] = df.apply(partial(to_h3, resolution=resolution), axis=1)"
   ]
  },
  {
   "cell_type": "code",
   "execution_count": null,
   "id": "921f9c9e",
   "metadata": {},
   "outputs": [],
   "source": [
    "df.head()"
   ]
  },
  {
   "cell_type": "code",
   "execution_count": null,
   "id": "36fbd71f",
   "metadata": {},
   "outputs": [],
   "source": [
    "df = df.dropna(subset='activity')"
   ]
  },
  {
   "cell_type": "code",
   "execution_count": null,
   "id": "e2994d2c",
   "metadata": {},
   "outputs": [],
   "source": [
    "df['activity_log'] = np.log10(df.activity)"
   ]
  },
  {
   "cell_type": "code",
   "execution_count": null,
   "id": "908dad94",
   "metadata": {},
   "outputs": [],
   "source": [
    "aggregations = {\n",
    "    'activity_log': [\n",
    "        ('q1', lambda x: np.percentile(x, 1)),\n",
    "        ('q2', lambda x: np.percentile(x, 2)),\n",
    "        ('q3', lambda x: np.percentile(x, 3)),\n",
    "        ('mean', 'mean'),\n",
    "        ('min', 'min'),\n",
    "        ('max', 'max'),\n",
    "        ('std', lambda x: np.nanstd(x)),\n",
    "        ('n', 'count')\n",
    "    ]\n",
    "}\n",
    "\n",
    "df_hex = df.groupby('h3_idx').agg(aggregations); df_hex\n"
   ]
  },
  {
   "cell_type": "code",
   "execution_count": null,
   "id": "9fec4233",
   "metadata": {},
   "outputs": [],
   "source": [
    "# Reset the column names for the result DataFrame if needed\n",
    "# result.columns = [f'{col[0]} ({col[1]})' for col in result.columns]\n",
    "df_hex.columns = [f'{col[1]}' for col in df_hex.columns]\n",
    "df_hex.reset_index(inplace=True)"
   ]
  },
  {
   "cell_type": "code",
   "execution_count": null,
   "id": "71fd97a0",
   "metadata": {},
   "outputs": [],
   "source": [
    "df_hex.head()"
   ]
  },
  {
   "cell_type": "code",
   "execution_count": null,
   "id": "4caaf55c",
   "metadata": {},
   "outputs": [],
   "source": [
    "plt.hist(df_hex.n, bins=20, alpha=1)\n",
    "plt.yscale('log')"
   ]
  },
  {
   "cell_type": "code",
   "execution_count": null,
   "id": "5fea033b",
   "metadata": {},
   "outputs": [],
   "source": [
    "def h3_to_polygon(h3_idx):\n",
    "    h3_idx_geojson = h3.cell_to_boundary(h3_idx, geo_json=True)\n",
    "    polygon = Polygon(h3_idx_geojson)\n",
    "    return polygon"
   ]
  },
  {
   "cell_type": "code",
   "execution_count": null,
   "id": "df57f361",
   "metadata": {},
   "outputs": [],
   "source": [
    "df_hex['geometry'] = df_hex['h3_idx'].apply(h3_to_polygon)"
   ]
  },
  {
   "cell_type": "code",
   "execution_count": null,
   "id": "159133e4",
   "metadata": {},
   "outputs": [],
   "source": [
    "df_hex.head()"
   ]
  },
  {
   "cell_type": "markdown",
   "id": "dd7c8bd5",
   "metadata": {},
   "source": [
    "## To Geopandas"
   ]
  },
  {
   "cell_type": "code",
   "execution_count": null,
   "id": "2cf4e16d",
   "metadata": {},
   "outputs": [],
   "source": [
    "gdf = gpd.GeoDataFrame(df_hex, geometry='geometry', crs=\"EPSG:4326\")"
   ]
  },
  {
   "cell_type": "code",
   "execution_count": null,
   "id": "be0f8fc8",
   "metadata": {},
   "outputs": [],
   "source": [
    "gdf.head()"
   ]
  },
  {
   "cell_type": "code",
   "execution_count": null,
   "id": "cc1da49c",
   "metadata": {},
   "outputs": [],
   "source": [
    "# gdf = gdf.to_crs(3857)"
   ]
  },
  {
   "cell_type": "code",
   "execution_count": null,
   "id": "5cef8634",
   "metadata": {},
   "outputs": [],
   "source": [
    "gdf.columns"
   ]
  },
  {
   "cell_type": "code",
   "execution_count": null,
   "id": "5c803cd9",
   "metadata": {},
   "outputs": [],
   "source": [
    "fig, ax = plt.subplots(figsize=(10, 10))\n",
    "\n",
    "gdf.plot(ax=ax, column='q2', cmap='OrRd', scheme='quantiles', \n",
    "         legend=True, legend_kwds={\"loc\": 2})\n",
    "\n",
    "ax.set_title(\"Mean Activity (Log10)\")\n",
    "ax.set_xlabel(\"Longitude\")\n",
    "ax.set_ylabel(\"Latitude\");"
   ]
  },
  {
   "cell_type": "markdown",
   "id": "ae993de1",
   "metadata": {},
   "source": [
    "## Regionalization"
   ]
  },
  {
   "cell_type": "markdown",
   "id": "bb614996",
   "metadata": {},
   "source": [
    "### Spatial weights"
   ]
  },
  {
   "cell_type": "markdown",
   "id": "06b2592d",
   "metadata": {},
   "source": [
    "#### Contiguity"
   ]
  },
  {
   "cell_type": "code",
   "execution_count": null,
   "id": "15de4b54",
   "metadata": {},
   "outputs": [],
   "source": [
    "wq = weights.contiguity.Queen.from_dataframe(gdf)"
   ]
  },
  {
   "cell_type": "code",
   "execution_count": null,
   "id": "0468af81",
   "metadata": {},
   "outputs": [],
   "source": [
    "#wq.islands"
   ]
  },
  {
   "cell_type": "markdown",
   "id": "b16046c6",
   "metadata": {},
   "source": [
    "#### K-nn"
   ]
  },
  {
   "cell_type": "code",
   "execution_count": null,
   "id": "fa0cb266",
   "metadata": {},
   "outputs": [],
   "source": [
    "wknn = weights.distance.KNN.from_dataframe(gdf, k=6)"
   ]
  },
  {
   "cell_type": "markdown",
   "id": "6b034b31",
   "metadata": {},
   "source": [
    "#### Merge (where islands)"
   ]
  },
  {
   "cell_type": "code",
   "execution_count": null,
   "id": "3d6e821a",
   "metadata": {},
   "outputs": [],
   "source": [
    "def merge(wq, wknn):\n",
    "    neighbors = wq.neighbors.copy()\n",
    "    for i in wq.islands:\n",
    "        neighbors[i] = list(wknn[i].keys())\n",
    "    return weights.W(neighbors)\n",
    "\n",
    "w = merge(wq, wknn)"
   ]
  },
  {
   "cell_type": "markdown",
   "id": "2c500a1b",
   "metadata": {},
   "source": [
    "#### Get disconnected components"
   ]
  },
  {
   "cell_type": "code",
   "execution_count": null,
   "id": "2961d5ac",
   "metadata": {},
   "outputs": [],
   "source": [
    "idx_cpt = lambda i: np.where(w.component_labels == i)[0]\n",
    "w_cpt = lambda i: w_subset(w, idx_cpt(i))\n",
    "\n",
    "w_cpt(1).neighbors"
   ]
  },
  {
   "cell_type": "markdown",
   "id": "21f4df91",
   "metadata": {},
   "source": [
    "## Clustering"
   ]
  },
  {
   "cell_type": "code",
   "execution_count": null,
   "id": "f6ed6c6e",
   "metadata": {},
   "outputs": [],
   "source": [
    "cpt = 0\n",
    "max_clusters = 20\n",
    "cols = ['q1', 'q2', 'q3', 'mean', 'min', 'max', 'std']\n"
   ]
  },
  {
   "cell_type": "code",
   "execution_count": null,
   "id": "d6901c0a",
   "metadata": {},
   "outputs": [],
   "source": [
    "X = gdf.iloc[idx_cpt(cpt)][cols].values; X.shape"
   ]
  },
  {
   "cell_type": "code",
   "execution_count": null,
   "id": "5c58e06d",
   "metadata": {},
   "outputs": [],
   "source": [
    "X = gdf.iloc[idx_cpt(cpt)][cols].values\n",
    "X_t = StandardScaler().fit_transform(X)\n",
    "\n",
    "for n in range(2, max_clusters+1):\n",
    "    model = AgglomerativeClustering(\n",
    "        linkage='ward', \n",
    "        connectivity=w_cpt(cpt).sparse,\n",
    "        n_clusters=n\n",
    "    )\n",
    "    model.fit(X_t)\n",
    "    \n",
    "    score = calinski_harabasz_score(X_t, model.labels_)\n",
    "    print(f'# clusters: {n} | score: {score}')"
   ]
  },
  {
   "cell_type": "code",
   "execution_count": null,
   "metadata": {},
   "outputs": [],
   "source": [
    "n_clusters = 5 \n",
    "cpt = 0\n",
    "X = gdf.iloc[idx_cpt(cpt)][cols].values\n",
    "X_t = StandardScaler().fit_transform(X)\n",
    "\n",
    "model = AgglomerativeClustering(\n",
    "    linkage='ward', \n",
    "    connectivity=w_cpt(cpt).sparse,\n",
    "    n_clusters=n_clusters\n",
    ")\n",
    "\n",
    "model.fit(X_t)"
   ]
  },
  {
   "cell_type": "markdown",
   "id": "715db4ca",
   "metadata": {},
   "source": [
    "### Visualize"
   ]
  },
  {
   "cell_type": "code",
   "execution_count": null,
   "id": "d05d75e1",
   "metadata": {},
   "outputs": [],
   "source": [
    "gdf_sub = gdf.iloc[idx_cpt(cpt),:].copy()\n",
    "gdf_sub['cluster'] = model.labels_"
   ]
  },
  {
   "cell_type": "code",
   "execution_count": null,
   "id": "27e18e7b",
   "metadata": {},
   "outputs": [],
   "source": [
    "fig, ax = plt.subplots(1, figsize=(9, 9))\n",
    "gdf_sub.plot(\n",
    "    column=\"cluster\",\n",
    "    categorical=True,\n",
    "    legend=True,\n",
    "    linewidth=0,\n",
    "    ax=ax,\n",
    "    legend_kwds={'loc': 'lower right'}\n",
    ")\n",
    "\n",
    "ax.set_axis_off()"
   ]
  },
  {
   "cell_type": "code",
   "execution_count": null,
   "id": "839dec67",
   "metadata": {},
   "outputs": [],
   "source": [
    "def style_function(feature, n_clusters, prop_name='cluster', palette=Tableau_10):\n",
    "    attribute_value = feature['properties'][prop_name]\n",
    "    return {'fillColor': palette.hex_colors[attribute_value], \n",
    "            'color': 'none', \n",
    "            'fillOpacity': 0.5}"
   ]
  },
  {
   "cell_type": "code",
   "execution_count": null,
   "id": "6962defa",
   "metadata": {},
   "outputs": [],
   "source": [
    "gdf = gdf_sub.to_crs(epsg=4326)\n",
    "\n",
    "m = folium.Map(location=[gdf_sub.centroid.y.mean(), \n",
    "                         gdf_sub.centroid.x.mean()], zoom_start=3)\n",
    "\n",
    "geojson_data = gdf_sub.to_json()\n",
    "\n",
    "folium.GeoJson(geojson_data, style_function=partial(style_function, n_clusters=n_clusters)).add_to(m)\n",
    "\n",
    "m"
   ]
  },
  {
   "cell_type": "code",
   "execution_count": null,
   "id": "9326d642",
   "metadata": {},
   "outputs": [],
   "source": [
    "sns.histplot(data=gdf_sub, x='mean', hue='cluster', \n",
    "             fill=False,\n",
    "             multiple='layer', \n",
    "             element='step',\n",
    "             palette=Tableau_10.mpl_colors,\n",
    "             kde=True, \n",
    "            #  alpha=0.6,\n",
    "             line_kws={'linestyle': 'dashed', 'alpha': 1}\n",
    "             )\n",
    "\n",
    "plt.xlabel('mean')\n",
    "plt.ylabel('Frequency');"
   ]
  },
  {
   "cell_type": "code",
   "execution_count": null,
   "id": "5a3f79ca",
   "metadata": {},
   "outputs": [],
   "source": [
    "sns.set(style=\"whitegrid\")\n",
    "g = sns.FacetGrid(gdf_sub, row='cluster', sharex=True, \n",
    "                  aspect=4, height=1.5,\n",
    "                  palette=Tableau_10.mpl_colors, hue='cluster')\n",
    "\n",
    "# g.map(sns.kdeplot, 'mean', color='blue', alpha=0.5, fill=True)\n",
    "g.map(sns.kdeplot, 'mean', alpha=0.5, fill=True)\n",
    "\n",
    "# Set plot labels and title\n",
    "g.set_axis_labels('mean', 'Density')\n",
    "g.fig.subplots_adjust(top=0.8)\n",
    "# g.fig.suptitle('Faceted KDE Plot with Adjusted Alpha');"
   ]
  },
  {
   "cell_type": "markdown",
   "id": "63e47ce5",
   "metadata": {},
   "source": [
    "### Mergin hexs within same cluster"
   ]
  },
  {
   "cell_type": "code",
   "execution_count": null,
   "id": "7c6bbffb",
   "metadata": {},
   "outputs": [],
   "source": [
    "gdf_sub.head()"
   ]
  },
  {
   "cell_type": "code",
   "execution_count": null,
   "id": "b2c6ac53",
   "metadata": {},
   "outputs": [],
   "source": [
    "gdf_sub[gdf_sub.cluster == 0].plot()"
   ]
  },
  {
   "cell_type": "code",
   "execution_count": null,
   "id": "ad7017e4",
   "metadata": {},
   "outputs": [],
   "source": [
    "cluster = 0\n",
    "geom = gdf_sub[gdf_sub.cluster == cluster].buffer(0.001).unary_union\n",
    "gdf_cluster_union = gpd.GeoDataFrame({'geometry': [geom]})\n",
    "gdf_cluster_union.plot();"
   ]
  }
 ],
 "metadata": {
  "kernelspec": {
   "display_name": "python3",
   "language": "python",
   "name": "python3"
  }
 },
 "nbformat": 4,
 "nbformat_minor": 5
}

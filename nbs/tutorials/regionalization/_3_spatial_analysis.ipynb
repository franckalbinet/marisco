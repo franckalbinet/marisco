{
 "cells": [
  {
   "attachments": {},
   "cell_type": "markdown",
   "id": "68649e14",
   "metadata": {},
   "source": [
    "# MARIS seawater data \n",
    "\n",
    "> A Spatial analysis treatment\n",
    "\n",
    "Refs:  \n",
    "- https://darribas.org/gds_course/content/bG/lab_G.html\n",
    "- https://geographicdata.science/book/notebooks/00_toc.html\n",
    "- https://geodacenter.github.io/documentation.html"
   ]
  },
  {
   "cell_type": "code",
   "execution_count": null,
   "id": "51ff8ff1",
   "metadata": {},
   "outputs": [],
   "source": [
    "%load_ext autoreload\n",
    "%autoreload 2"
   ]
  },
  {
   "cell_type": "code",
   "execution_count": null,
   "id": "47bcad2d",
   "metadata": {},
   "outputs": [],
   "source": [
    "from pathlib import Path\n",
    "\n",
    "import numpy as np\n",
    "import pandas as pd\n",
    "import geopandas as gpd\n",
    "\n",
    "from shapely.geometry import Point\n",
    "\n",
    "from pysal.explore import esda\n",
    "from pysal.lib import weights\n",
    "\n",
    "import matplotlib.pyplot as plt\n",
    "import seaborn\n",
    "import contextily\n",
    "\n",
    "from splot import esda as esdaplot"
   ]
  },
  {
   "cell_type": "markdown",
   "id": "254f8286",
   "metadata": {},
   "source": [
    "## Utilities"
   ]
  },
  {
   "cell_type": "code",
   "execution_count": null,
   "id": "24c393b6",
   "metadata": {},
   "outputs": [],
   "source": [
    "def quick_plot(db, column='activity', alpha=0.5, ms=3):\n",
    "    f, ax = plt.subplots(1, figsize=(9, 9))\n",
    "    db.plot(\n",
    "        column=column,\n",
    "        cmap=\"viridis\",\n",
    "        scheme=\"quantiles\",\n",
    "        k=5,\n",
    "        edgecolor=\"white\",\n",
    "        linewidth=0.0,\n",
    "        alpha=alpha,\n",
    "        legend=True,\n",
    "        legend_kwds={\"loc\": 2},\n",
    "        ax=ax,\n",
    "        markersize=ms\n",
    "    )\n",
    "    contextily.add_basemap(\n",
    "        ax,\n",
    "        crs=db.crs,\n",
    "        source=contextily.providers.CartoDB.Positron\n",
    "        \n",
    "    )\n",
    "    ax.set_axis_off()"
   ]
  },
  {
   "cell_type": "markdown",
   "id": "6c12c696",
   "metadata": {},
   "source": [
    "## Data loading"
   ]
  },
  {
   "cell_type": "code",
   "execution_count": null,
   "id": "27276e2d",
   "metadata": {},
   "outputs": [],
   "source": [
    "fname = Path.home() / 'pro/data/maris/maris-seawater-lamer-2023-07-25.csv'\n",
    "df = pd.read_csv(fname); df.shape"
   ]
  },
  {
   "cell_type": "code",
   "execution_count": null,
   "id": "27c5706e",
   "metadata": {},
   "outputs": [],
   "source": [
    "# Filtering out North Atlantic Ocean\n",
    "#df = df[df['area_name'] != 'North Atlantic Ocean']"
   ]
  },
  {
   "cell_type": "code",
   "execution_count": null,
   "id": "0c5473a3",
   "metadata": {},
   "outputs": [],
   "source": [
    "df['begperiod'] = pd.to_datetime(df['begperiod'])"
   ]
  },
  {
   "cell_type": "code",
   "execution_count": null,
   "id": "b50c42e8",
   "metadata": {},
   "outputs": [],
   "source": [
    "df.head()"
   ]
  },
  {
   "cell_type": "markdown",
   "id": "405834fa",
   "metadata": {},
   "source": [
    "## Preview"
   ]
  },
  {
   "cell_type": "code",
   "execution_count": null,
   "id": "3e100d65",
   "metadata": {},
   "outputs": [],
   "source": [
    "geometry = [Point(lon, lat) for lon, lat in zip(df['lon'], df['lat'])]\n",
    "\n",
    "db = (\n",
    "    (gpd.GeoDataFrame(df, geometry=geometry, crs=\"EPSG:4326\"))\n",
    "    .to_crs(epsg=3857)[\n",
    "    [\"area_name\", \"begperiod\", \"activity\", \"geometry\"]\n",
    "    ]\n",
    "    .dropna()\n",
    "    )\n",
    "db.info()"
   ]
  },
  {
   "cell_type": "code",
   "execution_count": null,
   "id": "15764551",
   "metadata": {},
   "outputs": [],
   "source": [
    "# Plotting activity\n",
    "f, ax = plt.subplots(1, figsize=(9, 9))\n",
    "db.plot(\n",
    "    column=\"activity\",\n",
    "    cmap=\"viridis\",\n",
    "    scheme=\"quantiles\",\n",
    "    k=5,\n",
    "    edgecolor=\"white\",\n",
    "    linewidth=0.0,\n",
    "    alpha=0.5,\n",
    "    legend=True,\n",
    "    legend_kwds={\"loc\": 2},\n",
    "    ax=ax,\n",
    "    markersize=3\n",
    ")\n",
    "contextily.add_basemap(\n",
    "    ax,\n",
    "    crs=db.crs,\n",
    "    source=contextily.providers.CartoDB.Positron\n",
    "    \n",
    ")\n",
    "ax.set_axis_off()"
   ]
  },
  {
   "cell_type": "markdown",
   "id": "0a7012b5",
   "metadata": {},
   "source": [
    "## Global spatial autocorrelation"
   ]
  },
  {
   "cell_type": "code",
   "execution_count": null,
   "id": "1fc61168",
   "metadata": {},
   "outputs": [],
   "source": [
    "# Generate W from the GeoDataFrame\n",
    "w = weights.KNN.from_dataframe(db, k=8)\n",
    "# Row-standardization\n",
    "w.transform = \"R\""
   ]
  },
  {
   "cell_type": "code",
   "execution_count": null,
   "id": "66760942",
   "metadata": {},
   "outputs": [],
   "source": [
    "db[\"activity_lag\"] = weights.spatial_lag.lag_spatial(\n",
    "    w, db[\"activity\"]\n",
    ")"
   ]
  },
  {
   "cell_type": "code",
   "execution_count": null,
   "id": "b046b3bb",
   "metadata": {},
   "outputs": [],
   "source": [
    "db.head()"
   ]
  },
  {
   "cell_type": "markdown",
   "id": "5dbdf960",
   "metadata": {},
   "source": [
    "### Smoothing nature of spatial lag"
   ]
  },
  {
   "cell_type": "code",
   "execution_count": null,
   "id": "73f08e82",
   "metadata": {},
   "outputs": [],
   "source": [
    "f, axs = plt.subplots(1, 2, figsize=(20, 10))\n",
    "ax1, ax2 = axs\n",
    "\n",
    "db.plot(\n",
    "    column=\"activity\",\n",
    "    cmap=\"viridis\",\n",
    "    scheme=\"quantiles\",\n",
    "    k=5,\n",
    "    edgecolor=\"white\",\n",
    "    linewidth=0.0,\n",
    "    alpha=0.5,\n",
    "    legend=True,\n",
    "    markersize=3,\n",
    "    ax=ax1,\n",
    ")\n",
    "ax1.set_axis_off()\n",
    "ax1.set_title(\"Activity\")\n",
    "contextily.add_basemap(\n",
    "    ax1,\n",
    "    crs=db.crs,\n",
    "    source=contextily.providers.CartoDB.Positron,\n",
    ")\n",
    "\n",
    "db.plot(\n",
    "    column=\"activity_lag\",\n",
    "    cmap=\"viridis\",\n",
    "    scheme=\"quantiles\",\n",
    "    k=5,\n",
    "    edgecolor=\"white\",\n",
    "    linewidth=0.0,\n",
    "    alpha=0.5,\n",
    "    legend=True,\n",
    "    markersize=3,\n",
    "    ax=ax2,\n",
    ")\n",
    "ax2.set_axis_off()\n",
    "ax2.set_title(\"Activity Lag\")\n",
    "contextily.add_basemap(\n",
    "    ax2,\n",
    "    crs=db.crs,\n",
    "    source=contextily.providers.CartoDB.Positron,\n",
    ")"
   ]
  },
  {
   "cell_type": "markdown",
   "id": "677cbdb5",
   "metadata": {},
   "source": [
    "### Moran Plot and Moran’s I"
   ]
  },
  {
   "cell_type": "code",
   "execution_count": null,
   "id": "3823fe90",
   "metadata": {},
   "outputs": [],
   "source": [
    "db['activity_log'] = np.log10(db.activity)"
   ]
  },
  {
   "cell_type": "code",
   "execution_count": null,
   "id": "5efa6079",
   "metadata": {},
   "outputs": [],
   "source": [
    "db[\"activity_std\"] = db[\"activity_log\"] - db[\"activity_log\"].mean()\n",
    "db[\"activity_lag_std\"] = weights.lag_spatial(\n",
    "    w, db[\"activity_std\"]\n",
    ")"
   ]
  },
  {
   "cell_type": "code",
   "execution_count": null,
   "id": "dc0968b9",
   "metadata": {},
   "outputs": [],
   "source": [
    "db.head()"
   ]
  },
  {
   "cell_type": "code",
   "execution_count": null,
   "id": "ddaeb420",
   "metadata": {},
   "outputs": [],
   "source": [
    "f, ax = plt.subplots(1, figsize=(6, 6))\n",
    "seaborn.regplot(\n",
    "    x=\"activity_std\",\n",
    "    y=\"activity_lag_std\",\n",
    "    ci=None,\n",
    "    data=db,\n",
    "    line_kws={\"color\": \"r\", \"lw\":1.5},\n",
    "    scatter_kws={\"alpha\": 0.3, \"s\": 2}\n",
    ")\n",
    "ax.axvline(0, c=\"k\", alpha=0.5)\n",
    "ax.axhline(0, c=\"k\", alpha=0.5)\n",
    "ax.set_xlabel(\"activity\")\n",
    "ax.set_ylabel(\"activity lag\")\n",
    "ax.set_title(\"Moran Plot - Activity (log-transformed and standardized)\");"
   ]
  },
  {
   "cell_type": "markdown",
   "id": "047079cb",
   "metadata": {},
   "source": [
    "The plot displays a positive relationship between both variables. This is indicates the presence of positive spatial autocorrelation: similar values tend to be located close to each other. This means that the overall trend is for high values to be close to other high values, and for low values to be surrounded by other low values. This, however, does not mean that this is the only case in the dataset: there can of course be particular situations where high values are surrounded by low ones, and vice versa. But it means that, if we had to summarize the main pattern of the data in terms of how clustered similar values are, the best way would be to say they are positively correlated and, hence, clustered over space. "
   ]
  },
  {
   "cell_type": "code",
   "execution_count": null,
   "id": "6db482d7",
   "metadata": {},
   "outputs": [],
   "source": [
    "w.transform = \"R\"\n",
    "moran = esda.moran.Moran(db[\"activity_log\"], w)"
   ]
  },
  {
   "cell_type": "code",
   "execution_count": null,
   "id": "e50de807",
   "metadata": {},
   "outputs": [],
   "source": [
    "moran.I"
   ]
  },
  {
   "cell_type": "code",
   "execution_count": null,
   "id": "10b9beeb",
   "metadata": {},
   "outputs": [],
   "source": [
    "moran.p_sim"
   ]
  },
  {
   "cell_type": "markdown",
   "id": "eee9e51d",
   "metadata": {},
   "source": [
    "#### By IHO region"
   ]
  },
  {
   "cell_type": "code",
   "execution_count": null,
   "id": "74dd365b",
   "metadata": {},
   "outputs": [],
   "source": [
    "db.area_name.unique()"
   ]
  },
  {
   "cell_type": "code",
   "execution_count": null,
   "id": "27eab159",
   "metadata": {},
   "outputs": [],
   "source": [
    "morans = {'area_name': [], 'moran.I': [], 'moran.p_sim': [], 'n': []}\n",
    "knn = 8\n",
    "for name, df in db.groupby('area_name'):\n",
    "    if len(df) > 1:\n",
    "        w_iho = weights.KNN.from_dataframe(df, k=knn, silence_warnings=True)\n",
    "        w_iho.transform = \"R\"\n",
    "        moran = esda.moran.Moran(df[\"activity_log\"], w_iho)\n",
    "        morans['area_name'].append(name)\n",
    "        morans['moran.I'].append(moran.I)\n",
    "        morans['moran.p_sim'].append(moran.p_sim)\n",
    "        morans['n'].append(len(df))\n",
    "    else:\n",
    "        print(f'area_name: {name} # of measurements < # of knn: {knn}')\n",
    "        \n",
    "df_morans = pd.DataFrame(morans)\n",
    "df_morans.sort_values(by=['moran.I'], ascending=False)"
   ]
  },
  {
   "cell_type": "code",
   "execution_count": null,
   "id": "dffb4147",
   "metadata": {},
   "outputs": [],
   "source": [
    "area_name = \"Irish Sea and St. George's Channel\"\n",
    "quick_plot(db[db.area_name==area_name], column='activity_log', alpha=1, ms=5)"
   ]
  },
  {
   "cell_type": "code",
   "execution_count": null,
   "id": "86a6cc22",
   "metadata": {},
   "outputs": [],
   "source": [
    "area_name = \"Kattegat\"\n",
    "quick_plot(db[db.area_name==area_name], column='activity_log', alpha=1, ms=5)"
   ]
  },
  {
   "cell_type": "code",
   "execution_count": null,
   "id": "e2cd5302",
   "metadata": {},
   "outputs": [],
   "source": [
    "area_name = \"English Channel\"\n",
    "quick_plot(db[db.area_name==area_name], column='activity_log', alpha=1, ms=5)"
   ]
  },
  {
   "cell_type": "code",
   "execution_count": null,
   "id": "bd8936bb",
   "metadata": {},
   "outputs": [],
   "source": [
    "for name, df in db.groupby('area_name'):\n",
    "    f, ax = plt.subplots(1, figsize=(3, 3))\n",
    "    seaborn.regplot(\n",
    "        x=\"activity_std\",\n",
    "        y=\"activity_lag_std\",\n",
    "        ci=None,\n",
    "        data=df,\n",
    "        line_kws={\"color\": \"r\", \"lw\":1.5},\n",
    "        scatter_kws={\"alpha\": 0.5, \"s\": 2}\n",
    "    )\n",
    "    ax.axvline(0, c=\"k\", alpha=0.5)\n",
    "    ax.axhline(0, c=\"k\", alpha=0.5)\n",
    "    ax.set_xlabel(\"activity\")\n",
    "    ax.set_ylabel(\"activity lag\")\n",
    "    ax.set_title(f\"Moran Plot: {name} - Activity (log-transformed and standardized)\")"
   ]
  },
  {
   "cell_type": "markdown",
   "id": "b12298a2",
   "metadata": {},
   "source": [
    "## Local spatial autocorrelation"
   ]
  },
  {
   "cell_type": "markdown",
   "id": "bb18793a",
   "metadata": {},
   "source": [
    "Moran’s \n",
    " does not indicate areas within the map where specific types of values (e.g., high, low) are clustered, or instances of explicit dispersion. In other words, Moran’s I can tell us whether values in our map cluster together (or disperse) overall, but it will not inform us about where specific clusters (or outliers) are."
   ]
  },
  {
   "cell_type": "code",
   "execution_count": null,
   "id": "bc7bb21f",
   "metadata": {},
   "outputs": [],
   "source": [
    "lisa = esda.moran.Moran_Local(db[\"activity_log\"], w)"
   ]
  },
  {
   "cell_type": "code",
   "execution_count": null,
   "id": "c5d24346",
   "metadata": {},
   "outputs": [],
   "source": [
    "ax = seaborn.kdeplot(lisa.Is)\n",
    "seaborn.rugplot(lisa.Is, ax=ax, alpha=0.2);"
   ]
  },
  {
   "cell_type": "code",
   "execution_count": null,
   "id": "3d80e7bd",
   "metadata": {},
   "outputs": [],
   "source": []
  },
  {
   "cell_type": "code",
   "execution_count": null,
   "id": "0106770a",
   "metadata": {},
   "outputs": [],
   "source": [
    "# Set up figure and axes\n",
    "f, axs = plt.subplots(nrows=2, ncols=2, figsize=(12, 12))\n",
    "# Make the axes accessible with single indexing\n",
    "axs = axs.flatten()\n",
    "\n",
    "# Subplot 1 #\n",
    "# Choropleth of local statistics\n",
    "# Grab first axis in the figure\n",
    "ax = axs[0]\n",
    "# Assign new column with local statistics on-the-fly\n",
    "db.assign(\n",
    "    Is=lisa.Is\n",
    "    # Plot choropleth of local statistics\n",
    ").plot(\n",
    "    column=\"Is\",\n",
    "    cmap=\"plasma\",\n",
    "    scheme=\"quantiles\",\n",
    "    k=5,\n",
    "    edgecolor=\"white\",\n",
    "    linewidth=0.1,\n",
    "    alpha=0.5,\n",
    "    legend=True,\n",
    "    markersize=3,\n",
    "    ax=ax,\n",
    ")\n",
    "\n",
    "# Subplot 2 #\n",
    "# Quadrant categories\n",
    "# Grab second axis of local statistics\n",
    "ax = axs[1]\n",
    "# Plot Quadrant colors (note to ensure all polygons are assigned a\n",
    "# quadrant, we \"trick\" the function by setting significance level to\n",
    "# 1 so all observations are treated as \"significant\" and thus assigned\n",
    "# a quadrant color\n",
    "esdaplot.lisa_cluster(lisa, db, p=1, ax=ax, markersize=0.1, alpha=0.5)\n",
    "\n",
    "# Subplot 3 #\n",
    "# Significance map\n",
    "# Grab third axis of local statistics\n",
    "ax = axs[2]\n",
    "#\n",
    "# Find out significant observations\n",
    "labels = pd.Series(\n",
    "    1 * (lisa.p_sim < 0.05),  # Assign 1 if significant, 0 otherwise\n",
    "    index=db.index  # Use the index in the original data\n",
    "    # Recode 1 to \"Significant and 0 to \"Non-significant\"\n",
    ").map({1: \"Significant\", 0: \"Non-Significant\"})\n",
    "# Assign labels to `db` on the fly\n",
    "db.assign(\n",
    "    cl=labels\n",
    "    # Plot choropleth of (non-)significant areas\n",
    ").plot(\n",
    "    column=\"cl\",\n",
    "    categorical=True,\n",
    "    k=2,\n",
    "    cmap=\"Paired\",\n",
    "    linewidth=0.1,\n",
    "    edgecolor=\"white\",\n",
    "    legend=True,\n",
    "    alpha=0.8,\n",
    "    markersize=1,\n",
    "    ax=ax,\n",
    ")\n",
    "\n",
    "# Subplot 4 #\n",
    "# Cluster map\n",
    "# Grab second axis of local statistics\n",
    "ax = axs[3]\n",
    "# Plot Quadrant colors In this case, we use a 5% significance\n",
    "# level to select polygons as part of statistically significant\n",
    "# clusters\n",
    "esdaplot.lisa_cluster(lisa, db, p=0.05, ax=ax, markersize=0.5, alpha=0.5)\n",
    "\n",
    "# Figure styling #\n",
    "# Set title to each subplot\n",
    "for i, ax in enumerate(axs.flatten()):\n",
    "    ax.set_axis_off()\n",
    "    ax.set_title(\n",
    "        [\n",
    "            \"Local Statistics\",\n",
    "            \"Scatterplot Quadrant\",\n",
    "            \"Statistical Significance\",\n",
    "            \"Moran Cluster Map\",\n",
    "        ][i],\n",
    "        y=0,\n",
    "    )\n",
    "# Tight layout to minimize in-between white space\n",
    "f.tight_layout()"
   ]
  },
  {
   "cell_type": "markdown",
   "id": "204e84bb",
   "metadata": {},
   "source": [
    "## Point pattern analysis"
   ]
  },
  {
   "cell_type": "code",
   "execution_count": null,
   "id": "f79215fc",
   "metadata": {},
   "outputs": [],
   "source": [
    "db['longitude'] = db.get_coordinates().x\n",
    "db['latitude'] = db.get_coordinates().y"
   ]
  },
  {
   "cell_type": "code",
   "execution_count": null,
   "id": "18a62bb3",
   "metadata": {},
   "outputs": [],
   "source": [
    "seaborn.jointplot(x=\"longitude\", y=\"latitude\", data=db, s=0.5);"
   ]
  },
  {
   "cell_type": "code",
   "execution_count": null,
   "id": "8045d119",
   "metadata": {},
   "outputs": [],
   "source": [
    "# Generate scatter plot\n",
    "joint_axes = seaborn.jointplot(\n",
    "    x=\"longitude\", y=\"latitude\", data=db, s=0.5\n",
    ")\n",
    "contextily.add_basemap(\n",
    "    joint_axes.ax_joint,\n",
    "    crs=db.crs,\n",
    "    source=contextily.providers.CartoDB.PositronNoLabels,\n",
    ");"
   ]
  },
  {
   "cell_type": "code",
   "execution_count": null,
   "id": "49407db2",
   "metadata": {},
   "outputs": [],
   "source": [
    "# Set up figure and axis\n",
    "f, ax = plt.subplots(1, figsize=(12, 9))\n",
    "# Generate and add hexbin with 50 hexagons in each\n",
    "# dimension, no borderlines, half transparency,\n",
    "# and the reverse viridis colormap\n",
    "hb = ax.hexbin(\n",
    "    db[\"longitude\"],\n",
    "    db[\"latitude\"],\n",
    "    gridsize=50,\n",
    "    linewidths=0,\n",
    "    alpha=0.5,\n",
    "    cmap=\"viridis_r\",\n",
    ")\n",
    "# Add basemap\n",
    "contextily.add_basemap(\n",
    "    ax, source=contextily.providers.CartoDB.Positron\n",
    ")\n",
    "# Add colorbar\n",
    "plt.colorbar(hb)\n",
    "# Remove axes\n",
    "ax.set_axis_off()"
   ]
  },
  {
   "cell_type": "code",
   "execution_count": null,
   "id": "46f03753",
   "metadata": {},
   "outputs": [],
   "source": [
    "# Set up figure and axis\n",
    "f, ax = plt.subplots(1, figsize=(9, 9))\n",
    "# Generate and add KDE with a shading of 50 gradients\n",
    "# coloured contours, 75% of transparency,\n",
    "# and the reverse viridis colormap\n",
    "seaborn.kdeplot(\n",
    "    x=\"longitude\",\n",
    "    y=\"latitude\",\n",
    "    data=db,\n",
    "    n_levels=50,\n",
    "    shade=True,\n",
    "    alpha=0.55,\n",
    "    cmap=\"viridis_r\",\n",
    ")\n",
    "# Add basemap\n",
    "contextily.add_basemap(\n",
    "    ax, source=contextily.providers.CartoDB.Positron\n",
    ")\n",
    "# Remove axes\n",
    "ax.set_axis_off()"
   ]
  },
  {
   "cell_type": "code",
   "execution_count": null,
   "id": "53e3f5c0",
   "metadata": {},
   "outputs": [],
   "source": [
    "    "
   ]
  }
 ],
 "metadata": {
  "kernelspec": {
   "display_name": "python3",
   "language": "python",
   "name": "python3"
  }
 },
 "nbformat": 4,
 "nbformat_minor": 5
}

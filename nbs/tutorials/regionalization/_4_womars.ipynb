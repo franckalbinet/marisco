{
 "cells": [
  {
   "attachments": {},
   "cell_type": "markdown",
   "id": "68649e14",
   "metadata": {},
   "source": [
    "## WOMARS regionalization\n",
    "\n",
    "**WOMARS** stands for **W**orldwide **M**arine **R**adioactivity **S**tudies."
   ]
  },
  {
   "cell_type": "code",
   "execution_count": null,
   "id": "51ff8ff1",
   "metadata": {},
   "outputs": [],
   "source": [
    "%load_ext autoreload\n",
    "%autoreload 2"
   ]
  },
  {
   "cell_type": "code",
   "execution_count": null,
   "id": "47bcad2d",
   "metadata": {},
   "outputs": [],
   "source": [
    "import numpy as np\n",
    "import pandas as pd\n",
    "import geopandas as gpd\n",
    "\n",
    "from shapely.geometry import Polygon, Point\n",
    "from pysal.lib import weights\n",
    "from libpysal.weights import w_subset\n",
    "import h3\n",
    "\n",
    "from palettable.tableau import Tableau_10\n",
    "import folium\n",
    "import seaborn as sns\n",
    "import contextily\n",
    "\n",
    "from sklearn.preprocessing import StandardScaler\n",
    "from sklearn.cluster import AgglomerativeClustering\n",
    "from sklearn.metrics import calinski_harabasz_score\n",
    "\n",
    "from functools import partial\n",
    "from pathlib import Path\n",
    "\n",
    "# from matplotlib import colors\n",
    "import matplotlib.pyplot as plt\n"
   ]
  },
  {
   "cell_type": "markdown",
   "id": "6c12c696",
   "metadata": {},
   "source": [
    "## Data loading"
   ]
  },
  {
   "cell_type": "code",
   "execution_count": null,
   "id": "27276e2d",
   "metadata": {},
   "outputs": [],
   "source": [
    "fname = Path.home() / 'pro/data/maris/190130 Seawater10m_Sediment_1991-2000.xlsx'\n",
    "df = pd.read_excel(fname, sheet_name='Seawater_137Cs'); df.shape"
   ]
  },
  {
   "cell_type": "code",
   "execution_count": null,
   "id": "9af7ea5f",
   "metadata": {},
   "outputs": [],
   "source": [
    "df.head()"
   ]
  },
  {
   "cell_type": "markdown",
   "id": "c276951c",
   "metadata": {},
   "source": [
    "### Data selection & preprocessing"
   ]
  },
  {
   "cell_type": "code",
   "execution_count": null,
   "id": "27c5706e",
   "metadata": {},
   "outputs": [],
   "source": [
    "df['begperiod'] = pd.to_datetime(df['begperiod'])\n",
    "df = df[['longitude', 'latitude', 'begperiod', 'activity,MDA/2']]\n",
    "df.columns = ['lon', 'lat', 'time', 'activity']"
   ]
  },
  {
   "cell_type": "code",
   "execution_count": null,
   "id": "b50c42e8",
   "metadata": {},
   "outputs": [],
   "source": [
    "df.head()"
   ]
  },
  {
   "cell_type": "code",
   "execution_count": null,
   "id": "f10aab3b",
   "metadata": {},
   "outputs": [],
   "source": [
    "df['activity'].plot(kind='hist', logy=True,bins=20);  "
   ]
  },
  {
   "cell_type": "code",
   "execution_count": null,
   "id": "d362a8ff",
   "metadata": {},
   "outputs": [],
   "source": [
    "geometry = [Point(lon, lat) for lon, lat in zip(df['lon'], df['lat'])]\n",
    "\n",
    "db = (\n",
    "    (gpd.GeoDataFrame(df, geometry=geometry, crs=\"EPSG:4326\"))\n",
    "    .to_crs(epsg=3857)[['time', 'activity', 'geometry']]\n",
    "    .dropna()\n",
    "    )\n",
    "db.info()"
   ]
  },
  {
   "cell_type": "code",
   "execution_count": null,
   "id": "8d5f2756",
   "metadata": {},
   "outputs": [],
   "source": [
    "# Plotting activity\n",
    "f, ax = plt.subplots(1, figsize=(9, 9))\n",
    "db.plot(\n",
    "    column=\"activity\",\n",
    "    cmap=\"viridis\",\n",
    "    scheme=\"quantiles\",\n",
    "    k=5,\n",
    "    edgecolor=\"white\",\n",
    "    linewidth=0.0,\n",
    "    alpha=0.5,\n",
    "    legend=True,\n",
    "    legend_kwds={\"loc\": 2},\n",
    "    ax=ax,\n",
    "    markersize=3\n",
    ")\n",
    "contextily.add_basemap(\n",
    "    ax,\n",
    "    crs=db.crs,\n",
    "    source=contextily.providers.CartoDB.Positron\n",
    "    \n",
    ")\n",
    "ax.set_axis_off()"
   ]
  },
  {
   "cell_type": "markdown",
   "id": "4edafc1c",
   "metadata": {},
   "source": [
    "## H3 encoding"
   ]
  },
  {
   "cell_type": "code",
   "execution_count": null,
   "id": "91c31d40",
   "metadata": {},
   "outputs": [],
   "source": [
    "# https://uber.github.io/h3-py/api_reference\n",
    "# https://h3geo.org/docs/quickstart\n",
    "def to_h3(row, resolution=1, lat_col='lat', lon_col='lon'): \n",
    "    return h3.latlng_to_cell(row[lat_col], row[lon_col], resolution)"
   ]
  },
  {
   "cell_type": "code",
   "execution_count": null,
   "id": "80f6e2e0",
   "metadata": {},
   "outputs": [],
   "source": [
    "resolution = 3\n",
    "df['h3_idx'] = df.apply(partial(to_h3, resolution=resolution), axis=1)"
   ]
  },
  {
   "cell_type": "code",
   "execution_count": null,
   "id": "921f9c9e",
   "metadata": {},
   "outputs": [],
   "source": [
    "df.head()"
   ]
  },
  {
   "cell_type": "code",
   "execution_count": null,
   "id": "55ed4420",
   "metadata": {},
   "outputs": [],
   "source": [
    "df['h3_idx'].value_counts().plot(kind='hist', logy=True,bins=20)"
   ]
  },
  {
   "cell_type": "code",
   "execution_count": null,
   "id": "e2994d2c",
   "metadata": {},
   "outputs": [],
   "source": [
    "df['activity_log'] = np.log10(df.activity)"
   ]
  },
  {
   "cell_type": "code",
   "execution_count": null,
   "id": "908dad94",
   "metadata": {},
   "outputs": [],
   "source": [
    "aggregations = {\n",
    "    'activity_log': [\n",
    "        ('q1', lambda x: np.percentile(x, 1)),\n",
    "        ('q2', lambda x: np.percentile(x, 2)),\n",
    "        ('q3', lambda x: np.percentile(x, 3)),\n",
    "        ('mean', 'mean'),\n",
    "        ('min', 'min'),\n",
    "        ('max', 'max'),\n",
    "        ('std', lambda x: np.nanstd(x)),\n",
    "        ('n', 'count')\n",
    "    ]\n",
    "}\n",
    "\n",
    "df_hex = df.groupby('h3_idx').agg(aggregations); df_hex\n"
   ]
  },
  {
   "cell_type": "code",
   "execution_count": null,
   "id": "9fec4233",
   "metadata": {},
   "outputs": [],
   "source": [
    "# Reset the column names for the result DataFrame if needed\n",
    "# result.columns = [f'{col[0]} ({col[1]})' for col in result.columns]\n",
    "df_hex.columns = [f'{col[1]}' for col in df_hex.columns]\n",
    "df_hex.reset_index(inplace=True)"
   ]
  },
  {
   "cell_type": "code",
   "execution_count": null,
   "id": "71fd97a0",
   "metadata": {},
   "outputs": [],
   "source": [
    "df_hex.head()"
   ]
  },
  {
   "cell_type": "code",
   "execution_count": null,
   "id": "4caaf55c",
   "metadata": {},
   "outputs": [],
   "source": [
    "df_hex.n.plot(kind='hist', logy=True,bins=20);"
   ]
  },
  {
   "cell_type": "code",
   "execution_count": null,
   "id": "5fea033b",
   "metadata": {},
   "outputs": [],
   "source": [
    "def h3_to_polygon(h3_idx):\n",
    "    h3_idx_geojson = h3.cell_to_boundary(h3_idx, geo_json=True)\n",
    "    polygon = Polygon(h3_idx_geojson)\n",
    "    return polygon"
   ]
  },
  {
   "cell_type": "code",
   "execution_count": null,
   "id": "df57f361",
   "metadata": {},
   "outputs": [],
   "source": [
    "df_hex['geometry'] = df_hex['h3_idx'].apply(h3_to_polygon)"
   ]
  },
  {
   "cell_type": "code",
   "execution_count": null,
   "id": "159133e4",
   "metadata": {},
   "outputs": [],
   "source": [
    "df_hex.head()"
   ]
  },
  {
   "cell_type": "markdown",
   "id": "dd7c8bd5",
   "metadata": {},
   "source": [
    "## To Geopandas"
   ]
  },
  {
   "cell_type": "code",
   "execution_count": null,
   "id": "2cf4e16d",
   "metadata": {},
   "outputs": [],
   "source": [
    "gdf = gpd.GeoDataFrame(df_hex, geometry='geometry', crs=\"EPSG:4326\")"
   ]
  },
  {
   "cell_type": "code",
   "execution_count": null,
   "id": "be0f8fc8",
   "metadata": {},
   "outputs": [],
   "source": [
    "gdf.head()"
   ]
  },
  {
   "cell_type": "code",
   "execution_count": null,
   "id": "cc1da49c",
   "metadata": {},
   "outputs": [],
   "source": [
    "# gdf = gdf.to_crs(3857)"
   ]
  },
  {
   "cell_type": "code",
   "execution_count": null,
   "id": "5cef8634",
   "metadata": {},
   "outputs": [],
   "source": [
    "gdf.columns"
   ]
  },
  {
   "cell_type": "code",
   "execution_count": null,
   "id": "5c803cd9",
   "metadata": {},
   "outputs": [],
   "source": [
    "fig, ax = plt.subplots(figsize=(10, 10))\n",
    "\n",
    "gdf.plot(ax=ax, column='q2', cmap='OrRd', scheme='quantiles', \n",
    "         legend=True, legend_kwds={\"loc\": 2})\n",
    "\n",
    "ax.set_title(\"Mean Activity (Log10)\")\n",
    "ax.set_xlabel(\"Longitude\")\n",
    "ax.set_ylabel(\"Latitude\");"
   ]
  },
  {
   "cell_type": "markdown",
   "id": "ae993de1",
   "metadata": {},
   "source": [
    "## Regionalization"
   ]
  },
  {
   "cell_type": "markdown",
   "id": "bb614996",
   "metadata": {},
   "source": [
    "### Spatial weights"
   ]
  },
  {
   "cell_type": "markdown",
   "id": "06b2592d",
   "metadata": {},
   "source": [
    "#### Contiguity"
   ]
  },
  {
   "cell_type": "code",
   "execution_count": null,
   "id": "15de4b54",
   "metadata": {},
   "outputs": [],
   "source": [
    "wq = weights.contiguity.Queen.from_dataframe(gdf)"
   ]
  },
  {
   "cell_type": "code",
   "execution_count": null,
   "id": "0468af81",
   "metadata": {},
   "outputs": [],
   "source": [
    "#wq.islands"
   ]
  },
  {
   "cell_type": "markdown",
   "id": "b16046c6",
   "metadata": {},
   "source": [
    "#### K-nn"
   ]
  },
  {
   "cell_type": "code",
   "execution_count": null,
   "id": "fa0cb266",
   "metadata": {},
   "outputs": [],
   "source": [
    "wknn = weights.distance.KNN.from_dataframe(gdf, k=6)"
   ]
  },
  {
   "cell_type": "markdown",
   "id": "6b034b31",
   "metadata": {},
   "source": [
    "#### Merge (where islands)"
   ]
  },
  {
   "cell_type": "code",
   "execution_count": null,
   "id": "3d6e821a",
   "metadata": {},
   "outputs": [],
   "source": [
    "def merge(wq, wknn):\n",
    "    neighbors = wq.neighbors.copy()\n",
    "    for i in wq.islands:\n",
    "        neighbors[i] = list(wknn[i].keys())\n",
    "    return weights.W(neighbors)\n",
    "\n",
    "w = merge(wq, wknn)"
   ]
  },
  {
   "cell_type": "markdown",
   "id": "2c500a1b",
   "metadata": {},
   "source": [
    "#### Get disconnected components"
   ]
  },
  {
   "cell_type": "code",
   "execution_count": null,
   "id": "2961d5ac",
   "metadata": {},
   "outputs": [],
   "source": [
    "idx_cpt = lambda i: np.where(w.component_labels == i)[0]\n",
    "w_cpt = lambda i: w_subset(w, idx_cpt(i))\n",
    "\n",
    "w_cpt(1).neighbors"
   ]
  },
  {
   "cell_type": "code",
   "execution_count": null,
   "id": "8a07216c",
   "metadata": {},
   "outputs": [],
   "source": [
    "w_cpt(4).neighbors"
   ]
  },
  {
   "cell_type": "markdown",
   "id": "21f4df91",
   "metadata": {},
   "source": [
    "## Clustering"
   ]
  },
  {
   "cell_type": "code",
   "execution_count": null,
   "id": "f6ed6c6e",
   "metadata": {},
   "outputs": [],
   "source": [
    "cpt = 4\n",
    "max_clusters = 10\n",
    "cols = ['q1', 'q2', 'q3', 'mean', 'min', 'max', 'std']\n"
   ]
  },
  {
   "cell_type": "code",
   "execution_count": null,
   "id": "d6901c0a",
   "metadata": {},
   "outputs": [],
   "source": [
    "X = gdf.iloc[idx_cpt(cpt)][cols].values; X.shape"
   ]
  },
  {
   "cell_type": "code",
   "execution_count": null,
   "id": "5c58e06d",
   "metadata": {},
   "outputs": [],
   "source": [
    "X = gdf.iloc[idx_cpt(cpt)][cols].values\n",
    "X_t = StandardScaler().fit_transform(X)\n",
    "\n",
    "for n in range(2, max_clusters+1):\n",
    "    model = AgglomerativeClustering(\n",
    "        linkage='ward', \n",
    "        connectivity=w_cpt(cpt).sparse,\n",
    "        n_clusters=n\n",
    "    )\n",
    "    model.fit(X_t)\n",
    "    \n",
    "    score = calinski_harabasz_score(X_t, model.labels_)\n",
    "    print(f'# clusters: {n} | score: {score}')"
   ]
  },
  {
   "cell_type": "code",
   "execution_count": null,
   "metadata": {},
   "outputs": [],
   "source": [
    "n_clusters = 3\n",
    "X = gdf.iloc[idx_cpt(cpt)][cols].values\n",
    "X_t = StandardScaler().fit_transform(X)\n",
    "\n",
    "model = AgglomerativeClustering(\n",
    "    linkage='ward', \n",
    "    connectivity=w_cpt(cpt).sparse,\n",
    "    n_clusters=n_clusters\n",
    ")\n",
    "\n",
    "model.fit(X_t)"
   ]
  },
  {
   "cell_type": "markdown",
   "id": "715db4ca",
   "metadata": {},
   "source": [
    "### Visualize"
   ]
  },
  {
   "cell_type": "code",
   "execution_count": null,
   "id": "d05d75e1",
   "metadata": {},
   "outputs": [],
   "source": [
    "gdf_sub = gdf.iloc[idx_cpt(cpt),:].copy()\n",
    "gdf_sub['cluster'] = model.labels_"
   ]
  },
  {
   "cell_type": "code",
   "execution_count": null,
   "id": "27e18e7b",
   "metadata": {},
   "outputs": [],
   "source": [
    "fig, ax = plt.subplots(1, figsize=(9, 9))\n",
    "gdf_sub.plot(\n",
    "    column=\"cluster\",\n",
    "    categorical=True,\n",
    "    legend=True,\n",
    "    linewidth=0,\n",
    "    ax=ax,\n",
    "    legend_kwds={'loc': 'lower right'}\n",
    ")\n",
    "\n",
    "ax.set_axis_off()"
   ]
  },
  {
   "cell_type": "code",
   "execution_count": null,
   "id": "839dec67",
   "metadata": {},
   "outputs": [],
   "source": [
    "def style_function(feature, n_clusters, prop_name='cluster', palette=Tableau_10):\n",
    "    attribute_value = feature['properties'][prop_name]\n",
    "    return {'fillColor': palette.hex_colors[attribute_value], \n",
    "            'color': 'none', \n",
    "            'fillOpacity': 0.5}"
   ]
  },
  {
   "cell_type": "code",
   "execution_count": null,
   "id": "6962defa",
   "metadata": {},
   "outputs": [],
   "source": [
    "gdf = gdf_sub.to_crs(epsg=4326)\n",
    "\n",
    "m = folium.Map(location=[gdf_sub.centroid.y.mean(), \n",
    "                         gdf_sub.centroid.x.mean()], zoom_start=3)\n",
    "\n",
    "geojson_data = gdf_sub.to_json()\n",
    "\n",
    "folium.GeoJson(geojson_data, style_function=partial(style_function, n_clusters=n_clusters)).add_to(m)\n",
    "\n",
    "m"
   ]
  },
  {
   "cell_type": "code",
   "execution_count": null,
   "id": "9326d642",
   "metadata": {},
   "outputs": [],
   "source": [
    "sns.histplot(data=gdf_sub, x='mean', hue='cluster', \n",
    "             fill=False,\n",
    "             multiple='layer', \n",
    "             element='step',\n",
    "             palette=Tableau_10.mpl_colors,\n",
    "             kde=True, \n",
    "            #  alpha=0.6,\n",
    "             line_kws={'linestyle': 'dashed', 'alpha': 1}\n",
    "             )\n",
    "\n",
    "plt.xlabel('mean')\n",
    "plt.ylabel('Frequency');"
   ]
  },
  {
   "cell_type": "code",
   "execution_count": null,
   "id": "5a3f79ca",
   "metadata": {},
   "outputs": [],
   "source": [
    "sns.set(style=\"whitegrid\")\n",
    "g = sns.FacetGrid(gdf_sub, row='cluster', sharex=True, \n",
    "                  aspect=4, height=1.5,\n",
    "                  palette=Tableau_10.mpl_colors, hue='cluster')\n",
    "\n",
    "# g.map(sns.kdeplot, 'mean', color='blue', alpha=0.5, fill=True)\n",
    "g.map(sns.kdeplot, 'mean', alpha=0.5, fill=True)\n",
    "\n",
    "# Set plot labels and title\n",
    "g.set_axis_labels('mean', 'Density')\n",
    "g.fig.subplots_adjust(top=0.8)\n",
    "# g.fig.suptitle('Faceted KDE Plot with Adjusted Alpha');"
   ]
  },
  {
   "cell_type": "markdown",
   "id": "63e47ce5",
   "metadata": {},
   "source": [
    "### Mergin hexs within same cluster"
   ]
  },
  {
   "cell_type": "code",
   "execution_count": null,
   "id": "7c6bbffb",
   "metadata": {},
   "outputs": [],
   "source": [
    "gdf_sub.head()"
   ]
  },
  {
   "cell_type": "code",
   "execution_count": null,
   "id": "b2c6ac53",
   "metadata": {},
   "outputs": [],
   "source": [
    "gdf_sub[gdf_sub.cluster == 0].plot()"
   ]
  },
  {
   "cell_type": "code",
   "execution_count": null,
   "id": "ad7017e4",
   "metadata": {},
   "outputs": [],
   "source": [
    "cluster = 0\n",
    "geom = gdf_sub[gdf_sub.cluster == cluster].buffer(0.001).unary_union\n",
    "gdf_cluster_union = gpd.GeoDataFrame({'geometry': [geom]})\n",
    "gdf_cluster_union.plot();"
   ]
  },
  {
   "cell_type": "markdown",
   "id": "a310e18f",
   "metadata": {},
   "source": [
    "### Clustering on coordinates"
   ]
  },
  {
   "cell_type": "code",
   "execution_count": null,
   "id": "7811ce91",
   "metadata": {},
   "outputs": [],
   "source": [
    "df.head()"
   ]
  },
  {
   "cell_type": "code",
   "execution_count": null,
   "id": "fe5c485c",
   "metadata": {},
   "outputs": [],
   "source": [
    "from sklearn.cluster import DBSCAN, HDBSCAN\n",
    "import numpy as np\n",
    "from haversine import haversine, Unit\n",
    "\n",
    "# Example coordinates: (latitude, longitude)\n",
    "# coordinates = np.array([\n",
    "#     [40.748817, -73.985428],  # Empire State Building\n",
    "#     [40.689247, -74.044502],  # Statue of Liberty\n",
    "#     [37.4189, -122.0819],     # Googleplex\n",
    "#     [37.4275, -122.1697]      # Stanford University\n",
    "# ])\n",
    "\n",
    "coordinates = df[['lat', 'lon']].to_numpy()\n",
    "\n",
    "# Convert latitude and longitude degrees to radians\n",
    "coordinates_rad = np.radians(coordinates)"
   ]
  },
  {
   "cell_type": "code",
   "execution_count": null,
   "id": "a5b0be47",
   "metadata": {},
   "outputs": [],
   "source": [
    "# Define the epsilon distance (in kilometers)\n",
    "epsilon = 100 / 6371.0088  # 100 km radius, divided by the Earth's radius in km to convert to radians\n",
    "\n",
    "# Create a DBSCAN clusterer. Note that haversine distance requires data in the form of [lat, lon] and both in radians\n",
    "# clusterer = DBSCAN(eps=epsilon, min_samples=10, algorithm='ball_tree', metric='haversine')\n",
    "\n",
    "clusterer = HDBSCAN(min_cluster_size=100, metric='haversine')\n",
    "\n",
    "# Fit the clusterer to the data\n",
    "cluster_labels = clusterer.fit_predict(coordinates_rad)\n",
    "\n",
    "# Count the number of points per cluster\n",
    "unique, counts = np.unique(cluster_labels, return_counts=True)\n",
    "\n",
    "points_per_cluster = dict(zip(unique, counts))\n",
    "\n",
    "# Create the bar plot\n",
    "plt.bar(points_per_cluster.keys(), points_per_cluster.values())\n",
    "\n",
    "plt.xlabel('Cluster Label')\n",
    "plt.ylabel('Number of Points')\n",
    "plt.title('Number of Points per Cluster Label')\n",
    "plt.xticks(ticks=list(points_per_cluster.keys())); "
   ]
  },
  {
   "cell_type": "code",
   "execution_count": null,
   "id": "742eff4a",
   "metadata": {},
   "outputs": [],
   "source": [
    "data = {\n",
    "    'Coordinates': [Point(lon, lat) for lat, lon in coordinates],\n",
    "    'Cluster': cluster_labels\n",
    "}\n",
    "\n",
    "gdf = gpd.GeoDataFrame(data, geometry='Coordinates')\n",
    "fig, ax = plt.subplots(figsize=(10, 6))\n",
    "gdf.plot(ax=ax, column='Cluster', categorical=True, legend=True, \n",
    "         legend_kwds={'bbox_to_anchor': (1, 1)}, marker='o', markersize=10)\n",
    "\n",
    "# Adjust the plot\n",
    "ax.set_title('Clustered Points');"
   ]
  },
  {
   "cell_type": "markdown",
   "id": "080dc0c3",
   "metadata": {},
   "source": [
    "## Classical thematic mapping"
   ]
  },
  {
   "cell_type": "markdown",
   "metadata": {},
   "source": []
  }
 ],
 "metadata": {
  "kernelspec": {
   "display_name": "python3",
   "language": "python",
   "name": "python3"
  }
 },
 "nbformat": 4,
 "nbformat_minor": 5
}

{
 "cells": [
  {
   "cell_type": "markdown",
   "metadata": {},
   "source": [
    "# Microsoft Access to CSV\n"
   ]
  },
  {
   "cell_type": "code",
   "execution_count": 40,
   "metadata": {},
   "outputs": [],
   "source": [
    "#| export\n",
    "import pandas as pd\n",
    "import subprocess\n",
    "import io"
   ]
  },
  {
   "cell_type": "markdown",
   "metadata": {},
   "source": [
    "## Read MDB file"
   ]
  },
  {
   "cell_type": "markdown",
   "metadata": {},
   "source": [
    "Creating a function to read MDB file and return a dictionary of pandas DataFrames"
   ]
  },
  {
   "cell_type": "code",
   "execution_count": 41,
   "metadata": {},
   "outputs": [],
   "source": [
    "#| export\n",
    "\n",
    "def read_mdb_tables(mdb_path):\n",
    "    \"\"\"\n",
    "    Uses MDB Tools to read tables from an MDB file and returns them as pandas DataFrames.\n",
    "\n",
    "    Args:\n",
    "    mdb_path (str): The file path to the MDB file.\n",
    "\n",
    "    Returns:\n",
    "    dict: A dictionary where keys are table names and values are DataFrames containing the table data.\n",
    "    \"\"\"\n",
    "    # Get a list of table names using mdb-tables\n",
    "    table_names = subprocess.check_output(['mdb-tables', '-1', mdb_path]).decode().splitlines()\n",
    "\n",
    "    # Read each table into a DataFrame using mdb-export and store in a dictionary\n",
    "    tables = {}\n",
    "    for table in table_names:\n",
    "        command = ['mdb-export', mdb_path, table]\n",
    "        output = subprocess.check_output(command).decode()\n",
    "        tables[table] = pd.read_csv(io.StringIO(output))\n",
    "\n",
    "    return tables"
   ]
  },
  {
   "cell_type": "markdown",
   "metadata": {},
   "source": [
    "Path to the MDB file"
   ]
  },
  {
   "cell_type": "code",
   "execution_count": 42,
   "metadata": {},
   "outputs": [],
   "source": [
    "mdb_path='/home/marisco/downloads/marisco/_data/accdb/ospar/20241021/OSPAR_Env_Concentrations_20241021.mdb'"
   ]
  },
  {
   "cell_type": "markdown",
   "metadata": {},
   "source": [
    "Read the MDB file and return a dictionary of pandas DataFrames"
   ]
  },
  {
   "cell_type": "code",
   "execution_count": 46,
   "metadata": {},
   "outputs": [],
   "source": [
    "df=read_mdb_tables(mdb_path)"
   ]
  },
  {
   "cell_type": "code",
   "execution_count": 47,
   "metadata": {},
   "outputs": [
    {
     "data": {
      "text/plain": [
       "dict_keys(['Biota data', 'Seawater data', 'Seawater_Station_Dictionary'])"
      ]
     },
     "execution_count": 47,
     "metadata": {},
     "output_type": "execute_result"
    }
   ],
   "source": [
    "df.keys()"
   ]
  },
  {
   "cell_type": "code",
   "execution_count": 51,
   "metadata": {},
   "outputs": [
    {
     "name": "stdout",
     "output_type": "stream",
     "text": [
      "Biota data\n",
      "   ID Contracting Party  RSC Sub-division             Station ID Sample ID  \\\n",
      "0   1           Belgium                 8  Kloosterzande-Schelde  DA 17531   \n",
      "1   2           Belgium                 8  Kloosterzande-Schelde  DA 17534   \n",
      "2   3           Belgium                 8  Kloosterzande-Schelde  DA 17537   \n",
      "3   4           Belgium                 8  Kloosterzande-Schelde  DA 17540   \n",
      "4   5           Belgium                 8  Kloosterzande-Schelde  DA 17531   \n",
      "\n",
      "   LatD  LatM  LatS LatDir  LongD  ...      Sampling date  Nuclide Value type  \\\n",
      "0    51  23.0  36.0      N      4  ...  03/03/10 00:00:00    137Cs          <   \n",
      "1    51  23.0  36.0      N      4  ...  06/14/10 00:00:00    137Cs          <   \n",
      "2    51  23.0  36.0      N      4  ...  09/27/10 00:00:00    137Cs          <   \n",
      "3    51  23.0  36.0      N      4  ...  12/08/10 00:00:00    137Cs          <   \n",
      "4    51  23.0  36.0      N      4  ...  03/03/10 00:00:00    226Ra          <   \n",
      "\n",
      "  Activity or MDA Uncertainty        Unit Data provider Measurement Comment  \\\n",
      "0        0.326416         NaN  Bq/kg f.w.       SCK•CEN                 NaN   \n",
      "1        0.442704         NaN  Bq/kg f.w.       SCK•CEN                 NaN   \n",
      "2        0.412989         NaN  Bq/kg f.w.       SCK•CEN                 NaN   \n",
      "3        0.202768         NaN  Bq/kg f.w.       SCK•CEN                 NaN   \n",
      "4        0.652833         NaN  Bq/kg f.w.       SCK•CEN                 NaN   \n",
      "\n",
      "  Sample Comment Reference Comment  \n",
      "0            NaN               NaN  \n",
      "1            NaN               NaN  \n",
      "2            NaN               NaN  \n",
      "3            NaN               NaN  \n",
      "4            NaN               NaN  \n",
      "\n",
      "[5 rows x 27 columns]\n",
      "----------------------------------------------------------------------------------------------------\n",
      "Seawater data\n",
      "   ID Contracting Party  RSC Sub-division   Station ID Sample ID  LatD  LatM  \\\n",
      "0   1           Belgium               8.0  Belgica-W01    WNZ 01    51  22.0   \n",
      "1   2           Belgium               8.0  Belgica-W02    WNZ 02    51  13.0   \n",
      "2   3           Belgium               8.0  Belgica-W03    WNZ 03    51  11.0   \n",
      "3   4           Belgium               8.0  Belgica-W04    WNZ 04    51  25.0   \n",
      "4   5           Belgium               8.0  Belgica-W05    WNZ 05    51  24.0   \n",
      "\n",
      "   LatS LatDir  LongD  ...      Sampling date  Nuclide Value type  \\\n",
      "0  31.0      N      3  ...  01/27/10 00:00:00    137Cs          <   \n",
      "1  25.0      N      2  ...  01/27/10 00:00:00    137Cs          <   \n",
      "2   4.0      N      2  ...  01/27/10 00:00:00    137Cs          <   \n",
      "3  13.0      N      3  ...  01/27/10 00:00:00    137Cs          <   \n",
      "4  58.0      N      2  ...  01/26/10 00:00:00    137Cs          <   \n",
      "\n",
      "  Activity or MDA  Uncertainty  Unit Data provider Measurement Comment  \\\n",
      "0            0.20          NaN  Bq/l       SCK•CEN                 NaN   \n",
      "1            0.27          NaN  Bq/l       SCK•CEN                 NaN   \n",
      "2            0.26          NaN  Bq/l       SCK•CEN                 NaN   \n",
      "3            0.25          NaN  Bq/l       SCK•CEN                 NaN   \n",
      "4            0.20          NaN  Bq/l       SCK•CEN                 NaN   \n",
      "\n",
      "   Sample Comment  Reference Comment  \n",
      "0             NaN                NaN  \n",
      "1             NaN                NaN  \n",
      "2             NaN                NaN  \n",
      "3             NaN                NaN  \n",
      "4             NaN                NaN  \n",
      "\n",
      "[5 rows x 25 columns]\n",
      "----------------------------------------------------------------------------------------------------\n",
      "Seawater_Station_Dictionary\n",
      "   ID Contracting_Party Station_ID  RSC_Region      LatDD    LongDD\n",
      "0   1             Spain     MAS-01           1  43.634444 -3.578056\n",
      "1   2             Spain     MAS-04           1  43.000000 -9.366667\n",
      "2   3             Spain     MAS-05           1  42.250000 -8.900000\n",
      "3   4             Spain     MAS-06           1  37.050000 -7.333333\n",
      "4   5             Spain     MAB-07           1  36.416667 -6.316667\n",
      "----------------------------------------------------------------------------------------------------\n"
     ]
    }
   ],
   "source": [
    "for key in df.keys():\n",
    "    print(key)\n",
    "    print(df[key].head())\n",
    "    print('-'*100)\n"
   ]
  },
  {
   "cell_type": "markdown",
   "metadata": {},
   "source": [
    "## MDB to CSV"
   ]
  },
  {
   "cell_type": "markdown",
   "metadata": {},
   "source": [
    "Read the MDB file and save each table as a CSV file"
   ]
  },
  {
   "cell_type": "code",
   "execution_count": 56,
   "metadata": {},
   "outputs": [],
   "source": [
    "#| export\n",
    "def mdb2csv(mdb_path, out_dir=None):\n",
    "    \"\"\"\n",
    "    Converts tables from an MDB file to CSV files in the specified directory.\n",
    "    Args:\n",
    "    mdb_path (str): The file path to the MDB file.\n",
    "    out_dir (str, optional): The directory to output CSV files. If None, uses mdb_path directory with a 'csv' subfolder.\n",
    "    Raises:\n",
    "    FileNotFoundError: If the specified out_dir does not exist and cannot be created.\n",
    "    \"\"\"\n",
    "    df = read_mdb_tables(mdb_path)\n",
    "    if out_dir is None:\n",
    "        out_dir = os.path.join(os.path.dirname(mdb_path), 'csv')\n",
    "    \n",
    "    if not os.path.exists(out_dir):\n",
    "        try:\n",
    "            os.makedirs(out_dir)\n",
    "        except OSError as e:\n",
    "            raise FileNotFoundError(f\"Failed to create output directory {out_dir}: {e.strerror}\")\n",
    "\n",
    "    for key, dataframe in df.items():\n",
    "        csv_path = os.path.join(out_dir, f'{key}.csv')\n",
    "        dataframe.to_csv(csv_path, index=False)\n",
    "        print(f\"Table {key} exported to {csv_path}\")\n"
   ]
  },
  {
   "cell_type": "code",
   "execution_count": 60,
   "metadata": {},
   "outputs": [
    {
     "name": "stdout",
     "output_type": "stream",
     "text": [
      "Table Biota data exported to /home/marisco/downloads/marisco/_data/accdb/ospar/20241021/csv/Biota data.csv\n",
      "Table Seawater data exported to /home/marisco/downloads/marisco/_data/accdb/ospar/20241021/csv/Seawater data.csv\n",
      "Table Seawater_Station_Dictionary exported to /home/marisco/downloads/marisco/_data/accdb/ospar/20241021/csv/Seawater_Station_Dictionary.csv\n"
     ]
    }
   ],
   "source": [
    "mdb2csv(mdb_path)"
   ]
  },
  {
   "cell_type": "code",
   "execution_count": null,
   "metadata": {},
   "outputs": [],
   "source": []
  }
 ],
 "metadata": {
  "kernelspec": {
   "display_name": "mariscoDev",
   "language": "python",
   "name": "python3"
  },
  "language_info": {
   "codemirror_mode": {
    "name": "ipython",
    "version": 3
   },
   "file_extension": ".py",
   "mimetype": "text/x-python",
   "name": "python",
   "nbconvert_exporter": "python",
   "pygments_lexer": "ipython3",
   "version": "3.10.15"
  }
 },
 "nbformat": 4,
 "nbformat_minor": 2
}
